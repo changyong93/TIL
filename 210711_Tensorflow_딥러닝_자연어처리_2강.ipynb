{
  "nbformat": 4,
  "nbformat_minor": 0,
  "metadata": {
    "colab": {
      "name": "210711_Tensorflow_딥러닝_자연어처리_2강",
      "provenance": [],
      "toc_visible": true,
      "authorship_tag": "ABX9TyOwdDJxaqtUJMILNerO0u5Q",
      "include_colab_link": true
    },
    "kernelspec": {
      "name": "python3",
      "display_name": "Python 3"
    },
    "language_info": {
      "name": "python"
    }
  },
  "cells": [
    {
      "cell_type": "markdown",
      "metadata": {
        "id": "view-in-github",
        "colab_type": "text"
      },
      "source": [
        "<a href=\"https://colab.research.google.com/github/changyong93/TIL/blob/main/210711_Tensorflow_%EB%94%A5%EB%9F%AC%EB%8B%9D_%EC%9E%90%EC%97%B0%EC%96%B4%EC%B2%98%EB%A6%AC_2%EA%B0%95.ipynb\" target=\"_parent\"><img src=\"https://colab.research.google.com/assets/colab-badge.svg\" alt=\"Open In Colab\"/></a>"
      ]
    },
    {
      "cell_type": "markdown",
      "metadata": {
        "id": "HMKd0Ol6y3pz"
      },
      "source": [
        "# 선형회귀 구현"
      ]
    },
    {
      "cell_type": "markdown",
      "metadata": {
        "id": "HduzDQdgxT8w"
      },
      "source": [
        "## 자동 미분을 이용한 선형 회귀 구현"
      ]
    },
    {
      "cell_type": "markdown",
      "metadata": {
        "id": "nSWtWZYOxYOV"
      },
      "source": [
        "### 자동 미분"
      ]
    },
    {
      "cell_type": "code",
      "metadata": {
        "id": "52Xcg72Qxb54"
      },
      "source": [
        "import tensorflow as tf"
      ],
      "execution_count": 1,
      "outputs": []
    },
    {
      "cell_type": "markdown",
      "metadata": {
        "id": "yZhuYXg2zUKC"
      },
      "source": [
        "tape_gradient()는 자동 미분 기능을 수행. 임의로 2w^2+5라는 식을 세워보고 w에 대해 미분"
      ]
    },
    {
      "cell_type": "code",
      "metadata": {
        "id": "lWfox1BFxdd3"
      },
      "source": [
        "w = tf.Variable(2.)\n",
        "# tensorflow type으로 변수 선언\n",
        "# tensor(텐서)를 메모리에 저장하는 변수\n",
        "\n",
        "def f(w):\n",
        "    y = w**2\n",
        "    z = 2*y + 5\n",
        "    return z"
      ],
      "execution_count": 25,
      "outputs": []
    },
    {
      "cell_type": "markdown",
      "metadata": {
        "id": "nDXXInySxjtB"
      },
      "source": [
        "이제 gradients를 출력하면 w에 대한 미분한 값이 저장된 것을 확인할 수 있음"
      ]
    },
    {
      "cell_type": "code",
      "metadata": {
        "colab": {
          "base_uri": "https://localhost:8080/"
        },
        "id": "pfDlgtk4yOsW",
        "outputId": "cf4b4f7a-4eae-4563-8710-d8c6ee9847ab"
      },
      "source": [
        "# tf.GradientTape는 컨텍스트(context) 안에서 실행된 모든 연산을 테이프(tape)에 \"기록\"\n",
        "# https://www.tensorflow.org/guide/autodiff?hl=ko\n",
        "\n",
        "with tf.GradientTape() as tape:\n",
        "    z = f(w)\n",
        "\n",
        "gradients = tape.gradient(z, [w])\n",
        "# z를 w에 대해 미분을 하는데, 이때 w가 2일 때의 미분 값을 출력\n",
        "print(gradients)"
      ],
      "execution_count": 28,
      "outputs": [
        {
          "output_type": "stream",
          "text": [
            "[<tf.Tensor: shape=(), dtype=float32, numpy=8.0>]\n"
          ],
          "name": "stdout"
        }
      ]
    },
    {
      "cell_type": "markdown",
      "metadata": {
        "id": "fY7k86gn0DWa"
      },
      "source": [
        "### 선형 회귀 구현하기"
      ]
    },
    {
      "cell_type": "code",
      "metadata": {
        "colab": {
          "base_uri": "https://localhost:8080/"
        },
        "id": "RO5kanC92CSJ",
        "outputId": "24dca0f4-6e2d-4a72-ab8b-7232e61a1377"
      },
      "source": [
        "# 선형 회귀 모델(Wx+b)를 위한 tf.Variable을 선언합니다\n",
        "W = tf.Variable(tf.random.normal(shape = [1])) #랜덤으로 초기값 지정\n",
        "b = tf.Variable(tf.random.normal(shape = [1])) #랜덤으로 초기값 지정\n",
        "print(W)\n",
        "print(b)"
      ],
      "execution_count": 71,
      "outputs": [
        {
          "output_type": "stream",
          "text": [
            "<tf.Variable 'Variable:0' shape=(1,) dtype=float32, numpy=array([-1.091866], dtype=float32)>\n",
            "<tf.Variable 'Variable:0' shape=(1,) dtype=float32, numpy=array([0.16852678], dtype=float32)>\n"
          ],
          "name": "stdout"
        }
      ]
    },
    {
      "cell_type": "markdown",
      "metadata": {
        "id": "5hiWfjsu3f6C"
      },
      "source": [
        "#### 가설 정의\n",
        "---\n",
        "@tf.function을 추가하면 파이썬 코드가 동일한 텐서플로우 코드로 변경되며, 이렇게 하면 성능을 최적화 할 수 있음  \n",
        "모든 파이썬 함수에 tf.funciton 데코레이터를 적용 할 필요는 없음.   \n",
        "모델 훈련의 한 단계(step)나 정방향 연산(forward pass) 같은 고수준 연산에만 tf.function 데코레이터를 적용\n",
        "\n",
        "---\n",
        "데코레이션\n",
        "- http://solarisailab.com/archives/2351 : 텐서플로우 기초 그래프 생성과 실행 설명\n",
        "- https://www.tensorflow.org/guide/function?hl=ko : (정식 문서)\n",
        "- https://www.inflearn.com/questions/174459 : tf.functions 역할 설명(인프런)"
      ]
    },
    {
      "cell_type": "code",
      "metadata": {
        "id": "3w1j9kEABPYK"
      },
      "source": [
        "#여기서 정방향연산은 입력을 넣었을 때 결과를 출력하는 아래 linear_model 함수\n",
        "@tf.function\n",
        "def linear_model(x):\n",
        "    return W*x + b"
      ],
      "execution_count": 72,
      "outputs": []
    },
    {
      "cell_type": "markdown",
      "metadata": {
        "id": "5z-pQD7mBT0P"
      },
      "source": [
        "#### 손실 함수 정의"
      ]
    },
    {
      "cell_type": "code",
      "metadata": {
        "id": "6mmzj_dMBW7a"
      },
      "source": [
        "#손실 함수를 정의\n",
        "#MSE 손실함수 사용(mean(y - yy)^2)\n",
        "@tf.function\n",
        "def mse_loss(y_pred,y): #제곱한 값이므로, y와 y' 위치가 바뀌어도 상관없음\n",
        "    return tf.reduce_mean(tf.square(y_pred - y)) #tf.reduce_mean = 평균을 출력해주는 메소드"
      ],
      "execution_count": 73,
      "outputs": []
    },
    {
      "cell_type": "markdown",
      "metadata": {
        "id": "EyL69Zf_B0MJ"
      },
      "source": [
        "#### 옵티마이저 정의(경사 하강법)\n",
        "\n",
        "파라미터를 업데이트 하는 한 순간을 step이라고 할 때, 그 한 순간을  정의한 함수를 train_step이라는 이름의 함수로 작성   \n",
        "아래 내용은 이해가 안되면 일단 처음에는 암기를 해도 무방할 만큼, TF2.0에서는 당연하게 사용되는 패턴   \n",
        "앞으로의 강의에서는 이보다도 더 쉬운 keras 패턴을 사용할 예정"
      ]
    },
    {
      "cell_type": "code",
      "metadata": {
        "id": "aOqBUAPNCL14"
      },
      "source": [
        "# 최적화를 위한 그라디언트 디센트 옵티마이저 정의\n",
        "# 사용자가 정한 learning rate 값을 sgd()에 작성\n",
        "optimizer = tf.optimizers.SGD(learning_rate=0.01)\n",
        "\n",
        "# 첫 번째 인자인 x는 입력 데이터\n",
        "# 두 번째 인자인 y는 레이블\n",
        "@tf.function\n",
        "def train_step(x,y):\n",
        "  with tf.GradientTape() as tape:\n",
        "    #현재 파라미터에 기반한 입력 x에 대한 예측값을 y_pred\n",
        "    y_pred = linear_model(x)\n",
        "    \n",
        "    #MSE 계산\n",
        "    loss = mse_loss(y_pred,y)\n",
        "\n",
        "  #손실 함수에 대한 파라미터의 미분값 계산\n",
        "  gradients = tape.gradient(loss,[W,b]) #loss를 W와 b에 대해서 미분\n",
        "\n",
        "  #파라미터 업데이트\n",
        "  optimizer.apply_gradients(zip(gradients, [W,b])) #미분한 값을 기준으로 W,b를 업데이트"
      ],
      "execution_count": 74,
      "outputs": []
    },
    {
      "cell_type": "code",
      "metadata": {
        "colab": {
          "base_uri": "https://localhost:8080/"
        },
        "id": "3xQSnc80EUF1",
        "outputId": "f6097129-ff50-4a74-d7c4-5a282126a7ce"
      },
      "source": [
        "# 트레이닝을 위한 입력값과 출력값 준비\n",
        "x_train = [1,2,3,4]\n",
        "y_train = [2,4,6,8]\n",
        "\n",
        "# 경사하강법을 1000번 수행\n",
        "for i in range(1000):\n",
        "  if (i+1) % 100 == 0:\n",
        "    print(i+1, \"회 학습\")\n",
        "  train_step(x_train,y_train)\n",
        "\n",
        "# 테스트를 위한 입력값을 준비\n",
        "x_test = [3.5, 5, 5.5, 6]\n",
        "# 테스트 데이터를 이요해 학습된 선형회귀 모델이 데이터의 경향성(y = 2x)을 잘 학습했는지 측정\n",
        "\n",
        "# 예상되는 참값 : [7, 10, 11, 12]\n",
        "# print(linear_model(x_test))\n",
        "print(linear_model(x_test).numpy())"
      ],
      "execution_count": 75,
      "outputs": [
        {
          "output_type": "stream",
          "text": [
            "100 회 학습\n",
            "200 회 학습\n",
            "300 회 학습\n",
            "400 회 학습\n",
            "500 회 학습\n",
            "600 회 학습\n",
            "700 회 학습\n",
            "800 회 학습\n",
            "900 회 학습\n",
            "1000 회 학습\n",
            "[ 6.9896154  9.961792  10.9525175 11.943244 ]\n"
          ],
          "name": "stdout"
        }
      ]
    },
    {
      "cell_type": "markdown",
      "metadata": {
        "id": "_Ay1UfkjxWPo"
      },
      "source": [
        "## 케라스를 이용한 선형 회귀 구현"
      ]
    },
    {
      "cell_type": "code",
      "metadata": {
        "id": "OPtR5-nk014O"
      },
      "source": [
        "import numpy as np\n",
        "from tensorflow.keras.models import Sequential\n",
        "from tensorflow.keras.layers import Dense\n",
        "from tensorflow.keras import optimizers"
      ],
      "execution_count": 91,
      "outputs": []
    },
    {
      "cell_type": "markdown",
      "metadata": {
        "id": "awSJej2xIgjE"
      },
      "source": [
        "keras 모델을 만드는 방법은 sequential 방법과 functional API 방법이 있다(https://leestation.tistory.com/777, https://subinium.github.io/Keras-7/)\n",
        "- Sequential : 층층이(layer-by-layer) 쌓아 올릴 수 있게 하는 방법\n",
        "  - 대부분의 문제를 해결할 수 있지만, layer를 공유하는 구조나, 다중 입력/출력을 사용하지 못하는 문제가 있다\n",
        "- functional API : layer가 앞/뒤 layer에만 연결된 구조뿐 아니라 훨씬 더 자유자재로 그 구조를 정의하여 사용 가능\n",
        "  - layer들을 어떤 layer에든지 연결하여 사용 가능\n",
        "---\n",
        "- 첫 번째 인자인 1은 출력 차원을 정의\n",
        "- 두 번째 인자인 input_dim은 입력 차원을 정의\n",
        "- 이번 실습과 같이 1개의 실수 x를 가지고 하는 1개의 실수 y를 예측하는 단순 선형 회귀를 구현하는 경우에는 각각 1의 값을 가짐"
      ]
    },
    {
      "cell_type": "code",
      "metadata": {
        "colab": {
          "base_uri": "https://localhost:8080/"
        },
        "id": "Dohd5Mw0GzYv",
        "outputId": "8ad44db9-5c2a-45c6-f1a4-4926ea3a1d3f"
      },
      "source": [
        "X=[1,2,3,4,5,6,7,8,9] # 공부하는 시간\n",
        "y=[11,22,33,44,53,66,77,87,95] # 각 공부하는 시간에 맵핑되는 성적\n",
        "\n",
        "#방식 1-1)\n",
        "model = Sequential()\n",
        "\n",
        "# 입력 x의 차원은 1, 출력 y의 차원도 1. 선형 회귀이므로 activation은 'linear'\n",
        "#1-1)\n",
        "model.add(Dense(units = 1, input_dim = 1, activation = 'linear'))\n",
        "#1-2)\n",
        "# model.add(Dense(units = 1, input_shape = (1,), activation = 'linear'))\n",
        "\n",
        "#방식 2)\n",
        "# model = Sequential(\n",
        "#     [\n",
        "#      Dense(units = 1, input_dim = 1,activation = 'linear')\n",
        "#     ]\n",
        "# )\n",
        "\n",
        "# sgd는 경하 하강법을 의미. 학습률(learning rate,lr)은 0.01\n",
        "sgd = optimizers.SGD(lr=0.01)\n",
        "\n",
        "\n",
        "# 손실 함수(Loss function)은 평균제곱오차 mse를 사용\n",
        "model.compile(optimizer = sgd, loss = 'mse', metrics = ['mse'])\n",
        "\n",
        "model.fit(X,y, batch_size = 1, epochs = 300, shuffle = False)\n",
        "#shuffle은 batch_size 단위로 섞음\n",
        "#shuffle을 안할 시 입력 데이터 순서까지 학습할 수 있음\n",
        "#일반적으로 데이터 순서가 무의미 하기에 셔플을 적용하지만 수업에선 셔플 옵션이 있다는 것을 보여주기 위해 False를 함"
      ],
      "execution_count": 102,
      "outputs": [
        {
          "output_type": "stream",
          "text": [
            "/usr/local/lib/python3.7/dist-packages/tensorflow/python/keras/optimizer_v2/optimizer_v2.py:375: UserWarning: The `lr` argument is deprecated, use `learning_rate` instead.\n",
            "  \"The `lr` argument is deprecated, use `learning_rate` instead.\")\n"
          ],
          "name": "stderr"
        },
        {
          "output_type": "stream",
          "text": [
            "Epoch 1/300\n",
            "9/9 [==============================] - 0s 2ms/step - loss: 308.0792 - mse: 308.0792\n",
            "Epoch 2/300\n",
            "9/9 [==============================] - 0s 1ms/step - loss: 2.1537 - mse: 2.1537\n",
            "Epoch 3/300\n",
            "9/9 [==============================] - 0s 2ms/step - loss: 2.1534 - mse: 2.1534\n",
            "Epoch 4/300\n",
            "9/9 [==============================] - 0s 2ms/step - loss: 2.1532 - mse: 2.1532\n",
            "Epoch 5/300\n",
            "9/9 [==============================] - 0s 2ms/step - loss: 2.1530 - mse: 2.1530\n",
            "Epoch 6/300\n",
            "9/9 [==============================] - 0s 1ms/step - loss: 2.1527 - mse: 2.1527\n",
            "Epoch 7/300\n",
            "9/9 [==============================] - 0s 1ms/step - loss: 2.1525 - mse: 2.1525\n",
            "Epoch 8/300\n",
            "9/9 [==============================] - 0s 2ms/step - loss: 2.1523 - mse: 2.1523\n",
            "Epoch 9/300\n",
            "9/9 [==============================] - 0s 2ms/step - loss: 2.1521 - mse: 2.1521\n",
            "Epoch 10/300\n",
            "9/9 [==============================] - 0s 2ms/step - loss: 2.1519 - mse: 2.1519\n",
            "Epoch 11/300\n",
            "9/9 [==============================] - 0s 2ms/step - loss: 2.1517 - mse: 2.1517\n",
            "Epoch 12/300\n",
            "9/9 [==============================] - 0s 2ms/step - loss: 2.1515 - mse: 2.1515\n",
            "Epoch 13/300\n",
            "9/9 [==============================] - 0s 1ms/step - loss: 2.1513 - mse: 2.1513\n",
            "Epoch 14/300\n",
            "9/9 [==============================] - 0s 1ms/step - loss: 2.1511 - mse: 2.1511\n",
            "Epoch 15/300\n",
            "9/9 [==============================] - 0s 1ms/step - loss: 2.1510 - mse: 2.1510\n",
            "Epoch 16/300\n",
            "9/9 [==============================] - 0s 2ms/step - loss: 2.1508 - mse: 2.1508\n",
            "Epoch 17/300\n",
            "9/9 [==============================] - 0s 1ms/step - loss: 2.1506 - mse: 2.1506\n",
            "Epoch 18/300\n",
            "9/9 [==============================] - 0s 1ms/step - loss: 2.1505 - mse: 2.1505\n",
            "Epoch 19/300\n",
            "9/9 [==============================] - 0s 2ms/step - loss: 2.1504 - mse: 2.1504\n",
            "Epoch 20/300\n",
            "9/9 [==============================] - 0s 2ms/step - loss: 2.1502 - mse: 2.1502\n",
            "Epoch 21/300\n",
            "9/9 [==============================] - 0s 1ms/step - loss: 2.1501 - mse: 2.1501\n",
            "Epoch 22/300\n",
            "9/9 [==============================] - 0s 1ms/step - loss: 2.1499 - mse: 2.1499\n",
            "Epoch 23/300\n",
            "9/9 [==============================] - 0s 2ms/step - loss: 2.1498 - mse: 2.1498\n",
            "Epoch 24/300\n",
            "9/9 [==============================] - 0s 1ms/step - loss: 2.1497 - mse: 2.1497\n",
            "Epoch 25/300\n",
            "9/9 [==============================] - 0s 1ms/step - loss: 2.1496 - mse: 2.1496\n",
            "Epoch 26/300\n",
            "9/9 [==============================] - 0s 1ms/step - loss: 2.1494 - mse: 2.1494\n",
            "Epoch 27/300\n",
            "9/9 [==============================] - 0s 2ms/step - loss: 2.1493 - mse: 2.1493\n",
            "Epoch 28/300\n",
            "9/9 [==============================] - 0s 1ms/step - loss: 2.1492 - mse: 2.1492\n",
            "Epoch 29/300\n",
            "9/9 [==============================] - 0s 1ms/step - loss: 2.1491 - mse: 2.1491\n",
            "Epoch 30/300\n",
            "9/9 [==============================] - 0s 1ms/step - loss: 2.1490 - mse: 2.1490\n",
            "Epoch 31/300\n",
            "9/9 [==============================] - 0s 2ms/step - loss: 2.1489 - mse: 2.1489\n",
            "Epoch 32/300\n",
            "9/9 [==============================] - 0s 1ms/step - loss: 2.1488 - mse: 2.1488\n",
            "Epoch 33/300\n",
            "9/9 [==============================] - 0s 1ms/step - loss: 2.1487 - mse: 2.1487\n",
            "Epoch 34/300\n",
            "9/9 [==============================] - 0s 2ms/step - loss: 2.1486 - mse: 2.1486\n",
            "Epoch 35/300\n",
            "9/9 [==============================] - 0s 1ms/step - loss: 2.1486 - mse: 2.1486\n",
            "Epoch 36/300\n",
            "9/9 [==============================] - 0s 2ms/step - loss: 2.1485 - mse: 2.1485\n",
            "Epoch 37/300\n",
            "9/9 [==============================] - 0s 1ms/step - loss: 2.1484 - mse: 2.1484\n",
            "Epoch 38/300\n",
            "9/9 [==============================] - 0s 1ms/step - loss: 2.1483 - mse: 2.1483\n",
            "Epoch 39/300\n",
            "9/9 [==============================] - 0s 2ms/step - loss: 2.1482 - mse: 2.1482\n",
            "Epoch 40/300\n",
            "9/9 [==============================] - 0s 1ms/step - loss: 2.1482 - mse: 2.1482\n",
            "Epoch 41/300\n",
            "9/9 [==============================] - 0s 2ms/step - loss: 2.1481 - mse: 2.1481\n",
            "Epoch 42/300\n",
            "9/9 [==============================] - 0s 1ms/step - loss: 2.1480 - mse: 2.1480\n",
            "Epoch 43/300\n",
            "9/9 [==============================] - 0s 2ms/step - loss: 2.1480 - mse: 2.1480\n",
            "Epoch 44/300\n",
            "9/9 [==============================] - 0s 1ms/step - loss: 2.1479 - mse: 2.1479\n",
            "Epoch 45/300\n",
            "9/9 [==============================] - 0s 1ms/step - loss: 2.1478 - mse: 2.1478\n",
            "Epoch 46/300\n",
            "9/9 [==============================] - 0s 1ms/step - loss: 2.1478 - mse: 2.1478\n",
            "Epoch 47/300\n",
            "9/9 [==============================] - 0s 1ms/step - loss: 2.1477 - mse: 2.1477\n",
            "Epoch 48/300\n",
            "9/9 [==============================] - 0s 2ms/step - loss: 2.1476 - mse: 2.1476\n",
            "Epoch 49/300\n",
            "9/9 [==============================] - 0s 1ms/step - loss: 2.1476 - mse: 2.1476\n",
            "Epoch 50/300\n",
            "9/9 [==============================] - 0s 1ms/step - loss: 2.1476 - mse: 2.1476\n",
            "Epoch 51/300\n",
            "9/9 [==============================] - 0s 2ms/step - loss: 2.1475 - mse: 2.1475\n",
            "Epoch 52/300\n",
            "9/9 [==============================] - 0s 1ms/step - loss: 2.1475 - mse: 2.1475\n",
            "Epoch 53/300\n",
            "9/9 [==============================] - 0s 2ms/step - loss: 2.1474 - mse: 2.1474\n",
            "Epoch 54/300\n",
            "9/9 [==============================] - 0s 2ms/step - loss: 2.1474 - mse: 2.1474\n",
            "Epoch 55/300\n",
            "9/9 [==============================] - 0s 2ms/step - loss: 2.1473 - mse: 2.1473\n",
            "Epoch 56/300\n",
            "9/9 [==============================] - 0s 2ms/step - loss: 2.1473 - mse: 2.1473\n",
            "Epoch 57/300\n",
            "9/9 [==============================] - 0s 2ms/step - loss: 2.1472 - mse: 2.1472\n",
            "Epoch 58/300\n",
            "9/9 [==============================] - 0s 2ms/step - loss: 2.1472 - mse: 2.1472\n",
            "Epoch 59/300\n",
            "9/9 [==============================] - 0s 2ms/step - loss: 2.1472 - mse: 2.1472\n",
            "Epoch 60/300\n",
            "9/9 [==============================] - 0s 1ms/step - loss: 2.1471 - mse: 2.1471\n",
            "Epoch 61/300\n",
            "9/9 [==============================] - 0s 1ms/step - loss: 2.1471 - mse: 2.1471\n",
            "Epoch 62/300\n",
            "9/9 [==============================] - 0s 2ms/step - loss: 2.1470 - mse: 2.1470\n",
            "Epoch 63/300\n",
            "9/9 [==============================] - 0s 2ms/step - loss: 2.1470 - mse: 2.1470\n",
            "Epoch 64/300\n",
            "9/9 [==============================] - 0s 1ms/step - loss: 2.1470 - mse: 2.1470\n",
            "Epoch 65/300\n",
            "9/9 [==============================] - 0s 1ms/step - loss: 2.1469 - mse: 2.1469\n",
            "Epoch 66/300\n",
            "9/9 [==============================] - 0s 3ms/step - loss: 2.1469 - mse: 2.1469\n",
            "Epoch 67/300\n",
            "9/9 [==============================] - 0s 2ms/step - loss: 2.1469 - mse: 2.1469\n",
            "Epoch 68/300\n",
            "9/9 [==============================] - 0s 2ms/step - loss: 2.1469 - mse: 2.1469\n",
            "Epoch 69/300\n",
            "9/9 [==============================] - 0s 2ms/step - loss: 2.1468 - mse: 2.1468\n",
            "Epoch 70/300\n",
            "9/9 [==============================] - 0s 2ms/step - loss: 2.1468 - mse: 2.1468\n",
            "Epoch 71/300\n",
            "9/9 [==============================] - 0s 2ms/step - loss: 2.1468 - mse: 2.1468\n",
            "Epoch 72/300\n",
            "9/9 [==============================] - 0s 1ms/step - loss: 2.1468 - mse: 2.1468\n",
            "Epoch 73/300\n",
            "9/9 [==============================] - 0s 2ms/step - loss: 2.1467 - mse: 2.1467\n",
            "Epoch 74/300\n",
            "9/9 [==============================] - 0s 2ms/step - loss: 2.1467 - mse: 2.1467\n",
            "Epoch 75/300\n",
            "9/9 [==============================] - 0s 1ms/step - loss: 2.1467 - mse: 2.1467\n",
            "Epoch 76/300\n",
            "9/9 [==============================] - 0s 1ms/step - loss: 2.1467 - mse: 2.1467\n",
            "Epoch 77/300\n",
            "9/9 [==============================] - 0s 1ms/step - loss: 2.1466 - mse: 2.1466\n",
            "Epoch 78/300\n",
            "9/9 [==============================] - 0s 2ms/step - loss: 2.1466 - mse: 2.1466\n",
            "Epoch 79/300\n",
            "9/9 [==============================] - 0s 1ms/step - loss: 2.1466 - mse: 2.1466\n",
            "Epoch 80/300\n",
            "9/9 [==============================] - 0s 1ms/step - loss: 2.1466 - mse: 2.1466\n",
            "Epoch 81/300\n",
            "9/9 [==============================] - 0s 1ms/step - loss: 2.1466 - mse: 2.1466\n",
            "Epoch 82/300\n",
            "9/9 [==============================] - 0s 1ms/step - loss: 2.1465 - mse: 2.1465\n",
            "Epoch 83/300\n",
            "9/9 [==============================] - 0s 2ms/step - loss: 2.1465 - mse: 2.1465\n",
            "Epoch 84/300\n",
            "9/9 [==============================] - 0s 2ms/step - loss: 2.1465 - mse: 2.1465\n",
            "Epoch 85/300\n",
            "9/9 [==============================] - 0s 2ms/step - loss: 2.1465 - mse: 2.1465\n",
            "Epoch 86/300\n",
            "9/9 [==============================] - 0s 1ms/step - loss: 2.1465 - mse: 2.1465\n",
            "Epoch 87/300\n",
            "9/9 [==============================] - 0s 1ms/step - loss: 2.1465 - mse: 2.1465\n",
            "Epoch 88/300\n",
            "9/9 [==============================] - 0s 1ms/step - loss: 2.1464 - mse: 2.1464\n",
            "Epoch 89/300\n",
            "9/9 [==============================] - 0s 1ms/step - loss: 2.1464 - mse: 2.1464\n",
            "Epoch 90/300\n",
            "9/9 [==============================] - 0s 2ms/step - loss: 2.1464 - mse: 2.1464\n",
            "Epoch 91/300\n",
            "9/9 [==============================] - 0s 2ms/step - loss: 2.1464 - mse: 2.1464\n",
            "Epoch 92/300\n",
            "9/9 [==============================] - 0s 1ms/step - loss: 2.1464 - mse: 2.1464\n",
            "Epoch 93/300\n",
            "9/9 [==============================] - 0s 2ms/step - loss: 2.1464 - mse: 2.1464\n",
            "Epoch 94/300\n",
            "9/9 [==============================] - 0s 2ms/step - loss: 2.1464 - mse: 2.1464\n",
            "Epoch 95/300\n",
            "9/9 [==============================] - 0s 2ms/step - loss: 2.1464 - mse: 2.1464\n",
            "Epoch 96/300\n",
            "9/9 [==============================] - 0s 2ms/step - loss: 2.1463 - mse: 2.1463\n",
            "Epoch 97/300\n",
            "9/9 [==============================] - 0s 2ms/step - loss: 2.1463 - mse: 2.1463\n",
            "Epoch 98/300\n",
            "9/9 [==============================] - 0s 2ms/step - loss: 2.1463 - mse: 2.1463\n",
            "Epoch 99/300\n",
            "9/9 [==============================] - 0s 1ms/step - loss: 2.1463 - mse: 2.1463\n",
            "Epoch 100/300\n",
            "9/9 [==============================] - 0s 1ms/step - loss: 2.1463 - mse: 2.1463\n",
            "Epoch 101/300\n",
            "9/9 [==============================] - 0s 1ms/step - loss: 2.1463 - mse: 2.1463\n",
            "Epoch 102/300\n",
            "9/9 [==============================] - 0s 2ms/step - loss: 2.1463 - mse: 2.1463\n",
            "Epoch 103/300\n",
            "9/9 [==============================] - 0s 1ms/step - loss: 2.1463 - mse: 2.1463\n",
            "Epoch 104/300\n",
            "9/9 [==============================] - 0s 2ms/step - loss: 2.1463 - mse: 2.1463\n",
            "Epoch 105/300\n",
            "9/9 [==============================] - 0s 2ms/step - loss: 2.1463 - mse: 2.1463\n",
            "Epoch 106/300\n",
            "9/9 [==============================] - 0s 2ms/step - loss: 2.1463 - mse: 2.1463\n",
            "Epoch 107/300\n",
            "9/9 [==============================] - 0s 2ms/step - loss: 2.1462 - mse: 2.1462\n",
            "Epoch 108/300\n",
            "9/9 [==============================] - 0s 2ms/step - loss: 2.1462 - mse: 2.1462\n",
            "Epoch 109/300\n",
            "9/9 [==============================] - 0s 2ms/step - loss: 2.1462 - mse: 2.1462\n",
            "Epoch 110/300\n",
            "9/9 [==============================] - 0s 2ms/step - loss: 2.1462 - mse: 2.1462\n",
            "Epoch 111/300\n",
            "9/9 [==============================] - 0s 1ms/step - loss: 2.1462 - mse: 2.1462\n",
            "Epoch 112/300\n",
            "9/9 [==============================] - 0s 1ms/step - loss: 2.1462 - mse: 2.1462\n",
            "Epoch 113/300\n",
            "9/9 [==============================] - 0s 2ms/step - loss: 2.1462 - mse: 2.1462\n",
            "Epoch 114/300\n",
            "9/9 [==============================] - 0s 2ms/step - loss: 2.1462 - mse: 2.1462\n",
            "Epoch 115/300\n",
            "9/9 [==============================] - 0s 2ms/step - loss: 2.1462 - mse: 2.1462\n",
            "Epoch 116/300\n",
            "9/9 [==============================] - 0s 1ms/step - loss: 2.1462 - mse: 2.1462\n",
            "Epoch 117/300\n",
            "9/9 [==============================] - 0s 2ms/step - loss: 2.1462 - mse: 2.1462\n",
            "Epoch 118/300\n",
            "9/9 [==============================] - 0s 2ms/step - loss: 2.1462 - mse: 2.1462\n",
            "Epoch 119/300\n",
            "9/9 [==============================] - 0s 2ms/step - loss: 2.1462 - mse: 2.1462\n",
            "Epoch 120/300\n",
            "9/9 [==============================] - 0s 2ms/step - loss: 2.1462 - mse: 2.1462\n",
            "Epoch 121/300\n",
            "9/9 [==============================] - 0s 2ms/step - loss: 2.1462 - mse: 2.1462\n",
            "Epoch 122/300\n",
            "9/9 [==============================] - 0s 1ms/step - loss: 2.1462 - mse: 2.1462\n",
            "Epoch 123/300\n",
            "9/9 [==============================] - 0s 2ms/step - loss: 2.1462 - mse: 2.1462\n",
            "Epoch 124/300\n",
            "9/9 [==============================] - 0s 2ms/step - loss: 2.1462 - mse: 2.1462\n",
            "Epoch 125/300\n",
            "9/9 [==============================] - 0s 2ms/step - loss: 2.1461 - mse: 2.1461\n",
            "Epoch 126/300\n",
            "9/9 [==============================] - 0s 2ms/step - loss: 2.1461 - mse: 2.1461\n",
            "Epoch 127/300\n",
            "9/9 [==============================] - 0s 1ms/step - loss: 2.1461 - mse: 2.1461\n",
            "Epoch 128/300\n",
            "9/9 [==============================] - 0s 2ms/step - loss: 2.1461 - mse: 2.1461\n",
            "Epoch 129/300\n",
            "9/9 [==============================] - 0s 2ms/step - loss: 2.1461 - mse: 2.1461\n",
            "Epoch 130/300\n",
            "9/9 [==============================] - 0s 2ms/step - loss: 2.1461 - mse: 2.1461\n",
            "Epoch 131/300\n",
            "9/9 [==============================] - 0s 2ms/step - loss: 2.1461 - mse: 2.1461\n",
            "Epoch 132/300\n",
            "9/9 [==============================] - 0s 1ms/step - loss: 2.1461 - mse: 2.1461\n",
            "Epoch 133/300\n",
            "9/9 [==============================] - 0s 2ms/step - loss: 2.1461 - mse: 2.1461\n",
            "Epoch 134/300\n",
            "9/9 [==============================] - 0s 1ms/step - loss: 2.1461 - mse: 2.1461\n",
            "Epoch 135/300\n",
            "9/9 [==============================] - 0s 2ms/step - loss: 2.1461 - mse: 2.1461\n",
            "Epoch 136/300\n",
            "9/9 [==============================] - 0s 1ms/step - loss: 2.1461 - mse: 2.1461\n",
            "Epoch 137/300\n",
            "9/9 [==============================] - 0s 2ms/step - loss: 2.1461 - mse: 2.1461\n",
            "Epoch 138/300\n",
            "9/9 [==============================] - 0s 2ms/step - loss: 2.1461 - mse: 2.1461\n",
            "Epoch 139/300\n",
            "9/9 [==============================] - 0s 2ms/step - loss: 2.1461 - mse: 2.1461\n",
            "Epoch 140/300\n",
            "9/9 [==============================] - 0s 2ms/step - loss: 2.1461 - mse: 2.1461\n",
            "Epoch 141/300\n",
            "9/9 [==============================] - 0s 2ms/step - loss: 2.1461 - mse: 2.1461\n",
            "Epoch 142/300\n",
            "9/9 [==============================] - 0s 2ms/step - loss: 2.1461 - mse: 2.1461\n",
            "Epoch 143/300\n",
            "9/9 [==============================] - 0s 1ms/step - loss: 2.1461 - mse: 2.1461\n",
            "Epoch 144/300\n",
            "9/9 [==============================] - 0s 2ms/step - loss: 2.1461 - mse: 2.1461\n",
            "Epoch 145/300\n",
            "9/9 [==============================] - 0s 2ms/step - loss: 2.1461 - mse: 2.1461\n",
            "Epoch 146/300\n",
            "9/9 [==============================] - 0s 2ms/step - loss: 2.1461 - mse: 2.1461\n",
            "Epoch 147/300\n",
            "9/9 [==============================] - 0s 2ms/step - loss: 2.1461 - mse: 2.1461\n",
            "Epoch 148/300\n",
            "9/9 [==============================] - 0s 2ms/step - loss: 2.1461 - mse: 2.1461\n",
            "Epoch 149/300\n",
            "9/9 [==============================] - 0s 1ms/step - loss: 2.1461 - mse: 2.1461\n",
            "Epoch 150/300\n",
            "9/9 [==============================] - 0s 1ms/step - loss: 2.1461 - mse: 2.1461\n",
            "Epoch 151/300\n",
            "9/9 [==============================] - 0s 1ms/step - loss: 2.1461 - mse: 2.1461\n",
            "Epoch 152/300\n",
            "9/9 [==============================] - 0s 2ms/step - loss: 2.1461 - mse: 2.1461\n",
            "Epoch 153/300\n",
            "9/9 [==============================] - 0s 2ms/step - loss: 2.1461 - mse: 2.1461\n",
            "Epoch 154/300\n",
            "9/9 [==============================] - 0s 1ms/step - loss: 2.1461 - mse: 2.1461\n",
            "Epoch 155/300\n",
            "9/9 [==============================] - 0s 2ms/step - loss: 2.1461 - mse: 2.1461\n",
            "Epoch 156/300\n",
            "9/9 [==============================] - 0s 2ms/step - loss: 2.1461 - mse: 2.1461\n",
            "Epoch 157/300\n",
            "9/9 [==============================] - 0s 2ms/step - loss: 2.1461 - mse: 2.1461\n",
            "Epoch 158/300\n",
            "9/9 [==============================] - 0s 2ms/step - loss: 2.1461 - mse: 2.1461\n",
            "Epoch 159/300\n",
            "9/9 [==============================] - 0s 2ms/step - loss: 2.1461 - mse: 2.1461\n",
            "Epoch 160/300\n",
            "9/9 [==============================] - 0s 2ms/step - loss: 2.1461 - mse: 2.1461\n",
            "Epoch 161/300\n",
            "9/9 [==============================] - 0s 1ms/step - loss: 2.1461 - mse: 2.1461\n",
            "Epoch 162/300\n",
            "9/9 [==============================] - 0s 1ms/step - loss: 2.1461 - mse: 2.1461\n",
            "Epoch 163/300\n",
            "9/9 [==============================] - 0s 2ms/step - loss: 2.1461 - mse: 2.1461\n",
            "Epoch 164/300\n",
            "9/9 [==============================] - 0s 2ms/step - loss: 2.1461 - mse: 2.1461\n",
            "Epoch 165/300\n",
            "9/9 [==============================] - 0s 2ms/step - loss: 2.1461 - mse: 2.1461\n",
            "Epoch 166/300\n",
            "9/9 [==============================] - 0s 2ms/step - loss: 2.1461 - mse: 2.1461\n",
            "Epoch 167/300\n",
            "9/9 [==============================] - 0s 2ms/step - loss: 2.1461 - mse: 2.1461\n",
            "Epoch 168/300\n",
            "9/9 [==============================] - 0s 2ms/step - loss: 2.1461 - mse: 2.1461\n",
            "Epoch 169/300\n",
            "9/9 [==============================] - 0s 2ms/step - loss: 2.1461 - mse: 2.1461\n",
            "Epoch 170/300\n",
            "9/9 [==============================] - 0s 1ms/step - loss: 2.1461 - mse: 2.1461\n",
            "Epoch 171/300\n",
            "9/9 [==============================] - 0s 2ms/step - loss: 2.1461 - mse: 2.1461\n",
            "Epoch 172/300\n",
            "9/9 [==============================] - 0s 2ms/step - loss: 2.1460 - mse: 2.1460\n",
            "Epoch 173/300\n",
            "9/9 [==============================] - 0s 2ms/step - loss: 2.1460 - mse: 2.1460\n",
            "Epoch 174/300\n",
            "9/9 [==============================] - 0s 2ms/step - loss: 2.1460 - mse: 2.1460\n",
            "Epoch 175/300\n",
            "9/9 [==============================] - 0s 2ms/step - loss: 2.1460 - mse: 2.1460\n",
            "Epoch 176/300\n",
            "9/9 [==============================] - 0s 2ms/step - loss: 2.1460 - mse: 2.1460\n",
            "Epoch 177/300\n",
            "9/9 [==============================] - 0s 2ms/step - loss: 2.1460 - mse: 2.1460\n",
            "Epoch 178/300\n",
            "9/9 [==============================] - 0s 2ms/step - loss: 2.1460 - mse: 2.1460\n",
            "Epoch 179/300\n",
            "9/9 [==============================] - 0s 2ms/step - loss: 2.1460 - mse: 2.1460\n",
            "Epoch 180/300\n",
            "9/9 [==============================] - 0s 2ms/step - loss: 2.1460 - mse: 2.1460\n",
            "Epoch 181/300\n",
            "9/9 [==============================] - 0s 2ms/step - loss: 2.1460 - mse: 2.1460\n",
            "Epoch 182/300\n",
            "9/9 [==============================] - 0s 2ms/step - loss: 2.1460 - mse: 2.1460\n",
            "Epoch 183/300\n",
            "9/9 [==============================] - 0s 2ms/step - loss: 2.1460 - mse: 2.1460\n",
            "Epoch 184/300\n",
            "9/9 [==============================] - 0s 2ms/step - loss: 2.1460 - mse: 2.1460\n",
            "Epoch 185/300\n",
            "9/9 [==============================] - 0s 2ms/step - loss: 2.1460 - mse: 2.1460\n",
            "Epoch 186/300\n",
            "9/9 [==============================] - 0s 1ms/step - loss: 2.1460 - mse: 2.1460\n",
            "Epoch 187/300\n",
            "9/9 [==============================] - 0s 2ms/step - loss: 2.1460 - mse: 2.1460\n",
            "Epoch 188/300\n",
            "9/9 [==============================] - 0s 2ms/step - loss: 2.1460 - mse: 2.1460\n",
            "Epoch 189/300\n",
            "9/9 [==============================] - 0s 2ms/step - loss: 2.1460 - mse: 2.1460\n",
            "Epoch 190/300\n",
            "9/9 [==============================] - 0s 1ms/step - loss: 2.1460 - mse: 2.1460\n",
            "Epoch 191/300\n",
            "9/9 [==============================] - 0s 2ms/step - loss: 2.1460 - mse: 2.1460\n",
            "Epoch 192/300\n",
            "9/9 [==============================] - 0s 2ms/step - loss: 2.1460 - mse: 2.1460\n",
            "Epoch 193/300\n",
            "9/9 [==============================] - 0s 2ms/step - loss: 2.1460 - mse: 2.1460\n",
            "Epoch 194/300\n",
            "9/9 [==============================] - 0s 2ms/step - loss: 2.1460 - mse: 2.1460\n",
            "Epoch 195/300\n",
            "9/9 [==============================] - 0s 2ms/step - loss: 2.1460 - mse: 2.1460\n",
            "Epoch 196/300\n",
            "9/9 [==============================] - 0s 2ms/step - loss: 2.1460 - mse: 2.1460\n",
            "Epoch 197/300\n",
            "9/9 [==============================] - 0s 2ms/step - loss: 2.1460 - mse: 2.1460\n",
            "Epoch 198/300\n",
            "9/9 [==============================] - 0s 2ms/step - loss: 2.1460 - mse: 2.1460\n",
            "Epoch 199/300\n",
            "9/9 [==============================] - 0s 2ms/step - loss: 2.1460 - mse: 2.1460\n",
            "Epoch 200/300\n",
            "9/9 [==============================] - 0s 2ms/step - loss: 2.1460 - mse: 2.1460\n",
            "Epoch 201/300\n",
            "9/9 [==============================] - 0s 2ms/step - loss: 2.1460 - mse: 2.1460\n",
            "Epoch 202/300\n",
            "9/9 [==============================] - 0s 2ms/step - loss: 2.1460 - mse: 2.1460\n",
            "Epoch 203/300\n",
            "9/9 [==============================] - 0s 2ms/step - loss: 2.1460 - mse: 2.1460\n",
            "Epoch 204/300\n",
            "9/9 [==============================] - 0s 2ms/step - loss: 2.1460 - mse: 2.1460\n",
            "Epoch 205/300\n",
            "9/9 [==============================] - 0s 2ms/step - loss: 2.1460 - mse: 2.1460\n",
            "Epoch 206/300\n",
            "9/9 [==============================] - 0s 1ms/step - loss: 2.1460 - mse: 2.1460\n",
            "Epoch 207/300\n",
            "9/9 [==============================] - 0s 2ms/step - loss: 2.1460 - mse: 2.1460\n",
            "Epoch 208/300\n",
            "9/9 [==============================] - 0s 2ms/step - loss: 2.1460 - mse: 2.1460\n",
            "Epoch 209/300\n",
            "9/9 [==============================] - 0s 2ms/step - loss: 2.1460 - mse: 2.1460\n",
            "Epoch 210/300\n",
            "9/9 [==============================] - 0s 1ms/step - loss: 2.1460 - mse: 2.1460\n",
            "Epoch 211/300\n",
            "9/9 [==============================] - 0s 1ms/step - loss: 2.1460 - mse: 2.1460\n",
            "Epoch 212/300\n",
            "9/9 [==============================] - 0s 2ms/step - loss: 2.1460 - mse: 2.1460\n",
            "Epoch 213/300\n",
            "9/9 [==============================] - 0s 3ms/step - loss: 2.1460 - mse: 2.1460\n",
            "Epoch 214/300\n",
            "9/9 [==============================] - 0s 2ms/step - loss: 2.1460 - mse: 2.1460\n",
            "Epoch 215/300\n",
            "9/9 [==============================] - 0s 2ms/step - loss: 2.1460 - mse: 2.1460\n",
            "Epoch 216/300\n",
            "9/9 [==============================] - 0s 1ms/step - loss: 2.1460 - mse: 2.1460\n",
            "Epoch 217/300\n",
            "9/9 [==============================] - 0s 2ms/step - loss: 2.1460 - mse: 2.1460\n",
            "Epoch 218/300\n",
            "9/9 [==============================] - 0s 2ms/step - loss: 2.1460 - mse: 2.1460\n",
            "Epoch 219/300\n",
            "9/9 [==============================] - 0s 2ms/step - loss: 2.1460 - mse: 2.1460\n",
            "Epoch 220/300\n",
            "9/9 [==============================] - 0s 2ms/step - loss: 2.1460 - mse: 2.1460\n",
            "Epoch 221/300\n",
            "9/9 [==============================] - 0s 2ms/step - loss: 2.1460 - mse: 2.1460\n",
            "Epoch 222/300\n",
            "9/9 [==============================] - 0s 1ms/step - loss: 2.1460 - mse: 2.1460\n",
            "Epoch 223/300\n",
            "9/9 [==============================] - 0s 2ms/step - loss: 2.1460 - mse: 2.1460\n",
            "Epoch 224/300\n",
            "9/9 [==============================] - 0s 2ms/step - loss: 2.1460 - mse: 2.1460\n",
            "Epoch 225/300\n",
            "9/9 [==============================] - 0s 1ms/step - loss: 2.1460 - mse: 2.1460\n",
            "Epoch 226/300\n",
            "9/9 [==============================] - 0s 2ms/step - loss: 2.1460 - mse: 2.1460\n",
            "Epoch 227/300\n",
            "9/9 [==============================] - 0s 2ms/step - loss: 2.1460 - mse: 2.1460\n",
            "Epoch 228/300\n",
            "9/9 [==============================] - 0s 2ms/step - loss: 2.1460 - mse: 2.1460\n",
            "Epoch 229/300\n",
            "9/9 [==============================] - 0s 1ms/step - loss: 2.1460 - mse: 2.1460\n",
            "Epoch 230/300\n",
            "9/9 [==============================] - 0s 2ms/step - loss: 2.1460 - mse: 2.1460\n",
            "Epoch 231/300\n",
            "9/9 [==============================] - 0s 2ms/step - loss: 2.1460 - mse: 2.1460\n",
            "Epoch 232/300\n",
            "9/9 [==============================] - 0s 2ms/step - loss: 2.1460 - mse: 2.1460\n",
            "Epoch 233/300\n",
            "9/9 [==============================] - 0s 2ms/step - loss: 2.1460 - mse: 2.1460\n",
            "Epoch 234/300\n",
            "9/9 [==============================] - 0s 2ms/step - loss: 2.1460 - mse: 2.1460\n",
            "Epoch 235/300\n",
            "9/9 [==============================] - 0s 2ms/step - loss: 2.1460 - mse: 2.1460\n",
            "Epoch 236/300\n",
            "9/9 [==============================] - 0s 2ms/step - loss: 2.1460 - mse: 2.1460\n",
            "Epoch 237/300\n",
            "9/9 [==============================] - 0s 2ms/step - loss: 2.1460 - mse: 2.1460\n",
            "Epoch 238/300\n",
            "9/9 [==============================] - 0s 2ms/step - loss: 2.1460 - mse: 2.1460\n",
            "Epoch 239/300\n",
            "9/9 [==============================] - 0s 1ms/step - loss: 2.1460 - mse: 2.1460\n",
            "Epoch 240/300\n",
            "9/9 [==============================] - 0s 2ms/step - loss: 2.1460 - mse: 2.1460\n",
            "Epoch 241/300\n",
            "9/9 [==============================] - 0s 2ms/step - loss: 2.1460 - mse: 2.1460\n",
            "Epoch 242/300\n",
            "9/9 [==============================] - 0s 2ms/step - loss: 2.1460 - mse: 2.1460\n",
            "Epoch 243/300\n",
            "9/9 [==============================] - 0s 2ms/step - loss: 2.1460 - mse: 2.1460\n",
            "Epoch 244/300\n",
            "9/9 [==============================] - 0s 2ms/step - loss: 2.1460 - mse: 2.1460\n",
            "Epoch 245/300\n",
            "9/9 [==============================] - 0s 2ms/step - loss: 2.1460 - mse: 2.1460\n",
            "Epoch 246/300\n",
            "9/9 [==============================] - 0s 2ms/step - loss: 2.1460 - mse: 2.1460\n",
            "Epoch 247/300\n",
            "9/9 [==============================] - 0s 2ms/step - loss: 2.1460 - mse: 2.1460\n",
            "Epoch 248/300\n",
            "9/9 [==============================] - 0s 2ms/step - loss: 2.1460 - mse: 2.1460\n",
            "Epoch 249/300\n",
            "9/9 [==============================] - 0s 1ms/step - loss: 2.1460 - mse: 2.1460\n",
            "Epoch 250/300\n",
            "9/9 [==============================] - 0s 2ms/step - loss: 2.1460 - mse: 2.1460\n",
            "Epoch 251/300\n",
            "9/9 [==============================] - 0s 2ms/step - loss: 2.1460 - mse: 2.1460\n",
            "Epoch 252/300\n",
            "9/9 [==============================] - 0s 1ms/step - loss: 2.1460 - mse: 2.1460\n",
            "Epoch 253/300\n",
            "9/9 [==============================] - 0s 2ms/step - loss: 2.1460 - mse: 2.1460\n",
            "Epoch 254/300\n",
            "9/9 [==============================] - 0s 2ms/step - loss: 2.1460 - mse: 2.1460\n",
            "Epoch 255/300\n",
            "9/9 [==============================] - 0s 2ms/step - loss: 2.1460 - mse: 2.1460\n",
            "Epoch 256/300\n",
            "9/9 [==============================] - 0s 2ms/step - loss: 2.1460 - mse: 2.1460\n",
            "Epoch 257/300\n",
            "9/9 [==============================] - 0s 2ms/step - loss: 2.1460 - mse: 2.1460\n",
            "Epoch 258/300\n",
            "9/9 [==============================] - 0s 2ms/step - loss: 2.1460 - mse: 2.1460\n",
            "Epoch 259/300\n",
            "9/9 [==============================] - 0s 2ms/step - loss: 2.1460 - mse: 2.1460\n",
            "Epoch 260/300\n",
            "9/9 [==============================] - 0s 2ms/step - loss: 2.1460 - mse: 2.1460\n",
            "Epoch 261/300\n",
            "9/9 [==============================] - 0s 2ms/step - loss: 2.1460 - mse: 2.1460\n",
            "Epoch 262/300\n",
            "9/9 [==============================] - 0s 2ms/step - loss: 2.1460 - mse: 2.1460\n",
            "Epoch 263/300\n",
            "9/9 [==============================] - 0s 2ms/step - loss: 2.1460 - mse: 2.1460\n",
            "Epoch 264/300\n",
            "9/9 [==============================] - 0s 2ms/step - loss: 2.1460 - mse: 2.1460\n",
            "Epoch 265/300\n",
            "9/9 [==============================] - 0s 2ms/step - loss: 2.1460 - mse: 2.1460\n",
            "Epoch 266/300\n",
            "9/9 [==============================] - 0s 2ms/step - loss: 2.1460 - mse: 2.1460\n",
            "Epoch 267/300\n",
            "9/9 [==============================] - 0s 2ms/step - loss: 2.1460 - mse: 2.1460\n",
            "Epoch 268/300\n",
            "9/9 [==============================] - 0s 2ms/step - loss: 2.1460 - mse: 2.1460\n",
            "Epoch 269/300\n",
            "9/9 [==============================] - 0s 1ms/step - loss: 2.1460 - mse: 2.1460\n",
            "Epoch 270/300\n",
            "9/9 [==============================] - 0s 2ms/step - loss: 2.1460 - mse: 2.1460\n",
            "Epoch 271/300\n",
            "9/9 [==============================] - 0s 2ms/step - loss: 2.1460 - mse: 2.1460\n",
            "Epoch 272/300\n",
            "9/9 [==============================] - 0s 3ms/step - loss: 2.1460 - mse: 2.1460\n",
            "Epoch 273/300\n",
            "9/9 [==============================] - 0s 2ms/step - loss: 2.1460 - mse: 2.1460\n",
            "Epoch 274/300\n",
            "9/9 [==============================] - 0s 2ms/step - loss: 2.1460 - mse: 2.1460\n",
            "Epoch 275/300\n",
            "9/9 [==============================] - 0s 2ms/step - loss: 2.1460 - mse: 2.1460\n",
            "Epoch 276/300\n",
            "9/9 [==============================] - 0s 2ms/step - loss: 2.1460 - mse: 2.1460\n",
            "Epoch 277/300\n",
            "9/9 [==============================] - 0s 1ms/step - loss: 2.1460 - mse: 2.1460\n",
            "Epoch 278/300\n",
            "9/9 [==============================] - 0s 2ms/step - loss: 2.1460 - mse: 2.1460\n",
            "Epoch 279/300\n",
            "9/9 [==============================] - 0s 2ms/step - loss: 2.1460 - mse: 2.1460\n",
            "Epoch 280/300\n",
            "9/9 [==============================] - 0s 2ms/step - loss: 2.1460 - mse: 2.1460\n",
            "Epoch 281/300\n",
            "9/9 [==============================] - 0s 1ms/step - loss: 2.1460 - mse: 2.1460\n",
            "Epoch 282/300\n",
            "9/9 [==============================] - 0s 2ms/step - loss: 2.1460 - mse: 2.1460\n",
            "Epoch 283/300\n",
            "9/9 [==============================] - 0s 2ms/step - loss: 2.1460 - mse: 2.1460\n",
            "Epoch 284/300\n",
            "9/9 [==============================] - 0s 2ms/step - loss: 2.1460 - mse: 2.1460\n",
            "Epoch 285/300\n",
            "9/9 [==============================] - 0s 2ms/step - loss: 2.1460 - mse: 2.1460\n",
            "Epoch 286/300\n",
            "9/9 [==============================] - 0s 2ms/step - loss: 2.1460 - mse: 2.1460\n",
            "Epoch 287/300\n",
            "9/9 [==============================] - 0s 2ms/step - loss: 2.1460 - mse: 2.1460\n",
            "Epoch 288/300\n",
            "9/9 [==============================] - 0s 2ms/step - loss: 2.1460 - mse: 2.1460\n",
            "Epoch 289/300\n",
            "9/9 [==============================] - 0s 2ms/step - loss: 2.1460 - mse: 2.1460\n",
            "Epoch 290/300\n",
            "9/9 [==============================] - 0s 2ms/step - loss: 2.1460 - mse: 2.1460\n",
            "Epoch 291/300\n",
            "9/9 [==============================] - 0s 2ms/step - loss: 2.1460 - mse: 2.1460\n",
            "Epoch 292/300\n",
            "9/9 [==============================] - 0s 2ms/step - loss: 2.1460 - mse: 2.1460\n",
            "Epoch 293/300\n",
            "9/9 [==============================] - 0s 2ms/step - loss: 2.1460 - mse: 2.1460\n",
            "Epoch 294/300\n",
            "9/9 [==============================] - 0s 1ms/step - loss: 2.1460 - mse: 2.1460\n",
            "Epoch 295/300\n",
            "9/9 [==============================] - 0s 2ms/step - loss: 2.1460 - mse: 2.1460\n",
            "Epoch 296/300\n",
            "9/9 [==============================] - 0s 2ms/step - loss: 2.1460 - mse: 2.1460\n",
            "Epoch 297/300\n",
            "9/9 [==============================] - 0s 2ms/step - loss: 2.1460 - mse: 2.1460\n",
            "Epoch 298/300\n",
            "9/9 [==============================] - 0s 2ms/step - loss: 2.1460 - mse: 2.1460\n",
            "Epoch 299/300\n",
            "9/9 [==============================] - 0s 2ms/step - loss: 2.1460 - mse: 2.1460\n",
            "Epoch 300/300\n",
            "9/9 [==============================] - 0s 2ms/step - loss: 2.1460 - mse: 2.1460\n"
          ],
          "name": "stdout"
        },
        {
          "output_type": "execute_result",
          "data": {
            "text/plain": [
              "<tensorflow.python.keras.callbacks.History at 0x7f7987d81f50>"
            ]
          },
          "metadata": {
            "tags": []
          },
          "execution_count": 102
        }
      ]
    },
    {
      "cell_type": "code",
      "metadata": {
        "colab": {
          "base_uri": "https://localhost:8080/",
          "height": 301
        },
        "id": "nt2R0uj0Tt0s",
        "outputId": "87458c66-d591-45c3-f445-1aace701cbf7"
      },
      "source": [
        "import matplotlib.pyplot as plt\n",
        "plt.plot(X,model.predict(X),'b',X,y,'k--')"
      ],
      "execution_count": 121,
      "outputs": [
        {
          "output_type": "execute_result",
          "data": {
            "text/plain": [
              "[<matplotlib.lines.Line2D at 0x7f7985513e90>,\n",
              " <matplotlib.lines.Line2D at 0x7f7985521090>]"
            ]
          },
          "metadata": {
            "tags": []
          },
          "execution_count": 121
        },
        {
          "output_type": "display_data",
          "data": {
            "image/png": "[encoded data removed]",
            "text/plain": [
              "<Figure size 432x288 with 1 Axes>"
            ]
          },
          "metadata": {
            "tags": [],
            "needs_background": "light"
          }
        }
      ]
    }
  ]
}