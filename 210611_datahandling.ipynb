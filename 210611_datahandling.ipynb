{
  "nbformat": 4,
  "nbformat_minor": 0,
  "metadata": {
    "colab": {
      "name": "210611_datahandling",
      "private_outputs": true,
      "provenance": [],
      "authorship_tag": "ABX9TyPSUBKgCVZqqFEbRHpmqBVH",
      "include_colab_link": true
    },
    "kernelspec": {
      "name": "python3",
      "display_name": "Python 3"
    },
    "language_info": {
      "name": "python"
    }
  },
  "cells": [
    {
      "cell_type": "markdown",
      "metadata": {
        "id": "view-in-github",
        "colab_type": "text"
      },
      "source": [
        "<a href=\"https://colab.research.google.com/github/changyong93/TIL/blob/main/210611_datahandling.ipynb\" target=\"_parent\"><img src=\"https://colab.research.google.com/assets/colab-badge.svg\" alt=\"Open In Colab\"/></a>"
      ]
    },
    {
      "cell_type": "code",
      "metadata": {
        "id": "Et-V3iLmGqM-"
      },
      "source": [
        "#연습용 데이터 다운받기\n",
        "!wget https://bit.ly/3psoUZb"
      ],
      "execution_count": null,
      "outputs": []
    },
    {
      "cell_type": "markdown",
      "metadata": {
        "id": "spbxTV7DG2AB"
      },
      "source": [
        "csv = comma separate value\n",
        "\n",
        "        - csv, 필드를 쉼표로 구분한 텍스트 파일\n",
        "        - 엑셀 양식의 데이터를 프로그램과 상관없이 쓰기 위한 데이터 형식\n",
        "        - 탭(TSV), 빈칸(SSV)등으로 구분해서 만들기도 함\n",
        "        - 통칭하여 Character-separated values (CSV) 라 부름\n",
        "        - 엑셀에서는 \"다른 이름으로 저장\" 기능으로 csv 파일 생성 가능"
      ]
    },
    {
      "cell_type": "code",
      "metadata": {
        "id": "pJxvz0RfN0ZU"
      },
      "source": [
        "line_counter = 0  # 파일의 총 개수를 세는 변수\n",
        "data_header = []  # 데이터의 필드값을 저장하는 리스트\n",
        "employee = []\n",
        "customer_USA_only_list = []\n",
        "customer = None\n",
        "\n",
        "with open(\"3psoUZb\", \"r\") as customer_data:\n",
        "    while True:\n",
        "        data = customer_data.readline()  # customer.csv를 한줄씩 읽어오기\n",
        "        if not data:\n",
        "            break  # 데이터가 없을 때 loop 종료\n",
        "        if line_counter == 0:  # 첫 번째 데이터는 데이터의 필드값\n",
        "            data_header = data.split(\",\")  # 데이터의 필드값은 \",\"로 분리하여 data_header에 저장\n",
        "        else:\n",
        "            customer = data.split(\",\")  # 일반 데이터는 \",\"로 분리\n",
        "            if customer[10] == \"USA\":\n",
        "                customer_USA_only_list.append(customer)\n",
        "        line_counter += 1\n",
        "\n",
        "print(\"Header :\\t\", data_header)  # 데이터 필드값 출력\n",
        "for i in range(10):  # 데이터 샘플 총 10개 출력\n",
        "    print(\"Data\", i, \"\\t\\t\", customer_USA_only_list[i])\n",
        "print(len(customer_USA_only_list))  # 전체 데이터 크기 출력\n",
        "\n",
        "with open(\"customer_USA_only.csv\", \"w\") as customer_USA_only_csv:\n",
        "    for customer in customer_USA_only_list:\n",
        "        customer_USA_only_csv.write(\",\".join(customer).strip(\"\\n\") + \"\\n\")\n"
      ],
      "execution_count": null,
      "outputs": []
    },
    {
      "cell_type": "markdown",
      "metadata": {
        "id": "z5EukzmYN528"
      },
      "source": [
        "- text파일 형태로 데이터를 처리 시 문장 내에 들어가 있는 \",\" 등에 대한 전처리 과정이 필요\n",
        "- 파이썬에서는 간단히 csv파일을 처리하기 위한 __csv객체__를 제공함"
      ]
    },
    {
      "cell_type": "code",
      "metadata": {
        "id": "6ztg2IW1OzGw"
      },
      "source": [
        "import csv\n",
        "\n",
        "line_counter = 0  # 파일의 총 개수를 세는 변수\n",
        "data_header = []  # 데이터의 필드값을 저장하는 리스트\n",
        "employee = []\n",
        "customer_USA_only_list = []\n",
        "customer = None\n",
        "\n",
        "with open(\"3psoUZb\", \"r\") as customer_data:\n",
        "    csv_data = csv.reader(customer_data)\n",
        "    for data in csv_data: #데이터 한줄씩 읽어오기\n",
        "        if line_counter == 0:  # 첫 번째 데이터는 데이터의 필드값\n",
        "            data_header = data  # 데이터의 필드값은 \",\"로 분리하여 data_header에 저장\n",
        "        else:\n",
        "            customer = data\n",
        "            if customer[10] == \"USA\":\n",
        "                customer_USA_only_list.append(customer)\n",
        "        line_counter += 1\n",
        "\n",
        "print(\"Header :\\t\", data_header)  # 데이터 필드값 출력\n",
        "for i in range(10):  # 데이터 샘플 총 10개 출력\n",
        "    print(\"Data\", i, \"\\t\\t\", customer_USA_only_list[i])\n",
        "print(len(customer_USA_only_list))  # 전체 데이터 크기 출력\n",
        "\n",
        "with open(\"customer_USA_only.csv\", \"w\", encoding = \"utf8\") as customer_USA_only_csv:\n",
        "    writer = csv.writer(customer_USA_only_csv, delimiter = \"\\t\", quotechar = \"'\", quoting = csv.QUOTE_ALL)\n",
        "    writer.writerow(data_header) #데이터 필드값 쓰기\n",
        "    for data in customer_USA_only_list:\n",
        "        writer.writerow(data)\n"
      ],
      "execution_count": null,
      "outputs": []
    },
    {
      "cell_type": "code",
      "metadata": {
        "id": "ooSnUMoEQ3j7"
      },
      "source": [
        "##정규표현식으로 네이버 주식 데이터 정보 가져오기"
      ],
      "execution_count": null,
      "outputs": []
    },
    {
      "cell_type": "code",
      "metadata": {
        "id": "Ax6GSdgaXVid"
      },
      "source": [
        "import urllib.request\n",
        "import re\n",
        "\n",
        "url = \"https://finance.naver.com/item/main.nhn?code=035720\"\n",
        "html = urllib.request.urlopen(url)\n",
        "html_contents = str(html.read().decode('ms949'))\n",
        "\n",
        "stock_result = re.findall(\"(\\<dl class=\\\"blind\\\"\\>)([\\s\\S]+?)(\\<\\/dl\\>)\", html_contents)\n",
        "stock_result"
      ],
      "execution_count": null,
      "outputs": []
    },
    {
      "cell_type": "code",
      "metadata": {
        "id": "VUAPYJJzgbLS"
      },
      "source": [
        "samgsung_stock = stock_result[0]\n",
        "samgsung_stock"
      ],
      "execution_count": null,
      "outputs": []
    },
    {
      "cell_type": "code",
      "metadata": {
        "id": "hwVWSqlUjkLs"
      },
      "source": [
        "samsung_index = samgsung_stock[1]\n",
        "samsung_index"
      ],
      "execution_count": null,
      "outputs": []
    },
    {
      "cell_type": "code",
      "metadata": {
        "id": "1v4bZGwvju-X"
      },
      "source": [
        "index_list = re.findall(\"(\\<dd\\>)([\\s\\S]+?)(\\<\\/dd\\>)\",samsung_index)"
      ],
      "execution_count": null,
      "outputs": []
    },
    {
      "cell_type": "code",
      "metadata": {
        "id": "hX4kYFWSknVO"
      },
      "source": [
        "for idx in index_list:\n",
        "  print(idx[1])"
      ],
      "execution_count": null,
      "outputs": []
    }
  ]
}