{
  "nbformat": 4,
  "nbformat_minor": 0,
  "metadata": {
    "colab": {
      "name": "210610_pythonic_coding",
      "private_outputs": true,
      "provenance": [],
      "toc_visible": true,
      "authorship_tag": "ABX9TyNeyM25Q4tapYXVh+jdZwRd",
      "include_colab_link": true
    },
    "kernelspec": {
      "name": "python3",
      "display_name": "Python 3"
    },
    "language_info": {
      "name": "python"
    }
  },
  "cells": [
    {
      "cell_type": "markdown",
      "metadata": {
        "id": "view-in-github",
        "colab_type": "text"
      },
      "source": [
        "<a href=\"https://colab.research.google.com/github/changyong93/KaggleStruggle/blob/main/210610_pythonic_coding.ipynb\" target=\"_parent\"><img src=\"https://colab.research.google.com/assets/colab-badge.svg\" alt=\"Open In Colab\"/></a>"
      ]
    },
    {
      "cell_type": "markdown",
      "metadata": {
        "id": "h_I15rni5eiA"
      },
      "source": [
        "# Why Pythonic Code:\n",
        "1. 남 코드에 대한 이해도\n",
        "2. 효율\n",
        "---\n",
        "- split & join\n",
        "- list comprehension\n",
        "- enumerate & zip\n",
        "- lambda & map & reduce\n",
        "  - 단, PEP8에서 lambda,map ,reduce 함수를 지양하는 것을 권장함\n",
        "  - lambda -> def로 대체, map -> list comprehension,\n",
        "    - 어려운 문법, 테스트의 어려움, 문서의 docstring 지원 미비, 코드 해석의 어려움, 이름이 존재하지 않는 함수의 출현\n",
        "    - 문제는 여전히 많이 쓰임\n",
        "  - reduce : map func과 달리 list에 똑같은 함수를 적용해서 통합\n",
        "    - 평소에는 잘 안쓰이나, 대용량의 데이터(ex, deep learning) 핸들링 시 사용\n",
        "- generator\n",
        "  - iterable object를 특수한 형태로 사용해주는 함수\n",
        "    - iterables object\n",
        "      -for i in [a,b,c]: 의 경우 a,b,c가 하나씩 꺼내져오는 이터러블 오브젝트인데, 내부적으로 __iter__, __next__ 가 사용됨\n",
        "      - 즉 [a,b,c]를 iter([a,b,c])로 변수에 선언한 다음, next(변수명)를 출력할 때마다 순서대로 값이 출력됨\n",
        "      - 단 데이터를 iter() -> next()를 불러오는 방식은 itertools.cycle()로 변수를 변환 후 next()로 가져오는 방식과 같음\n",
        "  - element가 사용되는 시점에 값을 메모리에 반환하고 그 전에는 주소값만 가지고 있음\n",
        "  - 결국 출력하기 전엔 주소값만 가지고 있으므로 데이터 용량을 상당히 절약할 수 있음\n",
        "- asterisk(*)\n",
        "  - 3*3 : 곱하기 연산 -> 9\n",
        "  - 3**3 : 제곱연산 => 27\n",
        "  - *args, **args : 함수의 args\n",
        "    - *args : 함수에서 입력 데이터의 타입은 동일하나 개수가 정해지지 않은 경우\n",
        "    - **args : parameter의 이름을 따로 지정하지 않고 사용하는 방법\n",
        "      - 입력된 값은 dict type으로 사용 가능(ex, 크롤링 시 header 값)\n",
        "  - 어떤 데이터의 *[] : unpacking\n",
        "    - ex) test = [[1,2],[2,3],[3,4]]를 zip으로 해서 출력해도 list안의 list이므로 1,2 / 2,3등이 따로 출력되지 않음\n",
        "    - 이 경우, for a,b in zip(*test)로 에스더리스크를 붙여서 쓰면 최외곽 괄호가 언패킹 됨\n",
        "    - **data의 경우 dict type 언패킹 시 사용(키워드언패킹)\n"
      ]
    },
    {
      "cell_type": "code",
      "metadata": {
        "id": "l8rr_1_2526c"
      },
      "source": [
        "f = lambda x,y : x + y\n",
        "f(10,50)"
      ],
      "execution_count": null,
      "outputs": []
    },
    {
      "cell_type": "code",
      "metadata": {
        "id": "x3VILE3A8fP7"
      },
      "source": [
        "(lambda x,y : x+y)(10,50)"
      ],
      "execution_count": null,
      "outputs": []
    },
    {
      "cell_type": "code",
      "metadata": {
        "id": "oZ_V9BVA-Dn1"
      },
      "source": [
        "def f(x,y):\n",
        "  return x + y\n",
        "f(10,50)"
      ],
      "execution_count": null,
      "outputs": []
    },
    {
      "cell_type": "code",
      "metadata": {
        "id": "Jvk_xBcA-GsE"
      },
      "source": [
        "li = [1,2,3,4,5]\n",
        "print(list(map(lambda x : x**2, li)))\n",
        "\n",
        "print([n**2 for n in li])"
      ],
      "execution_count": null,
      "outputs": []
    },
    {
      "cell_type": "code",
      "metadata": {
        "id": "RnW1PEvj8oU0"
      },
      "source": [
        "from functools import reduce\n",
        "li = [1,2,3,4,5]\n",
        "\n",
        "for i in range(1,len(li)+1):\n",
        "  print(\"li의 i번째 idx까지 합\",reduce(lambda x,y: x + y, li[:i]))"
      ],
      "execution_count": null,
      "outputs": []
    },
    {
      "cell_type": "code",
      "metadata": {
        "id": "6ssK8-Ef_MSk"
      },
      "source": [
        "from itertools import cycle\n",
        "li = cycle([1,2,3,4,5])"
      ],
      "execution_count": null,
      "outputs": []
    },
    {
      "cell_type": "code",
      "metadata": {
        "id": "Se14-rb1_SFc"
      },
      "source": [
        "li = [1,2,3,4,5]\n",
        "cy_li = iter(li)"
      ],
      "execution_count": null,
      "outputs": []
    },
    {
      "cell_type": "code",
      "metadata": {
        "id": "tVO_ZxOk_arX"
      },
      "source": [
        "next(cy_li)"
      ],
      "execution_count": null,
      "outputs": []
    },
    {
      "cell_type": "code",
      "metadata": {
        "id": "E8SJ_OYoBU6R"
      },
      "source": [
        "def general_list(value):\n",
        "  # result = [i in range(value)]\n",
        "  result = []\n",
        "  for i in range(value):\n",
        "    result.append(i)\n",
        "  return result\n",
        "\n",
        "def generator_list(value):\n",
        "  for i in range(value):\n",
        "    yield i"
      ],
      "execution_count": null,
      "outputs": []
    },
    {
      "cell_type": "code",
      "metadata": {
        "id": "B-qj2QE6BryN"
      },
      "source": [
        "import sys\n",
        "general_li = general_list(10)\n",
        "print(\"데이터 크기: \",sys.getsizeof(general_li),\"|| 데이터: \", general_li)\n",
        "\n",
        "generator_li = generator_list(10)\n",
        "print(\"데이터 크기: \",sys.getsizeof(generator_li),\"|| 데이터: \", generator_li)\n",
        "#generator는 평소에는 값을 메모리에 안올려놓고 주소값만 가지고 있다가 print를 할 경우 yield가 값을 반환함\n",
        "# 단 한 번만 print로 호출할 수 있음\n",
        "for a in generator_li:\n",
        "  print(a)"
      ],
      "execution_count": null,
      "outputs": []
    },
    {
      "cell_type": "code",
      "metadata": {
        "id": "_oCJHe1sEUTz"
      },
      "source": [
        "print(\"아무것도 호출 안됨\")\n",
        "for a in generator_li:\n",
        "  print(a)"
      ],
      "execution_count": null,
      "outputs": []
    },
    {
      "cell_type": "code",
      "metadata": {
        "id": "-AEjIHMpC9l5"
      },
      "source": [
        "generator_li = generator_list(10)\n",
        "generator_list = list(generator_li)\n",
        "print(\"데이터 크기: \",sys.getsizeof(generator_list),\"|| 데이터: \", generator_list)\n",
        "print(\"generator로 생성한 것을 list로 해주면 값을 가지고 있떤 list형태보다 메모리는 작아짐\")\n"
      ],
      "execution_count": null,
      "outputs": []
    },
    {
      "cell_type": "markdown",
      "metadata": {
        "id": "ng0_wIZEEpNK"
      },
      "source": [
        "## generator comprehension"
      ]
    },
    {
      "cell_type": "code",
      "metadata": {
        "id": "4dkj2dqIEyA9"
      },
      "source": [
        "gen_ex = (n*n for n in range(10))\n",
        "type(gen_ex)"
      ],
      "execution_count": null,
      "outputs": []
    },
    {
      "cell_type": "code",
      "metadata": {
        "id": "417AH-BcE2M2"
      },
      "source": [
        "for i in gen_ex:\n",
        "  print(i)"
      ],
      "execution_count": null,
      "outputs": []
    },
    {
      "cell_type": "code",
      "metadata": {
        "id": "d_XJaLBXJIRW"
      },
      "source": [
        "data = {\"c\":1, \"d\":2}\n",
        "def asterisk_data(a,b,c,d):\n",
        "  print(a,b,c,d)\n",
        "asterisk_data(10,20, **data)  "
      ],
      "execution_count": null,
      "outputs": []
    },
    {
      "cell_type": "code",
      "metadata": {
        "id": "GtM3LUirJdkf"
      },
      "source": [
        "data = {\"a\":1, \"b\":2}\n",
        "def asterisk_data(a,b,c,d):\n",
        "  print(a,b,c,d)\n",
        "asterisk_data(c = 10,d = 20,**data)  "
      ],
      "execution_count": null,
      "outputs": []
    }
  ]
}