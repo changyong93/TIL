{
 "cells": [
  {
   "cell_type": "markdown",
   "id": "4d09873c",
   "metadata": {},
   "source": [
    "ref : https://www.youtube.com/watch?v=GDmm4JH4loc\n",
    "\n",
    "- 서버와 클라이언트 통신\n",
    "- 프로그램이 서버에서 돌아가고 클라이언트로부터 요청을 받으면 응답을 주는 서버를 API 서버\n",
    "    - 클라이언트가 데이터를 다 안들고 있거나, 여러명이 사용하는 프로그램의 경우 데이터를 다 안들고 있으므로 서버가 필요\n",
    "    - 클라이언트가 프로그램을 담기 위한 성능이 부족하기에 클라이언트가 데이터 처리에 버거울 수 있음\n",
    "    - 클라이언트는 화면만 보여주고, 서버에서 연산을 진행\n",
    "---  \n",
    "restful\n",
    "- api 서버가 상당히 많은데, 개발자마자 코드가 다른데, 어떤 사람은 클라에서 서버로 데이터를 보내는데, 3 + 7을 보내는 사람이 있고, +를 보낸 다음 3과 7을 보내는 사람이 있음\n",
    "- 이럴 경우 두 가지 유형을 둘 다 구현해야 하는데 비횽율적\n",
    "- 통일된 규칙을 만들자하여 나온 것이 restful\n",
    "---  \n",
    "restful란\n",
    "- https://nesoy.github.io/articles/2017-02/REST\n",
    "- post :  ~/member/1 post : 첫번째 멤버 조회\n",
    "- get : ~/member/1 get : 첫번째 멤버 조회 * post와 유사하지만 post는 서버 값이나 상태를 바꾸기 위해 사용, get은 select적 성향\n",
    "- put :  ~/member/1 put : 첫번째 멤버 데이터 수정\n",
    "- delete :  ~/member/1 delete : 삭제\n",
    "- 단 현업 담당자마자 규칙이 너무 애매할 경우 이러한 restful 방식을 고수하지 않고 자유로운 형태로 구현하는 경우도 있음\n",
    "    - ex) id & pw -> 맞는지 -> 틀릴 경우 조회수 + 1 인데 get인지 put인지 애매함, 이럴 경우 post를 쓰는 경우도 있음\n",
    "    \n"
   ]
  },
  {
   "cell_type": "code",
   "execution_count": null,
   "id": "21414039",
   "metadata": {},
   "outputs": [],
   "source": []
  }
 ],
 "metadata": {
  "kernelspec": {
   "display_name": "Python 3",
   "language": "python",
   "name": "python3"
  },
  "language_info": {
   "codemirror_mode": {
    "name": "ipython",
    "version": 3
   },
   "file_extension": ".py",
   "mimetype": "text/x-python",
   "name": "python",
   "nbconvert_exporter": "python",
   "pygments_lexer": "ipython3",
   "version": "3.8.3"
  },
  "toc": {
   "base_numbering": 1,
   "nav_menu": {},
   "number_sections": true,
   "sideBar": true,
   "skip_h1_title": false,
   "title_cell": "Table of Contents",
   "title_sidebar": "Contents",
   "toc_cell": false,
   "toc_position": {},
   "toc_section_display": true,
   "toc_window_display": false
  }
 },
 "nbformat": 4,
 "nbformat_minor": 5
}
