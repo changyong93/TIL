{
  "nbformat": 4,
  "nbformat_minor": 0,
  "metadata": {
    "colab": {
      "name": "02. 파이토치 기초 - 02. 텐서 조작하기(Tensor Manipluation) 1 / 2",
      "provenance": [],
      "toc_visible": true
    },
    "kernelspec": {
      "name": "python3",
      "display_name": "Python 3"
    },
    "language_info": {
      "name": "python"
    }
  },
  "cells": [
    {
      "cell_type": "code",
      "metadata": {
        "id": "cfWzNyNIvR3U"
      },
      "source": [
        "import numpy as np"
      ],
      "execution_count": 2,
      "outputs": []
    },
    {
      "cell_type": "markdown",
      "metadata": {
        "id": "lDbAxRtCxVMX"
      },
      "source": [
        "#1D with Numpy"
      ]
    },
    {
      "cell_type": "markdown",
      "metadata": {
        "id": "chvCKmSBxwvv"
      },
      "source": [
        "List를 생성하여 np.array로 1차원 array로 변환"
      ]
    },
    {
      "cell_type": "code",
      "metadata": {
        "colab": {
          "base_uri": "https://localhost:8080/"
        },
        "id": "xCLyN-RRxZgg",
        "outputId": "409c751a-d310-4d66-d48d-12270d72d22f"
      },
      "source": [
        "t = np.array([0,1,2,3,4,5,6], dtype = float)\n",
        "print(t)"
      ],
      "execution_count": 13,
      "outputs": [
        {
          "output_type": "stream",
          "text": [
            "[0. 1. 2. 3. 4. 5. 6.]\n"
          ],
          "name": "stdout"
        }
      ]
    },
    {
      "cell_type": "markdown",
      "metadata": {
        "id": "SNLD01kix3_u"
      },
      "source": [
        "이제 1차원 텐서의 벡터 차원 및 크기 출력"
      ]
    },
    {
      "cell_type": "code",
      "metadata": {
        "colab": {
          "base_uri": "https://localhost:8080/"
        },
        "id": "c9ignWZIx7AH",
        "outputId": "62406b83-8b24-4e8d-8912-87ac1d8bde2b"
      },
      "source": [
        "print(\"Rank of t: \", t.ndim) \n",
        "print(\"Shape of t: \", t.shape)"
      ],
      "execution_count": 14,
      "outputs": [
        {
          "output_type": "stream",
          "text": [
            "Rank of t:  1\n",
            "Shape of t:  (7,)\n"
          ],
          "name": "stdout"
        }
      ]
    },
    {
      "cell_type": "markdown",
      "metadata": {
        "id": "uTPY7en0yAPj"
      },
      "source": [
        "- ndim은 차원의 크기로, 3이면 3D Tensor, 2면 2D 텐서\n",
        "- shape은 데이터 크기로, (7,)은 (1,7)을 의미. 즉 1 x 7의 크기를 가지는 벡터"
      ]
    },
    {
      "cell_type": "markdown",
      "metadata": {
        "id": "hPD_HwsSyYwl"
      },
      "source": [
        "# 2D with numpy"
      ]
    },
    {
      "cell_type": "code",
      "metadata": {
        "colab": {
          "base_uri": "https://localhost:8080/"
        },
        "id": "qQuQhepXyg3H",
        "outputId": "575319f7-5d79-464a-dae0-b75d33fbfa49"
      },
      "source": [
        "t = np.array([[1,2,3],[4,5,6,],[7,8,9],[10,11,12]], dtype = float)\n",
        "print(t)"
      ],
      "execution_count": 15,
      "outputs": [
        {
          "output_type": "stream",
          "text": [
            "[[ 1.  2.  3.]\n",
            " [ 4.  5.  6.]\n",
            " [ 7.  8.  9.]\n",
            " [10. 11. 12.]]\n"
          ],
          "name": "stdout"
        }
      ]
    },
    {
      "cell_type": "code",
      "metadata": {
        "colab": {
          "base_uri": "https://localhost:8080/"
        },
        "id": "d1PKab9OynAw",
        "outputId": "545dd55f-8a21-45b1-f2c6-e9961d63f67d"
      },
      "source": [
        "print(\"Rank of t: \", t.ndim) \n",
        "print(\"Shape of t: \", t.shape)"
      ],
      "execution_count": 16,
      "outputs": [
        {
          "output_type": "stream",
          "text": [
            "Rank of t:  2\n",
            "Shape of t:  (4, 3)\n"
          ],
          "name": "stdout"
        }
      ]
    },
    {
      "cell_type": "markdown",
      "metadata": {
        "id": "j9kJWr5Dyo9i"
      },
      "source": [
        "# 파이토치 텐서 선언하기(Pytorch Tensor Allocation)"
      ]
    },
    {
      "cell_type": "code",
      "metadata": {
        "id": "IczcjO_zyuD8"
      },
      "source": [
        "import torch"
      ],
      "execution_count": 18,
      "outputs": []
    },
    {
      "cell_type": "markdown",
      "metadata": {
        "id": "BfPC8iy4yz8b"
      },
      "source": [
        "## 1D with Pytorch"
      ]
    },
    {
      "cell_type": "code",
      "metadata": {
        "colab": {
          "base_uri": "https://localhost:8080/"
        },
        "id": "KBUsL3z3y3pS",
        "outputId": "d94fa857-a18f-411e-ee94-f4ad35e1b21d"
      },
      "source": [
        "t = torch.FloatTensor([0,1,2,3,4,5,6])\n",
        "t"
      ],
      "execution_count": 22,
      "outputs": [
        {
          "output_type": "execute_result",
          "data": {
            "text/plain": [
              "tensor([0., 1., 2., 3., 4., 5., 6.])"
            ]
          },
          "metadata": {
            "tags": []
          },
          "execution_count": 22
        }
      ]
    },
    {
      "cell_type": "code",
      "metadata": {
        "colab": {
          "base_uri": "https://localhost:8080/"
        },
        "id": "rKbplGZazCeE",
        "outputId": "2b730666-3bec-4dad-c433-ba167084680a"
      },
      "source": [
        "print(t.dim())  # rank. 즉, 차원\n",
        "print(t.shape)  # shape\n",
        "print(t.size()) # shape"
      ],
      "execution_count": 23,
      "outputs": [
        {
          "output_type": "stream",
          "text": [
            "1\n",
            "torch.Size([7])\n",
            "torch.Size([7])\n"
          ],
          "name": "stdout"
        }
      ]
    },
    {
      "cell_type": "code",
      "metadata": {
        "colab": {
          "base_uri": "https://localhost:8080/"
        },
        "id": "pm0abvk_zEEX",
        "outputId": "a32b1e5d-66d8-44d2-80ff-a240b6a2acc6"
      },
      "source": [
        "print(t[0], t[1], t[-1])  # 인덱스로 접근\n",
        "print(t[2:5], t[4:-1])    # 슬라이싱\n",
        "print(t[:2], t[3:])       # 슬라이싱"
      ],
      "execution_count": 24,
      "outputs": [
        {
          "output_type": "stream",
          "text": [
            "tensor(0.) tensor(1.) tensor(6.)\n",
            "tensor([2., 3., 4.]) tensor([4., 5.])\n",
            "tensor([0., 1.]) tensor([3., 4., 5., 6.])\n"
          ],
          "name": "stdout"
        }
      ]
    },
    {
      "cell_type": "markdown",
      "metadata": {
        "id": "c3PlK2tozIVS"
      },
      "source": [
        "## 2D with PyTorch"
      ]
    },
    {
      "cell_type": "code",
      "metadata": {
        "colab": {
          "base_uri": "https://localhost:8080/"
        },
        "id": "GtPbImy7zKs2",
        "outputId": "e06b59f9-728d-4caf-a4cd-1614529b1ddf"
      },
      "source": [
        "t = torch.FloatTensor([[1,2,3],[4,5,6,],[7,8,9],[10,11,12]])\n",
        "print(t)"
      ],
      "execution_count": 28,
      "outputs": [
        {
          "output_type": "stream",
          "text": [
            "tensor([[ 1.,  2.,  3.],\n",
            "        [ 4.,  5.,  6.],\n",
            "        [ 7.,  8.,  9.],\n",
            "        [10., 11., 12.]])\n"
          ],
          "name": "stdout"
        }
      ]
    },
    {
      "cell_type": "code",
      "metadata": {
        "colab": {
          "base_uri": "https://localhost:8080/"
        },
        "id": "Lnp5nli1zPxn",
        "outputId": "b3987606-8087-4a41-a7b2-f63649f446c3"
      },
      "source": [
        "print(t.dim())  # rank. 즉, 차원\n",
        "print(t.size()) # shape"
      ],
      "execution_count": 30,
      "outputs": [
        {
          "output_type": "stream",
          "text": [
            "2\n",
            "torch.Size([4, 3])\n"
          ],
          "name": "stdout"
        }
      ]
    },
    {
      "cell_type": "markdown",
      "metadata": {
        "id": "Tj-O_ARDzTVe"
      },
      "source": [
        "2차원 텐서이며, (4,3)의 크기를 가짐"
      ]
    },
    {
      "cell_type": "markdown",
      "metadata": {
        "id": "AzR_XO02ziZO"
      },
      "source": [
        "## 브로드캐스팅(BroadCasting)"
      ]
    },
    {
      "cell_type": "markdown",
      "metadata": {
        "id": "5DhD42JBzpQP"
      },
      "source": [
        "- 행렬의 덧셈, 곱셈을 수행 시 두 행렬의 크기가 같아야 하며, 곱셈 시 두 차원이 일치해야 함\n",
        "- 단, 딥러닝을 하게 되면, 불가피하게 크기가 다른 행렬 또는 텐서에 대해 사칙연산을 수행할 필요가 생김\n",
        "- 이를 위해 자동으로 크기를 맞춰 연산을 수행해주는 **브로드캐스팅**이라는 기능 제공"
      ]
    },
    {
      "cell_type": "code",
      "metadata": {
        "colab": {
          "base_uri": "https://localhost:8080/"
        },
        "id": "HAMI1l5o0G0Y",
        "outputId": "15e16d52-2775-4eec-b59e-e0605ad58594"
      },
      "source": [
        "m1 = torch.FloatTensor([[3, 3]])\n",
        "m2 = torch.FloatTensor([[2, 2]])\n",
        "print(m1,m2)\n",
        "print(m1+m2)"
      ],
      "execution_count": 35,
      "outputs": [
        {
          "output_type": "stream",
          "text": [
            "tensor([[3., 3.]]) tensor([[2., 2.]])\n",
            "tensor([[5., 5.]])\n"
          ],
          "name": "stdout"
        }
      ]
    },
    {
      "cell_type": "markdown",
      "metadata": {
        "id": "op-ZWBfR0Lh_"
      },
      "source": [
        "두 텐서의 크기는 둘 다 (1,2)로 덧셈 연산은 문제가 없음"
      ]
    },
    {
      "cell_type": "code",
      "metadata": {
        "colab": {
          "base_uri": "https://localhost:8080/"
        },
        "id": "8BepoiI10R2F",
        "outputId": "5810305b-1e41-496d-dce2-961df3220830"
      },
      "source": [
        "m1 = torch.FloatTensor([[1, 2]])\n",
        "m2 = torch.FloatTensor([[3]])\n",
        "print(m1,m2)\n",
        "print(m1+m2)"
      ],
      "execution_count": 37,
      "outputs": [
        {
          "output_type": "stream",
          "text": [
            "tensor([[1., 2.]]) tensor([[3.]])\n",
            "tensor([[4., 5.]])\n"
          ],
          "name": "stdout"
        }
      ]
    },
    {
      "cell_type": "markdown",
      "metadata": {
        "id": "GXZSJWW00Usg"
      },
      "source": [
        "m2의 크기가 (1,)인데 파이토치는 (1,2)로 변경하여 연산을 수행\n",
        "\n",
        "---\n",
        "\n",
        "이번엔 2차원 텐서를 대상으로 브로드캐스팅 적용"
      ]
    },
    {
      "cell_type": "code",
      "metadata": {
        "colab": {
          "base_uri": "https://localhost:8080/"
        },
        "id": "5eM4L3Vh0nSU",
        "outputId": "1e5d4f2b-592a-4e12-f6ef-d048acf470c5"
      },
      "source": [
        "# 2 x 1 Vector + 1 x 2 Vector\n",
        "m1 = torch.FloatTensor([[1, 2]])\n",
        "m2 = torch.FloatTensor([[3], [4]])\n",
        "print(m1 + m2)"
      ],
      "execution_count": 38,
      "outputs": [
        {
          "output_type": "stream",
          "text": [
            "tensor([[4., 5.],\n",
            "        [5., 6.]])\n"
          ],
          "name": "stdout"
        }
      ]
    },
    {
      "cell_type": "markdown",
      "metadata": {
        "id": "kpRxSIPf0odj"
      },
      "source": [
        "- (1,2)인 m1과 (2,1)인 m2를 연산하기 위해 둘 다 (2,2) 크기의 텐서로 자동 변환하여 연산 수행\n",
        "- 이러한 기능은 매우 유용하지만 매우 주의해야 함\n",
        "- **브로드캐스팅은 자동으로 수행되므로 나중에 원하는 결과가 나오지 않는 경우 어디서 문제가 발생했는지 찾기가 매우 힘듦**"
      ]
    },
    {
      "cell_type": "markdown",
      "metadata": {
        "id": "uopNz1J50yIp"
      },
      "source": [
        "## 자주 사용되는 기능들"
      ]
    },
    {
      "cell_type": "markdown",
      "metadata": {
        "id": "SgogHWQv1KIy"
      },
      "source": [
        "### 행렬의 곱셈과 곱셈의 차이(Matrix Multiplication vs Multiplication)\n",
        "---\n",
        "행렬의 곱셈은 두 가지로,\n",
        "- 행렬 곱셈 : numpy와 같은 matmul()\n",
        "- 원소 곱셈 : 원소별 곱셈인 (*) or mul()"
      ]
    },
    {
      "cell_type": "markdown",
      "metadata": {
        "id": "4skwgHDI2LkE"
      },
      "source": [
        "#### Matmul() - 행렬 곱셈"
      ]
    },
    {
      "cell_type": "code",
      "metadata": {
        "colab": {
          "base_uri": "https://localhost:8080/"
        },
        "id": "m1QHx5cH1N1x",
        "outputId": "41732270-7179-4501-fb9c-0cf82064f167"
      },
      "source": [
        "m1 = torch.FloatTensor([[1, 2], [3, 4]])\n",
        "m2 = torch.FloatTensor([[1], [2]])\n",
        "print('Shape of Matrix 1: ', m1.shape) # 2 x 2\n",
        "print('Shape of Matrix 2: ', m2.shape) # 2 x 1\n",
        "print(m1.matmul(m2)) # 2 x 1"
      ],
      "execution_count": 45,
      "outputs": [
        {
          "output_type": "stream",
          "text": [
            "Shape of Matrix 1:  torch.Size([2, 2])\n",
            "Shape of Matrix 2:  torch.Size([2, 1])\n",
            "tensor([[ 5.],\n",
            "        [11.]])\n"
          ],
          "name": "stdout"
        }
      ]
    },
    {
      "cell_type": "markdown",
      "metadata": {
        "id": "ozR3F_MY19Jp"
      },
      "source": [
        "#### Mul() - 원소 곱셈"
      ]
    },
    {
      "cell_type": "code",
      "metadata": {
        "colab": {
          "base_uri": "https://localhost:8080/"
        },
        "id": "T0EbgZb61PmY",
        "outputId": "96dd62e5-584a-4849-f5b2-d2380e447e07"
      },
      "source": [
        "m1 = torch.FloatTensor([[1, 2], [3, 4]])\n",
        "m2 = torch.FloatTensor([[1], [2]])\n",
        "print('Shape of Matrix 1: ', m1.shape) # 2 x 2\n",
        "print('Shape of Matrix 2: ', m2.shape) # 2 x 1\n",
        "print(m1.mul(m2)) # 2 x 2\n",
        "print(m1*m2) # 2 x 2"
      ],
      "execution_count": 48,
      "outputs": [
        {
          "output_type": "stream",
          "text": [
            "Shape of Matrix 1:  torch.Size([2, 2])\n",
            "Shape of Matrix 2:  torch.Size([2, 1])\n",
            "tensor([[1., 2.],\n",
            "        [6., 8.]])\n",
            "tensor([[1., 2.],\n",
            "        [6., 8.]])\n"
          ],
          "name": "stdout"
        }
      ]
    },
    {
      "cell_type": "markdown",
      "metadata": {
        "id": "vvG6yHGI2Xm0"
      },
      "source": [
        "### 평균(Mean)\n",
        "---\n",
        "numpy의 mean과 매우 유사"
      ]
    },
    {
      "cell_type": "code",
      "metadata": {
        "colab": {
          "base_uri": "https://localhost:8080/"
        },
        "id": "NHr5uvtx2d_G",
        "outputId": "44e83e8d-af0c-4780-d1b3-5710272282c6"
      },
      "source": [
        "t = torch.FloatTensor([1, 2])\n",
        "print(t.mean())"
      ],
      "execution_count": 50,
      "outputs": [
        {
          "output_type": "stream",
          "text": [
            "tensor(1.5000)\n"
          ],
          "name": "stdout"
        }
      ]
    },
    {
      "cell_type": "code",
      "metadata": {
        "colab": {
          "base_uri": "https://localhost:8080/"
        },
        "id": "V3uR72Up2i2D",
        "outputId": "41ec3086-fdc0-48f0-cb0a-0c851170662d"
      },
      "source": [
        "t = torch.FloatTensor([[1, 2], [3, 4]])\n",
        "print(t)"
      ],
      "execution_count": 51,
      "outputs": [
        {
          "output_type": "stream",
          "text": [
            "tensor([[1., 2.],\n",
            "        [3., 4.]])\n"
          ],
          "name": "stdout"
        }
      ]
    },
    {
      "cell_type": "markdown",
      "metadata": {
        "id": "iSGqG4ET2y33"
      },
      "source": [
        "여기서 열단위 혹은 행단위로 평균을 구할 수도 있음"
      ]
    },
    {
      "cell_type": "code",
      "metadata": {
        "colab": {
          "base_uri": "https://localhost:8080/"
        },
        "id": "0NPRA9IE23MA",
        "outputId": "394629d3-8664-4cbd-e6db-fa9a8e07aac9"
      },
      "source": [
        "print(\"행 단위(dim = 0)\",t.mean(dim = 0)) #행 단위\n",
        "print(\"열 단위(dim = 1)\",t.mean(dim = 1)) #열 단위\n",
        "print(\"마지막 차원 단위(dim = -1)\",t.mean(dim = -1)) #마지막 차원 방향"
      ],
      "execution_count": 56,
      "outputs": [
        {
          "output_type": "stream",
          "text": [
            "행 단위(dim = 0) tensor([2., 3.])\n",
            "열 단위(dim = 1) tensor([1.5000, 3.5000])\n",
            "마지막 차원 단위(dim = -1) tensor([1.5000, 3.5000])\n"
          ],
          "name": "stdout"
        }
      ]
    },
    {
      "cell_type": "markdown",
      "metadata": {
        "id": "V1owABP-25ni"
      },
      "source": [
        "### 덧셈(sum)\n",
        "---\n",
        "평균과 동일하게 동작하며, 평균이 아닌 값을 덧셈"
      ]
    },
    {
      "cell_type": "code",
      "metadata": {
        "colab": {
          "base_uri": "https://localhost:8080/"
        },
        "id": "KrUkJxIB3doY",
        "outputId": "a23a0368-f1e1-4c87-bb55-932873c4d7fa"
      },
      "source": [
        "t = torch.FloatTensor([[1, 2], [3, 4]])\n",
        "print(t)"
      ],
      "execution_count": 57,
      "outputs": [
        {
          "output_type": "stream",
          "text": [
            "tensor([[1., 2.],\n",
            "        [3., 4.]])\n"
          ],
          "name": "stdout"
        }
      ]
    },
    {
      "cell_type": "code",
      "metadata": {
        "colab": {
          "base_uri": "https://localhost:8080/"
        },
        "id": "QbKyacaY3es-",
        "outputId": "6943868e-2a0a-4486-a81b-354d56857507"
      },
      "source": [
        "print(t.sum()) # 원소 전체\n",
        "print(t.sum(dim=0)) # 행 단위\n",
        "print(t.sum(dim=1)) # 열 단위\n",
        "print(t.sum(dim=-1)) # 마지막 차원 단위"
      ],
      "execution_count": 59,
      "outputs": [
        {
          "output_type": "stream",
          "text": [
            "tensor(10.)\n",
            "tensor([4., 6.])\n",
            "tensor([3., 7.])\n",
            "tensor([3., 7.])\n"
          ],
          "name": "stdout"
        }
      ]
    },
    {
      "cell_type": "markdown",
      "metadata": {
        "id": "aj0b5Q-P3o4w"
      },
      "source": [
        "### 최대 or 최소 값"
      ]
    },
    {
      "cell_type": "code",
      "metadata": {
        "colab": {
          "base_uri": "https://localhost:8080/"
        },
        "id": "EsbyD1Ws3tLs",
        "outputId": "be23a1dc-8b80-49b0-ae51-08396334c2a9"
      },
      "source": [
        "t = torch.FloatTensor([[1, 2], [3, 4]])\n",
        "print(t)"
      ],
      "execution_count": 60,
      "outputs": [
        {
          "output_type": "stream",
          "text": [
            "tensor([[1., 2.],\n",
            "        [3., 4.]])\n"
          ],
          "name": "stdout"
        }
      ]
    },
    {
      "cell_type": "code",
      "metadata": {
        "colab": {
          "base_uri": "https://localhost:8080/"
        },
        "id": "Mn2xg5oX3ujv",
        "outputId": "fc677a82-33de-43d3-905c-496531babe0e"
      },
      "source": [
        "print(t.max()) #전체 중 최대 값\n",
        "print(\"*\"*30)\n",
        "print(t.max(dim=0)) #행 기준 최대 값\n",
        "print(\"*\"*30)\n",
        "print(t.max(dim=1)) #열 기준 최대 값"
      ],
      "execution_count": 62,
      "outputs": [
        {
          "output_type": "stream",
          "text": [
            "tensor(4.)\n",
            "******************************\n",
            "torch.return_types.max(\n",
            "values=tensor([3., 4.]),\n",
            "indices=tensor([1, 1]))\n",
            "******************************\n",
            "torch.return_types.max(\n",
            "values=tensor([2., 4.]),\n",
            "indices=tensor([1, 1]))\n"
          ],
          "name": "stdout"
        }
      ]
    },
    {
      "cell_type": "markdown",
      "metadata": {
        "id": "4VOfFoDd373_"
      },
      "source": [
        "- 특정 dim을 지정한 경우, 찾는 영역에서의 최대 값과 그 index값이 출력됨\n",
        "- armax값을 받아오고자 할 경우 아래와 같음"
      ]
    },
    {
      "cell_type": "code",
      "metadata": {
        "colab": {
          "base_uri": "https://localhost:8080/"
        },
        "id": "DOrQtM6O4TU2",
        "outputId": "fe41d5fe-8b41-4a11-eb8b-01b6b0324f43"
      },
      "source": [
        "print(t.max(dim=0))\n",
        "print(\"*\"*30)\n",
        "print(t.max(dim=0)[1])\n",
        "print(\"*\"*30)\n",
        "print(t.max(dim=0)[1][0])"
      ],
      "execution_count": 68,
      "outputs": [
        {
          "output_type": "stream",
          "text": [
            "torch.return_types.max(\n",
            "values=tensor([3., 4.]),\n",
            "indices=tensor([1, 1]))\n",
            "******************************\n",
            "tensor([1, 1])\n",
            "******************************\n",
            "tensor(1)\n"
          ],
          "name": "stdout"
        }
      ]
    }
  ]
}