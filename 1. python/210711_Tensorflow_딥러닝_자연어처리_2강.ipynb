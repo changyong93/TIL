{
  "nbformat": 4,
  "nbformat_minor": 0,
  "metadata": {
    "colab": {
      "name": "210711_Tensorflow_딥러닝_자연어처리_2강",
      "provenance": [],
      "toc_visible": true,
      "authorship_tag": "ABX9TyNguqlyTbbRjOwnC1zzmVst",
      "include_colab_link": true
    },
    "kernelspec": {
      "name": "python3",
      "display_name": "Python 3"
    },
    "language_info": {
      "name": "python"
    },
    "accelerator": "GPU"
  },
  "cells": [
    {
      "cell_type": "markdown",
      "metadata": {
        "id": "view-in-github",
        "colab_type": "text"
      },
      "source": [
        "<a href=\"https://colab.research.google.com/github/changyong93/TIL/blob/main/1.%20python/210711_Tensorflow_%EB%94%A5%EB%9F%AC%EB%8B%9D_%EC%9E%90%EC%97%B0%EC%96%B4%EC%B2%98%EB%A6%AC_2%EA%B0%95.ipynb\" target=\"_parent\"><img src=\"https://colab.research.google.com/assets/colab-badge.svg\" alt=\"Open In Colab\"/></a>"
      ]
    },
    {
      "cell_type": "markdown",
      "metadata": {
        "id": "HMKd0Ol6y3pz"
      },
      "source": [
        "# 선형회귀 구현"
      ]
    },
    {
      "cell_type": "markdown",
      "metadata": {
        "id": "HduzDQdgxT8w"
      },
      "source": [
        "## 자동 미분을 이용한 선형 회귀 구현"
      ]
    },
    {
      "cell_type": "markdown",
      "metadata": {
        "id": "nSWtWZYOxYOV"
      },
      "source": [
        "### 자동 미분"
      ]
    },
    {
      "cell_type": "code",
      "metadata": {
        "id": "52Xcg72Qxb54"
      },
      "source": [
        "import tensorflow as tf"
      ],
      "execution_count": null,
      "outputs": []
    },
    {
      "cell_type": "markdown",
      "metadata": {
        "id": "yZhuYXg2zUKC"
      },
      "source": [
        "tape_gradient()는 자동 미분 기능을 수행. 임의로 2w^2+5라는 식을 세워보고 w에 대해 미분"
      ]
    },
    {
      "cell_type": "code",
      "metadata": {
        "id": "lWfox1BFxdd3"
      },
      "source": [
        "w = tf.Variable(2.)\n",
        "# tensorflow type으로 변수 선언\n",
        "# tensor(텐서)를 메모리에 저장하는 변수\n",
        "\n",
        "def f(w):\n",
        "    y = w**2\n",
        "    z = 2*y + 5\n",
        "    return z"
      ],
      "execution_count": null,
      "outputs": []
    },
    {
      "cell_type": "markdown",
      "metadata": {
        "id": "nDXXInySxjtB"
      },
      "source": [
        "이제 gradients를 출력하면 w에 대한 미분한 값이 저장된 것을 확인할 수 있음"
      ]
    },
    {
      "cell_type": "code",
      "metadata": {
        "colab": {
          "base_uri": "https://localhost:8080/"
        },
        "id": "pfDlgtk4yOsW",
        "outputId": "cf4b4f7a-4eae-4563-8710-d8c6ee9847ab"
      },
      "source": [
        "# tf.GradientTape는 컨텍스트(context) 안에서 실행된 모든 연산을 테이프(tape)에 \"기록\"\n",
        "# https://www.tensorflow.org/guide/autodiff?hl=ko\n",
        "\n",
        "with tf.GradientTape() as tape:\n",
        "    z = f(w)\n",
        "\n",
        "gradients = tape.gradient(z, [w])\n",
        "# z를 w에 대해 미분을 하는데, 이때 w가 2일 때의 미분 값을 출력\n",
        "print(gradients)"
      ],
      "execution_count": null,
      "outputs": [
        {
          "output_type": "stream",
          "text": [
            "[<tf.Tensor: shape=(), dtype=float32, numpy=8.0>]\n"
          ],
          "name": "stdout"
        }
      ]
    },
    {
      "cell_type": "markdown",
      "metadata": {
        "id": "fY7k86gn0DWa"
      },
      "source": [
        "### 선형 회귀 구현하기"
      ]
    },
    {
      "cell_type": "code",
      "metadata": {
        "colab": {
          "base_uri": "https://localhost:8080/"
        },
        "id": "RO5kanC92CSJ",
        "outputId": "24dca0f4-6e2d-4a72-ab8b-7232e61a1377"
      },
      "source": [
        "# 선형 회귀 모델(Wx+b)를 위한 tf.Variable을 선언합니다\n",
        "W = tf.Variable(tf.random.normal(shape = [1])) #랜덤으로 초기값 지정\n",
        "b = tf.Variable(tf.random.normal(shape = [1])) #랜덤으로 초기값 지정\n",
        "print(W)\n",
        "print(b)"
      ],
      "execution_count": null,
      "outputs": [
        {
          "output_type": "stream",
          "text": [
            "<tf.Variable 'Variable:0' shape=(1,) dtype=float32, numpy=array([-1.091866], dtype=float32)>\n",
            "<tf.Variable 'Variable:0' shape=(1,) dtype=float32, numpy=array([0.16852678], dtype=float32)>\n"
          ],
          "name": "stdout"
        }
      ]
    },
    {
      "cell_type": "markdown",
      "metadata": {
        "id": "5hiWfjsu3f6C"
      },
      "source": [
        "#### 가설 정의\n",
        "---\n",
        "@tf.function을 추가하면 파이썬 코드가 동일한 텐서플로우 코드로 변경되며, 이렇게 하면 성능을 최적화 할 수 있음  \n",
        "모든 파이썬 함수에 tf.funciton 데코레이터를 적용 할 필요는 없음.   \n",
        "모델 훈련의 한 단계(step)나 정방향 연산(forward pass) 같은 고수준 연산에만 tf.function 데코레이터를 적용\n",
        "\n",
        "---\n",
        "데코레이션\n",
        "- http://solarisailab.com/archives/2351 : 텐서플로우 기초 그래프 생성과 실행 설명\n",
        "- https://www.tensorflow.org/guide/function?hl=ko : (정식 문서)\n",
        "- https://www.inflearn.com/questions/174459 : tf.functions 역할 설명(인프런)"
      ]
    },
    {
      "cell_type": "code",
      "metadata": {
        "id": "3w1j9kEABPYK"
      },
      "source": [
        "#여기서 정방향연산은 입력을 넣었을 때 결과를 출력하는 아래 linear_model 함수\n",
        "@tf.function\n",
        "def linear_model(x):\n",
        "    return W*x + b"
      ],
      "execution_count": null,
      "outputs": []
    },
    {
      "cell_type": "markdown",
      "metadata": {
        "id": "5z-pQD7mBT0P"
      },
      "source": [
        "#### 손실 함수 정의"
      ]
    },
    {
      "cell_type": "code",
      "metadata": {
        "id": "6mmzj_dMBW7a"
      },
      "source": [
        "#손실 함수를 정의\n",
        "#MSE 손실함수 사용(mean(y - yy)^2)\n",
        "@tf.function\n",
        "def mse_loss(y_pred,y): #제곱한 값이므로, y와 y' 위치가 바뀌어도 상관없음\n",
        "    return tf.reduce_mean(tf.square(y_pred - y)) #tf.reduce_mean = 평균을 출력해주는 메소드"
      ],
      "execution_count": null,
      "outputs": []
    },
    {
      "cell_type": "markdown",
      "metadata": {
        "id": "EyL69Zf_B0MJ"
      },
      "source": [
        "#### 옵티마이저 정의(경사 하강법)\n",
        "\n",
        "파라미터를 업데이트 하는 한 순간을 step이라고 할 때, 그 한 순간을  정의한 함수를 train_step이라는 이름의 함수로 작성   \n",
        "아래 내용은 이해가 안되면 일단 처음에는 암기를 해도 무방할 만큼, TF2.0에서는 당연하게 사용되는 패턴   \n",
        "앞으로의 강의에서는 이보다도 더 쉬운 keras 패턴을 사용할 예정"
      ]
    },
    {
      "cell_type": "code",
      "metadata": {
        "id": "aOqBUAPNCL14"
      },
      "source": [
        "# 최적화를 위한 그라디언트 디센트 옵티마이저 정의\n",
        "# 사용자가 정한 learning rate 값을 sgd()에 작성\n",
        "optimizer = tf.optimizers.SGD(learning_rate=0.01)\n",
        "\n",
        "# 첫 번째 인자인 x는 입력 데이터\n",
        "# 두 번째 인자인 y는 레이블\n",
        "@tf.function\n",
        "def train_step(x,y):\n",
        "  with tf.GradientTape() as tape:\n",
        "    #현재 파라미터에 기반한 입력 x에 대한 예측값을 y_pred\n",
        "    y_pred = linear_model(x)\n",
        "    \n",
        "    #MSE 계산\n",
        "    loss = mse_loss(y_pred,y)\n",
        "\n",
        "  #손실 함수에 대한 파라미터의 미분값 계산\n",
        "  gradients = tape.gradient(loss,[W,b]) #loss를 W와 b에 대해서 미분\n",
        "\n",
        "  #파라미터 업데이트\n",
        "  optimizer.apply_gradients(zip(gradients, [W,b])) #미분한 값을 기준으로 W,b를 업데이트"
      ],
      "execution_count": null,
      "outputs": []
    },
    {
      "cell_type": "code",
      "metadata": {
        "colab": {
          "base_uri": "https://localhost:8080/"
        },
        "id": "3xQSnc80EUF1",
        "outputId": "f6097129-ff50-4a74-d7c4-5a282126a7ce"
      },
      "source": [
        "# 트레이닝을 위한 입력값과 출력값 준비\n",
        "x_train = [1,2,3,4]\n",
        "y_train = [2,4,6,8]\n",
        "\n",
        "# 경사하강법을 1000번 수행\n",
        "for i in range(1000):\n",
        "  if (i+1) % 100 == 0:\n",
        "    print(i+1, \"회 학습\")\n",
        "  train_step(x_train,y_train)\n",
        "\n",
        "# 테스트를 위한 입력값을 준비\n",
        "x_test = [3.5, 5, 5.5, 6]\n",
        "# 테스트 데이터를 이요해 학습된 선형회귀 모델이 데이터의 경향성(y = 2x)을 잘 학습했는지 측정\n",
        "\n",
        "# 예상되는 참값 : [7, 10, 11, 12]\n",
        "# print(linear_model(x_test))\n",
        "print(linear_model(x_test).numpy())"
      ],
      "execution_count": null,
      "outputs": [
        {
          "output_type": "stream",
          "text": [
            "100 회 학습\n",
            "200 회 학습\n",
            "300 회 학습\n",
            "400 회 학습\n",
            "500 회 학습\n",
            "600 회 학습\n",
            "700 회 학습\n",
            "800 회 학습\n",
            "900 회 학습\n",
            "1000 회 학습\n",
            "[ 6.9896154  9.961792  10.9525175 11.943244 ]\n"
          ],
          "name": "stdout"
        }
      ]
    },
    {
      "cell_type": "markdown",
      "metadata": {
        "id": "_Ay1UfkjxWPo"
      },
      "source": [
        "## 케라스를 이용한 선형 회귀 구현"
      ]
    },
    {
      "cell_type": "code",
      "metadata": {
        "id": "OPtR5-nk014O"
      },
      "source": [
        "import numpy as np\n",
        "from tensorflow.keras.models import Sequential\n",
        "from tensorflow.keras.layers import Dense\n",
        "from tensorflow.keras import optimizers"
      ],
      "execution_count": null,
      "outputs": []
    },
    {
      "cell_type": "markdown",
      "metadata": {
        "id": "awSJej2xIgjE"
      },
      "source": [
        "keras 모델을 만드는 방법은 sequential 방법과 functional API 방법이 있다(https://leestation.tistory.com/777, https://subinium.github.io/Keras-7/)\n",
        "- Sequential : 층층이(layer-by-layer) 쌓아 올릴 수 있게 하는 방법\n",
        "  - 대부분의 문제를 해결할 수 있지만, layer를 공유하는 구조나, 다중 입력/출력을 사용하지 못하는 문제가 있다\n",
        "- functional API : layer가 앞/뒤 layer에만 연결된 구조뿐 아니라 훨씬 더 자유자재로 그 구조를 정의하여 사용 가능\n",
        "  - layer들을 어떤 layer에든지 연결하여 사용 가능\n",
        "---\n",
        "- 첫 번째 인자인 1은 출력 차원을 정의\n",
        "- 두 번째 인자인 input_dim은 입력 차원을 정의\n",
        "- 이번 실습과 같이 1개의 실수 x를 가지고 하는 1개의 실수 y를 예측하는 단순 선형 회귀를 구현하는 경우에는 각각 1의 값을 가짐"
      ]
    },
    {
      "cell_type": "code",
      "metadata": {
        "colab": {
          "base_uri": "https://localhost:8080/"
        },
        "id": "Dohd5Mw0GzYv",
        "outputId": "8ad44db9-5c2a-45c6-f1a4-4926ea3a1d3f"
      },
      "source": [
        "X=[1,2,3,4,5,6,7,8,9] # 공부하는 시간\n",
        "y=[11,22,33,44,53,66,77,87,95] # 각 공부하는 시간에 맵핑되는 성적\n",
        "\n",
        "#방식 1)\n",
        "model = Sequential()\n",
        "\n",
        "# 입력 x의 차원은 1, 출력 y의 차원도 1. 선형 회귀이므로 activation은 'linear'\n",
        "#1-1)\n",
        "model.add(Dense(units = 1, input_dim = 1, activation = 'linear'))\n",
        "#1-2)\n",
        "# model.add(Dense(units = 1, input_shape = (1,), activation = 'linear'))\n",
        "\n",
        "#방식 2)\n",
        "# model = Sequential(\n",
        "#     [\n",
        "#      Dense(units = 1, input_dim = 1,activation = 'linear')\n",
        "#     ]\n",
        "# )\n",
        "\n",
        "# sgd는 경하 하강법을 의미. 학습률(learning rate,lr)은 0.01\n",
        "sgd = optimizers.SGD(lr=0.01)\n",
        "\n",
        "\n",
        "# 손실 함수(Loss function)은 평균제곱오차 mse를 사용\n",
        "model.compile(optimizer = sgd, loss = 'mse', metrics = ['mse'])\n",
        "\n",
        "model.fit(X,y, batch_size = 1, epochs = 300, shuffle = False)\n",
        "#shuffle은 batch_size 단위로 섞음\n",
        "#shuffle을 안할 시 입력 데이터 순서까지 학습할 수 있음\n",
        "#일반적으로 데이터 순서가 무의미 하기에 셔플을 적용하지만 수업에선 셔플 옵션이 있다는 것을 보여주기 위해 False를 함"
      ],
      "execution_count": null,
      "outputs": [
        {
          "output_type": "stream",
          "text": [
            "/usr/local/lib/python3.7/dist-packages/tensorflow/python/keras/optimizer_v2/optimizer_v2.py:375: UserWarning: The `lr` argument is deprecated, use `learning_rate` instead.\n",
            "  \"The `lr` argument is deprecated, use `learning_rate` instead.\")\n"
          ],
          "name": "stderr"
        },
        {
          "output_type": "stream",
          "text": [
            "Epoch 1/300\n",
            "9/9 [==============================] - 0s 2ms/step - loss: 308.0792 - mse: 308.0792\n",
            "Epoch 2/300\n",
            "9/9 [==============================] - 0s 1ms/step - loss: 2.1537 - mse: 2.1537\n",
            "Epoch 3/300\n",
            "9/9 [==============================] - 0s 2ms/step - loss: 2.1534 - mse: 2.1534\n",
            "Epoch 4/300\n",
            "9/9 [==============================] - 0s 2ms/step - loss: 2.1532 - mse: 2.1532\n",
            "Epoch 5/300\n",
            "9/9 [==============================] - 0s 2ms/step - loss: 2.1530 - mse: 2.1530\n",
            "Epoch 6/300\n",
            "9/9 [==============================] - 0s 1ms/step - loss: 2.1527 - mse: 2.1527\n",
            "Epoch 7/300\n",
            "9/9 [==============================] - 0s 1ms/step - loss: 2.1525 - mse: 2.1525\n",
            "Epoch 8/300\n",
            "9/9 [==============================] - 0s 2ms/step - loss: 2.1523 - mse: 2.1523\n",
            "Epoch 9/300\n",
            "9/9 [==============================] - 0s 2ms/step - loss: 2.1521 - mse: 2.1521\n",
            "Epoch 10/300\n",
            "9/9 [==============================] - 0s 2ms/step - loss: 2.1519 - mse: 2.1519\n",
            "Epoch 11/300\n",
            "9/9 [==============================] - 0s 2ms/step - loss: 2.1517 - mse: 2.1517\n",
            "Epoch 12/300\n",
            "9/9 [==============================] - 0s 2ms/step - loss: 2.1515 - mse: 2.1515\n",
            "Epoch 13/300\n",
            "9/9 [==============================] - 0s 1ms/step - loss: 2.1513 - mse: 2.1513\n",
            "Epoch 14/300\n",
            "9/9 [==============================] - 0s 1ms/step - loss: 2.1511 - mse: 2.1511\n",
            "Epoch 15/300\n",
            "9/9 [==============================] - 0s 1ms/step - loss: 2.1510 - mse: 2.1510\n",
            "Epoch 16/300\n",
            "9/9 [==============================] - 0s 2ms/step - loss: 2.1508 - mse: 2.1508\n",
            "Epoch 17/300\n",
            "9/9 [==============================] - 0s 1ms/step - loss: 2.1506 - mse: 2.1506\n",
            "Epoch 18/300\n",
            "9/9 [==============================] - 0s 1ms/step - loss: 2.1505 - mse: 2.1505\n",
            "Epoch 19/300\n",
            "9/9 [==============================] - 0s 2ms/step - loss: 2.1504 - mse: 2.1504\n",
            "Epoch 20/300\n",
            "9/9 [==============================] - 0s 2ms/step - loss: 2.1502 - mse: 2.1502\n",
            "Epoch 21/300\n",
            "9/9 [==============================] - 0s 1ms/step - loss: 2.1501 - mse: 2.1501\n",
            "Epoch 22/300\n",
            "9/9 [==============================] - 0s 1ms/step - loss: 2.1499 - mse: 2.1499\n",
            "Epoch 23/300\n",
            "9/9 [==============================] - 0s 2ms/step - loss: 2.1498 - mse: 2.1498\n",
            "Epoch 24/300\n",
            "9/9 [==============================] - 0s 1ms/step - loss: 2.1497 - mse: 2.1497\n",
            "Epoch 25/300\n",
            "9/9 [==============================] - 0s 1ms/step - loss: 2.1496 - mse: 2.1496\n",
            "Epoch 26/300\n",
            "9/9 [==============================] - 0s 1ms/step - loss: 2.1494 - mse: 2.1494\n",
            "Epoch 27/300\n",
            "9/9 [==============================] - 0s 2ms/step - loss: 2.1493 - mse: 2.1493\n",
            "Epoch 28/300\n",
            "9/9 [==============================] - 0s 1ms/step - loss: 2.1492 - mse: 2.1492\n",
            "Epoch 29/300\n",
            "9/9 [==============================] - 0s 1ms/step - loss: 2.1491 - mse: 2.1491\n",
            "Epoch 30/300\n",
            "9/9 [==============================] - 0s 1ms/step - loss: 2.1490 - mse: 2.1490\n",
            "Epoch 31/300\n",
            "9/9 [==============================] - 0s 2ms/step - loss: 2.1489 - mse: 2.1489\n",
            "Epoch 32/300\n",
            "9/9 [==============================] - 0s 1ms/step - loss: 2.1488 - mse: 2.1488\n",
            "Epoch 33/300\n",
            "9/9 [==============================] - 0s 1ms/step - loss: 2.1487 - mse: 2.1487\n",
            "Epoch 34/300\n",
            "9/9 [==============================] - 0s 2ms/step - loss: 2.1486 - mse: 2.1486\n",
            "Epoch 35/300\n",
            "9/9 [==============================] - 0s 1ms/step - loss: 2.1486 - mse: 2.1486\n",
            "Epoch 36/300\n",
            "9/9 [==============================] - 0s 2ms/step - loss: 2.1485 - mse: 2.1485\n",
            "Epoch 37/300\n",
            "9/9 [==============================] - 0s 1ms/step - loss: 2.1484 - mse: 2.1484\n",
            "Epoch 38/300\n",
            "9/9 [==============================] - 0s 1ms/step - loss: 2.1483 - mse: 2.1483\n",
            "Epoch 39/300\n",
            "9/9 [==============================] - 0s 2ms/step - loss: 2.1482 - mse: 2.1482\n",
            "Epoch 40/300\n",
            "9/9 [==============================] - 0s 1ms/step - loss: 2.1482 - mse: 2.1482\n",
            "Epoch 41/300\n",
            "9/9 [==============================] - 0s 2ms/step - loss: 2.1481 - mse: 2.1481\n",
            "Epoch 42/300\n",
            "9/9 [==============================] - 0s 1ms/step - loss: 2.1480 - mse: 2.1480\n",
            "Epoch 43/300\n",
            "9/9 [==============================] - 0s 2ms/step - loss: 2.1480 - mse: 2.1480\n",
            "Epoch 44/300\n",
            "9/9 [==============================] - 0s 1ms/step - loss: 2.1479 - mse: 2.1479\n",
            "Epoch 45/300\n",
            "9/9 [==============================] - 0s 1ms/step - loss: 2.1478 - mse: 2.1478\n",
            "Epoch 46/300\n",
            "9/9 [==============================] - 0s 1ms/step - loss: 2.1478 - mse: 2.1478\n",
            "Epoch 47/300\n",
            "9/9 [==============================] - 0s 1ms/step - loss: 2.1477 - mse: 2.1477\n",
            "Epoch 48/300\n",
            "9/9 [==============================] - 0s 2ms/step - loss: 2.1476 - mse: 2.1476\n",
            "Epoch 49/300\n",
            "9/9 [==============================] - 0s 1ms/step - loss: 2.1476 - mse: 2.1476\n",
            "Epoch 50/300\n",
            "9/9 [==============================] - 0s 1ms/step - loss: 2.1476 - mse: 2.1476\n",
            "Epoch 51/300\n",
            "9/9 [==============================] - 0s 2ms/step - loss: 2.1475 - mse: 2.1475\n",
            "Epoch 52/300\n",
            "9/9 [==============================] - 0s 1ms/step - loss: 2.1475 - mse: 2.1475\n",
            "Epoch 53/300\n",
            "9/9 [==============================] - 0s 2ms/step - loss: 2.1474 - mse: 2.1474\n",
            "Epoch 54/300\n",
            "9/9 [==============================] - 0s 2ms/step - loss: 2.1474 - mse: 2.1474\n",
            "Epoch 55/300\n",
            "9/9 [==============================] - 0s 2ms/step - loss: 2.1473 - mse: 2.1473\n",
            "Epoch 56/300\n",
            "9/9 [==============================] - 0s 2ms/step - loss: 2.1473 - mse: 2.1473\n",
            "Epoch 57/300\n",
            "9/9 [==============================] - 0s 2ms/step - loss: 2.1472 - mse: 2.1472\n",
            "Epoch 58/300\n",
            "9/9 [==============================] - 0s 2ms/step - loss: 2.1472 - mse: 2.1472\n",
            "Epoch 59/300\n",
            "9/9 [==============================] - 0s 2ms/step - loss: 2.1472 - mse: 2.1472\n",
            "Epoch 60/300\n",
            "9/9 [==============================] - 0s 1ms/step - loss: 2.1471 - mse: 2.1471\n",
            "Epoch 61/300\n",
            "9/9 [==============================] - 0s 1ms/step - loss: 2.1471 - mse: 2.1471\n",
            "Epoch 62/300\n",
            "9/9 [==============================] - 0s 2ms/step - loss: 2.1470 - mse: 2.1470\n",
            "Epoch 63/300\n",
            "9/9 [==============================] - 0s 2ms/step - loss: 2.1470 - mse: 2.1470\n",
            "Epoch 64/300\n",
            "9/9 [==============================] - 0s 1ms/step - loss: 2.1470 - mse: 2.1470\n",
            "Epoch 65/300\n",
            "9/9 [==============================] - 0s 1ms/step - loss: 2.1469 - mse: 2.1469\n",
            "Epoch 66/300\n",
            "9/9 [==============================] - 0s 3ms/step - loss: 2.1469 - mse: 2.1469\n",
            "Epoch 67/300\n",
            "9/9 [==============================] - 0s 2ms/step - loss: 2.1469 - mse: 2.1469\n",
            "Epoch 68/300\n",
            "9/9 [==============================] - 0s 2ms/step - loss: 2.1469 - mse: 2.1469\n",
            "Epoch 69/300\n",
            "9/9 [==============================] - 0s 2ms/step - loss: 2.1468 - mse: 2.1468\n",
            "Epoch 70/300\n",
            "9/9 [==============================] - 0s 2ms/step - loss: 2.1468 - mse: 2.1468\n",
            "Epoch 71/300\n",
            "9/9 [==============================] - 0s 2ms/step - loss: 2.1468 - mse: 2.1468\n",
            "Epoch 72/300\n",
            "9/9 [==============================] - 0s 1ms/step - loss: 2.1468 - mse: 2.1468\n",
            "Epoch 73/300\n",
            "9/9 [==============================] - 0s 2ms/step - loss: 2.1467 - mse: 2.1467\n",
            "Epoch 74/300\n",
            "9/9 [==============================] - 0s 2ms/step - loss: 2.1467 - mse: 2.1467\n",
            "Epoch 75/300\n",
            "9/9 [==============================] - 0s 1ms/step - loss: 2.1467 - mse: 2.1467\n",
            "Epoch 76/300\n",
            "9/9 [==============================] - 0s 1ms/step - loss: 2.1467 - mse: 2.1467\n",
            "Epoch 77/300\n",
            "9/9 [==============================] - 0s 1ms/step - loss: 2.1466 - mse: 2.1466\n",
            "Epoch 78/300\n",
            "9/9 [==============================] - 0s 2ms/step - loss: 2.1466 - mse: 2.1466\n",
            "Epoch 79/300\n",
            "9/9 [==============================] - 0s 1ms/step - loss: 2.1466 - mse: 2.1466\n",
            "Epoch 80/300\n",
            "9/9 [==============================] - 0s 1ms/step - loss: 2.1466 - mse: 2.1466\n",
            "Epoch 81/300\n",
            "9/9 [==============================] - 0s 1ms/step - loss: 2.1466 - mse: 2.1466\n",
            "Epoch 82/300\n",
            "9/9 [==============================] - 0s 1ms/step - loss: 2.1465 - mse: 2.1465\n",
            "Epoch 83/300\n",
            "9/9 [==============================] - 0s 2ms/step - loss: 2.1465 - mse: 2.1465\n",
            "Epoch 84/300\n",
            "9/9 [==============================] - 0s 2ms/step - loss: 2.1465 - mse: 2.1465\n",
            "Epoch 85/300\n",
            "9/9 [==============================] - 0s 2ms/step - loss: 2.1465 - mse: 2.1465\n",
            "Epoch 86/300\n",
            "9/9 [==============================] - 0s 1ms/step - loss: 2.1465 - mse: 2.1465\n",
            "Epoch 87/300\n",
            "9/9 [==============================] - 0s 1ms/step - loss: 2.1465 - mse: 2.1465\n",
            "Epoch 88/300\n",
            "9/9 [==============================] - 0s 1ms/step - loss: 2.1464 - mse: 2.1464\n",
            "Epoch 89/300\n",
            "9/9 [==============================] - 0s 1ms/step - loss: 2.1464 - mse: 2.1464\n",
            "Epoch 90/300\n",
            "9/9 [==============================] - 0s 2ms/step - loss: 2.1464 - mse: 2.1464\n",
            "Epoch 91/300\n",
            "9/9 [==============================] - 0s 2ms/step - loss: 2.1464 - mse: 2.1464\n",
            "Epoch 92/300\n",
            "9/9 [==============================] - 0s 1ms/step - loss: 2.1464 - mse: 2.1464\n",
            "Epoch 93/300\n",
            "9/9 [==============================] - 0s 2ms/step - loss: 2.1464 - mse: 2.1464\n",
            "Epoch 94/300\n",
            "9/9 [==============================] - 0s 2ms/step - loss: 2.1464 - mse: 2.1464\n",
            "Epoch 95/300\n",
            "9/9 [==============================] - 0s 2ms/step - loss: 2.1464 - mse: 2.1464\n",
            "Epoch 96/300\n",
            "9/9 [==============================] - 0s 2ms/step - loss: 2.1463 - mse: 2.1463\n",
            "Epoch 97/300\n",
            "9/9 [==============================] - 0s 2ms/step - loss: 2.1463 - mse: 2.1463\n",
            "Epoch 98/300\n",
            "9/9 [==============================] - 0s 2ms/step - loss: 2.1463 - mse: 2.1463\n",
            "Epoch 99/300\n",
            "9/9 [==============================] - 0s 1ms/step - loss: 2.1463 - mse: 2.1463\n",
            "Epoch 100/300\n",
            "9/9 [==============================] - 0s 1ms/step - loss: 2.1463 - mse: 2.1463\n",
            "Epoch 101/300\n",
            "9/9 [==============================] - 0s 1ms/step - loss: 2.1463 - mse: 2.1463\n",
            "Epoch 102/300\n",
            "9/9 [==============================] - 0s 2ms/step - loss: 2.1463 - mse: 2.1463\n",
            "Epoch 103/300\n",
            "9/9 [==============================] - 0s 1ms/step - loss: 2.1463 - mse: 2.1463\n",
            "Epoch 104/300\n",
            "9/9 [==============================] - 0s 2ms/step - loss: 2.1463 - mse: 2.1463\n",
            "Epoch 105/300\n",
            "9/9 [==============================] - 0s 2ms/step - loss: 2.1463 - mse: 2.1463\n",
            "Epoch 106/300\n",
            "9/9 [==============================] - 0s 2ms/step - loss: 2.1463 - mse: 2.1463\n",
            "Epoch 107/300\n",
            "9/9 [==============================] - 0s 2ms/step - loss: 2.1462 - mse: 2.1462\n",
            "Epoch 108/300\n",
            "9/9 [==============================] - 0s 2ms/step - loss: 2.1462 - mse: 2.1462\n",
            "Epoch 109/300\n",
            "9/9 [==============================] - 0s 2ms/step - loss: 2.1462 - mse: 2.1462\n",
            "Epoch 110/300\n",
            "9/9 [==============================] - 0s 2ms/step - loss: 2.1462 - mse: 2.1462\n",
            "Epoch 111/300\n",
            "9/9 [==============================] - 0s 1ms/step - loss: 2.1462 - mse: 2.1462\n",
            "Epoch 112/300\n",
            "9/9 [==============================] - 0s 1ms/step - loss: 2.1462 - mse: 2.1462\n",
            "Epoch 113/300\n",
            "9/9 [==============================] - 0s 2ms/step - loss: 2.1462 - mse: 2.1462\n",
            "Epoch 114/300\n",
            "9/9 [==============================] - 0s 2ms/step - loss: 2.1462 - mse: 2.1462\n",
            "Epoch 115/300\n",
            "9/9 [==============================] - 0s 2ms/step - loss: 2.1462 - mse: 2.1462\n",
            "Epoch 116/300\n",
            "9/9 [==============================] - 0s 1ms/step - loss: 2.1462 - mse: 2.1462\n",
            "Epoch 117/300\n",
            "9/9 [==============================] - 0s 2ms/step - loss: 2.1462 - mse: 2.1462\n",
            "Epoch 118/300\n",
            "9/9 [==============================] - 0s 2ms/step - loss: 2.1462 - mse: 2.1462\n",
            "Epoch 119/300\n",
            "9/9 [==============================] - 0s 2ms/step - loss: 2.1462 - mse: 2.1462\n",
            "Epoch 120/300\n",
            "9/9 [==============================] - 0s 2ms/step - loss: 2.1462 - mse: 2.1462\n",
            "Epoch 121/300\n",
            "9/9 [==============================] - 0s 2ms/step - loss: 2.1462 - mse: 2.1462\n",
            "Epoch 122/300\n",
            "9/9 [==============================] - 0s 1ms/step - loss: 2.1462 - mse: 2.1462\n",
            "Epoch 123/300\n",
            "9/9 [==============================] - 0s 2ms/step - loss: 2.1462 - mse: 2.1462\n",
            "Epoch 124/300\n",
            "9/9 [==============================] - 0s 2ms/step - loss: 2.1462 - mse: 2.1462\n",
            "Epoch 125/300\n",
            "9/9 [==============================] - 0s 2ms/step - loss: 2.1461 - mse: 2.1461\n",
            "Epoch 126/300\n",
            "9/9 [==============================] - 0s 2ms/step - loss: 2.1461 - mse: 2.1461\n",
            "Epoch 127/300\n",
            "9/9 [==============================] - 0s 1ms/step - loss: 2.1461 - mse: 2.1461\n",
            "Epoch 128/300\n",
            "9/9 [==============================] - 0s 2ms/step - loss: 2.1461 - mse: 2.1461\n",
            "Epoch 129/300\n",
            "9/9 [==============================] - 0s 2ms/step - loss: 2.1461 - mse: 2.1461\n",
            "Epoch 130/300\n",
            "9/9 [==============================] - 0s 2ms/step - loss: 2.1461 - mse: 2.1461\n",
            "Epoch 131/300\n",
            "9/9 [==============================] - 0s 2ms/step - loss: 2.1461 - mse: 2.1461\n",
            "Epoch 132/300\n",
            "9/9 [==============================] - 0s 1ms/step - loss: 2.1461 - mse: 2.1461\n",
            "Epoch 133/300\n",
            "9/9 [==============================] - 0s 2ms/step - loss: 2.1461 - mse: 2.1461\n",
            "Epoch 134/300\n",
            "9/9 [==============================] - 0s 1ms/step - loss: 2.1461 - mse: 2.1461\n",
            "Epoch 135/300\n",
            "9/9 [==============================] - 0s 2ms/step - loss: 2.1461 - mse: 2.1461\n",
            "Epoch 136/300\n",
            "9/9 [==============================] - 0s 1ms/step - loss: 2.1461 - mse: 2.1461\n",
            "Epoch 137/300\n",
            "9/9 [==============================] - 0s 2ms/step - loss: 2.1461 - mse: 2.1461\n",
            "Epoch 138/300\n",
            "9/9 [==============================] - 0s 2ms/step - loss: 2.1461 - mse: 2.1461\n",
            "Epoch 139/300\n",
            "9/9 [==============================] - 0s 2ms/step - loss: 2.1461 - mse: 2.1461\n",
            "Epoch 140/300\n",
            "9/9 [==============================] - 0s 2ms/step - loss: 2.1461 - mse: 2.1461\n",
            "Epoch 141/300\n",
            "9/9 [==============================] - 0s 2ms/step - loss: 2.1461 - mse: 2.1461\n",
            "Epoch 142/300\n",
            "9/9 [==============================] - 0s 2ms/step - loss: 2.1461 - mse: 2.1461\n",
            "Epoch 143/300\n",
            "9/9 [==============================] - 0s 1ms/step - loss: 2.1461 - mse: 2.1461\n",
            "Epoch 144/300\n",
            "9/9 [==============================] - 0s 2ms/step - loss: 2.1461 - mse: 2.1461\n",
            "Epoch 145/300\n",
            "9/9 [==============================] - 0s 2ms/step - loss: 2.1461 - mse: 2.1461\n",
            "Epoch 146/300\n",
            "9/9 [==============================] - 0s 2ms/step - loss: 2.1461 - mse: 2.1461\n",
            "Epoch 147/300\n",
            "9/9 [==============================] - 0s 2ms/step - loss: 2.1461 - mse: 2.1461\n",
            "Epoch 148/300\n",
            "9/9 [==============================] - 0s 2ms/step - loss: 2.1461 - mse: 2.1461\n",
            "Epoch 149/300\n",
            "9/9 [==============================] - 0s 1ms/step - loss: 2.1461 - mse: 2.1461\n",
            "Epoch 150/300\n",
            "9/9 [==============================] - 0s 1ms/step - loss: 2.1461 - mse: 2.1461\n",
            "Epoch 151/300\n",
            "9/9 [==============================] - 0s 1ms/step - loss: 2.1461 - mse: 2.1461\n",
            "Epoch 152/300\n",
            "9/9 [==============================] - 0s 2ms/step - loss: 2.1461 - mse: 2.1461\n",
            "Epoch 153/300\n",
            "9/9 [==============================] - 0s 2ms/step - loss: 2.1461 - mse: 2.1461\n",
            "Epoch 154/300\n",
            "9/9 [==============================] - 0s 1ms/step - loss: 2.1461 - mse: 2.1461\n",
            "Epoch 155/300\n",
            "9/9 [==============================] - 0s 2ms/step - loss: 2.1461 - mse: 2.1461\n",
            "Epoch 156/300\n",
            "9/9 [==============================] - 0s 2ms/step - loss: 2.1461 - mse: 2.1461\n",
            "Epoch 157/300\n",
            "9/9 [==============================] - 0s 2ms/step - loss: 2.1461 - mse: 2.1461\n",
            "Epoch 158/300\n",
            "9/9 [==============================] - 0s 2ms/step - loss: 2.1461 - mse: 2.1461\n",
            "Epoch 159/300\n",
            "9/9 [==============================] - 0s 2ms/step - loss: 2.1461 - mse: 2.1461\n",
            "Epoch 160/300\n",
            "9/9 [==============================] - 0s 2ms/step - loss: 2.1461 - mse: 2.1461\n",
            "Epoch 161/300\n",
            "9/9 [==============================] - 0s 1ms/step - loss: 2.1461 - mse: 2.1461\n",
            "Epoch 162/300\n",
            "9/9 [==============================] - 0s 1ms/step - loss: 2.1461 - mse: 2.1461\n",
            "Epoch 163/300\n",
            "9/9 [==============================] - 0s 2ms/step - loss: 2.1461 - mse: 2.1461\n",
            "Epoch 164/300\n",
            "9/9 [==============================] - 0s 2ms/step - loss: 2.1461 - mse: 2.1461\n",
            "Epoch 165/300\n",
            "9/9 [==============================] - 0s 2ms/step - loss: 2.1461 - mse: 2.1461\n",
            "Epoch 166/300\n",
            "9/9 [==============================] - 0s 2ms/step - loss: 2.1461 - mse: 2.1461\n",
            "Epoch 167/300\n",
            "9/9 [==============================] - 0s 2ms/step - loss: 2.1461 - mse: 2.1461\n",
            "Epoch 168/300\n",
            "9/9 [==============================] - 0s 2ms/step - loss: 2.1461 - mse: 2.1461\n",
            "Epoch 169/300\n",
            "9/9 [==============================] - 0s 2ms/step - loss: 2.1461 - mse: 2.1461\n",
            "Epoch 170/300\n",
            "9/9 [==============================] - 0s 1ms/step - loss: 2.1461 - mse: 2.1461\n",
            "Epoch 171/300\n",
            "9/9 [==============================] - 0s 2ms/step - loss: 2.1461 - mse: 2.1461\n",
            "Epoch 172/300\n",
            "9/9 [==============================] - 0s 2ms/step - loss: 2.1460 - mse: 2.1460\n",
            "Epoch 173/300\n",
            "9/9 [==============================] - 0s 2ms/step - loss: 2.1460 - mse: 2.1460\n",
            "Epoch 174/300\n",
            "9/9 [==============================] - 0s 2ms/step - loss: 2.1460 - mse: 2.1460\n",
            "Epoch 175/300\n",
            "9/9 [==============================] - 0s 2ms/step - loss: 2.1460 - mse: 2.1460\n",
            "Epoch 176/300\n",
            "9/9 [==============================] - 0s 2ms/step - loss: 2.1460 - mse: 2.1460\n",
            "Epoch 177/300\n",
            "9/9 [==============================] - 0s 2ms/step - loss: 2.1460 - mse: 2.1460\n",
            "Epoch 178/300\n",
            "9/9 [==============================] - 0s 2ms/step - loss: 2.1460 - mse: 2.1460\n",
            "Epoch 179/300\n",
            "9/9 [==============================] - 0s 2ms/step - loss: 2.1460 - mse: 2.1460\n",
            "Epoch 180/300\n",
            "9/9 [==============================] - 0s 2ms/step - loss: 2.1460 - mse: 2.1460\n",
            "Epoch 181/300\n",
            "9/9 [==============================] - 0s 2ms/step - loss: 2.1460 - mse: 2.1460\n",
            "Epoch 182/300\n",
            "9/9 [==============================] - 0s 2ms/step - loss: 2.1460 - mse: 2.1460\n",
            "Epoch 183/300\n",
            "9/9 [==============================] - 0s 2ms/step - loss: 2.1460 - mse: 2.1460\n",
            "Epoch 184/300\n",
            "9/9 [==============================] - 0s 2ms/step - loss: 2.1460 - mse: 2.1460\n",
            "Epoch 185/300\n",
            "9/9 [==============================] - 0s 2ms/step - loss: 2.1460 - mse: 2.1460\n",
            "Epoch 186/300\n",
            "9/9 [==============================] - 0s 1ms/step - loss: 2.1460 - mse: 2.1460\n",
            "Epoch 187/300\n",
            "9/9 [==============================] - 0s 2ms/step - loss: 2.1460 - mse: 2.1460\n",
            "Epoch 188/300\n",
            "9/9 [==============================] - 0s 2ms/step - loss: 2.1460 - mse: 2.1460\n",
            "Epoch 189/300\n",
            "9/9 [==============================] - 0s 2ms/step - loss: 2.1460 - mse: 2.1460\n",
            "Epoch 190/300\n",
            "9/9 [==============================] - 0s 1ms/step - loss: 2.1460 - mse: 2.1460\n",
            "Epoch 191/300\n",
            "9/9 [==============================] - 0s 2ms/step - loss: 2.1460 - mse: 2.1460\n",
            "Epoch 192/300\n",
            "9/9 [==============================] - 0s 2ms/step - loss: 2.1460 - mse: 2.1460\n",
            "Epoch 193/300\n",
            "9/9 [==============================] - 0s 2ms/step - loss: 2.1460 - mse: 2.1460\n",
            "Epoch 194/300\n",
            "9/9 [==============================] - 0s 2ms/step - loss: 2.1460 - mse: 2.1460\n",
            "Epoch 195/300\n",
            "9/9 [==============================] - 0s 2ms/step - loss: 2.1460 - mse: 2.1460\n",
            "Epoch 196/300\n",
            "9/9 [==============================] - 0s 2ms/step - loss: 2.1460 - mse: 2.1460\n",
            "Epoch 197/300\n",
            "9/9 [==============================] - 0s 2ms/step - loss: 2.1460 - mse: 2.1460\n",
            "Epoch 198/300\n",
            "9/9 [==============================] - 0s 2ms/step - loss: 2.1460 - mse: 2.1460\n",
            "Epoch 199/300\n",
            "9/9 [==============================] - 0s 2ms/step - loss: 2.1460 - mse: 2.1460\n",
            "Epoch 200/300\n",
            "9/9 [==============================] - 0s 2ms/step - loss: 2.1460 - mse: 2.1460\n",
            "Epoch 201/300\n",
            "9/9 [==============================] - 0s 2ms/step - loss: 2.1460 - mse: 2.1460\n",
            "Epoch 202/300\n",
            "9/9 [==============================] - 0s 2ms/step - loss: 2.1460 - mse: 2.1460\n",
            "Epoch 203/300\n",
            "9/9 [==============================] - 0s 2ms/step - loss: 2.1460 - mse: 2.1460\n",
            "Epoch 204/300\n",
            "9/9 [==============================] - 0s 2ms/step - loss: 2.1460 - mse: 2.1460\n",
            "Epoch 205/300\n",
            "9/9 [==============================] - 0s 2ms/step - loss: 2.1460 - mse: 2.1460\n",
            "Epoch 206/300\n",
            "9/9 [==============================] - 0s 1ms/step - loss: 2.1460 - mse: 2.1460\n",
            "Epoch 207/300\n",
            "9/9 [==============================] - 0s 2ms/step - loss: 2.1460 - mse: 2.1460\n",
            "Epoch 208/300\n",
            "9/9 [==============================] - 0s 2ms/step - loss: 2.1460 - mse: 2.1460\n",
            "Epoch 209/300\n",
            "9/9 [==============================] - 0s 2ms/step - loss: 2.1460 - mse: 2.1460\n",
            "Epoch 210/300\n",
            "9/9 [==============================] - 0s 1ms/step - loss: 2.1460 - mse: 2.1460\n",
            "Epoch 211/300\n",
            "9/9 [==============================] - 0s 1ms/step - loss: 2.1460 - mse: 2.1460\n",
            "Epoch 212/300\n",
            "9/9 [==============================] - 0s 2ms/step - loss: 2.1460 - mse: 2.1460\n",
            "Epoch 213/300\n",
            "9/9 [==============================] - 0s 3ms/step - loss: 2.1460 - mse: 2.1460\n",
            "Epoch 214/300\n",
            "9/9 [==============================] - 0s 2ms/step - loss: 2.1460 - mse: 2.1460\n",
            "Epoch 215/300\n",
            "9/9 [==============================] - 0s 2ms/step - loss: 2.1460 - mse: 2.1460\n",
            "Epoch 216/300\n",
            "9/9 [==============================] - 0s 1ms/step - loss: 2.1460 - mse: 2.1460\n",
            "Epoch 217/300\n",
            "9/9 [==============================] - 0s 2ms/step - loss: 2.1460 - mse: 2.1460\n",
            "Epoch 218/300\n",
            "9/9 [==============================] - 0s 2ms/step - loss: 2.1460 - mse: 2.1460\n",
            "Epoch 219/300\n",
            "9/9 [==============================] - 0s 2ms/step - loss: 2.1460 - mse: 2.1460\n",
            "Epoch 220/300\n",
            "9/9 [==============================] - 0s 2ms/step - loss: 2.1460 - mse: 2.1460\n",
            "Epoch 221/300\n",
            "9/9 [==============================] - 0s 2ms/step - loss: 2.1460 - mse: 2.1460\n",
            "Epoch 222/300\n",
            "9/9 [==============================] - 0s 1ms/step - loss: 2.1460 - mse: 2.1460\n",
            "Epoch 223/300\n",
            "9/9 [==============================] - 0s 2ms/step - loss: 2.1460 - mse: 2.1460\n",
            "Epoch 224/300\n",
            "9/9 [==============================] - 0s 2ms/step - loss: 2.1460 - mse: 2.1460\n",
            "Epoch 225/300\n",
            "9/9 [==============================] - 0s 1ms/step - loss: 2.1460 - mse: 2.1460\n",
            "Epoch 226/300\n",
            "9/9 [==============================] - 0s 2ms/step - loss: 2.1460 - mse: 2.1460\n",
            "Epoch 227/300\n",
            "9/9 [==============================] - 0s 2ms/step - loss: 2.1460 - mse: 2.1460\n",
            "Epoch 228/300\n",
            "9/9 [==============================] - 0s 2ms/step - loss: 2.1460 - mse: 2.1460\n",
            "Epoch 229/300\n",
            "9/9 [==============================] - 0s 1ms/step - loss: 2.1460 - mse: 2.1460\n",
            "Epoch 230/300\n",
            "9/9 [==============================] - 0s 2ms/step - loss: 2.1460 - mse: 2.1460\n",
            "Epoch 231/300\n",
            "9/9 [==============================] - 0s 2ms/step - loss: 2.1460 - mse: 2.1460\n",
            "Epoch 232/300\n",
            "9/9 [==============================] - 0s 2ms/step - loss: 2.1460 - mse: 2.1460\n",
            "Epoch 233/300\n",
            "9/9 [==============================] - 0s 2ms/step - loss: 2.1460 - mse: 2.1460\n",
            "Epoch 234/300\n",
            "9/9 [==============================] - 0s 2ms/step - loss: 2.1460 - mse: 2.1460\n",
            "Epoch 235/300\n",
            "9/9 [==============================] - 0s 2ms/step - loss: 2.1460 - mse: 2.1460\n",
            "Epoch 236/300\n",
            "9/9 [==============================] - 0s 2ms/step - loss: 2.1460 - mse: 2.1460\n",
            "Epoch 237/300\n",
            "9/9 [==============================] - 0s 2ms/step - loss: 2.1460 - mse: 2.1460\n",
            "Epoch 238/300\n",
            "9/9 [==============================] - 0s 2ms/step - loss: 2.1460 - mse: 2.1460\n",
            "Epoch 239/300\n",
            "9/9 [==============================] - 0s 1ms/step - loss: 2.1460 - mse: 2.1460\n",
            "Epoch 240/300\n",
            "9/9 [==============================] - 0s 2ms/step - loss: 2.1460 - mse: 2.1460\n",
            "Epoch 241/300\n",
            "9/9 [==============================] - 0s 2ms/step - loss: 2.1460 - mse: 2.1460\n",
            "Epoch 242/300\n",
            "9/9 [==============================] - 0s 2ms/step - loss: 2.1460 - mse: 2.1460\n",
            "Epoch 243/300\n",
            "9/9 [==============================] - 0s 2ms/step - loss: 2.1460 - mse: 2.1460\n",
            "Epoch 244/300\n",
            "9/9 [==============================] - 0s 2ms/step - loss: 2.1460 - mse: 2.1460\n",
            "Epoch 245/300\n",
            "9/9 [==============================] - 0s 2ms/step - loss: 2.1460 - mse: 2.1460\n",
            "Epoch 246/300\n",
            "9/9 [==============================] - 0s 2ms/step - loss: 2.1460 - mse: 2.1460\n",
            "Epoch 247/300\n",
            "9/9 [==============================] - 0s 2ms/step - loss: 2.1460 - mse: 2.1460\n",
            "Epoch 248/300\n",
            "9/9 [==============================] - 0s 2ms/step - loss: 2.1460 - mse: 2.1460\n",
            "Epoch 249/300\n",
            "9/9 [==============================] - 0s 1ms/step - loss: 2.1460 - mse: 2.1460\n",
            "Epoch 250/300\n",
            "9/9 [==============================] - 0s 2ms/step - loss: 2.1460 - mse: 2.1460\n",
            "Epoch 251/300\n",
            "9/9 [==============================] - 0s 2ms/step - loss: 2.1460 - mse: 2.1460\n",
            "Epoch 252/300\n",
            "9/9 [==============================] - 0s 1ms/step - loss: 2.1460 - mse: 2.1460\n",
            "Epoch 253/300\n",
            "9/9 [==============================] - 0s 2ms/step - loss: 2.1460 - mse: 2.1460\n",
            "Epoch 254/300\n",
            "9/9 [==============================] - 0s 2ms/step - loss: 2.1460 - mse: 2.1460\n",
            "Epoch 255/300\n",
            "9/9 [==============================] - 0s 2ms/step - loss: 2.1460 - mse: 2.1460\n",
            "Epoch 256/300\n",
            "9/9 [==============================] - 0s 2ms/step - loss: 2.1460 - mse: 2.1460\n",
            "Epoch 257/300\n",
            "9/9 [==============================] - 0s 2ms/step - loss: 2.1460 - mse: 2.1460\n",
            "Epoch 258/300\n",
            "9/9 [==============================] - 0s 2ms/step - loss: 2.1460 - mse: 2.1460\n",
            "Epoch 259/300\n",
            "9/9 [==============================] - 0s 2ms/step - loss: 2.1460 - mse: 2.1460\n",
            "Epoch 260/300\n",
            "9/9 [==============================] - 0s 2ms/step - loss: 2.1460 - mse: 2.1460\n",
            "Epoch 261/300\n",
            "9/9 [==============================] - 0s 2ms/step - loss: 2.1460 - mse: 2.1460\n",
            "Epoch 262/300\n",
            "9/9 [==============================] - 0s 2ms/step - loss: 2.1460 - mse: 2.1460\n",
            "Epoch 263/300\n",
            "9/9 [==============================] - 0s 2ms/step - loss: 2.1460 - mse: 2.1460\n",
            "Epoch 264/300\n",
            "9/9 [==============================] - 0s 2ms/step - loss: 2.1460 - mse: 2.1460\n",
            "Epoch 265/300\n",
            "9/9 [==============================] - 0s 2ms/step - loss: 2.1460 - mse: 2.1460\n",
            "Epoch 266/300\n",
            "9/9 [==============================] - 0s 2ms/step - loss: 2.1460 - mse: 2.1460\n",
            "Epoch 267/300\n",
            "9/9 [==============================] - 0s 2ms/step - loss: 2.1460 - mse: 2.1460\n",
            "Epoch 268/300\n",
            "9/9 [==============================] - 0s 2ms/step - loss: 2.1460 - mse: 2.1460\n",
            "Epoch 269/300\n",
            "9/9 [==============================] - 0s 1ms/step - loss: 2.1460 - mse: 2.1460\n",
            "Epoch 270/300\n",
            "9/9 [==============================] - 0s 2ms/step - loss: 2.1460 - mse: 2.1460\n",
            "Epoch 271/300\n",
            "9/9 [==============================] - 0s 2ms/step - loss: 2.1460 - mse: 2.1460\n",
            "Epoch 272/300\n",
            "9/9 [==============================] - 0s 3ms/step - loss: 2.1460 - mse: 2.1460\n",
            "Epoch 273/300\n",
            "9/9 [==============================] - 0s 2ms/step - loss: 2.1460 - mse: 2.1460\n",
            "Epoch 274/300\n",
            "9/9 [==============================] - 0s 2ms/step - loss: 2.1460 - mse: 2.1460\n",
            "Epoch 275/300\n",
            "9/9 [==============================] - 0s 2ms/step - loss: 2.1460 - mse: 2.1460\n",
            "Epoch 276/300\n",
            "9/9 [==============================] - 0s 2ms/step - loss: 2.1460 - mse: 2.1460\n",
            "Epoch 277/300\n",
            "9/9 [==============================] - 0s 1ms/step - loss: 2.1460 - mse: 2.1460\n",
            "Epoch 278/300\n",
            "9/9 [==============================] - 0s 2ms/step - loss: 2.1460 - mse: 2.1460\n",
            "Epoch 279/300\n",
            "9/9 [==============================] - 0s 2ms/step - loss: 2.1460 - mse: 2.1460\n",
            "Epoch 280/300\n",
            "9/9 [==============================] - 0s 2ms/step - loss: 2.1460 - mse: 2.1460\n",
            "Epoch 281/300\n",
            "9/9 [==============================] - 0s 1ms/step - loss: 2.1460 - mse: 2.1460\n",
            "Epoch 282/300\n",
            "9/9 [==============================] - 0s 2ms/step - loss: 2.1460 - mse: 2.1460\n",
            "Epoch 283/300\n",
            "9/9 [==============================] - 0s 2ms/step - loss: 2.1460 - mse: 2.1460\n",
            "Epoch 284/300\n",
            "9/9 [==============================] - 0s 2ms/step - loss: 2.1460 - mse: 2.1460\n",
            "Epoch 285/300\n",
            "9/9 [==============================] - 0s 2ms/step - loss: 2.1460 - mse: 2.1460\n",
            "Epoch 286/300\n",
            "9/9 [==============================] - 0s 2ms/step - loss: 2.1460 - mse: 2.1460\n",
            "Epoch 287/300\n",
            "9/9 [==============================] - 0s 2ms/step - loss: 2.1460 - mse: 2.1460\n",
            "Epoch 288/300\n",
            "9/9 [==============================] - 0s 2ms/step - loss: 2.1460 - mse: 2.1460\n",
            "Epoch 289/300\n",
            "9/9 [==============================] - 0s 2ms/step - loss: 2.1460 - mse: 2.1460\n",
            "Epoch 290/300\n",
            "9/9 [==============================] - 0s 2ms/step - loss: 2.1460 - mse: 2.1460\n",
            "Epoch 291/300\n",
            "9/9 [==============================] - 0s 2ms/step - loss: 2.1460 - mse: 2.1460\n",
            "Epoch 292/300\n",
            "9/9 [==============================] - 0s 2ms/step - loss: 2.1460 - mse: 2.1460\n",
            "Epoch 293/300\n",
            "9/9 [==============================] - 0s 2ms/step - loss: 2.1460 - mse: 2.1460\n",
            "Epoch 294/300\n",
            "9/9 [==============================] - 0s 1ms/step - loss: 2.1460 - mse: 2.1460\n",
            "Epoch 295/300\n",
            "9/9 [==============================] - 0s 2ms/step - loss: 2.1460 - mse: 2.1460\n",
            "Epoch 296/300\n",
            "9/9 [==============================] - 0s 2ms/step - loss: 2.1460 - mse: 2.1460\n",
            "Epoch 297/300\n",
            "9/9 [==============================] - 0s 2ms/step - loss: 2.1460 - mse: 2.1460\n",
            "Epoch 298/300\n",
            "9/9 [==============================] - 0s 2ms/step - loss: 2.1460 - mse: 2.1460\n",
            "Epoch 299/300\n",
            "9/9 [==============================] - 0s 2ms/step - loss: 2.1460 - mse: 2.1460\n",
            "Epoch 300/300\n",
            "9/9 [==============================] - 0s 2ms/step - loss: 2.1460 - mse: 2.1460\n"
          ],
          "name": "stdout"
        },
        {
          "output_type": "execute_result",
          "data": {
            "text/plain": [
              "<tensorflow.python.keras.callbacks.History at 0x7f7987d81f50>"
            ]
          },
          "metadata": {
            "tags": []
          },
          "execution_count": 102
        }
      ]
    },
    {
      "cell_type": "code",
      "metadata": {
        "colab": {
          "base_uri": "https://localhost:8080/",
          "height": 301
        },
        "id": "nt2R0uj0Tt0s",
        "outputId": "87458c66-d591-45c3-f445-1aace701cbf7"
      },
      "source": [
        "import matplotlib.pyplot as plt\n",
        "plt.plot(X,model.predict(X),'b',X,y,'k--')"
      ],
      "execution_count": null,
      "outputs": [
        {
          "output_type": "execute_result",
          "data": {
            "text/plain": [
              "[<matplotlib.lines.Line2D at 0x7f7985513e90>,\n",
              " <matplotlib.lines.Line2D at 0x7f7985521090>]"
            ]
          },
          "metadata": {
            "tags": []
          },
          "execution_count": 121
        },
        {
          "output_type": "display_data",
          "data": {
            "image/png": "[encoded data removed]",
            "text/plain": [
              "<Figure size 432x288 with 1 Axes>"
            ]
          },
          "metadata": {
            "tags": [],
            "needs_background": "light"
          }
        }
      ]
    },
    {
      "cell_type": "markdown",
      "metadata": {
        "id": "Cv6rZQs8MRYz"
      },
      "source": [
        "# 2강 수업 내용"
      ]
    },
    {
      "cell_type": "markdown",
      "metadata": {
        "id": "UdD5cYYVMURi"
      },
      "source": [
        "## Bag of Words\n",
        "---\n",
        "단어의 순서는 고려하지 않고, 단어의 출현 빈도(frequency)에만 집중하는 텍스트 데이터 수치화 표현"
      ]
    },
    {
      "cell_type": "code",
      "metadata": {
        "colab": {
          "base_uri": "https://localhost:8080/"
        },
        "id": "ADMHHyZUMi3a",
        "outputId": "be7150f1-9c59-4c2b-daf6-ff45cb1e6bfd"
      },
      "source": [
        "!pip install konlpy"
      ],
      "execution_count": null,
      "outputs": [
        {
          "output_type": "stream",
          "text": [
            "Collecting konlpy\n",
            "\u001b[?25l  Downloading https://files.pythonhosted.org/packages/85/0e/f385566fec837c0b83f216b2da65db9997b35dd675e107752005b7d392b1/konlpy-0.5.2-py2.py3-none-any.whl (19.4MB)\n",
            "\u001b[K     |████████████████████████████████| 19.4MB 1.3MB/s \n",
            "\u001b[?25hCollecting beautifulsoup4==4.6.0\n",
            "\u001b[?25l  Downloading https://files.pythonhosted.org/packages/9e/d4/10f46e5cfac773e22707237bfcd51bbffeaf0a576b0a847ec7ab15bd7ace/beautifulsoup4-4.6.0-py3-none-any.whl (86kB)\n",
            "\u001b[K     |████████████████████████████████| 92kB 10.3MB/s \n",
            "\u001b[?25hCollecting colorama\n",
            "  Downloading https://files.pythonhosted.org/packages/44/98/5b86278fbbf250d239ae0ecb724f8572af1c91f4a11edf4d36a206189440/colorama-0.4.4-py2.py3-none-any.whl\n",
            "Collecting JPype1>=0.7.0\n",
            "\u001b[?25l  Downloading https://files.pythonhosted.org/packages/98/88/f817ef1af6f794e8f11313dcd1549de833f4599abcec82746ab5ed086686/JPype1-1.3.0-cp37-cp37m-manylinux_2_5_x86_64.manylinux1_x86_64.whl (448kB)\n",
            "\u001b[K     |████████████████████████████████| 450kB 56.7MB/s \n",
            "\u001b[?25hRequirement already satisfied: numpy>=1.6 in /usr/local/lib/python3.7/dist-packages (from konlpy) (1.19.5)\n",
            "Requirement already satisfied: tweepy>=3.7.0 in /usr/local/lib/python3.7/dist-packages (from konlpy) (3.10.0)\n",
            "Requirement already satisfied: lxml>=4.1.0 in /usr/local/lib/python3.7/dist-packages (from konlpy) (4.2.6)\n",
            "Requirement already satisfied: typing-extensions; python_version < \"3.8\" in /usr/local/lib/python3.7/dist-packages (from JPype1>=0.7.0->konlpy) (3.7.4.3)\n",
            "Requirement already satisfied: requests[socks]>=2.11.1 in /usr/local/lib/python3.7/dist-packages (from tweepy>=3.7.0->konlpy) (2.23.0)\n",
            "Requirement already satisfied: requests-oauthlib>=0.7.0 in /usr/local/lib/python3.7/dist-packages (from tweepy>=3.7.0->konlpy) (1.3.0)\n",
            "Requirement already satisfied: six>=1.10.0 in /usr/local/lib/python3.7/dist-packages (from tweepy>=3.7.0->konlpy) (1.15.0)\n",
            "Requirement already satisfied: idna<3,>=2.5 in /usr/local/lib/python3.7/dist-packages (from requests[socks]>=2.11.1->tweepy>=3.7.0->konlpy) (2.10)\n",
            "Requirement already satisfied: chardet<4,>=3.0.2 in /usr/local/lib/python3.7/dist-packages (from requests[socks]>=2.11.1->tweepy>=3.7.0->konlpy) (3.0.4)\n",
            "Requirement already satisfied: urllib3!=1.25.0,!=1.25.1,<1.26,>=1.21.1 in /usr/local/lib/python3.7/dist-packages (from requests[socks]>=2.11.1->tweepy>=3.7.0->konlpy) (1.24.3)\n",
            "Requirement already satisfied: certifi>=2017.4.17 in /usr/local/lib/python3.7/dist-packages (from requests[socks]>=2.11.1->tweepy>=3.7.0->konlpy) (2021.5.30)\n",
            "Requirement already satisfied: PySocks!=1.5.7,>=1.5.6; extra == \"socks\" in /usr/local/lib/python3.7/dist-packages (from requests[socks]>=2.11.1->tweepy>=3.7.0->konlpy) (1.7.1)\n",
            "Requirement already satisfied: oauthlib>=3.0.0 in /usr/local/lib/python3.7/dist-packages (from requests-oauthlib>=0.7.0->tweepy>=3.7.0->konlpy) (3.1.1)\n",
            "Installing collected packages: beautifulsoup4, colorama, JPype1, konlpy\n",
            "  Found existing installation: beautifulsoup4 4.6.3\n",
            "    Uninstalling beautifulsoup4-4.6.3:\n",
            "      Successfully uninstalled beautifulsoup4-4.6.3\n",
            "Successfully installed JPype1-1.3.0 beautifulsoup4-4.6.0 colorama-0.4.4 konlpy-0.5.2\n"
          ],
          "name": "stdout"
        }
      ]
    },
    {
      "cell_type": "markdown",
      "metadata": {
        "id": "P9O5uHEqMXid"
      },
      "source": [
        "### 직접 구현"
      ]
    },
    {
      "cell_type": "code",
      "metadata": {
        "colab": {
          "base_uri": "https://localhost:8080/"
        },
        "id": "wScozePIMY6F",
        "outputId": "922027bc-d64b-4bef-8616-14a3a2ff2bab"
      },
      "source": [
        "from konlpy.tag import Okt\n",
        "import re\n",
        "okt = Okt()\n",
        "\n",
        "sentence = \"정부가 발표하는 물가상승률과 소비자가 느끼는 물가상승률은 다르다.\"\n",
        "\n",
        "#정규표현식을 통해 온점 제거\n",
        "token = re.sub(\"(\\.)\",\"\",sentence)\n",
        "\n",
        "#Okt 형태소 분석기를 통해 토큰화 작업을 수행한 뒤에 token 변수에 값 할당\n",
        "token = okt.morphs(token)\n",
        "\n",
        "word2idx = {}\n",
        "bow = []\n",
        "for voca in token:\n",
        "    if voca not in word2idx.keys():\n",
        "        # token을 읽으면서, word2idx에 없는 단어는 새로 추가하고, 있으면 넘기고, bow에는 기본값 1개를 추가(단어 개수가 1개 이상이기 때문)\n",
        "        word2idx[voca] = len(word2idx)\n",
        "        bow.append(1)\n",
        "        # bow.insert(len(word2idx)-1,1) #강사님의 경우 이렇게 작성하셨지만, 단어가 없는 경우 순서대로 입력되기에 굳이 idx 위치를 맞춰줄 필요는 없어보임 \n",
        "    else:\n",
        "        idx = word2idx[voca]\n",
        "        # idx = word2idx.get(voca) # dict 데이터로 부터 특정 단어에 대한 idx 번호를 가져와야 하는데, get을 써도 되고, 아니면 indexing으로 찾아도 무방함\n",
        "        bow[idx] += 1\n",
        "        # 재등장한 단어는 해당하는 인덱스 위치에 +1을 추가(단어의 개수 세는 것)\n",
        "print(word2idx)\n",
        "print(bow)"
      ],
      "execution_count": null,
      "outputs": [
        {
          "output_type": "stream",
          "text": [
            "{'정부': 0, '가': 1, '발표': 2, '하는': 3, '물가상승률': 4, '과': 5, '소비자': 6, '느끼는': 7, '은': 8, '다르다': 9}\n",
            "[1, 2, 1, 1, 2, 1, 1, 1, 1, 1]\n"
          ],
          "name": "stdout"
        }
      ]
    },
    {
      "cell_type": "markdown",
      "metadata": {
        "id": "Dl6SD7TvPP2e"
      },
      "source": [
        "### CounterVectorizer 사용"
      ]
    },
    {
      "cell_type": "code",
      "metadata": {
        "colab": {
          "base_uri": "https://localhost:8080/"
        },
        "id": "TY9yqXcxPSwP",
        "outputId": "72af04a5-05cc-4095-e34b-09acade64ca5"
      },
      "source": [
        "from sklearn.feature_extraction.text import CountVectorizer\n",
        "vector = CountVectorizer()\n",
        "corpus = ['you know I want your love. because I love you.']\n",
        "print(vector.fit_transform(corpus).toarray()) #코퍼스로부터 각 단어의 빈도수 기록\n",
        "print(vector.vocabulary_) #단어별 인덱스가 어떻게 부여되어있는지 보여줌"
      ],
      "execution_count": null,
      "outputs": [
        {
          "output_type": "stream",
          "text": [
            "[[1 1 2 1 2 1]]\n",
            "{'you': 4, 'know': 1, 'want': 3, 'your': 5, 'love': 2, 'because': 0}\n"
          ],
          "name": "stdout"
        }
      ]
    },
    {
      "cell_type": "markdown",
      "metadata": {
        "id": "3DBKT0CCPy5J"
      },
      "source": [
        "### TF-IDF 행렬 만들기"
      ]
    },
    {
      "cell_type": "code",
      "metadata": {
        "id": "r6ytQjS5UOkE"
      },
      "source": [
        "import pandas as pd #데이터프레임 사용\n",
        "from math import log #idf 계산"
      ],
      "execution_count": null,
      "outputs": []
    },
    {
      "cell_type": "code",
      "metadata": {
        "colab": {
          "base_uri": "https://localhost:8080/"
        },
        "id": "fAoO8X7qUWDc",
        "outputId": "0c28a402-cb26-4414-84d9-9e8e9d1c0bc7"
      },
      "source": [
        "docs = [\n",
        "  '먹고 싶은 사과',\n",
        "  '먹고 싶은 바나나',\n",
        "  '길고 노란 바나나 바나나',\n",
        "  '저는 과일이 좋아요'\n",
        "] \n",
        "vocab = list(set(w for doc in docs for w in doc.split()))\n",
        "vocab.sort()\n",
        "vocab"
      ],
      "execution_count": null,
      "outputs": [
        {
          "output_type": "execute_result",
          "data": {
            "text/plain": [
              "['과일이', '길고', '노란', '먹고', '바나나', '사과', '싶은', '저는', '좋아요']"
            ]
          },
          "metadata": {
            "tags": []
          },
          "execution_count": 49
        }
      ]
    },
    {
      "cell_type": "code",
      "metadata": {
        "id": "AUo-0BBJUgXj"
      },
      "source": [
        "N = len(docs) #총 문서 수\n",
        "\n",
        "def tf(t,d): #t(word), d(document)\n",
        "  return d.count(t)\n",
        "\n",
        "def idf(t):\n",
        "  df = 0\n",
        "  for doc in docs:\n",
        "    df += t in doc #t, 즉 단어가 문서에 있으면 True(1) 아니면 False(0)\n",
        "  return log(N / (df + 1))\n",
        "\n",
        "def tfidf(t,d):\n",
        "  return tf(t,d) * idf(t)"
      ],
      "execution_count": null,
      "outputs": []
    },
    {
      "cell_type": "code",
      "metadata": {
        "colab": {
          "base_uri": "https://localhost:8080/",
          "height": 173
        },
        "id": "oeNm3qBxVe79",
        "outputId": "b1e5a40c-b0be-444b-b68c-aaed4dc791d5"
      },
      "source": [
        "result = []\n",
        "for doc in docs: # 각 문서에 대해 아래 명령을 수행\n",
        "    result.append([tf(v,doc) for v in vocab])\n",
        "tf_ = pd.DataFrame(result,columns = vocab)\n",
        "tf_"
      ],
      "execution_count": null,
      "outputs": [
        {
          "output_type": "execute_result",
          "data": {
            "text/html": [
              "<div>\n",
              "<style scoped>\n",
              "    .dataframe tbody tr th:only-of-type {\n",
              "        vertical-align: middle;\n",
              "    }\n",
              "\n",
              "    .dataframe tbody tr th {\n",
              "        vertical-align: top;\n",
              "    }\n",
              "\n",
              "    .dataframe thead th {\n",
              "        text-align: right;\n",
              "    }\n",
              "</style>\n",
              "<table border=\"1\" class=\"dataframe\">\n",
              "  <thead>\n",
              "    <tr style=\"text-align: right;\">\n",
              "      <th></th>\n",
              "      <th>과일이</th>\n",
              "      <th>길고</th>\n",
              "      <th>노란</th>\n",
              "      <th>먹고</th>\n",
              "      <th>바나나</th>\n",
              "      <th>사과</th>\n",
              "      <th>싶은</th>\n",
              "      <th>저는</th>\n",
              "      <th>좋아요</th>\n",
              "    </tr>\n",
              "  </thead>\n",
              "  <tbody>\n",
              "    <tr>\n",
              "      <th>0</th>\n",
              "      <td>0</td>\n",
              "      <td>0</td>\n",
              "      <td>0</td>\n",
              "      <td>1</td>\n",
              "      <td>0</td>\n",
              "      <td>1</td>\n",
              "      <td>1</td>\n",
              "      <td>0</td>\n",
              "      <td>0</td>\n",
              "    </tr>\n",
              "    <tr>\n",
              "      <th>1</th>\n",
              "      <td>0</td>\n",
              "      <td>0</td>\n",
              "      <td>0</td>\n",
              "      <td>1</td>\n",
              "      <td>1</td>\n",
              "      <td>0</td>\n",
              "      <td>1</td>\n",
              "      <td>0</td>\n",
              "      <td>0</td>\n",
              "    </tr>\n",
              "    <tr>\n",
              "      <th>2</th>\n",
              "      <td>0</td>\n",
              "      <td>1</td>\n",
              "      <td>1</td>\n",
              "      <td>0</td>\n",
              "      <td>2</td>\n",
              "      <td>0</td>\n",
              "      <td>0</td>\n",
              "      <td>0</td>\n",
              "      <td>0</td>\n",
              "    </tr>\n",
              "    <tr>\n",
              "      <th>3</th>\n",
              "      <td>1</td>\n",
              "      <td>0</td>\n",
              "      <td>0</td>\n",
              "      <td>0</td>\n",
              "      <td>0</td>\n",
              "      <td>0</td>\n",
              "      <td>0</td>\n",
              "      <td>1</td>\n",
              "      <td>1</td>\n",
              "    </tr>\n",
              "  </tbody>\n",
              "</table>\n",
              "</div>"
            ],
            "text/plain": [
              "   과일이  길고  노란  먹고  바나나  사과  싶은  저는  좋아요\n",
              "0    0   0   0   1    0   1   1   0    0\n",
              "1    0   0   0   1    1   0   1   0    0\n",
              "2    0   1   1   0    2   0   0   0    0\n",
              "3    1   0   0   0    0   0   0   1    1"
            ]
          },
          "metadata": {
            "tags": []
          },
          "execution_count": 77
        }
      ]
    },
    {
      "cell_type": "code",
      "metadata": {
        "colab": {
          "base_uri": "https://localhost:8080/",
          "height": 328
        },
        "id": "PZle3OkfWbQu",
        "outputId": "e0695967-d122-4a1a-de84-4252d21e1f99"
      },
      "source": [
        "result = [idf(t) for t in vocab]\n",
        "idf_ = pd.DataFrame(result, index = vocab, columns = ['idf'])\n",
        "idf_"
      ],
      "execution_count": null,
      "outputs": [
        {
          "output_type": "execute_result",
          "data": {
            "text/html": [
              "<div>\n",
              "<style scoped>\n",
              "    .dataframe tbody tr th:only-of-type {\n",
              "        vertical-align: middle;\n",
              "    }\n",
              "\n",
              "    .dataframe tbody tr th {\n",
              "        vertical-align: top;\n",
              "    }\n",
              "\n",
              "    .dataframe thead th {\n",
              "        text-align: right;\n",
              "    }\n",
              "</style>\n",
              "<table border=\"1\" class=\"dataframe\">\n",
              "  <thead>\n",
              "    <tr style=\"text-align: right;\">\n",
              "      <th></th>\n",
              "      <th>idf</th>\n",
              "    </tr>\n",
              "  </thead>\n",
              "  <tbody>\n",
              "    <tr>\n",
              "      <th>과일이</th>\n",
              "      <td>0.693147</td>\n",
              "    </tr>\n",
              "    <tr>\n",
              "      <th>길고</th>\n",
              "      <td>0.693147</td>\n",
              "    </tr>\n",
              "    <tr>\n",
              "      <th>노란</th>\n",
              "      <td>0.693147</td>\n",
              "    </tr>\n",
              "    <tr>\n",
              "      <th>먹고</th>\n",
              "      <td>0.287682</td>\n",
              "    </tr>\n",
              "    <tr>\n",
              "      <th>바나나</th>\n",
              "      <td>0.287682</td>\n",
              "    </tr>\n",
              "    <tr>\n",
              "      <th>사과</th>\n",
              "      <td>0.693147</td>\n",
              "    </tr>\n",
              "    <tr>\n",
              "      <th>싶은</th>\n",
              "      <td>0.287682</td>\n",
              "    </tr>\n",
              "    <tr>\n",
              "      <th>저는</th>\n",
              "      <td>0.693147</td>\n",
              "    </tr>\n",
              "    <tr>\n",
              "      <th>좋아요</th>\n",
              "      <td>0.693147</td>\n",
              "    </tr>\n",
              "  </tbody>\n",
              "</table>\n",
              "</div>"
            ],
            "text/plain": [
              "          idf\n",
              "과일이  0.693147\n",
              "길고   0.693147\n",
              "노란   0.693147\n",
              "먹고   0.287682\n",
              "바나나  0.287682\n",
              "사과   0.693147\n",
              "싶은   0.287682\n",
              "저는   0.693147\n",
              "좋아요  0.693147"
            ]
          },
          "metadata": {
            "tags": []
          },
          "execution_count": 78
        }
      ]
    },
    {
      "cell_type": "code",
      "metadata": {
        "colab": {
          "base_uri": "https://localhost:8080/",
          "height": 173
        },
        "id": "IAQ4qNZpXkUP",
        "outputId": "c83a3a56-1b35-4ad4-c4ba-4ea41b58f6ca"
      },
      "source": [
        "result = []\n",
        "for doc in docs:\n",
        "  result.append([tfidf(t,doc) for t in vocab])\n",
        "tfidf_ = pd.DataFrame(result, columns = vocab)\n",
        "tfidf_"
      ],
      "execution_count": null,
      "outputs": [
        {
          "output_type": "execute_result",
          "data": {
            "text/html": [
              "<div>\n",
              "<style scoped>\n",
              "    .dataframe tbody tr th:only-of-type {\n",
              "        vertical-align: middle;\n",
              "    }\n",
              "\n",
              "    .dataframe tbody tr th {\n",
              "        vertical-align: top;\n",
              "    }\n",
              "\n",
              "    .dataframe thead th {\n",
              "        text-align: right;\n",
              "    }\n",
              "</style>\n",
              "<table border=\"1\" class=\"dataframe\">\n",
              "  <thead>\n",
              "    <tr style=\"text-align: right;\">\n",
              "      <th></th>\n",
              "      <th>과일이</th>\n",
              "      <th>길고</th>\n",
              "      <th>노란</th>\n",
              "      <th>먹고</th>\n",
              "      <th>바나나</th>\n",
              "      <th>사과</th>\n",
              "      <th>싶은</th>\n",
              "      <th>저는</th>\n",
              "      <th>좋아요</th>\n",
              "    </tr>\n",
              "  </thead>\n",
              "  <tbody>\n",
              "    <tr>\n",
              "      <th>0</th>\n",
              "      <td>0.000000</td>\n",
              "      <td>0.000000</td>\n",
              "      <td>0.000000</td>\n",
              "      <td>0.287682</td>\n",
              "      <td>0.000000</td>\n",
              "      <td>0.693147</td>\n",
              "      <td>0.287682</td>\n",
              "      <td>0.000000</td>\n",
              "      <td>0.000000</td>\n",
              "    </tr>\n",
              "    <tr>\n",
              "      <th>1</th>\n",
              "      <td>0.000000</td>\n",
              "      <td>0.000000</td>\n",
              "      <td>0.000000</td>\n",
              "      <td>0.287682</td>\n",
              "      <td>0.287682</td>\n",
              "      <td>0.000000</td>\n",
              "      <td>0.287682</td>\n",
              "      <td>0.000000</td>\n",
              "      <td>0.000000</td>\n",
              "    </tr>\n",
              "    <tr>\n",
              "      <th>2</th>\n",
              "      <td>0.000000</td>\n",
              "      <td>0.693147</td>\n",
              "      <td>0.693147</td>\n",
              "      <td>0.000000</td>\n",
              "      <td>0.575364</td>\n",
              "      <td>0.000000</td>\n",
              "      <td>0.000000</td>\n",
              "      <td>0.000000</td>\n",
              "      <td>0.000000</td>\n",
              "    </tr>\n",
              "    <tr>\n",
              "      <th>3</th>\n",
              "      <td>0.693147</td>\n",
              "      <td>0.000000</td>\n",
              "      <td>0.000000</td>\n",
              "      <td>0.000000</td>\n",
              "      <td>0.000000</td>\n",
              "      <td>0.000000</td>\n",
              "      <td>0.000000</td>\n",
              "      <td>0.693147</td>\n",
              "      <td>0.693147</td>\n",
              "    </tr>\n",
              "  </tbody>\n",
              "</table>\n",
              "</div>"
            ],
            "text/plain": [
              "        과일이        길고        노란  ...        싶은        저는       좋아요\n",
              "0  0.000000  0.000000  0.000000  ...  0.287682  0.000000  0.000000\n",
              "1  0.000000  0.000000  0.000000  ...  0.287682  0.000000  0.000000\n",
              "2  0.000000  0.693147  0.693147  ...  0.000000  0.000000  0.000000\n",
              "3  0.693147  0.000000  0.000000  ...  0.000000  0.693147  0.693147\n",
              "\n",
              "[4 rows x 9 columns]"
            ]
          },
          "metadata": {
            "tags": []
          },
          "execution_count": 79
        }
      ]
    },
    {
      "cell_type": "markdown",
      "metadata": {
        "id": "M4rwh8CnYM_V"
      },
      "source": [
        "- 지금까지 IF-IDF의 가장 기본적인 식에 대해서 학습 및 실제 구현\n",
        "- 하지만 실제 TF-IDF 구현을 제공하는 많은 패키지들은 패키지마다 상위 기본적인 식을 기준으로 조금씩 다르게 구현\n",
        "- 만약 문서수가 4인데 df가 3인 경우 idf값이 0으로 출력되는 문제가 발생함, 이런 문제를 해결하기 위해 idf 값에 +1을 한 경우도 있는데 사이킷런도 이런 방식을 사용"
      ]
    },
    {
      "cell_type": "markdown",
      "metadata": {
        "id": "uaTXmfAmYoD9"
      },
      "source": [
        "### Tensorflow로 Bag of Words 구현"
      ]
    },
    {
      "cell_type": "code",
      "metadata": {
        "id": "d9spp-RWYvuS"
      },
      "source": [
        "import numpy as np\n",
        "from tensorflow.keras.preprocessing.text import Tokenizer"
      ],
      "execution_count": null,
      "outputs": []
    },
    {
      "cell_type": "code",
      "metadata": {
        "colab": {
          "base_uri": "https://localhost:8080/"
        },
        "id": "_upwECglZM1W",
        "outputId": "932748f2-8646-4375-91a4-a8fd96ff0803"
      },
      "source": [
        "texts = ['먹고 싶은 사과', '먹고 싶은 바나나', '길고 노란 바나나 바나나', '저는 과일이 좋아요']\n",
        "t = Tokenizer()\n",
        "t.fit_on_texts(texts)\n",
        "print(t.word_index)"
      ],
      "execution_count": null,
      "outputs": [
        {
          "output_type": "stream",
          "text": [
            "{'바나나': 1, '먹고': 2, '싶은': 3, '사과': 4, '길고': 5, '노란': 6, '저는': 7, '과일이': 8, '좋아요': 9}\n"
          ],
          "name": "stdout"
        }
      ]
    },
    {
      "cell_type": "markdown",
      "metadata": {
        "id": "qSMEufOyZbcO"
      },
      "source": [
        "- 각 단어에 숫자 1부터 시작하는 정수 인덱스 부여\n",
        "- text데이터를 matrix로 출력하는 texts_to_matrix()를 활용(총 4가지 모드)\n",
        "  - binary, count, freq, tfidf"
      ]
    },
    {
      "cell_type": "code",
      "metadata": {
        "colab": {
          "base_uri": "https://localhost:8080/"
        },
        "id": "MzwesTyWZy1P",
        "outputId": "4a6205c9-9682-46e3-9b9b-41a033aabf43"
      },
      "source": [
        "print(t.texts_to_matrix(texts,mode = 'count'))"
      ],
      "execution_count": null,
      "outputs": [
        {
          "output_type": "stream",
          "text": [
            "[[0. 0. 1. 1. 1. 0. 0. 0. 0. 0.]\n",
            " [0. 1. 1. 1. 0. 0. 0. 0. 0. 0.]\n",
            " [0. 2. 0. 0. 0. 1. 1. 0. 0. 0.]\n",
            " [0. 0. 0. 0. 0. 0. 0. 1. 1. 1.]]\n"
          ],
          "name": "stdout"
        }
      ]
    },
    {
      "cell_type": "markdown",
      "metadata": {
        "id": "mEHhBrePbk-7"
      },
      "source": [
        "count 모드   \n",
        "- 각 문서별 단어 빈도 수\n",
        "- 주의할 점은, 단어의 index는 1번부터 부여되며 0번 인덱스는 그 어떤 단어도 할당되어 있지 않음\n",
        "- 따라서 실제 단어가 9개라도 열의 개수는 10개인 것을 주의 해야 함\n",
        "- DTM"
      ]
    },
    {
      "cell_type": "code",
      "metadata": {
        "colab": {
          "base_uri": "https://localhost:8080/"
        },
        "id": "8oQZhagRZryX",
        "outputId": "d899a053-d63a-45f5-ab96-166bbd7d34dd"
      },
      "source": [
        "print(t.texts_to_matrix(texts,mode = 'binary'))"
      ],
      "execution_count": null,
      "outputs": [
        {
          "output_type": "stream",
          "text": [
            "[[0. 0. 1. 1. 1. 0. 0. 0. 0. 0.]\n",
            " [0. 1. 1. 1. 0. 0. 0. 0. 0. 0.]\n",
            " [0. 1. 0. 0. 0. 1. 1. 0. 0. 0.]\n",
            " [0. 0. 0. 0. 0. 0. 0. 1. 1. 1.]]\n"
          ],
          "name": "stdout"
        }
      ]
    },
    {
      "cell_type": "markdown",
      "metadata": {
        "id": "SVaHZgK4b8J9"
      },
      "source": [
        "binary 모드\n",
        "- count 모드와 유사하지만 각 문서별 특정 단어가 있으면 1 아니면 0으로 값을 반환"
      ]
    },
    {
      "cell_type": "code",
      "metadata": {
        "colab": {
          "base_uri": "https://localhost:8080/"
        },
        "id": "nisLfaPRZ0ru",
        "outputId": "bff87304-c323-4c3c-ee9b-40975bcda8e0"
      },
      "source": [
        "print(t.texts_to_matrix(texts,mode = 'freq').round(3))"
      ],
      "execution_count": null,
      "outputs": [
        {
          "output_type": "stream",
          "text": [
            "[[0.    0.    0.333 0.333 0.333 0.    0.    0.    0.    0.   ]\n",
            " [0.    0.333 0.333 0.333 0.    0.    0.    0.    0.    0.   ]\n",
            " [0.    0.5   0.    0.    0.    0.25  0.25  0.    0.    0.   ]\n",
            " [0.    0.    0.    0.    0.    0.    0.    0.333 0.333 0.333]]\n"
          ],
          "name": "stdout"
        }
      ]
    },
    {
      "cell_type": "markdown",
      "metadata": {
        "id": "GEEcIgnYcCRG"
      },
      "source": [
        "freq 모드\n",
        "- 각 문서별 전체 단어 개수에서 특정 단어 개수를 나눠서 값을 반환\n",
        "- ex) 길고 노란 바나나 바나나 => 바나나의 값은 2 / 4, 길고와 노란의 값은 1/4"
      ]
    },
    {
      "cell_type": "code",
      "metadata": {
        "colab": {
          "base_uri": "https://localhost:8080/"
        },
        "id": "6wNbu7ifZ17D",
        "outputId": "ddc43692-24e4-411f-bcd3-4ed74b44393d"
      },
      "source": [
        "print(t.texts_to_matrix(texts,mode = 'tfidf').round(3))"
      ],
      "execution_count": null,
      "outputs": [
        {
          "output_type": "stream",
          "text": [
            "[[0.    0.    0.847 0.847 1.099 0.    0.    0.    0.    0.   ]\n",
            " [0.    0.847 0.847 0.847 0.    0.    0.    0.    0.    0.   ]\n",
            " [0.    1.435 0.    0.    0.    1.099 1.099 0.    0.    0.   ]\n",
            " [0.    0.    0.    0.    0.    0.    0.    1.099 1.099 1.099]]\n"
          ],
          "name": "stdout"
        }
      ]
    },
    {
      "cell_type": "markdown",
      "metadata": {
        "id": "lDdBoWppcZ31"
      },
      "source": [
        "tfidf 모드\n",
        "- 직접 구현 및 sklearn의 tfidf와 조금 다른 방식\n",
        "- idf 계산 시 idf = log((N / (df+1)) + 1)로 log 내에 1을 더해줌\n",
        "- 조금씩 구현 방식은 다르지만 기본은 동일하므로 필요한 조건에 맞춰서 사용하면 됌"
      ]
    },
    {
      "cell_type": "markdown",
      "metadata": {
        "id": "kZUyQqn9dD0X"
      },
      "source": [
        "## Tensorflow 기초(Keras)"
      ]
    },
    {
      "cell_type": "markdown",
      "metadata": {
        "id": "xtLs_ZloWy7Y"
      },
      "source": [
        "### import 시 패키지 네이밍"
      ]
    },
    {
      "cell_type": "code",
      "metadata": {
        "id": "nJ0yX_wUW12l"
      },
      "source": [
        "from tensorflow.keras.layers import Dense\n",
        "from tensorflow.keras.models import Sequential\n",
        "from tensorflow.keras.callbacks import ModelCheckpoint\n",
        "from tensorflow.keras.optimizers import Adam"
      ],
      "execution_count": null,
      "outputs": []
    },
    {
      "cell_type": "markdown",
      "metadata": {
        "id": "ja-TJ9WgXD2O"
      },
      "source": [
        "### 딥러닝 실행 순서"
      ]
    },
    {
      "cell_type": "markdown",
      "metadata": {
        "id": "04tGoCgIXGA_"
      },
      "source": [
        "1. 전처리 : 학습에 필요한 데이터 전처리 수행   \n",
        "2. 모델링(model) : 모델을 정의   \n",
        "3. 컴파일(compile) : 모델 생성   \n",
        "4. 학습(fit) : 모델 학습   \n",
        "\n",
        "아래는 실세 전처리 - 모델링 - 컴파일 - 학습으로 이어지는 코드"
      ]
    },
    {
      "cell_type": "code",
      "metadata": {
        "colab": {
          "base_uri": "https://localhost:8080/"
        },
        "id": "KLoe55oiXV3_",
        "outputId": "959f7a5a-c9f5-43f5-e4cd-cf6a0d0df175"
      },
      "source": [
        "import tensorflow as tf\n",
        "tf.keras.layers.Dense(units = 10)"
      ],
      "execution_count": null,
      "outputs": [
        {
          "output_type": "execute_result",
          "data": {
            "text/plain": [
              "<tensorflow.python.keras.layers.core.Dense at 0x7f3c8c539ed0>"
            ]
          },
          "metadata": {
            "tags": []
          },
          "execution_count": 3
        }
      ]
    },
    {
      "cell_type": "code",
      "metadata": {
        "colab": {
          "base_uri": "https://localhost:8080/"
        },
        "id": "nUanUOvYXhuF",
        "outputId": "0cb0e977-c7d9-40f7-ef4b-649c39bb1a8f"
      },
      "source": [
        "from tensorflow.keras.layers import Dense\n",
        "Dense(units = 10)"
      ],
      "execution_count": null,
      "outputs": [
        {
          "output_type": "execute_result",
          "data": {
            "text/plain": [
              "<tensorflow.python.keras.layers.core.Dense at 0x7f3c7e499750>"
            ]
          },
          "metadata": {
            "tags": []
          },
          "execution_count": 5
        }
      ]
    },
    {
      "cell_type": "code",
      "metadata": {
        "colab": {
          "base_uri": "https://localhost:8080/"
        },
        "id": "Ilykgk7WXlwW",
        "outputId": "1d5aee20-7ccc-4fe8-ebbc-138bdcf22336"
      },
      "source": [
        "# 필요한 패키지 import\n",
        "import numpy as np\n",
        "from tensorflow.keras.layers import Dense\n",
        "from tensorflow.keras.models import Sequential\n",
        "\n",
        "# 데이터 전처리\n",
        "xs = np.array([-1.0, 0.0, 1.0, 2.0, 3.0, 4.0], dtype=float)\n",
        "ys = np.array([5.0, 6.0, 7.0, 8.0, 9.0, 10.0], dtype=float)\n",
        "\n",
        "# 모델 정의(modeling)\n",
        "model = Sequential()\n",
        "\n",
        "# Dense의 첫번째 인자는 항상 출력의 차원을 의미\n",
        "model.add(Dense(units = 1,activation = 'linear',input_shape = (1,)))\n",
        "# model.add(Dense(units = 1,activation = 'linear',input_dim = 1))\n",
        "\n",
        "# 모델 생성(compile)\n",
        "model.compile(optimizer = 'sgd',loss = 'mse')\n",
        "\n",
        "# 학습(fit)\n",
        "model.fit(xs,ys,epochs = 1200, verbose = 0)\n",
        "\n",
        "# 검증\n",
        "# 16.000046\n",
        "model.predict([10.0])"
      ],
      "execution_count": 3,
      "outputs": [
        {
          "output_type": "execute_result",
          "data": {
            "text/plain": [
              "array([[16.000046]], dtype=float32)"
            ]
          },
          "metadata": {
            "tags": []
          },
          "execution_count": 3
        }
      ]
    },
    {
      "cell_type": "markdown",
      "metadata": {
        "id": "7eoOsRd9YZ3v"
      },
      "source": [
        "tensorflow 2.0은 keras의 sequential 방식과 동일하게 블록쌓기 방식으로 매우 쉽게 모델링이 가능   \n",
        "Dense Layer는 가장 기본적인 신경망층   \n",
        "Dense == fully Connected layer"
      ]
    },
    {
      "cell_type": "code",
      "metadata": {
        "colab": {
          "base_uri": "https://localhost:8080/",
          "height": 405
        },
        "id": "XPuDHYoGYy_b",
        "outputId": "f86284c9-bbee-49f7-af1a-ac98c34fd4e3"
      },
      "source": [
        "from IPython.display import Image\n",
        "\n",
        "Image('https://cs231n.github.io/assets/nn1/neural_net2.jpeg')"
      ],
      "execution_count": 4,
      "outputs": [
        {
          "output_type": "execute_result",
          "data": {
            "image/jpeg": "[encoded data removed]",
            "text/plain": [
              "<IPython.core.display.Image object>"
            ]
          },
          "metadata": {
            "tags": []
          },
          "execution_count": 4
        }
      ]
    },
    {
      "cell_type": "code",
      "metadata": {
        "id": "uPK4K54vYzui"
      },
      "source": [
        "model = Sequential([\n",
        "                    Dense(1)\n",
        "])"
      ],
      "execution_count": 5,
      "outputs": []
    },
    {
      "cell_type": "markdown",
      "metadata": {
        "id": "jh6vJbzzZC-C"
      },
      "source": [
        "### 적절한 optimizer와 loss 선정\n",
        "---\n",
        "- 모델별로 적절한 optimizer와 loss 선정이 필요\n",
        "- regression(회귀) 예측을 위해서는 loss = mse를 선택\n",
        "- optimizer는 여러가지를 활용할 수 있지만, 단순 회귀에선 sgd가 적당"
      ]
    },
    {
      "cell_type": "markdown",
      "metadata": {
        "id": "-7eXgg50ZFis"
      },
      "source": [
        "### compile\n",
        "---\n",
        "- 선택한 optimizer와 loss를 지정해주고 컴파일 진행"
      ]
    },
    {
      "cell_type": "code",
      "metadata": {
        "id": "RRhr78-XkBxS"
      },
      "source": [
        "model.compile(optimizer = 'sgd', loss = 'mse')"
      ],
      "execution_count": 6,
      "outputs": []
    },
    {
      "cell_type": "markdown",
      "metadata": {
        "id": "kqLiml0bkQjB"
      },
      "source": [
        "### fit\n",
        "---\n",
        "- fit 메소드를 이용하여 모델 학습 진행\n",
        "- 학습 시 feature, label 값 지정, 그리고 epochs 지정"
      ]
    },
    {
      "cell_type": "code",
      "metadata": {
        "colab": {
          "base_uri": "https://localhost:8080/"
        },
        "id": "IdPLM35OkcHJ",
        "outputId": "a5af4e04-1d5d-45ba-934d-f3b941c4c233"
      },
      "source": [
        "model.fit(xs,ys, epochs = 1200, verbose = 0)"
      ],
      "execution_count": 8,
      "outputs": [
        {
          "output_type": "execute_result",
          "data": {
            "text/plain": [
              "<tensorflow.python.keras.callbacks.History at 0x7fb6f6c3a590>"
            ]
          },
          "metadata": {
            "tags": []
          },
          "execution_count": 8
        }
      ]
    },
    {
      "cell_type": "markdown",
      "metadata": {
        "id": "AiTyJ5LVkf2y"
      },
      "source": [
        "### Predict\n",
        "---\n",
        "잘 학습되었는지 검증"
      ]
    },
    {
      "cell_type": "code",
      "metadata": {
        "colab": {
          "base_uri": "https://localhost:8080/"
        },
        "id": "60LbGJWckmKn",
        "outputId": "4a0b54ea-07b2-4669-c655-ad2023a75aea"
      },
      "source": [
        "# output\n",
        "# 16.000046\n",
        "model.predict([10.0])"
      ],
      "execution_count": 9,
      "outputs": [
        {
          "output_type": "execute_result",
          "data": {
            "text/plain": [
              "array([[16.000046]], dtype=float32)"
            ]
          },
          "metadata": {
            "tags": []
          },
          "execution_count": 9
        }
      ]
    },
    {
      "cell_type": "markdown",
      "metadata": {
        "id": "zmyWoPyIkquM"
      },
      "source": [
        "## 선형 회귀 구현(Keras)"
      ]
    },
    {
      "cell_type": "code",
      "metadata": {
        "id": "YujjpF7Vk1GU"
      },
      "source": [
        "from tensorflow.keras.models import Sequential\n",
        "from tensorflow.keras.layers import Dense\n",
        "from tensorflow.keras import optimizers\n",
        "import numpy as np"
      ],
      "execution_count": 10,
      "outputs": []
    },
    {
      "cell_type": "code",
      "metadata": {
        "id": "7CpcK8fwlCpU"
      },
      "source": [
        "X=[1,2,3,4,5,6,7,8,9] # 공부하는 시간\n",
        "y=[11,22,33,44,53,66,77,87,95] # 각 공부하는 시간에 맵핑되는 성적"
      ],
      "execution_count": 11,
      "outputs": []
    },
    {
      "cell_type": "code",
      "metadata": {
        "colab": {
          "base_uri": "https://localhost:8080/"
        },
        "id": "ufpcrba6lDNj",
        "outputId": "e94bbb18-a0a5-4f6d-d065-5d543db62c21"
      },
      "source": [
        "model = Sequential()\n",
        "model.add(Dense(units = 1, activation = 'linear'))\n",
        "sgd = optimizers.SGD(lr = 0.01)\n",
        "model.compile(optimizer = sgd, loss = 'mse', metrics = ['mse'])\n",
        "model.fit(X,y,epochs = 300, shuffle=False)"
      ],
      "execution_count": 12,
      "outputs": [
        {
          "output_type": "stream",
          "text": [
            "/usr/local/lib/python3.7/dist-packages/tensorflow/python/keras/optimizer_v2/optimizer_v2.py:375: UserWarning: The `lr` argument is deprecated, use `learning_rate` instead.\n",
            "  \"The `lr` argument is deprecated, use `learning_rate` instead.\")\n"
          ],
          "name": "stderr"
        },
        {
          "output_type": "stream",
          "text": [
            "Epoch 1/300\n",
            "1/1 [==============================] - 0s 302ms/step - loss: 2940.3147 - mse: 2940.3147\n",
            "Epoch 2/300\n",
            "1/1 [==============================] - 0s 8ms/step - loss: 362.7996 - mse: 362.7996\n",
            "Epoch 3/300\n",
            "1/1 [==============================] - 0s 4ms/step - loss: 45.6551 - mse: 45.6551\n",
            "Epoch 4/300\n",
            "1/1 [==============================] - 0s 6ms/step - loss: 6.6321 - mse: 6.6321\n",
            "Epoch 5/300\n",
            "1/1 [==============================] - 0s 4ms/step - loss: 1.8300 - mse: 1.8300\n",
            "Epoch 6/300\n",
            "1/1 [==============================] - 0s 4ms/step - loss: 1.2384 - mse: 1.2384\n",
            "Epoch 7/300\n",
            "1/1 [==============================] - 0s 5ms/step - loss: 1.1649 - mse: 1.1649\n",
            "Epoch 8/300\n",
            "1/1 [==============================] - 0s 4ms/step - loss: 1.1552 - mse: 1.1552\n",
            "Epoch 9/300\n",
            "1/1 [==============================] - 0s 5ms/step - loss: 1.1533 - mse: 1.1533\n",
            "Epoch 10/300\n",
            "1/1 [==============================] - 0s 5ms/step - loss: 1.1524 - mse: 1.1524\n",
            "Epoch 11/300\n",
            "1/1 [==============================] - 0s 5ms/step - loss: 1.1517 - mse: 1.1517\n",
            "Epoch 12/300\n",
            "1/1 [==============================] - 0s 7ms/step - loss: 1.1509 - mse: 1.1509\n",
            "Epoch 13/300\n",
            "1/1 [==============================] - 0s 7ms/step - loss: 1.1502 - mse: 1.1502\n",
            "Epoch 14/300\n",
            "1/1 [==============================] - 0s 4ms/step - loss: 1.1494 - mse: 1.1494\n",
            "Epoch 15/300\n",
            "1/1 [==============================] - 0s 5ms/step - loss: 1.1487 - mse: 1.1487\n",
            "Epoch 16/300\n",
            "1/1 [==============================] - 0s 5ms/step - loss: 1.1480 - mse: 1.1480\n",
            "Epoch 17/300\n",
            "1/1 [==============================] - 0s 14ms/step - loss: 1.1472 - mse: 1.1472\n",
            "Epoch 18/300\n",
            "1/1 [==============================] - 0s 5ms/step - loss: 1.1465 - mse: 1.1465\n",
            "Epoch 19/300\n",
            "1/1 [==============================] - 0s 5ms/step - loss: 1.1458 - mse: 1.1458\n",
            "Epoch 20/300\n",
            "1/1 [==============================] - 0s 5ms/step - loss: 1.1451 - mse: 1.1451\n",
            "Epoch 21/300\n",
            "1/1 [==============================] - 0s 8ms/step - loss: 1.1444 - mse: 1.1444\n",
            "Epoch 22/300\n",
            "1/1 [==============================] - 0s 9ms/step - loss: 1.1437 - mse: 1.1437\n",
            "Epoch 23/300\n",
            "1/1 [==============================] - 0s 4ms/step - loss: 1.1430 - mse: 1.1430\n",
            "Epoch 24/300\n",
            "1/1 [==============================] - 0s 5ms/step - loss: 1.1423 - mse: 1.1423\n",
            "Epoch 25/300\n",
            "1/1 [==============================] - 0s 4ms/step - loss: 1.1417 - mse: 1.1417\n",
            "Epoch 26/300\n",
            "1/1 [==============================] - 0s 9ms/step - loss: 1.1410 - mse: 1.1410\n",
            "Epoch 27/300\n",
            "1/1 [==============================] - 0s 4ms/step - loss: 1.1403 - mse: 1.1403\n",
            "Epoch 28/300\n",
            "1/1 [==============================] - 0s 4ms/step - loss: 1.1397 - mse: 1.1397\n",
            "Epoch 29/300\n",
            "1/1 [==============================] - 0s 3ms/step - loss: 1.1390 - mse: 1.1390\n",
            "Epoch 30/300\n",
            "1/1 [==============================] - 0s 10ms/step - loss: 1.1384 - mse: 1.1384\n",
            "Epoch 31/300\n",
            "1/1 [==============================] - 0s 6ms/step - loss: 1.1377 - mse: 1.1377\n",
            "Epoch 32/300\n",
            "1/1 [==============================] - 0s 4ms/step - loss: 1.1371 - mse: 1.1371\n",
            "Epoch 33/300\n",
            "1/1 [==============================] - 0s 4ms/step - loss: 1.1365 - mse: 1.1365\n",
            "Epoch 34/300\n",
            "1/1 [==============================] - 0s 5ms/step - loss: 1.1358 - mse: 1.1358\n",
            "Epoch 35/300\n",
            "1/1 [==============================] - 0s 6ms/step - loss: 1.1352 - mse: 1.1352\n",
            "Epoch 36/300\n",
            "1/1 [==============================] - 0s 5ms/step - loss: 1.1346 - mse: 1.1346\n",
            "Epoch 37/300\n",
            "1/1 [==============================] - 0s 4ms/step - loss: 1.1340 - mse: 1.1340\n",
            "Epoch 38/300\n",
            "1/1 [==============================] - 0s 9ms/step - loss: 1.1334 - mse: 1.1334\n",
            "Epoch 39/300\n",
            "1/1 [==============================] - 0s 5ms/step - loss: 1.1328 - mse: 1.1328\n",
            "Epoch 40/300\n",
            "1/1 [==============================] - 0s 4ms/step - loss: 1.1322 - mse: 1.1322\n",
            "Epoch 41/300\n",
            "1/1 [==============================] - 0s 5ms/step - loss: 1.1316 - mse: 1.1316\n",
            "Epoch 42/300\n",
            "1/1 [==============================] - 0s 4ms/step - loss: 1.1310 - mse: 1.1310\n",
            "Epoch 43/300\n",
            "1/1 [==============================] - 0s 4ms/step - loss: 1.1304 - mse: 1.1304\n",
            "Epoch 44/300\n",
            "1/1 [==============================] - 0s 6ms/step - loss: 1.1298 - mse: 1.1298\n",
            "Epoch 45/300\n",
            "1/1 [==============================] - 0s 5ms/step - loss: 1.1292 - mse: 1.1292\n",
            "Epoch 46/300\n",
            "1/1 [==============================] - 0s 9ms/step - loss: 1.1287 - mse: 1.1287\n",
            "Epoch 47/300\n",
            "1/1 [==============================] - 0s 4ms/step - loss: 1.1281 - mse: 1.1281\n",
            "Epoch 48/300\n",
            "1/1 [==============================] - 0s 5ms/step - loss: 1.1276 - mse: 1.1276\n",
            "Epoch 49/300\n",
            "1/1 [==============================] - 0s 5ms/step - loss: 1.1270 - mse: 1.1270\n",
            "Epoch 50/300\n",
            "1/1 [==============================] - 0s 5ms/step - loss: 1.1265 - mse: 1.1265\n",
            "Epoch 51/300\n",
            "1/1 [==============================] - 0s 7ms/step - loss: 1.1259 - mse: 1.1259\n",
            "Epoch 52/300\n",
            "1/1 [==============================] - 0s 6ms/step - loss: 1.1254 - mse: 1.1254\n",
            "Epoch 53/300\n",
            "1/1 [==============================] - 0s 5ms/step - loss: 1.1248 - mse: 1.1248\n",
            "Epoch 54/300\n",
            "1/1 [==============================] - 0s 5ms/step - loss: 1.1243 - mse: 1.1243\n",
            "Epoch 55/300\n",
            "1/1 [==============================] - 0s 6ms/step - loss: 1.1238 - mse: 1.1238\n",
            "Epoch 56/300\n",
            "1/1 [==============================] - 0s 6ms/step - loss: 1.1232 - mse: 1.1232\n",
            "Epoch 57/300\n",
            "1/1 [==============================] - 0s 5ms/step - loss: 1.1227 - mse: 1.1227\n",
            "Epoch 58/300\n",
            "1/1 [==============================] - 0s 8ms/step - loss: 1.1222 - mse: 1.1222\n",
            "Epoch 59/300\n",
            "1/1 [==============================] - 0s 4ms/step - loss: 1.1217 - mse: 1.1217\n",
            "Epoch 60/300\n",
            "1/1 [==============================] - 0s 5ms/step - loss: 1.1212 - mse: 1.1212\n",
            "Epoch 61/300\n",
            "1/1 [==============================] - 0s 4ms/step - loss: 1.1207 - mse: 1.1207\n",
            "Epoch 62/300\n",
            "1/1 [==============================] - 0s 4ms/step - loss: 1.1202 - mse: 1.1202\n",
            "Epoch 63/300\n",
            "1/1 [==============================] - 0s 5ms/step - loss: 1.1197 - mse: 1.1197\n",
            "Epoch 64/300\n",
            "1/1 [==============================] - 0s 5ms/step - loss: 1.1192 - mse: 1.1192\n",
            "Epoch 65/300\n",
            "1/1 [==============================] - 0s 5ms/step - loss: 1.1187 - mse: 1.1187\n",
            "Epoch 66/300\n",
            "1/1 [==============================] - 0s 5ms/step - loss: 1.1182 - mse: 1.1182\n",
            "Epoch 67/300\n",
            "1/1 [==============================] - 0s 5ms/step - loss: 1.1178 - mse: 1.1178\n",
            "Epoch 68/300\n",
            "1/1 [==============================] - 0s 5ms/step - loss: 1.1173 - mse: 1.1173\n",
            "Epoch 69/300\n",
            "1/1 [==============================] - 0s 5ms/step - loss: 1.1168 - mse: 1.1168\n",
            "Epoch 70/300\n",
            "1/1 [==============================] - 0s 4ms/step - loss: 1.1163 - mse: 1.1163\n",
            "Epoch 71/300\n",
            "1/1 [==============================] - 0s 4ms/step - loss: 1.1159 - mse: 1.1159\n",
            "Epoch 72/300\n",
            "1/1 [==============================] - 0s 5ms/step - loss: 1.1154 - mse: 1.1154\n",
            "Epoch 73/300\n",
            "1/1 [==============================] - 0s 5ms/step - loss: 1.1150 - mse: 1.1150\n",
            "Epoch 74/300\n",
            "1/1 [==============================] - 0s 6ms/step - loss: 1.1145 - mse: 1.1145\n",
            "Epoch 75/300\n",
            "1/1 [==============================] - 0s 5ms/step - loss: 1.1141 - mse: 1.1141\n",
            "Epoch 76/300\n",
            "1/1 [==============================] - 0s 4ms/step - loss: 1.1136 - mse: 1.1136\n",
            "Epoch 77/300\n",
            "1/1 [==============================] - 0s 5ms/step - loss: 1.1132 - mse: 1.1132\n",
            "Epoch 78/300\n",
            "1/1 [==============================] - 0s 4ms/step - loss: 1.1127 - mse: 1.1127\n",
            "Epoch 79/300\n",
            "1/1 [==============================] - 0s 7ms/step - loss: 1.1123 - mse: 1.1123\n",
            "Epoch 80/300\n",
            "1/1 [==============================] - 0s 10ms/step - loss: 1.1119 - mse: 1.1119\n",
            "Epoch 81/300\n",
            "1/1 [==============================] - 0s 5ms/step - loss: 1.1115 - mse: 1.1115\n",
            "Epoch 82/300\n",
            "1/1 [==============================] - 0s 4ms/step - loss: 1.1110 - mse: 1.1110\n",
            "Epoch 83/300\n",
            "1/1 [==============================] - 0s 5ms/step - loss: 1.1106 - mse: 1.1106\n",
            "Epoch 84/300\n",
            "1/1 [==============================] - 0s 6ms/step - loss: 1.1102 - mse: 1.1102\n",
            "Epoch 85/300\n",
            "1/1 [==============================] - 0s 5ms/step - loss: 1.1098 - mse: 1.1098\n",
            "Epoch 86/300\n",
            "1/1 [==============================] - 0s 5ms/step - loss: 1.1094 - mse: 1.1094\n",
            "Epoch 87/300\n",
            "1/1 [==============================] - 0s 6ms/step - loss: 1.1090 - mse: 1.1090\n",
            "Epoch 88/300\n",
            "1/1 [==============================] - 0s 4ms/step - loss: 1.1086 - mse: 1.1086\n",
            "Epoch 89/300\n",
            "1/1 [==============================] - 0s 4ms/step - loss: 1.1082 - mse: 1.1082\n",
            "Epoch 90/300\n",
            "1/1 [==============================] - 0s 6ms/step - loss: 1.1078 - mse: 1.1078\n",
            "Epoch 91/300\n",
            "1/1 [==============================] - 0s 4ms/step - loss: 1.1074 - mse: 1.1074\n",
            "Epoch 92/300\n",
            "1/1 [==============================] - 0s 4ms/step - loss: 1.1070 - mse: 1.1070\n",
            "Epoch 93/300\n",
            "1/1 [==============================] - 0s 5ms/step - loss: 1.1066 - mse: 1.1066\n",
            "Epoch 94/300\n",
            "1/1 [==============================] - 0s 4ms/step - loss: 1.1062 - mse: 1.1062\n",
            "Epoch 95/300\n",
            "1/1 [==============================] - 0s 5ms/step - loss: 1.1058 - mse: 1.1058\n",
            "Epoch 96/300\n",
            "1/1 [==============================] - 0s 5ms/step - loss: 1.1055 - mse: 1.1055\n",
            "Epoch 97/300\n",
            "1/1 [==============================] - 0s 5ms/step - loss: 1.1051 - mse: 1.1051\n",
            "Epoch 98/300\n",
            "1/1 [==============================] - 0s 5ms/step - loss: 1.1047 - mse: 1.1047\n",
            "Epoch 99/300\n",
            "1/1 [==============================] - 0s 8ms/step - loss: 1.1044 - mse: 1.1044\n",
            "Epoch 100/300\n",
            "1/1 [==============================] - 0s 5ms/step - loss: 1.1040 - mse: 1.1040\n",
            "Epoch 101/300\n",
            "1/1 [==============================] - 0s 9ms/step - loss: 1.1036 - mse: 1.1036\n",
            "Epoch 102/300\n",
            "1/1 [==============================] - 0s 5ms/step - loss: 1.1033 - mse: 1.1033\n",
            "Epoch 103/300\n",
            "1/1 [==============================] - 0s 4ms/step - loss: 1.1029 - mse: 1.1029\n",
            "Epoch 104/300\n",
            "1/1 [==============================] - 0s 11ms/step - loss: 1.1026 - mse: 1.1026\n",
            "Epoch 105/300\n",
            "1/1 [==============================] - 0s 6ms/step - loss: 1.1022 - mse: 1.1022\n",
            "Epoch 106/300\n",
            "1/1 [==============================] - 0s 5ms/step - loss: 1.1019 - mse: 1.1019\n",
            "Epoch 107/300\n",
            "1/1 [==============================] - 0s 5ms/step - loss: 1.1015 - mse: 1.1015\n",
            "Epoch 108/300\n",
            "1/1 [==============================] - 0s 7ms/step - loss: 1.1012 - mse: 1.1012\n",
            "Epoch 109/300\n",
            "1/1 [==============================] - 0s 5ms/step - loss: 1.1008 - mse: 1.1008\n",
            "Epoch 110/300\n",
            "1/1 [==============================] - 0s 4ms/step - loss: 1.1005 - mse: 1.1005\n",
            "Epoch 111/300\n",
            "1/1 [==============================] - 0s 5ms/step - loss: 1.1002 - mse: 1.1002\n",
            "Epoch 112/300\n",
            "1/1 [==============================] - 0s 4ms/step - loss: 1.0998 - mse: 1.0998\n",
            "Epoch 113/300\n",
            "1/1 [==============================] - 0s 4ms/step - loss: 1.0995 - mse: 1.0995\n",
            "Epoch 114/300\n",
            "1/1 [==============================] - 0s 4ms/step - loss: 1.0992 - mse: 1.0992\n",
            "Epoch 115/300\n",
            "1/1 [==============================] - 0s 4ms/step - loss: 1.0989 - mse: 1.0989\n",
            "Epoch 116/300\n",
            "1/1 [==============================] - 0s 5ms/step - loss: 1.0985 - mse: 1.0985\n",
            "Epoch 117/300\n",
            "1/1 [==============================] - 0s 4ms/step - loss: 1.0982 - mse: 1.0982\n",
            "Epoch 118/300\n",
            "1/1 [==============================] - 0s 10ms/step - loss: 1.0979 - mse: 1.0979\n",
            "Epoch 119/300\n",
            "1/1 [==============================] - 0s 4ms/step - loss: 1.0976 - mse: 1.0976\n",
            "Epoch 120/300\n",
            "1/1 [==============================] - 0s 5ms/step - loss: 1.0973 - mse: 1.0973\n",
            "Epoch 121/300\n",
            "1/1 [==============================] - 0s 4ms/step - loss: 1.0970 - mse: 1.0970\n",
            "Epoch 122/300\n",
            "1/1 [==============================] - 0s 4ms/step - loss: 1.0967 - mse: 1.0967\n",
            "Epoch 123/300\n",
            "1/1 [==============================] - 0s 4ms/step - loss: 1.0964 - mse: 1.0964\n",
            "Epoch 124/300\n",
            "1/1 [==============================] - 0s 6ms/step - loss: 1.0961 - mse: 1.0961\n",
            "Epoch 125/300\n",
            "1/1 [==============================] - 0s 5ms/step - loss: 1.0958 - mse: 1.0958\n",
            "Epoch 126/300\n",
            "1/1 [==============================] - 0s 4ms/step - loss: 1.0955 - mse: 1.0955\n",
            "Epoch 127/300\n",
            "1/1 [==============================] - 0s 4ms/step - loss: 1.0952 - mse: 1.0952\n",
            "Epoch 128/300\n",
            "1/1 [==============================] - 0s 5ms/step - loss: 1.0949 - mse: 1.0949\n",
            "Epoch 129/300\n",
            "1/1 [==============================] - 0s 5ms/step - loss: 1.0946 - mse: 1.0946\n",
            "Epoch 130/300\n",
            "1/1 [==============================] - 0s 4ms/step - loss: 1.0943 - mse: 1.0943\n",
            "Epoch 131/300\n",
            "1/1 [==============================] - 0s 4ms/step - loss: 1.0941 - mse: 1.0941\n",
            "Epoch 132/300\n",
            "1/1 [==============================] - 0s 4ms/step - loss: 1.0938 - mse: 1.0938\n",
            "Epoch 133/300\n",
            "1/1 [==============================] - 0s 5ms/step - loss: 1.0935 - mse: 1.0935\n",
            "Epoch 134/300\n",
            "1/1 [==============================] - 0s 5ms/step - loss: 1.0932 - mse: 1.0932\n",
            "Epoch 135/300\n",
            "1/1 [==============================] - 0s 4ms/step - loss: 1.0929 - mse: 1.0929\n",
            "Epoch 136/300\n",
            "1/1 [==============================] - 0s 11ms/step - loss: 1.0927 - mse: 1.0927\n",
            "Epoch 137/300\n",
            "1/1 [==============================] - 0s 7ms/step - loss: 1.0924 - mse: 1.0924\n",
            "Epoch 138/300\n",
            "1/1 [==============================] - 0s 5ms/step - loss: 1.0921 - mse: 1.0921\n",
            "Epoch 139/300\n",
            "1/1 [==============================] - 0s 6ms/step - loss: 1.0919 - mse: 1.0919\n",
            "Epoch 140/300\n",
            "1/1 [==============================] - 0s 4ms/step - loss: 1.0916 - mse: 1.0916\n",
            "Epoch 141/300\n",
            "1/1 [==============================] - 0s 6ms/step - loss: 1.0914 - mse: 1.0914\n",
            "Epoch 142/300\n",
            "1/1 [==============================] - 0s 4ms/step - loss: 1.0911 - mse: 1.0911\n",
            "Epoch 143/300\n",
            "1/1 [==============================] - 0s 10ms/step - loss: 1.0908 - mse: 1.0908\n",
            "Epoch 144/300\n",
            "1/1 [==============================] - 0s 4ms/step - loss: 1.0906 - mse: 1.0906\n",
            "Epoch 145/300\n",
            "1/1 [==============================] - 0s 4ms/step - loss: 1.0903 - mse: 1.0903\n",
            "Epoch 146/300\n",
            "1/1 [==============================] - 0s 4ms/step - loss: 1.0901 - mse: 1.0901\n",
            "Epoch 147/300\n",
            "1/1 [==============================] - 0s 5ms/step - loss: 1.0898 - mse: 1.0898\n",
            "Epoch 148/300\n",
            "1/1 [==============================] - 0s 4ms/step - loss: 1.0896 - mse: 1.0896\n",
            "Epoch 149/300\n",
            "1/1 [==============================] - 0s 6ms/step - loss: 1.0893 - mse: 1.0893\n",
            "Epoch 150/300\n",
            "1/1 [==============================] - 0s 5ms/step - loss: 1.0891 - mse: 1.0891\n",
            "Epoch 151/300\n",
            "1/1 [==============================] - 0s 4ms/step - loss: 1.0889 - mse: 1.0889\n",
            "Epoch 152/300\n",
            "1/1 [==============================] - 0s 5ms/step - loss: 1.0886 - mse: 1.0886\n",
            "Epoch 153/300\n",
            "1/1 [==============================] - 0s 6ms/step - loss: 1.0884 - mse: 1.0884\n",
            "Epoch 154/300\n",
            "1/1 [==============================] - 0s 4ms/step - loss: 1.0882 - mse: 1.0882\n",
            "Epoch 155/300\n",
            "1/1 [==============================] - 0s 7ms/step - loss: 1.0879 - mse: 1.0879\n",
            "Epoch 156/300\n",
            "1/1 [==============================] - 0s 5ms/step - loss: 1.0877 - mse: 1.0877\n",
            "Epoch 157/300\n",
            "1/1 [==============================] - 0s 4ms/step - loss: 1.0875 - mse: 1.0875\n",
            "Epoch 158/300\n",
            "1/1 [==============================] - 0s 4ms/step - loss: 1.0872 - mse: 1.0872\n",
            "Epoch 159/300\n",
            "1/1 [==============================] - 0s 4ms/step - loss: 1.0870 - mse: 1.0870\n",
            "Epoch 160/300\n",
            "1/1 [==============================] - 0s 6ms/step - loss: 1.0868 - mse: 1.0868\n",
            "Epoch 161/300\n",
            "1/1 [==============================] - 0s 8ms/step - loss: 1.0866 - mse: 1.0866\n",
            "Epoch 162/300\n",
            "1/1 [==============================] - 0s 10ms/step - loss: 1.0864 - mse: 1.0864\n",
            "Epoch 163/300\n",
            "1/1 [==============================] - 0s 5ms/step - loss: 1.0861 - mse: 1.0861\n",
            "Epoch 164/300\n",
            "1/1 [==============================] - 0s 4ms/step - loss: 1.0859 - mse: 1.0859\n",
            "Epoch 165/300\n",
            "1/1 [==============================] - 0s 5ms/step - loss: 1.0857 - mse: 1.0857\n",
            "Epoch 166/300\n",
            "1/1 [==============================] - 0s 4ms/step - loss: 1.0855 - mse: 1.0855\n",
            "Epoch 167/300\n",
            "1/1 [==============================] - 0s 5ms/step - loss: 1.0853 - mse: 1.0853\n",
            "Epoch 168/300\n",
            "1/1 [==============================] - 0s 10ms/step - loss: 1.0851 - mse: 1.0851\n",
            "Epoch 169/300\n",
            "1/1 [==============================] - 0s 4ms/step - loss: 1.0849 - mse: 1.0849\n",
            "Epoch 170/300\n",
            "1/1 [==============================] - 0s 4ms/step - loss: 1.0847 - mse: 1.0847\n",
            "Epoch 171/300\n",
            "1/1 [==============================] - 0s 4ms/step - loss: 1.0845 - mse: 1.0845\n",
            "Epoch 172/300\n",
            "1/1 [==============================] - 0s 4ms/step - loss: 1.0843 - mse: 1.0843\n",
            "Epoch 173/300\n",
            "1/1 [==============================] - 0s 5ms/step - loss: 1.0841 - mse: 1.0841\n",
            "Epoch 174/300\n",
            "1/1 [==============================] - 0s 4ms/step - loss: 1.0839 - mse: 1.0839\n",
            "Epoch 175/300\n",
            "1/1 [==============================] - 0s 6ms/step - loss: 1.0837 - mse: 1.0837\n",
            "Epoch 176/300\n",
            "1/1 [==============================] - 0s 7ms/step - loss: 1.0835 - mse: 1.0835\n",
            "Epoch 177/300\n",
            "1/1 [==============================] - 0s 4ms/step - loss: 1.0833 - mse: 1.0833\n",
            "Epoch 178/300\n",
            "1/1 [==============================] - 0s 5ms/step - loss: 1.0831 - mse: 1.0831\n",
            "Epoch 179/300\n",
            "1/1 [==============================] - 0s 5ms/step - loss: 1.0829 - mse: 1.0829\n",
            "Epoch 180/300\n",
            "1/1 [==============================] - 0s 17ms/step - loss: 1.0827 - mse: 1.0827\n",
            "Epoch 181/300\n",
            "1/1 [==============================] - 0s 4ms/step - loss: 1.0825 - mse: 1.0825\n",
            "Epoch 182/300\n",
            "1/1 [==============================] - 0s 5ms/step - loss: 1.0823 - mse: 1.0823\n",
            "Epoch 183/300\n",
            "1/1 [==============================] - 0s 10ms/step - loss: 1.0821 - mse: 1.0821\n",
            "Epoch 184/300\n",
            "1/1 [==============================] - 0s 8ms/step - loss: 1.0820 - mse: 1.0820\n",
            "Epoch 185/300\n",
            "1/1 [==============================] - 0s 6ms/step - loss: 1.0818 - mse: 1.0818\n",
            "Epoch 186/300\n",
            "1/1 [==============================] - 0s 6ms/step - loss: 1.0816 - mse: 1.0816\n",
            "Epoch 187/300\n",
            "1/1 [==============================] - 0s 5ms/step - loss: 1.0814 - mse: 1.0814\n",
            "Epoch 188/300\n",
            "1/1 [==============================] - 0s 5ms/step - loss: 1.0813 - mse: 1.0813\n",
            "Epoch 189/300\n",
            "1/1 [==============================] - 0s 5ms/step - loss: 1.0811 - mse: 1.0811\n",
            "Epoch 190/300\n",
            "1/1 [==============================] - 0s 8ms/step - loss: 1.0809 - mse: 1.0809\n",
            "Epoch 191/300\n",
            "1/1 [==============================] - 0s 4ms/step - loss: 1.0807 - mse: 1.0807\n",
            "Epoch 192/300\n",
            "1/1 [==============================] - 0s 5ms/step - loss: 1.0806 - mse: 1.0806\n",
            "Epoch 193/300\n",
            "1/1 [==============================] - 0s 6ms/step - loss: 1.0804 - mse: 1.0804\n",
            "Epoch 194/300\n",
            "1/1 [==============================] - 0s 5ms/step - loss: 1.0802 - mse: 1.0802\n",
            "Epoch 195/300\n",
            "1/1 [==============================] - 0s 4ms/step - loss: 1.0801 - mse: 1.0801\n",
            "Epoch 196/300\n",
            "1/1 [==============================] - 0s 7ms/step - loss: 1.0799 - mse: 1.0799\n",
            "Epoch 197/300\n",
            "1/1 [==============================] - 0s 4ms/step - loss: 1.0797 - mse: 1.0797\n",
            "Epoch 198/300\n",
            "1/1 [==============================] - 0s 6ms/step - loss: 1.0796 - mse: 1.0796\n",
            "Epoch 199/300\n",
            "1/1 [==============================] - 0s 4ms/step - loss: 1.0794 - mse: 1.0794\n",
            "Epoch 200/300\n",
            "1/1 [==============================] - 0s 4ms/step - loss: 1.0792 - mse: 1.0792\n",
            "Epoch 201/300\n",
            "1/1 [==============================] - 0s 5ms/step - loss: 1.0791 - mse: 1.0791\n",
            "Epoch 202/300\n",
            "1/1 [==============================] - 0s 8ms/step - loss: 1.0789 - mse: 1.0789\n",
            "Epoch 203/300\n",
            "1/1 [==============================] - 0s 6ms/step - loss: 1.0788 - mse: 1.0788\n",
            "Epoch 204/300\n",
            "1/1 [==============================] - 0s 11ms/step - loss: 1.0786 - mse: 1.0786\n",
            "Epoch 205/300\n",
            "1/1 [==============================] - 0s 6ms/step - loss: 1.0785 - mse: 1.0785\n",
            "Epoch 206/300\n",
            "1/1 [==============================] - 0s 9ms/step - loss: 1.0783 - mse: 1.0783\n",
            "Epoch 207/300\n",
            "1/1 [==============================] - 0s 5ms/step - loss: 1.0782 - mse: 1.0782\n",
            "Epoch 208/300\n",
            "1/1 [==============================] - 0s 4ms/step - loss: 1.0780 - mse: 1.0780\n",
            "Epoch 209/300\n",
            "1/1 [==============================] - 0s 7ms/step - loss: 1.0779 - mse: 1.0779\n",
            "Epoch 210/300\n",
            "1/1 [==============================] - 0s 5ms/step - loss: 1.0777 - mse: 1.0777\n",
            "Epoch 211/300\n",
            "1/1 [==============================] - 0s 6ms/step - loss: 1.0776 - mse: 1.0776\n",
            "Epoch 212/300\n",
            "1/1 [==============================] - 0s 8ms/step - loss: 1.0774 - mse: 1.0774\n",
            "Epoch 213/300\n",
            "1/1 [==============================] - 0s 6ms/step - loss: 1.0773 - mse: 1.0773\n",
            "Epoch 214/300\n",
            "1/1 [==============================] - 0s 5ms/step - loss: 1.0771 - mse: 1.0771\n",
            "Epoch 215/300\n",
            "1/1 [==============================] - 0s 5ms/step - loss: 1.0770 - mse: 1.0770\n",
            "Epoch 216/300\n",
            "1/1 [==============================] - 0s 5ms/step - loss: 1.0769 - mse: 1.0769\n",
            "Epoch 217/300\n",
            "1/1 [==============================] - 0s 6ms/step - loss: 1.0767 - mse: 1.0767\n",
            "Epoch 218/300\n",
            "1/1 [==============================] - 0s 4ms/step - loss: 1.0766 - mse: 1.0766\n",
            "Epoch 219/300\n",
            "1/1 [==============================] - 0s 4ms/step - loss: 1.0764 - mse: 1.0764\n",
            "Epoch 220/300\n",
            "1/1 [==============================] - 0s 4ms/step - loss: 1.0763 - mse: 1.0763\n",
            "Epoch 221/300\n",
            "1/1 [==============================] - 0s 4ms/step - loss: 1.0762 - mse: 1.0762\n",
            "Epoch 222/300\n",
            "1/1 [==============================] - 0s 5ms/step - loss: 1.0760 - mse: 1.0760\n",
            "Epoch 223/300\n",
            "1/1 [==============================] - 0s 5ms/step - loss: 1.0759 - mse: 1.0759\n",
            "Epoch 224/300\n",
            "1/1 [==============================] - 0s 4ms/step - loss: 1.0758 - mse: 1.0758\n",
            "Epoch 225/300\n",
            "1/1 [==============================] - 0s 5ms/step - loss: 1.0756 - mse: 1.0756\n",
            "Epoch 226/300\n",
            "1/1 [==============================] - 0s 6ms/step - loss: 1.0755 - mse: 1.0755\n",
            "Epoch 227/300\n",
            "1/1 [==============================] - 0s 4ms/step - loss: 1.0754 - mse: 1.0754\n",
            "Epoch 228/300\n",
            "1/1 [==============================] - 0s 8ms/step - loss: 1.0753 - mse: 1.0753\n",
            "Epoch 229/300\n",
            "1/1 [==============================] - 0s 4ms/step - loss: 1.0751 - mse: 1.0751\n",
            "Epoch 230/300\n",
            "1/1 [==============================] - 0s 5ms/step - loss: 1.0750 - mse: 1.0750\n",
            "Epoch 231/300\n",
            "1/1 [==============================] - 0s 4ms/step - loss: 1.0749 - mse: 1.0749\n",
            "Epoch 232/300\n",
            "1/1 [==============================] - 0s 6ms/step - loss: 1.0748 - mse: 1.0748\n",
            "Epoch 233/300\n",
            "1/1 [==============================] - 0s 6ms/step - loss: 1.0746 - mse: 1.0746\n",
            "Epoch 234/300\n",
            "1/1 [==============================] - 0s 4ms/step - loss: 1.0745 - mse: 1.0745\n",
            "Epoch 235/300\n",
            "1/1 [==============================] - 0s 6ms/step - loss: 1.0744 - mse: 1.0744\n",
            "Epoch 236/300\n",
            "1/1 [==============================] - 0s 6ms/step - loss: 1.0743 - mse: 1.0743\n",
            "Epoch 237/300\n",
            "1/1 [==============================] - 0s 4ms/step - loss: 1.0742 - mse: 1.0742\n",
            "Epoch 238/300\n",
            "1/1 [==============================] - 0s 4ms/step - loss: 1.0740 - mse: 1.0740\n",
            "Epoch 239/300\n",
            "1/1 [==============================] - 0s 5ms/step - loss: 1.0739 - mse: 1.0739\n",
            "Epoch 240/300\n",
            "1/1 [==============================] - 0s 6ms/step - loss: 1.0738 - mse: 1.0738\n",
            "Epoch 241/300\n",
            "1/1 [==============================] - 0s 5ms/step - loss: 1.0737 - mse: 1.0737\n",
            "Epoch 242/300\n",
            "1/1 [==============================] - 0s 6ms/step - loss: 1.0736 - mse: 1.0736\n",
            "Epoch 243/300\n",
            "1/1 [==============================] - 0s 6ms/step - loss: 1.0735 - mse: 1.0735\n",
            "Epoch 244/300\n",
            "1/1 [==============================] - 0s 9ms/step - loss: 1.0734 - mse: 1.0734\n",
            "Epoch 245/300\n",
            "1/1 [==============================] - 0s 5ms/step - loss: 1.0732 - mse: 1.0732\n",
            "Epoch 246/300\n",
            "1/1 [==============================] - 0s 6ms/step - loss: 1.0731 - mse: 1.0731\n",
            "Epoch 247/300\n",
            "1/1 [==============================] - 0s 5ms/step - loss: 1.0730 - mse: 1.0730\n",
            "Epoch 248/300\n",
            "1/1 [==============================] - 0s 6ms/step - loss: 1.0729 - mse: 1.0729\n",
            "Epoch 249/300\n",
            "1/1 [==============================] - 0s 5ms/step - loss: 1.0728 - mse: 1.0728\n",
            "Epoch 250/300\n",
            "1/1 [==============================] - 0s 4ms/step - loss: 1.0727 - mse: 1.0727\n",
            "Epoch 251/300\n",
            "1/1 [==============================] - 0s 4ms/step - loss: 1.0726 - mse: 1.0726\n",
            "Epoch 252/300\n",
            "1/1 [==============================] - 0s 5ms/step - loss: 1.0725 - mse: 1.0725\n",
            "Epoch 253/300\n",
            "1/1 [==============================] - 0s 5ms/step - loss: 1.0724 - mse: 1.0724\n",
            "Epoch 254/300\n",
            "1/1 [==============================] - 0s 7ms/step - loss: 1.0723 - mse: 1.0723\n",
            "Epoch 255/300\n",
            "1/1 [==============================] - 0s 12ms/step - loss: 1.0722 - mse: 1.0722\n",
            "Epoch 256/300\n",
            "1/1 [==============================] - 0s 8ms/step - loss: 1.0721 - mse: 1.0721\n",
            "Epoch 257/300\n",
            "1/1 [==============================] - 0s 5ms/step - loss: 1.0720 - mse: 1.0720\n",
            "Epoch 258/300\n",
            "1/1 [==============================] - 0s 5ms/step - loss: 1.0719 - mse: 1.0719\n",
            "Epoch 259/300\n",
            "1/1 [==============================] - 0s 5ms/step - loss: 1.0718 - mse: 1.0718\n",
            "Epoch 260/300\n",
            "1/1 [==============================] - 0s 5ms/step - loss: 1.0717 - mse: 1.0717\n",
            "Epoch 261/300\n",
            "1/1 [==============================] - 0s 7ms/step - loss: 1.0716 - mse: 1.0716\n",
            "Epoch 262/300\n",
            "1/1 [==============================] - 0s 5ms/step - loss: 1.0715 - mse: 1.0715\n",
            "Epoch 263/300\n",
            "1/1 [==============================] - 0s 5ms/step - loss: 1.0714 - mse: 1.0714\n",
            "Epoch 264/300\n",
            "1/1 [==============================] - 0s 5ms/step - loss: 1.0713 - mse: 1.0713\n",
            "Epoch 265/300\n",
            "1/1 [==============================] - 0s 10ms/step - loss: 1.0712 - mse: 1.0712\n",
            "Epoch 266/300\n",
            "1/1 [==============================] - 0s 9ms/step - loss: 1.0711 - mse: 1.0711\n",
            "Epoch 267/300\n",
            "1/1 [==============================] - 0s 7ms/step - loss: 1.0710 - mse: 1.0710\n",
            "Epoch 268/300\n",
            "1/1 [==============================] - 0s 7ms/step - loss: 1.0709 - mse: 1.0709\n",
            "Epoch 269/300\n",
            "1/1 [==============================] - 0s 7ms/step - loss: 1.0708 - mse: 1.0708\n",
            "Epoch 270/300\n",
            "1/1 [==============================] - 0s 5ms/step - loss: 1.0708 - mse: 1.0708\n",
            "Epoch 271/300\n",
            "1/1 [==============================] - 0s 5ms/step - loss: 1.0707 - mse: 1.0707\n",
            "Epoch 272/300\n",
            "1/1 [==============================] - 0s 5ms/step - loss: 1.0706 - mse: 1.0706\n",
            "Epoch 273/300\n",
            "1/1 [==============================] - 0s 5ms/step - loss: 1.0705 - mse: 1.0705\n",
            "Epoch 274/300\n",
            "1/1 [==============================] - 0s 8ms/step - loss: 1.0704 - mse: 1.0704\n",
            "Epoch 275/300\n",
            "1/1 [==============================] - 0s 5ms/step - loss: 1.0703 - mse: 1.0703\n",
            "Epoch 276/300\n",
            "1/1 [==============================] - 0s 5ms/step - loss: 1.0702 - mse: 1.0702\n",
            "Epoch 277/300\n",
            "1/1 [==============================] - 0s 5ms/step - loss: 1.0701 - mse: 1.0701\n",
            "Epoch 278/300\n",
            "1/1 [==============================] - 0s 4ms/step - loss: 1.0701 - mse: 1.0701\n",
            "Epoch 279/300\n",
            "1/1 [==============================] - 0s 10ms/step - loss: 1.0700 - mse: 1.0700\n",
            "Epoch 280/300\n",
            "1/1 [==============================] - 0s 6ms/step - loss: 1.0699 - mse: 1.0699\n",
            "Epoch 281/300\n",
            "1/1 [==============================] - 0s 8ms/step - loss: 1.0698 - mse: 1.0698\n",
            "Epoch 282/300\n",
            "1/1 [==============================] - 0s 5ms/step - loss: 1.0697 - mse: 1.0697\n",
            "Epoch 283/300\n",
            "1/1 [==============================] - 0s 5ms/step - loss: 1.0697 - mse: 1.0697\n",
            "Epoch 284/300\n",
            "1/1 [==============================] - 0s 5ms/step - loss: 1.0696 - mse: 1.0696\n",
            "Epoch 285/300\n",
            "1/1 [==============================] - 0s 12ms/step - loss: 1.0695 - mse: 1.0695\n",
            "Epoch 286/300\n",
            "1/1 [==============================] - 0s 12ms/step - loss: 1.0694 - mse: 1.0694\n",
            "Epoch 287/300\n",
            "1/1 [==============================] - 0s 6ms/step - loss: 1.0693 - mse: 1.0693\n",
            "Epoch 288/300\n",
            "1/1 [==============================] - 0s 4ms/step - loss: 1.0693 - mse: 1.0693\n",
            "Epoch 289/300\n",
            "1/1 [==============================] - 0s 5ms/step - loss: 1.0692 - mse: 1.0692\n",
            "Epoch 290/300\n",
            "1/1 [==============================] - 0s 7ms/step - loss: 1.0691 - mse: 1.0691\n",
            "Epoch 291/300\n",
            "1/1 [==============================] - 0s 6ms/step - loss: 1.0690 - mse: 1.0690\n",
            "Epoch 292/300\n",
            "1/1 [==============================] - 0s 5ms/step - loss: 1.0690 - mse: 1.0690\n",
            "Epoch 293/300\n",
            "1/1 [==============================] - 0s 5ms/step - loss: 1.0689 - mse: 1.0689\n",
            "Epoch 294/300\n",
            "1/1 [==============================] - 0s 5ms/step - loss: 1.0688 - mse: 1.0688\n",
            "Epoch 295/300\n",
            "1/1 [==============================] - 0s 13ms/step - loss: 1.0687 - mse: 1.0687\n",
            "Epoch 296/300\n",
            "1/1 [==============================] - 0s 4ms/step - loss: 1.0687 - mse: 1.0687\n",
            "Epoch 297/300\n",
            "1/1 [==============================] - 0s 5ms/step - loss: 1.0686 - mse: 1.0686\n",
            "Epoch 298/300\n",
            "1/1 [==============================] - 0s 8ms/step - loss: 1.0685 - mse: 1.0685\n",
            "Epoch 299/300\n",
            "1/1 [==============================] - 0s 4ms/step - loss: 1.0685 - mse: 1.0685\n",
            "Epoch 300/300\n",
            "1/1 [==============================] - 0s 11ms/step - loss: 1.0684 - mse: 1.0684\n"
          ],
          "name": "stdout"
        },
        {
          "output_type": "execute_result",
          "data": {
            "text/plain": [
              "<tensorflow.python.keras.callbacks.History at 0x7fb6ee91c710>"
            ]
          },
          "metadata": {
            "tags": []
          },
          "execution_count": 12
        }
      ]
    },
    {
      "cell_type": "code",
      "metadata": {
        "colab": {
          "base_uri": "https://localhost:8080/",
          "height": 302
        },
        "id": "UphJrBOGlhGB",
        "outputId": "69f83fcf-1798-4eb3-b372-23d573f14573"
      },
      "source": [
        "import matplotlib.pyplot as plt\n",
        "plt.plot(X,model.predict(X),'b',X,y,'k.')"
      ],
      "execution_count": 16,
      "outputs": [
        {
          "output_type": "execute_result",
          "data": {
            "text/plain": [
              "[<matplotlib.lines.Line2D at 0x7fb6ecee9e10>,\n",
              " <matplotlib.lines.Line2D at 0x7fb6ecee9fd0>]"
            ]
          },
          "metadata": {
            "tags": []
          },
          "execution_count": 16
        },
        {
          "output_type": "display_data",
          "data": {
            "image/png": "[encoded data removed]",
            "text/plain": [
              "<Figure size 432x288 with 1 Axes>"
            ]
          },
          "metadata": {
            "tags": [],
            "needs_background": "light"
          }
        }
      ]
    },
    {
      "cell_type": "markdown",
      "metadata": {
        "id": "UuVAePxylw3s"
      },
      "source": [
        "## 선형 회귀 구현(Tage 버전)"
      ]
    },
    {
      "cell_type": "markdown",
      "metadata": {
        "id": "yoVcccWRm09D"
      },
      "source": [
        "### 자동 미분 설명"
      ]
    },
    {
      "cell_type": "code",
      "metadata": {
        "id": "jTr7oIvImBGa"
      },
      "source": [
        "import tensorflow as tf"
      ],
      "execution_count": 23,
      "outputs": []
    },
    {
      "cell_type": "markdown",
      "metadata": {
        "id": "uNhu-pJ5mC-E"
      },
      "source": [
        "자동 미분을 수행하는 tape_gradient() 메소드 활용   \n",
        "이해를 위해 우선 2w^2 + 5라는 식을 세워보고, w에 대해 미분"
      ]
    },
    {
      "cell_type": "code",
      "metadata": {
        "id": "qrKSi1BImPJm"
      },
      "source": [
        "w = tf.Variable(2.)\n",
        "\n",
        "def f(w):\n",
        "  y = w**2\n",
        "  return 2*y+5"
      ],
      "execution_count": 24,
      "outputs": []
    },
    {
      "cell_type": "code",
      "metadata": {
        "colab": {
          "base_uri": "https://localhost:8080/"
        },
        "id": "-b1zaOkwmVF7",
        "outputId": "9b988079-1296-4873-fc7c-b2db50f94f33"
      },
      "source": [
        "with tf.GradientTape() as tape:\n",
        "  z = f(w)\n",
        "gradients = tape.gradient(z,[w])\n",
        "print(gradients)"
      ],
      "execution_count": 25,
      "outputs": [
        {
          "output_type": "stream",
          "text": [
            "[<tf.Tensor: shape=(), dtype=float32, numpy=8.0>]\n"
          ],
          "name": "stdout"
        }
      ]
    },
    {
      "cell_type": "markdown",
      "metadata": {
        "id": "1EO2kT6rm28k"
      },
      "source": [
        "- with wf.GradientTape()을 할 경우, 해당 with문이 내에서 수행 시 모든 연산을 기록\n",
        "- tape.gradient(z,[w])는 연산 기록을 토대로 z를 w에 대해 미분\n"
      ]
    },
    {
      "cell_type": "markdown",
      "metadata": {
        "id": "N_IVIh-_moZO"
      },
      "source": [
        "### Tape로 선형회귀 구현"
      ]
    },
    {
      "cell_type": "code",
      "metadata": {
        "id": "7-AKCOVmnH7a"
      },
      "source": [
        "X=[1,2,3,4,5,6,7,8,9] # 공부하는 시간\n",
        "y=[11,22,33,44,53,66,77,87,95] # 각 공부하는 시간에 맵핑되는 성적"
      ],
      "execution_count": 124,
      "outputs": []
    },
    {
      "cell_type": "code",
      "metadata": {
        "colab": {
          "base_uri": "https://localhost:8080/"
        },
        "id": "7Crge-MgnJIe",
        "outputId": "1a2481c2-8727-4198-f7cc-97451c07894b"
      },
      "source": [
        "# 훈련 가중치 선언\n",
        "W = tf.Variable(tf.random.normal(shape = [1]))\n",
        "b = tf.Variable(tf.random.normal(shape = [1]))\n",
        "print(W)\n",
        "print(b)"
      ],
      "execution_count": 125,
      "outputs": [
        {
          "output_type": "stream",
          "text": [
            "<tf.Variable 'Variable:0' shape=(1,) dtype=float32, numpy=array([0.09368575], dtype=float32)>\n",
            "<tf.Variable 'Variable:0' shape=(1,) dtype=float32, numpy=array([-0.36977583], dtype=float32)>\n"
          ],
          "name": "stdout"
        }
      ]
    },
    {
      "cell_type": "code",
      "metadata": {
        "id": "O6qivjqLna9o"
      },
      "source": [
        "@tf.function\n",
        "def hypothesis(x):\n",
        "  return W*x + b"
      ],
      "execution_count": 126,
      "outputs": []
    },
    {
      "cell_type": "code",
      "metadata": {
        "colab": {
          "base_uri": "https://localhost:8080/"
        },
        "id": "Ski9reU5nf9x",
        "outputId": "162cef4c-879d-4840-c1e8-d614cd9f1cc7"
      },
      "source": [
        "# 테스트를 위한 입력값을 준비합니다.\n",
        "x_test = [3.5, 5, 5.5, 6]\n",
        "# 테스트 데이터를 이용해 학습된 선형회귀 모델이 데이터의 경향성(y=10.6x)을 잘 학습했는지 측정합니다.\n",
        "print(hypothesis(x_test).numpy())"
      ],
      "execution_count": 127,
      "outputs": [
        {
          "output_type": "stream",
          "text": [
            "[-0.04187569  0.09865293  0.14549583  0.1923387 ]\n"
          ],
          "name": "stdout"
        }
      ]
    },
    {
      "cell_type": "code",
      "metadata": {
        "id": "Q_FzXmntnsG_"
      },
      "source": [
        "#손실함수 정의\n",
        "#MSE_loss mean((y-y')^2)\n",
        "@tf.function\n",
        "def mse_loss(y_pred, y):\n",
        "  return tf.reduce_mean(tf.square(y_pred-y))"
      ],
      "execution_count": 128,
      "outputs": []
    },
    {
      "cell_type": "code",
      "metadata": {
        "colab": {
          "base_uri": "https://localhost:8080/"
        },
        "id": "7r2lsCngoBqf",
        "outputId": "f1d65e52-1fc7-43fa-d770-c58399c3632b"
      },
      "source": [
        "optimizer = tf.optimizers.SGD(learning_rate = 0.01)\n",
        "for i in range(1000):\n",
        "  with tf.GradientTape() as tape:\n",
        "    y_pred = hypothesis(X)\n",
        "    cost = mse_loss(y_pred,y)\n",
        "  gradients = tape.gradient(cost,[W,b])\n",
        "  optimizer.apply_gradients(zip(gradients,[W,b]))\n",
        "  if (i+1)%100 == 0:\n",
        "    print(f\"epoch : {i+1} | W의 값 : {(W.numpy())} | b의 값 : {b.numpy()} | cost : {cost}\")"
      ],
      "execution_count": 129,
      "outputs": [
        {
          "output_type": "stream",
          "text": [
            "epoch : 100 | W의 값 : [10.631195] | b의 값 : [1.1336235] | cost : 1.0827279090881348\n",
            "epoch : 200 | W의 값 : [10.648787] | b의 값 : [1.0229318] | cost : 1.0699070692062378\n",
            "epoch : 300 | W의 값 : [10.660443] | b의 값 : [0.9495881] | cost : 1.0642788410186768\n",
            "epoch : 400 | W의 값 : [10.668166] | b의 값 : [0.9009906] | cost : 1.061813235282898\n",
            "epoch : 500 | W의 값 : [10.673284] | b의 값 : [0.8687906] | cost : 1.0607234239578247\n",
            "epoch : 600 | W의 값 : [10.676675] | b의 값 : [0.84745514] | cost : 1.0602529048919678\n",
            "epoch : 700 | W의 값 : [10.678921] | b의 값 : [0.83331794] | cost : 1.0600378513336182\n",
            "epoch : 800 | W의 값 : [10.680409] | b의 값 : [0.82395107] | cost : 1.0599466562271118\n",
            "epoch : 900 | W의 값 : [10.6813965] | b의 값 : [0.8177441] | cost : 1.0599093437194824\n",
            "epoch : 1000 | W의 값 : [10.68205] | b의 값 : [0.81363225] | cost : 1.0598901510238647\n"
          ],
          "name": "stdout"
        }
      ]
    },
    {
      "cell_type": "code",
      "metadata": {
        "colab": {
          "base_uri": "https://localhost:8080/"
        },
        "id": "Ga3qP2qKo0jy",
        "outputId": "7ab70d42-a139-4c46-c248-17c1cf4a9a10"
      },
      "source": [
        "# 테스트를 위한 입력값을 준비합니다.\n",
        "x_test = [3.5, 5, 5.5, 6, 9.5]\n",
        "# 테스트 데이터를 이용해 학습된 선형회귀 모델이 데이터의 경향성(y=10.6x)을 잘 학습했는지 측정합니다.\n",
        "\n",
        "print(hypothesis(x_test).numpy())"
      ],
      "execution_count": 130,
      "outputs": [
        {
          "output_type": "stream",
          "text": [
            "[ 38.200806  54.22388   59.564907  64.90593  102.2931  ]\n"
          ],
          "name": "stdout"
        }
      ]
    },
    {
      "cell_type": "markdown",
      "metadata": {
        "id": "ZEfcTfGQr94N"
      },
      "source": [
        "## 로지스틱 회귀 구현"
      ]
    },
    {
      "cell_type": "code",
      "metadata": {
        "colab": {
          "base_uri": "https://localhost:8080/"
        },
        "id": "Ye_FWF4It0li",
        "outputId": "36037350-20b3-49a1-f453-5d4d99ec6d40"
      },
      "source": [
        "import numpy as np\n",
        "from tensorflow.keras.models import Sequential\n",
        "from tensorflow.keras.layers import Dense\n",
        "from tensorflow.keras import optimizers\n",
        "\n",
        "# X의 입력이 10부터 y의 출력이 1이 되도록 설계된 데이터\n",
        "X = np.array([-50, -40, -30, -20, -10, -5, 0, 5, 10, 20, 30, 40, 50])\n",
        "y = np.array([0, 0, 0, 0, 0, 0, 0, 0, 1, 1, 1, 1, 1])\n",
        "\n",
        "model = Sequential()\n",
        "model.add(Dense(units = 1, activation = 'sigmoid'))\n",
        "sgd = optimizers.SGD(learning_rate = 0.01)\n",
        "model.compile(optimizer = sgd, loss = 'binary_crossentropy',metrics = ['binary_crossentropy'])\n",
        "model.fit(X,y,epochs = 200, shuffle = False)"
      ],
      "execution_count": 132,
      "outputs": [
        {
          "output_type": "stream",
          "text": [
            "Epoch 1/200\n",
            "1/1 [==============================] - 0s 342ms/step - loss: 36.6157 - binary_crossentropy: 36.6157\n",
            "Epoch 2/200\n",
            "1/1 [==============================] - 0s 10ms/step - loss: 31.1114 - binary_crossentropy: 31.1114\n",
            "Epoch 3/200\n",
            "1/1 [==============================] - 0s 8ms/step - loss: 25.6075 - binary_crossentropy: 25.6075\n",
            "Epoch 4/200\n",
            "1/1 [==============================] - 0s 4ms/step - loss: 20.1052 - binary_crossentropy: 20.1052\n",
            "Epoch 5/200\n",
            "1/1 [==============================] - 0s 4ms/step - loss: 14.6081 - binary_crossentropy: 14.6081\n",
            "Epoch 6/200\n",
            "1/1 [==============================] - 0s 5ms/step - loss: 9.1291 - binary_crossentropy: 9.1291\n",
            "Epoch 7/200\n",
            "1/1 [==============================] - 0s 6ms/step - loss: 3.7294 - binary_crossentropy: 3.7294\n",
            "Epoch 8/200\n",
            "1/1 [==============================] - 0s 6ms/step - loss: 0.2790 - binary_crossentropy: 0.2790\n",
            "Epoch 9/200\n",
            "1/1 [==============================] - 0s 7ms/step - loss: 0.2497 - binary_crossentropy: 0.2497\n",
            "Epoch 10/200\n",
            "1/1 [==============================] - 0s 6ms/step - loss: 0.2365 - binary_crossentropy: 0.2365\n",
            "Epoch 11/200\n",
            "1/1 [==============================] - 0s 7ms/step - loss: 0.2284 - binary_crossentropy: 0.2284\n",
            "Epoch 12/200\n",
            "1/1 [==============================] - 0s 4ms/step - loss: 0.2229 - binary_crossentropy: 0.2229\n",
            "Epoch 13/200\n",
            "1/1 [==============================] - 0s 4ms/step - loss: 0.2189 - binary_crossentropy: 0.2189\n",
            "Epoch 14/200\n",
            "1/1 [==============================] - 0s 6ms/step - loss: 0.2158 - binary_crossentropy: 0.2158\n",
            "Epoch 15/200\n",
            "1/1 [==============================] - 0s 4ms/step - loss: 0.2133 - binary_crossentropy: 0.2133\n",
            "Epoch 16/200\n",
            "1/1 [==============================] - 0s 4ms/step - loss: 0.2112 - binary_crossentropy: 0.2112\n",
            "Epoch 17/200\n",
            "1/1 [==============================] - 0s 4ms/step - loss: 0.2095 - binary_crossentropy: 0.2095\n",
            "Epoch 18/200\n",
            "1/1 [==============================] - 0s 4ms/step - loss: 0.2081 - binary_crossentropy: 0.2081\n",
            "Epoch 19/200\n",
            "1/1 [==============================] - 0s 4ms/step - loss: 0.2068 - binary_crossentropy: 0.2068\n",
            "Epoch 20/200\n",
            "1/1 [==============================] - 0s 5ms/step - loss: 0.2058 - binary_crossentropy: 0.2058\n",
            "Epoch 21/200\n",
            "1/1 [==============================] - 0s 4ms/step - loss: 0.2048 - binary_crossentropy: 0.2048\n",
            "Epoch 22/200\n",
            "1/1 [==============================] - 0s 5ms/step - loss: 0.2040 - binary_crossentropy: 0.2040\n",
            "Epoch 23/200\n",
            "1/1 [==============================] - 0s 9ms/step - loss: 0.2032 - binary_crossentropy: 0.2032\n",
            "Epoch 24/200\n",
            "1/1 [==============================] - 0s 4ms/step - loss: 0.2026 - binary_crossentropy: 0.2026\n",
            "Epoch 25/200\n",
            "1/1 [==============================] - 0s 6ms/step - loss: 0.2020 - binary_crossentropy: 0.2020\n",
            "Epoch 26/200\n",
            "1/1 [==============================] - 0s 6ms/step - loss: 0.2014 - binary_crossentropy: 0.2014\n",
            "Epoch 27/200\n",
            "1/1 [==============================] - 0s 9ms/step - loss: 0.2009 - binary_crossentropy: 0.2009\n",
            "Epoch 28/200\n",
            "1/1 [==============================] - 0s 8ms/step - loss: 0.2004 - binary_crossentropy: 0.2004\n",
            "Epoch 29/200\n",
            "1/1 [==============================] - 0s 7ms/step - loss: 0.2000 - binary_crossentropy: 0.2000\n",
            "Epoch 30/200\n",
            "1/1 [==============================] - 0s 5ms/step - loss: 0.1996 - binary_crossentropy: 0.1996\n",
            "Epoch 31/200\n",
            "1/1 [==============================] - 0s 5ms/step - loss: 0.1992 - binary_crossentropy: 0.1992\n",
            "Epoch 32/200\n",
            "1/1 [==============================] - 0s 4ms/step - loss: 0.1989 - binary_crossentropy: 0.1989\n",
            "Epoch 33/200\n",
            "1/1 [==============================] - 0s 4ms/step - loss: 0.1985 - binary_crossentropy: 0.1985\n",
            "Epoch 34/200\n",
            "1/1 [==============================] - 0s 4ms/step - loss: 0.1982 - binary_crossentropy: 0.1982\n",
            "Epoch 35/200\n",
            "1/1 [==============================] - 0s 4ms/step - loss: 0.1979 - binary_crossentropy: 0.1979\n",
            "Epoch 36/200\n",
            "1/1 [==============================] - 0s 5ms/step - loss: 0.1977 - binary_crossentropy: 0.1977\n",
            "Epoch 37/200\n",
            "1/1 [==============================] - 0s 5ms/step - loss: 0.1974 - binary_crossentropy: 0.1974\n",
            "Epoch 38/200\n",
            "1/1 [==============================] - 0s 4ms/step - loss: 0.1971 - binary_crossentropy: 0.1971\n",
            "Epoch 39/200\n",
            "1/1 [==============================] - 0s 4ms/step - loss: 0.1969 - binary_crossentropy: 0.1969\n",
            "Epoch 40/200\n",
            "1/1 [==============================] - 0s 4ms/step - loss: 0.1967 - binary_crossentropy: 0.1967\n",
            "Epoch 41/200\n",
            "1/1 [==============================] - 0s 4ms/step - loss: 0.1965 - binary_crossentropy: 0.1965\n",
            "Epoch 42/200\n",
            "1/1 [==============================] - 0s 4ms/step - loss: 0.1962 - binary_crossentropy: 0.1962\n",
            "Epoch 43/200\n",
            "1/1 [==============================] - 0s 4ms/step - loss: 0.1960 - binary_crossentropy: 0.1960\n",
            "Epoch 44/200\n",
            "1/1 [==============================] - 0s 6ms/step - loss: 0.1958 - binary_crossentropy: 0.1958\n",
            "Epoch 45/200\n",
            "1/1 [==============================] - 0s 8ms/step - loss: 0.1956 - binary_crossentropy: 0.1956\n",
            "Epoch 46/200\n",
            "1/1 [==============================] - 0s 4ms/step - loss: 0.1954 - binary_crossentropy: 0.1954\n",
            "Epoch 47/200\n",
            "1/1 [==============================] - 0s 4ms/step - loss: 0.1953 - binary_crossentropy: 0.1953\n",
            "Epoch 48/200\n",
            "1/1 [==============================] - 0s 6ms/step - loss: 0.1951 - binary_crossentropy: 0.1951\n",
            "Epoch 49/200\n",
            "1/1 [==============================] - 0s 5ms/step - loss: 0.1949 - binary_crossentropy: 0.1949\n",
            "Epoch 50/200\n",
            "1/1 [==============================] - 0s 6ms/step - loss: 0.1947 - binary_crossentropy: 0.1947\n",
            "Epoch 51/200\n",
            "1/1 [==============================] - 0s 6ms/step - loss: 0.1946 - binary_crossentropy: 0.1946\n",
            "Epoch 52/200\n",
            "1/1 [==============================] - 0s 6ms/step - loss: 0.1944 - binary_crossentropy: 0.1944\n",
            "Epoch 53/200\n",
            "1/1 [==============================] - 0s 6ms/step - loss: 0.1942 - binary_crossentropy: 0.1942\n",
            "Epoch 54/200\n",
            "1/1 [==============================] - 0s 34ms/step - loss: 0.1941 - binary_crossentropy: 0.1941\n",
            "Epoch 55/200\n",
            "1/1 [==============================] - 0s 7ms/step - loss: 0.1939 - binary_crossentropy: 0.1939\n",
            "Epoch 56/200\n",
            "1/1 [==============================] - 0s 7ms/step - loss: 0.1938 - binary_crossentropy: 0.1938\n",
            "Epoch 57/200\n",
            "1/1 [==============================] - 0s 5ms/step - loss: 0.1936 - binary_crossentropy: 0.1936\n",
            "Epoch 58/200\n",
            "1/1 [==============================] - 0s 5ms/step - loss: 0.1935 - binary_crossentropy: 0.1935\n",
            "Epoch 59/200\n",
            "1/1 [==============================] - 0s 5ms/step - loss: 0.1933 - binary_crossentropy: 0.1933\n",
            "Epoch 60/200\n",
            "1/1 [==============================] - 0s 6ms/step - loss: 0.1932 - binary_crossentropy: 0.1932\n",
            "Epoch 61/200\n",
            "1/1 [==============================] - 0s 10ms/step - loss: 0.1930 - binary_crossentropy: 0.1930\n",
            "Epoch 62/200\n",
            "1/1 [==============================] - 0s 5ms/step - loss: 0.1929 - binary_crossentropy: 0.1929\n",
            "Epoch 63/200\n",
            "1/1 [==============================] - 0s 6ms/step - loss: 0.1927 - binary_crossentropy: 0.1927\n",
            "Epoch 64/200\n",
            "1/1 [==============================] - 0s 6ms/step - loss: 0.1926 - binary_crossentropy: 0.1926\n",
            "Epoch 65/200\n",
            "1/1 [==============================] - 0s 7ms/step - loss: 0.1925 - binary_crossentropy: 0.1925\n",
            "Epoch 66/200\n",
            "1/1 [==============================] - 0s 6ms/step - loss: 0.1923 - binary_crossentropy: 0.1923\n",
            "Epoch 67/200\n",
            "1/1 [==============================] - 0s 5ms/step - loss: 0.1922 - binary_crossentropy: 0.1922\n",
            "Epoch 68/200\n",
            "1/1 [==============================] - 0s 6ms/step - loss: 0.1921 - binary_crossentropy: 0.1921\n",
            "Epoch 69/200\n",
            "1/1 [==============================] - 0s 7ms/step - loss: 0.1919 - binary_crossentropy: 0.1919\n",
            "Epoch 70/200\n",
            "1/1 [==============================] - 0s 5ms/step - loss: 0.1918 - binary_crossentropy: 0.1918\n",
            "Epoch 71/200\n",
            "1/1 [==============================] - 0s 5ms/step - loss: 0.1917 - binary_crossentropy: 0.1917\n",
            "Epoch 72/200\n",
            "1/1 [==============================] - 0s 4ms/step - loss: 0.1915 - binary_crossentropy: 0.1915\n",
            "Epoch 73/200\n",
            "1/1 [==============================] - 0s 7ms/step - loss: 0.1914 - binary_crossentropy: 0.1914\n",
            "Epoch 74/200\n",
            "1/1 [==============================] - 0s 5ms/step - loss: 0.1913 - binary_crossentropy: 0.1913\n",
            "Epoch 75/200\n",
            "1/1 [==============================] - 0s 4ms/step - loss: 0.1911 - binary_crossentropy: 0.1911\n",
            "Epoch 76/200\n",
            "1/1 [==============================] - 0s 6ms/step - loss: 0.1910 - binary_crossentropy: 0.1910\n",
            "Epoch 77/200\n",
            "1/1 [==============================] - 0s 6ms/step - loss: 0.1909 - binary_crossentropy: 0.1909\n",
            "Epoch 78/200\n",
            "1/1 [==============================] - 0s 6ms/step - loss: 0.1908 - binary_crossentropy: 0.1908\n",
            "Epoch 79/200\n",
            "1/1 [==============================] - 0s 7ms/step - loss: 0.1906 - binary_crossentropy: 0.1906\n",
            "Epoch 80/200\n",
            "1/1 [==============================] - 0s 6ms/step - loss: 0.1905 - binary_crossentropy: 0.1905\n",
            "Epoch 81/200\n",
            "1/1 [==============================] - 0s 6ms/step - loss: 0.1904 - binary_crossentropy: 0.1904\n",
            "Epoch 82/200\n",
            "1/1 [==============================] - 0s 5ms/step - loss: 0.1903 - binary_crossentropy: 0.1903\n",
            "Epoch 83/200\n",
            "1/1 [==============================] - 0s 7ms/step - loss: 0.1901 - binary_crossentropy: 0.1901\n",
            "Epoch 84/200\n",
            "1/1 [==============================] - 0s 7ms/step - loss: 0.1900 - binary_crossentropy: 0.1900\n",
            "Epoch 85/200\n",
            "1/1 [==============================] - 0s 7ms/step - loss: 0.1899 - binary_crossentropy: 0.1899\n",
            "Epoch 86/200\n",
            "1/1 [==============================] - 0s 9ms/step - loss: 0.1898 - binary_crossentropy: 0.1898\n",
            "Epoch 87/200\n",
            "1/1 [==============================] - 0s 15ms/step - loss: 0.1896 - binary_crossentropy: 0.1896\n",
            "Epoch 88/200\n",
            "1/1 [==============================] - 0s 5ms/step - loss: 0.1895 - binary_crossentropy: 0.1895\n",
            "Epoch 89/200\n",
            "1/1 [==============================] - 0s 6ms/step - loss: 0.1894 - binary_crossentropy: 0.1894\n",
            "Epoch 90/200\n",
            "1/1 [==============================] - 0s 7ms/step - loss: 0.1893 - binary_crossentropy: 0.1893\n",
            "Epoch 91/200\n",
            "1/1 [==============================] - 0s 5ms/step - loss: 0.1892 - binary_crossentropy: 0.1892\n",
            "Epoch 92/200\n",
            "1/1 [==============================] - 0s 6ms/step - loss: 0.1890 - binary_crossentropy: 0.1890\n",
            "Epoch 93/200\n",
            "1/1 [==============================] - 0s 5ms/step - loss: 0.1889 - binary_crossentropy: 0.1889\n",
            "Epoch 94/200\n",
            "1/1 [==============================] - 0s 9ms/step - loss: 0.1888 - binary_crossentropy: 0.1888\n",
            "Epoch 95/200\n",
            "1/1 [==============================] - 0s 10ms/step - loss: 0.1887 - binary_crossentropy: 0.1887\n",
            "Epoch 96/200\n",
            "1/1 [==============================] - 0s 5ms/step - loss: 0.1886 - binary_crossentropy: 0.1886\n",
            "Epoch 97/200\n",
            "1/1 [==============================] - 0s 6ms/step - loss: 0.1884 - binary_crossentropy: 0.1884\n",
            "Epoch 98/200\n",
            "1/1 [==============================] - 0s 4ms/step - loss: 0.1883 - binary_crossentropy: 0.1883\n",
            "Epoch 99/200\n",
            "1/1 [==============================] - 0s 4ms/step - loss: 0.1882 - binary_crossentropy: 0.1882\n",
            "Epoch 100/200\n",
            "1/1 [==============================] - 0s 4ms/step - loss: 0.1881 - binary_crossentropy: 0.1881\n",
            "Epoch 101/200\n",
            "1/1 [==============================] - 0s 6ms/step - loss: 0.1880 - binary_crossentropy: 0.1880\n",
            "Epoch 102/200\n",
            "1/1 [==============================] - 0s 7ms/step - loss: 0.1878 - binary_crossentropy: 0.1878\n",
            "Epoch 103/200\n",
            "1/1 [==============================] - 0s 5ms/step - loss: 0.1877 - binary_crossentropy: 0.1877\n",
            "Epoch 104/200\n",
            "1/1 [==============================] - 0s 8ms/step - loss: 0.1876 - binary_crossentropy: 0.1876\n",
            "Epoch 105/200\n",
            "1/1 [==============================] - 0s 9ms/step - loss: 0.1875 - binary_crossentropy: 0.1875\n",
            "Epoch 106/200\n",
            "1/1 [==============================] - 0s 5ms/step - loss: 0.1874 - binary_crossentropy: 0.1874\n",
            "Epoch 107/200\n",
            "1/1 [==============================] - 0s 5ms/step - loss: 0.1872 - binary_crossentropy: 0.1872\n",
            "Epoch 108/200\n",
            "1/1 [==============================] - 0s 7ms/step - loss: 0.1871 - binary_crossentropy: 0.1871\n",
            "Epoch 109/200\n",
            "1/1 [==============================] - 0s 6ms/step - loss: 0.1870 - binary_crossentropy: 0.1870\n",
            "Epoch 110/200\n",
            "1/1 [==============================] - 0s 7ms/step - loss: 0.1869 - binary_crossentropy: 0.1869\n",
            "Epoch 111/200\n",
            "1/1 [==============================] - 0s 7ms/step - loss: 0.1868 - binary_crossentropy: 0.1868\n",
            "Epoch 112/200\n",
            "1/1 [==============================] - 0s 4ms/step - loss: 0.1867 - binary_crossentropy: 0.1867\n",
            "Epoch 113/200\n",
            "1/1 [==============================] - 0s 4ms/step - loss: 0.1865 - binary_crossentropy: 0.1865\n",
            "Epoch 114/200\n",
            "1/1 [==============================] - 0s 5ms/step - loss: 0.1864 - binary_crossentropy: 0.1864\n",
            "Epoch 115/200\n",
            "1/1 [==============================] - 0s 5ms/step - loss: 0.1863 - binary_crossentropy: 0.1863\n",
            "Epoch 116/200\n",
            "1/1 [==============================] - 0s 6ms/step - loss: 0.1862 - binary_crossentropy: 0.1862\n",
            "Epoch 117/200\n",
            "1/1 [==============================] - 0s 6ms/step - loss: 0.1861 - binary_crossentropy: 0.1861\n",
            "Epoch 118/200\n",
            "1/1 [==============================] - 0s 7ms/step - loss: 0.1860 - binary_crossentropy: 0.1860\n",
            "Epoch 119/200\n",
            "1/1 [==============================] - 0s 5ms/step - loss: 0.1859 - binary_crossentropy: 0.1859\n",
            "Epoch 120/200\n",
            "1/1 [==============================] - 0s 6ms/step - loss: 0.1857 - binary_crossentropy: 0.1857\n",
            "Epoch 121/200\n",
            "1/1 [==============================] - 0s 12ms/step - loss: 0.1856 - binary_crossentropy: 0.1856\n",
            "Epoch 122/200\n",
            "1/1 [==============================] - 0s 7ms/step - loss: 0.1855 - binary_crossentropy: 0.1855\n",
            "Epoch 123/200\n",
            "1/1 [==============================] - 0s 5ms/step - loss: 0.1854 - binary_crossentropy: 0.1854\n",
            "Epoch 124/200\n",
            "1/1 [==============================] - 0s 9ms/step - loss: 0.1853 - binary_crossentropy: 0.1853\n",
            "Epoch 125/200\n",
            "1/1 [==============================] - 0s 5ms/step - loss: 0.1852 - binary_crossentropy: 0.1852\n",
            "Epoch 126/200\n",
            "1/1 [==============================] - 0s 9ms/step - loss: 0.1851 - binary_crossentropy: 0.1851\n",
            "Epoch 127/200\n",
            "1/1 [==============================] - 0s 10ms/step - loss: 0.1849 - binary_crossentropy: 0.1849\n",
            "Epoch 128/200\n",
            "1/1 [==============================] - 0s 12ms/step - loss: 0.1848 - binary_crossentropy: 0.1848\n",
            "Epoch 129/200\n",
            "1/1 [==============================] - 0s 11ms/step - loss: 0.1847 - binary_crossentropy: 0.1847\n",
            "Epoch 130/200\n",
            "1/1 [==============================] - 0s 12ms/step - loss: 0.1846 - binary_crossentropy: 0.1846\n",
            "Epoch 131/200\n",
            "1/1 [==============================] - 0s 14ms/step - loss: 0.1845 - binary_crossentropy: 0.1845\n",
            "Epoch 132/200\n",
            "1/1 [==============================] - 0s 13ms/step - loss: 0.1844 - binary_crossentropy: 0.1844\n",
            "Epoch 133/200\n",
            "1/1 [==============================] - 0s 7ms/step - loss: 0.1843 - binary_crossentropy: 0.1843\n",
            "Epoch 134/200\n",
            "1/1 [==============================] - 0s 5ms/step - loss: 0.1841 - binary_crossentropy: 0.1841\n",
            "Epoch 135/200\n",
            "1/1 [==============================] - 0s 6ms/step - loss: 0.1840 - binary_crossentropy: 0.1840\n",
            "Epoch 136/200\n",
            "1/1 [==============================] - 0s 8ms/step - loss: 0.1839 - binary_crossentropy: 0.1839\n",
            "Epoch 137/200\n",
            "1/1 [==============================] - 0s 7ms/step - loss: 0.1838 - binary_crossentropy: 0.1838\n",
            "Epoch 138/200\n",
            "1/1 [==============================] - 0s 5ms/step - loss: 0.1837 - binary_crossentropy: 0.1837\n",
            "Epoch 139/200\n",
            "1/1 [==============================] - 0s 13ms/step - loss: 0.1836 - binary_crossentropy: 0.1836\n",
            "Epoch 140/200\n",
            "1/1 [==============================] - 0s 5ms/step - loss: 0.1835 - binary_crossentropy: 0.1835\n",
            "Epoch 141/200\n",
            "1/1 [==============================] - 0s 8ms/step - loss: 0.1834 - binary_crossentropy: 0.1834\n",
            "Epoch 142/200\n",
            "1/1 [==============================] - 0s 5ms/step - loss: 0.1832 - binary_crossentropy: 0.1832\n",
            "Epoch 143/200\n",
            "1/1 [==============================] - 0s 8ms/step - loss: 0.1831 - binary_crossentropy: 0.1831\n",
            "Epoch 144/200\n",
            "1/1 [==============================] - 0s 5ms/step - loss: 0.1830 - binary_crossentropy: 0.1830\n",
            "Epoch 145/200\n",
            "1/1 [==============================] - 0s 6ms/step - loss: 0.1829 - binary_crossentropy: 0.1829\n",
            "Epoch 146/200\n",
            "1/1 [==============================] - 0s 13ms/step - loss: 0.1828 - binary_crossentropy: 0.1828\n",
            "Epoch 147/200\n",
            "1/1 [==============================] - 0s 8ms/step - loss: 0.1827 - binary_crossentropy: 0.1827\n",
            "Epoch 148/200\n",
            "1/1 [==============================] - 0s 7ms/step - loss: 0.1826 - binary_crossentropy: 0.1826\n",
            "Epoch 149/200\n",
            "1/1 [==============================] - 0s 6ms/step - loss: 0.1825 - binary_crossentropy: 0.1825\n",
            "Epoch 150/200\n",
            "1/1 [==============================] - 0s 6ms/step - loss: 0.1824 - binary_crossentropy: 0.1824\n",
            "Epoch 151/200\n",
            "1/1 [==============================] - 0s 8ms/step - loss: 0.1823 - binary_crossentropy: 0.1823\n",
            "Epoch 152/200\n",
            "1/1 [==============================] - 0s 5ms/step - loss: 0.1821 - binary_crossentropy: 0.1821\n",
            "Epoch 153/200\n",
            "1/1 [==============================] - 0s 6ms/step - loss: 0.1820 - binary_crossentropy: 0.1820\n",
            "Epoch 154/200\n",
            "1/1 [==============================] - 0s 8ms/step - loss: 0.1819 - binary_crossentropy: 0.1819\n",
            "Epoch 155/200\n",
            "1/1 [==============================] - 0s 5ms/step - loss: 0.1818 - binary_crossentropy: 0.1818\n",
            "Epoch 156/200\n",
            "1/1 [==============================] - 0s 6ms/step - loss: 0.1817 - binary_crossentropy: 0.1817\n",
            "Epoch 157/200\n",
            "1/1 [==============================] - 0s 6ms/step - loss: 0.1816 - binary_crossentropy: 0.1816\n",
            "Epoch 158/200\n",
            "1/1 [==============================] - 0s 4ms/step - loss: 0.1815 - binary_crossentropy: 0.1815\n",
            "Epoch 159/200\n",
            "1/1 [==============================] - 0s 6ms/step - loss: 0.1814 - binary_crossentropy: 0.1814\n",
            "Epoch 160/200\n",
            "1/1 [==============================] - 0s 6ms/step - loss: 0.1813 - binary_crossentropy: 0.1813\n",
            "Epoch 161/200\n",
            "1/1 [==============================] - 0s 5ms/step - loss: 0.1812 - binary_crossentropy: 0.1812\n",
            "Epoch 162/200\n",
            "1/1 [==============================] - 0s 7ms/step - loss: 0.1810 - binary_crossentropy: 0.1810\n",
            "Epoch 163/200\n",
            "1/1 [==============================] - 0s 4ms/step - loss: 0.1809 - binary_crossentropy: 0.1809\n",
            "Epoch 164/200\n",
            "1/1 [==============================] - 0s 7ms/step - loss: 0.1808 - binary_crossentropy: 0.1808\n",
            "Epoch 165/200\n",
            "1/1 [==============================] - 0s 5ms/step - loss: 0.1807 - binary_crossentropy: 0.1807\n",
            "Epoch 166/200\n",
            "1/1 [==============================] - 0s 7ms/step - loss: 0.1806 - binary_crossentropy: 0.1806\n",
            "Epoch 167/200\n",
            "1/1 [==============================] - 0s 5ms/step - loss: 0.1805 - binary_crossentropy: 0.1805\n",
            "Epoch 168/200\n",
            "1/1 [==============================] - 0s 9ms/step - loss: 0.1804 - binary_crossentropy: 0.1804\n",
            "Epoch 169/200\n",
            "1/1 [==============================] - 0s 7ms/step - loss: 0.1803 - binary_crossentropy: 0.1803\n",
            "Epoch 170/200\n",
            "1/1 [==============================] - 0s 5ms/step - loss: 0.1802 - binary_crossentropy: 0.1802\n",
            "Epoch 171/200\n",
            "1/1 [==============================] - 0s 5ms/step - loss: 0.1801 - binary_crossentropy: 0.1801\n",
            "Epoch 172/200\n",
            "1/1 [==============================] - 0s 40ms/step - loss: 0.1800 - binary_crossentropy: 0.1800\n",
            "Epoch 173/200\n",
            "1/1 [==============================] - 0s 15ms/step - loss: 0.1799 - binary_crossentropy: 0.1799\n",
            "Epoch 174/200\n",
            "1/1 [==============================] - 0s 7ms/step - loss: 0.1798 - binary_crossentropy: 0.1798\n",
            "Epoch 175/200\n",
            "1/1 [==============================] - 0s 24ms/step - loss: 0.1796 - binary_crossentropy: 0.1796\n",
            "Epoch 176/200\n",
            "1/1 [==============================] - 0s 5ms/step - loss: 0.1795 - binary_crossentropy: 0.1795\n",
            "Epoch 177/200\n",
            "1/1 [==============================] - 0s 7ms/step - loss: 0.1794 - binary_crossentropy: 0.1794\n",
            "Epoch 178/200\n",
            "1/1 [==============================] - 0s 15ms/step - loss: 0.1793 - binary_crossentropy: 0.1793\n",
            "Epoch 179/200\n",
            "1/1 [==============================] - 0s 5ms/step - loss: 0.1792 - binary_crossentropy: 0.1792\n",
            "Epoch 180/200\n",
            "1/1 [==============================] - 0s 9ms/step - loss: 0.1791 - binary_crossentropy: 0.1791\n",
            "Epoch 181/200\n",
            "1/1 [==============================] - 0s 6ms/step - loss: 0.1790 - binary_crossentropy: 0.1790\n",
            "Epoch 182/200\n",
            "1/1 [==============================] - 0s 5ms/step - loss: 0.1789 - binary_crossentropy: 0.1789\n",
            "Epoch 183/200\n",
            "1/1 [==============================] - 0s 6ms/step - loss: 0.1788 - binary_crossentropy: 0.1788\n",
            "Epoch 184/200\n",
            "1/1 [==============================] - 0s 4ms/step - loss: 0.1787 - binary_crossentropy: 0.1787\n",
            "Epoch 185/200\n",
            "1/1 [==============================] - 0s 7ms/step - loss: 0.1786 - binary_crossentropy: 0.1786\n",
            "Epoch 186/200\n",
            "1/1 [==============================] - 0s 5ms/step - loss: 0.1785 - binary_crossentropy: 0.1785\n",
            "Epoch 187/200\n",
            "1/1 [==============================] - 0s 7ms/step - loss: 0.1784 - binary_crossentropy: 0.1784\n",
            "Epoch 188/200\n",
            "1/1 [==============================] - 0s 5ms/step - loss: 0.1783 - binary_crossentropy: 0.1783\n",
            "Epoch 189/200\n",
            "1/1 [==============================] - 0s 11ms/step - loss: 0.1782 - binary_crossentropy: 0.1782\n",
            "Epoch 190/200\n",
            "1/1 [==============================] - 0s 5ms/step - loss: 0.1781 - binary_crossentropy: 0.1781\n",
            "Epoch 191/200\n",
            "1/1 [==============================] - 0s 4ms/step - loss: 0.1780 - binary_crossentropy: 0.1780\n",
            "Epoch 192/200\n",
            "1/1 [==============================] - 0s 4ms/step - loss: 0.1778 - binary_crossentropy: 0.1778\n",
            "Epoch 193/200\n",
            "1/1 [==============================] - 0s 5ms/step - loss: 0.1777 - binary_crossentropy: 0.1777\n",
            "Epoch 194/200\n",
            "1/1 [==============================] - 0s 11ms/step - loss: 0.1776 - binary_crossentropy: 0.1776\n",
            "Epoch 195/200\n",
            "1/1 [==============================] - 0s 4ms/step - loss: 0.1775 - binary_crossentropy: 0.1775\n",
            "Epoch 196/200\n",
            "1/1 [==============================] - 0s 4ms/step - loss: 0.1774 - binary_crossentropy: 0.1774\n",
            "Epoch 197/200\n",
            "1/1 [==============================] - 0s 4ms/step - loss: 0.1773 - binary_crossentropy: 0.1773\n",
            "Epoch 198/200\n",
            "1/1 [==============================] - 0s 4ms/step - loss: 0.1772 - binary_crossentropy: 0.1772\n",
            "Epoch 199/200\n",
            "1/1 [==============================] - 0s 4ms/step - loss: 0.1771 - binary_crossentropy: 0.1771\n",
            "Epoch 200/200\n",
            "1/1 [==============================] - 0s 10ms/step - loss: 0.1770 - binary_crossentropy: 0.1770\n"
          ],
          "name": "stdout"
        },
        {
          "output_type": "execute_result",
          "data": {
            "text/plain": [
              "<tensorflow.python.keras.callbacks.History at 0x7fb6f41f85d0>"
            ]
          },
          "metadata": {
            "tags": []
          },
          "execution_count": 132
        }
      ]
    },
    {
      "cell_type": "code",
      "metadata": {
        "colab": {
          "base_uri": "https://localhost:8080/",
          "height": 338
        },
        "id": "lLvw-Ss2u3qY",
        "outputId": "8a31bb32-1a71-4bae-a965-e7af47ce6696"
      },
      "source": [
        "import matplotlib.pyplot as plt\n",
        "plt.plot(X, model.predict(X), 'b', X,y, 'k.')"
      ],
      "execution_count": 133,
      "outputs": [
        {
          "output_type": "stream",
          "text": [
            "WARNING:tensorflow:6 out of the last 7 calls to <function Model.make_predict_function.<locals>.predict_function at 0x7fb6f41694d0> triggered tf.function retracing. Tracing is expensive and the excessive number of tracings could be due to (1) creating @tf.function repeatedly in a loop, (2) passing tensors with different shapes, (3) passing Python objects instead of tensors. For (1), please define your @tf.function outside of the loop. For (2), @tf.function has experimental_relax_shapes=True option that relaxes argument shapes that can avoid unnecessary retracing. For (3), please refer to https://www.tensorflow.org/guide/function#controlling_retracing and https://www.tensorflow.org/api_docs/python/tf/function for  more details.\n"
          ],
          "name": "stdout"
        },
        {
          "output_type": "execute_result",
          "data": {
            "text/plain": [
              "[<matplotlib.lines.Line2D at 0x7fb6f425e290>,\n",
              " <matplotlib.lines.Line2D at 0x7fb6f425e210>]"
            ]
          },
          "metadata": {
            "tags": []
          },
          "execution_count": 133
        },
        {
          "output_type": "display_data",
          "data": {
            "image/png": "[encoded data removed]",
            "text/plain": [
              "<Figure size 432x288 with 1 Axes>"
            ]
          },
          "metadata": {
            "tags": [],
            "needs_background": "light"
          }
        }
      ]
    },
    {
      "cell_type": "markdown",
      "metadata": {
        "id": "qt2-tdEyu7um"
      },
      "source": [
        "## 다중 선형 회귀 구현"
      ]
    },
    {
      "cell_type": "code",
      "metadata": {
        "id": "iz8nxN8VwZrO"
      },
      "source": [
        "import numpy as np\n",
        "from tensorflow.keras.models import Sequential\n",
        "from tensorflow.keras.layers import Dense\n",
        "from tensorflow.keras import optimizers"
      ],
      "execution_count": 138,
      "outputs": []
    },
    {
      "cell_type": "code",
      "metadata": {
        "colab": {
          "base_uri": "https://localhost:8080/"
        },
        "id": "SJkY1msXwqK8",
        "outputId": "af5ad121-d167-4e07-d70d-3064e0fe9024"
      },
      "source": [
        "# 입력 벡터의 차원은 3입니다. 즉, input_dim은 3입니다.\n",
        "X = np.array([[70,85,11],[71,89,18],[50,80,20],[99,20,10],[50,10,10]]) # 중간, 기말, 가산점\n",
        "# 출력 벡터의 차원은 1입니다. 즉, output_dim은 1입니다.\n",
        "y = np.array([73,82,72,57,34]) # 최종 성적\n",
        "\n",
        "model = Sequential()\n",
        "model.add(Dense(units = 1, input_shape = (3,), activation = 'linear'))\n",
        "optimizer = optimizers.SGD(learning_rate=0.00001)\n",
        "model.compile(optimizer = optimizer, loss = ['mse'], metrics = ['mse'])\n",
        "model.fit(X,y,epochs = 500, batch_size = 1, shuffle = False)"
      ],
      "execution_count": 140,
      "outputs": [
        {
          "output_type": "stream",
          "text": [
            "Epoch 1/500\n",
            "5/5 [==============================] - 0s 2ms/step - loss: 2577.8972 - mse: 2577.8972\n",
            "Epoch 2/500\n",
            "5/5 [==============================] - 0s 2ms/step - loss: 456.0607 - mse: 456.0607\n",
            "Epoch 3/500\n",
            "5/5 [==============================] - 0s 2ms/step - loss: 189.3710 - mse: 189.3710\n",
            "Epoch 4/500\n",
            "5/5 [==============================] - 0s 3ms/step - loss: 150.8535 - mse: 150.8535\n",
            "Epoch 5/500\n",
            "5/5 [==============================] - 0s 2ms/step - loss: 134.9400 - mse: 134.9400\n",
            "Epoch 6/500\n",
            "5/5 [==============================] - 0s 2ms/step - loss: 120.6479 - mse: 120.6479\n",
            "Epoch 7/500\n",
            "5/5 [==============================] - 0s 2ms/step - loss: 107.5127 - mse: 107.5127\n",
            "Epoch 8/500\n",
            "5/5 [==============================] - 0s 2ms/step - loss: 96.0818 - mse: 96.0818\n",
            "Epoch 9/500\n",
            "5/5 [==============================] - 0s 3ms/step - loss: 86.4300 - mse: 86.4300\n",
            "Epoch 10/500\n",
            "5/5 [==============================] - 0s 4ms/step - loss: 78.3879 - mse: 78.3879\n",
            "Epoch 11/500\n",
            "5/5 [==============================] - 0s 2ms/step - loss: 71.7216 - mse: 71.7216\n",
            "Epoch 12/500\n",
            "5/5 [==============================] - 0s 3ms/step - loss: 66.2034 - mse: 66.2034\n",
            "Epoch 13/500\n",
            "5/5 [==============================] - 0s 2ms/step - loss: 61.6341 - mse: 61.6341\n",
            "Epoch 14/500\n",
            "5/5 [==============================] - 0s 3ms/step - loss: 57.8458 - mse: 57.8458\n",
            "Epoch 15/500\n",
            "5/5 [==============================] - 0s 3ms/step - loss: 54.6993 - mse: 54.6993\n",
            "Epoch 16/500\n",
            "5/5 [==============================] - 0s 3ms/step - loss: 52.0802 - mse: 52.0802\n",
            "Epoch 17/500\n",
            "5/5 [==============================] - 0s 3ms/step - loss: 49.8942 - mse: 49.8942\n",
            "Epoch 18/500\n",
            "5/5 [==============================] - 0s 3ms/step - loss: 48.0644 - mse: 48.0644\n",
            "Epoch 19/500\n",
            "5/5 [==============================] - 0s 3ms/step - loss: 46.5274 - mse: 46.5274\n",
            "Epoch 20/500\n",
            "5/5 [==============================] - 0s 3ms/step - loss: 45.2313 - mse: 45.2313\n",
            "Epoch 21/500\n",
            "5/5 [==============================] - 0s 3ms/step - loss: 44.1336 - mse: 44.1336\n",
            "Epoch 22/500\n",
            "5/5 [==============================] - 0s 2ms/step - loss: 43.1993 - mse: 43.1993\n",
            "Epoch 23/500\n",
            "5/5 [==============================] - 0s 3ms/step - loss: 42.3997 - mse: 42.3997\n",
            "Epoch 24/500\n",
            "5/5 [==============================] - 0s 4ms/step - loss: 41.7115 - mse: 41.7115\n",
            "Epoch 25/500\n",
            "5/5 [==============================] - 0s 3ms/step - loss: 41.1152 - mse: 41.1152\n",
            "Epoch 26/500\n",
            "5/5 [==============================] - 0s 3ms/step - loss: 40.5948 - mse: 40.5948\n",
            "Epoch 27/500\n",
            "5/5 [==============================] - 0s 3ms/step - loss: 40.1375 - mse: 40.1375\n",
            "Epoch 28/500\n",
            "5/5 [==============================] - 0s 2ms/step - loss: 39.7323 - mse: 39.7323\n",
            "Epoch 29/500\n",
            "5/5 [==============================] - 0s 3ms/step - loss: 39.3706 - mse: 39.3706\n",
            "Epoch 30/500\n",
            "5/5 [==============================] - 0s 3ms/step - loss: 39.0448 - mse: 39.0448\n",
            "Epoch 31/500\n",
            "5/5 [==============================] - 0s 2ms/step - loss: 38.7492 - mse: 38.7492\n",
            "Epoch 32/500\n",
            "5/5 [==============================] - 0s 2ms/step - loss: 38.4786 - mse: 38.4786\n",
            "Epoch 33/500\n",
            "5/5 [==============================] - 0s 2ms/step - loss: 38.2291 - mse: 38.2291\n",
            "Epoch 34/500\n",
            "5/5 [==============================] - 0s 2ms/step - loss: 37.9971 - mse: 37.9971\n",
            "Epoch 35/500\n",
            "5/5 [==============================] - 0s 2ms/step - loss: 37.7800 - mse: 37.7800\n",
            "Epoch 36/500\n",
            "5/5 [==============================] - 0s 2ms/step - loss: 37.5752 - mse: 37.5752\n",
            "Epoch 37/500\n",
            "5/5 [==============================] - 0s 2ms/step - loss: 37.3812 - mse: 37.3812\n",
            "Epoch 38/500\n",
            "5/5 [==============================] - 0s 2ms/step - loss: 37.1959 - mse: 37.1959\n",
            "Epoch 39/500\n",
            "5/5 [==============================] - 0s 2ms/step - loss: 37.0184 - mse: 37.0184\n",
            "Epoch 40/500\n",
            "5/5 [==============================] - 0s 3ms/step - loss: 36.8473 - mse: 36.8473\n",
            "Epoch 41/500\n",
            "5/5 [==============================] - 0s 2ms/step - loss: 36.6818 - mse: 36.6818\n",
            "Epoch 42/500\n",
            "5/5 [==============================] - 0s 3ms/step - loss: 36.5211 - mse: 36.5211\n",
            "Epoch 43/500\n",
            "5/5 [==============================] - 0s 2ms/step - loss: 36.3646 - mse: 36.3646\n",
            "Epoch 44/500\n",
            "5/5 [==============================] - 0s 2ms/step - loss: 36.2117 - mse: 36.2117\n",
            "Epoch 45/500\n",
            "5/5 [==============================] - 0s 2ms/step - loss: 36.0619 - mse: 36.0619\n",
            "Epoch 46/500\n",
            "5/5 [==============================] - 0s 3ms/step - loss: 35.9149 - mse: 35.9149\n",
            "Epoch 47/500\n",
            "5/5 [==============================] - 0s 3ms/step - loss: 35.7703 - mse: 35.7703\n",
            "Epoch 48/500\n",
            "5/5 [==============================] - 0s 3ms/step - loss: 35.6280 - mse: 35.6280\n",
            "Epoch 49/500\n",
            "5/5 [==============================] - 0s 2ms/step - loss: 35.4875 - mse: 35.4875\n",
            "Epoch 50/500\n",
            "5/5 [==============================] - 0s 3ms/step - loss: 35.3487 - mse: 35.3487\n",
            "Epoch 51/500\n",
            "5/5 [==============================] - 0s 3ms/step - loss: 35.2116 - mse: 35.2116\n",
            "Epoch 52/500\n",
            "5/5 [==============================] - 0s 2ms/step - loss: 35.0759 - mse: 35.0759\n",
            "Epoch 53/500\n",
            "5/5 [==============================] - 0s 2ms/step - loss: 34.9414 - mse: 34.9414\n",
            "Epoch 54/500\n",
            "5/5 [==============================] - 0s 2ms/step - loss: 34.8081 - mse: 34.8081\n",
            "Epoch 55/500\n",
            "5/5 [==============================] - 0s 2ms/step - loss: 34.6760 - mse: 34.6760\n",
            "Epoch 56/500\n",
            "5/5 [==============================] - 0s 3ms/step - loss: 34.5448 - mse: 34.5448\n",
            "Epoch 57/500\n",
            "5/5 [==============================] - 0s 2ms/step - loss: 34.4146 - mse: 34.4146\n",
            "Epoch 58/500\n",
            "5/5 [==============================] - 0s 3ms/step - loss: 34.2853 - mse: 34.2853\n",
            "Epoch 59/500\n",
            "5/5 [==============================] - 0s 6ms/step - loss: 34.1569 - mse: 34.1569\n",
            "Epoch 60/500\n",
            "5/5 [==============================] - 0s 3ms/step - loss: 34.0292 - mse: 34.0292\n",
            "Epoch 61/500\n",
            "5/5 [==============================] - 0s 2ms/step - loss: 33.9022 - mse: 33.9022\n",
            "Epoch 62/500\n",
            "5/5 [==============================] - 0s 3ms/step - loss: 33.7760 - mse: 33.7760\n",
            "Epoch 63/500\n",
            "5/5 [==============================] - 0s 3ms/step - loss: 33.6505 - mse: 33.6505\n",
            "Epoch 64/500\n",
            "5/5 [==============================] - 0s 3ms/step - loss: 33.5256 - mse: 33.5256\n",
            "Epoch 65/500\n",
            "5/5 [==============================] - 0s 3ms/step - loss: 33.4014 - mse: 33.4014\n",
            "Epoch 66/500\n",
            "5/5 [==============================] - 0s 3ms/step - loss: 33.2777 - mse: 33.2777\n",
            "Epoch 67/500\n",
            "5/5 [==============================] - 0s 3ms/step - loss: 33.1547 - mse: 33.1547\n",
            "Epoch 68/500\n",
            "5/5 [==============================] - 0s 3ms/step - loss: 33.0322 - mse: 33.0322\n",
            "Epoch 69/500\n",
            "5/5 [==============================] - 0s 3ms/step - loss: 32.9103 - mse: 32.9103\n",
            "Epoch 70/500\n",
            "5/5 [==============================] - 0s 3ms/step - loss: 32.7889 - mse: 32.7889\n",
            "Epoch 71/500\n",
            "5/5 [==============================] - 0s 2ms/step - loss: 32.6681 - mse: 32.6681\n",
            "Epoch 72/500\n",
            "5/5 [==============================] - 0s 2ms/step - loss: 32.5478 - mse: 32.5478\n",
            "Epoch 73/500\n",
            "5/5 [==============================] - 0s 3ms/step - loss: 32.4280 - mse: 32.4280\n",
            "Epoch 74/500\n",
            "5/5 [==============================] - 0s 2ms/step - loss: 32.3087 - mse: 32.3087\n",
            "Epoch 75/500\n",
            "5/5 [==============================] - 0s 3ms/step - loss: 32.1899 - mse: 32.1899\n",
            "Epoch 76/500\n",
            "5/5 [==============================] - 0s 2ms/step - loss: 32.0716 - mse: 32.0716\n",
            "Epoch 77/500\n",
            "5/5 [==============================] - 0s 2ms/step - loss: 31.9538 - mse: 31.9538\n",
            "Epoch 78/500\n",
            "5/5 [==============================] - 0s 2ms/step - loss: 31.8364 - mse: 31.8364\n",
            "Epoch 79/500\n",
            "5/5 [==============================] - 0s 3ms/step - loss: 31.7195 - mse: 31.7195\n",
            "Epoch 80/500\n",
            "5/5 [==============================] - 0s 2ms/step - loss: 31.6031 - mse: 31.6031\n",
            "Epoch 81/500\n",
            "5/5 [==============================] - 0s 2ms/step - loss: 31.4871 - mse: 31.4871\n",
            "Epoch 82/500\n",
            "5/5 [==============================] - 0s 3ms/step - loss: 31.3716 - mse: 31.3716\n",
            "Epoch 83/500\n",
            "5/5 [==============================] - 0s 2ms/step - loss: 31.2565 - mse: 31.2565\n",
            "Epoch 84/500\n",
            "5/5 [==============================] - 0s 2ms/step - loss: 31.1418 - mse: 31.1418\n",
            "Epoch 85/500\n",
            "5/5 [==============================] - 0s 2ms/step - loss: 31.0277 - mse: 31.0277\n",
            "Epoch 86/500\n",
            "5/5 [==============================] - 0s 3ms/step - loss: 30.9139 - mse: 30.9139\n",
            "Epoch 87/500\n",
            "5/5 [==============================] - 0s 2ms/step - loss: 30.8006 - mse: 30.8006\n",
            "Epoch 88/500\n",
            "5/5 [==============================] - 0s 2ms/step - loss: 30.6876 - mse: 30.6876\n",
            "Epoch 89/500\n",
            "5/5 [==============================] - 0s 2ms/step - loss: 30.5752 - mse: 30.5752\n",
            "Epoch 90/500\n",
            "5/5 [==============================] - 0s 2ms/step - loss: 30.4632 - mse: 30.4632\n",
            "Epoch 91/500\n",
            "5/5 [==============================] - 0s 3ms/step - loss: 30.3515 - mse: 30.3515\n",
            "Epoch 92/500\n",
            "5/5 [==============================] - 0s 3ms/step - loss: 30.2403 - mse: 30.2403\n",
            "Epoch 93/500\n",
            "5/5 [==============================] - 0s 3ms/step - loss: 30.1295 - mse: 30.1295\n",
            "Epoch 94/500\n",
            "5/5 [==============================] - 0s 2ms/step - loss: 30.0191 - mse: 30.0191\n",
            "Epoch 95/500\n",
            "5/5 [==============================] - 0s 2ms/step - loss: 29.9091 - mse: 29.9091\n",
            "Epoch 96/500\n",
            "5/5 [==============================] - 0s 7ms/step - loss: 29.7996 - mse: 29.7996\n",
            "Epoch 97/500\n",
            "5/5 [==============================] - 0s 2ms/step - loss: 29.6905 - mse: 29.6905\n",
            "Epoch 98/500\n",
            "5/5 [==============================] - 0s 3ms/step - loss: 29.5817 - mse: 29.5817\n",
            "Epoch 99/500\n",
            "5/5 [==============================] - 0s 3ms/step - loss: 29.4734 - mse: 29.4734\n",
            "Epoch 100/500\n",
            "5/5 [==============================] - 0s 2ms/step - loss: 29.3654 - mse: 29.3654\n",
            "Epoch 101/500\n",
            "5/5 [==============================] - 0s 2ms/step - loss: 29.2579 - mse: 29.2579\n",
            "Epoch 102/500\n",
            "5/5 [==============================] - 0s 3ms/step - loss: 29.1507 - mse: 29.1507\n",
            "Epoch 103/500\n",
            "5/5 [==============================] - 0s 3ms/step - loss: 29.0440 - mse: 29.0440\n",
            "Epoch 104/500\n",
            "5/5 [==============================] - 0s 3ms/step - loss: 28.9376 - mse: 28.9376\n",
            "Epoch 105/500\n",
            "5/5 [==============================] - 0s 3ms/step - loss: 28.8316 - mse: 28.8316\n",
            "Epoch 106/500\n",
            "5/5 [==============================] - 0s 3ms/step - loss: 28.7261 - mse: 28.7261\n",
            "Epoch 107/500\n",
            "5/5 [==============================] - 0s 3ms/step - loss: 28.6209 - mse: 28.6209\n",
            "Epoch 108/500\n",
            "5/5 [==============================] - 0s 3ms/step - loss: 28.5161 - mse: 28.5161\n",
            "Epoch 109/500\n",
            "5/5 [==============================] - 0s 3ms/step - loss: 28.4116 - mse: 28.4116\n",
            "Epoch 110/500\n",
            "5/5 [==============================] - 0s 4ms/step - loss: 28.3076 - mse: 28.3076\n",
            "Epoch 111/500\n",
            "5/5 [==============================] - 0s 4ms/step - loss: 28.2040 - mse: 28.2040\n",
            "Epoch 112/500\n",
            "5/5 [==============================] - 0s 4ms/step - loss: 28.1007 - mse: 28.1007\n",
            "Epoch 113/500\n",
            "5/5 [==============================] - 0s 3ms/step - loss: 27.9978 - mse: 27.9978\n",
            "Epoch 114/500\n",
            "5/5 [==============================] - 0s 2ms/step - loss: 27.8953 - mse: 27.8953\n",
            "Epoch 115/500\n",
            "5/5 [==============================] - 0s 4ms/step - loss: 27.7932 - mse: 27.7932\n",
            "Epoch 116/500\n",
            "5/5 [==============================] - 0s 3ms/step - loss: 27.6914 - mse: 27.6914\n",
            "Epoch 117/500\n",
            "5/5 [==============================] - 0s 2ms/step - loss: 27.5900 - mse: 27.5900\n",
            "Epoch 118/500\n",
            "5/5 [==============================] - 0s 2ms/step - loss: 27.4890 - mse: 27.4890\n",
            "Epoch 119/500\n",
            "5/5 [==============================] - 0s 3ms/step - loss: 27.3884 - mse: 27.3884\n",
            "Epoch 120/500\n",
            "5/5 [==============================] - 0s 3ms/step - loss: 27.2881 - mse: 27.2881\n",
            "Epoch 121/500\n",
            "5/5 [==============================] - 0s 3ms/step - loss: 27.1882 - mse: 27.1882\n",
            "Epoch 122/500\n",
            "5/5 [==============================] - 0s 2ms/step - loss: 27.0886 - mse: 27.0886\n",
            "Epoch 123/500\n",
            "5/5 [==============================] - 0s 3ms/step - loss: 26.9894 - mse: 26.9894\n",
            "Epoch 124/500\n",
            "5/5 [==============================] - 0s 2ms/step - loss: 26.8906 - mse: 26.8906\n",
            "Epoch 125/500\n",
            "5/5 [==============================] - 0s 4ms/step - loss: 26.7922 - mse: 26.7922\n",
            "Epoch 126/500\n",
            "5/5 [==============================] - 0s 3ms/step - loss: 26.6941 - mse: 26.6941\n",
            "Epoch 127/500\n",
            "5/5 [==============================] - 0s 3ms/step - loss: 26.5964 - mse: 26.5964\n",
            "Epoch 128/500\n",
            "5/5 [==============================] - 0s 3ms/step - loss: 26.4990 - mse: 26.4990\n",
            "Epoch 129/500\n",
            "5/5 [==============================] - 0s 2ms/step - loss: 26.4020 - mse: 26.4020\n",
            "Epoch 130/500\n",
            "5/5 [==============================] - 0s 2ms/step - loss: 26.3053 - mse: 26.3053\n",
            "Epoch 131/500\n",
            "5/5 [==============================] - 0s 2ms/step - loss: 26.2090 - mse: 26.2090\n",
            "Epoch 132/500\n",
            "5/5 [==============================] - 0s 2ms/step - loss: 26.1130 - mse: 26.1130\n",
            "Epoch 133/500\n",
            "5/5 [==============================] - 0s 2ms/step - loss: 26.0175 - mse: 26.0175\n",
            "Epoch 134/500\n",
            "5/5 [==============================] - 0s 2ms/step - loss: 25.9222 - mse: 25.9222\n",
            "Epoch 135/500\n",
            "5/5 [==============================] - 0s 3ms/step - loss: 25.8273 - mse: 25.8273\n",
            "Epoch 136/500\n",
            "5/5 [==============================] - 0s 3ms/step - loss: 25.7327 - mse: 25.7327\n",
            "Epoch 137/500\n",
            "5/5 [==============================] - 0s 2ms/step - loss: 25.6385 - mse: 25.6385\n",
            "Epoch 138/500\n",
            "5/5 [==============================] - 0s 2ms/step - loss: 25.5446 - mse: 25.5446\n",
            "Epoch 139/500\n",
            "5/5 [==============================] - 0s 2ms/step - loss: 25.4511 - mse: 25.4511\n",
            "Epoch 140/500\n",
            "5/5 [==============================] - 0s 5ms/step - loss: 25.3580 - mse: 25.3580\n",
            "Epoch 141/500\n",
            "5/5 [==============================] - 0s 4ms/step - loss: 25.2651 - mse: 25.2651\n",
            "Epoch 142/500\n",
            "5/5 [==============================] - 0s 3ms/step - loss: 25.1726 - mse: 25.1726\n",
            "Epoch 143/500\n",
            "5/5 [==============================] - 0s 3ms/step - loss: 25.0805 - mse: 25.0805\n",
            "Epoch 144/500\n",
            "5/5 [==============================] - 0s 2ms/step - loss: 24.9886 - mse: 24.9886\n",
            "Epoch 145/500\n",
            "5/5 [==============================] - 0s 3ms/step - loss: 24.8972 - mse: 24.8972\n",
            "Epoch 146/500\n",
            "5/5 [==============================] - 0s 3ms/step - loss: 24.8060 - mse: 24.8060\n",
            "Epoch 147/500\n",
            "5/5 [==============================] - 0s 3ms/step - loss: 24.7152 - mse: 24.7152\n",
            "Epoch 148/500\n",
            "5/5 [==============================] - 0s 3ms/step - loss: 24.6247 - mse: 24.6247\n",
            "Epoch 149/500\n",
            "5/5 [==============================] - 0s 2ms/step - loss: 24.5346 - mse: 24.5346\n",
            "Epoch 150/500\n",
            "5/5 [==============================] - 0s 3ms/step - loss: 24.4447 - mse: 24.4447\n",
            "Epoch 151/500\n",
            "5/5 [==============================] - 0s 3ms/step - loss: 24.3553 - mse: 24.3553\n",
            "Epoch 152/500\n",
            "5/5 [==============================] - 0s 3ms/step - loss: 24.2661 - mse: 24.2661\n",
            "Epoch 153/500\n",
            "5/5 [==============================] - 0s 3ms/step - loss: 24.1773 - mse: 24.1773\n",
            "Epoch 154/500\n",
            "5/5 [==============================] - 0s 4ms/step - loss: 24.0887 - mse: 24.0887\n",
            "Epoch 155/500\n",
            "5/5 [==============================] - 0s 4ms/step - loss: 24.0005 - mse: 24.0005\n",
            "Epoch 156/500\n",
            "5/5 [==============================] - 0s 3ms/step - loss: 23.9127 - mse: 23.9127\n",
            "Epoch 157/500\n",
            "5/5 [==============================] - 0s 3ms/step - loss: 23.8251 - mse: 23.8251\n",
            "Epoch 158/500\n",
            "5/5 [==============================] - 0s 3ms/step - loss: 23.7379 - mse: 23.7379\n",
            "Epoch 159/500\n",
            "5/5 [==============================] - 0s 3ms/step - loss: 23.6510 - mse: 23.6510\n",
            "Epoch 160/500\n",
            "5/5 [==============================] - 0s 3ms/step - loss: 23.5644 - mse: 23.5644\n",
            "Epoch 161/500\n",
            "5/5 [==============================] - 0s 4ms/step - loss: 23.4782 - mse: 23.4782\n",
            "Epoch 162/500\n",
            "5/5 [==============================] - 0s 3ms/step - loss: 23.3922 - mse: 23.3922\n",
            "Epoch 163/500\n",
            "5/5 [==============================] - 0s 2ms/step - loss: 23.3066 - mse: 23.3066\n",
            "Epoch 164/500\n",
            "5/5 [==============================] - 0s 3ms/step - loss: 23.2213 - mse: 23.2213\n",
            "Epoch 165/500\n",
            "5/5 [==============================] - 0s 3ms/step - loss: 23.1362 - mse: 23.1362\n",
            "Epoch 166/500\n",
            "5/5 [==============================] - 0s 3ms/step - loss: 23.0515 - mse: 23.0515\n",
            "Epoch 167/500\n",
            "5/5 [==============================] - 0s 3ms/step - loss: 22.9671 - mse: 22.9671\n",
            "Epoch 168/500\n",
            "5/5 [==============================] - 0s 3ms/step - loss: 22.8831 - mse: 22.8831\n",
            "Epoch 169/500\n",
            "5/5 [==============================] - 0s 3ms/step - loss: 22.7993 - mse: 22.7993\n",
            "Epoch 170/500\n",
            "5/5 [==============================] - 0s 3ms/step - loss: 22.7158 - mse: 22.7158\n",
            "Epoch 171/500\n",
            "5/5 [==============================] - 0s 3ms/step - loss: 22.6326 - mse: 22.6326\n",
            "Epoch 172/500\n",
            "5/5 [==============================] - 0s 3ms/step - loss: 22.5498 - mse: 22.5498\n",
            "Epoch 173/500\n",
            "5/5 [==============================] - 0s 3ms/step - loss: 22.4673 - mse: 22.4673\n",
            "Epoch 174/500\n",
            "5/5 [==============================] - 0s 3ms/step - loss: 22.3850 - mse: 22.3850\n",
            "Epoch 175/500\n",
            "5/5 [==============================] - 0s 3ms/step - loss: 22.3031 - mse: 22.3031\n",
            "Epoch 176/500\n",
            "5/5 [==============================] - 0s 3ms/step - loss: 22.2214 - mse: 22.2214\n",
            "Epoch 177/500\n",
            "5/5 [==============================] - 0s 3ms/step - loss: 22.1400 - mse: 22.1400\n",
            "Epoch 178/500\n",
            "5/5 [==============================] - 0s 3ms/step - loss: 22.0590 - mse: 22.0590\n",
            "Epoch 179/500\n",
            "5/5 [==============================] - 0s 3ms/step - loss: 21.9783 - mse: 21.9783\n",
            "Epoch 180/500\n",
            "5/5 [==============================] - 0s 2ms/step - loss: 21.8978 - mse: 21.8978\n",
            "Epoch 181/500\n",
            "5/5 [==============================] - 0s 3ms/step - loss: 21.8176 - mse: 21.8176\n",
            "Epoch 182/500\n",
            "5/5 [==============================] - 0s 4ms/step - loss: 21.7378 - mse: 21.7378\n",
            "Epoch 183/500\n",
            "5/5 [==============================] - 0s 4ms/step - loss: 21.6582 - mse: 21.6582\n",
            "Epoch 184/500\n",
            "5/5 [==============================] - 0s 3ms/step - loss: 21.5789 - mse: 21.5789\n",
            "Epoch 185/500\n",
            "5/5 [==============================] - 0s 2ms/step - loss: 21.4999 - mse: 21.4999\n",
            "Epoch 186/500\n",
            "5/5 [==============================] - 0s 3ms/step - loss: 21.4211 - mse: 21.4211\n",
            "Epoch 187/500\n",
            "5/5 [==============================] - 0s 2ms/step - loss: 21.3428 - mse: 21.3428\n",
            "Epoch 188/500\n",
            "5/5 [==============================] - 0s 2ms/step - loss: 21.2646 - mse: 21.2646\n",
            "Epoch 189/500\n",
            "5/5 [==============================] - 0s 3ms/step - loss: 21.1867 - mse: 21.1867\n",
            "Epoch 190/500\n",
            "5/5 [==============================] - 0s 4ms/step - loss: 21.1092 - mse: 21.1092\n",
            "Epoch 191/500\n",
            "5/5 [==============================] - 0s 5ms/step - loss: 21.0319 - mse: 21.0319\n",
            "Epoch 192/500\n",
            "5/5 [==============================] - 0s 2ms/step - loss: 20.9549 - mse: 20.9549\n",
            "Epoch 193/500\n",
            "5/5 [==============================] - 0s 2ms/step - loss: 20.8782 - mse: 20.8782\n",
            "Epoch 194/500\n",
            "5/5 [==============================] - 0s 2ms/step - loss: 20.8018 - mse: 20.8018\n",
            "Epoch 195/500\n",
            "5/5 [==============================] - 0s 2ms/step - loss: 20.7256 - mse: 20.7256\n",
            "Epoch 196/500\n",
            "5/5 [==============================] - 0s 2ms/step - loss: 20.6497 - mse: 20.6497\n",
            "Epoch 197/500\n",
            "5/5 [==============================] - 0s 2ms/step - loss: 20.5742 - mse: 20.5742\n",
            "Epoch 198/500\n",
            "5/5 [==============================] - 0s 3ms/step - loss: 20.4989 - mse: 20.4989\n",
            "Epoch 199/500\n",
            "5/5 [==============================] - 0s 3ms/step - loss: 20.4238 - mse: 20.4238\n",
            "Epoch 200/500\n",
            "5/5 [==============================] - 0s 2ms/step - loss: 20.3490 - mse: 20.3490\n",
            "Epoch 201/500\n",
            "5/5 [==============================] - 0s 2ms/step - loss: 20.2746 - mse: 20.2746\n",
            "Epoch 202/500\n",
            "5/5 [==============================] - 0s 3ms/step - loss: 20.2003 - mse: 20.2003\n",
            "Epoch 203/500\n",
            "5/5 [==============================] - 0s 3ms/step - loss: 20.1264 - mse: 20.1264\n",
            "Epoch 204/500\n",
            "5/5 [==============================] - 0s 3ms/step - loss: 20.0527 - mse: 20.0527\n",
            "Epoch 205/500\n",
            "5/5 [==============================] - 0s 2ms/step - loss: 19.9793 - mse: 19.9793\n",
            "Epoch 206/500\n",
            "5/5 [==============================] - 0s 3ms/step - loss: 19.9061 - mse: 19.9061\n",
            "Epoch 207/500\n",
            "5/5 [==============================] - 0s 2ms/step - loss: 19.8333 - mse: 19.8333\n",
            "Epoch 208/500\n",
            "5/5 [==============================] - 0s 2ms/step - loss: 19.7607 - mse: 19.7607\n",
            "Epoch 209/500\n",
            "5/5 [==============================] - 0s 2ms/step - loss: 19.6884 - mse: 19.6884\n",
            "Epoch 210/500\n",
            "5/5 [==============================] - 0s 2ms/step - loss: 19.6163 - mse: 19.6163\n",
            "Epoch 211/500\n",
            "5/5 [==============================] - 0s 3ms/step - loss: 19.5445 - mse: 19.5445\n",
            "Epoch 212/500\n",
            "5/5 [==============================] - 0s 4ms/step - loss: 19.4729 - mse: 19.4729\n",
            "Epoch 213/500\n",
            "5/5 [==============================] - 0s 3ms/step - loss: 19.4016 - mse: 19.4016\n",
            "Epoch 214/500\n",
            "5/5 [==============================] - 0s 4ms/step - loss: 19.3306 - mse: 19.3306\n",
            "Epoch 215/500\n",
            "5/5 [==============================] - 0s 3ms/step - loss: 19.2599 - mse: 19.2599\n",
            "Epoch 216/500\n",
            "5/5 [==============================] - 0s 3ms/step - loss: 19.1893 - mse: 19.1893\n",
            "Epoch 217/500\n",
            "5/5 [==============================] - 0s 4ms/step - loss: 19.1191 - mse: 19.1191\n",
            "Epoch 218/500\n",
            "5/5 [==============================] - 0s 3ms/step - loss: 19.0491 - mse: 19.0491\n",
            "Epoch 219/500\n",
            "5/5 [==============================] - 0s 3ms/step - loss: 18.9794 - mse: 18.9794\n",
            "Epoch 220/500\n",
            "5/5 [==============================] - 0s 2ms/step - loss: 18.9099 - mse: 18.9099\n",
            "Epoch 221/500\n",
            "5/5 [==============================] - 0s 2ms/step - loss: 18.8407 - mse: 18.8407\n",
            "Epoch 222/500\n",
            "5/5 [==============================] - 0s 2ms/step - loss: 18.7717 - mse: 18.7717\n",
            "Epoch 223/500\n",
            "5/5 [==============================] - 0s 2ms/step - loss: 18.7030 - mse: 18.7030\n",
            "Epoch 224/500\n",
            "5/5 [==============================] - 0s 3ms/step - loss: 18.6345 - mse: 18.6345\n",
            "Epoch 225/500\n",
            "5/5 [==============================] - 0s 2ms/step - loss: 18.5663 - mse: 18.5663\n",
            "Epoch 226/500\n",
            "5/5 [==============================] - 0s 2ms/step - loss: 18.4984 - mse: 18.4984\n",
            "Epoch 227/500\n",
            "5/5 [==============================] - 0s 2ms/step - loss: 18.4306 - mse: 18.4306\n",
            "Epoch 228/500\n",
            "5/5 [==============================] - 0s 2ms/step - loss: 18.3631 - mse: 18.3631\n",
            "Epoch 229/500\n",
            "5/5 [==============================] - 0s 2ms/step - loss: 18.2959 - mse: 18.2959\n",
            "Epoch 230/500\n",
            "5/5 [==============================] - 0s 3ms/step - loss: 18.2289 - mse: 18.2289\n",
            "Epoch 231/500\n",
            "5/5 [==============================] - 0s 3ms/step - loss: 18.1622 - mse: 18.1622\n",
            "Epoch 232/500\n",
            "5/5 [==============================] - 0s 2ms/step - loss: 18.0957 - mse: 18.0957\n",
            "Epoch 233/500\n",
            "5/5 [==============================] - 0s 2ms/step - loss: 18.0295 - mse: 18.0295\n",
            "Epoch 234/500\n",
            "5/5 [==============================] - 0s 2ms/step - loss: 17.9635 - mse: 17.9635\n",
            "Epoch 235/500\n",
            "5/5 [==============================] - 0s 2ms/step - loss: 17.8977 - mse: 17.8977\n",
            "Epoch 236/500\n",
            "5/5 [==============================] - 0s 3ms/step - loss: 17.8322 - mse: 17.8322\n",
            "Epoch 237/500\n",
            "5/5 [==============================] - 0s 2ms/step - loss: 17.7670 - mse: 17.7670\n",
            "Epoch 238/500\n",
            "5/5 [==============================] - 0s 2ms/step - loss: 17.7019 - mse: 17.7019\n",
            "Epoch 239/500\n",
            "5/5 [==============================] - 0s 2ms/step - loss: 17.6371 - mse: 17.6371\n",
            "Epoch 240/500\n",
            "5/5 [==============================] - 0s 2ms/step - loss: 17.5725 - mse: 17.5725\n",
            "Epoch 241/500\n",
            "5/5 [==============================] - 0s 2ms/step - loss: 17.5082 - mse: 17.5082\n",
            "Epoch 242/500\n",
            "5/5 [==============================] - 0s 2ms/step - loss: 17.4441 - mse: 17.4441\n",
            "Epoch 243/500\n",
            "5/5 [==============================] - 0s 3ms/step - loss: 17.3803 - mse: 17.3803\n",
            "Epoch 244/500\n",
            "5/5 [==============================] - 0s 2ms/step - loss: 17.3167 - mse: 17.3167\n",
            "Epoch 245/500\n",
            "5/5 [==============================] - 0s 4ms/step - loss: 17.2533 - mse: 17.2533\n",
            "Epoch 246/500\n",
            "5/5 [==============================] - 0s 3ms/step - loss: 17.1901 - mse: 17.1901\n",
            "Epoch 247/500\n",
            "5/5 [==============================] - 0s 3ms/step - loss: 17.1272 - mse: 17.1272\n",
            "Epoch 248/500\n",
            "5/5 [==============================] - 0s 3ms/step - loss: 17.0645 - mse: 17.0645\n",
            "Epoch 249/500\n",
            "5/5 [==============================] - 0s 3ms/step - loss: 17.0020 - mse: 17.0020\n",
            "Epoch 250/500\n",
            "5/5 [==============================] - 0s 2ms/step - loss: 16.9398 - mse: 16.9398\n",
            "Epoch 251/500\n",
            "5/5 [==============================] - 0s 3ms/step - loss: 16.8778 - mse: 16.8778\n",
            "Epoch 252/500\n",
            "5/5 [==============================] - 0s 2ms/step - loss: 16.8160 - mse: 16.8160\n",
            "Epoch 253/500\n",
            "5/5 [==============================] - 0s 2ms/step - loss: 16.7544 - mse: 16.7544\n",
            "Epoch 254/500\n",
            "5/5 [==============================] - 0s 2ms/step - loss: 16.6931 - mse: 16.6931\n",
            "Epoch 255/500\n",
            "5/5 [==============================] - 0s 3ms/step - loss: 16.6320 - mse: 16.6320\n",
            "Epoch 256/500\n",
            "5/5 [==============================] - 0s 2ms/step - loss: 16.5711 - mse: 16.5711\n",
            "Epoch 257/500\n",
            "5/5 [==============================] - 0s 6ms/step - loss: 16.5105 - mse: 16.5105\n",
            "Epoch 258/500\n",
            "5/5 [==============================] - 0s 5ms/step - loss: 16.4500 - mse: 16.4500\n",
            "Epoch 259/500\n",
            "5/5 [==============================] - 0s 2ms/step - loss: 16.3898 - mse: 16.3898\n",
            "Epoch 260/500\n",
            "5/5 [==============================] - 0s 3ms/step - loss: 16.3298 - mse: 16.3298\n",
            "Epoch 261/500\n",
            "5/5 [==============================] - 0s 5ms/step - loss: 16.2701 - mse: 16.2701\n",
            "Epoch 262/500\n",
            "5/5 [==============================] - 0s 3ms/step - loss: 16.2105 - mse: 16.2105\n",
            "Epoch 263/500\n",
            "5/5 [==============================] - 0s 3ms/step - loss: 16.1512 - mse: 16.1512\n",
            "Epoch 264/500\n",
            "5/5 [==============================] - 0s 6ms/step - loss: 16.0920 - mse: 16.0920\n",
            "Epoch 265/500\n",
            "5/5 [==============================] - 0s 2ms/step - loss: 16.0331 - mse: 16.0331\n",
            "Epoch 266/500\n",
            "5/5 [==============================] - 0s 2ms/step - loss: 15.9745 - mse: 15.9745\n",
            "Epoch 267/500\n",
            "5/5 [==============================] - 0s 2ms/step - loss: 15.9160 - mse: 15.9160\n",
            "Epoch 268/500\n",
            "5/5 [==============================] - 0s 3ms/step - loss: 15.8577 - mse: 15.8577\n",
            "Epoch 269/500\n",
            "5/5 [==============================] - 0s 2ms/step - loss: 15.7997 - mse: 15.7997\n",
            "Epoch 270/500\n",
            "5/5 [==============================] - 0s 2ms/step - loss: 15.7419 - mse: 15.7419\n",
            "Epoch 271/500\n",
            "5/5 [==============================] - 0s 2ms/step - loss: 15.6842 - mse: 15.6842\n",
            "Epoch 272/500\n",
            "5/5 [==============================] - 0s 2ms/step - loss: 15.6268 - mse: 15.6268\n",
            "Epoch 273/500\n",
            "5/5 [==============================] - 0s 2ms/step - loss: 15.5696 - mse: 15.5696\n",
            "Epoch 274/500\n",
            "5/5 [==============================] - 0s 2ms/step - loss: 15.5126 - mse: 15.5126\n",
            "Epoch 275/500\n",
            "5/5 [==============================] - 0s 2ms/step - loss: 15.4558 - mse: 15.4558\n",
            "Epoch 276/500\n",
            "5/5 [==============================] - 0s 2ms/step - loss: 15.3993 - mse: 15.3993\n",
            "Epoch 277/500\n",
            "5/5 [==============================] - 0s 3ms/step - loss: 15.3429 - mse: 15.3429\n",
            "Epoch 278/500\n",
            "5/5 [==============================] - 0s 2ms/step - loss: 15.2867 - mse: 15.2867\n",
            "Epoch 279/500\n",
            "5/5 [==============================] - 0s 3ms/step - loss: 15.2308 - mse: 15.2308\n",
            "Epoch 280/500\n",
            "5/5 [==============================] - 0s 2ms/step - loss: 15.1750 - mse: 15.1750\n",
            "Epoch 281/500\n",
            "5/5 [==============================] - 0s 2ms/step - loss: 15.1195 - mse: 15.1195\n",
            "Epoch 282/500\n",
            "5/5 [==============================] - 0s 2ms/step - loss: 15.0641 - mse: 15.0641\n",
            "Epoch 283/500\n",
            "5/5 [==============================] - 0s 2ms/step - loss: 15.0090 - mse: 15.0090\n",
            "Epoch 284/500\n",
            "5/5 [==============================] - 0s 2ms/step - loss: 14.9541 - mse: 14.9541\n",
            "Epoch 285/500\n",
            "5/5 [==============================] - 0s 2ms/step - loss: 14.8993 - mse: 14.8993\n",
            "Epoch 286/500\n",
            "5/5 [==============================] - 0s 2ms/step - loss: 14.8448 - mse: 14.8448\n",
            "Epoch 287/500\n",
            "5/5 [==============================] - 0s 6ms/step - loss: 14.7904 - mse: 14.7904\n",
            "Epoch 288/500\n",
            "5/5 [==============================] - 0s 3ms/step - loss: 14.7363 - mse: 14.7363\n",
            "Epoch 289/500\n",
            "5/5 [==============================] - 0s 3ms/step - loss: 14.6824 - mse: 14.6824\n",
            "Epoch 290/500\n",
            "5/5 [==============================] - 0s 3ms/step - loss: 14.6286 - mse: 14.6286\n",
            "Epoch 291/500\n",
            "5/5 [==============================] - 0s 2ms/step - loss: 14.5751 - mse: 14.5751\n",
            "Epoch 292/500\n",
            "5/5 [==============================] - 0s 2ms/step - loss: 14.5218 - mse: 14.5218\n",
            "Epoch 293/500\n",
            "5/5 [==============================] - 0s 3ms/step - loss: 14.4686 - mse: 14.4686\n",
            "Epoch 294/500\n",
            "5/5 [==============================] - 0s 3ms/step - loss: 14.4156 - mse: 14.4156\n",
            "Epoch 295/500\n",
            "5/5 [==============================] - 0s 2ms/step - loss: 14.3629 - mse: 14.3629\n",
            "Epoch 296/500\n",
            "5/5 [==============================] - 0s 2ms/step - loss: 14.3103 - mse: 14.3103\n",
            "Epoch 297/500\n",
            "5/5 [==============================] - 0s 2ms/step - loss: 14.2579 - mse: 14.2579\n",
            "Epoch 298/500\n",
            "5/5 [==============================] - 0s 6ms/step - loss: 14.2057 - mse: 14.2057\n",
            "Epoch 299/500\n",
            "5/5 [==============================] - 0s 2ms/step - loss: 14.1537 - mse: 14.1537\n",
            "Epoch 300/500\n",
            "5/5 [==============================] - 0s 3ms/step - loss: 14.1019 - mse: 14.1019\n",
            "Epoch 301/500\n",
            "5/5 [==============================] - 0s 3ms/step - loss: 14.0503 - mse: 14.0503\n",
            "Epoch 302/500\n",
            "5/5 [==============================] - 0s 3ms/step - loss: 13.9989 - mse: 13.9989\n",
            "Epoch 303/500\n",
            "5/5 [==============================] - 0s 3ms/step - loss: 13.9477 - mse: 13.9477\n",
            "Epoch 304/500\n",
            "5/5 [==============================] - 0s 2ms/step - loss: 13.8966 - mse: 13.8966\n",
            "Epoch 305/500\n",
            "5/5 [==============================] - 0s 2ms/step - loss: 13.8457 - mse: 13.8457\n",
            "Epoch 306/500\n",
            "5/5 [==============================] - 0s 3ms/step - loss: 13.7951 - mse: 13.7951\n",
            "Epoch 307/500\n",
            "5/5 [==============================] - 0s 3ms/step - loss: 13.7446 - mse: 13.7446\n",
            "Epoch 308/500\n",
            "5/5 [==============================] - 0s 3ms/step - loss: 13.6943 - mse: 13.6943\n",
            "Epoch 309/500\n",
            "5/5 [==============================] - 0s 3ms/step - loss: 13.6442 - mse: 13.6442\n",
            "Epoch 310/500\n",
            "5/5 [==============================] - 0s 4ms/step - loss: 13.5942 - mse: 13.5942\n",
            "Epoch 311/500\n",
            "5/5 [==============================] - 0s 3ms/step - loss: 13.5445 - mse: 13.5445\n",
            "Epoch 312/500\n",
            "5/5 [==============================] - 0s 3ms/step - loss: 13.4949 - mse: 13.4949\n",
            "Epoch 313/500\n",
            "5/5 [==============================] - 0s 2ms/step - loss: 13.4455 - mse: 13.4455\n",
            "Epoch 314/500\n",
            "5/5 [==============================] - 0s 4ms/step - loss: 13.3963 - mse: 13.3963\n",
            "Epoch 315/500\n",
            "5/5 [==============================] - 0s 3ms/step - loss: 13.3472 - mse: 13.3472\n",
            "Epoch 316/500\n",
            "5/5 [==============================] - 0s 2ms/step - loss: 13.2984 - mse: 13.2984\n",
            "Epoch 317/500\n",
            "5/5 [==============================] - 0s 4ms/step - loss: 13.2497 - mse: 13.2497\n",
            "Epoch 318/500\n",
            "5/5 [==============================] - 0s 2ms/step - loss: 13.2012 - mse: 13.2012\n",
            "Epoch 319/500\n",
            "5/5 [==============================] - 0s 2ms/step - loss: 13.1529 - mse: 13.1529\n",
            "Epoch 320/500\n",
            "5/5 [==============================] - 0s 3ms/step - loss: 13.1048 - mse: 13.1048\n",
            "Epoch 321/500\n",
            "5/5 [==============================] - 0s 2ms/step - loss: 13.0568 - mse: 13.0568\n",
            "Epoch 322/500\n",
            "5/5 [==============================] - 0s 2ms/step - loss: 13.0091 - mse: 13.0091\n",
            "Epoch 323/500\n",
            "5/5 [==============================] - 0s 2ms/step - loss: 12.9614 - mse: 12.9614\n",
            "Epoch 324/500\n",
            "5/5 [==============================] - 0s 2ms/step - loss: 12.9139 - mse: 12.9139\n",
            "Epoch 325/500\n",
            "5/5 [==============================] - 0s 3ms/step - loss: 12.8667 - mse: 12.8667\n",
            "Epoch 326/500\n",
            "5/5 [==============================] - 0s 2ms/step - loss: 12.8196 - mse: 12.8196\n",
            "Epoch 327/500\n",
            "5/5 [==============================] - 0s 3ms/step - loss: 12.7727 - mse: 12.7727\n",
            "Epoch 328/500\n",
            "5/5 [==============================] - 0s 4ms/step - loss: 12.7260 - mse: 12.7260\n",
            "Epoch 329/500\n",
            "5/5 [==============================] - 0s 4ms/step - loss: 12.6794 - mse: 12.6794\n",
            "Epoch 330/500\n",
            "5/5 [==============================] - 0s 4ms/step - loss: 12.6330 - mse: 12.6330\n",
            "Epoch 331/500\n",
            "5/5 [==============================] - 0s 4ms/step - loss: 12.5868 - mse: 12.5868\n",
            "Epoch 332/500\n",
            "5/5 [==============================] - 0s 4ms/step - loss: 12.5407 - mse: 12.5407\n",
            "Epoch 333/500\n",
            "5/5 [==============================] - 0s 4ms/step - loss: 12.4948 - mse: 12.4948\n",
            "Epoch 334/500\n",
            "5/5 [==============================] - 0s 3ms/step - loss: 12.4490 - mse: 12.4490\n",
            "Epoch 335/500\n",
            "5/5 [==============================] - 0s 2ms/step - loss: 12.4035 - mse: 12.4035\n",
            "Epoch 336/500\n",
            "5/5 [==============================] - 0s 4ms/step - loss: 12.3581 - mse: 12.3581\n",
            "Epoch 337/500\n",
            "5/5 [==============================] - 0s 2ms/step - loss: 12.3129 - mse: 12.3129\n",
            "Epoch 338/500\n",
            "5/5 [==============================] - 0s 2ms/step - loss: 12.2678 - mse: 12.2678\n",
            "Epoch 339/500\n",
            "5/5 [==============================] - 0s 2ms/step - loss: 12.2229 - mse: 12.2229\n",
            "Epoch 340/500\n",
            "5/5 [==============================] - 0s 2ms/step - loss: 12.1782 - mse: 12.1782\n",
            "Epoch 341/500\n",
            "5/5 [==============================] - 0s 3ms/step - loss: 12.1336 - mse: 12.1336\n",
            "Epoch 342/500\n",
            "5/5 [==============================] - 0s 2ms/step - loss: 12.0892 - mse: 12.0892\n",
            "Epoch 343/500\n",
            "5/5 [==============================] - 0s 4ms/step - loss: 12.0449 - mse: 12.0449\n",
            "Epoch 344/500\n",
            "5/5 [==============================] - 0s 4ms/step - loss: 12.0009 - mse: 12.0009\n",
            "Epoch 345/500\n",
            "5/5 [==============================] - 0s 4ms/step - loss: 11.9569 - mse: 11.9569\n",
            "Epoch 346/500\n",
            "5/5 [==============================] - 0s 3ms/step - loss: 11.9132 - mse: 11.9132\n",
            "Epoch 347/500\n",
            "5/5 [==============================] - 0s 4ms/step - loss: 11.8696 - mse: 11.8696\n",
            "Epoch 348/500\n",
            "5/5 [==============================] - 0s 4ms/step - loss: 11.8261 - mse: 11.8261\n",
            "Epoch 349/500\n",
            "5/5 [==============================] - 0s 3ms/step - loss: 11.7829 - mse: 11.7829\n",
            "Epoch 350/500\n",
            "5/5 [==============================] - 0s 4ms/step - loss: 11.7398 - mse: 11.7398\n",
            "Epoch 351/500\n",
            "5/5 [==============================] - 0s 3ms/step - loss: 11.6968 - mse: 11.6968\n",
            "Epoch 352/500\n",
            "5/5 [==============================] - 0s 5ms/step - loss: 11.6540 - mse: 11.6540\n",
            "Epoch 353/500\n",
            "5/5 [==============================] - 0s 3ms/step - loss: 11.6113 - mse: 11.6113\n",
            "Epoch 354/500\n",
            "5/5 [==============================] - 0s 4ms/step - loss: 11.5688 - mse: 11.5688\n",
            "Epoch 355/500\n",
            "5/5 [==============================] - 0s 2ms/step - loss: 11.5265 - mse: 11.5265\n",
            "Epoch 356/500\n",
            "5/5 [==============================] - 0s 3ms/step - loss: 11.4843 - mse: 11.4843\n",
            "Epoch 357/500\n",
            "5/5 [==============================] - 0s 3ms/step - loss: 11.4423 - mse: 11.4423\n",
            "Epoch 358/500\n",
            "5/5 [==============================] - 0s 2ms/step - loss: 11.4004 - mse: 11.4004\n",
            "Epoch 359/500\n",
            "5/5 [==============================] - 0s 2ms/step - loss: 11.3587 - mse: 11.3587\n",
            "Epoch 360/500\n",
            "5/5 [==============================] - 0s 3ms/step - loss: 11.3171 - mse: 11.3171\n",
            "Epoch 361/500\n",
            "5/5 [==============================] - 0s 2ms/step - loss: 11.2757 - mse: 11.2757\n",
            "Epoch 362/500\n",
            "5/5 [==============================] - 0s 2ms/step - loss: 11.2344 - mse: 11.2344\n",
            "Epoch 363/500\n",
            "5/5 [==============================] - 0s 3ms/step - loss: 11.1933 - mse: 11.1933\n",
            "Epoch 364/500\n",
            "5/5 [==============================] - 0s 2ms/step - loss: 11.1524 - mse: 11.1524\n",
            "Epoch 365/500\n",
            "5/5 [==============================] - 0s 2ms/step - loss: 11.1116 - mse: 11.1116\n",
            "Epoch 366/500\n",
            "5/5 [==============================] - 0s 2ms/step - loss: 11.0709 - mse: 11.0709\n",
            "Epoch 367/500\n",
            "5/5 [==============================] - 0s 3ms/step - loss: 11.0304 - mse: 11.0304\n",
            "Epoch 368/500\n",
            "5/5 [==============================] - 0s 3ms/step - loss: 10.9900 - mse: 10.9900\n",
            "Epoch 369/500\n",
            "5/5 [==============================] - 0s 2ms/step - loss: 10.9498 - mse: 10.9498\n",
            "Epoch 370/500\n",
            "5/5 [==============================] - 0s 4ms/step - loss: 10.9097 - mse: 10.9097\n",
            "Epoch 371/500\n",
            "5/5 [==============================] - 0s 4ms/step - loss: 10.8698 - mse: 10.8698\n",
            "Epoch 372/500\n",
            "5/5 [==============================] - 0s 4ms/step - loss: 10.8300 - mse: 10.8300\n",
            "Epoch 373/500\n",
            "5/5 [==============================] - 0s 4ms/step - loss: 10.7904 - mse: 10.7904\n",
            "Epoch 374/500\n",
            "5/5 [==============================] - 0s 4ms/step - loss: 10.7509 - mse: 10.7509\n",
            "Epoch 375/500\n",
            "5/5 [==============================] - 0s 3ms/step - loss: 10.7116 - mse: 10.7116\n",
            "Epoch 376/500\n",
            "5/5 [==============================] - 0s 2ms/step - loss: 10.6724 - mse: 10.6724\n",
            "Epoch 377/500\n",
            "5/5 [==============================] - 0s 2ms/step - loss: 10.6333 - mse: 10.6333\n",
            "Epoch 378/500\n",
            "5/5 [==============================] - 0s 2ms/step - loss: 10.5944 - mse: 10.5944\n",
            "Epoch 379/500\n",
            "5/5 [==============================] - 0s 2ms/step - loss: 10.5556 - mse: 10.5556\n",
            "Epoch 380/500\n",
            "5/5 [==============================] - 0s 2ms/step - loss: 10.5170 - mse: 10.5170\n",
            "Epoch 381/500\n",
            "5/5 [==============================] - 0s 2ms/step - loss: 10.4785 - mse: 10.4785\n",
            "Epoch 382/500\n",
            "5/5 [==============================] - 0s 2ms/step - loss: 10.4402 - mse: 10.4402\n",
            "Epoch 383/500\n",
            "5/5 [==============================] - 0s 2ms/step - loss: 10.4020 - mse: 10.4020\n",
            "Epoch 384/500\n",
            "5/5 [==============================] - 0s 2ms/step - loss: 10.3639 - mse: 10.3639\n",
            "Epoch 385/500\n",
            "5/5 [==============================] - 0s 2ms/step - loss: 10.3260 - mse: 10.3260\n",
            "Epoch 386/500\n",
            "5/5 [==============================] - 0s 6ms/step - loss: 10.2882 - mse: 10.2882\n",
            "Epoch 387/500\n",
            "5/5 [==============================] - 0s 4ms/step - loss: 10.2505 - mse: 10.2505\n",
            "Epoch 388/500\n",
            "5/5 [==============================] - 0s 4ms/step - loss: 10.2130 - mse: 10.2130\n",
            "Epoch 389/500\n",
            "5/5 [==============================] - 0s 4ms/step - loss: 10.1757 - mse: 10.1757\n",
            "Epoch 390/500\n",
            "5/5 [==============================] - 0s 4ms/step - loss: 10.1384 - mse: 10.1384\n",
            "Epoch 391/500\n",
            "5/5 [==============================] - 0s 2ms/step - loss: 10.1013 - mse: 10.1013\n",
            "Epoch 392/500\n",
            "5/5 [==============================] - 0s 3ms/step - loss: 10.0644 - mse: 10.0644\n",
            "Epoch 393/500\n",
            "5/5 [==============================] - 0s 2ms/step - loss: 10.0276 - mse: 10.0276\n",
            "Epoch 394/500\n",
            "5/5 [==============================] - 0s 6ms/step - loss: 9.9908 - mse: 9.9908\n",
            "Epoch 395/500\n",
            "5/5 [==============================] - 0s 3ms/step - loss: 9.9543 - mse: 9.9543\n",
            "Epoch 396/500\n",
            "5/5 [==============================] - 0s 3ms/step - loss: 9.9179 - mse: 9.9179\n",
            "Epoch 397/500\n",
            "5/5 [==============================] - 0s 4ms/step - loss: 9.8816 - mse: 9.8816\n",
            "Epoch 398/500\n",
            "5/5 [==============================] - 0s 3ms/step - loss: 9.8454 - mse: 9.8454\n",
            "Epoch 399/500\n",
            "5/5 [==============================] - 0s 3ms/step - loss: 9.8094 - mse: 9.8094\n",
            "Epoch 400/500\n",
            "5/5 [==============================] - 0s 3ms/step - loss: 9.7735 - mse: 9.7735\n",
            "Epoch 401/500\n",
            "5/5 [==============================] - 0s 5ms/step - loss: 9.7377 - mse: 9.7377\n",
            "Epoch 402/500\n",
            "5/5 [==============================] - 0s 3ms/step - loss: 9.7021 - mse: 9.7021\n",
            "Epoch 403/500\n",
            "5/5 [==============================] - 0s 3ms/step - loss: 9.6666 - mse: 9.6666\n",
            "Epoch 404/500\n",
            "5/5 [==============================] - 0s 3ms/step - loss: 9.6312 - mse: 9.6312\n",
            "Epoch 405/500\n",
            "5/5 [==============================] - 0s 3ms/step - loss: 9.5960 - mse: 9.5960\n",
            "Epoch 406/500\n",
            "5/5 [==============================] - 0s 3ms/step - loss: 9.5609 - mse: 9.5609\n",
            "Epoch 407/500\n",
            "5/5 [==============================] - 0s 3ms/step - loss: 9.5259 - mse: 9.5259\n",
            "Epoch 408/500\n",
            "5/5 [==============================] - 0s 2ms/step - loss: 9.4910 - mse: 9.4910\n",
            "Epoch 409/500\n",
            "5/5 [==============================] - 0s 2ms/step - loss: 9.4563 - mse: 9.4563\n",
            "Epoch 410/500\n",
            "5/5 [==============================] - 0s 2ms/step - loss: 9.4217 - mse: 9.4217\n",
            "Epoch 411/500\n",
            "5/5 [==============================] - 0s 2ms/step - loss: 9.3872 - mse: 9.3872\n",
            "Epoch 412/500\n",
            "5/5 [==============================] - 0s 2ms/step - loss: 9.3529 - mse: 9.3529\n",
            "Epoch 413/500\n",
            "5/5 [==============================] - 0s 6ms/step - loss: 9.3187 - mse: 9.3187\n",
            "Epoch 414/500\n",
            "5/5 [==============================] - 0s 2ms/step - loss: 9.2846 - mse: 9.2846\n",
            "Epoch 415/500\n",
            "5/5 [==============================] - 0s 2ms/step - loss: 9.2506 - mse: 9.2506\n",
            "Epoch 416/500\n",
            "5/5 [==============================] - 0s 4ms/step - loss: 9.2168 - mse: 9.2168\n",
            "Epoch 417/500\n",
            "5/5 [==============================] - 0s 4ms/step - loss: 9.1830 - mse: 9.1830\n",
            "Epoch 418/500\n",
            "5/5 [==============================] - 0s 3ms/step - loss: 9.1494 - mse: 9.1494\n",
            "Epoch 419/500\n",
            "5/5 [==============================] - 0s 3ms/step - loss: 9.1160 - mse: 9.1160\n",
            "Epoch 420/500\n",
            "5/5 [==============================] - 0s 3ms/step - loss: 9.0826 - mse: 9.0826\n",
            "Epoch 421/500\n",
            "5/5 [==============================] - 0s 4ms/step - loss: 9.0493 - mse: 9.0493\n",
            "Epoch 422/500\n",
            "5/5 [==============================] - 0s 2ms/step - loss: 9.0162 - mse: 9.0162\n",
            "Epoch 423/500\n",
            "5/5 [==============================] - 0s 2ms/step - loss: 8.9833 - mse: 8.9833\n",
            "Epoch 424/500\n",
            "5/5 [==============================] - 0s 4ms/step - loss: 8.9504 - mse: 8.9504\n",
            "Epoch 425/500\n",
            "5/5 [==============================] - 0s 4ms/step - loss: 8.9177 - mse: 8.9177\n",
            "Epoch 426/500\n",
            "5/5 [==============================] - 0s 4ms/step - loss: 8.8850 - mse: 8.8850\n",
            "Epoch 427/500\n",
            "5/5 [==============================] - 0s 5ms/step - loss: 8.8525 - mse: 8.8525\n",
            "Epoch 428/500\n",
            "5/5 [==============================] - 0s 2ms/step - loss: 8.8201 - mse: 8.8201\n",
            "Epoch 429/500\n",
            "5/5 [==============================] - 0s 3ms/step - loss: 8.7879 - mse: 8.7879\n",
            "Epoch 430/500\n",
            "5/5 [==============================] - 0s 4ms/step - loss: 8.7557 - mse: 8.7557\n",
            "Epoch 431/500\n",
            "5/5 [==============================] - 0s 4ms/step - loss: 8.7237 - mse: 8.7237\n",
            "Epoch 432/500\n",
            "5/5 [==============================] - 0s 3ms/step - loss: 8.6918 - mse: 8.6918\n",
            "Epoch 433/500\n",
            "5/5 [==============================] - 0s 4ms/step - loss: 8.6600 - mse: 8.6600\n",
            "Epoch 434/500\n",
            "5/5 [==============================] - 0s 2ms/step - loss: 8.6283 - mse: 8.6283\n",
            "Epoch 435/500\n",
            "5/5 [==============================] - 0s 3ms/step - loss: 8.5967 - mse: 8.5967\n",
            "Epoch 436/500\n",
            "5/5 [==============================] - 0s 3ms/step - loss: 8.5653 - mse: 8.5653\n",
            "Epoch 437/500\n",
            "5/5 [==============================] - 0s 4ms/step - loss: 8.5339 - mse: 8.5339\n",
            "Epoch 438/500\n",
            "5/5 [==============================] - 0s 4ms/step - loss: 8.5027 - mse: 8.5027\n",
            "Epoch 439/500\n",
            "5/5 [==============================] - 0s 3ms/step - loss: 8.4716 - mse: 8.4716\n",
            "Epoch 440/500\n",
            "5/5 [==============================] - 0s 3ms/step - loss: 8.4406 - mse: 8.4406\n",
            "Epoch 441/500\n",
            "5/5 [==============================] - 0s 4ms/step - loss: 8.4097 - mse: 8.4097\n",
            "Epoch 442/500\n",
            "5/5 [==============================] - 0s 2ms/step - loss: 8.3790 - mse: 8.3790\n",
            "Epoch 443/500\n",
            "5/5 [==============================] - 0s 3ms/step - loss: 8.3483 - mse: 8.3483\n",
            "Epoch 444/500\n",
            "5/5 [==============================] - 0s 4ms/step - loss: 8.3177 - mse: 8.3177\n",
            "Epoch 445/500\n",
            "5/5 [==============================] - 0s 3ms/step - loss: 8.2873 - mse: 8.2873\n",
            "Epoch 446/500\n",
            "5/5 [==============================] - 0s 2ms/step - loss: 8.2570 - mse: 8.2570\n",
            "Epoch 447/500\n",
            "5/5 [==============================] - 0s 4ms/step - loss: 8.2268 - mse: 8.2268\n",
            "Epoch 448/500\n",
            "5/5 [==============================] - 0s 4ms/step - loss: 8.1967 - mse: 8.1967\n",
            "Epoch 449/500\n",
            "5/5 [==============================] - 0s 5ms/step - loss: 8.1667 - mse: 8.1667\n",
            "Epoch 450/500\n",
            "5/5 [==============================] - 0s 4ms/step - loss: 8.1368 - mse: 8.1368\n",
            "Epoch 451/500\n",
            "5/5 [==============================] - 0s 4ms/step - loss: 8.1071 - mse: 8.1071\n",
            "Epoch 452/500\n",
            "5/5 [==============================] - 0s 2ms/step - loss: 8.0774 - mse: 8.0774\n",
            "Epoch 453/500\n",
            "5/5 [==============================] - 0s 3ms/step - loss: 8.0479 - mse: 8.0479\n",
            "Epoch 454/500\n",
            "5/5 [==============================] - 0s 3ms/step - loss: 8.0184 - mse: 8.0184\n",
            "Epoch 455/500\n",
            "5/5 [==============================] - 0s 3ms/step - loss: 7.9891 - mse: 7.9891\n",
            "Epoch 456/500\n",
            "5/5 [==============================] - 0s 2ms/step - loss: 7.9599 - mse: 7.9599\n",
            "Epoch 457/500\n",
            "5/5 [==============================] - 0s 2ms/step - loss: 7.9308 - mse: 7.9308\n",
            "Epoch 458/500\n",
            "5/5 [==============================] - 0s 7ms/step - loss: 7.9017 - mse: 7.9017\n",
            "Epoch 459/500\n",
            "5/5 [==============================] - 0s 3ms/step - loss: 7.8728 - mse: 7.8728\n",
            "Epoch 460/500\n",
            "5/5 [==============================] - 0s 3ms/step - loss: 7.8440 - mse: 7.8440\n",
            "Epoch 461/500\n",
            "5/5 [==============================] - 0s 3ms/step - loss: 7.8153 - mse: 7.8153\n",
            "Epoch 462/500\n",
            "5/5 [==============================] - 0s 2ms/step - loss: 7.7867 - mse: 7.7867\n",
            "Epoch 463/500\n",
            "5/5 [==============================] - 0s 2ms/step - loss: 7.7583 - mse: 7.7583\n",
            "Epoch 464/500\n",
            "5/5 [==============================] - 0s 2ms/step - loss: 7.7299 - mse: 7.7299\n",
            "Epoch 465/500\n",
            "5/5 [==============================] - 0s 3ms/step - loss: 7.7016 - mse: 7.7016\n",
            "Epoch 466/500\n",
            "5/5 [==============================] - 0s 3ms/step - loss: 7.6734 - mse: 7.6734\n",
            "Epoch 467/500\n",
            "5/5 [==============================] - 0s 4ms/step - loss: 7.6453 - mse: 7.6453\n",
            "Epoch 468/500\n",
            "5/5 [==============================] - 0s 2ms/step - loss: 7.6174 - mse: 7.6174\n",
            "Epoch 469/500\n",
            "5/5 [==============================] - 0s 2ms/step - loss: 7.5895 - mse: 7.5895\n",
            "Epoch 470/500\n",
            "5/5 [==============================] - 0s 2ms/step - loss: 7.5617 - mse: 7.5617\n",
            "Epoch 471/500\n",
            "5/5 [==============================] - 0s 2ms/step - loss: 7.5341 - mse: 7.5341\n",
            "Epoch 472/500\n",
            "5/5 [==============================] - 0s 3ms/step - loss: 7.5065 - mse: 7.5065\n",
            "Epoch 473/500\n",
            "5/5 [==============================] - 0s 3ms/step - loss: 7.4791 - mse: 7.4791\n",
            "Epoch 474/500\n",
            "5/5 [==============================] - 0s 4ms/step - loss: 7.4517 - mse: 7.4517\n",
            "Epoch 475/500\n",
            "5/5 [==============================] - 0s 3ms/step - loss: 7.4245 - mse: 7.4245\n",
            "Epoch 476/500\n",
            "5/5 [==============================] - 0s 3ms/step - loss: 7.3973 - mse: 7.3973\n",
            "Epoch 477/500\n",
            "5/5 [==============================] - 0s 2ms/step - loss: 7.3702 - mse: 7.3702\n",
            "Epoch 478/500\n",
            "5/5 [==============================] - 0s 3ms/step - loss: 7.3433 - mse: 7.3433\n",
            "Epoch 479/500\n",
            "5/5 [==============================] - 0s 3ms/step - loss: 7.3164 - mse: 7.3164\n",
            "Epoch 480/500\n",
            "5/5 [==============================] - 0s 2ms/step - loss: 7.2896 - mse: 7.2896\n",
            "Epoch 481/500\n",
            "5/5 [==============================] - 0s 3ms/step - loss: 7.2630 - mse: 7.2630\n",
            "Epoch 482/500\n",
            "5/5 [==============================] - 0s 4ms/step - loss: 7.2364 - mse: 7.2364\n",
            "Epoch 483/500\n",
            "5/5 [==============================] - 0s 4ms/step - loss: 7.2100 - mse: 7.2100\n",
            "Epoch 484/500\n",
            "5/5 [==============================] - 0s 4ms/step - loss: 7.1836 - mse: 7.1836\n",
            "Epoch 485/500\n",
            "5/5 [==============================] - 0s 3ms/step - loss: 7.1573 - mse: 7.1573\n",
            "Epoch 486/500\n",
            "5/5 [==============================] - 0s 4ms/step - loss: 7.1311 - mse: 7.1311\n",
            "Epoch 487/500\n",
            "5/5 [==============================] - 0s 3ms/step - loss: 7.1051 - mse: 7.1051\n",
            "Epoch 488/500\n",
            "5/5 [==============================] - 0s 3ms/step - loss: 7.0790 - mse: 7.0790\n",
            "Epoch 489/500\n",
            "5/5 [==============================] - 0s 4ms/step - loss: 7.0532 - mse: 7.0532\n",
            "Epoch 490/500\n",
            "5/5 [==============================] - 0s 5ms/step - loss: 7.0274 - mse: 7.0274\n",
            "Epoch 491/500\n",
            "5/5 [==============================] - 0s 2ms/step - loss: 7.0017 - mse: 7.0017\n",
            "Epoch 492/500\n",
            "5/5 [==============================] - 0s 4ms/step - loss: 6.9761 - mse: 6.9761\n",
            "Epoch 493/500\n",
            "5/5 [==============================] - 0s 4ms/step - loss: 6.9506 - mse: 6.9506\n",
            "Epoch 494/500\n",
            "5/5 [==============================] - 0s 3ms/step - loss: 6.9251 - mse: 6.9251\n",
            "Epoch 495/500\n",
            "5/5 [==============================] - 0s 5ms/step - loss: 6.8998 - mse: 6.8998\n",
            "Epoch 496/500\n",
            "5/5 [==============================] - 0s 3ms/step - loss: 6.8746 - mse: 6.8746\n",
            "Epoch 497/500\n",
            "5/5 [==============================] - 0s 4ms/step - loss: 6.8494 - mse: 6.8494\n",
            "Epoch 498/500\n",
            "5/5 [==============================] - 0s 6ms/step - loss: 6.8244 - mse: 6.8244\n",
            "Epoch 499/500\n",
            "5/5 [==============================] - 0s 3ms/step - loss: 6.7994 - mse: 6.7994\n",
            "Epoch 500/500\n",
            "5/5 [==============================] - 0s 2ms/step - loss: 6.7746 - mse: 6.7746\n"
          ],
          "name": "stdout"
        },
        {
          "output_type": "execute_result",
          "data": {
            "text/plain": [
              "<tensorflow.python.keras.callbacks.History at 0x7fb6f40d7c50>"
            ]
          },
          "metadata": {
            "tags": []
          },
          "execution_count": 140
        }
      ]
    },
    {
      "cell_type": "code",
      "metadata": {
        "colab": {
          "base_uri": "https://localhost:8080/"
        },
        "id": "H3w6Ayk_xVsR",
        "outputId": "e4ee5a46-ebed-4c0c-e697-0398d81065f2"
      },
      "source": [
        "print(model.predict(X))\n",
        "print(y)"
      ],
      "execution_count": 146,
      "outputs": [
        {
          "output_type": "stream",
          "text": [
            "[[76.89315 ]\n",
            " [82.31366 ]\n",
            " [69.53466 ]\n",
            " [57.90113 ]\n",
            " [31.367434]]\n",
            "[73 82 72 57 34]\n"
          ],
          "name": "stdout"
        }
      ]
    },
    {
      "cell_type": "code",
      "metadata": {
        "id": "lMW-hzJyxo1U"
      },
      "source": [
        "import numpy as np\n",
        "from tensorflow.keras.models import Sequential # 케라스의 Sequential()을 임포트\n",
        "from tensorflow.keras.layers import Dense # 케라스의 Dense()를 임포트\n",
        "from tensorflow.keras import optimizers # 케라스의 옵티마이저를 임포트"
      ],
      "execution_count": 148,
      "outputs": []
    },
    {
      "cell_type": "code",
      "metadata": {
        "colab": {
          "base_uri": "https://localhost:8080/"
        },
        "id": "S_npCb8ZxqYp",
        "outputId": "2986fb71-ca2b-4220-cb99-345ac6a0cba9"
      },
      "source": [
        "# 입력 벡터의 차원은 2입니다. 즉, input_dim은 2입니다.\n",
        "X = np.array([[0, 0], [0, 1], [1, 0], [1, 1]])\n",
        "# 출력 벡터의 차원은 1입니다. 즉, output_dim은 1입니다.\n",
        "y = np.array([0, 1, 1, 1])\n",
        "\n",
        "model = Sequential([\n",
        "                    Dense(units = 1, input_shape = (2,), activation = 'sigmoid')\n",
        "])\n",
        "model.compile(optimizer='sgd',loss = 'binary_crossentropy', metrics = ['binary_crossentropy'])\n",
        "model.fit(X,y,epochs = 800, batch_size = 1, shuffle = False)"
      ],
      "execution_count": 152,
      "outputs": [
        {
          "output_type": "stream",
          "text": [
            "Epoch 1/800\n",
            "4/4 [==============================] - 0s 2ms/step - loss: 0.5290 - binary_crossentropy: 0.5290\n",
            "Epoch 2/800\n",
            "4/4 [==============================] - 0s 3ms/step - loss: 0.5255 - binary_crossentropy: 0.5255\n",
            "Epoch 3/800\n",
            "4/4 [==============================] - 0s 3ms/step - loss: 0.5220 - binary_crossentropy: 0.5220\n",
            "Epoch 4/800\n",
            "4/4 [==============================] - 0s 3ms/step - loss: 0.5186 - binary_crossentropy: 0.5186\n",
            "Epoch 5/800\n",
            "4/4 [==============================] - 0s 3ms/step - loss: 0.5153 - binary_crossentropy: 0.5153\n",
            "Epoch 6/800\n",
            "4/4 [==============================] - 0s 4ms/step - loss: 0.5121 - binary_crossentropy: 0.5121\n",
            "Epoch 7/800\n",
            "4/4 [==============================] - 0s 4ms/step - loss: 0.5090 - binary_crossentropy: 0.5090\n",
            "Epoch 8/800\n",
            "4/4 [==============================] - 0s 4ms/step - loss: 0.5060 - binary_crossentropy: 0.5060\n",
            "Epoch 9/800\n",
            "4/4 [==============================] - 0s 4ms/step - loss: 0.5030 - binary_crossentropy: 0.5030\n",
            "Epoch 10/800\n",
            "4/4 [==============================] - 0s 3ms/step - loss: 0.5001 - binary_crossentropy: 0.5001\n",
            "Epoch 11/800\n",
            "4/4 [==============================] - 0s 6ms/step - loss: 0.4973 - binary_crossentropy: 0.4973\n",
            "Epoch 12/800\n",
            "4/4 [==============================] - 0s 3ms/step - loss: 0.4945 - binary_crossentropy: 0.4945\n",
            "Epoch 13/800\n",
            "4/4 [==============================] - 0s 2ms/step - loss: 0.4919 - binary_crossentropy: 0.4919\n",
            "Epoch 14/800\n",
            "4/4 [==============================] - 0s 3ms/step - loss: 0.4892 - binary_crossentropy: 0.4892\n",
            "Epoch 15/800\n",
            "4/4 [==============================] - 0s 4ms/step - loss: 0.4867 - binary_crossentropy: 0.4867\n",
            "Epoch 16/800\n",
            "4/4 [==============================] - 0s 5ms/step - loss: 0.4842 - binary_crossentropy: 0.4842\n",
            "Epoch 17/800\n",
            "4/4 [==============================] - 0s 3ms/step - loss: 0.4817 - binary_crossentropy: 0.4817\n",
            "Epoch 18/800\n",
            "4/4 [==============================] - 0s 3ms/step - loss: 0.4793 - binary_crossentropy: 0.4793\n",
            "Epoch 19/800\n",
            "4/4 [==============================] - 0s 4ms/step - loss: 0.4770 - binary_crossentropy: 0.4770\n",
            "Epoch 20/800\n",
            "4/4 [==============================] - 0s 3ms/step - loss: 0.4747 - binary_crossentropy: 0.4747\n",
            "Epoch 21/800\n",
            "4/4 [==============================] - 0s 4ms/step - loss: 0.4725 - binary_crossentropy: 0.4725\n",
            "Epoch 22/800\n",
            "4/4 [==============================] - 0s 3ms/step - loss: 0.4703 - binary_crossentropy: 0.4703\n",
            "Epoch 23/800\n",
            "4/4 [==============================] - 0s 3ms/step - loss: 0.4682 - binary_crossentropy: 0.4682\n",
            "Epoch 24/800\n",
            "4/4 [==============================] - 0s 3ms/step - loss: 0.4661 - binary_crossentropy: 0.4661\n",
            "Epoch 25/800\n",
            "4/4 [==============================] - 0s 3ms/step - loss: 0.4641 - binary_crossentropy: 0.4641\n",
            "Epoch 26/800\n",
            "4/4 [==============================] - 0s 2ms/step - loss: 0.4621 - binary_crossentropy: 0.4621\n",
            "Epoch 27/800\n",
            "4/4 [==============================] - 0s 4ms/step - loss: 0.4601 - binary_crossentropy: 0.4601\n",
            "Epoch 28/800\n",
            "4/4 [==============================] - 0s 2ms/step - loss: 0.4582 - binary_crossentropy: 0.4582\n",
            "Epoch 29/800\n",
            "4/4 [==============================] - 0s 3ms/step - loss: 0.4563 - binary_crossentropy: 0.4563\n",
            "Epoch 30/800\n",
            "4/4 [==============================] - 0s 4ms/step - loss: 0.4545 - binary_crossentropy: 0.4545\n",
            "Epoch 31/800\n",
            "4/4 [==============================] - 0s 4ms/step - loss: 0.4527 - binary_crossentropy: 0.4527\n",
            "Epoch 32/800\n",
            "4/4 [==============================] - 0s 4ms/step - loss: 0.4509 - binary_crossentropy: 0.4509\n",
            "Epoch 33/800\n",
            "4/4 [==============================] - 0s 3ms/step - loss: 0.4492 - binary_crossentropy: 0.4492\n",
            "Epoch 34/800\n",
            "4/4 [==============================] - 0s 4ms/step - loss: 0.4475 - binary_crossentropy: 0.4475\n",
            "Epoch 35/800\n",
            "4/4 [==============================] - 0s 3ms/step - loss: 0.4459 - binary_crossentropy: 0.4459\n",
            "Epoch 36/800\n",
            "4/4 [==============================] - 0s 3ms/step - loss: 0.4442 - binary_crossentropy: 0.4442\n",
            "Epoch 37/800\n",
            "4/4 [==============================] - 0s 4ms/step - loss: 0.4426 - binary_crossentropy: 0.4426\n",
            "Epoch 38/800\n",
            "4/4 [==============================] - 0s 3ms/step - loss: 0.4411 - binary_crossentropy: 0.4411\n",
            "Epoch 39/800\n",
            "4/4 [==============================] - 0s 3ms/step - loss: 0.4395 - binary_crossentropy: 0.4395\n",
            "Epoch 40/800\n",
            "4/4 [==============================] - 0s 3ms/step - loss: 0.4380 - binary_crossentropy: 0.4380\n",
            "Epoch 41/800\n",
            "4/4 [==============================] - 0s 3ms/step - loss: 0.4365 - binary_crossentropy: 0.4365\n",
            "Epoch 42/800\n",
            "4/4 [==============================] - 0s 3ms/step - loss: 0.4351 - binary_crossentropy: 0.4351\n",
            "Epoch 43/800\n",
            "4/4 [==============================] - 0s 3ms/step - loss: 0.4337 - binary_crossentropy: 0.4337\n",
            "Epoch 44/800\n",
            "4/4 [==============================] - 0s 3ms/step - loss: 0.4323 - binary_crossentropy: 0.4323\n",
            "Epoch 45/800\n",
            "4/4 [==============================] - 0s 2ms/step - loss: 0.4309 - binary_crossentropy: 0.4309\n",
            "Epoch 46/800\n",
            "4/4 [==============================] - 0s 4ms/step - loss: 0.4295 - binary_crossentropy: 0.4295\n",
            "Epoch 47/800\n",
            "4/4 [==============================] - 0s 3ms/step - loss: 0.4282 - binary_crossentropy: 0.4282\n",
            "Epoch 48/800\n",
            "4/4 [==============================] - 0s 4ms/step - loss: 0.4269 - binary_crossentropy: 0.4269\n",
            "Epoch 49/800\n",
            "4/4 [==============================] - 0s 4ms/step - loss: 0.4256 - binary_crossentropy: 0.4256\n",
            "Epoch 50/800\n",
            "4/4 [==============================] - 0s 5ms/step - loss: 0.4244 - binary_crossentropy: 0.4244\n",
            "Epoch 51/800\n",
            "4/4 [==============================] - 0s 4ms/step - loss: 0.4231 - binary_crossentropy: 0.4231\n",
            "Epoch 52/800\n",
            "4/4 [==============================] - 0s 4ms/step - loss: 0.4219 - binary_crossentropy: 0.4219\n",
            "Epoch 53/800\n",
            "4/4 [==============================] - 0s 6ms/step - loss: 0.4207 - binary_crossentropy: 0.4207\n",
            "Epoch 54/800\n",
            "4/4 [==============================] - 0s 4ms/step - loss: 0.4195 - binary_crossentropy: 0.4195\n",
            "Epoch 55/800\n",
            "4/4 [==============================] - 0s 5ms/step - loss: 0.4183 - binary_crossentropy: 0.4183\n",
            "Epoch 56/800\n",
            "4/4 [==============================] - 0s 5ms/step - loss: 0.4172 - binary_crossentropy: 0.4172\n",
            "Epoch 57/800\n",
            "4/4 [==============================] - 0s 3ms/step - loss: 0.4161 - binary_crossentropy: 0.4161\n",
            "Epoch 58/800\n",
            "4/4 [==============================] - 0s 3ms/step - loss: 0.4150 - binary_crossentropy: 0.4150\n",
            "Epoch 59/800\n",
            "4/4 [==============================] - 0s 3ms/step - loss: 0.4139 - binary_crossentropy: 0.4139\n",
            "Epoch 60/800\n",
            "4/4 [==============================] - 0s 3ms/step - loss: 0.4128 - binary_crossentropy: 0.4128\n",
            "Epoch 61/800\n",
            "4/4 [==============================] - 0s 3ms/step - loss: 0.4117 - binary_crossentropy: 0.4117\n",
            "Epoch 62/800\n",
            "4/4 [==============================] - 0s 3ms/step - loss: 0.4107 - binary_crossentropy: 0.4107\n",
            "Epoch 63/800\n",
            "4/4 [==============================] - 0s 3ms/step - loss: 0.4097 - binary_crossentropy: 0.4097\n",
            "Epoch 64/800\n",
            "4/4 [==============================] - 0s 3ms/step - loss: 0.4086 - binary_crossentropy: 0.4086\n",
            "Epoch 65/800\n",
            "4/4 [==============================] - 0s 4ms/step - loss: 0.4076 - binary_crossentropy: 0.4076\n",
            "Epoch 66/800\n",
            "4/4 [==============================] - 0s 3ms/step - loss: 0.4067 - binary_crossentropy: 0.4067\n",
            "Epoch 67/800\n",
            "4/4 [==============================] - 0s 3ms/step - loss: 0.4057 - binary_crossentropy: 0.4057\n",
            "Epoch 68/800\n",
            "4/4 [==============================] - 0s 3ms/step - loss: 0.4047 - binary_crossentropy: 0.4047\n",
            "Epoch 69/800\n",
            "4/4 [==============================] - 0s 4ms/step - loss: 0.4038 - binary_crossentropy: 0.4038\n",
            "Epoch 70/800\n",
            "4/4 [==============================] - 0s 3ms/step - loss: 0.4028 - binary_crossentropy: 0.4028\n",
            "Epoch 71/800\n",
            "4/4 [==============================] - 0s 3ms/step - loss: 0.4019 - binary_crossentropy: 0.4019\n",
            "Epoch 72/800\n",
            "4/4 [==============================] - 0s 3ms/step - loss: 0.4010 - binary_crossentropy: 0.4010\n",
            "Epoch 73/800\n",
            "4/4 [==============================] - 0s 3ms/step - loss: 0.4001 - binary_crossentropy: 0.4001\n",
            "Epoch 74/800\n",
            "4/4 [==============================] - 0s 3ms/step - loss: 0.3992 - binary_crossentropy: 0.3992\n",
            "Epoch 75/800\n",
            "4/4 [==============================] - 0s 3ms/step - loss: 0.3983 - binary_crossentropy: 0.3983\n",
            "Epoch 76/800\n",
            "4/4 [==============================] - 0s 3ms/step - loss: 0.3975 - binary_crossentropy: 0.3975\n",
            "Epoch 77/800\n",
            "4/4 [==============================] - 0s 5ms/step - loss: 0.3966 - binary_crossentropy: 0.3966\n",
            "Epoch 78/800\n",
            "4/4 [==============================] - 0s 3ms/step - loss: 0.3958 - binary_crossentropy: 0.3958\n",
            "Epoch 79/800\n",
            "4/4 [==============================] - 0s 4ms/step - loss: 0.3949 - binary_crossentropy: 0.3949\n",
            "Epoch 80/800\n",
            "4/4 [==============================] - 0s 2ms/step - loss: 0.3941 - binary_crossentropy: 0.3941\n",
            "Epoch 81/800\n",
            "4/4 [==============================] - 0s 3ms/step - loss: 0.3933 - binary_crossentropy: 0.3933\n",
            "Epoch 82/800\n",
            "4/4 [==============================] - 0s 3ms/step - loss: 0.3925 - binary_crossentropy: 0.3925\n",
            "Epoch 83/800\n",
            "4/4 [==============================] - 0s 3ms/step - loss: 0.3917 - binary_crossentropy: 0.3917\n",
            "Epoch 84/800\n",
            "4/4 [==============================] - 0s 3ms/step - loss: 0.3909 - binary_crossentropy: 0.3909\n",
            "Epoch 85/800\n",
            "4/4 [==============================] - 0s 3ms/step - loss: 0.3901 - binary_crossentropy: 0.3901\n",
            "Epoch 86/800\n",
            "4/4 [==============================] - 0s 2ms/step - loss: 0.3894 - binary_crossentropy: 0.3894\n",
            "Epoch 87/800\n",
            "4/4 [==============================] - 0s 3ms/step - loss: 0.3886 - binary_crossentropy: 0.3886\n",
            "Epoch 88/800\n",
            "4/4 [==============================] - 0s 3ms/step - loss: 0.3879 - binary_crossentropy: 0.3879\n",
            "Epoch 89/800\n",
            "4/4 [==============================] - 0s 3ms/step - loss: 0.3871 - binary_crossentropy: 0.3871\n",
            "Epoch 90/800\n",
            "4/4 [==============================] - 0s 3ms/step - loss: 0.3864 - binary_crossentropy: 0.3864\n",
            "Epoch 91/800\n",
            "4/4 [==============================] - 0s 4ms/step - loss: 0.3857 - binary_crossentropy: 0.3857\n",
            "Epoch 92/800\n",
            "4/4 [==============================] - 0s 3ms/step - loss: 0.3849 - binary_crossentropy: 0.3849\n",
            "Epoch 93/800\n",
            "4/4 [==============================] - 0s 3ms/step - loss: 0.3842 - binary_crossentropy: 0.3842\n",
            "Epoch 94/800\n",
            "4/4 [==============================] - 0s 4ms/step - loss: 0.3835 - binary_crossentropy: 0.3835\n",
            "Epoch 95/800\n",
            "4/4 [==============================] - 0s 4ms/step - loss: 0.3828 - binary_crossentropy: 0.3828\n",
            "Epoch 96/800\n",
            "4/4 [==============================] - 0s 4ms/step - loss: 0.3821 - binary_crossentropy: 0.3821\n",
            "Epoch 97/800\n",
            "4/4 [==============================] - 0s 3ms/step - loss: 0.3814 - binary_crossentropy: 0.3814\n",
            "Epoch 98/800\n",
            "4/4 [==============================] - 0s 4ms/step - loss: 0.3808 - binary_crossentropy: 0.3808\n",
            "Epoch 99/800\n",
            "4/4 [==============================] - 0s 3ms/step - loss: 0.3801 - binary_crossentropy: 0.3801\n",
            "Epoch 100/800\n",
            "4/4 [==============================] - 0s 3ms/step - loss: 0.3794 - binary_crossentropy: 0.3794\n",
            "Epoch 101/800\n",
            "4/4 [==============================] - 0s 3ms/step - loss: 0.3788 - binary_crossentropy: 0.3788\n",
            "Epoch 102/800\n",
            "4/4 [==============================] - 0s 3ms/step - loss: 0.3781 - binary_crossentropy: 0.3781\n",
            "Epoch 103/800\n",
            "4/4 [==============================] - 0s 3ms/step - loss: 0.3775 - binary_crossentropy: 0.3775\n",
            "Epoch 104/800\n",
            "4/4 [==============================] - 0s 3ms/step - loss: 0.3768 - binary_crossentropy: 0.3768\n",
            "Epoch 105/800\n",
            "4/4 [==============================] - 0s 4ms/step - loss: 0.3762 - binary_crossentropy: 0.3762\n",
            "Epoch 106/800\n",
            "4/4 [==============================] - 0s 3ms/step - loss: 0.3755 - binary_crossentropy: 0.3755\n",
            "Epoch 107/800\n",
            "4/4 [==============================] - 0s 3ms/step - loss: 0.3749 - binary_crossentropy: 0.3749\n",
            "Epoch 108/800\n",
            "4/4 [==============================] - 0s 4ms/step - loss: 0.3743 - binary_crossentropy: 0.3743\n",
            "Epoch 109/800\n",
            "4/4 [==============================] - 0s 3ms/step - loss: 0.3737 - binary_crossentropy: 0.3737\n",
            "Epoch 110/800\n",
            "4/4 [==============================] - 0s 3ms/step - loss: 0.3731 - binary_crossentropy: 0.3731\n",
            "Epoch 111/800\n",
            "4/4 [==============================] - 0s 4ms/step - loss: 0.3725 - binary_crossentropy: 0.3725\n",
            "Epoch 112/800\n",
            "4/4 [==============================] - 0s 3ms/step - loss: 0.3719 - binary_crossentropy: 0.3719\n",
            "Epoch 113/800\n",
            "4/4 [==============================] - 0s 3ms/step - loss: 0.3713 - binary_crossentropy: 0.3713\n",
            "Epoch 114/800\n",
            "4/4 [==============================] - 0s 3ms/step - loss: 0.3707 - binary_crossentropy: 0.3707\n",
            "Epoch 115/800\n",
            "4/4 [==============================] - 0s 3ms/step - loss: 0.3701 - binary_crossentropy: 0.3701\n",
            "Epoch 116/800\n",
            "4/4 [==============================] - 0s 3ms/step - loss: 0.3695 - binary_crossentropy: 0.3695\n",
            "Epoch 117/800\n",
            "4/4 [==============================] - 0s 3ms/step - loss: 0.3689 - binary_crossentropy: 0.3689\n",
            "Epoch 118/800\n",
            "4/4 [==============================] - 0s 4ms/step - loss: 0.3684 - binary_crossentropy: 0.3684\n",
            "Epoch 119/800\n",
            "4/4 [==============================] - 0s 4ms/step - loss: 0.3678 - binary_crossentropy: 0.3678\n",
            "Epoch 120/800\n",
            "4/4 [==============================] - 0s 3ms/step - loss: 0.3672 - binary_crossentropy: 0.3672\n",
            "Epoch 121/800\n",
            "4/4 [==============================] - 0s 4ms/step - loss: 0.3667 - binary_crossentropy: 0.3667\n",
            "Epoch 122/800\n",
            "4/4 [==============================] - 0s 3ms/step - loss: 0.3661 - binary_crossentropy: 0.3661\n",
            "Epoch 123/800\n",
            "4/4 [==============================] - 0s 3ms/step - loss: 0.3656 - binary_crossentropy: 0.3656\n",
            "Epoch 124/800\n",
            "4/4 [==============================] - 0s 5ms/step - loss: 0.3650 - binary_crossentropy: 0.3650\n",
            "Epoch 125/800\n",
            "4/4 [==============================] - 0s 3ms/step - loss: 0.3645 - binary_crossentropy: 0.3645\n",
            "Epoch 126/800\n",
            "4/4 [==============================] - 0s 3ms/step - loss: 0.3639 - binary_crossentropy: 0.3639\n",
            "Epoch 127/800\n",
            "4/4 [==============================] - 0s 3ms/step - loss: 0.3634 - binary_crossentropy: 0.3634\n",
            "Epoch 128/800\n",
            "4/4 [==============================] - 0s 3ms/step - loss: 0.3629 - binary_crossentropy: 0.3629\n",
            "Epoch 129/800\n",
            "4/4 [==============================] - 0s 2ms/step - loss: 0.3623 - binary_crossentropy: 0.3623\n",
            "Epoch 130/800\n",
            "4/4 [==============================] - 0s 3ms/step - loss: 0.3618 - binary_crossentropy: 0.3618\n",
            "Epoch 131/800\n",
            "4/4 [==============================] - 0s 3ms/step - loss: 0.3613 - binary_crossentropy: 0.3613\n",
            "Epoch 132/800\n",
            "4/4 [==============================] - 0s 3ms/step - loss: 0.3608 - binary_crossentropy: 0.3608\n",
            "Epoch 133/800\n",
            "4/4 [==============================] - 0s 3ms/step - loss: 0.3602 - binary_crossentropy: 0.3602\n",
            "Epoch 134/800\n",
            "4/4 [==============================] - 0s 3ms/step - loss: 0.3597 - binary_crossentropy: 0.3597\n",
            "Epoch 135/800\n",
            "4/4 [==============================] - 0s 3ms/step - loss: 0.3592 - binary_crossentropy: 0.3592\n",
            "Epoch 136/800\n",
            "4/4 [==============================] - 0s 3ms/step - loss: 0.3587 - binary_crossentropy: 0.3587\n",
            "Epoch 137/800\n",
            "4/4 [==============================] - 0s 2ms/step - loss: 0.3582 - binary_crossentropy: 0.3582\n",
            "Epoch 138/800\n",
            "4/4 [==============================] - 0s 3ms/step - loss: 0.3577 - binary_crossentropy: 0.3577\n",
            "Epoch 139/800\n",
            "4/4 [==============================] - 0s 3ms/step - loss: 0.3572 - binary_crossentropy: 0.3572\n",
            "Epoch 140/800\n",
            "4/4 [==============================] - 0s 2ms/step - loss: 0.3567 - binary_crossentropy: 0.3567\n",
            "Epoch 141/800\n",
            "4/4 [==============================] - 0s 3ms/step - loss: 0.3562 - binary_crossentropy: 0.3562\n",
            "Epoch 142/800\n",
            "4/4 [==============================] - 0s 4ms/step - loss: 0.3557 - binary_crossentropy: 0.3557\n",
            "Epoch 143/800\n",
            "4/4 [==============================] - 0s 3ms/step - loss: 0.3552 - binary_crossentropy: 0.3552\n",
            "Epoch 144/800\n",
            "4/4 [==============================] - 0s 3ms/step - loss: 0.3548 - binary_crossentropy: 0.3548\n",
            "Epoch 145/800\n",
            "4/4 [==============================] - 0s 4ms/step - loss: 0.3543 - binary_crossentropy: 0.3543\n",
            "Epoch 146/800\n",
            "4/4 [==============================] - 0s 3ms/step - loss: 0.3538 - binary_crossentropy: 0.3538\n",
            "Epoch 147/800\n",
            "4/4 [==============================] - 0s 3ms/step - loss: 0.3533 - binary_crossentropy: 0.3533\n",
            "Epoch 148/800\n",
            "4/4 [==============================] - 0s 3ms/step - loss: 0.3529 - binary_crossentropy: 0.3529\n",
            "Epoch 149/800\n",
            "4/4 [==============================] - 0s 3ms/step - loss: 0.3524 - binary_crossentropy: 0.3524\n",
            "Epoch 150/800\n",
            "4/4 [==============================] - 0s 3ms/step - loss: 0.3519 - binary_crossentropy: 0.3519\n",
            "Epoch 151/800\n",
            "4/4 [==============================] - 0s 3ms/step - loss: 0.3515 - binary_crossentropy: 0.3515\n",
            "Epoch 152/800\n",
            "4/4 [==============================] - 0s 3ms/step - loss: 0.3510 - binary_crossentropy: 0.3510\n",
            "Epoch 153/800\n",
            "4/4 [==============================] - 0s 3ms/step - loss: 0.3505 - binary_crossentropy: 0.3505\n",
            "Epoch 154/800\n",
            "4/4 [==============================] - 0s 3ms/step - loss: 0.3501 - binary_crossentropy: 0.3501\n",
            "Epoch 155/800\n",
            "4/4 [==============================] - 0s 3ms/step - loss: 0.3496 - binary_crossentropy: 0.3496\n",
            "Epoch 156/800\n",
            "4/4 [==============================] - 0s 3ms/step - loss: 0.3492 - binary_crossentropy: 0.3492\n",
            "Epoch 157/800\n",
            "4/4 [==============================] - 0s 3ms/step - loss: 0.3487 - binary_crossentropy: 0.3487\n",
            "Epoch 158/800\n",
            "4/4 [==============================] - 0s 3ms/step - loss: 0.3483 - binary_crossentropy: 0.3483\n",
            "Epoch 159/800\n",
            "4/4 [==============================] - 0s 3ms/step - loss: 0.3478 - binary_crossentropy: 0.3478\n",
            "Epoch 160/800\n",
            "4/4 [==============================] - 0s 3ms/step - loss: 0.3474 - binary_crossentropy: 0.3474\n",
            "Epoch 161/800\n",
            "4/4 [==============================] - 0s 3ms/step - loss: 0.3469 - binary_crossentropy: 0.3469\n",
            "Epoch 162/800\n",
            "4/4 [==============================] - 0s 2ms/step - loss: 0.3465 - binary_crossentropy: 0.3465\n",
            "Epoch 163/800\n",
            "4/4 [==============================] - 0s 2ms/step - loss: 0.3460 - binary_crossentropy: 0.3460\n",
            "Epoch 164/800\n",
            "4/4 [==============================] - 0s 3ms/step - loss: 0.3456 - binary_crossentropy: 0.3456\n",
            "Epoch 165/800\n",
            "4/4 [==============================] - 0s 2ms/step - loss: 0.3452 - binary_crossentropy: 0.3452\n",
            "Epoch 166/800\n",
            "4/4 [==============================] - 0s 3ms/step - loss: 0.3447 - binary_crossentropy: 0.3447\n",
            "Epoch 167/800\n",
            "4/4 [==============================] - 0s 3ms/step - loss: 0.3443 - binary_crossentropy: 0.3443\n",
            "Epoch 168/800\n",
            "4/4 [==============================] - 0s 3ms/step - loss: 0.3439 - binary_crossentropy: 0.3439\n",
            "Epoch 169/800\n",
            "4/4 [==============================] - 0s 3ms/step - loss: 0.3435 - binary_crossentropy: 0.3435\n",
            "Epoch 170/800\n",
            "4/4 [==============================] - 0s 3ms/step - loss: 0.3430 - binary_crossentropy: 0.3430\n",
            "Epoch 171/800\n",
            "4/4 [==============================] - 0s 3ms/step - loss: 0.3426 - binary_crossentropy: 0.3426\n",
            "Epoch 172/800\n",
            "4/4 [==============================] - 0s 3ms/step - loss: 0.3422 - binary_crossentropy: 0.3422\n",
            "Epoch 173/800\n",
            "4/4 [==============================] - 0s 3ms/step - loss: 0.3418 - binary_crossentropy: 0.3418\n",
            "Epoch 174/800\n",
            "4/4 [==============================] - 0s 3ms/step - loss: 0.3413 - binary_crossentropy: 0.3413\n",
            "Epoch 175/800\n",
            "4/4 [==============================] - 0s 3ms/step - loss: 0.3409 - binary_crossentropy: 0.3409\n",
            "Epoch 176/800\n",
            "4/4 [==============================] - 0s 5ms/step - loss: 0.3405 - binary_crossentropy: 0.3405\n",
            "Epoch 177/800\n",
            "4/4 [==============================] - 0s 4ms/step - loss: 0.3401 - binary_crossentropy: 0.3401\n",
            "Epoch 178/800\n",
            "4/4 [==============================] - 0s 3ms/step - loss: 0.3397 - binary_crossentropy: 0.3397\n",
            "Epoch 179/800\n",
            "4/4 [==============================] - 0s 3ms/step - loss: 0.3393 - binary_crossentropy: 0.3393\n",
            "Epoch 180/800\n",
            "4/4 [==============================] - 0s 5ms/step - loss: 0.3389 - binary_crossentropy: 0.3389\n",
            "Epoch 181/800\n",
            "4/4 [==============================] - 0s 3ms/step - loss: 0.3385 - binary_crossentropy: 0.3385\n",
            "Epoch 182/800\n",
            "4/4 [==============================] - 0s 3ms/step - loss: 0.3381 - binary_crossentropy: 0.3381\n",
            "Epoch 183/800\n",
            "4/4 [==============================] - 0s 6ms/step - loss: 0.3377 - binary_crossentropy: 0.3377\n",
            "Epoch 184/800\n",
            "4/4 [==============================] - 0s 4ms/step - loss: 0.3373 - binary_crossentropy: 0.3373\n",
            "Epoch 185/800\n",
            "4/4 [==============================] - 0s 4ms/step - loss: 0.3369 - binary_crossentropy: 0.3369\n",
            "Epoch 186/800\n",
            "4/4 [==============================] - 0s 3ms/step - loss: 0.3365 - binary_crossentropy: 0.3365\n",
            "Epoch 187/800\n",
            "4/4 [==============================] - 0s 5ms/step - loss: 0.3361 - binary_crossentropy: 0.3361\n",
            "Epoch 188/800\n",
            "4/4 [==============================] - 0s 3ms/step - loss: 0.3357 - binary_crossentropy: 0.3357\n",
            "Epoch 189/800\n",
            "4/4 [==============================] - 0s 4ms/step - loss: 0.3353 - binary_crossentropy: 0.3353\n",
            "Epoch 190/800\n",
            "4/4 [==============================] - 0s 3ms/step - loss: 0.3349 - binary_crossentropy: 0.3349\n",
            "Epoch 191/800\n",
            "4/4 [==============================] - 0s 4ms/step - loss: 0.3345 - binary_crossentropy: 0.3345\n",
            "Epoch 192/800\n",
            "4/4 [==============================] - 0s 3ms/step - loss: 0.3341 - binary_crossentropy: 0.3341\n",
            "Epoch 193/800\n",
            "4/4 [==============================] - 0s 4ms/step - loss: 0.3337 - binary_crossentropy: 0.3337\n",
            "Epoch 194/800\n",
            "4/4 [==============================] - 0s 4ms/step - loss: 0.3333 - binary_crossentropy: 0.3333\n",
            "Epoch 195/800\n",
            "4/4 [==============================] - 0s 3ms/step - loss: 0.3329 - binary_crossentropy: 0.3329\n",
            "Epoch 196/800\n",
            "4/4 [==============================] - 0s 4ms/step - loss: 0.3325 - binary_crossentropy: 0.3325\n",
            "Epoch 197/800\n",
            "4/4 [==============================] - 0s 4ms/step - loss: 0.3322 - binary_crossentropy: 0.3322\n",
            "Epoch 198/800\n",
            "4/4 [==============================] - 0s 4ms/step - loss: 0.3318 - binary_crossentropy: 0.3318\n",
            "Epoch 199/800\n",
            "4/4 [==============================] - 0s 4ms/step - loss: 0.3314 - binary_crossentropy: 0.3314\n",
            "Epoch 200/800\n",
            "4/4 [==============================] - 0s 3ms/step - loss: 0.3310 - binary_crossentropy: 0.3310\n",
            "Epoch 201/800\n",
            "4/4 [==============================] - 0s 3ms/step - loss: 0.3306 - binary_crossentropy: 0.3306\n",
            "Epoch 202/800\n",
            "4/4 [==============================] - 0s 3ms/step - loss: 0.3303 - binary_crossentropy: 0.3303\n",
            "Epoch 203/800\n",
            "4/4 [==============================] - 0s 2ms/step - loss: 0.3299 - binary_crossentropy: 0.3299\n",
            "Epoch 204/800\n",
            "4/4 [==============================] - 0s 2ms/step - loss: 0.3295 - binary_crossentropy: 0.3295\n",
            "Epoch 205/800\n",
            "4/4 [==============================] - 0s 3ms/step - loss: 0.3291 - binary_crossentropy: 0.3291\n",
            "Epoch 206/800\n",
            "4/4 [==============================] - 0s 5ms/step - loss: 0.3288 - binary_crossentropy: 0.3288\n",
            "Epoch 207/800\n",
            "4/4 [==============================] - 0s 4ms/step - loss: 0.3284 - binary_crossentropy: 0.3284\n",
            "Epoch 208/800\n",
            "4/4 [==============================] - 0s 5ms/step - loss: 0.3280 - binary_crossentropy: 0.3280\n",
            "Epoch 209/800\n",
            "4/4 [==============================] - 0s 5ms/step - loss: 0.3276 - binary_crossentropy: 0.3276\n",
            "Epoch 210/800\n",
            "4/4 [==============================] - 0s 6ms/step - loss: 0.3273 - binary_crossentropy: 0.3273\n",
            "Epoch 211/800\n",
            "4/4 [==============================] - 0s 4ms/step - loss: 0.3269 - binary_crossentropy: 0.3269\n",
            "Epoch 212/800\n",
            "4/4 [==============================] - 0s 3ms/step - loss: 0.3265 - binary_crossentropy: 0.3265\n",
            "Epoch 213/800\n",
            "4/4 [==============================] - 0s 3ms/step - loss: 0.3262 - binary_crossentropy: 0.3262\n",
            "Epoch 214/800\n",
            "4/4 [==============================] - 0s 3ms/step - loss: 0.3258 - binary_crossentropy: 0.3258\n",
            "Epoch 215/800\n",
            "4/4 [==============================] - 0s 3ms/step - loss: 0.3255 - binary_crossentropy: 0.3255\n",
            "Epoch 216/800\n",
            "4/4 [==============================] - 0s 3ms/step - loss: 0.3251 - binary_crossentropy: 0.3251\n",
            "Epoch 217/800\n",
            "4/4 [==============================] - 0s 5ms/step - loss: 0.3247 - binary_crossentropy: 0.3247\n",
            "Epoch 218/800\n",
            "4/4 [==============================] - 0s 4ms/step - loss: 0.3244 - binary_crossentropy: 0.3244\n",
            "Epoch 219/800\n",
            "4/4 [==============================] - 0s 4ms/step - loss: 0.3240 - binary_crossentropy: 0.3240\n",
            "Epoch 220/800\n",
            "4/4 [==============================] - 0s 3ms/step - loss: 0.3237 - binary_crossentropy: 0.3237\n",
            "Epoch 221/800\n",
            "4/4 [==============================] - 0s 3ms/step - loss: 0.3233 - binary_crossentropy: 0.3233\n",
            "Epoch 222/800\n",
            "4/4 [==============================] - 0s 5ms/step - loss: 0.3230 - binary_crossentropy: 0.3230\n",
            "Epoch 223/800\n",
            "4/4 [==============================] - 0s 4ms/step - loss: 0.3226 - binary_crossentropy: 0.3226\n",
            "Epoch 224/800\n",
            "4/4 [==============================] - 0s 5ms/step - loss: 0.3222 - binary_crossentropy: 0.3222\n",
            "Epoch 225/800\n",
            "4/4 [==============================] - 0s 4ms/step - loss: 0.3219 - binary_crossentropy: 0.3219\n",
            "Epoch 226/800\n",
            "4/4 [==============================] - 0s 4ms/step - loss: 0.3215 - binary_crossentropy: 0.3215\n",
            "Epoch 227/800\n",
            "4/4 [==============================] - 0s 3ms/step - loss: 0.3212 - binary_crossentropy: 0.3212\n",
            "Epoch 228/800\n",
            "4/4 [==============================] - 0s 5ms/step - loss: 0.3208 - binary_crossentropy: 0.3208\n",
            "Epoch 229/800\n",
            "4/4 [==============================] - 0s 3ms/step - loss: 0.3205 - binary_crossentropy: 0.3205\n",
            "Epoch 230/800\n",
            "4/4 [==============================] - 0s 2ms/step - loss: 0.3201 - binary_crossentropy: 0.3201\n",
            "Epoch 231/800\n",
            "4/4 [==============================] - 0s 5ms/step - loss: 0.3198 - binary_crossentropy: 0.3198\n",
            "Epoch 232/800\n",
            "4/4 [==============================] - 0s 3ms/step - loss: 0.3195 - binary_crossentropy: 0.3195\n",
            "Epoch 233/800\n",
            "4/4 [==============================] - 0s 4ms/step - loss: 0.3191 - binary_crossentropy: 0.3191\n",
            "Epoch 234/800\n",
            "4/4 [==============================] - 0s 5ms/step - loss: 0.3188 - binary_crossentropy: 0.3188\n",
            "Epoch 235/800\n",
            "4/4 [==============================] - 0s 3ms/step - loss: 0.3184 - binary_crossentropy: 0.3184\n",
            "Epoch 236/800\n",
            "4/4 [==============================] - 0s 2ms/step - loss: 0.3181 - binary_crossentropy: 0.3181\n",
            "Epoch 237/800\n",
            "4/4 [==============================] - 0s 3ms/step - loss: 0.3177 - binary_crossentropy: 0.3177\n",
            "Epoch 238/800\n",
            "4/4 [==============================] - 0s 3ms/step - loss: 0.3174 - binary_crossentropy: 0.3174\n",
            "Epoch 239/800\n",
            "4/4 [==============================] - 0s 3ms/step - loss: 0.3171 - binary_crossentropy: 0.3171\n",
            "Epoch 240/800\n",
            "4/4 [==============================] - 0s 3ms/step - loss: 0.3167 - binary_crossentropy: 0.3167\n",
            "Epoch 241/800\n",
            "4/4 [==============================] - 0s 3ms/step - loss: 0.3164 - binary_crossentropy: 0.3164\n",
            "Epoch 242/800\n",
            "4/4 [==============================] - 0s 3ms/step - loss: 0.3160 - binary_crossentropy: 0.3160\n",
            "Epoch 243/800\n",
            "4/4 [==============================] - 0s 9ms/step - loss: 0.3157 - binary_crossentropy: 0.3157\n",
            "Epoch 244/800\n",
            "4/4 [==============================] - 0s 4ms/step - loss: 0.3154 - binary_crossentropy: 0.3154\n",
            "Epoch 245/800\n",
            "4/4 [==============================] - 0s 3ms/step - loss: 0.3150 - binary_crossentropy: 0.3150\n",
            "Epoch 246/800\n",
            "4/4 [==============================] - 0s 3ms/step - loss: 0.3147 - binary_crossentropy: 0.3147\n",
            "Epoch 247/800\n",
            "4/4 [==============================] - 0s 3ms/step - loss: 0.3144 - binary_crossentropy: 0.3144\n",
            "Epoch 248/800\n",
            "4/4 [==============================] - 0s 3ms/step - loss: 0.3140 - binary_crossentropy: 0.3140\n",
            "Epoch 249/800\n",
            "4/4 [==============================] - 0s 6ms/step - loss: 0.3137 - binary_crossentropy: 0.3137\n",
            "Epoch 250/800\n",
            "4/4 [==============================] - 0s 2ms/step - loss: 0.3134 - binary_crossentropy: 0.3134\n",
            "Epoch 251/800\n",
            "4/4 [==============================] - 0s 3ms/step - loss: 0.3131 - binary_crossentropy: 0.3131\n",
            "Epoch 252/800\n",
            "4/4 [==============================] - 0s 3ms/step - loss: 0.3127 - binary_crossentropy: 0.3127\n",
            "Epoch 253/800\n",
            "4/4 [==============================] - 0s 3ms/step - loss: 0.3124 - binary_crossentropy: 0.3124\n",
            "Epoch 254/800\n",
            "4/4 [==============================] - 0s 2ms/step - loss: 0.3121 - binary_crossentropy: 0.3121\n",
            "Epoch 255/800\n",
            "4/4 [==============================] - 0s 2ms/step - loss: 0.3118 - binary_crossentropy: 0.3118\n",
            "Epoch 256/800\n",
            "4/4 [==============================] - 0s 3ms/step - loss: 0.3114 - binary_crossentropy: 0.3114\n",
            "Epoch 257/800\n",
            "4/4 [==============================] - 0s 4ms/step - loss: 0.3111 - binary_crossentropy: 0.3111\n",
            "Epoch 258/800\n",
            "4/4 [==============================] - 0s 5ms/step - loss: 0.3108 - binary_crossentropy: 0.3108\n",
            "Epoch 259/800\n",
            "4/4 [==============================] - 0s 4ms/step - loss: 0.3105 - binary_crossentropy: 0.3105\n",
            "Epoch 260/800\n",
            "4/4 [==============================] - 0s 3ms/step - loss: 0.3101 - binary_crossentropy: 0.3101\n",
            "Epoch 261/800\n",
            "4/4 [==============================] - 0s 3ms/step - loss: 0.3098 - binary_crossentropy: 0.3098\n",
            "Epoch 262/800\n",
            "4/4 [==============================] - 0s 3ms/step - loss: 0.3095 - binary_crossentropy: 0.3095\n",
            "Epoch 263/800\n",
            "4/4 [==============================] - 0s 3ms/step - loss: 0.3092 - binary_crossentropy: 0.3092\n",
            "Epoch 264/800\n",
            "4/4 [==============================] - 0s 3ms/step - loss: 0.3089 - binary_crossentropy: 0.3089\n",
            "Epoch 265/800\n",
            "4/4 [==============================] - 0s 3ms/step - loss: 0.3085 - binary_crossentropy: 0.3085\n",
            "Epoch 266/800\n",
            "4/4 [==============================] - 0s 3ms/step - loss: 0.3082 - binary_crossentropy: 0.3082\n",
            "Epoch 267/800\n",
            "4/4 [==============================] - 0s 3ms/step - loss: 0.3079 - binary_crossentropy: 0.3079\n",
            "Epoch 268/800\n",
            "4/4 [==============================] - 0s 2ms/step - loss: 0.3076 - binary_crossentropy: 0.3076\n",
            "Epoch 269/800\n",
            "4/4 [==============================] - 0s 3ms/step - loss: 0.3073 - binary_crossentropy: 0.3073\n",
            "Epoch 270/800\n",
            "4/4 [==============================] - 0s 3ms/step - loss: 0.3070 - binary_crossentropy: 0.3070\n",
            "Epoch 271/800\n",
            "4/4 [==============================] - 0s 3ms/step - loss: 0.3066 - binary_crossentropy: 0.3066\n",
            "Epoch 272/800\n",
            "4/4 [==============================] - 0s 3ms/step - loss: 0.3063 - binary_crossentropy: 0.3063\n",
            "Epoch 273/800\n",
            "4/4 [==============================] - 0s 4ms/step - loss: 0.3060 - binary_crossentropy: 0.3060\n",
            "Epoch 274/800\n",
            "4/4 [==============================] - 0s 4ms/step - loss: 0.3057 - binary_crossentropy: 0.3057\n",
            "Epoch 275/800\n",
            "4/4 [==============================] - 0s 6ms/step - loss: 0.3054 - binary_crossentropy: 0.3054\n",
            "Epoch 276/800\n",
            "4/4 [==============================] - 0s 3ms/step - loss: 0.3051 - binary_crossentropy: 0.3051\n",
            "Epoch 277/800\n",
            "4/4 [==============================] - 0s 4ms/step - loss: 0.3048 - binary_crossentropy: 0.3048\n",
            "Epoch 278/800\n",
            "4/4 [==============================] - 0s 4ms/step - loss: 0.3045 - binary_crossentropy: 0.3045\n",
            "Epoch 279/800\n",
            "4/4 [==============================] - 0s 3ms/step - loss: 0.3042 - binary_crossentropy: 0.3042\n",
            "Epoch 280/800\n",
            "4/4 [==============================] - 0s 6ms/step - loss: 0.3038 - binary_crossentropy: 0.3038\n",
            "Epoch 281/800\n",
            "4/4 [==============================] - 0s 3ms/step - loss: 0.3035 - binary_crossentropy: 0.3035\n",
            "Epoch 282/800\n",
            "4/4 [==============================] - 0s 3ms/step - loss: 0.3032 - binary_crossentropy: 0.3032\n",
            "Epoch 283/800\n",
            "4/4 [==============================] - 0s 3ms/step - loss: 0.3029 - binary_crossentropy: 0.3029\n",
            "Epoch 284/800\n",
            "4/4 [==============================] - 0s 3ms/step - loss: 0.3026 - binary_crossentropy: 0.3026\n",
            "Epoch 285/800\n",
            "4/4 [==============================] - 0s 3ms/step - loss: 0.3023 - binary_crossentropy: 0.3023\n",
            "Epoch 286/800\n",
            "4/4 [==============================] - 0s 3ms/step - loss: 0.3020 - binary_crossentropy: 0.3020\n",
            "Epoch 287/800\n",
            "4/4 [==============================] - 0s 3ms/step - loss: 0.3017 - binary_crossentropy: 0.3017\n",
            "Epoch 288/800\n",
            "4/4 [==============================] - 0s 8ms/step - loss: 0.3014 - binary_crossentropy: 0.3014\n",
            "Epoch 289/800\n",
            "4/4 [==============================] - 0s 4ms/step - loss: 0.3011 - binary_crossentropy: 0.3011\n",
            "Epoch 290/800\n",
            "4/4 [==============================] - 0s 4ms/step - loss: 0.3008 - binary_crossentropy: 0.3008\n",
            "Epoch 291/800\n",
            "4/4 [==============================] - 0s 3ms/step - loss: 0.3005 - binary_crossentropy: 0.3005\n",
            "Epoch 292/800\n",
            "4/4 [==============================] - 0s 5ms/step - loss: 0.3002 - binary_crossentropy: 0.3002\n",
            "Epoch 293/800\n",
            "4/4 [==============================] - 0s 4ms/step - loss: 0.2999 - binary_crossentropy: 0.2999\n",
            "Epoch 294/800\n",
            "4/4 [==============================] - 0s 3ms/step - loss: 0.2996 - binary_crossentropy: 0.2996\n",
            "Epoch 295/800\n",
            "4/4 [==============================] - 0s 3ms/step - loss: 0.2993 - binary_crossentropy: 0.2993\n",
            "Epoch 296/800\n",
            "4/4 [==============================] - 0s 4ms/step - loss: 0.2990 - binary_crossentropy: 0.2990\n",
            "Epoch 297/800\n",
            "4/4 [==============================] - 0s 3ms/step - loss: 0.2987 - binary_crossentropy: 0.2987\n",
            "Epoch 298/800\n",
            "4/4 [==============================] - 0s 3ms/step - loss: 0.2984 - binary_crossentropy: 0.2984\n",
            "Epoch 299/800\n",
            "4/4 [==============================] - 0s 3ms/step - loss: 0.2981 - binary_crossentropy: 0.2981\n",
            "Epoch 300/800\n",
            "4/4 [==============================] - 0s 4ms/step - loss: 0.2978 - binary_crossentropy: 0.2978\n",
            "Epoch 301/800\n",
            "4/4 [==============================] - 0s 5ms/step - loss: 0.2975 - binary_crossentropy: 0.2975\n",
            "Epoch 302/800\n",
            "4/4 [==============================] - 0s 4ms/step - loss: 0.2972 - binary_crossentropy: 0.2972\n",
            "Epoch 303/800\n",
            "4/4 [==============================] - 0s 4ms/step - loss: 0.2969 - binary_crossentropy: 0.2969\n",
            "Epoch 304/800\n",
            "4/4 [==============================] - 0s 3ms/step - loss: 0.2966 - binary_crossentropy: 0.2966\n",
            "Epoch 305/800\n",
            "4/4 [==============================] - 0s 3ms/step - loss: 0.2964 - binary_crossentropy: 0.2964\n",
            "Epoch 306/800\n",
            "4/4 [==============================] - 0s 3ms/step - loss: 0.2961 - binary_crossentropy: 0.2961\n",
            "Epoch 307/800\n",
            "4/4 [==============================] - 0s 3ms/step - loss: 0.2958 - binary_crossentropy: 0.2958\n",
            "Epoch 308/800\n",
            "4/4 [==============================] - 0s 3ms/step - loss: 0.2955 - binary_crossentropy: 0.2955\n",
            "Epoch 309/800\n",
            "4/4 [==============================] - 0s 3ms/step - loss: 0.2952 - binary_crossentropy: 0.2952\n",
            "Epoch 310/800\n",
            "4/4 [==============================] - 0s 5ms/step - loss: 0.2949 - binary_crossentropy: 0.2949\n",
            "Epoch 311/800\n",
            "4/4 [==============================] - 0s 4ms/step - loss: 0.2946 - binary_crossentropy: 0.2946\n",
            "Epoch 312/800\n",
            "4/4 [==============================] - 0s 5ms/step - loss: 0.2943 - binary_crossentropy: 0.2943\n",
            "Epoch 313/800\n",
            "4/4 [==============================] - 0s 3ms/step - loss: 0.2940 - binary_crossentropy: 0.2940\n",
            "Epoch 314/800\n",
            "4/4 [==============================] - 0s 3ms/step - loss: 0.2937 - binary_crossentropy: 0.2937\n",
            "Epoch 315/800\n",
            "4/4 [==============================] - 0s 3ms/step - loss: 0.2935 - binary_crossentropy: 0.2935\n",
            "Epoch 316/800\n",
            "4/4 [==============================] - 0s 3ms/step - loss: 0.2932 - binary_crossentropy: 0.2932\n",
            "Epoch 317/800\n",
            "4/4 [==============================] - 0s 3ms/step - loss: 0.2929 - binary_crossentropy: 0.2929\n",
            "Epoch 318/800\n",
            "4/4 [==============================] - 0s 3ms/step - loss: 0.2926 - binary_crossentropy: 0.2926\n",
            "Epoch 319/800\n",
            "4/4 [==============================] - 0s 3ms/step - loss: 0.2923 - binary_crossentropy: 0.2923\n",
            "Epoch 320/800\n",
            "4/4 [==============================] - 0s 4ms/step - loss: 0.2920 - binary_crossentropy: 0.2920\n",
            "Epoch 321/800\n",
            "4/4 [==============================] - 0s 4ms/step - loss: 0.2917 - binary_crossentropy: 0.2917\n",
            "Epoch 322/800\n",
            "4/4 [==============================] - 0s 3ms/step - loss: 0.2915 - binary_crossentropy: 0.2915\n",
            "Epoch 323/800\n",
            "4/4 [==============================] - 0s 3ms/step - loss: 0.2912 - binary_crossentropy: 0.2912\n",
            "Epoch 324/800\n",
            "4/4 [==============================] - 0s 2ms/step - loss: 0.2909 - binary_crossentropy: 0.2909\n",
            "Epoch 325/800\n",
            "4/4 [==============================] - 0s 3ms/step - loss: 0.2906 - binary_crossentropy: 0.2906\n",
            "Epoch 326/800\n",
            "4/4 [==============================] - 0s 3ms/step - loss: 0.2903 - binary_crossentropy: 0.2903\n",
            "Epoch 327/800\n",
            "4/4 [==============================] - 0s 3ms/step - loss: 0.2901 - binary_crossentropy: 0.2901\n",
            "Epoch 328/800\n",
            "4/4 [==============================] - 0s 3ms/step - loss: 0.2898 - binary_crossentropy: 0.2898\n",
            "Epoch 329/800\n",
            "4/4 [==============================] - 0s 3ms/step - loss: 0.2895 - binary_crossentropy: 0.2895\n",
            "Epoch 330/800\n",
            "4/4 [==============================] - 0s 3ms/step - loss: 0.2892 - binary_crossentropy: 0.2892\n",
            "Epoch 331/800\n",
            "4/4 [==============================] - 0s 3ms/step - loss: 0.2889 - binary_crossentropy: 0.2889\n",
            "Epoch 332/800\n",
            "4/4 [==============================] - 0s 3ms/step - loss: 0.2887 - binary_crossentropy: 0.2887\n",
            "Epoch 333/800\n",
            "4/4 [==============================] - 0s 3ms/step - loss: 0.2884 - binary_crossentropy: 0.2884\n",
            "Epoch 334/800\n",
            "4/4 [==============================] - 0s 3ms/step - loss: 0.2881 - binary_crossentropy: 0.2881\n",
            "Epoch 335/800\n",
            "4/4 [==============================] - 0s 3ms/step - loss: 0.2878 - binary_crossentropy: 0.2878\n",
            "Epoch 336/800\n",
            "4/4 [==============================] - 0s 3ms/step - loss: 0.2876 - binary_crossentropy: 0.2876\n",
            "Epoch 337/800\n",
            "4/4 [==============================] - 0s 2ms/step - loss: 0.2873 - binary_crossentropy: 0.2873\n",
            "Epoch 338/800\n",
            "4/4 [==============================] - 0s 3ms/step - loss: 0.2870 - binary_crossentropy: 0.2870\n",
            "Epoch 339/800\n",
            "4/4 [==============================] - 0s 3ms/step - loss: 0.2867 - binary_crossentropy: 0.2867\n",
            "Epoch 340/800\n",
            "4/4 [==============================] - 0s 3ms/step - loss: 0.2865 - binary_crossentropy: 0.2865\n",
            "Epoch 341/800\n",
            "4/4 [==============================] - 0s 3ms/step - loss: 0.2862 - binary_crossentropy: 0.2862\n",
            "Epoch 342/800\n",
            "4/4 [==============================] - 0s 3ms/step - loss: 0.2859 - binary_crossentropy: 0.2859\n",
            "Epoch 343/800\n",
            "4/4 [==============================] - 0s 3ms/step - loss: 0.2856 - binary_crossentropy: 0.2856\n",
            "Epoch 344/800\n",
            "4/4 [==============================] - 0s 3ms/step - loss: 0.2854 - binary_crossentropy: 0.2854\n",
            "Epoch 345/800\n",
            "4/4 [==============================] - 0s 3ms/step - loss: 0.2851 - binary_crossentropy: 0.2851\n",
            "Epoch 346/800\n",
            "4/4 [==============================] - 0s 6ms/step - loss: 0.2848 - binary_crossentropy: 0.2848\n",
            "Epoch 347/800\n",
            "4/4 [==============================] - 0s 3ms/step - loss: 0.2846 - binary_crossentropy: 0.2846\n",
            "Epoch 348/800\n",
            "4/4 [==============================] - 0s 3ms/step - loss: 0.2843 - binary_crossentropy: 0.2843\n",
            "Epoch 349/800\n",
            "4/4 [==============================] - 0s 3ms/step - loss: 0.2840 - binary_crossentropy: 0.2840\n",
            "Epoch 350/800\n",
            "4/4 [==============================] - 0s 5ms/step - loss: 0.2838 - binary_crossentropy: 0.2838\n",
            "Epoch 351/800\n",
            "4/4 [==============================] - 0s 3ms/step - loss: 0.2835 - binary_crossentropy: 0.2835\n",
            "Epoch 352/800\n",
            "4/4 [==============================] - 0s 7ms/step - loss: 0.2832 - binary_crossentropy: 0.2832\n",
            "Epoch 353/800\n",
            "4/4 [==============================] - 0s 3ms/step - loss: 0.2830 - binary_crossentropy: 0.2830\n",
            "Epoch 354/800\n",
            "4/4 [==============================] - 0s 3ms/step - loss: 0.2827 - binary_crossentropy: 0.2827\n",
            "Epoch 355/800\n",
            "4/4 [==============================] - 0s 3ms/step - loss: 0.2824 - binary_crossentropy: 0.2824\n",
            "Epoch 356/800\n",
            "4/4 [==============================] - 0s 4ms/step - loss: 0.2822 - binary_crossentropy: 0.2822\n",
            "Epoch 357/800\n",
            "4/4 [==============================] - 0s 5ms/step - loss: 0.2819 - binary_crossentropy: 0.2819\n",
            "Epoch 358/800\n",
            "4/4 [==============================] - 0s 6ms/step - loss: 0.2816 - binary_crossentropy: 0.2816\n",
            "Epoch 359/800\n",
            "4/4 [==============================] - 0s 3ms/step - loss: 0.2814 - binary_crossentropy: 0.2814\n",
            "Epoch 360/800\n",
            "4/4 [==============================] - 0s 3ms/step - loss: 0.2811 - binary_crossentropy: 0.2811\n",
            "Epoch 361/800\n",
            "4/4 [==============================] - 0s 3ms/step - loss: 0.2808 - binary_crossentropy: 0.2808\n",
            "Epoch 362/800\n",
            "4/4 [==============================] - 0s 3ms/step - loss: 0.2806 - binary_crossentropy: 0.2806\n",
            "Epoch 363/800\n",
            "4/4 [==============================] - 0s 4ms/step - loss: 0.2803 - binary_crossentropy: 0.2803\n",
            "Epoch 364/800\n",
            "4/4 [==============================] - 0s 3ms/step - loss: 0.2801 - binary_crossentropy: 0.2801\n",
            "Epoch 365/800\n",
            "4/4 [==============================] - 0s 3ms/step - loss: 0.2798 - binary_crossentropy: 0.2798\n",
            "Epoch 366/800\n",
            "4/4 [==============================] - 0s 5ms/step - loss: 0.2795 - binary_crossentropy: 0.2795\n",
            "Epoch 367/800\n",
            "4/4 [==============================] - 0s 5ms/step - loss: 0.2793 - binary_crossentropy: 0.2793\n",
            "Epoch 368/800\n",
            "4/4 [==============================] - 0s 3ms/step - loss: 0.2790 - binary_crossentropy: 0.2790\n",
            "Epoch 369/800\n",
            "4/4 [==============================] - 0s 3ms/step - loss: 0.2787 - binary_crossentropy: 0.2787\n",
            "Epoch 370/800\n",
            "4/4 [==============================] - 0s 4ms/step - loss: 0.2785 - binary_crossentropy: 0.2785\n",
            "Epoch 371/800\n",
            "4/4 [==============================] - 0s 5ms/step - loss: 0.2782 - binary_crossentropy: 0.2782\n",
            "Epoch 372/800\n",
            "4/4 [==============================] - 0s 3ms/step - loss: 0.2780 - binary_crossentropy: 0.2780\n",
            "Epoch 373/800\n",
            "4/4 [==============================] - 0s 5ms/step - loss: 0.2777 - binary_crossentropy: 0.2777\n",
            "Epoch 374/800\n",
            "4/4 [==============================] - 0s 3ms/step - loss: 0.2775 - binary_crossentropy: 0.2775\n",
            "Epoch 375/800\n",
            "4/4 [==============================] - 0s 4ms/step - loss: 0.2772 - binary_crossentropy: 0.2772\n",
            "Epoch 376/800\n",
            "4/4 [==============================] - 0s 4ms/step - loss: 0.2769 - binary_crossentropy: 0.2769\n",
            "Epoch 377/800\n",
            "4/4 [==============================] - 0s 3ms/step - loss: 0.2767 - binary_crossentropy: 0.2767\n",
            "Epoch 378/800\n",
            "4/4 [==============================] - 0s 3ms/step - loss: 0.2764 - binary_crossentropy: 0.2764\n",
            "Epoch 379/800\n",
            "4/4 [==============================] - 0s 3ms/step - loss: 0.2762 - binary_crossentropy: 0.2762\n",
            "Epoch 380/800\n",
            "4/4 [==============================] - 0s 3ms/step - loss: 0.2759 - binary_crossentropy: 0.2759\n",
            "Epoch 381/800\n",
            "4/4 [==============================] - 0s 5ms/step - loss: 0.2757 - binary_crossentropy: 0.2757\n",
            "Epoch 382/800\n",
            "4/4 [==============================] - 0s 5ms/step - loss: 0.2754 - binary_crossentropy: 0.2754\n",
            "Epoch 383/800\n",
            "4/4 [==============================] - 0s 4ms/step - loss: 0.2752 - binary_crossentropy: 0.2752\n",
            "Epoch 384/800\n",
            "4/4 [==============================] - 0s 6ms/step - loss: 0.2749 - binary_crossentropy: 0.2749\n",
            "Epoch 385/800\n",
            "4/4 [==============================] - 0s 4ms/step - loss: 0.2747 - binary_crossentropy: 0.2747\n",
            "Epoch 386/800\n",
            "4/4 [==============================] - 0s 4ms/step - loss: 0.2744 - binary_crossentropy: 0.2744\n",
            "Epoch 387/800\n",
            "4/4 [==============================] - 0s 4ms/step - loss: 0.2742 - binary_crossentropy: 0.2742\n",
            "Epoch 388/800\n",
            "4/4 [==============================] - 0s 4ms/step - loss: 0.2739 - binary_crossentropy: 0.2739\n",
            "Epoch 389/800\n",
            "4/4 [==============================] - 0s 3ms/step - loss: 0.2737 - binary_crossentropy: 0.2737\n",
            "Epoch 390/800\n",
            "4/4 [==============================] - 0s 3ms/step - loss: 0.2734 - binary_crossentropy: 0.2734\n",
            "Epoch 391/800\n",
            "4/4 [==============================] - 0s 5ms/step - loss: 0.2732 - binary_crossentropy: 0.2732\n",
            "Epoch 392/800\n",
            "4/4 [==============================] - 0s 3ms/step - loss: 0.2729 - binary_crossentropy: 0.2729\n",
            "Epoch 393/800\n",
            "4/4 [==============================] - 0s 3ms/step - loss: 0.2727 - binary_crossentropy: 0.2727\n",
            "Epoch 394/800\n",
            "4/4 [==============================] - 0s 6ms/step - loss: 0.2724 - binary_crossentropy: 0.2724\n",
            "Epoch 395/800\n",
            "4/4 [==============================] - 0s 4ms/step - loss: 0.2722 - binary_crossentropy: 0.2722\n",
            "Epoch 396/800\n",
            "4/4 [==============================] - 0s 4ms/step - loss: 0.2719 - binary_crossentropy: 0.2719\n",
            "Epoch 397/800\n",
            "4/4 [==============================] - 0s 3ms/step - loss: 0.2717 - binary_crossentropy: 0.2717\n",
            "Epoch 398/800\n",
            "4/4 [==============================] - 0s 4ms/step - loss: 0.2714 - binary_crossentropy: 0.2714\n",
            "Epoch 399/800\n",
            "4/4 [==============================] - 0s 7ms/step - loss: 0.2712 - binary_crossentropy: 0.2712\n",
            "Epoch 400/800\n",
            "4/4 [==============================] - 0s 3ms/step - loss: 0.2709 - binary_crossentropy: 0.2709\n",
            "Epoch 401/800\n",
            "4/4 [==============================] - 0s 3ms/step - loss: 0.2707 - binary_crossentropy: 0.2707\n",
            "Epoch 402/800\n",
            "4/4 [==============================] - 0s 4ms/step - loss: 0.2704 - binary_crossentropy: 0.2704\n",
            "Epoch 403/800\n",
            "4/4 [==============================] - 0s 3ms/step - loss: 0.2702 - binary_crossentropy: 0.2702\n",
            "Epoch 404/800\n",
            "4/4 [==============================] - 0s 3ms/step - loss: 0.2699 - binary_crossentropy: 0.2699\n",
            "Epoch 405/800\n",
            "4/4 [==============================] - 0s 4ms/step - loss: 0.2697 - binary_crossentropy: 0.2697\n",
            "Epoch 406/800\n",
            "4/4 [==============================] - 0s 4ms/step - loss: 0.2695 - binary_crossentropy: 0.2695\n",
            "Epoch 407/800\n",
            "4/4 [==============================] - 0s 4ms/step - loss: 0.2692 - binary_crossentropy: 0.2692\n",
            "Epoch 408/800\n",
            "4/4 [==============================] - 0s 3ms/step - loss: 0.2690 - binary_crossentropy: 0.2690\n",
            "Epoch 409/800\n",
            "4/4 [==============================] - 0s 4ms/step - loss: 0.2687 - binary_crossentropy: 0.2687\n",
            "Epoch 410/800\n",
            "4/4 [==============================] - 0s 4ms/step - loss: 0.2685 - binary_crossentropy: 0.2685\n",
            "Epoch 411/800\n",
            "4/4 [==============================] - 0s 3ms/step - loss: 0.2682 - binary_crossentropy: 0.2682\n",
            "Epoch 412/800\n",
            "4/4 [==============================] - 0s 4ms/step - loss: 0.2680 - binary_crossentropy: 0.2680\n",
            "Epoch 413/800\n",
            "4/4 [==============================] - 0s 4ms/step - loss: 0.2678 - binary_crossentropy: 0.2678\n",
            "Epoch 414/800\n",
            "4/4 [==============================] - 0s 5ms/step - loss: 0.2675 - binary_crossentropy: 0.2675\n",
            "Epoch 415/800\n",
            "4/4 [==============================] - 0s 4ms/step - loss: 0.2673 - binary_crossentropy: 0.2673\n",
            "Epoch 416/800\n",
            "4/4 [==============================] - 0s 3ms/step - loss: 0.2670 - binary_crossentropy: 0.2670\n",
            "Epoch 417/800\n",
            "4/4 [==============================] - 0s 3ms/step - loss: 0.2668 - binary_crossentropy: 0.2668\n",
            "Epoch 418/800\n",
            "4/4 [==============================] - 0s 5ms/step - loss: 0.2666 - binary_crossentropy: 0.2666\n",
            "Epoch 419/800\n",
            "4/4 [==============================] - 0s 3ms/step - loss: 0.2663 - binary_crossentropy: 0.2663\n",
            "Epoch 420/800\n",
            "4/4 [==============================] - 0s 3ms/step - loss: 0.2661 - binary_crossentropy: 0.2661\n",
            "Epoch 421/800\n",
            "4/4 [==============================] - 0s 4ms/step - loss: 0.2659 - binary_crossentropy: 0.2659\n",
            "Epoch 422/800\n",
            "4/4 [==============================] - 0s 4ms/step - loss: 0.2656 - binary_crossentropy: 0.2656\n",
            "Epoch 423/800\n",
            "4/4 [==============================] - 0s 2ms/step - loss: 0.2654 - binary_crossentropy: 0.2654\n",
            "Epoch 424/800\n",
            "4/4 [==============================] - 0s 3ms/step - loss: 0.2651 - binary_crossentropy: 0.2651\n",
            "Epoch 425/800\n",
            "4/4 [==============================] - 0s 3ms/step - loss: 0.2649 - binary_crossentropy: 0.2649\n",
            "Epoch 426/800\n",
            "4/4 [==============================] - 0s 3ms/step - loss: 0.2647 - binary_crossentropy: 0.2647\n",
            "Epoch 427/800\n",
            "4/4 [==============================] - 0s 3ms/step - loss: 0.2644 - binary_crossentropy: 0.2644\n",
            "Epoch 428/800\n",
            "4/4 [==============================] - 0s 3ms/step - loss: 0.2642 - binary_crossentropy: 0.2642\n",
            "Epoch 429/800\n",
            "4/4 [==============================] - 0s 3ms/step - loss: 0.2640 - binary_crossentropy: 0.2640\n",
            "Epoch 430/800\n",
            "4/4 [==============================] - 0s 4ms/step - loss: 0.2637 - binary_crossentropy: 0.2637\n",
            "Epoch 431/800\n",
            "4/4 [==============================] - 0s 3ms/step - loss: 0.2635 - binary_crossentropy: 0.2635\n",
            "Epoch 432/800\n",
            "4/4 [==============================] - 0s 3ms/step - loss: 0.2633 - binary_crossentropy: 0.2633\n",
            "Epoch 433/800\n",
            "4/4 [==============================] - 0s 4ms/step - loss: 0.2630 - binary_crossentropy: 0.2630\n",
            "Epoch 434/800\n",
            "4/4 [==============================] - 0s 5ms/step - loss: 0.2628 - binary_crossentropy: 0.2628\n",
            "Epoch 435/800\n",
            "4/4 [==============================] - 0s 3ms/step - loss: 0.2626 - binary_crossentropy: 0.2626\n",
            "Epoch 436/800\n",
            "4/4 [==============================] - 0s 4ms/step - loss: 0.2623 - binary_crossentropy: 0.2623\n",
            "Epoch 437/800\n",
            "4/4 [==============================] - 0s 3ms/step - loss: 0.2621 - binary_crossentropy: 0.2621\n",
            "Epoch 438/800\n",
            "4/4 [==============================] - 0s 2ms/step - loss: 0.2619 - binary_crossentropy: 0.2619\n",
            "Epoch 439/800\n",
            "4/4 [==============================] - 0s 3ms/step - loss: 0.2616 - binary_crossentropy: 0.2616\n",
            "Epoch 440/800\n",
            "4/4 [==============================] - 0s 6ms/step - loss: 0.2614 - binary_crossentropy: 0.2614\n",
            "Epoch 441/800\n",
            "4/4 [==============================] - 0s 5ms/step - loss: 0.2612 - binary_crossentropy: 0.2612\n",
            "Epoch 442/800\n",
            "4/4 [==============================] - 0s 4ms/step - loss: 0.2610 - binary_crossentropy: 0.2610\n",
            "Epoch 443/800\n",
            "4/4 [==============================] - 0s 4ms/step - loss: 0.2607 - binary_crossentropy: 0.2607\n",
            "Epoch 444/800\n",
            "4/4 [==============================] - 0s 5ms/step - loss: 0.2605 - binary_crossentropy: 0.2605\n",
            "Epoch 445/800\n",
            "4/4 [==============================] - 0s 4ms/step - loss: 0.2603 - binary_crossentropy: 0.2603\n",
            "Epoch 446/800\n",
            "4/4 [==============================] - 0s 4ms/step - loss: 0.2600 - binary_crossentropy: 0.2600\n",
            "Epoch 447/800\n",
            "4/4 [==============================] - 0s 4ms/step - loss: 0.2598 - binary_crossentropy: 0.2598\n",
            "Epoch 448/800\n",
            "4/4 [==============================] - 0s 3ms/step - loss: 0.2596 - binary_crossentropy: 0.2596\n",
            "Epoch 449/800\n",
            "4/4 [==============================] - 0s 5ms/step - loss: 0.2594 - binary_crossentropy: 0.2594\n",
            "Epoch 450/800\n",
            "4/4 [==============================] - 0s 3ms/step - loss: 0.2591 - binary_crossentropy: 0.2591\n",
            "Epoch 451/800\n",
            "4/4 [==============================] - 0s 4ms/step - loss: 0.2589 - binary_crossentropy: 0.2589\n",
            "Epoch 452/800\n",
            "4/4 [==============================] - 0s 4ms/step - loss: 0.2587 - binary_crossentropy: 0.2587\n",
            "Epoch 453/800\n",
            "4/4 [==============================] - 0s 4ms/step - loss: 0.2585 - binary_crossentropy: 0.2585\n",
            "Epoch 454/800\n",
            "4/4 [==============================] - 0s 3ms/step - loss: 0.2582 - binary_crossentropy: 0.2582\n",
            "Epoch 455/800\n",
            "4/4 [==============================] - 0s 4ms/step - loss: 0.2580 - binary_crossentropy: 0.2580\n",
            "Epoch 456/800\n",
            "4/4 [==============================] - 0s 3ms/step - loss: 0.2578 - binary_crossentropy: 0.2578\n",
            "Epoch 457/800\n",
            "4/4 [==============================] - 0s 4ms/step - loss: 0.2576 - binary_crossentropy: 0.2576\n",
            "Epoch 458/800\n",
            "4/4 [==============================] - 0s 3ms/step - loss: 0.2573 - binary_crossentropy: 0.2573\n",
            "Epoch 459/800\n",
            "4/4 [==============================] - 0s 4ms/step - loss: 0.2571 - binary_crossentropy: 0.2571\n",
            "Epoch 460/800\n",
            "4/4 [==============================] - 0s 5ms/step - loss: 0.2569 - binary_crossentropy: 0.2569\n",
            "Epoch 461/800\n",
            "4/4 [==============================] - 0s 4ms/step - loss: 0.2567 - binary_crossentropy: 0.2567\n",
            "Epoch 462/800\n",
            "4/4 [==============================] - 0s 4ms/step - loss: 0.2564 - binary_crossentropy: 0.2564\n",
            "Epoch 463/800\n",
            "4/4 [==============================] - 0s 3ms/step - loss: 0.2562 - binary_crossentropy: 0.2562\n",
            "Epoch 464/800\n",
            "4/4 [==============================] - 0s 4ms/step - loss: 0.2560 - binary_crossentropy: 0.2560\n",
            "Epoch 465/800\n",
            "4/4 [==============================] - 0s 4ms/step - loss: 0.2558 - binary_crossentropy: 0.2558\n",
            "Epoch 466/800\n",
            "4/4 [==============================] - 0s 4ms/step - loss: 0.2556 - binary_crossentropy: 0.2556\n",
            "Epoch 467/800\n",
            "4/4 [==============================] - 0s 3ms/step - loss: 0.2553 - binary_crossentropy: 0.2553\n",
            "Epoch 468/800\n",
            "4/4 [==============================] - 0s 4ms/step - loss: 0.2551 - binary_crossentropy: 0.2551\n",
            "Epoch 469/800\n",
            "4/4 [==============================] - 0s 4ms/step - loss: 0.2549 - binary_crossentropy: 0.2549\n",
            "Epoch 470/800\n",
            "4/4 [==============================] - 0s 4ms/step - loss: 0.2547 - binary_crossentropy: 0.2547\n",
            "Epoch 471/800\n",
            "4/4 [==============================] - 0s 2ms/step - loss: 0.2545 - binary_crossentropy: 0.2545\n",
            "Epoch 472/800\n",
            "4/4 [==============================] - 0s 3ms/step - loss: 0.2542 - binary_crossentropy: 0.2542\n",
            "Epoch 473/800\n",
            "4/4 [==============================] - 0s 4ms/step - loss: 0.2540 - binary_crossentropy: 0.2540\n",
            "Epoch 474/800\n",
            "4/4 [==============================] - 0s 4ms/step - loss: 0.2538 - binary_crossentropy: 0.2538\n",
            "Epoch 475/800\n",
            "4/4 [==============================] - 0s 4ms/step - loss: 0.2536 - binary_crossentropy: 0.2536\n",
            "Epoch 476/800\n",
            "4/4 [==============================] - 0s 5ms/step - loss: 0.2534 - binary_crossentropy: 0.2534\n",
            "Epoch 477/800\n",
            "4/4 [==============================] - 0s 4ms/step - loss: 0.2532 - binary_crossentropy: 0.2532\n",
            "Epoch 478/800\n",
            "4/4 [==============================] - 0s 3ms/step - loss: 0.2529 - binary_crossentropy: 0.2529\n",
            "Epoch 479/800\n",
            "4/4 [==============================] - 0s 2ms/step - loss: 0.2527 - binary_crossentropy: 0.2527\n",
            "Epoch 480/800\n",
            "4/4 [==============================] - 0s 3ms/step - loss: 0.2525 - binary_crossentropy: 0.2525\n",
            "Epoch 481/800\n",
            "4/4 [==============================] - 0s 3ms/step - loss: 0.2523 - binary_crossentropy: 0.2523\n",
            "Epoch 482/800\n",
            "4/4 [==============================] - 0s 4ms/step - loss: 0.2521 - binary_crossentropy: 0.2521\n",
            "Epoch 483/800\n",
            "4/4 [==============================] - 0s 3ms/step - loss: 0.2519 - binary_crossentropy: 0.2519\n",
            "Epoch 484/800\n",
            "4/4 [==============================] - 0s 7ms/step - loss: 0.2516 - binary_crossentropy: 0.2516\n",
            "Epoch 485/800\n",
            "4/4 [==============================] - 0s 3ms/step - loss: 0.2514 - binary_crossentropy: 0.2514\n",
            "Epoch 486/800\n",
            "4/4 [==============================] - 0s 5ms/step - loss: 0.2512 - binary_crossentropy: 0.2512\n",
            "Epoch 487/800\n",
            "4/4 [==============================] - 0s 2ms/step - loss: 0.2510 - binary_crossentropy: 0.2510\n",
            "Epoch 488/800\n",
            "4/4 [==============================] - 0s 3ms/step - loss: 0.2508 - binary_crossentropy: 0.2508\n",
            "Epoch 489/800\n",
            "4/4 [==============================] - 0s 3ms/step - loss: 0.2506 - binary_crossentropy: 0.2506\n",
            "Epoch 490/800\n",
            "4/4 [==============================] - 0s 3ms/step - loss: 0.2504 - binary_crossentropy: 0.2504\n",
            "Epoch 491/800\n",
            "4/4 [==============================] - 0s 4ms/step - loss: 0.2502 - binary_crossentropy: 0.2502\n",
            "Epoch 492/800\n",
            "4/4 [==============================] - 0s 3ms/step - loss: 0.2499 - binary_crossentropy: 0.2499\n",
            "Epoch 493/800\n",
            "4/4 [==============================] - 0s 2ms/step - loss: 0.2497 - binary_crossentropy: 0.2497\n",
            "Epoch 494/800\n",
            "4/4 [==============================] - 0s 4ms/step - loss: 0.2495 - binary_crossentropy: 0.2495\n",
            "Epoch 495/800\n",
            "4/4 [==============================] - 0s 5ms/step - loss: 0.2493 - binary_crossentropy: 0.2493\n",
            "Epoch 496/800\n",
            "4/4 [==============================] - 0s 5ms/step - loss: 0.2491 - binary_crossentropy: 0.2491\n",
            "Epoch 497/800\n",
            "4/4 [==============================] - 0s 4ms/step - loss: 0.2489 - binary_crossentropy: 0.2489\n",
            "Epoch 498/800\n",
            "4/4 [==============================] - 0s 3ms/step - loss: 0.2487 - binary_crossentropy: 0.2487\n",
            "Epoch 499/800\n",
            "4/4 [==============================] - 0s 5ms/step - loss: 0.2485 - binary_crossentropy: 0.2485\n",
            "Epoch 500/800\n",
            "4/4 [==============================] - 0s 5ms/step - loss: 0.2483 - binary_crossentropy: 0.2483\n",
            "Epoch 501/800\n",
            "4/4 [==============================] - 0s 5ms/step - loss: 0.2480 - binary_crossentropy: 0.2480\n",
            "Epoch 502/800\n",
            "4/4 [==============================] - 0s 4ms/step - loss: 0.2478 - binary_crossentropy: 0.2478\n",
            "Epoch 503/800\n",
            "4/4 [==============================] - 0s 5ms/step - loss: 0.2476 - binary_crossentropy: 0.2476\n",
            "Epoch 504/800\n",
            "4/4 [==============================] - 0s 4ms/step - loss: 0.2474 - binary_crossentropy: 0.2474\n",
            "Epoch 505/800\n",
            "4/4 [==============================] - 0s 4ms/step - loss: 0.2472 - binary_crossentropy: 0.2472\n",
            "Epoch 506/800\n",
            "4/4 [==============================] - 0s 6ms/step - loss: 0.2470 - binary_crossentropy: 0.2470\n",
            "Epoch 507/800\n",
            "4/4 [==============================] - 0s 4ms/step - loss: 0.2468 - binary_crossentropy: 0.2468\n",
            "Epoch 508/800\n",
            "4/4 [==============================] - 0s 4ms/step - loss: 0.2466 - binary_crossentropy: 0.2466\n",
            "Epoch 509/800\n",
            "4/4 [==============================] - 0s 4ms/step - loss: 0.2464 - binary_crossentropy: 0.2464\n",
            "Epoch 510/800\n",
            "4/4 [==============================] - 0s 4ms/step - loss: 0.2462 - binary_crossentropy: 0.2462\n",
            "Epoch 511/800\n",
            "4/4 [==============================] - 0s 3ms/step - loss: 0.2460 - binary_crossentropy: 0.2460\n",
            "Epoch 512/800\n",
            "4/4 [==============================] - 0s 4ms/step - loss: 0.2458 - binary_crossentropy: 0.2458\n",
            "Epoch 513/800\n",
            "4/4 [==============================] - 0s 3ms/step - loss: 0.2456 - binary_crossentropy: 0.2456\n",
            "Epoch 514/800\n",
            "4/4 [==============================] - 0s 4ms/step - loss: 0.2454 - binary_crossentropy: 0.2454\n",
            "Epoch 515/800\n",
            "4/4 [==============================] - 0s 4ms/step - loss: 0.2452 - binary_crossentropy: 0.2452\n",
            "Epoch 516/800\n",
            "4/4 [==============================] - 0s 5ms/step - loss: 0.2450 - binary_crossentropy: 0.2450\n",
            "Epoch 517/800\n",
            "4/4 [==============================] - 0s 4ms/step - loss: 0.2447 - binary_crossentropy: 0.2447\n",
            "Epoch 518/800\n",
            "4/4 [==============================] - 0s 8ms/step - loss: 0.2445 - binary_crossentropy: 0.2445\n",
            "Epoch 519/800\n",
            "4/4 [==============================] - 0s 5ms/step - loss: 0.2443 - binary_crossentropy: 0.2443\n",
            "Epoch 520/800\n",
            "4/4 [==============================] - 0s 4ms/step - loss: 0.2441 - binary_crossentropy: 0.2441\n",
            "Epoch 521/800\n",
            "4/4 [==============================] - 0s 5ms/step - loss: 0.2439 - binary_crossentropy: 0.2439\n",
            "Epoch 522/800\n",
            "4/4 [==============================] - 0s 4ms/step - loss: 0.2437 - binary_crossentropy: 0.2437\n",
            "Epoch 523/800\n",
            "4/4 [==============================] - 0s 4ms/step - loss: 0.2435 - binary_crossentropy: 0.2435\n",
            "Epoch 524/800\n",
            "4/4 [==============================] - 0s 3ms/step - loss: 0.2433 - binary_crossentropy: 0.2433\n",
            "Epoch 525/800\n",
            "4/4 [==============================] - 0s 4ms/step - loss: 0.2431 - binary_crossentropy: 0.2431\n",
            "Epoch 526/800\n",
            "4/4 [==============================] - 0s 3ms/step - loss: 0.2429 - binary_crossentropy: 0.2429\n",
            "Epoch 527/800\n",
            "4/4 [==============================] - 0s 4ms/step - loss: 0.2427 - binary_crossentropy: 0.2427\n",
            "Epoch 528/800\n",
            "4/4 [==============================] - 0s 4ms/step - loss: 0.2425 - binary_crossentropy: 0.2425\n",
            "Epoch 529/800\n",
            "4/4 [==============================] - 0s 5ms/step - loss: 0.2423 - binary_crossentropy: 0.2423\n",
            "Epoch 530/800\n",
            "4/4 [==============================] - 0s 4ms/step - loss: 0.2421 - binary_crossentropy: 0.2421\n",
            "Epoch 531/800\n",
            "4/4 [==============================] - 0s 4ms/step - loss: 0.2419 - binary_crossentropy: 0.2419\n",
            "Epoch 532/800\n",
            "4/4 [==============================] - 0s 5ms/step - loss: 0.2417 - binary_crossentropy: 0.2417\n",
            "Epoch 533/800\n",
            "4/4 [==============================] - 0s 4ms/step - loss: 0.2415 - binary_crossentropy: 0.2415\n",
            "Epoch 534/800\n",
            "4/4 [==============================] - 0s 3ms/step - loss: 0.2413 - binary_crossentropy: 0.2413\n",
            "Epoch 535/800\n",
            "4/4 [==============================] - 0s 4ms/step - loss: 0.2411 - binary_crossentropy: 0.2411\n",
            "Epoch 536/800\n",
            "4/4 [==============================] - 0s 3ms/step - loss: 0.2409 - binary_crossentropy: 0.2409\n",
            "Epoch 537/800\n",
            "4/4 [==============================] - 0s 4ms/step - loss: 0.2407 - binary_crossentropy: 0.2407\n",
            "Epoch 538/800\n",
            "4/4 [==============================] - 0s 6ms/step - loss: 0.2405 - binary_crossentropy: 0.2405\n",
            "Epoch 539/800\n",
            "4/4 [==============================] - 0s 4ms/step - loss: 0.2403 - binary_crossentropy: 0.2403\n",
            "Epoch 540/800\n",
            "4/4 [==============================] - 0s 4ms/step - loss: 0.2401 - binary_crossentropy: 0.2401\n",
            "Epoch 541/800\n",
            "4/4 [==============================] - 0s 4ms/step - loss: 0.2399 - binary_crossentropy: 0.2399\n",
            "Epoch 542/800\n",
            "4/4 [==============================] - 0s 4ms/step - loss: 0.2398 - binary_crossentropy: 0.2398\n",
            "Epoch 543/800\n",
            "4/4 [==============================] - 0s 4ms/step - loss: 0.2396 - binary_crossentropy: 0.2396\n",
            "Epoch 544/800\n",
            "4/4 [==============================] - 0s 4ms/step - loss: 0.2394 - binary_crossentropy: 0.2394\n",
            "Epoch 545/800\n",
            "4/4 [==============================] - 0s 5ms/step - loss: 0.2392 - binary_crossentropy: 0.2392\n",
            "Epoch 546/800\n",
            "4/4 [==============================] - 0s 4ms/step - loss: 0.2390 - binary_crossentropy: 0.2390\n",
            "Epoch 547/800\n",
            "4/4 [==============================] - 0s 6ms/step - loss: 0.2388 - binary_crossentropy: 0.2388\n",
            "Epoch 548/800\n",
            "4/4 [==============================] - 0s 4ms/step - loss: 0.2386 - binary_crossentropy: 0.2386\n",
            "Epoch 549/800\n",
            "4/4 [==============================] - 0s 4ms/step - loss: 0.2384 - binary_crossentropy: 0.2384\n",
            "Epoch 550/800\n",
            "4/4 [==============================] - 0s 3ms/step - loss: 0.2382 - binary_crossentropy: 0.2382\n",
            "Epoch 551/800\n",
            "4/4 [==============================] - 0s 6ms/step - loss: 0.2380 - binary_crossentropy: 0.2380\n",
            "Epoch 552/800\n",
            "4/4 [==============================] - 0s 5ms/step - loss: 0.2378 - binary_crossentropy: 0.2378\n",
            "Epoch 553/800\n",
            "4/4 [==============================] - 0s 5ms/step - loss: 0.2376 - binary_crossentropy: 0.2376\n",
            "Epoch 554/800\n",
            "4/4 [==============================] - 0s 5ms/step - loss: 0.2374 - binary_crossentropy: 0.2374\n",
            "Epoch 555/800\n",
            "4/4 [==============================] - 0s 6ms/step - loss: 0.2372 - binary_crossentropy: 0.2372\n",
            "Epoch 556/800\n",
            "4/4 [==============================] - 0s 4ms/step - loss: 0.2370 - binary_crossentropy: 0.2370\n",
            "Epoch 557/800\n",
            "4/4 [==============================] - 0s 3ms/step - loss: 0.2368 - binary_crossentropy: 0.2368\n",
            "Epoch 558/800\n",
            "4/4 [==============================] - 0s 4ms/step - loss: 0.2367 - binary_crossentropy: 0.2367\n",
            "Epoch 559/800\n",
            "4/4 [==============================] - 0s 4ms/step - loss: 0.2365 - binary_crossentropy: 0.2365\n",
            "Epoch 560/800\n",
            "4/4 [==============================] - 0s 4ms/step - loss: 0.2363 - binary_crossentropy: 0.2363\n",
            "Epoch 561/800\n",
            "4/4 [==============================] - 0s 5ms/step - loss: 0.2361 - binary_crossentropy: 0.2361\n",
            "Epoch 562/800\n",
            "4/4 [==============================] - 0s 5ms/step - loss: 0.2359 - binary_crossentropy: 0.2359\n",
            "Epoch 563/800\n",
            "4/4 [==============================] - 0s 4ms/step - loss: 0.2357 - binary_crossentropy: 0.2357\n",
            "Epoch 564/800\n",
            "4/4 [==============================] - 0s 4ms/step - loss: 0.2355 - binary_crossentropy: 0.2355\n",
            "Epoch 565/800\n",
            "4/4 [==============================] - 0s 3ms/step - loss: 0.2353 - binary_crossentropy: 0.2353\n",
            "Epoch 566/800\n",
            "4/4 [==============================] - 0s 3ms/step - loss: 0.2351 - binary_crossentropy: 0.2351\n",
            "Epoch 567/800\n",
            "4/4 [==============================] - 0s 4ms/step - loss: 0.2349 - binary_crossentropy: 0.2349\n",
            "Epoch 568/800\n",
            "4/4 [==============================] - 0s 5ms/step - loss: 0.2348 - binary_crossentropy: 0.2348\n",
            "Epoch 569/800\n",
            "4/4 [==============================] - 0s 3ms/step - loss: 0.2346 - binary_crossentropy: 0.2346\n",
            "Epoch 570/800\n",
            "4/4 [==============================] - 0s 5ms/step - loss: 0.2344 - binary_crossentropy: 0.2344\n",
            "Epoch 571/800\n",
            "4/4 [==============================] - 0s 4ms/step - loss: 0.2342 - binary_crossentropy: 0.2342\n",
            "Epoch 572/800\n",
            "4/4 [==============================] - 0s 4ms/step - loss: 0.2340 - binary_crossentropy: 0.2340\n",
            "Epoch 573/800\n",
            "4/4 [==============================] - 0s 5ms/step - loss: 0.2338 - binary_crossentropy: 0.2338\n",
            "Epoch 574/800\n",
            "4/4 [==============================] - 0s 4ms/step - loss: 0.2336 - binary_crossentropy: 0.2336\n",
            "Epoch 575/800\n",
            "4/4 [==============================] - 0s 5ms/step - loss: 0.2334 - binary_crossentropy: 0.2334\n",
            "Epoch 576/800\n",
            "4/4 [==============================] - 0s 5ms/step - loss: 0.2333 - binary_crossentropy: 0.2333\n",
            "Epoch 577/800\n",
            "4/4 [==============================] - 0s 5ms/step - loss: 0.2331 - binary_crossentropy: 0.2331\n",
            "Epoch 578/800\n",
            "4/4 [==============================] - 0s 4ms/step - loss: 0.2329 - binary_crossentropy: 0.2329\n",
            "Epoch 579/800\n",
            "4/4 [==============================] - 0s 4ms/step - loss: 0.2327 - binary_crossentropy: 0.2327\n",
            "Epoch 580/800\n",
            "4/4 [==============================] - 0s 4ms/step - loss: 0.2325 - binary_crossentropy: 0.2325\n",
            "Epoch 581/800\n",
            "4/4 [==============================] - 0s 4ms/step - loss: 0.2323 - binary_crossentropy: 0.2323\n",
            "Epoch 582/800\n",
            "4/4 [==============================] - 0s 3ms/step - loss: 0.2321 - binary_crossentropy: 0.2321\n",
            "Epoch 583/800\n",
            "4/4 [==============================] - 0s 3ms/step - loss: 0.2320 - binary_crossentropy: 0.2320\n",
            "Epoch 584/800\n",
            "4/4 [==============================] - 0s 4ms/step - loss: 0.2318 - binary_crossentropy: 0.2318\n",
            "Epoch 585/800\n",
            "4/4 [==============================] - 0s 3ms/step - loss: 0.2316 - binary_crossentropy: 0.2316\n",
            "Epoch 586/800\n",
            "4/4 [==============================] - 0s 4ms/step - loss: 0.2314 - binary_crossentropy: 0.2314\n",
            "Epoch 587/800\n",
            "4/4 [==============================] - 0s 3ms/step - loss: 0.2312 - binary_crossentropy: 0.2312\n",
            "Epoch 588/800\n",
            "4/4 [==============================] - 0s 5ms/step - loss: 0.2310 - binary_crossentropy: 0.2310\n",
            "Epoch 589/800\n",
            "4/4 [==============================] - 0s 3ms/step - loss: 0.2309 - binary_crossentropy: 0.2309\n",
            "Epoch 590/800\n",
            "4/4 [==============================] - 0s 3ms/step - loss: 0.2307 - binary_crossentropy: 0.2307\n",
            "Epoch 591/800\n",
            "4/4 [==============================] - 0s 4ms/step - loss: 0.2305 - binary_crossentropy: 0.2305\n",
            "Epoch 592/800\n",
            "4/4 [==============================] - 0s 3ms/step - loss: 0.2303 - binary_crossentropy: 0.2303\n",
            "Epoch 593/800\n",
            "4/4 [==============================] - 0s 3ms/step - loss: 0.2301 - binary_crossentropy: 0.2301\n",
            "Epoch 594/800\n",
            "4/4 [==============================] - 0s 3ms/step - loss: 0.2299 - binary_crossentropy: 0.2299\n",
            "Epoch 595/800\n",
            "4/4 [==============================] - 0s 3ms/step - loss: 0.2298 - binary_crossentropy: 0.2298\n",
            "Epoch 596/800\n",
            "4/4 [==============================] - 0s 3ms/step - loss: 0.2296 - binary_crossentropy: 0.2296\n",
            "Epoch 597/800\n",
            "4/4 [==============================] - 0s 4ms/step - loss: 0.2294 - binary_crossentropy: 0.2294\n",
            "Epoch 598/800\n",
            "4/4 [==============================] - 0s 3ms/step - loss: 0.2292 - binary_crossentropy: 0.2292\n",
            "Epoch 599/800\n",
            "4/4 [==============================] - 0s 4ms/step - loss: 0.2290 - binary_crossentropy: 0.2290\n",
            "Epoch 600/800\n",
            "4/4 [==============================] - 0s 4ms/step - loss: 0.2289 - binary_crossentropy: 0.2289\n",
            "Epoch 601/800\n",
            "4/4 [==============================] - 0s 4ms/step - loss: 0.2287 - binary_crossentropy: 0.2287\n",
            "Epoch 602/800\n",
            "4/4 [==============================] - 0s 4ms/step - loss: 0.2285 - binary_crossentropy: 0.2285\n",
            "Epoch 603/800\n",
            "4/4 [==============================] - 0s 3ms/step - loss: 0.2283 - binary_crossentropy: 0.2283\n",
            "Epoch 604/800\n",
            "4/4 [==============================] - 0s 4ms/step - loss: 0.2281 - binary_crossentropy: 0.2281\n",
            "Epoch 605/800\n",
            "4/4 [==============================] - 0s 4ms/step - loss: 0.2280 - binary_crossentropy: 0.2280\n",
            "Epoch 606/800\n",
            "4/4 [==============================] - 0s 4ms/step - loss: 0.2278 - binary_crossentropy: 0.2278\n",
            "Epoch 607/800\n",
            "4/4 [==============================] - 0s 4ms/step - loss: 0.2276 - binary_crossentropy: 0.2276\n",
            "Epoch 608/800\n",
            "4/4 [==============================] - 0s 3ms/step - loss: 0.2274 - binary_crossentropy: 0.2274\n",
            "Epoch 609/800\n",
            "4/4 [==============================] - 0s 3ms/step - loss: 0.2272 - binary_crossentropy: 0.2272\n",
            "Epoch 610/800\n",
            "4/4 [==============================] - 0s 5ms/step - loss: 0.2271 - binary_crossentropy: 0.2271\n",
            "Epoch 611/800\n",
            "4/4 [==============================] - 0s 3ms/step - loss: 0.2269 - binary_crossentropy: 0.2269\n",
            "Epoch 612/800\n",
            "4/4 [==============================] - 0s 5ms/step - loss: 0.2267 - binary_crossentropy: 0.2267\n",
            "Epoch 613/800\n",
            "4/4 [==============================] - 0s 3ms/step - loss: 0.2265 - binary_crossentropy: 0.2265\n",
            "Epoch 614/800\n",
            "4/4 [==============================] - 0s 4ms/step - loss: 0.2264 - binary_crossentropy: 0.2264\n",
            "Epoch 615/800\n",
            "4/4 [==============================] - 0s 5ms/step - loss: 0.2262 - binary_crossentropy: 0.2262\n",
            "Epoch 616/800\n",
            "4/4 [==============================] - 0s 5ms/step - loss: 0.2260 - binary_crossentropy: 0.2260\n",
            "Epoch 617/800\n",
            "4/4 [==============================] - 0s 5ms/step - loss: 0.2258 - binary_crossentropy: 0.2258\n",
            "Epoch 618/800\n",
            "4/4 [==============================] - 0s 3ms/step - loss: 0.2257 - binary_crossentropy: 0.2257\n",
            "Epoch 619/800\n",
            "4/4 [==============================] - 0s 5ms/step - loss: 0.2255 - binary_crossentropy: 0.2255\n",
            "Epoch 620/800\n",
            "4/4 [==============================] - 0s 6ms/step - loss: 0.2253 - binary_crossentropy: 0.2253\n",
            "Epoch 621/800\n",
            "4/4 [==============================] - 0s 3ms/step - loss: 0.2251 - binary_crossentropy: 0.2251\n",
            "Epoch 622/800\n",
            "4/4 [==============================] - 0s 3ms/step - loss: 0.2250 - binary_crossentropy: 0.2250\n",
            "Epoch 623/800\n",
            "4/4 [==============================] - 0s 5ms/step - loss: 0.2248 - binary_crossentropy: 0.2248\n",
            "Epoch 624/800\n",
            "4/4 [==============================] - 0s 5ms/step - loss: 0.2246 - binary_crossentropy: 0.2246\n",
            "Epoch 625/800\n",
            "4/4 [==============================] - 0s 4ms/step - loss: 0.2244 - binary_crossentropy: 0.2244\n",
            "Epoch 626/800\n",
            "4/4 [==============================] - 0s 4ms/step - loss: 0.2243 - binary_crossentropy: 0.2243\n",
            "Epoch 627/800\n",
            "4/4 [==============================] - 0s 3ms/step - loss: 0.2241 - binary_crossentropy: 0.2241\n",
            "Epoch 628/800\n",
            "4/4 [==============================] - 0s 4ms/step - loss: 0.2239 - binary_crossentropy: 0.2239\n",
            "Epoch 629/800\n",
            "4/4 [==============================] - 0s 3ms/step - loss: 0.2237 - binary_crossentropy: 0.2237\n",
            "Epoch 630/800\n",
            "4/4 [==============================] - 0s 3ms/step - loss: 0.2236 - binary_crossentropy: 0.2236\n",
            "Epoch 631/800\n",
            "4/4 [==============================] - 0s 4ms/step - loss: 0.2234 - binary_crossentropy: 0.2234\n",
            "Epoch 632/800\n",
            "4/4 [==============================] - 0s 4ms/step - loss: 0.2232 - binary_crossentropy: 0.2232\n",
            "Epoch 633/800\n",
            "4/4 [==============================] - 0s 3ms/step - loss: 0.2231 - binary_crossentropy: 0.2231\n",
            "Epoch 634/800\n",
            "4/4 [==============================] - 0s 4ms/step - loss: 0.2229 - binary_crossentropy: 0.2229\n",
            "Epoch 635/800\n",
            "4/4 [==============================] - 0s 2ms/step - loss: 0.2227 - binary_crossentropy: 0.2227\n",
            "Epoch 636/800\n",
            "4/4 [==============================] - 0s 4ms/step - loss: 0.2225 - binary_crossentropy: 0.2225\n",
            "Epoch 637/800\n",
            "4/4 [==============================] - 0s 3ms/step - loss: 0.2224 - binary_crossentropy: 0.2224\n",
            "Epoch 638/800\n",
            "4/4 [==============================] - 0s 3ms/step - loss: 0.2222 - binary_crossentropy: 0.2222\n",
            "Epoch 639/800\n",
            "4/4 [==============================] - 0s 3ms/step - loss: 0.2220 - binary_crossentropy: 0.2220\n",
            "Epoch 640/800\n",
            "4/4 [==============================] - 0s 4ms/step - loss: 0.2219 - binary_crossentropy: 0.2219\n",
            "Epoch 641/800\n",
            "4/4 [==============================] - 0s 4ms/step - loss: 0.2217 - binary_crossentropy: 0.2217\n",
            "Epoch 642/800\n",
            "4/4 [==============================] - 0s 5ms/step - loss: 0.2215 - binary_crossentropy: 0.2215\n",
            "Epoch 643/800\n",
            "4/4 [==============================] - 0s 3ms/step - loss: 0.2213 - binary_crossentropy: 0.2213\n",
            "Epoch 644/800\n",
            "4/4 [==============================] - 0s 3ms/step - loss: 0.2212 - binary_crossentropy: 0.2212\n",
            "Epoch 645/800\n",
            "4/4 [==============================] - 0s 4ms/step - loss: 0.2210 - binary_crossentropy: 0.2210\n",
            "Epoch 646/800\n",
            "4/4 [==============================] - 0s 4ms/step - loss: 0.2208 - binary_crossentropy: 0.2208\n",
            "Epoch 647/800\n",
            "4/4 [==============================] - 0s 4ms/step - loss: 0.2207 - binary_crossentropy: 0.2207\n",
            "Epoch 648/800\n",
            "4/4 [==============================] - 0s 4ms/step - loss: 0.2205 - binary_crossentropy: 0.2205\n",
            "Epoch 649/800\n",
            "4/4 [==============================] - 0s 5ms/step - loss: 0.2203 - binary_crossentropy: 0.2203\n",
            "Epoch 650/800\n",
            "4/4 [==============================] - 0s 7ms/step - loss: 0.2202 - binary_crossentropy: 0.2202\n",
            "Epoch 651/800\n",
            "4/4 [==============================] - 0s 5ms/step - loss: 0.2200 - binary_crossentropy: 0.2200\n",
            "Epoch 652/800\n",
            "4/4 [==============================] - 0s 5ms/step - loss: 0.2198 - binary_crossentropy: 0.2198\n",
            "Epoch 653/800\n",
            "4/4 [==============================] - 0s 4ms/step - loss: 0.2197 - binary_crossentropy: 0.2197\n",
            "Epoch 654/800\n",
            "4/4 [==============================] - 0s 3ms/step - loss: 0.2195 - binary_crossentropy: 0.2195\n",
            "Epoch 655/800\n",
            "4/4 [==============================] - 0s 3ms/step - loss: 0.2193 - binary_crossentropy: 0.2193\n",
            "Epoch 656/800\n",
            "4/4 [==============================] - 0s 3ms/step - loss: 0.2192 - binary_crossentropy: 0.2192\n",
            "Epoch 657/800\n",
            "4/4 [==============================] - 0s 3ms/step - loss: 0.2190 - binary_crossentropy: 0.2190\n",
            "Epoch 658/800\n",
            "4/4 [==============================] - 0s 3ms/step - loss: 0.2188 - binary_crossentropy: 0.2188\n",
            "Epoch 659/800\n",
            "4/4 [==============================] - 0s 5ms/step - loss: 0.2187 - binary_crossentropy: 0.2187\n",
            "Epoch 660/800\n",
            "4/4 [==============================] - 0s 4ms/step - loss: 0.2185 - binary_crossentropy: 0.2185\n",
            "Epoch 661/800\n",
            "4/4 [==============================] - 0s 4ms/step - loss: 0.2183 - binary_crossentropy: 0.2183\n",
            "Epoch 662/800\n",
            "4/4 [==============================] - 0s 4ms/step - loss: 0.2182 - binary_crossentropy: 0.2182\n",
            "Epoch 663/800\n",
            "4/4 [==============================] - 0s 4ms/step - loss: 0.2180 - binary_crossentropy: 0.2180\n",
            "Epoch 664/800\n",
            "4/4 [==============================] - 0s 4ms/step - loss: 0.2178 - binary_crossentropy: 0.2178\n",
            "Epoch 665/800\n",
            "4/4 [==============================] - 0s 4ms/step - loss: 0.2177 - binary_crossentropy: 0.2177\n",
            "Epoch 666/800\n",
            "4/4 [==============================] - 0s 4ms/step - loss: 0.2175 - binary_crossentropy: 0.2175\n",
            "Epoch 667/800\n",
            "4/4 [==============================] - 0s 4ms/step - loss: 0.2174 - binary_crossentropy: 0.2174\n",
            "Epoch 668/800\n",
            "4/4 [==============================] - 0s 3ms/step - loss: 0.2172 - binary_crossentropy: 0.2172\n",
            "Epoch 669/800\n",
            "4/4 [==============================] - 0s 3ms/step - loss: 0.2170 - binary_crossentropy: 0.2170\n",
            "Epoch 670/800\n",
            "4/4 [==============================] - 0s 3ms/step - loss: 0.2169 - binary_crossentropy: 0.2169\n",
            "Epoch 671/800\n",
            "4/4 [==============================] - 0s 4ms/step - loss: 0.2167 - binary_crossentropy: 0.2167\n",
            "Epoch 672/800\n",
            "4/4 [==============================] - 0s 3ms/step - loss: 0.2165 - binary_crossentropy: 0.2165\n",
            "Epoch 673/800\n",
            "4/4 [==============================] - 0s 3ms/step - loss: 0.2164 - binary_crossentropy: 0.2164\n",
            "Epoch 674/800\n",
            "4/4 [==============================] - 0s 5ms/step - loss: 0.2162 - binary_crossentropy: 0.2162\n",
            "Epoch 675/800\n",
            "4/4 [==============================] - 0s 4ms/step - loss: 0.2160 - binary_crossentropy: 0.2160\n",
            "Epoch 676/800\n",
            "4/4 [==============================] - 0s 3ms/step - loss: 0.2159 - binary_crossentropy: 0.2159\n",
            "Epoch 677/800\n",
            "4/4 [==============================] - 0s 8ms/step - loss: 0.2157 - binary_crossentropy: 0.2157\n",
            "Epoch 678/800\n",
            "4/4 [==============================] - 0s 5ms/step - loss: 0.2156 - binary_crossentropy: 0.2156\n",
            "Epoch 679/800\n",
            "4/4 [==============================] - 0s 4ms/step - loss: 0.2154 - binary_crossentropy: 0.2154\n",
            "Epoch 680/800\n",
            "4/4 [==============================] - 0s 3ms/step - loss: 0.2152 - binary_crossentropy: 0.2152\n",
            "Epoch 681/800\n",
            "4/4 [==============================] - 0s 5ms/step - loss: 0.2151 - binary_crossentropy: 0.2151\n",
            "Epoch 682/800\n",
            "4/4 [==============================] - 0s 3ms/step - loss: 0.2149 - binary_crossentropy: 0.2149\n",
            "Epoch 683/800\n",
            "4/4 [==============================] - 0s 4ms/step - loss: 0.2148 - binary_crossentropy: 0.2148\n",
            "Epoch 684/800\n",
            "4/4 [==============================] - 0s 2ms/step - loss: 0.2146 - binary_crossentropy: 0.2146\n",
            "Epoch 685/800\n",
            "4/4 [==============================] - 0s 3ms/step - loss: 0.2144 - binary_crossentropy: 0.2144\n",
            "Epoch 686/800\n",
            "4/4 [==============================] - 0s 5ms/step - loss: 0.2143 - binary_crossentropy: 0.2143\n",
            "Epoch 687/800\n",
            "4/4 [==============================] - 0s 6ms/step - loss: 0.2141 - binary_crossentropy: 0.2141\n",
            "Epoch 688/800\n",
            "4/4 [==============================] - 0s 4ms/step - loss: 0.2140 - binary_crossentropy: 0.2140\n",
            "Epoch 689/800\n",
            "4/4 [==============================] - 0s 3ms/step - loss: 0.2138 - binary_crossentropy: 0.2138\n",
            "Epoch 690/800\n",
            "4/4 [==============================] - 0s 4ms/step - loss: 0.2136 - binary_crossentropy: 0.2136\n",
            "Epoch 691/800\n",
            "4/4 [==============================] - 0s 4ms/step - loss: 0.2135 - binary_crossentropy: 0.2135\n",
            "Epoch 692/800\n",
            "4/4 [==============================] - 0s 4ms/step - loss: 0.2133 - binary_crossentropy: 0.2133\n",
            "Epoch 693/800\n",
            "4/4 [==============================] - 0s 4ms/step - loss: 0.2132 - binary_crossentropy: 0.2132\n",
            "Epoch 694/800\n",
            "4/4 [==============================] - 0s 4ms/step - loss: 0.2130 - binary_crossentropy: 0.2130\n",
            "Epoch 695/800\n",
            "4/4 [==============================] - 0s 3ms/step - loss: 0.2129 - binary_crossentropy: 0.2129\n",
            "Epoch 696/800\n",
            "4/4 [==============================] - 0s 4ms/step - loss: 0.2127 - binary_crossentropy: 0.2127\n",
            "Epoch 697/800\n",
            "4/4 [==============================] - 0s 3ms/step - loss: 0.2125 - binary_crossentropy: 0.2125\n",
            "Epoch 698/800\n",
            "4/4 [==============================] - 0s 4ms/step - loss: 0.2124 - binary_crossentropy: 0.2124\n",
            "Epoch 699/800\n",
            "4/4 [==============================] - 0s 5ms/step - loss: 0.2122 - binary_crossentropy: 0.2122\n",
            "Epoch 700/800\n",
            "4/4 [==============================] - 0s 3ms/step - loss: 0.2121 - binary_crossentropy: 0.2121\n",
            "Epoch 701/800\n",
            "4/4 [==============================] - 0s 4ms/step - loss: 0.2119 - binary_crossentropy: 0.2119\n",
            "Epoch 702/800\n",
            "4/4 [==============================] - 0s 4ms/step - loss: 0.2118 - binary_crossentropy: 0.2118\n",
            "Epoch 703/800\n",
            "4/4 [==============================] - 0s 4ms/step - loss: 0.2116 - binary_crossentropy: 0.2116\n",
            "Epoch 704/800\n",
            "4/4 [==============================] - 0s 5ms/step - loss: 0.2114 - binary_crossentropy: 0.2114\n",
            "Epoch 705/800\n",
            "4/4 [==============================] - 0s 4ms/step - loss: 0.2113 - binary_crossentropy: 0.2113\n",
            "Epoch 706/800\n",
            "4/4 [==============================] - 0s 3ms/step - loss: 0.2111 - binary_crossentropy: 0.2111\n",
            "Epoch 707/800\n",
            "4/4 [==============================] - 0s 3ms/step - loss: 0.2110 - binary_crossentropy: 0.2110\n",
            "Epoch 708/800\n",
            "4/4 [==============================] - 0s 7ms/step - loss: 0.2108 - binary_crossentropy: 0.2108\n",
            "Epoch 709/800\n",
            "4/4 [==============================] - 0s 3ms/step - loss: 0.2107 - binary_crossentropy: 0.2107\n",
            "Epoch 710/800\n",
            "4/4 [==============================] - 0s 5ms/step - loss: 0.2105 - binary_crossentropy: 0.2105\n",
            "Epoch 711/800\n",
            "4/4 [==============================] - 0s 4ms/step - loss: 0.2104 - binary_crossentropy: 0.2104\n",
            "Epoch 712/800\n",
            "4/4 [==============================] - 0s 3ms/step - loss: 0.2102 - binary_crossentropy: 0.2102\n",
            "Epoch 713/800\n",
            "4/4 [==============================] - 0s 4ms/step - loss: 0.2101 - binary_crossentropy: 0.2101\n",
            "Epoch 714/800\n",
            "4/4 [==============================] - 0s 4ms/step - loss: 0.2099 - binary_crossentropy: 0.2099\n",
            "Epoch 715/800\n",
            "4/4 [==============================] - 0s 4ms/step - loss: 0.2097 - binary_crossentropy: 0.2097\n",
            "Epoch 716/800\n",
            "4/4 [==============================] - 0s 4ms/step - loss: 0.2096 - binary_crossentropy: 0.2096\n",
            "Epoch 717/800\n",
            "4/4 [==============================] - 0s 3ms/step - loss: 0.2094 - binary_crossentropy: 0.2094\n",
            "Epoch 718/800\n",
            "4/4 [==============================] - 0s 5ms/step - loss: 0.2093 - binary_crossentropy: 0.2093\n",
            "Epoch 719/800\n",
            "4/4 [==============================] - 0s 3ms/step - loss: 0.2091 - binary_crossentropy: 0.2091\n",
            "Epoch 720/800\n",
            "4/4 [==============================] - 0s 4ms/step - loss: 0.2090 - binary_crossentropy: 0.2090\n",
            "Epoch 721/800\n",
            "4/4 [==============================] - 0s 4ms/step - loss: 0.2088 - binary_crossentropy: 0.2088\n",
            "Epoch 722/800\n",
            "4/4 [==============================] - 0s 5ms/step - loss: 0.2087 - binary_crossentropy: 0.2087\n",
            "Epoch 723/800\n",
            "4/4 [==============================] - 0s 3ms/step - loss: 0.2085 - binary_crossentropy: 0.2085\n",
            "Epoch 724/800\n",
            "4/4 [==============================] - 0s 3ms/step - loss: 0.2084 - binary_crossentropy: 0.2084\n",
            "Epoch 725/800\n",
            "4/4 [==============================] - 0s 3ms/step - loss: 0.2082 - binary_crossentropy: 0.2082\n",
            "Epoch 726/800\n",
            "4/4 [==============================] - 0s 3ms/step - loss: 0.2081 - binary_crossentropy: 0.2081\n",
            "Epoch 727/800\n",
            "4/4 [==============================] - 0s 5ms/step - loss: 0.2079 - binary_crossentropy: 0.2079\n",
            "Epoch 728/800\n",
            "4/4 [==============================] - 0s 5ms/step - loss: 0.2078 - binary_crossentropy: 0.2078\n",
            "Epoch 729/800\n",
            "4/4 [==============================] - 0s 5ms/step - loss: 0.2076 - binary_crossentropy: 0.2076\n",
            "Epoch 730/800\n",
            "4/4 [==============================] - 0s 4ms/step - loss: 0.2075 - binary_crossentropy: 0.2075\n",
            "Epoch 731/800\n",
            "4/4 [==============================] - 0s 5ms/step - loss: 0.2073 - binary_crossentropy: 0.2073\n",
            "Epoch 732/800\n",
            "4/4 [==============================] - 0s 6ms/step - loss: 0.2072 - binary_crossentropy: 0.2072\n",
            "Epoch 733/800\n",
            "4/4 [==============================] - 0s 4ms/step - loss: 0.2070 - binary_crossentropy: 0.2070\n",
            "Epoch 734/800\n",
            "4/4 [==============================] - 0s 4ms/step - loss: 0.2069 - binary_crossentropy: 0.2069\n",
            "Epoch 735/800\n",
            "4/4 [==============================] - 0s 4ms/step - loss: 0.2067 - binary_crossentropy: 0.2067\n",
            "Epoch 736/800\n",
            "4/4 [==============================] - 0s 5ms/step - loss: 0.2066 - binary_crossentropy: 0.2066\n",
            "Epoch 737/800\n",
            "4/4 [==============================] - 0s 4ms/step - loss: 0.2064 - binary_crossentropy: 0.2064\n",
            "Epoch 738/800\n",
            "4/4 [==============================] - 0s 4ms/step - loss: 0.2063 - binary_crossentropy: 0.2063\n",
            "Epoch 739/800\n",
            "4/4 [==============================] - 0s 4ms/step - loss: 0.2061 - binary_crossentropy: 0.2061\n",
            "Epoch 740/800\n",
            "4/4 [==============================] - 0s 4ms/step - loss: 0.2060 - binary_crossentropy: 0.2060\n",
            "Epoch 741/800\n",
            "4/4 [==============================] - 0s 6ms/step - loss: 0.2058 - binary_crossentropy: 0.2058\n",
            "Epoch 742/800\n",
            "4/4 [==============================] - 0s 4ms/step - loss: 0.2057 - binary_crossentropy: 0.2057\n",
            "Epoch 743/800\n",
            "4/4 [==============================] - 0s 4ms/step - loss: 0.2055 - binary_crossentropy: 0.2055\n",
            "Epoch 744/800\n",
            "4/4 [==============================] - 0s 4ms/step - loss: 0.2054 - binary_crossentropy: 0.2054\n",
            "Epoch 745/800\n",
            "4/4 [==============================] - 0s 4ms/step - loss: 0.2052 - binary_crossentropy: 0.2052\n",
            "Epoch 746/800\n",
            "4/4 [==============================] - 0s 4ms/step - loss: 0.2051 - binary_crossentropy: 0.2051\n",
            "Epoch 747/800\n",
            "4/4 [==============================] - 0s 5ms/step - loss: 0.2049 - binary_crossentropy: 0.2049\n",
            "Epoch 748/800\n",
            "4/4 [==============================] - 0s 6ms/step - loss: 0.2048 - binary_crossentropy: 0.2048\n",
            "Epoch 749/800\n",
            "4/4 [==============================] - 0s 6ms/step - loss: 0.2047 - binary_crossentropy: 0.2047\n",
            "Epoch 750/800\n",
            "4/4 [==============================] - 0s 5ms/step - loss: 0.2045 - binary_crossentropy: 0.2045\n",
            "Epoch 751/800\n",
            "4/4 [==============================] - 0s 5ms/step - loss: 0.2044 - binary_crossentropy: 0.2044\n",
            "Epoch 752/800\n",
            "4/4 [==============================] - 0s 3ms/step - loss: 0.2042 - binary_crossentropy: 0.2042\n",
            "Epoch 753/800\n",
            "4/4 [==============================] - 0s 2ms/step - loss: 0.2041 - binary_crossentropy: 0.2041\n",
            "Epoch 754/800\n",
            "4/4 [==============================] - 0s 3ms/step - loss: 0.2039 - binary_crossentropy: 0.2039\n",
            "Epoch 755/800\n",
            "4/4 [==============================] - 0s 4ms/step - loss: 0.2038 - binary_crossentropy: 0.2038\n",
            "Epoch 756/800\n",
            "4/4 [==============================] - 0s 6ms/step - loss: 0.2036 - binary_crossentropy: 0.2036\n",
            "Epoch 757/800\n",
            "4/4 [==============================] - 0s 5ms/step - loss: 0.2035 - binary_crossentropy: 0.2035\n",
            "Epoch 758/800\n",
            "4/4 [==============================] - 0s 5ms/step - loss: 0.2033 - binary_crossentropy: 0.2033\n",
            "Epoch 759/800\n",
            "4/4 [==============================] - 0s 3ms/step - loss: 0.2032 - binary_crossentropy: 0.2032\n",
            "Epoch 760/800\n",
            "4/4 [==============================] - 0s 5ms/step - loss: 0.2031 - binary_crossentropy: 0.2031\n",
            "Epoch 761/800\n",
            "4/4 [==============================] - 0s 4ms/step - loss: 0.2029 - binary_crossentropy: 0.2029\n",
            "Epoch 762/800\n",
            "4/4 [==============================] - 0s 6ms/step - loss: 0.2028 - binary_crossentropy: 0.2028\n",
            "Epoch 763/800\n",
            "4/4 [==============================] - 0s 5ms/step - loss: 0.2026 - binary_crossentropy: 0.2026\n",
            "Epoch 764/800\n",
            "4/4 [==============================] - 0s 4ms/step - loss: 0.2025 - binary_crossentropy: 0.2025\n",
            "Epoch 765/800\n",
            "4/4 [==============================] - 0s 4ms/step - loss: 0.2023 - binary_crossentropy: 0.2023\n",
            "Epoch 766/800\n",
            "4/4 [==============================] - 0s 5ms/step - loss: 0.2022 - binary_crossentropy: 0.2022\n",
            "Epoch 767/800\n",
            "4/4 [==============================] - 0s 4ms/step - loss: 0.2020 - binary_crossentropy: 0.2020\n",
            "Epoch 768/800\n",
            "4/4 [==============================] - 0s 4ms/step - loss: 0.2019 - binary_crossentropy: 0.2019\n",
            "Epoch 769/800\n",
            "4/4 [==============================] - 0s 3ms/step - loss: 0.2018 - binary_crossentropy: 0.2018\n",
            "Epoch 770/800\n",
            "4/4 [==============================] - 0s 3ms/step - loss: 0.2016 - binary_crossentropy: 0.2016\n",
            "Epoch 771/800\n",
            "4/4 [==============================] - 0s 3ms/step - loss: 0.2015 - binary_crossentropy: 0.2015\n",
            "Epoch 772/800\n",
            "4/4 [==============================] - 0s 4ms/step - loss: 0.2013 - binary_crossentropy: 0.2013\n",
            "Epoch 773/800\n",
            "4/4 [==============================] - 0s 5ms/step - loss: 0.2012 - binary_crossentropy: 0.2012\n",
            "Epoch 774/800\n",
            "4/4 [==============================] - 0s 5ms/step - loss: 0.2011 - binary_crossentropy: 0.2011\n",
            "Epoch 775/800\n",
            "4/4 [==============================] - 0s 5ms/step - loss: 0.2009 - binary_crossentropy: 0.2009\n",
            "Epoch 776/800\n",
            "4/4 [==============================] - 0s 4ms/step - loss: 0.2008 - binary_crossentropy: 0.2008\n",
            "Epoch 777/800\n",
            "4/4 [==============================] - 0s 3ms/step - loss: 0.2006 - binary_crossentropy: 0.2006\n",
            "Epoch 778/800\n",
            "4/4 [==============================] - 0s 4ms/step - loss: 0.2005 - binary_crossentropy: 0.2005\n",
            "Epoch 779/800\n",
            "4/4 [==============================] - 0s 4ms/step - loss: 0.2003 - binary_crossentropy: 0.2003\n",
            "Epoch 780/800\n",
            "4/4 [==============================] - 0s 4ms/step - loss: 0.2002 - binary_crossentropy: 0.2002\n",
            "Epoch 781/800\n",
            "4/4 [==============================] - 0s 4ms/step - loss: 0.2001 - binary_crossentropy: 0.2001\n",
            "Epoch 782/800\n",
            "4/4 [==============================] - 0s 3ms/step - loss: 0.1999 - binary_crossentropy: 0.1999\n",
            "Epoch 783/800\n",
            "4/4 [==============================] - 0s 3ms/step - loss: 0.1998 - binary_crossentropy: 0.1998\n",
            "Epoch 784/800\n",
            "4/4 [==============================] - 0s 4ms/step - loss: 0.1996 - binary_crossentropy: 0.1996\n",
            "Epoch 785/800\n",
            "4/4 [==============================] - 0s 4ms/step - loss: 0.1995 - binary_crossentropy: 0.1995\n",
            "Epoch 786/800\n",
            "4/4 [==============================] - 0s 5ms/step - loss: 0.1994 - binary_crossentropy: 0.1994\n",
            "Epoch 787/800\n",
            "4/4 [==============================] - 0s 4ms/step - loss: 0.1992 - binary_crossentropy: 0.1992\n",
            "Epoch 788/800\n",
            "4/4 [==============================] - 0s 4ms/step - loss: 0.1991 - binary_crossentropy: 0.1991\n",
            "Epoch 789/800\n",
            "4/4 [==============================] - 0s 5ms/step - loss: 0.1989 - binary_crossentropy: 0.1989\n",
            "Epoch 790/800\n",
            "4/4 [==============================] - 0s 4ms/step - loss: 0.1988 - binary_crossentropy: 0.1988\n",
            "Epoch 791/800\n",
            "4/4 [==============================] - 0s 6ms/step - loss: 0.1987 - binary_crossentropy: 0.1987\n",
            "Epoch 792/800\n",
            "4/4 [==============================] - 0s 5ms/step - loss: 0.1985 - binary_crossentropy: 0.1985\n",
            "Epoch 793/800\n",
            "4/4 [==============================] - 0s 5ms/step - loss: 0.1984 - binary_crossentropy: 0.1984\n",
            "Epoch 794/800\n",
            "4/4 [==============================] - 0s 7ms/step - loss: 0.1983 - binary_crossentropy: 0.1983\n",
            "Epoch 795/800\n",
            "4/4 [==============================] - 0s 5ms/step - loss: 0.1981 - binary_crossentropy: 0.1981\n",
            "Epoch 796/800\n",
            "4/4 [==============================] - 0s 5ms/step - loss: 0.1980 - binary_crossentropy: 0.1980\n",
            "Epoch 797/800\n",
            "4/4 [==============================] - 0s 4ms/step - loss: 0.1978 - binary_crossentropy: 0.1978\n",
            "Epoch 798/800\n",
            "4/4 [==============================] - 0s 5ms/step - loss: 0.1977 - binary_crossentropy: 0.1977\n",
            "Epoch 799/800\n",
            "4/4 [==============================] - 0s 5ms/step - loss: 0.1976 - binary_crossentropy: 0.1976\n",
            "Epoch 800/800\n",
            "4/4 [==============================] - 0s 3ms/step - loss: 0.1974 - binary_crossentropy: 0.1974\n"
          ],
          "name": "stdout"
        },
        {
          "output_type": "execute_result",
          "data": {
            "text/plain": [
              "<tensorflow.python.keras.callbacks.History at 0x7fb6f40efd50>"
            ]
          },
          "metadata": {
            "tags": []
          },
          "execution_count": 152
        }
      ]
    },
    {
      "cell_type": "markdown",
      "metadata": {
        "id": "yvVCyLC9ySqK"
      },
      "source": [
        "  ## 소프트맥스 회귀 구현(Keras)"
      ]
    },
    {
      "cell_type": "code",
      "metadata": {
        "id": "eeag8LE-2R5g"
      },
      "source": [
        "import tensorflow as tf\n",
        "import numpy as np\n",
        "import pandas as pd\n",
        "from sklearn.datasets import load_iris"
      ],
      "execution_count": 159,
      "outputs": []
    },
    {
      "cell_type": "code",
      "metadata": {
        "colab": {
          "base_uri": "https://localhost:8080/"
        },
        "id": "LPNetoWC2c6q",
        "outputId": "0ebf3920-4048-4bae-a851-7ff723dfa111"
      },
      "source": [
        "df = load_iris()\n",
        "df.keys()"
      ],
      "execution_count": 160,
      "outputs": [
        {
          "output_type": "execute_result",
          "data": {
            "text/plain": [
              "dict_keys(['data', 'target', 'target_names', 'DESCR', 'feature_names', 'filename'])"
            ]
          },
          "metadata": {
            "tags": []
          },
          "execution_count": 160
        }
      ]
    },
    {
      "cell_type": "code",
      "metadata": {
        "colab": {
          "base_uri": "https://localhost:8080/"
        },
        "id": "bmuvTPMD2ho9",
        "outputId": "50f6a0cd-0409-42f6-f2fb-8cc5975e4bfd"
      },
      "source": [
        "x_data = np.array(df.data, dtype = np.float32)\n",
        "y_data = np.array(df.target, dtype = np.int32)\n",
        "nb_features = x_data.shape[1]\n",
        "nb_classes = len(set(y_data))\n",
        "print(x_data.shape,y_data.shape,nb_features, nb_classes)"
      ],
      "execution_count": 180,
      "outputs": [
        {
          "output_type": "stream",
          "text": [
            "(150, 4) (150,) 4 3\n"
          ],
          "name": "stdout"
        }
      ]
    },
    {
      "cell_type": "code",
      "metadata": {
        "id": "iGAegnAa3R9K"
      },
      "source": [
        "# one-hot encoding\n",
        "y_one_hot = tf.one_hot(indices=list(y_data), depth = nb_classes)"
      ],
      "execution_count": 183,
      "outputs": []
    },
    {
      "cell_type": "code",
      "metadata": {
        "colab": {
          "base_uri": "https://localhost:8080/"
        },
        "id": "7bk9FUR13sK0",
        "outputId": "8761b14d-4218-47bd-961a-52654e734977"
      },
      "source": [
        "from tensorflow.keras.models import Sequential # 케라스의 Sequential()을 임포트\n",
        "from tensorflow.keras.layers import Dense # 케라스의 Dense()를 임포트\n",
        "from tensorflow.keras import optimizers # 케라스의 옵티마이저를 임포트\n",
        "\n",
        "model = Sequential()\n",
        "\n",
        "# 입력의 차원은 4, 출력의 차원은 3, activation function은 softmax\n",
        "model.add(Dense(3, input_dim=4, activation='softmax'))\n",
        "\n",
        "# 학습률(learning rate, lr)은 0.01로 합니다.\n",
        "sgd = optimizers.SGD(lr=0.01)\n",
        "\n",
        "# 옵티마이저는 경사하강법의 일종인 adam을 사용합니다.\n",
        "# 손실 함수(Loss function)는 크로스 엔트로피 함수를 사용합니다.\n",
        "model.compile(loss='categorical_crossentropy', optimizer='adam',metrics=['accuracy'])\n",
        "\n",
        "# 주어진 X와 y데이터에 대해서 오차를 최소화하는 작업을 200번 시도합니다.\n",
        "history = model.fit(x_data, y_one_hot, batch_size=1, epochs=200)"
      ],
      "execution_count": 184,
      "outputs": [
        {
          "output_type": "stream",
          "text": [
            "/usr/local/lib/python3.7/dist-packages/tensorflow/python/keras/optimizer_v2/optimizer_v2.py:375: UserWarning: The `lr` argument is deprecated, use `learning_rate` instead.\n",
            "  \"The `lr` argument is deprecated, use `learning_rate` instead.\")\n"
          ],
          "name": "stderr"
        },
        {
          "output_type": "stream",
          "text": [
            "Epoch 1/200\n",
            "150/150 [==============================] - 0s 1ms/step - loss: 1.1259 - accuracy: 0.6667\n",
            "Epoch 2/200\n",
            "150/150 [==============================] - 0s 993us/step - loss: 0.9011 - accuracy: 0.5133\n",
            "Epoch 3/200\n",
            "150/150 [==============================] - 0s 1ms/step - loss: 0.8418 - accuracy: 0.4600\n",
            "Epoch 4/200\n",
            "150/150 [==============================] - 0s 1ms/step - loss: 0.8040 - accuracy: 0.5000\n",
            "Epoch 5/200\n",
            "150/150 [==============================] - 0s 954us/step - loss: 0.7654 - accuracy: 0.5600\n",
            "Epoch 6/200\n",
            "150/150 [==============================] - 0s 1ms/step - loss: 0.7313 - accuracy: 0.5400\n",
            "Epoch 7/200\n",
            "150/150 [==============================] - 0s 968us/step - loss: 0.7069 - accuracy: 0.5333\n",
            "Epoch 8/200\n",
            "150/150 [==============================] - 0s 1000us/step - loss: 0.6835 - accuracy: 0.5400\n",
            "Epoch 9/200\n",
            "150/150 [==============================] - 0s 1ms/step - loss: 0.6586 - accuracy: 0.5600\n",
            "Epoch 10/200\n",
            "150/150 [==============================] - 0s 972us/step - loss: 0.6425 - accuracy: 0.5733\n",
            "Epoch 11/200\n",
            "150/150 [==============================] - 0s 976us/step - loss: 0.6240 - accuracy: 0.5867\n",
            "Epoch 12/200\n",
            "150/150 [==============================] - 0s 943us/step - loss: 0.6079 - accuracy: 0.6000\n",
            "Epoch 13/200\n",
            "150/150 [==============================] - 0s 914us/step - loss: 0.5951 - accuracy: 0.6467\n",
            "Epoch 14/200\n",
            "150/150 [==============================] - 0s 935us/step - loss: 0.5827 - accuracy: 0.6533\n",
            "Epoch 15/200\n",
            "150/150 [==============================] - 0s 906us/step - loss: 0.5695 - accuracy: 0.6600\n",
            "Epoch 16/200\n",
            "150/150 [==============================] - 0s 950us/step - loss: 0.5621 - accuracy: 0.6533\n",
            "Epoch 17/200\n",
            "150/150 [==============================] - 0s 978us/step - loss: 0.5500 - accuracy: 0.6800\n",
            "Epoch 18/200\n",
            "150/150 [==============================] - 0s 1ms/step - loss: 0.5377 - accuracy: 0.6933\n",
            "Epoch 19/200\n",
            "150/150 [==============================] - 0s 984us/step - loss: 0.5304 - accuracy: 0.6867\n",
            "Epoch 20/200\n",
            "150/150 [==============================] - 0s 951us/step - loss: 0.5202 - accuracy: 0.6933\n",
            "Epoch 21/200\n",
            "150/150 [==============================] - 0s 958us/step - loss: 0.5155 - accuracy: 0.7467\n",
            "Epoch 22/200\n",
            "150/150 [==============================] - 0s 986us/step - loss: 0.5080 - accuracy: 0.7000\n",
            "Epoch 23/200\n",
            "150/150 [==============================] - 0s 1ms/step - loss: 0.5016 - accuracy: 0.7400\n",
            "Epoch 24/200\n",
            "150/150 [==============================] - 0s 1ms/step - loss: 0.4926 - accuracy: 0.7400\n",
            "Epoch 25/200\n",
            "150/150 [==============================] - 0s 1ms/step - loss: 0.4849 - accuracy: 0.7600\n",
            "Epoch 26/200\n",
            "150/150 [==============================] - 0s 1ms/step - loss: 0.4783 - accuracy: 0.7400\n",
            "Epoch 27/200\n",
            "150/150 [==============================] - 0s 976us/step - loss: 0.4730 - accuracy: 0.8000\n",
            "Epoch 28/200\n",
            "150/150 [==============================] - 0s 970us/step - loss: 0.4650 - accuracy: 0.8133\n",
            "Epoch 29/200\n",
            "150/150 [==============================] - 0s 981us/step - loss: 0.4601 - accuracy: 0.8000\n",
            "Epoch 30/200\n",
            "150/150 [==============================] - 0s 1ms/step - loss: 0.4552 - accuracy: 0.8200\n",
            "Epoch 31/200\n",
            "150/150 [==============================] - 0s 961us/step - loss: 0.4522 - accuracy: 0.8067\n",
            "Epoch 32/200\n",
            "150/150 [==============================] - 0s 964us/step - loss: 0.4439 - accuracy: 0.8867\n",
            "Epoch 33/200\n",
            "150/150 [==============================] - 0s 965us/step - loss: 0.4387 - accuracy: 0.8333\n",
            "Epoch 34/200\n",
            "150/150 [==============================] - 0s 1ms/step - loss: 0.4341 - accuracy: 0.8600\n",
            "Epoch 35/200\n",
            "150/150 [==============================] - 0s 1ms/step - loss: 0.4299 - accuracy: 0.9000\n",
            "Epoch 36/200\n",
            "150/150 [==============================] - 0s 983us/step - loss: 0.4238 - accuracy: 0.9000\n",
            "Epoch 37/200\n",
            "150/150 [==============================] - 0s 993us/step - loss: 0.4184 - accuracy: 0.9267\n",
            "Epoch 38/200\n",
            "150/150 [==============================] - 0s 923us/step - loss: 0.4171 - accuracy: 0.8933\n",
            "Epoch 39/200\n",
            "150/150 [==============================] - 0s 936us/step - loss: 0.4109 - accuracy: 0.9067\n",
            "Epoch 40/200\n",
            "150/150 [==============================] - 0s 978us/step - loss: 0.4044 - accuracy: 0.9467\n",
            "Epoch 41/200\n",
            "150/150 [==============================] - 0s 941us/step - loss: 0.4021 - accuracy: 0.9133\n",
            "Epoch 42/200\n",
            "150/150 [==============================] - 0s 972us/step - loss: 0.3978 - accuracy: 0.9467\n",
            "Epoch 43/200\n",
            "150/150 [==============================] - 0s 1ms/step - loss: 0.3954 - accuracy: 0.9067\n",
            "Epoch 44/200\n",
            "150/150 [==============================] - 0s 994us/step - loss: 0.3898 - accuracy: 0.8933\n",
            "Epoch 45/200\n",
            "150/150 [==============================] - 0s 1ms/step - loss: 0.3851 - accuracy: 0.9400\n",
            "Epoch 46/200\n",
            "150/150 [==============================] - 0s 952us/step - loss: 0.3775 - accuracy: 0.9600\n",
            "Epoch 47/200\n",
            "150/150 [==============================] - 0s 990us/step - loss: 0.3799 - accuracy: 0.9200\n",
            "Epoch 48/200\n",
            "150/150 [==============================] - 0s 1ms/step - loss: 0.3768 - accuracy: 0.9400\n",
            "Epoch 49/200\n",
            "150/150 [==============================] - 0s 946us/step - loss: 0.3730 - accuracy: 0.9333\n",
            "Epoch 50/200\n",
            "150/150 [==============================] - 0s 1ms/step - loss: 0.3663 - accuracy: 0.9200\n",
            "Epoch 51/200\n",
            "150/150 [==============================] - 0s 934us/step - loss: 0.3656 - accuracy: 0.9467\n",
            "Epoch 52/200\n",
            "150/150 [==============================] - 0s 975us/step - loss: 0.3625 - accuracy: 0.9333\n",
            "Epoch 53/200\n",
            "150/150 [==============================] - 0s 1ms/step - loss: 0.3576 - accuracy: 0.9400\n",
            "Epoch 54/200\n",
            "150/150 [==============================] - 0s 945us/step - loss: 0.3584 - accuracy: 0.9600\n",
            "Epoch 55/200\n",
            "150/150 [==============================] - 0s 984us/step - loss: 0.3531 - accuracy: 0.9667\n",
            "Epoch 56/200\n",
            "150/150 [==============================] - 0s 1ms/step - loss: 0.3473 - accuracy: 0.9667\n",
            "Epoch 57/200\n",
            "150/150 [==============================] - 0s 949us/step - loss: 0.3438 - accuracy: 0.9667\n",
            "Epoch 58/200\n",
            "150/150 [==============================] - 0s 969us/step - loss: 0.3427 - accuracy: 0.9667\n",
            "Epoch 59/200\n",
            "150/150 [==============================] - 0s 988us/step - loss: 0.3377 - accuracy: 0.9600\n",
            "Epoch 60/200\n",
            "150/150 [==============================] - 0s 984us/step - loss: 0.3340 - accuracy: 0.9667\n",
            "Epoch 61/200\n",
            "150/150 [==============================] - 0s 1ms/step - loss: 0.3326 - accuracy: 0.9600\n",
            "Epoch 62/200\n",
            "150/150 [==============================] - 0s 999us/step - loss: 0.3279 - accuracy: 0.9800\n",
            "Epoch 63/200\n",
            "150/150 [==============================] - 0s 1ms/step - loss: 0.3251 - accuracy: 0.9600\n",
            "Epoch 64/200\n",
            "150/150 [==============================] - 0s 1ms/step - loss: 0.3235 - accuracy: 0.9667\n",
            "Epoch 65/200\n",
            "150/150 [==============================] - 0s 1ms/step - loss: 0.3187 - accuracy: 0.9733\n",
            "Epoch 66/200\n",
            "150/150 [==============================] - 0s 965us/step - loss: 0.3160 - accuracy: 0.9667\n",
            "Epoch 67/200\n",
            "150/150 [==============================] - 0s 1ms/step - loss: 0.3138 - accuracy: 0.9600\n",
            "Epoch 68/200\n",
            "150/150 [==============================] - 0s 964us/step - loss: 0.3121 - accuracy: 0.9533\n",
            "Epoch 69/200\n",
            "150/150 [==============================] - 0s 1ms/step - loss: 0.3074 - accuracy: 0.9600\n",
            "Epoch 70/200\n",
            "150/150 [==============================] - 0s 992us/step - loss: 0.3080 - accuracy: 0.9733\n",
            "Epoch 71/200\n",
            "150/150 [==============================] - 0s 921us/step - loss: 0.3046 - accuracy: 0.9733\n",
            "Epoch 72/200\n",
            "150/150 [==============================] - 0s 1ms/step - loss: 0.2998 - accuracy: 0.9667\n",
            "Epoch 73/200\n",
            "150/150 [==============================] - 0s 994us/step - loss: 0.2988 - accuracy: 0.9667\n",
            "Epoch 74/200\n",
            "150/150 [==============================] - 0s 1ms/step - loss: 0.2945 - accuracy: 0.9733\n",
            "Epoch 75/200\n",
            "150/150 [==============================] - 0s 1ms/step - loss: 0.2947 - accuracy: 0.9667\n",
            "Epoch 76/200\n",
            "150/150 [==============================] - 0s 955us/step - loss: 0.2904 - accuracy: 0.9733\n",
            "Epoch 77/200\n",
            "150/150 [==============================] - 0s 944us/step - loss: 0.2884 - accuracy: 0.9733\n",
            "Epoch 78/200\n",
            "150/150 [==============================] - 0s 1ms/step - loss: 0.2885 - accuracy: 0.9667\n",
            "Epoch 79/200\n",
            "150/150 [==============================] - 0s 941us/step - loss: 0.2862 - accuracy: 0.9733\n",
            "Epoch 80/200\n",
            "150/150 [==============================] - 0s 972us/step - loss: 0.2826 - accuracy: 0.9733\n",
            "Epoch 81/200\n",
            "150/150 [==============================] - 0s 1ms/step - loss: 0.2805 - accuracy: 0.9600\n",
            "Epoch 82/200\n",
            "150/150 [==============================] - 0s 1ms/step - loss: 0.2772 - accuracy: 0.9667\n",
            "Epoch 83/200\n",
            "150/150 [==============================] - 0s 1ms/step - loss: 0.2742 - accuracy: 0.9667\n",
            "Epoch 84/200\n",
            "150/150 [==============================] - 0s 996us/step - loss: 0.2736 - accuracy: 0.9733\n",
            "Epoch 85/200\n",
            "150/150 [==============================] - 0s 1ms/step - loss: 0.2711 - accuracy: 0.9600\n",
            "Epoch 86/200\n",
            "150/150 [==============================] - 0s 939us/step - loss: 0.2680 - accuracy: 0.9800\n",
            "Epoch 87/200\n",
            "150/150 [==============================] - 0s 1ms/step - loss: 0.2653 - accuracy: 0.9733\n",
            "Epoch 88/200\n",
            "150/150 [==============================] - 0s 1ms/step - loss: 0.2659 - accuracy: 0.9667\n",
            "Epoch 89/200\n",
            "150/150 [==============================] - 0s 941us/step - loss: 0.2642 - accuracy: 0.9667\n",
            "Epoch 90/200\n",
            "150/150 [==============================] - 0s 1ms/step - loss: 0.2599 - accuracy: 0.9733\n",
            "Epoch 91/200\n",
            "150/150 [==============================] - 0s 1ms/step - loss: 0.2567 - accuracy: 0.9800\n",
            "Epoch 92/200\n",
            "150/150 [==============================] - 0s 1ms/step - loss: 0.2568 - accuracy: 0.9733\n",
            "Epoch 93/200\n",
            "150/150 [==============================] - 0s 1ms/step - loss: 0.2561 - accuracy: 0.9667\n",
            "Epoch 94/200\n",
            "150/150 [==============================] - 0s 1ms/step - loss: 0.2517 - accuracy: 0.9733\n",
            "Epoch 95/200\n",
            "150/150 [==============================] - 0s 1ms/step - loss: 0.2524 - accuracy: 0.9733\n",
            "Epoch 96/200\n",
            "150/150 [==============================] - 0s 1ms/step - loss: 0.2489 - accuracy: 0.9667\n",
            "Epoch 97/200\n",
            "150/150 [==============================] - 0s 1ms/step - loss: 0.2477 - accuracy: 0.9733\n",
            "Epoch 98/200\n",
            "150/150 [==============================] - 0s 1ms/step - loss: 0.2447 - accuracy: 0.9733\n",
            "Epoch 99/200\n",
            "150/150 [==============================] - 0s 972us/step - loss: 0.2455 - accuracy: 0.9667\n",
            "Epoch 100/200\n",
            "150/150 [==============================] - 0s 1ms/step - loss: 0.2430 - accuracy: 0.9733\n",
            "Epoch 101/200\n",
            "150/150 [==============================] - 0s 950us/step - loss: 0.2409 - accuracy: 0.9667\n",
            "Epoch 102/200\n",
            "150/150 [==============================] - 0s 1ms/step - loss: 0.2381 - accuracy: 0.9667\n",
            "Epoch 103/200\n",
            "150/150 [==============================] - 0s 995us/step - loss: 0.2377 - accuracy: 0.9733\n",
            "Epoch 104/200\n",
            "150/150 [==============================] - 0s 1ms/step - loss: 0.2350 - accuracy: 0.9733\n",
            "Epoch 105/200\n",
            "150/150 [==============================] - 0s 1000us/step - loss: 0.2349 - accuracy: 0.9800\n",
            "Epoch 106/200\n",
            "150/150 [==============================] - 0s 1ms/step - loss: 0.2315 - accuracy: 0.9733\n",
            "Epoch 107/200\n",
            "150/150 [==============================] - 0s 1ms/step - loss: 0.2310 - accuracy: 0.9667\n",
            "Epoch 108/200\n",
            "150/150 [==============================] - 0s 1ms/step - loss: 0.2292 - accuracy: 0.9667\n",
            "Epoch 109/200\n",
            "150/150 [==============================] - 0s 975us/step - loss: 0.2294 - accuracy: 0.9733\n",
            "Epoch 110/200\n",
            "150/150 [==============================] - 0s 1ms/step - loss: 0.2274 - accuracy: 0.9733\n",
            "Epoch 111/200\n",
            "150/150 [==============================] - 0s 1ms/step - loss: 0.2236 - accuracy: 0.9667\n",
            "Epoch 112/200\n",
            "150/150 [==============================] - 0s 1ms/step - loss: 0.2234 - accuracy: 0.9667\n",
            "Epoch 113/200\n",
            "150/150 [==============================] - 0s 978us/step - loss: 0.2214 - accuracy: 0.9733\n",
            "Epoch 114/200\n",
            "150/150 [==============================] - 0s 942us/step - loss: 0.2200 - accuracy: 0.9667\n",
            "Epoch 115/200\n",
            "150/150 [==============================] - 0s 971us/step - loss: 0.2186 - accuracy: 0.9733\n",
            "Epoch 116/200\n",
            "150/150 [==============================] - 0s 1ms/step - loss: 0.2169 - accuracy: 0.9667\n",
            "Epoch 117/200\n",
            "150/150 [==============================] - 0s 1000us/step - loss: 0.2200 - accuracy: 0.9667\n",
            "Epoch 118/200\n",
            "150/150 [==============================] - 0s 996us/step - loss: 0.2167 - accuracy: 0.9733\n",
            "Epoch 119/200\n",
            "150/150 [==============================] - 0s 1ms/step - loss: 0.2143 - accuracy: 0.9733\n",
            "Epoch 120/200\n",
            "150/150 [==============================] - 0s 999us/step - loss: 0.2122 - accuracy: 0.9667\n",
            "Epoch 121/200\n",
            "150/150 [==============================] - 0s 958us/step - loss: 0.2099 - accuracy: 0.9667\n",
            "Epoch 122/200\n",
            "150/150 [==============================] - 0s 1ms/step - loss: 0.2099 - accuracy: 0.9667\n",
            "Epoch 123/200\n",
            "150/150 [==============================] - 0s 982us/step - loss: 0.2076 - accuracy: 0.9733\n",
            "Epoch 124/200\n",
            "150/150 [==============================] - 0s 1ms/step - loss: 0.2073 - accuracy: 0.9667\n",
            "Epoch 125/200\n",
            "150/150 [==============================] - 0s 1ms/step - loss: 0.2059 - accuracy: 0.9667\n",
            "Epoch 126/200\n",
            "150/150 [==============================] - 0s 964us/step - loss: 0.2054 - accuracy: 0.9733\n",
            "Epoch 127/200\n",
            "150/150 [==============================] - 0s 1ms/step - loss: 0.2062 - accuracy: 0.9600\n",
            "Epoch 128/200\n",
            "150/150 [==============================] - 0s 967us/step - loss: 0.2018 - accuracy: 0.9600\n",
            "Epoch 129/200\n",
            "150/150 [==============================] - 0s 963us/step - loss: 0.2007 - accuracy: 0.9733\n",
            "Epoch 130/200\n",
            "150/150 [==============================] - 0s 1ms/step - loss: 0.1999 - accuracy: 0.9667\n",
            "Epoch 131/200\n",
            "150/150 [==============================] - 0s 1ms/step - loss: 0.1992 - accuracy: 0.9667\n",
            "Epoch 132/200\n",
            "150/150 [==============================] - 0s 949us/step - loss: 0.1977 - accuracy: 0.9733\n",
            "Epoch 133/200\n",
            "150/150 [==============================] - 0s 979us/step - loss: 0.1954 - accuracy: 0.9733\n",
            "Epoch 134/200\n",
            "150/150 [==============================] - 0s 982us/step - loss: 0.1962 - accuracy: 0.9733\n",
            "Epoch 135/200\n",
            "150/150 [==============================] - 0s 1ms/step - loss: 0.1939 - accuracy: 0.9600\n",
            "Epoch 136/200\n",
            "150/150 [==============================] - 0s 1ms/step - loss: 0.1933 - accuracy: 0.9667\n",
            "Epoch 137/200\n",
            "150/150 [==============================] - 0s 1ms/step - loss: 0.1907 - accuracy: 0.9667\n",
            "Epoch 138/200\n",
            "150/150 [==============================] - 0s 1ms/step - loss: 0.1931 - accuracy: 0.9667\n",
            "Epoch 139/200\n",
            "150/150 [==============================] - 0s 1ms/step - loss: 0.1896 - accuracy: 0.9667\n",
            "Epoch 140/200\n",
            "150/150 [==============================] - 0s 989us/step - loss: 0.1882 - accuracy: 0.9733\n",
            "Epoch 141/200\n",
            "150/150 [==============================] - 0s 944us/step - loss: 0.1882 - accuracy: 0.9733\n",
            "Epoch 142/200\n",
            "150/150 [==============================] - 0s 1ms/step - loss: 0.1859 - accuracy: 0.9600\n",
            "Epoch 143/200\n",
            "150/150 [==============================] - 0s 1ms/step - loss: 0.1857 - accuracy: 0.9733\n",
            "Epoch 144/200\n",
            "150/150 [==============================] - 0s 970us/step - loss: 0.1846 - accuracy: 0.9600\n",
            "Epoch 145/200\n",
            "150/150 [==============================] - 0s 1ms/step - loss: 0.1833 - accuracy: 0.9600\n",
            "Epoch 146/200\n",
            "150/150 [==============================] - 0s 979us/step - loss: 0.1821 - accuracy: 0.9667\n",
            "Epoch 147/200\n",
            "150/150 [==============================] - 0s 1ms/step - loss: 0.1810 - accuracy: 0.9667\n",
            "Epoch 148/200\n",
            "150/150 [==============================] - 0s 1ms/step - loss: 0.1804 - accuracy: 0.9667\n",
            "Epoch 149/200\n",
            "150/150 [==============================] - 0s 1ms/step - loss: 0.1807 - accuracy: 0.9667\n",
            "Epoch 150/200\n",
            "150/150 [==============================] - 0s 1ms/step - loss: 0.1793 - accuracy: 0.9733\n",
            "Epoch 151/200\n",
            "150/150 [==============================] - 0s 1ms/step - loss: 0.1775 - accuracy: 0.9667\n",
            "Epoch 152/200\n",
            "150/150 [==============================] - 0s 976us/step - loss: 0.1767 - accuracy: 0.9800\n",
            "Epoch 153/200\n",
            "150/150 [==============================] - 0s 1ms/step - loss: 0.1763 - accuracy: 0.9733\n",
            "Epoch 154/200\n",
            "150/150 [==============================] - 0s 987us/step - loss: 0.1761 - accuracy: 0.9733\n",
            "Epoch 155/200\n",
            "150/150 [==============================] - 0s 993us/step - loss: 0.1755 - accuracy: 0.9600\n",
            "Epoch 156/200\n",
            "150/150 [==============================] - 0s 1ms/step - loss: 0.1733 - accuracy: 0.9667\n",
            "Epoch 157/200\n",
            "150/150 [==============================] - 0s 1ms/step - loss: 0.1724 - accuracy: 0.9733\n",
            "Epoch 158/200\n",
            "150/150 [==============================] - 0s 1ms/step - loss: 0.1726 - accuracy: 0.9600\n",
            "Epoch 159/200\n",
            "150/150 [==============================] - 0s 1ms/step - loss: 0.1703 - accuracy: 0.9667\n",
            "Epoch 160/200\n",
            "150/150 [==============================] - 0s 1ms/step - loss: 0.1700 - accuracy: 0.9667\n",
            "Epoch 161/200\n",
            "150/150 [==============================] - 0s 1ms/step - loss: 0.1684 - accuracy: 0.9667\n",
            "Epoch 162/200\n",
            "150/150 [==============================] - 0s 953us/step - loss: 0.1670 - accuracy: 0.9667\n",
            "Epoch 163/200\n",
            "150/150 [==============================] - 0s 1ms/step - loss: 0.1679 - accuracy: 0.9667\n",
            "Epoch 164/200\n",
            "150/150 [==============================] - 0s 941us/step - loss: 0.1664 - accuracy: 0.9667\n",
            "Epoch 165/200\n",
            "150/150 [==============================] - 0s 1ms/step - loss: 0.1666 - accuracy: 0.9667\n",
            "Epoch 166/200\n",
            "150/150 [==============================] - 0s 1ms/step - loss: 0.1655 - accuracy: 0.9600\n",
            "Epoch 167/200\n",
            "150/150 [==============================] - 0s 966us/step - loss: 0.1654 - accuracy: 0.9667\n",
            "Epoch 168/200\n",
            "150/150 [==============================] - 0s 1ms/step - loss: 0.1635 - accuracy: 0.9667\n",
            "Epoch 169/200\n",
            "150/150 [==============================] - 0s 982us/step - loss: 0.1643 - accuracy: 0.9800\n",
            "Epoch 170/200\n",
            "150/150 [==============================] - 0s 962us/step - loss: 0.1614 - accuracy: 0.9667\n",
            "Epoch 171/200\n",
            "150/150 [==============================] - 0s 1ms/step - loss: 0.1624 - accuracy: 0.9667\n",
            "Epoch 172/200\n",
            "150/150 [==============================] - 0s 1ms/step - loss: 0.1614 - accuracy: 0.9600\n",
            "Epoch 173/200\n",
            "150/150 [==============================] - 0s 1ms/step - loss: 0.1616 - accuracy: 0.9667\n",
            "Epoch 174/200\n",
            "150/150 [==============================] - 0s 1ms/step - loss: 0.1611 - accuracy: 0.9667\n",
            "Epoch 175/200\n",
            "150/150 [==============================] - 0s 1ms/step - loss: 0.1604 - accuracy: 0.9667\n",
            "Epoch 176/200\n",
            "150/150 [==============================] - 0s 980us/step - loss: 0.1588 - accuracy: 0.9667\n",
            "Epoch 177/200\n",
            "150/150 [==============================] - 0s 1ms/step - loss: 0.1567 - accuracy: 0.9667\n",
            "Epoch 178/200\n",
            "150/150 [==============================] - 0s 1ms/step - loss: 0.1572 - accuracy: 0.9667\n",
            "Epoch 179/200\n",
            "150/150 [==============================] - 0s 1ms/step - loss: 0.1570 - accuracy: 0.9667\n",
            "Epoch 180/200\n",
            "150/150 [==============================] - 0s 1ms/step - loss: 0.1564 - accuracy: 0.9733\n",
            "Epoch 181/200\n",
            "150/150 [==============================] - 0s 986us/step - loss: 0.1573 - accuracy: 0.9667\n",
            "Epoch 182/200\n",
            "150/150 [==============================] - 0s 1ms/step - loss: 0.1534 - accuracy: 0.9667\n",
            "Epoch 183/200\n",
            "150/150 [==============================] - 0s 978us/step - loss: 0.1532 - accuracy: 0.9733\n",
            "Epoch 184/200\n",
            "150/150 [==============================] - 0s 1ms/step - loss: 0.1541 - accuracy: 0.9667\n",
            "Epoch 185/200\n",
            "150/150 [==============================] - 0s 1ms/step - loss: 0.1525 - accuracy: 0.9733\n",
            "Epoch 186/200\n",
            "150/150 [==============================] - 0s 1ms/step - loss: 0.1526 - accuracy: 0.9667\n",
            "Epoch 187/200\n",
            "150/150 [==============================] - 0s 1ms/step - loss: 0.1512 - accuracy: 0.9667\n",
            "Epoch 188/200\n",
            "150/150 [==============================] - 0s 1ms/step - loss: 0.1508 - accuracy: 0.9667\n",
            "Epoch 189/200\n",
            "150/150 [==============================] - 0s 1ms/step - loss: 0.1499 - accuracy: 0.9667\n",
            "Epoch 190/200\n",
            "150/150 [==============================] - 0s 1ms/step - loss: 0.1495 - accuracy: 0.9867\n",
            "Epoch 191/200\n",
            "150/150 [==============================] - 0s 1ms/step - loss: 0.1490 - accuracy: 0.9667\n",
            "Epoch 192/200\n",
            "150/150 [==============================] - 0s 1ms/step - loss: 0.1483 - accuracy: 0.9667\n",
            "Epoch 193/200\n",
            "150/150 [==============================] - 0s 1ms/step - loss: 0.1486 - accuracy: 0.9733\n",
            "Epoch 194/200\n",
            "150/150 [==============================] - 0s 1ms/step - loss: 0.1470 - accuracy: 0.9733\n",
            "Epoch 195/200\n",
            "150/150 [==============================] - 0s 1ms/step - loss: 0.1456 - accuracy: 0.9733\n",
            "Epoch 196/200\n",
            "150/150 [==============================] - 0s 1ms/step - loss: 0.1454 - accuracy: 0.9800\n",
            "Epoch 197/200\n",
            "150/150 [==============================] - 0s 1ms/step - loss: 0.1460 - accuracy: 0.9667\n",
            "Epoch 198/200\n",
            "150/150 [==============================] - 0s 1ms/step - loss: 0.1448 - accuracy: 0.9667\n",
            "Epoch 199/200\n",
            "150/150 [==============================] - 0s 1ms/step - loss: 0.1442 - accuracy: 0.9667\n",
            "Epoch 200/200\n",
            "150/150 [==============================] - 0s 1ms/step - loss: 0.1432 - accuracy: 0.9667\n"
          ],
          "name": "stdout"
        }
      ]
    },
    {
      "cell_type": "markdown",
      "metadata": {
        "id": "SIDO4E2X4dz9"
      },
      "source": [
        "## 소프트맥스 회귀 구현(Tape)"
      ]
    },
    {
      "cell_type": "code",
      "metadata": {
        "id": "Xfq7vujJ3wW9"
      },
      "source": [
        "import tensorflow as tf\n",
        "import numpy as np\n",
        "import pandas as pd\n",
        "from sklearn.datasets import load_iris"
      ],
      "execution_count": 243,
      "outputs": []
    },
    {
      "cell_type": "code",
      "metadata": {
        "colab": {
          "base_uri": "https://localhost:8080/"
        },
        "id": "shR31aZs39DJ",
        "outputId": "2159e58e-0416-4e41-9b35-61184e784c0c"
      },
      "source": [
        "df = load_iris()\n",
        "df.keys()"
      ],
      "execution_count": 244,
      "outputs": [
        {
          "output_type": "execute_result",
          "data": {
            "text/plain": [
              "dict_keys(['data', 'target', 'target_names', 'DESCR', 'feature_names', 'filename'])"
            ]
          },
          "metadata": {
            "tags": []
          },
          "execution_count": 244
        }
      ]
    },
    {
      "cell_type": "code",
      "metadata": {
        "colab": {
          "base_uri": "https://localhost:8080/"
        },
        "id": "KdOQH2Tf3_oV",
        "outputId": "1004de57-a690-455e-c882-e6f931ac4ab9"
      },
      "source": [
        "x_data = np.array(df.data, dtype = np.float32)\n",
        "y_data = np.array(df.target, dtype = np.int32)\n",
        "\n",
        "nb_features = x_data.shape[1]\n",
        "nb_classes = len(set(y_data))\n",
        "print(x_data.shape,y_data.shape,nb_features,nb_classes)\n",
        "y_ont_hot = tf.one_hot(indices = list(y_data), depth = nb_classes)"
      ],
      "execution_count": 245,
      "outputs": [
        {
          "output_type": "stream",
          "text": [
            "(150, 4) (150,) 4 3\n"
          ],
          "name": "stdout"
        }
      ]
    },
    {
      "cell_type": "code",
      "metadata": {
        "colab": {
          "base_uri": "https://localhost:8080/"
        },
        "id": "Tr2CeGdJ4Yjx",
        "outputId": "02495207-3511-461d-cc16-159bcb481fbb"
      },
      "source": [
        "tf.random.set_seed(2021)\n",
        "W = tf.Variable(tf.random.normal(shape = [nb_features, nb_classes]))\n",
        "b = tf.Variable(tf.random.normal(shape = [nb_classes]))\n",
        "print(W.numpy())\n",
        "print(b.numpy())"
      ],
      "execution_count": 248,
      "outputs": [
        {
          "output_type": "stream",
          "text": [
            "[[ 1.0473857  -0.12665796  0.5701126 ]\n",
            " [-1.2995517   0.68507546 -0.6931981 ]\n",
            " [-0.14386335  0.86525923  1.4287399 ]\n",
            " [-0.8128876  -0.05127564 -0.14279948]]\n",
            "[-0.5503563  1.0144334 -0.9311876]\n"
          ],
          "name": "stdout"
        }
      ]
    },
    {
      "cell_type": "markdown",
      "metadata": {
        "id": "0liowOZY_CSD"
      },
      "source": [
        "![image.png](data:image/png;base64,iVBORw0KGgoAAAANSUhEUgAAA4cAAADFCAYAAADnlYdsAAAgAElEQVR4AeydCVwU5RvHx9IsMy0ryS4rLcssLe2vlYX3rZhmeOJ9m7eomWcp5YWmeSPmEV54K6YiniAKIooiXij3JTcssCy//2cGdmd22dmdPdmFx88Hd3b2nfd93u/zXr9533mHAf0jAkSACBABIkAEiAARIAJEgAgQgQpPgKnwBAgAESACRIAIEAEiQASIABEgAkSACIDEIRUCIkAEiAARIAJEgAgQASJABIgAESBxSGWACBABIkAEiAARIAJEgAgQASJABEDikAoBESACRIAIEAEiQASIABEgAkSACJA4pDJABIgAESACRIAIEAEiQASIABEgAiBxSIWACBABIkAEiAARIAJEgAgQASJABEgcUhkgAkSACBABIkAEiAARIAJEgAgQAZYA7VZK5YAIEAEiQASIABEgAkSACBABIkAESBxSGSACRIAIEAEiQASIABEgAkSACBABmjmkMkAEiAARIAJEgAgQASJABIgAESACtKyUygARIAJEgAgQASJABIgAESACRIAIsATomUMqB0SACBABIkAEiAARIAJEgAgQASJA4pDKABEgAkSACBABIkAEiAARIAJEgAjQzCGVASJABIgAESACRIAIEAEiQASIABGgZaVUBogAESACRIAIEAEiQASIABEgAkSAJUDPHFI5IAJEgAgQASJABIgAESACRIAIEAESh1QGiAARIAJEgAgQASJABIgAESACRIBmDqkMEAEiQASIABEgAkSACBABIkAEiAAtK6UyQASIABEgAkSACBABIkAEiAARIAIsAXrmkMoBESACRIAIEAEiQASIABEgAkSACJA4pDKgm4A8aBnqMQwYZjS84+S6A5f7X7MQtKwVGJaHizfiDMqvKdcalJCEwLZkixxx3qOLmdZbhiA7K2J8/WiFZUFZEtiX4yDyICyrx7YV9eDiHWVARu27DBiQUfsMSn61T7+R1XoJ8O03jW/0wiqzAGXYP1Tgto9mDsuswNtSwuJigRpPoZ/EOQlDaT825VrtMRp/1pZsKcOG33iAqiv5+mEecaiIC8Ihb294e7iiFXdThhVbmn8d4OqxD97exxEUl6+ypcwPbL4jjYK3Sz0jb+6UOd2yM8Dm/Vp2aChlOyEgUob59pvEoe16sgzHCCLlRj8ra9psmX6NxKF+L9t4CEHBKDWI1BxU8t/rLQsCP0kjLhao8RS6X5yTMJT2Y2OvNc6/xYJCrMMz1hbtOTPtrDUaUePS4Mu+uPCTEkY/HwWyIk5imUsjLUKQr7OlRSL7Wx20cvWAb0SG/mQsHcLmO1JBXTJ45t/S8Gw4fpv3qw2zI9PMSCAfcUHHsW+ZC+oIxzp1XLBsn54bZSJlmG+/xfpKM5pPURlJwLj+28jE1C8TKTfqgbR9s6bNlunXzCgOLWMgj10AW9gwmO3Y0KVQSssE+TaXLQYtrzMufdsQhwLb7WKwZoqoMvZaASODy5dYh2esLcoyz36ygsYP3vuWwaWOhoBp5QoPybNagnptULkX2qLv2Lg0+IGDJcVhPuJ8FwhmCUtmBQ8FIU4hki9FHIIOac4udsBs3xiIXSISk3lP23pHqgiHR4c6NjZzaED9VtYPFWeNeqe1fRAvu5Kdr0rP0D7SuHon2S6tAQVpauUhhZmWMMb2T3HecDGnHWxcynKgNf+mnhSUR2PzbKoJ2q7PCoe3awc9N886wNU7HFoX94uUYb6NF+srtRnDnhNwMpd/jfWrDZQxnqOWumMwH812RlCnjWUk5kZ950XKjb7LACvabKF+jcShquBqFkj97i8OUdaNBJ++uuDTZr9YWHGxwFd6QxtPbelrnuPtMfwZPs24TP/O59UcDZzmoEycsemWq8fA50PMZ6bZoogLxDa9HTXLsBFcVl4SFzmc2dZoRI1Lg+eo6Uuet5QwfOjSR4oID3Tg2iB2BtAbEVkGyju1QVMfeETISidiljMChqo204R6otbJC+JWO28Ww/lIMnzhqryRUWc2fDMMZM3HZMYjQRuoj6uSjWrAIoW/eNktzoSgLdCXvpTflTZykVvJr2reEKQpxV6pYYwVSjYwcFfDo/eLoDwam2e9aRgYICsQy1qV3NRh2JtnvoJ2kr1J6QsPVX/UCC4et0oLRFWdUR/n8e23WF8pZquAk9QypC+cWt0RS1fLeRsoYzxHKW2SvjDqPrKc0DJzW6HmP0Hcaue1+M/UUxbq18wnDi2kXk3lZvnr+UZCvzizhDWGpC8WVjBA0OgQ+EpvaOMpJa+8PSQOpfCSFka/z8T9rTsFBbLCtwlmCtmO2ltjSWPppT91XLYhXFT0WKMRNS4NnqP4AFtKGHGmyfB1bVp8N7zVSgSJMhKPgftFMHiq4+oLyywwFTDUN8iR8rtahymIW+28nnwb9HMagpZ1Fcw8NMIw78dlO9PK2W9EGygy0DUIhyqwoC2Q4jd9YdT8Zw2/qjJigQMjfGMBK4qjtBZLW8ozm3NBva0zDB7hYq1bBsI9hpUsN+2KZUFp6p4QqTN8+23o+IbnVDbjPvXsmeebtcqYodZayi5BvPraNSm/l0nbJ6gfnI3m69fMJw4tpF4NLUbWD1/WjYQh6YuFFQwQrCkOhWVGrWJZ34uWT1GcsbnT1t/hGWmLQIQwrRbAV+dmKPmIC1yrEpJ1hnkjRutEjaCBtlgZMC4NnqOlxKFYfTS0RBjpT0OTsVh44/wj3RwFsoJWCpbulty5rjMe3jFlvaEPXwYk3yATGehK52GtkJb2q6XzYYRvLGaSlVjaWJ+siPHGMG62X8KgV/EY3sOKn9sudZNMpM7wbTyJQ8vN0JlaKaxU9k01U+16a9hs2X7NTOIwHzHe4wUPCTeFq2+yGiqLfBHMVkq7e2OJQRTfgUizwdwkDElfLKw4F+MbT335VCDDd7agzGi526cvCrv6XZyxubOh32fG2CJDhEef4pkXyYNqYeMl1iZYoxE1Lg2eI4lDc5dR9fiM8496HOLfFHGnMLtkWRo3ix13Ax4lm//ontUWj9N8v/BtMolD81E1T0xG+MY8CWuJxbJ1pDhBW+uTBXmWtAxcYL9meBKHWsqU5ikBb5Nu1EodX0gNZy67NPNrye+Wt9nS/Zp5xKFwRkE5/WrKMinJPuMbb2nCTGphlGyA2oPJ0mwwJG4pYQ1hIBZWnAs/QDb0zpoe27WUGfHZJT1xWfTnDET4HhJ5tUAjuCzbBW9dm4eobBNnrApipgP9PjPCFlXnWgcdPMKlL8cT3MApdTeXy6/lG1Fj74jyHC0lDu1pWalI4cyKgK/3PsEzP4LnSbhdBL3h7RtR+hkgtegsVQY0Zq8Fy5vVO9a1CNQ5C65mrJm/8G2yTYnDkk2PSu0Myfbv3IZThzSWk2vDYim/akvLEueM8I0lzODitAJLm+uTjeinVDOfGm22qv9Sf56Nb+MNHd/wZaNsxn2WKGjmKmMCv+kUmYJwGivW1HNnLrvUYxX9ZtN9Gmu1dfo1M4hDwZrXOuOx79RafoOFZYF6BgWi7pH4g6EV1NDwUsywRJxS0lWGMSR9sbCCSqoU96U+DW08lfZp+xQ8H6BWZiQsHdEWnUXOsc/ObYer6kF4waC3FBsGTB0XrAyM0yGaBIx1NoSmZ0bV4WnePVVFbYQtqofeNTpdVZxiB4IZR60dhTUafuPSUHFkxPMsJYwYGfY8vyENA2NmsRRxl7BS9QoMS25Io5ELVjxs0/UuRo360mo2vEVft2GcfzQsUv+aFYFTqi3vtW/2o8aOFbKn9IlY9STM841vk21DHKoPPLS/PkXpW5brdh3v2rSAX80DXWIsRvhGYsyGB7M0S1vsk3n+kgWYSgQqy6jmJ4lD8bJnrjImGF9o7fOVFgjC6RwTmcsuZboin7bep7FmW7FfM1EcCrdhVw7sBY0MY+nt1fnGQ1rHyoeX3NiIlCP+NB+n7o5Us5ES+26oCOPT158nsbCCSqpN+HDnDLWLJ6R+pK/M2MLyUqGNxcJP63uU2DtMaq9yUNYB9RwXfxMw1tkQarvWkHOCpTWiDbPhthgvgvQ17Pp+NyTvYmGNS0NKnqWEEbOq+LxGWeN242NfcO8n2JFPIwbuzqa3xvu+LN3WCmxQxMB3tnJbeVYgbNI6O6iIC8IhtfohVrcF/tHW/oiWY4FNykO2g/cWvF5Fn+jTGBDUcVkG7yBdN3mUCZnrk2+TpfVhAFQDYPWBrukWaZRFdoaw1KqIklfYeAhuDIg+fyzwqyE+ND0jZorBCN9opqy6qSbW3xtx3uwshX5X9mHCcZxYvdXMrLm/8/z1j21K0lbVDTGu6nWGb78NHd/wtpXNuE/A2ubKmL4bwkrbpY5DrNCO2HKfxuIqg37NBHEobFDqoNXsU/yW9WqgLTloESzLkjTg5iu05MZGWY5FP/k4y6aR4NPXnyexsOKV1PjGUxsw4W6XOsqMzl3JtMVr3nP8Q/ASZ3OybqmeYWIYsdkbccbmtV5KQ2qELaoOSHwWTXs+9HUUUuzVHrP0s4I0tIkPvefE88zXD/Ew+u1kB9wnsUw1Ayg2sNF+vo7LSpwSnZXTn7phIQQ3H6Te/BPWD62PG+jxj97BcPHSb/UlkOyS75PiAlst05rb4StvCHnjkMWFIt8ml7U45Ns9jbZZjZXyC8vMW7WyouyWjCvtscSnEb7RNEPVbmqvu0aNGfTWB00jdH235T7ZiH5KtaxUox9WiUYSh5LKnEllTNCe64xHqn+lxqernOv6zRb7NNbesu3XjBSHGYjwnl2y+5tIR6IhEEVfTqrLZ3p/k1q4SiJSPf9k4HNTOu3gOxD94kxnREb+aEj6YmHFOfKDX0PvrGlmR7hcSVqZKZuXegvEjOSNV9h6rHyHmljZEmesScq071IaUiNsUXWuddDKkOXiqjrHoOwGkAImeoWgtkGcuPDj64d4GGn+FPiEne3aLZj9KmVzB7hucivZCVZ9sCMtLVNC8TfkDHlGmF8+q42TwD86BxNCu4WbHQl9xr5e5aiOpY7CODSP2aXkR7U/P8lYavaEb5PLVhwK2j2tAl6TFftdOKjSGIxzwY3xq7Z0yuqcEb7RNFUlDrWVe83A1v5u632yoPyIPiIhZCYoj5rhVf2XenvJt9+Gjm/4slE24z5Bvm2ujAn8prM9F/R5Oid3pMYnYGLQoa30aazRttOvGS4O1V663EjPS66FSxP0PZ9gkDdLAgsKVwcPRGjdKl8Qr0gDIQhhxGFZNxKGpC8WVsBRo5Ia33gKUKqtk9ZTZhRxCFzpUrKLqSF3/wXpmXQozkJ3tDxb7YM8Y+PVnWrpXwWDPNE6YYwtgngli2bh6gLarbS0r4RnBD7R2aGWXGORtkxoj9gxX84NGhTptNfYzl9ZvlhBuE/r0laxXOg9r7Z0V7nUTu9VRgTgeWpvN7REqZOllvCSTvF2GORXnQNTgV9L3eBgwEgp55Jst1Qgnolk32iaopOPZmArfreTPpm/qSShDlbUV1nYXBkT1HuddVzQ52mMO9VrgtT41K+S/o2v5wa1fTrbYVNsto1+Tbo41Hg2g92AQ9oD/MK7U+wdXrYj95W43EefewWFS2chLIlHpzP1pSX2u5EFSyw6g8/z6UtaLlDSSatXAgFHjUpqkjjUsk5a96YtysxrlBm2rHkH8cuWlcEs8inOQndyvB+0z5AZG6/uVEv/KiUdKWFKxwzhbnY6Nxhhr1X3ofgskymNqBYbtZ4yLg2+7Ivf9ZcSRqtJpU4KfFJmbVkpo7ScENxldfWF2CupNS/kB3naWBrnH8007PM7325IFiC21I/pHJgK/GoNcahavSGcSTbPsfY2XUKJ08lHwvXmDmJ3fbJww8Nh8AgXa3GEExFaZrFF6gzfftPMofmKmqDe6+zL+LZPd/2SGp+xOaA+TRs5PeKQXWZzXGMbfyNnANXuVLENdvFrAEx7psPAQiPSQGgDI/0cX8DVBZf0GEwLyadvG+JQy4YFjLnKTPEMgWllRh9t4QzZbPhm6JuOLolPNTAxdVmpQCRoG1CZdE45MBekoXEzQDcd4fMpyhs93hpb2pdemqd7F04D67BuA0V+NS4NfuCg5FY6eilhSl+l7YzAJzo71JJrLdKWabNL85xg6ZYlnjmUkndNk+z6uyHtd8mSOJXvpQkfaf2SoN2z22WlhrCUxk7Zp0pjqKUg2oQ4tPM+WXhTstTkgubzwiIzjKo6Q8tKtZRSM5+S2t/y9VV3/ZIan7HZoD5NGzkRcag5CCxuSE3fyU2zIpc00EZvQGJgobFIQy21gGvDbyvnBANTDbHAD3713VmzlzKjnzm/MYPEDWmEz9eKLrkUZ6xukaBMmyQEtQ1+lCJHqi3qlim/KeICsc1VuVultnSU56QsCxbk12LCwLg0+LKv5KYkwH9KCVMcmm8nlANOq31q1GneeiOPhOWdu/Fjxt1KLVYGjMyrxS8zpFxYUhwCfLsn8ky4Ggv19l77nX/j6p1aMmX6hfeN7sGrDiMtMubQkZ7aT+o+UrY3tjeOUzNa+xe1x5mU/YvmZweI7m1B4lA7V4ucFdR7Rte4UWr9EsRnqf6B+rRSJUFEHLLhlA0LO1ujOTtQKh6DT6i2Oa+na6mAIFpV5dZsEMz43aiCxxdwZeNrjk+jOyMBMumH4mKBH/zqquTKlGyszCjNMvhTuea7pGxxL33W8moB7rmkTaod+9gl0+Kb6IgzNtg87gJBfAaXW8G1RguHkrvRaq8qEPI6LnFTECs0/DAuDb7skzgsVUbVng2W0AbrXIZsnH9K2UQnTCQgpd3TMgslOtNo737l+3aj++MyFYdscSgvfTKbl+KVbOq7EjNguP5ZT3+jGj+af+bQHOM9ZRxGlbMyL2Olmx2+79Q1bpRav6zUjlCfpuZIHeJQLZyEL7yjJT87ISFWVRBV5ZYwEDF2xsXgQTZrnSDfxqar5TqjGgkVLDownYD6M3PKxlv0s44LdD9PaQ5BJsyVID6Dy63gWqPFodAWU46t0fAblwbfwZlDHJrCyHav5W7yee/TvsMn+6zwPm8JG8UY6h/LtLmidVvYPpd5fbF0WTCk3WMfF/DWsX+AoX61dN4MjV9ZzsQeFZAQn2rgbuZxi8FtvgRby3MQ1fixPItD2yljfN9pR+KwpPyXTZ/GJq5sb8zsR2H/JXaspV+zH3FYnhsuypvtEmAf4D+k+cJxZeVlB0eb4F3qRdHasmNuQSaIz+CBguBaLY2CNustd84aA0jj0uA7OBKHlvO/MTHbVidqTA6Mu4bPt8VvHupq97iZmkMazxpry5Fx9U5bTGVyTkRQGGQLiUODcFkssIgv+TZel4ixmFXmidgGy5g0rlLbMztvRyR7mech6UalmNAz5ryWcSCJQ8mOs5+AfMVUihhzfNpx42k215kiqky5VlsGBPGRONQGSHDOuM6Fr0fWE4fFdy29NTYB06y/Ja9u8NazlEpAgA5ZAoLOV0tnaPuMePstLg7NAsO4emeWpM0RiYigMEfU6nHwfrXIqiv1xCrmNxFf8m18eR/fWLeMSePK26S7PbPzdsTiNY7naM72g8ShxR1n/QT4iqk5qDTle3lvPKX4SSDIDB5cmnKtNtsE8ZE41AZIcM64zoWvR5YWh+xzXCexzKURjLljWMdlJU5FiG3xLsBgiUNz37U2uCwbkinLdKKGWGBaWN5+3YMp01Ix39XG1TvzpW9iTKodqMXrv4kplFzO+9Wcgzvz2GaLsQj6Pqn9MIlDeLvUK+5fpDIzwfV836lr3MiXe93tmZXbEbvq01gn8RzN2X6QODShAlSES6VV8opAgs2jEZ2SCo0p16oiERwI4jN4QC241godhcBoLYfWaPgFaRiz5IIRHxzy9UM8jJZMC04J38/F3rwpfsWPt7eWDZCUV6m9oF15w0fHTn3K6yzxaVcdqWU6UUtg1R4nb7/uwZT2qw06KzKYNigOIzeCMiwNC4ZWlW1j67ZU23i/mnNwJzV1+wtnRP8lUp759luXiLE/QqUttlQZM7VvVfZfWj7rKF8lJkjD4LFOaRJ6z6jqvRabjBk/WNxmy/iWxKHeklKxA1ScxlOKn43olFTRmnKtKhLBgSA+gxsfwbUkDiXM1okPDvn6IR5G4DSNQwWyglaiFdfh6NvcQ+PSkq/qrxXpimVBadoDWuqsqiM1Jv9Ko6zV+VumE1XmwvKfvP0kDi1PWxHhgQ5c3dTyUnWzJs/7lcShFLDm67/49pvEoRTypcMI2m5jhJPOa5Q+EaRh8FintMV6z9hVn8bmxjLtB4lDvSWlYgeoOI2nFD9rdkrFW2t7e3uj1J/yFQ8q8aV5rZT0dIURxGdwgym4VmWfrrSk/aZ6Xk4bD+U5JRfV+4+s3PBLy4rkUHz9MEYcJcPXtWmxOBV9HYAEUwQvidb+vjkJcRgbxK46Ust0osaiM/w63n77EIeG59CWruDrtnKQainreL+SOJTC2DL9l5SU7TeMPZcxK48R7KpPY0ukZXxL4tB+a7tVLLdeB2mV7IgkokCG72zU0XkXy8glBh08EKFgkzV3hyaIz2LiUJCG2dkoB1xWbvhFSoCxp/n6YYQ4VC11MmGrfM5wGSI8+hSLTIPLgrE5L7nOrjpSy3SiJhI04HLefhKHBmAzKqigT1AtbzMqIgkX8X4lcSgBl9n7Uilp2nsYey5jVh4j2FWfxpZLy/hWizgUJGT2AaGeAXapWQxbskXDCWXOxjqNFT/4VQ7mtaVra37SZqPuc/wSIj1llFHuFKlltlA5O+btjUNBceA0oSpZgdAqVc5VgQw4EMRnsCAQXKvTFkGjrLe8S+Pi7RuBLLVcCtIwOB9qEZXJF75+kDhcFqTuWekOsVYZELRTOsu9dMuNCymwQ2+90tceGfi71HyrblyovxfOuPxa8ipbYkm2cBtqSS1jRhcLqf2X0QloXEh+tY5fNbCrvlqrfyhJkMQhB4LEoVjnrLWBs6VGQlVzLHrAD37Ltzi0KEQucnN3aIL4DBZVgmu1lnPL0+BTsHLDzydsliO+fhghDiFYVqqaYTbCLFpWKhGaoP0u03IvsEOs/7HUean5JnGo/1nkUixtya+2ZIvE6ik5mLX7L1tiaUu2SHaYiQGtPEYgccj5S4s4NNGPdHm5IsAPfnWJw3KVZQtlxtwdmiA+EocW8pn+aPn6YYw4NH1DGmSFw9u1Q8lAljak0e0xwcCq1MBe95UV7le7EYcVzjOUYVpWWsHKAIlD3Q63TL9G4lA39Qr/Kz/4JXFoWmEQiDmzDEwF8ZE4NM01JlzN1w9jxCGbsOarLJTLc/W/ysLbw7Vkp1N2aWEjuHjc0liya0LGpF5qV3dZLdOJSkVlV+FIHNqVuyqWsYK+zyx9acWiZ3+5JXGo22eW6ddIHOqmXuF/5Qe/JA5NKwzm7tAE8ZE4NM01JlzN1w9jxSGbOLvrrTeWuTTSv5RNy3LDOi4rcSoiw4RcmHCpShwa+Oyblnxwz7UYXJYNsd0ynaghFthNWJU4NJNfWX9b1Ld2Q5YMNZmAoO8Ta0eMOk9jHJNdY5EIykocmqnts3i7Z5l+jcShRQpz+YmUH/xSw2maVwUdmlnudgriM7jxEVxrFltMIWPlht8UU7Vcy9cPU8QhH7HqdSBqs4KanZRydvE4guLy+YvL4ojEYVlQt3yaJA4tz5hSMJKAoP8ySgRqtqfK7zTGMdIhFr7MymMEu+rTWPQkDi1cACl6bQT4wS81nNr4SD8n6NDKXJDZki1WbvilO0xSSL5+mEccSkqUAhlJwDKdqJHG0GVEgAgQASKgl4B9jxH0Zs/kAJbp12jm0GTHUAREgAgQASJABIgAESACRIAIEAH7J0Di0P59SDkgAkSACBABIkAEiAARIAJEgAiYTIDEockIKQIiQASIABEgAkSACBABIkAEiID9EyBxaP8+pBwQASJABIgAESACRIAIEAEiQARMJkDi0GSEFAERIAJEgAgQASJABIgAESACRMD+CZA4tH8fUg6IABEgAkSACBABIkAEiAARIAImEyBxaDJCioAIEAEiQASIABEgAkSACBABImD/BEgc2r8PKQdEgAgQASJABIgAESACRIAIEAGTCZA4NBkhRUAEiAARIAJEgAgQASJABIgAEbB/AiQO7d+HlAMiQASIABEgAkSACBABIkAEiIDJBEgcmoyQIiACRIAIEAEiQASIABEgAkSACNg/ARKH9u9DygERIAJEgAgQASJABIgAESACRMBkAiQOTUZIERABIkAEiAARIAJEgAgQASJABOyfAIlD+/ch5YAIEAEiQASIABEgAkSACBABImAyARKHJiOkCIgAESACRIAIEAEiQASIABEgAvZPgMSh/fuQckAEiAARIAJEgAgQASJABIgAETCZAIlDkxFSBESACBABIkAEiAARIAJEgAgQAfsnQOLQ/n1IOSACRIAIEAEiQASIABEgAkSACJhMgMShyQgpAiJABIgAESACRIAIEAEiQASIgP0TIHFo/z6kHBABIkAEiAARIAJEgAgQASJABEwmQOLQZIQUAREgAkSACBABIkAEiAARIAJEwP4JkDi0fx9SDogAESACRIAIEAEiQASIABEgAiYTIHFoMkKKgAgQASJABIgAESACRIAIEAEiYP8ESBzavw8pB0SACBABIkAEiAARIAJEgAgQAZMJkDg0GSFFQASIABEgAkSACBABIkAEiAARsH8CJA7t34eUAyJABIgAESACRIAIEAEiQASIgMkESByajJAiIAJEgAgQASJABIgAESACRIAI2D8BEof270PKAREgAkSACBABIkAEiAARIAJEwGQCJA5NRkgREAEiQASIABEgAkSACBABIkAE7J8AiUP79yHlgAgQASJABIgAESACRIAIEAEiYDIBEocmI6QIiAARIAJEgAgQASJABIgAESAC9k+AxKH9+5ByQASIABEgAkSACBABIkAEiAARMJkAiUOTEVIERIAIEAEiQASIACnYqmoAACAASURBVBEgAkSACBAB+ydA4tD+fUg5IAJEgAgQASJABIgAESACRIAImEyAxKHJCCkCIkAEiAARIAJEgAgQASJABIiA/RMgcWj/PqQcEAEiQASIABEgAkSACBABIkAETCZA4tBkhBQBESACRIAIEAEiQASIABEgAkTA/gmQOLR/H1IOiAARIAJEgAgQASJABIgAESACJhMgcWgyQoqACBABIkAEiAARIAJEgAgQASJg/wRIHNq/DykHRIAIEAEiQASIABEgAkSACBABkwmQODQZIUVABIgAESACRKB8EyjKz4IsKw0pKUmIj4lBfEISErIKkF9YVL4zTrkjAkSACFQwAiQOK5jDKbtEgAgQASJABAwlIAtci6PrJsLJyREfvfgC6jdyRGP3EATFZBkaFYUnAkSACBABGyZA4tCGnUOmEQEiQASIABGwBQKF8Tdw/8JWeK/sj/qv1UO9Zs7ovfcJbifl2YJ5ZAMRIAJEgAiYiQCJQzOBpGiIABEgAkSACJRnAvLYS5D5TUS9t1rgg2/GYbJfGh6kyctzlilvRIAIEIEKR4DEYYVzOWWYCBABIkAEiIDhBJJD9yLEvTHefb0LmnZcDK94IDHf8HjoCiJABIgAEbBdAiQObdc3ZBkRIAJEgAgQARshkIGYyxvhO7UO3vpoBL4ZuAW+mUBaoY2YR2YQASJABIiAWQiQODQLRoqECBABIkAEiEB5JvAY931+h5cTgze+WYg2030QDiCnPGeZ8kYEiAARqIAESBxWQKdTlokAESACRMDMBPLDEXvnMP4a1Rcjv3dEn+/aY8ZBX6z8cxk8J47CjF9/xpA+g9G5UU+sOZ+Cc5EFZjbAwtFl+OLi6kn4uSqDZhO9MMYrCNmIwrUtv2O/6xCMGtwZg1Z6Y+zhWAsbQtETASJABIiAJQmQOLQkXYqbCBABIkAEKgSB3McHcfvcKkybPgNj2zTFkP99hDa/bsKsJeuwbeUabN2xCgvGumDwpx9j4JZb2BCQArtakRm1B8cXj0IX5nm0W3AUM3ZfRlzYARxcNRvuE/vD+ft6aD15Lbqsvw32MUS7yluFKKGUSSJABIiANAIkDqVxolBEgAgQASJABEQJxB2bBN9/RsLJKwDLxjtiddcaYBqPxqi//XDkMfui+Hjc3juLW5ZZfeReuPxzEzIAdvMK+cDl+Me1HxwYBwxcdwG/7ziOADdnLF4xB+NmjYdzXQaf9ZiFz2aeRRoAesGFaFGhH4gAESACNk2AxKFNu4eMIwJEgAgQgVIEUu4iPTUJkZlAoY2oqydntyDoyCrsCDgPt87fYdI7dfDZ3NPYejka6fmskWG4tnUi1n7F4PNFZzDr+CMoSmXMdk/E7f0RS4c3RmWmMpp3Go0+U92x5NhlBN+9gLDrR7Hhl1+wds8leFx5ys0a2ohbbBcoWUYEiAARsFECJA5t1DFkFhEgAkSACJQQKCqCIj8H2U+jkRJzG8GHN+L8pUs49iAfeTaiDhNCz+KB/wFcDTmCBW1aY8DrDdBhSzgO304FWBkouwC/1ePxS73q6PL3NSy/kGAn7mUXiOYjbHVzzO1XD0yNV9G0aUd06jcDo7ZfQXBkOGJibuHs/iO4EPIYV2Ps7FlKO/ECmUkEiAARsBYBEofWIk3pEAEiQASIgFEEihRyyOLDEXb6b/isHwxHBwYd+o6Bk1c8UnNtaP4tOxYIcceUNt3Rok5nTPJLw8WYPKCoEIj0xI7pY+HINMai/xJx7IG9iKgsbknsEZdqGNPlHTDNO+K7TxqhTdN2aO7khq0XohCUYpRb6SIiQASIABGwQQIkDm3QKWQSESACRKDCE5A9BcL34o9fXNGtxyAMn+yKkUPaYXSvt1CrKoPPnWxPHBY8vYeEo8PQ++uf8N67Y+DxpAB3MhUoUhQg4cgALJwwELXeH4SdN27i+K37OHfuIdKz8yG3ZWcXxgD51+D2wfPo37IN3p+8Hd7Hd+LApnmY064BOv2yA4P/uYH87GjEp2fgcbq9iF5bhk62EQEiQATKjgCJw7JjTykTASJABIiAGIGcJODGJkwbPgiNGrdGF5fx+NGpCQa0Y8AwDOp3szVxqEBuQigiPNqg/deD8EbDufDJBJ7kF6BInoHQP7/C5JF98fx3c+ETegJHr1zEhn9vICFdBpuWU3n3gAwfjK9WE72/7YuvVwXjYdot3Du/hnt+suGQFWi++Awyo84j9Ek0/GPYbXboHxEgAkSACNgrARKH9uo5spsIEAEiUMEIPPadigA3WxWHmUi97wOf0Qy++eFnvDt4PyIBZCIa8rxAuDkwGNR9CBq7BeDWLmfs2vkbOnqGIzLNxvf1jPfnlsq2eKEpOveYyy2VTcoNxr3DS+HGMGg/YQt++Os4wj2dsObYSczzz6hgpZKySwSIABEoXwRIHJYvf1JuiAARIALlloBti8NoJITug+e3NdBzzB/osDIQ7NN6BchAYcETHBjwEcb164H3fpqNP+fOx9pte7HpdhpS82z7jYAFD32Qc3oq3v7YGd0mbsC2B/nIKIhHQtBeHHX+CO36Dcf/Bv+CP2ctxj/nbsAnkX3LIf0jAkSACBABeyVA4tBePUd2EwEiQAQqGAHbFocPEHd9D9Z99iHGzN+GsYcflXhHDoU8E1dXdsWccT3wYdteGPGzJ1bvCMBNGSCz8Xc+yCKOIP3YWNTpNBP9lh7ExXQgV5GPjMiLuLmuK5ycu+KLroMxdOx+HLoWhYf2XCaLigD2T9I/NpzUsJIipEB6CBjmHkN8qSdh+pkIVDACJA4rmMMpu0SACBABeyVg2+LQXqmS3UoCBbm5kKWlgX1qUu8mQflZKMrL5MLa9tyvMnf2/MnuSCxDdrYMGRnSlmHnZWZClpXF+ceG9jO2ZyeQ7RWIAInDCuRsyioRIAJEwJ4JkDi0Z+/Zru2Kgmyk3fGG35mL8NwfhmQA2frMTY9A2n1/7Fp9GP43ovCQ9uHRR8zI3zORk/IAd7w9cDLgJo7ffSopnrwn/ngYeBYbPa4iNCad86mkCykQESACIHFIhYAIEAEiQATsggCJQ7twk90ZKc9OQuTBwXBb/Be6TfiP20goVV8uEvwQ5bcFzg1GY81Of5xJ13cB/W4cgTik3DuDg4M7Yt7mg5hzLlpSNHmhW3Dpn2VwdFyP3VejES7pKgpEBIgAS4DEIZUDIkAEiAARsAsCJA7twk32ZWTSOSRc24LuLSdi+T/ncSapkHuSkH+aMA+pd44hdE0HOH7QGx06/o69CUBCngLy9CgkHh6NcdOW49P+e/AYAGlE87o/3mcaTq0bhZYTT+FISAJSFLxnip/5TMC948txZOTHqN3od/Ry9UGgDMgplCP90WUELv8W3edsQbsVQbQE2LyuodjKMQESh+XYuZQ1IkAEiEB5IkDisDx5s6zzwj6JlofEy+64+s9IdBy2CVtOhuFerqZdcqQ9OI87O4ZjaK85GD91By5nAGlyQJGXgtzbf+FP1yno2XksDjzJw90MegJRk6BR3xXZQN4j+M4fg40TxmLYpggERBY/Q8jHxwrFVESe+wdn5nZHx0H/YPb6QNwvAPKLAFnybUT7jMGIob/CafBGBCUDKdIeWeSToCMiUAEJkDisgE6nLBMBIkAE7JEAiUN79Jqt2sxuOZOGK391wz+j3+beOXkkXPti0qz4u4j0Ww+PXX7Y898dpKk2rGEfNAzBf3N7YPnXtTDaJw0n6OFD8zi8IAZIO4hFzQZh4pdT4RkOPM7UFrUMCbcvI8TLHZsP3MTp4DhuhpCbX5QncnEsa90Lo+v3hnsIcFvaI4vaEqJzRKDCECBxWGFcTRklAkSACNg3AcuKQ/bl7SE4MrAnFtarh3q2+Nd1MyatD8Ad7v2JEnwZcwnyoHW2mZd69fBZGyd087yDwCito34JGTQhSH4yEL0Xy34YgkEf/4Q1d/JxM1X7vpaKwgLIczOQkZmLrJx8sKGKFzey/+fh/uGZ+G/+l6gx6DAWHrmHJNXvJthXwS/NjfZH9N4++LbPYrQcux938oFMre4pQmG+DHlZacjIzkduXvGyYA5fUR6giMOFJe2walhDvLY6BF53SB1W8KJF2ZdAgMShBEgUhAgQASJABMqegGXFIbs/5V2cGtMNixvWRlWGwbMMA6bkr3LNt1H1rWZo7+SELk5OcDLTX/euXdGtSyd06dQWrR2/QcsWTfHlh+/hvdeq47UX+PQ5O+oOQefp27E/rgDZhcXyRKdXEq+i8PY2NHurKt6uUVmVF4Z5FgxTFbUbfoNPvu1ktrw4OfWAk1N3dOnSBZ07tEOntt+jZfMv8UWjD/Hhe7VR/dln8JyA6fNvfIr3hu3H3qA4JOl9d4TOnBr8oyIrGnnXl2By13Fo/ek0HEgEHgqXlBZkAzmJuH0jGMFXLsH/7H+4/iQND9n1pBr/ki4tw/WNXcH8bw2meFzD3QKleNQISF8lEshDavhxXF/yBVqMWoPWv51HIifD+cuLclMgT3uE4OAruHrBH/4+F/EwRY5koQ/BLvHNRphnH/wzqxmYCSew7ko02NtA9I8IEAFxAiQOxdnQL0SACBABImBDBCwrDoszGn92Ef5z6wAHhsHzAiFTvXF/ODh74aGiCOace2Dfx5bzNAFp8eG4efUUzh3ZDs+ZozGmVQO0eUdDHDIMPu4yEoMPpiEpR+s0ioa3nqKo8AG8nB3Qr3F1gTh8HgzjgI5/nMJvZ+M1rjHlawEUilykpaUhOSoC8eEB8DvoCU/3mZg5uiM+rlYVrwmYMswbYJjB+MXrOk5becSen3wH8V5O6NxnDt7qshUhgPrrDtIfApE+mD3GBUO6t0HHxnUx1PMaVl/LKg3owV6knHQFw4zGkLkn4JMGbnaxdEA6I41AEqIubYKXE4POC7dj8J57pS4riL6IzKC/MXiwE3q37IiODo5YfSEDZ5+UCooEv/k4+Vd/MI3dsfDwbdwqHYTOEAEiICBA4lAAgw6JABEgAkTAdglYQxzmp91FTJAXVveohWZvP6cSVM+++DqqvP4xJp+KwcEI8ykZRWEhFPICyPNzkJ2ZhvSniUiIvI/7oddww98XhzbMxoKhbdGnSS08U4lBtY+7wmHIEQQl5UD7E3JC/8mBolwkXVuN7dO7o0ctBlUrsYLzGTBMFbzy3iC07r8OZ+LNtVEHO5upgFwuR0FeLvJzMpGekoCEmEhE3r+FoMtHcXLPKmyY3QftP3oF9V9i+Tqg7a+7MdOXXYxpvX/ZsVcQ4v4q2rhMx7uDD4DVFMWLW9k8PEXk6b04M2UYlh30xh9uU7H026pwmr0H03ZHgJWHatvOxPsiPdAdTZiWGD15OzaGA1Imdq2XW3tLKQwRh/6E+6sMnBcdxlSfBD4DRflAfhgCd27G9nHTsf38TiwePRIjq7yPAZ53seFq6f1ic4JWI2DzWDAvToHrlkBc0PsSSz45OiICFZEAicOK6HXKMxEgAkTADglYQxwCuchOuAH/JS3Rv3ltvPmi+uzdd4v+g9uxu4jLUlhcABQV5iPl1lGc3jwbK8e0x2d1a+LNj1ujSgs3HHuQjkeSdl4sAjL94b91Jpa0fAe1qzzDLZktXi7bFB98MQ6/n47DraQ85EhYqWpasUlFeuw13Dq6EnMHfI8+zd/HOy9VQZNhq9F7423kqDZ6MS0V/VfLkf74HM7NYfDdkOl4d9xxbtli8YpEFkIM7hzZhT0uQ7A94BQ2rJ0Lty+ro/cvezFzbwQnItUWl6ZcQsaNDWjDfIhRY/+G29VCFEqZ2NVvaMUMURCAW/8uwByGwcAlJ/DrWcFtEIUMyL6M05s3Y/ngeTgfvh8rp46Hc5UPMWj7XWwKZrcLUv9XcHMTgj0ng2EG4OfV53HMuvch1I2hb0TADgiQOLQDJ5GJRIAIEAEiAFhHHLKTX9mALABHfu2EOV+qi0OG+R++dV4GtwAZMtj98q3yj90VMw2BS9thbo8WcGAaY8GxGBx9JD1xeWwAZAFu6PhKddQTLu2sUQ9MczesPPcANySJTelp6gyZeRNPLm6Gm6MDPmk2Hu929+SWdqbovMhcP6Yg+c5hbtniV4Pnou6cc9wOpMXZZ30ajojgIBxc74foa39h+8KJaMw0x6x9d7D7QX5pI9KvIPPOZjixYmbIXG7XUjmJw9KcpJ5JOoxLmyZxPIe5n8bSK4KlvIUyIN4PFy9cwUavIMT7jMascYPBODhjx90sBJeeOATu7MbNnbPAMI3Rb+FhrKd1pVI9QeEqKAEShxXU8ZRtImCzBHISgaQQ7F7vg+MnbuBeAZBnrTG4XijZkKVH4eqmv3H+Yih8nxTovYICmI/AQ5+pOP9rsVir33kUnLZHITVXbYGfeRIrkgOFKYg6uxIXVv6A+gyDV1SCqhZe++wnfD7GG/6JuYhTm0IyT/KlY2HzWICnd0/h4vaFWN6vGTqvOIc5PlFgS6CU6lGUm4TClFDsHNUUw792UC2XZapUB/Pq5+iyYDfmn3rMxWcVXSNPR05SGO78txzzB/6EYd0G4O/bBQgT2TG0NBNTzugSh2y8GchMTUXMg0Tc3dMfy6f3x8v1J2BTQDSupWmhU4HFYZFCjqSQbfC9cAarjt9DtlyhvuTWGDfpEodFhYAsEclJcbj/6BEuzK2HCUP6ombr1fBPkiFGW5MsQRwq0h6j4N5xeHgFwftsJLfjrLaojMkOXUME7I0AiUN78xjZSwTKMwF5DnJjQpESuAe/TtiCNZv8EJwH5BYVQJ6XhfTYKMRFRyEqSstfTCKiYtORV1QEeWE+kJeOuNgY7WGjohAdE4vYzAJk5SsHewXIz0pDZmwUYkqlEYuoqFRk5CQjNfEOTk4fjW1bD2GtbzQy84uQZwF9Up7dLClv7CAwPxMpSQkqH17cNhJ7xhaLw/da9UOHFf64dS8SUVGsf5KRIZMjT+lOSYnoDlQQcxoJF/9Al1erod4LVfjdS19vBuaLWfC8kYCg1HxuMCxFoOlOTcqveUi66Y3gtR3xzczdGOUZjHQFIE2fsoU0D3e39sPKYU3warVn8ewz/KxovT4L0GO5H2JzC5Ejt05uoMgC8oJxbG5fuDu3wbQT6bj8pPhVEVJoGB8mFcnhR7G3N4P/DdGcOVTGWizIg1Z8jXnjeqJKq5XwvhmF+1m5yJUXQSFEpBKHVTBwyHyMOZkGQ2cOFfk5kOc8RWJiIhIT4pEYH4vo6BQkpmSBvf+hlp7SxDL+VORnIz8zHoF7pmL9dk+M2ByMtPxCieVRh/HJR3F58xT0ZhgM15w5VF5WlIHCvCf490cGI/r/hHeGHMOdpHSk5OWBbdKF7uFnDr9E/0VHsDFMGQn/WZh0G3nBmzFzrhd+33gegSk5SDeH0OWToCMiYDcESBzajavIUCJQzgkUKYBILxxeNA3ODs3x28l4HL2vvHcbivsX1mCmA4MPqvIDWuVrBrjP6t+BcZgJv9x8PIoNAPxmov5br/AzJKqZn+Lrn6lRGw5uIVgfqHwAJQSB66bAzYHBS4JBc3Eab3I7ES7wCsWFp5mcnZvHjEC/uq245YUXoqUNz8u5B82bvaw4IMANfds3FvUh7/+3wTBOWPLfA/iacytRduMRWToivZwxrfvH3A6mfJoMXuu+GYPcr4Ld71NZUs0LQUtshfHcklePkb9gyyIPbmfMVIOKXxQiL6zjdjCt+7Lw9RYvo8bbX8P5YDzOPlZ7H4AWI8x7Kv/uYTw69TecJvngwOUoaFsZaOYUkf7QF36TGHw3TkwcspughGD99zUxvmdXNHYLwLnjnrjpfxgHw2VIzBbcheDE4VY4MY0xZMQaTPIzXBw+Dd6Fh7sGw9HREY7NGsGxgQOqPPsDHH9ci4PxQLrVCph00inXNuPO9n5waO6GiesuIECmsVGP9KjUQ+b5I2TnfExiGIwVE4e5oShI2IvBDAPnnuPh5BUJf6+dCLpwEQFpQI7whh03c/grGKYjhi87hX+17GhabLkM19f1hPusAdzOxIfvJiNO3TL6RgQqBAEShxXCzZRJImDrBHJQpEhC4NLOWDZ9LNr3Xw6/+5l4pFrClYy0mBBc3OiOrb/2wyyXFiWC4RNUfaETxru7Y97avXDfeBHRcgXSs+OB6Ivw3LwGv7sOwfjvGbxZkwFTozaYtuPhMuM3rPp7IzZeTcLNBOVAOAnxoedxdaM7Fg78HD1afgzmpS/QcfgMjJ63Fu7uZxBwNxkxsnwg4y6u7/wDuyf/hE4j/oX7/psIz7XNu/u27nlR+9j3zMVdxQnvnXB3d9fztxnu7kdw9XE6otjH88z4r6hQhoy7O+A1rxfGfPESKnG7fRbfYHjhAyd87bIM664/RUK2QQrNeAsVOYA8DmGnLyPsShgi82DgbGkmMh754e6OMej5yauor3qXYlU8V+N9fNR/HZYfvYMbgj1AjDdW2pWK1IfIeHIDR85F4kFsJiz/6GMhMqMCcGXhm2g1aDbeHX4YUQC3C6nK4szbQIwX+tarj97dB2DIvgDs/H0Fjm3YjpMxciQL17onsLuVrkQTpikGjt+ExUF5Bm9II4u/ifRbB7F91WRM79Majq9UQ5U3f0aHsbtxPhvIEmhRlY1ldcA+9/c0EP8t+wVu3bqi//Kr2HYxhltirTZjZ6x9hddx+9BiLHyTgbPbYbieEuxWWhKn7MkxJF+eg4ZMI/QeMAMLfC/B3XU7du+8yD07KxMYkhO0tni30pf6YcK68ziqvB+oZh97gRxJoZtxattM9G/fGbN2nsOW61oDq11JX4hAeSNA4rC8eZTyQwRshUBREYoUhSgsVEChKFJf5qNpY1EKFPIIeHSohIljh+HrVTeQmisy2A7fijteI0rEYSdUrzkffgAiNePkvuch+dY+boag8VsMmDcagJnpB68b7CuVxf/d2/YDlo/rhEp1+mHB4VCcfCLYEKHkspzbuxB7aAzqvDEKoxYdxvHUIlhrNZ645fSL+QmwUxCRuPHvDOzuV4dbillJNQv9Gt5p3g8/7XqIiOQ83WXc/IYZH2NWJBC5G7O+fx9talWCKj+Va4Bx+AkjV53B3kg9ddb41G3iyuzYEISsaoI2vV3x9g87EQ6ovxokwR8I+QOf1PwKbbqOwZLL/ljhMh9bXDfgXBqgNlv75BhS/RbCoVIL9J+yDRuMeZVFQS6Qm4q0kPXwmPQDHBkGzzX6DV3nnMQNsHvo2tC/gnQUPfTA6v5D0aVaa6y6AQSY83WZuI17p5ZiVROGexZ25MHHpTKfEboVj/f2RSWmB3oO/xW7gg9gZK9/sGLlJc6XwhsMTy//jrNr+4F5YwymbfWHr86p6Tt44LcCq76uhK6/bMWwf+/aT70uRYlOEAHjCJA4NI4bXUUEiIBOAml44rcWPqMd4PCSE1p0WcEtjXoqsjQqI3gzonf2BOMwCf0WHIGfDCgQ3PlVSyp8D+54TSkRh01QrUZ/eMUDYaX1G3dZ6r3DCHBj0OR9Bkyt+mCcD2L95WhuwwG1eLkv7Auw4nFoSCOscR2FSX4yRGWK3bJPgTz3Njw7Mhg4eDAcZvohWSa33vLC0sbTGUsSkD/hlnPO/uIZtH1TuLS5FhimOSZvD4OWd3Vb0iKT484LXYULa/qiMcOghkrwMmA+cEb1tuu43UPNOuY32WLzRaBIfwiZ3yQ4fTcOb7w3Bz4y4IlwKaI8AZCFYH23+hjZshHqNnfC0H/8sf5a6Vms9OB1uPPvAG7X1wmb/REi03jmTarZ7NL6ADesGd+JW8LsMOcExh+9L/VqK4VLRWbsZW6n1x+GTcX7My6AnawXuZVnpE15SArZyd3U+2SsO75ZeoVLQ+geZISi4MleDK7rgHaff4MGjoPhfjkFZ7VsEvZgtzMOzv8SDs4HsfHcE+61JboMK0wO5cpG10Y98dUXk+DJ3kuhdyPqQka/lTMCJA7LmUMpO0TAJgjk3UHovwvwV/PqePXNEfhukCfOZgLpar07a2khII/F3f1zcHJSI9TusRlTPa/iIbtZpFhG7u1HxN7pqM0weJ7RIw4L4/DkyhZs7c3go9cYMK/UA9N7H9ZfitIqDhWZ9yF/cgjTBg3DnIV/4d+HcjwVLh9TsykHhfmxuDSzEcYO7Ifqrf7Apbg8PLGpW/xqBtMXUwgo0gD5Exyd2QqT2tRDHYYp2aCmGhjmXbQcvwOTd4QhVg4Il7SZkqSlr5XHncPdE0sx4/s6+KBWVf7ZzlqN8fzHP+HPK7G4GJNp5oG/pXMlLf6i3DjII9ZiRrc+aPvRD1j3UI5bGYIbQexmOfJYBHj+if3rVsJtzTbsDXqMgGjhXSj2DlYeok7+gotLW6DOwN1YdPAOnsiNF4fpx0dhydD/oTrDoMWqAPx23rbkeeHTEMRf3YHJDWtj4MTl+GnbI658CMhJc4DOUHJk3v8PEWubo3nXhWg58gDXJ2QLbxjK4lCYdhN73BZhs/vfWLZhDy4+zsGDNGHPwb52JBEBS3ti84j/4asFgdgXkqy+fFiLHUXZkZA/3AzXdq3Rq7kThhx8gisxOeJ9kpY46BQRsGcCJA7t2XtkOxGwVQJp/8Fv6TiMZhi89MlctJ16lJuFKHXztSiPm405vfgnLP6iMhq7h2DVxVjduXp4EA+9Z3GzHbX0icO8K7h15HdMcmDw1nMMmJc/AOPkhfUXnmgVh/Kos9wd48/6/4MhK/z1bjRSJM9D2sHBmN23N7fZwbpbObhsnRe16WZEv1qMgOzKH9gxuRuas8v+hLNtn45D4xE7uE05ngrHpxazxBwR5yE98jIC3Jrj6wYv8+KQFb7PV0dztwBsvBTNzdqYIzWbikORDsj8sN3lO7h+9h63SuBijKGOY8On4ea2/jgwtiaau4Vgs3+C8byKChHp6YiZfT7gfOHidQ9bQ3NsClv+3X24t/cXNGYaY8ycfVgbahnzCpNuQuY3Ex0/mYLvv1nNrSZJNtQ9yOQ2j44O+AAAIABJREFUFTowpjMWt/+W22zpnKS7d+y60xDsGdwEMxwbcqtCvG8mWeFZWMuwpFiJgKEESBwaSozCEwEioJdA3uXZWDOlHV5gGFQauAM9NoaCFYaafXtRXjryLs3DXOc2+OD5OpgfKMfpKD33oFP8EHVuKboxDN5l3sULL32P1aFAYOnVXojwcsGWyV+hrsPrqPpcFTAvvQ+m1Tas8X2E6FK5uIUbe//GhrZdsPZSHE5GFUCPJUCRHEWJB3HAdQBcmOfQc/MdrL1i5u0yS9lJJ8qSQFFBDmL8t+HCb1+ids3neEFV+QW88F5zfDTnMo7fToGWV6WXpdkiaRehqDAVBTkXsGtcC/zcULBcttIzqFL9I7QetxpzLuchX7PyisRoP6eLgKJ8RB+fg9Mrf0C1Sb5YdSEaGYZkQJ4BJHpj/bhpGNRoIDzC5biRojDyGbUsFBXGYf9Pz2Hg5/XBMJ2w5koqLiYIp8sMMc7cYdnWMA93dg3D7kmfo/Lr8zF76zUEmXc9KW+0IgNF+Xewd+z/sMzFEZN80xGaJPJcAn+V2pEiIxJ5QSswYfAiODmvhW+GAnGizysIL2WZy3Fn+wBsnfwdnqk7F78dCsM14YOMwuB0TATKGQESh+XMoZQdImALBBIPDcSSEU25gfP7s05g3MFI7lk8zWFOYU4y4vb9iPFd2uGVyt9g8yPgqj5tlXoB0edXohfD4D2mFp6v3gjLg4AA4Z7j8kwgNxIHZg3B4v6t0an9p6j1SjUwz9cF8/E6LD9+H/c0QOVG/oOT21Zgwo8z4PMgA7fZm856/xUCOf446zYCcxwYfPmrH349GsltHqGZV71RUQC7IZD5+AIen5wOpy9ex8ev8wLx2ZffRc2Oi7DkYAj8o21rxkccLvvE2GMEbZkAz+FN8d7zDKo/y4rESmCYmqjfZjQ6LvJFRFohUsrh4DjjthfCjs/Dd0MX4M+DV3AhQaoKlqMgKwax/y3EillLMGTgagQkAzHGul2RCEX+baz5kkGPeo3BvDIK/97NxA1J7ZC4d833C3u7Iw6X/uiJv3rWA9N8M34/EC6yEZg5UmULWzJCNg3DvnkDMHTBefiGJUP67GEGMqOuIXTdZMyYvRXj3M6CfTOS6CPkWkyOPTEF3gs6g6n5I6Zu9cdx3fuYaYmBThEB+yRA4tA+/UZWEwGbJnDjr2aY2estThz23xaKDddLLSjl7M/LiEaAmwN++qYznq08lVs6xD5vqPNfqj9izq+BM8PgA/a5w+ovwy0AuBQjuCrnPhDvhTFfzcSY70fCc70TGnz4KhiGfR+eGxZ53UGwIDj7hFC8lxPWblzMvc8sOitf4sYyrASMRMi2yfB0ZPBCj60YsLb4vXf6sqGWPH2xMwLs/FIkDo/7HJO+qcnPHjJVwDAO+HbqNvx8tPTctE1nMuEcYvyWw5l9l6jq9RYMmOqNwDg4Y1t4Hq6VyyXTichK9IeXc10sWbMF085LfRdKFjJjb8BntCMWb9yBqWe0vjxPussL7kORdYZ7t9+3tduAaewO36c5KL1Pp/QozRuSLfMB2DeoJabVfxvMJD+suRxr/BJaqcbFncLdI5vgXHcSth4JRYDkGxTheHx1D9wdO8J9dwB2hEu+UGVZ/vVVOP/3QK5O9198BH9fV/1EB0SgXBMgcViu3UuZKzcEZE+B5FBc3LsUnkunYfjAgRg+dCCGDRuOgQPnYqnXFey/I9wooTjnucmPkRzqg3+XjMZvEwfDyWk4BvfvgUGDndF57G9YfjgEJ8K1Czc2hqwnZ3D12HosnTwc40YOx/DhJX9j5mP6fE9cigUSY68jO9wLY5s0QdcmTdCkSRM0eKsaatdkB8oMXnm3Ad5u8Dl3fuiGM3Bnb69z/1KRnXQV/3arjE7tB6By262IKAKS9U25FYYh6eYOzGMYfKFVHOYjKXgvri1ugSnrzmHFTh88PTsZ33zOilUt4jAvEsi4hPkthmPFop3Y+iAH2XJDtvHPR+SJuTj3M4Nqr01Dj/EH4J8H5OrLRwkF+rBHAuzsUj7S7+7E6b9G4cdXGdSqrJxtq4wXX++Cj76eB59Y4Il49bKtjMuzkJd0B7c2/ohBLd9HLeXzlM88D6byy3h31CFM9roN9ongsr7xIUt9iNhLS/HnzMEY0c8JTp2dMMbNC4uO3OeeCxPO/RWm3kPe3b1Y9utK/L3xMC4lA5lqGZBDUZCGtIgD8PHYgdUzPLnlg/oeP8y9fQIPznjC9e9jOBESicgsExcSx5xHYbA7GjAMXv/8RzDDT+B+Rj7EJiIL87K5tv3M1gXY+Msgrm3v99NPGD6wM7qMXYgpaw9hb2gmsvJEFsfnJiEvMQxnPVyxcOoYODkNxHAnJ4yauhBjPc7i/On9OHfOD3svxSIxqwAFeYlA7L/4rVNTdH3zPbTyiMDh8HSRJbTs8s9M3No+H/vmDcFAp87oMXw2hizcikuxmbh95RDCDi7B2IEDMapPLwx36oyernuwbH8I7mYCBUKTCzKRm3AXEQdW4a/tJ/HbnpulfKytIsWcXY+AA2vwh9dFhDx+ilTRjcW0XV18rijqKML2zEErpjI6TdqEoYe1PLsgfjn9QgTslgCJQ7t1HRleUQjI0x4i8c55BB/aiHUr5uK3+dPx84QJmDx+EMYO/Qkdvu6GQa474Lr9Lvf4fT73pJwcqQ+CcevsIRzauBx//DIOMyeNxZAhUzBx7GCMHd0P3fv2xcgFWzHPMwCRmQpkCp7FKMpPhyIzEhd3rsA/y+dhyqRJmDJlCqZMHItJI39Etw690K33RLhdScfNB8HIuX8QM9u2xcDWX6OtYxO8/UwlvFzlZTDVP0Ljlo74pm1btG3bFpO3X8CmIOW60Vhkxflh4+cM2rQbisp9vbnnAHW+gopzejiS73jBjWHQjGFQtXpNzPLLh29k8ZBQkXEfYT6bsXFEa/x5+h72BV4HAubg+ybvgmHqgGFmYe6OUFzmxnIKyOIvIP3WGgxu7Qb31b64mqXjNRoihS7Gzw2Bc6vjxarD0HnIDvyXBWQLBzgi1wlPF+WlQZF6HzdvXEdwcLD5/sJjcTsqgysVpFeFxM1wnH0DEf/9hRXt66FhzefxolJQMR/j5Td6Ys7RSPg9yoRwE0wzpGqxKBS5T5F1dQX+HNEKrd+vIZgRZcC0cEXnuftwNDIdmQXGPldnuumK7BjEh5/H0b9n4NcZQzHcpQc6N3oHbZ1/gdOcE4jJBzJV6lCGjHtn8HjPJPTtOAbjpm/E0XggVfPRtaICIP8Bbp70xdHle3AjH4hTxaHd5ty7fogKOAT3kw8QGpNp8jOmBRGHkHVqKl5hGNRu6YK3FgUhLrtAQ4izNViOrLh7iAm9wLXtf/8+HQtnjOLa9rGjRmLKhP5w6tcXAyYvwqQ1fgiJzUai8E6VogCK7Dg8CfJB0OFNcJ8/EZMn/gznIeMxZYgzxo0fhyGzFuKPBVPw2/I1mLQ9DPdSciHLiQMiNmJim8/RrM776LMvGqcear/zochLhjzlGnb8Pg1LxvXD6H5t8e33PfBdl5Fw23kC27dvxP4tSzBtwgRMHTkAU4Z0R+vukzB6wQ5svBiHlLxCNZ5FsqfIf3AE3j7+2HDkDvebvuY1/pIXQv32w+tGPOIzDZ815LyedBb3Di9BH4bBt6NWo+Ouh9oLA50lAuWMAInDcuZQyk75I5B+cR72zv0Bjg4OcHTdhWl7byKNHSI8vYrogA2Y5OiAjz8cjFcb/cXtCJrIPfGWhnOzW2NGd0c4ODhiwq4w7Aphryr+lx19HSFujdH602ao9fYPcAuRIVjwMIc84TJkIW5oV+MrOHWbg5kBMiTkFEGR+RiyEHdM6dwAzT6tB8YtANtuJimjBWQRQJoPxj9XBd++9h23NOp4TAYe8SEERxHIeHKQE3nffDsGlced5PKl/00Q6uKwSrUacPKKx56SFx3KApdj15rVaNzRE/6xGUhMvce9O+z7Ju+DYdgdGZ3w8/oLOJTEDrRkeOz7BwLcmqCjZyQ26X3gUWC+4DA+YANC3Bvjxee7o82Atdx7FzPUZicEgUUOC6Mvcbvz/dijPRwdHc33N2YLhrhfLf2eMBE76LRhBApTwiELcMOQT99BQ5U4ZMBUrcW99266VzACpa5UNCxpC4QurhMPTyzC6fnN1MUhK1qa/8DtYHo/VaY2eLeAIaJR5oVvgt8ONzRv7obtl6/jfPhp7p17Ld9pgZqvjeLep3pPpVkicXvfPG7Jd62qHdCi+1KubqZoikPR1Kz3w9PAv/DA43uOeZM+kzDaJw2Z+Zq3c9hGJQ03t07FzjHFbfsPs3Zh/mn1Ga3Q5S0wp+eX3Ps3px2+j/2P+FlNhSwZsnBPuPdvjh/r1kLz0Qex9vT9kmcHIxF+aA7H85XnGTD1W4EZ7QO/x+nIynjCtaPdW36Cmm/V4+w7H8XHKySVH30RaT6j8fXPO/GTmzfS4r0wu+Wn3Awcu+z6swEr8NPGW1x7n8fNRYfgzy+fRbev24Pp6InLSdlad5MWpmGV46wreHTandt1+4P+i/EurSu1CnZKpOwJkDgsex+QBURAK4HC5DDkh+/B9FYN4dS6Kz7o+Sd2BjxESHwm9zxcRsh6+G91wXu1qqL2l+NRr88+PEY+7od6I3zPBHxdvx6+6z4c7X/zQUBkBmIz+BFR4dOHyDg+Ed2+/gxVan2CBstC8M/1ZNWA72mIJ+5taY53X2yMb3vMxaJgBZJyoRKHs136omfXoZhwKhFXYvmRb2HsWeQH/456VZ7FG593x8sTfRCWksvJ1VKZzL6KlNDNGMww+KTjRFRecJHLl747wkA00iKPY2sLBt/VZsCLQ3aAlIDTU52wadFiTNz+CFGZBchPfwAEr4Dzlx/gLaE4jM8DEk7Ce81fmNBjOnZH5yIknWdUyl4dJ9Jv7MDjbR1Q/YU6+LrXVKy6AaQaeLO6SJYKxdO7uB50FVeuXDHfX1g0QiPTbXbm8Pjx4+jcubNF/kaMGKHDa+b5qaggA4q0cPjM7465XdjZ6ZIdP5+pAublBmgxZgVG7r3L1S09k1HmMcjkWBTIifNHXNAmDGnAoPGr/A6mz73cAC83GILVZ6NxIdrAux8m28XWzWwEr+mD3UtGYeSGcFy7dxl3r2zGdAcGDd/9Aa80W8ot6VYtCU09iTMrR2NULQbVG85C+ymHEJIH5OhvZEy2VnoErDGpuLd/Kk6NqwWG+Qxthi2He1gBctQQFyA7MYxr20d2boGvv/yGa9u3XniEeynqIi3z5HS4j+/E3Qx73/UoRh94xJW/IvlDJN05hHU9Pke7hm3xUcPB2HA9AUGJOSVtdC4Sg7YhZGULvF7jObz8ZRd85h6G0IRcyFLCkXpoMDp99Q5qvV0f8y4U4FqcNpDZiL+6DednvYvRHhex5FAACm4sRq//fYBaNd4E0/lPzN0ThMCo4n5MgVRuQyTPTs+iX5MPwLzmhDX+ybikrnel4zRnSPkNRF/awD3C0NDRFW9P/Y+z1sCm3ZwWUVxEwCoESBxaBTMlQgQMJSBDVvhxxB2YghbVXsJnjX/Ap7Mu4lZSruoZlPTgdfDfNgIff/wxvurrhu7zziFZFodrB3/DoSmf45kXPkVj5/kYfyYZqTKNTjwjCkX+v6Hn95+AqVEHzLjTWHk+WhV3YsAa3FxWFzWqNcCnbcZiivdtBIQ9wv3b1/Do4losmbUAU6aswu7wPDwSvNleFrEfaSeG4rkqz6BmS2fUd7+O6Az1gYuKRNolJF1bAyd2Y5nuU1D5zyuqn3QfJCIj6gx3d7t1XQaVq9VAh+3R2HEtHIVZ1+DeuytWLVqJDTfykM4+Z5LxCLi1BqOa1scnDLt5SBeM//ss9j1OQ2bgUqz/fR169NiGcO51ybpTFvs169ZubkObl16ojK96jOA2yEnRPwUqFp1NnC/ISkJWSjQeP35shr8YJKZlI11LUVi/fj0vqJTCykyfH330kRVYsnUrD5GHXLHvl1Z4q0ZlvFCZ3emzWFS91WY0ms04CvZeRJZ9qENAHof81CBs7vUWejd8CTUqM6jE5Yfd1OlzDF0fjE2BadyzXxotiwV5s+IwE/7LneHtPgXLA/Pw8MFxRPgsQE+GQf2GI/BOr11cPVbum1P4eCv2zeuLNgyDF9v8BSe3i2D3rdJSDC1ot76o5UDRYwStH4btnSqBqdwV3SdshVcMoNZs5ycjKewE17Y3/agRXqnfmWvbLwtuzilTKrryB9bP6FFcBvtvQ5f1N7hXCeWm+OLu6cUY9CqDDz/ojbcclyMwD4hXlctCpN7ag7sebVD75Zfw5jc/optXDO4/LUB+YhjXxnVo+gZee+dDro27rlXAZSImcDtOuzbAyjPh+Nc/BLKz49Hqi7fxbO36eGX6OewKThD4gH2QIBo7Oj2LAQ1eAcM0wNwTcTimfbmJMotW+gxDbMBmbnXLZ19NxlsjDnPvvhV7DtRKRlEyRMDiBEgcWhwxJUAEDCXADrdCELBhDNwbM3j+2UZo0Wsh3ENKz0YpFArIZDIUFhYC8hwgxB1rBrfhXtBd6fMVGLD0HLfUVHM+TJH+kHvZe4+W9cC8WJt7MbzbiXtQ9vXpof8i0rMjar5YvKkMO9B99b1m+LSNCwa7HcSJW4l4pGWL9ahzi7ndR6s8WwmNuo/klh6l5IoMH40Wh6nIiDqvEoeVnn8JDm4hWOy5iVvK1GDcMUzfFcYtWeJSzovhdi79pcUncGSqgWEaw+WP3fjrwk0cdK6L5avXcy/ANtRLwvDlURw+Pj4XJ5b2MsPy1rZwdHTGL1vOYleEkFrxsf2LQ2We4pB09xC8nB3w1dtVVeKQYT5ElartsT4cCBSswFZeZbOfigIg0gt7Z/fidjCtXImfQWT+txBtfvHhhJi1B8p5mZmQZWdzy6RjT87E8YXfcKw/G7USzl5RajjTTo6F2+ji31+beQgjDmq+wEYteNl8KcoDZH44ML43fmaeAePghiG/+XHtttrE4d2duLZxHNe2v/z+KLzf8x8ujFIIC42XXZiBNVPaFJfBdu7osPgCJ2pu7xuGXVM/5M7XHeSGdpvChJdxS1YjT/8On9EMalVriC87zeL6nYQcGCAOgcL8fMjS0iArLETyo4vckvv/fVgdr9X7jOsTrsQK5Tm7xVEI/nzzWXR7qbiMzToUBdtwFYlDjQJCXysIARKHFcTRlE07IqCQAw93YMesXmhfi0HlGoPRYdR2HE4pPfNQVFTECUPuU5aKhzvaY0rX9/A6w6DGiIOYtPsW2MGDpjzLTbiBex5fo/0XtYpnDsechvu5KNXyz/zkUGTd9sTkHk3RseFbeJW98179NbxSpz4+bNYOHcZtwoS//cEOxYof72FTSMbtPdNxYMALqPxMY7Tsvxgrw/KRIdjoRs0LRovDDGTG+uOwC4P29RlUqloNL8zaAZeJc3FwRF/MOPIQe26lFS+jYhNUE4eVwTC10GPoz5i2YiN69ZqKZTvP4j99u0+oGV76S3kUh1lRwYi+eQbssk/T/k7g+PGzuBYRhwdadhsKDw/Hli1bLPK3b9++0s6y2JkcyJLD8HDvJIxrVQ+fV38GDFMDdVuOwDfjdyI8HUjiV2BbzAqzRVykALIeIuzQH9g76Su8XuUZPP9cbTA1vkLf5eew6mw0WHeqCRizJS4eUWFBAQrlOShEMgJX/YC/+9QFwzRB70X7seKG8mFDdiqsADeXfwrXHrU5MdRu3VX84a/cDEs8fqv/Is8GHnnAfWg7tKj0DJjuezB+Wyh3o07YbkcfG4M9s5pybfvLnebhy3lnubb9/+2dCXhMVxvHb9Fdv7Zfl1TVR9EqLVptxR67tpZYYyuhRVDETi3V2kItqb2Wij2WEHtUkSASEVlECEmI7Hsm+0xm+33PvSkmllYiicGZ58mTO8m955z3d+6cuf9z3vO+93JxDNvYgl/6Vc0Xh7030H6lF7lE4TauDTMt8wMNNR6/hhF/yi6dpq/L+K2fyG8fSfynXCeadFmCS0J+AJ8HXzkEo8GgCES9MZWEiy4cHvpf6lb8iIof2SjfCZfTTSzLvgTJ++lXvgyfPytHlLZiqVcip81iIkWIQ9O7Qxw/PQSEOHx6+lpY+rgQ0OdhODOLX79vyduSxDPvzsR64hHOKeFT7meEEW12AmdmvU3fJvLqmMR787yZcfxeubcMZER6cfqXt2lW80Weeb0SL047x+9n8zP8GnR56NWJ5GVdYd8v3zKtS0Nqv/Yab/2nPK+8/AIvlJUo8+Fgqvd04rwBUpSYCXowhHFu1VDWNJYo92xXvhq8jl2JkC0/pxmNGPU6DEYjhpsxFtLPkHR+OV0kiWodxlBu3oO6lWaTFe/DkWES7WpKSM+9gDT0J1p2Gs7ML3uyK1KDv+mqpkbOt7GD6Q1rKu5lMhur1m3pM2QslXvuZvHBUB42t7EsDuOcrXnlxReob23HfB8otFupQYdRl0t2dhZZWcX4k5NHjkZ/n5Dz97ufxN+LRECTpKy2LbT5kg5vlaPsi1VpNHQJQ1wLrmgVqexHdJEqaCcRzj2p/PzzvP6fWrxYdSArvBLweqQP7znKeHNwXEOmW76G9GwPRq48yf5bbZJXprI5PrIsw5uURZKeZ4hLOJsu3+lDIUM1YDRo0WSlk5WViypbW7r7c+XI0OdnMqV3Q94qU5bnxp1i4oFwNAYdmjwdWp382TUQuLYFSwbKAbUk3vzOkeZ/BN3jjpBFlx4vh8qM7yiLwLI8P3w33Tf7guE8mzrVY9jrssvz83SevYP5AXcUoT+Nx4IRjJUnA58bSus+Wzglu0MbIC8pmIQdXZDdSt+o9AFzveHebqUmZRqjiDm3js3fSNR6qylV6oxnZyLcMJkkMab4YAhbQ7OyZXi/bF2k50aw9VIaFwosSctfGnq06mzUWRmosvNQl0rE3HxxOFeS+KT+GCoOPqCI9gJNMzFXHAoCTwoBIQ6flJ4UdjwxBIw6tbK3Y3z3j/Jnfgfupv/m/MhuJvOtd9ibjloVpLhadqye75oz5FAKO0PutfHtKrH+6xWX1dqvVuG/Fb/BwVuNX4Ieo0FPvLczZ91P4ewWQYbWcCsZvCbmNBf3zmaSpUSVVxvxv5qjlMh/1+UqDPLGFWc2j7JW9hCWabqW/r+dVSLgySsL2swkVCHuhCelc+NmOkZtMGmh25Wkz5+2HkO5Hx9UHEJu8mW8HSQ6fnHb1e29r4dj6RigPDQUhCPPjnuzpdmn/HBrL1t1Xn27g+Iy5XfrgbLgVYV5p7q4nQhna8q/2ByrXgtwioDCxrYR0UoLQ9xMzzURh90+fFeJ7Onsl1DyicJLEMdtcdiANl3mKGNFmvrmDE8JVvxPRcsTPvHOTJcjYL5aRXGLX+4eYTLJk++quKReWbpUrI0k2bHpYioBNxcWC5R9nYw4N1ZZWWD11Q88332n4oJpOr9U4PRifqPLTiTCyYqBbSryTNmy9HSNZ6tPMMS7s2GrF26n5LE/nkOjP2Zqo/zx7uuZO5lx6l4tjFdcNJc3eJEe78n7Q+sybmcoLhci8l3rG8qu9W8pPCatO8cJOa+96SvAkY1jrakrSTzbbyvd1gUq7vny/J5BFaZsRWjfqCqvV/qASd5w9uY+BNMyTI8zT3Fx50wl2mfFasOpYbNFcYU1Xa/MDNygfN+VLfMMUs0OSLauBKfm/u2RcrMwueMCODKtC7Na1FL6e+6h29sgbp5V/L+DifReyyRJ4qNvfqbSz94i6nPxQxYlmiEBIQ7NsFNEk55uAkadBtWBQfzUpx7l5ZXDMYcYuPuK8qV01yOZUQe6JGKvXyXI8wTOg8rTsU7+PsGJx7M5EHa301delCuBLhPoYiFR29KGen0WczJGR2zCdXRxXiwa2IXR/cbTpfdqfBI0RP89y6vPjCLqjBMbekl8XLML71vN51gWxMnxFHS5qP3nMv+75nwoSZQfeIAR2y7n7/vTRREbeIrd4+dwNDAav5sZNfShqCJcmVpe4sumQyk3+AiybryXm9Sdd0QBcfhMWaTyDWk+fCnTPRPQ3lqavHnV3eLwtY+6U8t6sRIRL7YYpoETfZdzcdWHlH/ha1r2XopzNBQ2lYUhIwrdjeO47NjKpk2biu/nUAD7fGIV97+77p+biMTvhyeQF4vq2nH+nN+FH3r2oXPX0Sw6E4NffHapu14+vDGya6AO9fU/cV85g/ld2tGq369MXH6UMzE61LpHfCdlRULIKmwb1KDym9WQRrix9lzsbUGRewVUhxn6bhkaVm6MVHMeByMyuHavhUNiyE7xwmVEDybNWIPNb37KOGS6K644eN67DDUaVSheUypj82UVypStxrSzWRzw9iDLaw6j1p7h9+Py2K/C45f6zP76RWXCsMe8vSySI8nc8ZJzC6pD19Cr8vM0qfU577WZzg6/RILjY0F1AIfGn9BBegdJmsT0jYFKZFfTIpL2D2HBdw2wkCRqTPmLMftuKN878qSkMeM6Ou+pdG/yAe+8W43v3LLwiLon0FtF6q9txuP3odSTJF5pNoNPxv+lrLzlf6XI95CK64dmcWrih5Qt8xEftJ2AzcYrxGbrbk1K5hcmz0CG4LX2JzaMHkTXRefZG5B0u79v1VjMBzneXDvuyHdyRO2uc/hogb/yWb7/JG0x1y+KEwQeEQEhDh8ReFGtIHBfAvo8Jd/dvAFNlC/pZ34+xuDD90m+a1CDOoTz7p7sWbsT50kWdLR8WXmAmHNGz7Ebd9eS6TWPYwutlbJrfzuPLqv882dDE06RF7hUCXhQSaqFJPVkc0gWfib7xFRXj+A9SaJ+q6F80H2zMgss7+IxarOUYDBje36m1P327HP8eDQ6v3KNNxdc12JvYc0atxCO3oqgEEFG9GEcLCQaWdpSruuOB56xLygOn0eysGfg/CO4q2Xnoztfd4vDyp1m0nqOn2L33fKmaO/0AAAgAElEQVT5zuv//X205y/KSubLz3elTd/VSq61zOIo+N+rFmeYC4FMPyI8lyor6+17Tafj1JPKyvm91nfMpcn/1A7Zg0HlPokl/W2wlCwZ7HqFrcG3Prz/dGnJ/08VruTca/lFNaR3P1TyrW4OTr5db5ovRDjRsmwZqlf9WllpOpOcc5/ceYmoM4JxX+WIywFvNvncnL26XVzJHanITT6Pa0+JDh9Wp0zZlorXgceZ3cpqmtUST6YckcN2qvFd0oJFveRonhIDFh1iTeDdrVKH7lfG4SovlKO6aU5KQ4oS9GZp07r0kuR9fQ7M3HYJvzuKCFllxcRu1ZQ62q0MZKGXCQtZkAc40M+qJpXfqarklj0S9s8zaxqfubjOs1bKk3ot49Mlpq6w8kgdge86O5zaSZR5phNfD1yHcwR3pPCQGykL4QguHtnOX3+sw8lbRUjC3eL4DnMe/m3qX1w9OFPxhqnV51fqrbj08GWKEgSBx4CAEIePQSeJJj5tBAzK/pAza+xY8KXEC/XGYf3zHiWRtqk3V9Y1D64cXsX4tm0YOd+ZSfsuoz+/gN/6N+dLSaLej+7MORiuBI2QZzrVSVdIOLmAUc3r8XXdpjT7YS/b/WK5rvt7HlQRh8uwlD6kTcdpdN8YSrpGf2uPYGaEC55/TKRbubexnbWPnzxUt/bm3CkO22+8we/nZXF4g0NjmvLbOFt6bQrlcmIu+luLDlnkpl7g0CCJTg07Uq7Sr8jPO3EP0N269CjitnWgd/OPefalanTfEc3OSxl3Bd7JL0p+gLnO4RH1+enLN5He/p4JG89yNLU45n9lYxK44jKBvb0lXvp0Dl1mHMXfKD/OiddTQUCfCmoftgz5jDGtPqaizUbWeUVwvVT2RJUMYe31I6Qcn0Oz5yvyTY+p2Gy8SqZGj/6uVfmSqf9fS5XdSuO2MaXJxzT77/tIA/ay2iuKDKMe0q/gt2Ecm799DznC6ltNe1N7kT9xmXn32XdrlJdJMeh06PWGUrZRjuoZzomJb9Pt8/qUKdsZ54gL/LFsCUsbt2ONfyruifkDpuHSBs6uHKKM7Z/3nE9nR19lbJdXOGVvE3lsXz2qKx0rvUszu51M3xrAVZ2BPOVyWYjlcH5FR1b2laOVDmDcqrMc+dulPi14Dzf2j6Dpc/K+PzmAT21++jORgxG3BmvQpULaIZZ9ZUnvN/9HhXmBbAr458mCK5u6stwuX2xKtYbwYb8NyvdYsj4HXU4kF5Z1ZFCX1jxXoSk/H4/HLSzL5PvhzrvAiEGvV/pJZzDK29hL/hW2Bb9Nw6kgSbT/0YmJJ0xmSku+dlGDIPDICAhx+MjQi4oFgfsRkL/1orl+cj3HZ/WmQ8fv6T/iZ+ZsdGHHbldcXffi4rKX/Xt3sHvHJpbNXozTIV/2BCVA9HGOrZrKLJuWtPt+BiNmrWCdy152b3Nm58a1rF/lwI8jxjJxzBwW77pEQEym4vqptCQjDF3UCaZ91Qa7b4fTeewytu3aw549e9jr4sLWjYtY8evPjLYZzar9Fzgcflv+GPVqci+tZt10GzrUeZcGI9cybP4GXFw2s272BNauWsU63xQSskyX0/LQpIdz9qdK2DTrQNnXx3Iih/u4fhVkpcuMIX7Ptwzv14v3v7TFMTCDs/edSZZdkqI4Mb09jt2+4GOb1axxD+fq7eYXLLxQ72SBGUqA0yjWN5X4b4c19F/mjbxg+88OV4WqRJxstgSyyIrzJezQT4zs2o5unfowYLUvHhGq258rs237PRpmyIPMMIJ2zWH3lM5YNhjAsFnOrPZNQX4gN5uXLh0yfNkzdSDTOreh+lejsZ+3mrUue9i7bS1Lxlkzqe0rlHnmJap/NZRu26JJzjH1KdCSl5VIrN9hfDwO8ufhQzhtOs2Z4DiiSsef9G+UenQ5iVx1+Z7Z3/ei1SedmfbHGmbMXcLMEXM5GZlN2M092gnniDjxhzK297IdRXf7ecrYvn37Tly3blHG9rlTp2A/YCSLnAM55BenRDPNt1ruOy3RHgv4a+n3tKnTg+/HLGbKKhdlbN/lNBfn5XY0kiSqlPsA6aVurPBL44xpcFdDBuSeZattU0bVfI9XRp9g1ZnYW7lxC94b8uiXidecZszp9B6SVInKjfrQuN9UZq53wWnzJnZv+p1VPw1l9ITpWI9cjNu1bEJSTEdNeWzVkHTFkzCfQxw/eoAdO0+wfY8vkRrINO3OgpUX2zu13xJOrejPK1Iles/ZwyL/YvnSKLb2iYIEgZIiIMRhSZEV5QoCD0tAnQyqEFwmWjOhWwtq1LCkceNmNG1qhaWlFT3GLmTc6iN4x0OySdyZ3FhfVAFODPv6I9o3r0cNSyua1KxFk0btsLR1wHFfEMeCTb/1bzfUqNcS4WrPylEdaFejBg2aNqVRkyZYWVrSoP1guo9bhlOAiti7fCblL/IIrh5YgJu9FRXft+SDmi2wtLRmurMfe/zvHQ80PxhDOwa06UDZcl2VADeBD+CHp8tKIN7Nnp/nruTr0QcV9z0TB6jbBilHsvtRPD5Lh+I8bQB2rhH4Rt8zMsUd1z3IW/kJxRvPhYMU99hKYw9if7/9oQ9SnDjnMSMQTaT3OiW3YfVm9tQdtBlvNaSWwoNriYDSZijRVn8f3IIe/yuvBNRZ7RlttqvgWZddCNoxmZ41LPj8s8+o2qA5VlbtsKr/PlZ1JZ55xoLGPacpCdszCoi+TNKjz+HuYM1PQ77BpnMHLCrbM/730/x5/4GkRJBjzAN1AD7bHFg/xBorK2t6TFqKvVsEWXkFbyRdZpwyti8e9Q39Wn+sjO31a3+KVa3aytg+evkRnL3j7y/k8yJJDTuKs307OjVuStX3LZWxvYNNF3ra22ElR45+qamSa/FAQhZhBSyWhVEEx2a0Zt5X7yiuuvOPhN3KjVvgVORBPII9/aoxprYcAKcdHbp2pPeAb6hc2ZLPq9emee3PaGe3CgeXANzjuceqriwUVfhtHMuOaR2x7dmOOp99xyeNZuKmQhGIBess/nepf03m4MyOSvuHrzjFzr93ShR/TaJEQcC8CAhxaF79IVojCNwmILtIGbRkp8STkhBLVFQMMTGxxMbGKr8TUlSkZOSg1lPAFUd2MTJoMkmKiyIuNpqomFhioqKIiYkjJlFFenYeuXc8dJhUii47mYzkeOLka5S6YoiNiSEmLomElHQyNYb7PHzo0OaoyEmO5UZkDJFRcjvjSc3SkK0p+JBzsz6jNhPd5WU4ftuWZmVfZZhbBq5X/n0viRxVVZ+TTJoqg7iUnH8JEiDPmuvRpCeRlZpIUrYOzU1X2psNKepvOVH45VWsH2lD47JvYrcrmi1BOfd40ClqBeI68yQgK40MgjcPYMnkblg0/pZfdgZw4FImsut3cTgsl7rdOddIC9nHqk4W2PYcRuvBmzmrUhOt1pnd/WzIy0GTFE5UUjLXElJJiIogOjqayOgIYkM2stbuG/o+J/HMR9OxmeXGGTVoTBY+VacXcHbnDHouPsHhPzfit38mzcu9Sr/RS5l48gFmp4q1c2S3Vg2aLBWZSfHExsYr42xyjpz6p2BF8rgnj+3pyXEkxkX9PbZHEyuP1YkqUtJzyFL/Q9oaow6DNpes5DjiY2KJjMwf2+P99pDw1yzekyRe+6Qr0vduXFFp7lgVlBujI/rgJNxmtEZ6eRgjl5/i6L1wqSMgyZXxn7xH87c/Rqq/jNXHLhCUGMeNGzFER0YRGxVNXJKclkJD7j2+HjRx/iQdGMGklS5MXneQqPPLGN+6Ie0q1WasewaeMQXUfkFQD/1O9nDJwHtBcxxtayI1XYbjsTDuEd/toWsSBQgC5khAiENz7BXRJkHgaSGgz4XEI+yYaI1dlXK0WBnGKu+Ux8Yl06jXkP7XGObb9aTK601ZeFbF8Zh7POk8Lf35VNipR626RurVQywf04kRQ/rzxYhV7PZP5KppjP7HhYVRC/pUYs5tw2vTVAa1+IJhE5Yy7o8LSmqI4lpjLy4chrQw4i6dZN/6Zazd7s3Wv24oe+/k7IRGXSbp/vNZatuKFtLzvGezndEbApBDuuQ7tMufTTVRhxdwcus87Hdf55y3M2Fu0/lMep3eo1cw5bS5Wfyw5Axo1VmkR4cTeSOeyFiVIvpMRyn15T2kH/qB16TnsWgykCpz/YnJ0t4zym66/0p8//iO/0ktGDzTlTXhpq6g+W01ZlxGH7oCm2rv8FGFejxv48Kei4nc21/lXvZpyLrhQ+imUczd5cXiw75kBy3CvlVDGlWoy8ST2XjF3l3vvUoq0t8MWaANY8+IBkz7pg5Vhh9hm3+84qZbpPLERYLAY0ZAiMPHrMNEcwWBJ4uAvMaiImiLHS62ZZUcV6N3Biv7te6YNDdLsw3aHAIc6zL0e1skS0c8s/N4fNOdmyViM2yUmnjfzXg7WGJRvRsN+jgqERZT/n3B2wxtkRPYpYPam52jGjKhSUUsejqz5MQ1Is2ztWh8FnHYobsSbfm51wdRo9X6v3PnadFlxxHgYMmAZh8iSRbY7I5hQ5BpMj/ZNTIev92unNx1CG8VRPmsItBpIJJkSa/pu1hzxUwNL3KzNKTHhBDg7IjT2gM4uZxX3PBNJXDsyYXKOCYzq9N1MnZuKtI191n/zvYm4fxKbCUJ26GLGXLg7iAt+jhvJSdijf/9l+drNMLCwZvTN+4+7/4mJZEUHoD7KifOhCcRGBWuRGHt0Kgtb77XhVUhcLEkJ2K0cuoPV2ZbNmLgR20VHn7xJShG7w9C/EcQeCQEhDh8JNhFpYKAIHCbgI7s8H0knviR+m93ZPjYDWwLRXGXvX2OGR5pQslLPMqPVSthN2A6PZyuk6w1PFCeRjO0RjTpAQnEH/+J9ZP706KKJd87erDsWCRJaiguT+V/bYZeBXmhHJy/gn3r93IqtfA5NW/XkUzqtb84Nr0FHdt/yxedp/HHhSSCU9Wleh/rYk8TF7CbHxec4kRg3D+uMKW5T2b7DGuelWrR5IeNjNoWrOS7S75ykNCDP9O3SmU6dR5Gyyk7CUjSEJttukYmC548slJSSE9OQ946HXFwFEdnf4FUfTwj15zhiQtIecOVM1um0LJGVWrVG0LLb1fikQWJOjDkZZN6dhXrRnxD36ov887XCxi87Din03Tk3Ucbos8kNyGIk1Pq09d2MpV77CQUCqyqpV5yIWj5J7xv8Tzv1GtFd5c4LiYWZvZEi1adTXpcAhlqLcnRfoQsrUXrdv2oYDWXYyqILkxxt2/4BzrKivIidFtHWnUeR5P+axQeyflhXx/oenGSIPC4ExDi8HHvQdF+QeBJIJARjD5qH0Or12fEkF8ZvT+JVHlvo1naJq9p6smNOUqCzwJsKjVlzPg1LPTL475bOc3SDtGowhAw5GWgz4rl2OyuTPvWhk9q9meZRzweUaV7l+oyr5ETuYdfBv/E/NmbOJ4C6YVuQv49nJPkzeUTK5jV+RNa9ZlB60l7uZgHafcTBoUB9kDnysIthyTv3zm/bSpdJx5nz9mYfxSHqnO/csDxe2q80wjrH9cyfttJLgcHc2bfMvYvH06XOm2wm/g7Uw/eUPZ/3h+NbKSGkM192TW6Gs82XsLUHRe4UJJb2R6ISTGfFLGd0+tH0/Cd17F47xtqtpjAHz6XORV4ieCAc5zcOJ6fba1pX7Me1r94sOxouJJOyFRS39kiOZBY3MGhjB02klrNJrI/ScOVjAzQJBHqew6Pzb+wbvh/qfB6WSxqWdLlt2PsOHOdCxFpyqRD4W4vLRkRpzgz+b+07DSMKt03EJgHyf/UwDsbXJj3uUnEnndlz4QGtP5hFZ3meyo8RJzSwkAU5z7uBIQ4fNx7ULRfEHhCCMjBFiKcrZk0ZTxSOyfOp6sxSWttRlbKjzYqgreMYt/QykpEx5WnzDeioxmBe6ybkht5ApW3Aw3LNKBbNwcmuf+D610JWpocuIsAR0sqDt5Ax6U+igv2/QXQ/RoiKyAVF/7ozbKxXyFZTmLe0Sv43Cu4yP2KKJa/y3kaAtg33op5X1fD1lXFiYh/U2cxJF06gJt9O3q1bUFDy6ZKxM1GXYbTcvhvuIaoCH0gH1956SmCE9Pasaj1O1jYubHcPfLxTEHyj30RQ+JFmZc1Nm2a0rBhQ6ysrLBq1IhmDZtgaW3HiEV7WCWHDH3gl+xiGYHvyj5s7vYS7Zwi2OTuDhFOdH3lRT6WpPzE96a/v5xIreH7FJfWm9k5Hqy6OBKDduFkJdGyz3Q+n+qh9FGJLRxe+gP35dOxtOjJon1XOPogiXcfzBBxliDw2BAQ4vCx6SrRUEHgCSdgNJId6Y7H7t+YPbYPY3YGsOl8vBKcxpz2H+pz00g68yuOc3/C5rtpOIekcCE5l5KayH7Ce938zdNr0Ia6sn/eGCa0akrHUVuZu8WXC0latHeGkywxa+S7S0vsyaVsn9WXHp/+l5YOHkw9HFeEz4eWjCgfQl0nYNu1O5162WPvfAGvqExSS3NblS4JVcRJ3B170LdBW6w+7cPyUC3B6f+2rpSLJiOW+ICTeJ9059ixE7gfO8ZxTz/c/UKJydTelQLint0i5+3L9mTLt80Y80FFLBcGsT3g8QmGdU+b7vnHXDTpccQHeOLlcYJjx47h7u6O+/HjnDh+nGOe5/G/GkO47Bv9wC+5j7JJvbqP8KOzGNvHnt+Wb8E14Coeu1w4smMHO+78+esCbn6xigtwoSYz1Be44bGKKW9JdBjiSOe1Ico9/293yQObcvNEgwq0oRydPoQ1EyYxYuFJvMIzSCgMlptlid+CwGNOQIjDx7wDRfMFgSeLgIYEvx34rehEr2UnWXD0upJjzZzEoS4rkSjXoUybu5zmYw4hp74yDXnxZPVHaVsj97QOTUYqWXI6ldgY4hJSiU/JRt7yo9Np0GsySU1MJDkxgcTEOGLlFCvJ6ahytEqKlWK9Vwx5GHKSiD0wGYe+nbB89WOGud5g18XSSoZnxKBTo85KIjP5Oh6OXZjUpR5vSq9gu+Eia/xzCt1B+tx4Ir23cmCyJXUaDqBR3yXsi4bEUnkINmDU56FTZ5IW7UPw0eUs6vgmH1fpTMU6P+OWQeklodemYExyxfGbxvR5uyrWW6I5dLVwa1qFhv+kXaCLRJt+lhWdOrJ84UaWnVcXu2u9Mc2DKwcc6Cs9S7fR6xiyt4SW8vSJoD7Pxu/7s2zibFb4aYjLKnYJ+qTdAcKeJ5SAEIdPaMcKswSBx52AJj0ddU6O2YlDo8GAWqVCnZdntsnBH9++l8VOBKfmDmBZ10+pUdmCqg2H8GnvtUpy+atXThLv7oitlRVdrL7AyqoGFau2pr71j9g7hxCequbfnBILxSbZm3S/3+lpIdG22w+KC3GO0VhqqVaMBi2qCDeOL7fD0boy5co8gyTVRZLs2RaSSnARVvqiXAezcnh7LCRLxm66iPPlYiX2L3gzyI7zI8LNkRHNKtHY4m/3w45zqD77rPJ5Kq0VeEP6NSWipnXTVrxR8RscAyDQPP3Y/4WpOfxbjVqtRqVSYyzW2RnI81vM8WUDlPv+u0XHWX+phOzVa0CtIkNtILsIn6sSapUoVhB4JASEOHwk2EWlgoAg8G8E9Hl56HU6xV2zmJ83/q3qf/y/0WhEr9Gg1+uFK+k/kir8P/UZEeQGreLXhQsZO+kn1v1kg1Xztrxdsw2Dpv/C5AUrmLdyGy67duGyayu7dq1jao+P6de+FZ9+PRfn8/EEF8cyrkEDuWH475rO9mkdaGMzmgkr9uLkG4+2uJPcy6uheTnk5maQEhdJTNhFgnz2cHjLEjYsmM7QgZ3p2rw2zar+hzLPSDz7XkteabUOz5hMEguxsKFLCyM3bD+/9ujEmJ5DsBntxKELSVxJLWY5Jovn3Fw0WWnkZiQQERbEJa/j+OzZyvI5o/jJvjcDOzejbsVXePelskjSK9Qd6UT/XdGl+lnXJF3ixpb2tGvbmbe/HM7OSAgr9T2Xhf+MmOcVemU81GiK+V6SE48cGYvL7I5IFbsxftNZDsWWEAGjHvQa8vRGtIX4XJVQa0SxgsAjJSDE4SPFLyoXBAQBQUAQuElAG+dH2p7+9F+yh94rjqL2dqBHmzqUKVsWiyrvU6fLeFr+eAQ5dEamEstWzZnp7zDtqwpIUltm7A/FrTBxNW5WXOC37L+aiSHlGNsmt2Z009epP8eT389EkazToSvun5w01BmJJCfHEBrgjd/xPbj8MZKp/ZrQs957dwT2eIaXPu9ChckehKapH3wF02ggN+IEKccm0Pa1xnRrN5k5nsnEZmiK3R6tVktWcjKq+OskRwfjecyF/avn88fI/jT/8EWqvWkarOQ5pGcq0H3uQRb6lFiIkfzeNRqQg17JE04Gg4HMGH/8F9ehZae+vPv1LDxUEFPCTShwm4k39yBgBKMBvV6niE2D0ciVbX1ZP7kZz3w6mln7gzhbHJM/96hZ/EkQEARuExDi8DYLcSQICAKCgCDwyAgkEePjjLO1BY57vVh37oaS+LqbVXXKvPi6kpx97sErSrRD0yb6za7ALx3zBccIp/NsfVi3s7xLJARtxMFS4rMCQsZU1Dyq4zo06emguEBmPKg3qNGgiOz1w7/CUpJ41jSC5KM+Ll8Nqa4jv3lc47Jpp5bAcYb7jzhPaYOFJPHt/JWMWbKMSXUl2v8wj86r/EvVpbUEzHsiitTcOK585j99qzxfNG6Ovas7E9rXZGirOopL99GrqaWaf/OJgCqMEASKQECIwyJAE5cIAoKAICAIFDeBbFQ3/Dm/eiruF8M5eekiV1da0v6Ld3nhP5VpvyCQrb5JpN2qVt6fmMihIRaMbvAKkvQBk3ddZO+NWycU8kB2icsm+tRKTiyx5atKEu++/KhE4H3qfas3X4/cyO5YKJDb/X6W5iVhzAxh94SvGG5Vg0qSRJlHLQhN6n/W4mPe/nY32/ziSLyfDcX099RjE9g2qSUVJYmmPYZjPXQqI77twXSngyz3jlXWoYU3YTHBLmIxudf/IvnA93z+5svUrF6btiMcGGQ7gLHjJjLHPZJLyTlmmvu2iAaLywQBMyUgxKGZdoxoliAgCAgCTxsBg1abH+xHl0NypCfu9hItP3yV/7xVFwdv8CkQqFCWEwGsaf0m/SrL7pfWzP0znOOpRaUm+xTG4zmzI4vbvnGHO+d9xJqJ0JFK47jOAno6nCAAHizwTkYQ+hgXJaBO3fJmYoMJp/LVPqeuYwAe19KL2mkPfF3SkTFsmWBFZUmiwjsN+KjhQGwd3TgclqBEHH7ggsSJJUYgJ/xP4l1tqf/my7z30jtYVG6H9SQnpu84q3gMFD42b4k1VRQsCDzRBIQ4fKK7VxgnCAgCgsDjRUAO+GMkhPgLG1n4P4lPX2rNGxUmcTQLbphGEcy8BFGb6fXua9Su8CVSi9/ZE5JEdJGXf+SwRwa02enkqJJJTEw0v5/UHDJy8pTVkwcK0mTUgUFDRnIiqUnmZ09SShqpOTq0+gey5qFuZENeFuosFSlyGpTkNFLTMhWWeXoDRb5lHqpF4uI7CchpTgyaDNKSk0hJSiY5RUV6lppsjbZUgxXd2S7xXhB42ggIcfi09biwVxAQBAQBcyeQeYYbHouxe1Wi2js2vPXFb/hrKRCdUx19ktRTE2n8RnmqVW/Ou3aHORmZRppRT16eHkOpJag3d5iifYKAICAICAKCwIMTEOLwwVmJMwUBQUAQEARKg0DYToK3jKWuJPHaFyN5Z+BeJUJptkndiec3EuBYlzf/8ywVGnSinVMEoSmZ6HT5+da0Ih69CS1xKAgIAoKAICAIPBgBIQ4fjJM4SxAQBAQBQaCUCCSfmsWRBV/xoiTxQf8FfLXu6h0BQy4QsGESy2u/yKvl2mFp/SvrbuQRF7CFc25rsJpyjGMhyZiKyVJquqhGEBAEBAFBQBB4rAkIcfhYd59ovCAgCAgCTxIBee+Zjoi9w9gx6TMkqTyWo9cx5GBSQSN1pzmz5AdmvC5R/i07Wn7nxImMTC65zmT/yul8Of0UR6+kUjwBLOQ25ZGdEE7SJU+OeUYQdC2VdIO8Q7F4X/K+OI0qjgj/k4RGxhKaqiveCu5RmlGbjS4lhIs+Ppz19CMi3UBWXvHuATTq1BjUaUQFeRF+9RIhKTrUuuKt4x6miT8JAoKAICAIFIGAEIdFgCYuEQQEAUFAECgJAnLEGRU+CxuxpOtLSFJd+s9zY23wHXWp3Dg6axB2ksRL7VbR5ddDxKsD2Di8B4uG2eEQoCYso7ikm1xOPME7puJqW5kyVebSc/pfeKuhmDUUeQkXiPbciEM7C8YtWs/YYyUfxVMWhio3O/p++QWfVmmJg7eawEQ5rUfxvXQZUagj3Flq8xHTRn2HnZuKG+nFW0fxtVaUJAgIAoLA001AiMOnu/+F9YKAICAImBEBea3vOm5j6zOreQVeq/0jv+y5gGfWHU3UxhJ+dDX7RjTj48+/4fNWPek/ahQ/L9vF+v2+XMswkFNsK1PyClcmNzxd8Fpmz8i57mw+Gq4ExykWeRN9kqseO5g4cRGLZo9j5oRefPjm81hP+b1UxKE+I5qcsytY6fAr035ejUeigTh1MazqpVyG8EOKXbN/ms7K+cP4rMprNO3YS4jDO25n8VYQEAQEAXMiIMShOfWGaIsgIAgIAk81gXxxePwXG5b2bk1T2+1sOhtJ2F1MNKReOUbI9nH07mRN+/bdad9rMAsOXOJgSPE4k96uUhZKGhJDfAg5vIkdx67hezUFOStiMUgouO7GxcNrsbX9kWmjv8X+u1ZKjsXmY1eUijg0ZKegCTnM0cNH2XXIm+sayCwO1ZsYACHbFbvGDLfDYVJXXin/AtWbdxPi8PbNJY4EAUFAEDA7AkIcml2XiAYJAoKAICAIPJUELm8naIt9qYrDUuEc5wPeDrz75n+EOCwV4KISQUAQEASKTqUiLP8AAAfrSURBVECIw6KzE1cKAoKAICAIPMEE9CmXyQz7i3XrlrF8ziIWj57PiRtGwtJKyOhSEoeG3ES0cZ7s37SFPxyXsGz2aBbu8WSdzx2Bf4rLTCEOi4ukKEcQEAQEgRInIMRhiSMWFQgCgoAgIAg8XgSMYNSRE/on0ScWM9jOBpvGX/HNW01Yck7HySjZodSIXqtBm6dBoynCT56WPL0Ro6lvaqmIQz15qVdI91/LnFFjGdKlGzaN36LV5HX02XQVvVGPVptHXlFs0uSh0WjRy/hMO1yIQ1Ma4lgQEAQEAbMmIMShWXePaJwgIAgIAoJAqRMwZIPam/1zf2VBD3vcItz5zW4w9pIF7f64xiqfREBN8L61HHVyxNGx8D+/Ox/GOUBNumnwl9IQh5rzXHTbgkM7O/acDudPz8O4T5KwbD2E961XE6AOwO3IdrYVwSZHRydWrtlLgBqSTLNwCHFY6rewqFAQEAQEgaISEOKwqOTEdYKAICAICAJPJgF9FqhO47Z5Jyt+XkfguaVMHzSQ+uUbMO1UKoevy0FvdCRd9edaoA8+PoX/8QsOJzhBh8Y0qmppiMNEDy6d3MeCXzbiF3YZfy9ntnWVaNBxPHWGunJDl8DV8EsEF8EmH59AzvtfJUEHOaaZRIQ4fDI/J8IqQUAQeCIJCHH4RHarMEoQEAQEAUGgyAS0WRDvzrETPqzf7kW8mx0/DOyPZNGT3TEGgjKKXPI/X1ga4jD0MJd9T+DoFkJSZiBRZ1fjWFeiUc+ZNJpxGhWQ98+tLPx/hTgsPDNxhSAgCAgCj4iAEIePCLyoVhAQBAQBQcCMCRgNGAxZ5KRdZd935ejftz9v93AhSm+kxFLTl4Y4NOoxGgzoDEaMKe5c3DWT3mUkOk/czPADiQX3ChZX9whxWFwkRTmCgCAgCJQ4ASEOSxyxqEAQEAQEAUHgsSSgiyEn/iSLLSX69BlGncmnCbsaQlR8AgkaSIu8TMzVQAIDC/8THBpJaLJeCUpzi01piMNblYH++na814/jc8mCPrP2M/O0LHvTSI4O51oRbAoMDOHipesk6yFXuJWakBaHgoAgIAg8PgSEOHx8+kq0VBAQBAQBQaA0CeScJyPUCVtJwqbPZKydI/Bz3sB5Lx+8VXDp8DrctxQ+GI0cwOaRBaQx4afx/ZXDiwYgSZYMWXaGjSGyQ2kI/n/tYrcISGNCShwKAoKAIPD0EBDi8Onpa2GpICAICAKCQCEIZF5Yy2XnAbwitab3iF9Ye+4Q9j2cWLveh0sGyMnJJDcrnfT0wv9kZOWQlWfEYJrzoZRXDsN39GPdj62Rag5l1oGLeKbJjdGiyc0muwg2padnkpGRTZ4R9KachVupKQ1xLAgIAoKAWRMQ4tCsu0c0ThAQBAQBQeBREcgO2Ur43lH876WmdO07khkbVzJm3FE2771KDHcIoKI2Mi+FzMTrXDh1Cq+N09kwpSuSJPFJ9zF0XnCYU6fOERQWR2TmHbkDi1qfcp2cZyKH845fsciuEVKzWSzzCONy7kMVWvBiXSaoExS7fPf8zqnlg3jj1ZeoUNeKtg6H2HHYi3P+IYpduaZpLwqWIt4JAoKAICAIlDIBIQ5LGbioThAQBAQBQeAxIZB+noxLG7GtbEGLT5tRw8qWlX45eMZoi8+A5NOEHFmJvZUVHepU5YsqbyjiUHqjKs++3xArq56McXTFKQQluXzxVJwFRLDv+1pMaFcHydaVnRcSyCyewvNLyQyBeDfFrt5f1MaqhgXPlSuD9PIbSJUtqdewCz0H/6LYFSU3R7wEAUFAEBAEzIKAEIdm0Q2iEYKAICAICAJmR0CXhT4nkVBfHy4GBHE+KJS4LAMZst9kcb20GeSmxXEtKIhL/r4E+J7l9OnTnD7ri6fvBYKCrnA9NoXE3GJcOdQmQJYHixtWZ9BnDaj/WzCnIrIKuoI+rH36XMhLU+y6EuhP0Hkfznh6ctrrLKd9Awm4cJkrYZGKXZoCPqgPW7G4XhAQBAQBQeBhCAhx+DD0xLWCgCAgCAgCgoDZE8ghO/kG8cFnORcST0hoABkRG7GvU5vun33Dt7vjCIzXmL0VooGCgCAgCAgCJU9AiMOSZyxqEAQEAUFAEBAEHhEBeZUzAN9N9jhaSpRvu4Q2w2fi7mxN9Xo2fNJhFs4REFec+w0fkaWiWkFAEBAEBIGHJyDE4cMzFCUIAoKAICAICAJmSsAIWlkcTsSxyauUr9mc95t3ps+IQfywwIVFu/yJyga1cO000/4TzRIEBAFBoHQJCHFYurxFbYKAICAICAKCQCkSMILmEhdc5rOuRz0++rIetVp3ovmgn1nnEY7XjZxSbIuoShAQBAQBQcDcCQhxaO49JNonCAgCgoAgIAgIAoKAICAICAKCQCkQEOKwFCCLKgQBQUAQEAQEAUFAEBAEBAFBQBAwdwJCHJp7D4n2CQKCgCAgCAgCgoAgIAgIAoKAIFAKBIQ4LAXIogpBQBAQBAQBQUAQEAQEAUFAEBAEzJ2AEIfm3kOifYKAICAICAKCgCAgCAgCgoAgIAiUAgEhDksBsqhCEBAEBAFBQBAQBAQBQUAQEAQEAXMnIMShufeQaJ8gIAgIAoKAICAICAKCgCAgCAgCpUBAiMNSgCyqEAQEAUFAEBAEBAFBQBAQBAQBQcDcCQhxaO49JNonCAgCgoAgIAgIAoKAICAICAKCQCkQ+D80Gjfu//Lv3gAAAABJRU5ErkJggg==)"
      ]
    },
    {
      "cell_type": "code",
      "metadata": {
        "colab": {
          "base_uri": "https://localhost:8080/"
        },
        "id": "FI4D6n6YB5f7",
        "outputId": "3993b761-f3aa-4f86-c69c-70a5f4907e4b"
      },
      "source": [
        "#learning_rate\n",
        "learning_rate = 0.01\n",
        "\n",
        "#softmax function\n",
        "@tf.function\n",
        "def softmax(x):\n",
        "  # 3차원 텐서 사이에서 행렬 곱(tf.matmul)\n",
        "  return tf.nn.softmax(tf.matmul(x_data,W) + b)\n",
        "\n",
        "# for Training\n",
        "for i in range(10000):\n",
        "  with tf.GradientTape() as tape:\n",
        "    #입력된 X별로 세 개의 class에 대한 예측값 계산\n",
        "    sm = softmax(x_data)\n",
        "    \n",
        "    #예측값에 로그를 취한 후 실제 y값과 곱하는데, 이 과정을 모든 예측값과 관측치에 적용\n",
        "    #그 후 값을 평균을 취해주고 -를 곱하여 비용 계산\n",
        "    cost = -tf.reduce_mean(tf.reduce_sum(y_one_hot*tf.math.log(sm),axis = 1))\n",
        "\n",
        "  #아래 코드가 with의 절에 있든, 그 밖에 있든 결과상 차이 없음\n",
        "  \n",
        "  W_grad,b_grad = tape.gradient(cost,[W,b])\n",
        "  #tape.gradient()로도 gradient를 계산할 수 있지만, compute_gradients도 가능\n",
        "  #동일한 역할을 수행하나, tape에 저장된 연산 결과를 토대로 특정 weights를 업데이트 시 tape.gradient를 쓰고\n",
        "  #tape를 미사용 시 직접 gradient를 계산할 경우 compute_gradients를 사용함\n",
        "  \n",
        "  #또한 optimizer.apply_gradients로도 weight를 업데이트할 수 있지만\n",
        "  #optimizer를 쓰지 않는 경우 직집적으로 learning_rate를 곱하여 Weight 및 bias를 계산해줌\n",
        "  #아래 assign_sub를 하면 W에 ()안의 값만큼 weight를 변환함\n",
        "  W.assign_sub(learning_rate * W_grad)\n",
        "  b.assign_sub(learning_rate * b_grad)\n",
        "  if (i+1) % 1000 == 0:\n",
        "        print(\">>> #%s \\n Weights: \\n%s \\n Bias: \\n%s \\n cost: %s\\n\" % (i+1, W.numpy(), b.numpy(), cost.numpy()))"
      ],
      "execution_count": 247,
      "outputs": [
        {
          "output_type": "stream",
          "text": [
            ">>> #1000 \n",
            " Weights: \n",
            "[[ 1.6149405  -0.08084445 -0.04325487]\n",
            " [-0.34560114  0.04531072 -1.0073849 ]\n",
            " [-0.9433694   1.1390452   1.9544592 ]\n",
            " [-1.1922408  -0.23309867  0.41837618]] \n",
            " Bias: \n",
            "[-0.35298625  1.0165349  -1.130658  ] \n",
            " cost: 0.34616858\n",
            "\n",
            ">>> #2000 \n",
            " Weights: \n",
            "[[ 1.7114769   0.12960836 -0.35024437]\n",
            " [-0.05019419 -0.08555552 -1.1719257 ]\n",
            " [-1.299022    1.0721405   2.3770175 ]\n",
            " [-1.3511709  -0.48280838  0.8270172 ]] \n",
            " Bias: \n",
            "[-0.2996098  1.0910336 -1.2585324] \n",
            " cost: 0.25822216\n",
            "\n",
            ">>> #3000 \n",
            " Weights: \n",
            "[[ 1.7842565   0.27599204 -0.56940854]\n",
            " [ 0.15832108 -0.15490103 -1.3110955 ]\n",
            " [-1.546414    1.0098495   2.6867008 ]\n",
            " [-1.4635335  -0.6700696   1.1266425 ]] \n",
            " Bias: \n",
            "[-0.26111662  1.1551049  -1.3610975 ] \n",
            " cost: 0.21221003\n",
            "\n",
            ">>> #4000 \n",
            " Weights: \n",
            "[[ 1.8430264   0.38329026 -0.7354771 ]\n",
            " [ 0.3211854  -0.19609612 -1.4327643 ]\n",
            " [-1.7393829   0.95986444  2.9296522 ]\n",
            " [-1.5522476  -0.8166467   1.3619335 ]] \n",
            " Bias: \n",
            "[-0.23062427  1.2114524  -1.4479376 ] \n",
            " cost: 0.18401949\n",
            "\n",
            ">>> #5000 \n",
            " Weights: \n",
            "[[ 1.8924683   0.46582147 -0.8674509 ]\n",
            " [ 0.45516452 -0.22148022 -1.5413587 ]\n",
            " [-1.8983575   0.91939026  3.1290991 ]\n",
            " [-1.6260544  -0.9366749   1.5557679 ]] \n",
            " Bias: \n",
            "[-0.20527712  1.2623681  -1.5242008 ] \n",
            " cost: 0.1649412\n",
            "\n",
            ">>> #6000 \n",
            " Weights: \n",
            "[[ 1.9352429   0.53166157 -0.9760668 ]\n",
            " [ 0.5691368  -0.23710625 -1.6397041 ]\n",
            " [-2.0338712   0.8858979   3.2981043 ]\n",
            " [-1.6894933  -1.0383573   1.7208897 ]] \n",
            " Bias: \n",
            "[-0.18353783  1.3092815  -1.5928531 ] \n",
            " cost: 0.15111907\n",
            "\n",
            ">>> #7000 \n",
            " Weights: \n",
            "[[ 1.9730079   0.5856577  -1.0678272 ]\n",
            " [ 0.66841507 -0.24635258 -1.7297357 ]\n",
            " [-2.152165    0.8576304   3.4446628 ]\n",
            " [-1.7452692  -1.1266891   1.8649986 ]] \n",
            " Bias: \n",
            "[-0.16447446  1.3531082  -1.6557432 ] \n",
            " cost: 0.14060234\n",
            "\n",
            ">>> #8000 \n",
            " Weights: \n",
            "[[ 2.006861    0.6308984  -1.1469218 ]\n",
            " [ 0.75643575 -0.25125948 -1.8128483 ]\n",
            " [-2.2572544   0.83338004  3.5739994 ]\n",
            " [-1.7951342  -1.2048932   1.9930679 ]] \n",
            " Bias: \n",
            "[-0.14747852  1.3944676  -1.7140983 ] \n",
            " cost: 0.13230237\n",
            "\n",
            ">>> #9000 \n",
            " Weights: \n",
            "[[ 2.0375698   0.6694537  -1.2161894 ]\n",
            " [ 0.83555007 -0.2531324  -1.8900887 ]\n",
            " [-2.351884    0.8122963   3.6897082 ]\n",
            " [-1.8402908  -1.2751541   2.108486  ]] \n",
            " Bias: \n",
            "[-0.13212946  1.4337988  -1.7687781 ] \n",
            " cost: 0.12556432\n",
            "\n",
            ">>> #10000 \n",
            " Weights: \n",
            "[[ 2.0656939   0.7027701  -1.2776328 ]\n",
            " [ 0.9074366  -0.25284043 -1.9622651 ]\n",
            " [-2.4380138   0.7937637   3.7943652 ]\n",
            " [-1.881603   -1.3390175   2.2136614 ]] \n",
            " Bias: \n",
            "[-0.11812525  1.4714233  -1.8204072 ] \n",
            " cost: 0.11997034\n",
            "\n"
          ],
          "name": "stdout"
        }
      ]
    },
    {
      "cell_type": "code",
      "metadata": {
        "colab": {
          "base_uri": "https://localhost:8080/"
        },
        "id": "9wEqJcT6FDt1",
        "outputId": "83df4ed6-63fc-4ae5-b33c-2d7d53fbdeb9"
      },
      "source": [
        "predicted = tf.argmax(softmax(x_data), axis = 1)\n",
        "real = tf.argmax(y_one_hot, axis = 1)\n",
        "def acc(pred,real):\n",
        "  accuracy = tf.reduce_mean(tf.cast(tf.equal(pred,real), dtype = tf.float32))\n",
        "  #tf.equal 논리 결과 값 반환 True / False\n",
        "  #tf.cast 텐서를 새로운 형태로 캐스팅하는데 사\n",
        "    # 부동소수점형에서 정수형으로 바꾼 경우 소수점 버림\n",
        "    # Boolean형태인 경우 True이면 1, False이면 0을 출력\n",
        "  return accuracy\n",
        "\n",
        "print(f\"Accuracy : {acc(predicted,real)}%\")"
      ],
      "execution_count": 254,
      "outputs": [
        {
          "output_type": "stream",
          "text": [
            "Accuracy : 0.9866666793823242%\n"
          ],
          "name": "stdout"
        }
      ]
    },
    {
      "cell_type": "markdown",
      "metadata": {
        "id": "vTcFU-_XNhE8"
      },
      "source": [
        "## 다층 퍼셉트론으로 MNIST 분류\n",
        "---\n",
        "- MNIST 데이터베이스 는 손으로 쓴 숫자들로 이루어진 대형 데이터베이스"
      ]
    },
    {
      "cell_type": "code",
      "metadata": {
        "id": "1PPe04eFN-EU"
      },
      "source": [
        "import tensorflow as tf\n",
        "import numpy as np\n",
        "from tensorflow.keras.models import Sequential\n",
        "from tensorflow.keras.layers import Dense,Dropout,Flatten\n",
        "from tensorflow.keras import optimizers"
      ],
      "execution_count": 383,
      "outputs": []
    },
    {
      "cell_type": "code",
      "metadata": {
        "id": "DRV8K3vNONmr"
      },
      "source": [
        "mnist = tf.keras.datasets.mnist \n",
        "(x_train, y_train), (x_test, y_test) = mnist.load_data()\n",
        "\n",
        "#x_train, x_test normalize: 값이 0~255 gray값으로 되어 있으며 이 값을 0~1로 표준화\n",
        "x_train,x_test = x_train/255.0, x_test/255.0"
      ],
      "execution_count": 384,
      "outputs": []
    },
    {
      "cell_type": "code",
      "metadata": {
        "colab": {
          "base_uri": "https://localhost:8080/"
        },
        "id": "42sr8abVQ281",
        "outputId": "e5641b4d-1a03-4761-d9a2-00fc87b60bd9"
      },
      "source": [
        "y_train"
      ],
      "execution_count": 385,
      "outputs": [
        {
          "output_type": "execute_result",
          "data": {
            "text/plain": [
              "array([5, 0, 4, ..., 5, 6, 8], dtype=uint8)"
            ]
          },
          "metadata": {
            "tags": []
          },
          "execution_count": 385
        }
      ]
    },
    {
      "cell_type": "code",
      "metadata": {
        "id": "hRb6pypUPiRu"
      },
      "source": [
        "model = Sequential([\n",
        "                    Flatten(input_shape = (28,28)), #28x28 이미지 데이터를 펴줌\n",
        "                    Dense(128, activation = 'relu'), #활성화 함수로 relu 사용\n",
        "                    Dropout(0.2), #데이터의 20%를 제외한 상태에서 학습 진행\n",
        "                    Dense(10, activation = 'softmax'), #총 10개의 class(0~9)로 분류\n",
        "])\n",
        "\n",
        "model.compile(optimizer='adam',\n",
        "              loss='sparse_categorical_crossentropy',\n",
        "              #분류 모델에서 y값은 one-hot encoding값을 입력해줘야 하지만,\n",
        "              #integer 그대로 사용하고자 할 경우 sparse_categorical_crossentropy, ont-hot encoding이 되어 있으면 categorical_crossentropy\n",
        "              metrics=['accuracy'])"
      ],
      "execution_count": 386,
      "outputs": []
    },
    {
      "cell_type": "code",
      "metadata": {
        "colab": {
          "base_uri": "https://localhost:8080/"
        },
        "id": "VfU71lYZQRho",
        "outputId": "45c1e9a1-ece4-4037-8bfb-edff08c450d6"
      },
      "source": [
        "model.fit(x_train,y_train,epochs = 5)\n",
        "model.evaluate(x_test,y_test,verbose = 1)#2 = one line per epoch."
      ],
      "execution_count": 387,
      "outputs": [
        {
          "output_type": "stream",
          "text": [
            "Epoch 1/5\n",
            "1875/1875 [==============================] - 5s 2ms/step - loss: 0.2975 - accuracy: 0.9137\n",
            "Epoch 2/5\n",
            "1875/1875 [==============================] - 5s 3ms/step - loss: 0.1409 - accuracy: 0.9576\n",
            "Epoch 3/5\n",
            "1875/1875 [==============================] - 5s 3ms/step - loss: 0.1075 - accuracy: 0.9680\n",
            "Epoch 4/5\n",
            "1875/1875 [==============================] - 5s 3ms/step - loss: 0.0856 - accuracy: 0.9737\n",
            "Epoch 5/5\n",
            "1875/1875 [==============================] - 5s 3ms/step - loss: 0.0736 - accuracy: 0.9765\n",
            "313/313 [==============================] - 1s 1ms/step - loss: 0.0729 - accuracy: 0.9776\n"
          ],
          "name": "stdout"
        },
        {
          "output_type": "execute_result",
          "data": {
            "text/plain": [
              "[0.0729101225733757, 0.9775999784469604]"
            ]
          },
          "metadata": {
            "tags": []
          },
          "execution_count": 387
        }
      ]
    },
    {
      "cell_type": "code",
      "metadata": {
        "colab": {
          "base_uri": "https://localhost:8080/"
        },
        "id": "GX14w_SPex8y",
        "outputId": "b06f77f7-d491-493e-dab5-0c659e403d2b"
      },
      "source": [
        "model.evaluate(x_test,y_test,verbose = 2)"
      ],
      "execution_count": 390,
      "outputs": [
        {
          "output_type": "stream",
          "text": [
            "313/313 - 0s - loss: 0.0729 - accuracy: 0.9776\n"
          ],
          "name": "stdout"
        },
        {
          "output_type": "execute_result",
          "data": {
            "text/plain": [
              "[0.0729101225733757, 0.9775999784469604]"
            ]
          },
          "metadata": {
            "tags": []
          },
          "execution_count": 390
        }
      ]
    },
    {
      "cell_type": "code",
      "metadata": {
        "colab": {
          "base_uri": "https://localhost:8080/"
        },
        "id": "0k-toWqYe9vT",
        "outputId": "1ab730a0-8c32-4c8c-ccae-536e5ae5b7cf"
      },
      "source": [
        "model.evaluate(x_test,y_test,verbose = 0)"
      ],
      "execution_count": 391,
      "outputs": [
        {
          "output_type": "execute_result",
          "data": {
            "text/plain": [
              "[0.0729101225733757, 0.9775999784469604]"
            ]
          },
          "metadata": {
            "tags": []
          },
          "execution_count": 391
        }
      ]
    },
    {
      "cell_type": "markdown",
      "metadata": {
        "id": "sA1db8heQikM"
      },
      "source": [
        "## 다층 퍼셉트론으로 20개의 뉴스 그룹 분류하기"
      ]
    },
    {
      "cell_type": "code",
      "metadata": {
        "id": "FeWSWejnSO0G"
      },
      "source": [
        "import pandas as pd\n",
        "from sklearn.datasets import fetch_20newsgroups\n",
        "import matplotlib.pyplot as plt\n",
        "from tensorflow.keras.preprocessing.text import Tokenizer\n",
        "from tensorflow.keras.utils import to_categorical"
      ],
      "execution_count": 1,
      "outputs": []
    },
    {
      "cell_type": "code",
      "metadata": {
        "id": "C4inLrccSiTe"
      },
      "source": [
        "newsdata = fetch_20newsgroups(subset = \"train\")"
      ],
      "execution_count": 2,
      "outputs": []
    },
    {
      "cell_type": "markdown",
      "metadata": {
        "id": "s0X9yN9vSuUV"
      },
      "source": [
        "subset = \"all\",\"train\",\"test\""
      ]
    },
    {
      "cell_type": "code",
      "metadata": {
        "colab": {
          "base_uri": "https://localhost:8080/"
        },
        "id": "EUiIm1FLSm8_",
        "outputId": "174fa56d-2d3d-4d14-fa3b-c523b415c33e"
      },
      "source": [
        "print(newsdata.keys())"
      ],
      "execution_count": 3,
      "outputs": [
        {
          "output_type": "stream",
          "text": [
            "dict_keys(['data', 'filenames', 'target_names', 'target', 'DESCR'])\n"
          ],
          "name": "stdout"
        }
      ]
    },
    {
      "cell_type": "markdown",
      "metadata": {
        "id": "NGiE5ejnS4qF"
      },
      "source": [
        "- data : 훈련에 사용할 데이터\n",
        "- target : 분류 class"
      ]
    },
    {
      "cell_type": "code",
      "metadata": {
        "colab": {
          "base_uri": "https://localhost:8080/"
        },
        "id": "3tCrysTSS-eg",
        "outputId": "8ea2097b-df10-48ca-c120-ec22121fc51b"
      },
      "source": [
        "print('훈련용 샘플 개수: ', len(newsdata.data))"
      ],
      "execution_count": 4,
      "outputs": [
        {
          "output_type": "stream",
          "text": [
            "훈련용 샘플 개수:  11314\n"
          ],
          "name": "stdout"
        }
      ]
    },
    {
      "cell_type": "code",
      "metadata": {
        "colab": {
          "base_uri": "https://localhost:8080/"
        },
        "id": "dLkrS535TMD-",
        "outputId": "7fc69c81-c4b0-46b1-9bb6-a5a16bb5b8ea"
      },
      "source": [
        "import pprint\n",
        "pp = pprint.PrettyPrinter()\n",
        "print(\"총 주제 개수: \", len(set(newsdata.target)))\n",
        "for i,s in enumerate(newsdata.target_names,start = 1):\n",
        "  print(f\"{i:>2}번 주제: {s}\")"
      ],
      "execution_count": 5,
      "outputs": [
        {
          "output_type": "stream",
          "text": [
            "총 주제 개수:  20\n",
            " 1번 주제: alt.atheism\n",
            " 2번 주제: comp.graphics\n",
            " 3번 주제: comp.os.ms-windows.misc\n",
            " 4번 주제: comp.sys.ibm.pc.hardware\n",
            " 5번 주제: comp.sys.mac.hardware\n",
            " 6번 주제: comp.windows.x\n",
            " 7번 주제: misc.forsale\n",
            " 8번 주제: rec.autos\n",
            " 9번 주제: rec.motorcycles\n",
            "10번 주제: rec.sport.baseball\n",
            "11번 주제: rec.sport.hockey\n",
            "12번 주제: sci.crypt\n",
            "13번 주제: sci.electronics\n",
            "14번 주제: sci.med\n",
            "15번 주제: sci.space\n",
            "16번 주제: soc.religion.christian\n",
            "17번 주제: talk.politics.guns\n",
            "18번 주제: talk.politics.mideast\n",
            "19번 주제: talk.politics.misc\n",
            "20번 주제: talk.religion.misc\n"
          ],
          "name": "stdout"
        }
      ]
    },
    {
      "cell_type": "code",
      "metadata": {
        "colab": {
          "base_uri": "https://localhost:8080/"
        },
        "id": "MnfSnq9WTSMa",
        "outputId": "0556828c-26c8-41d3-9e9f-5987bcf12e42"
      },
      "source": [
        "#첫 번째 샘플 데이터 확인\n",
        "print(newsdata.data[0])"
      ],
      "execution_count": 6,
      "outputs": [
        {
          "output_type": "stream",
          "text": [
            "From: lerxst@wam.umd.edu (where's my thing)\n",
            "Subject: WHAT car is this!?\n",
            "Nntp-Posting-Host: rac3.wam.umd.edu\n",
            "Organization: University of Maryland, College Park\n",
            "Lines: 15\n",
            "\n",
            " I was wondering if anyone out there could enlighten me on this car I saw\n",
            "the other day. It was a 2-door sports car, looked to be from the late 60s/\n",
            "early 70s. It was called a Bricklin. The doors were really small. In addition,\n",
            "the front bumper was separate from the rest of the body. This is \n",
            "all I know. If anyone can tellme a model name, engine specs, years\n",
            "of production, where this car is made, history, or whatever info you\n",
            "have on this funky looking car, please e-mail.\n",
            "\n",
            "Thanks,\n",
            "- IL\n",
            "   ---- brought to you by your neighborhood Lerxst ----\n",
            "\n",
            "\n",
            "\n",
            "\n",
            "\n"
          ],
          "name": "stdout"
        }
      ]
    },
    {
      "cell_type": "code",
      "metadata": {
        "colab": {
          "base_uri": "https://localhost:8080/",
          "height": 203
        },
        "id": "QsqJ6hc8UWQc",
        "outputId": "b90eb042-80a1-4b39-9940-aed12e65d15d"
      },
      "source": [
        "#pandas를 이용하여 dataframe 생성\n",
        "data = pd.DataFrame(newsdata.data, columns = [\"email\"])\n",
        "data['target'] = newsdata.target\n",
        "data.head()"
      ],
      "execution_count": 7,
      "outputs": [
        {
          "output_type": "execute_result",
          "data": {
            "text/html": [
              "<div>\n",
              "<style scoped>\n",
              "    .dataframe tbody tr th:only-of-type {\n",
              "        vertical-align: middle;\n",
              "    }\n",
              "\n",
              "    .dataframe tbody tr th {\n",
              "        vertical-align: top;\n",
              "    }\n",
              "\n",
              "    .dataframe thead th {\n",
              "        text-align: right;\n",
              "    }\n",
              "</style>\n",
              "<table border=\"1\" class=\"dataframe\">\n",
              "  <thead>\n",
              "    <tr style=\"text-align: right;\">\n",
              "      <th></th>\n",
              "      <th>email</th>\n",
              "      <th>target</th>\n",
              "    </tr>\n",
              "  </thead>\n",
              "  <tbody>\n",
              "    <tr>\n",
              "      <th>0</th>\n",
              "      <td>From: lerxst@wam.umd.edu (where's my thing)\\nS...</td>\n",
              "      <td>7</td>\n",
              "    </tr>\n",
              "    <tr>\n",
              "      <th>1</th>\n",
              "      <td>From: guykuo@carson.u.washington.edu (Guy Kuo)...</td>\n",
              "      <td>4</td>\n",
              "    </tr>\n",
              "    <tr>\n",
              "      <th>2</th>\n",
              "      <td>From: twillis@ec.ecn.purdue.edu (Thomas E Will...</td>\n",
              "      <td>4</td>\n",
              "    </tr>\n",
              "    <tr>\n",
              "      <th>3</th>\n",
              "      <td>From: jgreen@amber (Joe Green)\\nSubject: Re: W...</td>\n",
              "      <td>1</td>\n",
              "    </tr>\n",
              "    <tr>\n",
              "      <th>4</th>\n",
              "      <td>From: jcm@head-cfa.harvard.edu (Jonathan McDow...</td>\n",
              "      <td>14</td>\n",
              "    </tr>\n",
              "  </tbody>\n",
              "</table>\n",
              "</div>"
            ],
            "text/plain": [
              "                                               email  target\n",
              "0  From: lerxst@wam.umd.edu (where's my thing)\\nS...       7\n",
              "1  From: guykuo@carson.u.washington.edu (Guy Kuo)...       4\n",
              "2  From: twillis@ec.ecn.purdue.edu (Thomas E Will...       4\n",
              "3  From: jgreen@amber (Joe Green)\\nSubject: Re: W...       1\n",
              "4  From: jcm@head-cfa.harvard.edu (Jonathan McDow...      14"
            ]
          },
          "metadata": {
            "tags": []
          },
          "execution_count": 7
        }
      ]
    },
    {
      "cell_type": "code",
      "metadata": {
        "colab": {
          "base_uri": "https://localhost:8080/"
        },
        "id": "IxXoBW-3UjKZ",
        "outputId": "7ff3e4a6-ed9d-40aa-a56f-f3af5bd14d34"
      },
      "source": [
        "#data 정보 확인\n",
        "data.info()"
      ],
      "execution_count": 8,
      "outputs": [
        {
          "output_type": "stream",
          "text": [
            "<class 'pandas.core.frame.DataFrame'>\n",
            "RangeIndex: 11314 entries, 0 to 11313\n",
            "Data columns (total 2 columns):\n",
            " #   Column  Non-Null Count  Dtype \n",
            "---  ------  --------------  ----- \n",
            " 0   email   11314 non-null  object\n",
            " 1   target  11314 non-null  int64 \n",
            "dtypes: int64(1), object(1)\n",
            "memory usage: 176.9+ KB\n"
          ],
          "name": "stdout"
        }
      ]
    },
    {
      "cell_type": "code",
      "metadata": {
        "colab": {
          "base_uri": "https://localhost:8080/"
        },
        "id": "9cjqAydpUqdu",
        "outputId": "fc76a579-1b7f-4835-eeab-77883d866953"
      },
      "source": [
        "# 결측치 확인\n",
        "print(data.isnull().any())"
      ],
      "execution_count": 9,
      "outputs": [
        {
          "output_type": "stream",
          "text": [
            "email     False\n",
            "target    False\n",
            "dtype: bool\n"
          ],
          "name": "stdout"
        }
      ]
    },
    {
      "cell_type": "code",
      "metadata": {
        "colab": {
          "base_uri": "https://localhost:8080/"
        },
        "id": "5CRg-4IRU2bG",
        "outputId": "e2fb867f-ba75-4783-f434-1ca8b3e6ef28"
      },
      "source": [
        "#중복값 확인\n",
        "print(f\"중복을 제외한 샘플의 수: \", data.email.nunique())\n",
        "print(f\"중복을 제외한 주제의 수: \", data.target.nunique())"
      ],
      "execution_count": 10,
      "outputs": [
        {
          "output_type": "stream",
          "text": [
            "중복을 제외한 샘플의 수:  11314\n",
            "중복을 제외한 주제의 수:  20\n"
          ],
          "name": "stdout"
        }
      ]
    },
    {
      "cell_type": "code",
      "metadata": {
        "colab": {
          "base_uri": "https://localhost:8080/",
          "height": 286
        },
        "id": "FCWVRZpzVLsg",
        "outputId": "1cae5278-6e9d-44ca-d62f-81085c180050"
      },
      "source": [
        "data.target.value_counts().sort_index().plot.bar()"
      ],
      "execution_count": 11,
      "outputs": [
        {
          "output_type": "execute_result",
          "data": {
            "text/plain": [
              "<matplotlib.axes._subplots.AxesSubplot at 0x7f7d4adf8650>"
            ]
          },
          "metadata": {
            "tags": []
          },
          "execution_count": 11
        },
        {
          "output_type": "display_data",
          "data": {
            "image/png": "[encoded data removed]",
            "text/plain": [
              "<Figure size 432x288 with 1 Axes>"
            ]
          },
          "metadata": {
            "tags": [],
            "needs_background": "light"
          }
        }
      ]
    },
    {
      "cell_type": "code",
      "metadata": {
        "colab": {
          "base_uri": "https://localhost:8080/",
          "height": 665
        },
        "id": "bHrBLi9zVfrW",
        "outputId": "71e7468c-e98f-4f91-b8ba-646d3fb05037"
      },
      "source": [
        "data.groupby('target').size().reset_index(name = 'count')\n",
        "# data.groupby('target').agg({\"email\" : \"count\"}).reset_index()\n",
        "# data.groupby('target').email.count().reset_index(name = 'count')"
      ],
      "execution_count": 12,
      "outputs": [
        {
          "output_type": "execute_result",
          "data": {
            "text/html": [
              "<div>\n",
              "<style scoped>\n",
              "    .dataframe tbody tr th:only-of-type {\n",
              "        vertical-align: middle;\n",
              "    }\n",
              "\n",
              "    .dataframe tbody tr th {\n",
              "        vertical-align: top;\n",
              "    }\n",
              "\n",
              "    .dataframe thead th {\n",
              "        text-align: right;\n",
              "    }\n",
              "</style>\n",
              "<table border=\"1\" class=\"dataframe\">\n",
              "  <thead>\n",
              "    <tr style=\"text-align: right;\">\n",
              "      <th></th>\n",
              "      <th>target</th>\n",
              "      <th>count</th>\n",
              "    </tr>\n",
              "  </thead>\n",
              "  <tbody>\n",
              "    <tr>\n",
              "      <th>0</th>\n",
              "      <td>0</td>\n",
              "      <td>480</td>\n",
              "    </tr>\n",
              "    <tr>\n",
              "      <th>1</th>\n",
              "      <td>1</td>\n",
              "      <td>584</td>\n",
              "    </tr>\n",
              "    <tr>\n",
              "      <th>2</th>\n",
              "      <td>2</td>\n",
              "      <td>591</td>\n",
              "    </tr>\n",
              "    <tr>\n",
              "      <th>3</th>\n",
              "      <td>3</td>\n",
              "      <td>590</td>\n",
              "    </tr>\n",
              "    <tr>\n",
              "      <th>4</th>\n",
              "      <td>4</td>\n",
              "      <td>578</td>\n",
              "    </tr>\n",
              "    <tr>\n",
              "      <th>5</th>\n",
              "      <td>5</td>\n",
              "      <td>593</td>\n",
              "    </tr>\n",
              "    <tr>\n",
              "      <th>6</th>\n",
              "      <td>6</td>\n",
              "      <td>585</td>\n",
              "    </tr>\n",
              "    <tr>\n",
              "      <th>7</th>\n",
              "      <td>7</td>\n",
              "      <td>594</td>\n",
              "    </tr>\n",
              "    <tr>\n",
              "      <th>8</th>\n",
              "      <td>8</td>\n",
              "      <td>598</td>\n",
              "    </tr>\n",
              "    <tr>\n",
              "      <th>9</th>\n",
              "      <td>9</td>\n",
              "      <td>597</td>\n",
              "    </tr>\n",
              "    <tr>\n",
              "      <th>10</th>\n",
              "      <td>10</td>\n",
              "      <td>600</td>\n",
              "    </tr>\n",
              "    <tr>\n",
              "      <th>11</th>\n",
              "      <td>11</td>\n",
              "      <td>595</td>\n",
              "    </tr>\n",
              "    <tr>\n",
              "      <th>12</th>\n",
              "      <td>12</td>\n",
              "      <td>591</td>\n",
              "    </tr>\n",
              "    <tr>\n",
              "      <th>13</th>\n",
              "      <td>13</td>\n",
              "      <td>594</td>\n",
              "    </tr>\n",
              "    <tr>\n",
              "      <th>14</th>\n",
              "      <td>14</td>\n",
              "      <td>593</td>\n",
              "    </tr>\n",
              "    <tr>\n",
              "      <th>15</th>\n",
              "      <td>15</td>\n",
              "      <td>599</td>\n",
              "    </tr>\n",
              "    <tr>\n",
              "      <th>16</th>\n",
              "      <td>16</td>\n",
              "      <td>546</td>\n",
              "    </tr>\n",
              "    <tr>\n",
              "      <th>17</th>\n",
              "      <td>17</td>\n",
              "      <td>564</td>\n",
              "    </tr>\n",
              "    <tr>\n",
              "      <th>18</th>\n",
              "      <td>18</td>\n",
              "      <td>465</td>\n",
              "    </tr>\n",
              "    <tr>\n",
              "      <th>19</th>\n",
              "      <td>19</td>\n",
              "      <td>377</td>\n",
              "    </tr>\n",
              "  </tbody>\n",
              "</table>\n",
              "</div>"
            ],
            "text/plain": [
              "    target  count\n",
              "0        0    480\n",
              "1        1    584\n",
              "2        2    591\n",
              "3        3    590\n",
              "4        4    578\n",
              "5        5    593\n",
              "6        6    585\n",
              "7        7    594\n",
              "8        8    598\n",
              "9        9    597\n",
              "10      10    600\n",
              "11      11    595\n",
              "12      12    591\n",
              "13      13    594\n",
              "14      14    593\n",
              "15      15    599\n",
              "16      16    546\n",
              "17      17    564\n",
              "18      18    465\n",
              "19      19    377"
            ]
          },
          "metadata": {
            "tags": []
          },
          "execution_count": 12
        }
      ]
    },
    {
      "cell_type": "code",
      "metadata": {
        "id": "_fjTkEW3Wp_I"
      },
      "source": [
        "newsdata_test = fetch_20newsgroups(subset = \"test\")\n",
        "train_email = data.email #훈련 데이터 본문\n",
        "train_label = data.target #훈련 데이터 레이블\n",
        "\n",
        "test_email = newsdata_test.data #테스트 데이터 본문\n",
        "test_label = newsdata_test.target #테스트 데이터 레이블"
      ],
      "execution_count": 13,
      "outputs": []
    },
    {
      "cell_type": "code",
      "metadata": {
        "id": "JN5PC5CSW-J3"
      },
      "source": [
        "max_words = 10000 #실습에 사용할 단어 개수 지정\n",
        "num_classes = len(set(train_label)) #20개"
      ],
      "execution_count": 14,
      "outputs": []
    },
    {
      "cell_type": "code",
      "metadata": {
        "id": "piPvBzgXXTsy"
      },
      "source": [
        "def preprocessing_data(train_data, test_data, mode):\n",
        "  t = Tokenizer(num_words = max_words) \n",
        "  t.fit_on_texts(train_data)\n",
        "  X_train = t.texts_to_matrix(train_data, mode = mode)\n",
        "  X_test = t.texts_to_matrix(test_data, mode = mode)\n",
        "  return X_train,X_test,t.index_word"
      ],
      "execution_count": 15,
      "outputs": []
    },
    {
      "cell_type": "code",
      "metadata": {
        "id": "UVY2-Ji3cK3z"
      },
      "source": [
        "X_train,X_test,index_to_word = preprocessing_data(train_email,test_email,'binary')\n",
        "y_train = to_categorical(train_label,num_classes = num_classes)\n",
        "y_test = to_categorical(test_label,num_classes = num_classes)"
      ],
      "execution_count": 22,
      "outputs": []
    },
    {
      "cell_type": "code",
      "metadata": {
        "colab": {
          "base_uri": "https://localhost:8080/"
        },
        "id": "zlpwC-Gvcnd1",
        "outputId": "99320fb9-6926-4442-b3c0-593b7a48f359"
      },
      "source": [
        "print('훈련 샘플 본문의 크기 : {}'.format(X_train.shape))\n",
        "print('훈련 샘플 레이블의 크기 : {}'.format(y_train.shape))\n",
        "print('테스트 샘플 본문의 크기 : {}'.format(X_test.shape))\n",
        "print('테스트 샘플 레이블의 크기 : {}'.format(y_test.shape))"
      ],
      "execution_count": 23,
      "outputs": [
        {
          "output_type": "stream",
          "text": [
            "훈련 샘플 본문의 크기 : (11314, 10000)\n",
            "훈련 샘플 레이블의 크기 : (11314, 20)\n",
            "테스트 샘플 본문의 크기 : (7532, 10000)\n",
            "테스트 샘플 레이블의 크기 : (7532, 20)\n"
          ],
          "name": "stdout"
        }
      ]
    },
    {
      "cell_type": "code",
      "metadata": {
        "colab": {
          "base_uri": "https://localhost:8080/"
        },
        "id": "2grTJMXQcn0_",
        "outputId": "ce3ae9df-d801-48aa-f800-559511ddf5ee"
      },
      "source": [
        "print(\" 빈도수 상위 1번째 단어: \", index_to_word[1],\"\\n\",\"빈도수 상위 9999번째 단어: \",index_to_word[9999])"
      ],
      "execution_count": 18,
      "outputs": [
        {
          "output_type": "stream",
          "text": [
            " 빈도수 상위 1번째 단어:  the \n",
            " 빈도수 상위 9999번째 단어:  mic\n"
          ],
          "name": "stdout"
        }
      ]
    },
    {
      "cell_type": "code",
      "metadata": {
        "id": "S2rFEYmKcy3O"
      },
      "source": [
        "from tensorflow.keras.models import Sequential\n",
        "from tensorflow.keras.layers import Dense"
      ],
      "execution_count": 19,
      "outputs": []
    },
    {
      "cell_type": "code",
      "metadata": {
        "id": "Da4cYeJxdH3I"
      },
      "source": [
        "def fit_and_evaluate(X_train,y_train,X_test,y_test):\n",
        "  model = Sequential()\n",
        "  model.add(Dense(units = 256,input_shape = (10000,),activation = \"relu\"))\n",
        "  model.add(Dense(units = 128, activation = \"relu\"))\n",
        "  model.add(Dense(units = 20, activation = \"softmax\"))\n",
        "\n",
        "  model.compile(optimizer = 'adam', loss = \"categorical_crossentropy\", metrics = ['accuracy'])\n",
        "  model.fit(X_train,y_train,epochs = 5, batch_size = 128, verbose = 1, validation_split=0.1)\n",
        "  score = model.evaluate(X_test,y_test, batch_size = 128, verbose = 0)\n",
        "  return score"
      ],
      "execution_count": 26,
      "outputs": []
    },
    {
      "cell_type": "code",
      "metadata": {
        "colab": {
          "base_uri": "https://localhost:8080/"
        },
        "id": "OD7bIrGlfDnB",
        "outputId": "4adcc362-3af5-4b95-c3bc-5310200ac949"
      },
      "source": [
        "modes = ['binary','count','tfidf','freq']\n",
        "for mode in modes:\n",
        "  X_train,X_test,_ = preprocessing_data(train_email,test_email,mode)\n",
        "  score = fit_and_evaluate(X_train,y_train,X_test,y_test)\n",
        "  print(mode + \"모드의 정확도: \", score[1])"
      ],
      "execution_count": 27,
      "outputs": [
        {
          "output_type": "stream",
          "text": [
            "Epoch 1/5\n",
            "80/80 [==============================] - 4s 44ms/step - loss: 1.2841 - accuracy: 0.7102 - val_loss: 0.4663 - val_accuracy: 0.8710\n",
            "Epoch 2/5\n",
            "80/80 [==============================] - 3s 42ms/step - loss: 0.1839 - accuracy: 0.9637 - val_loss: 0.3318 - val_accuracy: 0.9046\n",
            "Epoch 3/5\n",
            "80/80 [==============================] - 3s 42ms/step - loss: 0.0580 - accuracy: 0.9950 - val_loss: 0.3015 - val_accuracy: 0.9099\n",
            "Epoch 4/5\n",
            "80/80 [==============================] - 3s 42ms/step - loss: 0.0224 - accuracy: 0.9984 - val_loss: 0.3080 - val_accuracy: 0.9064\n",
            "Epoch 5/5\n",
            "80/80 [==============================] - 3s 42ms/step - loss: 0.0136 - accuracy: 0.9986 - val_loss: 0.3124 - val_accuracy: 0.9099\n",
            "binary모드의 정확도:  0.8130642771720886\n",
            "Epoch 1/5\n",
            "80/80 [==============================] - 4s 42ms/step - loss: 1.5070 - accuracy: 0.6831 - val_loss: 0.5995 - val_accuracy: 0.8728\n",
            "Epoch 2/5\n",
            "80/80 [==============================] - 3s 40ms/step - loss: 0.3186 - accuracy: 0.9402 - val_loss: 0.6038 - val_accuracy: 0.8242\n",
            "Epoch 3/5\n",
            "80/80 [==============================] - 3s 41ms/step - loss: 0.1414 - accuracy: 0.9802 - val_loss: 0.8290 - val_accuracy: 0.8905\n",
            "Epoch 4/5\n",
            "80/80 [==============================] - 3s 41ms/step - loss: 0.0741 - accuracy: 0.9960 - val_loss: 0.4501 - val_accuracy: 0.8887\n",
            "Epoch 5/5\n",
            "80/80 [==============================] - 3s 41ms/step - loss: 0.0567 - accuracy: 0.9983 - val_loss: 0.4127 - val_accuracy: 0.8966\n",
            "count모드의 정확도:  0.8090812563896179\n",
            "Epoch 1/5\n",
            "80/80 [==============================] - 4s 49ms/step - loss: 0.9819 - accuracy: 0.7600 - val_loss: 0.3760 - val_accuracy: 0.9055\n",
            "Epoch 2/5\n",
            "80/80 [==============================] - 3s 43ms/step - loss: 0.0999 - accuracy: 0.9815 - val_loss: 0.6626 - val_accuracy: 0.8852\n",
            "Epoch 3/5\n",
            "80/80 [==============================] - 3s 43ms/step - loss: 0.0575 - accuracy: 0.9947 - val_loss: 0.3428 - val_accuracy: 0.9125\n",
            "Epoch 4/5\n",
            "80/80 [==============================] - 3s 43ms/step - loss: 0.0158 - accuracy: 0.9979 - val_loss: 0.3336 - val_accuracy: 0.9134\n",
            "Epoch 5/5\n",
            "80/80 [==============================] - 3s 43ms/step - loss: 0.0106 - accuracy: 0.9986 - val_loss: 0.3488 - val_accuracy: 0.9117\n",
            "tfidf모드의 정확도:  0.816383421421051\n",
            "Epoch 1/5\n",
            "80/80 [==============================] - 4s 42ms/step - loss: 2.9347 - accuracy: 0.1466 - val_loss: 2.7633 - val_accuracy: 0.2102\n",
            "Epoch 2/5\n",
            "80/80 [==============================] - 3s 40ms/step - loss: 2.3477 - accuracy: 0.4069 - val_loss: 1.9602 - val_accuracy: 0.5751\n",
            "Epoch 3/5\n",
            "80/80 [==============================] - 3s 40ms/step - loss: 1.5602 - accuracy: 0.6470 - val_loss: 1.3551 - val_accuracy: 0.6714\n",
            "Epoch 4/5\n",
            "80/80 [==============================] - 3s 40ms/step - loss: 1.0160 - accuracy: 0.7912 - val_loss: 0.9936 - val_accuracy: 0.7562\n",
            "Epoch 5/5\n",
            "80/80 [==============================] - 3s 40ms/step - loss: 0.6712 - accuracy: 0.8670 - val_loss: 0.7619 - val_accuracy: 0.8110\n",
            "freq모드의 정확도:  0.734067976474762\n"
          ],
          "name": "stdout"
        }
      ]
    },
    {
      "cell_type": "markdown",
      "metadata": {
        "id": "aoAuFfF3faYn"
      },
      "source": [
        "## 다층 퍼셉트론으로 네이버 영화 리뷰 분류"
      ]
    },
    {
      "cell_type": "code",
      "metadata": {
        "colab": {
          "base_uri": "https://localhost:8080/"
        },
        "id": "NAFDHT-dh2M5",
        "outputId": "3ee0a86f-bae7-4a66-d561-155c32060774"
      },
      "source": [
        "!pip install konlpy"
      ],
      "execution_count": 1,
      "outputs": [
        {
          "output_type": "stream",
          "text": [
            "Collecting konlpy\n",
            "\u001b[?25l  Downloading https://files.pythonhosted.org/packages/85/0e/f385566fec837c0b83f216b2da65db9997b35dd675e107752005b7d392b1/konlpy-0.5.2-py2.py3-none-any.whl (19.4MB)\n",
            "\u001b[K     |████████████████████████████████| 19.4MB 1.4MB/s \n",
            "\u001b[?25hRequirement already satisfied: numpy>=1.6 in /usr/local/lib/python3.7/dist-packages (from konlpy) (1.19.5)\n",
            "Collecting colorama\n",
            "  Downloading https://files.pythonhosted.org/packages/44/98/5b86278fbbf250d239ae0ecb724f8572af1c91f4a11edf4d36a206189440/colorama-0.4.4-py2.py3-none-any.whl\n",
            "Requirement already satisfied: tweepy>=3.7.0 in /usr/local/lib/python3.7/dist-packages (from konlpy) (3.10.0)\n",
            "Requirement already satisfied: lxml>=4.1.0 in /usr/local/lib/python3.7/dist-packages (from konlpy) (4.2.6)\n",
            "Collecting JPype1>=0.7.0\n",
            "\u001b[?25l  Downloading https://files.pythonhosted.org/packages/98/88/f817ef1af6f794e8f11313dcd1549de833f4599abcec82746ab5ed086686/JPype1-1.3.0-cp37-cp37m-manylinux_2_5_x86_64.manylinux1_x86_64.whl (448kB)\n",
            "\u001b[K     |████████████████████████████████| 450kB 41.0MB/s \n",
            "\u001b[?25hCollecting beautifulsoup4==4.6.0\n",
            "\u001b[?25l  Downloading https://files.pythonhosted.org/packages/9e/d4/10f46e5cfac773e22707237bfcd51bbffeaf0a576b0a847ec7ab15bd7ace/beautifulsoup4-4.6.0-py3-none-any.whl (86kB)\n",
            "\u001b[K     |████████████████████████████████| 92kB 10.7MB/s \n",
            "\u001b[?25hRequirement already satisfied: requests-oauthlib>=0.7.0 in /usr/local/lib/python3.7/dist-packages (from tweepy>=3.7.0->konlpy) (1.3.0)\n",
            "Requirement already satisfied: requests[socks]>=2.11.1 in /usr/local/lib/python3.7/dist-packages (from tweepy>=3.7.0->konlpy) (2.23.0)\n",
            "Requirement already satisfied: six>=1.10.0 in /usr/local/lib/python3.7/dist-packages (from tweepy>=3.7.0->konlpy) (1.15.0)\n",
            "Requirement already satisfied: typing-extensions; python_version < \"3.8\" in /usr/local/lib/python3.7/dist-packages (from JPype1>=0.7.0->konlpy) (3.7.4.3)\n",
            "Requirement already satisfied: oauthlib>=3.0.0 in /usr/local/lib/python3.7/dist-packages (from requests-oauthlib>=0.7.0->tweepy>=3.7.0->konlpy) (3.1.1)\n",
            "Requirement already satisfied: chardet<4,>=3.0.2 in /usr/local/lib/python3.7/dist-packages (from requests[socks]>=2.11.1->tweepy>=3.7.0->konlpy) (3.0.4)\n",
            "Requirement already satisfied: urllib3!=1.25.0,!=1.25.1,<1.26,>=1.21.1 in /usr/local/lib/python3.7/dist-packages (from requests[socks]>=2.11.1->tweepy>=3.7.0->konlpy) (1.24.3)\n",
            "Requirement already satisfied: idna<3,>=2.5 in /usr/local/lib/python3.7/dist-packages (from requests[socks]>=2.11.1->tweepy>=3.7.0->konlpy) (2.10)\n",
            "Requirement already satisfied: certifi>=2017.4.17 in /usr/local/lib/python3.7/dist-packages (from requests[socks]>=2.11.1->tweepy>=3.7.0->konlpy) (2021.5.30)\n",
            "Requirement already satisfied: PySocks!=1.5.7,>=1.5.6; extra == \"socks\" in /usr/local/lib/python3.7/dist-packages (from requests[socks]>=2.11.1->tweepy>=3.7.0->konlpy) (1.7.1)\n",
            "Installing collected packages: colorama, JPype1, beautifulsoup4, konlpy\n",
            "  Found existing installation: beautifulsoup4 4.6.3\n",
            "    Uninstalling beautifulsoup4-4.6.3:\n",
            "      Successfully uninstalled beautifulsoup4-4.6.3\n",
            "Successfully installed JPype1-1.3.0 beautifulsoup4-4.6.0 colorama-0.4.4 konlpy-0.5.2\n"
          ],
          "name": "stdout"
        }
      ]
    },
    {
      "cell_type": "code",
      "metadata": {
        "colab": {
          "base_uri": "https://localhost:8080/"
        },
        "id": "zdBSxvvzh3zv",
        "outputId": "95efba81-ed19-4980-dc35-2ef1756a6caf"
      },
      "source": [
        "import pandas as pd\n",
        "import urllib.request\n",
        "urllib.request.urlretrieve(\"https://raw.githubusercontent.com/e9t/nsmc/master/ratings_train.txt\", filename=\"ratings_train.txt\")\n",
        "urllib.request.urlretrieve(\"https://raw.githubusercontent.com/e9t/nsmc/master/ratings_test.txt\", filename=\"ratings_test.txt\")"
      ],
      "execution_count": 2,
      "outputs": [
        {
          "output_type": "execute_result",
          "data": {
            "text/plain": [
              "('ratings_test.txt', <http.client.HTTPMessage at 0x7f82b51edb10>)"
            ]
          },
          "metadata": {
            "tags": []
          },
          "execution_count": 2
        }
      ]
    },
    {
      "cell_type": "code",
      "metadata": {
        "id": "e6vwx1L0h7xx"
      },
      "source": [
        "train_data = pd.read_table('ratings_train.txt')"
      ],
      "execution_count": 3,
      "outputs": []
    },
    {
      "cell_type": "code",
      "metadata": {
        "colab": {
          "base_uri": "https://localhost:8080/",
          "height": 203
        },
        "id": "qdxMW3XJiA_3",
        "outputId": "f0de106e-9fa1-4aec-9458-460eca64c0b9"
      },
      "source": [
        "train_data.head()"
      ],
      "execution_count": 4,
      "outputs": [
        {
          "output_type": "execute_result",
          "data": {
            "text/html": [
              "<div>\n",
              "<style scoped>\n",
              "    .dataframe tbody tr th:only-of-type {\n",
              "        vertical-align: middle;\n",
              "    }\n",
              "\n",
              "    .dataframe tbody tr th {\n",
              "        vertical-align: top;\n",
              "    }\n",
              "\n",
              "    .dataframe thead th {\n",
              "        text-align: right;\n",
              "    }\n",
              "</style>\n",
              "<table border=\"1\" class=\"dataframe\">\n",
              "  <thead>\n",
              "    <tr style=\"text-align: right;\">\n",
              "      <th></th>\n",
              "      <th>id</th>\n",
              "      <th>document</th>\n",
              "      <th>label</th>\n",
              "    </tr>\n",
              "  </thead>\n",
              "  <tbody>\n",
              "    <tr>\n",
              "      <th>0</th>\n",
              "      <td>9976970</td>\n",
              "      <td>아 더빙.. 진짜 짜증나네요 목소리</td>\n",
              "      <td>0</td>\n",
              "    </tr>\n",
              "    <tr>\n",
              "      <th>1</th>\n",
              "      <td>3819312</td>\n",
              "      <td>흠...포스터보고 초딩영화줄....오버연기조차 가볍지 않구나</td>\n",
              "      <td>1</td>\n",
              "    </tr>\n",
              "    <tr>\n",
              "      <th>2</th>\n",
              "      <td>10265843</td>\n",
              "      <td>너무재밓었다그래서보는것을추천한다</td>\n",
              "      <td>0</td>\n",
              "    </tr>\n",
              "    <tr>\n",
              "      <th>3</th>\n",
              "      <td>9045019</td>\n",
              "      <td>교도소 이야기구먼 ..솔직히 재미는 없다..평점 조정</td>\n",
              "      <td>0</td>\n",
              "    </tr>\n",
              "    <tr>\n",
              "      <th>4</th>\n",
              "      <td>6483659</td>\n",
              "      <td>사이몬페그의 익살스런 연기가 돋보였던 영화!스파이더맨에서 늙어보이기만 했던 커스틴 ...</td>\n",
              "      <td>1</td>\n",
              "    </tr>\n",
              "  </tbody>\n",
              "</table>\n",
              "</div>"
            ],
            "text/plain": [
              "         id                                           document  label\n",
              "0   9976970                                아 더빙.. 진짜 짜증나네요 목소리      0\n",
              "1   3819312                  흠...포스터보고 초딩영화줄....오버연기조차 가볍지 않구나      1\n",
              "2  10265843                                  너무재밓었다그래서보는것을추천한다      0\n",
              "3   9045019                      교도소 이야기구먼 ..솔직히 재미는 없다..평점 조정      0\n",
              "4   6483659  사이몬페그의 익살스런 연기가 돋보였던 영화!스파이더맨에서 늙어보이기만 했던 커스틴 ...      1"
            ]
          },
          "metadata": {
            "tags": []
          },
          "execution_count": 4
        }
      ]
    },
    {
      "cell_type": "code",
      "metadata": {
        "id": "Dyc-wUOiiIAL"
      },
      "source": [
        "def read_data(filename):\n",
        "  with open(filename,'r') as f:\n",
        "    data = [line.split(\"\\t\") for line in f.read().splitlines()]\n",
        "    #txt file의 헤더(id document label) 제외하기\n",
        "    data = data[1:]\n",
        "  return data\n",
        "\n",
        "train_data = read_data(\"ratings_train.txt\")\n",
        "test_data = read_data(\"ratings_test.txt\")"
      ],
      "execution_count": 5,
      "outputs": []
    },
    {
      "cell_type": "code",
      "metadata": {
        "colab": {
          "base_uri": "https://localhost:8080/"
        },
        "id": "kOjBGBqnioYU",
        "outputId": "5ac756da-6e0c-4c88-8875-ed78f2619e39"
      },
      "source": [
        "print(\"train_data shape: \",(len(train_data),len(train_data[0])))\n",
        "print(\"test_data shape: \",(len(test_data),len(test_data[0])))"
      ],
      "execution_count": 6,
      "outputs": [
        {
          "output_type": "stream",
          "text": [
            "train_data shape:  (150000, 3)\n",
            "test_data shape:  (50000, 3)\n"
          ],
          "name": "stdout"
        }
      ]
    },
    {
      "cell_type": "code",
      "metadata": {
        "colab": {
          "base_uri": "https://localhost:8080/"
        },
        "id": "idg2oMywjSWm",
        "outputId": "af55712d-15fe-4f7f-d097-b241d579e95b"
      },
      "source": [
        "from konlpy.tag import Okt\n",
        "okt = Okt()\n",
        "print(okt.pos('아 더빙.. 진짜 짜증나네요 목소리'))"
      ],
      "execution_count": 7,
      "outputs": [
        {
          "output_type": "stream",
          "text": [
            "[('아', 'Exclamation'), ('더빙', 'Noun'), ('..', 'Punctuation'), ('진짜', 'Noun'), ('짜증나네요', 'Adjective'), ('목소리', 'Noun')]\n"
          ],
          "name": "stdout"
        }
      ]
    },
    {
      "cell_type": "code",
      "metadata": {
        "id": "Il8lmDfNjhg-"
      },
      "source": [
        "import json\n",
        "import os\n",
        "from pprint import pprint\n",
        "def tokenize(doc):\n",
        "  #norm : 정규화, stem : 근어\n",
        "  return ['/'.join(t) for t in okt.pos(doc, norm = True, stem = True)]\n",
        "\n",
        "if os.path.isfile('train_docs.json'):\n",
        "  with open('train_docs.json') as f:\n",
        "    train_docs = json.load(f)\n",
        "  with open('test_docs.json') as f:\n",
        "    test_docs = json.load(f)\n",
        "else:\n",
        "  train_docs = [[tokenize(row[1]),row[2]] for row in train_data]\n",
        "  test_docs = [[tokenize(row[1]),row[2]] for row in test_data]\n",
        "  with open('train_docs.json','w',encoding = 'utf-8') as make_file:\n",
        "    json.dump('train_docs.json',make_file, ensure_ascii=False, indent = \"\\t\")\n",
        "  with open('test_docs.json','w',encoding = 'utf-8') as make_file:\n",
        "    json.dump('test_docs.json',make_file, ensure_ascii=False, indent = \"\\t\")"
      ],
      "execution_count": 9,
      "outputs": []
    },
    {
      "cell_type": "code",
      "metadata": {
        "colab": {
          "base_uri": "https://localhost:8080/"
        },
        "id": "LLMf3ylWnfMy",
        "outputId": "f6872277-4b50-4412-ab99-708a8bc4900b"
      },
      "source": [
        "pprint(train_docs[0])"
      ],
      "execution_count": 11,
      "outputs": [
        {
          "output_type": "stream",
          "text": [
            "[['아/Exclamation',\n",
            "  '더빙/Noun',\n",
            "  '../Punctuation',\n",
            "  '진짜/Noun',\n",
            "  '짜증나다/Adjective',\n",
            "  '목소리/Noun'],\n",
            " '0']\n"
          ],
          "name": "stdout"
        }
      ]
    },
    {
      "cell_type": "code",
      "metadata": {
        "colab": {
          "base_uri": "https://localhost:8080/"
        },
        "id": "yWNn1HQlq-PW",
        "outputId": "28a44459-3037-4508-b92f-8a4ce7dd9758"
      },
      "source": [
        "tokens = [t for d in train_docs for t in d[0]]\n",
        "print(len(tokens))"
      ],
      "execution_count": 12,
      "outputs": [
        {
          "output_type": "stream",
          "text": [
            "162\n"
          ],
          "name": "stdout"
        }
      ]
    },
    {
      "cell_type": "code",
      "metadata": {
        "colab": {
          "base_uri": "https://localhost:8080/"
        },
        "id": "GEEukawdrEl0",
        "outputId": "f4795527-c725-46cb-fb46-51371a5c5a09"
      },
      "source": [
        "import nltk\n",
        "text = nltk.Text(tokens, name = \"NMSC\")\n",
        "#전체 토큰 개수\n",
        "print(len(text.tokens))\n",
        "\n",
        "#중복을 제외한 토큰 개수\n",
        "print(len(set(text.tokens)))\n",
        "\n",
        "#출현 빈도가 높은 상위 10개 토큰\n",
        "print(text.vocab().most_common(10))"
      ],
      "execution_count": 31,
      "outputs": [
        {
          "output_type": "stream",
          "text": [
            "162\n",
            "128\n",
            "[('../Punctuation', 6), ('영화/Noun', 4), ('./Punctuation', 4), ('연기/Noun', 3), ('없다/Adjective', 3), ('하다/Verb', 3), ('도/Josa', 3), ('이/Josa', 3), ('만/Josa', 3), ('.../Punctuation', 2)]\n"
          ],
          "name": "stdout"
        }
      ]
    },
    {
      "cell_type": "code",
      "metadata": {
        "id": "c2M28zbZrwN2"
      },
      "source": [
        "#상위 10000개 토큰 선택\n",
        "num_tokens = 10000\n",
        "\n",
        "selected_words = [t[0] for t in text.vocab().most_common(num_tokens)]\n",
        "\n",
        "def term_frequency(doc):\n",
        "  return [doc.count(word) for word in selected_words]\n",
        "\n",
        "train_x = [term_frequency(d) for d,_ in train_docs]\n",
        "test_x = [term_frequency(d) for d,_ in test_docs]\n",
        "train_y = [c for _,c in train_docs]\n",
        "test_y = [c for _,c in test_docs]"
      ],
      "execution_count": 39,
      "outputs": []
    },
    {
      "cell_type": "code",
      "metadata": {
        "id": "0K4RBOWZs6QZ"
      },
      "source": [
        "import numpy as np\n",
        "x_train = np.array(train_x).astype('float32')\n",
        "x_test = np.array(test_x).astype('float32')\n",
        "\n",
        "y_train = np.array(train_y).astype('float32')\n",
        "y_test = np.array(test_y).astype('float32')"
      ],
      "execution_count": 42,
      "outputs": []
    },
    {
      "cell_type": "code",
      "metadata": {
        "colab": {
          "base_uri": "https://localhost:8080/"
        },
        "id": "LJ_iAUQbtInU",
        "outputId": "be1d6143-ae4f-4024-b9a1-1e1e28d7d17b"
      },
      "source": [
        "print(x_train.shape)\n",
        "print(x_test.shape)\n",
        "print(y_train.shape)\n",
        "print(y_test.shape)"
      ],
      "execution_count": 43,
      "outputs": [
        {
          "output_type": "stream",
          "text": [
            "(10, 128)\n",
            "(10, 128)\n",
            "(10,)\n",
            "(10,)\n"
          ],
          "name": "stdout"
        }
      ]
    },
    {
      "cell_type": "code",
      "metadata": {
        "colab": {
          "base_uri": "https://localhost:8080/",
          "height": 829
        },
        "id": "TOwCKvywtKqR",
        "outputId": "00e8198f-97f8-470e-b9e0-d3e7674f8148"
      },
      "source": [
        "from tensorflow.keras.models import Sequential\n",
        "from tensorflow.keras.layers import Dense\n",
        "from tensorflow.keras import optimizers\n",
        "from tensorflow.keras import losses\n",
        "from tensorflow.keras import metrics\n",
        "\n",
        "model = Sequential()\n",
        "model.add(Dense(64, activation='relu', input_shape=(10000,)))\n",
        "model.add(Dense(64, activation='relu'))\n",
        "model.add(Dense(1, activation='sigmoid'))\n",
        "\n",
        "model.compile(optimizer=optimizers.RMSprop(lr=0.001),\n",
        "             loss=losses.binary_crossentropy,\n",
        "             metrics=[metrics.binary_accuracy])\n",
        "\n",
        "model.fit(x_train, y_train, epochs=10, batch_size=512)\n",
        "results = model.evaluate(x_test, y_test)"
      ],
      "execution_count": 45,
      "outputs": [
        {
          "output_type": "stream",
          "text": [
            "/usr/local/lib/python3.7/dist-packages/tensorflow/python/keras/optimizer_v2/optimizer_v2.py:375: UserWarning: The `lr` argument is deprecated, use `learning_rate` instead.\n",
            "  \"The `lr` argument is deprecated, use `learning_rate` instead.\")\n"
          ],
          "name": "stderr"
        },
        {
          "output_type": "stream",
          "text": [
            "Epoch 1/10\n"
          ],
          "name": "stdout"
        },
        {
          "output_type": "error",
          "ename": "ValueError",
          "evalue": "ignored",
          "traceback": [
            "\u001b[0;31m---------------------------------------------------------------------------\u001b[0m",
            "\u001b[0;31mValueError\u001b[0m                                Traceback (most recent call last)",
            "\u001b[0;32m<ipython-input-45-a539ee2a3d45>\u001b[0m in \u001b[0;36m<module>\u001b[0;34m()\u001b[0m\n\u001b[1;32m     14\u001b[0m              metrics=[metrics.binary_accuracy])\n\u001b[1;32m     15\u001b[0m \u001b[0;34m\u001b[0m\u001b[0m\n\u001b[0;32m---> 16\u001b[0;31m \u001b[0mmodel\u001b[0m\u001b[0;34m.\u001b[0m\u001b[0mfit\u001b[0m\u001b[0;34m(\u001b[0m\u001b[0mx_train\u001b[0m\u001b[0;34m,\u001b[0m \u001b[0my_train\u001b[0m\u001b[0;34m,\u001b[0m \u001b[0mepochs\u001b[0m\u001b[0;34m=\u001b[0m\u001b[0;36m10\u001b[0m\u001b[0;34m,\u001b[0m \u001b[0mbatch_size\u001b[0m\u001b[0;34m=\u001b[0m\u001b[0;36m512\u001b[0m\u001b[0;34m)\u001b[0m\u001b[0;34m\u001b[0m\u001b[0;34m\u001b[0m\u001b[0m\n\u001b[0m\u001b[1;32m     17\u001b[0m \u001b[0mresults\u001b[0m \u001b[0;34m=\u001b[0m \u001b[0mmodel\u001b[0m\u001b[0;34m.\u001b[0m\u001b[0mevaluate\u001b[0m\u001b[0;34m(\u001b[0m\u001b[0mx_test\u001b[0m\u001b[0;34m,\u001b[0m \u001b[0my_test\u001b[0m\u001b[0;34m)\u001b[0m\u001b[0;34m\u001b[0m\u001b[0;34m\u001b[0m\u001b[0m\n",
            "\u001b[0;32m/usr/local/lib/python3.7/dist-packages/tensorflow/python/keras/engine/training.py\u001b[0m in \u001b[0;36mfit\u001b[0;34m(self, x, y, batch_size, epochs, verbose, callbacks, validation_split, validation_data, shuffle, class_weight, sample_weight, initial_epoch, steps_per_epoch, validation_steps, validation_batch_size, validation_freq, max_queue_size, workers, use_multiprocessing)\u001b[0m\n\u001b[1;32m   1181\u001b[0m                 _r=1):\n\u001b[1;32m   1182\u001b[0m               \u001b[0mcallbacks\u001b[0m\u001b[0;34m.\u001b[0m\u001b[0mon_train_batch_begin\u001b[0m\u001b[0;34m(\u001b[0m\u001b[0mstep\u001b[0m\u001b[0;34m)\u001b[0m\u001b[0;34m\u001b[0m\u001b[0;34m\u001b[0m\u001b[0m\n\u001b[0;32m-> 1183\u001b[0;31m               \u001b[0mtmp_logs\u001b[0m \u001b[0;34m=\u001b[0m \u001b[0mself\u001b[0m\u001b[0;34m.\u001b[0m\u001b[0mtrain_function\u001b[0m\u001b[0;34m(\u001b[0m\u001b[0miterator\u001b[0m\u001b[0;34m)\u001b[0m\u001b[0;34m\u001b[0m\u001b[0;34m\u001b[0m\u001b[0m\n\u001b[0m\u001b[1;32m   1184\u001b[0m               \u001b[0;32mif\u001b[0m \u001b[0mdata_handler\u001b[0m\u001b[0;34m.\u001b[0m\u001b[0mshould_sync\u001b[0m\u001b[0;34m:\u001b[0m\u001b[0;34m\u001b[0m\u001b[0;34m\u001b[0m\u001b[0m\n\u001b[1;32m   1185\u001b[0m                 \u001b[0mcontext\u001b[0m\u001b[0;34m.\u001b[0m\u001b[0masync_wait\u001b[0m\u001b[0;34m(\u001b[0m\u001b[0;34m)\u001b[0m\u001b[0;34m\u001b[0m\u001b[0;34m\u001b[0m\u001b[0m\n",
            "\u001b[0;32m/usr/local/lib/python3.7/dist-packages/tensorflow/python/eager/def_function.py\u001b[0m in \u001b[0;36m__call__\u001b[0;34m(self, *args, **kwds)\u001b[0m\n\u001b[1;32m    887\u001b[0m \u001b[0;34m\u001b[0m\u001b[0m\n\u001b[1;32m    888\u001b[0m       \u001b[0;32mwith\u001b[0m \u001b[0mOptionalXlaContext\u001b[0m\u001b[0;34m(\u001b[0m\u001b[0mself\u001b[0m\u001b[0;34m.\u001b[0m\u001b[0m_jit_compile\u001b[0m\u001b[0;34m)\u001b[0m\u001b[0;34m:\u001b[0m\u001b[0;34m\u001b[0m\u001b[0;34m\u001b[0m\u001b[0m\n\u001b[0;32m--> 889\u001b[0;31m         \u001b[0mresult\u001b[0m \u001b[0;34m=\u001b[0m \u001b[0mself\u001b[0m\u001b[0;34m.\u001b[0m\u001b[0m_call\u001b[0m\u001b[0;34m(\u001b[0m\u001b[0;34m*\u001b[0m\u001b[0margs\u001b[0m\u001b[0;34m,\u001b[0m \u001b[0;34m**\u001b[0m\u001b[0mkwds\u001b[0m\u001b[0;34m)\u001b[0m\u001b[0;34m\u001b[0m\u001b[0;34m\u001b[0m\u001b[0m\n\u001b[0m\u001b[1;32m    890\u001b[0m \u001b[0;34m\u001b[0m\u001b[0m\n\u001b[1;32m    891\u001b[0m       \u001b[0mnew_tracing_count\u001b[0m \u001b[0;34m=\u001b[0m \u001b[0mself\u001b[0m\u001b[0;34m.\u001b[0m\u001b[0mexperimental_get_tracing_count\u001b[0m\u001b[0;34m(\u001b[0m\u001b[0;34m)\u001b[0m\u001b[0;34m\u001b[0m\u001b[0;34m\u001b[0m\u001b[0m\n",
            "\u001b[0;32m/usr/local/lib/python3.7/dist-packages/tensorflow/python/eager/def_function.py\u001b[0m in \u001b[0;36m_call\u001b[0;34m(self, *args, **kwds)\u001b[0m\n\u001b[1;32m    931\u001b[0m       \u001b[0;31m# This is the first call of __call__, so we have to initialize.\u001b[0m\u001b[0;34m\u001b[0m\u001b[0;34m\u001b[0m\u001b[0;34m\u001b[0m\u001b[0m\n\u001b[1;32m    932\u001b[0m       \u001b[0minitializers\u001b[0m \u001b[0;34m=\u001b[0m \u001b[0;34m[\u001b[0m\u001b[0;34m]\u001b[0m\u001b[0;34m\u001b[0m\u001b[0;34m\u001b[0m\u001b[0m\n\u001b[0;32m--> 933\u001b[0;31m       \u001b[0mself\u001b[0m\u001b[0;34m.\u001b[0m\u001b[0m_initialize\u001b[0m\u001b[0;34m(\u001b[0m\u001b[0margs\u001b[0m\u001b[0;34m,\u001b[0m \u001b[0mkwds\u001b[0m\u001b[0;34m,\u001b[0m \u001b[0madd_initializers_to\u001b[0m\u001b[0;34m=\u001b[0m\u001b[0minitializers\u001b[0m\u001b[0;34m)\u001b[0m\u001b[0;34m\u001b[0m\u001b[0;34m\u001b[0m\u001b[0m\n\u001b[0m\u001b[1;32m    934\u001b[0m     \u001b[0;32mfinally\u001b[0m\u001b[0;34m:\u001b[0m\u001b[0;34m\u001b[0m\u001b[0;34m\u001b[0m\u001b[0m\n\u001b[1;32m    935\u001b[0m       \u001b[0;31m# At this point we know that the initialization is complete (or less\u001b[0m\u001b[0;34m\u001b[0m\u001b[0;34m\u001b[0m\u001b[0;34m\u001b[0m\u001b[0m\n",
            "\u001b[0;32m/usr/local/lib/python3.7/dist-packages/tensorflow/python/eager/def_function.py\u001b[0m in \u001b[0;36m_initialize\u001b[0;34m(self, args, kwds, add_initializers_to)\u001b[0m\n\u001b[1;32m    762\u001b[0m     self._concrete_stateful_fn = (\n\u001b[1;32m    763\u001b[0m         self._stateful_fn._get_concrete_function_internal_garbage_collected(  # pylint: disable=protected-access\n\u001b[0;32m--> 764\u001b[0;31m             *args, **kwds))\n\u001b[0m\u001b[1;32m    765\u001b[0m \u001b[0;34m\u001b[0m\u001b[0m\n\u001b[1;32m    766\u001b[0m     \u001b[0;32mdef\u001b[0m \u001b[0minvalid_creator_scope\u001b[0m\u001b[0;34m(\u001b[0m\u001b[0;34m*\u001b[0m\u001b[0munused_args\u001b[0m\u001b[0;34m,\u001b[0m \u001b[0;34m**\u001b[0m\u001b[0munused_kwds\u001b[0m\u001b[0;34m)\u001b[0m\u001b[0;34m:\u001b[0m\u001b[0;34m\u001b[0m\u001b[0;34m\u001b[0m\u001b[0m\n",
            "\u001b[0;32m/usr/local/lib/python3.7/dist-packages/tensorflow/python/eager/function.py\u001b[0m in \u001b[0;36m_get_concrete_function_internal_garbage_collected\u001b[0;34m(self, *args, **kwargs)\u001b[0m\n\u001b[1;32m   3048\u001b[0m       \u001b[0margs\u001b[0m\u001b[0;34m,\u001b[0m \u001b[0mkwargs\u001b[0m \u001b[0;34m=\u001b[0m \u001b[0;32mNone\u001b[0m\u001b[0;34m,\u001b[0m \u001b[0;32mNone\u001b[0m\u001b[0;34m\u001b[0m\u001b[0;34m\u001b[0m\u001b[0m\n\u001b[1;32m   3049\u001b[0m     \u001b[0;32mwith\u001b[0m \u001b[0mself\u001b[0m\u001b[0;34m.\u001b[0m\u001b[0m_lock\u001b[0m\u001b[0;34m:\u001b[0m\u001b[0;34m\u001b[0m\u001b[0;34m\u001b[0m\u001b[0m\n\u001b[0;32m-> 3050\u001b[0;31m       \u001b[0mgraph_function\u001b[0m\u001b[0;34m,\u001b[0m \u001b[0m_\u001b[0m \u001b[0;34m=\u001b[0m \u001b[0mself\u001b[0m\u001b[0;34m.\u001b[0m\u001b[0m_maybe_define_function\u001b[0m\u001b[0;34m(\u001b[0m\u001b[0margs\u001b[0m\u001b[0;34m,\u001b[0m \u001b[0mkwargs\u001b[0m\u001b[0;34m)\u001b[0m\u001b[0;34m\u001b[0m\u001b[0;34m\u001b[0m\u001b[0m\n\u001b[0m\u001b[1;32m   3051\u001b[0m     \u001b[0;32mreturn\u001b[0m \u001b[0mgraph_function\u001b[0m\u001b[0;34m\u001b[0m\u001b[0;34m\u001b[0m\u001b[0m\n\u001b[1;32m   3052\u001b[0m \u001b[0;34m\u001b[0m\u001b[0m\n",
            "\u001b[0;32m/usr/local/lib/python3.7/dist-packages/tensorflow/python/eager/function.py\u001b[0m in \u001b[0;36m_maybe_define_function\u001b[0;34m(self, args, kwargs)\u001b[0m\n\u001b[1;32m   3442\u001b[0m \u001b[0;34m\u001b[0m\u001b[0m\n\u001b[1;32m   3443\u001b[0m           \u001b[0mself\u001b[0m\u001b[0;34m.\u001b[0m\u001b[0m_function_cache\u001b[0m\u001b[0;34m.\u001b[0m\u001b[0mmissed\u001b[0m\u001b[0;34m.\u001b[0m\u001b[0madd\u001b[0m\u001b[0;34m(\u001b[0m\u001b[0mcall_context_key\u001b[0m\u001b[0;34m)\u001b[0m\u001b[0;34m\u001b[0m\u001b[0;34m\u001b[0m\u001b[0m\n\u001b[0;32m-> 3444\u001b[0;31m           \u001b[0mgraph_function\u001b[0m \u001b[0;34m=\u001b[0m \u001b[0mself\u001b[0m\u001b[0;34m.\u001b[0m\u001b[0m_create_graph_function\u001b[0m\u001b[0;34m(\u001b[0m\u001b[0margs\u001b[0m\u001b[0;34m,\u001b[0m \u001b[0mkwargs\u001b[0m\u001b[0;34m)\u001b[0m\u001b[0;34m\u001b[0m\u001b[0;34m\u001b[0m\u001b[0m\n\u001b[0m\u001b[1;32m   3445\u001b[0m           \u001b[0mself\u001b[0m\u001b[0;34m.\u001b[0m\u001b[0m_function_cache\u001b[0m\u001b[0;34m.\u001b[0m\u001b[0mprimary\u001b[0m\u001b[0;34m[\u001b[0m\u001b[0mcache_key\u001b[0m\u001b[0;34m]\u001b[0m \u001b[0;34m=\u001b[0m \u001b[0mgraph_function\u001b[0m\u001b[0;34m\u001b[0m\u001b[0;34m\u001b[0m\u001b[0m\n\u001b[1;32m   3446\u001b[0m \u001b[0;34m\u001b[0m\u001b[0m\n",
            "\u001b[0;32m/usr/local/lib/python3.7/dist-packages/tensorflow/python/eager/function.py\u001b[0m in \u001b[0;36m_create_graph_function\u001b[0;34m(self, args, kwargs, override_flat_arg_shapes)\u001b[0m\n\u001b[1;32m   3287\u001b[0m             \u001b[0marg_names\u001b[0m\u001b[0;34m=\u001b[0m\u001b[0marg_names\u001b[0m\u001b[0;34m,\u001b[0m\u001b[0;34m\u001b[0m\u001b[0;34m\u001b[0m\u001b[0m\n\u001b[1;32m   3288\u001b[0m             \u001b[0moverride_flat_arg_shapes\u001b[0m\u001b[0;34m=\u001b[0m\u001b[0moverride_flat_arg_shapes\u001b[0m\u001b[0;34m,\u001b[0m\u001b[0;34m\u001b[0m\u001b[0;34m\u001b[0m\u001b[0m\n\u001b[0;32m-> 3289\u001b[0;31m             capture_by_value=self._capture_by_value),\n\u001b[0m\u001b[1;32m   3290\u001b[0m         \u001b[0mself\u001b[0m\u001b[0;34m.\u001b[0m\u001b[0m_function_attributes\u001b[0m\u001b[0;34m,\u001b[0m\u001b[0;34m\u001b[0m\u001b[0;34m\u001b[0m\u001b[0m\n\u001b[1;32m   3291\u001b[0m         \u001b[0mfunction_spec\u001b[0m\u001b[0;34m=\u001b[0m\u001b[0mself\u001b[0m\u001b[0;34m.\u001b[0m\u001b[0mfunction_spec\u001b[0m\u001b[0;34m,\u001b[0m\u001b[0;34m\u001b[0m\u001b[0;34m\u001b[0m\u001b[0m\n",
            "\u001b[0;32m/usr/local/lib/python3.7/dist-packages/tensorflow/python/framework/func_graph.py\u001b[0m in \u001b[0;36mfunc_graph_from_py_func\u001b[0;34m(name, python_func, args, kwargs, signature, func_graph, autograph, autograph_options, add_control_dependencies, arg_names, op_return_value, collections, capture_by_value, override_flat_arg_shapes)\u001b[0m\n\u001b[1;32m    997\u001b[0m         \u001b[0m_\u001b[0m\u001b[0;34m,\u001b[0m \u001b[0moriginal_func\u001b[0m \u001b[0;34m=\u001b[0m \u001b[0mtf_decorator\u001b[0m\u001b[0;34m.\u001b[0m\u001b[0munwrap\u001b[0m\u001b[0;34m(\u001b[0m\u001b[0mpython_func\u001b[0m\u001b[0;34m)\u001b[0m\u001b[0;34m\u001b[0m\u001b[0;34m\u001b[0m\u001b[0m\n\u001b[1;32m    998\u001b[0m \u001b[0;34m\u001b[0m\u001b[0m\n\u001b[0;32m--> 999\u001b[0;31m       \u001b[0mfunc_outputs\u001b[0m \u001b[0;34m=\u001b[0m \u001b[0mpython_func\u001b[0m\u001b[0;34m(\u001b[0m\u001b[0;34m*\u001b[0m\u001b[0mfunc_args\u001b[0m\u001b[0;34m,\u001b[0m \u001b[0;34m**\u001b[0m\u001b[0mfunc_kwargs\u001b[0m\u001b[0;34m)\u001b[0m\u001b[0;34m\u001b[0m\u001b[0;34m\u001b[0m\u001b[0m\n\u001b[0m\u001b[1;32m   1000\u001b[0m \u001b[0;34m\u001b[0m\u001b[0m\n\u001b[1;32m   1001\u001b[0m       \u001b[0;31m# invariant: `func_outputs` contains only Tensors, CompositeTensors,\u001b[0m\u001b[0;34m\u001b[0m\u001b[0;34m\u001b[0m\u001b[0;34m\u001b[0m\u001b[0m\n",
            "\u001b[0;32m/usr/local/lib/python3.7/dist-packages/tensorflow/python/eager/def_function.py\u001b[0m in \u001b[0;36mwrapped_fn\u001b[0;34m(*args, **kwds)\u001b[0m\n\u001b[1;32m    670\u001b[0m         \u001b[0;31m# the function a weak reference to itself to avoid a reference cycle.\u001b[0m\u001b[0;34m\u001b[0m\u001b[0;34m\u001b[0m\u001b[0;34m\u001b[0m\u001b[0m\n\u001b[1;32m    671\u001b[0m         \u001b[0;32mwith\u001b[0m \u001b[0mOptionalXlaContext\u001b[0m\u001b[0;34m(\u001b[0m\u001b[0mcompile_with_xla\u001b[0m\u001b[0;34m)\u001b[0m\u001b[0;34m:\u001b[0m\u001b[0;34m\u001b[0m\u001b[0;34m\u001b[0m\u001b[0m\n\u001b[0;32m--> 672\u001b[0;31m           \u001b[0mout\u001b[0m \u001b[0;34m=\u001b[0m \u001b[0mweak_wrapped_fn\u001b[0m\u001b[0;34m(\u001b[0m\u001b[0;34m)\u001b[0m\u001b[0;34m.\u001b[0m\u001b[0m__wrapped__\u001b[0m\u001b[0;34m(\u001b[0m\u001b[0;34m*\u001b[0m\u001b[0margs\u001b[0m\u001b[0;34m,\u001b[0m \u001b[0;34m**\u001b[0m\u001b[0mkwds\u001b[0m\u001b[0;34m)\u001b[0m\u001b[0;34m\u001b[0m\u001b[0;34m\u001b[0m\u001b[0m\n\u001b[0m\u001b[1;32m    673\u001b[0m         \u001b[0;32mreturn\u001b[0m \u001b[0mout\u001b[0m\u001b[0;34m\u001b[0m\u001b[0;34m\u001b[0m\u001b[0m\n\u001b[1;32m    674\u001b[0m \u001b[0;34m\u001b[0m\u001b[0m\n",
            "\u001b[0;32m/usr/local/lib/python3.7/dist-packages/tensorflow/python/framework/func_graph.py\u001b[0m in \u001b[0;36mwrapper\u001b[0;34m(*args, **kwargs)\u001b[0m\n\u001b[1;32m    984\u001b[0m           \u001b[0;32mexcept\u001b[0m \u001b[0mException\u001b[0m \u001b[0;32mas\u001b[0m \u001b[0me\u001b[0m\u001b[0;34m:\u001b[0m  \u001b[0;31m# pylint:disable=broad-except\u001b[0m\u001b[0;34m\u001b[0m\u001b[0;34m\u001b[0m\u001b[0m\n\u001b[1;32m    985\u001b[0m             \u001b[0;32mif\u001b[0m \u001b[0mhasattr\u001b[0m\u001b[0;34m(\u001b[0m\u001b[0me\u001b[0m\u001b[0;34m,\u001b[0m \u001b[0;34m\"ag_error_metadata\"\u001b[0m\u001b[0;34m)\u001b[0m\u001b[0;34m:\u001b[0m\u001b[0;34m\u001b[0m\u001b[0;34m\u001b[0m\u001b[0m\n\u001b[0;32m--> 986\u001b[0;31m               \u001b[0;32mraise\u001b[0m \u001b[0me\u001b[0m\u001b[0;34m.\u001b[0m\u001b[0mag_error_metadata\u001b[0m\u001b[0;34m.\u001b[0m\u001b[0mto_exception\u001b[0m\u001b[0;34m(\u001b[0m\u001b[0me\u001b[0m\u001b[0;34m)\u001b[0m\u001b[0;34m\u001b[0m\u001b[0;34m\u001b[0m\u001b[0m\n\u001b[0m\u001b[1;32m    987\u001b[0m             \u001b[0;32melse\u001b[0m\u001b[0;34m:\u001b[0m\u001b[0;34m\u001b[0m\u001b[0;34m\u001b[0m\u001b[0m\n\u001b[1;32m    988\u001b[0m               \u001b[0;32mraise\u001b[0m\u001b[0;34m\u001b[0m\u001b[0;34m\u001b[0m\u001b[0m\n",
            "\u001b[0;31mValueError\u001b[0m: in user code:\n\n    /usr/local/lib/python3.7/dist-packages/tensorflow/python/keras/engine/training.py:855 train_function  *\n        return step_function(self, iterator)\n    /usr/local/lib/python3.7/dist-packages/tensorflow/python/keras/engine/training.py:845 step_function  **\n        outputs = model.distribute_strategy.run(run_step, args=(data,))\n    /usr/local/lib/python3.7/dist-packages/tensorflow/python/distribute/distribute_lib.py:1285 run\n        return self._extended.call_for_each_replica(fn, args=args, kwargs=kwargs)\n    /usr/local/lib/python3.7/dist-packages/tensorflow/python/distribute/distribute_lib.py:2833 call_for_each_replica\n        return self._call_for_each_replica(fn, args, kwargs)\n    /usr/local/lib/python3.7/dist-packages/tensorflow/python/distribute/distribute_lib.py:3608 _call_for_each_replica\n        return fn(*args, **kwargs)\n    /usr/local/lib/python3.7/dist-packages/tensorflow/python/keras/engine/training.py:838 run_step  **\n        outputs = model.train_step(data)\n    /usr/local/lib/python3.7/dist-packages/tensorflow/python/keras/engine/training.py:795 train_step\n        y_pred = self(x, training=True)\n    /usr/local/lib/python3.7/dist-packages/tensorflow/python/keras/engine/base_layer.py:1013 __call__\n        input_spec.assert_input_compatibility(self.input_spec, inputs, self.name)\n    /usr/local/lib/python3.7/dist-packages/tensorflow/python/keras/engine/input_spec.py:255 assert_input_compatibility\n        ' but received input with shape ' + display_shape(x.shape))\n\n    ValueError: Input 0 of layer sequential is incompatible with the layer: expected axis -1 of input shape to have value 10000 but received input with shape (None, 128)\n"
          ]
        }
      ]
    },
    {
      "cell_type": "markdown",
      "metadata": {
        "id": "rSFQCy3otSzT"
      },
      "source": [
        "## functional API로 만든 모델"
      ]
    },
    {
      "cell_type": "markdown",
      "metadata": {
        "id": "725ThT2Cvkws"
      },
      "source": [
        "앞에서 케라스를 사용하여 모델을 설계하는 방식을 sequential API를 사용하였다고 합니다. 그런데 sequential API는 여러층을 공유하거나 다양한 종류의 입력과 출력을 사용하는 등의 복잡한 모델을 만드는 일을 하기에는 한계가 있습니다. 이번에는 복잡한 모델을 생성할 수 있는 방식인 functional API(함수형 API)에 대해서 알아봅니다."
      ]
    },
    {
      "cell_type": "markdown",
      "metadata": {
        "id": "RuttduO_vlEG"
      },
      "source": [
        "functional API는 각 층을 일종의 함수(function)로서 정의합니다. 그리고 각 함수를 조합하기 위한 연산자들을 제공하는데, 이를 이용하여 신경망을 설계합니다. functional API로 FFNN, RNN 등 다양한 모델을 만들면서 기존의 sequential API와의 차이를 이해해봅시다.\n",
        "\n"
      ]
    },
    {
      "cell_type": "markdown",
      "metadata": {
        "id": "NwE-syT8voHE"
      },
      "source": [
        "### 피드포워드 신경망"
      ]
    },
    {
      "cell_type": "code",
      "metadata": {
        "id": "PMQ_OKuavpij"
      },
      "source": [
        "from tensorflow.keras.layers import Input, Dense\n",
        "from tensorflow.keras.models import Model"
      ],
      "execution_count": 49,
      "outputs": []
    },
    {
      "cell_type": "code",
      "metadata": {
        "id": "-rjMgI7jvzBs"
      },
      "source": [
        "#입력\n",
        "inputs = Input(shape = (10,))\n",
        "\n",
        "hidden1 = Dense(64, activation = \"relu\")(inputs)\n",
        "hidden2 = Dense(32, activation = \"relu\")(hidden1)\n",
        "\n",
        "#출력\n",
        "output = Dense(1, activation = \"sigmoid\")(hidden2)\n",
        "\n",
        "#입력과 출력 정의\n",
        "model = Model(inputs = inputs, outputs = output)"
      ],
      "execution_count": 52,
      "outputs": []
    },
    {
      "cell_type": "code",
      "metadata": {
        "colab": {
          "base_uri": "https://localhost:8080/"
        },
        "id": "QeaQL7h0wPOA",
        "outputId": "0d3ed9f7-5ce0-4cdc-aa87-29b6fbc88c38"
      },
      "source": [
        "model.summary()"
      ],
      "execution_count": 54,
      "outputs": [
        {
          "output_type": "stream",
          "text": [
            "Model: \"model\"\n",
            "_________________________________________________________________\n",
            "Layer (type)                 Output Shape              Param #   \n",
            "=================================================================\n",
            "input_3 (InputLayer)         [(None, 10)]              0         \n",
            "_________________________________________________________________\n",
            "dense_9 (Dense)              (None, 64)                704       \n",
            "_________________________________________________________________\n",
            "dense_10 (Dense)             (None, 32)                2080      \n",
            "_________________________________________________________________\n",
            "dense_11 (Dense)             (None, 1)                 33        \n",
            "=================================================================\n",
            "Total params: 2,817\n",
            "Trainable params: 2,817\n",
            "Non-trainable params: 0\n",
            "_________________________________________________________________\n"
          ],
          "name": "stdout"
        }
      ]
    },
    {
      "cell_type": "markdown",
      "metadata": {
        "id": "FvX2wkU0wW6j"
      },
      "source": [
        "### 선형 회귀"
      ]
    },
    {
      "cell_type": "code",
      "metadata": {
        "colab": {
          "base_uri": "https://localhost:8080/"
        },
        "id": "0R1efNZmwYil",
        "outputId": "b3e4ae3b-ab85-4b6d-b61c-3a17a8a98a26"
      },
      "source": [
        "from tensorflow.keras.layers import Input, Dense\n",
        "from tensorflow.keras.models import Model\n",
        "\n",
        "inputs = Input(shape = (3,))\n",
        "output = Dense(1, activation = 'linear')(inputs)\n",
        "linear_model = Model(inputs = inputs, outputs= output)\n",
        "linear_model.compile(optimizer='adam',loss = 'mse',metrics = ['msc'])\n",
        "linear_model.summary()"
      ],
      "execution_count": 59,
      "outputs": [
        {
          "output_type": "stream",
          "text": [
            "Model: \"model_3\"\n",
            "_________________________________________________________________\n",
            "Layer (type)                 Output Shape              Param #   \n",
            "=================================================================\n",
            "input_6 (InputLayer)         [(None, 3)]               0         \n",
            "_________________________________________________________________\n",
            "dense_14 (Dense)             (None, 1)                 4         \n",
            "=================================================================\n",
            "Total params: 4\n",
            "Trainable params: 4\n",
            "Non-trainable params: 0\n",
            "_________________________________________________________________\n"
          ],
          "name": "stdout"
        }
      ]
    },
    {
      "cell_type": "markdown",
      "metadata": {
        "id": "4n7Mmoafw19P"
      },
      "source": [
        "### 로지스틱 회귀"
      ]
    },
    {
      "cell_type": "code",
      "metadata": {
        "colab": {
          "base_uri": "https://localhost:8080/"
        },
        "id": "huThcCV0ww2t",
        "outputId": "9afc8000-5343-4afb-c881-935c1b53e0e8"
      },
      "source": [
        "from tensorflow.keras.layers import Input, Dense\n",
        "from tensorflow.keras.models import Model\n",
        "\n",
        "inputs = Input(shape=(3,))\n",
        "output = Dense(1, activation='sigmoid')(inputs)\n",
        "logistic_model = Model(inputs, output)\n",
        "\n",
        "logistic_model.compile(optimizer='sgd', loss = 'binary_crossentropy', metrics=['accuracy'])\n",
        "logistic_model.summary()"
      ],
      "execution_count": 61,
      "outputs": [
        {
          "output_type": "stream",
          "text": [
            "Model: \"model_5\"\n",
            "_________________________________________________________________\n",
            "Layer (type)                 Output Shape              Param #   \n",
            "=================================================================\n",
            "input_8 (InputLayer)         [(None, 3)]               0         \n",
            "_________________________________________________________________\n",
            "dense_16 (Dense)             (None, 1)                 4         \n",
            "=================================================================\n",
            "Total params: 4\n",
            "Trainable params: 4\n",
            "Non-trainable params: 0\n",
            "_________________________________________________________________\n"
          ],
          "name": "stdout"
        }
      ]
    },
    {
      "cell_type": "markdown",
      "metadata": {
        "id": "37pegODowzbH"
      },
      "source": [
        "### 다중 입력을 받는 모델(models that accepts multiple inputs)"
      ]
    },
    {
      "cell_type": "code",
      "metadata": {
        "colab": {
          "base_uri": "https://localhost:8080/"
        },
        "id": "eIEQakOdxB6E",
        "outputId": "849c4b13-e2f8-4bd7-efac-a6dff0917a63"
      },
      "source": [
        "from tensorflow.keras.layers import Input, Dense, concatenate\n",
        "from tensorflow.keras.models import Model\n",
        "\n",
        "# 두 개의 입력층을 정의\n",
        "inputA = Input(shape=(64,))\n",
        "inputB = Input(shape=(128,))\n",
        "\n",
        "# 첫번째 입력층으로부터 분기되어 진행되는 인공 신경망을 정의\n",
        "x = Dense(16, activation=\"relu\")(inputA)\n",
        "x = Dense(8, activation=\"relu\")(x)\n",
        "x = Model(inputs=inputA, outputs=x)\n",
        "\n",
        "# 두번째 입력층으로부터 분기되어 진행되는 인공 신경망을 정의\n",
        "y = Dense(64, activation=\"relu\")(inputB)\n",
        "y = Dense(32, activation=\"relu\")(y)\n",
        "y = Dense(8, activation=\"relu\")(y)\n",
        "y = Model(inputs=inputB, outputs=y)\n",
        "\n",
        "# 두개의 인공 신경망의 출력을 연결(concatenate)\n",
        "result = concatenate([x.output, y.output])\n",
        "\n",
        "# 연결된 값을 입력으로 받는 밀집층을 추가(Dense layer)\n",
        "z = Dense(2, activation=\"relu\")(result)\n",
        "# 선형 회귀를 위해 activation=linear를 설정\n",
        "z = Dense(1, activation=\"linear\")(z)\n",
        "\n",
        "# 결과적으로 이 모델은 두 개의 입력층으로부터 분기되어 진행된 후 마지막에는 하나의 출력을 예측하는 모델이 됨.\n",
        "model = Model(inputs=[x.input, y.input], outputs=z)\n",
        "model.summary()"
      ],
      "execution_count": 66,
      "outputs": [
        {
          "output_type": "stream",
          "text": [
            "Model: \"model_15\"\n",
            "__________________________________________________________________________________________________\n",
            "Layer (type)                    Output Shape         Param #     Connected to                     \n",
            "==================================================================================================\n",
            "input_16 (InputLayer)           [(None, 128)]        0                                            \n",
            "__________________________________________________________________________________________________\n",
            "input_15 (InputLayer)           [(None, 64)]         0                                            \n",
            "__________________________________________________________________________________________________\n",
            "dense_37 (Dense)                (None, 64)           8256        input_16[0][0]                   \n",
            "__________________________________________________________________________________________________\n",
            "dense_35 (Dense)                (None, 16)           1040        input_15[0][0]                   \n",
            "__________________________________________________________________________________________________\n",
            "dense_38 (Dense)                (None, 32)           2080        dense_37[0][0]                   \n",
            "__________________________________________________________________________________________________\n",
            "dense_36 (Dense)                (None, 8)            136         dense_35[0][0]                   \n",
            "__________________________________________________________________________________________________\n",
            "dense_39 (Dense)                (None, 8)            264         dense_38[0][0]                   \n",
            "__________________________________________________________________________________________________\n",
            "concatenate_3 (Concatenate)     (None, 16)           0           dense_36[0][0]                   \n",
            "                                                                 dense_39[0][0]                   \n",
            "__________________________________________________________________________________________________\n",
            "dense_40 (Dense)                (None, 2)            34          concatenate_3[0][0]              \n",
            "__________________________________________________________________________________________________\n",
            "dense_41 (Dense)                (None, 1)            3           dense_40[0][0]                   \n",
            "==================================================================================================\n",
            "Total params: 11,813\n",
            "Trainable params: 11,813\n",
            "Non-trainable params: 0\n",
            "__________________________________________________________________________________________________\n"
          ],
          "name": "stdout"
        }
      ]
    },
    {
      "cell_type": "markdown",
      "metadata": {
        "id": "8nCBrbQNxY1O"
      },
      "source": [
        "encoder = Dense(128)(input)  \n",
        "\n",
        "이와 같은 표현은  \n",
        "\n",
        "encoder = Dense(128)  \n",
        "encoder(input)\n",
        "\n",
        "이 표현과 같습니다."
      ]
    },
    {
      "cell_type": "code",
      "metadata": {
        "id": "x7BIc7FZy7_S"
      },
      "source": [
        ""
      ],
      "execution_count": null,
      "outputs": []
    },
    {
      "cell_type": "markdown",
      "metadata": {
        "id": "NFzimbZBFwgo"
      },
      "source": [
        "## soynlp"
      ]
    },
    {
      "cell_type": "markdown",
      "metadata": {
        "id": "jeSk8fjkF0QP"
      },
      "source": [
        "soynlp는 품사 태깅, 형태소 분석 등을 지원하는 한국어 형태소 분석기입니다. 비지도 학습으로 형태소 분석을 한다는 특징을 갖고 있으며, 데이터에 자주 등장하는 단어들을 형태소로 분석합니다. soynlp 형태소 분석기는 내부적으로 단어 점수 표로 동작합니다. 이 점수는 응집 확률(cohesion probability)과 브랜칭 엔트로피(branching entropy)를 활용합니다."
      ]
    },
    {
      "cell_type": "code",
      "metadata": {
        "id": "BQnqQXy4Fu_e",
        "colab": {
          "base_uri": "https://localhost:8080/"
        },
        "outputId": "b150082a-2115-408e-e695-873edeebd88f"
      },
      "source": [
        "!pip install soynlp"
      ],
      "execution_count": 67,
      "outputs": [
        {
          "output_type": "stream",
          "text": [
            "Collecting soynlp\n",
            "\u001b[?25l  Downloading https://files.pythonhosted.org/packages/7e/50/6913dc52a86a6b189419e59f9eef1b8d599cffb6f44f7bb91854165fc603/soynlp-0.0.493-py3-none-any.whl (416kB)\n",
            "\r\u001b[K     |▉                               | 10kB 19.8MB/s eta 0:00:01\r\u001b[K     |█▋                              | 20kB 23.1MB/s eta 0:00:01\r\u001b[K     |██▍                             | 30kB 17.1MB/s eta 0:00:01\r\u001b[K     |███▏                            | 40kB 15.5MB/s eta 0:00:01\r\u001b[K     |████                            | 51kB 7.3MB/s eta 0:00:01\r\u001b[K     |████▊                           | 61kB 8.4MB/s eta 0:00:01\r\u001b[K     |█████▌                          | 71kB 8.9MB/s eta 0:00:01\r\u001b[K     |██████▎                         | 81kB 9.2MB/s eta 0:00:01\r\u001b[K     |███████                         | 92kB 9.5MB/s eta 0:00:01\r\u001b[K     |███████▉                        | 102kB 7.7MB/s eta 0:00:01\r\u001b[K     |████████▋                       | 112kB 7.7MB/s eta 0:00:01\r\u001b[K     |█████████▍                      | 122kB 7.7MB/s eta 0:00:01\r\u001b[K     |██████████▏                     | 133kB 7.7MB/s eta 0:00:01\r\u001b[K     |███████████                     | 143kB 7.7MB/s eta 0:00:01\r\u001b[K     |███████████▉                    | 153kB 7.7MB/s eta 0:00:01\r\u001b[K     |████████████▋                   | 163kB 7.7MB/s eta 0:00:01\r\u001b[K     |█████████████▍                  | 174kB 7.7MB/s eta 0:00:01\r\u001b[K     |██████████████▏                 | 184kB 7.7MB/s eta 0:00:01\r\u001b[K     |███████████████                 | 194kB 7.7MB/s eta 0:00:01\r\u001b[K     |███████████████▊                | 204kB 7.7MB/s eta 0:00:01\r\u001b[K     |████████████████▌               | 215kB 7.7MB/s eta 0:00:01\r\u001b[K     |█████████████████▎              | 225kB 7.7MB/s eta 0:00:01\r\u001b[K     |██████████████████              | 235kB 7.7MB/s eta 0:00:01\r\u001b[K     |██████████████████▉             | 245kB 7.7MB/s eta 0:00:01\r\u001b[K     |███████████████████▋            | 256kB 7.7MB/s eta 0:00:01\r\u001b[K     |████████████████████▍           | 266kB 7.7MB/s eta 0:00:01\r\u001b[K     |█████████████████████▎          | 276kB 7.7MB/s eta 0:00:01\r\u001b[K     |██████████████████████          | 286kB 7.7MB/s eta 0:00:01\r\u001b[K     |██████████████████████▉         | 296kB 7.7MB/s eta 0:00:01\r\u001b[K     |███████████████████████▋        | 307kB 7.7MB/s eta 0:00:01\r\u001b[K     |████████████████████████▍       | 317kB 7.7MB/s eta 0:00:01\r\u001b[K     |█████████████████████████▏      | 327kB 7.7MB/s eta 0:00:01\r\u001b[K     |██████████████████████████      | 337kB 7.7MB/s eta 0:00:01\r\u001b[K     |██████████████████████████▊     | 348kB 7.7MB/s eta 0:00:01\r\u001b[K     |███████████████████████████▌    | 358kB 7.7MB/s eta 0:00:01\r\u001b[K     |████████████████████████████▎   | 368kB 7.7MB/s eta 0:00:01\r\u001b[K     |█████████████████████████████   | 378kB 7.7MB/s eta 0:00:01\r\u001b[K     |█████████████████████████████▉  | 389kB 7.7MB/s eta 0:00:01\r\u001b[K     |██████████████████████████████▋ | 399kB 7.7MB/s eta 0:00:01\r\u001b[K     |███████████████████████████████▌| 409kB 7.7MB/s eta 0:00:01\r\u001b[K     |████████████████████████████████| 419kB 7.7MB/s \n",
            "\u001b[?25hRequirement already satisfied: scipy>=1.1.0 in /usr/local/lib/python3.7/dist-packages (from soynlp) (1.4.1)\n",
            "Requirement already satisfied: scikit-learn>=0.20.0 in /usr/local/lib/python3.7/dist-packages (from soynlp) (0.22.2.post1)\n",
            "Requirement already satisfied: psutil>=5.0.1 in /usr/local/lib/python3.7/dist-packages (from soynlp) (5.4.8)\n",
            "Requirement already satisfied: numpy>=1.12.1 in /usr/local/lib/python3.7/dist-packages (from soynlp) (1.19.5)\n",
            "Requirement already satisfied: joblib>=0.11 in /usr/local/lib/python3.7/dist-packages (from scikit-learn>=0.20.0->soynlp) (1.0.1)\n",
            "Installing collected packages: soynlp\n",
            "Successfully installed soynlp-0.0.493\n"
          ],
          "name": "stdout"
        }
      ]
    },
    {
      "cell_type": "code",
      "metadata": {
        "id": "PR5hjIsmF1-o",
        "colab": {
          "base_uri": "https://localhost:8080/"
        },
        "outputId": "f963d522-9bf2-4473-b729-60c8becd07a7"
      },
      "source": [
        "import urllib.request\n",
        "urllib.request.urlretrieve(\"https://raw.githubusercontent.com/lovit/soynlp/master/tutorials/2016-10-20.txt\", filename=\"2016-10-20.txt\")"
      ],
      "execution_count": 68,
      "outputs": [
        {
          "output_type": "execute_result",
          "data": {
            "text/plain": [
              "('2016-10-20.txt', <http.client.HTTPMessage at 0x7f82890c1a50>)"
            ]
          },
          "metadata": {
            "tags": []
          },
          "execution_count": 68
        }
      ]
    },
    {
      "cell_type": "markdown",
      "metadata": {
        "id": "ZVULVPMdF6eE"
      },
      "source": [
        "다운로드 한 말뭉치를 문서 단위로 분리합니다."
      ]
    },
    {
      "cell_type": "code",
      "metadata": {
        "id": "f0835RTkF45f",
        "colab": {
          "base_uri": "https://localhost:8080/"
        },
        "outputId": "fdc0535f-0817-4664-9158-375a15793f7e"
      },
      "source": [
        "from soynlp import DoublespaceLineCorpus\n",
        "\n",
        "# 말뭉치에 대해서 다수의 문서로 분리\n",
        "corpus = DoublespaceLineCorpus(\"2016-10-20.txt\")\n",
        "len(corpus)"
      ],
      "execution_count": 69,
      "outputs": [
        {
          "output_type": "execute_result",
          "data": {
            "text/plain": [
              "30091"
            ]
          },
          "metadata": {
            "tags": []
          },
          "execution_count": 69
        }
      ]
    },
    {
      "cell_type": "markdown",
      "metadata": {
        "id": "ibxbjyLlF-2k"
      },
      "source": [
        "총 3만 91개의 문서가 존재합니다. 공백이 아닌 문서에 한해 상위 3개의 문서만 "
      ]
    },
    {
      "cell_type": "code",
      "metadata": {
        "id": "-H52M98_F9JP",
        "colab": {
          "base_uri": "https://localhost:8080/"
        },
        "outputId": "473fc327-06c2-4ac7-9d24-84369626c026"
      },
      "source": [
        "i = 0\n",
        "for document in corpus:\n",
        "  if len(document) > 0:\n",
        "    print(document)\n",
        "    i = i+1\n",
        "  if i == 3:\n",
        "    break"
      ],
      "execution_count": 70,
      "outputs": [
        {
          "output_type": "stream",
          "text": [
            "19  1990  52 1 22\n",
            "오패산터널 총격전 용의자 검거 서울 연합뉴스 경찰 관계자들이 19일 오후 서울 강북구 오패산 터널 인근에서 사제 총기를 발사해 경찰을 살해한 용의자 성모씨를 검거하고 있다 성씨는 검거 당시 서바이벌 게임에서 쓰는 방탄조끼에 헬멧까지 착용한 상태였다 독자제공 영상 캡처 연합뉴스  서울 연합뉴스 김은경 기자 사제 총기로 경찰을 살해한 범인 성모 46 씨는 주도면밀했다  경찰에 따르면 성씨는 19일 오후 강북경찰서 인근 부동산 업소 밖에서 부동산업자 이모 67 씨가 나오기를 기다렸다 이씨와는 평소에도 말다툼을 자주 한 것으로 알려졌다  이씨가 나와 걷기 시작하자 성씨는 따라가면서 미리 준비해온 사제 총기를 이씨에게 발사했다 총알이 빗나가면서 이씨는 도망갔다 그 빗나간 총알은 지나가던 행인 71 씨의 배를 스쳤다  성씨는 강북서 인근 치킨집까지 이씨 뒤를 쫓으며 실랑이하다 쓰러뜨린 후 총기와 함께 가져온 망치로 이씨 머리를 때렸다  이 과정에서 오후 6시 20분께 강북구 번동 길 위에서 사람들이 싸우고 있다 총소리가 났다 는 등의 신고가 여러건 들어왔다  5분 후에 성씨의 전자발찌가 훼손됐다는 신고가 보호관찰소 시스템을 통해 들어왔다 성범죄자로 전자발찌를 차고 있던 성씨는 부엌칼로 직접 자신의 발찌를 끊었다  용의자 소지 사제총기 2정 서울 연합뉴스 임헌정 기자 서울 시내에서 폭행 용의자가 현장 조사를 벌이던 경찰관에게 사제총기를 발사해 경찰관이 숨졌다 19일 오후 6시28분 강북구 번동에서 둔기로 맞았다 는 폭행 피해 신고가 접수돼 현장에서 조사하던 강북경찰서 번동파출소 소속 김모 54 경위가 폭행 용의자 성모 45 씨가 쏜 사제총기에 맞고 쓰러진 뒤 병원에 옮겨졌으나 숨졌다 사진은 용의자가 소지한 사제총기  신고를 받고 번동파출소에서 김창호 54 경위 등 경찰들이 오후 6시 29분께 현장으로 출동했다 성씨는 그사이 부동산 앞에 놓아뒀던 가방을 챙겨 오패산 쪽으로 도망간 후였다  김 경위는 오패산 터널 입구 오른쪽의 급경사에서 성씨에게 접근하다가 오후 6시 33분께 풀숲에 숨은 성씨가 허공에 난사한 10여발의 총알 중 일부를 왼쪽 어깨 뒷부분에 맞고 쓰러졌다  김 경위는 구급차가 도착했을 때 이미 의식이 없었고 심폐소생술을 하며 병원으로 옮겨졌으나 총알이 폐를 훼손해 오후 7시 40분께 사망했다  김 경위는 외근용 조끼를 입고 있었으나 총알을 막기에는 역부족이었다  머리에 부상을 입은 이씨도 함께 병원으로 이송됐으나 생명에는 지장이 없는 것으로 알려졌다  성씨는 오패산 터널 밑쪽 숲에서 오후 6시 45분께 잡혔다  총격현장 수색하는 경찰들 서울 연합뉴스 이효석 기자 19일 오후 서울 강북구 오패산 터널 인근에서 경찰들이 폭행 용의자가 사제총기를 발사해 경찰관이 사망한 사건을 조사 하고 있다  총 때문에 쫓던 경관들과 민간인들이 몸을 숨겼는데 인근 신발가게 직원 이모씨가 다가가 성씨를 덮쳤고 이어 현장에 있던 다른 상인들과 경찰이 가세해 체포했다  성씨는 경찰에 붙잡힌 직후 나 자살하려고 한 거다 맞아 죽어도 괜찮다 고 말한 것으로 전해졌다  성씨 자신도 경찰이 발사한 공포탄 1발 실탄 3발 중 실탄 1발을 배에 맞았으나 방탄조끼를 입은 상태여서 부상하지는 않았다  경찰은 인근을 수색해 성씨가 만든 사제총 16정과 칼 7개를 압수했다 실제 폭발할지는 알 수 없는 요구르트병에 무언가를 채워두고 심지를 꽂은 사제 폭탄도 발견됐다  일부는 숲에서 발견됐고 일부는 성씨가 소지한 가방 안에 있었다\n",
            "테헤란 연합뉴스 강훈상 특파원 이용 승객수 기준 세계 최대 공항인 아랍에미리트 두바이국제공항은 19일 현지시간 이 공항을 이륙하는 모든 항공기의 탑승객은 삼성전자의 갤럭시노트7을 휴대하면 안 된다고 밝혔다  두바이국제공항은 여러 항공 관련 기구의 권고에 따라 안전성에 우려가 있는 스마트폰 갤럭시노트7을 휴대하고 비행기를 타면 안 된다 며 탑승 전 검색 중 발견되면 압수할 계획 이라고 발표했다  공항 측은 갤럭시노트7의 배터리가 폭발 우려가 제기된 만큼 이 제품을 갖고 공항 안으로 들어오지 말라고 이용객에 당부했다  이런 조치는 두바이국제공항 뿐 아니라 신공항인 두바이월드센터에도 적용된다  배터리 폭발문제로 회수된 갤럭시노트7 연합뉴스자료사진\n"
          ],
          "name": "stdout"
        }
      ]
    },
    {
      "cell_type": "markdown",
      "metadata": {
        "id": "ZmviMaUAGEH3"
      },
      "source": [
        "soynlp는 비지도학습 형태소 분석기이므로 기존의 형태소 분석기와는 달리 학습 과정을 거쳐야 합니다. 이는 전체 코퍼스로부터 응집 확률과 브랜칭 엔트로피 단어 점수표를 만드는 과정이지요. WordExtractor.extract()를 통해서 전체 코퍼스에 대해 단어 점수표를 계산합니다."
      ]
    },
    {
      "cell_type": "code",
      "metadata": {
        "id": "H9wDUf8RGEsu",
        "colab": {
          "base_uri": "https://localhost:8080/"
        },
        "outputId": "4cc1d94f-c156-4fa1-e792-eee9dc389a1d"
      },
      "source": [
        "from soynlp.word import WordExtractor\n",
        "word_extractor = WordExtractor()\n",
        "word_extractor.train(corpus)\n",
        "word_score_table = word_extractor.extract()"
      ],
      "execution_count": 75,
      "outputs": [
        {
          "output_type": "stream",
          "text": [
            "training was done. used memory 2.462 Gb\n",
            "all cohesion probabilities was computed. # words = 223348\n",
            "all branching entropies was computed # words = 361598\n",
            "all accessor variety was computed # words = 361598\n"
          ],
          "name": "stdout"
        }
      ]
    },
    {
      "cell_type": "markdown",
      "metadata": {
        "id": "t4tAK15-GJiN"
      },
      "source": [
        "## soynlp의 응집 확률(cohesion probability)"
      ]
    },
    {
      "cell_type": "markdown",
      "metadata": {
        "id": "YgV9OQplGMMV"
      },
      "source": [
        "응집 확률은 내부 문자열(substring)이 얼마나 응집하여 자주 등장하는지를 판단하는 척도입니다. 응집 확률은 문자열을 문자 단위로 분리하여 내부 문자열을 만드는 과정에서 왼쪽부터 순서대로 문자를 추가하면서 각 문자열이 주어졌을 때 그 다음 문자가 나올 확률을 계산하여 누적곱을 한 값입니다. 이 값이 높을수록 전체 코퍼스에서 이 문자열 시퀀스는 하나의 단어로 등장할 가능성이 높습니다. 수식은 아래와 같습니다. "
      ]
    },
    {
      "cell_type": "code",
      "metadata": {
        "id": "Jx_dW5mRGNMD",
        "colab": {
          "base_uri": "https://localhost:8080/",
          "height": 92
        },
        "outputId": "d166c727-1882-4c99-af7c-7e9d416901e8"
      },
      "source": [
        "from IPython.display import Image\n",
        "\n",
        "Image('https://wikidocs.net/images/page/84111/soynlp.png')"
      ],
      "execution_count": 76,
      "outputs": [
        {
          "output_type": "execute_result",
          "data": {
            "image/png": "[encoded data removed]",
            "text/plain": [
              "<IPython.core.display.Image object>"
            ]
          },
          "metadata": {
            "tags": []
          },
          "execution_count": 76
        }
      ]
    },
    {
      "cell_type": "markdown",
      "metadata": {
        "id": "8_vszl7YG4uY"
      },
      "source": [
        "아직은 아리송 할 거에요. '반포한강공원에'라는 7의 길이를 가진 문자 시퀀스에 대해서 각 내부 문자열의 스코어를 구하는 과정은 아래와 같습니다."
      ]
    },
    {
      "cell_type": "code",
      "metadata": {
        "id": "LPJa_edNGyOX",
        "colab": {
          "base_uri": "https://localhost:8080/",
          "height": 209
        },
        "outputId": "fb078984-637d-403a-f2d3-63392bba4255"
      },
      "source": [
        "Image('https://wikidocs.net/images/page/84111/soynlp2.png')"
      ],
      "execution_count": 77,
      "outputs": [
        {
          "output_type": "execute_result",
          "data": {
            "image/png": "[encoded data removed]",
            "text/plain": [
              "<IPython.core.display.Image object>"
            ]
          },
          "metadata": {
            "tags": []
          },
          "execution_count": 77
        }
      ]
    },
    {
      "cell_type": "markdown",
      "metadata": {
        "id": "NXG0qmBBG76m"
      },
      "source": [
        "실습을 통해 직접 응집 확률을 계산해보겠습니다."
      ]
    },
    {
      "cell_type": "code",
      "metadata": {
        "colab": {
          "base_uri": "https://localhost:8080/"
        },
        "id": "MwsPQmGR1Vg6",
        "outputId": "5468d203-ea2e-4d63-b427-4c251f39e998"
      },
      "source": [
        "word_score_table[\"반\"].cohesion_forward"
      ],
      "execution_count": 80,
      "outputs": [
        {
          "output_type": "execute_result",
          "data": {
            "text/plain": [
              "0"
            ]
          },
          "metadata": {
            "tags": []
          },
          "execution_count": 80
        }
      ]
    },
    {
      "cell_type": "code",
      "metadata": {
        "colab": {
          "base_uri": "https://localhost:8080/",
          "height": 169
        },
        "id": "evccfkGY1Uh2",
        "outputId": "8ff0fcc2-3fba-4e70-d9f5-e0515ac9c92a"
      },
      "source": [
        "word_score_table[\"반포\"].cohesion_forward"
      ],
      "execution_count": 89,
      "outputs": [
        {
          "output_type": "error",
          "ename": "KeyError",
          "evalue": "ignored",
          "traceback": [
            "\u001b[0;31m---------------------------------------------------------------------------\u001b[0m",
            "\u001b[0;31mKeyError\u001b[0m                                  Traceback (most recent call last)",
            "\u001b[0;32m<ipython-input-89-a1e6fbab0b5f>\u001b[0m in \u001b[0;36m<module>\u001b[0;34m()\u001b[0m\n\u001b[0;32m----> 1\u001b[0;31m \u001b[0mword_score_table\u001b[0m\u001b[0;34m[\u001b[0m\u001b[0;34m\"반포\"\u001b[0m\u001b[0;34m]\u001b[0m\u001b[0;34m.\u001b[0m\u001b[0mcohesion_forward\u001b[0m\u001b[0;34m\u001b[0m\u001b[0;34m\u001b[0m\u001b[0m\n\u001b[0m",
            "\u001b[0;31mKeyError\u001b[0m: '반포'"
          ]
        }
      ]
    },
    {
      "cell_type": "code",
      "metadata": {
        "id": "u25oZKTCG1rP",
        "colab": {
          "base_uri": "https://localhost:8080/"
        },
        "outputId": "231fbc49-7556-4c42-9c4b-87055f23c232"
      },
      "source": [
        "word_score_table[\"반포한\"].cohesion_forward"
      ],
      "execution_count": 90,
      "outputs": [
        {
          "output_type": "execute_result",
          "data": {
            "text/plain": [
              "0.08838002913645132"
            ]
          },
          "metadata": {
            "tags": []
          },
          "execution_count": 90
        }
      ]
    },
    {
      "cell_type": "code",
      "metadata": {
        "id": "-sekKNFNG-d3",
        "colab": {
          "base_uri": "https://localhost:8080/"
        },
        "outputId": "8ec12599-d337-4b68-cdc9-58a66892153e"
      },
      "source": [
        "word_score_table[\"반포한강\"].cohesion_forward"
      ],
      "execution_count": 91,
      "outputs": [
        {
          "output_type": "execute_result",
          "data": {
            "text/plain": [
              "0.19841268168224552"
            ]
          },
          "metadata": {
            "tags": []
          },
          "execution_count": 91
        }
      ]
    },
    {
      "cell_type": "code",
      "metadata": {
        "id": "tRT7n6N3G_TI",
        "colab": {
          "base_uri": "https://localhost:8080/"
        },
        "outputId": "7883d7f3-c458-476a-93f4-a97e9bb3813b"
      },
      "source": [
        "word_score_table[\"반포한강공\"].cohesion_forward"
      ],
      "execution_count": 92,
      "outputs": [
        {
          "output_type": "execute_result",
          "data": {
            "text/plain": [
              "0.2972877884078849"
            ]
          },
          "metadata": {
            "tags": []
          },
          "execution_count": 92
        }
      ]
    },
    {
      "cell_type": "code",
      "metadata": {
        "id": "hKE32nDKHHo7",
        "colab": {
          "base_uri": "https://localhost:8080/"
        },
        "outputId": "8ec99a2f-f38f-4f75-e9aa-13850159bb4c"
      },
      "source": [
        "word_score_table[\"반포한강공원\"].cohesion_forward"
      ],
      "execution_count": 93,
      "outputs": [
        {
          "output_type": "execute_result",
          "data": {
            "text/plain": [
              "0.37891487632839754"
            ]
          },
          "metadata": {
            "tags": []
          },
          "execution_count": 93
        }
      ]
    },
    {
      "cell_type": "code",
      "metadata": {
        "id": "gVpqoRvfHI5K",
        "colab": {
          "base_uri": "https://localhost:8080/"
        },
        "outputId": "5a8da17e-133e-46e5-8ffe-5793fb956ff8"
      },
      "source": [
        "word_score_table[\"반포한강공원에\"].cohesion_forward"
      ],
      "execution_count": 94,
      "outputs": [
        {
          "output_type": "execute_result",
          "data": {
            "text/plain": [
              "0.33492963377557666"
            ]
          },
          "metadata": {
            "tags": []
          },
          "execution_count": 94
        }
      ]
    },
    {
      "cell_type": "markdown",
      "metadata": {
        "id": "VVfhi2tTHPVl"
      },
      "source": [
        "## soynlp의 브랜칭 엔트로피(branching entropy)"
      ]
    },
    {
      "cell_type": "markdown",
      "metadata": {
        "id": "QzzaSHi3HQC3"
      },
      "source": [
        "Branching Entropy는 확률 분포의 엔트로피값을 사용합니다.  이는 주어진 문자열에서 얼마나 다음 문자가 등장할 수 있는지를 판단하는 척도입니다. 이해를 위해 퀴즈를 내보겠습니다. 제가 어떤 단어를 생각 중인데, 한 문자씩 말해드릴테니까 매번 다음 문자를 맞추는 것이 퀴즈입니다.\n",
        "\n",
        "첫번째 문자는 '디'입니다. 다음에 등장할 문자를 맞춰보세요. 솔직히 가늠이 잘 안 가지요? '디'로 시작하는 단어가 얼마나 많은데요. 이걸 어떻게 맞추냐구요. 정답은 '스' 입니다.\n",
        "\n",
        "이제 '디스'까지 나왔네요. '디스 '다음 문자는 뭘까요? 벌써 정답 단어를 예측한 분도 있을테고, 여전히 가늠이 잘 안가시는 분도 있을 거에요. '디스카운트'라는 단어가 있으니까 '카'일까? 아니면 '디스코드'라는 단어가 있으니까 '코'인가? 생각해보니 '디스코'가 정답일 수도 있겠네요. 그러면 '코'인가? '디스아너드'라는 게임이 있으니까 '아'? 전부 땡땡땡! 이 단어들을 생각하신 분들은 전부 틀렸습니다. 정답은 '플'이었습니다.\n",
        "\n",
        "'디스플'까지 왔습니다. 다음 문자 맞춰보세요. 이제 좀 명백해지는군요. 이 정도 되면 헷갈리시는 분들은 거의 없을거에요. 정답은 '레'입니다. '디스플레' 다음에는 어떤 문자일까요? 너무 명백해서 문제라고 보기도 어려워졌어요. 정답은 '이'입니다. 제가 생각한 단어는 '디스플레이'였습니다!\n",
        "\n",
        "저는 지금 브랜칭 엔트로피를 시뮬레이션한 겁니다. 브랜칭 엔트로피를 주어진 문자 시퀀스에서 다음 문자 예측을 위해 헷갈리는 정도로 비유해봅시다. 브랜칭 엔트로피의 값은 하나의 완성된 단어에 가까워질수록 문맥으로 인해 점점 정확히 예측할 수 있게 되면서 점점 줄어듭니다. 실습해볼게요."
      ]
    },
    {
      "cell_type": "code",
      "metadata": {
        "id": "WIitCxwbHRn3",
        "colab": {
          "base_uri": "https://localhost:8080/"
        },
        "outputId": "ceafd857-80f8-4147-ace8-a3a751762743"
      },
      "source": [
        "word_score_table[\"디스\"].right_branching_entropy"
      ],
      "execution_count": 95,
      "outputs": [
        {
          "output_type": "execute_result",
          "data": {
            "text/plain": [
              "1.6371694761537934"
            ]
          },
          "metadata": {
            "tags": []
          },
          "execution_count": 95
        }
      ]
    },
    {
      "cell_type": "code",
      "metadata": {
        "id": "JnKStLHyHXam",
        "colab": {
          "base_uri": "https://localhost:8080/"
        },
        "outputId": "20fceef2-d984-4ddb-fed4-e60bcda7a00c"
      },
      "source": [
        "word_score_table[\"디스플\"].right_branching_entropy"
      ],
      "execution_count": 96,
      "outputs": [
        {
          "output_type": "execute_result",
          "data": {
            "text/plain": [
              "-0.0"
            ]
          },
          "metadata": {
            "tags": []
          },
          "execution_count": 96
        }
      ]
    },
    {
      "cell_type": "markdown",
      "metadata": {
        "id": "8fzudrAAHccz"
      },
      "source": [
        "'디스' 다음에는 다양한 문자가 올 수 있으니까 1.63이라는 값을 가지는 반면, '디스플'이라는 문자열 다음에는 다음 문자로 '레'가 오는 것이 너무나 명백하기 때문에 0이란 값을 가집니다."
      ]
    },
    {
      "cell_type": "code",
      "metadata": {
        "id": "yRKwW0q4HenU",
        "colab": {
          "base_uri": "https://localhost:8080/"
        },
        "outputId": "816b375f-3b33-46b1-e8c6-105ea7936f14"
      },
      "source": [
        "word_score_table[\"디스플레\"].right_branching_entropy"
      ],
      "execution_count": 97,
      "outputs": [
        {
          "output_type": "execute_result",
          "data": {
            "text/plain": [
              "-0.0"
            ]
          },
          "metadata": {
            "tags": []
          },
          "execution_count": 97
        }
      ]
    },
    {
      "cell_type": "code",
      "metadata": {
        "id": "GCLchyiFHgHA",
        "colab": {
          "base_uri": "https://localhost:8080/"
        },
        "outputId": "3f5d2c0b-e724-4c67-dbb1-41e46abcf4fa"
      },
      "source": [
        "word_score_table[\"디스플레이\"].right_branching_entropy"
      ],
      "execution_count": 98,
      "outputs": [
        {
          "output_type": "execute_result",
          "data": {
            "text/plain": [
              "3.1400392861792916"
            ]
          },
          "metadata": {
            "tags": []
          },
          "execution_count": 98
        }
      ]
    },
    {
      "cell_type": "markdown",
      "metadata": {
        "id": "5ktRy49nHlcR"
      },
      "source": [
        "갑자기 값이 급증합니다. 그 이유는 문자 시퀀스 '디스플레이'라는 문자 시퀀스 다음에는 조사나 다른 단어와 같은 다양한 경우가 있을 수 있기 때문입니다. 이는 하나의 단어가 끝나면 그 경계 부분부터 다시 브랜칭 엔트로피 값이 증가하게 됨을 의미합니다. 그리고 이 값으로 단어를 판단하는 것이 가능하겠죠?"
      ]
    },
    {
      "cell_type": "markdown",
      "metadata": {
        "id": "DigXtkNpHnuZ"
      },
      "source": [
        "## soynlp의 L tokenizer"
      ]
    },
    {
      "cell_type": "markdown",
      "metadata": {
        "id": "_-KO3A2HHsam"
      },
      "source": [
        "한국어는 띄어쓰기 단위로 나눈 어절 토큰은 주로 L 토큰 + R 토큰의 형식을 가질 때가 많습니다. 예를 들어서 '공원에'는 '공원 + 에'로 나눌 수 있겠지요. 또는 '공부하는'은 '공부 + 하는'으로 나눌 수도 있을 것입니다. L 토크나이저는 L 토큰 + R 토큰으로 나누되, 분리 기준을 점수가 가장 높은 L 토큰을 찾아내는 원리를 가지고 있습니다."
      ]
    },
    {
      "cell_type": "code",
      "metadata": {
        "id": "uXrktIsSHrHo",
        "colab": {
          "base_uri": "https://localhost:8080/"
        },
        "outputId": "638e8e0d-0670-4747-91fc-11e76426f8f0"
      },
      "source": [
        "from soynlp.tokenizer import LTokenizer\n",
        "\n",
        "scores = {word:score.cohesion_forward for word, score in word_score_table.items()}\n",
        "l_tokenizer = LTokenizer(scores=scores)\n",
        "l_tokenizer.tokenize(\"국제사회와 우리의 노력들로 범죄를 척결하자\", flatten=False)"
      ],
      "execution_count": 103,
      "outputs": [
        {
          "output_type": "execute_result",
          "data": {
            "text/plain": [
              "[('국제사회', '와'), ('우리', '의'), ('노력', '들로'), ('범죄', '를'), ('척결', '하자')]"
            ]
          },
          "metadata": {
            "tags": []
          },
          "execution_count": 103
        }
      ]
    },
    {
      "cell_type": "markdown",
      "metadata": {
        "id": "nh-YlIvnHySl"
      },
      "source": [
        "## 최대 점수 토크나이저"
      ]
    },
    {
      "cell_type": "markdown",
      "metadata": {
        "id": "Ml5hwIWTH0fh"
      },
      "source": [
        "최대 점수 토크나이저는 띄어쓰기가 되지 않는 문장에서 점수가 높은 글자 시퀀스를 순차적으로 찾아내는 토크나이저입니다. 띄어쓰기가 되어 있지 않은 문장을 넣어서 점수를 통해 토큰화 된 결과를 보겠습니다."
      ]
    },
    {
      "cell_type": "code",
      "metadata": {
        "id": "Y6k2y_q3HuAY",
        "colab": {
          "base_uri": "https://localhost:8080/"
        },
        "outputId": "1090cf09-f1a1-4088-c57a-6fcdfdedb734"
      },
      "source": [
        "from soynlp.tokenizer import MaxScoreTokenizer\n",
        "\n",
        "maxscore_tokenizer = MaxScoreTokenizer(scores=scores)\n",
        "maxscore_tokenizer.tokenize(\"국제사회와우리의노력들로범죄를척결하자\")"
      ],
      "execution_count": 104,
      "outputs": [
        {
          "output_type": "execute_result",
          "data": {
            "text/plain": [
              "['국제사회', '와', '우리', '의', '노력', '들로', '범죄', '를', '척결', '하자']"
            ]
          },
          "metadata": {
            "tags": []
          },
          "execution_count": 104
        }
      ]
    }
  ]
}