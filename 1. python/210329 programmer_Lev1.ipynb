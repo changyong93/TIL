{
  "nbformat": 4,
  "nbformat_minor": 5,
  "metadata": {
    "kernelspec": {
      "display_name": "Python 3",
      "language": "python",
      "name": "python3"
    },
    "language_info": {
      "codemirror_mode": {
        "name": "ipython",
        "version": 3
      },
      "file_extension": ".py",
      "mimetype": "text/x-python",
      "name": "python",
      "nbconvert_exporter": "python",
      "pygments_lexer": "ipython3",
      "version": "3.8.3"
    },
    "toc": {
      "base_numbering": 1,
      "nav_menu": {},
      "number_sections": true,
      "sideBar": true,
      "skip_h1_title": false,
      "title_cell": "Table of Contents",
      "title_sidebar": "Contents",
      "toc_cell": false,
      "toc_position": {},
      "toc_section_display": true,
      "toc_window_display": true
    },
    "colab": {
      "name": "210329 programmer_Lev1.ipynb",
      "provenance": [],
      "toc_visible": true
    }
  },
  "cells": [
    {
      "cell_type": "markdown",
      "metadata": {
        "id": "laughing-decline"
      },
      "source": [
        "# 1레벨"
      ],
      "id": "laughing-decline"
    },
    {
      "cell_type": "code",
      "metadata": {
        "id": "8uRvY_sgFk8y",
        "outputId": "2c1ec892-459e-4abb-8828-5fcf3a6d5578",
        "colab": {
          "base_uri": "https://localhost:8080/"
        }
      },
      "source": [
        "14%7"
      ],
      "id": "8uRvY_sgFk8y",
      "execution_count": 18,
      "outputs": [
        {
          "output_type": "execute_result",
          "data": {
            "text/plain": [
              "0"
            ]
          },
          "metadata": {
            "tags": []
          },
          "execution_count": 18
        }
      ]
    },
    {
      "cell_type": "markdown",
      "metadata": {
        "id": "palestinian-brief"
      },
      "source": [
        "## 두 개 뽑아서 더하기"
      ],
      "id": "palestinian-brief"
    },
    {
      "cell_type": "markdown",
      "metadata": {
        "id": "inclusive-lemon"
      },
      "source": [
        "정수 배열 numbers가 주어집니다. numbers에서 서로 다른 인덱스에 있는 두 개의 수를 뽑아 더해서 만들 수 있는 모든 수를 배열에 오름차순으로 담아 return 하도록 solution 함수를 완성해주세요."
      ],
      "id": "inclusive-lemon"
    },
    {
      "cell_type": "code",
      "metadata": {
        "id": "organized-graphics"
      },
      "source": [
        "def solution(numbers):\n",
        "    sol = []\n",
        "    for a in numbers:\n",
        "        b = numbers.copy()\n",
        "        b.remove(a)\n",
        "        \n",
        "        for c in b:\n",
        "            num = a + c\n",
        "            \n",
        "            if num not in sol:\n",
        "                sol.append(num)\n",
        "    sol = sorted(sol)\n",
        "\n",
        "    return sol"
      ],
      "id": "organized-graphics",
      "execution_count": null,
      "outputs": []
    },
    {
      "cell_type": "code",
      "metadata": {
        "id": "split-disaster",
        "outputId": "728c0fb4-afe8-433e-c651-b147146a4645"
      },
      "source": [
        "solution([2,1,3,4,1])"
      ],
      "id": "split-disaster",
      "execution_count": null,
      "outputs": [
        {
          "output_type": "execute_result",
          "data": {
            "text/plain": [
              "[2, 3, 4, 5, 6, 7]"
            ]
          },
          "metadata": {
            "tags": []
          },
          "execution_count": 89
        }
      ]
    },
    {
      "cell_type": "code",
      "metadata": {
        "id": "nervous-ridge"
      },
      "source": [
        "def solution(numbers):\n",
        "    sol = []\n",
        "    for i in range(len(numbers)):\n",
        "        for j in range(i+1, len(numbers)):\n",
        "            sol.append(numbers[i] + numbers[j])\n",
        "    return sorted(list(set(sol)))"
      ],
      "id": "nervous-ridge",
      "execution_count": null,
      "outputs": []
    },
    {
      "cell_type": "code",
      "metadata": {
        "id": "surprising-arrest",
        "outputId": "4b578fe1-88fd-44e7-bff5-4eb77e1a8a34"
      },
      "source": [
        "solution([2,1,3,4,1])"
      ],
      "id": "surprising-arrest",
      "execution_count": null,
      "outputs": [
        {
          "output_type": "execute_result",
          "data": {
            "text/plain": [
              "[2, 3, 4, 5, 6, 7]"
            ]
          },
          "metadata": {
            "tags": []
          },
          "execution_count": 91
        }
      ]
    },
    {
      "cell_type": "code",
      "metadata": {
        "id": "composed-barrier"
      },
      "source": [
        "#set과 append는 동시 사용 불가\n",
        "def solution(numbers):\n",
        "    sol = set([])\n",
        "    for i in range(len(numbers)):\n",
        "        for j in range(i+1, len(numbers)):\n",
        "            sol.add(numbers[i] + numbers[j])\n",
        "    return sorted(list(sol))"
      ],
      "id": "composed-barrier",
      "execution_count": null,
      "outputs": []
    },
    {
      "cell_type": "code",
      "metadata": {
        "id": "polar-willow",
        "outputId": "3e3d54bc-a591-41b7-d0de-c365c48f7acf"
      },
      "source": [
        "solution([2,1,3,4,1])"
      ],
      "id": "polar-willow",
      "execution_count": null,
      "outputs": [
        {
          "output_type": "execute_result",
          "data": {
            "text/plain": [
              "[2, 3, 4, 5, 6, 7]"
            ]
          },
          "metadata": {
            "tags": []
          },
          "execution_count": 93
        }
      ]
    },
    {
      "cell_type": "code",
      "metadata": {
        "id": "coordinate-sterling"
      },
      "source": [
        "#combinations 사용\n",
        "from itertools import combinations\n",
        "def solution(numbers):\n",
        "    sol = set([])\n",
        "    for i in list(combinations(numbers,2)):\n",
        "        sol.add(sum(i))\n",
        "    return list(sol)"
      ],
      "id": "coordinate-sterling",
      "execution_count": null,
      "outputs": []
    },
    {
      "cell_type": "code",
      "metadata": {
        "id": "medieval-optimum",
        "outputId": "949fcfe9-eb64-4e73-8dc3-47cb3af0d3f7"
      },
      "source": [
        "solution([2,1,3,4,1])"
      ],
      "id": "medieval-optimum",
      "execution_count": null,
      "outputs": [
        {
          "output_type": "execute_result",
          "data": {
            "text/plain": [
              "[2, 3, 4, 5, 6, 7]"
            ]
          },
          "metadata": {
            "tags": []
          },
          "execution_count": 95
        }
      ]
    },
    {
      "cell_type": "code",
      "metadata": {
        "id": "Xn_Xr5DPJuwM",
        "outputId": "283c874f-b230-40fc-ec44-52339e2b583a",
        "colab": {
          "base_uri": "https://localhost:8080/"
        }
      },
      "source": [
        "from itertools import combinations\n",
        "def solution(numbers):    \n",
        "    return sorted(list(set(map(lambda x : sum(x), combinations(numbers,2)))))\n",
        "solution([2,1,3,4,1])"
      ],
      "id": "Xn_Xr5DPJuwM",
      "execution_count": 19,
      "outputs": [
        {
          "output_type": "execute_result",
          "data": {
            "text/plain": [
              "[2, 3, 4, 5, 6, 7]"
            ]
          },
          "metadata": {
            "tags": []
          },
          "execution_count": 19
        }
      ]
    },
    {
      "cell_type": "markdown",
      "metadata": {
        "id": "legitimate-toilet"
      },
      "source": [
        "## 크레인 인형뽑기 게임"
      ],
      "id": "legitimate-toilet"
    },
    {
      "cell_type": "code",
      "metadata": {
        "id": "willing-retrieval"
      },
      "source": [
        "def solution(board, moves):\n",
        "    answer = 0\n",
        "    basket = []\n",
        "    newBoard = [[board[j][i] for j in range(len(board[i]))] for i in range(len(board))]\n",
        "    \n",
        "    for i in newBoard:\n",
        "        for j in range(i.count(0)):\n",
        "            i.remove(0)\n",
        "    \n",
        "    for i in moves:\n",
        "        if len(newBoard[i-1]) > 0:\n",
        "            tmp = newBoard[i-1][0]\n",
        "            del newBoard[i-1][0]\n",
        "            basket.append(tmp)\n",
        "            \n",
        "    i = 0\n",
        "    while True:\n",
        "        if i >= len(basket)-1:\n",
        "            break\n",
        "        if basket[i] == basket[i+1]:\n",
        "            del basket[i+1]\n",
        "            del basket[i]\n",
        "            answer +=2\n",
        "            i = 0\n",
        "        else:\n",
        "            i+=1\n",
        "        \n",
        "    return answer"
      ],
      "id": "willing-retrieval",
      "execution_count": null,
      "outputs": []
    },
    {
      "cell_type": "code",
      "metadata": {
        "id": "oriental-mercury",
        "outputId": "f595c2e3-b9b5-4d49-f86f-8c718e68741b"
      },
      "source": [
        "board = [[0,0,0,0,0],[0,0,1,0,3],[0,2,5,0,1],[4,2,4,4,2],[3,5,1,3,1]]\n",
        "moves = [1,5,3,5,1,2,1,4]\n",
        "solution(board,moves)"
      ],
      "id": "oriental-mercury",
      "execution_count": null,
      "outputs": [
        {
          "output_type": "execute_result",
          "data": {
            "text/plain": [
              "4"
            ]
          },
          "metadata": {
            "tags": []
          },
          "execution_count": 324
        }
      ]
    },
    {
      "cell_type": "code",
      "metadata": {
        "id": "surface-morris"
      },
      "source": [
        "def solution(board, moves):\n",
        "    stacklist = []\n",
        "    answer = 0\n",
        "    \n",
        "    for i in moves:\n",
        "        for j in range(len(board)):\n",
        "            if board[j][i-1] != 0:\n",
        "                stacklist.append(board[j][i-1])\n",
        "                board[j][i-1] = 0\n",
        "                \n",
        "                if len(stacklist) >=2:\n",
        "                    if stacklist[-1] == stacklist[-2]:\n",
        "                        answer +=2\n",
        "                        stacklist.pop()\n",
        "                        stacklist.pop()\n",
        "                break #한 번의 뽑기에서 컬럼별 하나의 값만 뽑고 break=> for문을 멈추고 이전 moves의 값 재할당\n",
        "    return answer"
      ],
      "id": "surface-morris",
      "execution_count": null,
      "outputs": []
    },
    {
      "cell_type": "code",
      "metadata": {
        "id": "stretch-automation",
        "outputId": "10c0510c-4999-4c78-cdbf-ae4f2a58a3be"
      },
      "source": [
        "board = [[0,0,0,0,0],[0,0,1,0,3],[0,2,5,0,1],[4,2,4,4,2],[3,5,1,3,1]]\n",
        "moves = [1,5,3,5,1,2,1,4]\n",
        "solution(board,moves)"
      ],
      "id": "stretch-automation",
      "execution_count": null,
      "outputs": [
        {
          "output_type": "execute_result",
          "data": {
            "text/plain": [
              "4"
            ]
          },
          "metadata": {
            "tags": []
          },
          "execution_count": 322
        }
      ]
    },
    {
      "cell_type": "markdown",
      "metadata": {
        "id": "arranged-loading"
      },
      "source": [
        "## 124 나라의 숫자"
      ],
      "id": "arranged-loading"
    },
    {
      "cell_type": "code",
      "metadata": {
        "id": "responsible-twist"
      },
      "source": [
        "def solution(n):\n",
        "    answer = ''\n",
        "    share = n\n",
        "        \n",
        "    while share !=0:\n",
        "        remainder = share % 3\n",
        "        share = share // 3\n",
        "                \n",
        "        if remainder==0:\n",
        "            answer = '4'+answer\n",
        "            share -= 1\n",
        "        else  :\n",
        "            answer = str(remainder) + answer\n",
        "    \n",
        "    return answer"
      ],
      "id": "responsible-twist",
      "execution_count": null,
      "outputs": []
    },
    {
      "cell_type": "code",
      "metadata": {
        "id": "revolutionary-jones"
      },
      "source": [
        "def solution(n):\n",
        "    num = ['1','2','4']\n",
        "    answer = ''\n",
        "    while n>0:\n",
        "        n -=1\n",
        "        answer = num[n % 3] + answer\n",
        "        n //=3\n",
        "    return answer"
      ],
      "id": "revolutionary-jones",
      "execution_count": null,
      "outputs": []
    },
    {
      "cell_type": "code",
      "metadata": {
        "id": "behind-dynamics"
      },
      "source": [
        "def solution(n):\n",
        "    if n <=3:\n",
        "        return '124'[n-1]\n",
        "    else:\n",
        "        q, r = divmod(n-1,3)\n",
        "        return solution(q)+'124'[r]"
      ],
      "id": "behind-dynamics",
      "execution_count": null,
      "outputs": []
    },
    {
      "cell_type": "code",
      "metadata": {
        "id": "cheap-worse",
        "outputId": "9460f44d-cce7-4960-cf7a-c5e2fc8269f5"
      },
      "source": [
        "solution(6)"
      ],
      "id": "cheap-worse",
      "execution_count": null,
      "outputs": [
        {
          "output_type": "execute_result",
          "data": {
            "text/plain": [
              "'14'"
            ]
          },
          "metadata": {
            "tags": []
          },
          "execution_count": 168
        }
      ]
    },
    {
      "cell_type": "markdown",
      "metadata": {
        "id": "chronic-reggae"
      },
      "source": [
        "## 멀쩡한 사각형"
      ],
      "id": "chronic-reggae"
    },
    {
      "cell_type": "code",
      "metadata": {
        "id": "written-congress"
      },
      "source": [
        "import numpy as np \n",
        "\n",
        "def solution(w,h):\n",
        "    answer = 0\n",
        "    if (w != 0) & (h != 0): #w, h가 모두 0이 아닌 경우만 실행\n",
        "        gradient = h/w\n",
        "        \n",
        "        for x in range(1,w+1):\n",
        "            answer += np.ceil(gradient*(x)) - np.floor(gradient*(x-1))\n",
        "            \n",
        "    return w*h - answer\n",
        "\n",
        "#샘플 테스트는 통과했지만\n",
        "#시간 초과"
      ],
      "id": "written-congress",
      "execution_count": null,
      "outputs": []
    },
    {
      "cell_type": "code",
      "metadata": {
        "id": "interim-palestinian"
      },
      "source": [
        "def gcd(w,h): return w if h==0 else gcd(h, w%h)\n",
        "def solution(w,h): return w*h-w-h+gcd(w,h)"
      ],
      "id": "interim-palestinian",
      "execution_count": null,
      "outputs": []
    },
    {
      "cell_type": "code",
      "metadata": {
        "id": "domestic-course",
        "outputId": "ca27889a-1c2b-4d5a-f98d-bd223142353e"
      },
      "source": [
        "solution(12,8)"
      ],
      "id": "domestic-course",
      "execution_count": null,
      "outputs": [
        {
          "output_type": "execute_result",
          "data": {
            "text/plain": [
              "80"
            ]
          },
          "metadata": {
            "tags": []
          },
          "execution_count": 42
        }
      ]
    },
    {
      "cell_type": "markdown",
      "metadata": {
        "id": "natural-bottom"
      },
      "source": [
        "## 스킬트리"
      ],
      "id": "natural-bottom"
    },
    {
      "cell_type": "code",
      "metadata": {
        "id": "ancient-polyester"
      },
      "source": [
        "def solution(skill, skill_trees):\n",
        "    \n",
        "    answer = 0\n",
        "    for tree in skill_trees:\n",
        "        myskill = ''.join([str1 for str1 in tree if str1 in skill])\n",
        "        \n",
        "        if skill.startswith(myskill):\n",
        "            answer +=1\n",
        "    return answer\n",
        "        \n"
      ],
      "id": "ancient-polyester",
      "execution_count": null,
      "outputs": []
    },
    {
      "cell_type": "code",
      "metadata": {
        "id": "electronic-beaver",
        "outputId": "34c5fb6c-1085-4665-a3b9-99dcaf4a6dc6"
      },
      "source": [
        "solution(\"CBD\", [\"BACDE\", \"CBADF\", \"AECB\", \"BDA\"])"
      ],
      "id": "electronic-beaver",
      "execution_count": null,
      "outputs": [
        {
          "output_type": "execute_result",
          "data": {
            "text/plain": [
              "2"
            ]
          },
          "metadata": {
            "tags": []
          },
          "execution_count": 166
        }
      ]
    },
    {
      "cell_type": "code",
      "metadata": {
        "id": "driven-temperature"
      },
      "source": [
        "def solution(skill, skill_trees):\n",
        "    answer = 0\n",
        "    for skills in skill_trees:\n",
        "        skill_list = list(skill)\n",
        "        \n",
        "        for s in skills:\n",
        "            if s in skill_list:\n",
        "                if s != skill_list.pop(0):\n",
        "                    break\n",
        "        else:\n",
        "            answer +=1\n",
        "    return answer"
      ],
      "id": "driven-temperature",
      "execution_count": null,
      "outputs": []
    },
    {
      "cell_type": "code",
      "metadata": {
        "id": "meaningful-finger",
        "outputId": "a8c1b8d2-cb64-4277-f7ef-78dbf43525f0"
      },
      "source": [
        "solution(\"CBD\", [\"BACDE\", \"CBADF\", \"AECB\", \"BDA\"])"
      ],
      "id": "meaningful-finger",
      "execution_count": null,
      "outputs": [
        {
          "output_type": "execute_result",
          "data": {
            "text/plain": [
              "2"
            ]
          },
          "metadata": {
            "tags": []
          },
          "execution_count": 175
        }
      ]
    },
    {
      "cell_type": "code",
      "metadata": {
        "id": "aging-disco"
      },
      "source": [
        "def solution(skill, skill_trees):\n",
        "    answer = 0\n",
        "    \n",
        "    for skills in skill_trees:\n",
        "        skilllist = ''\n",
        "        \n",
        "        for s in skills:\n",
        "            if s in skill:\n",
        "                skilllist += s\n",
        "        if skilllist == skill[0:len(skilllist)]:\n",
        "            answer +=1\n",
        "    return answer"
      ],
      "id": "aging-disco",
      "execution_count": null,
      "outputs": []
    },
    {
      "cell_type": "code",
      "metadata": {
        "id": "mighty-norfolk",
        "outputId": "170124d6-e1c9-4aba-a9d3-355217dbeb0e"
      },
      "source": [
        "solution(\"CBD\", [\"BACDE\", \"CBADF\", \"AECB\", \"BDA\"])"
      ],
      "id": "mighty-norfolk",
      "execution_count": null,
      "outputs": [
        {
          "output_type": "execute_result",
          "data": {
            "text/plain": [
              "2"
            ]
          },
          "metadata": {
            "tags": []
          },
          "execution_count": 179
        }
      ]
    },
    {
      "cell_type": "markdown",
      "metadata": {
        "id": "4BKSLJNIp_Fu"
      },
      "source": [
        "## 폰켓몬"
      ],
      "id": "4BKSLJNIp_Fu"
    },
    {
      "cell_type": "code",
      "metadata": {
        "id": "hVMb7C-3nvlA",
        "colab": {
          "base_uri": "https://localhost:8080/"
        },
        "outputId": "ae00d3ea-d471-476b-8829-3a3e5a212621"
      },
      "source": [
        "def solution(nums):\n",
        "    answer = 0\n",
        "    select = []\n",
        "    max_num = len(nums)/2\n",
        "    for num in nums:\n",
        "        if num not in select:\n",
        "            if answer < max_num:\n",
        "                select.append(num)\n",
        "                answer +=1\n",
        "    return answer\n",
        "\n",
        "def solution(ls):\n",
        "  return min(len(ls)/2, len(set(ls)))\n",
        "\n",
        "\n",
        "print(solution([3, 1, 2, 3]))"
      ],
      "id": "hVMb7C-3nvlA",
      "execution_count": null,
      "outputs": [
        {
          "output_type": "stream",
          "text": [
            "2.0\n"
          ],
          "name": "stdout"
        }
      ]
    },
    {
      "cell_type": "markdown",
      "metadata": {
        "id": "HE4Iw0BbqFBS"
      },
      "source": [
        "## 완주하지 못한 선수(해시)"
      ],
      "id": "HE4Iw0BbqFBS"
    },
    {
      "cell_type": "code",
      "metadata": {
        "id": "WZethGZcqzQT",
        "colab": {
          "base_uri": "https://localhost:8080/",
          "height": 35
        },
        "outputId": "856cc3e1-ce18-4ffa-8851-7a89e8036aba"
      },
      "source": [
        "# participant = [\"leo\", \"kiki\", \"eden,\"]\n",
        "# completion = [\"eden\", \"kiki\"]\n",
        "\n",
        "participant = [\"marina\", \"josipa\", \"nikola\", \"vinko\", \"filipa\"]\n",
        "completion = [\"josipa\", \"filipa\", \"marina\", \"nikola\"]\n",
        "\n",
        "def solution(participant, completion):\n",
        "    participant.sort()\n",
        "    completion.sort()\n",
        "\n",
        "    num_p = 0\n",
        "    for i in range(len(participant)):\n",
        "        if participant[num_p] in completion:\n",
        "            participant.pop(num_p)\n",
        "            completion.pop(0)\n",
        "\n",
        "    return participant[0]\n",
        "solution(participant, completion)"
      ],
      "id": "WZethGZcqzQT",
      "execution_count": null,
      "outputs": [
        {
          "output_type": "execute_result",
          "data": {
            "application/vnd.google.colaboratory.intrinsic+json": {
              "type": "string"
            },
            "text/plain": [
              "'vinko'"
            ]
          },
          "metadata": {
            "tags": []
          },
          "execution_count": 142
        }
      ]
    },
    {
      "cell_type": "markdown",
      "metadata": {
        "id": "Th5fr5sS7EUs"
      },
      "source": [
        "- 동명이인 처리를 위해서 sorting 후 participant 길이만큼 반복문을 돌려서 participant의 인자가 completion에 있을 경우 동일한 값 제거\n",
        "- 원하는 결과는 잘 예측하나 코드 효율성 저하\n",
        "---"
      ],
      "id": "Th5fr5sS7EUs"
    },
    {
      "cell_type": "code",
      "metadata": {
        "id": "7Z6KZuTk7gZQ",
        "colab": {
          "base_uri": "https://localhost:8080/",
          "height": 35
        },
        "outputId": "a9cfc697-0b9b-4b13-d897-833968e9ae62"
      },
      "source": [
        "participant = [\"marina\", \"josipa\", \"nikola\", \"vinko\", \"filipa\"]\n",
        "completion = [\"josipa\", \"filipa\", \"marina\", \"nikola\"]\n",
        "def solution(participant, completion):\n",
        "    participant.sort()\n",
        "    completion.sort()\n",
        "\n",
        "    for p,c in zip(participant, completion):\n",
        "      if p !=c:\n",
        "        return p\n",
        "    \n",
        "    return participant[-1]\n",
        "    \n",
        "\n",
        "solution(participant, completion)"
      ],
      "id": "7Z6KZuTk7gZQ",
      "execution_count": null,
      "outputs": [
        {
          "output_type": "execute_result",
          "data": {
            "application/vnd.google.colaboratory.intrinsic+json": {
              "type": "string"
            },
            "text/plain": [
              "'vinko'"
            ]
          },
          "metadata": {
            "tags": []
          },
          "execution_count": 152
        }
      ]
    },
    {
      "cell_type": "markdown",
      "metadata": {
        "id": "BLRXVrRi_SF6"
      },
      "source": [
        "- 성공\n",
        "---"
      ],
      "id": "BLRXVrRi_SF6"
    },
    {
      "cell_type": "markdown",
      "metadata": {
        "id": "iB7wIKWw_Tkl"
      },
      "source": [
        "### 다른 사람의 풀이"
      ],
      "id": "iB7wIKWw_Tkl"
    },
    {
      "cell_type": "code",
      "metadata": {
        "id": "DwIyjik7_W76",
        "colab": {
          "base_uri": "https://localhost:8080/",
          "height": 35
        },
        "outputId": "77cb4107-3bcf-4a0e-dbac-88440f2a5267"
      },
      "source": [
        "import collections\n",
        "\n",
        "def solution(participant, completion):\n",
        "    answer = collections.Counter(participant) - collections.Counter(completion)\n",
        "    return list(answer.keys())[0]\n",
        "\n",
        "solution(participant, completion)"
      ],
      "id": "DwIyjik7_W76",
      "execution_count": null,
      "outputs": [
        {
          "output_type": "execute_result",
          "data": {
            "application/vnd.google.colaboratory.intrinsic+json": {
              "type": "string"
            },
            "text/plain": [
              "'vinko'"
            ]
          },
          "metadata": {
            "tags": []
          },
          "execution_count": 154
        }
      ]
    },
    {
      "cell_type": "code",
      "metadata": {
        "id": "o1iwPs9M_aTw",
        "colab": {
          "base_uri": "https://localhost:8080/"
        },
        "outputId": "50976df1-c78e-4c66-8afe-e4f2955d1761"
      },
      "source": [
        "participant = [\"marina\", \"josipa\", \"nikola\", \"nikola\", \"filipa\"]\n",
        "completion = [\"josipa\", \"filipa\", \"marina\", \"nikola\"]\n",
        "# vinko\n",
        "print(participant)\n",
        "print(\"*\"*100)\n",
        "print(collections.Counter(participant))\n",
        "print(\"*\"*100)\n",
        "print(collections.Counter(participant) - collections.Counter(completion))"
      ],
      "id": "o1iwPs9M_aTw",
      "execution_count": null,
      "outputs": [
        {
          "output_type": "stream",
          "text": [
            "['marina', 'josipa', 'nikola', 'nikola', 'filipa']\n",
            "****************************************************************************************************\n",
            "Counter({'nikola': 2, 'marina': 1, 'josipa': 1, 'filipa': 1})\n",
            "****************************************************************************************************\n",
            "Counter({'nikola': 1})\n"
          ],
          "name": "stdout"
        }
      ]
    },
    {
      "cell_type": "markdown",
      "metadata": {
        "id": "UeT_vJbL_i5g"
      },
      "source": [
        "- collections의 Count를 사용하면 시 리스트에 포함된 unique한 인자 별로 개수를 Count하고, 참가자가 완주자의 값을 빼주면 완주를 못한 사람만 남게 됨\n",
        "- 단, 결과는 dict type이므로 data type을 변환하여 string type으로 출력이 필요\n",
        "---"
      ],
      "id": "UeT_vJbL_i5g"
    },
    {
      "cell_type": "code",
      "metadata": {
        "id": "m-wsV850Ac2c",
        "colab": {
          "base_uri": "https://localhost:8080/",
          "height": 35
        },
        "outputId": "18a30950-f9fa-42ed-d3f2-f4dbfcdc5399"
      },
      "source": [
        "participant = [\"mislav\", \"stanko\", \"mislav\", \"ana\"]\n",
        "completion = [\"stanko\", \"ana\", \"mislav\"]\n",
        "\n",
        "def solution(participant, completion):\n",
        "  select = 0\n",
        "  hash_dict = {}\n",
        "  for p in participant:\n",
        "    hash_dict[hash(p)] = p\n",
        "    select += hash(p)\n",
        "  \n",
        "  for c in completion:\n",
        "    select -= hash(c)\n",
        "\n",
        "  return hash_dict[select]\n",
        "\n",
        "solution(participant,completion)"
      ],
      "id": "m-wsV850Ac2c",
      "execution_count": null,
      "outputs": [
        {
          "output_type": "execute_result",
          "data": {
            "application/vnd.google.colaboratory.intrinsic+json": {
              "type": "string"
            },
            "text/plain": [
              "'mislav'"
            ]
          },
          "metadata": {
            "tags": []
          },
          "execution_count": 212
        }
      ]
    },
    {
      "cell_type": "markdown",
      "metadata": {
        "id": "lvX90TLDIIP-"
      },
      "source": [
        "ref : https://preamtree.tistory.com/20  \n",
        "- 해싱(hashing) 개념\n",
        "  - 데이터 관리/유지 자료 구조로 리소스에 비해 속도가 매우 빠름\n",
        "  - 해시 함수는 데이터의 효율적 관리를 목적으로 임의의 길이의 데이터를 고정된 길이의 데이터로 맵핑하는 함수\n",
        "  - 키(Key) = 매핑 전 원래 데이터 값, 해시 값(hash value) : 매핑 후 데이터 값\n",
        "  - 이러한 매핑 과정을 해싱이라고 함\n",
        "\n",
        "- 해싱 장점\n",
        "  - 해싱 충돌이 발생할 수 있지만 효율적인 데이터 관리가 가능\n",
        "  - 시간복잡도 O(1)을 지향\n",
        "  - 색인(index)에 해시 값을 사용하므로 모든 데이터를 살피지 않아도 검색과 삽입/삭제를 빠르게 수행하므로, 해시 색인만 알면 해시테이블의 크기와 상관없이 빠르게 접근 가능\n",
        "---"
      ],
      "id": "lvX90TLDIIP-"
    },
    {
      "cell_type": "markdown",
      "metadata": {
        "id": "cfZwR2HwKsLP"
      },
      "source": [
        "## 체육복(Greedy, 탐욕법)"
      ],
      "id": "cfZwR2HwKsLP"
    },
    {
      "cell_type": "code",
      "metadata": {
        "id": "bO-hozPOA2D3",
        "colab": {
          "base_uri": "https://localhost:8080/"
        },
        "outputId": "11ee1412-bc5b-4a99-9a31-3b31d5db56ad"
      },
      "source": [
        "def solution(n, lost, reserve):\n",
        "  \n",
        "    set_lost = set(lost) - set(reserve)\n",
        "    set_reserve = set(reserve) - set(lost)\n",
        "\n",
        "    for i in set_reserve:\n",
        "      if i-1 in set_lost:\n",
        "        set_lost.remove(i-1)\n",
        "      elif i+1 in set_lost:\n",
        "        set_lost.remove(i+1)\n",
        "\n",
        "    return n - len(set_lost)\n",
        "\n",
        "n = 5\n",
        "# lost = [2,4]\n",
        "# reserve = [1,3,5]\n",
        "lost = [2,5]\n",
        "reserve = [1,3,4]\n",
        "solution(n, lost, reserve)"
      ],
      "id": "bO-hozPOA2D3",
      "execution_count": null,
      "outputs": [
        {
          "output_type": "execute_result",
          "data": {
            "text/plain": [
              "5"
            ]
          },
          "metadata": {
            "tags": []
          },
          "execution_count": 2
        }
      ]
    },
    {
      "cell_type": "markdown",
      "metadata": {
        "id": "aAcdAHJ6DTmx"
      },
      "source": [
        "---"
      ],
      "id": "aAcdAHJ6DTmx"
    },
    {
      "cell_type": "markdown",
      "metadata": {
        "id": "DeRTSNxuDP4w"
      },
      "source": [
        "### 다른 사람 풀이"
      ],
      "id": "DeRTSNxuDP4w"
    },
    {
      "cell_type": "code",
      "metadata": {
        "id": "gswti8NiEuFn",
        "colab": {
          "base_uri": "https://localhost:8080/"
        },
        "outputId": "dff30984-3d48-4c6a-a68b-2c852ff78b26"
      },
      "source": [
        "def solution(n, lost, reserve):\n",
        "\n",
        "    reserve = set(reserve)\n",
        "    print(lost)\n",
        "    print(\"*\"*30)\n",
        "\n",
        "    for size in [0, 1, -2]:\n",
        "        print(size)\n",
        "        lost = set(map(lambda x : x+size, lost))\n",
        "        print(lost)\n",
        "        reserve, lost = reserve - lost, lost - reserve\n",
        "\n",
        "    print(lost)\n",
        "    return n - len(lost)\n",
        "\n",
        "n = 5\n",
        "# lost = [2,4]\n",
        "# reserve = [1,3,5]\n",
        "n = 4\n",
        "lost = [3,1]\n",
        "reserve = [2,4]\n",
        "solution(n, lost, reserve)"
      ],
      "id": "gswti8NiEuFn",
      "execution_count": null,
      "outputs": [
        {
          "output_type": "stream",
          "text": [
            "[3, 1]\n",
            "******************************\n",
            "0\n",
            "{1, 3}\n",
            "1\n",
            "{2, 4}\n",
            "-2\n",
            "set()\n",
            "set()\n"
          ],
          "name": "stdout"
        },
        {
          "output_type": "execute_result",
          "data": {
            "text/plain": [
              "4"
            ]
          },
          "metadata": {
            "tags": []
          },
          "execution_count": 28
        }
      ]
    },
    {
      "cell_type": "markdown",
      "metadata": {
        "id": "vBVUOr47K3CV"
      },
      "source": [
        "여분 체육복이 있는 학생들 번호를 유일값으로 대체 => set(reserve)  \n",
        "\n",
        "reserve와 lost를 각 조건별로 고려\n",
        "- 체육복을 도난당한 학생이 여분 체육복을 가진 경우\n",
        "- 체육복을 도난당한 학생의 앞 학생이 여분을 가진 경우\n",
        "- 체육복을 도난당한 학생의 뒷 학생이 여분을 가진 경우\n",
        "\n",
        "상기 조건을 순서대로 적용하여 reserve와 lost를 계산  \n",
        "=> 마지막에 전체 인원에서 도난당했으나 여분을 받지 못한 학생수를 계산"
      ],
      "id": "vBVUOr47K3CV"
    },
    {
      "cell_type": "markdown",
      "metadata": {
        "id": "1d4AmY247xMo"
      },
      "source": [
        "## 모의고사"
      ],
      "id": "1d4AmY247xMo"
    },
    {
      "cell_type": "code",
      "metadata": {
        "id": "vK5pZD2_7zDB",
        "colab": {
          "base_uri": "https://localhost:8080/"
        },
        "outputId": "03e8a9a0-97a7-49a1-f971-7e8fcde2aa14"
      },
      "source": [
        "def solution(answers):\n",
        "    stu1 = [1,2,3,4,5] * 2000\n",
        "    stu2 = [2,1,2,3,2,4,2,5] * 1250\n",
        "    stu3 = [3,3,1,1,2,2,4,4,5,5] * 1000\n",
        "\n",
        "    score_stu1, score_stu2, score_stu3, = 0, 0, 0\n",
        "    for i, answer_ in enumerate(answers):\n",
        "        score_stu1 += 1 if answer_ == stu1[i] else 0\n",
        "        score_stu2 += 1 if answer_ == stu2[i] else 0\n",
        "        score_stu3 += 1 if answer_ == stu3[i] else 0\n",
        "\n",
        "    max_score = max(score_stu1, score_stu2, score_stu3)\n",
        "\n",
        "    answer = []\n",
        "    for i,score in enumerate([score_stu1,score_stu2,score_stu3]):\n",
        "        if max_score == score:\n",
        "            answer.append(i+1)\n",
        "    return answer"
      ],
      "id": "vK5pZD2_7zDB",
      "execution_count": null,
      "outputs": [
        {
          "output_type": "execute_result",
          "data": {
            "text/plain": [
              "[]"
            ]
          },
          "metadata": {
            "tags": []
          },
          "execution_count": 3
        }
      ]
    },
    {
      "cell_type": "markdown",
      "metadata": {
        "id": "slYnPurrHDer"
      },
      "source": [
        "---\n",
        "## 다른 사람 풀이"
      ],
      "id": "slYnPurrHDer"
    },
    {
      "cell_type": "code",
      "metadata": {
        "id": "Q-LaktWWXcha"
      },
      "source": [
        "from itertools import cycle\n",
        "\n",
        "def solution(answers):\n",
        "    giveups = [\n",
        "        cycle([1,2,3,4,5]),\n",
        "        cycle([2,1,2,3,2,4,2,5]),\n",
        "        cycle([3,3,1,1,2,2,4,4,5,5]),\n",
        "    ]\n",
        "    scores = [0, 0, 0]\n",
        "    for num in answers:\n",
        "        for i in range(3):\n",
        "            if next(giveups[i]) == num:\n",
        "                scores[i] += 1\n",
        "    highest = max(scores)\n",
        "\n",
        "    return [i + 1 for i, v in enumerate(scores) if v == highest]"
      ],
      "id": "Q-LaktWWXcha",
      "execution_count": null,
      "outputs": []
    },
    {
      "cell_type": "markdown",
      "metadata": {
        "id": "Xy0twJDPXeg8"
      },
      "source": [
        "- itertool의 cycle을 이용하면 list 내의 값을 하나씩 순서대로 출력"
      ],
      "id": "Xy0twJDPXeg8"
    },
    {
      "cell_type": "markdown",
      "metadata": {
        "id": "_ODmHPdYX9Ha"
      },
      "source": [
        "## 음양 더하기"
      ],
      "id": "_ODmHPdYX9Ha"
    },
    {
      "cell_type": "code",
      "metadata": {
        "id": "rVVfTRojIKUP"
      },
      "source": [
        "a = [1,2,3,4,5]\n",
        "b = [True,False,True,True,True]"
      ],
      "id": "rVVfTRojIKUP",
      "execution_count": null,
      "outputs": []
    },
    {
      "cell_type": "code",
      "metadata": {
        "id": "EkIsldSVINW9",
        "colab": {
          "base_uri": "https://localhost:8080/"
        },
        "outputId": "4893c7e1-9f89-4dc7-dd4d-0f9801c25a36"
      },
      "source": [
        "def solution(absolutes, signs):\n",
        "    return sum(absolute if sign else -absolute for absolute, sign in zip(absolutes,signs))\n",
        "solution(a,b)"
      ],
      "id": "EkIsldSVINW9",
      "execution_count": null,
      "outputs": [
        {
          "output_type": "execute_result",
          "data": {
            "text/plain": [
              "11"
            ]
          },
          "metadata": {
            "tags": []
          },
          "execution_count": 46
        }
      ]
    },
    {
      "cell_type": "markdown",
      "metadata": {
        "id": "0NZnzvUIM6Sg"
      },
      "source": [
        "## 내적"
      ],
      "id": "0NZnzvUIM6Sg"
    },
    {
      "cell_type": "code",
      "metadata": {
        "colab": {
          "base_uri": "https://localhost:8080/"
        },
        "id": "aJM06Y5pOPyX",
        "outputId": "3a622bcc-599c-4614-acdd-60223ecd5f04"
      },
      "source": [
        "def solution(a, b): return sum([i*j for i,j in zip(a,b)])\n",
        "\n",
        "solution([1,2,3,4], [-3,-1,0,2])"
      ],
      "id": "aJM06Y5pOPyX",
      "execution_count": null,
      "outputs": [
        {
          "output_type": "execute_result",
          "data": {
            "text/plain": [
              "3"
            ]
          },
          "metadata": {
            "tags": []
          },
          "execution_count": 1
        }
      ]
    },
    {
      "cell_type": "markdown",
      "metadata": {
        "id": "o2NkA1vbOV-w"
      },
      "source": [
        "## 소수 만들기"
      ],
      "id": "o2NkA1vbOV-w"
    },
    {
      "cell_type": "code",
      "metadata": {
        "colab": {
          "base_uri": "https://localhost:8080/"
        },
        "id": "2wEHv4cyRkXg",
        "outputId": "b413b73e-1823-4e57-8f38-f3d10ea9c16c"
      },
      "source": [
        "# 풀이 1\n",
        "from itertools import combinations\n",
        "\n",
        "def solution(nums):\n",
        "    nums = list(map(lambda x : sum(x), list(combinations(nums, 3))))\n",
        "\n",
        "    prime_list = [2]\n",
        "    for i in range(3, max(nums)+1):\n",
        "        for j in range(2,i):\n",
        "            if i % j == 0:\n",
        "                break\n",
        "            if j+1 == i:\n",
        "                prime_list.append(i)\n",
        "    \n",
        "    answer = 0\n",
        "    for num in nums:\n",
        "        answer += 1 if num in prime_list else 0\n",
        "\n",
        "    return answer\n",
        "\n",
        "solution([1,2,7,6,4])"
      ],
      "id": "2wEHv4cyRkXg",
      "execution_count": null,
      "outputs": [
        {
          "output_type": "execute_result",
          "data": {
            "text/plain": [
              "4"
            ]
          },
          "metadata": {
            "tags": []
          },
          "execution_count": 60
        }
      ]
    },
    {
      "cell_type": "code",
      "metadata": {
        "colab": {
          "base_uri": "https://localhost:8080/"
        },
        "id": "FTxdkoY5eYXc",
        "outputId": "0bb03596-4406-4911-f6b8-b39423932455"
      },
      "source": [
        "# 풀이 1\n",
        "from itertools import combinations\n",
        "\n",
        "def solution(nums):\n",
        "    nums = list(map(lambda x : sum(x), list(combinations(nums, 3))))\n",
        "\n",
        "    prime_list = {2 : True}\n",
        "    for i in range(3, max(nums)+1):\n",
        "        for j in range(2,i):\n",
        "            if i % j == 0:\n",
        "                prime_list[i] = False\n",
        "                break\n",
        "            if j+1 == i:\n",
        "                prime_list[i] = True\n",
        "    \n",
        "    answer = 0\n",
        "    for num in nums:\n",
        "        answer += 1 if prime_list[num] else 0\n",
        "\n",
        "    return answer\n",
        "\n",
        "solution([1,2,7,6,4])"
      ],
      "id": "FTxdkoY5eYXc",
      "execution_count": null,
      "outputs": [
        {
          "output_type": "execute_result",
          "data": {
            "text/plain": [
              "4"
            ]
          },
          "metadata": {
            "tags": []
          },
          "execution_count": 79
        }
      ]
    },
    {
      "cell_type": "markdown",
      "metadata": {
        "id": "Cm43fXBlfqBk"
      },
      "source": [
        "정답은 맞췄지만, 3개를 더한 값 중 최댓값을 기준으로 소수를 구하는데, 이 때의 시간복잡도는 O(n^2)이고, answer을 위한 계산에선 O(n) 이므로 성능이 떨어짐  \n",
        "\n",
        "---\n",
        "하기 코드도 결과는 같지만, 소수 판단 및 결과 출력을 위한 시간복잡도는 각 O(n)이므로 상대적으로 성능이 우수함"
      ],
      "id": "Cm43fXBlfqBk"
    },
    {
      "cell_type": "code",
      "metadata": {
        "colab": {
          "base_uri": "https://localhost:8080/"
        },
        "id": "TGmnzkatUss2",
        "outputId": "39ac2b56-824c-40b0-f97e-101ac047499c"
      },
      "source": [
        "from itertools import combinations\n",
        "\n",
        "def isPrime(num):\n",
        "  for i in range(2, int(num**0.5)+1):\n",
        "    if num % i ==0:\n",
        "      return False\n",
        "  return True\n",
        "\n",
        "def solution(nums):\n",
        "  return sum([isPrime(sum(c)) for c in combinations(nums,3)])\n",
        "solution([1,2,7,6,4])"
      ],
      "id": "TGmnzkatUss2",
      "execution_count": null,
      "outputs": [
        {
          "output_type": "execute_result",
          "data": {
            "text/plain": [
              "4"
            ]
          },
          "metadata": {
            "tags": []
          },
          "execution_count": 80
        }
      ]
    },
    {
      "cell_type": "code",
      "metadata": {
        "colab": {
          "base_uri": "https://localhost:8080/"
        },
        "id": "j1ygv7hph9o8",
        "outputId": "80cf0551-d39c-4dbe-b9c1-177349c676a3"
      },
      "source": [
        "from itertools import combinations\n",
        "start = time.time()  # 시작 시간 저장\n",
        "def solution(nums):\n",
        "    answer = 0\n",
        "    for i in combinations(nums,3):\n",
        "        num = sum(i)\n",
        "        for j in range(2, int(num**0.5)+1):\n",
        "            if num % j == 0:\n",
        "              break\n",
        "        else: \n",
        "            answer += 1\n",
        "\n",
        "    return answer\n",
        "solution([1,2,7,6,4])"
      ],
      "id": "j1ygv7hph9o8",
      "execution_count": null,
      "outputs": [
        {
          "output_type": "execute_result",
          "data": {
            "text/plain": [
              "4"
            ]
          },
          "metadata": {
            "tags": []
          },
          "execution_count": 113
        }
      ]
    },
    {
      "cell_type": "markdown",
      "metadata": {
        "id": "x1MWM-HprF9k"
      },
      "source": [
        "## 로또 최고 순위와 최저 순위"
      ],
      "id": "x1MWM-HprF9k"
    },
    {
      "cell_type": "code",
      "metadata": {
        "colab": {
          "base_uri": "https://localhost:8080/"
        },
        "id": "cPrHWOTJrIBF",
        "outputId": "d0cb8315-c214-4bf7-8cf9-c83cb4b64fe2"
      },
      "source": [
        "def solution(lottos, win_nums):\n",
        "    lotto_rank = [1,2,3,4,5,6,6]\n",
        "    \n",
        "    del_cnt = lottos.count(0)\n",
        "    lottos = [num for num in lottos if num != 0]\n",
        "    \n",
        "    cnt_min = len(set(win_nums) - set(lottos))\n",
        "    cnt_max = cnt_min - del_cnt\n",
        "    \n",
        "    return [lotto_rank[cnt_max],lotto_rank[cnt_min]]\n",
        "\n",
        "solution([44, 1, 0, 0, 31, 25], [31, 10, 45, 1, 6, 19])"
      ],
      "id": "cPrHWOTJrIBF",
      "execution_count": null,
      "outputs": [
        {
          "output_type": "stream",
          "text": [
            "4\n"
          ],
          "name": "stdout"
        },
        {
          "output_type": "execute_result",
          "data": {
            "text/plain": [
              "[3, 5]"
            ]
          },
          "metadata": {
            "tags": []
          },
          "execution_count": 117
        }
      ]
    },
    {
      "cell_type": "markdown",
      "metadata": {
        "id": "BCDVPRs9tHhJ"
      },
      "source": [
        "- lotto 번호를 맞힌 개수에 따라 index 번호로 등수 반환\n",
        "- 지워진 값을 cnt 후 실제 로또 번호와 복권 번호간 동일한 값을 지운 후 개수 확인 => min\n",
        "- min에다가 0의 개수를 빼주면 max"
      ],
      "id": "BCDVPRs9tHhJ"
    },
    {
      "cell_type": "code",
      "metadata": {
        "colab": {
          "base_uri": "https://localhost:8080/"
        },
        "id": "1YHjYV1XuUtX",
        "outputId": "96251cc7-0a6f-443a-a45a-43da26bf286d"
      },
      "source": [
        "## tip => set() & set()은 동일한 값만 출력\n",
        "##     => set() - set() 앞의 set 중 뒤의 set()과 동일한 값을 제거한 상태로 출력\n",
        "a = [44, 1, 0, 0, 31, 25]\n",
        "b = [31, 10, 45, 1, 6, 19]\n",
        "set(a) & set(b)"
      ],
      "id": "1YHjYV1XuUtX",
      "execution_count": null,
      "outputs": [
        {
          "output_type": "execute_result",
          "data": {
            "text/plain": [
              "{1, 31}"
            ]
          },
          "metadata": {
            "tags": []
          },
          "execution_count": 123
        }
      ]
    },
    {
      "cell_type": "code",
      "metadata": {
        "colab": {
          "base_uri": "https://localhost:8080/"
        },
        "id": "XGPH9Rmfu6N2",
        "outputId": "44069812-6d82-482f-f655-66007abafd18"
      },
      "source": [
        "def solution(lottos, win_nums):\n",
        "  rank = {0:6, 1:6, 2:5, 3:4, 4:3, 5:2, 6:1}\n",
        "  return rank[len(set(lottos) & set(win_nums)) + lottos.count(0)], rank[len(set(lottos) & set(win_nums))]\n",
        "solution([44, 1, 0, 0, 31, 25], [31, 10, 45, 1, 6, 19])"
      ],
      "id": "XGPH9Rmfu6N2",
      "execution_count": null,
      "outputs": [
        {
          "output_type": "execute_result",
          "data": {
            "text/plain": [
              "(3, 5)"
            ]
          },
          "metadata": {
            "tags": []
          },
          "execution_count": 209
        }
      ]
    },
    {
      "cell_type": "markdown",
      "metadata": {
        "id": "muDBw7tBBS3o"
      },
      "source": [
        "## 신규 아이디 추천(정규표현식)"
      ],
      "id": "muDBw7tBBS3o"
    },
    {
      "cell_type": "code",
      "metadata": {
        "colab": {
          "base_uri": "https://localhost:8080/",
          "height": 35
        },
        "id": "VRxS4izb2bVM",
        "outputId": "e3fb1fd2-698d-401e-a4f8-91f19c93b350"
      },
      "source": [
        "import re\n",
        "def solution(new_id):\n",
        "    # 1단계 소문자화\n",
        "    new_id = new_id.lower()\n",
        "    \n",
        "    # 2단계 숫자, 알파벳, -, _, .(온점) 만 남기기\n",
        "    new_id = re.sub(\"[^0-9a-z\\.\\-\\_]\",'',new_id)\n",
        "    # new_id = re.sub('[\\~\\!\\@\\#\\$\\%\\^\\&\\*\\(\\)\\=\\+\\[\\{\\]\\}\\:\\?\\,\\<\\>\\/]', '', new_id)\n",
        "    \n",
        "    # 3단계 : 2개 이상의 마침표(.)를 하나의 마침표로 변환\n",
        "    new_id = re.sub(\"\\.+\", \".\", new_id)\n",
        "    \n",
        "    # 4단계 : 처음과 끝의 마침표(.) 제거\n",
        "    new_id = new_id.strip(\".\")\n",
        "    # new_id = re.sub(\"^[\\.]|[\\.]$\", \"\")\n",
        "    \n",
        "    # 5단계 : 빈 문자열 시 \"a\" 입력\n",
        "    new_id = 'a' if len(new_id) == 0 else new_id\n",
        "    \n",
        "    # 6단계 : new_id의 길이를 15까지만 남긴 후, 마지막 문자가 마침표면 마침표 제거\n",
        "    new_id = new_id[:15].rstrip(\".\")\n",
        "    # new_id = re.sub(\"[\\.]$\", \"\")\n",
        "    \n",
        "    #7단계 : new_id 길이가 3이상이 될 때까지 new_id의 마지막 문자를 끝에 붙이기\n",
        "    while len(new_id) <=2 : new_id += new_id[-1]\n",
        "\n",
        "    return new_id\n",
        "solution(\"...!@BaT#*..y.abcdefghijklm\")"
      ],
      "id": "VRxS4izb2bVM",
      "execution_count": null,
      "outputs": [
        {
          "output_type": "execute_result",
          "data": {
            "application/vnd.google.colaboratory.intrinsic+json": {
              "type": "string"
            },
            "text/plain": [
              "'bat.y.abcdefghi'"
            ]
          },
          "metadata": {
            "tags": []
          },
          "execution_count": 211
        }
      ]
    },
    {
      "cell_type": "markdown",
      "metadata": {
        "id": "AeIXkVPqEcOJ"
      },
      "source": [
        "## 키패드 누르기"
      ],
      "id": "AeIXkVPqEcOJ"
    },
    {
      "cell_type": "code",
      "metadata": {
        "colab": {
          "base_uri": "https://localhost:8080/"
        },
        "id": "I5ZTqotAH5nG",
        "outputId": "9f195753-82c6-4da6-dc57-e27e5fd823a6"
      },
      "source": [
        "def dist(start,end):\n",
        "    return abs(start[0] - end[0]) + abs(start[1] - end[1])\n",
        "\n",
        "def solution(numbers, hand, target = None):\n",
        "    number = {\n",
        "        1 : (1,1),   2 : (1,2),   3 : (1,3),\n",
        "        4 : (2,1),   5 : (2,2),   6 : (2,3),\n",
        "        7 : (3,1),   8 : (3,2),   9 : (3,3),\n",
        "        \"*\" : (4,1), 0 : (4,2), \"#\" : (4,3)\n",
        "    }\n",
        "    left_thumb = number[\"*\"]\n",
        "    right_thumb = number[\"#\"]\n",
        "    answer = ''\n",
        "    \n",
        "    for num in numbers:\n",
        "        if num in [1,4,7,\"*\"]:\n",
        "            answer += \"L\"\n",
        "            left_thumb = number[num]\n",
        "        elif num in [3,6,9,\"#\"]:\n",
        "            answer += \"R\"\n",
        "            right_thumb = number[num]\n",
        "        elif num in [2,5,8,0]:\n",
        "            dist_left = dist(number[num], left_thumb)\n",
        "            dist_right = dist(number[num], right_thumb)\n",
        "            \n",
        "            if dist_left < dist_right:\n",
        "                answer += \"L\"\n",
        "                left_thumb = number[num]\n",
        "            elif dist_left > dist_right:\n",
        "                answer += \"R\"\n",
        "                right_thumb = number[num]\n",
        "            else:\n",
        "                if hand == 'left':\n",
        "                    answer += \"L\"\n",
        "                    left_thumb = number[num]\n",
        "                else:\n",
        "                    answer += \"R\"\n",
        "                    right_thumb = number[num]\n",
        "                \n",
        "    \n",
        "    return answer, target, answer == target\n",
        "solution([1, 3, 4, 5, 8, 2, 1, 4, 5, 9, 5], \"right\", \"LRLLLRLLRRL\")\n"
      ],
      "id": "I5ZTqotAH5nG",
      "execution_count": null,
      "outputs": [
        {
          "output_type": "execute_result",
          "data": {
            "text/plain": [
              "('LRLLLRLLRRL', 'LRLLLRLLRRL', True)"
            ]
          },
          "metadata": {
            "tags": []
          },
          "execution_count": 234
        }
      ]
    },
    {
      "cell_type": "markdown",
      "metadata": {
        "id": "krDhBFvzKfle"
      },
      "source": [
        "\"LRLLLRLLRRL\""
      ],
      "id": "krDhBFvzKfle"
    },
    {
      "cell_type": "markdown",
      "metadata": {
        "id": "0A6QryhjM_bV"
      },
      "source": [
        "## K 번째 수 (정렬)"
      ],
      "id": "0A6QryhjM_bV"
    },
    {
      "cell_type": "code",
      "metadata": {
        "colab": {
          "base_uri": "https://localhost:8080/"
        },
        "id": "LGzFd5WSM7_x",
        "outputId": "149ee483-5838-47fe-95e0-d6346c5b5164"
      },
      "source": [
        "#2점\n",
        "def solution(array, commands):\n",
        "    answer = []\n",
        "    for command in commands:\n",
        "        seq = sorted(array[command[0]-1 : command[1]])\n",
        "        temp = seq[command[2]-1]\n",
        "        answer.append(temp)\n",
        "    return answer\n",
        "\n",
        "array = [1, 5, 2, 6, 3, 7, 4]\n",
        "commands = [[2, 5, 3], [4, 4, 1], [1, 7, 3]]\n",
        "solution(array,commands)"
      ],
      "id": "LGzFd5WSM7_x",
      "execution_count": null,
      "outputs": [
        {
          "output_type": "execute_result",
          "data": {
            "text/plain": [
              "[5, 6, 3]"
            ]
          },
          "metadata": {
            "tags": []
          },
          "execution_count": 261
        }
      ]
    },
    {
      "cell_type": "code",
      "metadata": {
        "colab": {
          "base_uri": "https://localhost:8080/"
        },
        "id": "loT_dYxZNNPC",
        "outputId": "b9d7162f-cb5e-4491-eac9-06e475f71dfd"
      },
      "source": [
        "def solution(array,commands):\n",
        "  # return [sorted(array[command[0]-1 : command[1]])[command[2]-1] for command in commands]\n",
        "  return list(map(lambda x : sorted(array[x[0]-1 : x[1]])[x[2]-1],commands))\n",
        "\n",
        "\n",
        "array = [1, 5, 2, 6, 3, 7, 4]\n",
        "commands = [[2, 5, 3], [4, 4, 1], [1, 7, 3]]\n",
        "solution(array,commands)"
      ],
      "id": "loT_dYxZNNPC",
      "execution_count": null,
      "outputs": [
        {
          "output_type": "execute_result",
          "data": {
            "text/plain": [
              "[5, 6, 3]"
            ]
          },
          "metadata": {
            "tags": []
          },
          "execution_count": 265
        }
      ]
    },
    {
      "cell_type": "markdown",
      "metadata": {
        "id": "GuPr2uDDSPAz"
      },
      "source": [
        "## 실패율 (2019년 카카오 블라인드 공채 채용 코딩테스트 문제)"
      ],
      "id": "GuPr2uDDSPAz"
    },
    {
      "cell_type": "code",
      "metadata": {
        "colab": {
          "base_uri": "https://localhost:8080/"
        },
        "id": "lPzjRP3wYdNI",
        "outputId": "57a591e4-3411-4c79-92d6-0b2b76dae13b"
      },
      "source": [
        "def solution(N, stages):\n",
        "    stages = sorted(stages)\n",
        "    failure = {}\n",
        "    for stage in range(1,N+1):\n",
        "        \n",
        "        if stage in stages:\n",
        "            stay = stages.count(stage)\n",
        "            failure[stage] = stay / len(stages)\n",
        "            stages = stages[stay:]\n",
        "        else:\n",
        "            failure[stage] = 0\n",
        "\n",
        "    \n",
        "    # failure = sorted(sorted(failure.items(), key = lambda x : x[0]), key = lambda x : x[1], reverse = True)\n",
        "    # return [i for i,v in failure]\n",
        "    #이것 보단 하기 방식으로 sorting 하는게 더 효율적인 코딩으로 판단됨\n",
        "\n",
        "    return sorted(failure, key = lambda x : failure[x], reverse= True)\n",
        "    \n",
        "\n",
        "solution(5, [2, 1, 2, 6, 2, 4, 3, 3])"
      ],
      "id": "lPzjRP3wYdNI",
      "execution_count": null,
      "outputs": [
        {
          "output_type": "execute_result",
          "data": {
            "text/plain": [
              "[3, 4, 2, 1, 5]"
            ]
          },
          "metadata": {
            "tags": []
          },
          "execution_count": 332
        }
      ]
    },
    {
      "cell_type": "markdown",
      "metadata": {
        "id": "tsw-MWF7gcKS"
      },
      "source": [
        "코드는 간결하나, 시간복잡도는 O(N^2)이라 비효율적  \n",
        "\n",
        "---\n",
        "### 다른 사람 풀이\n",
        "\n",
        "시간복잡도 O(N)"
      ],
      "id": "tsw-MWF7gcKS"
    },
    {
      "cell_type": "code",
      "metadata": {
        "colab": {
          "base_uri": "https://localhost:8080/"
        },
        "id": "QoJJpxZziAvt",
        "outputId": "2a136dd6-f8f5-4b68-d53d-54587eabec18"
      },
      "source": [
        "def solution(N, stages):\n",
        "  fail = {}\n",
        "\n",
        "  for i in range(1,N+1):\n",
        "      try:\n",
        "          fail_ = len([a for a in stages if a == i]) / len([a for a in stages if a >= i])\n",
        "      except:\n",
        "          fail_ = 0\n",
        "      fail[i] = fail_\n",
        "    \n",
        "  return sorted(fail, key = fail.get, reverse = True)\n",
        "\n",
        "solution(5, [2, 1, 2, 6, 2, 4, 3, 3])"
      ],
      "id": "QoJJpxZziAvt",
      "execution_count": null,
      "outputs": [
        {
          "output_type": "execute_result",
          "data": {
            "text/plain": [
              "[3, 4, 2, 1, 5]"
            ]
          },
          "metadata": {
            "tags": []
          },
          "execution_count": 336
        }
      ]
    },
    {
      "cell_type": "markdown",
      "metadata": {
        "id": "ztpwPZMYk-Qy"
      },
      "source": [
        "## 약수의 개수와 덧셈"
      ],
      "id": "ztpwPZMYk-Qy"
    },
    {
      "cell_type": "code",
      "metadata": {
        "id": "mLYUvv5WlDI4",
        "colab": {
          "base_uri": "https://localhost:8080/"
        },
        "outputId": "620ce8be-bb42-49d6-e0d8-8a14ec1db2ef"
      },
      "source": [
        "def solution(left, right):\n",
        "    answer = 0\n",
        "    for i in range(left, right+1):\n",
        "        divisor = 0\n",
        "        for j in range(1,i+1):\n",
        "            if i % j == 0:\n",
        "                divisor += 1\n",
        "        \n",
        "        answer += i if divisor % 2 == 0 else -i    \n",
        "    \n",
        "    return answer\n",
        "solution(13, 17)"
      ],
      "id": "mLYUvv5WlDI4",
      "execution_count": null,
      "outputs": [
        {
          "output_type": "execute_result",
          "data": {
            "text/plain": [
              "43"
            ]
          },
          "metadata": {
            "tags": []
          },
          "execution_count": 342
        }
      ]
    },
    {
      "cell_type": "markdown",
      "metadata": {
        "id": "kAm7fELwmFuo"
      },
      "source": [
        "불필요한 연산이 포함되었고, 시간복잡도 역시 O(N^2)  \n",
        "\n",
        "---\n",
        "### 다른 사람 풀이"
      ],
      "id": "kAm7fELwmFuo"
    },
    {
      "cell_type": "code",
      "metadata": {
        "id": "UoWlAHurmMM4",
        "colab": {
          "base_uri": "https://localhost:8080/"
        },
        "outputId": "dcde74ec-edd5-4c95-be5a-ee9c0aec41b4"
      },
      "source": [
        "def solution(left,right):\n",
        "  answer = 0\n",
        "  for i in range(left,right+1):\n",
        "    if int(i**0.5) == i**0.5:\n",
        "      i = -i\n",
        "    answer += i\n",
        "  return answer\n",
        "solution(13, 17)"
      ],
      "id": "UoWlAHurmMM4",
      "execution_count": null,
      "outputs": [
        {
          "output_type": "execute_result",
          "data": {
            "text/plain": [
              "43"
            ]
          },
          "metadata": {
            "tags": []
          },
          "execution_count": 345
        }
      ]
    },
    {
      "cell_type": "markdown",
      "metadata": {
        "id": "-dxHB-NTrtPq"
      },
      "source": [
        "## 예산"
      ],
      "id": "-dxHB-NTrtPq"
    },
    {
      "cell_type": "code",
      "metadata": {
        "id": "TuJOfGr9o5aI",
        "colab": {
          "base_uri": "https://localhost:8080/"
        },
        "outputId": "4ff6b107-a6b0-464b-ed83-2b9b98232212"
      },
      "source": [
        "def solution(d, budget):\n",
        "    answer = 0\n",
        "    for i in sorted(d):\n",
        "        if budget - i >= 0:\n",
        "            answer += 1\n",
        "            budget -= i\n",
        "        else:\n",
        "            break\n",
        "    \n",
        "    return answer\n",
        "solution([1, 3, 2, 5, 4], 9)"
      ],
      "id": "TuJOfGr9o5aI",
      "execution_count": null,
      "outputs": [
        {
          "output_type": "execute_result",
          "data": {
            "text/plain": [
              "3"
            ]
          },
          "metadata": {
            "tags": []
          },
          "execution_count": 355
        }
      ]
    },
    {
      "cell_type": "markdown",
      "metadata": {
        "id": "0hrE52aarqkG"
      },
      "source": [
        "다른 사람 풀이가 조금 더 간결하게 표현은 됐지만, 시간복잡도 측면에서 볼 때 효율 저하\n",
        "- while가 sum으로 시간복잡도가 O(N^2)"
      ],
      "id": "0hrE52aarqkG"
    },
    {
      "cell_type": "code",
      "metadata": {
        "id": "bMxwjlH5rz27",
        "colab": {
          "base_uri": "https://localhost:8080/"
        },
        "outputId": "e0a461b4-3835-4515-af27-7a68aa2a62c7"
      },
      "source": [
        "def solution(d, budget):\n",
        "    d.sort()\n",
        "\n",
        "    while budget < sum(d):\n",
        "          d.pop()\n",
        "    \n",
        "    return len(d)\n",
        "solution([1, 3, 2, 5, 4], 9)  "
      ],
      "id": "bMxwjlH5rz27",
      "execution_count": null,
      "outputs": [
        {
          "output_type": "execute_result",
          "data": {
            "text/plain": [
              "3"
            ]
          },
          "metadata": {
            "tags": []
          },
          "execution_count": 356
        }
      ]
    },
    {
      "cell_type": "markdown",
      "metadata": {
        "id": "BHf9lU7GvXnH"
      },
      "source": [
        "## 3진법 뒤집기"
      ],
      "id": "BHf9lU7GvXnH"
    },
    {
      "cell_type": "code",
      "metadata": {
        "colab": {
          "base_uri": "https://localhost:8080/"
        },
        "id": "0c7vaFqgMHTm",
        "outputId": "d349d734-98ee-4723-9613-e28e29be0c4d"
      },
      "source": [
        "def Deci(n, answer = ''):\n",
        "    return str(n%3) + answer if (n // 3) == 0 else Deci(n//3, answer = str(n%3) + answer)\n",
        "\n",
        "def solution(n):\n",
        "    \n",
        "    result = Deci(n)\n",
        "        \n",
        "    answer = 0\n",
        "    for idx, num in enumerate(result):\n",
        "        # print(idx, num)\n",
        "        answer += int(num)*(3 **idx)\n",
        "    return answer\n",
        "    \n",
        "solution(45)"
      ],
      "id": "0c7vaFqgMHTm",
      "execution_count": null,
      "outputs": [
        {
          "output_type": "execute_result",
          "data": {
            "text/plain": [
              "7"
            ]
          },
          "metadata": {
            "tags": []
          },
          "execution_count": 63
        }
      ]
    },
    {
      "cell_type": "markdown",
      "metadata": {
        "id": "vGMAZ9vpo1mZ"
      },
      "source": [
        "---\n",
        "### 다른 사람 풀이\n",
        "- int 함수를 사용 시 입력한 값을 n진법으로 변환 가능\n",
        "- int(x, base = n(default = 10)) => 입력한 값 x가 n진법으로 변환"
      ],
      "id": "vGMAZ9vpo1mZ"
    },
    {
      "cell_type": "code",
      "metadata": {
        "colab": {
          "base_uri": "https://localhost:8080/"
        },
        "id": "VqV-Sqg7aHAd",
        "outputId": "200a17ce-7444-426e-a5ca-74437c75eaa0"
      },
      "source": [
        "def solution(n):\n",
        "  tmp = ''\n",
        "  while n > 0:\n",
        "    tmp += str(n%3)\n",
        "    n = n // 3\n",
        "\n",
        "  return int(tmp,3)\n",
        "\n",
        "solution(45)"
      ],
      "id": "VqV-Sqg7aHAd",
      "execution_count": null,
      "outputs": [
        {
          "output_type": "execute_result",
          "data": {
            "text/plain": [
              "7"
            ]
          },
          "metadata": {
            "tags": []
          },
          "execution_count": 66
        }
      ]
    },
    {
      "cell_type": "markdown",
      "metadata": {
        "id": "HnZZKTm48Ubj"
      },
      "source": [
        "## 2016년"
      ],
      "id": "HnZZKTm48Ubj"
    },
    {
      "cell_type": "code",
      "metadata": {
        "colab": {
          "base_uri": "https://localhost:8080/",
          "height": 35
        },
        "id": "m0eoiu1I8WbQ",
        "outputId": "749e123e-646e-4a08-dc73-a4cc16457c39"
      },
      "source": [
        "import datetime\n",
        "def solution(a, b):\n",
        "    daylist = [\"MON\",\"TUE\",\"WED\",\"THU\",\"FRI\",\"SAT\",\"SUN\"]\n",
        "    return daylist[datetime.date(2016,a,b).weekday()]\n",
        "solution(5,24)"
      ],
      "id": "m0eoiu1I8WbQ",
      "execution_count": 20,
      "outputs": [
        {
          "output_type": "execute_result",
          "data": {
            "application/vnd.google.colaboratory.intrinsic+json": {
              "type": "string"
            },
            "text/plain": [
              "'TUE'"
            ]
          },
          "metadata": {
            "tags": []
          },
          "execution_count": 20
        }
      ]
    },
    {
      "cell_type": "code",
      "metadata": {
        "id": "ZMJuCGvVMf_-",
        "outputId": "a45e40b9-2d59-41be-caf5-9885c076fdc6",
        "colab": {
          "base_uri": "https://localhost:8080/",
          "height": 35
        }
      },
      "source": [
        "import datetime\n",
        "def solution(a, b):\n",
        "    t = (\"MON TUE WED THU FRI SAT SUN\").split()\n",
        "    return t[datetime.datetime(2016,a,b).weekday()]\n",
        "solution(5,24)"
      ],
      "id": "ZMJuCGvVMf_-",
      "execution_count": 21,
      "outputs": [
        {
          "output_type": "execute_result",
          "data": {
            "application/vnd.google.colaboratory.intrinsic+json": {
              "type": "string"
            },
            "text/plain": [
              "'TUE'"
            ]
          },
          "metadata": {
            "tags": []
          },
          "execution_count": 21
        }
      ]
    },
    {
      "cell_type": "code",
      "metadata": {
        "colab": {
          "base_uri": "https://localhost:8080/",
          "height": 35
        },
        "id": "ziMv_Ha78bvz",
        "outputId": "fdab5899-cb0f-4899-c650-9a93684f1e29"
      },
      "source": [
        "def solution(a,b):\n",
        "  month = [31,29,31,30,31,30,31,31,30,31,30,31]\n",
        "  daylist = [\"FRI\",\"SAT\",\"SUN\",\"MON\",\"TUE\",\"WED\",\"THU\"]\n",
        "  return daylist[(sum(month[0:a - 1]) + b - 1)%7]\n",
        "solution(5,24)"
      ],
      "id": "ziMv_Ha78bvz",
      "execution_count": 22,
      "outputs": [
        {
          "output_type": "execute_result",
          "data": {
            "application/vnd.google.colaboratory.intrinsic+json": {
              "type": "string"
            },
            "text/plain": [
              "'TUE'"
            ]
          },
          "metadata": {
            "tags": []
          },
          "execution_count": 22
        }
      ]
    },
    {
      "cell_type": "code",
      "metadata": {
        "id": "-9jtMBecNN_U",
        "outputId": "b2348071-610a-4072-cda6-8579a0588ccf",
        "colab": {
          "base_uri": "https://localhost:8080/"
        }
      },
      "source": [
        "int(5/2)"
      ],
      "id": "-9jtMBecNN_U",
      "execution_count": 24,
      "outputs": [
        {
          "output_type": "execute_result",
          "data": {
            "text/plain": [
              "2"
            ]
          },
          "metadata": {
            "tags": []
          },
          "execution_count": 24
        }
      ]
    },
    {
      "cell_type": "markdown",
      "metadata": {
        "id": "Yf_Nd8WxDrFh"
      },
      "source": [
        "## 가운데 글자 가져오기"
      ],
      "id": "Yf_Nd8WxDrFh"
    },
    {
      "cell_type": "code",
      "metadata": {
        "id": "UdcKc25pDtK8"
      },
      "source": [
        "strr = 'sswee'"
      ],
      "id": "UdcKc25pDtK8",
      "execution_count": null,
      "outputs": []
    },
    {
      "cell_type": "code",
      "metadata": {
        "id": "aK4DqrwhKbR5",
        "colab": {
          "base_uri": "https://localhost:8080/"
        },
        "outputId": "5416bd04-d8dd-4cf8-e399-7454509bb3cf"
      },
      "source": [
        "def solution(s):\n",
        "    str_len = len(s)\n",
        "    return s[int(str_len/2) - 1 : int(str_len/2) + 1] if str_len % 2 == 0 else s[int(str_len/2)]\n",
        "print(solution(\"sswwee\"))\n",
        "print(solution(\"sstee\"))"
      ],
      "id": "aK4DqrwhKbR5",
      "execution_count": null,
      "outputs": [
        {
          "output_type": "stream",
          "text": [
            "ww\n",
            "t\n"
          ],
          "name": "stdout"
        }
      ]
    },
    {
      "cell_type": "code",
      "metadata": {
        "id": "EHR98Fu5KrV_",
        "colab": {
          "base_uri": "https://localhost:8080/"
        },
        "outputId": "8f8821ef-aefb-4186-e767-7bcd51beec45"
      },
      "source": [
        "def solution(s):\n",
        "    return s[(len(s)-1)//2 : len(s)//2+1]\n",
        "print(solution(\"sswwee\"))\n",
        "print(solution(\"sstee\"))"
      ],
      "id": "EHR98Fu5KrV_",
      "execution_count": null,
      "outputs": [
        {
          "output_type": "stream",
          "text": [
            "ww\n",
            "t\n"
          ],
          "name": "stdout"
        }
      ]
    },
    {
      "cell_type": "code",
      "metadata": {
        "id": "yK8k5hESV5ft",
        "colab": {
          "base_uri": "https://localhost:8080/"
        },
        "outputId": "5753d28d-b587-4193-d644-6ac08d1a64e9"
      },
      "source": [
        "def solution(s):\n",
        "    return s[int((len(s)-1)//2) : -(len(s))//2+1]\n",
        "print(solution(\"sswwee\"))\n",
        "print(solution(\"sstee\"))"
      ],
      "id": "yK8k5hESV5ft",
      "execution_count": null,
      "outputs": [
        {
          "output_type": "stream",
          "text": [
            "ww\n",
            "t\n"
          ],
          "name": "stdout"
        }
      ]
    },
    {
      "cell_type": "markdown",
      "metadata": {
        "id": "bfB6-IuhdqP6"
      },
      "source": [
        "## [1차] 비밀지도"
      ],
      "id": "bfB6-IuhdqP6"
    },
    {
      "cell_type": "code",
      "metadata": {
        "id": "kayvZGtsZMWh",
        "colab": {
          "base_uri": "https://localhost:8080/"
        },
        "outputId": "96d909b3-ab53-4e7d-d2dc-09c38cf32c99"
      },
      "source": [
        "def binary(n,k, s = ''):\n",
        "    while k > 0:\n",
        "        s = str(k%2) + s\n",
        "        k = k//2\n",
        "    return \"0\"*(n-len(s)) + s\n",
        "\n",
        "def solution(n, arr1, arr2):\n",
        "    \n",
        "    arr1 = list(map(lambda k : binary(n,k), arr1))\n",
        "    arr2 = list(map(lambda k : binary(n,k), arr2))\n",
        "    \n",
        "    answer = []\n",
        "    for i in range(n):\n",
        "        arr_str = ''\n",
        "        for j in range(n):\n",
        "            arr_str += \"#\" if (int(arr1[i][j]) + int(arr2[i][j])) > 0 else \" \"\n",
        "        answer.append(arr_str)\n",
        "    \n",
        "    # answer = []\n",
        "    return answer\n",
        "solution(6, [46, 33, 33 ,22, 31, 50], [27 ,56, 19, 14, 14, 10])"
      ],
      "id": "kayvZGtsZMWh",
      "execution_count": null,
      "outputs": [
        {
          "output_type": "execute_result",
          "data": {
            "text/plain": [
              "['######', '###  #', '##  ##', ' #### ', ' #####', '### # ']"
            ]
          },
          "metadata": {
            "tags": []
          },
          "execution_count": 260
        }
      ]
    },
    {
      "cell_type": "markdown",
      "metadata": {
        "id": "nsTiIlJnkvty"
      },
      "source": [
        "---\n",
        "### 다른 사람 풀이\n",
        "- bin()함수를 이용하여 이진법으로 만들고, replace함수를 통해 원하는 형태로 변환"
      ],
      "id": "nsTiIlJnkvty"
    },
    {
      "cell_type": "code",
      "metadata": {
        "id": "el6s5uszipti",
        "colab": {
          "base_uri": "https://localhost:8080/"
        },
        "outputId": "7476d574-375e-4805-ca7d-42c812061195"
      },
      "source": [
        "def solution(n, arr1, arr2):\n",
        "  answer = []\n",
        "  for a,b in zip(arr1,arr2):\n",
        "    tmp = bin(a|b)[2:]\n",
        "    tmp = tmp.replace(\"1\",\"#\")\n",
        "    tmp = tmp.replace(\"0\",\" \")\n",
        "    answer.append(tmp)\n",
        "  return answer\n",
        "solution(6, [46, 33, 33 ,22, 31, 50], [27 ,56, 19, 14, 14, 10])"
      ],
      "id": "el6s5uszipti",
      "execution_count": null,
      "outputs": [
        {
          "output_type": "execute_result",
          "data": {
            "text/plain": [
              "['######', '###  #', '##  ##', '#### ', '#####', '### # ']"
            ]
          },
          "metadata": {
            "tags": []
          },
          "execution_count": 284
        }
      ]
    },
    {
      "cell_type": "code",
      "metadata": {
        "id": "wzYX9hUTQ8KF",
        "outputId": "955606f7-4163-4a5c-cc2b-60e9a909a142",
        "colab": {
          "base_uri": "https://localhost:8080/"
        }
      },
      "source": [
        "def solution(n, arr1,arr2):\n",
        "    answer = []\n",
        "    for a,b in zip(arr1,arr2):\n",
        "        tmp = bin(a|b)[2:]\n",
        "        tmp = tmp.rjust(n,\"0\")\n",
        "        tmp = tmp.replace(\"0\",\" \")\n",
        "        tmp = tmp.replace(\"1\",\"#\")\n",
        "        answer.append(tmp)\n",
        "    return answer\n",
        "solution(6, [46, 33, 33 ,22, 31, 50], [27 ,56, 19, 14, 14, 10])  "
      ],
      "id": "wzYX9hUTQ8KF",
      "execution_count": 26,
      "outputs": [
        {
          "output_type": "execute_result",
          "data": {
            "text/plain": [
              "['######', '###  #', '##  ##', ' #### ', ' #####', '### # ']"
            ]
          },
          "metadata": {
            "tags": []
          },
          "execution_count": 26
        }
      ]
    },
    {
      "cell_type": "code",
      "metadata": {
        "id": "Wr-5VTa8S8Nm",
        "outputId": "46612280-e38d-42a4-a5a6-cf3dda0d013b",
        "colab": {
          "base_uri": "https://localhost:8080/"
        }
      },
      "source": [
        "def solution(n, arr1,arr2):\n",
        "    answer = []\n",
        "    for a,b in zip(arr1,arr2):\n",
        "        tmp = bin(a|b)[2:]\n",
        "        tmp = tmp.zfill(n)\n",
        "        tmp = tmp.replace(\"0\",\" \")\n",
        "        tmp = tmp.replace(\"1\",\"#\")\n",
        "        answer.append(tmp)\n",
        "    return answer\n",
        "solution(6, [46, 33, 33 ,22, 31, 50], [27 ,56, 19, 14, 14, 10])  "
      ],
      "id": "Wr-5VTa8S8Nm",
      "execution_count": 40,
      "outputs": [
        {
          "output_type": "execute_result",
          "data": {
            "text/plain": [
              "['######', '###  #', '##  ##', ' #### ', ' #####', '### # ']"
            ]
          },
          "metadata": {
            "tags": []
          },
          "execution_count": 40
        }
      ]
    },
    {
      "cell_type": "code",
      "metadata": {
        "id": "LDiw0NtzS_mP",
        "outputId": "cf894597-e177-4604-c356-118971e442f1",
        "colab": {
          "base_uri": "https://localhost:8080/"
        }
      },
      "source": [
        "def solution(n, arr1,arr2):\n",
        "    answer = []\n",
        "    for a,b in zip(arr1,arr2):\n",
        "        tmp = bin(a|b)[2:]\n",
        "        tmp = tmp.replace(\"0\",\" \")\n",
        "        tmp = tmp.replace(\"1\",\"#\")\n",
        "        tmp = f\"{tmp:>{n}}\"\n",
        "        answer.append(tmp)\n",
        "    return answer\n",
        "solution(6, [46, 33, 33 ,22, 31, 50], [27 ,56, 19, 14, 14, 10])  "
      ],
      "id": "LDiw0NtzS_mP",
      "execution_count": 43,
      "outputs": [
        {
          "output_type": "execute_result",
          "data": {
            "text/plain": [
              "['######', '###  #', '##  ##', '####  ', '##### ', '### # ']"
            ]
          },
          "metadata": {
            "tags": []
          },
          "execution_count": 43
        }
      ]
    }
  ]
}