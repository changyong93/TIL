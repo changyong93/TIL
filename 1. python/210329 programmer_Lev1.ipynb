{
  "nbformat": 4,
  "nbformat_minor": 5,
  "metadata": {
    "kernelspec": {
      "display_name": "Python 3",
      "language": "python",
      "name": "python3"
    },
    "language_info": {
      "codemirror_mode": {
        "name": "ipython",
        "version": 3
      },
      "file_extension": ".py",
      "mimetype": "text/x-python",
      "name": "python",
      "nbconvert_exporter": "python",
      "pygments_lexer": "ipython3",
      "version": "3.8.3"
    },
    "toc": {
      "base_numbering": 1,
      "nav_menu": {},
      "number_sections": true,
      "sideBar": true,
      "skip_h1_title": false,
      "title_cell": "Table of Contents",
      "title_sidebar": "Contents",
      "toc_cell": false,
      "toc_position": {},
      "toc_section_display": true,
      "toc_window_display": true
    },
    "colab": {
      "name": "210329 programmer_Lev1.ipynb",
      "provenance": []
    }
  },
  "cells": [
    {
      "cell_type": "markdown",
      "metadata": {
        "id": "laughing-decline"
      },
      "source": [
        "# 1레벨"
      ],
      "id": "laughing-decline"
    },
    {
      "cell_type": "markdown",
      "metadata": {
        "id": "palestinian-brief"
      },
      "source": [
        "## 두 개 뽑아서 더하기"
      ],
      "id": "palestinian-brief"
    },
    {
      "cell_type": "markdown",
      "metadata": {
        "id": "inclusive-lemon"
      },
      "source": [
        "정수 배열 numbers가 주어집니다. numbers에서 서로 다른 인덱스에 있는 두 개의 수를 뽑아 더해서 만들 수 있는 모든 수를 배열에 오름차순으로 담아 return 하도록 solution 함수를 완성해주세요."
      ],
      "id": "inclusive-lemon"
    },
    {
      "cell_type": "code",
      "metadata": {
        "id": "organized-graphics"
      },
      "source": [
        "def solution(numbers):\n",
        "    sol = []\n",
        "    for a in numbers:\n",
        "        b = numbers.copy()\n",
        "        b.remove(a)\n",
        "        \n",
        "        for c in b:\n",
        "            num = a + c\n",
        "            \n",
        "            if num not in sol:\n",
        "                sol.append(num)\n",
        "    sol = sorted(sol)\n",
        "\n",
        "    return sol"
      ],
      "id": "organized-graphics",
      "execution_count": null,
      "outputs": []
    },
    {
      "cell_type": "code",
      "metadata": {
        "id": "split-disaster",
        "outputId": "728c0fb4-afe8-433e-c651-b147146a4645"
      },
      "source": [
        "solution([2,1,3,4,1])"
      ],
      "id": "split-disaster",
      "execution_count": null,
      "outputs": [
        {
          "output_type": "execute_result",
          "data": {
            "text/plain": [
              "[2, 3, 4, 5, 6, 7]"
            ]
          },
          "metadata": {
            "tags": []
          },
          "execution_count": 89
        }
      ]
    },
    {
      "cell_type": "code",
      "metadata": {
        "id": "nervous-ridge"
      },
      "source": [
        "def solution(numbers):\n",
        "    sol = []\n",
        "    for i in range(len(numbers)):\n",
        "        for j in range(i+1, len(numbers)):\n",
        "            sol.append(numbers[i] + numbers[j])\n",
        "    return sorted(list(set(sol)))"
      ],
      "id": "nervous-ridge",
      "execution_count": null,
      "outputs": []
    },
    {
      "cell_type": "code",
      "metadata": {
        "id": "surprising-arrest",
        "outputId": "4b578fe1-88fd-44e7-bff5-4eb77e1a8a34"
      },
      "source": [
        "solution([2,1,3,4,1])"
      ],
      "id": "surprising-arrest",
      "execution_count": null,
      "outputs": [
        {
          "output_type": "execute_result",
          "data": {
            "text/plain": [
              "[2, 3, 4, 5, 6, 7]"
            ]
          },
          "metadata": {
            "tags": []
          },
          "execution_count": 91
        }
      ]
    },
    {
      "cell_type": "code",
      "metadata": {
        "id": "composed-barrier"
      },
      "source": [
        "#set과 append는 동시 사용 불가\n",
        "def solution(numbers):\n",
        "    sol = set([])\n",
        "    for i in range(len(numbers)):\n",
        "        for j in range(i+1, len(numbers)):\n",
        "            sol.add(numbers[i] + numbers[j])\n",
        "    return sorted(list(sol))"
      ],
      "id": "composed-barrier",
      "execution_count": null,
      "outputs": []
    },
    {
      "cell_type": "code",
      "metadata": {
        "id": "polar-willow",
        "outputId": "3e3d54bc-a591-41b7-d0de-c365c48f7acf"
      },
      "source": [
        "solution([2,1,3,4,1])"
      ],
      "id": "polar-willow",
      "execution_count": null,
      "outputs": [
        {
          "output_type": "execute_result",
          "data": {
            "text/plain": [
              "[2, 3, 4, 5, 6, 7]"
            ]
          },
          "metadata": {
            "tags": []
          },
          "execution_count": 93
        }
      ]
    },
    {
      "cell_type": "code",
      "metadata": {
        "id": "coordinate-sterling"
      },
      "source": [
        "#combinations 사용\n",
        "from itertools import combinations\n",
        "def solution(numbers):\n",
        "    sol = set([])\n",
        "    for i in list(combinations(numbers,2)):\n",
        "        sol.add(sum(i))\n",
        "    return list(sol)"
      ],
      "id": "coordinate-sterling",
      "execution_count": null,
      "outputs": []
    },
    {
      "cell_type": "code",
      "metadata": {
        "id": "medieval-optimum",
        "outputId": "949fcfe9-eb64-4e73-8dc3-47cb3af0d3f7"
      },
      "source": [
        "solution([2,1,3,4,1])"
      ],
      "id": "medieval-optimum",
      "execution_count": null,
      "outputs": [
        {
          "output_type": "execute_result",
          "data": {
            "text/plain": [
              "[2, 3, 4, 5, 6, 7]"
            ]
          },
          "metadata": {
            "tags": []
          },
          "execution_count": 95
        }
      ]
    },
    {
      "cell_type": "markdown",
      "metadata": {
        "id": "legitimate-toilet"
      },
      "source": [
        "## 크레인 인형뽑기 게임"
      ],
      "id": "legitimate-toilet"
    },
    {
      "cell_type": "code",
      "metadata": {
        "id": "willing-retrieval"
      },
      "source": [
        "def solution(board, moves):\n",
        "    answer = 0\n",
        "    basket = []\n",
        "    newBoard = [[board[j][i] for j in range(len(board[i]))] for i in range(len(board))]\n",
        "    \n",
        "    for i in newBoard:\n",
        "        for j in range(i.count(0)):\n",
        "            i.remove(0)\n",
        "    \n",
        "    for i in moves:\n",
        "        if len(newBoard[i-1]) > 0:\n",
        "            tmp = newBoard[i-1][0]\n",
        "            del newBoard[i-1][0]\n",
        "            basket.append(tmp)\n",
        "            \n",
        "    i = 0\n",
        "    while True:\n",
        "        if i >= len(basket)-1:\n",
        "            break\n",
        "        if basket[i] == basket[i+1]:\n",
        "            del basket[i+1]\n",
        "            del basket[i]\n",
        "            answer +=2\n",
        "            i = 0\n",
        "        else:\n",
        "            i+=1\n",
        "        \n",
        "    return answer"
      ],
      "id": "willing-retrieval",
      "execution_count": null,
      "outputs": []
    },
    {
      "cell_type": "code",
      "metadata": {
        "id": "oriental-mercury",
        "outputId": "f595c2e3-b9b5-4d49-f86f-8c718e68741b"
      },
      "source": [
        "board = [[0,0,0,0,0],[0,0,1,0,3],[0,2,5,0,1],[4,2,4,4,2],[3,5,1,3,1]]\n",
        "moves = [1,5,3,5,1,2,1,4]\n",
        "solution(board,moves)"
      ],
      "id": "oriental-mercury",
      "execution_count": null,
      "outputs": [
        {
          "output_type": "execute_result",
          "data": {
            "text/plain": [
              "4"
            ]
          },
          "metadata": {
            "tags": []
          },
          "execution_count": 324
        }
      ]
    },
    {
      "cell_type": "code",
      "metadata": {
        "id": "surface-morris"
      },
      "source": [
        "def solution(board, moves):\n",
        "    stacklist = []\n",
        "    answer = 0\n",
        "    \n",
        "    for i in moves:\n",
        "        for j in range(len(board)):\n",
        "            if board[j][i-1] != 0:\n",
        "                stacklist.append(board[j][i-1])\n",
        "                board[j][i-1] = 0\n",
        "                \n",
        "                if len(stacklist) >=2:\n",
        "                    if stacklist[-1] == stacklist[-2]:\n",
        "                        answer +=2\n",
        "                        stacklist.pop()\n",
        "                        stacklist.pop()\n",
        "                break #한 번의 뽑기에서 컬럼별 하나의 값만 뽑고 break=> for문을 멈추고 이전 moves의 값 재할당\n",
        "    return answer"
      ],
      "id": "surface-morris",
      "execution_count": null,
      "outputs": []
    },
    {
      "cell_type": "code",
      "metadata": {
        "id": "stretch-automation",
        "outputId": "10c0510c-4999-4c78-cdbf-ae4f2a58a3be"
      },
      "source": [
        "board = [[0,0,0,0,0],[0,0,1,0,3],[0,2,5,0,1],[4,2,4,4,2],[3,5,1,3,1]]\n",
        "moves = [1,5,3,5,1,2,1,4]\n",
        "solution(board,moves)"
      ],
      "id": "stretch-automation",
      "execution_count": null,
      "outputs": [
        {
          "output_type": "execute_result",
          "data": {
            "text/plain": [
              "4"
            ]
          },
          "metadata": {
            "tags": []
          },
          "execution_count": 322
        }
      ]
    },
    {
      "cell_type": "markdown",
      "metadata": {
        "id": "arranged-loading"
      },
      "source": [
        "## 124 나라의 숫자"
      ],
      "id": "arranged-loading"
    },
    {
      "cell_type": "code",
      "metadata": {
        "id": "responsible-twist"
      },
      "source": [
        "def solution(n):\n",
        "    answer = ''\n",
        "    share = n\n",
        "        \n",
        "    while share !=0:\n",
        "        remainder = share % 3\n",
        "        share = share // 3\n",
        "                \n",
        "        if remainder==0:\n",
        "            answer = '4'+answer\n",
        "            share -= 1\n",
        "        else  :\n",
        "            answer = str(remainder) + answer\n",
        "    \n",
        "    return answer"
      ],
      "id": "responsible-twist",
      "execution_count": null,
      "outputs": []
    },
    {
      "cell_type": "code",
      "metadata": {
        "id": "revolutionary-jones"
      },
      "source": [
        "def solution(n):\n",
        "    num = ['1','2','4']\n",
        "    answer = ''\n",
        "    while n>0:\n",
        "        n -=1\n",
        "        answer = num[n % 3] + answer\n",
        "        n //=3\n",
        "    return answer"
      ],
      "id": "revolutionary-jones",
      "execution_count": null,
      "outputs": []
    },
    {
      "cell_type": "code",
      "metadata": {
        "id": "behind-dynamics"
      },
      "source": [
        "def solution(n):\n",
        "    if n <=3:\n",
        "        return '124'[n-1]\n",
        "    else:\n",
        "        q, r = divmod(n-1,3)\n",
        "        return solution(q)+'124'[r]"
      ],
      "id": "behind-dynamics",
      "execution_count": null,
      "outputs": []
    },
    {
      "cell_type": "code",
      "metadata": {
        "id": "cheap-worse",
        "outputId": "9460f44d-cce7-4960-cf7a-c5e2fc8269f5"
      },
      "source": [
        "solution(6)"
      ],
      "id": "cheap-worse",
      "execution_count": null,
      "outputs": [
        {
          "output_type": "execute_result",
          "data": {
            "text/plain": [
              "'14'"
            ]
          },
          "metadata": {
            "tags": []
          },
          "execution_count": 168
        }
      ]
    },
    {
      "cell_type": "markdown",
      "metadata": {
        "id": "chronic-reggae"
      },
      "source": [
        "## 멀쩡한 사각형"
      ],
      "id": "chronic-reggae"
    },
    {
      "cell_type": "code",
      "metadata": {
        "id": "written-congress"
      },
      "source": [
        "import numpy as np \n",
        "\n",
        "def solution(w,h):\n",
        "    answer = 0\n",
        "    if (w != 0) & (h != 0): #w, h가 모두 0이 아닌 경우만 실행\n",
        "        gradient = h/w\n",
        "        \n",
        "        for x in range(1,w+1):\n",
        "            answer += np.ceil(gradient*(x)) - np.floor(gradient*(x-1))\n",
        "            \n",
        "    return w*h - answer\n",
        "\n",
        "#샘플 테스트는 통과했지만\n",
        "#시간 초과"
      ],
      "id": "written-congress",
      "execution_count": null,
      "outputs": []
    },
    {
      "cell_type": "code",
      "metadata": {
        "id": "interim-palestinian"
      },
      "source": [
        "def gcd(w,h): return w if h==0 else gcd(h, w%h)\n",
        "def solution(w,h): return w*h-w-h+gcd(w,h)"
      ],
      "id": "interim-palestinian",
      "execution_count": null,
      "outputs": []
    },
    {
      "cell_type": "code",
      "metadata": {
        "id": "domestic-course",
        "outputId": "ca27889a-1c2b-4d5a-f98d-bd223142353e"
      },
      "source": [
        "solution(12,8)"
      ],
      "id": "domestic-course",
      "execution_count": null,
      "outputs": [
        {
          "output_type": "execute_result",
          "data": {
            "text/plain": [
              "80"
            ]
          },
          "metadata": {
            "tags": []
          },
          "execution_count": 42
        }
      ]
    },
    {
      "cell_type": "markdown",
      "metadata": {
        "id": "natural-bottom"
      },
      "source": [
        "## 스킬트리"
      ],
      "id": "natural-bottom"
    },
    {
      "cell_type": "code",
      "metadata": {
        "id": "ancient-polyester"
      },
      "source": [
        "def solution(skill, skill_trees):\n",
        "    \n",
        "    answer = 0\n",
        "    for tree in skill_trees:\n",
        "        myskill = ''.join([str1 for str1 in tree if str1 in skill])\n",
        "        \n",
        "        if skill.startswith(myskill):\n",
        "            answer +=1\n",
        "    return answer\n",
        "        \n"
      ],
      "id": "ancient-polyester",
      "execution_count": null,
      "outputs": []
    },
    {
      "cell_type": "code",
      "metadata": {
        "id": "electronic-beaver",
        "outputId": "34c5fb6c-1085-4665-a3b9-99dcaf4a6dc6"
      },
      "source": [
        "solution(\"CBD\", [\"BACDE\", \"CBADF\", \"AECB\", \"BDA\"])"
      ],
      "id": "electronic-beaver",
      "execution_count": null,
      "outputs": [
        {
          "output_type": "execute_result",
          "data": {
            "text/plain": [
              "2"
            ]
          },
          "metadata": {
            "tags": []
          },
          "execution_count": 166
        }
      ]
    },
    {
      "cell_type": "code",
      "metadata": {
        "id": "driven-temperature"
      },
      "source": [
        "def solution(skill, skill_trees):\n",
        "    answer = 0\n",
        "    for skills in skill_trees:\n",
        "        skill_list = list(skill)\n",
        "        \n",
        "        for s in skills:\n",
        "            if s in skill_list:\n",
        "                if s != skill_list.pop(0):\n",
        "                    break\n",
        "        else:\n",
        "            answer +=1\n",
        "    return answer"
      ],
      "id": "driven-temperature",
      "execution_count": null,
      "outputs": []
    },
    {
      "cell_type": "code",
      "metadata": {
        "id": "meaningful-finger",
        "outputId": "a8c1b8d2-cb64-4277-f7ef-78dbf43525f0"
      },
      "source": [
        "solution(\"CBD\", [\"BACDE\", \"CBADF\", \"AECB\", \"BDA\"])"
      ],
      "id": "meaningful-finger",
      "execution_count": null,
      "outputs": [
        {
          "output_type": "execute_result",
          "data": {
            "text/plain": [
              "2"
            ]
          },
          "metadata": {
            "tags": []
          },
          "execution_count": 175
        }
      ]
    },
    {
      "cell_type": "code",
      "metadata": {
        "id": "aging-disco"
      },
      "source": [
        "def solution(skill, skill_trees):\n",
        "    answer = 0\n",
        "    \n",
        "    for skills in skill_trees:\n",
        "        skilllist = ''\n",
        "        \n",
        "        for s in skills:\n",
        "            if s in skill:\n",
        "                skilllist += s\n",
        "        if skilllist == skill[0:len(skilllist)]:\n",
        "            answer +=1\n",
        "    return answer"
      ],
      "id": "aging-disco",
      "execution_count": null,
      "outputs": []
    },
    {
      "cell_type": "code",
      "metadata": {
        "id": "mighty-norfolk",
        "outputId": "170124d6-e1c9-4aba-a9d3-355217dbeb0e"
      },
      "source": [
        "solution(\"CBD\", [\"BACDE\", \"CBADF\", \"AECB\", \"BDA\"])"
      ],
      "id": "mighty-norfolk",
      "execution_count": null,
      "outputs": [
        {
          "output_type": "execute_result",
          "data": {
            "text/plain": [
              "2"
            ]
          },
          "metadata": {
            "tags": []
          },
          "execution_count": 179
        }
      ]
    },
    {
      "cell_type": "markdown",
      "metadata": {
        "id": "4BKSLJNIp_Fu"
      },
      "source": [
        "## 폰켓몬"
      ],
      "id": "4BKSLJNIp_Fu"
    },
    {
      "cell_type": "code",
      "metadata": {
        "id": "hVMb7C-3nvlA",
        "colab": {
          "base_uri": "https://localhost:8080/"
        },
        "outputId": "ae00d3ea-d471-476b-8829-3a3e5a212621"
      },
      "source": [
        "def solution(nums):\n",
        "    answer = 0\n",
        "    select = []\n",
        "    max_num = len(nums)/2\n",
        "    for num in nums:\n",
        "        if num not in select:\n",
        "            if answer < max_num:\n",
        "                select.append(num)\n",
        "                answer +=1\n",
        "    return answer\n",
        "\n",
        "def solution(ls):\n",
        "  return min(len(ls)/2, len(set(ls)))\n",
        "\n",
        "\n",
        "print(solution([3, 1, 2, 3]))"
      ],
      "id": "hVMb7C-3nvlA",
      "execution_count": null,
      "outputs": [
        {
          "output_type": "stream",
          "text": [
            "2.0\n"
          ],
          "name": "stdout"
        }
      ]
    },
    {
      "cell_type": "markdown",
      "metadata": {
        "id": "HE4Iw0BbqFBS"
      },
      "source": [
        "## 완주하지 못한 선수(해시)"
      ],
      "id": "HE4Iw0BbqFBS"
    },
    {
      "cell_type": "code",
      "metadata": {
        "id": "WZethGZcqzQT",
        "colab": {
          "base_uri": "https://localhost:8080/",
          "height": 35
        },
        "outputId": "856cc3e1-ce18-4ffa-8851-7a89e8036aba"
      },
      "source": [
        "# participant = [\"leo\", \"kiki\", \"eden,\"]\n",
        "# completion = [\"eden\", \"kiki\"]\n",
        "\n",
        "participant = [\"marina\", \"josipa\", \"nikola\", \"vinko\", \"filipa\"]\n",
        "completion = [\"josipa\", \"filipa\", \"marina\", \"nikola\"]\n",
        "\n",
        "def solution(participant, completion):\n",
        "    participant.sort()\n",
        "    completion.sort()\n",
        "\n",
        "    num_p = 0\n",
        "    for i in range(len(participant)):\n",
        "        if participant[num_p] in completion:\n",
        "            participant.pop(num_p)\n",
        "            completion.pop(0)\n",
        "\n",
        "    return participant[0]\n",
        "solution(participant, completion)"
      ],
      "id": "WZethGZcqzQT",
      "execution_count": null,
      "outputs": [
        {
          "output_type": "execute_result",
          "data": {
            "application/vnd.google.colaboratory.intrinsic+json": {
              "type": "string"
            },
            "text/plain": [
              "'vinko'"
            ]
          },
          "metadata": {
            "tags": []
          },
          "execution_count": 142
        }
      ]
    },
    {
      "cell_type": "markdown",
      "metadata": {
        "id": "Th5fr5sS7EUs"
      },
      "source": [
        "- 동명이인 처리를 위해서 sorting 후 participant 길이만큼 반복문을 돌려서 participant의 인자가 completion에 있을 경우 동일한 값 제거\n",
        "- 원하는 결과는 잘 예측하나 코드 효율성 저하\n",
        "---"
      ],
      "id": "Th5fr5sS7EUs"
    },
    {
      "cell_type": "code",
      "metadata": {
        "id": "7Z6KZuTk7gZQ",
        "colab": {
          "base_uri": "https://localhost:8080/",
          "height": 35
        },
        "outputId": "a9cfc697-0b9b-4b13-d897-833968e9ae62"
      },
      "source": [
        "participant = [\"marina\", \"josipa\", \"nikola\", \"vinko\", \"filipa\"]\n",
        "completion = [\"josipa\", \"filipa\", \"marina\", \"nikola\"]\n",
        "def solution(participant, completion):\n",
        "    participant.sort()\n",
        "    completion.sort()\n",
        "\n",
        "    for p,c in zip(participant, completion):\n",
        "      if p !=c:\n",
        "        return p\n",
        "    \n",
        "    return participant[-1]\n",
        "    \n",
        "\n",
        "solution(participant, completion)"
      ],
      "id": "7Z6KZuTk7gZQ",
      "execution_count": null,
      "outputs": [
        {
          "output_type": "execute_result",
          "data": {
            "application/vnd.google.colaboratory.intrinsic+json": {
              "type": "string"
            },
            "text/plain": [
              "'vinko'"
            ]
          },
          "metadata": {
            "tags": []
          },
          "execution_count": 152
        }
      ]
    },
    {
      "cell_type": "markdown",
      "metadata": {
        "id": "BLRXVrRi_SF6"
      },
      "source": [
        "- 성공\n",
        "---"
      ],
      "id": "BLRXVrRi_SF6"
    },
    {
      "cell_type": "markdown",
      "metadata": {
        "id": "iB7wIKWw_Tkl"
      },
      "source": [
        "### 다른 사람의 풀이"
      ],
      "id": "iB7wIKWw_Tkl"
    },
    {
      "cell_type": "code",
      "metadata": {
        "id": "DwIyjik7_W76",
        "colab": {
          "base_uri": "https://localhost:8080/",
          "height": 35
        },
        "outputId": "77cb4107-3bcf-4a0e-dbac-88440f2a5267"
      },
      "source": [
        "import collections\n",
        "\n",
        "def solution(participant, completion):\n",
        "    answer = collections.Counter(participant) - collections.Counter(completion)\n",
        "    return list(answer.keys())[0]\n",
        "\n",
        "solution(participant, completion)"
      ],
      "id": "DwIyjik7_W76",
      "execution_count": null,
      "outputs": [
        {
          "output_type": "execute_result",
          "data": {
            "application/vnd.google.colaboratory.intrinsic+json": {
              "type": "string"
            },
            "text/plain": [
              "'vinko'"
            ]
          },
          "metadata": {
            "tags": []
          },
          "execution_count": 154
        }
      ]
    },
    {
      "cell_type": "code",
      "metadata": {
        "id": "o1iwPs9M_aTw",
        "colab": {
          "base_uri": "https://localhost:8080/"
        },
        "outputId": "50976df1-c78e-4c66-8afe-e4f2955d1761"
      },
      "source": [
        "participant = [\"marina\", \"josipa\", \"nikola\", \"nikola\", \"filipa\"]\n",
        "completion = [\"josipa\", \"filipa\", \"marina\", \"nikola\"]\n",
        "# vinko\n",
        "print(participant)\n",
        "print(\"*\"*100)\n",
        "print(collections.Counter(participant))\n",
        "print(\"*\"*100)\n",
        "print(collections.Counter(participant) - collections.Counter(completion))"
      ],
      "id": "o1iwPs9M_aTw",
      "execution_count": null,
      "outputs": [
        {
          "output_type": "stream",
          "text": [
            "['marina', 'josipa', 'nikola', 'nikola', 'filipa']\n",
            "****************************************************************************************************\n",
            "Counter({'nikola': 2, 'marina': 1, 'josipa': 1, 'filipa': 1})\n",
            "****************************************************************************************************\n",
            "Counter({'nikola': 1})\n"
          ],
          "name": "stdout"
        }
      ]
    },
    {
      "cell_type": "markdown",
      "metadata": {
        "id": "UeT_vJbL_i5g"
      },
      "source": [
        "- collections의 Count를 사용하면 시 리스트에 포함된 unique한 인자 별로 개수를 Count하고, 참가자가 완주자의 값을 빼주면 완주를 못한 사람만 남게 됨\n",
        "- 단, 결과는 dict type이므로 data type을 변환하여 string type으로 출력이 필요\n",
        "---"
      ],
      "id": "UeT_vJbL_i5g"
    },
    {
      "cell_type": "code",
      "metadata": {
        "id": "m-wsV850Ac2c",
        "colab": {
          "base_uri": "https://localhost:8080/",
          "height": 35
        },
        "outputId": "18a30950-f9fa-42ed-d3f2-f4dbfcdc5399"
      },
      "source": [
        "participant = [\"mislav\", \"stanko\", \"mislav\", \"ana\"]\n",
        "completion = [\"stanko\", \"ana\", \"mislav\"]\n",
        "\n",
        "def solution(participant, completion):\n",
        "  select = 0\n",
        "  hash_dict = {}\n",
        "  for p in participant:\n",
        "    hash_dict[hash(p)] = p\n",
        "    select += hash(p)\n",
        "  \n",
        "  for c in completion:\n",
        "    select -= hash(c)\n",
        "\n",
        "  return hash_dict[select]\n",
        "\n",
        "solution(participant,completion)"
      ],
      "id": "m-wsV850Ac2c",
      "execution_count": null,
      "outputs": [
        {
          "output_type": "execute_result",
          "data": {
            "application/vnd.google.colaboratory.intrinsic+json": {
              "type": "string"
            },
            "text/plain": [
              "'mislav'"
            ]
          },
          "metadata": {
            "tags": []
          },
          "execution_count": 212
        }
      ]
    },
    {
      "cell_type": "markdown",
      "metadata": {
        "id": "lvX90TLDIIP-"
      },
      "source": [
        "ref : https://preamtree.tistory.com/20  \n",
        "- 해싱(hashing) 개념\n",
        "  - 데이터 관리/유지 자료 구조로 리소스에 비해 속도가 매우 빠름\n",
        "  - 해시 함수는 데이터의 효율적 관리를 목적으로 임의의 길이의 데이터를 고정된 길이의 데이터로 맵핑하는 함수\n",
        "  - 키(Key) = 매핑 전 원래 데이터 값, 해시 값(hash value) : 매핑 후 데이터 값\n",
        "  - 이러한 매핑 과정을 해싱이라고 함\n",
        "\n",
        "- 해싱 장점\n",
        "  - 해싱 충돌이 발생할 수 있지만 효율적인 데이터 관리가 가능\n",
        "  - 시간복잡도 O(1)을 지향\n",
        "  - 색인(index)에 해시 값을 사용하므로 모든 데이터를 살피지 않아도 검색과 삽입/삭제를 빠르게 수행하므로, 해시 색인만 알면 해시테이블의 크기와 상관없이 빠르게 접근 가능\n",
        "---"
      ],
      "id": "lvX90TLDIIP-"
    },
    {
      "cell_type": "markdown",
      "metadata": {
        "id": "cfZwR2HwKsLP"
      },
      "source": [
        "## 체육복(Greedy, 탐욕법)"
      ],
      "id": "cfZwR2HwKsLP"
    },
    {
      "cell_type": "code",
      "metadata": {
        "id": "bO-hozPOA2D3",
        "outputId": "11ee1412-bc5b-4a99-9a31-3b31d5db56ad",
        "colab": {
          "base_uri": "https://localhost:8080/"
        }
      },
      "source": [
        "def solution(n, lost, reserve):\n",
        "  \n",
        "    set_lost = set(lost) - set(reserve)\n",
        "    set_reserve = set(reserve) - set(lost)\n",
        "\n",
        "    for i in set_reserve:\n",
        "      if i-1 in set_lost:\n",
        "        set_lost.remove(i-1)\n",
        "      elif i+1 in set_lost:\n",
        "        set_lost.remove(i+1)\n",
        "\n",
        "    return n - len(set_lost)\n",
        "\n",
        "n = 5\n",
        "# lost = [2,4]\n",
        "# reserve = [1,3,5]\n",
        "lost = [2,5]\n",
        "reserve = [1,3,4]\n",
        "solution(n, lost, reserve)"
      ],
      "id": "bO-hozPOA2D3",
      "execution_count": 2,
      "outputs": [
        {
          "output_type": "execute_result",
          "data": {
            "text/plain": [
              "5"
            ]
          },
          "metadata": {
            "tags": []
          },
          "execution_count": 2
        }
      ]
    },
    {
      "cell_type": "markdown",
      "metadata": {
        "id": "aAcdAHJ6DTmx"
      },
      "source": [
        "---"
      ],
      "id": "aAcdAHJ6DTmx"
    },
    {
      "cell_type": "markdown",
      "metadata": {
        "id": "DeRTSNxuDP4w"
      },
      "source": [
        "### 다른 사람 풀이"
      ],
      "id": "DeRTSNxuDP4w"
    },
    {
      "cell_type": "code",
      "metadata": {
        "id": "gswti8NiEuFn",
        "outputId": "dff30984-3d48-4c6a-a68b-2c852ff78b26",
        "colab": {
          "base_uri": "https://localhost:8080/"
        }
      },
      "source": [
        "def solution(n, lost, reserve):\n",
        "\n",
        "    reserve = set(reserve)\n",
        "    print(lost)\n",
        "    print(\"*\"*30)\n",
        "\n",
        "    for size in [0, 1, -2]:\n",
        "        print(size)\n",
        "        lost = set(map(lambda x : x+size, lost))\n",
        "        print(lost)\n",
        "        reserve, lost = reserve - lost, lost - reserve\n",
        "\n",
        "    print(lost)\n",
        "    return n - len(lost)\n",
        "\n",
        "n = 5\n",
        "# lost = [2,4]\n",
        "# reserve = [1,3,5]\n",
        "n = 4\n",
        "lost = [3,1]\n",
        "reserve = [2,4]\n",
        "solution(n, lost, reserve)"
      ],
      "id": "gswti8NiEuFn",
      "execution_count": 28,
      "outputs": [
        {
          "output_type": "stream",
          "text": [
            "[3, 1]\n",
            "******************************\n",
            "0\n",
            "{1, 3}\n",
            "1\n",
            "{2, 4}\n",
            "-2\n",
            "set()\n",
            "set()\n"
          ],
          "name": "stdout"
        },
        {
          "output_type": "execute_result",
          "data": {
            "text/plain": [
              "4"
            ]
          },
          "metadata": {
            "tags": []
          },
          "execution_count": 28
        }
      ]
    },
    {
      "cell_type": "markdown",
      "metadata": {
        "id": "vBVUOr47K3CV"
      },
      "source": [
        "여분 체육복이 있는 학생들 번호를 유일값으로 대체 => set(reserve)  \n",
        "\n",
        "reserve와 lost를 각 조건별로 고려\n",
        "- 체육복을 도난당한 학생이 여분 체육복을 가진 경우\n",
        "- 체육복을 도난당한 학생의 앞 학생이 여분을 가진 경우\n",
        "- 체육복을 도난당한 학생의 뒷 학생이 여분을 가진 경우\n",
        "\n",
        "상기 조건을 순서대로 적용하여 reserve와 lost를 계산  \n",
        "=> 마지막에 전체 인원에서 도난당했으나 여분을 받지 못한 학생수를 계산"
      ],
      "id": "vBVUOr47K3CV"
    }
  ]
}