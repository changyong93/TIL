{
 "cells": [
  {
   "cell_type": "markdown",
   "metadata": {},
   "source": [
    "# 파이썬으로 시작하는 데이터 사이언스"
   ]
  },
  {
   "cell_type": "markdown",
   "metadata": {},
   "source": [
    "#### 특정 폴더에 저장 받은 파일 위치 옮기기  \n",
    "1. \"%mv ~/파일명\" ->후 tap키를 누르면 해당 폴더의 경로가 나옴  \n",
    "2. 완성된 경로 뒤에 한칸을 띄고 .을 누르면 해당 폴더의 파일을 현재 경로로 옮김  \n",
    "ex) %mv ~/Download => %mv C:/Users/ChangYong/Downloads/ ."
   ]
  },
  {
   "cell_type": "markdown",
   "metadata": {},
   "source": [
    "#### 파일 리스트 확인\n",
    "1. %ls #현재 경로\n",
    "2. from os import listdir 설치 후 listdir() #현재 경로 및 경로 지정 가능"
   ]
  },
  {
   "cell_type": "markdown",
   "metadata": {},
   "source": [
    "#### 현재 경로 확인\n",
    "%pwd"
   ]
  },
  {
   "cell_type": "markdown",
   "metadata": {},
   "source": [
    "#### 시각화를 위한 폰트 설정"
   ]
  },
  {
   "cell_type": "markdown",
   "metadata": {},
   "source": [
    "##### jupyter notebook 폰트 설정"
   ]
  },
  {
   "cell_type": "code",
   "execution_count": 54,
   "metadata": {},
   "outputs": [
    {
     "name": "stdout",
     "output_type": "stream",
     "text": [
      "['Solarize_Light2', '_classic_test_patch', 'bmh', 'classic', 'dark_background', 'fast', 'fivethirtyeight', 'ggplot', 'grayscale', 'seaborn', 'seaborn-bright', 'seaborn-colorblind', 'seaborn-dark', 'seaborn-dark-palette', 'seaborn-darkgrid', 'seaborn-deep', 'seaborn-muted', 'seaborn-notebook', 'seaborn-paper', 'seaborn-pastel', 'seaborn-poster', 'seaborn-talk', 'seaborn-ticks', 'seaborn-white', 'seaborn-whitegrid', 'tableau-colorblind10']\n"
     ]
    }
   ],
   "source": [
    "import matplotlib.pyplot as plt\n",
    "#Window 한글 폰트 설정(Mac은 AppleGothic)\n",
    "plt.rc('font',family = \"Malgun Gothic\")\n",
    "#한글폰트 설정 시 -값 깨짐 해결\n",
    "plt.rc('axes', unicode_minus = False)\n",
    "#pyplot 스타일\n",
    "print(plt.style.available)\n",
    "plt.style.use(\"seaborn-dark\")\n",
    "\n",
    "#그래프가 노트북 안에 보이게 하기 위해\n",
    "%matplotlib inline\n",
    "\n",
    "\n",
    "from IPython.display import set_matplotlib_formats\n",
    "set_matplotlib_formats(\"retina\") #retina는 mac만 지원\n"
   ]
  },
  {
   "cell_type": "markdown",
   "metadata": {},
   "source": [
    "##### google colab 시 폰트 설정"
   ]
  },
  {
   "cell_type": "code",
   "execution_count": 59,
   "metadata": {},
   "outputs": [
    {
     "data": {
      "text/plain": [
       "['.ipynb_checkpoints',\n",
       " '210202_python basic.ipynb',\n",
       " '210203_10minutespython.ipynb',\n",
       " '210206_inflearn_단 두장의 문서로 데이터 분석과 시각화 뽀개기_cheatsheet.ipynb',\n",
       " '210207_inflearn_단 두장의 문서로 데이터 분석과 시각화 뽀개기_1. 코로나데이터크롤링.ipynb',\n",
       " '210207_inflearn_단 두장의 문서로 데이터 분석과 시각화 뽀개기_2. 코로나발생동향분석.ipynb',\n",
       " '210208_ND-파이썬기초-과제1.ipynb',\n",
       " '210208_ND-파이썬기초-과제2.ipynb',\n",
       " 'not_upload',\n",
       " 'tips.ipynb',\n",
       " 'Untitled.ipynb']"
      ]
     },
     "execution_count": 59,
     "metadata": {},
     "output_type": "execute_result"
    }
   ],
   "source": [
    "import os\n",
    "os.listdir()"
   ]
  },
  {
   "cell_type": "code",
   "execution_count": 56,
   "metadata": {},
   "outputs": [],
   "source": [
    "# !api -qq -y install fonts-nanum > /dev/null\n",
    "\n",
    "# import matplotlib.font_manager as fm\n",
    "\n",
    "# fontpath = '/usr/share/fonts/truetype/nanum/NanumBarunGothic.ttf'\n",
    "# font = fm.FontProperties(fname = fontpath, size=9)\n",
    "\n",
    "# #colab의 한글 폰트 설정\n",
    "# plt.rc('font', family = \"NanumGothic\")\n",
    "# plt.rc(\"axes\", unicode_minus = False)"
   ]
  },
  {
   "cell_type": "markdown",
   "metadata": {},
   "source": [
    "#### 변수 생성\n",
    "1. = 할당\n",
    "2. copy()\n",
    "\n",
    "1.의 경우, 추가로 생성한 변수의 값이 변경될 경우 원본이 변경됨\n",
    "2.의 경우, deep copy()로, 생성한 데이터를 가공해도 원본은 유지"
   ]
  },
  {
   "cell_type": "code",
   "execution_count": 55,
   "metadata": {},
   "outputs": [
    {
     "name": "stdout",
     "output_type": "stream",
     "text": [
      "원본 데이터 : ['a', 'b', 'c']\n",
      "= 변수 할당 : ['a', 'b', 'c', 'd']\n",
      "copy()로 변수 할당 : ['a', 'b', 'c']\n"
     ]
    }
   ],
   "source": [
    "import pandas as pd\n",
    "#1.\n",
    "data = [\"a\",\"b\",\"c\"]\n",
    "print(f\"원본 데이터 : {data}\")\n",
    "data_equal=data\n",
    "data_equal.append(\"d\")\n",
    "print(f\"= 변수 할당 : {data}\")\n",
    "\n",
    "#2.\n",
    "data = [\"a\",\"b\",\"c\"]\n",
    "data_copy=data.copy()\n",
    "data_copy.append(\"d\")\n",
    "print(f\"copy()로 변수 할당 : {data}\")"
   ]
  },
  {
   "cell_type": "markdown",
   "metadata": {},
   "source": [
    "#### str\n",
    "- 특정 문자가 포함된 row 출력  \n",
    "df[\"컬럼명\"].str.contains(\"문자1|문자2|문자3|문자4\") # & and, | or #\n",
    "- 시작 or 끝 문자가 \"문자1\"인 row 출력  \n",
    "df[\"컬럼명\"].str.startwith(\"문자1\") / df[\"컬럼명\"].str.endwith(\"문자1\")\n",
    "\n",
    "*참고\n",
    "1. https://m.blog.naver.com/PostView.nhn?blogId=dudwo567890&logNo=130161371989&proxyReferer=https:%2F%2Fwww.google.com%2F \n",
    "2. https://wikidocs.net/13"
   ]
  },
  {
   "cell_type": "markdown",
   "metadata": {},
   "source": [
    "#### groupby 집계 함수\n",
    "mean  \n",
    "median  \n",
    "count  \n",
    "max  \n",
    "min  \n",
    "describe  \n",
    "agg([\"mean\",\"max\"]) * 여러 개"
   ]
  }
 ],
 "metadata": {
  "kernelspec": {
   "display_name": "Python 3",
   "language": "python",
   "name": "python3"
  },
  "language_info": {
   "codemirror_mode": {
    "name": "ipython",
    "version": 3
   },
   "file_extension": ".py",
   "mimetype": "text/x-python",
   "name": "python",
   "nbconvert_exporter": "python",
   "pygments_lexer": "ipython3",
   "version": "3.8.3"
  },
  "toc": {
   "base_numbering": 1,
   "nav_menu": {},
   "number_sections": true,
   "sideBar": true,
   "skip_h1_title": false,
   "title_cell": "Table of Contents",
   "title_sidebar": "Contents",
   "toc_cell": false,
   "toc_position": {
    "height": "calc(100% - 180px)",
    "left": "10px",
    "top": "150px",
    "width": "349.091px"
   },
   "toc_section_display": true,
   "toc_window_display": true
  }
 },
 "nbformat": 4,
 "nbformat_minor": 4
}
