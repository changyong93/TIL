{
 "cells": [
  {
   "cell_type": "markdown",
   "metadata": {},
   "source": [
    "# 사용할 모듈 불러오기"
   ]
  },
  {
   "cell_type": "code",
   "execution_count": 150,
   "metadata": {},
   "outputs": [],
   "source": [
    "import pandas as pd\n",
    "import requests\n",
    "from bs4 import BeautifulSoup as bs\n",
    "import time\n",
    "import numpy as np"
   ]
  },
  {
   "cell_type": "markdown",
   "metadata": {},
   "source": [
    "# URL 지정"
   ]
  },
  {
   "cell_type": "code",
   "execution_count": null,
   "metadata": {},
   "outputs": [],
   "source": [
    "page_no = 1\n",
    "url = f\"https://finance.naver.com/item/board.nhn?code=005930&page={page_no}\""
   ]
  },
  {
   "cell_type": "markdown",
   "metadata": {},
   "source": [
    "# requests를 통해 http 요청"
   ]
  },
  {
   "cell_type": "code",
   "execution_count": 67,
   "metadata": {},
   "outputs": [
    {
     "data": {
      "text/plain": [
       "'<script type=\"text/javascript\">\\nfunction doSearch() {\\n\\tvar frm = document.boardSearchFrm;\\n\\tvar str = frm.sw.value;\\n\\tstr = str.replace(/^\\\\s*/,\\'\\').replace(/\\\\s*$/,\\'\\');\\t// trim\\n\\t\\n\\tif(str == \\'\\') {\\n\\t\\talert(\"검색어를 입력해 주세요.\");\\n\\t\\tfrm.sw.value = \\'\\';\\n\\t\\tfrm.sw.focus();\\n\\t}\\n\\telse {\\n\\t\\tfrm.sw.value = str;\\n\\t\\tfrm.submit();\\n\\t}\\n}\\n</script>\\n\\n<!--  global include -->\\n\\n\\t\\n\\n<html lang=\\'ko\\'>\\n<head>\\n\\n\\n\\t\\n\\t\\t<title>삼성전자 : 네이버 금융</title>\\n\\t\\n\\t\\n\\n\\n\\n\\n\\n\\t\\n\\t\\n\\t\\t<meta http-equiv=\"Content-Type\" content=\"text/html; charset=utf-8\" />\\n\\t\\n\\n\\n<meta http-equiv=\"Content-Script-Type\" content=\"text/javascript\">\\n<meta http-equiv=\"Content-Style-Type\" content=\"text/css\">\\n\\n\\n\\n\\n\\n\\t\\n\\t\\t<meta property=\"og:title\" content=\"네이버 금융\"/>\\n\\t\\t<meta property=\"og:image\" content=\"https://ssl.pstatic.net/static/m/stock/im/2016/08/og_stock-200.png\"/>\\n\\t\\t<meta property=\"og:url\" content=\"https://finance.naver.com\"/>\\n\\t\\t<meta property=\"og:description\" content=\"국내 해외 증시 지수, 시장지표, 펀드, 뉴스, 증권사 리서치 등 제공\"/>\\n    \\n    \\n\\n<meta property=\"og:type\" content=\"article\"/>\\n<meta property=\"og:article:thumbnailUrl\" content=\"\"/>\\n<meta property=\"og:article:author\" content=\"네이버금융\"/>\\n<meta property=\"og:article:author:url\" content=\"http://FINANCE.NAVER.COM\"/>\\n\\n\\n\\n\\n<link rel=\\'stylesheet\\' type=\\'text/css\\' href=\\'https://ssl.pstatic.net/imgstock/static.pc/20210203183116/css/finance_header.css\\'>\\n\\n\\t\\n\\t\\n\\t\\n\\t\\n\\t\\t\\n\\t\\t<link rel=\"stylesheet\" type=\"text/css\" href=\"https://ssl.pstatic.net/imgstock/static.pc/20210203183116/css/newstock.css\">\\n\\t\\t<link rel=\"stylesheet\" type=\"text/css\" href=\"https://ssl.pstatic.net/imgstock/static.pc/20210203183116/css/common.css\">\\n\\t\\t<link rel=\"stylesheet\" type=\"text/css\" href=\"https://ssl.pstatic.net/imgstock/static.pc/20210203183116/css/layout.css\">\\n\\t\\t<link rel=\"stylesheet\" type=\"text/css\" href=\"https://ssl.pstatic.net/imgstock/static.pc/20210203183116/css/main.css\">\\n\\t\\t<link rel=\"stylesheet\" type=\"text/css\" href=\"https://ssl.pstatic.net/imgstock/static.pc/20210203183116/css/newstock2.css\">\\n\\t\\t<link rel=\"stylesheet\" type=\"text/css\" href=\"https://ssl.pstatic.net/imgstock/static.pc/20210203183116/css/newstock3.css\">\\n\\t\\t<link rel=\"stylesheet\" type=\"text/css\" href=\"https://ssl.pstatic.net/imgstock/static.pc/20210203183116/css/world.css\">\\n\\t\\t\\n\\t\\t\\t\\n\\t\\t\\t\\n\\t\\t\\t\\t<script type=\"text/javascript\" src=\"https://ssl.pstatic.net/imgstock/static.pc/20210203183116/js/jindo.min.ns.1.5.3.euckr.js\"></script>\\n\\t\\t\\t\\t<script type=\"text/javascript\" src=\"https://ssl.pstatic.net/imgstock/static.pc/20210203183116/js/release/common.js\"></script>\\n\\t\\t\\t\\t<script type=\"text/javascript\" src=\"https://ssl.pstatic.net/imgstock/static.pc/20210203183116/js/jindoComponent/jindo.Component.1.0.3.js\"></script>\\n\\t\\t\\t\\t<script type=\"text/javascript\" src=\"https://ssl.pstatic.net/imgstock/static.pc/20210203183116/js/nhn.autocomplete.stock.js\"></script>\\n\\t\\t\\t\\n\\t\\t\\n\\n\\t\\t\\n\\t\\n\\n\\n\\t<link rel=\"shortcut icon\" href=\"https://www.naver.com/favicon.ico\" type=\"image/x-icon\">\\n\\t\\n\\t<script type=\"text/javascript\">\\n    (function(){\\n        var sUserAgent = navigator.userAgent;\\n        if(/iPhone|iPad/.test(sUserAgent)){\\n            document.write(\\n                [\\n\\t\\t\\t\\t\\t\\'<link rel=\"apple-touch-icon-precomposed\" sizes=\"120x120\" href=\"https://ssl.pstatic.net/static/nfinance/ico/2018_ios_120X120_iphone.png\" />\\',\\n\\t\\t\\t\\t\\t\\'<link rel=\"apple-touch-icon-precomposed\" sizes=\"152x152\" href=\"https://ssl.pstatic.net/static/nfinance/ico/2018_ios_152x152_ipad.png\" />\\',\\n\\t\\t\\t\\t\\t\\'<link rel=\"apple-touch-icon-precomposed\" sizes=\"167x167\" href=\"https://ssl.pstatic.net/static/nfinance/ico/2018_ios_167x167_ipad_pro.png\" />\\',\\n\\t\\t\\t\\t\\t\\'<link rel=\"apple-touch-icon-precomposed\" sizes=\"180x180\" href=\"https://ssl.pstatic.net/static/nfinance/ico/2018_ios_180x180_iphone.png\" />\\'\\n                ]\\n                .join(\\'\\\\n\\')\\n            );\\n        }\\n\\n        if(/Android/.test(sUserAgent)){\\n            document.write(\\n                [\\n                    \\'<link rel=\"apple-touch-icon-precomposed\" sizes=\"72x72\" href=\"https://ssl.pstatic.net/static/nfinance/ico/2018_android_72x72_xxxhpdi.png\" />\\',\\n                    \\'<link rel=\"apple-touch-icon-precomposed\" sizes=\"96x96\" href=\"https://ssl.pstatic.net/static/nfinance/ico/2018_android_96x96_xxxhpdi.png\" />\\',\\n                    \\'<link rel=\"apple-touch-icon-precomposed\" sizes=\"144x144\" href=\"https://ssl.pstatic.net/static/nfinance/ico/2018_android_144x144_xxxhpdi.png\" />\\',\\n                    \\'<link rel=\"apple-touch-icon-precomposed\" sizes=\"192x192\" href=\"https://ssl.pstatic.net/static/nfinance/ico/2018_android_192x192_xxxhpdi.png\" />\\'\\n\\t\\t\\t\\t]\\n\\t\\t\\t\\t.join(\\'\\\\n\\')\\n\\t\\t\\t);\\n        }\\n    })();\\n    </script>\\n</head>\\n\\n\\n\\n\\n<body onload=\\'getGNB();\\'>\\n\\n\\n\\n<script type=\"text/javascript\">\\n\\tdocument.domain = \\'naver.com\\';\\n\\tvar nclk_evt = 3;\\n\\tnclk_do();\\n</script>\\n\\n\\n<script type=\"text/javascript\">\\n\\n\\n\\n\\n\\n\\n\\nvar nsc=\"finance.stockend\";\\n\\n\\nvar ccsrv=\"cc.naver.com\";\\n\\n\\n\\t\\n\\t\\n\\tvar gnb_service=\\'finance\\';\\n\\t\\n\\n\\nvar gnb_logout=document.URL; //GNB에서 로그아웃 후 redirect 될 URL\\nvar gnb_searchbox=\\'off\\'; //미니 검색창을 on 할지 off 할지. default는 off\\nvar gnb_shortnick=\\'off\\'; //닉네임 말줄임(10자)을 on할지 off 할지. default는 off.\\n\\n\\nvar gnb_naverme_layer_open_callback = function(){\\n\\t   var naverLayerSize = gnbNaverMeLayer.getLayerSize();\\n\\t\\t\\n\\t\\tvar me_layers = document.getElementById(\"me_layers\");\\n\\t\\tme_layers.width=naverLayerSize.width;\\n\\t\\tme_layers.height=naverLayerSize.height;};\\n\\nvar gnb_naverme_layer_close_callback = function(){\\n\\t\\t\\n\\t\\t\\tvar me_layers = document.getElementById(\"me_layers\");\\n\\t\\t\\tme_layers.width=\"0\";\\n\\t\\t\\tme_layers.height=\"0\";};\\n</script>\\n\\n\\n<div id=\"u_skip\">\\n\\t<a href=\"#menu\" tabindex=\"1\"><span>메인 메뉴로 바로가기</span></a>\\n\\n\\t\\n\\t\\t<a href=\"#middle\" tabindex=\"2\"><span>본문으로 바로가기</span></a>\\n\\t\\n\\t\\n\\n</div>\\n\\n\\n<div id=\"header\">\\n\\t<div class=\"snb_area\">\\n\\t\\t<div class=\"snb_inner\">\\n\\t\\t\\t<div id=\"gnb_area\">\\n\\t\\t\\t\\t<div id=\"gnb\">\\n\\t\\t\\t\\t\\t<script charset=\"EUC-KR\" type=\"text/javascript\">\\n\\t\\t\\t\\t\\tvar gnb_service = \"gnbtest\";\\n                    var gnb_template = location.protocol == \"http:\" ? \"gnb_quirks_euckr\" : \"gnb_utf8\" ;\\n\\t\\t\\t\\t\\tvar gnb_dark = false;\\n\\t\\t\\t\\t\\tvar gnb_brightness = 1;\\n\\t\\t\\t\\t\\tvar gnb_logout=encodeURIComponent(location.href);\\n\\t\\t\\t\\t\\tvar gnb_one_naver = 1;\\n\\t\\t\\t\\t\\t</script>\\n\\t\\t\\t\\t\\t\\n\\t\\t\\t\\t\\t\\t\\n\\t\\t\\t\\t\\t\\t\\n\\t\\t\\t\\t\\t\\t\\t<script type=\"text/javascript\" charset=\"utf-8\" src=\"https://ssl.pstatic.net/static.gn/templates/gnb_utf8.nhn?20210216\">\\n                    \\t\\t</script>\\n\\t\\t\\t\\t\\t\\t\\n\\t\\t\\t\\t\\t\\n\\t\\t\\t\\t</div>\\n\\t\\t\\t</div>\\n\\n\\t\\t\\t<div class=\"sta\">\\n\\t\\t\\t\\t<h1 class=\"logo\"> <a href=\"https://www.naver.com/\" class=\"logo_naver\" onClick=\"clickcr(this, \\'STA.naver\\', \\'\\', \\'\\', event);\"><span class=\"blind\">네이버</span></a>\\n\\t\\t\\t\\t<a href=\"/\" class=\"logo_service\" onClick=\"clickcr(this, \\'STA.finance\\', \\'\\', \\'\\', event);\"><span class=\"blind\">금융</span></a> </h1>\\n\\t\\t\\t\\t<form name=\"search\" action=\"/search/search.nhn\"  method=\"get\"\\n\\t\\t\\t\\t\\tonsubmit=\"return delayed_submit(this)\" style=\"margin:0; padding:0;\">\\n\\t\\t\\t\\t<fieldset>\\n\\t\\t\\t\\t\\t<legend>검색</legend>\\n\\t\\t\\t\\t\\t<div class=\"snb_search_box\">\\n\\t\\t\\t\\t\\t\\t<div class=\"snb_search_box_sub\">\\n\\t\\t\\t\\t\\t\\t\\t<input id=\"stock_items\" type=\"text\" title=\"검색\" name=\"query\" value=\"종목명&middot;지수명&middot;펀드명&middot;환율명&middot;원자재명 입력\" accesskey=\"s\" class=\"snb_search_text snb_default\" autocomplete=\"off\">\\n\\t\\t\\t\\t\\t\\t\\t<a id=\"nautocomplete\" href=\"#\" onclick=\"return false\" class=\"btn_arrow\"><span class=\"blind\">자동완성 펼치기</span></a>\\n\\t\\t\\t\\t\\t\\t</div>\\n\\t\\t\\t\\t\\t\\t<div class=\"auto_area\">\\n\\t\\t\\t\\t\\t\\t\\t<h2 class=\"blind\">자동완성</h2>\\n\\t\\t\\t\\t\\t\\t\\t<iframe id=\"autoFrame\" src=\"/ac/reatcmp.nhn?menu=stockend&submenu=\" scrolling=\"no\" height=\"0\" frameborder=\"0\" width=\"400\" style=\"display: none;\" marginheight=\"0\" marginwidth=\"0\" title=\"자동완성\"></iframe>\\n\\t\\t\\t\\t\\t\\t</div>\\n\\t\\t\\t\\t\\t\\t<button type=\"submit\" class=\"snb_search_btn\" onclick=\"clickcr(this, \\'STA.search\\', \\'\\', \\'\\', event);\" alt=\"검색\"><span class=\"blind\">검색</span></button>\\n\\t\\t\\t\\t\\t\\t<a href=\"#\" target=\"_blank\" class=\"snb_search_btn-total\" onclick=\"itegrationSearch();clickcr(this, \\'STA.nx\\', \\'\\', \\'\\', event);return false;\">통합검색</a>\\n\\t\\t\\t\\t\\t</div>\\n\\t\\t\\t\\t</fieldset>\\n\\t\\t\\t\\t</form>\\n\\t\\t\\t</div>\\n\\t\\t</div>\\n\\t</div>\\n\\t<div class=\"lnb_area \">\\n\\t\\t<div class=\"lnb_inner\">\\n\\t\\t\\t<div id=\"menu\">\\n\\t\\t\\t\\t<ul class=\"menu\">\\n\\t\\t\\t\\t\\t<li class=\"m1 first \"><a href=\"/\" onClick=\"clickcr(this, \\'LNB.home\\', \\'\\', \\'\\', event);\"><span class=\"tx\">금융 홈</span></a></li>\\n\\t\\t\\t\\t\\t<li class=\"m2 on\"><a href=\"/sise/\" onClick=\"clickcr(this, \\'LNB.sise\\', \\'\\', \\'\\', event);\"><span class=\"tx\">국내증시</span></a></li>\\n\\t\\t\\t\\t\\t<li class=\"m3 \"><a href=\"/world/\" onClick=\"clickcr(this, \\'LNB.world\\', \\'\\', \\'\\', event);\"><span class=\"tx\">해외증시</span></a></li>\\n\\t\\t\\t\\t\\t<li class=\"m4 \"><a href=\"/marketindex/\" onClick=\"clickcr(this, \\'LNB.market\\', \\'\\', \\'\\', event);\"><span class=\"tx\">시장지표</span></a></li>\\n\\t\\t\\t\\t\\t<li class=\"m5 \"><a href=\"/fund/\" onClick=\"clickcr(this, \\'LNB.fund\\', \\'\\', \\'\\', event);\"><span class=\"tx\">펀드</span></a>\\n\\t\\t\\t\\t\\t\\t\\n\\t\\t\\t\\t\\t</li>\\n\\t\\t\\t\\t\\t<li class=\"m6 \"><a href=\"/research/\" onClick=\"clickcr(this, \\'LNB.research\\', \\'\\', \\'\\', event);\"><span class=\"tx\">리서치</span></a></li>\\n\\t\\t\\t\\t\\t<li class=\"m7 \"><a href=\"/news/\"><span class=\"tx\">뉴스</span></a></li>\\n\\t\\t\\t\\t\\t<li class=\"m8 \"><a href=\"/mystock/\" onClick=\"clickcr(this, \\'LNB.mystock\\', \\'\\', \\'\\', event);\"><span class=\"tx\">MY</span></a></li>\\n\\t\\t\\t\\t</ul>\\n\\t\\t\\t</div>\\n\\t\\t</div>\\n\\t</div>\\n\\t\\n\\t\\n\\t\\n\\t\\n\\n\\t\\n\\t<script type=\"text/JavaScript\">\\n\\t\\t/* lcs 집계 */\\n        ;(function(){\\n            var eventType = \"onpageshow\" in window ? \"pageshow\" : \"load\";\\n            jindo.$Fn(function(){\\n                lcs_do();\\n            }).attach(window, eventType);\\n        })();\\n\\n\\t\\t/* 검색 자동완성 [ 인자1 : 검색input의 ID, 인자2 : iframe 태그 ID ]   */\\n\\t\\t// AutoComplete 생성\\n\\t\\tvar acDomain = \"ac.finance.naver.com\";\\n        if (location.hostname.indexOf(\"staging-\") > -1) {\\n            acDomain = \"staging-\" + acDomain;\\n        } else if (location.hostname.indexOf(\"dev-\") > -1 || location.hostname.indexOf(\"localhost\") > -1 || location.hostname.indexOf(\"local-\") > -1) {\\n\\t\\t\\tacDomain = \"dev-\" + acDomain;\\n\\t\\t}\\n\\n        var acUrl = \"https://\" + acDomain + \"/ac\";\\n\\n\\t\\tsmartSearch = new nhn.Autocomplete(\\n\\t\\t\\t// InputManager 생성\\n\\t\\t\\tnew nhn.AcInputManager(jindo.$(\"stock_items\")),\\n\\t\\t\\t// DataManager 생성\\n\\t\\t\\tnew nhn.AcDataManager(acUrl, \"jsonp\", \"get\", {\\n                    st: \"111\",\\n                    r_lt : \"111\",\\n                    q_enc : \"euc-kr\",\\n                    r_enc : \"euc-kr\",\\n                    frm: \"stock\"}),\\n\\t\\t\\t// ViewManager 생성\\n\\t\\t\\tnew nhn.AcStockViewManager(jindo.$(\"autoFrame\"), jindo.$(\"nautocomplete\"), {\\n                                        strMax: 200,\\n                                        listMax: [7, 2, 2],\\n                                        aRedirectUrl : [\\n                            \\t\\t\\t\"https://finance.naver.com\",\\n                            \\t\\t\\t\"https://finance.naver.com\",\\n                            \\t\\t\\t\"https://finance.naver.com\"]}),\\n\\t\\t\\t// Autocomplete Option\\n            {formId:\"search\", cookieDomain:location.hostname, cookieName:\"NaverCommonStock\"});\\n\\n\\t\\t\\tsmartSearch.attach({\\n\\t            onFocus: function () {\\n\\t                var weInput = jindo.$Element(\\'stock_items\\');\\n\\t                if (weInput && weInput.hasClass(\"snb_default\")) {\\n\\t                        weInput.text(\"\");\\n\\t                        weInput.removeClass(\\'snb_default\\');\\n\\t                }\\n\\t            }\\n\\t        });\\n\\n\\t\\t/* 통합검색  start ----->  */\\n\\t\\tdocument.domain = \\'naver.com\\';\\n\\t\\tvar sSearchHintText = \\'종목명·지수명·펀드명·환율명·원자재명 입력\\';\\n\\t\\tfunction itegrationSearch() {\\n\\t\\t\\tvar query = jindo.$(\\'stock_items\\').value;\\n\\n\\t\\t\\tif ( query == \\'\\'  || encodeURIComponent(query) == encodeURIComponent(sSearchHintText))\\n\\t\\t\\t{\\n\\t\\t\\t\\talert ( \\'검색어를 입력해 주세요.\\' );\\n\\t\\t\\t\\treturn;\\n\\t\\t\\t}\\n\\n            var url = location.protocol + \"//search.naver.com/search.naver?sm=sta_hty.finance&where=nexearch&ie=UTF8&query=\" + encodeURIComponent(query);\\n            window.open(url, \"_blank\");\\n\\n\\t\\t\\treturn false;\\n\\t\\t}\\n\\n\\t\\tfunction delayed_submit(object) {\\n\\t\\t\\tif (navigator.userAgent.indexOf(\\'MSIE\\') == -1) {\\n\\t\\t\\t\\twindow.setTimeout(function() {stock_search(object)}, 300);\\n\\t\\t\\t} else {\\n\\t\\t\\t\\tstock_search(object);\\n\\t\\t\\t}\\n\\t\\t\\treturn false;\\n\\t\\t}\\n\\n\\t\\tfunction stock_search (object)\\n\\t\\t{\\n\\t\\t\\tquery = object.query.value.replace(/^\\\\s*/,\\'\\').replace(/\\\\s*$/,\\'\\');\\t// trim\\n\\t\\t\\tobject.query.value=query;\\n\\n\\t\\t\\tif ( query == \\'\\' || query == sSearchHintText.replace(/^\\\\s*/,\\'\\').replace(/\\\\s*$/,\\'\\'))\\n\\t\\t\\t{\\n\\t\\t\\t\\talert ( \\'검색어를 입력해 주세요.\\' );\\n\\t\\t\\t\\treturn;\\n\\t\\t\\t}\\n\\t\\t\\telse {\\n\\t\\t\\t\\tobject.submit();\\n\\t\\t\\t}\\n\\t\\t}\\n\\t\\t/* <---------- 통합검색  end */\\n\\n\\t\\tfunction popup()\\n\\t\\t{\\n\\t\\t\\twin = window.open(\\'/template/group_limit_pop.jsp\\',\\'finan_popup\\',\\'width=569 height=278 scrollbars=no status=no\\');\\n\\t\\t\\twin.focus();\\n\\t\\t}\\n\\t</script>\\n\\n\\t<iframe id=\"me_layers\" name=\"test\" title=\"네이버미 영역\" width=\"0\" height=\"0\" scrolling=\"no\" frameborder=\"0\" style=\"display:block;top: 22px; right: 209px; position: absolute; z-index: 15;\"></iframe>\\n</div>\\n<div id=\"wrap\"  >\\n\\n<!-- //  global include -->\\n\\n<script language=\"JavaScript\">\\nfunction mouseOver(obj){\\n  obj.style.backgroundColor=\"#f6f4e5\";\\n}\\nfunction mouseOut(obj){\\n  obj.style.backgroundColor=\"#ffffff\";\\n}\\n</script>\\n\\n\\t<!-- 종목 summary -->\\n\\t\\n\\t\\t\\n\\t\\t\\n\\t\\n<script language=javascript src=\\'https://ssl.pstatic.net/imgstock/static.pc/20210203183116/js/recent_code.js\\'></script>\\n<script language=javascript>addCode(\\'005930\\');</script>\\n<script language=\"JavaScript\" src=\"https://ssl.pstatic.net/imgstock/static.pc/20210203183116/js/summary.js\"></script>\\n<script language=\"JavaScript\">fchartStatus.setChartStatus(\\'off\\');</script>\\n<style>\\n\\n.hide_chart {\\nposition: absolute;\\ntop: 0;\\nleft: -9999px;\\n}\\n</style>\\n\\t<div id=\"middle\" class=\"new_totalinfo\">\\n\\t\\t\\n\\n\\t\\t\\n\\t\\t\\t\\n\\t\\t\\t\\n\\t\\t\\t\\n\\t\\t\\t\\t\\n\\t\\t\\t\\n\\t\\t\\n\\n\\t\\t\\n\\t\\t\\t\\n\\t\\t\\t\\t\\n\\t\\t\\t\\t\\n\\t\\t\\t\\n\\t\\t\\t\\n\\t\\t\\n\\n\\t\\t\\n        <dl class=\"blind\">\\n\\t        <dt>종목 시세 정보</dt>\\n\\t        <dd>2021년 02월 16일 16시 10분 기준 장마감</dd>\\n\\t        <dd>종목명 삼성전자</dd>\\n\\t        <dd>종목코드 005930 코스피</dd>\\n\\t        <dd>현재가 84,900 전일대비 상승 700 플러스 0.83 퍼센트</dd>\\n\\t        <dd>전일가 84,200</dd>\\n\\t        <dd>시가 84,500</dd>\\n\\t        <dd>고가 86,000</dd>\\n\\t        <dd>상한가 109,000</dd>\\n\\t        <dd>저가 84,200</dd>\\n\\t        <dd>하한가 59,000</dd>\\n\\t        <dd>거래량 20,373,346</dd>\\n\\t        <dd>거래대금 1,731,461백만</dd>\\n        </dl>\\n        \\n\\n\\t\\t<div class=\"h_company\">\\n\\t\\t \\t<div class=\"wrap_company\">\\n\\t\\t\\t\\t<h2><a href=\"#\" onClick=\"clickcr(this, \\'sop.title\\', \\'\\', \\'\\', event);window.location.reload();\">삼성전자</a></h2>\\n\\n\\t\\t\\t\\t<div class=\"description\">\\n\\t\\t\\t\\t\\t<span class=\"code\">005930</span>\\n\\t\\t\\t\\t\\t\\n\\t\\t\\t\\t\\t\\t<img src=\"https://ssl.pstatic.net/imgstock/item_renewal/btn_kospi.gif\" width=\"33\" height=\"16\" alt=\"코스피\" class=\"kospi\">\\n\\t\\t\\t\\t\\t\\n\\t\\t\\t\\t\\t\\n\\t\\t\\t\\t\\t\\n\\t\\t\\t\\t\\t<span class=\"blind\">날짜</span>\\n\\t\\t\\t\\t\\t<span id=\"time\">\\n\\t\\t\\t\\t\\t\\n\\t\\t\\t\\t\\t\\t\\n\\t\\t\\t\\t\\t\\t\\n\\t\\t\\t\\t\\t\\t\\n\\t\\t\\t\\t\\t\\t\\t<em class=\"date\">2021.02.16 <span>기준(장마감)</span></em>\\n\\t\\t\\t\\t\\t\\t\\n\\t\\t\\t\\t\\t\\n\\t\\t\\t\\t\\t</span>\\n\\n\\t\\t\\t\\t\\t<em class=\"realtime\">\\n\\t\\t\\t\\t\\t\\t<span class=\"blind\">실시간</span>\\n\\t\\t\\t\\t\\t</em>\\n\\t\\t\\t\\t\\t\\t\\n\\t\\t\\t\\t\\t\\t\\n\\t\\t\\t\\t\\t\\t\\t\\n\\t\\t\\t\\t\\t\\t\\t<em class=\"summary\">\\n\\t\\t\\t\\t\\t\\t\\n\\t\\t\\t\\t\\t\\t\\t<a href=\"#\" onclick=\"togglePannel(\\'summary_lyr\\'); return false;\"></a>\\n\\t\\t\\t\\t\\t\\t\\t\\n\\t\\t\\t\\t\\t\\t\\t<span class=\"blind\">기업개요</span>\\n\\t\\t\\t\\t\\t\\t\\t<div id=\"summary_lyr\" class=\"summary_lyr\" style=\"display:none;top:22px;left:0\">\\n\\t\\t\\t\\t\\t\\t\\t\\t<iframe id=\"summary_ifr\" name=\"summary_ifr\" width=\"410\" height=\"\" src=\"\" scrolling=\"no\" frameborder=\"0\" style=\"position:absolute;left:0;top:-2;z-index:20\"></iframe>\\n\\t\\t\\t\\t\\t\\t\\t\\t<div id=\"summary_info\" class=\"summary_info\">\\n\\t\\t\\t\\t\\t\\t\\t\\t\\t<h4>기업개요</h4>\\n\\t\\t\\t\\t\\t\\t\\t\\t\\t\\n\\t\\t\\t\\t\\t\\t\\t\\t\\t\\t<p>한국 및 CE, IM부문 해외 9개 지역총괄과 DS부문 해외 5개 지역총괄, Harman 등 244개의 종속기업으로 구성된 글로벌 전자기업임.</p>\\n\\t\\t\\t\\t\\t\\t\\t\\t\\t\\n\\t\\t\\t\\t\\t\\t\\t\\t\\t\\n\\t\\t\\t\\t\\t\\t\\t\\t\\t\\t<p>세트사업에는 TV, 냉장고 등을 생산하는 CE부문과 스마트폰, 네트워크시스템, 컴퓨터 등을 생산하는 IM부문이 있음.</p>\\n\\t\\t\\t\\t\\t\\t\\t\\t\\t\\n\\t\\t\\t\\t            \\t\\t\\n\\t\\t\\t\\t\\t\\t\\t\\t\\t\\t<p>부품사업(DS부문)에서는 D램, 낸드 플래쉬, 모바일AP 등의 제품을 생산하는 반도체 사업과 TFT-LCD 및 OLED 디스플레이 패널을 생산하는 DP사업으로 구성됨.</p>\\n\\t\\t\\t\\t\\t\\t\\t\\t\\t\\n\\t\\t\\t\\t\\t\\t\\t\\t\\t\\n\\t\\t\\t\\t\\t\\t\\t\\t\\t\\n\\t\\t\\t\\t\\t\\t\\t\\t\\t<div class=\"txt_notice\">출처 : 에프앤가이드</div>\\n\\t\\t\\t\\t\\t\\t\\t\\t\\t\\t<div class=\"btn_area_top\">\\n\\t\\t\\t\\t\\t\\t\\t\\t\\t\\t\\t<a href=\"#\" onclick=\"hidePannel(\\'summary_lyr\\'); return false;\"><img src=\"https://ssl.pstatic.net/static/nfinance/img/btn_close.gif\" alt=\"닫기\" width=\"11\" height=\"11\"></a>\\n\\t\\t\\t\\t\\t\\t\\t\\t\\t\\t</div>\\n\\t\\t\\t\\t\\t\\t\\t\\t\\t<div class=\"bg_btm\"></div>\\n\\t\\t\\t\\t\\t\\t\\t\\t</div>\\n\\t\\t\\t\\t\\t\\t\\t\\t<span class=\"bg_lt\"></span>\\n\\t\\t\\t\\t\\t\\t\\t\\t<span class=\"bg_rt\"></span>\\n\\t\\t\\t\\t\\t\\t\\t\\t<div class=\"bu_arrow\"></div>\\n\\t\\t\\t\\t\\t\\t\\t</div>\\n\\t\\t\\t\\t\\t\\t</em>\\n\\t\\t\\t\\t\\t\\t\\n\\t\\t\\t\\t\\t\\t\\n\\t\\t\\t\\t\\t\\t\\n\\t\\t\\t\\t\\t\\t\\n\\t\\t\\t\\t\\t\\t\\n\\t\\t\\t</div>\\n\\t\\t</div>\\n\\n\\t\\t<div class=\"quick\">\\n\\t\\t\\t<p>\\n\\t\\t\\t\\t<a href=\"#\" class=\"snb_top1\" onClick=\"clickcr(this,\\'sop.2\\',\\'\\',\\'\\',event);\"><span class=\"blind\">MY STOCK 추가</span></a>\\n\\t\\t\\t\\t<a href=\"javascript:quickorder(\\'on\\')\" class=\"snb_top3\" onClick=\"clickcr(this,\\'sop.3\\',\\'\\',\\'\\',event);\"><span class=\"blind\">빠른주문</span></a>\\n\\t\\t\\t</p>\\n\\t\\t\\t\\n\\t\\t\\t<div class=\"ly_lstmove blind NE=a:sop*m\">\\n\\t\\t\\t\\t<span class=\"bg\"></span>\\n\\t\\t\\t\\t<div class=\"txt _ly_group\">\\n\\t\\t\\t\\t\\t<div class=\"bx_sel scr_white2 _ly_group_list\">\\n\\t\\t\\t\\t\\t\\t<ul></ul>\\n\\t\\t\\t\\t\\t</div>\\n\\t\\t\\t\\t\\t<div class=\"bx_sel _ly_group_blank\" style=\"display:none;\">\\n\\t\\t\\t\\t\\t\\t<p class=\"txt_inner type7\">추가할 그룹이 없습니다.<br>그룹을 추가해주세요.</p>\\n\\t\\t\\t\\t\\t</div>\\n\\t\\t\\t\\t\\t<p class=\"rgt\"><button type=\"button\" class=\"btn_spr btn_groupadd2 NPI=a:add\"><span class=\"blind\">그룹추가</span></button></p>\\n\\t\\t\\t\\t\\t<p>\\n\\t\\t\\t\\t\\t\\t<button type=\"button\" class=\"btn_spr btn_cfm2 _btn_ok NPI=a:confirm\"><span class=\"blind\">확인</span></button>\\n\\t\\t\\t\\t\\t\\t<button type=\"button\" class=\"btn_spr btn_clse2 _btn_cancel NPI=a:close\"><span class=\"blind\">닫기</span></button>\\n\\t\\t\\t\\t\\t</p>\\n\\t\\t\\t\\t</div>\\n\\t\\t\\t\\t<div class=\"txt _ly_message\" style=\"display:none;\">\\n\\t\\t\\t\\t</div>\\n\\t\\t\\t</div>\\n\\t\\t\\t\\n\\n\\t        \\n            <div class=\"layer_quick_order\" id=\"quickOrderArea\" style=\"display:none\">\\n                <div class=\"content\">\\n                    <h5>네이버 주식거래연결<br>빠른 주문을 도와드립니다!</h5>\\n                    <ul>\\n                    <li>본 서비스는 고객님의 빠른 주문을 돕기 위해<br><span>증권사의 로그인을 연결</span>해드리고 있습니다.</li>\\n                    <li>고객님이 보유하고 계신 증권사를 클릭한 후<br><span>증권사의 아이디, 비밀번호, 공인인증서로 주문</span>을<br>하실 수 있습니다. </li>\\n                    <li>증권사 로그인 이후 시스템 문제가 발생하면,<br><span>증권사 고객센터로 직접 문의</span> 하시기 바랍니다.   </li>\\n                    <li>네이버는 증권사 서비스의 시스템 장애에 따른<br>법적 책임을 지지 않습니다. </li>\\n                    </ul>\\n                    \\n                    <div class=\"ci_area\">\\n                    \\t<div id=\"quickOrderCiBanner0\"></div>\\n                    \\t<div id=\"quickOrderCiBanner1\"></div>\\n                    \\t<div id=\"quickOrderCiBanner2\"></div>\\n                    \\t<div id=\"quickOrderCiBanner3\"></div>\\n                    </div>\\n                    <div class=\"btn_area_btm\"><a href=\"javascript:quickorder(\\'off\\')\"><img src=\"https://ssl.pstatic.net/imgstock/item_renewal/btn_close.gif\" alt=\"닫기\" width=\"38\" height=\"20\"></a></div>\\n                    <div class=\"btn_area_top\"><a href=\"javascript:quickorder(\\'off\\')\"><img src=\"https://ssl.pstatic.net/imgstock/item_renewal/btn_close_x.gif\" alt=\"닫기\" width=\"19\" height=\"19\"></a></div>\\n                </div>\\n            </div>\\n            \\n\\t\\t</div>\\n\\n\\t\\t\\n\\t</div>\\n\\n\\t<div class=\"content_wrap\">\\n\\t<div id=\"content\">\\n\\n\\t\\t<div id=\"chart_area\" class=\"spot spot_short\"><!-- chart가 사라질때  <div class=\"spot spot_short\">-->\\n\\t\\t\\t<div class=\"rate_info\">\\n\\n\\t\\t\\t\\t\\n                <dl class=\"blind\">\\n                        <dt><strong>삼성전자</strong></dt>\\n                        <dd>오늘의시세 84,900 포인트</dd>\\n                        <dd>700 포인트 상승</dd>\\n                        <dd>0.83% 플러스</dd>\\n                </dl>\\n                \\n\\n\\t\\t\\t\\t<div class=\"today\">\\n\\t\\t\\t\\t\\t<p class=\"no_today\">\\n\\t\\t\\t\\t\\t\\t\\n\\t\\t\\t\\t\\t\\t\\t\\n\\t\\t\\t\\t\\t\\t\\t\\t<em class=\"no_up\">\\n\\t\\t\\t\\t\\t\\t\\t\\n\\t\\t\\t\\t\\t\\t\\t\\n\\t\\t\\t\\t\\t\\t\\t\\n\\t\\t\\t\\t\\t\\t\\n\\t\\t\\t\\t\\t\\t\\t<span class=\"blind\">84,900</span>\\n\\t\\t\\t\\t\\t\\t\\t<span class=\"no8\">8</span><span class=\"no4\">4</span><span class=\"shim\">,</span><span class=\"no9\">9</span><span class=\"no0\">0</span><span class=\"no0\">0</span>\\n\\t\\t\\t\\t\\t\\t</em>\\n\\t\\t\\t\\t\\t</p>\\n\\t\\t\\t\\t\\t<p class=\"no_exday\">\\n\\t\\t\\t\\t\\t\\t<span class=\"sptxt sp_txt1\">전일대비</span>\\n\\t\\t\\t\\t\\t\\t\\n\\t\\t\\t\\t\\t\\t\\t\\n\\t\\t\\t\\t\\t\\t\\t\\n\\t\\t\\t\\t\\t\\t\\t\\t<em class=\"no_up\">\\n\\t\\t\\t\\t\\t\\t\\t\\t\\t<span class=\"ico up\">상승</span>\\n\\t\\t\\t\\t\\t\\t\\t\\n\\t\\t\\t\\t\\t\\t\\t\\n\\t\\t\\t\\t\\t\\t\\t\\n\\t\\t\\t\\t\\t\\t\\t\\n\\t\\t\\t\\t\\t\\t\\n\\t\\t\\t\\t\\t\\t\\t<span class=\"blind\">700</span>\\n\\t\\t\\t\\t\\t\\t\\t<span class=\"no7\">7</span><span class=\"no0\">0</span><span class=\"no0\">0</span>\\n\\t\\t\\t\\t\\t\\t</em>\\n\\t\\t\\t\\t\\t\\t<span class=\"bar\">l</span>\\n\\t\\t\\t\\t\\t\\t\\n\\t\\t\\t\\t\\t\\t\\t\\n\\t\\t\\t\\t\\t\\t\\t\\t<em class=\"no_up\">\\n\\t\\t\\t\\t\\t\\t\\t\\t\\t<span class=\"ico plus\">+</span>\\n\\t\\t\\t\\t\\t\\t\\t\\n\\t\\t\\t\\t\\t\\t\\t\\n\\t\\t\\t\\t\\t\\t\\t\\n\\t\\t\\t\\t\\t\\t\\n\\t\\t\\t\\t\\t\\t\\t<span class=\"blind\">0.83</span>\\n\\t\\t\\t\\t\\t\\t\\t<span class=\"no0\">0</span><span class=\"jum\">.</span><span class=\"no8\">8</span><span class=\"no3\">3</span>\\n\\t\\t\\t\\t\\t\\t\\t<span class=\"per\">%</span>\\n\\t\\t\\t\\t\\t\\t</em>\\n\\t\\t\\t\\t\\t</p>\\n\\t\\t\\t\\t</div>\\n\\t\\t\\t\\t<table summary=\"주요 시세(전일종가, 시고저가, 거래량, 거래대금)을 제공합니다.\" class=\"no_info\">\\n\\t\\t\\t\\t<caption>주요 시세</caption>\\n\\t\\t\\t\\t<colgroup><col><col width=\"214\"><col width=\"157\"></colgroup>\\n\\t\\t\\t\\t<tr>\\n\\t\\t\\t\\t\\t<td class=\"first\">\\n\\t\\t\\t\\t\\t\\t<span class=\"sptxt sp_txt2\">전일</span>\\n\\t\\t\\t\\t\\t\\t<em>\\n\\t\\t\\t\\t\\t\\t\\t<span class=\"blind\">84,200</span>\\n\\t\\t\\t\\t\\t\\t\\t<span class=\"no8\">8</span><span class=\"no4\">4</span><span class=\"shim\">,</span><span class=\"no2\">2</span><span class=\"no0\">0</span><span class=\"no0\">0</span>\\n\\t\\t\\t\\t\\t\\t</em>\\n\\t\\t\\t\\t\\t</td>\\n\\t\\t\\t\\t\\t<td>\\n\\t\\t\\t\\t\\t\\t<span class=\"sptxt sp_txt4\">고가</span>\\n\\t\\t\\t\\t\\t\\t\\n\\t\\t\\t\\t\\t\\t\\t\\n\\t\\t\\t\\t\\t\\t\\t\\n\\t\\t\\t\\t\\t\\t\\t\\t\\n\\t\\t\\t\\t\\t\\t\\t\\t\\t\\n\\t\\t\\t\\t\\t\\t\\t\\t\\t<em class=\"no_up\">\\n\\t\\t\\t\\t\\t\\t\\t\\t\\t\\n\\t\\t\\t\\t\\t\\t\\t\\t\\t\\n\\t\\t\\t\\t\\t\\t\\t\\t\\n\\t\\t\\t\\t\\t\\t\\t\\n\\t\\t\\t\\t\\t\\t\\n\\t\\t\\t\\t\\t\\t\\n\\t\\t\\t\\t\\t\\t\\t\\n\\t\\t\\t\\t\\t\\t\\t<span class=\"blind\">86,000</span><span class=\"no8\">8</span><span class=\"no6\">6</span><span class=\"shim\">,</span><span class=\"no0\">0</span><span class=\"no0\">0</span><span class=\"no0\">0</span>\\n\\t\\t\\t\\t\\t\\t\\n\\t\\t\\t\\t\\t\\t</em>\\n\\t\\t\\t\\t\\t\\t<span class=\"sptxt sp_txt6\">(상한가</span>\\n\\t\\t\\t\\t\\t\\t<em class=\"no_cha\">\\n\\t\\t\\t\\t\\t\\t\\t\\n\\t\\t\\t\\t\\t\\t\\t\\t\\n\\t\\t\\t\\t\\t\\t\\t\\t<span class=\"blind\">109,000</span><span class=\"no1\">1</span><span class=\"no0\">0</span><span class=\"no9\">9</span><span class=\"shim\">,</span><span class=\"no0\">0</span><span class=\"no0\">0</span><span class=\"no0\">0</span>\\n\\t\\t\\t\\t\\t\\t\\t\\n\\t\\t\\t\\t\\t\\t</em>\\n\\t\\t\\t\\t\\t\\t<span class=\"sptxt sp_txt8\">)</span>\\n\\t\\t\\t\\t\\t</td>\\n\\t\\t\\t\\t\\t<td>\\n\\t\\t\\t\\t\\t\\t<span class=\"sptxt sp_txt9\">거래량</span>\\n\\t\\t\\t\\t\\t\\t<em>\\n\\t\\t\\t\\t\\t\\t\\t<span class=\"blind\">20,373,346</span>\\n\\t\\t\\t\\t\\t\\t\\t<span class=\"no2\">2</span><span class=\"no0\">0</span><span class=\"shim\">,</span><span class=\"no3\">3</span><span class=\"no7\">7</span><span class=\"no3\">3</span><span class=\"shim\">,</span><span class=\"no3\">3</span><span class=\"no4\">4</span><span class=\"no6\">6</span>\\n\\t\\t\\t\\t\\t\\t</em>\\n\\t\\t\\t\\t\\t</td>\\n\\t\\t\\t\\t</tr>\\n\\t\\t\\t\\t<tr>\\n\\t\\t\\t\\t\\t<td class=\"first\">\\n\\t\\t\\t\\t\\t\\t<span class=\"sptxt sp_txt3\">시가</span>\\n\\t\\t\\t\\t\\t\\t\\n\\t\\t\\t\\t\\t\\t\\t\\n\\t\\t\\t\\t\\t\\t\\t\\n\\t\\t\\t\\t\\t\\t\\t\\t\\n\\t\\t\\t\\t\\t\\t\\t\\t\\t\\n\\t\\t\\t\\t\\t\\t\\t\\t\\t<em class=\"no_up\">\\n\\t\\t\\t\\t\\t\\t\\t\\t\\t\\n\\t\\t\\t\\t\\t\\t\\t\\t\\t\\n\\t\\t\\t\\t\\t\\t\\t\\t\\n\\t\\t\\t\\t\\t\\t\\t\\n\\t\\t\\t\\t\\t\\t\\n\\t\\t\\t\\t\\t\\t\\n\\t\\t\\t\\t\\t\\t\\t\\n\\t\\t\\t\\t\\t\\t\\t<span class=\"blind\">84,500</span><span class=\"no8\">8</span><span class=\"no4\">4</span><span class=\"shim\">,</span><span class=\"no5\">5</span><span class=\"no0\">0</span><span class=\"no0\">0</span>\\n\\t\\t\\t\\t\\t\\t\\n\\t\\t\\t\\t\\t\\t</em>\\n\\t\\t\\t\\t\\t</td>\\n\\t\\t\\t\\t\\t<td>\\n\\t\\t\\t\\t\\t\\t<span class=\"sptxt sp_txt5\">저가</span>\\n\\t\\t\\t\\t\\t\\t\\n\\t\\t\\t\\t\\t\\t\\t\\n\\t\\t\\t\\t\\t\\t\\t\\n\\t\\t\\t\\t\\t\\t\\t\\t\\n\\t\\t\\t\\t\\t\\t\\t\\t\\t\\n\\t\\t\\t\\t\\t\\t\\t\\t\\t\\n\\t\\t\\t\\t\\t\\t\\t\\t\\t\\n\\t\\t\\t\\t\\t\\t\\t\\t\\t<em>\\n\\t\\t\\t\\t\\t\\t\\t\\t\\n\\t\\t\\t\\t\\t\\t\\t\\n\\t\\t\\t\\t\\t\\t\\n\\t\\t\\t\\t\\t\\t\\n\\t\\t\\t\\t\\t\\t\\t\\n\\t\\t\\t\\t\\t\\t\\t<span class=\"blind\">84,200</span><span class=\"no8\">8</span><span class=\"no4\">4</span><span class=\"shim\">,</span><span class=\"no2\">2</span><span class=\"no0\">0</span><span class=\"no0\">0</span>\\n\\t\\t\\t\\t\\t\\t\\n\\t\\t\\t\\t\\t\\t</em>\\n\\t\\t\\t\\t\\t\\t<span class=\"sptxt sp_txt7\">(하한가</span>\\n\\t\\t\\t\\t\\t\\t<em class=\"no_cha\">\\n\\t\\t\\t\\t\\t\\t\\t\\n\\t\\t\\t\\t\\t\\t\\t\\t\\n\\t\\t\\t\\t\\t\\t\\t\\t<span class=\"no5\">5</span><span class=\"no9\">9</span><span class=\"shim\">,</span><span class=\"no0\">0</span><span class=\"no0\">0</span><span class=\"no0\">0</span>\\n\\t\\t\\t\\t\\t\\t\\t\\n\\t\\t\\t\\t\\t\\t</em>\\n\\t\\t\\t\\t\\t\\t<span class=\"sptxt sp_txt8\">)</span>\\n\\t\\t\\t\\t\\t</td>\\n\\t\\t\\t\\t\\t<td>\\n\\t\\t\\t\\t\\t\\t<span class=\"sptxt sp_txt10\">거래대금</span>\\n\\t\\t\\t\\t\\t\\t<em>\\n\\t\\t\\t\\t\\t\\t\\n\\t\\t\\t\\t\\t\\t\\t\\n\\t\\t\\t\\t\\t\\t\\t\\t<span class=\"blind\">1,731,461</span>\\n\\t\\t\\t\\t\\t\\t\\t\\t<span class=\"no1\">1</span><span class=\"shim\">,</span><span class=\"no7\">7</span><span class=\"no3\">3</span><span class=\"no1\">1</span><span class=\"shim\">,</span><span class=\"no4\">4</span><span class=\"no6\">6</span><span class=\"no1\">1</span>\\n\\t\\t\\t\\t\\t\\t\\t\\n\\t\\t\\t\\t\\t\\t\\t\\n\\t\\t\\t\\t\\t\\t\\n\\t\\t\\t\\t\\t\\t</em>\\n\\t\\t\\t\\t\\t\\t<span class=\"sptxt sp_txt11\">백만</span>\\n\\t\\t\\t\\t\\t</td>\\n\\t\\t\\t\\t</tr>\\n\\t\\t\\t\\t</table>\\n\\t\\t\\t</div>\\n\\t\\t\\t<div class=\"chart\">\\n\\t\\t\\t\\t<p class=\"blind\">종목 시세 차트</p>\\n\\t\\t\\t\\t\\t<div class=\"chart_control_area\">\\n\\t\\t\\t\\t\\t\\t<dl class=\"line\">\\n\\t\\t\\t\\t\\t\\t\\t<dt>선차트</dt>\\n\\t\\t\\t\\t\\t\\t\\t<dd>\\n\\t\\t\\t\\t\\t\\t\\t\\t<ul>\\n\\t\\t\\t\\t\\t\\t\\t\\t\\t<li class=\"day\"><a href=\"#\" class=\"on\" onclick=\"showChart(\\'day\\')\">1일</a></li>\\n\\t\\t\\t\\t\\t\\t\\t\\t\\t<li class=\"week\"><a href=\"#\" onclick=\"showChart(\\'week\\')\">1주일</a></li>\\n\\t\\t\\t\\t\\t\\t\\t\\t\\t<li class=\"month3\"><a href=\"#\" onclick=\"showChart(\\'month3\\');\">3개월</a></li>\\n\\t\\t\\t\\t\\t\\t\\t\\t\\t<li class=\"year\"><a href=\"#\" onclick=\"showChart(\\'year\\');\">1년</a></li>\\n\\t\\t\\t\\t\\t\\t\\t\\t\\t<li class=\"year3\"><a href=\"#\" onclick=\"showChart(\\'year3\\');\">3년</a></li>\\n\\t\\t\\t\\t\\t\\t\\t\\t\\t<li class=\"year5\"><a href=\"#\" onclick=\"showChart(\\'year5\\');\">5년</a></li>\\n\\t\\t\\t\\t\\t\\t\\t\\t\\t<li class=\"year10\"><a href=\"#\" onclick=\"showChart(\\'year10\\');\">10년</a></li>\\n\\t\\t\\t\\t\\t\\t\\t\\t</ul>\\n\\t\\t\\t\\t\\t\\t\\t</dd>\\n\\t\\t\\t\\t\\t\\t</dl>\\n\\t\\t\\t\\t\\t\\t<dl class=\"bar\">\\n\\t\\t\\t\\t\\t\\t\\t<dt>봉차트</dt>\\n\\t\\t\\t\\t\\t\\t\\t<dd>\\n\\t\\t\\t\\t\\t\\t\\t\\t<ul>\\n\\t\\t\\t\\t\\t\\t\\t\\t\\t<li class=\"day\"><a href=\"#\" onclick=\"showBarChart(\\'day\\');\">일봉</a></li>\\n\\t\\t\\t\\t\\t\\t\\t\\t\\t<li class=\"week\"><a href=\"#\" onclick=\"showBarChart(\\'week\\');\">주봉</a></li>\\n\\t\\t\\t\\t\\t\\t\\t\\t\\t<li class=\"month\"><a href=\"#\" onclick=\"showBarChart(\\'month\\');\">월봉</a></li>\\n\\t\\t\\t\\t\\t\\t\\t\\t</ul>\\n\\t\\t\\t\\t\\t\\t\\t</dd>\\n\\t\\t\\t\\t\\t\\t</dl>\\n\\t\\t\\t\\t\\t</div>\\n\\t\\t\\t\\t\\t<h5 class=\"blind\">이미지 차트</h5>\\n\\t\\t\\t\\t\\t<img id=\"img_chart_area\" src=\"https://ssl.pstatic.net/imgfinance/chart/item/area/day/005930.png?sidcode=1613465255359\" width=\"700\" height=\"289\" alt=\"이미지 차트\" onerror=\"this.src=\\'https://ssl.pstatic.net/imgstock/chart3/world2008/error_700x289.png\\'\">\\n\\t\\t\\t</div>\\n\\t\\t\\t<a href=\"javascript:fchartStatus.showChartArea(\\'005930\\', \\'%BB%EF%BC%BA%C0%FC%C0%DA\\', \\'false\\')\" class=\"btn_close\" onClick=\"clickcr(this,\\'sop.toggle\\',\\'\\',\\'\\',event);\">\\n\\t\\t\\t\\t<div id=\"btn_close\">\\n\\t\\t\\t\\t\\t\\n\\t\\t\\t\\t\\t\\t\\n\\t\\t\\t\\t\\t\\t<img src=\"https://ssl.pstatic.net/imgstock/item_renewal/btn_lay_open.gif\" alt=\"차트열기\" width=\"45\" height=\"11\">\\n\\t\\t\\t\\t\\t\\n\\t\\t\\t\\t</div>\\n\\t\\t\\t</a>\\n\\t\\t</div>\\n\\n<script type=\"text/template\" id=\"summaryTpl\">\\n\\t<div class=\"today\">\\n\\t\\t<p class=\"no_today\">\\n\\t\\t\\t{if rf == 1 || rf == 2}\\n\\t\\t\\t\\t<em class=\"no_up\">\\n\\t\\t\\t{elseif rf == 4 || rf == 5}\\n\\t\\t\\t\\t<em class=\"no_down\">\\n\\t\\t\\t{else}\\n\\t\\t\\t\\t<em class=\"X\">\\n\\t\\t\\t{/if}\\n\\t\\t\\t{js numberFont(changeNumberFormat(=nv))}\\n\\t\\t\\t</em>\\n\\t\\t</p>\\n\\t\\t<p class=\"no_exday\">\\n\\t\\t\\t<span class=\"sptxt sp_txt1\">전일대비</span>\\n\\t\\t\\t{if rf == 1}\\n\\t\\t\\t\\t\\t<em class=\"no_up\">\\n\\t\\t\\t\\t\\t\\t<span class=\"ico up_price\">상한가</span>\\n\\t\\t\\t{elseif rf == 2}\\n\\t\\t\\t\\t\\t<em class=\"no_up\">\\n\\t\\t\\t\\t\\t\\t<span class=\"ico up\">상승</span>\\n\\t\\t\\t{elseif rf == 4}\\n\\t\\t\\t\\t\\t<em class=\"no_down\">\\n\\t\\t\\t\\t\\t\\t<span class=\"ico down_price\">하한가</span>\\n\\t\\t\\t{elseif rf == 5}\\n\\t\\t\\t\\t\\t<em class=\"no_down\">\\n\\t\\t\\t\\t\\t\\t<span class=\"ico down\">하락</span>\\n\\t\\t\\t{else}\\n\\t\\t\\t\\t\\t<em class=\"X\">\\n\\t\\t\\t\\t\\t\\t<span class=\"ico sam\">보합</span>\\n\\t\\t\\t{/if}\\n\\t\\t\\t{js numberFont(changeNumberFormat(=cv))}\\n\\t\\t\\t</em>\\n\\n\\t\\t\\t<span class=\"bar\">l</span>\\n\\t\\t\\t{if rf == 1 || rf == 2}\\n\\t\\t\\t\\t\\t<em class=\"no_up\">\\n\\t\\t\\t\\t\\t\\t<span class=\"ico plus\">+</span>\\n\\t\\t\\t{elseif rf == 4 || rf == 5}\\n\\t\\t\\t\\t\\t<em class=\"no_down\">\\n\\t\\t\\t\\t\\t\\t<span class=\"ico minus\">-</span>\\n\\t\\t\\t{else}\\n\\t\\t\\t\\t\\t<em class=\"X\">\\n\\t\\t\\t{/if}\\n\\t\\t\\t{js numberFont(changeNumberFormat(=cr.toFixed(2)))}\\n\\t\\t\\t\\t<span class=\"per\">%</span>\\n\\t\\t\\t</em>\\n\\t\\t</p>\\n\\t</div>\\n\\t<table summary=\"주요 시세(전일종가, 시고저가, 거래량, 거래대금)을 제공합니다.\" class=\"no_info\">\\n\\t<caption>주요 시세</caption>\\n\\t<colgroup><col><col width=\"214\"><col width=\"157\"></colgroup>\\n\\t<tr>\\n\\t\\t<td class=\"first\">\\n\\t\\t\\t<span class=\"sptxt sp_txt2\">전일</span>\\n\\t\\t\\t<em>\\n                {if sv == 0}\\n\\t\\t\\t\\t{js numberFont(changeNumberFormat(=pcv))}\\n                {else}\\n\\t\\t\\t\\t{js numberFont(changeNumberFormat(=sv))}\\n                {/if}\\n\\t\\t\\t</em>\\n\\t\\t</td>\\n\\t\\t<td>\\n\\t\\t\\t<span class=\"sptxt sp_txt4\">고가</span>\\n\\t\\t\\t{if tyn == \"Y\"}\\n\\t\\t\\t\\t<em>\\n\\t\\t\\t{else}\\n\\t\\t\\t\\t{if hv == 0}\\n\\t\\t\\t\\t<em>\\n\\t\\t\\t\\t{elseif pcv < hv}\\n\\t\\t\\t\\t<em class=\"no_up\">\\n\\t\\t\\t\\t{elseif pcv > hv}\\n\\t\\t\\t\\t<em class=\"no_down\">\\n\\t\\t\\t\\t{else}\\n\\t\\t\\t\\t<em>\\n\\t\\t\\t\\t{/if}\\n\\t\\t\\t{/if}\\n\\t\\t\\t{if ms == \"PREOPEN\"}\\n\\t\\t\\t\\t{js numberFont(0)}\\n\\t\\t\\t{else}\\n\\t\\t\\t\\t{js numberFont(changeNumberFormat(=hv))}\\n\\t\\t\\t{/if}\\n\\t\\t\\t</em>\\n\\t\\t\\t<span class=\"sptxt sp_txt6\">(상한가</span>\\n\\t\\t\\t<em class=\"no_cha\">\\n\\t\\t\\t\\t{if ms == \"PREOPEN\"}\\n\\t\\t\\t\\t\\t{js numberFont(0)}\\n\\t\\t\\t\\t{else}\\n\\t\\t\\t\\t\\t{js numberFont(changeNumberFormat(=ul))}\\n\\t\\t\\t\\t{/if}\\n\\t\\t\\t</em>\\n\\t\\t\\t<span class=\"sptxt sp_txt8\">)</span>\\n\\t\\t</td>\\n\\t\\t<td>\\n\\t\\t\\t<span class=\"sptxt sp_txt9\">거래량</span>\\n\\t\\t\\t<em>\\n\\t\\t\\t\\t{js numberFont(changeNumberFormat(=aq))}\\n\\t\\t\\t</em>\\n\\t\\t</td>\\n\\t</tr>\\n\\t<tr>\\n\\t\\t<td class=\"first\">\\n\\t\\t\\t<span class=\"sptxt sp_txt3\">시가</span>\\n\\t\\t\\t{if tyn == \"Y\"}\\n\\t\\t\\t\\t<em>\\n\\t\\t\\t{else}\\n\\t\\t\\t\\t{if ov == 0}\\n\\t\\t\\t\\t<em>\\n\\t\\t\\t\\t{elseif pcv < ov}\\n\\t\\t\\t\\t<em class=\"no_up\">\\n\\t\\t\\t\\t{elseif pcv > ov}\\n\\t\\t\\t\\t<em class=\"no_down\">\\n\\t\\t\\t\\t{else}\\n\\t\\t\\t\\t<em>\\n\\t\\t\\t\\t{/if}\\n\\t\\t\\t{/if}\\n\\t\\t\\t{if ms == \"PREOPEN\"}\\n\\t\\t\\t\\t{js numberFont(0)}\\n\\t\\t\\t{else}\\n\\t\\t\\t\\t{js numberFont(changeNumberFormat(=ov))}\\n\\t\\t\\t{/if}\\n\\t\\t\\t</em>\\n\\t\\t</td>\\n\\t\\t<td>\\n\\t\\t\\t<span class=\"sptxt sp_txt5\">저가</span>\\n\\t\\t\\t{if tyn == \"Y\"}\\n\\t\\t\\t\\t<em>\\n\\t\\t\\t{else}\\n\\t\\t\\t\\t{if lv == 0}\\n\\t\\t\\t\\t<em>\\n\\t\\t\\t\\t{elseif pcv < lv}\\n\\t\\t\\t\\t<em class=\"no_up\">\\n\\t\\t\\t\\t{elseif pcv > lv}\\n\\t\\t\\t\\t<em class=\"no_down\">\\n\\t\\t\\t\\t{else}\\n\\t\\t\\t\\t<em>\\n\\t\\t\\t\\t{/if}\\n\\t\\t\\t{/if}\\n\\t\\t\\t{if ms == \"PREOPEN\"}\\n\\t\\t\\t\\t{js numberFont(0)}\\n\\t\\t\\t{else}\\n\\t\\t\\t\\t{js numberFont(changeNumberFormat(=lv))}\\n\\t\\t\\t{/if}\\n\\t\\t\\t</em>\\n\\t\\t\\t<span class=\"sptxt sp_txt7\">(하한가</span>\\n\\t\\t\\t<em class=\"no_cha\">\\n\\t\\t\\t\\t{if ms == \"PREOPEN\"}\\n\\t\\t\\t\\t\\t{js numberFont(0)}\\n\\t\\t\\t\\t{else}\\n\\t\\t\\t\\t\\t{js numberFont(changeNumberFormat(=ll))}\\n\\t\\t\\t\\t{/if}\\n\\t\\t\\t</em>\\n\\t\\t\\t<span class=\"sptxt sp_txt8\">)</span>\\n\\t\\t</td>\\n\\t\\t<td>\\n\\t\\t\\t<span class=\"sptxt sp_txt10\">거래대금</span>\\n\\t\\t\\t<em>\\n\\t\\t\\t\\t{js numberFont(changeNumberFormat((=aa/1000000).toFixed(0)))}\\n\\t\\t\\t</em>\\n\\t\\t\\t<span class=\"sptxt sp_txt11\">백만</span>\\n\\t\\t</td>\\n\\t</tr>\\n\\t</table>\\n</script>\\n\\n<script type=\"text/javascript\">\\nvar pollingInterval = 2000;\\nvar timer = null;\\nvar pollingAjax = null;\\nvar itemcodes = \\'\\';\\n\\nvar startTimer = function() {\\n\\tclearTimer();\\n\\ttimer = setInterval(\\'doPolling()\\', pollingInterval);\\n}\\n\\nvar clearTimer = function() {\\n\\tif (pollingAjax) {\\n\\t\\tpollingAjax.abort();\\n\\t\\tpollingAjax = null;\\n\\t}\\n\\n\\ttimer = window.clearInterval(timer);\\n}\\n\\nvar doPolling = function() {\\n\\tvar pollingApiUrl = \"https://polling.finance.naver.com/api/realtime?query=SERVICE_ITEM:\" + \"005930\"\\n\\n\\tif (requestType == \\'recent\\' && itemcodes != \"\") {\\n\\t\\tpollingApiUrl += \"|\" + \"SERVICE_RECENT_ITEM:\" + itemcodes;\\n\\t} else if (requestType == \\'mystock\\' && itemcodes != \"\"){\\n\\t\\tpollingApiUrl += \"|\" + \"SERVICE_MYSTOCK_ITEM:\" + itemcodes;\\n\\t}\\n\\n\\tpollingAjax = jindo.$Ajax(pollingApiUrl, {\\n\\t\\ttype : \\'jsonp\\',\\n\\t\\tjsonp_charset : \"euc-kr\",\\n\\t\\tonload : function(response) {\\n\\t\\t\\tif(response != null && response.readyState() == 4) {\\n\\t\\t\\t\\trefreshQuote(response.json());\\n\\t\\t\\t\\tstartTimer();\\n\\t\\t\\t}\\n\\t\\t},\\n\\t\\ttimeout : 2,\\n\\t\\tontimeout : function() {\\n\\t\\t\\tstartTimer();\\n\\t\\t},\\n\\t\\tasync : true\\n\\t});\\n\\tpollingAjax.request();\\n}\\n\\nfunction displayTime(ms, time) {\\n\\tvar result;\\n\\n\\tvar utcDate = new Date(time);\\n\\tutcDate.setMinutes(utcDate.getMinutes() + utcDate.getTimezoneOffset());\\n\\tutcDate.setHours(utcDate.getHours() + 9);\\n\\n\\tvar oDate = jindo.$Date(utcDate);\\n\\n\\tif (ms == \"PREOPEN\") {\\n\\t\\tcloseDate = oDate.format(\\'Y.m.d\\')\\n\\t\\tresult = \\'<em class=\"date\">\\' + oDate.format(\\'Y.m.d\\') + \\' <span>기준(개장전)</span></em> \\';\\n\\t} else if (ms == \"CLOSE\") {\\n\\t\\tresult = \\'<em class=\"date\">\\' + closeDate + \\' <span>기준(장마감)</span></em> \\';\\n\\t} else {\\n\\t\\tcloseDate = oDate.format(\\'Y.m.d\\')\\n\\t\\tresult = \\'<em class=\"date\">\\' + oDate.format(\\'Y.m.d H:i\\') + \\' <span>기준(장중)</span></em> \\';\\n\\t}\\n\\n\\treturn result;\\n}\\n\\n/**\\n * 우측상단 투자정보 영역 중, NAV 값 갱신\\n */\\nfunction refreshEtfNav(etfNav) {\\n\\tvar elEtfNav = jindo.$Element(jindo.$$.getSingle(\"#on_board_last_nav\"));\\n\\tif (elEtfNav != null) {\\n\\t\\tif (etfNav != null) {\\n\\t\\t\\telEtfNav.html(\"<em><strong>\" + changeNumberFormat(etfNav.toFixed(0)) + \"</strong></em>\");\\n\\t\\t} else {\\n\\t\\t\\telEtfNav.html(\"<em><strong>N/A</strong></em>\");\\n\\t\\t}\\n\\t}\\n}\\n\\nfunction refreshInvestmentSummary(nv) {\\n\\tif (!(false && false && false)) {\\n\\t\\treturn;\\n\\t}\\n\\n\\tvar averageBuyingPrice = 0;\\n\\tvar holdingShares = 0;\\n\\n\\tvar elEvaluationProfitAmount = jindo.$Element(jindo.$$.getSingle(\"#evaluation_profit_amount\"));\\n\\t// 평가손익 = (nv - 평균매입가) * 보유수량\\n\\tvar evaluationProfitAmount = (nv - 0) * 0;\\n\\t// 평가수익률 = 평가손익 / (평균매입가 * 보유수량) * 100\\n\\tvar evaluationProfitRate = evaluationProfitAmount / (0 * 0) * 100;\\n\\n\\tvar sPointClass = \"\";\\n\\tvar sSign = \"\";\\n\\tif (evaluationProfitAmount > 0) {\\n\\t\\tsPointClass = \"f_up\";\\n\\t\\tsSign = \"+\";\\n\\t} else {\\n\\t\\tsPointClass = \"f_down\";\\n\\t\\tsSign = \"\";\\n\\t}\\n\\n\\tvar evaluationProfitAmoutText = \"\"\\n\\tif (evaluationProfitAmount > 10000000000) {\\n\\t\\tvar evaluationProfitAmountDivideBillion = evaluationProfitAmount / 100000000;\\n\\t\\tevaluationProfitAmountText = \"<em>\" + sSign + changeNumberFormat(evaluationProfitAmountDivideBillion.toFixed(0)) + \"억</em>\";\\n\\t} else {\\n\\t\\tevaluationProfitAmountText = \"<em>\" + sSign + changeNumberFormat(evaluationProfitAmount) + \"</em>\";\\n\\t}\\n\\n\\tif (elEvaluationProfitAmount != null) {\\n\\t\\telEvaluationProfitAmount.removeClass(\"f_up\");\\n\\t\\telEvaluationProfitAmount.removeClass(\"f_down\");\\n\\t\\telEvaluationProfitAmount.addClass(sPointClass);\\n\\t\\telEvaluationProfitAmount.html(evaluationProfitAmountText);\\n\\t}\\n\\n\\tvar elEvaluationProfitRate = jindo.$Element(jindo.$$.getSingle(\"#evaluation_profit_rate\"));\\n\\tif (elEvaluationProfitRate != null) {\\n\\n\\t\\telEvaluationProfitRate.removeClass(\"f_up\");\\n\\t\\telEvaluationProfitRate.removeClass(\"f_down\");\\n\\t\\telEvaluationProfitRate.addClass(sPointClass);\\n\\n\\t\\telEvaluationProfitRate.html(\"<em>\" + sSign + changeNumberFormat(evaluationProfitRate.toFixed(2)) + \"%</em>\");\\n\\t}\\n}\\n\\n\\nfunction refreshCompanyValue(json) {\\n\\tvar sPer = \"N/A\";\\n\\tvar sKrxPer = \"N/A\";\\n\\t/* if ((json.per !== undefined) && (json.per !== null)) {\\n\\t\\tsPer = converToFixedPointNotation(json.per, 2);\\n\\t}\\n\\n\\tjindo.$A(jindo.$$(\"#_per\")).forEach(function(v) {\\n\\t\\tjindo.$Element(v).text(sPer);\\n\\t}, this); */\\n\\n\\tif ((json.eps !== undefined) && (json.eps !== null)) {\\n\\t\\tsPer = converToFixedPointNotation(json.nv / json.eps, 2);\\n\\t}\\n\\n\\tjindo.$A(jindo.$$(\"#_per\")).forEach(function(v) {\\n\\t\\tjindo.$Element(v).text(sPer);\\n\\t}, this);\\n\\n\\tif ((json.keps !== undefined) && (json.keps !== null)) {\\n\\t\\tsKrxPer = converToFixedPointNotation(json.nv / json.keps, 2);\\n\\t}\\n\\n\\tjindo.$A(jindo.$$(\"#krx_per\")).forEach(function(v) {\\n\\t\\tjindo.$Element(v).text(sKrxPer);\\n\\t}, this);\\n\\n\\tvar sCnsPer = \"N/A\";\\n\\tif ((json.cnsEps !== undefined) && (json.cnsEps !== null)) {\\n\\t\\tsCnsPer = converToFixedPointNotation(json.nv / json.cnsEps, 2);\\n\\t}\\n\\n\\tjindo.$A(jindo.$$(\"#_cns_per\")).forEach(function(v) {\\n\\t\\tjindo.$Element(v).text(sCnsPer);\\n\\t}, this);\\n\\n\\tvar sPbr = \"N/A\";\\n\\tif ((json.bps !== undefined) && (json.bps !== null)) {\\n\\t\\tvar bps = converToFixedPointNotation(json.bps, 0)\\n\\t\\tsPbr = converToFixedPointNotation(json.nv / bps, 2);\\n\\t}\\n\\n\\tjindo.$A(jindo.$$(\"#_pbr\")).forEach(function(v) {\\n\\t\\tjindo.$Element(v).text(sPbr);\\n\\t}, this);\\n\\n\\tvar sDvr = \"N/A\";\\n\\tif ((json.dv !== undefined) && (json.dv !== null)) {\\n\\t\\tvar dv = converToFixedPointNotation(json.dv, 0)\\n\\t\\tsDvr = converToFixedPointNotation((dv * 100)/ json.nv, 2);\\n\\t}\\n\\n\\tjindo.$A(jindo.$$(\"#_dvr\")).forEach(function(v) {\\n\\t\\tjindo.$Element(v).text(sDvr);\\n\\t}, this);\\n}\\n\\nfunction refreshQuote(res) {\\n\\tif(res != null && res.resultCode == \\'success\\') {\\n\\t\\tpollingInterval = res.result.pollingInterval;\\n\\n\\t\\tfor (var index = 0 ; index < res.result.areas.length ; index++) {\\n\\t\\t\\tif (res.result.areas[index].name == \"SERVICE_ITEM\") {\\n\\t\\t\\t\\tvar ms = \"NOT DEFINED\";\\n\\t\\t\\t\\tms = res.result.areas[index].datas[0].ms;\\n\\t\\t\\t\\tdocument.getElementById(\"time\").innerHTML = displayTime(ms, res.result.time);\\n\\n\\t\\t\\t\\tjindo.$Element(jindo.$$.getSingle(\"#chart_area .rate_info\")).html(jindo.$Template(\"summaryTpl\").process(res.result.areas[index].datas[0]));\\n\\n\\t\\t\\t\\trefreshInvestmentSummary(res.result.areas[index].datas[0].nv);\\n\\t\\t\\t\\trefreshEtfNav(res.result.areas[index].datas[0].nav);\\n\\t\\t\\t\\trefreshCompanyValue(res.result.areas[index].datas[0]);\\n\\t\\t\\t} else if (res.result.areas[index].name == \"SERVICE_RECENT_ITEM\") {\\n\\t\\t\\t\\trenderRecentAreaRealtime(\"recent\", res.result.areas[index]);\\n\\t\\t\\t} else if (res.result.areas[index].name == \"SERVICE_MYSTOCK_ITEM\") {\\n\\t\\t\\t\\trenderRecentAreaRealtime(\"mystock\", res.result.areas[index]);\\n\\t\\t\\t}\\n\\t\\t}\\n\\t}\\n}\\n\\nfunction numberFont(value) {\\n\\tvalue = value + \"\";\\n\\tvar result = \"\";\\n\\n\\tfor (i = 0; i < value.length; i++) {\\n\\t\\tvar tmpChar = value.charAt(i);\\n\\n\\t\\tresult += \\'<span class=\"\\';\\n\\t\\tif (tmpChar == \".\") {\\n\\t\\t\\tresult += \"jum\";\\n\\t\\t} else if (tmpChar == \",\") {\\n\\t\\t\\tresult += \"shim\";\\n\\t\\t} else {\\n\\t\\t\\tresult += \"no\" + tmpChar;\\n\\t\\t}\\n\\t\\tresult += \\'\">\\' + tmpChar + \\'</span>\\';\\n\\t}\\n\\n\\treturn result;\\n}\\n\\nfunction changeNumberFormat(vNumber){\\n\\tvar sUnderNumber = \"\";\\n\\tvar sNumberString = vNumber || 0;\\n\\tsNumberString = (typeof sNumberString != \"String\") ? String(sNumberString) : sNumberString;\\n\\n\\tif(sNumberString.indexOf(\".\") > -1){\\n\\t\\tvar aNumber = sNumberString.split(\".\");\\n\\t\\tsNumberString = aNumber[0];\\n\\t\\tsUnderNumber = \".\" + aNumber[1];\\n\\t}\\n\\n\\treturn sNumberString.replace(/(\\\\d)(?=(\\\\d{3})+$)/igm, \"$1,\") + sUnderNumber;\\n}\\n\\nfunction converToFixedPointNotation (nNumber, nDecimalLength){\\n\\treturn parseFloat(nNumber).toFixed(nDecimalLength || 0);\\n}\\n\\n// 1분마다 정보 업데이트\\nvar updateInformationInterval = 60000;\\nvar informationTimer = null;\\nvar oUpdateAjax = null;\\n\\nvar startInformationTimer = function() {\\n\\tclearInformationTimer();\\n\\tinformationTimer = setInterval(\\'doUpdateInformation()\\', updateInformationInterval);\\n}\\n\\nvar clearInformationTimer = function() {\\n\\tif (oUpdateAjax) {\\n\\t\\toUpdateAjax.abort();\\n\\t\\toUpdateAjax = null;\\n\\t}\\n\\n\\tinformationTimer = window.clearInterval(informationTimer);\\n}\\n\\nvar doUpdateInformation = function() {\\n\\tvar sApiUrl = \"https://api.finance.naver.com/service/itemSummary.nhn?itemcode=005930\"\\n\\n\\toUpdateAjax = jindo.$Ajax(sApiUrl, {\\n\\t\\ttype : \\'jsonp\\',\\n\\t\\tjsonp_charset : \"utf-8\",\\n\\t\\tonload : function(response) {\\n\\t\\t\\tif(response != null && response.readyState() == 4) {\\n\\t\\t\\t\\tvar json = response.json();\\n\\n\\t\\t\\t\\tif (json.now == undefined) {\\n\\t\\t\\t\\t\\tstartInformationTimer();\\n\\t\\t\\t\\t\\treturn;\\n\\t\\t\\t\\t}\\n\\n\\t\\t\\t\\tvar sMarketSum = (json.marketSum + \"\");\\n\\t\\t\\t\\tsMarketSum = sMarketSum.substring(0, sMarketSum.length - 2);\\n\\t\\t\\t\\tsMarketSum = changeNumberFormat(sMarketSum);\\n\\n\\t\\t\\t\\tvar sPer = changeNumberFormat(json.per);\\n\\t\\t\\t\\tvar sEps = changeNumberFormat(json.eps);\\n\\t\\t\\t\\tvar sNowVal = changeNumberFormat(json.now);\\n\\t\\t\\t\\tvar sDiff = changeNumberFormat(json.diff);\\n\\t\\t\\t\\tvar sRate = changeNumberFormat(json.rate) + \"%\";\\n\\t\\t\\t\\tvar sQuant = changeNumberFormat(json.quant);\\n\\t\\t\\t\\tvar sAmount = changeNumberFormat(json.amount);\\n\\t\\t\\t\\tvar sHigh = changeNumberFormat(json.high);\\n\\t\\t\\t\\tvar sLow = changeNumberFormat(json.low);\\n\\n\\t\\t\\t\\tif (sRate == \"0%\") {\\n\\t\\t\\t\\t\\tsRate = \"0.00%\";\\n\\t\\t\\t\\t}\\n\\n\\t\\t\\t\\tif (json.per == undefined) {\\n\\t\\t\\t\\t\\tsPer = \"N/A\";\\n\\t\\t\\t\\t}\\n\\n\\t\\t\\t\\tif (json.eps == undefined) {\\n\\t\\t\\t\\t\\tsEps = \"N/A\";\\n\\t\\t\\t\\t}\\n\\n\\t\\t\\t\\tjindo.$A(jindo.$$(\"#_sise_market_sum\")).forEach(function(v) {\\n\\t\\t\\t\\t\\tjindo.$Element(v).text(sMarketSum);\\n\\t\\t\\t\\t}, this);\\n\\n\\t\\t\\t\\tjindo.$A(jindo.$$(\"#_sise_per\")).forEach(function(v) {\\n\\t\\t\\t\\t\\tjindo.$Element(v).text(sPer);\\n\\t\\t\\t\\t}, this);\\n\\n\\t\\t\\t\\tjindo.$A(jindo.$$(\"#_sise_eps\")).forEach(function(v) {\\n\\t\\t\\t\\t\\tjindo.$Element(v).text(sEps);\\n\\t\\t\\t\\t}, this);\\n\\n\\t\\t\\t\\tjindo.$A(jindo.$$(\"#_nowVal\")).forEach(function(v) {\\n\\t\\t\\t\\t\\tjindo.$Element(v).text(sNowVal);\\n\\t\\t\\t\\t}, this);\\n\\n\\t\\t\\t\\tjindo.$A(jindo.$$(\"#_diff\")).forEach(function(v) {\\n\\t\\t\\t\\t\\tvar sFormat = null;\\n\\t\\t\\t\\t\\tvar sDiffToDisplay = sDiff.replace(\"-\", \"\");\\n\\n\\t\\t\\t\\t\\tif (json.risefall == 1) {\\n\\t\\t\\t\\t\\t\\tsFormat = \"<em class=\\\\\"bu_p bu_pup2\\\\\" style=\\\\\"margin:0 4px 0 0\\\\\"><span class=\\\\\"blind\\\\\">상한</span></em><span class=\\\\\"tah p11 red01\\\\\">%s</span>\";\\n\\t\\t\\t\\t\\t} else if (json.risefall == 2) {\\n\\t\\t\\t\\t\\t\\tsFormat = \"<em class=\\\\\"bu_p bu_pup\\\\\" style=\\\\\"margin:0 4px 0 0\\\\\"><span class=\\\\\"blind\\\\\">상승</span></em><span class=\\\\\"tah p11 red01\\\\\">%s</span>\";\\n\\t\\t\\t\\t\\t} else if (json.risefall == 3) {\\n\\t\\t\\t\\t\\t\\tsFormat = \"<span class=\\\\\"tah p11\\\\\">%s</span>\";\\n\\t\\t\\t\\t\\t} else if (json.risefall == 4) {\\n\\t\\t\\t\\t\\t\\tsFormat = \"<em class=\\\\\"bu_p bu_pdn2\\\\\" style=\\\\\"margin:0 4px 0 0\\\\\"><span class=\\\\\"blind\\\\\">하한</span></em><span class=\\\\\"tah p11 nv01\\\\\">%s</span>\";\\n\\t\\t\\t\\t\\t} else {\\n\\t\\t\\t\\t\\t\\tsFormat = \"<em class=\\\\\"bu_p bu_pdn\\\\\" style=\\\\\"margin:0 4px 0 0\\\\\"><span class=\\\\\"blind\\\\\">하락</span></em><span class=\\\\\"tah p11 nv01\\\\\">%s</span>\";\\n\\t\\t\\t\\t\\t}\\n\\n\\t\\t\\t\\t\\tvar sHtml = jindo.$S(sFormat).format(sDiffToDisplay);\\n\\n\\t\\t\\t\\t\\tjindo.$Element(v).html(sHtml);\\n\\t\\t\\t\\t}, this);\\n\\n\\t\\t\\t\\tjindo.$A(jindo.$$(\"#_rate\")).forEach(function(v) {\\n\\t\\t\\t\\t\\tvar sCss = \"red01\";\\n\\t\\t\\t\\t\\tvar sRateToDisplay = sRate;\\n\\n\\t\\t\\t\\t\\tif (sRate.indexOf(\"-\") > -1) {\\n\\t\\t\\t\\t\\t\\tsCss = \"nv01\";\\n\\t\\t\\t\\t\\t} else if (sRate.indexOf(\"0.00\") > -1) {\\n\\t\\t\\t\\t\\t\\tsCss = \"\";\\n\\t\\t\\t\\t\\t} else {\\n\\t\\t\\t\\t\\t\\tsRateToDisplay = \"+\" + sRateToDisplay;\\n\\t\\t\\t\\t\\t}\\n\\n\\t\\t\\t\\t\\tvar sHtml = \"<span class=\\\\\"tah p11 \" + sCss + \"\\\\\">\" + sRateToDisplay + \"</span>\";\\n\\t\\t\\t\\t\\tjindo.$Element(v).html(sHtml);\\n\\t\\t\\t\\t}, this);\\n\\n\\t\\t\\t\\tjindo.$A(jindo.$$(\"#_quant\")).forEach(function(v) {\\n\\t\\t\\t\\t\\tjindo.$Element(v).text(sQuant);\\n\\t\\t\\t\\t}, this);\\n\\n\\t\\t\\t\\tjindo.$A(jindo.$$(\"#_amount\")).forEach(function(v) {\\n\\t\\t\\t\\t\\tjindo.$Element(v).text(sAmount);\\n\\t\\t\\t\\t}, this);\\n\\n\\t\\t\\t\\tjindo.$A(jindo.$$(\"#_high\")).forEach(function(v) {\\n\\t\\t\\t\\t\\tjindo.$Element(v).text(sHigh);\\n\\t\\t\\t\\t}, this);\\n\\n\\t\\t\\t\\tjindo.$A(jindo.$$(\"#_low\")).forEach(function(v) {\\n\\t\\t\\t\\t\\tjindo.$Element(v).text(sLow);\\n\\t\\t\\t\\t}, this);\\n\\n\\t\\t\\t\\tstartInformationTimer();\\n\\t\\t\\t}\\n\\t\\t},\\n\\t\\ttimeout : 2,\\n\\t\\tontimeout : function() {\\n\\t\\t\\tstartInformationTimer();\\n\\t\\t},\\n\\t\\tasync : true\\n\\t});\\n\\toUpdateAjax.request();\\n}\\n\\nvar dateTime = \"20210216161047\";\\nvar closeDate = dateTime.substring(0,4) + \".\" + dateTime.substring(4,6) + \".\" + dateTime.substring(6,8);\\n\\n\\n\\n/**\\n * 선택한 타입(1일, 일주일, 3개월, 1년, 3년, 5년 , 10년)에 따라 이미지 차트 변경\\n *\\n * @param chartType 차트종류(1일, 일주일, 3개월, 1년, 3년, 5년, 10년)\\n */\\n// 선 차트 노출\\nfunction showChart(target) {\\n    jindo.$A(jindo.$$(\"dl.line dd ul li\")).forEach(function(v) {\\n        if (jindo.$Element(v).className() == target) {\\n            jindo.$Element(v).child()[0].addClass(\"on\");\\n            jindo.$Element(jindo.$$.getSingle(\"#img_chart_area\")).attr(\"src\", \"https://ssl.pstatic.net/imgfinance/chart/item/area/\" + target + \"/005930.png?sidcode=1613465255359\");\\n        } else {\\n            jindo.$Element(v).child()[0].removeClass(\"on\");\\n        }\\n    });\\n\\n    jindo.$A(jindo.$$(\"dl.bar dd ul li\")).forEach(function(v) {\\n        jindo.$Element(v).child()[0].removeClass(\"on\");\\n    });\\n\\n}\\n\\n/**\\n * 선택한 타입(일봉, 주봉, 월봉)에 따라 이미지 차트 변경\\n *\\n * @param chartType 차트종류(일봉, 주봉, 월봉)\\n */\\n// 봉 차트 노출\\nfunction showBarChart(target) {\\n    jindo.$A(jindo.$$(\"dl.bar dd ul li\")).forEach(function(v) {\\n        if (jindo.$Element(v).className() == target) {\\n            jindo.$Element(v).child()[0].addClass(\"on\");\\n            jindo.$Element(jindo.$$.getSingle(\"#img_chart_area\")).attr(\"src\", \"https://ssl.pstatic.net/imgfinance/chart/item/candle/\" + target + \"/005930.png?sidcode=1613465255359\");\\n        } else {\\n            jindo.$Element(v).child()[0].removeClass(\"on\");\\n        }\\n    });\\n\\n    jindo.$A(jindo.$$(\"dl.line dd ul li\")).forEach(function(v) {\\n        jindo.$Element(v).child()[0].removeClass(\"on\");\\n    });\\n}\\n\\n/**\\n * 플래시 지원여부 확인\\n */\\nfunction isInstalledFlash() {\\n    var aFlash = jindo.$Agent().flash();\\n    var bResult = false;\\n\\n    if (aFlash != null && aFlash.installed) {\\n        bResult = true;\\n    }\\n\\n    return bResult;\\n}\\n\\n/**\\n * 플래시 지원여부에 따라 차트 노출\\n */\\nfunction initChartArea(flashAreaClassName, htmlAreaClassName) {\\n    var eFlashChartArea = jindo.$Element(jindo.$$.getSingle(\".\" + flashAreaClassName));\\n    var eImgChartArea = jindo.$Element(jindo.$$.getSingle(\".\" + htmlAreaClassName));\\n\\n    if (eFlashChartArea != null && eImgChartArea != null) {\\n        if (isInstalledFlash()) {\\n            eImgChartArea.hide();\\n        } else {\\n            eFlashChartArea.hide();\\n        }\\n    }\\n}\\n\\n</script>\\n<script type=\"text/javascript\">\\n<!--\\njindo.$Fn(function() {\\n\\tvar itemAddLayer = new MyFinance.MyStock.ItemAddLayer(jindo.$$.getSingle(\\'.ly_lstmove\\'), {\\n\\t\\t\\'LayerPosition\\': {\\n\\t\\t\\tsPosition : \"outside-bottom\",\\n\\t\\t\\tsAlign : \"left\",\\n\\t\\t\\tnTop : 4,\\n\\t\\t\\tnLeft : -96\\n\\t\\t}\\n\\t});\\n\\n\\tjindo.$Fn(function(e) {\\n\\t\\te.stopDefault();\\n\\t\\titemAddLayer.open([\\'005930\\'], e.element);\\n\\t}, this).attach(jindo.$$.getSingle(\\'.snb_top1\\'), \\'click\\');\\n\\n\\t\\n}, this).attach(document, \\'domready\\');\\n//-->\\n</script>\\n<script type=\"text/javascript\" src=\"https://ssl.pstatic.net/imgstock/static.pc/20210203183116/js/release/commonSummary.js\"></script>\\n\\t<!-- //종목 summary -->\\n\\t\\n\\t<!-- 공통메뉴 영역 -->\\n\\t\\n\\n\\n\\t\\n\\t\\n\\t\\t\\n\\t\\t\\t\\n\\t\\t\\t\\n\\t\\t\\t\\n\\t\\t\\t\\n\\t\\t\\t\\n\\t\\t\\t\\n\\t\\t\\t\\n\\t\\t\\t\\n\\t\\t\\t\\n\\t\\t\\t\\n\\t\\t\\t\\t\\t\\t\\t\\n\\t\\t\\t\\n\\t\\t\\t\\n\\t\\t\\t\\t\\n\\t\\t\\t\\n\\t\\t\\t\\n\\t\\t\\t\\n\\t\\t\\t\\n\\t\\t\\t\\n\\t\\t\\n\\t\\t\\n\\t\\t\\t\\n\\t\\t\\t\\n\\t\\t\\t\\n\\t\\t\\t\\t<ul class=\"tabs_submenu tab_total_submenu\"> \\n\\t\\t\\t\\t\\t<li class=\"\"><a href=\"/item/main.nhn?code=005930\" class=\"tab1\" onClick=\"clickcr(this,\\'sop.4\\',\\'\\',\\'\\',event);\"><span>종합정보</span></a></li> \\n\\t\\t\\t\\t\\t<li class=\"\"><a href=\"/item/sise.nhn?code=005930\" class=\"tab2\" onClick=\"clickcr(this,\\'sop.5\\',\\'\\',\\'\\',event);\"><span>시세</span></a></li> \\n\\t\\t\\t\\t\\t<li class=\"\"><a href=\"/item/fchart.nhn?code=005930\" class=\"tab3\" onClick=\"clickcr(this,\\'sop.6\\',\\'\\',\\'\\',event);\"><span>차트</span></a></li> \\n\\t\\t\\t\\t\\t<li class=\"\"><a href=\"/item/frgn.nhn?code=005930\" class=\"tab4\" onClick=\"clickcr(this,\\'sop.10\\',\\'\\',\\'\\',event);\"><span>투자자별 매매동향</span></a></li> \\n\\t\\t\\t\\t\\t<li class=\"\"><a href=\"/item/news.nhn?code=005930\" class=\"tab5\" onClick=\"clickcr(this,\\'sop.7\\',\\'\\',\\'\\',event);\"><span>뉴스&middot;공시</span></a></li> \\n\\t\\t\\t\\t\\t<li class=\"\"><a href=\"/item/coinfo.nhn?code=005930\" class=\"tab6\" onClick=\"clickcr(this,\\'sop.9\\',\\'\\',\\'\\',event);\"><span>종목분석</span></a></li> \\n\\t\\t\\t\\t\\t<li class=\"tab_on\"><a href=\"/item/board.nhn?code=005930\" class=\"tab7\" onClick=\"clickcr(this,\\'sop.11\\',\\'\\',\\'\\',event);\"><span>종목토론실</span></a></li> \\n\\t\\t\\t\\t\\t<li class=\"\"><a href=\"/item/dart.nhn?code=005930\" class=\"tab8\" onClick=\"clickcr(this,\\'sop.12\\',\\'\\',\\'\\',event);\"><span>전자공시</span></a></li>\\n\\t\\t\\t\\t\\t<li class=\"\"><a href=\"/item/short_trade.nhn?code=005930\" class=\"tab9\" onClick=\"clickcr(this,\\'sop.13\\',\\'\\',\\'\\',event);\"><span>공매도현황</span></a></li> \\n\\t\\t\\t\\t</ul>\\n\\t\\t\\t\\n\\t\\t\\n\\t\\n\\n\\t<!-- // 공통메뉴 영역 -->\\n\\t\\n\\t<!-- Sub Contents -->\\n\\t<div class=\"section inner_sub\">\\n\\t\\t<div class=\"titlearea2\">\\n\\t\\t\\t<h4><span class=\"red03\">종목</span>토론실</h4>\\n\\t\\t\\t<div>\\n\\t\\t\\t\\n\\t\\t\\t\\t<a href=\"https://finance.naver.com/notice.nhn?permLink=/read/1100001004/10000000000030670546\" class=\"caution notice\">\\n\\t\\t\\t\\t\\t<img src=\"https://ssl.pstatic.net/imgstock/images5/ico_notice2.gif\" alt=\"공지\" width=\"27\" height=\"14\">\\n\\t\\t\\t\\t\\t<span class=\"text\">종목 종합정보의 플래시차트를 html5차트로 변경 안내</span>\\n\\t\\t\\t\\t</a>\\n\\t\\t\\t\\n\\t\\t\\t<a href=\"/notice.nhn?permLink=/read/1100001004/10000000000020241916\" class=\"caution\"><img src=\"https://ssl.pstatic.net/static/nfinance/2020/03/25/icon_remark.png\" alt=\"안내\" width=\"15\" height=\"15\"> 토론실 활용 <span class=\"tip\">TIP</span>과 운영원칙 안내</a>\\n\\t\\t\\t\\n\\t\\t\\t\\t\\n\\t\\t\\t\\t<a href=\"/item/board_write_edit.nhn?code=005930&mode=write\"><img src=\"https://ssl.pstatic.net/imgstock/images5/btn_write.gif\" width=\"66\" height=\"23\" alt=\"글쓰기\"></a>\\n\\t\\t\\t\\n\\t\\t\\t</div> \\n\\t\\t</div>\\n\\t\\t<table summary=\"종목 토론실의 게시판 글 목록입니다.\"  cellspacing=\"0\" class=\"type2\">\\n\\t\\t<caption>종목 토론실 게시판</caption>\\n\\t\\t<colgroup>\\n\\t\\t\\t<col width=\"103\">\\n\\t\\t\\t<col width=\"*\">\\n\\t\\t\\t<col width=\"65\">\\n\\t\\t\\t<col width=\"34\">\\n\\t\\t\\t<col width=\"34\">\\n\\t\\t\\t<col width=\"54\">\\n\\t\\t</colgroup>\\n\\t\\t<tbody>\\n\\t\\t<tr>\\n\\t\\t<th>날짜</th>\\n\\t\\t<th>제목</th>\\n\\t\\t<th>글쓴이</th>\\n\\t\\t<th>조회</th>\\n\\t\\t<th>공감</th>\\n\\t\\t<th>비공감</th>\\n\\t\\t</tr>\\n\\t\\t<tr><td colspan=\"7\" height=\"8\"></td></tr>\\n\\n\\t\\t\\n\\t\\t\\t<tr onMouseOver=\"mouseOver(this)\" onMouseOut=\"mouseOut(this)\" align=\"center\">\\n\\t\\t\\t<td><span class=\"tah p10 gray03\">2021.02.16 17:47</span></td>\\n\\t\\t\\t<td class=\"title\">\\n\\t\\t\\t\\t\\n\\t\\t\\t\\t\\n\\t\\t\\t\\t<a href=\"/item/board_read.nhn?code=005930&nid=163877827&st=&sw=&page=1\" onclick=\"return singleSubmitCheck();\" title=\"46800에 매수한 120살 할머니입니다\">46800에 매수한 120살 할머니입니다\\n\\t\\t\\t\\t\\n\\t\\t\\t\\t<img src=\"https://ssl.pstatic.net/imgstock/images5/new.gif\" width=\"10\" height=\"10\"></a></td>\\n\\t\\t\\t<td class=\"p11\">\\n\\t\\t\\t\\taass****\\n\\t\\t\\t</td>\\n\\t\\t\\t<td><span class=\"tah p10 gray03\">5</span></td>\\n\\t\\t\\t\\n\\t\\t\\t\\n\\t\\t\\t\\n\\t\\t\\t\\n\\t\\t\\t<td><strong class=\"tah p10 gray03 \">0</strong></td>\\n\\t\\t\\t<td><strong class=\"tah p10 gray03 \">0</strong></td>\\n\\t\\t\\t</tr>\\n\\t\\t\\t\\n\\t\\t\\n\\t\\t\\t<tr onMouseOver=\"mouseOver(this)\" onMouseOut=\"mouseOut(this)\" align=\"center\">\\n\\t\\t\\t<td><span class=\"tah p10 gray03\">2021.02.16 17:46</span></td>\\n\\t\\t\\t<td class=\"title\">\\n\\t\\t\\t\\t\\n\\t\\t\\t\\t\\n\\t\\t\\t\\t<a href=\"/item/board_read.nhn?code=005930&nid=163877635&st=&sw=&page=1\" onclick=\"return singleSubmitCheck();\" title=\"오빠들 저 어떡해요 ㅜㅜ 인생 망했어요...\">오빠들 저 어떡해요 ㅜㅜ 인생 망했어요....\\n\\t\\t\\t\\t\\n\\t\\t\\t\\t<img src=\"https://ssl.pstatic.net/imgstock/images5/new.gif\" width=\"10\" height=\"10\"></a></td>\\n\\t\\t\\t<td class=\"p11\">\\n\\t\\t\\t\\trlfd****\\n\\t\\t\\t</td>\\n\\t\\t\\t<td><span class=\"tah p10 gray03\">40</span></td>\\n\\t\\t\\t\\n\\t\\t\\t\\n\\t\\t\\t\\n\\t\\t\\t\\n\\t\\t\\t<td><strong class=\"tah p10 gray03 \">0</strong></td>\\n\\t\\t\\t<td><strong class=\"tah p10 blue01\">1</strong></td>\\n\\t\\t\\t</tr>\\n\\t\\t\\t\\n\\t\\t\\n\\t\\t\\t<tr onMouseOver=\"mouseOver(this)\" onMouseOut=\"mouseOut(this)\" align=\"center\">\\n\\t\\t\\t<td><span class=\"tah p10 gray03\">2021.02.16 17:43</span></td>\\n\\t\\t\\t<td class=\"title\">\\n\\t\\t\\t\\t\\n\\t\\t\\t\\t\\n\\t\\t\\t\\t<a href=\"/item/board_read.nhn?code=005930&nid=163877296&st=&sw=&page=1\" onclick=\"return singleSubmitCheck();\" title=\"가장 드러운 장세다..위에서 계속 누른다...못 오른다\">가장 드러운 장세다..위에서 계속 누른다...\\n\\t\\t\\t\\t\\n\\t\\t\\t\\t<img src=\"https://ssl.pstatic.net/imgstock/images5/new.gif\" width=\"10\" height=\"10\"></a></td>\\n\\t\\t\\t<td class=\"p11\">\\n\\t\\t\\t\\tsaba****\\n\\t\\t\\t</td>\\n\\t\\t\\t<td><span class=\"tah p10 gray03\">46</span></td>\\n\\t\\t\\t\\n\\t\\t\\t\\n\\t\\t\\t\\n\\t\\t\\t\\n\\t\\t\\t<td><strong class=\"tah p10 red01\">2</strong></td>\\n\\t\\t\\t<td><strong class=\"tah p10 blue01\">1</strong></td>\\n\\t\\t\\t</tr>\\n\\t\\t\\t\\n\\t\\t\\n\\t\\t\\t<tr onMouseOver=\"mouseOver(this)\" onMouseOut=\"mouseOut(this)\" align=\"center\">\\n\\t\\t\\t<td><span class=\"tah p10 gray03\">2021.02.16 17:42</span></td>\\n\\t\\t\\t<td class=\"title\">\\n\\t\\t\\t\\t\\n\\t\\t\\t\\t\\n\\t\\t\\t\\t<a href=\"/item/board_read.nhn?code=005930&nid=163877075&st=&sw=&page=1\" onclick=\"return singleSubmitCheck();\" title=\"내일\">내일\\n\\t\\t\\t\\t\\n\\t\\t\\t\\t<img src=\"https://ssl.pstatic.net/imgstock/images5/new.gif\" width=\"10\" height=\"10\"></a></td>\\n\\t\\t\\t<td class=\"p11\">\\n\\t\\t\\t\\tdlcj****\\n\\t\\t\\t</td>\\n\\t\\t\\t<td><span class=\"tah p10 gray03\">56</span></td>\\n\\t\\t\\t\\n\\t\\t\\t\\n\\t\\t\\t\\n\\t\\t\\t\\n\\t\\t\\t<td><strong class=\"tah p10 red01\">1</strong></td>\\n\\t\\t\\t<td><strong class=\"tah p10 gray03 \">0</strong></td>\\n\\t\\t\\t</tr>\\n\\t\\t\\t\\n\\t\\t\\n\\t\\t\\t<tr onMouseOver=\"mouseOver(this)\" onMouseOut=\"mouseOut(this)\" align=\"center\">\\n\\t\\t\\t<td><span class=\"tah p10 gray03\">2021.02.16 17:42</span></td>\\n\\t\\t\\t<td class=\"title\">\\n\\t\\t\\t\\t\\n\\t\\t\\t\\t\\n\\t\\t\\t\\t<a href=\"/item/board_read.nhn?code=005930&nid=163877050&st=&sw=&page=1\" onclick=\"return singleSubmitCheck();\" title=\"96800에 물린 20대 초반 여대생입니다\">96800에 물린 20대 초반 여대생입니...\\n\\t\\t\\t\\t<span class=\"tah p9\" style=\"color:#639933\">[<b>4</b>]</span>\\n\\t\\t\\t\\t<img src=\"https://ssl.pstatic.net/imgstock/images5/new.gif\" width=\"10\" height=\"10\"></a></td>\\n\\t\\t\\t<td class=\"p11\">\\n\\t\\t\\t\\tcucu****\\n\\t\\t\\t</td>\\n\\t\\t\\t<td><span class=\"tah p10 gray03\">240</span></td>\\n\\t\\t\\t\\n\\t\\t\\t\\n\\t\\t\\t\\n\\t\\t\\t\\n\\t\\t\\t<td><strong class=\"tah p10 gray03 \">0</strong></td>\\n\\t\\t\\t<td><strong class=\"tah p10 blue01\">1</strong></td>\\n\\t\\t\\t</tr>\\n\\t\\t\\t\\n\\t\\t\\t\\t<tr>\\n\\t\\t\\t\\t<td colspan=\"7\" height=\"1\" bgcolor=\"#e1e1e1\"></td>\\n\\t\\t\\t\\t</tr>\\n\\t\\t\\t\\n\\t\\t\\n\\t\\t\\t<tr onMouseOver=\"mouseOver(this)\" onMouseOut=\"mouseOut(this)\" align=\"center\">\\n\\t\\t\\t<td><span class=\"tah p10 gray03\">2021.02.16 17:42</span></td>\\n\\t\\t\\t<td class=\"title\">\\n\\t\\t\\t\\t\\n\\t\\t\\t\\t\\n\\t\\t\\t\\t<a href=\"/item/board_read.nhn?code=005930&nid=163877013&st=&sw=&page=1\" onclick=\"return singleSubmitCheck();\" title=\"가긴 가겠다\">가긴 가겠다\\n\\t\\t\\t\\t\\n\\t\\t\\t\\t<img src=\"https://ssl.pstatic.net/imgstock/images5/new.gif\" width=\"10\" height=\"10\"></a></td>\\n\\t\\t\\t<td class=\"p11\">\\n\\t\\t\\t\\tycg8****\\n\\t\\t\\t</td>\\n\\t\\t\\t<td><span class=\"tah p10 gray03\">42</span></td>\\n\\t\\t\\t\\n\\t\\t\\t\\n\\t\\t\\t\\n\\t\\t\\t\\n\\t\\t\\t<td><strong class=\"tah p10 red01\">1</strong></td>\\n\\t\\t\\t<td><strong class=\"tah p10 gray03 \">0</strong></td>\\n\\t\\t\\t</tr>\\n\\t\\t\\t\\n\\t\\t\\n\\t\\t\\t<tr onMouseOver=\"mouseOver(this)\" onMouseOut=\"mouseOut(this)\" align=\"center\">\\n\\t\\t\\t<td><span class=\"tah p10 gray03\">2021.02.16 17:41</span></td>\\n\\t\\t\\t<td class=\"title\">\\n\\t\\t\\t\\t\\n\\t\\t\\t\\t\\n\\t\\t\\t\\t<a href=\"/item/board_read.nhn?code=005930&nid=163876857&st=&sw=&page=1\" onclick=\"return singleSubmitCheck();\" title=\"사면사면하는데\">사면사면하는데\\n\\t\\t\\t\\t\\n\\t\\t\\t\\t<img src=\"https://ssl.pstatic.net/imgstock/images5/new.gif\" width=\"10\" height=\"10\"></a></td>\\n\\t\\t\\t<td class=\"p11\">\\n\\t\\t\\t\\tskek****\\n\\t\\t\\t</td>\\n\\t\\t\\t<td><span class=\"tah p10 gray03\">41</span></td>\\n\\t\\t\\t\\n\\t\\t\\t\\n\\t\\t\\t\\n\\t\\t\\t\\n\\t\\t\\t<td><strong class=\"tah p10 red01\">1</strong></td>\\n\\t\\t\\t<td><strong class=\"tah p10 gray03 \">0</strong></td>\\n\\t\\t\\t</tr>\\n\\t\\t\\t\\n\\t\\t\\n\\t\\t\\t<tr onMouseOver=\"mouseOver(this)\" onMouseOut=\"mouseOut(this)\" align=\"center\">\\n\\t\\t\\t<td><span class=\"tah p10 gray03\">2021.02.16 17:41</span></td>\\n\\t\\t\\t<td class=\"title\">\\n\\t\\t\\t\\t\\n\\t\\t\\t\\t\\n\\t\\t\\t\\t<a href=\"/item/board_read.nhn?code=005930&nid=163876842&st=&sw=&page=1\" onclick=\"return singleSubmitCheck();\" title=\"한국투자증권 앱 나만 안??\">한국투자증권 앱 나만 안??\\n\\t\\t\\t\\t<span class=\"tah p9\" style=\"color:#639933\">[<b>1</b>]</span>\\n\\t\\t\\t\\t<img src=\"https://ssl.pstatic.net/imgstock/images5/new.gif\" width=\"10\" height=\"10\"></a></td>\\n\\t\\t\\t<td class=\"p11\">\\n\\t\\t\\t\\ttl12****\\n\\t\\t\\t</td>\\n\\t\\t\\t<td><span class=\"tah p10 gray03\">64</span></td>\\n\\t\\t\\t\\n\\t\\t\\t\\n\\t\\t\\t\\n\\t\\t\\t\\n\\t\\t\\t<td><strong class=\"tah p10 red01\">1</strong></td>\\n\\t\\t\\t<td><strong class=\"tah p10 gray03 \">0</strong></td>\\n\\t\\t\\t</tr>\\n\\t\\t\\t\\n\\t\\t\\n\\t\\t\\t<tr onMouseOver=\"mouseOver(this)\" onMouseOut=\"mouseOut(this)\" align=\"center\">\\n\\t\\t\\t<td><span class=\"tah p10 gray03\">2021.02.16 17:40</span></td>\\n\\t\\t\\t<td class=\"title\">\\n\\t\\t\\t\\t\\n\\t\\t\\t\\t\\n\\t\\t\\t\\t<a href=\"/item/board_read.nhn?code=005930&nid=163876811&st=&sw=&page=1\" onclick=\"return singleSubmitCheck();\" title=\"신임 인텔 CEO 입에 쏠린 눈…삼성전자, 파운드리...\">신임 인텔 CEO 입에 쏠린 눈&hellip;삼성전자...\\n\\t\\t\\t\\t\\n\\t\\t\\t\\t<img src=\"https://ssl.pstatic.net/imgstock/images5/new.gif\" width=\"10\" height=\"10\"></a></td>\\n\\t\\t\\t<td class=\"p11\">\\n\\t\\t\\t\\tkimg****\\n\\t\\t\\t</td>\\n\\t\\t\\t<td><span class=\"tah p10 gray03\">79</span></td>\\n\\t\\t\\t\\n\\t\\t\\t\\n\\t\\t\\t\\n\\t\\t\\t\\n\\t\\t\\t<td><strong class=\"tah p10 red01\">1</strong></td>\\n\\t\\t\\t<td><strong class=\"tah p10 gray03 \">0</strong></td>\\n\\t\\t\\t</tr>\\n\\t\\t\\t\\n\\t\\t\\n\\t\\t\\t<tr onMouseOver=\"mouseOver(this)\" onMouseOut=\"mouseOut(this)\" align=\"center\">\\n\\t\\t\\t<td><span class=\"tah p10 gray03\">2021.02.16 17:40</span></td>\\n\\t\\t\\t<td class=\"title\">\\n\\t\\t\\t\\t\\n\\t\\t\\t\\t\\n\\t\\t\\t\\t<a href=\"/item/board_read.nhn?code=005930&nid=163876712&st=&sw=&page=1\" onclick=\"return singleSubmitCheck();\" title=\"고금 세계 인류역사이래 가장 태평성대는 이룬 문가일당들\">고금 세계 인류역사이래 가장 태평성대는 ...\\n\\t\\t\\t\\t\\n\\t\\t\\t\\t<img src=\"https://ssl.pstatic.net/imgstock/images5/new.gif\" width=\"10\" height=\"10\"></a></td>\\n\\t\\t\\t<td class=\"p11\">\\n\\t\\t\\t\\ttrue****\\n\\t\\t\\t</td>\\n\\t\\t\\t<td><span class=\"tah p10 gray03\">41</span></td>\\n\\t\\t\\t\\n\\t\\t\\t\\n\\t\\t\\t\\n\\t\\t\\t\\n\\t\\t\\t<td><strong class=\"tah p10 gray03 \">0</strong></td>\\n\\t\\t\\t<td><strong class=\"tah p10 blue01\">3</strong></td>\\n\\t\\t\\t</tr>\\n\\t\\t\\t\\n\\t\\t\\t\\t<tr>\\n\\t\\t\\t\\t<td colspan=\"7\" height=\"1\" bgcolor=\"#e1e1e1\"></td>\\n\\t\\t\\t\\t</tr>\\n\\t\\t\\t\\n\\t\\t\\n\\t\\t\\t<tr onMouseOver=\"mouseOver(this)\" onMouseOut=\"mouseOut(this)\" align=\"center\">\\n\\t\\t\\t<td><span class=\"tah p10 gray03\">2021.02.16 17:39</span></td>\\n\\t\\t\\t<td class=\"title\">\\n\\t\\t\\t\\t\\n\\t\\t\\t\\t\\n\\t\\t\\t\\t<a href=\"/item/board_read.nhn?code=005930&nid=163876613&st=&sw=&page=1\" onclick=\"return singleSubmitCheck();\" title=\"주주총회\">주주총회\\n\\t\\t\\t\\t\\n\\t\\t\\t\\t<img src=\"https://ssl.pstatic.net/imgstock/images5/new.gif\" width=\"10\" height=\"10\"></a></td>\\n\\t\\t\\t<td class=\"p11\">\\n\\t\\t\\t\\tyy82****\\n\\t\\t\\t</td>\\n\\t\\t\\t<td><span class=\"tah p10 gray03\">64</span></td>\\n\\t\\t\\t\\n\\t\\t\\t\\n\\t\\t\\t\\n\\t\\t\\t\\n\\t\\t\\t<td><strong class=\"tah p10 red01\">2</strong></td>\\n\\t\\t\\t<td><strong class=\"tah p10 gray03 \">0</strong></td>\\n\\t\\t\\t</tr>\\n\\t\\t\\t\\n\\t\\t\\n\\t\\t\\t<tr onMouseOver=\"mouseOver(this)\" onMouseOut=\"mouseOut(this)\" align=\"center\">\\n\\t\\t\\t<td><span class=\"tah p10 gray03\">2021.02.16 17:38</span></td>\\n\\t\\t\\t<td class=\"title\">\\n\\t\\t\\t\\t\\n\\t\\t\\t\\t\\n\\t\\t\\t\\t<a href=\"/item/board_read.nhn?code=005930&nid=163876396&st=&sw=&page=1\" onclick=\"return singleSubmitCheck();\" title=\"to 겔싱어 ceo\">to 겔싱어 ceo\\n\\t\\t\\t\\t\\n\\t\\t\\t\\t<img src=\"https://ssl.pstatic.net/imgstock/images5/new.gif\" width=\"10\" height=\"10\"></a></td>\\n\\t\\t\\t<td class=\"p11\">\\n\\t\\t\\t\\tjust****\\n\\t\\t\\t</td>\\n\\t\\t\\t<td><span class=\"tah p10 gray03\">40</span></td>\\n\\t\\t\\t\\n\\t\\t\\t\\n\\t\\t\\t\\n\\t\\t\\t\\n\\t\\t\\t<td><strong class=\"tah p10 red01\">2</strong></td>\\n\\t\\t\\t<td><strong class=\"tah p10 gray03 \">0</strong></td>\\n\\t\\t\\t</tr>\\n\\t\\t\\t\\n\\t\\t\\n\\t\\t\\t<tr onMouseOver=\"mouseOver(this)\" onMouseOut=\"mouseOut(this)\" align=\"center\">\\n\\t\\t\\t<td><span class=\"tah p10 gray03\">2021.02.16 17:37</span></td>\\n\\t\\t\\t<td class=\"title\">\\n\\t\\t\\t\\t\\n\\t\\t\\t\\t\\n\\t\\t\\t\\t<a href=\"/item/board_read.nhn?code=005930&nid=163876269&st=&sw=&page=1\" onclick=\"return singleSubmitCheck();\" title=\"문가 일당들 세종대왕보다 세계적으로 정치 잘했다보이고\">문가 일당들 세종대왕보다 세계적으로 정치...\\n\\t\\t\\t\\t<span class=\"tah p9\" style=\"color:#639933\">[<b>1</b>]</span>\\n\\t\\t\\t\\t<img src=\"https://ssl.pstatic.net/imgstock/images5/new.gif\" width=\"10\" height=\"10\"></a></td>\\n\\t\\t\\t<td class=\"p11\">\\n\\t\\t\\t\\ttrue****\\n\\t\\t\\t</td>\\n\\t\\t\\t<td><span class=\"tah p10 gray03\">61</span></td>\\n\\t\\t\\t\\n\\t\\t\\t\\n\\t\\t\\t\\n\\t\\t\\t\\n\\t\\t\\t<td><strong class=\"tah p10 red01\">1</strong></td>\\n\\t\\t\\t<td><strong class=\"tah p10 blue01\">9</strong></td>\\n\\t\\t\\t</tr>\\n\\t\\t\\t\\n\\t\\t\\n\\t\\t\\t<tr onMouseOver=\"mouseOver(this)\" onMouseOut=\"mouseOut(this)\" align=\"center\">\\n\\t\\t\\t<td><span class=\"tah p10 gray03\">2021.02.16 17:46</span></td>\\n\\t\\t\\t<td class=\"title\">\\n\\t\\t\\t\\t\\n\\t\\t\\t\\t\\t\\n\\t\\t\\t\\t\\t<img src=\"https://ssl.pstatic.net/static/nfinance/2015/ico_arrow_reply.png\" style=\"margin: -3px -1px 0 0;\" width=\"11\" height=\"13\" alt=\"답글\">\\n\\t\\t\\t\\t\\n\\t\\t\\t\\t\\n\\t\\t\\t\\t<a href=\"/item/board_read.nhn?code=005930&nid=163877673&st=&sw=&page=1\" onclick=\"return singleSubmitCheck();\" title=\"문가 일당들 세종대왕보다 세계적으로 정치 잘했다보이고\">문가 일당들 세종대왕보다 세계적으로 정치...\\n\\t\\t\\t\\t\\n\\t\\t\\t\\t<img src=\"https://ssl.pstatic.net/imgstock/images5/new.gif\" width=\"10\" height=\"10\"></a></td>\\n\\t\\t\\t<td class=\"p11\">\\n\\t\\t\\t\\tkcty****\\n\\t\\t\\t</td>\\n\\t\\t\\t<td><span class=\"tah p10 gray03\">2</span></td>\\n\\t\\t\\t\\n\\t\\t\\t\\n\\t\\t\\t\\n\\t\\t\\t\\n\\t\\t\\t<td><strong class=\"tah p10 gray03 \">0</strong></td>\\n\\t\\t\\t<td><strong class=\"tah p10 gray03 \">0</strong></td>\\n\\t\\t\\t</tr>\\n\\t\\t\\t\\n\\t\\t\\n\\t\\t\\t<tr onMouseOver=\"mouseOver(this)\" onMouseOut=\"mouseOut(this)\" align=\"center\">\\n\\t\\t\\t<td><span class=\"tah p10 gray03\">2021.02.16 17:37</span></td>\\n\\t\\t\\t<td class=\"title\">\\n\\t\\t\\t\\t\\n\\t\\t\\t\\t\\n\\t\\t\\t\\t<a href=\"/item/board_read.nhn?code=005930&nid=163876234&st=&sw=&page=1\" onclick=\"return singleSubmitCheck();\" title=\"좀있으면 투자뉴스 줄줄 나온다\">좀있으면 투자뉴스 줄줄 나온다\\n\\t\\t\\t\\t\\n\\t\\t\\t\\t<img src=\"https://ssl.pstatic.net/imgstock/images5/new.gif\" width=\"10\" height=\"10\"></a></td>\\n\\t\\t\\t<td class=\"p11\">\\n\\t\\t\\t\\tbest****\\n\\t\\t\\t</td>\\n\\t\\t\\t<td><span class=\"tah p10 gray03\">80</span></td>\\n\\t\\t\\t\\n\\t\\t\\t\\n\\t\\t\\t\\n\\t\\t\\t\\n\\t\\t\\t<td><strong class=\"tah p10 red01\">3</strong></td>\\n\\t\\t\\t<td><strong class=\"tah p10 gray03 \">0</strong></td>\\n\\t\\t\\t</tr>\\n\\t\\t\\t\\n\\t\\t\\t\\t<tr>\\n\\t\\t\\t\\t<td colspan=\"7\" height=\"1\" bgcolor=\"#e1e1e1\"></td>\\n\\t\\t\\t\\t</tr>\\n\\t\\t\\t\\n\\t\\t\\n\\t\\t\\t<tr onMouseOver=\"mouseOver(this)\" onMouseOut=\"mouseOut(this)\" align=\"center\">\\n\\t\\t\\t<td><span class=\"tah p10 gray03\">2021.02.16 17:35</span></td>\\n\\t\\t\\t<td class=\"title\">\\n\\t\\t\\t\\t\\n\\t\\t\\t\\t\\n\\t\\t\\t\\t<a href=\"/item/board_read.nhn?code=005930&nid=163876014&st=&sw=&page=1\" onclick=\"return singleSubmitCheck();\" title=\"개관 졸라 얍밉게 판다. 옆에 있음 쥐어박고싶다.\">개관 졸라 얍밉게 판다. 옆에 있음 쥐어...\\n\\t\\t\\t\\t\\n\\t\\t\\t\\t<img src=\"https://ssl.pstatic.net/imgstock/images5/new.gif\" width=\"10\" height=\"10\"></a></td>\\n\\t\\t\\t<td class=\"p11\">\\n\\t\\t\\t\\tslan****\\n\\t\\t\\t</td>\\n\\t\\t\\t<td><span class=\"tah p10 gray03\">49</span></td>\\n\\t\\t\\t\\n\\t\\t\\t\\n\\t\\t\\t\\n\\t\\t\\t\\n\\t\\t\\t<td><strong class=\"tah p10 red01\">2</strong></td>\\n\\t\\t\\t<td><strong class=\"tah p10 gray03 \">0</strong></td>\\n\\t\\t\\t</tr>\\n\\t\\t\\t\\n\\t\\t\\n\\t\\t\\t<tr onMouseOver=\"mouseOver(this)\" onMouseOut=\"mouseOut(this)\" align=\"center\">\\n\\t\\t\\t<td><span class=\"tah p10 gray03\">2021.02.16 17:35</span></td>\\n\\t\\t\\t<td class=\"title\">\\n\\t\\t\\t\\t\\n\\t\\t\\t\\t\\n\\t\\t\\t\\t<a href=\"/item/board_read.nhn?code=005930&nid=163875947&st=&sw=&page=1\" onclick=\"return singleSubmitCheck();\" title=\"사면은 어느정도 호재일까요\">사면은 어느정도 호재일까요\\n\\t\\t\\t\\t<span class=\"tah p9\" style=\"color:#639933\">[<b>1</b>]</span>\\n\\t\\t\\t\\t<img src=\"https://ssl.pstatic.net/imgstock/images5/new.gif\" width=\"10\" height=\"10\"></a></td>\\n\\t\\t\\t<td class=\"p11\">\\n\\t\\t\\t\\tyess****\\n\\t\\t\\t</td>\\n\\t\\t\\t<td><span class=\"tah p10 gray03\">222</span></td>\\n\\t\\t\\t\\n\\t\\t\\t\\n\\t\\t\\t\\n\\t\\t\\t\\n\\t\\t\\t<td><strong class=\"tah p10 red01\">2</strong></td>\\n\\t\\t\\t<td><strong class=\"tah p10 gray03 \">0</strong></td>\\n\\t\\t\\t</tr>\\n\\t\\t\\t\\n\\t\\t\\n\\t\\t\\t<tr onMouseOver=\"mouseOver(this)\" onMouseOut=\"mouseOut(this)\" align=\"center\">\\n\\t\\t\\t<td><span class=\"tah p10 gray03\">2021.02.16 17:35</span></td>\\n\\t\\t\\t<td class=\"title\">\\n\\t\\t\\t\\t\\n\\t\\t\\t\\t\\n\\t\\t\\t\\t<a href=\"/item/board_read.nhn?code=005930&nid=163875936&st=&sw=&page=1\" onclick=\"return singleSubmitCheck();\" title=\"테슬라도 전 정권에서 운용한거라며? 연기금 니네들 뭐한게 있냐?\">테슬라도 전 정권에서 운용한거라며? 연기...\\n\\t\\t\\t\\t\\n\\t\\t\\t\\t<img src=\"https://ssl.pstatic.net/imgstock/images5/new.gif\" width=\"10\" height=\"10\"></a></td>\\n\\t\\t\\t<td class=\"p11\">\\n\\t\\t\\t\\tfdsj****\\n\\t\\t\\t</td>\\n\\t\\t\\t<td><span class=\"tah p10 gray03\">70</span></td>\\n\\t\\t\\t\\n\\t\\t\\t\\n\\t\\t\\t\\n\\t\\t\\t\\n\\t\\t\\t<td><strong class=\"tah p10 red01\">1</strong></td>\\n\\t\\t\\t<td><strong class=\"tah p10 gray03 \">0</strong></td>\\n\\t\\t\\t</tr>\\n\\t\\t\\t\\n\\t\\t\\n\\t\\t\\t<tr onMouseOver=\"mouseOver(this)\" onMouseOut=\"mouseOut(this)\" align=\"center\">\\n\\t\\t\\t<td><span class=\"tah p10 gray03\">2021.02.16 17:35</span></td>\\n\\t\\t\\t<td class=\"title\">\\n\\t\\t\\t\\t\\n\\t\\t\\t\\t\\n\\t\\t\\t\\t<a href=\"/item/board_read.nhn?code=005930&nid=163875905&st=&sw=&page=1\" onclick=\"return singleSubmitCheck();\" title=\"비트코인 5400만원\">비트코인 5400만원\\n\\t\\t\\t\\t\\n\\t\\t\\t\\t<img src=\"https://ssl.pstatic.net/imgstock/images5/new.gif\" width=\"10\" height=\"10\"></a></td>\\n\\t\\t\\t<td class=\"p11\">\\n\\t\\t\\t\\tcsh5****\\n\\t\\t\\t</td>\\n\\t\\t\\t<td><span class=\"tah p10 gray03\">83</span></td>\\n\\t\\t\\t\\n\\t\\t\\t\\n\\t\\t\\t\\n\\t\\t\\t\\n\\t\\t\\t<td><strong class=\"tah p10 red01\">1</strong></td>\\n\\t\\t\\t<td><strong class=\"tah p10 blue01\">4</strong></td>\\n\\t\\t\\t</tr>\\n\\t\\t\\t\\n\\t\\t\\n\\t\\t\\t<tr onMouseOver=\"mouseOver(this)\" onMouseOut=\"mouseOut(this)\" align=\"center\">\\n\\t\\t\\t<td><span class=\"tah p10 gray03\">2021.02.16 17:35</span></td>\\n\\t\\t\\t<td class=\"title\">\\n\\t\\t\\t\\t\\n\\t\\t\\t\\t\\n\\t\\t\\t\\t<a href=\"/item/board_read.nhn?code=005930&nid=163875896&st=&sw=&page=1\" onclick=\"return singleSubmitCheck();\" title=\"단타하면  돈먹냐\">단타하면  돈먹냐\\n\\t\\t\\t\\t<span class=\"tah p9\" style=\"color:#639933\">[<b>3</b>]</span>\\n\\t\\t\\t\\t<img src=\"https://ssl.pstatic.net/imgstock/images5/new.gif\" width=\"10\" height=\"10\"></a></td>\\n\\t\\t\\t<td class=\"p11\">\\n\\t\\t\\t\\tgmdq****\\n\\t\\t\\t</td>\\n\\t\\t\\t<td><span class=\"tah p10 gray03\">145</span></td>\\n\\t\\t\\t\\n\\t\\t\\t\\n\\t\\t\\t\\n\\t\\t\\t\\n\\t\\t\\t<td><strong class=\"tah p10 gray03 \">0</strong></td>\\n\\t\\t\\t<td><strong class=\"tah p10 blue01\">1</strong></td>\\n\\t\\t\\t</tr>\\n\\t\\t\\t\\n\\t\\t\\n\\t\\t<tr><td colspan=\"7\" height=\"5\"></td></tr>\\n\\t\\t</tbody>\\n\\t\\t</table>\\n\\t\\t<!--- 종목뉴스 끝--->\\n\\t\\t\\n\\t\\t<!--- 페이지 네비게이션 시작--->\\n\\t\\t<table summary=\"게시판 옵션\" cellpadding=\"0\" cellspacing=\"0\" width=\"680\">\\n\\t\\t<caption>게시판 옵션</caption>\\n\\t\\t<tbody>\\n\\t\\t<tr>\\n\\t\\t\\n\\t\\t\\n\\t\\t\\t\\n\\t\\t\\n\\t\\t<td align=\"left\" style=\"padding: 10px 0 0 0;\"><a href=\"javascript:login();\"><img src=\"https://ssl.pstatic.net/static/finance/img/mysee_btn.gif\" width=\"75\" height=\"23\" alt=\"내글보기\" /></a></td>\\n\\t\\t<td align=\"center\" width=\"100%\">\\n\\t\\t\\t<table summary=\"페이지 네비게이션 리스트\" class=\"Nnavi\">\\n\\t\\t\\t<caption>페이지 네비게이션</caption>\\n\\t\\t\\t<tbody>\\n\\t\\t\\t<tr>\\n\\t\\t\\t\\t\\n\\t\\t\\t\\t\\t\\n\\t                \\n\\t                <td class=\"on\">\\n\\t\\t\\t\\t<a href=\"/item/board.nhn?code=005930&amp;page=1\"  >1</a>\\n\\t\\t\\t\\t</td>\\n<td>\\n\\t\\t\\t\\t<a href=\"/item/board.nhn?code=005930&amp;page=2\"  >2</a>\\n\\t\\t\\t\\t</td>\\n<td>\\n\\t\\t\\t\\t<a href=\"/item/board.nhn?code=005930&amp;page=3\"  >3</a>\\n\\t\\t\\t\\t</td>\\n<td>\\n\\t\\t\\t\\t<a href=\"/item/board.nhn?code=005930&amp;page=4\"  >4</a>\\n\\t\\t\\t\\t</td>\\n<td>\\n\\t\\t\\t\\t<a href=\"/item/board.nhn?code=005930&amp;page=5\"  >5</a>\\n\\t\\t\\t\\t</td>\\n<td>\\n\\t\\t\\t\\t<a href=\"/item/board.nhn?code=005930&amp;page=6\"  >6</a>\\n\\t\\t\\t\\t</td>\\n<td>\\n\\t\\t\\t\\t<a href=\"/item/board.nhn?code=005930&amp;page=7\"  >7</a>\\n\\t\\t\\t\\t</td>\\n<td>\\n\\t\\t\\t\\t<a href=\"/item/board.nhn?code=005930&amp;page=8\"  >8</a>\\n\\t\\t\\t\\t</td>\\n<td>\\n\\t\\t\\t\\t<a href=\"/item/board.nhn?code=005930&amp;page=9\"  >9</a>\\n\\t\\t\\t\\t</td>\\n<td>\\n\\t\\t\\t\\t<a href=\"/item/board.nhn?code=005930&amp;page=10\"  >10</a>\\n\\t\\t\\t\\t</td>\\n\\n\\t                <td class=\"pgR\">\\n\\t\\t\\t\\t<a href=\"/item/board.nhn?code=005930&amp;page=11\"  >\\n\\t\\t\\t\\t다음<img src=\"https://ssl.pstatic.net/static/n/cmn/bu_pgarR.gif\" width=\"3\" height=\"5\" alt=\"\" border=\"0\">\\n\\t\\t\\t\\t</a>\\n\\t\\t\\t\\t</td>\\n\\n\\t                <td class=\"pgRR\">\\n\\t\\t\\t\\t<a href=\"/item/board.nhn?code=005930&amp;page=46913\"  >맨뒤\\n\\t\\t\\t\\t<img src=\"https://ssl.pstatic.net/static/n/cmn/bu_pgarRR.gif\" width=\"8\" height=\"5\" alt=\"\" border=\"0\">\\n\\t\\t\\t\\t</a>\\n\\t\\t\\t\\t</td>\\n\\n\\t            \\n\\t\\t\\t</tr>\\n\\t\\t\\t</tbody>\\n\\t\\t\\t</table>\\n\\t\\t</td>\\n\\t\\t<td align=\"right\" style=\"padding: 10px 0 0 0;\">\\n\\t\\t<a href=\"/item/board_write_edit.nhn?code=005930&mode=write\"><img src=\"https://ssl.pstatic.net/imgstock/images5/btn_write.gif\" width=\"66\" height=\"23\" alt=\"글쓰기\"></a>\\n\\t\\t</td>\\n\\t\\t</tbody>\\n\\t\\t</table>\\n\\t\\t<!--- 페이지 네비게이션 끝--->\\n\\t\\t\\n\\t\\t<table summary=\"글 검색\" width=\"100%\" cellpadding=\"0\" cellspacing=\"0\" style=\"margin-top: 16px;\">\\n\\t\\t<caption>글 검색</caption>\\n\\t\\t<tbody>\\n\\t\\t\\t<form name=\"boardSearchFrm\" action=\"board.nhn\" method=\"get\">\\n\\t\\t\\t<input type=\"hidden\" name=\"code\" value=\"005930\" />\\n\\t\\t\\t<tr>\\n\\t\\t\\t<td align=\"center\" height=\"19\">\\n\\t\\t\\t\\t\\n\\t\\t\\t\\t\\n\\t\\t\\t\\t<input type=\"radio\" id=\"b02\" name=\"st\" value=\"title\" checked>제목</input>\\n\\t\\t\\t\\t<input type=\"text\" name=\"sw\" value=\"\"/>\\n\\t\\t\\t\\t<a href=\"javascript:doSearch();\"><img src=\"https://ssl.pstatic.net/imgstock/images5/btn_search.gif\" alt=\"검색\" width=\"36\" height=\"19\" align=\"absmiddle\"></a>\\n\\t\\t\\t</td>\\n\\t\\t\\t</tr>\\n\\t\\t\\t</form>\\n\\t\\t</tbody>\\n\\t\\t</table>\\n\\n\\t\\t<table width=\"100%\" cellpadding=\"0\" cellspacing=\"0\" style=\"padding: 26px 0 0 15px;\">\\n\\t\\t<tbody>\\n\\t\\t<tr valign=\"top\">\\n\\t\\t<td class=\"gray03 p11\" style=\"line-height:18px;\">\\n\\t\\t<p class=\"board_notice\">\\n\\t\\t<span class=\"p12\">※</span> 금융 서비스 운영원칙에 맞지 않는 글은 운영자에 의해 삭제될 수 있습니다. <br>\\n\\t\\t<span class=\"p12\">※</span> 게시글 일 30건, 댓글 일 50건의 글을 등록할 수 있고, 게시자가 삭제하지 않는 이상 계속 보존됩니다.<br>\\n\\t\\t<span class=\"p12\">※</span> 허위사실 유포는 자본시장과 금융투자업에 관한 법률 제176조 2항에 해당하는 시세조종행위로써 10년 이하의 징역 또는 그 위반행위로 얻은 이익 또는 회피한 손실액의 1배 이상 3배 이하에 상당하는 벌금에 처할 수 있습니다.<br>\\n\\t\\t<span class=\"p12\">※</span> 불건전 게시물에 현혹되어 피해가 발생하지 않도록 주의해주세요. 불공정거래는 금융감독원과 한국거래소에 신고할 수 있습니다. <br>\\n\\t\\t<span style=\"margin-left: 12px;margin-right: 3px;\">-</span>웹툰으로 살펴보는 불공정게시물의 특징과 사례: <a href=\"https://inc.krx.co.kr/attach/moc/sta/webtoon_1.pdf\" target=\"_blank\">https://inc.krx.co.kr/attach/moc/sta/webtoon_1.pdf</a><br>\\n\\t\\t<span style=\"margin-left: 12px;margin-right: 3px;\">-</span>한국거래소 불공정거래 신고센터(Tel. 1577-3360): <a href=\"https://stockwatch.krx.co.kr/\" target=\"_blank\">https://stockwatch.krx.co.kr/</a><br>\\n\\t\\t<span style=\"margin-left: 12px;margin-right: 3px;\">-</span>금융감독원 증권불공정거래신고센터: <a href=\"https://www.fss.or.kr/fss/scop/main.jsp\" target=\"_blank\">https://www.fss.or.kr/fss/scop/main.jsp</a><br>\\n\\t\\t</tr>\\n\\t\\t</tbody>\\n\\t\\t</table>\\n\\t\\t</p>\\n\\t\\t\\n\\t\\t</div>\\n\\t</div>\\n\\t\\n\\t<div id=\"aside\">\\n\\t<div class=\"bg_line\"></div>\\n\\t<div class=\"aside_invest_info\">\\n\\t\\t<div id=\"tab_invest\" class=\"tab tab_invest1\">\\n\\t\\t\\t<a href=\"javascript:showArea(\\'tab_invest\\', \\'tab tab_invest1\\', \\'tab_con1\\', \\'tab_con2\\')\" onClick=\"clickcr(this, \\'sop.18\\', \\'\\', \\'2\\', event)\"><span>투자정보</span></a>\\n\\t\\t\\t<a href=\"javascript:showArea(\\'tab_invest\\', \\'tab tab_invest2\\', \\'tab_con2\\', \\'tab_con1\\')\" onClick=\"clickcr(this, \\'sop.20\\', \\'\\', \\'2\\', event)\"><span>호가10단계</span></a>\\n\\t\\t</div>\\n\\n\\t\\t\\n\\t\\t<div id=\"tab_con1\" class=\"tab_con1\" style=\"display:block\">\\n\\t\\t\\n\\t\\t\\t\\n\\t\\t\\t\\n\\t\\t\\t\\t\\n\\t\\t\\t\\t\\t\\n\\t\\t\\t\\t\\t\\n\\t\\t\\t\\t\\t\\t<h3 class=\"blind\">투자정보</h3>\\n\\t\\t\\t\\t\\t\\t<div class=\"first\">\\n\\t\\t\\t\\t\\t\\t<table summary=\"시가총액 정보\">\\n\\t\\t\\t\\t\\t\\t<caption>시가총액</caption>\\n\\t\\t\\t\\t\\t\\t\\n\\t\\t\\t\\t\\t\\t\\t\\n\\t\\t\\t\\t\\t\\t\\t\\t\\n\\t\\t\\t\\t\\t\\t\\t\\n\\t\\t\\t\\t\\t\\t\\t\\n\\t\\t\\t\\t\\t\\t\\n\\t\\t\\t\\t\\t\\t<tr class=\"strong\">\\n\\t\\t\\t\\t\\t\\t\\t<th scope=\"row\">시가총액</th>\\n\\t\\t\\t\\t\\t\\t\\t<td><em id=\"_market_sum\">\\n\\t\\t\\t\\t\\t\\t\\t\\t\\n\\t\\t\\t\\t\\t\\t\\t\\t\\n\\t\\t\\t\\t\\t\\t\\t\\t\\t\\n\\t\\t\\t\\t\\t\\t\\t\\t\\t\\n\\t\\t\\t\\t\\t\\t\\t\\t\\t\\t\\n\\t\\t\\t\\t\\t\\t\\t\\t\\t\\t\\n\\t\\t\\t\\t\\t\\t\\t\\t\\t\\t506조\\n\\t\\t\\t\\t\\t\\t\\t\\t\\t\\t\\n\\t\\t\\t\\t\\t\\t\\t\\t\\t\\t\\t8,345\\n\\t\\t\\t\\t\\t\\t\\t\\t\\t\\t\\n\\t\\t\\t\\t\\t\\t\\t\\t\\t\\n\\t\\t\\t\\t\\t\\t\\t\\t</em>억원</td>\\n\\t\\t\\t\\t\\t\\t</tr>\\n\\t\\t\\t\\t\\t\\t\\n\\t\\t\\t\\t\\t\\t\\t<tr><th scope=\"row\">\\n\\t\\t\\t\\t\\t\\t\\t\\t\\n\\t\\t\\t\\t\\t\\t\\t\\t\\t<a class=\"link_site\" href=\"/sise/sise_market_sum.nhn\" class=\"link_site\" onClick=\"clickcr(this, \\'sop.19\\', \\'\\', \\'1\\', event)\">시가총액순위</a>\\n\\t\\t\\t\\t\\t\\t\\t\\t\\t\\n\\t\\t\\t\\t\\t\\t\\t\\t\\n\\t\\t\\t\\t\\t\\t\\t</th><td>코스피 <em>1</em>위</td></tr>\\n\\t\\t\\t\\t\\t\\t\\n\\t\\t\\t\\t\\t\\t<tr>\\n\\t\\t\\t\\t\\t\\t\\t<th scope=\"row\">상장주식수</th>\\n\\t\\t\\t\\t\\t\\t\\t<td><em>5,969,782,550</em></td>\\n\\t\\t\\t\\t\\t\\t</tr>\\n\\t\\t\\t\\t\\t\\t\\n\\t\\t\\t\\t\\t\\t\\t<tr><th scope=\"row\">액면가<span class=\"bar\">l</span>매매단위</th>\\n\\t\\t\\t\\t\\t\\t\\t\\t<td>\\n\\t\\t\\t\\t\\t\\t\\t\\t\\t<em>100</em>원\\n\\t\\t\\t\\t\\t\\t\\t\\t\\t<span class=\"bar\">l</span>\\n\\t\\t\\t\\t\\t\\t\\t\\t\\t<em>1</em>주\\n\\t\\t\\t\\t\\t\\t\\t\\t</td>\\n\\t\\t\\t\\t\\t\\t\\t</tr>\\n\\t\\t\\t\\t\\t\\t\\n\\t\\t\\t\\t\\t\\t\\n\\t\\t\\t\\t\\t\\t</table>\\n\\t\\t\\t\\t\\t\\t</div>\\n\\n\\t\\t\\t\\t\\t\\t\\n\\t\\t\\t\\t\\t\\t\\t<div class=\"gray\">\\n\\t\\t\\t\\t\\t\\t\\t<table summary=\"외국인한도주식수 정보\" class=\"lwidth\">\\n\\t\\t\\t\\t\\t\\t\\t<caption>외국인한도주식수</caption>\\n\\t\\t\\t\\t\\t\\t\\t<tr>\\n\\t\\t\\t\\t\\t\\t\\t\\t<th scope=\"row\">외국인한도주식수(A)</th>\\n\\t\\t\\t\\t\\t\\t\\t\\t<td><em>5,969,782,550</em></td>\\n\\t\\t\\t\\t\\t\\t\\t</tr>\\n\\t\\t\\t\\t\\t\\t\\t<tr>\\n\\t\\t\\t\\t\\t\\t\\t\\t<th scope=\"row\">외국인보유주식수(B)</th>\\n\\t\\t\\t\\t\\t\\t\\t\\t<td><em>3,276,017,591</em></td>\\n\\t\\t\\t\\t\\t\\t\\t</tr>\\n\\t\\t\\t\\t\\t\\t\\t<tr class=\"strong\">\\n\\t\\t\\t\\t\\t\\t\\t\\t<th scope=\"row\"><strong>외국인소진율(B/A)</strong><a href=\"javascript:togglePannel(\\'helpPannel0\\');\" onMouseOver=\"showPannel(\\'helpPannel0\\');\" onMouseOut=\"hidePannel(\\'helpPannel0\\');\"><img src=\"https://ssl.pstatic.net/static/nfinance/2018/10/26/btn_help.png\" width=\"11\" height=\"11\" alt=\"외국인소진율(B/A) 상세설명\"></a>\\n\\t\\t\\t\\t\\t\\t\\t\\t\\t<div class=\"lyr_section\">\\n\\t\\t                                 <div id=\"helpPannel0\" class=\"tooltip_lyr\" style=\"display:none\">\\n\\t\\t                                     <p>외국인(한도)소진율이란 외국인보유주식수를 외국인한도주식수으로 나눈 값입니다.</p>\\n\\t\\t                                     <p>일반적인 경우에는 외국인한도주식수와 상장주식수가 같아서 외국인 소진율과 보유율이 동일하지만, 국가 기간산업의 경우 한도주식수가 정해져 있어 두 비율이 달라질 수 있습니다.(Ex. 한국전력)</p>\\n\\t\\t                                     <span class=\"arrow\"></span>\\n\\t\\t                                 </div>\\n\\t\\t                            </div>\\n\\t\\t\\t\\t\\t\\t\\t\\t</th>\\n\\t\\t\\t\\t\\t\\t\\t\\t<td><em>54.88%</em></td>\\n\\t\\t\\t\\t\\t\\t\\t</tr>\\n\\t\\t\\t\\t\\t\\t\\t</table>\\n\\t\\t\\t\\t\\t\\t\\t</div>\\n\\t\\t\\t\\t\\t\\t\\n\\n\\t\\t\\t\\t\\t\\t<div>\\n\\t\\t\\t\\t\\t\\t<table summary=\"투자의견 정보\" class=\"rwidth\">\\n\\t\\t\\t\\t\\t\\t\\n\\t\\t\\t\\t\\t\\t\\t<caption>투자의견</caption>\\n\\t\\t\\t\\t\\t\\t\\t<tr><th scope=\"row\" style=\"width:115px\">투자의견<span class=\"bar\">l</span>목표주가</th>\\n\\t\\t\\t\\t\\t\\t\\t<td style=\"width:115px\">\\n\\t\\t\\t\\t\\t\\t\\t\\n\\t\\t\\t\\t\\t\\t\\t\\t\\n\\t\\t\\t\\t\\t\\t\\t\\t\\n\\t\\t\\t\\t\\t\\t\\t\\t\\t<span class=\"f_up\"><em>3.96</em>매수</span>\\n\\t\\t\\t\\t\\t\\t\\t\\t\\n\\t\\t\\t\\t\\t\\t\\t\\t\\n\\t\\t\\t\\t\\t\\t\\t\\t\\n\\t\\t\\t\\t\\t\\t\\t\\t\\n\\t\\t\\t\\t\\t\\t\\t\\n\\t\\t\\t\\t\\t\\t\\t<span class=\"bar\">l</span>\\n\\t\\t\\t\\t\\t\\t\\t\\n\\t\\t\\t\\t\\t\\t\\t\\t\\n\\t\\t\\t\\t\\t\\t\\t\\t<em>104,542</em>\\n\\t\\t\\t\\t\\t\\t\\t\\n\\t\\t\\t\\t\\t\\t\\t</td></tr>\\n\\t\\t\\t\\t\\t\\t\\n\\t\\t\\t\\t\\t\\t<tr>\\n\\t\\t\\t\\t\\t\\t\\t<th scope=\"row\">52주최고<span class=\"bar\">l</span>최저\\n\\t\\t\\t\\t\\t\\t\\t\\t\\n\\t\\t\\t\\t\\t\\t\\t</th>\\n\\t\\t\\t\\t\\t\\t\\t\\n\\t\\t\\t\\t\\t\\t\\t\\t\\n\\t\\t\\t\\t\\t\\t\\t\\t\\n\\t\\t\\t\\t\\t\\t\\t\\t\\t<td>\\n\\t\\t\\t\\t\\t\\t\\t\\t\\t\\t<em>96,800</em>\\n\\t\\t\\t\\t\\t\\t\\t\\t\\t\\t<span class=\"bar\">l</span>\\n\\t\\t\\t\\t\\t\\t\\t\\t\\t\\t<em>42,300</em>\\n\\t\\t\\t\\t\\t\\t\\t\\t\\t</td>\\n\\t\\t\\t\\t\\t\\t\\t\\t\\n\\t\\t\\t\\t\\t\\t\\t\\n\\t\\t\\t\\t\\t\\t</tr>\\n\\t\\t\\t\\t\\t\\t</table>\\n\\t\\t\\t\\t\\t\\t</div>\\n\\n\\t\\t\\t\\t\\t\\t\\n\\t\\t\\t\\t\\t\\t\\t<div>\\n\\t\\t\\t\\t\\t\\t\\t<table summary=\"PER/EPS 정보\" class=\"per_table\">\\n\\t\\t\\t\\t\\t\\t\\t<caption>PER/EPS</caption>\\n\\t\\t                    <tbody>\\n\\t\\t                    <tr>\\n\\t \\t\\t\\t\\t\\t\\t\\t<th scope=\"row\">\\n\\t \\t\\t\\t\\t\\t\\t\\t\\tPER<span class=\"bar\">l</span>EPS<span class=\"date\">(2020.09)</span><a href=\"javascript:togglePannel(\\'helpPannel1\\');\" onMouseOver=\"showPannel(\\'helpPannel1\\');\" onMouseOut=\"hidePannel(\\'helpPannel1\\');\"><img src=\"https://ssl.pstatic.net/static/nfinance/2018/10/26/btn_help.png\" width=\"11\" height=\"11\" alt=\"추정PER EPS 상세설명\"></a>\\n\\t \\t\\t\\t\\t\\t\\t\\t\\t<div class=\"lyr_section\">\\n\\t \\t\\t\\t\\t\\t\\t\\t\\t\\t<div id=\"helpPannel1\" class=\"tooltip_lyr\" style=\"display:none\">\\n\\t \\t\\t\\t\\t\\t\\t\\t\\t\\t\\t<p>\\n\\t \\t\\t\\t\\t\\t\\t\\t\\t\\t\\t\\t<strong>PER = 현재가 ÷ EPS</strong>\\n\\t\\t\\t\\t\\t\\t\\t\\t\\t\\t\\t\\tEPS는 지배기업귀속 최근 4분기 합산 순이익을\\n\\t\\t\\t\\t\\t\\t\\t\\t\\t\\t\\t\\t수정평균발행주식수로 나눈 값이며, 보통주와\\n\\t\\t\\t\\t\\t\\t\\t\\t\\t\\t\\t\\t우선주를 합산해서 계산합니다.\\n\\t\\t\\t\\t\\t\\t\\t\\t\\t\\t\\t</p>\\n\\t\\t\\t\\t\\t\\t\\t\\t\\t\\t\\t<span class=\"arrow\"></span>\\n\\t \\t\\t\\t\\t\\t\\t\\t\\t\\t</div>\\n\\t \\t\\t\\t\\t\\t\\t\\t\\t</div>\\n\\t \\t\\t\\t\\t\\t\\t\\t</th>\\n\\t\\t\\t\\t\\t\\t\\t\\t<td>\\n\\t\\t\\t\\t\\t\\t\\t\\t\\t\\n\\t\\t\\t\\t\\t\\t\\t\\t\\t\\n\\t\\t\\t\\t\\t\\t\\t\\t\\t\\t\\n\\t\\t\\t\\t\\t\\t\\t\\t\\t\\t<em id=\"_per\">23.18</em>배\\n\\t\\t\\t\\t\\t\\t\\t\\t\\t\\n\\t\\t\\t\\t\\t\\t\\t\\t\\t<span class=\"bar\">l</span>\\n\\t\\t\\t\\t\\t\\t\\t\\t\\t\\n\\t\\t\\t\\t\\t\\t\\t\\t\\t\\t\\n\\t\\t\\t\\t\\t\\t\\t\\t\\t\\t<em id=\"_eps\">3,662</em>원\\n\\t\\t\\t\\t\\t\\t\\t\\t\\t\\n\\t \\t\\t\\t\\t\\t\\t\\t</td>\\n \\t\\t\\t\\t\\t\\t    </tr>\\n\\t\\t                    </tbody>\\n\\t\\t                    <tr>\\n\\t\\t                        <th scope=\"row\">추정PER<span class=\"bar\">l</span>EPS<a href=\"javascript:togglePannel(\\'helpPannel3\\');\" onMouseOver=\"showPannel(\\'helpPannel3\\');\" onMouseOut=\"hidePannel(\\'helpPannel3\\');\"><img src=\"https://ssl.pstatic.net/static/nfinance/2018/10/26/btn_help.png\" width=\"11\" height=\"11\" alt=\"추정PER EPS 상세설명\"></a>\\n \\t\\t\\t\\t\\t\\t\\t\\t<div class=\"lyr_section\">\\n\\t\\t\\t\\t\\t\\t\\t\\t\\t\\t<div id=\"helpPannel3\" class=\"tooltip_lyr tooltip_lyr2\" style=\"display:none\">\\n\\t\\t\\t\\t\\t\\t\\t\\t\\t\\t\\t<p>\\n\\t\\t\\t\\t\\t\\t\\t\\t\\t\\t\\t\\t<strong>추정PER = 현재가÷추정EPS</strong>\\n\\t\\t\\t\\t\\t\\t\\t\\t\\t\\t\\t\\t추정EPS는 올해 예상EPS에 대한 증권사 추정 평균값(컨센서스)으로 에프앤가이드에서 제공합니다. 추정 증권사가 3개 이상인 경우에만 제공합니다.\\n\\t\\t\\t\\t\\t\\t\\t\\t\\t\\t\\t</p>\\n\\t\\t\\t\\t\\t\\t\\t\\t\\t\\t\\t<span class=\"arrow\"></span>\\n\\t\\t\\t\\t\\t\\t\\t\\t\\t\\t</div>\\n\\t\\t\\t\\t\\t\\t\\t\\t\\t</div>\\n\\t\\t\\t\\t\\t\\t\\t\\t</th>\\n\\t\\t\\t\\t\\t\\t\\t\\t<td>\\n\\t\\t\\t\\t\\t\\t\\t\\t\\t\\n\\t\\t\\t\\t\\t\\t\\t\\t\\t\\t\\n\\t\\t\\t\\t\\t\\t\\t\\t\\t\\t<em id=\"_cns_per\">17.00</em>배\\n\\t\\t\\t\\t\\t\\t\\t\\t\\t\\n\\t\\t\\t\\t\\t\\t\\t\\t\\t<span class=\"bar\">l</span>\\n\\t\\t\\t\\t\\t\\t\\t\\t\\t\\n\\t\\t\\t\\t\\t\\t\\t\\t\\t\\t\\n\\t\\t\\t\\t\\t\\t\\t\\t\\t\\t<em id=\"_cns_eps\">5,073</em>원\\n\\t\\t\\t\\t\\t\\t\\t\\t\\t\\n\\t\\t\\t\\t\\t\\t\\t\\t</td>\\n\\t\\t\\t\\t\\t\\t\\t</tr>\\n\\t\\t\\t\\t\\t\\t\\t<tr>\\n\\t\\t\\t\\t\\t\\t\\t\\t<th scope=\"row\">PBR<span class=\"bar\">l</span>BPS <span class=\"date\">(2020.09)</span><a href=\"javascript:togglePannel(\\'helpPannel4\\');\" onMouseOver=\"showPannel(\\'helpPannel4\\');\" onMouseOut=\"hidePannel(\\'helpPannel4\\');\"><img src=\"https://ssl.pstatic.net/static/nfinance/2018/10/26/btn_help.png\" width=\"11\" height=\"11\" alt=\"PBR | BPS 상세설명\"></a>\\n\\t\\t\\t\\t\\t\\t\\t\\t\\t<div class=\"lyr_section\">\\n\\t\\t\\t\\t\\t\\t\\t\\t\\t\\t<div id=\"helpPannel4\" class=\"tooltip_lyr tooltip_lyr3\" style=\"display:none\">\\n\\t\\t\\t\\t\\t\\t\\t\\t\\t\\t\\t<p>\\n\\t\\t\\t\\t\\t\\t\\t\\t\\t\\t\\t\\t<strong>PBR= 현재가 ÷ BPS</strong>\\n\\t\\t\\t\\t\\t\\t\\t\\t\\t\\t\\t\\tBPS는 최근 분기 자본총계를 수정기말유통주식수로\\n\\t\\t\\t\\t\\t\\t\\t\\t\\t\\t\\t\\t나눈 값이며, 보통주와 우선주를 합산해서 계산합니다.\\n\\t\\t\\t\\t\\t\\t\\t\\t\\t\\t\\t</p>\\n\\t\\t\\t\\t\\t\\t\\t\\t\\t\\t\\t<span class=\"arrow\"></span>\\n\\t\\t\\t\\t\\t\\t\\t\\t\\t\\t</div>\\n\\t\\t\\t\\t\\t\\t\\t\\t\\t</div>\\n\\t\\t\\t\\t\\t\\t\\t\\t</th>\\n\\t\\t\\t\\t\\t\\t\\t\\t<td>\\n\\t\\t\\t\\t\\t\\t\\t\\t\\t\\n\\t\\t\\t\\t\\t\\t\\t\\t\\t\\t\\n\\t\\t\\t\\t\\t\\t\\t\\t\\t\\t<em id=\"_pbr\">∞</em>배\\n\\t\\t\\t\\t\\t\\t\\t\\t\\t\\n\\t\\t\\t\\t\\t\\t\\t\\t\\t<span class=\"bar\">l</span>\\n\\t\\t\\t\\t\\t\\t\\t\\t\\t\\n\\t\\t\\t\\t\\t\\t\\t\\t\\t\\t\\n\\t\\t\\t\\t\\t\\t\\t\\t\\t\\t<em>39,446</em>원\\n\\t\\t\\t\\t\\t\\t\\t\\t\\t\\n\\t\\t\\t\\t\\t\\t\\t\\t</td>\\n\\t\\t\\t\\t\\t\\t\\t</tr>\\n\\t\\t\\t\\t\\t\\t\\t<tr>\\n\\t\\t\\t\\t\\t\\t\\t\\t\\n\\t\\t\\t\\t\\t\\t\\t\\t\\n\\t\\t\\t\\t\\t\\t\\t\\t\\n\\t\\t\\t\\t\\t\\t\\t\\t\\n\\t\\t\\t\\t\\t\\t\\t\\t<th scope=\"row\">배당수익률<span class=\"bar\">l</span><span>2020.12</span><a href=\"javascript:togglePannel(\\'helpPannel5\\');\" onMouseOver=\"showPannel(\\'helpPannel5\\');\" onMouseOut=\"hidePannel(\\'helpPannel5\\');\"><img src=\"https://ssl.pstatic.net/static/nfinance/2018/10/26/btn_help.png\" width=\"11\" height=\"11\" alt=\"배당수익률 상세설명\"></a>\\n\\t\\t\\t\\t\\t\\t\\t\\t\\t<div class=\"lyr_section\">\\n\\t\\t\\t\\t\\t\\t\\t\\t\\t\\t<div id=\"helpPannel5\" class=\"tooltip_lyr dividend_layer\"  style=\"display:none\">\\n\\t\\t\\t\\t\\t\\t\\t\\t\\t\\t\\t<strong>배당수익률 = (배당금 / 현재가) x 100</strong>\\n\\t\\t\\t\\t\\t\\t\\t\\t\\t\\t\\t<p>배당금은 최근 결산연도 기준의 중간배당을 포함한 총 배당금입니다.</p>\\n\\t\\t\\t\\t\\t\\t\\t\\t\\t\\t\\t<span class=\"arrow\"></span>\\n\\t\\t\\t\\t\\t\\t\\t\\t\\t\\t</div>\\n\\t\\t\\t\\t\\t\\t\\t\\t\\t</div>\\n\\t\\t\\t\\t\\t\\t\\t\\t</th>\\n\\t\\t\\t\\t\\t\\t\\t\\t<td>\\n\\t\\t\\t\\t\\t\\t\\t\\t\\t\\n\\t\\t\\t\\t\\t\\t\\t\\t\\t\\t\\n\\t\\t\\t\\t\\t\\t\\t\\t\\t\\t<em id=\"_dvr\">3.53</em>%\\n\\t\\t\\t\\t\\t\\t\\t\\t\\t\\n\\t\\t\\t\\t\\t\\t\\t\\t</td>\\n\\t\\t\\t\\t\\t\\t\\t</tr>\\n\\t\\t\\t\\t\\t\\t\\t</table>\\n\\t\\t\\t\\t\\t\\t\\t</div>\\n\\t\\t\\t\\t\\t\\t\\t<div class=\"gray\">\\n\\t\\t\\t\\t\\t\\t\\t<table summary=\"동일업종 PER 정보\">\\n\\t\\t\\t\\t\\t\\t\\t<caption>동일업종 PER</caption>\\n\\t\\t\\t\\t\\t\\t\\t<tr class=\"strong\">\\n\\t\\t\\t\\t\\t\\t\\t\\t<th scope=\"row\"><a class=\"link_site\" href=\"/sise/sise_group_detail.nhn?type=upjong&no=202\" class=\"link_site\" onClick=\"clickcr(this, \\'sop.19\\', \\'\\', \\'2\\', event)\">동일업종 PER</a></th>\\n\\t\\t\\t\\t\\t\\t\\t\\t<td>\\n\\t\\t\\t\\t\\t\\t\\t\\t\\t\\n\\t\\t\\t\\t\\t\\t\\t\\t\\t\\t\\n\\t\\t\\t\\t\\t\\t\\t\\t\\t\\t<em>21.26</em>배\\n\\t\\t\\t\\t\\t\\t\\t\\t\\t\\n\\t\\t\\t\\t\\t\\t\\t\\t</td>\\n\\t\\t\\t\\t\\t\\t\\t</tr>\\n\\t\\t\\t\\t\\t\\t\\t<tr>\\n\\t\\t\\t\\t\\t\\t\\t\\t<th scope=\"row\"><a class=\"link_site\" href=\"/sise/sise_group_detail.nhn?type=upjong&no=202\" class=\"link_site\" onClick=\"clickcr(this, \\'sop.19\\', \\'\\', \\'3\\', event)\">동일업종 등락률</a></th>\\n\\t\\t\\t\\t\\t\\t\\t\\t\\n\\t\\t\\t\\t\\t\\t\\t\\t\\t\\n\\t\\t\\t\\t\\t\\t\\t\\t\\t\\n\\t\\t\\t\\t<td class=\"f_up\"><em>\\n\\t\\t\\t\\t+0.80%\\n\\t\\t\\t\\t</em></td>\\n\\t\\t\\t\\n\\t\\t\\t\\t\\t\\t\\t\\t\\n\\t\\t\\t\\t\\t\\t\\t</tr>\\n\\t\\t\\t\\t\\t\\t\\t</table>\\n\\t\\t\\t\\t\\t\\t\\t</div>\\n\\t\\t\\t\\t\\t\\t\\n\\t\\t\\t\\t\\t\\n\\t\\t\\t\\t\\n\\t\\t\\t\\n\\t\\t\\n\\t\\t</div>\\n\\n\\t\\t\\n\\t\\t<div id=\"tab_con2\" class=\"tab_con2\" style=\"display:none\">\\n\\t\\t\\t<h3 class=\"blind\">호가 10단계</h3>\\n\\t\\t\\t<table summary=\"호가10단계 정보\">\\n\\t\\t\\t<caption>호가 10단계</caption>\\n\\t\\t\\t<tr>\\n\\t\\t\\t\\t<th scope=\"col\">매도잔량</th>\\n\\t\\t\\t\\t<th scope=\"col\">호가<span class=\"txt_color\">(20분지연)</span></th>\\n\\t\\t\\t\\t<th scope=\"col\" class=\"th_r\">매수잔량</th>\\n\\t\\t\\t</tr>\\n\\t\\t\\t<tr><td colspan=\"3\" class=\"space\"></td></tr>\\n\\t\\t\\t\\n\\t\\t\\t\\t<tr class=\"f_down\">\\n\\t\\t\\t\\t<td>\\n\\t\\t\\t\\t\\n\\t\\t\\t\\t\\t\\n\\t\\t\\t\\t\\t288,755\\n\\t\\t\\t\\t\\n\\t\\t\\t\\t</td>\\n\\t\\t\\t\\t<td>\\n\\t\\t\\t\\t\\n\\t\\t\\t\\t\\t\\n\\t\\t\\t\\t\\t85,900\\n\\t\\t\\t\\t\\n\\t\\t\\t\\t</td>\\n\\t\\t\\t\\t<td class=\"td_r\"></td>\\n\\t\\t\\t\\t</tr>\\n\\t\\t\\t\\n\\t\\t\\t\\t<tr class=\"f_down\">\\n\\t\\t\\t\\t<td>\\n\\t\\t\\t\\t\\n\\t\\t\\t\\t\\t\\n\\t\\t\\t\\t\\t166,599\\n\\t\\t\\t\\t\\n\\t\\t\\t\\t</td>\\n\\t\\t\\t\\t<td>\\n\\t\\t\\t\\t\\n\\t\\t\\t\\t\\t\\n\\t\\t\\t\\t\\t85,800\\n\\t\\t\\t\\t\\n\\t\\t\\t\\t</td>\\n\\t\\t\\t\\t<td class=\"td_r\"></td>\\n\\t\\t\\t\\t</tr>\\n\\t\\t\\t\\n\\t\\t\\t\\t<tr class=\"f_down\">\\n\\t\\t\\t\\t<td>\\n\\t\\t\\t\\t\\n\\t\\t\\t\\t\\t\\n\\t\\t\\t\\t\\t84,793\\n\\t\\t\\t\\t\\n\\t\\t\\t\\t</td>\\n\\t\\t\\t\\t<td>\\n\\t\\t\\t\\t\\n\\t\\t\\t\\t\\t\\n\\t\\t\\t\\t\\t85,700\\n\\t\\t\\t\\t\\n\\t\\t\\t\\t</td>\\n\\t\\t\\t\\t<td class=\"td_r\"></td>\\n\\t\\t\\t\\t</tr>\\n\\t\\t\\t\\n\\t\\t\\t\\t<tr class=\"f_down\">\\n\\t\\t\\t\\t<td>\\n\\t\\t\\t\\t\\n\\t\\t\\t\\t\\t\\n\\t\\t\\t\\t\\t68,290\\n\\t\\t\\t\\t\\n\\t\\t\\t\\t</td>\\n\\t\\t\\t\\t<td>\\n\\t\\t\\t\\t\\n\\t\\t\\t\\t\\t\\n\\t\\t\\t\\t\\t85,600\\n\\t\\t\\t\\t\\n\\t\\t\\t\\t</td>\\n\\t\\t\\t\\t<td class=\"td_r\"></td>\\n\\t\\t\\t\\t</tr>\\n\\t\\t\\t\\n\\t\\t\\t\\t<tr class=\"f_down\">\\n\\t\\t\\t\\t<td>\\n\\t\\t\\t\\t\\n\\t\\t\\t\\t\\t\\n\\t\\t\\t\\t\\t213,948\\n\\t\\t\\t\\t\\n\\t\\t\\t\\t</td>\\n\\t\\t\\t\\t<td>\\n\\t\\t\\t\\t\\n\\t\\t\\t\\t\\t\\n\\t\\t\\t\\t\\t85,500\\n\\t\\t\\t\\t\\n\\t\\t\\t\\t</td>\\n\\t\\t\\t\\t<td class=\"td_r\"></td>\\n\\t\\t\\t\\t</tr>\\n\\t\\t\\t\\n\\t\\t\\t\\t<tr class=\"f_down\">\\n\\t\\t\\t\\t<td>\\n\\t\\t\\t\\t\\n\\t\\t\\t\\t\\t\\n\\t\\t\\t\\t\\t134,086\\n\\t\\t\\t\\t\\n\\t\\t\\t\\t</td>\\n\\t\\t\\t\\t<td>\\n\\t\\t\\t\\t\\n\\t\\t\\t\\t\\t\\n\\t\\t\\t\\t\\t85,400\\n\\t\\t\\t\\t\\n\\t\\t\\t\\t</td>\\n\\t\\t\\t\\t<td class=\"td_r\"></td>\\n\\t\\t\\t\\t</tr>\\n\\t\\t\\t\\n\\t\\t\\t\\t<tr class=\"f_down\">\\n\\t\\t\\t\\t<td>\\n\\t\\t\\t\\t\\n\\t\\t\\t\\t\\t\\n\\t\\t\\t\\t\\t151,262\\n\\t\\t\\t\\t\\n\\t\\t\\t\\t</td>\\n\\t\\t\\t\\t<td>\\n\\t\\t\\t\\t\\n\\t\\t\\t\\t\\t\\n\\t\\t\\t\\t\\t85,300\\n\\t\\t\\t\\t\\n\\t\\t\\t\\t</td>\\n\\t\\t\\t\\t<td class=\"td_r\"></td>\\n\\t\\t\\t\\t</tr>\\n\\t\\t\\t\\n\\t\\t\\t\\t<tr class=\"f_down\">\\n\\t\\t\\t\\t<td>\\n\\t\\t\\t\\t\\n\\t\\t\\t\\t\\t\\n\\t\\t\\t\\t\\t194,020\\n\\t\\t\\t\\t\\n\\t\\t\\t\\t</td>\\n\\t\\t\\t\\t<td>\\n\\t\\t\\t\\t\\n\\t\\t\\t\\t\\t\\n\\t\\t\\t\\t\\t85,200\\n\\t\\t\\t\\t\\n\\t\\t\\t\\t</td>\\n\\t\\t\\t\\t<td class=\"td_r\"></td>\\n\\t\\t\\t\\t</tr>\\n\\t\\t\\t\\n\\t\\t\\t\\t<tr class=\"f_down\">\\n\\t\\t\\t\\t<td>\\n\\t\\t\\t\\t\\n\\t\\t\\t\\t\\t\\n\\t\\t\\t\\t\\t144,922\\n\\t\\t\\t\\t\\n\\t\\t\\t\\t</td>\\n\\t\\t\\t\\t<td>\\n\\t\\t\\t\\t\\n\\t\\t\\t\\t\\t\\n\\t\\t\\t\\t\\t85,100\\n\\t\\t\\t\\t\\n\\t\\t\\t\\t</td>\\n\\t\\t\\t\\t<td class=\"td_r\"></td>\\n\\t\\t\\t\\t</tr>\\n\\t\\t\\t\\n\\t\\t\\t<tr class=\"f_down strong\">\\n\\t\\t\\t\\t<td>\\n\\t\\t\\t\\t\\n\\t\\t\\t\\t\\t\\n\\t\\t\\t\\t\\t123,753\\n\\t\\t\\t\\t\\n\\t\\t\\t\\t</td>\\n\\t\\t\\t\\t<td>\\n\\t\\t\\t\\t\\n\\t\\t\\t\\t\\t\\n\\t\\t\\t\\t\\t85,000\\n\\t\\t\\t\\t\\n\\t\\t\\t\\t</td>\\n\\t\\t\\t\\t<td class=\"td_r\"></td>\\n\\t\\t\\t</tr>\\n\\t\\t\\t<tr><td colspan=\"3\" class=\"line_dot\"></td></tr>\\n\\t\\t\\t<tr class=\"f_up strong\">\\n\\t\\t\\t\\t<td></td>\\n\\t\\t\\t\\t<td>\\n\\t\\t\\t\\t\\n\\t\\t\\t\\t\\t\\n\\t\\t\\t\\t\\t84,900\\n\\t\\t\\t\\t\\n\\t\\t\\t\\t</td>\\n\\t\\t\\t\\t<td class=\"td_r\">\\n\\t\\t\\t\\t\\n\\t\\t\\t\\t\\t\\n\\t\\t\\t\\t\\t27,279\\n\\t\\t\\t\\t\\n\\t\\t\\t\\t</td>\\n\\t\\t\\t</tr>\\n\\t\\t\\t\\n\\t\\t\\t\\t<tr class=\"f_up\">\\n\\t\\t\\t\\t<td></td>\\n\\t\\t\\t\\t<td>\\n\\t\\t\\t\\t\\n\\t\\t\\t\\t\\t\\n\\t\\t\\t\\t\\t84,800\\n\\t\\t\\t\\t\\n\\t\\t\\t\\t</td>\\n\\t\\t\\t\\t<td class=\"td_r\">\\n\\t\\t\\t\\t\\n\\t\\t\\t\\t\\t\\n\\t\\t\\t\\t\\t23,674\\n\\t\\t\\t\\t\\n\\t\\t\\t\\t</td>\\n\\t\\t\\t\\t</tr>\\n\\t\\t\\t\\n\\t\\t\\t\\t<tr class=\"f_up\">\\n\\t\\t\\t\\t<td></td>\\n\\t\\t\\t\\t<td>\\n\\t\\t\\t\\t\\n\\t\\t\\t\\t\\t\\n\\t\\t\\t\\t\\t84,700\\n\\t\\t\\t\\t\\n\\t\\t\\t\\t</td>\\n\\t\\t\\t\\t<td class=\"td_r\">\\n\\t\\t\\t\\t\\n\\t\\t\\t\\t\\t\\n\\t\\t\\t\\t\\t89,962\\n\\t\\t\\t\\t\\n\\t\\t\\t\\t</td>\\n\\t\\t\\t\\t</tr>\\n\\t\\t\\t\\n\\t\\t\\t\\t<tr class=\"f_up\">\\n\\t\\t\\t\\t<td></td>\\n\\t\\t\\t\\t<td>\\n\\t\\t\\t\\t\\n\\t\\t\\t\\t\\t\\n\\t\\t\\t\\t\\t84,600\\n\\t\\t\\t\\t\\n\\t\\t\\t\\t</td>\\n\\t\\t\\t\\t<td class=\"td_r\">\\n\\t\\t\\t\\t\\n\\t\\t\\t\\t\\t\\n\\t\\t\\t\\t\\t39,782\\n\\t\\t\\t\\t\\n\\t\\t\\t\\t</td>\\n\\t\\t\\t\\t</tr>\\n\\t\\t\\t\\n\\t\\t\\t\\t<tr class=\"f_up\">\\n\\t\\t\\t\\t<td></td>\\n\\t\\t\\t\\t<td>\\n\\t\\t\\t\\t\\n\\t\\t\\t\\t\\t\\n\\t\\t\\t\\t\\t84,500\\n\\t\\t\\t\\t\\n\\t\\t\\t\\t</td>\\n\\t\\t\\t\\t<td class=\"td_r\">\\n\\t\\t\\t\\t\\n\\t\\t\\t\\t\\t\\n\\t\\t\\t\\t\\t89,529\\n\\t\\t\\t\\t\\n\\t\\t\\t\\t</td>\\n\\t\\t\\t\\t</tr>\\n\\t\\t\\t\\n\\t\\t\\t\\t<tr class=\"f_up\">\\n\\t\\t\\t\\t<td></td>\\n\\t\\t\\t\\t<td>\\n\\t\\t\\t\\t\\n\\t\\t\\t\\t\\t\\n\\t\\t\\t\\t\\t84,400\\n\\t\\t\\t\\t\\n\\t\\t\\t\\t</td>\\n\\t\\t\\t\\t<td class=\"td_r\">\\n\\t\\t\\t\\t\\n\\t\\t\\t\\t\\t\\n\\t\\t\\t\\t\\t68,920\\n\\t\\t\\t\\t\\n\\t\\t\\t\\t</td>\\n\\t\\t\\t\\t</tr>\\n\\t\\t\\t\\n\\t\\t\\t\\t<tr class=\"f_up\">\\n\\t\\t\\t\\t<td></td>\\n\\t\\t\\t\\t<td>\\n\\t\\t\\t\\t\\n\\t\\t\\t\\t\\t\\n\\t\\t\\t\\t\\t84,300\\n\\t\\t\\t\\t\\n\\t\\t\\t\\t</td>\\n\\t\\t\\t\\t<td class=\"td_r\">\\n\\t\\t\\t\\t\\n\\t\\t\\t\\t\\t\\n\\t\\t\\t\\t\\t90,091\\n\\t\\t\\t\\t\\n\\t\\t\\t\\t</td>\\n\\t\\t\\t\\t</tr>\\n\\t\\t\\t\\n\\t\\t\\t\\t<tr class=\"f_up\">\\n\\t\\t\\t\\t<td></td>\\n\\t\\t\\t\\t<td>\\n\\t\\t\\t\\t\\n\\t\\t\\t\\t\\t\\n\\t\\t\\t\\t\\t84,200\\n\\t\\t\\t\\t\\n\\t\\t\\t\\t</td>\\n\\t\\t\\t\\t<td class=\"td_r\">\\n\\t\\t\\t\\t\\n\\t\\t\\t\\t\\t\\n\\t\\t\\t\\t\\t177,699\\n\\t\\t\\t\\t\\n\\t\\t\\t\\t</td>\\n\\t\\t\\t\\t</tr>\\n\\t\\t\\t\\n\\t\\t\\t\\t<tr class=\"f_up\">\\n\\t\\t\\t\\t<td></td>\\n\\t\\t\\t\\t<td>\\n\\t\\t\\t\\t\\n\\t\\t\\t\\t\\t\\n\\t\\t\\t\\t\\t84,100\\n\\t\\t\\t\\t\\n\\t\\t\\t\\t</td>\\n\\t\\t\\t\\t<td class=\"td_r\">\\n\\t\\t\\t\\t\\n\\t\\t\\t\\t\\t\\n\\t\\t\\t\\t\\t76,514\\n\\t\\t\\t\\t\\n\\t\\t\\t\\t</td>\\n\\t\\t\\t\\t</tr>\\n\\t\\t\\t\\n\\t\\t\\t\\t<tr class=\"f_up\">\\n\\t\\t\\t\\t<td></td>\\n\\t\\t\\t\\t<td>\\n\\t\\t\\t\\t\\n\\t\\t\\t\\t\\t\\n\\t\\t\\t\\t\\t84,000\\n\\t\\t\\t\\t\\n\\t\\t\\t\\t</td>\\n\\t\\t\\t\\t<td class=\"td_r\">\\n\\t\\t\\t\\t\\n\\t\\t\\t\\t\\t\\n\\t\\t\\t\\t\\t307,633\\n\\t\\t\\t\\t\\n\\t\\t\\t\\t</td>\\n\\t\\t\\t\\t</tr>\\n\\t\\t\\t\\n\\t\\t\\t<tr><td colspan=\"3\" class=\"space\"></td></tr>\\n\\t\\t\\t<tr class=\"total\">\\n\\t\\t\\t\\t<td class=\"f_down\">\\n\\t\\t\\t\\t\\t\\n\\t\\t\\t\\t\\t\\t\\n\\t\\t\\t\\t\\t\\t1,570,428\\n\\t\\t\\t\\t\\t\\n\\t\\t\\t\\t</td>\\n\\t\\t\\t\\t<td>잔량합계</td>\\n\\t\\t\\t\\t<td class=\"f_up\">\\n\\t\\t\\t\\t\\t\\n\\t\\t\\t\\t\\t\\t\\n\\t\\t\\t\\t\\t\\t991,083\\n\\t\\t\\t\\t\\t\\n\\t\\t\\t\\t</td>\\n\\t\\t\\t</tr>\\n\\t\\t\\t</table>\\n\\t\\t</div>\\n\\t</div>\\n\\n\\n\\t<!-- 종합정보 페이지 우측 영역 -->\\n\\t\\n\\t\\t\\n\\t<script language=javascript src=\"https://ssl.pstatic.net/imgstock/static.pc/20210203183116/js/item_main_right_area.js\"></script>\\n\\n\\t\\t\\n\\t\\t<div class=\"aside_section cop_list\">\\n\\t\\t\\t\\n\\t\\t\\t\\t\\n\\t\\t\\t\\t\\t<div id=\"tab_search\" class=\"tab tab_search1\">\\n\\t\\t\\t\\t\\n\\t\\t\\t\\t\\n\\t\\t\\t\\n\\t\\t\\t<a href=\"javascript:showRecent(\\'tab_search\\', \\'tab tab_search1\\', \\'005930\\', \\'recent\\')\" onClick=\"jindo.$Cookie().set(\\'summary_item_type\\', \\'recent\\', 30, \\'finance.naver.com\\'); clickcr(this, \\'rch.1\\', \\'\\', \\'\\', event);\"><span>최근조회</span></a>\\n\\t\\t\\t<a href=\"javascript:showRecent(\\'tab_search\\', \\'tab tab_search2\\', \\'005930\\', \\'mystock\\')\" onClick=\"jindo.$Cookie().set(\\'summary_item_type\\', \\'mystock\\', 30, \\'finance.naver.com\\'); clickcr(this, \\'rch.3\\', \\'\\', \\'\\', event);\"><span>MY STOCK</span></a>\\n\\t\\t\\t<!-- [D] 활성화된 탭메뉴에 따라 blind text 변경해주세요 -->\\n\\t\\t\\t<h2 class=\"blind\" id=\"blind_text_tab_search\">최근조회</h2>\\n\\t\\t</div>\\n\\n\\t\\t\\n\\t\\t<script type=\"text/template\" id=\"recent_list_none\">\\n\\t\\t\\t<div class=\"no_result\">\\n\\t\\t\\t\\t<img src=\"https://ssl.pstatic.net/static/nfinance/img/no_result_aside1_v2.gif\" width=\"144\" height=\"13\" border=\"0\" alt=\"최근 조회된 종목이 없습니다.\" class=\"noresult_txt1\">\\n\\t\\t\\t</div>\\n\\t\\t</script>\\n\\t\\t<script type=\"text/template\" id=\"mystock_logout\">\\n\\t\\t\\t<div class=\"no_result\">\\n\\t\\t\\t\\t<map name=\"no_result_aside2\">\\n\\t\\t\\t\\t<area shape=\"rect\" coords=\"6,38,107,52\" href=\"javascript:naver_login()\" alt=\"My stock 로그인\">\\n\\t\\t\\t\\t</map>\\n\\t\\t\\t\\t<img src=\"https://ssl.pstatic.net/imgstock/item_renewal/no_result_aside2.gif\" width=\"116\" height=\"53\" border=\"0\" usemap=\"#no_result_aside2\" title=\"\" alt=\"로그인하시면 등록하신 종목의 시세가 제공됩니다.\" class=\"noresult_txt2\">\\n\\t\\t\\t</div>\\n\\t\\t</script>\\n\\t\\t<script type=\"text/template\" id=\"mystock_list_none\">\\n\\t\\t\\t<div class=\"no_result\">\\n\\t\\t\\t\\t<map name=\"no_result_aside3\">\\n\\t\\t\\t\\t<area shape=\"rect\" coords=\"11,38,125,52\" href=\"/mystock/\" alt=\"My stock 바로가기\">\\n\\t\\t\\t\\t</map>\\n\\t\\t\\t\\t<img src=\"https://ssl.pstatic.net/imgstock/item_renewal/no_result_aside3.gif\" width=\"137\" height=\"53\" border=\"0\" usemap=\"#no_result_aside3\" title=\"\" alt=\"MY STOCK에 관심종목을 등록하시면 시세가 제공됩니다.\" class=\"noresult_txt3\">\\n\\t\\t\\t</div>\\n\\t\\t</script>\\n\\t\\t<script type=\"text/template\" id=\"recent_list_exist\">\\n\\t\\t\\t{if type == \"recent\"}\\n\\t\\t\\t\\t{set listNclicksId=\"rch.2\"}\\n\\t\\t\\t\\t<table summary=\"최근조회 리스트\" class=\"con_search1\">\\n\\t\\t\\t\\t<caption>최근조회</caption>\\n\\t\\t\\t\\t\\t<colgroup><col><col width=\"50\"><col width=\"72\"></colgroup>\\n\\t\\t\\t{else}\\n\\t\\t\\t\\t{set listNclicksId=\"rch.4\"}\\n\\t\\t\\t\\t<table summary=\"MY STOCK 리스트\" class=\"con_search2\">\\n\\t\\t\\t\\t<caption>MY STOCK</caption>\\n\\t\\t\\t\\t\\t<colgroup><col><col width=\"60\"><col width=\"60\"></colgroup>\\n\\t\\t\\t{/if}\\n\\t\\t\\t\\t<thead>\\n\\t\\t\\t\\t<tr>\\n\\t\\t\\t\\t\\t<th>업체명</th>\\n\\t\\t\\t\\t\\t<th scope=\"col\">거래량</th>\\n\\t\\t\\t\\t\\t<th scope=\"col\">전일비</th>\\n\\t\\t\\t\\t</tr>\\n\\t\\t\\t\\t</thead>\\n\\t\\t\\t\\t{for index:itemList in item_list}\\n\\t\\t\\t\\t\\t{if index == 5 || index == 10}\\n\\t\\t\\t\\t\\t\\t<tr><td colspan=\"3\" class=\"line\"></td></tr>\\n\\t\\t\\t\\t\\t{/if}\\n\\t\\t\\t\\t\\t<tr>\\n\\t\\t\\t\\t\\t\\t<th scope=\"row\">\\n\\t\\t\\t\\t\\t\\t<a href=\"/item/main.nhn?code={=itemList.itemcode}\" onClick=\"clickcr(this, \\'{=listNclicksId}\\', \\'{=itemList.itemcode}\\', \\'{=index + 1}\\', event);\" target=_top>{=itemList.itemname}</a>\\n\\t\\t\\t\\t\\t\\t</th>\\n\\t\\t\\t\\t\\t\\t<td id=\"nowVal_td_{=index}\">{=itemList.now_val}</td>\\n\\t\\t\\t\\t\\t\\t<td>\\n\\t\\t\\t\\t\\t\\t\\t{if itemList.risefall == \\'1\\'}\\n\\t\\t\\t\\t\\t\\t\\t\\t<em class=\"f_up up_arrow\" id=\"changeVal_em_{=index}\"><span id=\"changeVal_span_{=index}\">상한가</span>{=itemList.change_val}</em>\\n\\t\\t\\t\\t\\t\\t\\t{elseif itemList.risefall == \\'2\\'}\\n\\t\\t\\t\\t\\t\\t\\t\\t<em class=\"f_up up\" id=\"changeVal_em_{=index}\"><span id=\"changeVal_span_{=index}\">상향</span>{=itemList.change_val}</em>\\n\\t\\t\\t\\t\\t\\t\\t{elseif itemList.risefall == \\'4\\'}\\n\\t\\t\\t\\t\\t\\t\\t\\t<em class=\"f_down down_arrow\" id=\"changeVal_em_{=index}\"><span id=\"changeVal_span_{=index}\">하한가</span>{=itemList.change_val}</em>\\n\\t\\t\\t\\t\\t\\t\\t{elseif itemList.risefall == \\'5\\'}\\n\\t\\t\\t\\t\\t\\t\\t\\t<em class=\"f_down down\" id=\"changeVal_em_{=index}\"><span id=\"changeVal_span_{=index}\">하향</span>{=itemList.change_val}</em>\\n\\t\\t\\t\\t\\t\\t\\t{else}\\n\\t\\t\\t\\t\\t\\t\\t\\t<em class=\"sam\" id=\"changeVal_em_{=index}\"><span id=\"changeVal_span_{=index}\">보합</span></em>\\n\\t\\t\\t\\t\\t\\t\\t{/if}\\n\\t\\t\\t\\t\\t\\t\\t{if type == \"recent\"}\\n\\t\\t\\t\\t\\t\\t\\t\\t<a href=\"javascript:deleteCodeFromRecent(\\'{=itemList.itemcode}\\', \\'{=code}\\', \\'{=type}\\', \\'{=page}\\')\"><img src=\"https://ssl.pstatic.net/imgstock/item_renewal/btn_delete.gif\" alt=\"삭제\" width=\"11\" height=\"11\"></a>\\n\\t\\t\\t\\t\\t\\t\\t{/if}\\n\\t\\t\\t\\t\\t\\t</td>\\n\\t\\t\\t\\t\\t</tr>\\n\\t\\t\\t\\t{/for}\\n\\t\\t\\t</table>\\n\\t\\t</script>\\n\\t\\t<div id=\"recent_area\"></div>\\n\\n\\t\\t\\n\\t\\t<script type=\"text/template\" id=\"recent_btn_tmpl\">\\n\\t\\t\\t<span>\\n\\t\\t\\t\\t{if prev_page != 0 || next_page != 0}\\n\\t\\t\\t\\t{if prev_page == 0}\\n\\t\\t\\t\\t\\t<a href=\"#\" onClick=\"clickcr(this, \\'rch.5\\', \\'\\', \\'\\', event); return false;\"><img src=\"https://ssl.pstatic.net/static/nfinance/btn_prev2.gif\" width=\"17\" height=\"15\" alt=\"이전\"></a>\\n\\t\\t\\t\\t{elseif prev_page > 0}\\n\\t\\t\\t\\t\\t<a href=\"javascript:movePage(\\'{=code}\\', \\'{=type}\\', \\'{=prev_page}\\');\" onClick=\"clickcr(this, \\'rch.5\\', \\'\\', \\'\\', event)\"><img src=\"https://ssl.pstatic.net/static/nfinance/btn_prev2.gif\" width=\"17\" height=\"15\" alt=\"이전\"></a>\\n\\t\\t\\t\\t{/if}\\n\\t\\t\\t\\t{if next_page == 0}\\n\\t\\t\\t\\t\\t<a href=\"#\" onClick=\"clickcr(this, \\'rch.6\\', \\'\\', \\'\\', event); return false;\"><img src=\"https://ssl.pstatic.net/static/nfinance/btn_next2.gif\" width=\"17\" height=\"15\" alt=\"다음\"></a>\\n\\t\\t\\t\\t{elseif next_page > 0}\\n\\t\\t\\t\\t\\t<a href=\"javascript:movePage(\\'{=code}\\', \\'{=type}\\', \\'{=next_page}\\');\" onClick=\"clickcr(this, \\'rch.6\\', \\'\\', \\'\\', event)\"><img src=\"https://ssl.pstatic.net/static/nfinance/btn_next2.gif\" width=\"17\" height=\"15\" alt=\"다음\"></a>\\n\\t\\t\\t\\t{/if}\\n\\t\\t\\t\\t{/if}\\n\\t\\t\\t</span>\\n\\t\\t\\t{if type != \\'recent\\'}\\n\\t\\t\\t<a href=\"/mystock/\" class=\"more\" onClick=\"clickcr(this, \\'rch.7\\', \\'\\', \\'\\', event)\">더보기</a>\\n\\t\\t\\t{/if}\\n\\t\\t</script>\\n\\t\\t<div id=\"recent_button\" class=\"more_info\"></div>\\n\\n\\t\\t\\n\\t\\t\\t<script type=\"text/javascript\">\\n\\t\\t\\tvar comment_code = \"005930\";\\n\\t\\t\\tvar comment_type = \"recent\";\\n\\t\\t\\tvar comment_page = \"1\";\\n\\t\\t\\t\\n\\t\\t\\t  \\tjindo.$Fn(function() {\\n\\t\\t\\t\\t\\tmovePage(\\'005930\\', \\'recent\\', \\'1\\');\\n\\t\\t\\t\\t}).attach(document,\"domready\");\\n\\t\\t\\t\\n\\t\\t\\t</script>\\n\\t</div>\\n\\t\\n\\n\\t\\n\\t<div class=\"aside_section ad_banner\">\\n        <div id=\"da_240240\" name=\"da_240240\">\\n\\t\\t\\t<iframe id=\"f240240\" title=\"광고영역\" name=\"f240240\" src=\"https://veta.naver.com/fxshow?su=SU10352\" width=\"240\" height=\"240\" marginheight=\"0\" marginwidth=\"0\" scrolling=\"no\" frameborder=\"0\" align=\"center\" data-veta-preview=\"finance_right_new\"></iframe>\\n    \\t</div>\\n    </div>\\n\\t\\n\\n\\t\\n\\t<div class=\"aside_section cop_list\">\\n\\t\\t <h2 class=\"h_sub sub_tit9\"><span>인기검색종목</span></h2>\\n\\t\\t<div id=\"tab_fav\" class=\"tab tab_fav1\">\\n\\t\\t\\t<a href=\"javascript:showArea(\\'tab_fav\\', \\'tab tab_fav1\\', \\'fav_kospi\\', \\'fav_kosdaq\\')\" onClick=\"clickcr(this, \\'pss.1\\', \\'\\', \\'\\', event);\"><span>코스피</span></a>\\n\\t\\t\\t<a href=\"javascript:showArea(\\'tab_fav\\', \\'tab tab_fav2\\', \\'fav_kosdaq\\', \\'fav_kospi\\')\" onClick=\"clickcr(this, \\'pss.3\\', \\'\\', \\'\\', event);\"><span>코스닥</span></a>\\n\\t\\t\\t<!-- [D] 활성화된 탭메뉴에 따라 blind text 변경해주세요 -->\\n\\t\\t\\t<h3 class=\"blind\" id=\"blind_text_tab_fav\">코스피</h3>\\n\\t\\t</div>\\n\\n\\t\\t<div id=\"fav_kospi\" style=\"display:block\">\\n\\t\\t<table summary=\"코스피 인기검색종목 리스트\" class=\"rank\">\\n\\t\\t<caption>코스피 인기검색종목</caption>\\n\\t\\t<colgroup><col><col width=\"60\"><col width=\"86\"></colgroup>\\n\\t\\t<thead>\\n\\t\\t<tr>\\n\\t\\t\\t<th>업체명</th>\\n\\t\\t\\t<th scope=\"col\">거래량</th>\\n\\t\\t\\t<th scope=\"col\">전일비</th>\\n\\t\\t</tr>\\n\\t\\t</thead>\\n\\t\\t\\n\\t\\t\\t\\n\\t\\t\\t<tr>\\n\\t\\t\\t\\t<th scope=\"row\" class=\"no1\"><a href=\"/item/main.nhn?code=004140\" target=_top onClick=\"clickcr(this, \\'pss.2\\', \\'\\', \\'1\\', event);\">동방</a></th>\\n\\t\\t\\t\\t<td>12,950</td>\\n\\t\\t\\t\\t<td>\\n\\t\\t\\t\\t\\t\\n\\t\\t\\t\\t<em class=\"f_up up_arrow\"><span>상한가</span>\\n\\t\\t\\t\\t2,980\\n\\t\\t\\t\\t</em>\\n\\t\\t\\t\\n\\t\\t\\t\\t</td>\\n\\t\\t\\t</tr>\\n\\t\\t\\n\\t\\t\\t\\n\\t\\t\\t<tr>\\n\\t\\t\\t\\t<th scope=\"row\" class=\"no2\"><a href=\"/item/main.nhn?code=005930\" target=_top onClick=\"clickcr(this, \\'pss.2\\', \\'\\', \\'2\\', event);\">삼성전자</a></th>\\n\\t\\t\\t\\t<td>84,900</td>\\n\\t\\t\\t\\t<td>\\n\\t\\t\\t\\t\\t\\n\\t\\t\\t\\t<em class=\"f_up up\"><span>상향</span>\\n\\t\\t\\t\\t700\\n\\t\\t\\t\\t</em>\\n\\t\\t\\t\\n\\t\\t\\t\\t</td>\\n\\t\\t\\t</tr>\\n\\t\\t\\n\\t\\t\\t\\n\\t\\t\\t<tr>\\n\\t\\t\\t\\t<th scope=\"row\" class=\"no3\"><a href=\"/item/main.nhn?code=035720\" target=_top onClick=\"clickcr(this, \\'pss.2\\', \\'\\', \\'3\\', event);\">카카오</a></th>\\n\\t\\t\\t\\t<td>514,000</td>\\n\\t\\t\\t\\t<td>\\n\\t\\t\\t\\t\\t\\n\\t\\t\\t\\t<em class=\"f_up up\"><span>상향</span>\\n\\t\\t\\t\\t12,000\\n\\t\\t\\t\\t</em>\\n\\t\\t\\t\\n\\t\\t\\t\\t</td>\\n\\t\\t\\t</tr>\\n\\t\\t\\n\\t\\t\\t\\n\\t\\t\\t<tr>\\n\\t\\t\\t\\t<th scope=\"row\" class=\"no4\"><a href=\"/item/main.nhn?code=093230\" target=_top onClick=\"clickcr(this, \\'pss.2\\', \\'\\', \\'4\\', event);\">이아이디</a></th>\\n\\t\\t\\t\\t<td>781</td>\\n\\t\\t\\t\\t<td>\\n\\t\\t\\t\\t\\t\\n\\t\\t\\t\\t<em class=\"f_up up\"><span>상향</span>\\n\\t\\t\\t\\t121\\n\\t\\t\\t\\t</em>\\n\\t\\t\\t\\n\\t\\t\\t\\t</td>\\n\\t\\t\\t</tr>\\n\\t\\t\\n\\t\\t\\t\\n\\t\\t\\t<tr>\\n\\t\\t\\t\\t<th scope=\"row\" class=\"no5\"><a href=\"/item/main.nhn?code=068270\" target=_top onClick=\"clickcr(this, \\'pss.2\\', \\'\\', \\'5\\', event);\">셀트리온</a></th>\\n\\t\\t\\t\\t<td>325,000</td>\\n\\t\\t\\t\\t<td>\\n\\t\\t\\t\\t\\t\\n\\t\\t\\t\\t<em class=\"f_down down\"><span>하향</span>\\n\\t\\t\\t\\t8,000\\n\\t\\t\\t\\t</em>\\n\\t\\t\\t\\n\\t\\t\\t\\t</td>\\n\\t\\t\\t</tr>\\n\\t\\t\\n\\t\\t\\t\\n\\t\\t\\t\\t<tr><td colspan=\"3\" class=\"line\"></td></tr>\\n\\t\\t\\t\\n\\t\\t\\t<tr>\\n\\t\\t\\t\\t<th scope=\"row\" class=\"no6\"><a href=\"/item/main.nhn?code=014160\" target=_top onClick=\"clickcr(this, \\'pss.2\\', \\'\\', \\'6\\', event);\">대영포장</a></th>\\n\\t\\t\\t\\t<td>3,080</td>\\n\\t\\t\\t\\t<td>\\n\\t\\t\\t\\t\\t\\n\\t\\t\\t\\t<em class=\"f_up up_arrow\"><span>상한가</span>\\n\\t\\t\\t\\t710\\n\\t\\t\\t\\t</em>\\n\\t\\t\\t\\n\\t\\t\\t\\t</td>\\n\\t\\t\\t</tr>\\n\\t\\t\\n\\t\\t\\t\\n\\t\\t\\t<tr>\\n\\t\\t\\t\\t<th scope=\"row\" class=\"no7\"><a href=\"/item/main.nhn?code=035420\" target=_top onClick=\"clickcr(this, \\'pss.2\\', \\'\\', \\'7\\', event);\">NAVER</a></th>\\n\\t\\t\\t\\t<td>394,000</td>\\n\\t\\t\\t\\t<td>\\n\\t\\t\\t\\t\\t\\n\\t\\t\\t\\t<em class=\"f_up up\"><span>상향</span>\\n\\t\\t\\t\\t8,500\\n\\t\\t\\t\\t</em>\\n\\t\\t\\t\\n\\t\\t\\t\\t</td>\\n\\t\\t\\t</tr>\\n\\t\\t\\n\\t\\t\\t\\n\\t\\t\\t<tr>\\n\\t\\t\\t\\t<th scope=\"row\" class=\"no8\"><a href=\"/item/main.nhn?code=030200\" target=_top onClick=\"clickcr(this, \\'pss.2\\', \\'\\', \\'8\\', event);\">KT</a></th>\\n\\t\\t\\t\\t<td>26,550</td>\\n\\t\\t\\t\\t<td>\\n\\t\\t\\t\\t\\t\\n\\t\\t\\t\\t<em class=\"f_up up\"><span>상향</span>\\n\\t\\t\\t\\t1,850\\n\\t\\t\\t\\t</em>\\n\\t\\t\\t\\n\\t\\t\\t\\t</td>\\n\\t\\t\\t</tr>\\n\\t\\t\\n\\t\\t\\t\\n\\t\\t\\t<tr>\\n\\t\\t\\t\\t<th scope=\"row\" class=\"no9\"><a href=\"/item/main.nhn?code=005380\" target=_top onClick=\"clickcr(this, \\'pss.2\\', \\'\\', \\'9\\', event);\">현대차</a></th>\\n\\t\\t\\t\\t<td>247,500</td>\\n\\t\\t\\t\\t<td>\\n\\t\\t\\t\\t\\t\\n\\t\\t\\t\\t<em class=\"sam\"><span>보합</span></em>\\n\\t\\t\\t\\n\\t\\t\\t\\t</td>\\n\\t\\t\\t</tr>\\n\\t\\t\\n\\t\\t\\t\\n\\t\\t\\t<tr>\\n\\t\\t\\t\\t<th scope=\"row\" class=\"no10\"><a href=\"/item/main.nhn?code=066570\" target=_top onClick=\"clickcr(this, \\'pss.2\\', \\'\\', \\'10\\', event);\">LG전자</a></th>\\n\\t\\t\\t\\t<td>172,500</td>\\n\\t\\t\\t\\t<td>\\n\\t\\t\\t\\t\\t\\n\\t\\t\\t\\t<em class=\"f_up up\"><span>상향</span>\\n\\t\\t\\t\\t7,500\\n\\t\\t\\t\\t</em>\\n\\t\\t\\t\\n\\t\\t\\t\\t</td>\\n\\t\\t\\t</tr>\\n\\t\\t\\n\\t\\t</table>\\n\\t\\t</div>\\n\\t\\t<div id=\"fav_kosdaq\" style=\"display:none\">\\n\\t\\t<table summary=\"코스닥 인기검색종목 리스트\" class=\"rank\">\\n\\t\\t<caption>코스피 인기검색종목</caption>\\n\\t\\t<colgroup><col><col width=\"50\"><col width=\"86\"></colgroup>\\n\\t\\t<thead>\\n\\t\\t<tr>\\n\\t\\t\\t<th>업체명</th>\\n\\t\\t\\t<th scope=\"col\">거래량</th>\\n\\t\\t\\t<th scope=\"col\">전일비</th>\\n\\t\\t</tr>\\n\\t\\t</thead>\\n\\t\\t\\n\\t\\t\\t\\n\\t\\t\\t<tr>\\n\\t\\t\\t\\t<th scope=\"row\" class=\"no1\"><a href=\"/item/main.nhn?code=028300\" target=_top onClick=\"clickcr(this, \\'pss.4\\', \\'\\', \\'1\\', event);\">에이치엘비</a></th>\\n\\t\\t\\t\\t<td>66,500</td>\\n\\t\\t\\t\\t<td>\\n\\t\\t\\t\\t<em class=\"f_down down\"><span>하향</span>\\n\\t\\t\\t\\t24,900\\n\\t\\t\\t\\t</em>\\n\\t\\t\\t</td>\\n\\t\\t\\t</tr>\\n\\t\\t\\n\\t\\t\\t\\n\\t\\t\\t<tr>\\n\\t\\t\\t\\t<th scope=\"row\" class=\"no2\"><a href=\"/item/main.nhn?code=036630\" target=_top onClick=\"clickcr(this, \\'pss.4\\', \\'\\', \\'2\\', event);\">세종텔레콤</a></th>\\n\\t\\t\\t\\t<td>748</td>\\n\\t\\t\\t\\t<td>\\n\\t\\t\\t\\t<em class=\"f_up up_arrow\"><span>상한가</span>\\n\\t\\t\\t\\t172\\n\\t\\t\\t\\t</em>\\n\\t\\t\\t</td>\\n\\t\\t\\t</tr>\\n\\t\\t\\n\\t\\t\\t\\n\\t\\t\\t<tr>\\n\\t\\t\\t\\t<th scope=\"row\" class=\"no3\"><a href=\"/item/main.nhn?code=043200\" target=_top onClick=\"clickcr(this, \\'pss.4\\', \\'\\', \\'3\\', event);\">파루</a></th>\\n\\t\\t\\t\\t<td>1,695</td>\\n\\t\\t\\t\\t<td>\\n\\t\\t\\t\\t<em class=\"f_down down_arrow\"><span>하한가</span>\\n\\t\\t\\t\\t725\\n\\t\\t\\t\\t</em>\\n\\t\\t\\t</td>\\n\\t\\t\\t</tr>\\n\\t\\t\\n\\t\\t\\t\\n\\t\\t\\t<tr>\\n\\t\\t\\t\\t<th scope=\"row\" class=\"no4\"><a href=\"/item/main.nhn?code=067630\" target=_top onClick=\"clickcr(this, \\'pss.4\\', \\'\\', \\'4\\', event);\">에이치엘비생..</a></th>\\n\\t\\t\\t\\t<td>16,750</td>\\n\\t\\t\\t\\t<td>\\n\\t\\t\\t\\t<em class=\"f_down down\"><span>하향</span>\\n\\t\\t\\t\\t6,500\\n\\t\\t\\t\\t</em>\\n\\t\\t\\t</td>\\n\\t\\t\\t</tr>\\n\\t\\t\\n\\t\\t\\t\\n\\t\\t\\t<tr>\\n\\t\\t\\t\\t<th scope=\"row\" class=\"no5\"><a href=\"/item/main.nhn?code=036030\" target=_top onClick=\"clickcr(this, \\'pss.4\\', \\'\\', \\'5\\', event);\">KTH</a></th>\\n\\t\\t\\t\\t<td>15,600</td>\\n\\t\\t\\t\\t<td>\\n\\t\\t\\t\\t<em class=\"f_up up_arrow\"><span>상한가</span>\\n\\t\\t\\t\\t3,600\\n\\t\\t\\t\\t</em>\\n\\t\\t\\t</td>\\n\\t\\t\\t</tr>\\n\\t\\t\\n\\t\\t\\t\\n\\t\\t\\t\\t<tr><td colspan=\"3\" class=\"line\"></td></tr>\\n\\t\\t\\t\\n\\t\\t\\t<tr>\\n\\t\\t\\t\\t<th scope=\"row\" class=\"no6\"><a href=\"/item/main.nhn?code=086890\" target=_top onClick=\"clickcr(this, \\'pss.4\\', \\'\\', \\'6\\', event);\">이수앱지스</a></th>\\n\\t\\t\\t\\t<td>14,200</td>\\n\\t\\t\\t\\t<td>\\n\\t\\t\\t\\t<em class=\"f_up up\"><span>상향</span>\\n\\t\\t\\t\\t50\\n\\t\\t\\t\\t</em>\\n\\t\\t\\t</td>\\n\\t\\t\\t</tr>\\n\\t\\t\\n\\t\\t\\t\\n\\t\\t\\t<tr>\\n\\t\\t\\t\\t<th scope=\"row\" class=\"no7\"><a href=\"/item/main.nhn?code=053030\" target=_top onClick=\"clickcr(this, \\'pss.4\\', \\'\\', \\'7\\', event);\">바이넥스</a></th>\\n\\t\\t\\t\\t<td>31,950</td>\\n\\t\\t\\t\\t<td>\\n\\t\\t\\t\\t<em class=\"f_down down\"><span>하향</span>\\n\\t\\t\\t\\t4,150\\n\\t\\t\\t\\t</em>\\n\\t\\t\\t</td>\\n\\t\\t\\t</tr>\\n\\t\\t\\n\\t\\t\\t\\n\\t\\t\\t<tr>\\n\\t\\t\\t\\t<th scope=\"row\" class=\"no8\"><a href=\"/item/main.nhn?code=024810\" target=_top onClick=\"clickcr(this, \\'pss.4\\', \\'\\', \\'8\\', event);\">이화전기</a></th>\\n\\t\\t\\t\\t<td>351</td>\\n\\t\\t\\t\\t<td>\\n\\t\\t\\t\\t<em class=\"f_up up_arrow\"><span>상한가</span>\\n\\t\\t\\t\\t81\\n\\t\\t\\t\\t</em>\\n\\t\\t\\t</td>\\n\\t\\t\\t</tr>\\n\\t\\t\\n\\t\\t\\t\\n\\t\\t\\t<tr>\\n\\t\\t\\t\\t<th scope=\"row\" class=\"no9\"><a href=\"/item/main.nhn?code=323990\" target=_top onClick=\"clickcr(this, \\'pss.4\\', \\'\\', \\'9\\', event);\">박셀바이오</a></th>\\n\\t\\t\\t\\t<td>116,400</td>\\n\\t\\t\\t\\t<td>\\n\\t\\t\\t\\t<em class=\"f_down down\"><span>하향</span>\\n\\t\\t\\t\\t9,000\\n\\t\\t\\t\\t</em>\\n\\t\\t\\t</td>\\n\\t\\t\\t</tr>\\n\\t\\t\\n\\t\\t\\t\\n\\t\\t\\t<tr>\\n\\t\\t\\t\\t<th scope=\"row\" class=\"no10\"><a href=\"/item/main.nhn?code=036540\" target=_top onClick=\"clickcr(this, \\'pss.4\\', \\'\\', \\'10\\', event);\">SFA반도체</a></th>\\n\\t\\t\\t\\t<td>9,050</td>\\n\\t\\t\\t\\t<td>\\n\\t\\t\\t\\t<em class=\"f_up up\"><span>상향</span>\\n\\t\\t\\t\\t140\\n\\t\\t\\t\\t</em>\\n\\t\\t\\t</td>\\n\\t\\t\\t</tr>\\n\\t\\t\\n\\t\\t</table>\\n\\t\\t</div>\\n\\t</div>\\n\\t\\n\\n\\t\\n\\t<div class=\"aside_section rate\">\\n\\t\\t<h2 class=\"h_sub sub_tit8\"><span>시세정보바로가기</span></h2>\\n\\t\\t<p>\\n\\t\\t\\t<a href=\"/sise/sise_index.nhn?code=KOSPI\" onClick=\"clickcr(this, \\'quk.2\\', \\'\\', \\'\\', event);\">코스피</a>\\n\\t\\t\\t<a href=\"/sise/sise_index.nhn?code=KOSDAQ\" onClick=\"clickcr(this, \\'quk.3\\', \\'\\', \\'\\', event);\">코스닥</a>\\n\\t\\t\\t<a href=\"/sise/sise_index.nhn?code=FUT\" onClick=\"clickcr(this, \\'quk.4\\', \\'\\', \\'\\', event);\">선물</a>\\n\\t\\t\\t<a href=\"/sise/konex.nhn\" class=\"end\" onClick=\"clickcr(this, \\'quk.konex\\', \\'\\', \\'\\', event);\">코넥스</a><br>\\n\\t\\t\\t<a href=\"/sise/sise_index.nhn?code=KPI200\" onClick=\"clickcr(this, \\'quk.30\\', \\'\\', \\'\\', event);\">코스피200</a>\\n\\t\\t\\t<a href=\"/sise/etf.nhn\" onClick=\"clickcr(this, \\'quk.31\\', \\'\\', \\'\\', event);\">ETF</a>\\n\\t\\t\\t<a href=\"/sise/sise_group.nhn?type=upjong\" onClick=\"clickcr(this, \\'quk.5\\', \\'\\', \\'\\', event);\"><strong>업종별</strong></a>\\n\\t\\t\\t<a href=\"/sise/theme.nhn\" class=\"end\" onClick=\"clickcr(this, \\'quk.6\\', \\'\\', \\'\\', event);\">테마별</a><br>\\n\\t\\t\\t<a href=\"/sise/sise_upper.nhn\" onClick=\"clickcr(this, \\'quk.7\\', \\'\\', \\'\\', event);\"><strong>상한가</strong></a>\\n\\t\\t\\t<a href=\"/sise/sise_lower.nhn\" onClick=\"clickcr(this, \\'quk.8\\', \\'\\', \\'\\', event);\">하한가</a>\\n\\t\\t\\t<a href=\"/sise/sise_rise.nhn\" onClick=\"clickcr(this, \\'quk.9\\', \\'\\', \\'\\', event);\">상승</a>\\n\\t\\t\\t<a href=\"/sise/sise_steady.nhn\" onClick=\"clickcr(this, \\'quk.10\\', \\'\\', \\'\\', event);\">보합</a>\\n\\t\\t\\t<a href=\"/sise/sise_fall.nhn\" class=\"end\" onClick=\"clickcr(this, \\'quk.11\\', \\'\\', \\'\\', event);\">하락</a><br>\\n\\t\\t\\t<a href=\"/sise/sise_quant.nhn\" onClick=\"clickcr(this, \\'quk.12\\', \\'\\', \\'\\', event);\">거래상위</a>\\n\\t\\t\\t<a href=\"/sise/sise_quant_high.nhn\" onClick=\"clickcr(this, \\'quk.13\\', \\'\\', \\'\\', event);\"><strong>급증</strong></a>\\n\\t\\t\\t<a href=\"/sise/sise_quant_low.nhn\" class=\"end\" onClick=\"clickcr(this, \\'quk.14\\', \\'\\', \\'\\', event);\">급감</a><br>\\n\\t\\t\\t<a href=\"/sise/sise_high_down.nhn\" onClick=\"clickcr(this, \\'quk.15\\', \\'\\', \\'\\', event);\">고가대비급락</a>\\n\\t\\t\\t<a href=\"/sise/sise_low_up.nhn\" class=\"end\" onClick=\"clickcr(this, \\'quk.16\\', \\'\\', \\'\\', event);\">저가대비급등</a>\\n\\t\\t</p>\\n\\t\\t<p>\\n\\t\\t\\t<a href=\"/sise/sise_market_sum.nhn\" onClick=\"clickcr(this, \\'quk.17\\', \\'\\', \\'\\', event);\"><strong>시가총액상위</strong></a>\\n\\t\\t\\t<a href=\"/sise/sise_foreign_hold.nhn\" class=\"end\" onClick=\"clickcr(this, \\'quk.18\\', \\'\\', \\'\\', event);\">외국인보유현황</a><br>\\n\\t\\t\\t<a href=\"/sise/sise_deal_rank.nhn\" onClick=\"clickcr(this, \\'quk.19\\', \\'\\', \\'\\', event);\">외국인매매</a>\\n\\t\\t\\t<a href=\"/sise/sise_deal_rank.nhn?investor_gubun=1000\" onClick=\"clickcr(this, \\'quk.19-1\\', \\'\\', \\'\\', event);\">기관매매</a>\\n\\t\\t\\t<a href=\"/sise/sise_program.nhn\" class=\"end\" onClick=\"clickcr(this, \\'quk.20\\', \\'\\', \\'\\', event);\">프로그램매매</a><br>\\n\\t\\t\\t<a href=\"/sise/management.nhn\" onClick=\"clickcr(this, \\'quk.21\\', \\'\\', \\'\\', event);\">관리·감리종목</a>\\n\\t\\t\\t<a href=\"/sise/sise_new_stock.nhn\" class=\"end\" onClick=\"clickcr(this, \\'quk.22\\', \\'\\', \\'\\', event);\">신규상장종목</a><br>\\n\\t\\t\\t<a href=\"/sise/sise_deposit.nhn\" onClick=\"clickcr(this, \\'quk.23\\', \\'\\', \\'\\', event);\">증시자금동향</a>\\n\\t\\t\\t<a href=\"/sise/sise_trans_style.nhn\" class=\"end\" onClick=\"clickcr(this, \\'quk.24\\', \\'\\', \\'\\', event);\">투자자별매매동향</a>\\n\\t\\t</p>\\n\\t\\t<p>\\n\\t\\t\\t<a href=\"/sise/item_gap.nhn\" onClick=\"clickcr(this, \\'quk.25\\', \\'\\', \\'\\', event);\">갭상승 종목</a>\\n\\t\\t\\t<a href=\"/sise/item_gold.nhn\" class=\"end\" onClick=\"clickcr(this, \\'quk.26\\', \\'\\', \\'\\', event);\">골든크로스 종목</a><br>\\n\\t\\t\\t<a href=\"/sise/item_igyuk.nhn\" onClick=\"clickcr(this, \\'quk.27\\', \\'\\', \\'\\', event);\">이격도과열종목</a>\\n\\t\\t\\t<a href=\"/sise/item_overheating_1.nhn\" class=\"end\" onClick=\"clickcr(this, \\'quk.28\\', \\'\\', \\'\\', event);\">투자심리과열종목</a><br>\\n\\t\\t\\t<a href=\"/sise/item_overheating_2.nhn\" class=\"end\" onClick=\"clickcr(this, \\'quk.29\\', \\'\\', \\'\\', event);\">상대강도과열종목</a>\\n\\t\\t</p>\\n\\t\\t<a href=\"/sise/\" class=\"more\" onClick=\"clickcr(this, \\'quk.1\\', \\'\\', \\'\\', event);\">더보기</a>\\n\\t\\t<div class=\"hidden_line\"></div>\\n\\t</div>\\n\\t\\n\\n\\t\\n\\t\\n\\n\\t\\n\\t<div class=\"aside_section notice\">\\n\\t\\t<h2 class=\"h_sub sub_tit10\"><span>공지사항</span></h2>\\n\\t\\t<ul>\\n\\t\\t\\t\\n\\t\\t\\t\\t<li><a href=\"https://finance.naver.com/notice.nhn?permLink=/read/1100001004/10000000000030670546\"  onClick=\"clickcr(this, \\'ice.2\\', \\'https://finance.naver.com/notice.nhn?permLink=/read/1100001004/10000000000030670546\\', \\'1\\', event)\">종목 종합정보의 플래시차트를 ht...</a></li>\\n\\t\\t\\t\\n\\t\\t\\t\\t<li><a href=\"\"  onClick=\"clickcr(this, \\'ice.2\\', \\'\\', \\'2\\', event)\"></a></li>\\n\\t\\t\\t\\n\\t\\t\\t\\t<li><a href=\"\"  onClick=\"clickcr(this, \\'ice.2\\', \\'\\', \\'3\\', event)\"></a></li>\\n\\t\\t\\t\\n\\t\\t\\t\\t<li><a href=\"\"  onClick=\"clickcr(this, \\'ice.2\\', \\'\\', \\'4\\', event)\"></a></li>\\n\\t\\t\\t\\n\\t\\t\\t\\t<li><a href=\"\"  onClick=\"clickcr(this, \\'ice.2\\', \\'\\', \\'5\\', event)\"></a></li>\\n\\t\\t\\t\\n\\t\\t</ul>\\n\\t\\t<a href=\"https://finance.naver.com/notice.nhn\" class=\"more\" onClick=\"clickcr(this, \\'ice.1\\', \\'\\', \\'\\', event);\">더보기</a>\\n\\t</div>\\n\\t\\n\\n\\t<!-- // 종합정보 페이지 우측 영역 -->\\n\\t\\n\\t</div>\\n</div>\\n</div>\\n\\n\\n\\n\\n\\n\\n\\n\\t\\n\\n\\n\\n\\n\\n\\n\\t<div id=\"footer\">\\n\\t\\t<ul>\\n\\t\\t\\t<li class=\"first\">\\n\\t\\t\\t\\t<a href=\"https://www.naver.com/rules/service.html\" onClick=\"clickcr(this, \\'fot.service\\', \\'\\', \\'\\', event);\" target=\"_blank\">이용약관</a>\\n\\t\\t\\t</li>\\n\\t\\t\\t<li>\\n\\t\\t\\t\\t<a href=\"https://finance.naver.com/rules.nhn\" onClick=\"clickcr(this, \\'fot.policy\\', \\'\\', \\'\\', event);\" target=\"_blank\">금융게시판 운영원칙</a>\\n\\t\\t\\t</li>\\n\\t\\t\\t<li>\\n\\t\\t\\t\\t<a href=\"https://www.naver.com/rules/privacy.html\" onClick=\"clickcr(this, \\'fot.privacy\\', \\'\\', \\'\\', event);\" target=\"_blank\"><strong>개인정보처리방침</strong></a>\\n\\t\\t\\t</li>\\n\\t\\t\\t<li>\\n\\t\\t\\t\\t<a href=\"https://www.naver.com/rules/disclaimer.html\" onClick=\"clickcr(this, \\'fot.limit\\', \\'\\', \\'\\', event);\" target=\"_blank\">책임의 한계와 법적고지</a>\\n\\t\\t\\t</li>\\n\\t\\t\\t<li>\\n\\t\\t\\t\\t<a href=\"https://help.naver.com/support/alias/contents2/finance/finance_1.naver\" onclick=\"clickcr(this, \\'fot.help\\', \\'\\', \\'\\', event);\" target=\"_blank\">금융 고객센터</a>\\n\\t\\t\\t</li>\\n\\t\\t</ul>\\n\\t\\t<p class=\"desc\">네이버(주)가 제공하는 금융 정보는 각 콘텐츠 제공업체<a href=\"javascript:;\" onclick=\"togglePanelFooter(\\'footerPanel0\\');\" class=\"desc_help\"><img src=\"https://ssl.pstatic.net/static/nfinance/2018/06/29/btn_help.png\" width=\"17\" height=\"17\" alt=\"제공업체 상세설명\"></a>로부터 받는 투자 참고사항이며, 오류가 발생하거나 지연될 수 있습니다.<br>네이버(주)와 콘텐츠 제공업체는 제공된 정보에 의한 투자 결과에 법적인 책임을 지지 않습니다. 게시된 정보는 무단으로 배포할 수 없습니다.</p>\\n\\t\\t<div id=\"footerPanel0\" class=\"provider_layer\" style=\"display:none\" tabindex=\"0\" onblur=\"hidePannel(\\'footerPanel0\\')\">\\n\\t\\t\\t<strong class=\"provider_layer__tit\">컨텐츠 제공업체</strong>\\n\\t\\t\\t<div class=\"provider_layer__txt\">\\n\\t\\t\\t\\t<p><span>코스콤 : </span>실시간 주가정보 및 국내시세정보</p>\\n\\t\\t\\t\\t<p><span>에프앤가이드 : </span>기업 및 재무정보</p>\\n\\t\\t\\t\\t<p><span>이데일리 : </span>해외 시세 및 시장지표 정보</p>\\n\\t\\t\\t\\t<p><span>제로인 : </span>펀드정보</p>\\n\\t\\t\\t\\t<p><span>한국예탁결제원 : </span>주주총회일 및 전자투표 정보</p>\\n\\t\\t\\t</div>\\n\\t\\t\\t<span class=\"arrow\"></span>\\n\\t\\t</div>\\n\\t\\t<address>\\n\\t\\t\\t<a href=\"https://www.navercorp.com/\" target=\"_blank\" class=\"logo\" onClick=\"clickcr(this, \\'fot.nhn\\', \\'\\', \\'\\', event);\"><img src=\"https://ssl.pstatic.net/static/nfinance/2019/02/22/ci_naver.png\" width=\"58\" height=\"11\" alt=\"NAVER\" /></a>\\n\\t\\t\\t<em>Copyright &copy;</em>\\n\\t\\t\\t<a href=\"https://www.navercorp.com/\" target=\"_blank\" onClick=\"clickcr(this, \\'fot.nhn\\', \\'\\', \\'\\', event);\">NAVER Corp.</a>\\n\\t\\t\\t<span>All Rights Reserved.</span>\\n\\t\\t</address>\\n\\t\\t\\n\\t\\t\\n\\t\\t\\n\\t</div>\\n\\n\\n\\n<script type=\"text/javascript\">\\nfunction isVisible(obj) {\\n    if (obj == document) return true\\n \\n    if (!obj) return false\\n    if (!obj.parentNode) return false\\n    if (obj.style) {\\n        if (obj.style.display == \\'none\\') return false\\n        if (obj.style.visibility == \\'hidden\\') return false\\n    }\\n \\n    if (window.getComputedStyle) {\\n        var style = window.getComputedStyle(obj, \"\")\\n        if (style.display == \\'none\\') return false\\n        if (style.visibility == \\'hidden\\') return false\\n    }\\n \\n    var style = obj.currentStyle\\n    if (style) {\\n        if (style[\\'display\\'] == \\'none\\') return false\\n        if (style[\\'visibility\\'] == \\'hidden\\') return false\\n    }\\n \\n    return isVisible(obj.parentNode)\\n}\\n\\nfunction isChildOf(myobj, containerObj) {\\n\\twhile(myobj != undefined) {\\n\\t\\tif (myobj == document.body) {\\n\\t\\t\\tbreak;\\n\\t\\t} \\n\\t\\tif (myobj == containerObj) {\\n\\t\\t\\treturn true;\\n\\t\\t}\\n\\t\\tmyobj = myobj.parentElement;\\n\\t}\\n\\treturn false;\\t\\n}\\n\\nfunction gnbLayerClose(e){\\n\\tvar target = e.target ? e.target : e.srcElement;\\n\\tif (isVisible(document.getElementById(\\'gnb_service_lyr\\')) || isVisible(document.getElementById(\\'gnb_notice_lyr\\')) ||isVisible(document.getElementById(\\'gnb_my_lyr\\')) ) {\\n\\t\\tif (!isChildOf(target, document.getElementById(\\'gnb\\'))) {\\n\\t\\t\\tgnbAllLayerClose();\\n\\t\\t}\\n\\t}\\t\\n}\\n\\nvar isIE = (navigator.userAgent.toLowerCase().indexOf(\"msie\")!=-1 && window.document.all) ? true:false;\\nif (isIE) {\\n\\tdocument.attachEvent(\\'onmousedown\\', gnbLayerClose);\\n} else {\\n\\twindow.addEventListener(\\'mousedown\\', gnbLayerClose);\\n}\\n\\nfunction showPannel(layerId){\\n    var layer = jindo.$(layerId);\\n    layer.style.display=\\'block\\';\\n\\n    if (layerId == \"summary_lyr\") {\\n        var layerHeight = jindo.$Element(layer).height();\\n        jindo.$Element(\"summary_ifr\").height(layerHeight);\\n    }\\n}\\n\\nfunction hidePannel(layerId){\\n    var layer = jindo.$(layerId);\\n    layer.style.display=\\'none\\';\\n}\\n\\nfunction togglePanelFooter(layerId) {\\n    var elTargetLayer = jindo.$Element(jindo.$$.getSingle(\"#\" + layerId));\\n\\n    if (elTargetLayer != null) {\\n        if (elTargetLayer.visible()) {\\n            hidePannel(layerId);\\n        } else {\\n            showPannel(layerId);\\n        }\\n    }\\n}\\n\\n// add data-useragent\\ndocument.documentElement.setAttribute(\\'data-useragent\\',navigator.userAgent);\\n</script>\\n\\n<!-- Dimming용 BG레이어 -->\\n<div id=\"dim\" class=\"ly_bg\" style=\"display: none\"></div>\\n<!-- 101026 수정 -->\\n<div id=\"myWriteLayer\" class=\"ly_writing\" style=\"left:100px; display:none\">\\n\\t<a href=\"javascript:closeMyWriteLayer();\" class=\"btn_lclose\"><span class=\"blind\">닫기</span></a>\\n\\t<div class=\"ifr_wrap\">\\n\\t\\t<iframe title=\"빈프레임\" id=\"myWrite\" width=\"100%\" height=\"100%\" frameborder=\"0\" marginheight=\"0\" marginwidth=\"0\" topmargin=\"0\" bottommargin=\"0\" scrolling=\"no\" ></iframe>\\n\\t</div>\\n</div>\\n<script type=\"text/javascript\">\\nvar singleSubmitFlag = true;\\nvar agt = navigator.userAgent.toLowerCase();\\n\\n// IE 일 경우만 실행 (연속 게시글 읽기 방지 위함)\\nfunction singleSubmitCheck() {\\n    if ((navigator.appName == \\'Netscape\\' && agt.indexOf(\\'trident\\') != -1) || (agt.indexOf(\"msie\") != -1)) {\\n        if (singleSubmitFlag) {\\n            singleSubmitFlag = false;\\n            return true;\\n        } else {\\n            return singleSubmitFlag;\\n        }\\n    } else {\\n        return true;\\n\\t}\\n}\\n\\nfunction layerResize() {\\n    var dimLayer = document.getElementById(\"dim\");\\n    var myWriteLayer = document.getElementById(\"myWriteLayer\");\\n\\n    if(dimLayer && myWriteLayer) {\\n                    var clientSize = jindo.$Document().clientSize();\\n                    var scrollSize = jindo.$Document().scrollSize();\\n                    dimLayer.style.width = clientSize.width;\\n                    dimLayer.style.height = scrollSize.height;\\n                    dimLayer.style.display = \"block\";\\n\\n                    if (clientSize.width > 960) {\\n                            myWriteLayer.style.left = (clientSize.width - 960) / 2;\\n                    } else {\\n                            myWriteLayer.style.left = -2;\\n                    }\\n    }\\n}\\n\\nfunction login() {\\n\\tlocation.href = \"https://nid.naver.com/nidlogin.login?mode=form&template=&url=\" + encodeURIComponent(location.href);\\n}\\n\\nfunction openMyWriteLayer() {\\n    var dimLayer = document.getElementById(\"dim\");\\n    var myWriteLayer = document.getElementById(\"myWriteLayer\");\\n\\n    if(dimLayer && myWriteLayer) {\\n            var clientSize = jindo.$Document().clientSize();\\n            var scrollSize = jindo.$Document().scrollSize();\\n            \\n            dimLayer.style.width = clientSize.width;\\n            dimLayer.style.height = scrollSize.height;\\n            dimLayer.style.display = \"block\";\\n\\n            if (clientSize.width > 960) {\\n                    myWriteLayer.style.left = (clientSize.width - 960) / 2;\\n            } else {\\n                    myWriteLayer.style.left = -2;\\n            }\\n            myWriteLayer.style.display = \\'block\\';\\n            myWriteLayer.focus();\\n\\n            window.onresize=layerResize;\\n\\n            //document.getElementById(\"myWrite\").src=\"/item/boardMyList.nhn?parentCode=005930\";\\n            document.getElementById(\"myWrite\").src=\"/item/boardMyList.nhn?parentCode=005930\";\\n    }\\n}\\n\\nfunction closeMyWriteLayer() {\\n\\tvar dimLayer = document.getElementById(\"dim\");\\n\\tvar myWriteLayer = document.getElementById(\"myWriteLayer\");\\n\\t\\n\\tif(dimLayer && myWriteLayer) {\\n\\t\\tdimLayer.style.display = \"none\";\\n\\t\\tmyWriteLayer.style.display = \\'none\\';\\n\\t\\t\\n\\t\\twindow.onresize = null;\\n\\t}\\n}\\n</script>\\n</body>\\n</html>'"
      ]
     },
     "execution_count": 67,
     "metadata": {},
     "output_type": "execute_result"
    }
   ],
   "source": [
    "headers = {'user-agent' : 'Mozilla/5.0 (Windows NT 10.0; Win64; x64) AppleWebKit/537.36 (KHTML, like Gecko) Chrome/88.0.4324.150 Safari/537.36'}\n",
    "response = requests.get(url, headers = headers)\n",
    "response.text"
   ]
  },
  {
   "cell_type": "markdown",
   "metadata": {},
   "source": [
    "# BeautifulSoup을 통해 table tag 및 마지막 페이지 번호 찾기"
   ]
  },
  {
   "cell_type": "markdown",
   "metadata": {},
   "source": [
    "## table tag"
   ]
  },
  {
   "cell_type": "code",
   "execution_count": 68,
   "metadata": {},
   "outputs": [],
   "source": [
    "html = bs(response.text)"
   ]
  },
  {
   "cell_type": "code",
   "execution_count": 69,
   "metadata": {},
   "outputs": [],
   "source": [
    "tables = html.select(\"table\")\n",
    "table = pd.read_html(str(tables), encoding = \"euc-kr\")"
   ]
  },
  {
   "cell_type": "code",
   "execution_count": 77,
   "metadata": {},
   "outputs": [
    {
     "data": {
      "text/html": [
       "<div>\n",
       "<style scoped>\n",
       "    .dataframe tbody tr th:only-of-type {\n",
       "        vertical-align: middle;\n",
       "    }\n",
       "\n",
       "    .dataframe tbody tr th {\n",
       "        vertical-align: top;\n",
       "    }\n",
       "\n",
       "    .dataframe thead th {\n",
       "        text-align: right;\n",
       "    }\n",
       "</style>\n",
       "<table border=\"1\" class=\"dataframe\">\n",
       "  <thead>\n",
       "    <tr style=\"text-align: right;\">\n",
       "      <th></th>\n",
       "      <th>날짜</th>\n",
       "      <th>제목</th>\n",
       "      <th>글쓴이</th>\n",
       "      <th>조회</th>\n",
       "      <th>공감</th>\n",
       "      <th>비공감</th>\n",
       "    </tr>\n",
       "  </thead>\n",
       "  <tbody>\n",
       "    <tr>\n",
       "      <th>1</th>\n",
       "      <td>2021.02.16 17:47</td>\n",
       "      <td>46800에 매수한 120살 할머니입니다</td>\n",
       "      <td>aass****</td>\n",
       "      <td>5.0</td>\n",
       "      <td>0.0</td>\n",
       "      <td>0.0</td>\n",
       "    </tr>\n",
       "    <tr>\n",
       "      <th>2</th>\n",
       "      <td>2021.02.16 17:46</td>\n",
       "      <td>오빠들 저 어떡해요 ㅜㅜ 인생 망했어요....</td>\n",
       "      <td>rlfd****</td>\n",
       "      <td>40.0</td>\n",
       "      <td>0.0</td>\n",
       "      <td>1.0</td>\n",
       "    </tr>\n",
       "    <tr>\n",
       "      <th>3</th>\n",
       "      <td>2021.02.16 17:43</td>\n",
       "      <td>가장 드러운 장세다..위에서 계속 누른다...</td>\n",
       "      <td>saba****</td>\n",
       "      <td>46.0</td>\n",
       "      <td>2.0</td>\n",
       "      <td>1.0</td>\n",
       "    </tr>\n",
       "  </tbody>\n",
       "</table>\n",
       "</div>"
      ],
      "text/plain": [
       "                 날짜                         제목       글쓴이    조회   공감  비공감\n",
       "1  2021.02.16 17:47     46800에 매수한 120살 할머니입니다  aass****   5.0  0.0  0.0\n",
       "2  2021.02.16 17:46  오빠들 저 어떡해요 ㅜㅜ 인생 망했어요....  rlfd****  40.0  0.0  1.0\n",
       "3  2021.02.16 17:43  가장 드러운 장세다..위에서 계속 누른다...  saba****  46.0  2.0  1.0"
      ]
     },
     "execution_count": 77,
     "metadata": {},
     "output_type": "execute_result"
    }
   ],
   "source": [
    "data = table[1].iloc[:,:6].dropna()\n",
    "data.head(3)"
   ]
  },
  {
   "cell_type": "markdown",
   "metadata": {},
   "source": [
    "## 마지막 페이지 번호"
   ]
  },
  {
   "cell_type": "code",
   "execution_count": 118,
   "metadata": {},
   "outputs": [
    {
     "data": {
      "text/plain": [
       "'46913'"
      ]
     },
     "execution_count": 118,
     "metadata": {},
     "output_type": "execute_result"
    }
   ],
   "source": [
    "html.select(\".pgRR > a\")[0][\"href\"].split(\"=\")[-1]"
   ]
  },
  {
   "cell_type": "markdown",
   "metadata": {},
   "source": [
    "# 함수 생성"
   ]
  },
  {
   "cell_type": "markdown",
   "metadata": {},
   "source": [
    "## 페이지별 데이터 수집 함수 생성"
   ]
  },
  {
   "cell_type": "code",
   "execution_count": 81,
   "metadata": {},
   "outputs": [],
   "source": [
    "\n",
    "def get_page_data(item_code, page_no, headers = None):\n",
    "    \"\"\"\n",
    "    특정 주식 종목 및 종목토론실 글을 불러오기\n",
    "    \"\"\"\n",
    "    url = f\"https://finance.naver.com/item/board.nhn?code={item_code}&page={page_no}\"\n",
    "    response = requests.get(url,headers = headers)\n",
    "    \n",
    "    html = bs(response.text)\n",
    "    \n",
    "    tables = html.select(\"table\")\n",
    "    table = pd.read_html(str(tables),encoding = \"euc-kr\")\n",
    "    \n",
    "    data = table[1].iloc[:,:6].dropna()\n",
    "    return data"
   ]
  },
  {
   "cell_type": "code",
   "execution_count": 82,
   "metadata": {},
   "outputs": [
    {
     "data": {
      "text/html": [
       "<div>\n",
       "<style scoped>\n",
       "    .dataframe tbody tr th:only-of-type {\n",
       "        vertical-align: middle;\n",
       "    }\n",
       "\n",
       "    .dataframe tbody tr th {\n",
       "        vertical-align: top;\n",
       "    }\n",
       "\n",
       "    .dataframe thead th {\n",
       "        text-align: right;\n",
       "    }\n",
       "</style>\n",
       "<table border=\"1\" class=\"dataframe\">\n",
       "  <thead>\n",
       "    <tr style=\"text-align: right;\">\n",
       "      <th></th>\n",
       "      <th>날짜</th>\n",
       "      <th>제목</th>\n",
       "      <th>글쓴이</th>\n",
       "      <th>조회</th>\n",
       "      <th>공감</th>\n",
       "      <th>비공감</th>\n",
       "    </tr>\n",
       "  </thead>\n",
       "  <tbody>\n",
       "    <tr>\n",
       "      <th>1</th>\n",
       "      <td>2021.02.16 17:54</td>\n",
       "      <td>봐봐 정치라는거 어떤것인가 가장 지혜로운...</td>\n",
       "      <td>true****</td>\n",
       "      <td>2.0</td>\n",
       "      <td>0.0</td>\n",
       "      <td>0.0</td>\n",
       "    </tr>\n",
       "    <tr>\n",
       "      <th>2</th>\n",
       "      <td>2021.02.16 17:53</td>\n",
       "      <td>왜 우리나라 100신은 칼라냐 흰색 검은...</td>\n",
       "      <td>kshe****</td>\n",
       "      <td>5.0</td>\n",
       "      <td>0.0</td>\n",
       "      <td>0.0</td>\n",
       "    </tr>\n",
       "    <tr>\n",
       "      <th>3</th>\n",
       "      <td>2021.02.16 17:51</td>\n",
       "      <td>계속 사야합니다</td>\n",
       "      <td>heis****</td>\n",
       "      <td>37.0</td>\n",
       "      <td>0.0</td>\n",
       "      <td>0.0</td>\n",
       "    </tr>\n",
       "    <tr>\n",
       "      <th>4</th>\n",
       "      <td>2021.02.16 17:48</td>\n",
       "      <td>단타를쳐야지 글게 쳐물려</td>\n",
       "      <td>gmdq****</td>\n",
       "      <td>92.0</td>\n",
       "      <td>1.0</td>\n",
       "      <td>3.0</td>\n",
       "    </tr>\n",
       "    <tr>\n",
       "      <th>5</th>\n",
       "      <td>2021.02.16 17:47</td>\n",
       "      <td>삼성 목표주가 15만원  [1]</td>\n",
       "      <td>rys0****</td>\n",
       "      <td>210.0</td>\n",
       "      <td>7.0</td>\n",
       "      <td>3.0</td>\n",
       "    </tr>\n",
       "    <tr>\n",
       "      <th>7</th>\n",
       "      <td>2021.02.16 17:47</td>\n",
       "      <td>46800에 매수한 120살 할머니입니다  [1]</td>\n",
       "      <td>aass****</td>\n",
       "      <td>151.0</td>\n",
       "      <td>3.0</td>\n",
       "      <td>2.0</td>\n",
       "    </tr>\n",
       "    <tr>\n",
       "      <th>8</th>\n",
       "      <td>2021.02.16 17:46</td>\n",
       "      <td>오빠들 저 어떡해요 ㅜㅜ 인생 망했어요....  [5]</td>\n",
       "      <td>rlfd****</td>\n",
       "      <td>328.0</td>\n",
       "      <td>1.0</td>\n",
       "      <td>9.0</td>\n",
       "    </tr>\n",
       "    <tr>\n",
       "      <th>9</th>\n",
       "      <td>2021.02.16 17:43</td>\n",
       "      <td>초고수다..가장 드러운 장세다..위에서 ...  [1]</td>\n",
       "      <td>saba****</td>\n",
       "      <td>158.0</td>\n",
       "      <td>2.0</td>\n",
       "      <td>2.0</td>\n",
       "    </tr>\n",
       "    <tr>\n",
       "      <th>10</th>\n",
       "      <td>2021.02.16 17:42</td>\n",
       "      <td>내일</td>\n",
       "      <td>dlcj****</td>\n",
       "      <td>166.0</td>\n",
       "      <td>2.0</td>\n",
       "      <td>0.0</td>\n",
       "    </tr>\n",
       "    <tr>\n",
       "      <th>11</th>\n",
       "      <td>2021.02.16 17:42</td>\n",
       "      <td>96800에 물린 20대 초반 여대생입니...  [5]</td>\n",
       "      <td>cucu****</td>\n",
       "      <td>573.0</td>\n",
       "      <td>1.0</td>\n",
       "      <td>1.0</td>\n",
       "    </tr>\n",
       "    <tr>\n",
       "      <th>13</th>\n",
       "      <td>2021.02.16 17:42</td>\n",
       "      <td>가긴 가겠다</td>\n",
       "      <td>ycg8****</td>\n",
       "      <td>118.0</td>\n",
       "      <td>1.0</td>\n",
       "      <td>0.0</td>\n",
       "    </tr>\n",
       "    <tr>\n",
       "      <th>14</th>\n",
       "      <td>2021.02.16 17:41</td>\n",
       "      <td>사면사면하는데  [1]</td>\n",
       "      <td>skek****</td>\n",
       "      <td>116.0</td>\n",
       "      <td>1.0</td>\n",
       "      <td>0.0</td>\n",
       "    </tr>\n",
       "    <tr>\n",
       "      <th>15</th>\n",
       "      <td>2021.02.16 17:41</td>\n",
       "      <td>한국투자증권 앱 나만 안??  [2]</td>\n",
       "      <td>tl12****</td>\n",
       "      <td>136.0</td>\n",
       "      <td>1.0</td>\n",
       "      <td>0.0</td>\n",
       "    </tr>\n",
       "    <tr>\n",
       "      <th>16</th>\n",
       "      <td>2021.02.16 17:40</td>\n",
       "      <td>신임 인텔 CEO 입에 쏠린 눈…삼성전자...</td>\n",
       "      <td>kimg****</td>\n",
       "      <td>149.0</td>\n",
       "      <td>2.0</td>\n",
       "      <td>0.0</td>\n",
       "    </tr>\n",
       "    <tr>\n",
       "      <th>17</th>\n",
       "      <td>2021.02.16 17:40</td>\n",
       "      <td>고금 세계 인류역사이래 가장 태평성대는 ...</td>\n",
       "      <td>true****</td>\n",
       "      <td>68.0</td>\n",
       "      <td>0.0</td>\n",
       "      <td>4.0</td>\n",
       "    </tr>\n",
       "    <tr>\n",
       "      <th>19</th>\n",
       "      <td>2021.02.16 17:39</td>\n",
       "      <td>주주총회</td>\n",
       "      <td>yy82****</td>\n",
       "      <td>110.0</td>\n",
       "      <td>3.0</td>\n",
       "      <td>0.0</td>\n",
       "    </tr>\n",
       "    <tr>\n",
       "      <th>20</th>\n",
       "      <td>2021.02.16 17:38</td>\n",
       "      <td>to 겔싱어 ceo</td>\n",
       "      <td>just****</td>\n",
       "      <td>66.0</td>\n",
       "      <td>2.0</td>\n",
       "      <td>0.0</td>\n",
       "    </tr>\n",
       "    <tr>\n",
       "      <th>21</th>\n",
       "      <td>2021.02.16 17:37</td>\n",
       "      <td>문가 일당들 세종대왕보다 세계적으로 정치...  [1]</td>\n",
       "      <td>true****</td>\n",
       "      <td>85.0</td>\n",
       "      <td>1.0</td>\n",
       "      <td>10.0</td>\n",
       "    </tr>\n",
       "    <tr>\n",
       "      <th>22</th>\n",
       "      <td>2021.02.16 17:46</td>\n",
       "      <td>문가 일당들 세종대왕보다 세계적으로 정치...</td>\n",
       "      <td>kcty****</td>\n",
       "      <td>11.0</td>\n",
       "      <td>1.0</td>\n",
       "      <td>0.0</td>\n",
       "    </tr>\n",
       "    <tr>\n",
       "      <th>23</th>\n",
       "      <td>2021.02.16 17:37</td>\n",
       "      <td>좀있으면 투자뉴스 줄줄 나온다</td>\n",
       "      <td>best****</td>\n",
       "      <td>117.0</td>\n",
       "      <td>4.0</td>\n",
       "      <td>0.0</td>\n",
       "    </tr>\n",
       "  </tbody>\n",
       "</table>\n",
       "</div>"
      ],
      "text/plain": [
       "                  날짜                              제목       글쓴이     조회   공감  \\\n",
       "1   2021.02.16 17:54       봐봐 정치라는거 어떤것인가 가장 지혜로운...  true****    2.0  0.0   \n",
       "2   2021.02.16 17:53       왜 우리나라 100신은 칼라냐 흰색 검은...  kshe****    5.0  0.0   \n",
       "3   2021.02.16 17:51                        계속 사야합니다  heis****   37.0  0.0   \n",
       "4   2021.02.16 17:48                   단타를쳐야지 글게 쳐물려  gmdq****   92.0  1.0   \n",
       "5   2021.02.16 17:47               삼성 목표주가 15만원  [1]  rys0****  210.0  7.0   \n",
       "7   2021.02.16 17:47     46800에 매수한 120살 할머니입니다  [1]  aass****  151.0  3.0   \n",
       "8   2021.02.16 17:46  오빠들 저 어떡해요 ㅜㅜ 인생 망했어요....  [5]  rlfd****  328.0  1.0   \n",
       "9   2021.02.16 17:43  초고수다..가장 드러운 장세다..위에서 ...  [1]  saba****  158.0  2.0   \n",
       "10  2021.02.16 17:42                              내일  dlcj****  166.0  2.0   \n",
       "11  2021.02.16 17:42  96800에 물린 20대 초반 여대생입니...  [5]  cucu****  573.0  1.0   \n",
       "13  2021.02.16 17:42                          가긴 가겠다  ycg8****  118.0  1.0   \n",
       "14  2021.02.16 17:41                    사면사면하는데  [1]  skek****  116.0  1.0   \n",
       "15  2021.02.16 17:41            한국투자증권 앱 나만 안??  [2]  tl12****  136.0  1.0   \n",
       "16  2021.02.16 17:40       신임 인텔 CEO 입에 쏠린 눈…삼성전자...  kimg****  149.0  2.0   \n",
       "17  2021.02.16 17:40       고금 세계 인류역사이래 가장 태평성대는 ...  true****   68.0  0.0   \n",
       "19  2021.02.16 17:39                            주주총회  yy82****  110.0  3.0   \n",
       "20  2021.02.16 17:38                      to 겔싱어 ceo  just****   66.0  2.0   \n",
       "21  2021.02.16 17:37  문가 일당들 세종대왕보다 세계적으로 정치...  [1]  true****   85.0  1.0   \n",
       "22  2021.02.16 17:46       문가 일당들 세종대왕보다 세계적으로 정치...  kcty****   11.0  1.0   \n",
       "23  2021.02.16 17:37                좀있으면 투자뉴스 줄줄 나온다  best****  117.0  4.0   \n",
       "\n",
       "     비공감  \n",
       "1    0.0  \n",
       "2    0.0  \n",
       "3    0.0  \n",
       "4    3.0  \n",
       "5    3.0  \n",
       "7    2.0  \n",
       "8    9.0  \n",
       "9    2.0  \n",
       "10   0.0  \n",
       "11   1.0  \n",
       "13   0.0  \n",
       "14   0.0  \n",
       "15   0.0  \n",
       "16   0.0  \n",
       "17   4.0  \n",
       "19   0.0  \n",
       "20   0.0  \n",
       "21  10.0  \n",
       "22   0.0  \n",
       "23   0.0  "
      ]
     },
     "execution_count": 82,
     "metadata": {},
     "output_type": "execute_result"
    }
   ],
   "source": [
    "item_code = \"005930\"\n",
    "page_no = 1\n",
    "headers = {'user-agent' : 'Mozilla/5.0 (Windows NT 10.0; Win64; x64) AppleWebKit/537.36 (KHTML, like Gecko) Chrome/88.0.4324.150 Safari/537.36'}\n",
    "get_page_data(item_code = item_code, page_no = page_no, headers = headers)"
   ]
  },
  {
   "cell_type": "markdown",
   "metadata": {},
   "source": [
    "## 특정 주식 종목의 종목토론실 마지막 페이지 번호 호출 함수 생성"
   ]
  },
  {
   "cell_type": "code",
   "execution_count": 146,
   "metadata": {},
   "outputs": [],
   "source": [
    "def get_last_page_no(item_code,headers = None):\n",
    "    \"\"\"\n",
    "    특정 주식 종목의 종목토론실 마지막 페이지 번호 가져오기\n",
    "    \"\"\"\n",
    "    url = f\"https://finance.naver.com/item/board.nhn?code={item_code}&page=1\"\n",
    "    response = requests.get(url,headers = headers)\n",
    "    \n",
    "    html = bs(response.text)\n",
    "    last_page_no = html.select(\".pgRR > a\")[0][\"href\"].split(\"=\")[-1]\n",
    "    return int(last_page_no)\n"
   ]
  },
  {
   "cell_type": "markdown",
   "metadata": {},
   "source": [
    "# 반복문을 통해 전체 페이지 데이터 수집"
   ]
  },
  {
   "cell_type": "code",
   "execution_count": 187,
   "metadata": {
    "scrolled": true
   },
   "outputs": [
    {
     "name": "stdout",
     "output_type": "stream",
     "text": [
      "1 page 수집 완료 [5.0%]\n",
      "2 page 수집 완료 [10.0%]\n",
      "3 page 수집 완료 [15.0%]\n",
      "4 page 수집 완료 [20.0%]\n",
      "5 page 수집 완료 [25.0%]\n",
      "6 page 수집 완료 [30.0%]\n",
      "7 page 수집 완료 [35.0%]\n",
      "8 page 수집 완료 [40.0%]\n",
      "9 page 수집 완료 [45.0%]\n",
      "10 page 수집 완료 [50.0%]\n",
      "11 page 수집 완료 [55.0%]\n",
      "12 page 수집 완료 [60.0%]\n",
      "13 page 수집 완료 [65.0%]\n",
      "14 page 수집 완료 [70.0%]\n",
      "15 page 수집 완료 [75.0%]\n",
      "16 page 수집 완료 [80.0%]\n",
      "17 page 수집 완료 [85.0%]\n",
      "18 page 수집 완료 [90.0%]\n",
      "19 page 수집 완료 [95.0%]\n",
      "20 page 수집 완료 [100.0%]\n"
     ]
    }
   ],
   "source": [
    "item_code = \"005930\"\n",
    "page_no = 1\n",
    "headers = {'user-agent' : 'Mozilla/5.0 (Windows NT 10.0; Win64; x64) AppleWebKit/537.36 (KHTML, like Gecko) Chrome/88.0.4324.150 Safari/537.36'}\n",
    "\n",
    "results = []\n",
    "\n",
    "#마지막 페이지 번호가 40000번대라 임시로 마지막 페이지 번호 지정\n",
    "# last_pg_no = get_last_page_no(item_code = item_code, headers = headers)\n",
    "last_pg_no = 20\n",
    "while True:    \n",
    "    result = get_page_data(item_code = item_code, page_no = page_no, headers = headers)\n",
    "    results.append(result)\n",
    "    notice = f\"{page_no} page 수집 완료 [{round(page_no/last_pg_no*100,2)}%]\"\n",
    "    print(notice)\n",
    "    page_no +=1\n",
    "    time.sleep(np.random.randint(low = 1, high = 20)/10)\n",
    "    if page_no > last_pg_no:\n",
    "        break\n",
    "    "
   ]
  },
  {
   "cell_type": "markdown",
   "metadata": {},
   "source": [
    "# 수집한 데이터 합치기"
   ]
  },
  {
   "cell_type": "code",
   "execution_count": 192,
   "metadata": {},
   "outputs": [
    {
     "data": {
      "text/html": [
       "<div>\n",
       "<style scoped>\n",
       "    .dataframe tbody tr th:only-of-type {\n",
       "        vertical-align: middle;\n",
       "    }\n",
       "\n",
       "    .dataframe tbody tr th {\n",
       "        vertical-align: top;\n",
       "    }\n",
       "\n",
       "    .dataframe thead th {\n",
       "        text-align: right;\n",
       "    }\n",
       "</style>\n",
       "<table border=\"1\" class=\"dataframe\">\n",
       "  <thead>\n",
       "    <tr style=\"text-align: right;\">\n",
       "      <th></th>\n",
       "      <th>날짜</th>\n",
       "      <th>제목</th>\n",
       "      <th>글쓴이</th>\n",
       "      <th>조회</th>\n",
       "      <th>공감</th>\n",
       "      <th>비공감</th>\n",
       "    </tr>\n",
       "  </thead>\n",
       "  <tbody>\n",
       "    <tr>\n",
       "      <th>1</th>\n",
       "      <td>2021.02.16 18:43</td>\n",
       "      <td>죄는 삼성회장님이 했는데</td>\n",
       "      <td>kyj3****</td>\n",
       "      <td>4.0</td>\n",
       "      <td>0.0</td>\n",
       "      <td>0.0</td>\n",
       "    </tr>\n",
       "    <tr>\n",
       "      <th>2</th>\n",
       "      <td>2021.02.16 18:43</td>\n",
       "      <td>삼성폭락?</td>\n",
       "      <td>7598****</td>\n",
       "      <td>6.0</td>\n",
       "      <td>0.0</td>\n",
       "      <td>0.0</td>\n",
       "    </tr>\n",
       "    <tr>\n",
       "      <th>3</th>\n",
       "      <td>2021.02.16 18:43</td>\n",
       "      <td>사상 최고로 개미들돈이 들어와 주가 끓어...  [1]</td>\n",
       "      <td>pres****</td>\n",
       "      <td>13.0</td>\n",
       "      <td>0.0</td>\n",
       "      <td>0.0</td>\n",
       "    </tr>\n",
       "    <tr>\n",
       "      <th>4</th>\n",
       "      <td>2021.02.16 18:42</td>\n",
       "      <td>저녁만 되면 설치는 간첩단 넘들.</td>\n",
       "      <td>peop****</td>\n",
       "      <td>11.0</td>\n",
       "      <td>2.0</td>\n",
       "      <td>2.0</td>\n",
       "    </tr>\n",
       "    <tr>\n",
       "      <th>5</th>\n",
       "      <td>2021.02.16 18:44</td>\n",
       "      <td>개보수가 김정은 지령받고 문재인 욕한다</td>\n",
       "      <td>tjdr****</td>\n",
       "      <td>1.0</td>\n",
       "      <td>0.0</td>\n",
       "      <td>0.0</td>\n",
       "    </tr>\n",
       "  </tbody>\n",
       "</table>\n",
       "</div>"
      ],
      "text/plain": [
       "                 날짜                              제목       글쓴이    조회   공감  비공감\n",
       "1  2021.02.16 18:43                   죄는 삼성회장님이 했는데  kyj3****   4.0  0.0  0.0\n",
       "2  2021.02.16 18:43                           삼성폭락?  7598****   6.0  0.0  0.0\n",
       "3  2021.02.16 18:43  사상 최고로 개미들돈이 들어와 주가 끓어...  [1]  pres****  13.0  0.0  0.0\n",
       "4  2021.02.16 18:42              저녁만 되면 설치는 간첩단 넘들.  peop****  11.0  2.0  2.0\n",
       "5  2021.02.16 18:44           개보수가 김정은 지령받고 문재인 욕한다  tjdr****   1.0  0.0  0.0"
      ]
     },
     "execution_count": 192,
     "metadata": {},
     "output_type": "execute_result"
    }
   ],
   "source": [
    "results = pd.concat(results)\n",
    "results.head()"
   ]
  },
  {
   "cell_type": "markdown",
   "metadata": {},
   "source": [
    "# 종목코드 컬럼 생성"
   ]
  },
  {
   "cell_type": "code",
   "execution_count": 193,
   "metadata": {},
   "outputs": [
    {
     "data": {
      "text/html": [
       "<div>\n",
       "<style scoped>\n",
       "    .dataframe tbody tr th:only-of-type {\n",
       "        vertical-align: middle;\n",
       "    }\n",
       "\n",
       "    .dataframe tbody tr th {\n",
       "        vertical-align: top;\n",
       "    }\n",
       "\n",
       "    .dataframe thead th {\n",
       "        text-align: right;\n",
       "    }\n",
       "</style>\n",
       "<table border=\"1\" class=\"dataframe\">\n",
       "  <thead>\n",
       "    <tr style=\"text-align: right;\">\n",
       "      <th></th>\n",
       "      <th>날짜</th>\n",
       "      <th>제목</th>\n",
       "      <th>글쓴이</th>\n",
       "      <th>조회</th>\n",
       "      <th>공감</th>\n",
       "      <th>비공감</th>\n",
       "      <th>종목코드</th>\n",
       "    </tr>\n",
       "  </thead>\n",
       "  <tbody>\n",
       "    <tr>\n",
       "      <th>1</th>\n",
       "      <td>2021.02.16 18:43</td>\n",
       "      <td>죄는 삼성회장님이 했는데</td>\n",
       "      <td>kyj3****</td>\n",
       "      <td>4.0</td>\n",
       "      <td>0.0</td>\n",
       "      <td>0.0</td>\n",
       "      <td>005930</td>\n",
       "    </tr>\n",
       "    <tr>\n",
       "      <th>2</th>\n",
       "      <td>2021.02.16 18:43</td>\n",
       "      <td>삼성폭락?</td>\n",
       "      <td>7598****</td>\n",
       "      <td>6.0</td>\n",
       "      <td>0.0</td>\n",
       "      <td>0.0</td>\n",
       "      <td>005930</td>\n",
       "    </tr>\n",
       "  </tbody>\n",
       "</table>\n",
       "</div>"
      ],
      "text/plain": [
       "                 날짜             제목       글쓴이   조회   공감  비공감    종목코드\n",
       "1  2021.02.16 18:43  죄는 삼성회장님이 했는데  kyj3****  4.0  0.0  0.0  005930\n",
       "2  2021.02.16 18:43          삼성폭락?  7598****  6.0  0.0  0.0  005930"
      ]
     },
     "execution_count": 193,
     "metadata": {},
     "output_type": "execute_result"
    }
   ],
   "source": [
    "results[\"종목코드\"] = item_code\n",
    "results.head(2)"
   ]
  }
 ],
 "metadata": {
  "kernelspec": {
   "display_name": "Python 3",
   "language": "python",
   "name": "python3"
  },
  "language_info": {
   "codemirror_mode": {
    "name": "ipython",
    "version": 3
   },
   "file_extension": ".py",
   "mimetype": "text/x-python",
   "name": "python",
   "nbconvert_exporter": "python",
   "pygments_lexer": "ipython3",
   "version": "3.8.3"
  },
  "toc": {
   "base_numbering": 1,
   "nav_menu": {},
   "number_sections": true,
   "sideBar": true,
   "skip_h1_title": false,
   "title_cell": "Table of Contents",
   "title_sidebar": "Contents",
   "toc_cell": false,
   "toc_position": {},
   "toc_section_display": true,
   "toc_window_display": true
  }
 },
 "nbformat": 4,
 "nbformat_minor": 4
}
