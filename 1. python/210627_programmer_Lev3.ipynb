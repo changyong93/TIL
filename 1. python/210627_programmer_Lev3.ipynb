{
  "nbformat": 4,
  "nbformat_minor": 0,
  "metadata": {
    "colab": {
      "name": "210627 programmer_Lev3",
      "private_outputs": true,
      "provenance": [],
      "authorship_tag": "ABX9TyPkeDXxhfxqt/05E2dX78Ve",
      "include_colab_link": true
    },
    "kernelspec": {
      "name": "python3",
      "display_name": "Python 3"
    },
    "language_info": {
      "name": "python"
    }
  },
  "cells": [
    {
      "cell_type": "markdown",
      "metadata": {
        "id": "view-in-github",
        "colab_type": "text"
      },
      "source": [
        "<a href=\"https://colab.research.google.com/github/changyong93/TIL/blob/main/210627_programmer_Lev3.ipynb\" target=\"_parent\"><img src=\"https://colab.research.google.com/assets/colab-badge.svg\" alt=\"Open In Colab\"/></a>"
      ]
    },
    {
      "cell_type": "code",
      "metadata": {
        "id": "IVJzPby48j7S"
      },
      "source": [
        "from collections import deque\n",
        "def find_path(p1,p2,new_board):\n",
        "    y,x = 0,1 #y : 행방향, x : 열방향\n",
        "    paths = []\n",
        "    #평행이동\n",
        "    delta = [(0,1),(0,-1),(1,0),(-1,0)]\n",
        "    for dy,dx in delta:\n",
        "        next1 = (p1[y]+dy, p1[x]+dx)\n",
        "        next2 = (p2[y]+dy, p2[x]+dx)\n",
        "        print(next1,next2,new_board[next1[y]][next1[x]] , new_board[next2[y]][next2[x]],new_board[next1[y]][next1[x]] and new_board[next2[y]][next2[x]])\n",
        "        if new_board[next1[y]][next1[x]] and new_board[next2[y]][next2[x]]:\n",
        "            paths.append((next1,next2))\n",
        "    #회전\n",
        "    cw,ccw = -1,1 #ccw 기준\n",
        "    for rot in [cw,ccw]:\n",
        "        if p1[y] == p2[y]: #로봇이 세로로 있을 때\n",
        "            if new_board[p1[y]][p1[x]+rot] and new_board[p2[y]][p2[x]+rot]:\n",
        "                paths.append((p1, (p1[y], p1[x]+rot)))\n",
        "                paths.append((p2, (p2[y], p2[x]+rot)))\n",
        "        else: #로봇이 가로로 있을 때\n",
        "            if new_board[p1[y]+rot][p1[x]] and new_board[p2[y]+rot][p2[x]]:\n",
        "                paths.append((p1, (p1[y]+rot, p1[x])))\n",
        "                paths.append((p2, (p2[y]+rot, p2[x])))\n",
        "    return paths\n",
        "\n",
        "def solution(board):\n",
        "    n = len(board)\n",
        "    new_board = [[False]*(n+2) for _ in range(n+2)]\n",
        "    for i in range(n):\n",
        "        for j in range(n):\n",
        "            new_board[i+1][j+1] = True if board[i][j]==0 else False\n",
        "    q = deque([[(1,1),(1,2),0]])\n",
        "    visited = set([((1,1),(1,2))])\n",
        "    while q:\n",
        "        p1,p2,cnt = q.popleft()\n",
        "        cnt += 1\n",
        "        a = find_path(p1,p2,new_board)\n",
        "        # for cur in find_path(p1,p2,new_board):\n",
        "            # if (n,n) in cur:\n",
        "            #     return cnt\n",
        "            # print(cur, cur in visited)\n",
        "            # if cur not in visited:\n",
        "            #     q.append((cur, cnt))\n",
        "            #     visited.add(cur)\n",
        "    \n",
        "solution([[0, 0, 0, 1, 1],[0, 0, 0, 1, 0],[0, 1, 0, 1, 1],[1, 1, 0, 0, 1],[0, 0, 0, 0, 0]])"
      ],
      "execution_count": null,
      "outputs": []
    },
    {
      "cell_type": "code",
      "metadata": {
        "id": "7fH7XEOU85CX"
      },
      "source": [
        "from collections import deque\n",
        "def find_path(pre,new_board):\n",
        "    y,x = 0,1 #y : 행방향, x : 열방향\n",
        "    y1,x1 = pre[0][0],pre[0][1]\n",
        "    y2,x2 = pre[1][0],pre[1][1]\n",
        "    paths = []\n",
        "    #평행이동\n",
        "    delta = [(0,1),(0,-1),(1,0),(-1,0)]\n",
        "    for dy,dx in delta:\n",
        "        next1 = (y1+dy, x1+dx)\n",
        "        next2 = (y2+dy, x2+dx)\n",
        "        if new_board[next1[y]][next1[x]] and new_board[next2[y]][next2[x]]:\n",
        "            paths.append((next1,next2))\n",
        "    #회전\n",
        "    cw,ccw = -1,1 #ccw 기준\n",
        "    for rot in [cw,ccw]:\n",
        "        if y1 == y2: #로봇이 세로로 있을 때\n",
        "            if new_board[y1+rot][x1] and new_board[y2+rot][x2]:\n",
        "                paths.append(((y1,x1), (y1+rot, x1)))\n",
        "                paths.append(((y2,x2), (y2+rot, x2)))\n",
        "        else: #로봇이 가로로 있을 때\n",
        "            if new_board[y1][x1+rot] and new_board[y2][x2+rot]:\n",
        "                paths.append(((y1,x1), (y1, x1+rot)))\n",
        "                paths.append(((y2,x2), (y2, x2+rot)))\n",
        "    return paths\n",
        "\n",
        "def solution(board):\n",
        "    n = len(board)\n",
        "    new_board = [[False]*(n+2) for _ in range(n+2)]\n",
        "    for i in range(n):\n",
        "        for j in range(n):\n",
        "            new_board[i+1][j+1] = True if board[i][j]==0 else False\n",
        "    q = deque([[((1,1),(1,2)),0]])\n",
        "    visited = set([((1,1),(1,2))])\n",
        "    while q:\n",
        "        pre,cnt = q.popleft()\n",
        "        cnt += 1\n",
        "        for cur in find_path(pre,new_board):\n",
        "            if (n,n) in cur:\n",
        "                return cnt\n",
        "            if cur not in visited:\n",
        "                q.append((cur, cnt))\n",
        "                visited.add(cur)\n",
        "    \n",
        "solution([[0, 0, 0, 1, 1], [0, 0, 0, 1, 0], [0, 1, 0, 1, 1], [1, 1, 0, 0, 1], [0, 0, 0, 0, 0]])"
      ],
      "execution_count": null,
      "outputs": []
    },
    {
      "cell_type": "markdown",
      "metadata": {
        "id": "dIHdpb8JEwNA"
      },
      "source": [
        "- BFS로 최단경로 출력\n",
        "- DFS(using Stack)으로도 구할 순 있으나, dfs로 하게 될 경우 모든 경로를 탐색해보고 그 중 가장 짧은 거리를 출력해야 함\n",
        "- 반면에, BFS로 하면, 전체 경로를 순차적으로 확인하기에 가장 먼저 end point에 도달한 횟수를 출력하면 되므로, 이 문제에선 bfs >> dfs"
      ]
    },
    {
      "cell_type": "code",
      "metadata": {
        "id": "VElqu66LFIdb"
      },
      "source": [
        ""
      ],
      "execution_count": null,
      "outputs": []
    }
  ]
}