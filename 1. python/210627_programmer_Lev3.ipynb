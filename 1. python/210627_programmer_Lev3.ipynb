{
  "nbformat": 4,
  "nbformat_minor": 0,
  "metadata": {
    "colab": {
      "name": "210627 programmer_Lev3",
      "private_outputs": true,
      "provenance": [],
      "toc_visible": true,
      "authorship_tag": "ABX9TyPhl4M8Tr/oouFuzzQzmaSw",
      "include_colab_link": true
    },
    "kernelspec": {
      "name": "python3",
      "display_name": "Python 3"
    },
    "language_info": {
      "name": "python"
    }
  },
  "cells": [
    {
      "cell_type": "markdown",
      "metadata": {
        "id": "view-in-github",
        "colab_type": "text"
      },
      "source": [
        "<a href=\"https://colab.research.google.com/github/changyong93/TIL/blob/main/1.%20python/210627_programmer_Lev3.ipynb\" target=\"_parent\"><img src=\"https://colab.research.google.com/assets/colab-badge.svg\" alt=\"Open In Colab\"/></a>"
      ]
    },
    {
      "cell_type": "markdown",
      "metadata": {
        "id": "E6vZF85Lt0E_"
      },
      "source": [
        "## 블록이동하기"
      ]
    },
    {
      "cell_type": "code",
      "metadata": {
        "id": "IVJzPby48j7S"
      },
      "source": [
        "from collections import deque\n",
        "def find_path(p1,p2,new_board):\n",
        "    y,x = 0,1 #y : 행방향, x : 열방향\n",
        "    paths = []\n",
        "    #평행이동\n",
        "    delta = [(0,1),(0,-1),(1,0),(-1,0)]\n",
        "    for dy,dx in delta:\n",
        "        next1 = (p1[y]+dy, p1[x]+dx)\n",
        "        next2 = (p2[y]+dy, p2[x]+dx)\n",
        "        print(next1,next2,new_board[next1[y]][next1[x]] , new_board[next2[y]][next2[x]],new_board[next1[y]][next1[x]] and new_board[next2[y]][next2[x]])\n",
        "        if new_board[next1[y]][next1[x]] and new_board[next2[y]][next2[x]]:\n",
        "            paths.append((next1,next2))\n",
        "    #회전\n",
        "    cw,ccw = -1,1 #ccw 기준\n",
        "    for rot in [cw,ccw]:\n",
        "        if p1[y] == p2[y]: #로봇이 세로로 있을 때\n",
        "            if new_board[p1[y]][p1[x]+rot] and new_board[p2[y]][p2[x]+rot]:\n",
        "                paths.append((p1, (p1[y], p1[x]+rot)))\n",
        "                paths.append((p2, (p2[y], p2[x]+rot)))\n",
        "        else: #로봇이 가로로 있을 때\n",
        "            if new_board[p1[y]+rot][p1[x]] and new_board[p2[y]+rot][p2[x]]:\n",
        "                paths.append((p1, (p1[y]+rot, p1[x])))\n",
        "                paths.append((p2, (p2[y]+rot, p2[x])))\n",
        "    return paths\n",
        "\n",
        "def solution(board):\n",
        "    n = len(board)\n",
        "    new_board = [[False]*(n+2) for _ in range(n+2)]\n",
        "    for i in range(n):\n",
        "        for j in range(n):\n",
        "            new_board[i+1][j+1] = True if board[i][j]==0 else False\n",
        "    q = deque([[(1,1),(1,2),0]])\n",
        "    visited = set([((1,1),(1,2))])\n",
        "    while q:\n",
        "        p1,p2,cnt = q.popleft()\n",
        "        cnt += 1\n",
        "        a = find_path(p1,p2,new_board)\n",
        "        # for cur in find_path(p1,p2,new_board):\n",
        "            # if (n,n) in cur:\n",
        "            #     return cnt\n",
        "            # print(cur, cur in visited)\n",
        "            # if cur not in visited:\n",
        "            #     q.append((cur, cnt))\n",
        "            #     visited.add(cur)\n",
        "    \n",
        "solution([[0, 0, 0, 1, 1],[0, 0, 0, 1, 0],[0, 1, 0, 1, 1],[1, 1, 0, 0, 1],[0, 0, 0, 0, 0]])"
      ],
      "execution_count": null,
      "outputs": []
    },
    {
      "cell_type": "code",
      "metadata": {
        "id": "7fH7XEOU85CX"
      },
      "source": [
        "from collections import deque\n",
        "def find_path(pre,new_board):\n",
        "    y,x = 0,1 #y : 행방향, x : 열방향\n",
        "    y1,x1 = pre[0][0],pre[0][1]\n",
        "    y2,x2 = pre[1][0],pre[1][1]\n",
        "    paths = []\n",
        "    #평행이동\n",
        "    delta = [(0,1),(0,-1),(1,0),(-1,0)]\n",
        "    for dy,dx in delta:\n",
        "        next1 = (y1+dy, x1+dx)\n",
        "        next2 = (y2+dy, x2+dx)\n",
        "        if new_board[next1[y]][next1[x]] and new_board[next2[y]][next2[x]]:\n",
        "            paths.append((next1,next2))\n",
        "    #회전\n",
        "    cw,ccw = -1,1 #ccw 기준\n",
        "    for rot in [cw,ccw]:\n",
        "        if y1 == y2: #로봇이 세로로 있을 때\n",
        "            if new_board[y1+rot][x1] and new_board[y2+rot][x2]:\n",
        "                paths.append(((y1,x1), (y1+rot, x1)))\n",
        "                paths.append(((y2,x2), (y2+rot, x2)))\n",
        "        else: #로봇이 가로로 있을 때\n",
        "            if new_board[y1][x1+rot] and new_board[y2][x2+rot]:\n",
        "                paths.append(((y1,x1), (y1, x1+rot)))\n",
        "                paths.append(((y2,x2), (y2, x2+rot)))\n",
        "    return paths\n",
        "\n",
        "def solution(board):\n",
        "    n = len(board)\n",
        "    new_board = [[False]*(n+2) for _ in range(n+2)]\n",
        "    for i in range(n):\n",
        "        for j in range(n):\n",
        "            new_board[i+1][j+1] = True if board[i][j]==0 else False\n",
        "    q = deque([[((1,1),(1,2)),0]])\n",
        "    visited = set([((1,1),(1,2))])\n",
        "    while q:\n",
        "        pre,cnt = q.popleft()\n",
        "        cnt += 1\n",
        "        for cur in find_path(pre,new_board):\n",
        "            if (n,n) in cur:\n",
        "                return cnt\n",
        "            if cur not in visited:\n",
        "                q.append((cur, cnt))\n",
        "                visited.add(cur)\n",
        "    \n",
        "solution([[0, 0, 0, 1, 1], [0, 0, 0, 1, 0], [0, 1, 0, 1, 1], [1, 1, 0, 0, 1], [0, 0, 0, 0, 0]])"
      ],
      "execution_count": null,
      "outputs": []
    },
    {
      "cell_type": "markdown",
      "metadata": {
        "id": "dIHdpb8JEwNA"
      },
      "source": [
        "- BFS로 최단경로 출력\n",
        "- DFS(using Stack)으로도 구할 순 있으나, dfs로 하게 될 경우 모든 경로를 탐색해보고 그 중 가장 짧은 거리를 출력해야 함\n",
        "- 반면에, BFS로 하면, 전체 경로를 순차적으로 확인하기에 가장 먼저 end point에 도달한 횟수를 출력하면 되므로, 이 문제에선 bfs >> dfs"
      ]
    },
    {
      "cell_type": "markdown",
      "metadata": {
        "id": "VElqu66LFIdb"
      },
      "source": [
        "## 입국심사 - 이분탐색\n",
        "---\n",
        "이분 탐색(시간복잡도 logO)\n",
        "- **정렬된 데이터**에서 특정 값이 존재하는지 검색하는 알고리즘\n",
        "- 기준 값을 구해서 그 값을 기준으로 데이터를 나눠서 검색하는 방법\n",
        "- 특정 값을 찾을 때 기본 이진 탐색으로 가능\n",
        "\n",
        "일반적인 이진분류\n",
        "- start, end 범위를 지정하고 그 중간인 mid idex 값을 출력하여\n",
        "    - 목표 값보다 크면 end = mid -1, 작으면 start = min + 1을 한다\n",
        "    - 목표 값보다 큰 경우를 예를 들면, 현재 mid를 포함한 값들은 전부 목표와 상관 없는 값이기에 mid값까지 포함하여 제외시켜주는 것이다\n",
        "- 이진 분류는 재귀적 방법과 비재귀적 방법이 존재한다\n",
        "  - 단, 재귀적 방법은 함수 내에서 또 함수를 호출하기에 비재귀보다 성능이 나쁘며\n",
        "  - 콜스택(callstack)이슈도 발생할 수 있다.\n",
        "- 단, 중복된 데이터에서 탐색할 때는 조금 더 응용된 방법을 사용\n",
        "  - lower bound, upper bound\n",
        "    - lower bound : 데이터 내에서 특정 값보다 크거나 같은 값이 처음 나오는 위치를 리턴\n",
        "    - upper bound : 특정 값보다 처음으로 큰 값이 나오는 위치를 리턴\n",
        "![image.png](data:image/png;base64,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)\n",
        "---"
      ]
    },
    {
      "cell_type": "markdown",
      "metadata": {
        "id": "mSrkLbuo9VY9"
      },
      "source": [
        "lower bound\n",
        "\n",
        "---\n",
        "- 이 문제에선, 심사관마다 걸리는 시간 times와 처리해야 할 인원수를 주는데, n명을 처리하기 위한 최소 값을 찾아야 한다.\n",
        "- 따라서 일반적인 이진탐색을 할 경우, 최적 값이 아니라 단순히 6명을 처리하기 위한 유사 시간대를 구하기 때문에 안된다.\n",
        "- upper bound를 할 경우, n+1명을 처리하기 위한 최소 시간을 구하기 때문에 안됨\n",
        "- 따라서 lower bound로 구해야 하는데, 코드는 조금씩 차이가 있음\n",
        "\n",
        "- 일반 탐색 : 3 찾기 [1,2,3,4,5,6,7,8,9] => idx = 2\n",
        "- lower bound : 3(min index) 찾기 [1,2,3,3,3,3,7,8,9] => idx = 2\n",
        "- upper bound : 3(max index) 찾기 [1,2,3,3,3,3,7,8,9] => idx = 7 - 1 = 6"
      ]
    },
    {
      "cell_type": "code",
      "metadata": {
        "id": "zJUp4hVmt5CW"
      },
      "source": [
        "def solution(n, times):\n",
        "    answer = max(times)*n #\n",
        "    l,r = 0, answer #주어진 시간 min, max (임의 지정)\n",
        "    while l <= r: # l==r이 같은 상황일 때도 목표를 잘 출력하고 최소시간인지 확인해야 함\n",
        "        mid = (l+r)//2\n",
        "        done_num = sum(mid//time for time in times)\n",
        "        print(l,r,mid,done_num)\n",
        "        if done_num >= n: #원하는 것 이상을 수행한 경우, 시간을 줄일 수 있는지도 확인\n",
        "            r = mid - 1\n",
        "            answer = min(answer,mid)\n",
        "        elif done_num < n: #원하는 것만큼 수행하지 못한 경우\n",
        "            l = mid + 1\n",
        "        print(answer)\n",
        "    return answer\n",
        "solution(6,[7,10])"
      ],
      "execution_count": null,
      "outputs": []
    },
    {
      "cell_type": "markdown",
      "metadata": {
        "id": "a4yfeyDXBhId"
      },
      "source": [
        "위아래 코드는 같은 lower bound지만, done>= n 일 때 r의 값이 다름\n",
        "- r = mid - 1인 경우 while 조건 : l <= r & answer 따로 지정\n",
        "  - 원하는 값을 출력하는 최소 값을 찾을 때, 한 번 탐색한 값은 다시 안하기에 마지막에 도달하면 원하는 값과 별개의 값 출력\n",
        "  - ex) l = 27, r = 29 => mid = 28, 28이 최적인지 확인하기 위해 r = 27이 부여되고, l,r이 27일 때 마지막으로 탐색하고 종료\n",
        "\n",
        "- r = mid 인 경우 while 조건 : l < r & answer 미지정\n",
        "  - 원하는 값을 출력하는 최소 값을 찾을 때, 원하는 값과 동일한 값이 출력되면, 해당값을 포함한 값을 다시 탐색범위에 넣기에 불필요\n",
        "  - ex) l = 27, r = 29 => mid = 28, 28이 최적인지 확인하기 위해 r = 28이 부여되고, l,r이 28일 때 원하는 값보다 작으므로 l +=1 되며 종료"
      ]
    },
    {
      "cell_type": "code",
      "metadata": {
        "id": "an0EruLx3-k-"
      },
      "source": [
        "def solution(n, times):\n",
        "    answer = max(times)*n\n",
        "    l,r = 0, answer\n",
        "    while l < r: \n",
        "        mid = (l+r)//2\n",
        "        done_num = sum(mid//time for time in times)\n",
        "        print(l,r,mid,done_num)\n",
        "        if done_num >= n:\n",
        "            r = mid\n",
        "            # answer = min(answer,mid)\n",
        "        elif done_num < n:\n",
        "            l = mid+1\n",
        "    return l\n",
        "solution(6,[7,10])"
      ],
      "execution_count": null,
      "outputs": []
    },
    {
      "cell_type": "code",
      "metadata": {
        "id": "194LGjyv9_wc"
      },
      "source": [
        "def solution(n, times):\n",
        "    answer = max(times)*n\n",
        "    l,r = 0, answer\n",
        "    while l < r: \n",
        "        mid = (l+r)//2\n",
        "        done_num = sum(mid//time for time in times)\n",
        "        print(l,r,mid,done_num)\n",
        "        if done_num > n:\n",
        "            r = mid\n",
        "            # answer = min(answer,mid)\n",
        "        elif done_num <= n:\n",
        "            l = mid+1\n",
        "    return l - 1\n",
        "solution(6,[7,10])"
      ],
      "execution_count": null,
      "outputs": []
    },
    {
      "cell_type": "markdown",
      "metadata": {
        "id": "ocF7nzvy4C44"
      },
      "source": [
        "## 징검다리 - 이분탐색"
      ]
    },
    {
      "cell_type": "code",
      "metadata": {
        "id": "o6Spq9h1hciS"
      },
      "source": [
        "def solution(distance, rocks, n):\n",
        "    answer = sorted(rocks + [0, 25])\n",
        "    dist = [answer[i+1] - answer[i] for i in range(len(answer)-1)]\n",
        "    for _ in range(n):\n",
        "        idx = dist.index(min(dist))\n",
        "        dist[idx+1] += dist[idx]\n",
        "        dist.pop(idx)\n",
        "    \n",
        "    return min(dist)"
      ],
      "execution_count": null,
      "outputs": []
    },
    {
      "cell_type": "markdown",
      "metadata": {
        "id": "cqJG11yFhdHZ"
      },
      "source": [
        "- 최소 거리를 제거하며 구해보고자 함.\n",
        "- 정답은 맞추나, 런타임 오류 발생\n"
      ]
    },
    {
      "cell_type": "code",
      "metadata": {
        "id": "7om3LDL3hlZd"
      },
      "source": [
        "def solution(distance, rocks, n):\n",
        "    all_point = sorted(rocks + [0,distance])\n",
        "    dist = [all_point[i+1] - all_point[i] for i in range(len(all_point)-1)]\n",
        "\n",
        "    s,e = 0,distance\n",
        "    while s < e:\n",
        "        cum_d,cnt = 0,0\n",
        "        mid = (s+e)//2\n",
        "        for d in dist:\n",
        "            if d + cum_d >=mid: #cum_d가 0이 아닌 경우 이전 a개의 바위를 제거한 상태의 거리가 됨\n",
        "                cum_d = 0\n",
        "            else: #mid 값보다 작은 경우 바위를 파괴하여 거리를 늘림\n",
        "                cum_d += d\n",
        "                cnt += 1\n",
        "        if cnt > n:\n",
        "            e = mid\n",
        "        else:\n",
        "            s = mid + 1\n",
        "    return s-1"
      ],
      "execution_count": null,
      "outputs": []
    },
    {
      "cell_type": "markdown",
      "metadata": {
        "id": "pe_MxDgemLa2"
      },
      "source": [
        "upper bind 문제\n",
        "---\n",
        "- 해당 문제에서는 n개 이하의 바위를 제거하여 start, stone_loc, end 사이 거리를 최대로 늘리는 알고리즘은 작성 구현하는 것\n",
        "- 따라서 n 이하의 최대 거리를 찾아야 함"
      ]
    },
    {
      "cell_type": "markdown",
      "metadata": {
        "id": "3VxarRzFnsFr"
      },
      "source": [
        "## 네트워크 - BFS/DFS"
      ]
    },
    {
      "cell_type": "code",
      "metadata": {
        "id": "5SHhxuCO0zqS"
      },
      "source": [
        "def dfs(start_node, graph):\n",
        "    visit = []\n",
        "    st = [start_node]\n",
        "    \n",
        "    while st:\n",
        "        node = st.pop()\n",
        "        if node not in visit:\n",
        "            visit.append(node)\n",
        "            st.extend(graph[node])\n",
        "    \n",
        "    return ''.join(sorted(map(str,visit)))\n",
        "    \n",
        "def solution(n, computers):\n",
        "    graph = {i : [] for i in range(n)}\n",
        "    for i,computer in enumerate(computers):\n",
        "        for j, node in enumerate(computer):\n",
        "            if i!=j and node != 0:\n",
        "                graph[i].append(j)\n",
        "    \n",
        "    paths = set([dfs(node,graph) for node in graph])\n",
        "    return len(paths)"
      ],
      "execution_count": null,
      "outputs": []
    },
    {
      "cell_type": "markdown",
      "metadata": {
        "id": "1FbSVgiy4Y8o"
      },
      "source": [
        "2중 for문으로 인해 시간복잡도가 너무 큼(O(n^2))"
      ]
    },
    {
      "cell_type": "markdown",
      "metadata": {
        "id": "lo1algB500bs"
      },
      "source": [
        "### 다른 사람 풀이(1)-dfs(bfs)\n",
        "- 내 경우는, 한 경로를 두 번 탐색하지만, 아래처럼 visited를 지정할 경우 넘어갈 수 있음"
      ]
    },
    {
      "cell_type": "code",
      "metadata": {
        "id": "NEDhns5239_6"
      },
      "source": [
        "# from collections import deque\n",
        "def solution(n, computers):\n",
        "    visited = [False for _ in range(n)]\n",
        "    \n",
        "    def dfs(computers, visited, start):\n",
        "        st = [start]\n",
        "        # st = deque([start])\n",
        "        while st:\n",
        "            i = st.pop()\n",
        "            # i = st.popleft()\n",
        "            if visited[i]:\n",
        "                continue\n",
        "            \n",
        "            visited[i] = True\n",
        "            for j in range(n):\n",
        "                if computers[i][j] and not(visited[j]):\n",
        "                    st.append(j)\n",
        "    i = 0\n",
        "    answer = 0\n",
        "    while not(all(visited)):\n",
        "        if not(visited[i]):\n",
        "            dfs(computers,visited,i)\n",
        "            answer += 1\n",
        "        i += 1\n",
        "    return answer"
      ],
      "execution_count": null,
      "outputs": []
    },
    {
      "cell_type": "markdown",
      "metadata": {
        "id": "LhKgzQk3BanE"
      },
      "source": [
        "## 단어변환 - BFS/DFS\n",
        "---\n",
        "해당 문제는 begin 단어를 target 단어로 만드는 최소한의 횟수를 구하는 문제임으로, 단순히 답을 찾는 dfs가 아니라, 변환을 전체적으로 1번씩 늘려가면서 찾아가는 bfs가 적합하다"
      ]
    },
    {
      "cell_type": "code",
      "metadata": {
        "id": "TD6qEkiiBdGk"
      },
      "source": [
        "from collections import deque\n",
        "\n",
        "def next_word(cur,nxt):\n",
        "    miss = 0\n",
        "    for s1,s2 in zip(cur,nxt):\n",
        "        if s1 != s2:\n",
        "            miss += 1\n",
        "            if miss == 2:\n",
        "                return False\n",
        "    \n",
        "    return True if miss == 1 else False\n",
        "                \n",
        "def solution(begin, target, words):\n",
        "    if target not in words:\n",
        "        return 0\n",
        "    \n",
        "    q = deque([(begin, 0)])\n",
        "    while q:\n",
        "        word, cnt = q.popleft()\n",
        "        # print(word,cnt)\n",
        "        for i,w in enumerate(words):\n",
        "            if w == '':\n",
        "              continue\n",
        "              \n",
        "            if next_word(word, w):\n",
        "                if w == target:\n",
        "                    return cnt + 1\n",
        "                \n",
        "                q.append((w, cnt+1))\n",
        "                words[i] = ''"
      ],
      "execution_count": null,
      "outputs": []
    },
    {
      "cell_type": "markdown",
      "metadata": {
        "id": "vsnKpZFmFUEz"
      },
      "source": [
        "### 다른 사람 풀이(1)\n",
        "---\n",
        "- genereator를 이용하여 조건에 맞는 단어 출력\n",
        "- 단 해당 코드는, 단어가 길어질 경우, 모든 string의 miss 여부를 판단하기에 런타임이 길어질 수 있음"
      ]
    },
    {
      "cell_type": "code",
      "metadata": {
        "id": "oPCv3OSGEnaR"
      },
      "source": [
        "from collections import deque\n",
        "\n",
        "def next_word(cur,words,visited):\n",
        "    for nxt in words:\n",
        "        if nxt in visited:\n",
        "            continue\n",
        "            \n",
        "        miss = 0\n",
        "        for s1,s2 in zip(cur,nxt):\n",
        "            if s1 != s2:\n",
        "                miss += 1\n",
        "        if miss == 1:\n",
        "            yield nxt\n",
        "                \n",
        "def solution(begin, target, words):\n",
        "    if target not in words:\n",
        "        return 0\n",
        "    \n",
        "    visited = []\n",
        "    q = deque([(begin, 0)])\n",
        "    while q:\n",
        "        word, cnt = q.popleft()\n",
        "        visited.append(word)\n",
        "        for w in next_word(word, words,visited):\n",
        "            if w == target:\n",
        "                return cnt + 1\n",
        "            q.append((w, cnt+1))\n",
        "            \n",
        "                \n",
        "                \n",
        "        "
      ],
      "execution_count": null,
      "outputs": []
    },
    {
      "cell_type": "markdown",
      "metadata": {
        "id": "1El_aUTdbqFg"
      },
      "source": [
        "## 여행경로 - BFS / DFS"
      ]
    },
    {
      "cell_type": "code",
      "metadata": {
        "id": "ui60zOBebqME"
      },
      "source": [
        "from collections import deque\n",
        "\n",
        "def find_paths(pre,tickets,visited):\n",
        "    nxt = []\n",
        "    for ticket in tickets:\n",
        "        if ticket in visited:\n",
        "            continue\n",
        "        if pre == ticket[0]:\n",
        "            nxt.append(ticket)\n",
        "    return nxt\n",
        "    \n",
        "def solution(tickets):\n",
        "    all_paths = []\n",
        "    max_len = len(tickets)+1\n",
        "    \n",
        "    \n",
        "    q = deque([([\"ICN\"],[])])\n",
        "    while q:\n",
        "        pre, visited = q.popleft()\n",
        "        for _,cur in find_paths(pre[-1],tickets,visited):\n",
        "            if len(pre + [cur]) == max_len:\n",
        "                all_paths.append(pre + [cur])\n",
        "                continue\n",
        "            q.append([pre + [cur], visited + [[pre[-1],cur]]])\n",
        "        \n",
        "    # return min(all_paths)\n",
        "    return sorted(all_paths)[0]"
      ],
      "execution_count": null,
      "outputs": []
    },
    {
      "cell_type": "markdown",
      "metadata": {
        "id": "EvfDx7N-buC-"
      },
      "source": [
        "- 테스트 케이스는 모두 통과하지만 테스트 1번을 통과 못함\n",
        "- 아무래도 min(all_paths)에서 단어별 sorting이 아닌 단어의 첫 알파벳으로 sort가 되는 것으로 보임 ex) AAA - AAB -BCA 와 AAA - ABB - ABC 가 있을 때 후자로 선택되는 것으로 보임\n",
        "- @@@@@@@@@@@@@@@@@@@@@@@@\n",
        "- return sorted(all_paths)[0]로 했을 땐 런타임 에러..\n",
        "---\n",
        "- dict로 모든 경로를 모아놓는데, 단 reverse sorting한 상태로 진행\n",
        "- 이럴 경우, 정확한 경로에서 알파벳 순으로 앞서는 경로를 우선적으로 탐색하기에 문제에서 원하는 알파벳 순서가 우선되는 경로를 찾을 수 있음"
      ]
    },
    {
      "cell_type": "code",
      "metadata": {
        "id": "mGDACiEHcYfg"
      },
      "source": [
        "from collections import deque, defaultdict\n",
        "from bisect import insort\n",
        "def solution(tickets):\n",
        "    tickets.sort(reverse = True)\n",
        "    routes = defaultdict(list)\n",
        "    for start, end in tickets:\n",
        "        routes[start].append(end)\n",
        "    \n",
        "    fine_path = deque()\n",
        "    st = [\"ICN\"]\n",
        "    while st:\n",
        "        pre = st[-1]\n",
        "        if pre not in routes or len(routes[pre]) == 0:\n",
        "            fine_path.appendleft(st.pop())\n",
        "        else:\n",
        "            st.append(routes[pre].pop())\n",
        "    return list(fine_path)"
      ],
      "execution_count": null,
      "outputs": []
    },
    {
      "cell_type": "markdown",
      "metadata": {
        "id": "_AB660t3qPzC"
      },
      "source": [
        "## N으로 표현 - DP"
      ]
    },
    {
      "cell_type": "code",
      "metadata": {
        "id": "ytXJzBr_qS7j"
      },
      "source": [
        "from collections import deque\n",
        "def solution(N, number):\n",
        "    if N == number:\n",
        "        return 1\n",
        "    \n",
        "    ops = lambda a : (a*10 + N, N*10+a, a+N, a-N, N-a, a//N, a*N)\n",
        "    q = deque([(0,0)])\n",
        "    while q:\n",
        "        pre,cnt = q.popleft()    \n",
        "        for cur in ops(pre):\n",
        "            if cur == number:\n",
        "                return cnt + 1  \n",
        "            if cnt == 7:\n",
        "                continue\n",
        "            else:\n",
        "                q.append((cur, cnt+1))\n",
        "    return -1\n",
        "        "
      ],
      "execution_count": null,
      "outputs": []
    },
    {
      "cell_type": "markdown",
      "metadata": {
        "id": "iIFssJQCqTcc"
      },
      "source": [
        "불필요한 연산이 포함되어 있고, 필요한 연산이 제외됨 => DP로 풀기\n",
        "\n",
        "---\n",
        "풀이 방법\n",
        "- 문제의 요점 : 사칙연산을 통해 number가 되는 최소 N의 개수를 구하기\n",
        "- ex) 5로 12만들기 : result = 4\n",
        "  - 12 = 5 + 5 + (5/5) + (5/5)\n",
        "  - 12 = 55/5 + 5/5\n",
        "  - 12 = (55+5) / 5\n",
        "- 즉 12를 만드는 최소 5의 개수는 4이다.\n",
        "- 어떻게 풀면 되나?\n",
        "  - 우선, 우리가 사용할 수 있는 N의 개수는 최대 8개, 그것을 넘어가면 -1 return\n",
        "  - N = 1일 때 => 5\n",
        "  - N = 2일 때 => 55, 5x5, 5-5, 5//5, 5*5\n",
        "  - N = 3일 때 => 555, 55+5, 55-5, 55//5, 55x5, 5+55, 5-55, 5/55, 5x55\n",
        "  - 즉, N이 V개일 때는   \n",
        "  set(Set1과 SetV-1의 사칙연산 결과,   \n",
        "       Set2과 SetV-2의 사칙연산 결과,   \n",
        "      Set3과 SetV-3의 사칙연산 결과,   \n",
        "      ' ' ' ' ' ' ' ' ' ' ' ' ' ' ' ' ' ' ' ' ' ' ' ' ' ' '   \n",
        "      SetV-1과 Set1의 사칙연산 결과)   \n",
        "      로 볼 수 있다\n",
        "      - 4 = 1+3 = 2+2 = 3+1\n",
        "      - 5 = 1+4 = 2+3 = 3+2 = 4 + 1\n",
        "\n",
        "  - 따라서 풀이방법은 아래와 같다\n",
        "    - 1) [ SET x 8 ] 인 리스트를 만듭니다. 각각 N을 1개로 표현하는 수들의 집합, 2개로 표현하는 수들의 집합, ... 8개로 표현하는 수들의 집합이 저장됩니다.\n",
        "    - 2) 8개의 SET에 개수만큼 N을 연달아 표현되는 수를 집어넣어줍니다.\n",
        "    - 3) 숫자 N에 대해서 n개를 사용해서 표현한 수의 일반화 수식을 코드로 표현합니다.\n",
        "      - 1) i에 대해서 1-8까지 순회합니다.\n",
        "        - 1) j에 대해서 0-i까지 순회합니다.\n",
        "         - 1) j개를 사용해서 만든 수들의 집합 s[j]를 다음과 같이 순회합니다.\n",
        "          - 1) i-j-1을 사용해서 만든 수들의 집합 s[i-j-1]를 다음과 같이 순회합니다.\n",
        "            - 1) op1(s[j] 순회 수)과 op2(s[i-j-1] 순회 수)를 사칙연산합니다. 나눗셈 시 op2는 0이 되면 안됩니다.\n",
        "            - 2) 사칙연산한 결과 값을 집합 s[i]에 추가합니다.\n",
        "        - 2) 만약 number가 s[i]에 존재한다면, 반복을 멈추고 i+1번을 반환합니다.\n",
        "      - 2) 8번을 순회했음에도, number를 못찾는다면, -1을 반환합니다.\n",
        "      \n",
        "\n"
      ]
    },
    {
      "cell_type": "code",
      "metadata": {
        "id": "WsUv_HiUqZ0H"
      },
      "source": [
        "def solution(N, number):\n",
        "    if N == number:\n",
        "        return 1\n",
        "    \n",
        "    s = [set([int(str(N)*i)]) for i in range(1,9)]\n",
        "\n",
        "    for i in range(1,8):\n",
        "        for j in range(i):\n",
        "            for op1 in s[j]:\n",
        "                for op2 in s[i-j-1]:\n",
        "                    s[i].update([op1 + op2, op1 - op2, op1 * op2])\n",
        "                    if op2!=0:\n",
        "                        s[i].add(op1 // op2)\n",
        "\n",
        "        if number in s[i]:\n",
        "            return i+1\n",
        "    return -1"
      ],
      "execution_count": null,
      "outputs": []
    },
    {
      "cell_type": "markdown",
      "metadata": {
        "id": "AU0BYdQl59Ow"
      },
      "source": [
        "### 다른 사람 풀이(1)\n",
        "---\n",
        "N == 3인 집합의 크기는 N=2와 N=1이 중복되므로 만들고자 하는 횟수 집합 크기의 절반만 확인"
      ]
    },
    {
      "cell_type": "code",
      "metadata": {
        "id": "USU1TmMAytsn"
      },
      "source": [
        "def solution(N, number):\n",
        "    if N == number:\n",
        "        return 1\n",
        "    \n",
        "    s = [set([int(str(N)*i)]) if i !=0 else set([0]) for i in range(9)]\n",
        "    for i in range(2,9):\n",
        "        for j in range(1,i//2+1):\n",
        "            for x in s[j]:\n",
        "                for y in s[i-j]:\n",
        "                    s[i].update([x + y, x - y, y - x, x*y])\n",
        "                    if y!=0:\n",
        "                        s[i].add(x // y)\n",
        "                    if x!=0:\n",
        "                        s[i].add(y // x)\n",
        "\n",
        "        if number in s[i]:\n",
        "            return i\n",
        "    return -1"
      ],
      "execution_count": null,
      "outputs": []
    },
    {
      "cell_type": "markdown",
      "metadata": {
        "id": "T1mIYMAw6QLe"
      },
      "source": [
        "## 정수 삼각형 - DP\n",
        "---\n",
        "- 역방향으로 품\n",
        "- 1점이 나왔는데.... 고득점인 코드를 아직 못 봄\n",
        "- 방향으로 풀 땐, 좌우 끝의 인덱스는 밑에 값을 그대로 더하고,\n",
        "- 좌우 끝이 아니면 위의 두 값중 큰 값을 더하면 됌\n",
        "- 단, 정수 삼각형 좌우 끝에 '0'을 추가하게 되면, 좌우 끝 조건을 없애도 됌"
      ]
    },
    {
      "cell_type": "code",
      "metadata": {
        "id": "5HVDOTY9nb-i"
      },
      "source": [
        "def solution(triangle):\n",
        "    answer = 0\n",
        "    for i in range(len(triangle)-1,-1,-1):\n",
        "        for idx in range(len(triangle[i])-1):\n",
        "            triangle[i-1][idx] += max(triangle[i][idx], triangle[i][idx+1])\n",
        "    return triangle[0][0]\n",
        "solution([[7], [3, 8], [8, 1, 0], [2, 7, 4, 4], [4, 5, 2, 6, 5]])"
      ],
      "execution_count": null,
      "outputs": []
    },
    {
      "cell_type": "markdown",
      "metadata": {
        "id": "kEGAu1tGr2Kf"
      },
      "source": [
        "등굣길 - DP\n",
        "---\n",
        "문제 풀이를 위해 원하는 형태로 만들었더라도, 문제에 나타낸 함정들을 잘 피할 것... 웅덩이.."
      ]
    },
    {
      "cell_type": "code",
      "metadata": {
        "id": "9kXO9AB51Y1L"
      },
      "source": [
        "def solution(m, n, puddles):\n",
        "    maps = [[0 for j in range(m+1)] for i in range(n+1)]\n",
        "    maps[1][1] = 1 # 집\n",
        "    end = (n,m) \n",
        "    \n",
        "    for i in range(1,n+1):\n",
        "        for j in range(1,m+1):\n",
        "            if i == 1 and j == 1:\n",
        "                continue\n",
        "            if [j,i] not in puddles:\n",
        "                maps[i][j] = maps[i-1][j] + maps[i][j-1]\n",
        "    return maps[i][j] % 1000000007"
      ],
      "execution_count": null,
      "outputs": []
    },
    {
      "cell_type": "markdown",
      "metadata": {
        "id": "P_zAWfWw1ZUD"
      },
      "source": [
        "## 가장 먼 노드 - 그래프"
      ]
    },
    {
      "cell_type": "code",
      "metadata": {
        "id": "ontK4qzJC42Y"
      },
      "source": [
        "from collections import deque,defaultdict\n",
        "def solution(n, edge):\n",
        "    visited = [0 for _ in range(n+1)]\n",
        "    visited[1] = 1\n",
        "    \n",
        "    nodes = defaultdict(list)\n",
        "    for s,e in edge:\n",
        "        nodes[s].append(e)\n",
        "        nodes[e].append(s)\n",
        "    q = deque([1])\n",
        "    while q:\n",
        "        cur = q.popleft()\n",
        "        for nxt in nodes[cur]:\n",
        "            if not(visited[nxt]):\n",
        "                visited[nxt] = visited[cur] + 1\n",
        "                q.append(nxt)\n",
        "    \n",
        "    return visited.count(max(visited))"
      ],
      "execution_count": null,
      "outputs": []
    },
    {
      "cell_type": "markdown",
      "metadata": {
        "id": "GFmDyq-VC5tc"
      },
      "source": [
        "## 순위 - 그래프\n",
        "---\n",
        "풀이 방법\n",
        "- 1) chart 생성 (0으로 입력)\n",
        "- 2) 상대방과의 경기를 이겼으면 1 졌으면 -1\n",
        "- 3) 내가 이긴 상대 중, 상대가 이겼으면 나와 그 상대와의 대전도 1, 반대로 상대방 기준 나와의 대전은 -1 입력\n",
        "- 4) 선수별 chart에서 0이 하나만 있는(자신과의 경기) answer에 추가"
      ]
    },
    {
      "cell_type": "code",
      "metadata": {
        "id": "vnK1TXBtKI-x"
      },
      "source": [
        "def solution(n, results):\n",
        "    chart = [[0]*n for _ in range(n)]\n",
        "    for win,lose in results:\n",
        "        chart[win-1][lose-1], chart[lose-1][win-1] = 1,-1\n",
        "    \n",
        "    for me in range(n):\n",
        "        wins = [i for i,result in enumerate(chart[me]) if result == 1]\n",
        "        while wins:\n",
        "            loser = wins.pop()\n",
        "            for opp, res in enumerate(chart[loser]):\n",
        "                if res == 1 and chart[me][opp] == 0:\n",
        "                    chart[me][opp],chart[opp][me] = 1, -1\n",
        "                    wins.append(opp)\n",
        "    return len([1 for c in chart if c.count(0) == 1])"
      ],
      "execution_count": null,
      "outputs": []
    },
    {
      "cell_type": "code",
      "metadata": {
        "id": "ai7zaERFN_2h"
      },
      "source": [
        "from collections import defaultdict\n",
        "def solution(n, results):\n",
        "    winners = defaultdict(set)\n",
        "    losers = defaultdict(set)\n",
        "    \n",
        "    for win,lose in results:\n",
        "        winners[win].add(lose)\n",
        "        losers[lose].add(win)\n",
        "    \n",
        "    for i in range(1,n+1):\n",
        "        for loser in winners[i]:\n",
        "            losers[loser].update(losers[i])\n",
        "        for winner in losers[i]:\n",
        "            winners[winner].update(winners[i])\n",
        "    \n",
        "    answer = 0\n",
        "    for i in range(1,n+1):\n",
        "        if len(winners[i]) + len(losers[i]) == n - 1:\n",
        "            answer +=1\n",
        "    return answer"
      ],
      "execution_count": null,
      "outputs": []
    },
    {
      "cell_type": "markdown",
      "metadata": {
        "id": "zzlskvS_Zg9l"
      },
      "source": [
        "## 섬 연결하기 - 그리드\n",
        "---\n",
        "- 해당 문제는 모든 섬을 최소 비용으로 연결하는 것\n",
        "- Kruskal 알고리즘 적용\n",
        "  - 네트워크의 모든 정점을 최소 비용으로 연결하는 최적해를 찾는 알고리즘\n",
        "  - https://gmlwjd9405.github.io/2018/08/29/algorithm-kruskal-mst.html\n",
        "  - 방법\n",
        "    - 그래프의 간선들을 가중치를 기준으로 오름차순으로 정렬\n",
        "    - 정렬된 간선 리스트에서 순서대로 사이클을 형성하지 않는 간선을 선택\n",
        "      - 즉, 가장 작은 가중치 선택\n",
        "      - 사이클 형성하는 간선 제외\n",
        "    - 해당 간선을 현재의 MST(최소 비용 신장트리)에 추가"
      ]
    },
    {
      "cell_type": "code",
      "metadata": {
        "id": "Me51JxfZaL_8"
      },
      "source": [
        "def solution(n, costs):\n",
        "    costs.sort(key = lambda x : x[2])\n",
        "    routes = set([costs[0][0]])\n",
        "    \n",
        "    ct = 0\n",
        "    while len(routes) < n:\n",
        "        for i,cost in enumerate(costs):\n",
        "            if cost[0] in routes and cost[1] in routes:\n",
        "                continue\n",
        "            if cost[0] in routes or cost[1] in routes:\n",
        "                routes.update([cost[0], cost[1]])\n",
        "                ct += cost[2]\n",
        "                break\n",
        "    return ct\n",
        "                "
      ],
      "execution_count": null,
      "outputs": []
    },
    {
      "cell_type": "markdown",
      "metadata": {
        "id": "U01acTIjgJE9"
      },
      "source": [
        "## 단속카메라 - 그리드"
      ]
    },
    {
      "cell_type": "markdown",
      "metadata": {
        "id": "3oYjKPsVgySu"
      },
      "source": [
        "진입 기준 / 진출 기준"
      ]
    },
    {
      "cell_type": "code",
      "metadata": {
        "id": "tqCzbkXKgKuC"
      },
      "source": [
        "def solution(routes):\n",
        "    routes.sort()\n",
        "    cnt = 1\n",
        "    tmp = routes[0][-1]\n",
        "    routes.pop(0)\n",
        "    \n",
        "    for route in routes:\n",
        "        if  route[0] <= tmp:\n",
        "            tmp = min(route[1], tmp)\n",
        "            continue\n",
        "        else:\n",
        "            tmp = route[-1]\n",
        "            cnt+=1\n",
        "    return cnt\n",
        "        "
      ],
      "execution_count": null,
      "outputs": []
    },
    {
      "cell_type": "code",
      "metadata": {
        "id": "sCN6y-mzgLFZ"
      },
      "source": [
        "def solution(routes):\n",
        "    routes.sort(key = lambda x : x[1])\n",
        "    last_camera = -30001\n",
        "    cnt = 0\n",
        "    for route in routes:\n",
        "        if last_camera < route[0]:\n",
        "            cnt += 1\n",
        "            last_camera = route[-1]\n",
        "    return cnt"
      ],
      "execution_count": null,
      "outputs": []
    },
    {
      "cell_type": "markdown",
      "metadata": {
        "id": "QEKEz_Czg17X"
      },
      "source": [
        "## 이중우선순위큐 - 힙"
      ]
    },
    {
      "cell_type": "code",
      "metadata": {
        "id": "LJOB_NyTuOw0"
      },
      "source": [
        "import heapq\n",
        "def solution(operations):\n",
        "    h = []\n",
        "    for ops in operations:\n",
        "        op,num = ops.split()\n",
        "        num = int(num)\n",
        "        if op == \"I\":\n",
        "            heapq.heappush(h,num)\n",
        "        else:\n",
        "            if len(h) > 0:\n",
        "                if num == 1:\n",
        "                    heapq._heapify_max(h)\n",
        "                    heapq._heappop_max(h)\n",
        "                else:\n",
        "                    heapq.heapify(h)\n",
        "                    heapq.heappop(h)\n",
        "    \n",
        "    return [max(h),min(h)] if len(h)>0 else [0,0]"
      ],
      "execution_count": null,
      "outputs": []
    },
    {
      "cell_type": "markdown",
      "metadata": {
        "id": "Dg-55DYLviYo"
      },
      "source": [
        "._heappop_max와 heappop으로 제거한 경우와 remove와 heappop으로 값을 제거한 경우"
      ]
    },
    {
      "cell_type": "code",
      "metadata": {
        "id": "9t7AVF2vvE3X"
      },
      "source": [
        "import heapq\n",
        "def solution(operations):\n",
        "    h = []\n",
        "    for ops in operations:\n",
        "        op,num = ops.split()\n",
        "        num = int(num)\n",
        "        if op == \"I\":\n",
        "            heapq.heappush(h,num)\n",
        "        else:\n",
        "            if len(h) > 0:\n",
        "                if num == 1:\n",
        "                    h.remove(max(h))\n",
        "                    heapq.heapify(h)\n",
        "                else:\n",
        "                    heapq.heappop(h)\n",
        "                \n",
        "    \n",
        "    return [max(h),min(h)] if len(h)>0 else [0,0]"
      ],
      "execution_count": null,
      "outputs": []
    }
  ]
}