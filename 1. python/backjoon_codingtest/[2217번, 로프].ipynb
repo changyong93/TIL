{
  "nbformat": 4,
  "nbformat_minor": 0,
  "metadata": {
    "colab": {
      "name": "Untitled5.ipynb",
      "provenance": []
    },
    "kernelspec": {
      "name": "python3",
      "display_name": "Python 3"
    },
    "language_info": {
      "name": "python"
    }
  },
  "cells": [
    {
      "cell_type": "code",
      "metadata": {
        "colab": {
          "base_uri": "https://localhost:8080/"
        },
        "id": "qXoIp3gk5b10",
        "outputId": "f64c0deb-6354-4c66-fbd1-54a144254b54"
      },
      "source": [
        "import sys\n",
        "n = int(sys.stdin.readline())\n",
        "ropes = [int(sys.stdin.readline()) for _ in range(n)]\n",
        "ropes.sort(reverse = True)\n",
        "\n",
        "print(max([ropes[i]*(i+1) for i in range(n)]))\n"
      ],
      "execution_count": 148,
      "outputs": [
        {
          "output_type": "stream",
          "text": [
            "10\n",
            "3\n"
          ],
          "name": "stdout"
        }
      ]
    }
  ]
}