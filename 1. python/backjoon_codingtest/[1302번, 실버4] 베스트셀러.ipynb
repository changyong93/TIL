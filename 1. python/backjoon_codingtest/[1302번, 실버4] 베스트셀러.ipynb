{
  "nbformat": 4,
  "nbformat_minor": 0,
  "metadata": {
    "colab": {
      "name": "Untitled5.ipynb",
      "provenance": []
    },
    "kernelspec": {
      "name": "python3",
      "display_name": "Python 3"
    },
    "language_info": {
      "name": "python"
    }
  },
  "cells": [
    {
      "cell_type": "code",
      "metadata": {
        "colab": {
          "base_uri": "https://localhost:8080/"
        },
        "id": "qXoIp3gk5b10",
        "outputId": "012bd2ba-50f7-4eff-8b39-f9c78b92c9ee"
      },
      "source": [
        "import sys\n",
        "from collections import Counter\n",
        "n = 5\n",
        "books = [\"top\",\"top\",\"top\",\"top\",\"kimtop\"]\n",
        "\n",
        "# n = int(sys.stdin.readline())\n",
        "# books = [sys.stdin.readline().replace(\"\\n\",\"\") for _ in range(n)]\n",
        "\n",
        "books_sorted = sorted(Counter(books).items(), key = lambda x : [-x[1],x[0]])\n",
        "print(books_sorted[0][0])"
      ],
      "execution_count": 170,
      "outputs": [
        {
          "output_type": "stream",
          "text": [
            "top\n"
          ],
          "name": "stdout"
        }
      ]
    }
  ]
}