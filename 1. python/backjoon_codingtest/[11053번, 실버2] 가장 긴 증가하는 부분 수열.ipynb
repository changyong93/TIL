{
  "nbformat": 4,
  "nbformat_minor": 0,
  "metadata": {
    "colab": {
      "name": "Untitled5.ipynb",
      "provenance": []
    },
    "kernelspec": {
      "name": "python3",
      "display_name": "Python 3"
    },
    "language_info": {
      "name": "python"
    }
  },
  "cells": [
    {
      "cell_type": "code",
      "metadata": {
        "colab": {
          "base_uri": "https://localhost:8080/"
        },
        "id": "qXoIp3gk5b10",
        "outputId": "f64c0deb-6354-4c66-fbd1-54a144254b54"
      },
      "source": [
        "import sys\n",
        "n = int(sys.stdin.readline())\n",
        "numbers = list(map(int, sys.stdin.readline().split()))\n",
        "\n",
        "result = [1]*n\n",
        "for i in range(1,n):\n",
        "    for j in range(i):\n",
        "        if numbers[j] < numbers[i]:\n",
        "            result[i] = max(result[i], result[j]+1)\n",
        "print(max(result))"
      ],
      "execution_count": 148,
      "outputs": [
        {
          "output_type": "stream",
          "text": [
            "10\n",
            "3\n"
          ],
          "name": "stdout"
        }
      ]
    }
  ]
}