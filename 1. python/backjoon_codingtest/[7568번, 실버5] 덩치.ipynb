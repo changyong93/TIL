{
  "nbformat": 4,
  "nbformat_minor": 0,
  "metadata": {
    "colab": {
      "name": "",
      "provenance": []
    },
    "kernelspec": {
      "name": "python3",
      "display_name": "Python 3"
    },
    "language_info": {
      "name": "python"
    }
  },
  "cells": [
    {
      "cell_type": "code",
      "metadata": {
        "colab": {
          "base_uri": "https://localhost:8080/"
        },
        "id": "DuZBBozAG10L",
        "outputId": "a23be3d5-938d-4c16-e68d-782cf22ff158"
      },
      "source": [
        "inputs[1:][0].split()"
      ],
      "execution_count": 73,
      "outputs": [
        {
          "output_type": "execute_result",
          "data": {
            "text/plain": [
              "['55', '185']"
            ]
          },
          "metadata": {
            "tags": []
          },
          "execution_count": 73
        }
      ]
    },
    {
      "cell_type": "code",
      "metadata": {
        "colab": {
          "base_uri": "https://localhost:8080/"
        },
        "id": "qXoIp3gk5b10",
        "outputId": "2ff40262-1c20-4c76-e924-406b304ffb24"
      },
      "source": [
        "# test in colab\n",
        "inputs = [\"5\",\"55 185\",\"58 183\",\"88 186\",\"60 175\",\"46 155\"]\n",
        "number = int(inputs[0])\n",
        "weight_height = []\n",
        "for i in range(number):\n",
        "    weight,height = map(int, inputs[i+1].split())\n",
        "    weight_height.append((weight,height))\n",
        "\n",
        "# import sys\n",
        "# number = int(sys.stdin.readline())\n",
        "# weight_height = []\n",
        "# for _ in range(number):\n",
        "#     weight,height = map(int,sys.stdin.readline().split())\n",
        "#     weight_height.append((weight,height))\n",
        "\n",
        "for i in weight_height:\n",
        "    rank = 1\n",
        "    for j in weight_height:\n",
        "        if i[0] < j[0] and i[1] < j[1]:\n",
        "            rank += 1\n",
        "    print(rank, sep=\" \")\n"
      ],
      "execution_count": 102,
      "outputs": [
        {
          "output_type": "stream",
          "text": [
            "2\n",
            "2\n",
            "1\n",
            "2\n",
            "5\n"
          ],
          "name": "stdout"
        }
      ]
    },
    {
      "cell_type": "code",
      "metadata": {
        "id": "jnZCG3QT7Wm0"
      },
      "source": [
        ""
      ],
      "execution_count": null,
      "outputs": []
    }
  ]
}