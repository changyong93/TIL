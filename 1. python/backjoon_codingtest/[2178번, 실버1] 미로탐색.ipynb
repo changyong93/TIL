{
  "nbformat": 4,
  "nbformat_minor": 0,
  "metadata": {
    "colab": {
      "name": "Untitled5.ipynb",
      "provenance": []
    },
    "kernelspec": {
      "name": "python3",
      "display_name": "Python 3"
    },
    "language_info": {
      "name": "python"
    }
  },
  "cells": [
    {
      "cell_type": "code",
      "metadata": {
        "colab": {
          "base_uri": "https://localhost:8080/"
        },
        "id": "5l-AwB8HsP7O",
        "outputId": "3870b620-6850-405b-ddfe-8771dbeef3cd"
      },
      "source": [
        "import sys\n",
        "from collections import deque\n",
        "\n",
        "def bfs(q,maps):\n",
        "    while q:\n",
        "        loc, cnt = q.popleft()\n",
        "        for p in find_paths(maps,loc):\n",
        "            if p == end:\n",
        "                print(cnt+1)\n",
        "                return \n",
        "            q.append([p, cnt+1])\n",
        "            maps[p[0]][p[1]] = 0 \n",
        "\n",
        "\n",
        "def find_paths(maps, loc):\n",
        "    px,py = loc\n",
        "    result = []\n",
        "    for nx,ny in [[-1,0],[1,0],[0,1],[0,-1]]:\n",
        "        if maps[px+nx][py+ny] == 1:\n",
        "            yield (px+nx,py+ny)\n",
        "\n",
        "\n",
        "n,m = map(int,\"4 6\".split())\n",
        "inputs = [\"101111\",\"101010\",\"101011\",\"111011\"]\n",
        "maps = [[0]*(m+2) for _ in range(n+2)]\n",
        "for i, path in enumerate(inputs, start = 1):\n",
        "    maps[i][1:-1] = map(int,list(path))\n",
        "\n",
        "# n,m = map(int,sys.stdin.readline().split())\n",
        "# maps = [[0]*(m+2) for _ in range(n+2)]\n",
        "# for i, _ in enumerate(range(n), start = 1):\n",
        "#     maps[i][1:-1] = map(int,list(sys.stdin.readline().strip()))\n",
        "\n",
        "start = (1,1)\n",
        "end = (n,m)\n",
        "q = deque([[start,1]])\n",
        "maps[1][1] = 0\n",
        "\n",
        "bfs(q,maps)"
      ],
      "execution_count": 60,
      "outputs": [
        {
          "output_type": "stream",
          "text": [
            "15\n"
          ],
          "name": "stdout"
        }
      ]
    }
  ]
}