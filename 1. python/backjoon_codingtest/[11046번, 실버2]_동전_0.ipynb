{
  "nbformat": 4,
  "nbformat_minor": 0,
  "metadata": {
    "colab": {
      "name": "Untitled5.ipynb",
      "provenance": []
    },
    "kernelspec": {
      "name": "python3",
      "display_name": "Python 3"
    },
    "language_info": {
      "name": "python"
    }
  },
  "cells": [
    {
      "cell_type": "code",
      "metadata": {
        "colab": {
          "base_uri": "https://localhost:8080/"
        },
        "id": "qXoIp3gk5b10",
        "outputId": "603528ad-3dca-493c-9340-b61dd8542221"
      },
      "source": [
        "# test in colab\n",
        "inputs = [\"10 4200\",\"1\",\"5\",\"10\",\"100\",\"500\",\"1000\",\"5000\",\"10000\",\"50000\"]\n",
        "coin_types, target = map(int,inputs[0].split())\n",
        "coins = [int(coin) for coin in inputs[1:]]\n",
        "\n",
        "# import sys\n",
        "# coin_types, target = map(int,sys.stdin.readline().split())\n",
        "# coins = [int(coin) for coin in sys.stdin.readlines()]\n",
        "\n",
        "coins.sort(reverse = True)\n",
        "iter_coins = iter(coins)\n",
        "\n",
        "result = 0\n",
        "while target !=0:\n",
        "    coin = next(iter_coins)\n",
        "    target, result = target % coin, result + target // coin\n",
        "\n",
        "\n",
        "print(result)"
      ],
      "execution_count": 67,
      "outputs": [
        {
          "output_type": "stream",
          "text": [
            "6\n"
          ],
          "name": "stdout"
        }
      ]
    },
    {
      "cell_type": "code",
      "metadata": {
        "id": "jnZCG3QT7Wm0"
      },
      "source": [
        ""
      ],
      "execution_count": null,
      "outputs": []
    }
  ]
}