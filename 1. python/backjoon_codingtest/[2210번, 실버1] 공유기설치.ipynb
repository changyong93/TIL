{
  "nbformat": 4,
  "nbformat_minor": 0,
  "metadata": {
    "colab": {
      "name": "Untitled5.ipynb",
      "provenance": []
    },
    "kernelspec": {
      "name": "python3",
      "display_name": "Python 3"
    },
    "language_info": {
      "name": "python"
    }
  },
  "cells": [
    {
      "cell_type": "code",
      "metadata": {
        "id": "gf5fLYlNyVkg",
        "colab": {
          "base_uri": "https://localhost:8080/"
        },
        "outputId": "5bf56c73-7ea8-4aa2-a3fa-11b026986038"
      },
      "source": [
        "# inputs = [\"5 3\",\"1\",\"2\",\"8\",\"4\",\"9\"]\n",
        "inputs = [\"10 5\",\"1\",\"2\",\"8\",\"4\",\"9\",\"13\",\"15\",\"20\",\"14\",\"18\"]\n",
        "inputs_iter = iter(inputs)\n",
        "\n",
        "N, routers = map(int,next(inputs_iter).split())\n",
        "houses = [int(next(inputs_iter)) for _ in range(N)]\n",
        "houses.sort()\n",
        "\n",
        "# result = 0\n",
        "\n",
        "def binary_search(houses):\n",
        "    s,e = houses[0], houses[-1] - houses[0]\n",
        "    while s < e:    \n",
        "        mid = (s+e)//2\n",
        "        cur_house = houses[0]\n",
        "        count = 1\n",
        "        for i in range(1,N):\n",
        "            if cur_house + mid <= houses[i]:\n",
        "                count += 1\n",
        "                cur_house = houses[i]\n",
        "        if count >= routers:\n",
        "            # result = max(result,mid)\n",
        "            s += 1\n",
        "            # result = mid\n",
        "            print(mid)\n",
        "            return \n",
        "        else:\n",
        "            e -= 1\n",
        "        print(\"s: \",s,\"e: \",e,\"Count: \",count,\"mid: \", mid,\"result: \", result)\n",
        "print\n",
        "binary_search(houses)\n",
        "\n",
        "\n",
        "\n"
      ],
      "execution_count": 37,
      "outputs": [
        {
          "output_type": "stream",
          "text": [
            "[1, 2, 4, 8, 9, 13, 14, 15, 18, 20]\n",
            "s:  1 e:  18 Count:  2 mid:  10 result:  3\n",
            "s:  1 e:  17 Count:  2 mid:  9 result:  3\n",
            "s:  1 e:  16 Count:  2 mid:  9 result:  3\n",
            "s:  1 e:  15 Count:  3 mid:  8 result:  3\n",
            "s:  1 e:  14 Count:  3 mid:  8 result:  3\n",
            "s:  1 e:  13 Count:  3 mid:  7 result:  3\n",
            "s:  1 e:  12 Count:  3 mid:  7 result:  3\n",
            "s:  1 e:  11 Count:  4 mid:  6 result:  3\n",
            "s:  1 e:  10 Count:  4 mid:  6 result:  3\n",
            "s:  1 e:  9 Count:  4 mid:  5 result:  3\n",
            "s:  1 e:  8 Count:  4 mid:  5 result:  3\n",
            "s:  1 e:  7 Count:  4 mid:  4 result:  3\n",
            "s:  1 e:  6 Count:  4 mid:  4 result:  3\n"
          ],
          "name": "stdout"
        }
      ]
    },
    {
      "cell_type": "code",
      "metadata": {
        "colab": {
          "base_uri": "https://localhost:8080/"
        },
        "id": "Gum4Wm11ukzS",
        "outputId": "47c4db17-dfef-4dbf-83bb-0baf525a3943"
      },
      "source": [
        "inputs = [\"5 3\",\"1\",\"2\",\"8\",\"4\",\"9\"]\n",
        "inputs_iter = iter(inputs)\n",
        "N, routers = map(int,next(inputs_iter).split())\n",
        "houses = [int(next(inputs_iter)) for _ in range(N)]\n",
        "houses.sort()\n",
        "\n",
        "# import sys\n",
        "# N, routers = map(int,sys.stdin.readline().split())\n",
        "# houses = [int(sys.stdin.readline()) for _ in range(N)]\n",
        "# houses.sort()\n",
        "\n",
        "if routers == 2: #만약 house 개수가 2개면 두 집 사이의 거리가 최대 거리\n",
        "    print(houses[-1] - houses[0])\n",
        "else:\n",
        "    s,e = 1, houses[-1]-houses[0] #인접한 공유기 사이 거리가 가장 가까운 1과 가장 먼 처음과 끝집의 거리로 지정\n",
        "    while s < e:    \n",
        "        mid = (s+e)//2\n",
        "        cur_house = houses[0]\n",
        "        count = 1\n",
        "        for i in range(1, N):\n",
        "            if houses[i] - cur_house >= mid : #현재 위치의 집에서 다음 거리의 집 위치가 mid라고 지정한 공유기의 거리보다 멀면 count 및 집 위치 변경\n",
        "                count += 1\n",
        "                cur_house = houses[i]\n",
        "        \n",
        "        if count >= routers: #공유기 개수보다 설치 개수가 많을 경우 거리를 줄이고\n",
        "            result = mid\n",
        "            s = mid + 1\n",
        "        else: #설치 개수가 적을 경우 경우 거리를 늘린다.\n",
        "            e = mid\n",
        "    print(result)"
      ],
      "execution_count": 76,
      "outputs": [
        {
          "output_type": "stream",
          "text": [
            "3\n"
          ],
          "name": "stdout"
        }
      ]
    }
  ]
}