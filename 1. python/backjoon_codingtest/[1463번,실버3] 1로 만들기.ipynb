{
  "nbformat": 4,
  "nbformat_minor": 0,
  "metadata": {
    "colab": {
      "name": "Untitled5.ipynb",
      "provenance": []
    },
    "kernelspec": {
      "name": "python3",
      "display_name": "Python 3"
    },
    "language_info": {
      "name": "python"
    }
  },
  "cells": [
    {
      "cell_type": "code",
      "metadata": {
        "colab": {
          "base_uri": "https://localhost:8080/"
        },
        "id": "DuZBBozAG10L",
        "outputId": "a23be3d5-938d-4c16-e68d-782cf22ff158"
      },
      "source": [
        "inputs[1:][0].split()"
      ],
      "execution_count": 73,
      "outputs": [
        {
          "output_type": "execute_result",
          "data": {
            "text/plain": [
              "['55', '185']"
            ]
          },
          "metadata": {
            "tags": []
          },
          "execution_count": 73
        }
      ]
    },
    {
      "cell_type": "code",
      "metadata": {
        "colab": {
          "base_uri": "https://localhost:8080/"
        },
        "id": "qXoIp3gk5b10",
        "outputId": "f64c0deb-6354-4c66-fbd1-54a144254b54"
      },
      "source": [
        "N = int(input())\n",
        "dp = [0]*(N+1)\n",
        "\n",
        "for i in range(2,N+1):\n",
        "    dp[i] = dp[i-1] + 1\n",
        "    if i%3 == 0: dp[i] = min(dp[i], dp[i//3] + 1)\n",
        "    if i%2 == 0: dp[i] = min(dp[i], dp[i//2] + 1)\n",
        "print(dp[-1])"
      ],
      "execution_count": 148,
      "outputs": [
        {
          "output_type": "stream",
          "text": [
            "10\n",
            "3\n"
          ],
          "name": "stdout"
        }
      ]
    }
  ]
}