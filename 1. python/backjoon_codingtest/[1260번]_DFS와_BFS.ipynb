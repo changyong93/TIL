{
  "nbformat": 4,
  "nbformat_minor": 0,
  "metadata": {
    "colab": {
      "name": "[백준 1260번]  DFS와 BFS",
      "provenance": []
    },
    "kernelspec": {
      "name": "python3",
      "display_name": "Python 3"
    },
    "language_info": {
      "name": "python"
    }
  },
  "cells": [
    {
      "cell_type": "code",
      "metadata": {
        "colab": {
          "base_uri": "https://localhost:8080/"
        },
        "id": "K6j2yxbmQ15i",
        "outputId": "bdd86850-40ae-4777-ce60-5769bd7fd476"
      },
      "source": [
        "import sys\n",
        "from collections import defaultdict\n",
        "from collections import deque\n",
        "\n",
        "def dfs(cur):\n",
        "    visited_dfs[cur] = 0\n",
        "    print(cur, end = \" \")\n",
        "    for nxt in data[cur]:\n",
        "        if visited_dfs[nxt]:\n",
        "            dfs(nxt)\n",
        "\n",
        "def bfs(cur):\n",
        "    visited_bfs[cur] = 0\n",
        "    q = deque([cur])\n",
        "    while q:\n",
        "        cur = q.popleft()\n",
        "        print(cur, end = \" \")\n",
        "        for nxt in data[cur]:\n",
        "            if visited_bfs[nxt]:\n",
        "                q.append(nxt)\n",
        "                visited_bfs[nxt] = 0\n",
        "    \n",
        "\n",
        "data = defaultdict(lambda : set())\n",
        "nodes, edges , start = map(int, sys.stdin.readline().split())\n",
        "for _ in range(edges):\n",
        "    s, e = map(int, sys.stdin.readline().split())\n",
        "    data[s].add(e)\n",
        "    data[e].add(s)\n",
        "\n",
        "\n",
        "\n",
        "# data = defaultdict(lambda : set())\n",
        "# li = [\"1 2\", \"1 3\", \"1 4\",\"2 4\", \"3 4\"]\n",
        "# nodes,edges,start = map(int, \"4 5 1\".split())\n",
        "\n",
        "# for i in range(edges):\n",
        "#   s, e = map(int,li[i].split())\n",
        "#   data[s].add(e)\n",
        "#   data[e].add(s)\n",
        "# import pprint\n",
        "# pprint.pprint(data)\n",
        "\n",
        "for key in data.keys():\n",
        "    data[key] = sorted(data)\n",
        "\n",
        "visited_bfs = [1]*(nodes+1)\n",
        "visited_dfs = [1]*(nodes+1)\n",
        "\n",
        "dfs(start)\n",
        "print()\n",
        "bfs(start)"
      ],
      "execution_count": null,
      "outputs": [
        {
          "output_type": "stream",
          "text": [
            "defaultdict(<function <lambda> at 0x7f7728601050>,\n",
            "            {1: {2, 3, 4},\n",
            "             2: {1, 4},\n",
            "             3: {1, 4},\n",
            "             4: {1, 2, 3}})\n"
          ],
          "name": "stdout"
        }
      ]
    },
    {
      "cell_type": "code",
      "metadata": {
        "colab": {
          "base_uri": "https://localhost:8080/"
        },
        "id": "l-AfJzCxQ9C9",
        "outputId": "0eaf301c-3815-45ba-a1ab-93f30d0581de"
      },
      "source": [
        "import sys\n",
        "from collections import deque\n",
        "\n",
        "def dfs(cur):\n",
        "    visited_dfs[cur] = 0\n",
        "    print(cur, end = \" \")\n",
        "    for nxt in range(1, n+1):\n",
        "        if visited_dfs[nxt] and graph[cur][nxt]:\n",
        "            dfs(nxt)\n",
        "\n",
        "def bfs(cur):\n",
        "    q = deque([cur])\n",
        "    while q:\n",
        "        cur = q.popleft()\n",
        "        print(cur, end = \" \")\n",
        "        for nxt in range(1, n + 1):\n",
        "            if visited_bfs[nxt] and graph[cur][nxt]:\n",
        "                q.append(nxt)\n",
        "                visited_bfs[nxt] = 0\n",
        "    \n",
        "\n",
        "nodes, edges , start = map(int, sys.stdin.readline().split())\n",
        "\n",
        "graph = [[0]*(nodes+1) for _ in range(nodes+1)]\n",
        "for _ in range(edges):\n",
        "    s, e = map(int, sys.stdin.readline().split())\n",
        "    graph[s][e] = graph[e][s] = 1\n",
        "\n",
        "visited_dfs = [1]*(n+1)\n",
        "visited_bfs = [1]*(n+1)\n",
        "visited_bfs[start] = 0\n",
        "\n",
        "dfs(start)\n",
        "print()\n",
        "bfs(start)"
      ],
      "execution_count": null,
      "outputs": [
        {
          "output_type": "stream",
          "text": [
            "[[0, 0, 0, 0, 0],\n",
            " [0, 0, 1, 1, 1],\n",
            " [0, 1, 0, 0, 1],\n",
            " [0, 1, 0, 0, 1],\n",
            " [0, 1, 1, 1, 0]]\n"
          ],
          "name": "stdout"
        }
      ]
    }
  ]
}