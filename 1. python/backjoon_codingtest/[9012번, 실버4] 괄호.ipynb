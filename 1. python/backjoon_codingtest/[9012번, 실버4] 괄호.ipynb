{
  "nbformat": 4,
  "nbformat_minor": 0,
  "metadata": {
    "colab": {
      "name": "Untitled5.ipynb",
      "provenance": []
    },
    "kernelspec": {
      "name": "python3",
      "display_name": "Python 3"
    },
    "language_info": {
      "name": "python"
    }
  },
  "cells": [
    {
      "cell_type": "code",
      "metadata": {
        "colab": {
          "base_uri": "https://localhost:8080/"
        },
        "id": "qXoIp3gk5b10",
        "outputId": "1964e21c-7722-482f-bd57-2b74b6112bd7"
      },
      "source": [
        "import sys\n",
        "\n",
        "n = 6\n",
        "inputs = [\"(())())\",\"(((()())()\",\"(()())((()))\",\"((()()(()))(((())))()\",\"()()()()(()()())()\",\"(()((())()(\"]\n",
        "inputs_iter = iter(inputs)\n",
        "for _ in range(n):\n",
        "    brackets = next(inputs_iter)\n",
        "    if len(brackets) % 2 != 0:\n",
        "        print(\"NO\")\n",
        "        continue\n",
        "    \n",
        "    check = 0\n",
        "    for b in brackets:\n",
        "        check += 1 if b ==\"(\" else -1\n",
        "        if check < 0:\n",
        "            break\n",
        "    if check !=0: print(\"NO\")\n",
        "    else: print(True)\n",
        "\n",
        "import sys\n",
        "# n = int(sys.stdin.readline())\n",
        "# for _ in range(n):\n",
        "#     brackets = sys.stdin.readline().strip()\n",
        "#     if len(brackets) % 2 != 0:\n",
        "#         print(\"NO\")\n",
        "#         continue\n",
        "    \n",
        "#     check = 0\n",
        "#     for b in brackets:\n",
        "#         check += 1 if b ==\"(\" else -1\n",
        "#         if check < 0:\n",
        "#             break\n",
        "#     if check ==0: print(\"YES\")\n",
        "#     else: print(\"NO\")"
      ],
      "execution_count": 309,
      "outputs": [
        {
          "output_type": "stream",
          "text": [
            "NO\n",
            "NO\n",
            "True\n",
            "NO\n",
            "True\n",
            "NO\n"
          ],
          "name": "stdout"
        }
      ]
    }
  ]
}