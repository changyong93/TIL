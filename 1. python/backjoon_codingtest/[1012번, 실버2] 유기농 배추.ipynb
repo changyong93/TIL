{
  "nbformat": 4,
  "nbformat_minor": 0,
  "metadata": {
    "colab": {
      "name": "Untitled5.ipynb",
      "provenance": []
    },
    "kernelspec": {
      "name": "python3",
      "display_name": "Python 3"
    },
    "language_info": {
      "name": "python"
    }
  },
  "cells": [
    {
      "cell_type": "code",
      "metadata": {
        "colab": {
          "base_uri": "https://localhost:8080/"
        },
        "id": "qXoIp3gk5b10",
        "outputId": "f8435273-9f7d-4b1b-8724-fe5fcd6e8c69"
      },
      "source": [
        "from collections import deque\n",
        "import sys\n",
        "\n",
        "def get_num_of_earthworm(maps,loc):\n",
        "    n,m = len(maps), len(maps[0])\n",
        "    q = deque([loc])\n",
        "    while q:\n",
        "        pre = q.pop()\n",
        "        for nxt in [(-1,0),(1,0),(0,-1),(0,1)]:\n",
        "            i,j = nxt[0]+pre[0], nxt[1]+pre[1]\n",
        "            if 0 <= i <= n-1 and 0<= j <= m-1:\n",
        "                if maps[i][j] !=0:\n",
        "                    q.append((i,j))\n",
        "                    maps[i][j] = 0\n",
        "    return maps\n",
        "\n",
        "for inputs\n",
        "cases = int(sys.stdin.readline())\n",
        "\n",
        "for i in range(cases):\n",
        "    map_w, map_h, n = map(int,sys.stdin.readline().split())\n",
        "    maps = [[0]*map_h for _ in range(map_w)]\n",
        "    for _ in range(n):\n",
        "        w,h = map(int,sys.stdin.readline().split())\n",
        "        maps[w][h] = 1\n",
        "    \n",
        "    if n == 1:\n",
        "        print(1, sep=\" \")\n",
        "        continue\n",
        "    \n",
        "    result = 0\n",
        "    for i in range(map_w):\n",
        "        for j in range(map_h):\n",
        "            if maps[i][j] == 1:\n",
        "                maps = get_num_of_earthworm(maps,(i,j))\n",
        "                result += 1\n",
        "    print(result, sep=\" \")\n",
        "\n",
        "# for inputs\n",
        "# cases = 2\n",
        "# inputs = [\"10 8 17\",\"0 0\",\"1 0\",\"1 1\",\"4 2\",\"4 3\",\"4 5\",\"2 4\",\"3 4\",\"7 4\",\"8 4\",\"9 4\",\"7 5\",\"8 5\",\"9 5\",\"7 6\",\"8 6\",\"9 6\",\"10 10 1\",\"5 5\"]\n",
        "# for i in range(cases):\n",
        "#     map_w, map_h, n = map(int,next(inputs_iter).split())\n",
        "#     maps = [[0]*map_h for _ in range(map_w)]\n",
        "#     for _ in range(n):\n",
        "#         w,h = map(int,next(inputs_iter).split())\n",
        "#         maps[w][h] = 1\n",
        "    \n",
        "#     if n == 1:\n",
        "#         print(1, sep=\" \")\n",
        "#         continue\n",
        "    \n",
        "#     result = 0\n",
        "#     for i in range(map_w):\n",
        "#         for j in range(map_h):\n",
        "#             if maps[i][j] == 1:\n",
        "#                 maps = get_num_of_earthworm(maps,(i,j))\n",
        "#                 result += 1\n",
        "#     print(result, sep=\" \")"
      ],
      "execution_count": 297,
      "outputs": [
        {
          "output_type": "stream",
          "text": [
            "5\n",
            "1\n"
          ],
          "name": "stdout"
        }
      ]
    },
    {
      "cell_type": "code",
      "metadata": {
        "colab": {
          "base_uri": "https://localhost:8080/",
          "height": 173
        },
        "id": "mpxWAY6DoHLC",
        "outputId": "450aba3a-da29-4302-98f7-3960e7f62128"
      },
      "source": [
        "sum(a for a in maps)"
      ],
      "execution_count": 294,
      "outputs": [
        {
          "output_type": "error",
          "ename": "TypeError",
          "evalue": "ignored",
          "traceback": [
            "\u001b[0;31m---------------------------------------------------------------------------\u001b[0m",
            "\u001b[0;31mTypeError\u001b[0m                                 Traceback (most recent call last)",
            "\u001b[0;32m<ipython-input-294-68cd2538aa52>\u001b[0m in \u001b[0;36m<module>\u001b[0;34m()\u001b[0m\n\u001b[0;32m----> 1\u001b[0;31m \u001b[0msum\u001b[0m\u001b[0;34m(\u001b[0m\u001b[0ma\u001b[0m \u001b[0;32mfor\u001b[0m \u001b[0ma\u001b[0m \u001b[0;32min\u001b[0m \u001b[0mmaps\u001b[0m\u001b[0;34m)\u001b[0m\u001b[0;34m\u001b[0m\u001b[0;34m\u001b[0m\u001b[0m\n\u001b[0m",
            "\u001b[0;31mTypeError\u001b[0m: unsupported operand type(s) for +: 'int' and 'list'"
          ]
        }
      ]
    }
  ]
}