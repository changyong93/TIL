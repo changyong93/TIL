{
  "nbformat": 4,
  "nbformat_minor": 0,
  "metadata": {
    "colab": {
      "name": "Untitled5.ipynb",
      "provenance": []
    },
    "kernelspec": {
      "name": "python3",
      "display_name": "Python 3"
    },
    "language_info": {
      "name": "python"
    }
  },
  "cells": [
    {
      "cell_type": "code",
      "metadata": {
        "colab": {
          "base_uri": "https://localhost:8080/"
        },
        "id": "qXoIp3gk5b10",
        "outputId": "6bcc246e-dc58-47bc-dfbb-d3c8fcc50c81"
      },
      "source": [
        "import sys\n",
        "from collections import defaultdict\n",
        "from collections import deque\n",
        "\n",
        "def bfs(start):\n",
        "    # not_visited[start] = False\n",
        "    q = deque([start])\n",
        "    while q:\n",
        "        cur = q.popleft()\n",
        "        if not (not_visited[cur]):\n",
        "            continue\n",
        "        else:\n",
        "            not_visited[cur] = False\n",
        "        \n",
        "        for nxt in data[cur]:\n",
        "          if not_visited[nxt]:\n",
        "            q.append(nxt)\n",
        "\n",
        "\n",
        "# inputs = [\"7\",\"6\",\"1 2\",\"2 3\",\"1 5\",\"5 2\",\"5 6\",\"4 7\"]\n",
        "# nodes = int(inputs[0]\n",
        "# edges = int(inputs[1])\n",
        "nodes = int(sys.stdin.readline())\n",
        "edges = int(sys.stdin.readline())\n",
        "start = 1\n",
        "\n",
        "not_visited = [True]*(nodes+1)\n",
        "\n",
        "data = defaultdict(lambda : set())\n",
        "for i in range(edges):\n",
        "  s,e = map(int,sys.stdin.readline().split())\n",
        "  data[s].add(e)\n",
        "  data[e].add(s)\n",
        "\n",
        "bfs(start)\n",
        "print(nodes - sum(not_visited))"
      ],
      "execution_count": 31,
      "outputs": [
        {
          "output_type": "execute_result",
          "data": {
            "text/plain": [
              "4"
            ]
          },
          "metadata": {
            "tags": []
          },
          "execution_count": 31
        }
      ]
    },
    {
      "cell_type": "code",
      "metadata": {
        "colab": {
          "base_uri": "https://localhost:8080/"
        },
        "id": "u5f8PztG7bP_",
        "outputId": "14d2c82f-cb30-49c3-de9d-2ec3b7e3ac6f"
      },
      "source": [
        "e"
      ],
      "execution_count": 21,
      "outputs": [
        {
          "output_type": "execute_result",
          "data": {
            "text/plain": [
              "3"
            ]
          },
          "metadata": {
            "tags": []
          },
          "execution_count": 21
        }
      ]
    },
    {
      "cell_type": "code",
      "metadata": {
        "id": "jnZCG3QT7Wm0"
      },
      "source": [
        ""
      ],
      "execution_count": null,
      "outputs": []
    }
  ]
}