{
 "cells": [
  {
   "cell_type": "markdown",
   "id": "laughing-decline",
   "metadata": {},
   "source": [
    "# 1레벨"
   ]
  },
  {
   "cell_type": "markdown",
   "id": "palestinian-brief",
   "metadata": {},
   "source": [
    "## 두 개 뽑아서 더하기"
   ]
  },
  {
   "cell_type": "markdown",
   "id": "inclusive-lemon",
   "metadata": {},
   "source": [
    "정수 배열 numbers가 주어집니다. numbers에서 서로 다른 인덱스에 있는 두 개의 수를 뽑아 더해서 만들 수 있는 모든 수를 배열에 오름차순으로 담아 return 하도록 solution 함수를 완성해주세요."
   ]
  },
  {
   "cell_type": "code",
   "execution_count": 88,
   "id": "organized-graphics",
   "metadata": {},
   "outputs": [],
   "source": [
    "def solution(numbers):\n",
    "    sol = []\n",
    "    for a in numbers:\n",
    "        b = numbers.copy()\n",
    "        b.remove(a)\n",
    "        \n",
    "        for c in b:\n",
    "            num = a + c\n",
    "            \n",
    "            if num not in sol:\n",
    "                sol.append(num)\n",
    "    sol = sorted(sol)\n",
    "\n",
    "    return sol"
   ]
  },
  {
   "cell_type": "code",
   "execution_count": 89,
   "id": "split-disaster",
   "metadata": {},
   "outputs": [
    {
     "data": {
      "text/plain": [
       "[2, 3, 4, 5, 6, 7]"
      ]
     },
     "execution_count": 89,
     "metadata": {},
     "output_type": "execute_result"
    }
   ],
   "source": [
    "solution([2,1,3,4,1])"
   ]
  },
  {
   "cell_type": "code",
   "execution_count": 90,
   "id": "nervous-ridge",
   "metadata": {},
   "outputs": [],
   "source": [
    "def solution(numbers):\n",
    "    sol = []\n",
    "    for i in range(len(numbers)):\n",
    "        for j in range(i+1, len(numbers)):\n",
    "            sol.append(numbers[i] + numbers[j])\n",
    "    return sorted(list(set(sol)))"
   ]
  },
  {
   "cell_type": "code",
   "execution_count": 91,
   "id": "surprising-arrest",
   "metadata": {},
   "outputs": [
    {
     "data": {
      "text/plain": [
       "[2, 3, 4, 5, 6, 7]"
      ]
     },
     "execution_count": 91,
     "metadata": {},
     "output_type": "execute_result"
    }
   ],
   "source": [
    "solution([2,1,3,4,1])"
   ]
  },
  {
   "cell_type": "code",
   "execution_count": 92,
   "id": "composed-barrier",
   "metadata": {},
   "outputs": [],
   "source": [
    "#set과 append는 동시 사용 불가\n",
    "def solution(numbers):\n",
    "    sol = set([])\n",
    "    for i in range(len(numbers)):\n",
    "        for j in range(i+1, len(numbers)):\n",
    "            sol.add(numbers[i] + numbers[j])\n",
    "    return sorted(list(sol))"
   ]
  },
  {
   "cell_type": "code",
   "execution_count": 93,
   "id": "polar-willow",
   "metadata": {},
   "outputs": [
    {
     "data": {
      "text/plain": [
       "[2, 3, 4, 5, 6, 7]"
      ]
     },
     "execution_count": 93,
     "metadata": {},
     "output_type": "execute_result"
    }
   ],
   "source": [
    "solution([2,1,3,4,1])"
   ]
  },
  {
   "cell_type": "code",
   "execution_count": 94,
   "id": "coordinate-sterling",
   "metadata": {},
   "outputs": [],
   "source": [
    "#combinations 사용\n",
    "from itertools import combinations\n",
    "def solution(numbers):\n",
    "    sol = set([])\n",
    "    for i in list(combinations(numbers,2)):\n",
    "        sol.add(sum(i))\n",
    "    return list(sol)"
   ]
  },
  {
   "cell_type": "code",
   "execution_count": 95,
   "id": "medieval-optimum",
   "metadata": {},
   "outputs": [
    {
     "data": {
      "text/plain": [
       "[2, 3, 4, 5, 6, 7]"
      ]
     },
     "execution_count": 95,
     "metadata": {},
     "output_type": "execute_result"
    }
   ],
   "source": [
    "solution([2,1,3,4,1])"
   ]
  },
  {
   "cell_type": "markdown",
   "id": "legitimate-toilet",
   "metadata": {},
   "source": [
    "## 크레인 인형뽑기 게임"
   ]
  },
  {
   "cell_type": "code",
   "execution_count": 323,
   "id": "willing-retrieval",
   "metadata": {},
   "outputs": [],
   "source": [
    "def solution(board, moves):\n",
    "    answer = 0\n",
    "    basket = []\n",
    "    newBoard = [[board[j][i] for j in range(len(board[i]))] for i in range(len(board))]\n",
    "    \n",
    "    for i in newBoard:\n",
    "        for j in range(i.count(0)):\n",
    "            i.remove(0)\n",
    "    \n",
    "    for i in moves:\n",
    "        if len(newBoard[i-1]) > 0:\n",
    "            tmp = newBoard[i-1][0]\n",
    "            del newBoard[i-1][0]\n",
    "            basket.append(tmp)\n",
    "            \n",
    "    i = 0\n",
    "    while True:\n",
    "        if i >= len(basket)-1:\n",
    "            break\n",
    "        if basket[i] == basket[i+1]:\n",
    "            del basket[i+1]\n",
    "            del basket[i]\n",
    "            answer +=2\n",
    "            i = 0\n",
    "        else:\n",
    "            i+=1\n",
    "        \n",
    "    return answer"
   ]
  },
  {
   "cell_type": "code",
   "execution_count": 324,
   "id": "oriental-mercury",
   "metadata": {},
   "outputs": [
    {
     "data": {
      "text/plain": [
       "4"
      ]
     },
     "execution_count": 324,
     "metadata": {},
     "output_type": "execute_result"
    }
   ],
   "source": [
    "board = [[0,0,0,0,0],[0,0,1,0,3],[0,2,5,0,1],[4,2,4,4,2],[3,5,1,3,1]]\n",
    "moves = [1,5,3,5,1,2,1,4]\n",
    "solution(board,moves)"
   ]
  },
  {
   "cell_type": "code",
   "execution_count": 325,
   "id": "surface-morris",
   "metadata": {},
   "outputs": [],
   "source": [
    "def solution(board, moves):\n",
    "    stacklist = []\n",
    "    answer = 0\n",
    "    \n",
    "    for i in moves:\n",
    "        for j in range(len(board)):\n",
    "            if board[j][i-1] != 0:\n",
    "                stacklist.append(board[j][i-1])\n",
    "                board[j][i-1] = 0\n",
    "                \n",
    "                if len(stacklist) >=2:\n",
    "                    if stacklist[-1] == stacklist[-2]:\n",
    "                        answer +=2\n",
    "                        stacklist.pop()\n",
    "                        stacklist.pop()\n",
    "                break #한 번의 뽑기에서 컬럼별 하나의 값만 뽑고 break=> for문을 멈추고 이전 moves의 값 재할당\n",
    "    return answer"
   ]
  },
  {
   "cell_type": "code",
   "execution_count": 322,
   "id": "stretch-automation",
   "metadata": {},
   "outputs": [
    {
     "data": {
      "text/plain": [
       "4"
      ]
     },
     "execution_count": 322,
     "metadata": {},
     "output_type": "execute_result"
    }
   ],
   "source": [
    "board = [[0,0,0,0,0],[0,0,1,0,3],[0,2,5,0,1],[4,2,4,4,2],[3,5,1,3,1]]\n",
    "moves = [1,5,3,5,1,2,1,4]\n",
    "solution(board,moves)"
   ]
  },
  {
   "cell_type": "markdown",
   "id": "arranged-loading",
   "metadata": {},
   "source": [
    "## 124 나라의 숫자"
   ]
  },
  {
   "cell_type": "code",
   "execution_count": 133,
   "id": "responsible-twist",
   "metadata": {},
   "outputs": [],
   "source": [
    "def solution(n):\n",
    "    answer = ''\n",
    "    share = n\n",
    "        \n",
    "    while share !=0:\n",
    "        remainder = share % 3\n",
    "        share = share // 3\n",
    "                \n",
    "        if remainder==0:\n",
    "            answer = '4'+answer\n",
    "            share -= 1\n",
    "        else  :\n",
    "            answer = str(remainder) + answer\n",
    "    \n",
    "    return answer"
   ]
  },
  {
   "cell_type": "code",
   "execution_count": 147,
   "id": "revolutionary-jones",
   "metadata": {},
   "outputs": [],
   "source": [
    "def solution(n):\n",
    "    num = ['1','2','4']\n",
    "    answer = ''\n",
    "    while n>0:\n",
    "        n -=1\n",
    "        answer = num[n % 3] + answer\n",
    "        n //=3\n",
    "    return answer"
   ]
  },
  {
   "cell_type": "code",
   "execution_count": 165,
   "id": "behind-dynamics",
   "metadata": {},
   "outputs": [],
   "source": [
    "def solution(n):\n",
    "    if n <=3:\n",
    "        return '124'[n-1]\n",
    "    else:\n",
    "        q, r = divmod(n-1,3)\n",
    "        return solution(q)+'124'[r]"
   ]
  },
  {
   "cell_type": "code",
   "execution_count": 168,
   "id": "cheap-worse",
   "metadata": {},
   "outputs": [
    {
     "data": {
      "text/plain": [
       "'14'"
      ]
     },
     "execution_count": 168,
     "metadata": {},
     "output_type": "execute_result"
    }
   ],
   "source": [
    "solution(6)"
   ]
  },
  {
   "cell_type": "markdown",
   "id": "chronic-reggae",
   "metadata": {},
   "source": [
    "## 멀쩡한 사각형"
   ]
  },
  {
   "cell_type": "code",
   "execution_count": 12,
   "id": "written-congress",
   "metadata": {},
   "outputs": [],
   "source": [
    "import numpy as np \n",
    "\n",
    "def solution(w,h):\n",
    "    answer = 0\n",
    "    if (w != 0) & (h != 0): #w, h가 모두 0이 아닌 경우만 실행\n",
    "        gradient = h/w\n",
    "        \n",
    "        for x in range(1,w+1):\n",
    "            answer += np.ceil(gradient*(x)) - np.floor(gradient*(x-1))\n",
    "            \n",
    "    return w*h - answer\n",
    "\n",
    "#샘플 테스트는 통과했지만\n",
    "#시간 초과"
   ]
  },
  {
   "cell_type": "code",
   "execution_count": 41,
   "id": "interim-palestinian",
   "metadata": {},
   "outputs": [],
   "source": [
    "def gcd(w,h): return w if h==0 else gcd(h, w%h)\n",
    "def solution(w,h): return w*h-w-h+gcd(w,h)"
   ]
  },
  {
   "cell_type": "code",
   "execution_count": 42,
   "id": "domestic-course",
   "metadata": {},
   "outputs": [
    {
     "data": {
      "text/plain": [
       "80"
      ]
     },
     "execution_count": 42,
     "metadata": {},
     "output_type": "execute_result"
    }
   ],
   "source": [
    "solution(12,8)"
   ]
  },
  {
   "cell_type": "markdown",
   "id": "natural-bottom",
   "metadata": {},
   "source": [
    "## 스킬트리"
   ]
  },
  {
   "cell_type": "code",
   "execution_count": 165,
   "id": "ancient-polyester",
   "metadata": {},
   "outputs": [],
   "source": [
    "def solution(skill, skill_trees):\n",
    "    \n",
    "    answer = 0\n",
    "    for tree in skill_trees:\n",
    "        myskill = ''.join([str1 for str1 in tree if str1 in skill])\n",
    "        \n",
    "        if skill.startswith(myskill):\n",
    "            answer +=1\n",
    "    return answer\n",
    "        \n"
   ]
  },
  {
   "cell_type": "code",
   "execution_count": 166,
   "id": "electronic-beaver",
   "metadata": {},
   "outputs": [
    {
     "data": {
      "text/plain": [
       "2"
      ]
     },
     "execution_count": 166,
     "metadata": {},
     "output_type": "execute_result"
    }
   ],
   "source": [
    "solution(\"CBD\", [\"BACDE\", \"CBADF\", \"AECB\", \"BDA\"])"
   ]
  },
  {
   "cell_type": "code",
   "execution_count": 174,
   "id": "driven-temperature",
   "metadata": {},
   "outputs": [],
   "source": [
    "def solution(skill, skill_trees):\n",
    "    answer = 0\n",
    "    for skills in skill_trees:\n",
    "        skill_list = list(skill)\n",
    "        \n",
    "        for s in skills:\n",
    "            if s in skill_list:\n",
    "                if s != skill_list.pop(0):\n",
    "                    break\n",
    "        else:\n",
    "            answer +=1\n",
    "    return answer"
   ]
  },
  {
   "cell_type": "code",
   "execution_count": 175,
   "id": "meaningful-finger",
   "metadata": {},
   "outputs": [
    {
     "data": {
      "text/plain": [
       "2"
      ]
     },
     "execution_count": 175,
     "metadata": {},
     "output_type": "execute_result"
    }
   ],
   "source": [
    "solution(\"CBD\", [\"BACDE\", \"CBADF\", \"AECB\", \"BDA\"])"
   ]
  },
  {
   "cell_type": "code",
   "execution_count": 178,
   "id": "aging-disco",
   "metadata": {},
   "outputs": [],
   "source": [
    "def solution(skill, skill_trees):\n",
    "    answer = 0\n",
    "    \n",
    "    for skills in skill_trees:\n",
    "        skilllist = ''\n",
    "        \n",
    "        for s in skills:\n",
    "            if s in skill:\n",
    "                skilllist += s\n",
    "        if skilllist == skill[0:len(skilllist)]:\n",
    "            answer +=1\n",
    "    return answer"
   ]
  },
  {
   "cell_type": "code",
   "execution_count": 179,
   "id": "mighty-norfolk",
   "metadata": {},
   "outputs": [
    {
     "data": {
      "text/plain": [
       "2"
      ]
     },
     "execution_count": 179,
     "metadata": {},
     "output_type": "execute_result"
    }
   ],
   "source": [
    "solution(\"CBD\", [\"BACDE\", \"CBADF\", \"AECB\", \"BDA\"])"
   ]
  }
 ],
 "metadata": {
  "kernelspec": {
   "display_name": "Python 3",
   "language": "python",
   "name": "python3"
  },
  "language_info": {
   "codemirror_mode": {
    "name": "ipython",
    "version": 3
   },
   "file_extension": ".py",
   "mimetype": "text/x-python",
   "name": "python",
   "nbconvert_exporter": "python",
   "pygments_lexer": "ipython3",
   "version": "3.8.3"
  },
  "toc": {
   "base_numbering": 1,
   "nav_menu": {},
   "number_sections": true,
   "sideBar": true,
   "skip_h1_title": false,
   "title_cell": "Table of Contents",
   "title_sidebar": "Contents",
   "toc_cell": false,
   "toc_position": {},
   "toc_section_display": true,
   "toc_window_display": true
  }
 },
 "nbformat": 4,
 "nbformat_minor": 5
}
