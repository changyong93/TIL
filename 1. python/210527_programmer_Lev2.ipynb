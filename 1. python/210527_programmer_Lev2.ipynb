{
  "nbformat": 4,
  "nbformat_minor": 0,
  "metadata": {
    "colab": {
      "name": "210527 programmer_Lev2.ipynb",
      "private_outputs": true,
      "provenance": [],
      "collapsed_sections": [],
      "toc_visible": true,
      "authorship_tag": "ABX9TyOyvKSvsSna4LJMO8PPpyb0",
      "include_colab_link": true
    },
    "kernelspec": {
      "name": "python3",
      "display_name": "Python 3"
    },
    "language_info": {
      "name": "python"
    }
  },
  "cells": [
    {
      "cell_type": "markdown",
      "metadata": {
        "id": "view-in-github",
        "colab_type": "text"
      },
      "source": [
        "<a href=\"https://colab.research.google.com/github/changyong93/TIL/blob/main/1.%20python/210527_programmer_Lev2.ipynb\" target=\"_parent\"><img src=\"https://colab.research.google.com/assets/colab-badge.svg\" alt=\"Open In Colab\"/></a>"
      ]
    },
    {
      "cell_type": "markdown",
      "metadata": {
        "id": "hgDdOEjiVrJO"
      },
      "source": [
        "## 멀쩡한 사각형"
      ]
    },
    {
      "cell_type": "code",
      "metadata": {
        "id": "7bIjyoeZVxdQ"
      },
      "source": [
        "def gcd(w,h):\n",
        "    if w >= h:\n",
        "        while h != 0:\n",
        "            w,h = h, w%h\n",
        "        return w\n",
        "\n",
        "    else:\n",
        "        while w != 0:\n",
        "            h,w = w, h%w\n",
        "        return h\n",
        "\n",
        "def solution(w,h):\n",
        "    return w*h - w - h + gcd(w,h)"
      ],
      "execution_count": null,
      "outputs": []
    },
    {
      "cell_type": "code",
      "metadata": {
        "id": "P840zkKWiSfI"
      },
      "source": [
        "def gcd(w,h):\n",
        "    if w > h:\n",
        "        while h !=0:\n",
        "            w, h = h, w%h\n",
        "        return w\n",
        "    else:\n",
        "        while w != 0:\n",
        "            h, w = w, h%w\n",
        "        return h\n",
        "\n",
        "\n",
        "def solution(w,h):\n",
        "    return w*h -(w+h) + gcd(w,h)\n",
        "solution(8,12)"
      ],
      "execution_count": null,
      "outputs": []
    },
    {
      "cell_type": "markdown",
      "metadata": {
        "id": "xvMnS8bBlKRZ"
      },
      "source": [
        "---\n",
        "### 다른 사람풀이(1)\n",
        "- 구하는 방식은 동일했지만, gcd를 조금 더 간결하게 작성\n",
        "- 나 같은 경우, 가로 세로 길이 중 긴 것을 기준으로 gcd를 구하게 했지만, 아래 풀이의 경우는, 가로 or 세로가 0이 될 때까지 바꿔가면서 연산하기에 고려할 필요 없음"
      ]
    },
    {
      "cell_type": "code",
      "metadata": {
        "id": "xkdeTXqolWem"
      },
      "source": [
        "def gcd(a,b): return b if a == 0 else gcd(b%a, a)\n",
        "def solution(w,h): return w*h -(w+h) + gcd(w,h)\n",
        "solution(12,8)"
      ],
      "execution_count": null,
      "outputs": []
    },
    {
      "cell_type": "markdown",
      "metadata": {
        "id": "bnWBKHALl0wC"
      },
      "source": [
        "---\n",
        "### 다른 사람풀이(2)\n",
        "- math library의 gcd 함수 사용"
      ]
    },
    {
      "cell_type": "code",
      "metadata": {
        "id": "bPMyy2T4l-eo"
      },
      "source": [
        "from math import gcd\n",
        "def solution(w,h): return w*h - w - h + gcd(w,h)\n",
        "solution(12,8)"
      ],
      "execution_count": null,
      "outputs": []
    },
    {
      "cell_type": "markdown",
      "metadata": {
        "id": "2mGdMQWxGxCj"
      },
      "source": [
        "## 124 나라의 숫자"
      ]
    },
    {
      "cell_type": "code",
      "metadata": {
        "id": "lJs-zGylG4QD"
      },
      "source": [
        "def solution(n):\n",
        "  answer = ''\n",
        "  while n > 0:\n",
        "    remainder = n % 3\n",
        "    n = n//3\n",
        "    if remainder == 0:\n",
        "      answer = \"4\" + answer\n",
        "      n -= 1\n",
        "    else:\n",
        "      answer = str(remainder) + answer\n",
        "  return answer\n",
        "solution(12)"
      ],
      "execution_count": null,
      "outputs": []
    },
    {
      "cell_type": "markdown",
      "metadata": {
        "id": "K_NtdASVUC-Y"
      },
      "source": [
        "---\n",
        "### 다른 사람 풀이(1)"
      ]
    },
    {
      "cell_type": "code",
      "metadata": {
        "id": "0OZRGB4CSkeO"
      },
      "source": [
        "def solution(n):\n",
        "  num = ['1','2','4']\n",
        "  answer = ''\n",
        "\n",
        "  while n != 0:\n",
        "    n -= 1\n",
        "    answer = num[n%3] + answer\n",
        "    n //= 3\n",
        "  return answer\n",
        "solution(12)"
      ],
      "execution_count": null,
      "outputs": []
    },
    {
      "cell_type": "markdown",
      "metadata": {
        "id": "Dd5LI9PVW_P4"
      },
      "source": [
        "### 다른 사람 풀이(2)"
      ]
    },
    {
      "cell_type": "code",
      "metadata": {
        "id": "EN4UchabXCLh"
      },
      "source": [
        "def solution(n):\n",
        "  answer = ''\n",
        "\n",
        "  while n !=0:\n",
        "    n,r = divmod(n-1,3)\n",
        "    answer = '124'[r] + answer\n",
        "  return answer\n",
        "solution(12)"
      ],
      "execution_count": null,
      "outputs": []
    },
    {
      "cell_type": "markdown",
      "metadata": {
        "id": "2zWhqyr-YdiJ"
      },
      "source": [
        "---\n",
        "### 다른 사람 풀이(3)\n",
        "- n!=인 경우 412[n%3] 값이 뒤에 붙음\n",
        "- ex) n이 112인 경우,\n",
        "\n",
        "sol(12)\n",
        "= sol((12-1)//3) + '412'[12%3]  \n",
        "= sol(3) + '4'  \n",
        "=  sol((3-1)//3) + 412[3%3] + '4'  \n",
        "= sol(0) + '4' + '4'  \n",
        "= '' + '4' + '4'  \n",
        "= '44'  "
      ]
    },
    {
      "cell_type": "code",
      "metadata": {
        "id": "6kbIEfF0YGrT"
      },
      "source": [
        "def solution(n):\n",
        "  return '' if n == 0 else solution((n-1)//3) + '412'[n%3]\n",
        "solution(14)"
      ],
      "execution_count": null,
      "outputs": []
    },
    {
      "cell_type": "markdown",
      "metadata": {
        "id": "CmJIoM5AeOrN"
      },
      "source": [
        "## 짝지어 제거하기(스택)\n",
        "\n"
      ]
    },
    {
      "cell_type": "code",
      "metadata": {
        "id": "-yrJgRxXbT6K"
      },
      "source": [
        "def solution(s):\n",
        "    stack = []\n",
        "    for a in s:\n",
        "        if stack: # stack이 빈 list가 아닐 경우\n",
        "            if stack[-1] == a:\n",
        "                stack.pop()\n",
        "            else:\n",
        "                stack.append(a)\n",
        "        else:\n",
        "            stack.append(a)\n",
        "\n",
        "    return 1 if len(stack) == 0 else 0\n",
        "\n",
        "solution('ssabba')"
      ],
      "execution_count": null,
      "outputs": []
    },
    {
      "cell_type": "code",
      "metadata": {
        "id": "bbuJY5SUqcH_"
      },
      "source": [
        "def solution(s):\n",
        "    stack = []\n",
        "    for a in s:\n",
        "        if not(stack): # stack이 빈 list일 경우\n",
        "            stack.append(a)\n",
        "            continue\n",
        "        if stack[-1] == a:\n",
        "            stack.pop()\n",
        "        else:\n",
        "            stack.append(a)\n",
        "        \n",
        "    return 1 if len(stack) == 0 else 0\n",
        "\n",
        "solution('ssabba')"
      ],
      "execution_count": null,
      "outputs": []
    },
    {
      "cell_type": "markdown",
      "metadata": {
        "id": "Up78GkbaySzj"
      },
      "source": [
        "## 기능개발(스택/큐)  \n",
        "https://devuna.tistory.com/22"
      ]
    },
    {
      "cell_type": "code",
      "metadata": {
        "id": "pbyaT6elyVfW"
      },
      "source": [
        "def solution(progresses, speeds):\n",
        "    answer = []\n",
        "    \n",
        "    i = 0 # progress\n",
        "    k = 0\n",
        "    days = 0\n",
        "    while i+1 <=len(progresses):\n",
        "        if progresses[i] + days*speeds[i] >= 100:\n",
        "            # print(progresses[i],days*speeds[i])\n",
        "            i += 1\n",
        "            k += 1\n",
        "            # print(\"누적  k: \", k)\n",
        "        else:\n",
        "            days += 1\n",
        "            if k > 0:\n",
        "                # print(\"append K: \", k)\n",
        "                answer.append(k)\n",
        "                k = 0\n",
        "    if k > 0:\n",
        "      answer.append(k)\n",
        "                \n",
        "    return answer\n",
        "# solution([93, 30, 55],\t[1, 30, 5])\n",
        "solution([95, 90, 99, 99, 80, 99],[1,1,1,1,1,1])"
      ],
      "execution_count": null,
      "outputs": []
    },
    {
      "cell_type": "markdown",
      "metadata": {
        "id": "ZCxNlLRp27ZF"
      },
      "source": [
        "---\n",
        "### 다른 사람 풀이(1)\n",
        "- zip을 이용하여 연관된 progress와 speed를 동시에 출력"
      ]
    },
    {
      "cell_type": "code",
      "metadata": {
        "id": "IR-SKjRR4hkX"
      },
      "source": [
        "def solution(progresses, speeds):\n",
        "  Q = []\n",
        "  for p,s in zip(progresses, speeds):\n",
        "    if not(Q) or Q[-1][0] < (100-p)/s:\n",
        "      Q.append([(100-p)/s, 1])\n",
        "    else:\n",
        "      Q[-1][1] += 1\n",
        "  return [q[1] for q in Q]\n",
        "# solution([93, 30, 55],\t[1, 30, 5])\n",
        "solution([95, 90, 99, 99, 80, 99],[1,1,1,1,1,1])"
      ],
      "execution_count": null,
      "outputs": []
    },
    {
      "cell_type": "code",
      "metadata": {
        "id": "lTNuU_On6NV7"
      },
      "source": [
        "from math import ceil\n",
        "def solution(progresses, speeds):\n",
        "    daysLeft = list(map(lambda x : (ceil((100-progresses[x])/speeds[x])), range(len(progresses))))\n",
        "\n",
        "    count = 1\n",
        "    answer = []\n",
        "\n",
        "    for i in range(len(daysLeft)):\n",
        "        try:\n",
        "            if daysLeft[i] < daysLeft[i+1]:\n",
        "                answer.append(count)\n",
        "                count = 1\n",
        "            else:\n",
        "                daysLeft[i+1] = daysLeft[i]\n",
        "                count += 1\n",
        "        except:\n",
        "            answer.append(count)\n",
        "    return answer\n",
        "\n",
        "\n",
        "# solution([93, 30, 55],[1,30,5])\n",
        "solution([95, 90, 99, 99, 80, 99],[1,1,1,1,1,1])"
      ],
      "execution_count": null,
      "outputs": []
    },
    {
      "cell_type": "markdown",
      "metadata": {
        "id": "g_Cdh9mg_7ve"
      },
      "source": [
        "## 더 맵게(힙,Heap)  \n",
        "- https://gmlwjd9405.github.io/2018/05/10/data-structure-heap.html\n",
        "- https://www.daleseo.com/python-heapq/"
      ]
    },
    {
      "cell_type": "code",
      "metadata": {
        "id": "qYKR71p3FgWa"
      },
      "source": [
        "import heapq\n",
        "def solution(scoviile, k):\n",
        "    \n",
        "    cnt = 0\n",
        "    heapq.heapify(scoviile)\n",
        "    \n",
        "    while len(scoviile) >= 2:\n",
        "        if scoviile[0] < k:\n",
        "            tmp = heapq.heappop(scoviile) + heapq.heappop(scoviile)*2\n",
        "            heapq.heappush(scoviile, tmp)\n",
        "            cnt += 1\n",
        "        else:\n",
        "            return cnt\n",
        "    return cnt if scoviile[0] >=k else -1\n",
        "    \n",
        "\n",
        "solution(\t[0, 0, 3, 9, 10, 12], 7000)"
      ],
      "execution_count": null,
      "outputs": []
    },
    {
      "cell_type": "markdown",
      "metadata": {
        "id": "FQhom_7oL0bO"
      },
      "source": [
        "---\n",
        "### 다른 사람 풀이(1)\n",
        "- 이진 분할을 통한 계산 범위 서치, bisect"
      ]
    },
    {
      "cell_type": "code",
      "metadata": {
        "id": "AEn3Pzt4b3XZ"
      },
      "source": [
        "import bisect, heapq\n",
        "\n",
        "def solution(scoville,k):\n",
        "  heapq.heapify(scoville)\n",
        "  answer = 0\n",
        "  mild_food = heapq.nsmallest(bisect.bisect(scoville, k)+1, scoville)\n",
        "\n",
        "  while len(mild_food) >= 2:\n",
        "    if mild_food[0] >= k:\n",
        "      return answer\n",
        "    else:\n",
        "      heapq.heappush(mild_food, heapq.heappop(mild_food) + heapq.heappop(mild_food)*2)\n",
        "      answer += 1\n",
        "  \n",
        "  return answer if mild_food[0] >= k else -1\n",
        "\n",
        "solution(\t[0, 0, 3, 9, 10, 12], 7000)"
      ],
      "execution_count": null,
      "outputs": []
    },
    {
      "cell_type": "markdown",
      "metadata": {
        "id": "l-Zig42Udqtd"
      },
      "source": [
        "## 오픈채팅방"
      ]
    },
    {
      "cell_type": "code",
      "metadata": {
        "id": "omC0H7UvA486"
      },
      "source": [
        "def solution(record):\n",
        "    user_dict = {}\n",
        "        \n",
        "    for record_ in record:\n",
        "        if record_.split()[0] == \"Enter\" or record_.split()[0] == \"Change\":\n",
        "            user_dict[record_.split()[1]] = record_.split()[2]\n",
        "             \n",
        "    \n",
        "    answer = []\n",
        "    for record_ in record:\n",
        "        if record_.split()[0] == \"Enter\":\n",
        "            sen = f\"{user_dict[record_.split()[1]]}님이 들어왔습니다.\"\n",
        "            answer.append(sen)\n",
        "        elif record_.split()[0] == \"Leave\":\n",
        "            sen = f\"{user_dict[record_.split()[1]]}님이 나갔습니다.\"\n",
        "            answer.append(sen)\n",
        "    return answer\n",
        "\n",
        "record = [\"Enter uid1234 Muzi\",\"Enter uid4567 Prodo\",\"Leave uid1234\",\n",
        "          \"Enter uid1234 Prodo\",\"Change uid4567 Ryan\"]\n",
        "print(solution(record))"
      ],
      "execution_count": null,
      "outputs": []
    },
    {
      "cell_type": "markdown",
      "metadata": {
        "id": "BGIMgXp0DK72"
      },
      "source": [
        "---\n",
        "### 다른 사람 풀이(1)"
      ]
    },
    {
      "cell_type": "code",
      "metadata": {
        "id": "bk5kwskdDNrI"
      },
      "source": [
        "def solution(record):\n",
        "  user_id = {record_.split()[1] : record_.split()[2] for record_ in record if record_.split()[0] in [\"Enter\", \"Change\"]}\n",
        "  return [ user_id[record_.split()[1]] + \"님이 들어왔습니다.\" if record_.split()[0] == \"Enter\" else user_id[record_.split()[1]] + \"님이 나갔습니다.\" for record_ in record if record_.split()[0] != \"Change\"]\n",
        "\n",
        "record = [\"Enter uid1234 Muzi\",\"Enter uid4567 Prodo\",\"Leave uid1234\",\n",
        "          \"Enter uid1234 Prodo\",\"Change uid4567 Ryan\"]\n",
        "print(solution(record))"
      ],
      "execution_count": null,
      "outputs": []
    },
    {
      "cell_type": "markdown",
      "metadata": {
        "id": "iZUkkizQMDe0"
      },
      "source": [
        "## 문자열 압축"
      ]
    },
    {
      "cell_type": "code",
      "metadata": {
        "id": "f3cfQFc5MGBH"
      },
      "source": [
        "def solution(s):\n",
        "    max_len = len(s)\n",
        "    answer = len(s)\n",
        "\n",
        "    for comp_size in range(1,int(max_len/2)+1):\n",
        "        splitted = [s[i:i+comp_size] for i in range(0,max_len, comp_size)]\n",
        "        \n",
        "        cnt = 1\n",
        "        compressed = ''\n",
        "        for j in range(len(splitted)-1):\n",
        "            pre, cur = splitted[j], splitted[j+1]\n",
        "            if pre == cur:\n",
        "                cnt += 1\n",
        "            else:\n",
        "                compressed += str(cnt) + pre if cnt > 1 else pre\n",
        "                cnt = 1\n",
        "        compressed += str(cnt) + cur if cnt > 1 else cur\n",
        "        print(splitted,compressed, len(compressed))\n",
        "        answer = len(compressed) if len(compressed) < answer else answer\n",
        "        \n",
        "    return answer\n",
        "s = \"abcabcabcabcdededededede\"\n",
        "solution(s)"
      ],
      "execution_count": null,
      "outputs": []
    },
    {
      "cell_type": "markdown",
      "metadata": {
        "id": "D0CSm4KDkaEU"
      },
      "source": [
        "## 타겟 넘버 - 깊이/너비 우선 탐색(DFS/BFS)  \n",
        "- https://devuna.tistory.com/32  \n",
        "---\n",
        "DFS(Depth-First Search, 깊이 우선 탐색)\n",
        "- 최대한 깊이 내려간 뒤 더 이상 길이 없으면 옆으로 이동\n",
        "- 루트 노드에서 시작하여 다음 분기(branch)를 넘어가기 전 해당 분기를 완벽히 탐색\n",
        "- 모든 노드를 방문하고자 하는 경우 사용\n",
        "- BFS보다 속도가 느림  \n",
        "\n",
        "BFS(Breadth-First Search, 너비 우선 탐색)\n",
        "- 최대한 넓게 이동한 다음, 갈 수 없는 때 아래로 이동\n",
        "- 루트 노드에서 시작하여 루트 노트와 인접한 노트를 완벽히 탐색 후 다음 노드를 탐색\n",
        "- 최단 경로를 탐색하고자 하는 경우 사용\n",
        "  - 지구 상에 존재하는 모든 친구 관계를 그래프로 표현한 후 Sam과 Eddie사이에 존재하는 경로를 찾는 경우\n",
        "  - DFS : 모든 친구 관계 다 확인\n",
        "  - BFS : SAM과 가까운 관계부터 확인  \n",
        "\n",
        "BFS vs DFS 비교\n",
        "- DFS : stack or 재귀함수 사용\n",
        "- BFS : queue 사용\n",
        "- 시간복잡도 : 두 방법 동일 => 둘 다 다음 노드가 방문했는지를 확인하는 시간과 각 노드를 방문하는 시간을 합함\n",
        "  - N(노드), E(간선)의 경우, 인접 리스트 : O(N + E) // 인접 행렬 : O(N^2)  \n",
        "\n",
        "활용 문제 유형\n",
        "1. 모든 정점 방문 => BFS, DFS 둘다 가능(편한 방법 사용)\n",
        "2. 경로 특징(ex, a->b까지 이동 시 특정 경로에 숫자가 있으면 안된다는 등) => DFS(BFS는 경로 특징을 가지지 못함)\n",
        "3. 최단 경로 => BFS\n",
        "+a, 검색 대상이 매우 크다면 DFS 고려, 검색 대상이 작고 시작 지점부터 원하는 대상이 멀지 않는 경우 BFS 고려\n"
      ]
    },
    {
      "cell_type": "code",
      "metadata": {
        "id": "AEGJUcxpkeeE"
      },
      "source": [
        "# 완전 탐색\n",
        "def solution(numbers, target):\n",
        "    answer = 0\n",
        "    sup = [0]\n",
        "    for i in numbers:\n",
        "        sub = []\n",
        "        for j in sup:\n",
        "            tmp = [j + i, j - i]\n",
        "            sub.extend(tmp)\n",
        "        sup = sub\n",
        "    return sup.count(target) \n",
        "\n",
        "solution([1, 1, 1, 1, 1]\t,3)"
      ],
      "execution_count": null,
      "outputs": []
    },
    {
      "cell_type": "markdown",
      "metadata": {
        "id": "cWr73nhyIoyp"
      },
      "source": [
        "### 다른 사람 풀이(1) - dfs - 재귀함수\n",
        "- https://velog.io/@ju_h2/Python-%ED%94%84%EB%A1%9C%EA%B7%B8%EB%9E%98%EB%A8%B8%EC%8A%A4-level2-%ED%83%80%EA%B2%9F%EB%84%98%EB%B2%84-BFSDFS"
      ]
    },
    {
      "cell_type": "code",
      "metadata": {
        "id": "GWl1TDUhunja"
      },
      "source": [
        "def solution(numbers, target):\n",
        "  answer = 0\n",
        "  n = len(numbers)\n",
        "  def dfs(idx, result):\n",
        "    if idx == n:\n",
        "      if result == target:\n",
        "        nonlocal answer\n",
        "        answer += 1\n",
        "      return\n",
        "    else:\n",
        "      dfs(idx+1, result + numbers[idx])\n",
        "      dfs(idx+1, result - numbers[idx])\n",
        "  dfs(0,0)\n",
        "  return answer\n",
        "solution([1,1,1,1,1],3)"
      ],
      "execution_count": null,
      "outputs": []
    },
    {
      "cell_type": "markdown",
      "metadata": {
        "id": "MqoZyaMMv8lr"
      },
      "source": [
        "- 함수 내의 함수를 생성하여 문제 해결\n",
        "- numbers의 첫번째 index부터 하나씩 꺼내서 +- 현재값을 함\n",
        "- answer의 경우 solution 함수에서 선언한 전역변수로, dfs 함수에서 값을 출력만 할 경우 그냥 사용해도 무방하지만, 값을 변경하기 위해선 해당 값이 local도 global도 아닌 상위 함수에 속한 변수라는 것을 선언해줘야 함\n",
        "---"
      ]
    },
    {
      "cell_type": "markdown",
      "metadata": {
        "id": "8u7PaF9twLWQ"
      },
      "source": [
        "### 다른 사람 풀이(2) - dfs - 재귀함수\n",
        "- https://eda-ai-lab.tistory.com/475"
      ]
    },
    {
      "cell_type": "code",
      "metadata": {
        "id": "c-7rQvlkwwUz"
      },
      "source": [
        "def dfs(array, numbers,target, size):\n",
        "  answer = 0\n",
        "  if len(array) == size:\n",
        "    return 1 if sum(array) == target else 0\n",
        "  else:\n",
        "    A = numbers.pop(0)\n",
        "    for i in [1,-1]:\n",
        "      array.append(A * i)\n",
        "      answer += dfs(array, numbers, target, size)\n",
        "      array.pop()\n",
        "    numbers.append(A)\n",
        "    return answer       \n",
        "\n",
        "def solution(numbers, target):\n",
        "  answer = 0\n",
        "  answer +=dfs([numbers[0]], numbers[1:], target, len(numbers))\n",
        "  answer +=dfs([-numbers[0]], numbers[1:], target, len(numbers))\n",
        "  return answer\n",
        "\n",
        "solution([1,1,1,1,1],3)"
      ],
      "execution_count": null,
      "outputs": []
    },
    {
      "cell_type": "markdown",
      "metadata": {
        "id": "YiZNjkyo0Yf2"
      },
      "source": [
        "- DFS 함수와 SOLUTION 함수에서 각각 local answer를 선언하고, DFS에서 반환한 answer 값을 solutoin의 asnwer에 합침\n",
        "- 상기 내용을 제외하곤 풀이 (1)과 동일\n",
        "---"
      ]
    },
    {
      "cell_type": "markdown",
      "metadata": {
        "id": "fBP7GmbY2TJW"
      },
      "source": [
        "### 다른 사람 풀이(3) -dfs - 재귀함수"
      ]
    },
    {
      "cell_type": "code",
      "metadata": {
        "id": "EZVZkIrs2U1v"
      },
      "source": [
        "answer = 0\n",
        "def dfs(idx,numbers, target, value):\n",
        "  global answer  \n",
        "  n = len(numbers)\n",
        "  if idx == n:\n",
        "    if value == target:\n",
        "      answer += 1\n",
        "    return\n",
        "  else:\n",
        "    dfs(idx+1, numbers, target, value + numbers[idx])\n",
        "    dfs(idx+1, numbers, target, value - numbers[idx])\n",
        "  \n",
        "def solution(numbers,target):\n",
        "  global answer\n",
        "  dfs(0,numbers, target, 0)  \n",
        "  return answer\n",
        "solution([1,1,1,1,1],3)"
      ],
      "execution_count": null,
      "outputs": []
    },
    {
      "cell_type": "markdown",
      "metadata": {
        "id": "IqGcMCRc4MB4"
      },
      "source": [
        "(1)과 같은 풀이"
      ]
    },
    {
      "cell_type": "markdown",
      "metadata": {
        "id": "l2JNp7RX8Opd"
      },
      "source": [
        "### 다른 사람 풀이(4)-dfs - 재귀함수"
      ]
    },
    {
      "cell_type": "code",
      "metadata": {
        "id": "A0ENAZyI8RTP"
      },
      "source": [
        "def solution(numbers,target):\n",
        "  if not numbers and target == 0:\n",
        "    return 1\n",
        "  elif not numbers:\n",
        "    return 0\n",
        "  else:\n",
        "    return solution(numbers[1:], target + numbers[0])+ solution(numbers[1:], target - numbers[0])\n",
        "solution([1,1,1,1,1],3)"
      ],
      "execution_count": null,
      "outputs": []
    },
    {
      "cell_type": "markdown",
      "metadata": {
        "id": "2Z9C3dLo85GW"
      },
      "source": [
        "상기 코드를 보면 모든 dfs는 재귀함수를 사용"
      ]
    },
    {
      "cell_type": "markdown",
      "metadata": {
        "id": "ZsRT111XAPnv"
      },
      "source": [
        "### 다른 사람 풀이(5)-dfs - stack\n",
        "- https://velog.io/@ju_h2/Python-%ED%94%84%EB%A1%9C%EA%B7%B8%EB%9E%98%EB%A8%B8%EC%8A%A4-level2-%ED%83%80%EA%B2%9F%EB%84%98%EB%B2%84-BFSDFS"
      ]
    },
    {
      "cell_type": "code",
      "metadata": {
        "id": "eeUmDj7HAS1c"
      },
      "source": [
        "def solution(numbers,target):\n",
        "  answer = 0\n",
        "  n = len(numbers)\n",
        "  stack = [[numbers[0],0],[-numbers[0],0]]\n",
        "  while stack:\n",
        "    cur_sum, idx = stack.pop()\n",
        "    idx += 1\n",
        "    if idx == n:\n",
        "      if cur_sum == target:\n",
        "        answer += 1\n",
        "    else:\n",
        "      stack.append([cur_sum + numbers[idx],idx])\n",
        "      stack.append([cur_sum - numbers[idx],idx])\n",
        "  return answer\n",
        "solution([1,1,1,1,1],3)\n"
      ],
      "execution_count": null,
      "outputs": []
    },
    {
      "cell_type": "markdown",
      "metadata": {
        "id": "ii3HDnIb9teQ"
      },
      "source": [
        "### 다른 사람 풀이(6)-bfs - queue\n",
        "- https://velog.io/@ju_h2/Python-%ED%94%84%EB%A1%9C%EA%B7%B8%EB%9E%98%EB%A8%B8%EC%8A%A4-level2-%ED%83%80%EA%B2%9F%EB%84%98%EB%B2%84-BFSDFS"
      ]
    },
    {
      "cell_type": "code",
      "metadata": {
        "id": "AuW0y4mt9zxD"
      },
      "source": [
        "from collections import deque\n",
        "def solution(numbers,target):\n",
        "  answer = 0\n",
        "  queue = deque() #queue 사용을 위한 deque 함수 활용\n",
        "  n = len(numbers)\n",
        "  queue.append([numbers[0],0])\n",
        "  queue.append([-numbers[0],0])\n",
        "\n",
        "  while queue:\n",
        "    cur_sum, idx = queue.popleft() #루트 노트와 가까운 노드 순서대로 탐색\n",
        "    idx += 1\n",
        "    if idx == n: # 마지막 노드까지 도달한 경우\n",
        "      if cur_sum == target: #노드까지 도달한 결과가 target 값과 일치한 경우\n",
        "        answer += 1\n",
        "    else:\n",
        "      cur_num = numbers[idx]\n",
        "      queue.append([cur_sum + cur_num, idx])\n",
        "      queue.append([cur_sum - cur_num, idx])\n",
        "  return answer\n",
        "solution([1,1,1,1,1],3)"
      ],
      "execution_count": null,
      "outputs": []
    },
    {
      "cell_type": "markdown",
      "metadata": {
        "id": "i_kA1vGC_xex"
      },
      "source": [
        "dfs - stack과 bfs -queue의 차이는 결국 루트 노드에 가까운 노드부터 탐색하는지, 아니면 다음 분기로 넘어가기 전 인접 노트의 탐색을 완료하는지에 대한 차이"
      ]
    },
    {
      "cell_type": "markdown",
      "metadata": {
        "id": "qrhAMkGyBamS"
      },
      "source": [
        "## 수식 최대화(재귀함수로 해결)"
      ]
    },
    {
      "cell_type": "code",
      "metadata": {
        "id": "mD4SqoHmcwWs"
      },
      "source": [
        "def calc(operator, seq, exp):\n",
        "    if exp.isdigit():\n",
        "        return str(exp)\n",
        "    else:\n",
        "        if operator[seq]==\"*\":\n",
        "            splitted = exp.split(\"*\")\n",
        "            tmp = []\n",
        "            for s in splitted:\n",
        "                tmp.append(calc(operator,seq+1,s))\n",
        "            return str(eval(\"*\".join(tmp)))\n",
        "        \n",
        "        elif operator[seq]==\"-\":\n",
        "            splitted = exp.split(\"-\")\n",
        "            tmp = []\n",
        "            for s in splitted:\n",
        "                tmp.append(calc(operator,seq+1,s))\n",
        "            return str(eval(\"-\".join(tmp)))\n",
        "        \n",
        "        elif operator[seq]==\"+\":\n",
        "            splitted = exp.split(\"+\")\n",
        "            tmp = []\n",
        "            for s in splitted:\n",
        "                tmp.append(calc(operator,seq+1,s))\n",
        "            return str(eval(\"+\".join(tmp)))\n",
        "        \n",
        "def solution(expression):\n",
        "    operators = [('*', '+', '-'),\n",
        "                  ('*', '-', '+'),\n",
        "                  ('+', '*', '-'),\n",
        "                  ('+', '-', '*'),\n",
        "                  ('-', '*', '+'),\n",
        "                  ('-', '+', '*')]   \n",
        "    \n",
        "    result = []\n",
        "    for operator in operators:\n",
        "        result.append(abs(int(calc(operator, 0, expression))))\n",
        "    return max(result)\n",
        "\n",
        "expr = \"100-200*300-500+20\"\n",
        "solution(expr)\n"
      ],
      "execution_count": null,
      "outputs": []
    },
    {
      "cell_type": "code",
      "metadata": {
        "id": "GN7ez5DAiWw6"
      },
      "source": [
        "re.split('(\\D)',expr)\n",
        "# expr.split(\"(\\D\")"
      ],
      "execution_count": null,
      "outputs": []
    },
    {
      "cell_type": "code",
      "metadata": {
        "id": "_pVuvtpOq14B"
      },
      "source": [
        "import re\n",
        "from itertools import permutations\n",
        "\n",
        "def solution(expression):\n",
        "  operations = list(permutations([\"*\",\"+\",\"-\"],3))\n",
        "  expr = re.split(\"(\\D)\", expression) # \\D : 숫자가 아닌 것들, 즉 숫자가 아닌것들 기준으로 분류\n",
        "    \n",
        "  res = []\n",
        "  for operation in operations:\n",
        "    tmp_expr = expr[:]\n",
        "    for op in operation:\n",
        "      while op in tmp_expr:\n",
        "        op_idx = tmp_expr.index(op)\n",
        "        tmp_expr[op_idx-1] = str(eval(tmp_expr[op_idx-1]+tmp_expr[op_idx]+tmp_expr[op_idx+1]))\n",
        "        tmp_expr = tmp_expr[:op_idx] + tmp_expr[op_idx+2:]\n",
        "    res.append(tmp_expr[-1])\n",
        "    \n",
        "    return max(map(lambda x : abs(int(x)), res))\n",
        "\n",
        "expr = \"100-200*300-500+20\"\n",
        "solution(expr)"
      ],
      "execution_count": null,
      "outputs": []
    },
    {
      "cell_type": "markdown",
      "metadata": {
        "id": "NX7ayFr24blG"
      },
      "source": [
        "### 다른 사람 풀이(1) - 연산자 우선순위에 따른 괄호"
      ]
    },
    {
      "cell_type": "code",
      "metadata": {
        "id": "kdAqJjo9zuvw"
      },
      "source": [
        "from itertools import permutations\n",
        "def solution(expression):\n",
        "    answer = []\n",
        "    operations = list(permutations([\"*\",\"+\",\"-\"],3))\n",
        "    for op in operations:\n",
        "        a = op[0]\n",
        "        b = op[1]\n",
        "        tmp_list = []\n",
        "        for ex in expression.split(a):\n",
        "            tmp = [f\"({i})\"for i in ex.split(b)]\n",
        "            tmp_list.append(f'({b.join(tmp)})')\n",
        "        answer.append(abs(eval(a.join(tmp_list))))\n",
        "    return max(answer)\n",
        "\n",
        "expr = \"100-200*300-500+20\"\n",
        "solution(expr)"
      ],
      "execution_count": null,
      "outputs": []
    },
    {
      "cell_type": "markdown",
      "metadata": {
        "id": "jN5PVDRpyYHc"
      },
      "source": [
        "### 다른 사람 풀이(2) - deque"
      ]
    },
    {
      "cell_type": "code",
      "metadata": {
        "id": "zMMKNm0Y7Hul"
      },
      "source": [
        "from itertools import permutations\n",
        "from collections import deque\n",
        "import re\n",
        "def solution(expression):\n",
        "    answer = 0\n",
        "    ops = set(re.findall(\"\\D\", expression))\n",
        "    exp = deque(re.split(\"(\\D)\",expression))\n",
        "\n",
        "    for priority in permutations(ops, len(ops)):\n",
        "        stack = exp.copy()\n",
        "        for op in priority:\n",
        "            i = 0\n",
        "            length = len(stack)\n",
        "            while i < length:\n",
        "                if stack[0] != op:\n",
        "                    i += 1\n",
        "                    stack.append(stack.popleft())\n",
        "                    continue\n",
        "                num1 = stack.pop()\n",
        "                op_ = stack.popleft()\n",
        "                num2 = stack.popleft()\n",
        "                stack.append(str(eval(num1 + op_ + num2)))\n",
        "                i += 2\n",
        "                if len(stack) == 1:\n",
        "                    answer = max(abs(int(stack[-1])), answer)\n",
        "                    break\n",
        "\n",
        "    return answer\n",
        "expr = \"100-200*300-500+20\"\n",
        "solution(expr)"
      ],
      "execution_count": null,
      "outputs": []
    },
    {
      "cell_type": "markdown",
      "metadata": {
        "id": "8ONUDDvXJrHo"
      },
      "source": [
        "## 1차 뉴스 클러스터링"
      ]
    },
    {
      "cell_type": "code",
      "metadata": {
        "id": "pwZFp-cLJviU"
      },
      "source": [
        "from collections import Counter\n",
        "import re\n",
        "\n",
        "def solution(str1, str2):\n",
        "\n",
        "    s1 = [s for s in [(str1[i] + str1[i+1]).lower() for i in range(len(str1)-1)] if s.isalpha()]\n",
        "    s2 = [s for s in [(str2[i] + str2[i+1]).lower() for i in range(len(str2)-1)] if s.isalpha()]\n",
        "    \n",
        "    if len(s1) + len(s2) == 0:\n",
        "        return 65536\n",
        "\n",
        "    inter = list((Counter(s1) & Counter(s2)).elements())\n",
        "    union = list((Counter(s1) | Counter(s2)).elements())\n",
        "\n",
        "    return int(len(inter) / len(union) *65536)\n",
        "\n",
        "s1_list = ['FRANCE','handshake','aa1+aa2','E=M*C^2'\t]\n",
        "s2_list = ['french','shake hands','AAAA12','e=m*c^2']\n",
        "\n",
        "for a,b in zip(s1_list,s2_list):\n",
        "  print(f\"[{a} || {b}]\",solution(a,b))"
      ],
      "execution_count": null,
      "outputs": []
    },
    {
      "cell_type": "markdown",
      "metadata": {
        "id": "czi4eign4ZTP"
      },
      "source": [
        "## 게임 맵 최단 거리"
      ]
    },
    {
      "cell_type": "code",
      "metadata": {
        "id": "ja_1ZLIT50rz"
      },
      "source": [
        "from collections import deque\n",
        "\n",
        "def find_path(maps, p):\n",
        "    n = len(maps)\n",
        "    m = len(maps[0])\n",
        "\n",
        "    paths = []\n",
        "    for q in [[1,0],[0,1],[-1,0],[0,-1]]: #down, right, top, left\n",
        "        if 0 <= p[0] + q[0] < n and 0 <= p[1] + q[1] < m:\n",
        "            if maps[p[0]+q[0]][p[1] + q[1]] == 1:\n",
        "                paths.append((p[0]+q[0], p[1] + q[1]))\n",
        "\n",
        "    return paths\n",
        "\n",
        "def solution(maps):\n",
        "    n = len(maps)\n",
        "    m = len(maps[0])\n",
        "    start = (0,0) #start point\n",
        "    end = (n-1,m-1) #end point\n",
        "    maps[0][0] == 0 # start point는 한 번 지나갔으므로 삭제\n",
        "    location = [[start,1]] #[path, count]\n",
        "    q = deque(location)\n",
        "\n",
        "    while q:\n",
        "        current,cnt = q.popleft()\n",
        "        if current == end:\n",
        "            return cnt\n",
        "        \n",
        "        paths = find_path(maps, current)\n",
        "        for path in paths:\n",
        "            q.append([path, cnt+1])\n",
        "            maps[path[0]][path[1]] = 0\n",
        "    \n",
        "    return -1\n",
        "maps_list = [[[1,0,1,1,1],[1,0,1,0,1],[1,0,1,1,1],[1,1,1,0,1],[0,0,0,0,1]], [[1,0,1,1,1],[1,0,1,0,1],[1,0,1,1,1],[1,1,1,0,0],[0,0,0,0,1]]]\n",
        "\n",
        "for maps in maps_list:\n",
        "  print(solution(maps_list[0]))"
      ],
      "execution_count": null,
      "outputs": []
    },
    {
      "cell_type": "markdown",
      "metadata": {
        "id": "CsOEljVPbvm8"
      },
      "source": [
        "## 괄호 변환"
      ]
    },
    {
      "cell_type": "code",
      "metadata": {
        "id": "lcYhIprfZbVq"
      },
      "source": [
        "from collections import Counter\n",
        "from collections import deque\n",
        "\n",
        "def solution(p):\n",
        "    if p == '':\n",
        "        return p\n",
        "    \n",
        "    answer = ''\n",
        "    #\n",
        "    for i in range(2,len(p),2):\n",
        "        l,r = Counter(p).values()\n",
        "        if l==r:\n",
        "            u, v = (p[:i], p[i:])\n",
        "            break\n",
        "    \n",
        "    u_ = match(u[:])\n",
        "    match = [u_[0]]\n",
        "    u_.popleft()\n",
        "    for _ in range(len(u_)):\n",
        "      match.append(u_[0])\n",
        "      while len(match)>=2:\n",
        "        if match[-2 : ]== \"()\":\n",
        "\n",
        "    \n",
        "    \n",
        "    return answer"
      ],
      "execution_count": null,
      "outputs": []
    },
    {
      "cell_type": "code",
      "metadata": {
        "id": "VvVffOPjcRHv"
      },
      "source": [
        "from collections import deque\n",
        "ss = \"()))((()\"\n",
        "ss = list(ss)\n",
        "bb = deque(ss)\n",
        "c = []\n",
        "c.append(bb.popleft())\n",
        "bb,c"
      ],
      "execution_count": null,
      "outputs": []
    },
    {
      "cell_type": "code",
      "metadata": {
        "id": "Q5y5cUx7ewgf"
      },
      "source": [
        "c.append(bb.popleft())\n",
        "bb,c"
      ],
      "execution_count": null,
      "outputs": []
    },
    {
      "cell_type": "code",
      "metadata": {
        "id": "qmfQ0UOu9Bk2"
      },
      "source": [
        "c[-2] + c[-1]"
      ],
      "execution_count": null,
      "outputs": []
    },
    {
      "cell_type": "code",
      "metadata": {
        "id": "SUGXO8ADgV7m"
      },
      "source": [
        "from collections import Counter\n",
        "from collections import deque\n",
        "\n",
        "def solution(p):\n",
        "    if p == '':\n",
        "        return \"\"\n",
        "    \n",
        "    #w의 부분 균형잡힌 문자열 u와 나머지 v 분리\n",
        "    u,v = (\"\", p)\n",
        "    for i in range(0,len(p)+1,2):\n",
        "        try:\n",
        "\n",
        "          l,r = Counter(p[:i]).values()\n",
        "          \n",
        "          if l==r:\n",
        "              u, v = (p[:i], p[i:])\n",
        "              break\n",
        "        except:\n",
        "          pass\n",
        "    #u가 올바른 문자열인지 확인\n",
        "    u_ = deque(list(u))\n",
        "    stack = []\n",
        "    while u_:\n",
        "        stack.append(u_.popleft())\n",
        "        if len(stack) >= 2:\n",
        "            if stack[-2] + stack[-1] == \"()\":\n",
        "                stack.pop()\n",
        "                stack.pop()\n",
        "    # print(\"u: \", u,\"v: \",v, \"not stack: \",not stack)\n",
        "    #u가 균형잡힌 올바른 문자열일 경우\n",
        "    if not stack:\n",
        "        return u +solution(v)\n",
        "    else: #u가 균형잡혔지만 올바른 문자열이 아닌 경우\n",
        "        return \"(\" + solution(v) + \")\" + \"\".join(reversed(u[1:-1]))\n",
        "\n",
        "solution(\"()))((()\")\n",
        "# solution(\"))((()\")\n",
        "# solution(\"()\")"
      ],
      "execution_count": null,
      "outputs": []
    },
    {
      "cell_type": "code",
      "metadata": {
        "id": "UaMHkRIIhE9t"
      },
      "source": [
        "from collections import Counter\n",
        "from collections import deque\n",
        "\n",
        "def solution(p):\n",
        "    if p == '':\n",
        "        return \"\"\n",
        "    \n",
        "    #w의 부분 균형잡힌 문자열 u와 나머지 v 분리\n",
        "    u,v = (\"\", p)\n",
        "    for i in range(0,len(p)+1,2):\n",
        "        try:\n",
        "            l,r = Counter(p[:i]).values()         \n",
        "            if l==r:\n",
        "                u, v = (p[:i], p[i:])\n",
        "                break\n",
        "        except:\n",
        "              pass\n",
        "            \n",
        "    #u가 올바른 문자열인지 확인\n",
        "    u_ = deque(list(u))\n",
        "    stack = []\n",
        "    while u_:\n",
        "        stack.append(u_.popleft())\n",
        "        if len(stack) >= 2:\n",
        "            if stack[-2] + stack[-1] == \"()\":\n",
        "                stack.pop()\n",
        "                stack.pop()\n",
        "    # print(\"u: \", u,\"v: \",v, \"not stack: \",not stack)\n",
        "    #u가 균형잡힌 올바른 문자열일 경우\n",
        "    if not stack:\n",
        "        return u +solution(v)\n",
        "    else: #u가 균형잡혔지만 올바른 문자열이 아닌 경우\n",
        "        u = list(u)\n",
        "        u = \"\".join([\"(\" if u[i]==\")\" else \")\"for i in range(1,len(u)-1)])\n",
        "        return \"(\" + solution(v) + \")\" + u\n",
        "\n",
        "solution(\"()))((()\")"
      ],
      "execution_count": null,
      "outputs": []
    },
    {
      "cell_type": "markdown",
      "metadata": {
        "id": "JrAShL8irLzF"
      },
      "source": [
        "### 다른 사람 풀이(1)"
      ]
    },
    {
      "cell_type": "code",
      "metadata": {
        "id": "SzF0RRW3rwuj"
      },
      "source": [
        "def solution(p):\n",
        "  if p == '' : return ''\n",
        "\n",
        "  cnt = 0\n",
        "  right = True\n",
        "  for i in range(len(p)):\n",
        "    if p[i] == \"(\":\n",
        "      cnt += 1\n",
        "    else :\n",
        "      cnt -= 1\n",
        "    if cnt < 0:\n",
        "      right = False\n",
        "    print(right,cnt,p)\n",
        "    if cnt == 0:\n",
        "      print(p)\n",
        "      if right:\n",
        "        return p[:i+1] + solution(p[i+1:])\n",
        "      else:\n",
        "        return \"(\" + solution(p[i+1:]) + \")\" + \"\".join([\"(\" if x == \")\" else \")\" for x in p[1:i]])\n",
        "      \n",
        "solution(\"()))((()\")"
      ],
      "execution_count": null,
      "outputs": []
    },
    {
      "cell_type": "code",
      "metadata": {
        "id": "U4CD9IFJxVgU"
      },
      "source": [
        "def solution(p):\n",
        "    if p=='': return p\n",
        "    r=True; c=0\n",
        "    for i in range(len(p)):\n",
        "        if p[i]=='(': c-=1\n",
        "        else: c+=1\n",
        "        if c>0: r=False\n",
        "        if c==0:\n",
        "            \n",
        "            if r:\n",
        "                return p[:i+1]+solution(p[i+1:])\n",
        "            else:\n",
        "                return '('+solution(p[i+1:])+')'+''.join(list(map(lambda x:'(' if x==')' else ')',p[1:i]) ))\n",
        "\n",
        "solution(\"()))((()\")"
      ],
      "execution_count": null,
      "outputs": []
    },
    {
      "cell_type": "markdown",
      "metadata": {
        "id": "GcVZlL6R4DuC"
      },
      "source": [
        "## 소수 찾기"
      ]
    },
    {
      "cell_type": "code",
      "metadata": {
        "id": "4LXvcH_U4F3X"
      },
      "source": [
        "from itertools import permutations\n",
        "\n",
        "def make_permutations(numbers):\n",
        "  \n",
        "\n",
        "def solution(numbers):\n",
        "    num_lists = [list(permutations(numbers,i)) for i in range(1,len(numbers)+1)]\n",
        "    lists = set([int(\"\".join(b)) for a in num_lists for b in a if int(\"\".join(b)) > 1])\n",
        "    \n",
        "    answer = len(lists)\n",
        "    for num in lists:\n",
        "        for i in range(2,int(num**0.5)+1):\n",
        "            if num % i == 0:\n",
        "                answer -=1\n",
        "                break\n",
        "\n",
        "    return answer\n",
        "numbers = [\"17\",\"011\"]\n",
        "solution(numbers[0])"
      ],
      "execution_count": null,
      "outputs": []
    },
    {
      "cell_type": "markdown",
      "metadata": {
        "id": "A4GK4hw6B3fj"
      },
      "source": [
        "### 다른 사람 풀이(1)\n",
        "- 문제에 적합한 combinations 함수를 직접 구현"
      ]
    },
    {
      "cell_type": "code",
      "metadata": {
        "id": "rtjYDa54E-WE"
      },
      "source": [
        "primeSet = set()\n",
        "\n",
        "\n",
        "def isPrime(number):\n",
        "    if number in (0, 1):\n",
        "        return False\n",
        "    for i in range(2, number):\n",
        "        if number % i == 0:\n",
        "            return False\n",
        "\n",
        "    return True\n",
        "\n",
        "\n",
        "def makeCombinations(str1, str2):\n",
        "    if str1 != \"\":\n",
        "        if isPrime(int(str1)):\n",
        "            primeSet.add(int(str1))\n",
        "\n",
        "    for i in range(len(str2)):\n",
        "        makeCombinations(str1 + str2[i], str2[:i] + str2[i + 1:])\n",
        "\n",
        "def solution(numbers):\n",
        "    makeCombinations(\"\", numbers)\n",
        "\n",
        "    answer = len(primeSet)\n",
        "\n",
        "    return answer, primeSet\n",
        "solution(numbers[0])"
      ],
      "execution_count": null,
      "outputs": []
    },
    {
      "cell_type": "code",
      "metadata": {
        "id": "FrnuYfG4FYVF"
      },
      "source": [
        "primeSet = set()\n",
        "\n",
        "def isPrime(number):\n",
        "  if number in (0,1):\n",
        "    return False\n",
        "  for i in range(2,int(number**0.5)+1):\n",
        "    if number % i == 0:\n",
        "      return False\n",
        "  return True\n",
        "\n",
        "def makeCombinations(str1, str2):\n",
        "\n",
        "    if str1 != \"\":\n",
        "        if isPrime(int(str1)):\n",
        "            primeSet.add(int(str1))\n",
        "\n",
        "    for i in range(len(str2)):\n",
        "      makeCombinations(str1 + str2[i], str2[:i] + str2[i+1:])\n",
        "      \n",
        "def solution(numbers):\n",
        "    makeCombinations(\"\",numbers)\n",
        "    answer = len(primeSet)\n",
        "    return answer, primeSet\n",
        "\n",
        "solution(\"17\")"
      ],
      "execution_count": null,
      "outputs": []
    },
    {
      "cell_type": "code",
      "metadata": {
        "id": "FdTmGT1HEKzj"
      },
      "source": [
        "list(\"\")"
      ],
      "execution_count": null,
      "outputs": []
    }
  ]
}