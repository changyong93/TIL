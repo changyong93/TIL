{
  "nbformat": 4,
  "nbformat_minor": 0,
  "metadata": {
    "colab": {
      "name": "210527 programmer_Lev2.ipynb",
      "private_outputs": true,
      "provenance": [],
      "collapsed_sections": [],
      "toc_visible": true,
      "authorship_tag": "ABX9TyOBx0kiA0Gxl9w3HXYtCrww",
      "include_colab_link": true
    },
    "kernelspec": {
      "name": "python3",
      "display_name": "Python 3"
    },
    "language_info": {
      "name": "python"
    }
  },
  "cells": [
    {
      "cell_type": "markdown",
      "metadata": {
        "id": "view-in-github",
        "colab_type": "text"
      },
      "source": [
        "<a href=\"https://colab.research.google.com/github/changyong93/TIL/blob/main/1.%20python/210527_programmer_Lev2.ipynb\" target=\"_parent\"><img src=\"https://colab.research.google.com/assets/colab-badge.svg\" alt=\"Open In Colab\"/></a>"
      ]
    },
    {
      "cell_type": "markdown",
      "metadata": {
        "id": "hgDdOEjiVrJO"
      },
      "source": [
        "## 멀쩡한 사각형"
      ]
    },
    {
      "cell_type": "code",
      "metadata": {
        "id": "7bIjyoeZVxdQ"
      },
      "source": [
        "def gcd(w,h):\n",
        "    if w >= h:\n",
        "        while h != 0:\n",
        "            w,h = h, w%h\n",
        "        return w\n",
        "\n",
        "    else:\n",
        "        while w != 0:\n",
        "            h,w = w, h%w\n",
        "        return h\n",
        "\n",
        "def solution(w,h):\n",
        "    return w*h - w - h + gcd(w,h)"
      ],
      "execution_count": null,
      "outputs": []
    },
    {
      "cell_type": "code",
      "metadata": {
        "id": "P840zkKWiSfI"
      },
      "source": [
        "def gcd(w,h):\n",
        "    if w > h:\n",
        "        while h !=0:\n",
        "            w, h = h, w%h\n",
        "        return w\n",
        "    else:\n",
        "        while w != 0:\n",
        "            h, w = w, h%w\n",
        "        return h\n",
        "\n",
        "\n",
        "def solution(w,h):\n",
        "    return w*h -(w+h) + gcd(w,h)\n",
        "solution(8,12)"
      ],
      "execution_count": null,
      "outputs": []
    },
    {
      "cell_type": "markdown",
      "metadata": {
        "id": "xvMnS8bBlKRZ"
      },
      "source": [
        "---\n",
        "### 다른 사람풀이(1)\n",
        "- 구하는 방식은 동일했지만, gcd를 조금 더 간결하게 작성\n",
        "- 나 같은 경우, 가로 세로 길이 중 긴 것을 기준으로 gcd를 구하게 했지만, 아래 풀이의 경우는, 가로 or 세로가 0이 될 때까지 바꿔가면서 연산하기에 고려할 필요 없음"
      ]
    },
    {
      "cell_type": "code",
      "metadata": {
        "id": "xkdeTXqolWem"
      },
      "source": [
        "def gcd(a,b): return b if a == 0 else gcd(b%a, a)\n",
        "def solution(w,h): return w*h -(w+h) + gcd(w,h)\n",
        "solution(12,8)"
      ],
      "execution_count": null,
      "outputs": []
    },
    {
      "cell_type": "markdown",
      "metadata": {
        "id": "bnWBKHALl0wC"
      },
      "source": [
        "---\n",
        "### 다른 사람풀이(2)\n",
        "- math library의 gcd 함수 사용"
      ]
    },
    {
      "cell_type": "code",
      "metadata": {
        "id": "bPMyy2T4l-eo"
      },
      "source": [
        "from math import gcd\n",
        "def solution(w,h): return w*h - w - h + gcd(w,h)\n",
        "solution(12,8)"
      ],
      "execution_count": null,
      "outputs": []
    },
    {
      "cell_type": "markdown",
      "metadata": {
        "id": "2mGdMQWxGxCj"
      },
      "source": [
        "## 124 나라의 숫자"
      ]
    },
    {
      "cell_type": "code",
      "metadata": {
        "id": "lJs-zGylG4QD"
      },
      "source": [
        "def solution(n):\n",
        "  answer = ''\n",
        "  while n > 0:\n",
        "    remainder = n % 3\n",
        "    n = n//3\n",
        "    if remainder == 0:\n",
        "      answer = \"4\" + answer\n",
        "      n -= 1\n",
        "    else:\n",
        "      answer = str(remainder) + answer\n",
        "  return answer\n",
        "solution(12)"
      ],
      "execution_count": null,
      "outputs": []
    },
    {
      "cell_type": "markdown",
      "metadata": {
        "id": "K_NtdASVUC-Y"
      },
      "source": [
        "---\n",
        "### 다른 사람 풀이(1)"
      ]
    },
    {
      "cell_type": "code",
      "metadata": {
        "id": "0OZRGB4CSkeO"
      },
      "source": [
        "def solution(n):\n",
        "  num = ['1','2','4']\n",
        "  answer = ''\n",
        "\n",
        "  while n != 0:\n",
        "    n -= 1\n",
        "    answer = num[n%3] + answer\n",
        "    n //= 3\n",
        "  return answer\n",
        "solution(12)"
      ],
      "execution_count": null,
      "outputs": []
    },
    {
      "cell_type": "markdown",
      "metadata": {
        "id": "Dd5LI9PVW_P4"
      },
      "source": [
        "### 다른 사람 풀이(2)"
      ]
    },
    {
      "cell_type": "code",
      "metadata": {
        "id": "EN4UchabXCLh"
      },
      "source": [
        "def solution(n):\n",
        "  answer = ''\n",
        "\n",
        "  while n !=0:\n",
        "    n,r = divmod(n-1,3)\n",
        "    answer = '124'[r] + answer\n",
        "  return answer\n",
        "solution(12)"
      ],
      "execution_count": null,
      "outputs": []
    },
    {
      "cell_type": "markdown",
      "metadata": {
        "id": "2zWhqyr-YdiJ"
      },
      "source": [
        "---\n",
        "### 다른 사람 풀이(3)\n",
        "- n!=인 경우 412[n%3] 값이 뒤에 붙음\n",
        "- ex) n이 112인 경우,\n",
        "\n",
        "sol(12)\n",
        "= sol((12-1)//3) + '412'[12%3]  \n",
        "= sol(3) + '4'  \n",
        "=  sol((3-1)//3) + 412[3%3] + '4'  \n",
        "= sol(0) + '4' + '4'  \n",
        "= '' + '4' + '4'  \n",
        "= '44'  "
      ]
    },
    {
      "cell_type": "code",
      "metadata": {
        "id": "6kbIEfF0YGrT"
      },
      "source": [
        "def solution(n):\n",
        "  return '' if n == 0 else solution((n-1)//3) + '412'[n%3]\n",
        "solution(14)"
      ],
      "execution_count": null,
      "outputs": []
    },
    {
      "cell_type": "markdown",
      "metadata": {
        "id": "CmJIoM5AeOrN"
      },
      "source": [
        "## 짝지어 제거하기(스택)\n",
        "\n"
      ]
    },
    {
      "cell_type": "code",
      "metadata": {
        "id": "-yrJgRxXbT6K"
      },
      "source": [
        "def solution(s):\n",
        "    stack = []\n",
        "    for a in s:\n",
        "        if stack: # stack이 빈 list가 아닐 경우\n",
        "            if stack[-1] == a:\n",
        "                stack.pop()\n",
        "            else:\n",
        "                stack.append(a)\n",
        "        else:\n",
        "            stack.append(a)\n",
        "\n",
        "    return 1 if len(stack) == 0 else 0\n",
        "\n",
        "solution('ssabba')"
      ],
      "execution_count": null,
      "outputs": []
    },
    {
      "cell_type": "code",
      "metadata": {
        "id": "bbuJY5SUqcH_"
      },
      "source": [
        "def solution(s):\n",
        "    stack = []\n",
        "    for a in s:\n",
        "        if not(stack): # stack이 빈 list일 경우\n",
        "            stack.append(a)\n",
        "            continue\n",
        "        if stack[-1] == a:\n",
        "            stack.pop()\n",
        "        else:\n",
        "            stack.append(a)\n",
        "        \n",
        "    return 1 if len(stack) == 0 else 0\n",
        "\n",
        "solution('ssabba')"
      ],
      "execution_count": null,
      "outputs": []
    },
    {
      "cell_type": "markdown",
      "metadata": {
        "id": "Up78GkbaySzj"
      },
      "source": [
        "## 기능개발(스택/큐)  \n",
        "https://devuna.tistory.com/22"
      ]
    },
    {
      "cell_type": "code",
      "metadata": {
        "id": "pbyaT6elyVfW"
      },
      "source": [
        "def solution(progresses, speeds):\n",
        "    answer = []\n",
        "    \n",
        "    i = 0 # progress\n",
        "    k = 0\n",
        "    days = 0\n",
        "    while i+1 <=len(progresses):\n",
        "        if progresses[i] + days*speeds[i] >= 100:\n",
        "            # print(progresses[i],days*speeds[i])\n",
        "            i += 1\n",
        "            k += 1\n",
        "            # print(\"누적  k: \", k)\n",
        "        else:\n",
        "            days += 1\n",
        "            if k > 0:\n",
        "                # print(\"append K: \", k)\n",
        "                answer.append(k)\n",
        "                k = 0\n",
        "    if k > 0:\n",
        "      answer.append(k)\n",
        "                \n",
        "    return answer\n",
        "# solution([93, 30, 55],\t[1, 30, 5])\n",
        "solution([95, 90, 99, 99, 80, 99],[1,1,1,1,1,1])"
      ],
      "execution_count": null,
      "outputs": []
    },
    {
      "cell_type": "markdown",
      "metadata": {
        "id": "W8hzxqfjdrRS"
      },
      "source": [
        "---\n",
        "문제 의도대로 큐로 해결"
      ]
    },
    {
      "cell_type": "code",
      "metadata": {
        "id": "2XcEMQ-sdkcj"
      },
      "source": [
        "import math\n",
        "from collections import deque\n",
        "def solution(progresses, speeds):\n",
        "    DayLeft = [math.ceil((100-p)/s) for p,s in zip(progresses, speeds)]\n",
        "    # print(DayLeft)\n",
        "    q = deque([])\n",
        "    answer = []\n",
        "    for i in range(len(DayLeft)):\n",
        "        if not(q):\n",
        "            q.append(DayLeft[i])\n",
        "            continue\n",
        "        \n",
        "        if q[-1] < DayLeft[i]:\n",
        "            cnt = 0\n",
        "            while q and q[-1] < DayLeft[i]:\n",
        "                cnt += 1\n",
        "                q.popleft()\n",
        "            answer.append(cnt)\n",
        "            q.append(DayLeft[i])\n",
        "        else:\n",
        "            q.append(q[-1])\n",
        "        \n",
        "    cnt = 0\n",
        "    while q:\n",
        "        cnt +=1\n",
        "        q.pop()\n",
        "    answer.append(cnt)\n",
        "    return answer\n",
        "# solution([93, 30, 55],\t[1, 30, 5])\n",
        "solution([95, 90, 99, 99, 80, 99],[1,1,1,1,1,1])"
      ],
      "execution_count": null,
      "outputs": []
    },
    {
      "cell_type": "markdown",
      "metadata": {
        "id": "ZCxNlLRp27ZF"
      },
      "source": [
        "---\n",
        "### 다른 사람 풀이(1)\n",
        "- zip을 이용하여 연관된 progress와 speed를 동시에 출력"
      ]
    },
    {
      "cell_type": "code",
      "metadata": {
        "id": "IR-SKjRR4hkX"
      },
      "source": [
        "def solution(progresses, speeds):\n",
        "  Q = []\n",
        "  for p,s in zip(progresses, speeds):\n",
        "    print(Q, p, s)\n",
        "    if not(Q) or Q[-1][0] < (100-p)/s:\n",
        "      Q.append([(100-p)/s, 1])\n",
        "    else:\n",
        "      Q[-1][1] += 1\n",
        "  return [q[1] for q in Q]\n",
        "# solution([93, 30, 55],\t[1, 30, 5])\n",
        "solution([95, 90, 99, 99, 80, 99],[1,1,1,1,1,1])"
      ],
      "execution_count": null,
      "outputs": []
    },
    {
      "cell_type": "code",
      "metadata": {
        "id": "lTNuU_On6NV7"
      },
      "source": [
        "from math import ceil\n",
        "def solution(progresses, speeds):\n",
        "    daysLeft = list(map(lambda x : (ceil((100-progresses[x])/speeds[x])), range(len(progresses))))\n",
        "\n",
        "    count = 1\n",
        "    answer = []\n",
        "\n",
        "    for i in range(len(daysLeft)):\n",
        "        try:\n",
        "            if daysLeft[i] < daysLeft[i+1]:\n",
        "                answer.append(count)\n",
        "                count = 1\n",
        "            else:\n",
        "                daysLeft[i+1] = daysLeft[i]\n",
        "                count += 1\n",
        "        except:\n",
        "            answer.append(count)\n",
        "    return answer\n",
        "\n",
        "\n",
        "# solution([93, 30, 55],[1,30,5])\n",
        "solution([95, 90, 99, 99, 80, 99],[1,1,1,1,1,1])"
      ],
      "execution_count": null,
      "outputs": []
    },
    {
      "cell_type": "markdown",
      "metadata": {
        "id": "g_Cdh9mg_7ve"
      },
      "source": [
        "## 더 맵게(힙,Heap)  \n",
        "- https://gmlwjd9405.github.io/2018/05/10/data-structure-heap.html\n",
        "- https://www.daleseo.com/python-heapq/"
      ]
    },
    {
      "cell_type": "code",
      "metadata": {
        "id": "qYKR71p3FgWa"
      },
      "source": [
        "import heapq\n",
        "def solution(scoviile, k):\n",
        "    \n",
        "    cnt = 0\n",
        "    heapq.heapify(scoviile)\n",
        "    while len(scoviile) >= 2:\n",
        "        if scoviile[0] < k:\n",
        "            tmp = heapq.heappop(scoviile) + heapq.heappop(scoviile)*2\n",
        "            heapq.heappush(scoviile, tmp)\n",
        "            cnt += 1\n",
        "        else:\n",
        "            return cnt\n",
        "    return cnt if scoviile[0] >=k else -1\n",
        "    \n",
        "\n",
        "solution(\t[0, 0, 3, 9, 10, 12], 7000)"
      ],
      "execution_count": null,
      "outputs": []
    },
    {
      "cell_type": "markdown",
      "metadata": {
        "id": "FQhom_7oL0bO"
      },
      "source": [
        "---\n",
        "### 다른 사람 풀이(1)\n",
        "- 이진 분할을 통한 계산 범위 서치, bisect"
      ]
    },
    {
      "cell_type": "code",
      "metadata": {
        "id": "AEn3Pzt4b3XZ"
      },
      "source": [
        "import bisect, heapq\n",
        "\n",
        "def solution(scoville,k):\n",
        "  heapq.heapify(scoville)\n",
        "  answer = 0\n",
        "  mild_food = heapq.nsmallest(bisect.bisect(scoville, k)+1, scoville)\n",
        "\n",
        "  while len(mild_food) >= 2:\n",
        "    if mild_food[0] >= k:\n",
        "      return answer\n",
        "    else:\n",
        "      heapq.heappush(mild_food, heapq.heappop(mild_food) + heapq.heappop(mild_food)*2)\n",
        "      answer += 1\n",
        "  \n",
        "  return answer if mild_food[0] >= k else -1\n",
        "\n",
        "solution(\t[0, 0, 3, 9, 10, 12], 7000)"
      ],
      "execution_count": null,
      "outputs": []
    },
    {
      "cell_type": "markdown",
      "metadata": {
        "id": "l-Zig42Udqtd"
      },
      "source": [
        "## 오픈채팅방"
      ]
    },
    {
      "cell_type": "code",
      "metadata": {
        "id": "omC0H7UvA486"
      },
      "source": [
        "def solution(record):\n",
        "    user_dict = {}\n",
        "        \n",
        "    for record_ in record:\n",
        "        if record_.split()[0] == \"Enter\" or record_.split()[0] == \"Change\":\n",
        "            user_dict[record_.split()[1]] = record_.split()[2]\n",
        "             \n",
        "    \n",
        "    answer = []\n",
        "    for record_ in record:\n",
        "        if record_.split()[0] == \"Enter\":\n",
        "            sen = f\"{user_dict[record_.split()[1]]}님이 들어왔습니다.\"\n",
        "            answer.append(sen)\n",
        "        elif record_.split()[0] == \"Leave\":\n",
        "            sen = f\"{user_dict[record_.split()[1]]}님이 나갔습니다.\"\n",
        "            answer.append(sen)\n",
        "    return answer\n",
        "\n",
        "record = [\"Enter uid1234 Muzi\",\"Enter uid4567 Prodo\",\"Leave uid1234\",\n",
        "          \"Enter uid1234 Prodo\",\"Change uid4567 Ryan\"]\n",
        "print(solution(record))"
      ],
      "execution_count": null,
      "outputs": []
    },
    {
      "cell_type": "markdown",
      "metadata": {
        "id": "BGIMgXp0DK72"
      },
      "source": [
        "---\n",
        "### 다른 사람 풀이(1)"
      ]
    },
    {
      "cell_type": "code",
      "metadata": {
        "id": "bk5kwskdDNrI"
      },
      "source": [
        "def solution(record):\n",
        "  user_id = {record_.split()[1] : record_.split()[2] for record_ in record if record_.split()[0] in [\"Enter\", \"Change\"]}\n",
        "  return [ user_id[record_.split()[1]] + \"님이 들어왔습니다.\" if record_.split()[0] == \"Enter\" else user_id[record_.split()[1]] + \"님이 나갔습니다.\" for record_ in record if record_.split()[0] != \"Change\"]\n",
        "\n",
        "record = [\"Enter uid1234 Muzi\",\"Enter uid4567 Prodo\",\"Leave uid1234\",\n",
        "          \"Enter uid1234 Prodo\",\"Change uid4567 Ryan\"]\n",
        "print(solution(record))"
      ],
      "execution_count": null,
      "outputs": []
    },
    {
      "cell_type": "markdown",
      "metadata": {
        "id": "iZUkkizQMDe0"
      },
      "source": [
        "## 문자열 압축"
      ]
    },
    {
      "cell_type": "code",
      "metadata": {
        "id": "f3cfQFc5MGBH"
      },
      "source": [
        "def solution(s):\n",
        "    max_len = len(s)\n",
        "    answer = len(s)\n",
        "\n",
        "    for comp_size in range(1,int(max_len/2)+1):\n",
        "        splitted = [s[i:i+comp_size] for i in range(0,max_len, comp_size)]\n",
        "        \n",
        "        cnt = 1\n",
        "        compressed = ''\n",
        "        for j in range(len(splitted)-1):\n",
        "            pre, cur = splitted[j], splitted[j+1]\n",
        "            if pre == cur:\n",
        "                cnt += 1\n",
        "            else:\n",
        "                compressed += str(cnt) + pre if cnt > 1 else pre\n",
        "                cnt = 1\n",
        "        compressed += str(cnt) + cur if cnt > 1 else cur\n",
        "        print(splitted,compressed, len(compressed))\n",
        "        answer = len(compressed) if len(compressed) < answer else answer\n",
        "        \n",
        "    return answer\n",
        "s = \"abcabcabcabcdededededede\"\n",
        "solution(s)"
      ],
      "execution_count": null,
      "outputs": []
    },
    {
      "cell_type": "markdown",
      "metadata": {
        "id": "D0CSm4KDkaEU"
      },
      "source": [
        "## 타겟 넘버 - 깊이/너비 우선 탐색(DFS/BFS)  \n",
        "- https://devuna.tistory.com/32  \n",
        "---\n",
        "DFS(Depth-First Search, 깊이 우선 탐색)\n",
        "- 최대한 깊이 내려간 뒤 더 이상 길이 없으면 옆으로 이동\n",
        "- 루트 노드에서 시작하여 다음 분기(branch)를 넘어가기 전 해당 분기를 완벽히 탐색\n",
        "- 모든 노드를 방문하고자 하는 경우 사용\n",
        "- BFS보다 속도가 느림  \n",
        "\n",
        "BFS(Breadth-First Search, 너비 우선 탐색)\n",
        "- 최대한 넓게 이동한 다음, 갈 수 없는 때 아래로 이동\n",
        "- 루트 노드에서 시작하여 루트 노트와 인접한 노트를 완벽히 탐색 후 다음 노드를 탐색\n",
        "- 최단 경로를 탐색하고자 하는 경우 사용\n",
        "  - 지구 상에 존재하는 모든 친구 관계를 그래프로 표현한 후 Sam과 Eddie사이에 존재하는 경로를 찾는 경우\n",
        "  - DFS : 모든 친구 관계 다 확인\n",
        "  - BFS : SAM과 가까운 관계부터 확인  \n",
        "\n",
        "BFS vs DFS 비교\n",
        "- DFS : stack or 재귀함수 사용\n",
        "- BFS : queue 사용\n",
        "- 시간복잡도 : 두 방법 동일 => 둘 다 다음 노드가 방문했는지를 확인하는 시간과 각 노드를 방문하는 시간을 합함\n",
        "  - N(노드), E(간선)의 경우, 인접 리스트 : O(N + E) // 인접 행렬 : O(N^2)  \n",
        "\n",
        "활용 문제 유형\n",
        "1. 모든 정점 방문 => BFS, DFS 둘다 가능(편한 방법 사용)\n",
        "2. 경로 특징(ex, a->b까지 이동 시 특정 경로에 숫자가 있으면 안된다는 등) => DFS(BFS는 경로 특징을 가지지 못함)\n",
        "3. 최단 경로 => BFS\n",
        "+a, 검색 대상이 매우 크다면 DFS 고려, 검색 대상이 작고 시작 지점부터 원하는 대상이 멀지 않는 경우 BFS 고려\n"
      ]
    },
    {
      "cell_type": "code",
      "metadata": {
        "id": "AEGJUcxpkeeE"
      },
      "source": [
        "# 완전 탐색\n",
        "def solution(numbers, target):\n",
        "    answer = 0\n",
        "    sup = [0]\n",
        "    for i in numbers:\n",
        "        sub = []\n",
        "        for j in sup:\n",
        "            tmp = [j + i, j - i]\n",
        "            sub.extend(tmp)\n",
        "        sup = sub\n",
        "    return sup.count(target) \n",
        "\n",
        "solution([1, 1, 1, 1, 1]\t,3)"
      ],
      "execution_count": null,
      "outputs": []
    },
    {
      "cell_type": "markdown",
      "metadata": {
        "id": "cWr73nhyIoyp"
      },
      "source": [
        "### 다른 사람 풀이(1) - dfs - 재귀함수\n",
        "- https://velog.io/@ju_h2/Python-%ED%94%84%EB%A1%9C%EA%B7%B8%EB%9E%98%EB%A8%B8%EC%8A%A4-level2-%ED%83%80%EA%B2%9F%EB%84%98%EB%B2%84-BFSDFS"
      ]
    },
    {
      "cell_type": "code",
      "metadata": {
        "id": "GWl1TDUhunja"
      },
      "source": [
        "def solution(numbers, target):\n",
        "  answer = 0\n",
        "  n = len(numbers)\n",
        "  def dfs(idx, result):\n",
        "    if idx == n:\n",
        "      if result == target:\n",
        "        nonlocal answer\n",
        "        answer += 1\n",
        "      return\n",
        "    else:\n",
        "      dfs(idx+1, result + numbers[idx])\n",
        "      dfs(idx+1, result - numbers[idx])\n",
        "  dfs(0,0)\n",
        "  return answer\n",
        "solution([1,1,1,1,1],3)"
      ],
      "execution_count": null,
      "outputs": []
    },
    {
      "cell_type": "markdown",
      "metadata": {
        "id": "MqoZyaMMv8lr"
      },
      "source": [
        "- 함수 내의 함수를 생성하여 문제 해결\n",
        "- numbers의 첫번째 index부터 하나씩 꺼내서 +- 현재값을 함\n",
        "- answer의 경우 solution 함수에서 선언한 전역변수로, dfs 함수에서 값을 출력만 할 경우 그냥 사용해도 무방하지만, 값을 변경하기 위해선 해당 값이 local도 global도 아닌 상위 함수에 속한 변수라는 것을 선언해줘야 함\n",
        "---"
      ]
    },
    {
      "cell_type": "markdown",
      "metadata": {
        "id": "8u7PaF9twLWQ"
      },
      "source": [
        "### 다른 사람 풀이(2) - dfs - 재귀함수\n",
        "- https://eda-ai-lab.tistory.com/475"
      ]
    },
    {
      "cell_type": "code",
      "metadata": {
        "id": "c-7rQvlkwwUz"
      },
      "source": [
        "def dfs(array, numbers,target, size):\n",
        "  answer = 0\n",
        "  if len(array) == size:\n",
        "    return 1 if sum(array) == target else 0\n",
        "  else:\n",
        "    A = numbers.pop(0)\n",
        "    for i in [1,-1]:\n",
        "      array.append(A * i)\n",
        "      answer += dfs(array, numbers, target, size)\n",
        "      array.pop()\n",
        "    numbers.append(A)\n",
        "    return answer       \n",
        "\n",
        "def solution(numbers, target):\n",
        "  answer = 0\n",
        "  answer +=dfs([numbers[0]], numbers[1:], target, len(numbers))\n",
        "  answer +=dfs([-numbers[0]], numbers[1:], target, len(numbers))\n",
        "  return answer\n",
        "\n",
        "solution([1,1,1,1,1],3)"
      ],
      "execution_count": null,
      "outputs": []
    },
    {
      "cell_type": "markdown",
      "metadata": {
        "id": "YiZNjkyo0Yf2"
      },
      "source": [
        "- DFS 함수와 SOLUTION 함수에서 각각 local answer를 선언하고, DFS에서 반환한 answer 값을 solutoin의 asnwer에 합침\n",
        "- 상기 내용을 제외하곤 풀이 (1)과 동일\n",
        "---"
      ]
    },
    {
      "cell_type": "markdown",
      "metadata": {
        "id": "fBP7GmbY2TJW"
      },
      "source": [
        "### 다른 사람 풀이(3) -dfs - 재귀함수"
      ]
    },
    {
      "cell_type": "code",
      "metadata": {
        "id": "EZVZkIrs2U1v"
      },
      "source": [
        "answer = 0\n",
        "def dfs(idx,numbers, target, value):\n",
        "  global answer  \n",
        "  n = len(numbers)\n",
        "  if idx == n:\n",
        "    if value == target:\n",
        "      answer += 1\n",
        "    return\n",
        "  else:\n",
        "    dfs(idx+1, numbers, target, value + numbers[idx])\n",
        "    dfs(idx+1, numbers, target, value - numbers[idx])\n",
        "  \n",
        "def solution(numbers,target):\n",
        "  global answer\n",
        "  dfs(0,numbers, target, 0)  \n",
        "  return answer\n",
        "solution([1,1,1,1,1],3)"
      ],
      "execution_count": null,
      "outputs": []
    },
    {
      "cell_type": "markdown",
      "metadata": {
        "id": "IqGcMCRc4MB4"
      },
      "source": [
        "(1)과 같은 풀이"
      ]
    },
    {
      "cell_type": "markdown",
      "metadata": {
        "id": "l2JNp7RX8Opd"
      },
      "source": [
        "### 다른 사람 풀이(4)-dfs - 재귀함수"
      ]
    },
    {
      "cell_type": "code",
      "metadata": {
        "id": "A0ENAZyI8RTP"
      },
      "source": [
        "def solution(numbers,target):\n",
        "  if not numbers and target == 0:\n",
        "    return 1\n",
        "  elif not numbers:\n",
        "    return 0\n",
        "  else:\n",
        "    return solution(numbers[1:], target + numbers[0])+ solution(numbers[1:], target - numbers[0])\n",
        "solution([1,1,1,1,1],3)"
      ],
      "execution_count": null,
      "outputs": []
    },
    {
      "cell_type": "markdown",
      "metadata": {
        "id": "2Z9C3dLo85GW"
      },
      "source": [
        "상기 코드를 보면 모든 dfs는 재귀함수를 사용"
      ]
    },
    {
      "cell_type": "markdown",
      "metadata": {
        "id": "ZsRT111XAPnv"
      },
      "source": [
        "### 다른 사람 풀이(5)-dfs - stack\n",
        "- https://velog.io/@ju_h2/Python-%ED%94%84%EB%A1%9C%EA%B7%B8%EB%9E%98%EB%A8%B8%EC%8A%A4-level2-%ED%83%80%EA%B2%9F%EB%84%98%EB%B2%84-BFSDFS"
      ]
    },
    {
      "cell_type": "code",
      "metadata": {
        "id": "eeUmDj7HAS1c"
      },
      "source": [
        "def solution(numbers,target):\n",
        "  answer = 0\n",
        "  n = len(numbers)\n",
        "  stack = [[numbers[0],0],[-numbers[0],0]]\n",
        "  while stack:\n",
        "    cur_sum, idx = stack.pop()\n",
        "    idx += 1\n",
        "    if idx == n:\n",
        "      if cur_sum == target:\n",
        "        answer += 1\n",
        "    else:\n",
        "      stack.append([cur_sum + numbers[idx],idx])\n",
        "      stack.append([cur_sum - numbers[idx],idx])\n",
        "  return answer\n",
        "solution([1,1,1,1,1],3)\n"
      ],
      "execution_count": null,
      "outputs": []
    },
    {
      "cell_type": "markdown",
      "metadata": {
        "id": "ii3HDnIb9teQ"
      },
      "source": [
        "### 다른 사람 풀이(6)-bfs - queue\n",
        "- https://velog.io/@ju_h2/Python-%ED%94%84%EB%A1%9C%EA%B7%B8%EB%9E%98%EB%A8%B8%EC%8A%A4-level2-%ED%83%80%EA%B2%9F%EB%84%98%EB%B2%84-BFSDFS"
      ]
    },
    {
      "cell_type": "code",
      "metadata": {
        "id": "AuW0y4mt9zxD"
      },
      "source": [
        "from collections import deque\n",
        "def solution(numbers,target):\n",
        "  answer = 0\n",
        "  queue = deque() #queue 사용을 위한 deque 함수 활용\n",
        "  n = len(numbers)\n",
        "  queue.append([numbers[0],0])\n",
        "  queue.append([-numbers[0],0])\n",
        "\n",
        "  while queue:\n",
        "    cur_sum, idx = queue.popleft() #루트 노트와 가까운 노드 순서대로 탐색\n",
        "    idx += 1\n",
        "    if idx == n: # 마지막 노드까지 도달한 경우\n",
        "      if cur_sum == target: #노드까지 도달한 결과가 target 값과 일치한 경우\n",
        "        answer += 1\n",
        "    else:\n",
        "      cur_num = numbers[idx]\n",
        "      queue.append([cur_sum + cur_num, idx])\n",
        "      queue.append([cur_sum - cur_num, idx])\n",
        "  return answer\n",
        "solution([1,1,1,1,1],3)"
      ],
      "execution_count": null,
      "outputs": []
    },
    {
      "cell_type": "markdown",
      "metadata": {
        "id": "i_kA1vGC_xex"
      },
      "source": [
        "dfs - stack과 bfs -queue의 차이는 결국 루트 노드에 가까운 노드부터 탐색하는지, 아니면 다음 분기로 넘어가기 전 인접 노트의 탐색을 완료하는지에 대한 차이"
      ]
    },
    {
      "cell_type": "markdown",
      "metadata": {
        "id": "qrhAMkGyBamS"
      },
      "source": [
        "## 수식 최대화(재귀함수로 해결)"
      ]
    },
    {
      "cell_type": "code",
      "metadata": {
        "id": "mD4SqoHmcwWs"
      },
      "source": [
        "def calc(operator, seq, exp):\n",
        "    if exp.isdigit():\n",
        "        return str(exp)\n",
        "    else:\n",
        "        if operator[seq]==\"*\":\n",
        "            splitted = exp.split(\"*\")\n",
        "            tmp = []\n",
        "            for s in splitted:\n",
        "                tmp.append(calc(operator,seq+1,s))\n",
        "            return str(eval(\"*\".join(tmp)))\n",
        "        \n",
        "        elif operator[seq]==\"-\":\n",
        "            splitted = exp.split(\"-\")\n",
        "            tmp = []\n",
        "            for s in splitted:\n",
        "                tmp.append(calc(operator,seq+1,s))\n",
        "            return str(eval(\"-\".join(tmp)))\n",
        "        \n",
        "        elif operator[seq]==\"+\":\n",
        "            splitted = exp.split(\"+\")\n",
        "            tmp = []\n",
        "            for s in splitted:\n",
        "                tmp.append(calc(operator,seq+1,s))\n",
        "            return str(eval(\"+\".join(tmp)))\n",
        "        \n",
        "def solution(expression):\n",
        "    operators = [('*', '+', '-'),\n",
        "                  ('*', '-', '+'),\n",
        "                  ('+', '*', '-'),\n",
        "                  ('+', '-', '*'),\n",
        "                  ('-', '*', '+'),\n",
        "                  ('-', '+', '*')]   \n",
        "    \n",
        "    result = []\n",
        "    for operator in operators:\n",
        "        result.append(abs(int(calc(operator, 0, expression))))\n",
        "    return max(result)\n",
        "\n",
        "expr = \"100-200*300-500+20\"\n",
        "solution(expr)\n"
      ],
      "execution_count": null,
      "outputs": []
    },
    {
      "cell_type": "code",
      "metadata": {
        "id": "GN7ez5DAiWw6"
      },
      "source": [
        "re.split('(\\D)',expr)\n",
        "# expr.split(\"(\\D\")"
      ],
      "execution_count": null,
      "outputs": []
    },
    {
      "cell_type": "code",
      "metadata": {
        "id": "_pVuvtpOq14B"
      },
      "source": [
        "import re\n",
        "from itertools import permutations\n",
        "\n",
        "def solution(expression):\n",
        "  operations = list(permutations([\"*\",\"+\",\"-\"],3))\n",
        "  expr = re.split(\"(\\D)\", expression) # \\D : 숫자가 아닌 것들, 즉 숫자가 아닌것들 기준으로 분류\n",
        "    \n",
        "  res = []\n",
        "  for operation in operations:\n",
        "    tmp_expr = expr[:]\n",
        "    for op in operation:\n",
        "      while op in tmp_expr:\n",
        "        op_idx = tmp_expr.index(op)\n",
        "        tmp_expr[op_idx-1] = str(eval(tmp_expr[op_idx-1]+tmp_expr[op_idx]+tmp_expr[op_idx+1]))\n",
        "        tmp_expr = tmp_expr[:op_idx] + tmp_expr[op_idx+2:]\n",
        "    res.append(tmp_expr[-1])\n",
        "    \n",
        "    return max(map(lambda x : abs(int(x)), res))\n",
        "\n",
        "expr = \"100-200*300-500+20\"\n",
        "solution(expr)"
      ],
      "execution_count": null,
      "outputs": []
    },
    {
      "cell_type": "markdown",
      "metadata": {
        "id": "NX7ayFr24blG"
      },
      "source": [
        "### 다른 사람 풀이(1) - 연산자 우선순위에 따른 괄호"
      ]
    },
    {
      "cell_type": "code",
      "metadata": {
        "id": "kdAqJjo9zuvw"
      },
      "source": [
        "from itertools import permutations\n",
        "def solution(expression):\n",
        "    answer = []\n",
        "    operations = list(permutations([\"*\",\"+\",\"-\"],3))\n",
        "    for op in operations:\n",
        "        a = op[0]\n",
        "        b = op[1]\n",
        "        tmp_list = []\n",
        "        for ex in expression.split(a):\n",
        "            tmp = [f\"({i})\"for i in ex.split(b)]\n",
        "            tmp_list.append(f'({b.join(tmp)})')\n",
        "        answer.append(abs(eval(a.join(tmp_list))))\n",
        "    return max(answer)\n",
        "\n",
        "expr = \"100-200*300-500+20\"\n",
        "solution(expr)"
      ],
      "execution_count": null,
      "outputs": []
    },
    {
      "cell_type": "markdown",
      "metadata": {
        "id": "jN5PVDRpyYHc"
      },
      "source": [
        "### 다른 사람 풀이(2) - deque"
      ]
    },
    {
      "cell_type": "code",
      "metadata": {
        "id": "zMMKNm0Y7Hul"
      },
      "source": [
        "from itertools import permutations\n",
        "from collections import deque\n",
        "import re\n",
        "def solution(expression):\n",
        "    answer = 0\n",
        "    ops = set(re.findall(\"\\D\", expression))\n",
        "    exp = deque(re.split(\"(\\D)\",expression))\n",
        "\n",
        "    for priority in permutations(ops, len(ops)):\n",
        "        stack = exp.copy()\n",
        "        for op in priority:\n",
        "            i = 0\n",
        "            length = len(stack)\n",
        "            while i < length:\n",
        "                if stack[0] != op:\n",
        "                    i += 1\n",
        "                    stack.append(stack.popleft())\n",
        "                    continue\n",
        "                num1 = stack.pop()\n",
        "                op_ = stack.popleft()\n",
        "                num2 = stack.popleft()\n",
        "                stack.append(str(eval(num1 + op_ + num2)))\n",
        "                i += 2\n",
        "                if len(stack) == 1:\n",
        "                    answer = max(abs(int(stack[-1])), answer)\n",
        "                    break\n",
        "\n",
        "    return answer\n",
        "expr = \"100-200*300-500+20\"\n",
        "solution(expr)"
      ],
      "execution_count": null,
      "outputs": []
    },
    {
      "cell_type": "markdown",
      "metadata": {
        "id": "8ONUDDvXJrHo"
      },
      "source": [
        "## 1차 뉴스 클러스터링"
      ]
    },
    {
      "cell_type": "code",
      "metadata": {
        "id": "pwZFp-cLJviU"
      },
      "source": [
        "from collections import Counter\n",
        "import re\n",
        "\n",
        "def solution(str1, str2):\n",
        "\n",
        "    s1 = [s for s in [(str1[i] + str1[i+1]).lower() for i in range(len(str1)-1)] if s.isalpha()]\n",
        "    s2 = [s for s in [(str2[i] + str2[i+1]).lower() for i in range(len(str2)-1)] if s.isalpha()]\n",
        "    \n",
        "    if len(s1) + len(s2) == 0:\n",
        "        return 65536\n",
        "\n",
        "    inter = list((Counter(s1) & Counter(s2)).elements())\n",
        "    union = list((Counter(s1) | Counter(s2)).elements())\n",
        "\n",
        "    return int(len(inter) / len(union) *65536)\n",
        "\n",
        "s1_list = ['FRANCE','handshake','aa1+aa2','E=M*C^2'\t]\n",
        "s2_list = ['french','shake hands','AAAA12','e=m*c^2']\n",
        "\n",
        "for a,b in zip(s1_list,s2_list):\n",
        "  print(f\"[{a} || {b}]\",solution(a,b))"
      ],
      "execution_count": null,
      "outputs": []
    },
    {
      "cell_type": "markdown",
      "metadata": {
        "id": "czi4eign4ZTP"
      },
      "source": [
        "## 게임 맵 최단 거리"
      ]
    },
    {
      "cell_type": "code",
      "metadata": {
        "id": "ja_1ZLIT50rz"
      },
      "source": [
        "from collections import deque\n",
        "\n",
        "def find_path(maps, p):\n",
        "    n = len(maps)\n",
        "    m = len(maps[0])\n",
        "\n",
        "    paths = []\n",
        "    for q in [[1,0],[0,1],[-1,0],[0,-1]]: #down, right, top, left\n",
        "        if 0 <= p[0] + q[0] < n and 0 <= p[1] + q[1] < m:\n",
        "            if maps[p[0]+q[0]][p[1] + q[1]] == 1:\n",
        "                paths.append((p[0]+q[0], p[1] + q[1]))\n",
        "\n",
        "    return paths\n",
        "\n",
        "def solution(maps):\n",
        "    n = len(maps)\n",
        "    m = len(maps[0])\n",
        "    start = (0,0) #start point\n",
        "    end = (n-1,m-1) #end point\n",
        "    maps[0][0] == 0 # start point는 한 번 지나갔으므로 삭제\n",
        "    location = [[start,1]] #[path, count]\n",
        "    q = deque(location)\n",
        "\n",
        "    while q:\n",
        "        current,cnt = q.popleft()\n",
        "        if current == end:\n",
        "            return cnt\n",
        "        \n",
        "        paths = find_path(maps, current)\n",
        "        for path in paths:\n",
        "            q.append([path, cnt+1])\n",
        "            maps[path[0]][path[1]] = 0\n",
        "    \n",
        "    return -1\n",
        "maps_list = [[[1,0,1,1,1],[1,0,1,0,1],[1,0,1,1,1],[1,1,1,0,1],[0,0,0,0,1]], [[1,0,1,1,1],[1,0,1,0,1],[1,0,1,1,1],[1,1,1,0,0],[0,0,0,0,1]]]\n",
        "\n",
        "for maps in maps_list:\n",
        "  print(solution(maps_list[0]))"
      ],
      "execution_count": null,
      "outputs": []
    },
    {
      "cell_type": "markdown",
      "metadata": {
        "id": "CsOEljVPbvm8"
      },
      "source": [
        "## 괄호 변환"
      ]
    },
    {
      "cell_type": "code",
      "metadata": {
        "id": "lcYhIprfZbVq"
      },
      "source": [
        "from collections import Counter\n",
        "from collections import deque\n",
        "\n",
        "def solution(p):\n",
        "    if p == '':\n",
        "        return p\n",
        "    \n",
        "    answer = ''\n",
        "    #\n",
        "    for i in range(2,len(p),2):\n",
        "        l,r = Counter(p).values()\n",
        "        if l==r:\n",
        "            u, v = (p[:i], p[i:])\n",
        "            break\n",
        "    \n",
        "    u_ = match(u[:])\n",
        "    match = [u_[0]]\n",
        "    u_.popleft()\n",
        "    for _ in range(len(u_)):\n",
        "      match.append(u_[0])\n",
        "      while len(match)>=2:\n",
        "        if match[-2 : ]== \"()\":\n",
        "\n",
        "    \n",
        "    \n",
        "    return answer"
      ],
      "execution_count": null,
      "outputs": []
    },
    {
      "cell_type": "code",
      "metadata": {
        "id": "VvVffOPjcRHv"
      },
      "source": [
        "from collections import deque\n",
        "ss = \"()))((()\"\n",
        "ss = list(ss)\n",
        "bb = deque(ss)\n",
        "c = []\n",
        "c.append(bb.popleft())\n",
        "bb,c"
      ],
      "execution_count": null,
      "outputs": []
    },
    {
      "cell_type": "code",
      "metadata": {
        "id": "Q5y5cUx7ewgf"
      },
      "source": [
        "c.append(bb.popleft())\n",
        "bb,c"
      ],
      "execution_count": null,
      "outputs": []
    },
    {
      "cell_type": "code",
      "metadata": {
        "id": "qmfQ0UOu9Bk2"
      },
      "source": [
        "c[-2] + c[-1]"
      ],
      "execution_count": null,
      "outputs": []
    },
    {
      "cell_type": "code",
      "metadata": {
        "id": "SUGXO8ADgV7m"
      },
      "source": [
        "from collections import Counter\n",
        "from collections import deque\n",
        "\n",
        "def solution(p):\n",
        "    if p == '':\n",
        "        return \"\"\n",
        "    \n",
        "    #w의 부분 균형잡힌 문자열 u와 나머지 v 분리\n",
        "    u,v = (\"\", p)\n",
        "    for i in range(0,len(p)+1,2):\n",
        "        try:\n",
        "\n",
        "          l,r = Counter(p[:i]).values()\n",
        "          \n",
        "          if l==r:\n",
        "              u, v = (p[:i], p[i:])\n",
        "              break\n",
        "        except:\n",
        "          pass\n",
        "    #u가 올바른 문자열인지 확인\n",
        "    u_ = deque(list(u))\n",
        "    stack = []\n",
        "    while u_:\n",
        "        stack.append(u_.popleft())\n",
        "        if len(stack) >= 2:\n",
        "            if stack[-2] + stack[-1] == \"()\":\n",
        "                stack.pop()\n",
        "                stack.pop()\n",
        "    # print(\"u: \", u,\"v: \",v, \"not stack: \",not stack)\n",
        "    #u가 균형잡힌 올바른 문자열일 경우\n",
        "    if not stack:\n",
        "        return u +solution(v)\n",
        "    else: #u가 균형잡혔지만 올바른 문자열이 아닌 경우\n",
        "        return \"(\" + solution(v) + \")\" + \"\".join(reversed(u[1:-1]))\n",
        "\n",
        "solution(\"()))((()\")\n",
        "# solution(\"))((()\")\n",
        "# solution(\"()\")"
      ],
      "execution_count": null,
      "outputs": []
    },
    {
      "cell_type": "code",
      "metadata": {
        "id": "UaMHkRIIhE9t"
      },
      "source": [
        "from collections import Counter\n",
        "from collections import deque\n",
        "\n",
        "def solution(p):\n",
        "    if p == '':\n",
        "        return \"\"\n",
        "    \n",
        "    #w의 부분 균형잡힌 문자열 u와 나머지 v 분리\n",
        "    u,v = (\"\", p)\n",
        "    for i in range(0,len(p)+1,2):\n",
        "        try:\n",
        "            l,r = Counter(p[:i]).values()         \n",
        "            if l==r:\n",
        "                u, v = (p[:i], p[i:])\n",
        "                break\n",
        "        except:\n",
        "              pass\n",
        "            \n",
        "    #u가 올바른 문자열인지 확인\n",
        "    u_ = deque(list(u))\n",
        "    stack = []\n",
        "    while u_:\n",
        "        stack.append(u_.popleft())\n",
        "        if len(stack) >= 2:\n",
        "            if stack[-2] + stack[-1] == \"()\":\n",
        "                stack.pop()\n",
        "                stack.pop()\n",
        "    # print(\"u: \", u,\"v: \",v, \"not stack: \",not stack)\n",
        "    #u가 균형잡힌 올바른 문자열일 경우\n",
        "    if not stack:\n",
        "        return u +solution(v)\n",
        "    else: #u가 균형잡혔지만 올바른 문자열이 아닌 경우\n",
        "        u = list(u)\n",
        "        u = \"\".join([\"(\" if u[i]==\")\" else \")\"for i in range(1,len(u)-1)])\n",
        "        return \"(\" + solution(v) + \")\" + u\n",
        "\n",
        "solution(\"()))((()\")"
      ],
      "execution_count": null,
      "outputs": []
    },
    {
      "cell_type": "markdown",
      "metadata": {
        "id": "JrAShL8irLzF"
      },
      "source": [
        "### 다른 사람 풀이(1)"
      ]
    },
    {
      "cell_type": "code",
      "metadata": {
        "id": "SzF0RRW3rwuj"
      },
      "source": [
        "def solution(p):\n",
        "  if p == '' : return ''\n",
        "\n",
        "  cnt = 0\n",
        "  right = True\n",
        "  for i in range(len(p)):\n",
        "    if p[i] == \"(\":\n",
        "      cnt += 1\n",
        "    else :\n",
        "      cnt -= 1\n",
        "    if cnt < 0:\n",
        "      right = False\n",
        "    if cnt == 0:\n",
        "      if right:\n",
        "        return p[:i+1] + solution(p[i+1:])\n",
        "      else:\n",
        "        return \"(\" + solution(p[i+1:]) + \")\" + \"\".join([\"(\" if x == \")\" else \")\" for x in p[1:i]])\n",
        "      \n",
        "solution(\"()))((()\")"
      ],
      "execution_count": null,
      "outputs": []
    },
    {
      "cell_type": "code",
      "metadata": {
        "id": "U4CD9IFJxVgU"
      },
      "source": [
        "def solution(p):\n",
        "    if p=='': return p\n",
        "    r=True; c=0\n",
        "    for i in range(len(p)):\n",
        "        if p[i]=='(': c-=1\n",
        "        else: c+=1\n",
        "        if c>0: r=False\n",
        "        if c==0:\n",
        "            \n",
        "            if r:\n",
        "                return p[:i+1]+solution(p[i+1:])\n",
        "            else:\n",
        "                return '('+solution(p[i+1:])+')'+''.join(list(map(lambda x:'(' if x==')' else ')',p[1:i]) ))\n",
        "\n",
        "solution(\"()))((()\")"
      ],
      "execution_count": null,
      "outputs": []
    },
    {
      "cell_type": "markdown",
      "metadata": {
        "id": "GcVZlL6R4DuC"
      },
      "source": [
        "## 소수 찾기(완전탐색)"
      ]
    },
    {
      "cell_type": "code",
      "metadata": {
        "id": "4LXvcH_U4F3X"
      },
      "source": [
        "from itertools import permutations\n",
        "\n",
        "def solution(numbers):\n",
        "    num_lists = [list(permutations(numbers,i)) for i in range(1,len(numbers)+1)]\n",
        "    lists = set([int(\"\".join(b)) for a in num_lists for b in a if int(\"\".join(b)) > 1])\n",
        "    \n",
        "    answer = len(lists)\n",
        "    for num in lists:\n",
        "        for i in range(2,int(num**0.5)+1):\n",
        "            if num % i == 0:\n",
        "                answer -=1\n",
        "                break\n",
        "\n",
        "    return answer\n",
        "numbers = [\"17\",\"011\"]\n",
        "for num in numbers:\n",
        "  print(solution(num))"
      ],
      "execution_count": null,
      "outputs": []
    },
    {
      "cell_type": "code",
      "metadata": {
        "id": "j1taijgnJ22_"
      },
      "source": [
        "def is_prime(x):\n",
        "    if x in[0,1]:\n",
        "        return False\n",
        "    \n",
        "    for i in range(2, int(x**0.5)+1):\n",
        "        if x % i == 0:\n",
        "            return False\n",
        "    else:\n",
        "        return True\n",
        "\n",
        "def make_combinations(str1, str2):\n",
        "    if str2 == '':\n",
        "        return ''\n",
        "    \n",
        "    PrimeSet = set()\n",
        "    for i in range(len(str2)):\n",
        "        if is_prime(int(str1 + str2[i])):\n",
        "            PrimeSet.add(int(str1 + str2[i]))\n",
        "        \n",
        "        # PrimeSet.update(make_combinations(str1 + str2[i], str2[:i] + str2[i+1:]))\n",
        "        PrimeSet |= make_combinations(str1 + str2[i], str2[:i] + str2[i+1:])\n",
        "    return PrimeSet\n",
        "\n",
        "def solution(numbers):    \n",
        "    return len(make_combinations('',numbers))\n",
        "\n",
        "numbers = [\"17\",\"011\"]\n",
        "for num in numbers:\n",
        "  print(solution(num))"
      ],
      "execution_count": null,
      "outputs": []
    },
    {
      "cell_type": "markdown",
      "metadata": {
        "id": "rcRzP_tlN_7G"
      },
      "source": [
        "- 새로 작성한 코드로, solution, make_combinations, is_prime 세 개의 함수로 구성\n",
        "- 입력한 값은 make_combinations의 str2 입력변수로 사용되고, str1에는 빈 스트링을 입력\n",
        "- str2 개수만큼 for문을 돌리는데, str2의 한 값들을 str1과 합쳐서 소수인지를 확인\n",
        "- 확인 후, 확인이 끝난 str2를 str1과 합치고, 나머지 str2를 가지고 다시 make_combinations를 돌림(recursive)\n",
        "- 모든 str2가 str1에 넘어갔을 경우 PrimeSet 반환\n",
        "- 반환된 값의 길이를 계산하여 최종 return 으로 반환\n",
        "\n",
        "---\n",
        "- tip) https://stackoverflow.com/questions/3929278/what-does-ior-do-in-python\n",
        "- |= : set의 update, | : merge\n"
      ]
    },
    {
      "cell_type": "markdown",
      "metadata": {
        "id": "A4GK4hw6B3fj"
      },
      "source": [
        "### 다른 사람 풀이(1)\n",
        "- 문제에 적합한 combinations 함수를 직접 구현"
      ]
    },
    {
      "cell_type": "code",
      "metadata": {
        "id": "rtjYDa54E-WE"
      },
      "source": [
        "# primeSet = set()\n",
        "def isPrime(number):\n",
        "    if number in (0, 1):\n",
        "        return False\n",
        "    for i in range(2, number):\n",
        "        if number % i == 0:\n",
        "            return False\n",
        "\n",
        "    return True\n",
        "\n",
        "\n",
        "def makeCombinations(str1, str2):\n",
        "    if str1 != \"\":\n",
        "        if isPrime(int(str1)):\n",
        "            primeSet.add(int(str1))\n",
        "\n",
        "    for i in range(len(str2)):\n",
        "        makeCombinations(str1 + str2[i], str2[:i] + str2[i + 1:])\n",
        "\n",
        "def solution(numbers):\n",
        "    makeCombinations(\"\", numbers)\n",
        "    answer = len(primeSet)\n",
        "\n",
        "    return answer, primeSet\n",
        "numbers = [\"17\",\"011\"]\n",
        "for num in numbers:\n",
        "  primeSet = set()\n",
        "  print(solution(num))"
      ],
      "execution_count": null,
      "outputs": []
    },
    {
      "cell_type": "markdown",
      "metadata": {
        "id": "qTw_5qIhLsAA"
      },
      "source": [
        "### 다른 사람 풀이(2)\n",
        "---\n",
        "- 주어진 numbers를 1개부터 최대 개수까지 모든 값을 set에 포함시킨 후\n",
        "- 소수가 아닌 값을 제거\n",
        "  - 1. 0~2 제거\n",
        "  - 2. set()에서 최대 값을 기준으로 루트값의 +1까지의 i값으로 모든 for문을 돌려서 range(i*2, max(a)+1, i)에 포함되는 모든 값을 제거\n",
        "    - ex) i=2이고, max(a) = 100일 때, 4부터 100까지 2 간격으로 모두 제거"
      ]
    },
    {
      "cell_type": "code",
      "metadata": {
        "id": "KqEkLxEkKnKM"
      },
      "source": [
        "from itertools import permutations\n",
        "def solution(n):\n",
        "    a = set()\n",
        "    for i in range(len(n)):\n",
        "        a |= set(map(int, map(\"\".join, permutations(list(n), i + 1))))\n",
        "    # print(a)\n",
        "    a -= set(range(0, 2))\n",
        "    for i in range(2, int(max(a) ** 0.5) + 1):\n",
        "        a -= set(range(i * 2, max(a) + 1, i))\n",
        "        # print(i, a, list(range(i*2,max(a)+1,i)))\n",
        "    print(a)\n",
        "    return len(a)\n",
        "\n",
        "# numbers = [\"17\",\"011\"]\n",
        "numbers = [\"015\"]\n",
        "for num in numbers:\n",
        "  primeSet = set()\n",
        "  print(solution(num))"
      ],
      "execution_count": null,
      "outputs": []
    },
    {
      "cell_type": "markdown",
      "metadata": {
        "id": "t-uUjwAp5m6u"
      },
      "source": [
        "## 프린터-스택/큐"
      ]
    },
    {
      "cell_type": "code",
      "metadata": {
        "id": "P0WYh8ag5pSq"
      },
      "source": [
        "from collections import deque, Counter\n",
        "def solution(priorities, location):\n",
        "    priority = deque([(p,loc) for loc , p in enumerate(priorities)])\n",
        "\n",
        "    priority_cnt = sorted(Counter(priorities).items(), key = lambda x : x[0])\n",
        "    # print(priority)\n",
        "    print(priority_cnt)\n",
        "    cnt = 0\n",
        "    while priority_cnt:\n",
        "        max_p, num = priority_cnt.pop()\n",
        "        while num == 0:\n",
        "            p,loc = priority.popleft()\n",
        "            if p == max_p:\n",
        "                num -= 1\n",
        "                cnt += 1\n",
        "                if location == loc:\n",
        "                    return cnt\n",
        "            else:\n",
        "                priority.append((p,loc))\n",
        "            print(max_p,num, priority)\n",
        "\n",
        "    return \"Test\"\n",
        "\n",
        "priorities = [2, 1, 3, 2]\n",
        "location = 2\n",
        "solution(priorities, location)"
      ],
      "execution_count": null,
      "outputs": []
    },
    {
      "cell_type": "code",
      "metadata": {
        "id": "lWggTDr651eQ"
      },
      "source": [
        "from collections import deque\n",
        "\n",
        "priorities = [2, 1, 3, 2]\n",
        "location = 2\n",
        "\n",
        "q = deque(priorities)\n",
        "\n",
        "cnt = 0\n",
        "while q:\n",
        "  print(q)\n",
        "  tmp = q.popleft()\n",
        "  if not q:\n",
        "    break\n",
        "  cnt += 1\n",
        "  if tmp < max(q):\n",
        "    q.append(tmp)\n",
        "    location = (location - 1) % len(priorities)\n",
        "\n",
        "  if location == 0 & q[0] == max(q):\n",
        "    break\n",
        "print(cnt)\n",
        "  \n",
        "# priorities"
      ],
      "execution_count": null,
      "outputs": []
    },
    {
      "cell_type": "code",
      "metadata": {
        "id": "Q-tS-7lu_Rm6"
      },
      "source": [
        "from collections import deque\n",
        "def solution(priorities, location):\n",
        "    answer = 0\n",
        "    q = deque(priorities)\n",
        "    while q:\n",
        "        max_q = max(q)\n",
        "        tmp = q.popleft()\n",
        "        if tmp == max_q: # 출력 대상의 중요도가 가장 높은 경우\n",
        "            answer += 1\n",
        "            if location == 0:\n",
        "                return answer\n",
        "            location = (location - 1) % len(q)\n",
        "        else:\n",
        "            q.append(tmp)\n",
        "            location = (location - 1) % len(q)\n",
        "        \n",
        "    \n",
        "priorities = [[2, 1, 3, 2] , [1, 1, 9, 1, 1, 1]]\n",
        "location = [2,0]\n",
        "\n",
        "for p,l in zip(priorities, location):\n",
        "    print(solution(p, l))"
      ],
      "execution_count": null,
      "outputs": []
    },
    {
      "cell_type": "markdown",
      "metadata": {
        "id": "veAS2S2yHmC8"
      },
      "source": [
        "---\n",
        "### 다른 사람 풀이(1)\n",
        "- 내가 작성한 코드와 달리 입력한 우선순위를 enumerate를 통해 index를 지정해주고, location과 index 위치를 비교하여 결과를 출력\n",
        "- 또한 max값을 미리 구하지 않고, any()함수를 이용하여 pop한 값이 현재 deque의 어느 하나의 값보다도 작으면 작업물이 다시 대기목록에 반영되게 함"
      ]
    },
    {
      "cell_type": "code",
      "metadata": {
        "id": "n33jJUDnHlej"
      },
      "source": [
        "from collections import deque\n",
        "def solution(priorities, location):\n",
        "    answer = 0\n",
        "    q = deque([(i,v)for i,v in enumerate(priorities)])\n",
        "    \n",
        "    while q:\n",
        "        loc, task = q.popleft()\n",
        "        if any(task < v for i,v in q):\n",
        "            q.append((loc,task))\n",
        "            \n",
        "        else:\n",
        "            answer += 1\n",
        "            if loc == location:\n",
        "                return answer\n",
        "        \n"
      ],
      "execution_count": null,
      "outputs": []
    },
    {
      "cell_type": "markdown",
      "metadata": {
        "id": "DYUoOPi_KcoW"
      },
      "source": [
        "## 가장 큰 수 - 정렬"
      ]
    },
    {
      "cell_type": "code",
      "metadata": {
        "id": "zIYdo91HK-5A"
      },
      "source": [
        "from itertools import permutations\n",
        "def solution(numbers):\n",
        "    t = list(set(permutations(numbers, len(numbers))))\n",
        "    return str(max([int(\"\".join([str(v)for v in s])) for s in t]))\n",
        "    \n",
        "    # return str(tmp)\n",
        "solution([3, 30, 34, 5, 9])"
      ],
      "execution_count": null,
      "outputs": []
    },
    {
      "cell_type": "markdown",
      "metadata": {
        "id": "oItt9M7TMgWW"
      },
      "source": [
        "- 결과는 나오지만 런타임 에러..\n",
        "- permutation의 시간복잡도는 n!(매우 큼)\n",
        "---\n",
        "- 하기 방식은 문자열로 변환한 숫자의 아스키코드 값을 비교\n",
        "- string에서 대소비교는 숫자와 달리 아스키코드 값을 비교하고\n",
        "- string type의 숫자는 앞자리수부터 비교한다\n",
        "- ex) 3, 30의 경우 해당 문제에선 303 보단 330이 더 크다\n",
        "- 이때 첫 자리수는 같으므로 두 번째 자리수를 비교하는데 3의 경우 두 번째 자리수가 없으므로 30이 더 크다고 나온다\n",
        "- 이를 방지하기 위해, 해당 문제에서 가장긴 숫자의 자리수만큼 수를 만들어주고 값을 비교\n",
        "- 마지막으로, 입력값이 모두 0인 경우 0으로 반환"
      ]
    },
    {
      "cell_type": "code",
      "metadata": {
        "id": "0y_yxHTPT42A"
      },
      "source": [
        "def solution(numbers):\n",
        "    numbers = list(map(str, numbers))\n",
        "    numbers.sort(key = lambda x : x*4, reverse = True)\n",
        "    return \"\".join(numbers) if not int(\"\".join(numbers)) == 0 else \"0\"\n",
        "\n",
        "numbers = [3, 30, 34, 5, 9]\n",
        "solution(numbers)"
      ],
      "execution_count": null,
      "outputs": []
    },
    {
      "cell_type": "code",
      "metadata": {
        "id": "SLoHnJnEeEtA"
      },
      "source": [
        "from itertools import combinations\n",
        "from collections import Counter\n",
        "# [\"\".join(c) for c in list(combinations(list('ABCDE'),4))]\n",
        "def\n",
        "orders = [\"ABCFG\", \"AC\", \"CDE\", \"ACDE\", \"BCFG\", \"ACDEH\"]\n",
        "course = [2,3,4]\n",
        "\n",
        "for i in course:\n",
        "  tmp = []\n",
        "  for order in orders:\n",
        "    tmp.extend([\"\".join(c) for c in list(combinations(list(order),i))])\n",
        "  print(max(Counter(tmp),key = Counter(tmp).values()))"
      ],
      "execution_count": null,
      "outputs": []
    },
    {
      "cell_type": "code",
      "metadata": {
        "id": "wG5WAdQjjYlO"
      },
      "source": [
        "from itertools import combinations\n",
        "from collections import Counter\n",
        "def solution(orders, course):\n",
        "    answer = []\n",
        "    \n",
        "    for c in course:\n",
        "        tmp = []\n",
        "        for order in orders:\n",
        "            tmp +=[\"\".join(cour) for cour in list(combinations(sorted(order),c))]\n",
        "        cnt_course = Counter(tmp)\n",
        "        try:\n",
        "            max_course = max(cnt_course.values())\n",
        "            if max_course > 1:\n",
        "                answer += [course for course, cnt in cnt_course.items() if cnt == max_course]\n",
        "        except:\n",
        "            break\n",
        "\n",
        "    return sorted(answer)\n",
        "\n",
        "orders = [[\"ABCFG\", \"AC\", \"CDE\", \"ACDE\", \"BCFG\", \"ACDEH\"], [\"ABCDE\", \"AB\", \"CD\", \"ADE\", \"XYZ\", \"XYZ\", \"ACD\"],[\"XYZ\", \"XWY\", \"WXA\"]]\n",
        "course = [[2,3,4], [2,3,5], [2,3,4]]\n",
        "for o,c in zip(orders,course):\n",
        "    print(solution(o,c))"
      ],
      "execution_count": null,
      "outputs": []
    },
    {
      "cell_type": "markdown",
      "metadata": {
        "id": "E89T7jtupYLD"
      },
      "source": [
        "---\n",
        "### 다른 사람 풀이\n",
        "- 풀이는 전반적으로 비슷하지만 most_common()을 사용\n",
        "- most_common 시 dict(a:1, b:2)이 list[(a,1),(b,2)]로 변하고, 여기서 가장 첫번째 값이 최대 값이므로 이 값을 사용하여 결과에 값 저장"
      ]
    },
    {
      "cell_type": "code",
      "metadata": {
        "id": "g0SXAA9IldnQ"
      },
      "source": [
        "import collections\n",
        "import itertools\n",
        "\n",
        "def solution(orders, course):\n",
        "    result = []\n",
        "\n",
        "    for course_size in course:\n",
        "        order_combinations = []\n",
        "        for order in orders:\n",
        "            order_combinations += itertools.combinations(sorted(order), course_size)\n",
        "\n",
        "        most_ordered = collections.Counter(order_combinations).most_common()\n",
        "        result += [ k for k, v in most_ordered if v > 1 and v == most_ordered[0][1] ]\n",
        "\n",
        "    return [ ''.join(v) for v in sorted(result) ]\n",
        "\n",
        "orders = [[\"ABCFG\", \"AC\", \"CDE\", \"ACDE\", \"BCFG\", \"ACDEH\"], [\"ABCDE\", \"AB\", \"CD\", \"ADE\", \"XYZ\", \"XYZ\", \"ACD\"],[\"XYZ\", \"XWY\", \"WXA\"]]\n",
        "course = [[2,3,4], [2,3,5], [2,3,4]]\n",
        "for o,c in zip(orders,course):\n",
        "    print(solution(o,c))"
      ],
      "execution_count": null,
      "outputs": []
    },
    {
      "cell_type": "markdown",
      "metadata": {
        "id": "DqZB5Ns9HPgc"
      },
      "source": [
        "## 조이스틱 - 탐욕법(greedy)"
      ]
    },
    {
      "cell_type": "code",
      "metadata": {
        "id": "tSymKdPsuDl9"
      },
      "source": [
        "from collections import deque\n",
        "def solution(name):\n",
        "    #조이스틱 좌우 이동 횟수(글자 위치로 커서 이동)\n",
        "    needs = deque([i for i,n in enumerate(name) if n != \"A\" and i > 0])\n",
        "\n",
        "    move_lr = 0 #누적 이동 횟수\n",
        "    cur = 0 #커서 위치\n",
        "\n",
        "    for _ in range(len(needs)):\n",
        "        tar = [needs[0], needs[-1]] #이동 후보\n",
        "        move_min = lambda x : abs(min(x - cur, cur - (x - len(name))))\n",
        "\n",
        "        move_tmp = list(map(move_min, tar))\n",
        "        if move_tmp[0] <= move_tmp[1]:\n",
        "            cur = tar[0]\n",
        "            move_lr += move_tmp[0]\n",
        "            needs.popleft()\n",
        "        else:\n",
        "            cur = tar[1]\n",
        "            move_lr += move_tmp[1]\n",
        "            needs.pop()\n",
        "\n",
        "    #조이스틱 상하 이동 횟수(알파벳 맞추기)\n",
        "    move_tb = sum(list(map(lambda x: min(ord(x)-ord(\"A\"), ord(\"Z\") - ord(x) + 1), name)))\n",
        "\n",
        "    return  move_lr + move_tb\n",
        "\n",
        "names = [\"JEROEN\", \"JAN\"] # 56,23\n",
        "\n",
        "for name in names:\n",
        "    print(name, \" : \", solution(name))"
      ],
      "execution_count": null,
      "outputs": []
    },
    {
      "cell_type": "markdown",
      "metadata": {
        "id": "3OpNBNQmJGBt"
      },
      "source": [
        "## 예상 대진표"
      ]
    },
    {
      "cell_type": "code",
      "metadata": {
        "id": "JqpVh6MBJHtv"
      },
      "source": [
        "def get_match(a,b,i):\n",
        "    return i if (a-1)//2**i == (b-1)//2**i else get_match(a,b,i+1)\n",
        "  \n",
        "def solution(n,a,b):\n",
        "    return get_match(a,b,0)\n",
        "solution(8,4,7)"
      ],
      "execution_count": null,
      "outputs": []
    },
    {
      "cell_type": "markdown",
      "metadata": {
        "id": "iRfjU0_ALRJ8"
      },
      "source": [
        "- 테스트 케이스에서 a = 4, b = 7는 첫 단계에서 2명씩 나누기에 각각 2번째, 4번째 조에 속해 있다.\n",
        "- 그래서 두 사람 경기는 3번째에 속해있다\n",
        "- 즉, 8명이 한 경기를 하는 경우 a와 b가 한 조에 속해다는 것으로도 생각할 수 있으므로, 2의 배승으로 몫을 구하면서 같은 몫을 가질 경우 같은 조에 속해 있다는 것으로 판단하여 알고리즘 구현\n",
        "---\n",
        "### 다른 사람 풀이(1)\n",
        "- 경기는 두사람씩하여 경기가 다음 과정으로 진행될 때마다 해당 경기가 이뤄지기 전까지 2의 n승 명이 경기룰 치룬 것을 알 수 있다.\n",
        "- 즉 n번째 경기의 경우 그 전까지 2의 n승의 도전자가 경기를 치룬 것이다\n",
        "- 해당 코드 작성자는 이 부분을 비트로 계산하였고, 두 값을 XOR 연산을 통해 두 값 사이의 비트를 판단하는데, 값이 클수록 상위 비트가 차이날 것을 이용하여 거리 계산했다.\n",
        "- 연산 결과를 bit_length로 실제 몇 비트가 떨어져있는지 계산했다"
      ]
    },
    {
      "cell_type": "code",
      "metadata": {
        "id": "isnSOvvCLVjd"
      },
      "source": [
        "def solution(n,a,b):\n",
        "    return ((a-1)^(b-1)).bit_length()\n",
        "solution(8,4,7)"
      ],
      "execution_count": null,
      "outputs": []
    },
    {
      "cell_type": "markdown",
      "metadata": {
        "id": "js2vYKM0LYzy"
      },
      "source": [
        "## 튜플"
      ]
    },
    {
      "cell_type": "code",
      "metadata": {
        "id": "rE70g-1_PcZ0"
      },
      "source": [
        "import re\n",
        "\n",
        "def solution(s):\n",
        "    tmp = (re.sub(\"[^0-9 ]+\", \" \",s)).split(\" \")\n",
        "    \n",
        "    dic = {}\n",
        "    for s in tmp:\n",
        "          if s != '':\n",
        "            if int(s) in dic.keys():\n",
        "                dic[int(s)] += 1\n",
        "            else:\n",
        "                dic[int(s)] = 1\n",
        "    return [v for v, c in sorted(dic.items(), key = lambda x : x[1], reverse = True)]\n",
        "\n",
        "q = [\"{{2},{2,1},{2,1,3},{2,1,3,4}}\",\"{{1,2,3},{2,1},{1,2,4,3},{2}}\",\"{{20,111},{111}}\",\n",
        "\"{{123}}\",\"{{4,2,3},{3},{2,3,4,1},{2,3}}\",]\n",
        "for s in q:\n",
        "  print(\"입력: \", s, \"|| 출력: \", solution(s))"
      ],
      "execution_count": null,
      "outputs": []
    },
    {
      "cell_type": "markdown",
      "metadata": {
        "id": "KmIaCGUgUUM4"
      },
      "source": [
        "## 다른 사람 풀이(1)\n",
        "---\n",
        "- 풀이 접근은 비슷했지만, 파이썬 패키지를 이용하여 보다 효율적이고 가독성 있게 코딩\n"
      ]
    },
    {
      "cell_type": "code",
      "metadata": {
        "id": "5xlg1oG5T7aJ"
      },
      "source": [
        "import re\n",
        "from collections import Counter\n",
        "\n",
        "def solution(s):\n",
        "    s = Counter(re.findall(\"\\d+\",s))    \n",
        "    return [int(v) for v,i in sorted(s.items(), key = lambda x : x[1], reverse = True)]\n",
        "\n",
        "q = [\"{{2},{2,1},{2,1,3},{2,1,3,4}}\",\"{{1,2,3},{2,1},{1,2,4,3},{2}}\",\"{{20,111},{111}}\",\n",
        "\"{{123}}\",\"{{4,2,3},{3},{2,3,4,1},{2,3}}\",]\n",
        "for s in q:\n",
        "  print(\"입력: \", s, \"|| 출력: \", solution(s))"
      ],
      "execution_count": null,
      "outputs": []
    },
    {
      "cell_type": "markdown",
      "metadata": {
        "id": "yHsgdDI0YvOK"
      },
      "source": [
        "## H-index"
      ]
    },
    {
      "cell_type": "code",
      "metadata": {
        "id": "cV71TdBAYwgc"
      },
      "source": [
        "def solution(citations):\n",
        "    h = 0\n",
        "    for _ in range(len(citations)):\n",
        "        h_idx = [c for c in citations if c >= h]\n",
        "        if len(h_idx) > h and h < max(h_idx):\n",
        "            h += 1\n",
        "        \n",
        "        if len(h_idx) < h:\n",
        "            h -= 1\n",
        "            break\n",
        "    return h\n",
        "\n",
        "\n",
        "citations_li = [[3, 0, 6, 1, 5],[6,5,4,1,0],[4, 4, 4, 5, 0, 1, 2, 3],[0,1,1],[0,1,2], [1,1,3,5,6]]\n",
        "# citations_li = [[0,1,2]]\n",
        "for c in citations_li:\n",
        "  print(solution(c))"
      ],
      "execution_count": null,
      "outputs": []
    },
    {
      "cell_type": "markdown",
      "metadata": {
        "id": "dsOw2QjA7Zd6"
      },
      "source": [
        "### 다른 사람 풀이(1)\n",
        "- h값이 큰 것부터 판단\n",
        "- h 기준 : h이상 인용된 논문이 h개 이상인 경우 OK\n",
        "- 따라서 최대 h값은 과학자가 낸 논문이ㅡ 개수가 된다\n",
        "\n",
        "- for문을 돌리고 l-i 하면 값이 max, max-1, ..., 1로 되는데 이 값들이 h이고\n",
        "- citations을 봤을 때 작은 것부터 순서대로 정렬되어 있는데,\n",
        "- h가 max인 경우 모든 논문이 h번 인용되어야 하는데, 가장 인용이 적게된 논문의 개수가 h 이상이면 h(=l-i)를 반환 아니면 for문을 돌린다"
      ]
    },
    {
      "cell_type": "code",
      "metadata": {
        "id": "SslJPB8N60pq"
      },
      "source": [
        "def solution(citations):\n",
        "  citations.sort()\n",
        "  l = len(citations)\n",
        "  for i in range(l):\n",
        "    if (l-i) <= citations[i]:\n",
        "      return l-i\n",
        "  return 0\n",
        "\n",
        "solution([1,1,3,5,6])"
      ],
      "execution_count": null,
      "outputs": []
    },
    {
      "cell_type": "markdown",
      "metadata": {
        "id": "8q6Ti5098VNv"
      },
      "source": [
        "### 다른 사람 풀이(2)\n",
        "- 상기 방법과 유사\n",
        "- 단, 논문의 인용수를 큰 값 기준으로 정렬한 상태에서\n",
        "- h 값을 하나씩 증가\n",
        "- ex) h가 1일땐 가장 큰 인용수 건수를 가진 논문이 1이상 통과, h = 2일땐 두번째로 인용건수가 큰 논문이 2이상이면 통과인데, 만약 h = 3에서 세번째로 인용건수가 큰 논문의 개수가 3보다 작을 경우, 1,2번째 논문만 만족하는 것이므로 2를 반환한다\n",
        "- h를 반환하는 방식은 h(이 코드에선 i)와 v 중 작은 값을 반환하고\n",
        "- 전체 반환한 min값을 중 가장 큰 값을 반환하면 정답"
      ]
    },
    {
      "cell_type": "code",
      "metadata": {
        "id": "alhC9IRB8W04"
      },
      "source": [
        "def solution(citations):\n",
        "  citations.sort(reverse = True)\n",
        "  return max(list(map(min, enumerate(citations,start = 1))))\n",
        "solution([1,1,3,5,6])"
      ],
      "execution_count": null,
      "outputs": []
    },
    {
      "cell_type": "markdown",
      "metadata": {
        "id": "jjby4TNg8lSS"
      },
      "source": [
        "## 전화번호 목록"
      ]
    },
    {
      "cell_type": "code",
      "metadata": {
        "id": "hxXoPfAY8peW"
      },
      "source": [
        "def solution(phone_book):\n",
        "    phone_book.sort()\n",
        "    \n",
        "    for i in range(len(phone_book)-1):\n",
        "        if len(phone_book[i]) < len(phone_book[i+1]):\n",
        "            if phone_book[i] == phone_book[i+1][:len(phone_book[i])]:\n",
        "                return False\n",
        "    return True\n",
        "\n",
        "phone_book_li = [[\"119\", \"97674223\", \"1195524421\"], [\"123\",\"456\",\"789\"], [\"12\",\"123\",\"1235\",\"567\",\"88\"]]\n",
        "for phone_book in phone_book_li:\n",
        "  print(solution(phone_book))"
      ],
      "execution_count": null,
      "outputs": []
    },
    {
      "cell_type": "markdown",
      "metadata": {
        "id": "_aVGgm8kYkIB"
      },
      "source": [
        "위 아래가 동일한 동일한 방식이지만\n",
        "아래 코드는 zip을 이용하여 확인하고자 하는 번호끼리 엮었고, 위 코드는 전체 for문을 돌리고 기준 번호와 비교 번호를 전체에서 인덱싱\n",
        "\n",
        "단, 문제에서 동일한 번호는 폰북에 존재하지 않는다는 조건이 있었기에, 위 코드에서 앞뒤 코드가 동일한 길이면 문제에 맞지 않음으로 배제하여 효율성이 더 높음"
      ]
    },
    {
      "cell_type": "code",
      "metadata": {
        "id": "ilTP4NjyYgoe"
      },
      "source": [
        "def solution(phone_book):\n",
        "    phone_book.sort()\n",
        "    num = len(phone_book)\n",
        "    for a,b in zip(phone_book[:num-1], phone_book[1:num]):\n",
        "        if a == b[:len(a)]:\n",
        "            return False\n",
        "    return True\n",
        "\n",
        "phone_book_li = [[\"119\", \"97674223\", \"1195524421\"], [\"123\",\"456\",\"789\"], [\"12\",\"123\",\"1235\",\"567\",\"88\"]]\n",
        "for phone_book in phone_book_li:\n",
        "  print(solution(phone_book))"
      ],
      "execution_count": null,
      "outputs": []
    },
    {
      "cell_type": "code",
      "metadata": {
        "id": "q93apCqOYbf_"
      },
      "source": [
        "def solution(phone_book):\n",
        "    phone_book_len = set(list(map(lambda x : len(x), phone_book)))\n",
        "    hashmap = {}\n",
        "    for phone_number in phone_book:\n",
        "        hashmap[phone_number] = 1\n",
        "        \n",
        "    for phone_number in phone_book:\n",
        "        for leng in phone_book_len:\n",
        "            if len(phone_number) < leng:\n",
        "                break\n",
        "            if phone_number[:leng] in hashmap and phone_number[:leng] != phone_number:\n",
        "                return False\n",
        "    return True\n",
        "phone_book_li = [[\"119\", \"97674223\", \"1195524421\"], [\"123\",\"456\",\"789\"], [\"12\",\"123\",\"1235\",\"567\",\"88\"]]\n",
        "for phone_book in phone_book_li:\n",
        "  print(solution(phone_book))"
      ],
      "execution_count": null,
      "outputs": []
    },
    {
      "cell_type": "markdown",
      "metadata": {
        "id": "SvkO3AooYdRt"
      },
      "source": [
        "- 다른 사람 풀이-2를 참고하여 나만의 코드 작성\n",
        "- hash를 활용\n",
        "- 다른사람(2)의 경우, phone_number의 번호를 하나씩 추가하는데, 이 값이 hash_map에 포함될 경우 phone_number를 슬라이싱한 값이 현재 phone_number와 다른 경우 False 반환\n",
        "- 내 경우는, phone_book에서 전체 폰번호의 길이를 set()으로 하여 생성\n",
        "- phone_number를 set()에 포함된 길이만큼씩 슬라이싱을 하는데, 슬라이싱할 길이가 현재 phone_number보다 길면 끊고(break) 다음 번호로 이동\n",
        "- 만약 슬라이싱한 값이 hash_map에 포함되는데 이 값이 현재 phone_number와 다르면 False 반환"
      ]
    },
    {
      "cell_type": "markdown",
      "metadata": {
        "id": "B0xkHwgPLPXH"
      },
      "source": [
        "### 다른 사람 풀이(1)"
      ]
    },
    {
      "cell_type": "code",
      "metadata": {
        "id": "m_0OjbhSZxBa"
      },
      "source": [
        "def solution(phone_book):\n",
        "    phone_book = sorted(phone_book)\n",
        "    for p1,p2 in zip(phone_book,phone_book[1:]):\n",
        "        if p2.startswith(p1):\n",
        "            return False\n",
        "    return True\n",
        "\n",
        "phone_book_li = [[\"119\", \"97674223\", \"1195524421\"], [\"123\",\"456\",\"789\"], [\"12\",\"123\",\"1235\",\"567\",\"88\"]]\n",
        "for phone_book in phone_book_li:\n",
        "  print(solution(phone_book))"
      ],
      "execution_count": null,
      "outputs": []
    },
    {
      "cell_type": "markdown",
      "metadata": {
        "id": "fL1WSed-aHuF"
      },
      "source": [
        "- 동일하지만 보다 간결하고 코드\n",
        "- 나 같은 경우 zip의 범위를 일일이 지정했지만, zip을 사용 시 앞뒤에 동일한 데이터 길이만큼 가져오므로, 이를 이용해서 한 데이터 길이만 조절\n",
        "- 또한, 똑같이 기준 폰번호와 같은 것이 있는 것을 찾지만, 이 코드에선 startswith를 사용"
      ]
    },
    {
      "cell_type": "markdown",
      "metadata": {
        "id": "7SagGpwFezqp"
      },
      "source": [
        "### 다른 사람 풀이(2) - hash"
      ]
    },
    {
      "cell_type": "code",
      "metadata": {
        "id": "OubIKMkQcwrb"
      },
      "source": [
        "def solution(phone_book):\n",
        "    hash_map = {}\n",
        "    for phone_number in phone_book:\n",
        "        if not phone_number in hash_map:\n",
        "            hash_map[phone_number] = 1\n",
        "    \n",
        "    for phone_number in phone_book:\n",
        "        tmp = ''\n",
        "        for number in phone_number:\n",
        "            tmp += number\n",
        "            if tmp in hash_map and tmp != phone_number:\n",
        "                return False\n",
        "    return True\n",
        "\n",
        "phone_book_li = [[\"119\", \"97674223\", \"1195524421\"]]#, [\"123\",\"456\",\"789\"], [\"12\",\"123\",\"1235\",\"567\",\"88\"]]\n",
        "for phone_book in phone_book_li:\n",
        "  print(solution(phone_book))"
      ],
      "execution_count": null,
      "outputs": []
    },
    {
      "cell_type": "markdown",
      "metadata": {
        "id": "c56LFLQOc87w"
      },
      "source": [
        "- 문제 의도와 맞게 hash로 해결\n",
        "- hash_map에 번호를 하나씩 저장한 이후 비교를 하는데,\n",
        "- phone_number의 번호를 하나씩 불러와서 비교"
      ]
    },
    {
      "cell_type": "markdown",
      "metadata": {
        "id": "Eu5NPduJxVmO"
      },
      "source": [
        "## 큰 수 만들기"
      ]
    },
    {
      "cell_type": "code",
      "metadata": {
        "id": "fOBm-xJDfO1H"
      },
      "source": [
        "def solution(number,k):\n",
        "    if k ==0:\n",
        "        return number\n",
        "    \n",
        "    answer = ''\n",
        "    max_len = len(number) - k\n",
        "    range_end = len(number) - max_len + 1\n",
        "    \n",
        "    while max_len != len(answer):\n",
        "        tmp = ''\n",
        "        for i in range(len(number[:range_end])):\n",
        "            if number[i] > tmp:\n",
        "                tmp = number[i]\n",
        "                idx = i\n",
        "                if tmp == '9':\n",
        "                    break\n",
        "        answer += tmp\n",
        "        number = number[idx+1:]\n",
        "        range_end = len(number) -(max_len - len(answer)) + 1\n",
        "        \n",
        "\n",
        "    return answer\n",
        "\n",
        "number = \"4177252841\"\n",
        "k = 4\n",
        "solution(number,k)"
      ],
      "execution_count": null,
      "outputs": []
    },
    {
      "cell_type": "markdown",
      "metadata": {
        "id": "srqPyODTxTS-"
      },
      "source": [
        "- 주어진 number에서 k 개수 숫자를 제외한 가장 큰 수는 앞의 자리부터 큰 수를 부여하는 것이다\n",
        "- number에서 k 개를 뺀 숫자를 만들기 위한 최소 개수를 남겨 둔 상태로 앞의 값부터 가장 큰 수를 출력"
      ]
    },
    {
      "cell_type": "markdown",
      "metadata": {
        "id": "xVNEjsZK0DVM"
      },
      "source": [
        "### 다른 사람 풀이(1) - stack"
      ]
    },
    {
      "cell_type": "code",
      "metadata": {
        "id": "y8warE_n1spy"
      },
      "source": [
        "def solution(number,k):\n",
        "    stack = list()\n",
        "\n",
        "    for num in number:\n",
        "        while k > 0 and len(stack) > 0 and stack[-1] < num:\n",
        "            k -= 1\n",
        "            stack.pop()\n",
        "        stack.append(num)\n",
        "    return \"\".join(stack)\n",
        "\n",
        "number = \"4177252841\"\n",
        "\n",
        "k = 4\n",
        "solution(number, k)"
      ],
      "execution_count": null,
      "outputs": []
    },
    {
      "cell_type": "markdown",
      "metadata": {
        "id": "_F_NaJUf4Lab"
      },
      "source": [
        "- stack 활용"
      ]
    },
    {
      "cell_type": "markdown",
      "metadata": {
        "id": "BHzOJxtc4PzD"
      },
      "source": [
        "## 다리를 지나는 트럭 - 스택/큐"
      ]
    },
    {
      "cell_type": "code",
      "metadata": {
        "id": "r4fbiqm-2koS"
      },
      "source": [
        "from collections import deque\n",
        "\n",
        "def solution(bridge_length, weight, truck_weights):\n",
        "    bridge = deque([0]*bridge_length)\n",
        "    truck_weights.reverse()\n",
        "    \n",
        "    total_weight = 0\n",
        "    time = 0\n",
        "    \n",
        "    while truck_weights:\n",
        "        time += 1\n",
        "        total_weight -= bridge.popleft()\n",
        "        \n",
        "        if total_weight + truck_weights[-1] > weight:\n",
        "            bridge.append(0)\n",
        "        else:\n",
        "            truck = truck_weights.pop()\n",
        "            bridge.append(truck)\n",
        "            total_weight += truck\n",
        "            \n",
        "    time += bridge_length\n",
        "        \n",
        "    return time\n",
        "solution(2,10,\t[7,4,5,6])"
      ],
      "execution_count": null,
      "outputs": []
    },
    {
      "cell_type": "markdown",
      "metadata": {
        "id": "gEG0LO-gCIcg"
      },
      "source": [
        "## 방문 길이"
      ]
    },
    {
      "cell_type": "code",
      "metadata": {
        "id": "qPf-OcDiCIrt"
      },
      "source": [
        "def solution(dirs):\n",
        "    direction = {\"U\" : (0,1), \"D\" : (0,-1), \"L\" : (-1,0), \"R\" : (1,0)}\n",
        "    road = set()\n",
        "    cur = (0,0)\n",
        "    \n",
        "    for d in dirs:\n",
        "        next_x, next_y = direction[d][0] + cur[0], direction[d][1] + cur[1] \n",
        "        if abs(next_x) <=5 and abs(next_y) <= 5:\n",
        "            road.add((next_x, next_y, cur[0], cur[1]))\n",
        "            road.add((cur[0], cur[1], next_x, next_y))\n",
        "            cur = (next_x, next_y)\n",
        "\n",
        "    return int(len(road)/2)\n",
        "solution(\"ULURRDLLU\")"
      ],
      "execution_count": null,
      "outputs": []
    },
    {
      "cell_type": "markdown",
      "metadata": {
        "id": "OOMTi4dCCQTV"
      },
      "source": [
        "## 주식 가격 - 스택/큐"
      ]
    },
    {
      "cell_type": "code",
      "metadata": {
        "id": "XQRFOpGVbRIy"
      },
      "source": [
        "def solution(prices):\n",
        "    answer = [0]*len(prices)\n",
        "    stack = [0]\n",
        "    \n",
        "    for i in range(1,len(prices)):\n",
        "        while stack and prices[stack[-1]] > prices[i]:\n",
        "            sec = stack.pop()\n",
        "            answer[sec] = i - sec\n",
        "        stack.append(i)\n",
        "    \n",
        "    for sec in stack:\n",
        "        answer[sec] = i - sec\n",
        "    \n",
        "    return answer\n",
        "\n",
        "prices = [1, 2, 3, 2, 3]\n",
        "# return = [4, 3, 1, 1, 0]\n",
        "solution(prices)"
      ],
      "execution_count": null,
      "outputs": []
    },
    {
      "cell_type": "markdown",
      "metadata": {
        "id": "CP65fmAdnf2G"
      },
      "source": [
        "## 위장 - 해쉬"
      ]
    },
    {
      "cell_type": "code",
      "metadata": {
        "id": "PRpi2C5xnhox"
      },
      "source": [
        "from collections import Counter\n",
        "\n",
        "def solution(clothes):\n",
        "    answer = 1\n",
        "    cloth_type_cnt = Counter([t for _, t in clothes])\n",
        "    for n in cloth_type_cnt.values():\n",
        "        answer *= n+1 \n",
        "\n",
        "    return answer - 1\n"
      ],
      "execution_count": null,
      "outputs": []
    },
    {
      "cell_type": "markdown",
      "metadata": {
        "id": "--HCGLtoq8a5"
      },
      "source": [
        "- 여기서 옷 개수 + 1을 한 값을 모두 곱한 다음 - 1을 뺴준 이유는,\n",
        "- 옷을 입는 방법은 옷은 돌아가며 입는 경우와 옷을 안입는 경우가 있기 때문\n",
        "- 즉, 모자가 3개, 상의가 2개 있을 때, 각각 안입는 경우까지 고려하여 전체 경우의 수인 4*3을 계산한 다음, 모자와 상의 둘 다 안입는 경우를 제외\n",
        "- 결과적으로 4*3 - 1"
      ]
    },
    {
      "cell_type": "markdown",
      "metadata": {
        "id": "g2QqzCWGoz-Y"
      },
      "source": [
        "### 다른 사람 풀이(1)\n",
        "---\n",
        "- Counter + reduce 사용\n",
        "- Counter로 옷 종류별 개수를 세고, reduce로 하나씩 계산\n",
        "- reduce 예) numbers = [1,2,3,4,5]\n",
        "- reduce(lambda x,y : x*y numbers) => ((((1 * 2) * 3) * 4) * 5)"
      ]
    },
    {
      "cell_type": "code",
      "metadata": {
        "id": "d5oMxH3Ao17u"
      },
      "source": [
        "from collections import Counter\n",
        "from functools import reduce\n",
        "def solution(clothes):\n",
        "    return reduce (lambda x,y : x*y, (v+1for v in Counter([c for _, c in clothes]).values())) - 1"
      ],
      "execution_count": null,
      "outputs": []
    },
    {
      "cell_type": "markdown",
      "metadata": {
        "id": "ReJ4TSkrqWQn"
      },
      "source": [
        "### 다른 사람 풀이(2) - defaultdict\n",
        "---\n",
        "- defaultdict을 사용하여 동일한 key를 가진 value 끼리 묶고\n",
        "- key 값에 포함된 원소의 개수를 카운트하여 결과 반환"
      ]
    },
    {
      "cell_type": "code",
      "metadata": {
        "id": "Ewg-FN4DqV5w"
      },
      "source": [
        "from collections import defaultdict\n",
        "def solution(clothes):\n",
        "    clothes_dict = defaultdict(list)\n",
        "    for sample, category in clothes:\n",
        "        clothes_dict[category].append(sample)\n",
        "        # print(clothes_dict)\n",
        "        \n",
        "    answer = 1\n",
        "    for dict_key in clothes_dict.keys():\n",
        "        answer *= len(clothes_dict[dict_key]) + 1\n",
        "    \n",
        "    return answer - 1"
      ],
      "execution_count": null,
      "outputs": []
    },
    {
      "cell_type": "markdown",
      "metadata": {
        "id": "rrN2KYNvxTdT"
      },
      "source": [
        "## 이진 변환 반복하기"
      ]
    },
    {
      "cell_type": "code",
      "metadata": {
        "id": "cjiBtN9NxVEE"
      },
      "source": [
        "from collections import Counter\n",
        "\n",
        "def get_binary(n):\n",
        "    if n == 0:\n",
        "        return ''\n",
        "    return get_binary(n//2) + str(n%2)\n",
        "\n",
        "def solution(s):\n",
        "    answer = [0,0]\n",
        "    \n",
        "    while s != \"1\":\n",
        "        answer[0] += 1\n",
        "        for n, c in Counter(s).items():\n",
        "            if n == '1':\n",
        "                s = get_binary(c)\n",
        "            else:\n",
        "                answer[1] += c\n",
        "\n",
        "    \n",
        "    return answer\n",
        "solution(\"110010101001\")"
      ],
      "execution_count": null,
      "outputs": []
    },
    {
      "cell_type": "markdown",
      "metadata": {
        "id": "VrvgzWYiyWlI"
      },
      "source": [
        "### 다른 사람 풀이(1)"
      ]
    },
    {
      "cell_type": "code",
      "metadata": {
        "id": "BbRuESt1zzRb"
      },
      "source": [
        "def solution(s):\n",
        "    a,b = 0, 0\n",
        "    \n",
        "    while s != \"1\":\n",
        "        a += 1\n",
        "        one_cnt = s.count(\"1\")\n",
        "        b += len(s) - one_cnt\n",
        "        s = bin(one_cnt)[2:]\n",
        "\n",
        "    return [a,b]\n",
        "solution(\"110010101001\")    "
      ],
      "execution_count": null,
      "outputs": []
    },
    {
      "cell_type": "markdown",
      "metadata": {
        "id": "1ubT3MzOz2ML"
      },
      "source": [
        "- 1의 개수를 세고, 제거한 \"0\" 개수는 전체 s의 길이에서 1의 개수만큼 빼줌\n",
        "- 그리고 다음 s는 bin()함수를 이용하여 출력"
      ]
    },
    {
      "cell_type": "markdown",
      "metadata": {
        "id": "GYsqhLJVz-qe"
      },
      "source": [
        "## 카펫"
      ]
    },
    {
      "cell_type": "markdown",
      "metadata": {
        "id": "uSKs05ywDsYS"
      },
      "source": [
        "겉 타일 개수 이용"
      ]
    },
    {
      "cell_type": "code",
      "metadata": {
        "id": "XHq9e8JX8Ohj"
      },
      "source": [
        "def solution(brown, yellow):\n",
        "    tot_tile = brown + yellow\n",
        "    for i in range(3,tot_tile):\n",
        "        if tot_tile % i == 0 and (i*2 + tot_tile//i*2 - 4) == brown:\n",
        "            return [tot_tile//i, i]\n",
        "solution(8,1)"
      ],
      "execution_count": null,
      "outputs": []
    },
    {
      "cell_type": "markdown",
      "metadata": {
        "id": "QiQSVsStDkU8"
      },
      "source": [
        "### 다른 사람 풀이(1)\n",
        "---\n",
        "- 타일 둘레 활용"
      ]
    },
    {
      "cell_type": "code",
      "metadata": {
        "id": "ziQcLSd9Dd6s"
      },
      "source": [
        "def solution(brown, yellow):\n",
        "    for i in range(1, int(yellow**0.5)+1):\n",
        "        if 2*(i + yellow//i) == brown - 4:\n",
        "            return [yellow//i+2,i+2] \n",
        "solution(8,1)"
      ],
      "execution_count": null,
      "outputs": []
    },
    {
      "cell_type": "markdown",
      "metadata": {
        "id": "FmVd6frJDjyj"
      },
      "source": [
        "## 메뉴 리뉴얼"
      ]
    },
    {
      "cell_type": "code",
      "metadata": {
        "id": "fKIxPC_cnsru"
      },
      "source": [
        "from itertools import combinations\n",
        "from collections import Counter\n",
        "def solution(orders, course):\n",
        "    answer = []\n",
        "    for num in course:\n",
        "        order_combinations = []\n",
        "        for order in orders:\n",
        "            order_combinations += [\"\".join(com) for com in combinations(sorted(order),num)]\n",
        "        \n",
        "        most_ordered = Counter(order_combinations).most_common()\n",
        "        answer += [c for c, i in most_ordered if i == most_ordered[0][1] and i > 1]\n",
        "\n",
        "    return sorted(answer)"
      ],
      "execution_count": null,
      "outputs": []
    }
  ]
}