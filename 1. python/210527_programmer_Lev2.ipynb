{
  "cells": [
    {
      "cell_type": "markdown",
      "metadata": {
        "colab_type": "text",
        "id": "view-in-github"
      },
      "source": [
        "<a href=\"https://colab.research.google.com/github/changyong93/TIL/blob/main/1.%20python/210527_programmer_Lev2.ipynb\" target=\"_parent\"><img src=\"https://colab.research.google.com/assets/colab-badge.svg\" alt=\"Open In Colab\"/></a>"
      ]
    },
    {
      "cell_type": "markdown",
      "metadata": {
        "id": "hgDdOEjiVrJO"
      },
      "source": [
        "## 멀쩡한 사각형"
      ]
    },
    {
      "cell_type": "code",
      "execution_count": null,
      "metadata": {
        "id": "7bIjyoeZVxdQ"
      },
      "outputs": [],
      "source": [
        "def gcd(w,h):\n",
        "    if w >= h:\n",
        "        while h != 0:\n",
        "            w,h = h, w%h\n",
        "        return w\n",
        "\n",
        "    else:\n",
        "        while w != 0:\n",
        "            h,w = w, h%w\n",
        "        return h\n",
        "\n",
        "def solution(w,h):\n",
        "    return w*h - w - h + gcd(w,h)"
      ]
    },
    {
      "cell_type": "code",
      "execution_count": null,
      "metadata": {
        "id": "P840zkKWiSfI"
      },
      "outputs": [],
      "source": [
        "def gcd(w,h):\n",
        "    if w > h:\n",
        "        while h !=0:\n",
        "            w, h = h, w%h\n",
        "        return w\n",
        "    else:\n",
        "        while w != 0:\n",
        "            h, w = w, h%w\n",
        "        return h\n",
        "\n",
        "\n",
        "def solution(w,h):\n",
        "    return w*h -(w+h) + gcd(w,h)\n",
        "solution(8,12)"
      ]
    },
    {
      "cell_type": "markdown",
      "metadata": {
        "id": "xvMnS8bBlKRZ"
      },
      "source": [
        "---\n",
        "### 다른 사람풀이(1)\n",
        "- 구하는 방식은 동일했지만, gcd를 조금 더 간결하게 작성\n",
        "- 나 같은 경우, 가로 세로 길이 중 긴 것을 기준으로 gcd를 구하게 했지만, 아래 풀이의 경우는, 가로 or 세로가 0이 될 때까지 바꿔가면서 연산하기에 고려할 필요 없음"
      ]
    },
    {
      "cell_type": "code",
      "execution_count": null,
      "metadata": {
        "id": "xkdeTXqolWem"
      },
      "outputs": [],
      "source": [
        "def gcd(a,b): return b if a == 0 else gcd(b%a, a)\n",
        "def solution(w,h): return w*h -(w+h) + gcd(w,h)\n",
        "solution(12,8)"
      ]
    },
    {
      "cell_type": "markdown",
      "metadata": {
        "id": "bnWBKHALl0wC"
      },
      "source": [
        "---\n",
        "### 다른 사람풀이(2)\n",
        "- math library의 gcd 함수 사용"
      ]
    },
    {
      "cell_type": "code",
      "execution_count": null,
      "metadata": {
        "id": "bPMyy2T4l-eo"
      },
      "outputs": [],
      "source": [
        "from math import gcd\n",
        "def solution(w,h): return w*h - w - h + gcd(w,h)\n",
        "solution(12,8)"
      ]
    },
    {
      "cell_type": "markdown",
      "metadata": {
        "id": "2mGdMQWxGxCj"
      },
      "source": [
        "## 124 나라의 숫자"
      ]
    },
    {
      "cell_type": "code",
      "execution_count": null,
      "metadata": {
        "id": "lJs-zGylG4QD"
      },
      "outputs": [],
      "source": [
        "def solution(n):\n",
        "  answer = ''\n",
        "  while n > 0:\n",
        "    remainder = n % 3\n",
        "    n = n//3\n",
        "    if remainder == 0:\n",
        "      answer = \"4\" + answer\n",
        "      n -= 1\n",
        "    else:\n",
        "      answer = str(remainder) + answer\n",
        "  return answer\n",
        "solution(12)"
      ]
    },
    {
      "cell_type": "markdown",
      "metadata": {
        "id": "K_NtdASVUC-Y"
      },
      "source": [
        "---\n",
        "### 다른 사람 풀이(1)"
      ]
    },
    {
      "cell_type": "code",
      "execution_count": null,
      "metadata": {
        "id": "0OZRGB4CSkeO"
      },
      "outputs": [],
      "source": [
        "def solution(n):\n",
        "  num = ['1','2','4']\n",
        "  answer = ''\n",
        "\n",
        "  while n != 0:\n",
        "    n -= 1\n",
        "    answer = num[n%3] + answer\n",
        "    n //= 3\n",
        "  return answer\n",
        "solution(12)"
      ]
    },
    {
      "cell_type": "markdown",
      "metadata": {
        "id": "Dd5LI9PVW_P4"
      },
      "source": [
        "### 다른 사람 풀이(2)"
      ]
    },
    {
      "cell_type": "code",
      "execution_count": null,
      "metadata": {
        "id": "EN4UchabXCLh"
      },
      "outputs": [],
      "source": [
        "def solution(n):\n",
        "  answer = ''\n",
        "\n",
        "  while n !=0:\n",
        "    n,r = divmod(n-1,3)\n",
        "    answer = '124'[r] + answer\n",
        "  return answer\n",
        "solution(12)"
      ]
    },
    {
      "cell_type": "markdown",
      "metadata": {
        "id": "2zWhqyr-YdiJ"
      },
      "source": [
        "---\n",
        "### 다른 사람 풀이(3)\n",
        "- n!=인 경우 412[n%3] 값이 뒤에 붙음\n",
        "- ex) n이 112인 경우,\n",
        "\n",
        "sol(12)\n",
        "= sol((12-1)//3) + '412'[12%3]  \n",
        "= sol(3) + '4'  \n",
        "=  sol((3-1)//3) + 412[3%3] + '4'  \n",
        "= sol(0) + '4' + '4'  \n",
        "= '' + '4' + '4'  \n",
        "= '44'  "
      ]
    },
    {
      "cell_type": "code",
      "execution_count": null,
      "metadata": {
        "id": "6kbIEfF0YGrT"
      },
      "outputs": [],
      "source": [
        "def solution(n):\n",
        "  return '' if n == 0 else solution((n-1)//3) + '412'[n%3]\n",
        "solution(14)"
      ]
    },
    {
      "cell_type": "markdown",
      "metadata": {
        "id": "CmJIoM5AeOrN"
      },
      "source": [
        "## 짝지어 제거하기(스택)\n",
        "\n"
      ]
    },
    {
      "cell_type": "code",
      "execution_count": null,
      "metadata": {
        "id": "-yrJgRxXbT6K"
      },
      "outputs": [],
      "source": [
        "def solution(s):\n",
        "    stack = []\n",
        "    for a in s:\n",
        "        if stack: # stack이 빈 list가 아닐 경우\n",
        "            if stack[-1] == a:\n",
        "                stack.pop()\n",
        "            else:\n",
        "                stack.append(a)\n",
        "        else:\n",
        "            stack.append(a)\n",
        "\n",
        "    return 1 if len(stack) == 0 else 0\n",
        "\n",
        "solution('ssabba')"
      ]
    },
    {
      "cell_type": "code",
      "execution_count": null,
      "metadata": {
        "id": "bbuJY5SUqcH_"
      },
      "outputs": [],
      "source": [
        "def solution(s):\n",
        "    stack = []\n",
        "    for a in s:\n",
        "        if not(stack): # stack이 빈 list일 경우\n",
        "            stack.append(a)\n",
        "            continue\n",
        "        if stack[-1] == a:\n",
        "            stack.pop()\n",
        "        else:\n",
        "            stack.append(a)\n",
        "        \n",
        "    return 1 if len(stack) == 0 else 0\n",
        "\n",
        "solution('ssabba')"
      ]
    },
    {
      "cell_type": "markdown",
      "metadata": {
        "id": "Up78GkbaySzj"
      },
      "source": [
        "## 기능개발(스택/큐)  \n",
        "https://devuna.tistory.com/22"
      ]
    },
    {
      "cell_type": "code",
      "execution_count": null,
      "metadata": {
        "id": "pbyaT6elyVfW"
      },
      "outputs": [],
      "source": [
        "def solution(progresses, speeds):\n",
        "    answer = []\n",
        "    \n",
        "    i = 0 # progress\n",
        "    k = 0\n",
        "    days = 0\n",
        "    while i+1 <=len(progresses):\n",
        "        if progresses[i] + days*speeds[i] >= 100:\n",
        "            # print(progresses[i],days*speeds[i])\n",
        "            i += 1\n",
        "            k += 1\n",
        "            # print(\"누적  k: \", k)\n",
        "        else:\n",
        "            days += 1\n",
        "            if k > 0:\n",
        "                # print(\"append K: \", k)\n",
        "                answer.append(k)\n",
        "                k = 0\n",
        "    if k > 0:\n",
        "      answer.append(k)\n",
        "                \n",
        "    return answer\n",
        "# solution([93, 30, 55],\t[1, 30, 5])\n",
        "solution([95, 90, 99, 99, 80, 99],[1,1,1,1,1,1])"
      ]
    },
    {
      "cell_type": "code",
      "execution_count": null,
      "metadata": {
        "id": "3NyDxy_ORFW1"
      },
      "outputs": [],
      "source": [
        "import math\n",
        "from collections import Counter\n",
        "def solution(progresses, speeds):\n",
        "    answer = []\n",
        "    DayLeft = [math.ceil((100-p)/s) for p,s in zip(progresses,speeds)]\n",
        "    q = []\n",
        "    \n",
        "    for d in DayLeft:\n",
        "        if not q:\n",
        "            q.append(d)\n",
        "            continue\n",
        "        \n",
        "        if q[-1] >= d: q.append(q[-1])\n",
        "        else: q.append(d)\n",
        "\n",
        "    return [c for _,c in sorted(Counter(q).items(), key = lambda x : x[0])]"
      ]
    },
    {
      "cell_type": "markdown",
      "metadata": {
        "id": "W8hzxqfjdrRS"
      },
      "source": [
        "---\n",
        "문제 의도대로 큐로 해결"
      ]
    },
    {
      "cell_type": "code",
      "execution_count": null,
      "metadata": {
        "id": "2XcEMQ-sdkcj"
      },
      "outputs": [],
      "source": [
        "import math\n",
        "from collections import deque\n",
        "def solution(progresses, speeds):\n",
        "    DayLeft = [math.ceil((100-p)/s) for p,s in zip(progresses, speeds)]\n",
        "    # print(DayLeft)\n",
        "    q = deque([])\n",
        "    answer = []\n",
        "    for i in range(len(DayLeft)):\n",
        "        if not(q):\n",
        "            q.append(DayLeft[i])\n",
        "            continue\n",
        "        \n",
        "        if q[-1] < DayLeft[i]:\n",
        "            cnt = 0\n",
        "            while q and q[-1] < DayLeft[i]:\n",
        "                cnt += 1\n",
        "                q.popleft()\n",
        "            answer.append(cnt)\n",
        "            q.append(DayLeft[i])\n",
        "        else:\n",
        "            q.append(q[-1])\n",
        "        \n",
        "    cnt = 0\n",
        "    while q:\n",
        "        cnt +=1\n",
        "        q.pop()\n",
        "    answer.append(cnt)\n",
        "    return answer\n",
        "# solution([93, 30, 55],\t[1, 30, 5])\n",
        "solution([95, 90, 99, 99, 80, 99],[1,1,1,1,1,1])"
      ]
    },
    {
      "cell_type": "code",
      "execution_count": null,
      "metadata": {
        "id": "a9kr8RdGPEna"
      },
      "outputs": [],
      "source": [
        "import math\n",
        "from collections import deque\n",
        "def solution(progresses, speeds):\n",
        "    DayLeft = deque([math.ceil((100-p)/s) for p,s in zip(progresses, speeds)])\n",
        "    answer = []\n",
        "    Day = 0\n",
        "    while DayLeft:\n",
        "        if Day < DayLeft[0]:\n",
        "            Day +=1\n",
        "            continue\n",
        "        cnt = 0\n",
        "        while DayLeft and Day >= DayLeft[0]:\n",
        "            DayLeft.popleft()\n",
        "            cnt+=1\n",
        "        answer.append(cnt)\n",
        "            \n",
        "    return answer\n",
        "solution([95, 90, 99, 99, 80, 99],[1,1,1,1,1,1])"
      ]
    },
    {
      "cell_type": "markdown",
      "metadata": {
        "id": "ZCxNlLRp27ZF"
      },
      "source": [
        "---\n",
        "### 다른 사람 풀이(1)\n",
        "- zip을 이용하여 연관된 progress와 speed를 동시에 출력"
      ]
    },
    {
      "cell_type": "code",
      "execution_count": null,
      "metadata": {
        "id": "IR-SKjRR4hkX"
      },
      "outputs": [],
      "source": [
        "def solution(progresses, speeds):\n",
        "  Q = []\n",
        "  for p,s in zip(progresses, speeds):\n",
        "    print(Q, p, s)\n",
        "    if not(Q) or Q[-1][0] < (100-p)/s:\n",
        "      Q.append([(100-p)/s, 1])\n",
        "    else:\n",
        "      Q[-1][1] += 1\n",
        "  return [q[1] for q in Q]\n",
        "# solution([93, 30, 55],\t[1, 30, 5])\n",
        "solution([95, 90, 99, 99, 80, 99],[1,1,1,1,1,1])"
      ]
    },
    {
      "cell_type": "code",
      "execution_count": null,
      "metadata": {
        "id": "lTNuU_On6NV7"
      },
      "outputs": [],
      "source": [
        "from math import ceil\n",
        "def solution(progresses, speeds):\n",
        "    daysLeft = list(map(lambda x : (ceil((100-progresses[x])/speeds[x])), range(len(progresses))))\n",
        "\n",
        "    count = 1\n",
        "    answer = []\n",
        "\n",
        "    for i in range(len(daysLeft)):\n",
        "        try:\n",
        "            if daysLeft[i] < daysLeft[i+1]:\n",
        "                answer.append(count)\n",
        "                count = 1\n",
        "            else:\n",
        "                daysLeft[i+1] = daysLeft[i]\n",
        "                count += 1\n",
        "        except:\n",
        "            answer.append(count)\n",
        "    return answer\n",
        "\n",
        "\n",
        "# solution([93, 30, 55],[1,30,5])\n",
        "solution([95, 90, 99, 99, 80, 99],[1,1,1,1,1,1])"
      ]
    },
    {
      "cell_type": "markdown",
      "metadata": {
        "id": "g_Cdh9mg_7ve"
      },
      "source": [
        "## 더 맵게(힙,Heap)  \n",
        "- https://gmlwjd9405.github.io/2018/05/10/data-structure-heap.html\n",
        "- https://www.daleseo.com/python-heapq/"
      ]
    },
    {
      "cell_type": "code",
      "execution_count": null,
      "metadata": {
        "id": "qYKR71p3FgWa"
      },
      "outputs": [],
      "source": [
        "import heapq\n",
        "def solution(scoviile, k):\n",
        "    \n",
        "    cnt = 0\n",
        "    heapq.heapify(scoviile)\n",
        "    while len(scoviile) >= 2:\n",
        "        if scoviile[0] < k:\n",
        "            tmp = heapq.heappop(scoviile) + heapq.heappop(scoviile)*2\n",
        "            heapq.heappush(scoviile, tmp)\n",
        "            cnt += 1\n",
        "        else:\n",
        "            return cnt\n",
        "    return cnt if scoviile[0] >=k else -1\n",
        "    \n",
        "\n",
        "solution(\t[0, 0, 3, 9, 10, 12], 7000)"
      ]
    },
    {
      "cell_type": "markdown",
      "metadata": {
        "id": "FQhom_7oL0bO"
      },
      "source": [
        "---\n",
        "### 다른 사람 풀이(1)\n",
        "- 이진 분할을 통한 계산 범위 서치, bisect"
      ]
    },
    {
      "cell_type": "code",
      "execution_count": null,
      "metadata": {
        "id": "AEn3Pzt4b3XZ"
      },
      "outputs": [],
      "source": [
        "import bisect, heapq\n",
        "\n",
        "def solution(scoville,k):\n",
        "  heapq.heapify(scoville)\n",
        "  answer = 0\n",
        "  mild_food = heapq.nsmallest(bisect.bisect(scoville, k)+1, scoville)\n",
        "\n",
        "  while len(mild_food) >= 2:\n",
        "    if mild_food[0] >= k:\n",
        "      return answer\n",
        "    else:\n",
        "      heapq.heappush(mild_food, heapq.heappop(mild_food) + heapq.heappop(mild_food)*2)\n",
        "      answer += 1\n",
        "  \n",
        "  return answer if mild_food[0] >= k else -1\n",
        "\n",
        "solution(\t[0, 0, 3, 9, 10, 12], 7000)"
      ]
    },
    {
      "cell_type": "code",
      "execution_count": null,
      "metadata": {},
      "outputs": [],
      "source": [
        "# 이진분할을 직접 구현\n",
        "# import heapq, bisect\n",
        "import heapq\n",
        "def bisect(nums,k):\n",
        "    s,e = 0, len(nums)-1\n",
        "    result = -1\n",
        "    while s <= e:\n",
        "        mean = (s+e)//2\n",
        "        if nums[mean] > k:\n",
        "            e = mean-1\n",
        "        else:\n",
        "            s = mean+1\n",
        "    return s\n",
        "            \n",
        "        \n",
        "def solution(scoville, K):\n",
        "    heapq.heapify(scoville)\n",
        "    # mild_food = heapq.nsmallest(bisect.bisect_right(scoville,K)+1, scoville)\n",
        "    mild_food = heapq.nsmallest(bisect(scoville,K)+1, scoville)\n",
        "    cnt=0\n",
        "    while len(mild_food)>=2 and mild_food[0]<K:\n",
        "        heapq.heappush(mild_food, heapq.heappop(mild_food)+heapq.heappop(mild_food)*2)\n",
        "        cnt+=1\n",
        "    return cnt if mild_food[0]>=K else -1\n",
        "    "
      ]
    },
    {
      "cell_type": "markdown",
      "metadata": {
        "id": "l-Zig42Udqtd"
      },
      "source": [
        "## 오픈채팅방"
      ]
    },
    {
      "cell_type": "code",
      "execution_count": null,
      "metadata": {
        "id": "omC0H7UvA486"
      },
      "outputs": [],
      "source": [
        "def solution(record):\n",
        "    user_dict = {}\n",
        "        \n",
        "    for record_ in record:\n",
        "        if record_.split()[0] == \"Enter\" or record_.split()[0] == \"Change\":\n",
        "            user_dict[record_.split()[1]] = record_.split()[2]\n",
        "             \n",
        "    \n",
        "    answer = []\n",
        "    for record_ in record:\n",
        "        if record_.split()[0] == \"Enter\":\n",
        "            sen = f\"{user_dict[record_.split()[1]]}님이 들어왔습니다.\"\n",
        "            answer.append(sen)\n",
        "        elif record_.split()[0] == \"Leave\":\n",
        "            sen = f\"{user_dict[record_.split()[1]]}님이 나갔습니다.\"\n",
        "            answer.append(sen)\n",
        "    return answer\n",
        "\n",
        "record = [\"Enter uid1234 Muzi\",\"Enter uid4567 Prodo\",\"Leave uid1234\",\n",
        "          \"Enter uid1234 Prodo\",\"Change uid4567 Ryan\"]\n",
        "print(solution(record))"
      ]
    },
    {
      "cell_type": "markdown",
      "metadata": {
        "id": "BGIMgXp0DK72"
      },
      "source": [
        "---\n",
        "### 다른 사람 풀이(1)"
      ]
    },
    {
      "cell_type": "code",
      "execution_count": null,
      "metadata": {
        "id": "bk5kwskdDNrI"
      },
      "outputs": [],
      "source": [
        "def solution(record):\n",
        "  user_id = {record_.split()[1] : record_.split()[2] for record_ in record if record_.split()[0] in [\"Enter\", \"Change\"]}\n",
        "  return [ user_id[record_.split()[1]] + \"님이 들어왔습니다.\" if record_.split()[0] == \"Enter\" else user_id[record_.split()[1]] + \"님이 나갔습니다.\" for record_ in record if record_.split()[0] != \"Change\"]\n",
        "\n",
        "record = [\"Enter uid1234 Muzi\",\"Enter uid4567 Prodo\",\"Leave uid1234\",\n",
        "          \"Enter uid1234 Prodo\",\"Change uid4567 Ryan\"]\n",
        "print(solution(record))"
      ]
    },
    {
      "cell_type": "markdown",
      "metadata": {
        "id": "iZUkkizQMDe0"
      },
      "source": [
        "## 문자열 압축"
      ]
    },
    {
      "cell_type": "code",
      "execution_count": null,
      "metadata": {
        "id": "f3cfQFc5MGBH"
      },
      "outputs": [],
      "source": [
        "def solution(s):\n",
        "    max_len = len(s)\n",
        "    answer = len(s)\n",
        "\n",
        "    for comp_size in range(1,int(max_len/2)+1):\n",
        "        splitted = [s[i:i+comp_size] for i in range(0,max_len, comp_size)]\n",
        "        \n",
        "        cnt = 1\n",
        "        compressed = ''\n",
        "        for j in range(len(splitted)-1):\n",
        "            pre, cur = splitted[j], splitted[j+1]\n",
        "            if pre == cur:\n",
        "                cnt += 1\n",
        "            else:\n",
        "                compressed += str(cnt) + pre if cnt > 1 else pre\n",
        "                cnt = 1\n",
        "        compressed += str(cnt) + cur if cnt > 1 else cur\n",
        "        print(splitted,compressed, len(compressed))\n",
        "        answer = len(compressed) if len(compressed) < answer else answer\n",
        "        \n",
        "    return answer\n",
        "s = \"abcabcabcabcdededededede\"\n",
        "solution(s)"
      ]
    },
    {
      "cell_type": "markdown",
      "metadata": {
        "id": "SnLZ4RxrX5Bc"
      },
      "source": [
        "불필요한 코드 조금 줄임"
      ]
    },
    {
      "cell_type": "code",
      "execution_count": null,
      "metadata": {
        "id": "Yz-wEGH4X4eD"
      },
      "outputs": [],
      "source": [
        "def solution(s):\n",
        "    answer = len(s)\n",
        "    maxlen = len(s)\n",
        "    \n",
        "    for comp in range(1, maxlen//2+1):\n",
        "        splitted = [s[i:i+comp] for i in range(0, maxlen, comp)]\n",
        "        compressed = ''\n",
        "        cnt = 1\n",
        "        for j in range(len(splitted)-1):\n",
        "            if splitted[j] == splitted[j+1]:\n",
        "                cnt +=1\n",
        "            else:\n",
        "                compressed += str(cnt) + splitted[j] if cnt > 1 else splitted[j]\n",
        "                cnt = 1\n",
        "        compressed += str(cnt) + splitted[j+1] if cnt > 1 else splitted[j+1]\n",
        "        answer = min(answer, len(compressed))\n",
        "    return answer"
      ]
    },
    {
      "cell_type": "markdown",
      "metadata": {
        "id": "D0CSm4KDkaEU"
      },
      "source": [
        "## 타겟 넘버 - 깊이/너비 우선 탐색(DFS/BFS)  \n",
        "- https://devuna.tistory.com/32  \n",
        "---\n",
        "DFS(Depth-First Search, 깊이 우선 탐색)\n",
        "- 최대한 깊이 내려간 뒤 더 이상 길이 없으면 옆으로 이동\n",
        "- 루트 노드에서 시작하여 다음 분기(branch)를 넘어가기 전 해당 분기를 완벽히 탐색\n",
        "- 모든 노드를 방문하고자 하는 경우 사용\n",
        "- BFS보다 속도가 느림  \n",
        "\n",
        "BFS(Breadth-First Search, 너비 우선 탐색)\n",
        "- 최대한 넓게 이동한 다음, 갈 수 없는 때 아래로 이동\n",
        "- 루트 노드에서 시작하여 루트 노트와 인접한 노트를 완벽히 탐색 후 다음 노드를 탐색\n",
        "- 최단 경로를 탐색하고자 하는 경우 사용\n",
        "  - 지구 상에 존재하는 모든 친구 관계를 그래프로 표현한 후 Sam과 Eddie사이에 존재하는 경로를 찾는 경우\n",
        "  - DFS : 모든 친구 관계 다 확인\n",
        "  - BFS : SAM과 가까운 관계부터 확인  \n",
        "\n",
        "BFS vs DFS 비교\n",
        "- DFS : stack or 재귀함수 사용\n",
        "- BFS : queue 사용\n",
        "- 시간복잡도 : 두 방법 동일 => 둘 다 다음 노드가 방문했는지를 확인하는 시간과 각 노드를 방문하는 시간을 합함\n",
        "  - N(노드), E(간선)의 경우, 인접 리스트 : O(N + E) // 인접 행렬 : O(N^2)  \n",
        "\n",
        "활용 문제 유형\n",
        "1. 모든 정점 방문 => BFS, DFS 둘다 가능(편한 방법 사용)\n",
        "2. 경로 특징(ex, a->b까지 이동 시 특정 경로에 숫자가 있으면 안된다는 등) => DFS(BFS는 경로 특징을 가지지 못함)\n",
        "3. 최단 경로 => BFS\n",
        "+a, 검색 대상이 매우 크다면 DFS 고려, 검색 대상이 작고 시작 지점부터 원하는 대상이 멀지 않는 경우 BFS 고려\n"
      ]
    },
    {
      "cell_type": "code",
      "execution_count": null,
      "metadata": {
        "id": "AEGJUcxpkeeE"
      },
      "outputs": [],
      "source": [
        "# 완전 탐색\n",
        "def solution(numbers, target):\n",
        "    answer = 0\n",
        "    sup = [0]\n",
        "    for i in numbers:\n",
        "        sub = []\n",
        "        for j in sup:\n",
        "            tmp = [j + i, j - i]\n",
        "            sub.extend(tmp)\n",
        "        sup = sub\n",
        "    return sup.count(target) \n",
        "\n",
        "solution([1, 1, 1, 1, 1]\t,3)"
      ]
    },
    {
      "cell_type": "markdown",
      "metadata": {
        "id": "cWr73nhyIoyp"
      },
      "source": [
        "### 다른 사람 풀이(1) - dfs - 재귀함수\n",
        "- https://velog.io/@ju_h2/Python-%ED%94%84%EB%A1%9C%EA%B7%B8%EB%9E%98%EB%A8%B8%EC%8A%A4-level2-%ED%83%80%EA%B2%9F%EB%84%98%EB%B2%84-BFSDFS"
      ]
    },
    {
      "cell_type": "code",
      "execution_count": null,
      "metadata": {
        "id": "GWl1TDUhunja"
      },
      "outputs": [],
      "source": [
        "def solution(numbers, target):\n",
        "  answer = 0\n",
        "  n = len(numbers)\n",
        "  def dfs(idx, result):\n",
        "    if idx == n:\n",
        "      if result == target:\n",
        "        nonlocal answer\n",
        "        answer += 1\n",
        "      return\n",
        "    else:\n",
        "      dfs(idx+1, result + numbers[idx])\n",
        "      dfs(idx+1, result - numbers[idx])\n",
        "  dfs(0,0)\n",
        "  return answer\n",
        "solution([1,1,1,1,1],3)"
      ]
    },
    {
      "cell_type": "markdown",
      "metadata": {
        "id": "MqoZyaMMv8lr"
      },
      "source": [
        "- 함수 내의 함수를 생성하여 문제 해결\n",
        "- numbers의 첫번째 index부터 하나씩 꺼내서 +- 현재값을 함\n",
        "- answer의 경우 solution 함수에서 선언한 전역변수로, dfs 함수에서 값을 출력만 할 경우 그냥 사용해도 무방하지만, 값을 변경하기 위해선 해당 값이 local도 global도 아닌 상위 함수에 속한 변수라는 것을 선언해줘야 함\n",
        "---"
      ]
    },
    {
      "cell_type": "markdown",
      "metadata": {
        "id": "8u7PaF9twLWQ"
      },
      "source": [
        "### 다른 사람 풀이(2) - dfs - 재귀함수\n",
        "- https://eda-ai-lab.tistory.com/475"
      ]
    },
    {
      "cell_type": "code",
      "execution_count": null,
      "metadata": {
        "id": "c-7rQvlkwwUz"
      },
      "outputs": [],
      "source": [
        "def dfs(array, numbers,target, size):\n",
        "  answer = 0\n",
        "  if len(array) == size:\n",
        "    return 1 if sum(array) == target else 0\n",
        "  else:\n",
        "    A = numbers.pop(0)\n",
        "    for i in [1,-1]:\n",
        "      array.append(A * i)\n",
        "      answer += dfs(array, numbers, target, size)\n",
        "      array.pop()\n",
        "    numbers.append(A)\n",
        "    return answer       \n",
        "\n",
        "def solution(numbers, target):\n",
        "  answer = 0\n",
        "  answer +=dfs([numbers[0]], numbers[1:], target, len(numbers))\n",
        "  answer +=dfs([-numbers[0]], numbers[1:], target, len(numbers))\n",
        "  return answer\n",
        "\n",
        "solution([1,1,1,1,1],3)"
      ]
    },
    {
      "cell_type": "markdown",
      "metadata": {
        "id": "YiZNjkyo0Yf2"
      },
      "source": [
        "- DFS 함수와 SOLUTION 함수에서 각각 local answer를 선언하고, DFS에서 반환한 answer 값을 solutoin의 asnwer에 합침\n",
        "- 상기 내용을 제외하곤 풀이 (1)과 동일\n",
        "---"
      ]
    },
    {
      "cell_type": "markdown",
      "metadata": {
        "id": "fBP7GmbY2TJW"
      },
      "source": [
        "### 다른 사람 풀이(3) -dfs - 재귀함수"
      ]
    },
    {
      "cell_type": "code",
      "execution_count": null,
      "metadata": {
        "id": "EZVZkIrs2U1v"
      },
      "outputs": [],
      "source": [
        "answer = 0\n",
        "def dfs(idx,numbers, target, value):\n",
        "  global answer  \n",
        "  n = len(numbers)\n",
        "  if idx == n:\n",
        "    if value == target:\n",
        "      answer += 1\n",
        "    return\n",
        "  else:\n",
        "    dfs(idx+1, numbers, target, value + numbers[idx])\n",
        "    dfs(idx+1, numbers, target, value - numbers[idx])\n",
        "  \n",
        "def solution(numbers,target):\n",
        "  global answer\n",
        "  dfs(0,numbers, target, 0)  \n",
        "  return answer\n",
        "solution([1,1,1,1,1],3)"
      ]
    },
    {
      "cell_type": "markdown",
      "metadata": {
        "id": "IqGcMCRc4MB4"
      },
      "source": [
        "(1)과 같은 풀이"
      ]
    },
    {
      "cell_type": "markdown",
      "metadata": {
        "id": "l2JNp7RX8Opd"
      },
      "source": [
        "### 다른 사람 풀이(4)-dfs - 재귀함수"
      ]
    },
    {
      "cell_type": "code",
      "execution_count": null,
      "metadata": {
        "id": "A0ENAZyI8RTP"
      },
      "outputs": [],
      "source": [
        "def solution(numbers,target):\n",
        "  if not numbers and target == 0:\n",
        "    return 1\n",
        "  elif not numbers:\n",
        "    return 0\n",
        "  else:\n",
        "    return solution(numbers[1:], target + numbers[0])+ solution(numbers[1:], target - numbers[0])\n",
        "solution([1,1,1,1,1],3)"
      ]
    },
    {
      "cell_type": "markdown",
      "metadata": {
        "id": "2Z9C3dLo85GW"
      },
      "source": [
        "상기 코드를 보면 모든 dfs는 재귀함수를 사용"
      ]
    },
    {
      "cell_type": "markdown",
      "metadata": {
        "id": "ZsRT111XAPnv"
      },
      "source": [
        "### 다른 사람 풀이(5)-dfs - stack\n",
        "- https://velog.io/@ju_h2/Python-%ED%94%84%EB%A1%9C%EA%B7%B8%EB%9E%98%EB%A8%B8%EC%8A%A4-level2-%ED%83%80%EA%B2%9F%EB%84%98%EB%B2%84-BFSDFS"
      ]
    },
    {
      "cell_type": "code",
      "execution_count": null,
      "metadata": {
        "id": "eeUmDj7HAS1c"
      },
      "outputs": [],
      "source": [
        "def solution(numbers,target):\n",
        "  answer = 0\n",
        "  n = len(numbers)\n",
        "  stack = [[numbers[0],0],[-numbers[0],0]]\n",
        "  while stack:\n",
        "    cur_sum, idx = stack.pop()\n",
        "    idx += 1\n",
        "    if idx == n:\n",
        "      if cur_sum == target:\n",
        "        answer += 1\n",
        "    else:\n",
        "      stack.append([cur_sum + numbers[idx],idx])\n",
        "      stack.append([cur_sum - numbers[idx],idx])\n",
        "  return answer\n",
        "solution([1,1,1,1,1],3)\n"
      ]
    },
    {
      "cell_type": "markdown",
      "metadata": {
        "id": "ii3HDnIb9teQ"
      },
      "source": [
        "### 다른 사람 풀이(6)-bfs - queue\n",
        "- https://velog.io/@ju_h2/Python-%ED%94%84%EB%A1%9C%EA%B7%B8%EB%9E%98%EB%A8%B8%EC%8A%A4-level2-%ED%83%80%EA%B2%9F%EB%84%98%EB%B2%84-BFSDFS"
      ]
    },
    {
      "cell_type": "code",
      "execution_count": null,
      "metadata": {
        "id": "AuW0y4mt9zxD"
      },
      "outputs": [],
      "source": [
        "from collections import deque\n",
        "def solution(numbers,target):\n",
        "  answer = 0\n",
        "  queue = deque() #queue 사용을 위한 deque 함수 활용\n",
        "  n = len(numbers)\n",
        "  queue.append([numbers[0],0])\n",
        "  queue.append([-numbers[0],0])\n",
        "\n",
        "  while queue:\n",
        "    cur_sum, idx = queue.popleft() #루트 노트와 가까운 노드 순서대로 탐색\n",
        "    idx += 1\n",
        "    if idx == n: # 마지막 노드까지 도달한 경우\n",
        "      if cur_sum == target: #노드까지 도달한 결과가 target 값과 일치한 경우\n",
        "        answer += 1\n",
        "    else:\n",
        "      cur_num = numbers[idx]\n",
        "      queue.append([cur_sum + cur_num, idx])\n",
        "      queue.append([cur_sum - cur_num, idx])\n",
        "  return answer\n",
        "solution([1,1,1,1,1],3)"
      ]
    },
    {
      "cell_type": "markdown",
      "metadata": {
        "id": "i_kA1vGC_xex"
      },
      "source": [
        "dfs - stack과 bfs -queue의 차이는 결국 루트 노드에 가까운 노드부터 탐색하는지, 아니면 다음 분기로 넘어가기 전 인접 노트의 탐색을 완료하는지에 대한 차이"
      ]
    },
    {
      "cell_type": "markdown",
      "metadata": {
        "id": "qrhAMkGyBamS"
      },
      "source": [
        "## 수식 최대화(재귀함수로 해결)"
      ]
    },
    {
      "cell_type": "code",
      "execution_count": null,
      "metadata": {
        "id": "mD4SqoHmcwWs"
      },
      "outputs": [],
      "source": [
        "def calc(operator, seq, exp):\n",
        "    if exp.isdigit():\n",
        "        return str(exp)\n",
        "    else:\n",
        "        if operator[seq]==\"*\":\n",
        "            splitted = exp.split(\"*\")\n",
        "            tmp = []\n",
        "            for s in splitted:\n",
        "                tmp.append(calc(operator,seq+1,s))\n",
        "            return str(eval(\"*\".join(tmp)))\n",
        "        \n",
        "        elif operator[seq]==\"-\":\n",
        "            splitted = exp.split(\"-\")\n",
        "            tmp = []\n",
        "            for s in splitted:\n",
        "                tmp.append(calc(operator,seq+1,s))\n",
        "            return str(eval(\"-\".join(tmp)))\n",
        "        \n",
        "        elif operator[seq]==\"+\":\n",
        "            splitted = exp.split(\"+\")\n",
        "            tmp = []\n",
        "            for s in splitted:\n",
        "                tmp.append(calc(operator,seq+1,s))\n",
        "            return str(eval(\"+\".join(tmp)))\n",
        "        \n",
        "def solution(expression):\n",
        "    operators = [('*', '+', '-'),\n",
        "                  ('*', '-', '+'),\n",
        "                  ('+', '*', '-'),\n",
        "                  ('+', '-', '*'),\n",
        "                  ('-', '*', '+'),\n",
        "                  ('-', '+', '*')]   \n",
        "    \n",
        "    result = []\n",
        "    for operator in operators:\n",
        "        result.append(abs(int(calc(operator, 0, expression))))\n",
        "    return max(result)\n",
        "\n",
        "expr = \"100-200*300-500+20\"\n",
        "solution(expr)\n"
      ]
    },
    {
      "cell_type": "code",
      "execution_count": null,
      "metadata": {
        "id": "GN7ez5DAiWw6"
      },
      "outputs": [],
      "source": [
        "re.split('(\\D)',expr)\n",
        "# expr.split(\"(\\D\")"
      ]
    },
    {
      "cell_type": "code",
      "execution_count": null,
      "metadata": {
        "id": "_pVuvtpOq14B"
      },
      "outputs": [],
      "source": [
        "import re\n",
        "from itertools import permutations\n",
        "\n",
        "def solution(expression):\n",
        "  operations = list(permutations([\"*\",\"+\",\"-\"],3))\n",
        "  expr = re.split(\"(\\D)\", expression) # \\D : 숫자가 아닌 것들, 즉 숫자가 아닌것들 기준으로 분류\n",
        "    \n",
        "  res = []\n",
        "  for operation in operations:\n",
        "    tmp_expr = expr[:]\n",
        "    for op in operation:\n",
        "      while op in tmp_expr:\n",
        "        op_idx = tmp_expr.index(op)\n",
        "        tmp_expr[op_idx-1] = str(eval(tmp_expr[op_idx-1]+tmp_expr[op_idx]+tmp_expr[op_idx+1]))\n",
        "        tmp_expr = tmp_expr[:op_idx] + tmp_expr[op_idx+2:]\n",
        "    res.append(tmp_expr[-1])\n",
        "    \n",
        "    return max(map(lambda x : abs(int(x)), res))\n",
        "\n",
        "expr = \"100-200*300-500+20\"\n",
        "solution(expr)"
      ]
    },
    {
      "cell_type": "markdown",
      "metadata": {
        "id": "NX7ayFr24blG"
      },
      "source": [
        "### 다른 사람 풀이(1) - 연산자 우선순위에 따른 괄호"
      ]
    },
    {
      "cell_type": "code",
      "execution_count": null,
      "metadata": {
        "id": "kdAqJjo9zuvw"
      },
      "outputs": [],
      "source": [
        "from itertools import permutations\n",
        "def solution(expression):\n",
        "    answer = []\n",
        "    operations = list(permutations([\"*\",\"+\",\"-\"],3))\n",
        "    for op in operations:\n",
        "        a = op[0]\n",
        "        b = op[1]\n",
        "        tmp_list = []\n",
        "        for ex in expression.split(a):\n",
        "            tmp = [f\"({i})\"for i in ex.split(b)]\n",
        "            tmp_list.append(f'({b.join(tmp)})')\n",
        "        answer.append(abs(eval(a.join(tmp_list))))\n",
        "    return max(answer)\n",
        "\n",
        "expr = \"100-200*300-500+20\"\n",
        "solution(expr)"
      ]
    },
    {
      "cell_type": "markdown",
      "metadata": {
        "id": "jN5PVDRpyYHc"
      },
      "source": [
        "### 다른 사람 풀이(2) - deque"
      ]
    },
    {
      "cell_type": "code",
      "execution_count": null,
      "metadata": {
        "id": "zMMKNm0Y7Hul"
      },
      "outputs": [],
      "source": [
        "from itertools import permutations\n",
        "from collections import deque\n",
        "import re\n",
        "def solution(expression):\n",
        "    answer = 0\n",
        "    ops = set(re.findall(\"\\D\", expression))\n",
        "    exp = deque(re.split(\"(\\D)\",expression))\n",
        "\n",
        "    for priority in permutations(ops, len(ops)):\n",
        "        stack = exp.copy()\n",
        "        for op in priority:\n",
        "            i = 0\n",
        "            length = len(stack)\n",
        "            while i < length:\n",
        "                if stack[0] != op:\n",
        "                    i += 1\n",
        "                    stack.append(stack.popleft())\n",
        "                    continue\n",
        "                num1 = stack.pop()\n",
        "                op_ = stack.popleft()\n",
        "                num2 = stack.popleft()\n",
        "                stack.append(str(eval(num1 + op_ + num2)))\n",
        "                i += 2\n",
        "                if len(stack) == 1:\n",
        "                    answer = max(abs(int(stack[-1])), answer)\n",
        "                    break\n",
        "\n",
        "    return answer\n",
        "expr = \"100-200*300-500+20\"\n",
        "solution(expr)"
      ]
    },
    {
      "cell_type": "markdown",
      "metadata": {
        "id": "8ONUDDvXJrHo"
      },
      "source": [
        "## 1차 뉴스 클러스터링"
      ]
    },
    {
      "cell_type": "code",
      "execution_count": null,
      "metadata": {
        "id": "pwZFp-cLJviU"
      },
      "outputs": [],
      "source": [
        "from collections import Counter\n",
        "import re\n",
        "\n",
        "def solution(str1, str2):\n",
        "\n",
        "    s1 = [s for s in [(str1[i] + str1[i+1]).lower() for i in range(len(str1)-1)] if s.isalpha()]\n",
        "    s2 = [s for s in [(str2[i] + str2[i+1]).lower() for i in range(len(str2)-1)] if s.isalpha()]\n",
        "    \n",
        "    if len(s1) + len(s2) == 0:\n",
        "        return 65536\n",
        "\n",
        "    inter = list((Counter(s1) & Counter(s2)).elements())\n",
        "    union = list((Counter(s1) | Counter(s2)).elements())\n",
        "\n",
        "    return int(len(inter) / len(union) *65536)\n",
        "\n",
        "s1_list = ['FRANCE','handshake','aa1+aa2','E=M*C^2'\t]\n",
        "s2_list = ['french','shake hands','AAAA12','e=m*c^2']\n",
        "\n",
        "for a,b in zip(s1_list,s2_list):\n",
        "  print(f\"[{a} || {b}]\",solution(a,b))"
      ]
    },
    {
      "cell_type": "markdown",
      "metadata": {
        "id": "czi4eign4ZTP"
      },
      "source": [
        "## 게임 맵 최단 거리"
      ]
    },
    {
      "cell_type": "code",
      "execution_count": null,
      "metadata": {
        "id": "ja_1ZLIT50rz"
      },
      "outputs": [],
      "source": [
        "from collections import deque\n",
        "\n",
        "def find_path(maps, p):\n",
        "    n = len(maps)\n",
        "    m = len(maps[0])\n",
        "\n",
        "    paths = []\n",
        "    for q in [[1,0],[0,1],[-1,0],[0,-1]]: #down, right, top, left\n",
        "        if 0 <= p[0] + q[0] < n and 0 <= p[1] + q[1] < m:\n",
        "            if maps[p[0]+q[0]][p[1] + q[1]] == 1:\n",
        "                paths.append((p[0]+q[0], p[1] + q[1]))\n",
        "\n",
        "    return paths\n",
        "\n",
        "def solution(maps):\n",
        "    n = len(maps)\n",
        "    m = len(maps[0])\n",
        "    start = (0,0) #start point\n",
        "    end = (n-1,m-1) #end point\n",
        "    maps[0][0] == 0 # start point는 한 번 지나갔으므로 삭제\n",
        "    location = [[start,1]] #[path, count]\n",
        "    q = deque(location)\n",
        "\n",
        "    while q:\n",
        "        current,cnt = q.popleft()\n",
        "        if current == end:\n",
        "            return cnt\n",
        "        \n",
        "        paths = find_path(maps, current)\n",
        "        for path in paths:\n",
        "            q.append([path, cnt+1])\n",
        "            maps[path[0]][path[1]] = 0\n",
        "    \n",
        "    return -1\n",
        "maps_list = [[[1,0,1,1,1],[1,0,1,0,1],[1,0,1,1,1],[1,1,1,0,1],[0,0,0,0,1]], [[1,0,1,1,1],[1,0,1,0,1],[1,0,1,1,1],[1,1,1,0,0],[0,0,0,0,1]]]\n",
        "\n",
        "for maps in maps_list:\n",
        "  print(solution(maps_list[0]))"
      ]
    },
    {
      "cell_type": "markdown",
      "metadata": {
        "id": "CsOEljVPbvm8"
      },
      "source": [
        "## 괄호 변환"
      ]
    },
    {
      "cell_type": "code",
      "execution_count": null,
      "metadata": {
        "id": "SUGXO8ADgV7m"
      },
      "outputs": [],
      "source": [
        "from collections import Counter\n",
        "from collections import deque\n",
        "\n",
        "def solution(p):\n",
        "    if p == '':\n",
        "        return \"\"\n",
        "    \n",
        "    #w의 부분 균형잡힌 문자열 u와 나머지 v 분리\n",
        "    u,v = (\"\", p)\n",
        "    for i in range(0,len(p)+1,2):\n",
        "        try:\n",
        "\n",
        "          l,r = Counter(p[:i]).values()\n",
        "          \n",
        "          if l==r:\n",
        "              u, v = (p[:i], p[i:])\n",
        "              break\n",
        "        except:\n",
        "          pass\n",
        "    #u가 올바른 문자열인지 확인\n",
        "    u_ = deque(list(u))\n",
        "    stack = []\n",
        "    while u_:\n",
        "        stack.append(u_.popleft())\n",
        "        if len(stack) >= 2:\n",
        "            if stack[-2] + stack[-1] == \"()\":\n",
        "                stack.pop()\n",
        "                stack.pop()\n",
        "    # print(\"u: \", u,\"v: \",v, \"not stack: \",not stack)\n",
        "    #u가 균형잡힌 올바른 문자열일 경우\n",
        "    if not stack:\n",
        "        return u +solution(v)\n",
        "    else: #u가 균형잡혔지만 올바른 문자열이 아닌 경우\n",
        "        return \"(\" + solution(v) + \")\" + \"\".join(reversed(u[1:-1]))\n",
        "\n",
        "solution(\"()))((()\")\n",
        "# solution(\"))((()\")\n",
        "# solution(\"()\")"
      ]
    },
    {
      "cell_type": "code",
      "execution_count": null,
      "metadata": {
        "id": "UaMHkRIIhE9t"
      },
      "outputs": [],
      "source": [
        "from collections import Counter\n",
        "from collections import deque\n",
        "\n",
        "def solution(p):\n",
        "    if p == '':\n",
        "        return \"\"\n",
        "    \n",
        "    #w의 부분 균형잡힌 문자열 u와 나머지 v 분리\n",
        "    u,v = (\"\", p)\n",
        "    for i in range(0,len(p)+1,2):\n",
        "        try:\n",
        "            l,r = Counter(p[:i]).values()         \n",
        "            if l==r:\n",
        "                u, v = (p[:i], p[i:])\n",
        "                break\n",
        "        except:\n",
        "              pass\n",
        "            \n",
        "    #u가 올바른 문자열인지 확인\n",
        "    u_ = deque(list(u))\n",
        "    stack = []\n",
        "    while u_:\n",
        "        stack.append(u_.popleft())\n",
        "        if len(stack) >= 2:\n",
        "            if stack[-2] + stack[-1] == \"()\":\n",
        "                stack.pop()\n",
        "                stack.pop()\n",
        "    # print(\"u: \", u,\"v: \",v, \"not stack: \",not stack)\n",
        "    #u가 균형잡힌 올바른 문자열일 경우\n",
        "    if not stack:\n",
        "        return u +solution(v)\n",
        "    else: #u가 균형잡혔지만 올바른 문자열이 아닌 경우\n",
        "        u = list(u)\n",
        "        u = \"\".join([\"(\" if u[i]==\")\" else \")\"for i in range(1,len(u)-1)])\n",
        "        return \"(\" + solution(v) + \")\" + u\n",
        "\n",
        "solution(\"()))((()\")"
      ]
    },
    {
      "cell_type": "code",
      "execution_count": null,
      "metadata": {
        "id": "aOlZSIhSLWDA"
      },
      "outputs": [],
      "source": [
        "from collections import Counter\n",
        "\n",
        "def solution(p):\n",
        "    if len(p) == 2:\n",
        "        return \"()\"\n",
        "    if len(p) == 0:\n",
        "        return ''\n",
        "    \n",
        "    is_balance = True\n",
        "    check = 0\n",
        "    for i in range(1,len(p)+1):\n",
        "        check += 1 if p[i-1] ==\"(\" else -1\n",
        "        if check < 0: is_balance = False\n",
        "        if i%2 == 0:\n",
        "            try:\n",
        "                l,r = Counter(p[:i]).values()\n",
        "                if l==r:\n",
        "                    u,v = p[:i],p[i:]\n",
        "                    break\n",
        "            except:\n",
        "                pass\n",
        "\n",
        "    if is_balance:\n",
        "        return u + solution(v)\n",
        "    else:\n",
        "        new_u = ''.join([\"(\" if s == \")\"  else \")\" for s in u[1:-1]])\n",
        "        return \"(\" + solution(v) + \")\" + new_u"
      ]
    },
    {
      "cell_type": "code",
      "execution_count": null,
      "metadata": {
        "id": "YCnrHW8rMCBb"
      },
      "outputs": [],
      "source": [
        "from collections import Counter\n",
        "\n",
        "def solution(p):\n",
        "    if p in [\"()\",\")(\"]: # 균형잡힌 괄호의 길이가 2인 경우 무조건 ()로 출력됨\n",
        "        return \"()\"\n",
        "    if p == '': # 괄호 길이가 0인 경우 '' return\n",
        "        return ''\n",
        "    \n",
        "    is_balance = True\n",
        "    check = 0\n",
        "    for i in range(1,len(p)+1):\n",
        "        check += 1 if p[i-1] ==\"(\" else -1\n",
        "        if check < 0: is_balance = False #한 번이라도 \"(\"보다 \")\"가 먼저 나올 경우 올바르지 못한 괄호로 판단\n",
        "        if check == 0:\n",
        "            u,v = p[:i],p[i:]\n",
        "            if is_balance:\n",
        "                return u + solution(v)\n",
        "            else:\n",
        "                new_u = ''.join([\"(\" if s == \")\"  else \")\" for s in u[1:-1]])\n",
        "                return \"(\" + solution(v) + \")\" + new_u"
      ]
    },
    {
      "cell_type": "markdown",
      "metadata": {
        "id": "JrAShL8irLzF"
      },
      "source": [
        "### 다른 사람 풀이(1)"
      ]
    },
    {
      "cell_type": "code",
      "execution_count": null,
      "metadata": {
        "id": "SzF0RRW3rwuj"
      },
      "outputs": [],
      "source": [
        "def solution(p):\n",
        "  if p == '' : return ''\n",
        "\n",
        "  cnt = 0\n",
        "  right = True\n",
        "  for i in range(len(p)):\n",
        "    if p[i] == \"(\":\n",
        "      cnt += 1\n",
        "    else :\n",
        "      cnt -= 1\n",
        "    if cnt < 0:\n",
        "      right = False\n",
        "    if cnt == 0:\n",
        "      if right:\n",
        "        return p[:i+1] + solution(p[i+1:])\n",
        "      else:\n",
        "        return \"(\" + solution(p[i+1:]) + \")\" + \"\".join([\"(\" if x == \")\" else \")\" for x in p[1:i]])\n",
        "      \n",
        "solution(\"()))((()\")"
      ]
    },
    {
      "cell_type": "code",
      "execution_count": null,
      "metadata": {
        "id": "U4CD9IFJxVgU"
      },
      "outputs": [],
      "source": [
        "def solution(p):\n",
        "    if p=='': return p\n",
        "    r=True; c=0\n",
        "    for i in range(len(p)):\n",
        "        if p[i]=='(': c-=1\n",
        "        else: c+=1\n",
        "        if c>0: r=False\n",
        "        if c==0:\n",
        "            \n",
        "            if r:\n",
        "                return p[:i+1]+solution(p[i+1:])\n",
        "            else:\n",
        "                return '('+solution(p[i+1:])+')'+''.join(list(map(lambda x:'(' if x==')' else ')',p[1:i]) ))\n",
        "\n",
        "solution(\"()))((()\")"
      ]
    },
    {
      "cell_type": "markdown",
      "metadata": {
        "id": "GcVZlL6R4DuC"
      },
      "source": [
        "## 소수 찾기(완전탐색)"
      ]
    },
    {
      "cell_type": "code",
      "execution_count": null,
      "metadata": {
        "id": "4LXvcH_U4F3X"
      },
      "outputs": [],
      "source": [
        "from itertools import permutations\n",
        "\n",
        "def solution(numbers):\n",
        "    num_lists = [list(permutations(numbers,i)) for i in range(1,len(numbers)+1)]\n",
        "    lists = set([int(\"\".join(b)) for a in num_lists for b in a if int(\"\".join(b)) > 1])\n",
        "    \n",
        "    answer = len(lists)\n",
        "    for num in lists:\n",
        "        for i in range(2,int(num**0.5)+1):\n",
        "            if num % i == 0:\n",
        "                answer -=1\n",
        "                break\n",
        "\n",
        "    return answer\n",
        "numbers = [\"17\",\"011\"]\n",
        "for num in numbers:\n",
        "  print(solution(num))"
      ]
    },
    {
      "cell_type": "code",
      "execution_count": null,
      "metadata": {
        "id": "wuKNKOX_ivSn"
      },
      "outputs": [],
      "source": [
        "from itertools import permutations\n",
        "def isprime(n):\n",
        "    for i in range(2, int(n**0.5)+1):\n",
        "        if n % i == 0: return False\n",
        "    return True\n",
        "\n",
        "def solution(numbers):\n",
        "    comb_list = set([int(''.join(c)) for comb_num in range(1,len(numbers)+1) for c in permutations(numbers, comb_num) if int(''.join(c)) > 1])\n",
        "    cnt = 0\n",
        "    for num in comb_list:\n",
        "        if isprime(num):\n",
        "            cnt+=1\n",
        "    return cnt"
      ]
    },
    {
      "cell_type": "code",
      "execution_count": null,
      "metadata": {
        "id": "j1taijgnJ22_"
      },
      "outputs": [],
      "source": [
        "def is_prime(x):\n",
        "    if x in[0,1]:\n",
        "        return False\n",
        "    \n",
        "    for i in range(2, int(x**0.5)+1):\n",
        "        if x % i == 0:\n",
        "            return False\n",
        "    else:\n",
        "        return True\n",
        "\n",
        "def make_combinations(str1, str2):\n",
        "    if str2 == '':\n",
        "        return ''\n",
        "    \n",
        "    PrimeSet = set()\n",
        "    for i in range(len(str2)):\n",
        "        if is_prime(int(str1 + str2[i])):\n",
        "            PrimeSet.add(int(str1 + str2[i]))\n",
        "        \n",
        "        # PrimeSet.update(make_combinations(str1 + str2[i], str2[:i] + str2[i+1:]))\n",
        "        PrimeSet |= make_combinations(str1 + str2[i], str2[:i] + str2[i+1:])\n",
        "    return PrimeSet\n",
        "\n",
        "def solution(numbers):    \n",
        "    return len(make_combinations('',numbers))\n",
        "\n",
        "numbers = [\"17\",\"011\"]\n",
        "for num in numbers:\n",
        "  print(solution(num))"
      ]
    },
    {
      "cell_type": "markdown",
      "metadata": {
        "id": "rcRzP_tlN_7G"
      },
      "source": [
        "- 새로 작성한 코드로, solution, make_combinations, is_prime 세 개의 함수로 구성\n",
        "- 입력한 값은 make_combinations의 str2 입력변수로 사용되고, str1에는 빈 스트링을 입력\n",
        "- str2 개수만큼 for문을 돌리는데, str2의 한 값들을 str1과 합쳐서 소수인지를 확인\n",
        "- 확인 후, 확인이 끝난 str2를 str1과 합치고, 나머지 str2를 가지고 다시 make_combinations를 돌림(recursive)\n",
        "- 모든 str2가 str1에 넘어갔을 경우 PrimeSet 반환\n",
        "- 반환된 값의 길이를 계산하여 최종 return 으로 반환\n",
        "\n",
        "---\n",
        "- tip) https://stackoverflow.com/questions/3929278/what-does-ior-do-in-python\n",
        "- |= : set의 update, | : merge\n"
      ]
    },
    {
      "cell_type": "markdown",
      "metadata": {
        "id": "A4GK4hw6B3fj"
      },
      "source": [
        "### 다른 사람 풀이(1)\n",
        "- 문제에 적합한 combinations 함수를 직접 구현"
      ]
    },
    {
      "cell_type": "code",
      "execution_count": null,
      "metadata": {
        "id": "rtjYDa54E-WE"
      },
      "outputs": [],
      "source": [
        "# primeSet = set()\n",
        "def isPrime(number):\n",
        "    if number in (0, 1):\n",
        "        return False\n",
        "    for i in range(2, number):\n",
        "        if number % i == 0:\n",
        "            return False\n",
        "\n",
        "    return True\n",
        "\n",
        "\n",
        "def makeCombinations(str1, str2):\n",
        "    if str1 != \"\":\n",
        "        if isPrime(int(str1)):\n",
        "            primeSet.add(int(str1))\n",
        "\n",
        "    for i in range(len(str2)):\n",
        "        makeCombinations(str1 + str2[i], str2[:i] + str2[i + 1:])\n",
        "\n",
        "def solution(numbers):\n",
        "    makeCombinations(\"\", numbers)\n",
        "    answer = len(primeSet)\n",
        "\n",
        "    return answer, primeSet\n",
        "numbers = [\"17\",\"011\"]\n",
        "for num in numbers:\n",
        "  primeSet = set()\n",
        "  print(solution(num))"
      ]
    },
    {
      "cell_type": "markdown",
      "metadata": {
        "id": "qTw_5qIhLsAA"
      },
      "source": [
        "### 다른 사람 풀이(2)\n",
        "---\n",
        "- 주어진 numbers를 1개부터 최대 개수까지 모든 값을 set에 포함시킨 후\n",
        "- 소수가 아닌 값을 제거\n",
        "  - 1. 0~2 제거\n",
        "  - 2. set()에서 최대 값을 기준으로 루트값의 +1까지의 i값으로 모든 for문을 돌려서 range(i*2, max(a)+1, i)에 포함되는 모든 값을 제거\n",
        "    - ex) i=2이고, max(a) = 100일 때, 4부터 100까지 2 간격으로 모두 제거"
      ]
    },
    {
      "cell_type": "code",
      "execution_count": null,
      "metadata": {
        "id": "KqEkLxEkKnKM"
      },
      "outputs": [],
      "source": [
        "from itertools import permutations\n",
        "def solution(n):\n",
        "    a = set()\n",
        "    for i in range(len(n)):\n",
        "        a |= set(map(int, map(\"\".join, permutations(list(n), i + 1))))\n",
        "    # print(a)\n",
        "    a -= set(range(0, 2))\n",
        "    for i in range(2, int(max(a) ** 0.5) + 1):\n",
        "        a -= set(range(i * 2, max(a) + 1, i))\n",
        "        # print(i, a, list(range(i*2,max(a)+1,i)))\n",
        "    print(a)\n",
        "    return len(a)\n",
        "\n",
        "# numbers = [\"17\",\"011\"]\n",
        "numbers = [\"015\"]\n",
        "for num in numbers:\n",
        "  primeSet = set()\n",
        "  print(solution(num))"
      ]
    },
    {
      "cell_type": "markdown",
      "metadata": {
        "id": "t-uUjwAp5m6u"
      },
      "source": [
        "## 프린터-스택/큐"
      ]
    },
    {
      "cell_type": "code",
      "execution_count": null,
      "metadata": {
        "id": "P0WYh8ag5pSq"
      },
      "outputs": [],
      "source": [
        "from collections import deque, Counter\n",
        "def solution(priorities, location):\n",
        "    priority = deque([(p,loc) for loc , p in enumerate(priorities)])\n",
        "\n",
        "    priority_cnt = sorted(Counter(priorities).items(), key = lambda x : x[0])\n",
        "    # print(priority)\n",
        "    print(priority_cnt)\n",
        "    cnt = 0\n",
        "    while priority_cnt:\n",
        "        max_p, num = priority_cnt.pop()\n",
        "        while num == 0:\n",
        "            p,loc = priority.popleft()\n",
        "            if p == max_p:\n",
        "                num -= 1\n",
        "                cnt += 1\n",
        "                if location == loc:\n",
        "                    return cnt\n",
        "            else:\n",
        "                priority.append((p,loc))\n",
        "            print(max_p,num, priority)\n",
        "\n",
        "    return \"Test\"\n",
        "\n",
        "priorities = [2, 1, 3, 2]\n",
        "location = 2\n",
        "solution(priorities, location)"
      ]
    },
    {
      "cell_type": "code",
      "execution_count": null,
      "metadata": {
        "id": "lWggTDr651eQ"
      },
      "outputs": [],
      "source": [
        "from collections import deque\n",
        "\n",
        "priorities = [2, 1, 3, 2]\n",
        "location = 2\n",
        "\n",
        "q = deque(priorities)\n",
        "\n",
        "cnt = 0\n",
        "while q:\n",
        "  print(q)\n",
        "  tmp = q.popleft()\n",
        "  if not q:\n",
        "    break\n",
        "  cnt += 1\n",
        "  if tmp < max(q):\n",
        "    q.append(tmp)\n",
        "    location = (location - 1) % len(priorities)\n",
        "\n",
        "  if location == 0 & q[0] == max(q):\n",
        "    break\n",
        "print(cnt)\n",
        "  \n",
        "# priorities"
      ]
    },
    {
      "cell_type": "code",
      "execution_count": null,
      "metadata": {
        "id": "Q-tS-7lu_Rm6"
      },
      "outputs": [],
      "source": [
        "from collections import deque\n",
        "def solution(priorities, location):\n",
        "    answer = 0\n",
        "    q = deque(priorities)\n",
        "    while q:\n",
        "        max_q = max(q)\n",
        "        tmp = q.popleft()\n",
        "        if tmp == max_q: # 출력 대상의 중요도가 가장 높은 경우\n",
        "            answer += 1\n",
        "            if location == 0:\n",
        "                return answer\n",
        "            location = (location - 1) % len(q)\n",
        "        else:\n",
        "            q.append(tmp)\n",
        "            location = (location - 1) % len(q)\n",
        "        \n",
        "    \n",
        "priorities = [[2, 1, 3, 2] , [1, 1, 9, 1, 1, 1]]\n",
        "location = [2,0]\n",
        "\n",
        "for p,l in zip(priorities, location):\n",
        "    print(solution(p, l))"
      ]
    },
    {
      "cell_type": "markdown",
      "metadata": {
        "id": "veAS2S2yHmC8"
      },
      "source": [
        "---\n",
        "### 다른 사람 풀이(1)\n",
        "- 내가 작성한 코드와 달리 입력한 우선순위를 enumerate를 통해 index를 지정해주고, location과 index 위치를 비교하여 결과를 출력\n",
        "- 또한 max값을 미리 구하지 않고, any()함수를 이용하여 pop한 값이 현재 deque의 어느 하나의 값보다도 작으면 작업물이 다시 대기목록에 반영되게 함"
      ]
    },
    {
      "cell_type": "code",
      "execution_count": null,
      "metadata": {
        "id": "n33jJUDnHlej"
      },
      "outputs": [],
      "source": [
        "from collections import deque\n",
        "def solution(priorities, location):\n",
        "    answer = 0\n",
        "    q = deque([(i,v)for i,v in enumerate(priorities)])\n",
        "    \n",
        "    while q:\n",
        "        loc, task = q.popleft()\n",
        "        if any(task < v for i,v in q):\n",
        "            q.append((loc,task))\n",
        "            \n",
        "        else:\n",
        "            answer += 1\n",
        "            if loc == location:\n",
        "                return answer\n",
        "        \n"
      ]
    },
    {
      "cell_type": "markdown",
      "metadata": {
        "id": "DYUoOPi_KcoW"
      },
      "source": [
        "## 가장 큰 수 - 정렬"
      ]
    },
    {
      "cell_type": "code",
      "execution_count": null,
      "metadata": {
        "id": "zIYdo91HK-5A"
      },
      "outputs": [],
      "source": [
        "from itertools import permutations\n",
        "def solution(numbers):\n",
        "    t = list(set(permutations(numbers, len(numbers))))\n",
        "    return str(max([int(\"\".join([str(v)for v in s])) for s in t]))\n",
        "    \n",
        "    # return str(tmp)\n",
        "solution([3, 30, 34, 5, 9])"
      ]
    },
    {
      "cell_type": "markdown",
      "metadata": {
        "id": "oItt9M7TMgWW"
      },
      "source": [
        "- 결과는 나오지만 런타임 에러..\n",
        "- permutation의 시간복잡도는 n!(매우 큼)\n",
        "---\n",
        "- 하기 방식은 문자열로 변환한 숫자의 아스키코드 값을 비교\n",
        "- string에서 대소비교는 숫자와 달리 아스키코드 값을 비교하고\n",
        "- string type의 숫자는 앞자리수부터 비교한다\n",
        "- ex) 3, 30의 경우 해당 문제에선 303 보단 330이 더 크다\n",
        "- 이때 첫 자리수는 같으므로 두 번째 자리수를 비교하는데 3의 경우 두 번째 자리수가 없으므로 30이 더 크다고 나온다\n",
        "- 이를 방지하기 위해, 해당 문제에서 가장긴 숫자의 자리수만큼 수를 만들어주고 값을 비교\n",
        "- 마지막으로, 입력값이 모두 0인 경우 0으로 반환"
      ]
    },
    {
      "cell_type": "code",
      "execution_count": null,
      "metadata": {
        "id": "0y_yxHTPT42A"
      },
      "outputs": [],
      "source": [
        "def solution(numbers):\n",
        "    numbers = list(map(str, numbers))\n",
        "    numbers.sort(key = lambda x : x*4, reverse = True)\n",
        "    return \"\".join(numbers) if not int(\"\".join(numbers)) == 0 else \"0\"\n",
        "\n",
        "numbers = [3, 30, 34, 5, 9]\n",
        "solution(numbers)"
      ]
    },
    {
      "cell_type": "code",
      "execution_count": null,
      "metadata": {
        "id": "SLoHnJnEeEtA"
      },
      "outputs": [],
      "source": [
        "from itertools import combinations\n",
        "from collections import Counter\n",
        "# [\"\".join(c) for c in list(combinations(list('ABCDE'),4))]\n",
        "def\n",
        "orders = [\"ABCFG\", \"AC\", \"CDE\", \"ACDE\", \"BCFG\", \"ACDEH\"]\n",
        "course = [2,3,4]\n",
        "\n",
        "for i in course:\n",
        "  tmp = []\n",
        "  for order in orders:\n",
        "    tmp.extend([\"\".join(c) for c in list(combinations(list(order),i))])\n",
        "  print(max(Counter(tmp),key = Counter(tmp).values()))"
      ]
    },
    {
      "cell_type": "code",
      "execution_count": null,
      "metadata": {
        "id": "wG5WAdQjjYlO"
      },
      "outputs": [],
      "source": [
        "from itertools import combinations\n",
        "from collections import Counter\n",
        "def solution(orders, course):\n",
        "    answer = []\n",
        "    \n",
        "    for c in course:\n",
        "        tmp = []\n",
        "        for order in orders:\n",
        "            tmp +=[\"\".join(cour) for cour in list(combinations(sorted(order),c))]\n",
        "        cnt_course = Counter(tmp)\n",
        "        try:\n",
        "            max_course = max(cnt_course.values())\n",
        "            if max_course > 1:\n",
        "                answer += [course for course, cnt in cnt_course.items() if cnt == max_course]\n",
        "        except:\n",
        "            break\n",
        "\n",
        "    return sorted(answer)\n",
        "\n",
        "orders = [[\"ABCFG\", \"AC\", \"CDE\", \"ACDE\", \"BCFG\", \"ACDEH\"], [\"ABCDE\", \"AB\", \"CD\", \"ADE\", \"XYZ\", \"XYZ\", \"ACD\"],[\"XYZ\", \"XWY\", \"WXA\"]]\n",
        "course = [[2,3,4], [2,3,5], [2,3,4]]\n",
        "for o,c in zip(orders,course):\n",
        "    print(solution(o,c))"
      ]
    },
    {
      "cell_type": "markdown",
      "metadata": {
        "id": "E89T7jtupYLD"
      },
      "source": [
        "---\n",
        "### 다른 사람 풀이\n",
        "- 풀이는 전반적으로 비슷하지만 most_common()을 사용\n",
        "- most_common 시 dict(a:1, b:2)이 list[(a,1),(b,2)]로 변하고, 여기서 가장 첫번째 값이 최대 값이므로 이 값을 사용하여 결과에 값 저장"
      ]
    },
    {
      "cell_type": "code",
      "execution_count": null,
      "metadata": {
        "id": "g0SXAA9IldnQ"
      },
      "outputs": [],
      "source": [
        "import collections\n",
        "import itertools\n",
        "\n",
        "def solution(orders, course):\n",
        "    result = []\n",
        "\n",
        "    for course_size in course:\n",
        "        order_combinations = []\n",
        "        for order in orders:\n",
        "            order_combinations += itertools.combinations(sorted(order), course_size)\n",
        "\n",
        "        most_ordered = collections.Counter(order_combinations).most_common()\n",
        "        result += [ k for k, v in most_ordered if v > 1 and v == most_ordered[0][1] ]\n",
        "\n",
        "    return [ ''.join(v) for v in sorted(result) ]\n",
        "\n",
        "orders = [[\"ABCFG\", \"AC\", \"CDE\", \"ACDE\", \"BCFG\", \"ACDEH\"], [\"ABCDE\", \"AB\", \"CD\", \"ADE\", \"XYZ\", \"XYZ\", \"ACD\"],[\"XYZ\", \"XWY\", \"WXA\"]]\n",
        "course = [[2,3,4], [2,3,5], [2,3,4]]\n",
        "for o,c in zip(orders,course):\n",
        "    print(solution(o,c))"
      ]
    },
    {
      "cell_type": "markdown",
      "metadata": {
        "id": "DqZB5Ns9HPgc"
      },
      "source": [
        "## 조이스틱 - 탐욕법(greedy) X => 완전탐색\n",
        "---\n",
        "해당 문제 설명에서는 변경할 알파벳의 위치를 우측으로 이동 불가, 좌측으론 이동 가능(우측 끝으로 돌아옴)으로 그리디로 볼 수 있지만, 실제 문제에선 좌우측 끝을 둘 다 이동 가능하다. 이는 문제 오류로...!!   \n",
        "**따라서 이 문제는 그리디가 아닌 완전탐색**\n",
        "---\n",
        "- 완전탐색 : 모든 경우의 수를 확인해야 함\n",
        "- 그리디 : 탐욕적인 선택만 하면 되는 알고리즘으로, 최적 부분 조건과 탐욕적인 속성을 만족해야 함. 즉 주어진 조건에서 만족하는 경우의 수에서 찾기\n"
      ]
    },
    {
      "cell_type": "code",
      "execution_count": null,
      "metadata": {
        "id": "tSymKdPsuDl9"
      },
      "outputs": [],
      "source": [
        "from collections import deque\n",
        "def solution(name):\n",
        "    #조이스틱 좌우 이동 횟수(글자 위치로 커서 이동)\n",
        "    needs = deque([i for i,n in enumerate(name) if n != \"A\" and i > 0])\n",
        "\n",
        "    move_lr = 0 #누적 이동 횟수\n",
        "    cur = 0 #커서 위치\n",
        "\n",
        "    for _ in range(len(needs)):\n",
        "        tar = [needs[0], needs[-1]] #이동 후보\n",
        "        move_min = lambda x : abs(min(x - cur, cur - (x - len(name))))\n",
        "\n",
        "        move_tmp = list(map(move_min, tar))\n",
        "        if move_tmp[0] <= move_tmp[1]:\n",
        "            cur = tar[0]\n",
        "            move_lr += move_tmp[0]\n",
        "            needs.popleft()\n",
        "        else:\n",
        "            cur = tar[1]\n",
        "            move_lr += move_tmp[1]\n",
        "            needs.pop()\n",
        "\n",
        "    #조이스틱 상하 이동 횟수(알파벳 맞추기)\n",
        "    move_tb = sum(list(map(lambda x: min(ord(x)-ord(\"A\"), ord(\"Z\") - ord(x) + 1), name)))\n",
        "\n",
        "    return  move_lr + move_tb\n",
        "\n",
        "names = [\"JEROEN\", \"JAN\"] # 56,23\n",
        "\n",
        "for name in names:\n",
        "    print(name, \" : \", solution(name))"
      ]
    },
    {
      "cell_type": "markdown",
      "metadata": {
        "id": "3OpNBNQmJGBt"
      },
      "source": [
        "## 예상 대진표"
      ]
    },
    {
      "cell_type": "code",
      "execution_count": null,
      "metadata": {
        "id": "JqpVh6MBJHtv"
      },
      "outputs": [],
      "source": [
        "def get_match(a,b,i):\n",
        "    return i if (a-1)//2**i == (b-1)//2**i else get_match(a,b,i+1)\n",
        "  \n",
        "def solution(n,a,b):\n",
        "    return get_match(a,b,0)\n",
        "solution(8,4,7)"
      ]
    },
    {
      "cell_type": "markdown",
      "metadata": {
        "id": "iRfjU0_ALRJ8"
      },
      "source": [
        "- 테스트 케이스에서 a = 4, b = 7는 첫 단계에서 2명씩 나누기에 각각 2번째, 4번째 조에 속해 있다.\n",
        "- 그래서 두 사람 경기는 3번째에 속해있다\n",
        "- 즉, 8명이 한 경기를 하는 경우 a와 b가 한 조에 속해다는 것으로도 생각할 수 있으므로, 2의 배승으로 몫을 구하면서 같은 몫을 가질 경우 같은 조에 속해 있다는 것으로 판단하여 알고리즘 구현\n",
        "---\n",
        "### 다른 사람 풀이(1)\n",
        "- 경기는 두사람씩하여 경기가 다음 과정으로 진행될 때마다 해당 경기가 이뤄지기 전까지 2의 n승 명이 경기룰 치룬 것을 알 수 있다.\n",
        "- 즉 n번째 경기의 경우 그 전까지 2의 n승의 도전자가 경기를 치룬 것이다\n",
        "- 해당 코드 작성자는 이 부분을 비트로 계산하였고, 두 값을 XOR 연산을 통해 두 값 사이의 비트를 판단하는데, 값이 클수록 상위 비트가 차이날 것을 이용하여 거리 계산했다.\n",
        "- 연산 결과를 bit_length로 실제 몇 비트가 떨어져있는지 계산했다"
      ]
    },
    {
      "cell_type": "code",
      "execution_count": null,
      "metadata": {
        "id": "isnSOvvCLVjd"
      },
      "outputs": [],
      "source": [
        "def solution(n,a,b):\n",
        "    return ((a-1)^(b-1)).bit_length()\n",
        "solution(8,4,7)"
      ]
    },
    {
      "cell_type": "markdown",
      "metadata": {
        "id": "js2vYKM0LYzy"
      },
      "source": [
        "## 튜플"
      ]
    },
    {
      "cell_type": "code",
      "execution_count": null,
      "metadata": {
        "id": "rE70g-1_PcZ0"
      },
      "outputs": [],
      "source": [
        "import re\n",
        "\n",
        "def solution(s):\n",
        "    tmp = (re.sub(\"[^0-9 ]+\", \" \",s)).split(\" \")\n",
        "    \n",
        "    dic = {}\n",
        "    for s in tmp:\n",
        "          if s != '':\n",
        "            if int(s) in dic.keys():\n",
        "                dic[int(s)] += 1\n",
        "            else:\n",
        "                dic[int(s)] = 1\n",
        "    return [v for v, c in sorted(dic.items(), key = lambda x : x[1], reverse = True)]\n",
        "\n",
        "q = [\"{{2},{2,1},{2,1,3},{2,1,3,4}}\",\"{{1,2,3},{2,1},{1,2,4,3},{2}}\",\"{{20,111},{111}}\",\n",
        "\"{{123}}\",\"{{4,2,3},{3},{2,3,4,1},{2,3}}\",]\n",
        "for s in q:\n",
        "  print(\"입력: \", s, \"|| 출력: \", solution(s))"
      ]
    },
    {
      "cell_type": "code",
      "execution_count": null,
      "metadata": {
        "id": "8Gafn12OJoA_"
      },
      "outputs": [],
      "source": [
        "from collections import Counter\n",
        "import re\n",
        "def solution(s):\n",
        "    return [int(v) for v,_ in Counter(re.findall(\"\\d+\",s)).most_common()]"
      ]
    },
    {
      "cell_type": "markdown",
      "metadata": {
        "id": "KmIaCGUgUUM4"
      },
      "source": [
        "## 다른 사람 풀이(1)\n",
        "---\n",
        "- 풀이 접근은 비슷했지만, 파이썬 패키지를 이용하여 보다 효율적이고 가독성 있게 코딩\n"
      ]
    },
    {
      "cell_type": "code",
      "execution_count": null,
      "metadata": {
        "id": "5xlg1oG5T7aJ"
      },
      "outputs": [],
      "source": [
        "import re\n",
        "from collections import Counter\n",
        "\n",
        "def solution(s):\n",
        "    s = Counter(re.findall(\"\\d+\",s))    \n",
        "    return [int(v) for v,i in sorted(s.items(), key = lambda x : x[1], reverse = True)]\n",
        "\n",
        "q = [\"{{2},{2,1},{2,1,3},{2,1,3,4}}\",\"{{1,2,3},{2,1},{1,2,4,3},{2}}\",\"{{20,111},{111}}\",\n",
        "\"{{123}}\",\"{{4,2,3},{3},{2,3,4,1},{2,3}}\",]\n",
        "for s in q:\n",
        "  print(\"입력: \", s, \"|| 출력: \", solution(s))"
      ]
    },
    {
      "cell_type": "markdown",
      "metadata": {
        "id": "yHsgdDI0YvOK"
      },
      "source": [
        "## H-index"
      ]
    },
    {
      "cell_type": "code",
      "execution_count": null,
      "metadata": {
        "id": "cV71TdBAYwgc"
      },
      "outputs": [],
      "source": [
        "def solution(citations):\n",
        "    h = 0\n",
        "    for _ in range(len(citations)):\n",
        "        h_idx = [c for c in citations if c >= h]\n",
        "        if len(h_idx) > h and h < max(h_idx):\n",
        "            h += 1\n",
        "        \n",
        "        if len(h_idx) < h:\n",
        "            h -= 1\n",
        "            break\n",
        "    return h\n",
        "\n",
        "\n",
        "citations_li = [[3, 0, 6, 1, 5],[6,5,4,1,0],[4, 4, 4, 5, 0, 1, 2, 3],[0,1,1],[0,1,2], [1,1,3,5,6]]\n",
        "# citations_li = [[0,1,2]]\n",
        "for c in citations_li:\n",
        "  print(solution(c))"
      ]
    },
    {
      "cell_type": "code",
      "execution_count": null,
      "metadata": {
        "id": "MI0JcxBK3VVP"
      },
      "outputs": [],
      "source": [
        "def solution(citations):\n",
        "    h_idx = 0    \n",
        "    for i in range(1,len(citations)+1):\n",
        "        tmp = len([c for c in citations if c >= i])\n",
        "        if tmp >=i and len(citations)-tmp<=i:\n",
        "            h_idx = i\n",
        "    return h_idx\n",
        "\n",
        "citations_li = [[3, 0, 6, 1, 5],[6,5,4,1,0],[4, 4, 4, 5, 0, 1, 2, 3],[0,1,1],[0,1,2], [1,1,3,5,6]]\n",
        "# citations_li = [[0,1,2]]\n",
        "for c in citations_li:\n",
        "  print(solution(c))"
      ]
    },
    {
      "cell_type": "markdown",
      "metadata": {
        "id": "dsOw2QjA7Zd6"
      },
      "source": [
        "### 다른 사람 풀이(1)\n",
        "- h값이 큰 것부터 판단\n",
        "- h 기준 : h이상 인용된 논문이 h개 이상인 경우 OK\n",
        "- 따라서 최대 h값은 과학자가 낸 논문이ㅡ 개수가 된다\n",
        "\n",
        "- for문을 돌리고 l-i 하면 값이 max, max-1, ..., 1로 되는데 이 값들이 h이고\n",
        "- citations을 봤을 때 작은 것부터 순서대로 정렬되어 있는데,\n",
        "- h가 max인 경우 모든 논문이 h번 인용되어야 하는데, 가장 인용이 적게된 논문의 개수가 h 이상이면 h(=l-i)를 반환 아니면 for문을 돌린다"
      ]
    },
    {
      "cell_type": "code",
      "execution_count": null,
      "metadata": {
        "id": "SslJPB8N60pq"
      },
      "outputs": [],
      "source": [
        "def solution(citations):\n",
        "  citations.sort()\n",
        "  l = len(citations)\n",
        "  for i in range(l):\n",
        "    if (l-i) <= citations[i]:\n",
        "      return l-i\n",
        "  return 0\n",
        "\n",
        "solution([1,1,3,5,6])"
      ]
    },
    {
      "cell_type": "markdown",
      "metadata": {
        "id": "8q6Ti5098VNv"
      },
      "source": [
        "### 다른 사람 풀이(2)\n",
        "- 상기 방법과 유사\n",
        "- 단, 논문의 인용수를 큰 값 기준으로 정렬한 상태에서\n",
        "- h 값을 하나씩 증가\n",
        "- ex) h가 1일땐 가장 큰 인용수 건수를 가진 논문이 1이상 통과, h = 2일땐 두번째로 인용건수가 큰 논문이 2이상이면 통과인데, 만약 h = 3에서 세번째로 인용건수가 큰 논문의 개수가 3보다 작을 경우, 1,2번째 논문만 만족하는 것이므로 2를 반환한다\n",
        "- h를 반환하는 방식은 h(이 코드에선 i)와 v 중 작은 값을 반환하고\n",
        "- 전체 반환한 min값을 중 가장 큰 값을 반환하면 정답"
      ]
    },
    {
      "cell_type": "code",
      "execution_count": null,
      "metadata": {
        "id": "alhC9IRB8W04"
      },
      "outputs": [],
      "source": [
        "def solution(citations):\n",
        "  citations.sort(reverse = True)\n",
        "  return max(list(map(min, enumerate(citations,start = 1))))\n",
        "solution([1,1,3,5,6])"
      ]
    },
    {
      "cell_type": "markdown",
      "metadata": {
        "id": "jjby4TNg8lSS"
      },
      "source": [
        "## 전화번호 목록"
      ]
    },
    {
      "cell_type": "code",
      "execution_count": null,
      "metadata": {
        "id": "hxXoPfAY8peW"
      },
      "outputs": [],
      "source": [
        "def solution(phone_book):\n",
        "    phone_book.sort()\n",
        "    \n",
        "    for i in range(len(phone_book)-1):\n",
        "        if len(phone_book[i]) < len(phone_book[i+1]):\n",
        "            if phone_book[i] == phone_book[i+1][:len(phone_book[i])]:\n",
        "                return False\n",
        "    return True\n",
        "\n",
        "phone_book_li = [[\"119\", \"97674223\", \"1195524421\"], [\"123\",\"456\",\"789\"], [\"12\",\"123\",\"1235\",\"567\",\"88\"]]\n",
        "for phone_book in phone_book_li:\n",
        "  print(solution(phone_book))"
      ]
    },
    {
      "cell_type": "markdown",
      "metadata": {
        "id": "_aVGgm8kYkIB"
      },
      "source": [
        "위 아래가 동일한 동일한 방식이지만\n",
        "아래 코드는 zip을 이용하여 확인하고자 하는 번호끼리 엮었고, 위 코드는 전체 for문을 돌리고 기준 번호와 비교 번호를 전체에서 인덱싱\n",
        "\n",
        "단, 문제에서 동일한 번호는 폰북에 존재하지 않는다는 조건이 있었기에, 위 코드에서 앞뒤 코드가 동일한 길이면 문제에 맞지 않음으로 배제하여 효율성이 더 높음"
      ]
    },
    {
      "cell_type": "code",
      "execution_count": null,
      "metadata": {
        "id": "ilTP4NjyYgoe"
      },
      "outputs": [],
      "source": [
        "def solution(phone_book):\n",
        "    phone_book.sort()\n",
        "    num = len(phone_book)\n",
        "    for a,b in zip(phone_book[:num-1], phone_book[1:num]):\n",
        "        if a == b[:len(a)]:\n",
        "            return False\n",
        "    return True\n",
        "\n",
        "phone_book_li = [[\"119\", \"97674223\", \"1195524421\"], [\"123\",\"456\",\"789\"], [\"12\",\"123\",\"1235\",\"567\",\"88\"]]\n",
        "for phone_book in phone_book_li:\n",
        "  print(solution(phone_book))"
      ]
    },
    {
      "cell_type": "code",
      "execution_count": null,
      "metadata": {
        "id": "q93apCqOYbf_"
      },
      "outputs": [],
      "source": [
        "def solution(phone_book):\n",
        "    phone_book_len = set(list(map(lambda x : len(x), phone_book)))\n",
        "    hashmap = {}\n",
        "    for phone_number in phone_book:\n",
        "        hashmap[phone_number] = 1\n",
        "        \n",
        "    for phone_number in phone_book:\n",
        "        for leng in phone_book_len:\n",
        "            if len(phone_number) < leng:\n",
        "                break\n",
        "            if phone_number[:leng] in hashmap and phone_number[:leng] != phone_number:\n",
        "                return False\n",
        "    return True\n",
        "phone_book_li = [[\"119\", \"97674223\", \"1195524421\"], [\"123\",\"456\",\"789\"], [\"12\",\"123\",\"1235\",\"567\",\"88\"]]\n",
        "for phone_book in phone_book_li:\n",
        "  print(solution(phone_book))"
      ]
    },
    {
      "cell_type": "markdown",
      "metadata": {
        "id": "SvkO3AooYdRt"
      },
      "source": [
        "- 다른 사람 풀이-2를 참고하여 나만의 코드 작성\n",
        "- hash를 활용\n",
        "- 다른사람(2)의 경우, phone_number의 번호를 하나씩 추가하는데, 이 값이 hash_map에 포함될 경우 phone_number를 슬라이싱한 값이 현재 phone_number와 다른 경우 False 반환\n",
        "- 내 경우는, phone_book에서 전체 폰번호의 길이를 set()으로 하여 생성\n",
        "- phone_number를 set()에 포함된 길이만큼씩 슬라이싱을 하는데, 슬라이싱할 길이가 현재 phone_number보다 길면 끊고(break) 다음 번호로 이동\n",
        "- 만약 슬라이싱한 값이 hash_map에 포함되는데 이 값이 현재 phone_number와 다르면 False 반환"
      ]
    },
    {
      "cell_type": "markdown",
      "metadata": {
        "id": "B0xkHwgPLPXH"
      },
      "source": [
        "### 다른 사람 풀이(1)"
      ]
    },
    {
      "cell_type": "code",
      "execution_count": null,
      "metadata": {
        "id": "m_0OjbhSZxBa"
      },
      "outputs": [],
      "source": [
        "def solution(phone_book):\n",
        "    phone_book = sorted(phone_book)\n",
        "    for p1,p2 in zip(phone_book,phone_book[1:]):\n",
        "        if p2.startswith(p1):\n",
        "            return False\n",
        "    return True\n",
        "\n",
        "phone_book_li = [[\"119\", \"97674223\", \"1195524421\"], [\"123\",\"456\",\"789\"], [\"12\",\"123\",\"1235\",\"567\",\"88\"]]\n",
        "for phone_book in phone_book_li:\n",
        "  print(solution(phone_book))"
      ]
    },
    {
      "cell_type": "markdown",
      "metadata": {
        "id": "fL1WSed-aHuF"
      },
      "source": [
        "- 동일하지만 보다 간결하고 코드\n",
        "- 나 같은 경우 zip의 범위를 일일이 지정했지만, zip을 사용 시 앞뒤에 동일한 데이터 길이만큼 가져오므로, 이를 이용해서 한 데이터 길이만 조절\n",
        "- 또한, 똑같이 기준 폰번호와 같은 것이 있는 것을 찾지만, 이 코드에선 startswith를 사용"
      ]
    },
    {
      "cell_type": "markdown",
      "metadata": {
        "id": "7SagGpwFezqp"
      },
      "source": [
        "### 다른 사람 풀이(2) - hash"
      ]
    },
    {
      "cell_type": "code",
      "execution_count": null,
      "metadata": {
        "id": "OubIKMkQcwrb"
      },
      "outputs": [],
      "source": [
        "def solution(phone_book):\n",
        "    hash_map = {}\n",
        "    for phone_number in phone_book:\n",
        "        if not phone_number in hash_map:\n",
        "            hash_map[phone_number] = 1\n",
        "    \n",
        "    for phone_number in phone_book:\n",
        "        tmp = ''\n",
        "        for number in phone_number:\n",
        "            tmp += number\n",
        "            if tmp in hash_map and tmp != phone_number:\n",
        "                return False\n",
        "    return True\n",
        "\n",
        "phone_book_li = [[\"119\", \"97674223\", \"1195524421\"]]#, [\"123\",\"456\",\"789\"], [\"12\",\"123\",\"1235\",\"567\",\"88\"]]\n",
        "for phone_book in phone_book_li:\n",
        "  print(solution(phone_book))"
      ]
    },
    {
      "cell_type": "markdown",
      "metadata": {
        "id": "c56LFLQOc87w"
      },
      "source": [
        "- 문제 의도와 맞게 hash로 해결\n",
        "- hash_map에 번호를 하나씩 저장한 이후 비교를 하는데,\n",
        "- phone_number의 번호를 하나씩 불러와서 비교"
      ]
    },
    {
      "cell_type": "markdown",
      "metadata": {
        "id": "Eu5NPduJxVmO"
      },
      "source": [
        "## 큰 수 만들기"
      ]
    },
    {
      "cell_type": "code",
      "execution_count": null,
      "metadata": {
        "id": "fOBm-xJDfO1H"
      },
      "outputs": [],
      "source": [
        "def solution(number,k):\n",
        "    if k ==0:\n",
        "        return number\n",
        "    \n",
        "    answer = ''\n",
        "    max_len = len(number) - k\n",
        "    range_end = len(number) - max_len + 1\n",
        "    \n",
        "    while max_len != len(answer):\n",
        "        tmp = ''\n",
        "        for i in range(len(number[:range_end])):\n",
        "            if number[i] > tmp:\n",
        "                tmp = number[i]\n",
        "                idx = i\n",
        "                if tmp == '9':\n",
        "                    break\n",
        "        answer += tmp\n",
        "        number = number[idx+1:]\n",
        "        range_end = len(number) -(max_len - len(answer)) + 1\n",
        "        \n",
        "\n",
        "    return answer\n",
        "\n",
        "number = \"4177252841\"\n",
        "k = 4\n",
        "solution(number,k)"
      ]
    },
    {
      "cell_type": "code",
      "execution_count": null,
      "metadata": {
        "id": "PUWCPtL2LkSK"
      },
      "outputs": [],
      "source": [
        "def solution(number, k):\n",
        "    st = []\n",
        "    for n in number:\n",
        "        while st and st[-1] < n and k > 0:\n",
        "            k -= 1\n",
        "            st.pop()\n",
        "        st.append(n)\n",
        "    \n",
        "    return ''.join(st) if k == 0 else ''.join(st[:-k])"
      ]
    },
    {
      "cell_type": "markdown",
      "metadata": {
        "id": "srqPyODTxTS-"
      },
      "source": [
        "- 주어진 number에서 k 개수 숫자를 제외한 가장 큰 수는 앞의 자리부터 큰 수를 부여하는 것이다\n",
        "- number에서 k 개를 뺀 숫자를 만들기 위한 최소 개수를 남겨 둔 상태로 앞의 값부터 가장 큰 수를 출력"
      ]
    },
    {
      "cell_type": "markdown",
      "metadata": {
        "id": "BHzOJxtc4PzD"
      },
      "source": [
        "## 다리를 지나는 트럭 - 스택/큐"
      ]
    },
    {
      "cell_type": "code",
      "execution_count": null,
      "metadata": {
        "id": "r4fbiqm-2koS"
      },
      "outputs": [],
      "source": [
        "from collections import deque\n",
        "\n",
        "def solution(bridge_length, weight, truck_weights):\n",
        "    bridge = deque([0]*bridge_length)\n",
        "    truck_weights.reverse()\n",
        "    \n",
        "    total_weight = 0\n",
        "    time = 0\n",
        "    \n",
        "    while truck_weights:\n",
        "        time += 1\n",
        "        total_weight -= bridge.popleft()\n",
        "        \n",
        "        if total_weight + truck_weights[-1] > weight:\n",
        "            bridge.append(0)\n",
        "        else:\n",
        "            truck = truck_weights.pop()\n",
        "            bridge.append(truck)\n",
        "            total_weight += truck\n",
        "            \n",
        "    time += bridge_length\n",
        "        \n",
        "    return time\n",
        "solution(2,10,\t[7,4,5,6])"
      ]
    },
    {
      "cell_type": "markdown",
      "metadata": {
        "id": "gEG0LO-gCIcg"
      },
      "source": [
        "## 방문 길이"
      ]
    },
    {
      "cell_type": "code",
      "execution_count": null,
      "metadata": {
        "id": "qPf-OcDiCIrt"
      },
      "outputs": [],
      "source": [
        "def solution(dirs):\n",
        "    direction = {\"U\" : (0,1), \"D\" : (0,-1), \"L\" : (-1,0), \"R\" : (1,0)}\n",
        "    road = set()\n",
        "    cur = (0,0)\n",
        "    \n",
        "    for d in dirs:\n",
        "        next_x, next_y = direction[d][0] + cur[0], direction[d][1] + cur[1] \n",
        "        if abs(next_x) <=5 and abs(next_y) <= 5:\n",
        "            road.add((next_x, next_y, cur[0], cur[1]))\n",
        "            road.add((cur[0], cur[1], next_x, next_y))\n",
        "            cur = (next_x, next_y)\n",
        "\n",
        "    return int(len(road)/2)\n",
        "solution(\"ULURRDLLU\")"
      ]
    },
    {
      "cell_type": "markdown",
      "metadata": {
        "id": "OOMTi4dCCQTV"
      },
      "source": [
        "## 주식 가격 - 스택/큐"
      ]
    },
    {
      "cell_type": "code",
      "execution_count": null,
      "metadata": {
        "id": "XQRFOpGVbRIy"
      },
      "outputs": [],
      "source": [
        "def solution(prices):\n",
        "    answer = [0]*len(prices)\n",
        "    stack = [0]\n",
        "    \n",
        "    for i in range(1,len(prices)):\n",
        "        while stack and prices[stack[-1]] > prices[i]:\n",
        "            sec = stack.pop()\n",
        "            answer[sec] = i - sec\n",
        "        stack.append(i)\n",
        "    \n",
        "    for sec in stack:\n",
        "        answer[sec] = i - sec\n",
        "    \n",
        "    return answer\n",
        "\n",
        "prices = [1, 2, 3, 2, 3]\n",
        "# return = [4, 3, 1, 1, 0]\n",
        "solution(prices)"
      ]
    },
    {
      "cell_type": "markdown",
      "metadata": {
        "id": "CP65fmAdnf2G"
      },
      "source": [
        "## 위장 - 해쉬"
      ]
    },
    {
      "cell_type": "code",
      "execution_count": null,
      "metadata": {
        "id": "PRpi2C5xnhox"
      },
      "outputs": [],
      "source": [
        "from collections import Counter\n",
        "\n",
        "def solution(clothes):\n",
        "    answer = 1\n",
        "    cloth_type_cnt = Counter([t for _, t in clothes])\n",
        "    for n in cloth_type_cnt.values():\n",
        "        answer *= n+1 \n",
        "\n",
        "    return answer - 1\n"
      ]
    },
    {
      "cell_type": "markdown",
      "metadata": {
        "id": "--HCGLtoq8a5"
      },
      "source": [
        "- 여기서 옷 개수 + 1을 한 값을 모두 곱한 다음 - 1을 뺴준 이유는,\n",
        "- 옷을 입는 방법은 옷은 돌아가며 입는 경우와 옷을 안입는 경우가 있기 때문\n",
        "- 즉, 모자가 3개, 상의가 2개 있을 때, 각각 안입는 경우까지 고려하여 전체 경우의 수인 4*3을 계산한 다음, 모자와 상의 둘 다 안입는 경우를 제외\n",
        "- 결과적으로 4*3 - 1"
      ]
    },
    {
      "cell_type": "markdown",
      "metadata": {
        "id": "g2QqzCWGoz-Y"
      },
      "source": [
        "### 다른 사람 풀이(1)\n",
        "---\n",
        "- Counter + reduce 사용\n",
        "- Counter로 옷 종류별 개수를 세고, reduce로 하나씩 계산\n",
        "- reduce 예) numbers = [1,2,3,4,5]\n",
        "- reduce(lambda x,y : x*y numbers) => ((((1 * 2) * 3) * 4) * 5)"
      ]
    },
    {
      "cell_type": "code",
      "execution_count": null,
      "metadata": {
        "id": "d5oMxH3Ao17u"
      },
      "outputs": [],
      "source": [
        "from collections import Counter\n",
        "from functools import reduce\n",
        "def solution(clothes):\n",
        "    return reduce (lambda x,y : x*y, (v+1for v in Counter([c for _, c in clothes]).values())) - 1"
      ]
    },
    {
      "cell_type": "markdown",
      "metadata": {
        "id": "ReJ4TSkrqWQn"
      },
      "source": [
        "### 다른 사람 풀이(2) - defaultdict\n",
        "---\n",
        "- defaultdict을 사용하여 동일한 key를 가진 value 끼리 묶고\n",
        "- key 값에 포함된 원소의 개수를 카운트하여 결과 반환"
      ]
    },
    {
      "cell_type": "code",
      "execution_count": null,
      "metadata": {
        "id": "Ewg-FN4DqV5w"
      },
      "outputs": [],
      "source": [
        "from collections import defaultdict\n",
        "def solution(clothes):\n",
        "    clothes_dict = defaultdict(list)\n",
        "    for sample, category in clothes:\n",
        "        clothes_dict[category].append(sample)\n",
        "        # print(clothes_dict)\n",
        "        \n",
        "    answer = 1\n",
        "    for dict_key in clothes_dict.keys():\n",
        "        answer *= len(clothes_dict[dict_key]) + 1\n",
        "    \n",
        "    return answer - 1"
      ]
    },
    {
      "cell_type": "markdown",
      "metadata": {
        "id": "rrN2KYNvxTdT"
      },
      "source": [
        "## 이진 변환 반복하기"
      ]
    },
    {
      "cell_type": "code",
      "execution_count": null,
      "metadata": {
        "id": "cjiBtN9NxVEE"
      },
      "outputs": [],
      "source": [
        "from collections import Counter\n",
        "\n",
        "def get_binary(n):\n",
        "    if n == 0:\n",
        "        return ''\n",
        "    return get_binary(n//2) + str(n%2)\n",
        "\n",
        "def solution(s):\n",
        "    answer = [0,0]\n",
        "    \n",
        "    while s != \"1\":\n",
        "        answer[0] += 1\n",
        "        for n, c in Counter(s).items():\n",
        "            if n == '1':\n",
        "                s = get_binary(c)\n",
        "            else:\n",
        "                answer[1] += c\n",
        "\n",
        "    \n",
        "    return answer\n",
        "solution(\"110010101001\")"
      ]
    },
    {
      "cell_type": "markdown",
      "metadata": {
        "id": "VrvgzWYiyWlI"
      },
      "source": [
        "### 다른 사람 풀이(1)"
      ]
    },
    {
      "cell_type": "code",
      "execution_count": null,
      "metadata": {
        "id": "BbRuESt1zzRb"
      },
      "outputs": [],
      "source": [
        "def solution(s):\n",
        "    a,b = 0, 0\n",
        "    \n",
        "    while s != \"1\":\n",
        "        a += 1\n",
        "        one_cnt = s.count(\"1\")\n",
        "        b += len(s) - one_cnt\n",
        "        s = bin(one_cnt)[2:]\n",
        "\n",
        "    return [a,b]\n",
        "solution(\"110010101001\")    "
      ]
    },
    {
      "cell_type": "markdown",
      "metadata": {
        "id": "1ubT3MzOz2ML"
      },
      "source": [
        "- 1의 개수를 세고, 제거한 \"0\" 개수는 전체 s의 길이에서 1의 개수만큼 빼줌\n",
        "- 그리고 다음 s는 bin()함수를 이용하여 출력"
      ]
    },
    {
      "cell_type": "markdown",
      "metadata": {
        "id": "GYsqhLJVz-qe"
      },
      "source": [
        "## 카펫"
      ]
    },
    {
      "cell_type": "markdown",
      "metadata": {
        "id": "uSKs05ywDsYS"
      },
      "source": [
        "겉 타일 개수 이용"
      ]
    },
    {
      "cell_type": "code",
      "execution_count": null,
      "metadata": {
        "id": "XHq9e8JX8Ohj"
      },
      "outputs": [],
      "source": [
        "def solution(brown, yellow):\n",
        "    tot_tile = brown + yellow\n",
        "    for i in range(3,tot_tile):\n",
        "        if tot_tile % i == 0 and (i*2 + tot_tile//i*2 - 4) == brown:\n",
        "            return [tot_tile//i, i]\n",
        "solution(8,1)"
      ]
    },
    {
      "cell_type": "markdown",
      "metadata": {
        "id": "QiQSVsStDkU8"
      },
      "source": [
        "### 다른 사람 풀이(1)\n",
        "---\n",
        "- 타일 둘레 활용"
      ]
    },
    {
      "cell_type": "code",
      "execution_count": null,
      "metadata": {
        "id": "ziQcLSd9Dd6s"
      },
      "outputs": [],
      "source": [
        "def solution(brown, yellow):\n",
        "    for i in range(1, int(yellow**0.5)+1):\n",
        "        if 2*(i + yellow//i) == brown - 4:\n",
        "            return [yellow//i+2,i+2] \n",
        "solution(8,1)"
      ]
    },
    {
      "cell_type": "markdown",
      "metadata": {
        "id": "FmVd6frJDjyj"
      },
      "source": [
        "## 메뉴 리뉴얼"
      ]
    },
    {
      "cell_type": "code",
      "execution_count": null,
      "metadata": {
        "id": "fKIxPC_cnsru"
      },
      "outputs": [],
      "source": [
        "from itertools import combinations\n",
        "from collections import Counter\n",
        "def solution(orders, course):\n",
        "    answer = []\n",
        "    for num in course:\n",
        "        order_combinations = []\n",
        "        for order in orders:\n",
        "            order_combinations += [\"\".join(com) for com in combinations(sorted(order),num)]\n",
        "        \n",
        "        most_ordered = Counter(order_combinations).most_common()\n",
        "        answer += [c for c, i in most_ordered if i == most_ordered[0][1] and i > 1]\n",
        "\n",
        "    return sorted(answer)"
      ]
    },
    {
      "cell_type": "code",
      "execution_count": null,
      "metadata": {
        "id": "Yoq76y9x2iRR"
      },
      "outputs": [],
      "source": [
        "from collections import Counter\n",
        "from itertools import combinations\n",
        "def solution(orders, course):\n",
        "    res = []\n",
        "    for c in course:\n",
        "        course_list = [''.join(comb) for order in orders for comb in combinations(sorted(order),c)]\n",
        "        course_cnt = Counter(course_list).most_common()\n",
        "        for cour, cnt in course_cnt:\n",
        "            if cnt != course_cnt[0][1] or cnt < 2:\n",
        "                break\n",
        "            res.append(cour)\n",
        "    return sorted(res)\n",
        "            \n",
        "            \n"
      ]
    },
    {
      "cell_type": "code",
      "execution_count": null,
      "metadata": {
        "id": "mmcy3MFQ3-E1"
      },
      "outputs": [],
      "source": [
        "from collections import Counter\n",
        "from itertools import combinations\n",
        "def solution(orders, course):\n",
        "    res = []\n",
        "    for c in course:\n",
        "        course_list = [''.join(comb) for order in orders for comb in combinations(sorted(order),c)]\n",
        "        course_cnt = Counter(course_list).most_common()\n",
        "        res += [cour for cour, cnt in course_cnt if cnt == course_cnt[0][1] and cnt >= 2]\n",
        "    return sorted(res)"
      ]
    },
    {
      "cell_type": "markdown",
      "metadata": {
        "id": "-glMJ2Q6nFIa"
      },
      "source": [
        "## 삼각 달팽이"
      ]
    },
    {
      "cell_type": "code",
      "execution_count": null,
      "metadata": {
        "id": "OV6ox71HnGet"
      },
      "outputs": [],
      "source": [
        "def solution(n):\n",
        "    answer = [[0]*(i+1) for i in range(n)]\n",
        "    x,y = -1,0\n",
        "    num = 1\n",
        "    \n",
        "    for i in range(n):\n",
        "        for j in range(i,n):\n",
        "            if i % 3 == 0:\n",
        "                x += 1\n",
        "            elif i % 3 == 1:\n",
        "                y += 1\n",
        "            elif i % 3 == 2:\n",
        "                x -= 1\n",
        "                y -= 1\n",
        "            answer[x][y] = num\n",
        "            num += 1\n",
        "                \n",
        "    return sum(answer,[])\n",
        "for i in range(4,7):\n",
        "  print(solution(i))"
      ]
    },
    {
      "cell_type": "markdown",
      "metadata": {
        "id": "3yAxmyg0HRey"
      },
      "source": [
        "## 행렬 테두리 회전하기"
      ]
    },
    {
      "cell_type": "code",
      "execution_count": null,
      "metadata": {
        "id": "i7DhZDWoHTti"
      },
      "outputs": [],
      "source": [
        "def solution(rows, columns, queries):\n",
        "    maps = [[i*columns+j for j in range(1,columns+1)] for i in range(rows)]\n",
        "    \n",
        "    answer = []\n",
        "    for x1,y1,x2,y2 in queries:\n",
        "        tmp = maps[x1-1][y1-1]\n",
        "        mini = tmp\n",
        "        for k in range(x1,x2):\n",
        "            move = maps[k][y1-1]\n",
        "            maps[k-1][y1-1] = move\n",
        "            mini = min(mini,move)\n",
        "        \n",
        "        for k in range(y1,y2):\n",
        "            move = maps[x2-1][k]\n",
        "            maps[x2-1][k-1] = move\n",
        "            mini = min(mini,move)\n",
        "        # print(maps)\n",
        "        for k in range(x2-1,x1-1,-1):\n",
        "            move = maps[k-1][y2-1]\n",
        "            maps[k][y2-1] = move\n",
        "            mini = min(mini,move)\n",
        "        \n",
        "        for k in range(y2-1,y1,-1):\n",
        "            move = maps[x1-1][k-1]\n",
        "            maps[x1-1][k] = move\n",
        "            mini = min(mini,move)\n",
        "        \n",
        "        maps[x1-1][y1] = tmp\n",
        "        answer.append(mini)\n",
        "    return answer\n",
        "        \n",
        "\n",
        "rows = [6,3,100]\n",
        "columns = [6,3,97]\n",
        "queries = [[[2,2,5,4],[3,3,6,6],[5,1,6,3]], [[1,1,2,2],[1,2,2,3],[2,1,3,2],[2,2,3,3]], [[1,1,100,97]]]\n",
        "for row,column,query in zip(rows,columns,queries):\n",
        "  print(solution(row,column,query))"
      ]
    },
    {
      "cell_type": "code",
      "execution_count": null,
      "metadata": {
        "id": "4g0oX5ajzEZ3"
      },
      "outputs": [],
      "source": [
        "def ratate_map(x1,y1,x2,y2, maplist):\n",
        "    tmp = maplist[x1-1][y1-1]\n",
        "    value = tmp\n",
        "    for x in range(x1,x2):\n",
        "        value = min(value, maplist[x][y1-1])\n",
        "        maplist[x-1][y1-1]= maplist[x][y1-1]\n",
        "    \n",
        "    for y in range(y1,y2):\n",
        "        value = min(value, maplist[x2-1][y])\n",
        "        maplist[x2-1][y-1] = maplist[x2-1][y]\n",
        "    \n",
        "    for x in range(x2-1,x1-1,-1):\n",
        "        value = min(value, maplist[x-1][y2-1])\n",
        "        maplist[x][y2-1] = maplist[x-1][y2-1]\n",
        "    \n",
        "    for y in range(y2-1,y1,-1):\n",
        "        value = min(value, maplist[x1-1][y-1])\n",
        "        maplist[x1-1][y] = maplist[x1-1][y-1]\n",
        "    maplist[x1-1][y1] = tmp\n",
        "        \n",
        "    return maplist, value\n",
        "\n",
        "def solution(rows, columns, queries):\n",
        "    maplist = [[i*columns+j for j in range(1,columns+1)] for i in range(rows)]\n",
        "    if len(queries) == 1:\n",
        "        return [maplist[queries[0][0]-1][queries[0][1]]-1]\n",
        "    \n",
        "    res = []\n",
        "    for query in queries:\n",
        "        x1,y1,x2,y2 = query[0], query[1], query[2], query[3]\n",
        "        maplist, min_value = ratate_map(x1,y1,x2,y2,maplist)\n",
        "        res.append(min_value)\n",
        "    \n",
        "    return res"
      ]
    },
    {
      "cell_type": "markdown",
      "metadata": {
        "id": "bemsWTZRLHmy"
      },
      "source": [
        "## 최댓값과 최솟값"
      ]
    },
    {
      "cell_type": "code",
      "execution_count": null,
      "metadata": {
        "id": "F-OjrM9LLJ-Q"
      },
      "outputs": [],
      "source": [
        "def solution(s):\n",
        "    s = list(map(int, s.split()))\n",
        "    return str(min(s)) + \" \" + str(max(s))\n",
        "\n",
        "given = [\"1 2 3 4\", \"-1 -2 -3 -4\", \"-1 -1\"]\n",
        "for s in given:\n",
        "   print(solution(s))"
      ]
    },
    {
      "cell_type": "markdown",
      "metadata": {
        "id": "5MCduIkDMUTC"
      },
      "source": [
        "## 다음 큰 숫자"
      ]
    },
    {
      "cell_type": "code",
      "execution_count": null,
      "metadata": {
        "id": "mPtDMXPFOBta"
      },
      "outputs": [],
      "source": [
        "def solution(n):\n",
        "    cnt_one = bin(n).count(\"1\")\n",
        "    \n",
        "    new_n = n\n",
        "    while 1:\n",
        "        new_n += 1\n",
        "        if bin(new_n).count(\"1\") == cnt_one:\n",
        "            return new_n\n",
        "        \n",
        "    return answer\n",
        "solution(78)"
      ]
    },
    {
      "cell_type": "code",
      "execution_count": null,
      "metadata": {
        "id": "l7j-Mjr9MYgo"
      },
      "outputs": [],
      "source": [
        "def solution(n, count = 0):\n",
        "    return n if bin(n).count(\"1\") == count else solution(n+1, bin(n).count(\"1\") if count == 0 else count)\n",
        "\n",
        "solution(78)\n"
      ]
    },
    {
      "cell_type": "markdown",
      "metadata": {
        "id": "W9ovQ6w9OmFs"
      },
      "source": [
        "## 배달\n",
        "---\n",
        "- 다익스트라 알고리즘"
      ]
    },
    {
      "cell_type": "code",
      "execution_count": null,
      "metadata": {
        "id": "vEJZuTEwOqOs"
      },
      "outputs": [],
      "source": [
        "from collections import deque\n",
        "def solution(N, road, K):\n",
        "    nodes = {}\n",
        "    dist = {i+1 : float(\"inf\") if i != 0 else 0 for i in range(N)}\n",
        "    for v1,v2,d in road:\n",
        "        nodes[v1] = nodes.get(v1, []) + [(v2, d)]\n",
        "        nodes[v2] = nodes.get(v2, []) + [(v1, d)]\n",
        "        #nodes.get(idx, []) : nodes[idx]가 있으면 그대로 출력하고 없으면 빈 리스트([])를 출력\n",
        "    \n",
        "    q = deque([1])\n",
        "    \n",
        "    while q:\n",
        "        cur = q.popleft()\n",
        "        for nxt, d in nodes[cur]:\n",
        "            if dist[nxt] > dist[cur] + d:\n",
        "                dist[nxt] = dist[cur] + d\n",
        "                q.append(nxt)\n",
        "\n",
        "    return len([d for d in dist.values() if d <= K])\n",
        "\n",
        "solution(5,[[1,2,1],[2,3,3],[5,2,2],[1,4,2],[5,3,1],[5,4,2]],3)"
      ]
    },
    {
      "cell_type": "markdown",
      "metadata": {
        "id": "HStotbMtt70L"
      },
      "source": [
        "## 순위 검색"
      ]
    },
    {
      "cell_type": "code",
      "execution_count": null,
      "metadata": {
        "id": "a_PG_5zbB-gH"
      },
      "outputs": [],
      "source": [
        "def solution(info, query):\n",
        "\n",
        "    info = [s.split(\" \") for s in info]\n",
        "    query = [[s_ for s_ in s.split(\" \") if s_ != \"and\"] for s in query]\n",
        "\n",
        "    answer = []\n",
        "    for lan,grp,car,foo,sco in query:\n",
        "        cnt = 0\n",
        "        for lan_,grp_,car_,foo_,sco_ in info:\n",
        "            if lan in [lan_,\"-\"] and grp in [grp_,\"-\"]\\\n",
        "            and car in [car_,\"-\"] and foo in [foo_,\"-\"] and int(sco_) >= int(sco):\n",
        "                cnt +=1\n",
        "        answer.append(cnt)\n",
        "    return answer\n",
        "\n",
        "info = [\"java backend junior pizza 150\",\"python frontend senior chicken 210\",\"python frontend senior chicken 150\",\"cpp backend senior pizza 260\",\"java backend junior chicken 80\",\"python backend senior chicken 50\"]\n",
        "query = [\"java and backend and junior and pizza 100\",\"python and frontend and senior and chicken 200\",\"cpp and - and senior and pizza 250\",\"- and backend and senior and - 150\",\"- and - and - and chicken 100\",\"- and - and - and - 150\"]\n",
        "# answer = [1,1,1,1,2,4]\n",
        "solution(info,query)"
      ]
    },
    {
      "cell_type": "markdown",
      "metadata": {
        "id": "T5Ea65-kCIzG"
      },
      "source": [
        "- 정확성은 100점이지만, 효율성은 0점으로 나옴..\n",
        "- 아무래도 모든 조건을 하나씩 다 따지는 만큼 시간이 오래 걸림\n",
        "- 카카오 문제풀이에 의하면, 모든 조건에 대한 데이터를 만들고 특정 조건에 binary search를 통하여 조건에 부합한 지원자들의 명수를 출력해야 함\n",
        "---   \n",
        "- 카카오해설 : https://tech.kakao.com/2021/01/25/2021-kakao-recruitment-round-1/\n",
        "- 문제풀이 : https://velog.io/@djagmlrhks3/Algorithm-Programmers-%EC%88%9C%EC%9C%84-%EA%B2%80%EC%83%89-by-Python\n"
      ]
    },
    {
      "cell_type": "markdown",
      "metadata": {
        "id": "SXsvo16vPH19"
      },
      "source": [
        "### 다른 사람 풀이(1)"
      ]
    },
    {
      "cell_type": "code",
      "execution_count": null,
      "metadata": {
        "id": "gIa6FZLJCql_"
      },
      "outputs": [],
      "source": [
        "from bisect import bisect_left, bisect_right, bisect\n",
        "from itertools import combinations\n",
        "\n",
        "def make_all_cases(temp):\n",
        "    cases = []\n",
        "    for k in range(5):\n",
        "        for li in combinations([0,1,2,3],k):\n",
        "            case = ''\n",
        "            for idx in range(4):\n",
        "                if idx not in li:\n",
        "                    case += temp[idx]\n",
        "                else:\n",
        "                    case += '-'\n",
        "                cases.append(case)\n",
        "                # cases.append(''.join([tmp[i] if i in comb else '-' for i in range(4)]))\n",
        "                # list comprehension으로 줄일 수 있지만 오히려 시간 증가, 줄이는게 무조건 만능은 아님\n",
        "    return cases\n",
        "\n",
        "def solution(info,query):\n",
        "    answer = []\n",
        "    all_people = {}\n",
        "    for i in info:\n",
        "        seperate_info = i.split()\n",
        "        cases = make_all_cases(i.split())\n",
        "        for case in cases:\n",
        "            if case not in all_people.keys():\n",
        "                all_people[case] = [int(seperate_info[4])]\n",
        "            else:\n",
        "                all_people[case].append(int(seperate_info[4]))\n",
        "    \n",
        "    for key in all_people.keys():\n",
        "        all_people[key].sort()\n",
        "        \n",
        "    for q in query:\n",
        "        seperate_q = q.split()\n",
        "        target = seperate_q[0] + seperate_q[2] + seperate_q[4] + seperate_q[6]\n",
        "        if target in all_people:\n",
        "            answer.append(len(all_people[target]) - bisect_left(all_people[target], int(seperate_q[7])))\n",
        "        else:\n",
        "            answer.append(0)\n",
        "    return answer\n",
        "\n",
        "info = [\"java backend junior pizza 150\",\"python frontend senior chicken 210\",\"python frontend senior chicken 150\",\"cpp backend senior pizza 260\",\"java backend junior chicken 80\",\"python backend senior chicken 50\"]\n",
        "query = [\"java and backend and junior and pizza 100\",\"python and frontend and senior and chicken 200\",\"cpp and - and senior and pizza 250\",\"- and backend and senior and - 150\",\"- and - and - and chicken 100\",\"- and - and - and - 150\"]\n",
        "solution(info,query)"
      ]
    },
    {
      "cell_type": "markdown",
      "metadata": {
        "id": "Gzi0y9TlVMCU"
      },
      "source": [
        "동일한 코드, 단 dict을 defaultdict으로 변경"
      ]
    },
    {
      "cell_type": "code",
      "execution_count": null,
      "metadata": {
        "id": "ehlv4zdKVRCf"
      },
      "outputs": [],
      "source": [
        "from itertools import combinations\n",
        "from collections import defaultdict\n",
        "from bisect import bisect_left\n",
        "def make_all_cases(tmp):\n",
        "    cases = []\n",
        "    for k in range(5):\n",
        "        for comb in combinations([0,1,2,3], k):\n",
        "            case = ''\n",
        "            for i in range(4):\n",
        "                if i in comb:\n",
        "                    case += tmp[i]\n",
        "                else:\n",
        "                    case += '-'\n",
        "            cases.append(case)\n",
        "    return cases\n",
        "    \n",
        "    \n",
        "def solution(info, query):\n",
        "    answer = []\n",
        "    all_people = defaultdict(list)\n",
        "\n",
        "    for i in info:\n",
        "        seperate_info = i.split()\n",
        "        cases = make_all_cases(i.split())\n",
        "        for case in cases:\n",
        "            all_people[case].append(int(seperate_info[-1]))\n",
        "    \n",
        "    for key in all_people.keys():\n",
        "        all_people[key].sort()\n",
        "    \n",
        "    for q in query:\n",
        "        seperate_q = q.split()\n",
        "        target = seperate_q[0] + seperate_q[2] + seperate_q[4] + seperate_q[6]\n",
        "        if target in all_people.keys():\n",
        "            answer.append(len(all_people[target]) - bisect_left(all_people[target], int(seperate_q[7])))\n",
        "        else:\n",
        "            answer.append(0)\n",
        "    return answer"
      ]
    },
    {
      "cell_type": "markdown",
      "metadata": {
        "id": "aLecJsWuPKO0"
      },
      "source": [
        "### 다른 사람 풀이(2)\n",
        "- https://github.com/yuneg11/Programmers-Solutions/tree/master/solutions/72412%20-%20%EC%88%9C%EC%9C%84%20%EA%B2%80%EC%83%89"
      ]
    },
    {
      "cell_type": "code",
      "execution_count": null,
      "metadata": {
        "id": "DK4AIo6gfPyF"
      },
      "outputs": [],
      "source": [
        "from functools import reduce\n",
        "from collections import defaultdict\n",
        "from bisect import insort, bisect_left\n",
        "\n",
        "def solution(info, query):\n",
        "    table = {\"c\": 3, \"j\": 5, \"p\": 6, \"b\": 6, \"f\": 5, \"s\": 6, \"-\": 0}\n",
        "    conv = lambda l, t: (reduce(lambda a, k: (a << 3) + t(table[k[0]]), l[:-1], 0), int(l[-1]))\n",
        "    #conv 설명 : conv에서 reduce를 하여 4가지 조건을 적용하는데, 여기서 왼쪽 shift 3을 한 이유는, 각 조건에서 최대 3종류가 있으므로, 조건별 3비트씩 출력\n",
        "    #즉, 언어, 직군, 경력, 소울푸드 각각을 3비트로 조건을 입력\n",
        "    info = list(map(lambda s: conv(s.split(\" \"), lambda x: 7 - x), info)) #bit field 구현\n",
        "    #7을 빼준 이유는, 프로그래멍 언어, 피자, 경력여부, 직군 등에서 최대 3종류이므로, 비트로 각각을 구현하면 100, 010, 001이라 3비트가 나와야 함\n",
        "    #즉 info와 query에서 동일한 조건이 나왔을 경우 000을 반환하기 위해서는 7을 빼줌\n",
        "    #ex) 언어 기준으로 info에서 python = 110(@bit field) / query에서 python = 001(@bit mask)일 경우 info & query에서 동일한 bit일 경우 1을 반환 아니면 0을 반환하면, 6 & 1 이면 => 110 & 001 이므로 000을 반환\n",
        "    # 결과적으로 두 조건을 같다를 뜩함\n",
        "\n",
        "    query = list(map(lambda s: conv([c for c in s.split(\" \") if c != \"and\"], lambda x: x), query)) #bit mask 구현\n",
        "    d = defaultdict(list)\n",
        "    for k, v in info:\n",
        "        insort(d[k], v)\n",
        "    return [sum([len(l) - bisect_left(l, v) for k, l in d.items() if not k & q]) for q, v in query]\n",
        "    # return [[(k,q,k&q, not k&q) for k, l in d.items()] for q, v in query]\n",
        "    # not k&q라는 것은, 두 비트를 모두 확인하여 결과가 0이 아닌 것이 나오면 넘기는 것인데, 즉 두 조건에서 한 조건이라도 일치하지 않는 경우는 탐색 조건에서 제외\n",
        "\n",
        "info = [\"java backend junior pizza 150\",\n",
        "        \"python frontend senior chicken 210\",\n",
        "        \"python frontend senior chicken 150\",\n",
        "        \"cpp backend senior pizza 260\",\n",
        "        \"java backend junior chicken 80\",\n",
        "        \"python backend senior chicken 50\"]\n",
        "query = [\"java and backend and junior and pizza 100\",\"python and frontend and senior and chicken 200\",\"cpp and - and senior and pizza 250\",\"- and backend and senior and - 150\",\"- and - and - and chicken 100\",\"- and - and - and - 150\"]\n",
        "solution(info,query)"
      ]
    },
    {
      "cell_type": "markdown",
      "metadata": {
        "id": "zBTlFUCK9ur-"
      },
      "source": [
        "### 다른 사람 풀이(3) - 문제 의도와 가장 잘 맞은 정답"
      ]
    },
    {
      "cell_type": "code",
      "execution_count": null,
      "metadata": {
        "id": "8Avkh4X29y2y"
      },
      "outputs": [],
      "source": [
        "def solution(info, query):\n",
        "    answer = []\n",
        "    data = dict()\n",
        "    for a in ['cpp', 'java', 'python', '-']:\n",
        "        for b in ['backend', 'frontend', '-']:\n",
        "            for c in ['junior', 'senior', '-']:\n",
        "                for d in ['chicken', 'pizza', '-']:\n",
        "                    data.setdefault((a+b+c+d), list()) #setdefault(key,value) 단 defaultdict가 더 나음, defaultdict로 쓸 시 해당 for문은 불필요\n",
        "    for s in info:\n",
        "        s = s.split()\n",
        "        for a in [s[0],\"-\"]:\n",
        "            for b in [s[1],\"-\"]:\n",
        "                for c in [s[2],\"-\"]:\n",
        "                    for d in [s[3],\"-\"]:\n",
        "                        data[a+b+c+d].append(int(s[-1]))\n",
        "    for key in data:\n",
        "        data[key].sort()\n",
        "    \n",
        "    for q in query:\n",
        "        q = q.split()\n",
        "        pool = data[q[0] + q[2] + q[4] + q[6]]\n",
        "        score = int(q[7])\n",
        "        l,r = 0, len(pool)\n",
        "        while l < r: #이중탐색 lower bound\n",
        "            mid = (l+r)//2\n",
        "            if pool[mid] >= score:\n",
        "                r = mid\n",
        "            else:\n",
        "                l = mid + 1\n",
        "        answer.append(len(pool) - l)\n",
        "    print(answer)"
      ]
    },
    {
      "cell_type": "markdown",
      "metadata": {
        "id": "v7F4JPOriYUf"
      },
      "source": [
        "## 구명보트 - 탐욕법"
      ]
    },
    {
      "cell_type": "code",
      "execution_count": null,
      "metadata": {
        "id": "SMh7BLMniZ8A"
      },
      "outputs": [],
      "source": [
        "from bisect import *\n",
        "def solution(people, limit):\n",
        "    if len(people) == 0:\n",
        "        return 0\n",
        "    elif len(people) == 1:\n",
        "        return 1\n",
        "    \n",
        "    people.sort()    \n",
        "    if people[0] + people[1] <= 100:\n",
        "        return 1 + solution(people[2:], limit)\n",
        "    else: \n",
        "        return 1 + solution(people[1:], limit)"
      ]
    },
    {
      "cell_type": "markdown",
      "metadata": {
        "id": "Lf7iEPURibJ2"
      },
      "source": [
        "테스트 케이스는 통과하지만, 효율성, 정확성 모두 틀림"
      ]
    },
    {
      "cell_type": "code",
      "execution_count": null,
      "metadata": {
        "id": "fV96_mrYm9fr"
      },
      "outputs": [],
      "source": [
        "import heapq\n",
        "from bisect import *\n",
        "def solution(people, limit):\n",
        "    heapq.heapify(people)\n",
        "    under_100_people = bisect_left(people,limit)\n",
        "\n",
        "    cal_boat = heapq.nsmallest(bisect_left(people,limit), people)\n",
        "    while cal_boat and cal_boat[0] + cal_boat[1] <= limit:\n",
        "        heapq.heappush(cal_boat, heapq.heappop(cal_boat) + heapq.heappop(cal_boat))\n",
        "\n",
        "    return len(people) - (under_100_people - len(cal_boat))"
      ]
    },
    {
      "cell_type": "markdown",
      "metadata": {
        "id": "fiBJwNAlm-Q_"
      },
      "source": [
        "보트엔 최대 2명인 조건을 만족 못함"
      ]
    },
    {
      "cell_type": "code",
      "execution_count": null,
      "metadata": {
        "id": "Ie07c6i4nAoG"
      },
      "outputs": [],
      "source": [
        "def solution(people, limit):\n",
        "    people.sort()\n",
        "    \n",
        "    answer = 0\n",
        "    s = 0\n",
        "    e = len(people) - 1\n",
        "    for _ in range(len(people)):\n",
        "        if s > e:\n",
        "            return answer\n",
        "        elif s == e:\n",
        "            return answer + 1\n",
        "        elif s < e:\n",
        "            if people[e] >= limit or people[s] + people[e] > limit:\n",
        "                answer +=1\n",
        "                e -=1\n",
        "            elif people[s] + people[e] <= limit:\n",
        "                answer += 1\n",
        "                s += 1\n",
        "                e -= 1\n",
        "people = [[70, 50, 80, 50, 130, 100], [70, 50, 80, 50]]\n",
        "limit = [100,240]\n",
        "# return = [5,2]\n",
        "for p,l in zip(people,limit):\n",
        "    print(solution(p,l))"
      ]
    },
    {
      "cell_type": "markdown",
      "metadata": {
        "id": "xcJMoucmpP_C"
      },
      "source": [
        "통과"
      ]
    },
    {
      "cell_type": "markdown",
      "metadata": {
        "id": "bmM8y-6iutHE"
      },
      "source": [
        "### 다른 사람 풀이(1)"
      ]
    },
    {
      "cell_type": "code",
      "execution_count": null,
      "metadata": {
        "id": "8-IMZpvUpRRJ"
      },
      "outputs": [],
      "source": [
        "def solution(people, limit):\n",
        "    people.sort()\n",
        "    \n",
        "    answer = 0\n",
        "    s = 0\n",
        "    e = len(people) - 1\n",
        "    while s < e:\n",
        "        if people[s] + people[e] <= limit:\n",
        "            s +=1\n",
        "            answer+=1\n",
        "        e -=1 \n",
        "    return len(people)- answer"
      ]
    },
    {
      "cell_type": "markdown",
      "metadata": {
        "id": "Ittwgqy7uwZd"
      },
      "source": [
        "- 나와 동일한 풀이이지만, 보다 파이써닉하고 효율적으로 해결"
      ]
    },
    {
      "cell_type": "markdown",
      "metadata": {
        "id": "1zn9-01jvPq3"
      },
      "source": [
        "### 풀이 (1) -- 내가 변형한 코드\n",
        "- while 조건을 s < e => s<=e로 수정 : 하나가 남았더라도 그 사람의 보트 수도 계산해야 하기 때문\n",
        "- 단 이 부분을 조건으로 넣기 위해선 answer +=1을 if문에 속한 코드가 아닌 while문에 속한 코드 위치로 변경해야 함"
      ]
    },
    {
      "cell_type": "code",
      "execution_count": null,
      "metadata": {
        "id": "eUqMUKRxvOpJ"
      },
      "outputs": [],
      "source": [
        "def solution(people, limit):\n",
        "    people.sort()\n",
        "    \n",
        "    answer = 0\n",
        "    s = 0\n",
        "    e = len(people) - 1\n",
        "    while s <= e:\n",
        "        if people[s] + people[e] <= limit:\n",
        "            s +=1   \n",
        "        e -=1 \n",
        "        answer+=1\n",
        "    return answer"
      ]
    },
    {
      "cell_type": "markdown",
      "metadata": {
        "id": "rD8ICtr8m_6u"
      },
      "source": [
        "## 후보키"
      ]
    },
    {
      "cell_type": "code",
      "execution_count": null,
      "metadata": {
        "id": "mI7wcP01nBfZ"
      },
      "outputs": [],
      "source": [
        "from itertools import combinations\n",
        "def solution(relation):\n",
        "    row = len(relation)\n",
        "    col = len(relation[0])\n",
        "    \n",
        "    #모든 attributes 조합\n",
        "    candidates = []\n",
        "    for i in range(1,col+1):\n",
        "        candidates += combinations(range(col), i) #combinations을 통해 모든 candidates 조합 출력\n",
        "    \n",
        "    #유일성 고려\n",
        "    unique = []\n",
        "    for cand in candidates:\n",
        "        tmp = set([tuple(r[c] for c in cand) for r in relation]) #특정 attr별 동일한 element가 있을 경우 중복값을 제거하기 위해 set()\n",
        "        if len(tmp) == row:\n",
        "            unique.append(cand)\n",
        "    \n",
        "    #최소성 고려\n",
        "    answer_list = set(unique)\n",
        "    for i in range(len(unique)):\n",
        "        for j in range(i+1, len(unique)):\n",
        "            if len(unique[i]) == len(set(unique[i]) & set(unique[j])): #조건별로, 특정 attrbute가 다른 조건의 attribute에 속해 있을 경우 범위가 넓은 조건 제거\n",
        "                answer_list.discard(unique[j]) #여기서 remove와 discard를 쓸 수 있는데, remove를 쓸 경우 이미 지운 대상이 있을 경우 error가 발생 // 반대로 discard는 있으면 지우고 없으면 없는대로 그대로 진행\n",
        "    \n",
        "    return len(answer_list)\n",
        "        \n",
        "\n",
        "relation = [[\"100\",\"ryan\",\"music\",\"2\"],[\"200\",\"apeach\",\"math\",\"2\"],[\"300\",\"tube\",\"computer\",\"3\"],[\"400\",\"con\",\"computer\",\"4\"],[\"500\",\"muzi\",\"music\",\"3\"],[\"600\",\"apeach\",\"music\",\"2\"]]\n",
        "solution(relation)"
      ]
    },
    {
      "cell_type": "markdown",
      "metadata": {
        "id": "qjIA22pYuDnE"
      },
      "source": [
        "### 다른 사람 풀이 - 비트"
      ]
    },
    {
      "cell_type": "code",
      "execution_count": null,
      "metadata": {
        "id": "QMO8EG4AL9VF"
      },
      "outputs": [],
      "source": [
        "def solution(relation):\n",
        "    answer = []\n",
        "    row = len(relation)\n",
        "    col = len(relation[0])\n",
        "    for i in range(1, 1 << col):\n",
        "        tmp_list = set()\n",
        "        for j in range(row):\n",
        "            tmp = ''\n",
        "            for k in range(col):\n",
        "                if i & (1 << k):\n",
        "                    tmp += relation[j][k]\n",
        "            tmp_list.add(tmp)\n",
        "        \n",
        "        if len(tmp_list) == row:\n",
        "            for ans in answer:\n",
        "                if (i & ans) == ans:\n",
        "                    break\n",
        "            else:\n",
        "                answer.append(i)\n",
        "    return len(answer)"
      ]
    },
    {
      "cell_type": "code",
      "execution_count": null,
      "metadata": {
        "id": "HxQLBVvWuDC6"
      },
      "outputs": [],
      "source": [
        "def solution(relation):\n",
        "    answer_list = []\n",
        "    for i in range(1, 1<< len(relation[0])): # attr 개수만큼 shift 시 모든 attr 조합에 만큼 loop\n",
        "        tmp_set = set()\n",
        "        for j in range(len(relation)):\n",
        "            tmp = ''\n",
        "            for k in range(len(relation[0])):\n",
        "                if i & (1 << k): #i 번째 속성의 조합에서 1을 k만큼 shift한 것과 동일한 속성이 있는지(ex, i = 6일 경우 110인데 1을 1번 혹은 2번 shfit 시 0이 아니므로 True)\n",
        "                    tmp += relation[j][k]\n",
        "            tmp_set.add(tmp)\n",
        "            \n",
        "        if len(tmp_set) == len(relation):\n",
        "            not_duplicate = True\n",
        "            for num in answer_list:\n",
        "                if (num & i) == num: # 두 조건에서 중복 속성이 있는지 ex)num = 5, i = 6 일 떄 5 = 101, 6 = 110 이므로 맨 앞의 1이 겹치므로 제외\n",
        "                    not_duplicate = False\n",
        "                    break\n",
        "            if not_duplicate:\n",
        "                answer_list.append(i)\n",
        "    \n",
        "    return len(answer_list)\n",
        "relation = [[\"100\",\"ryan\",\"music\",\"2\"],[\"200\",\"apeach\",\"math\",\"2\"],[\"300\",\"tube\",\"computer\",\"3\"],[\"400\",\"con\",\"computer\",\"4\"],[\"500\",\"muzi\",\"music\",\"3\"],[\"600\",\"apeach\",\"music\",\"2\"]]\n",
        "solution(relation)"
      ]
    },
    {
      "cell_type": "markdown",
      "metadata": {
        "id": "6ltCbpqduHVq"
      },
      "source": [
        "## 괄호 회전하기"
      ]
    },
    {
      "cell_type": "code",
      "execution_count": null,
      "metadata": {
        "id": "aGOmagoV-uf0"
      },
      "outputs": [],
      "source": [
        "from collections import deque\n",
        "def solution(s):\n",
        "    if len(s) % 2 != 0:\n",
        "        return 0\n",
        "    \n",
        "    res = 0\n",
        "    s = deque(list(s))\n",
        "    for _ in range(len(s)):\n",
        "        s.append(s.popleft())\n",
        "        tmp = []\n",
        "        for i in range(len(s)-1):\n",
        "            for j in range(i+1, len(s)):\n",
        "                if s[i] in tmp or s[j] in tmp:\n",
        "                    continue\n",
        "                \n",
        "                if s[i] + s[j] in [\"[]\", \"{}\", \"()\"]:\n",
        "                    tmp.extend([s[i], s[j]])\n",
        "        if len(tmp) == len(s):\n",
        "            res += 1\n",
        "                    \n",
        "\n",
        "    return res"
      ]
    },
    {
      "cell_type": "markdown",
      "metadata": {
        "id": "pADvJXrO-vEd"
      },
      "source": [
        "- 여러 테스트 케이스를 적용해도 통과,\n",
        "- 실제 테스트 시 3중 for문으로 인한 시간복잡도가 매우 커서 런타임 에러 발생\n",
        "- N * N-1 * N-M  => N^3(?)"
      ]
    },
    {
      "cell_type": "code",
      "execution_count": null,
      "metadata": {
        "id": "Nx56hUMb_Fdq"
      },
      "outputs": [],
      "source": [
        "from collections import deque\n",
        "def solution(s):\n",
        "    if len(s) % 2 != 0:\n",
        "        return 0\n",
        "    \n",
        "    res = 0\n",
        "    s = deque(list(s))\n",
        "    for _ in range(len(s)):\n",
        "    # for _ in range(1):\n",
        "        s.append(s.popleft())\n",
        "        \n",
        "        tmp = list(s)\n",
        "        while tmp:\n",
        "            i = 0\n",
        "            if tmp[i] in [\"]\", \"}\", \")\"]:\n",
        "                break\n",
        "                \n",
        "            for j in range(i+1,len(tmp)):\n",
        "                if tmp[i] + tmp[j] in [\"[]\", \"{}\", \"()\"]:\n",
        "                    tmp.pop(j)\n",
        "                    tmp.pop(i)\n",
        "                    break\n",
        "            else:\n",
        "                break\n",
        "\n",
        "        print(tmp)\n",
        "        if len(tmp) == 0:\n",
        "            res +=1\n",
        "                    \n",
        "    return res"
      ]
    },
    {
      "cell_type": "markdown",
      "metadata": {
        "id": "dv5KCXxrHUDp"
      },
      "source": [
        "- 실제 테스트 중 14번을 제외하고 모두 통과\n",
        "- \"([{)}]\" 이 괄호를 해결 못함"
      ]
    },
    {
      "cell_type": "code",
      "execution_count": null,
      "metadata": {
        "id": "fX0kBDPzHk6K"
      },
      "outputs": [],
      "source": [
        "from collections import deque\n",
        "def solution(s):\n",
        "    if len(s) % 2 != 0:\n",
        "        return 0\n",
        "    \n",
        "    answer = 0\n",
        "    s = deque(list(s))\n",
        "    for _ in range(len(s)):\n",
        "        s.append(s.popleft())\n",
        "        st = []\n",
        "        for i in range(len(s)):\n",
        "            if not st:\n",
        "                st.append(s[i])\n",
        "                continue\n",
        "\n",
        "            if st[-1] in [\"]\", \"}\", \")\"]:\n",
        "                break\n",
        "            else:\n",
        "                st.append(s[i])\n",
        "                \n",
        "            while len(st)>=2 and st[-2] + st[-1] in [\"[]\", \"{}\", \"()\"]:\n",
        "                st.pop()\n",
        "                st.pop()\n",
        "        \n",
        "        if not st:\n",
        "            answer += 1\n",
        "    \n",
        "    return answer\n"
      ]
    },
    {
      "cell_type": "markdown",
      "metadata": {
        "id": "3dKkv7cnNC8j"
      },
      "source": [
        "- 두번 째 코드와 달리 stack을 활용\n",
        "- 올바른 괄호일 경우 pop을 하여 제거하고 나머지 괄호를 비교"
      ]
    },
    {
      "cell_type": "markdown",
      "metadata": {
        "id": "IKnhKbAbNTNC"
      },
      "source": [
        "## 영어 끝말 잇기"
      ]
    },
    {
      "cell_type": "code",
      "execution_count": null,
      "metadata": {
        "id": "BPc_dvs3RXl5"
      },
      "outputs": [],
      "source": [
        "def solution(n, words):\n",
        "    st = [words[0]]\n",
        "    for i in range(1, len(words)):        \n",
        "        if words[i] in st or words[i-1][-1] != words[i][0]: return [i%n+1, i//n+1]\n",
        "        else: st.append(words[i])\n",
        "    return [0,0]\n"
      ]
    },
    {
      "cell_type": "code",
      "execution_count": null,
      "metadata": {
        "id": "G3VT7HpWRX0-"
      },
      "outputs": [],
      "source": [
        "def solution(n, words):\n",
        "    for i in range(1, len(words)):        \n",
        "        if words[i][0] != words[i-1][-1] or words[i] in words[:i]: return [(i%n)+1, (i//n)+1]\n",
        "    else: return [0,0]"
      ]
    },
    {
      "cell_type": "markdown",
      "metadata": {
        "id": "9u8ctjlgSvOH"
      },
      "source": [
        "유사 코드지만 조금 더 간결하고, 불필요한 부분 제거"
      ]
    },
    {
      "cell_type": "markdown",
      "metadata": {
        "id": "5JQ6r-tce5vr"
      },
      "source": [
        "## [1차] 프렌즈4블록"
      ]
    },
    {
      "cell_type": "code",
      "execution_count": null,
      "metadata": {
        "id": "HBi_KM_AS2XG"
      },
      "outputs": [],
      "source": [
        "def get_delete_block(m,n,board):\n",
        "    del_block_list = set()\n",
        "    for i in range(m-1):\n",
        "        for j in range(n-1):\n",
        "            if board[i][j] == board[i][j+1] == board[i+1][j] == board[i+1][j+1] != 0:\n",
        "                del_block_list.update([(i,j),(i,j+1),(i+1,j),(i+1,j+1)])\n",
        "    return del_block_list\n",
        "\n",
        "def update_board(m,n,del_block_list,board):\n",
        "    for i,j in del_block_list: board[i][j] = 0\n",
        "    \n",
        "    for k in range(m-1,0,-1):\n",
        "        for l in range(n):\n",
        "            if board[k][l] == 0:\n",
        "                loc = k-1\n",
        "                while board[loc][l] == 0 and loc >= 1: loc -= 1\n",
        "                board[k][l], board[loc][l] =  board[loc][l], 0               \n",
        "    return board\n",
        "    \n",
        "def solution(m, n, board):\n",
        "    board = [list(b) for b in board]\n",
        "    res = 0\n",
        "    del_block_list = [0]\n",
        "    \n",
        "    while del_block_list:\n",
        "        del_block_list = get_delete_block(m,n,board)\n",
        "        board = update_board(m,n,del_block_list, board)\n",
        "    return sum(board, []).count(0)\n",
        "    \n",
        "m,n = 6,6\n",
        "board = [\"TTTANT\", \"RRFACC\", \"RRRFCC\", \"TRRRAA\", \"TTMMMF\", \"TMMTTJ\"]\n",
        "solution(m,n,board)"
      ]
    },
    {
      "cell_type": "markdown",
      "metadata": {
        "id": "Bd8vyGlpm_5r"
      },
      "source": [
        "## 2개 이하로 다른 비트"
      ]
    },
    {
      "cell_type": "code",
      "execution_count": null,
      "metadata": {
        "id": "q46-yl3WnCuj"
      },
      "outputs": [],
      "source": [
        "def get_bit(n,m):\n",
        "    return m if str(bin(n^m)[2:]).count(\"1\") <= 2 else get_bit(n,m+1)\n",
        "\n",
        "def solution(numbers):\n",
        "    return [get_bit(n,n+1) for n in numbers]"
      ]
    },
    {
      "cell_type": "markdown",
      "metadata": {
        "id": "Sl4MajEbnDL8"
      },
      "source": [
        "- 재귀, 런타임 에러 발생"
      ]
    },
    {
      "cell_type": "code",
      "execution_count": null,
      "metadata": {
        "id": "pI-sS68FnG0h"
      },
      "outputs": [],
      "source": [
        "def solution(numbers):\n",
        "    answer = []\n",
        "    for n in numbers:\n",
        "        m = n+1\n",
        "        while str(bin(n^m)[2:]).count(\"1\") > 2: m +=1\n",
        "        answer.append(m)\n",
        "    return answer"
      ]
    },
    {
      "cell_type": "markdown",
      "metadata": {
        "id": "YCNlEXMXnIeF"
      },
      "source": [
        "- 테스트 10,11 런타임 에러 발생"
      ]
    },
    {
      "cell_type": "code",
      "execution_count": null,
      "metadata": {
        "id": "-FABg5HBxcTO"
      },
      "outputs": [],
      "source": [
        "def solution(numbers):\n",
        "    answer = []\n",
        "    for n in numbers:\n",
        "        num = list('0' + bin(n)[2:])\n",
        "        idx = ''.join(num).rfind('0')\n",
        "        num[idx] = '1'\n",
        "        if n%2 != 0:\n",
        "            num[idx+1] = '0'\n",
        "        answer.append(int(''.join(num),2))\n",
        "    return answer\n",
        "solution([2,7])"
      ]
    },
    {
      "cell_type": "markdown",
      "metadata": {
        "id": "sas1J5IR40Ab"
      },
      "source": [
        "비트의 특성을 고려하여 문제를 풀어야 함\n",
        "---\n",
        "- 2의 배수의 경우, 값이 1이 커지면 1개의 비트만 다른 수를 가질 수 있음\n",
        "- 2의 배수가 아닌 경우, 다른 비트가 가장 큰 값을 가지는 수를 찾아야 하는데 방법은 다음과 같다.\n",
        "    - 1) 숫자를 비트로 변환 후 앞에 '0' 추가\n",
        "    - 2) 현재 비트에서 가장 우측 '0'의 idx 번호 찾기(rfind)\n",
        "    - 3) 해당 idx 값을 '1'로 변환\n",
        "    - 4) idx + 1 값을 '0'으로 변환\n",
        "    - 5) 해당 값을 다시 10진수로 변환하여 출력"
      ]
    },
    {
      "cell_type": "code",
      "execution_count": null,
      "metadata": {
        "id": "gWr1BqbR39hs"
      },
      "outputs": [],
      "source": [
        "def solution(numbers):\n",
        "    answer = []\n",
        "    for n in numbers:\n",
        "        if n %2 == 0:\n",
        "            answer.append(n+1)\n",
        "        else:\n",
        "            num = list('0' + bin(n)[2:])\n",
        "            idx = ''.join(num).rfind('0')\n",
        "            num[idx] = '1'\n",
        "            num[idx+1] = '0'\n",
        "            answer.append(int(''.join(num),2))\n",
        "    return answer\n",
        "solution([2,7])"
      ]
    },
    {
      "cell_type": "markdown",
      "metadata": {
        "id": "W71GwDFr6ybY"
      },
      "source": [
        "## 점프와 순간이동"
      ]
    },
    {
      "cell_type": "code",
      "execution_count": null,
      "metadata": {
        "id": "St0QdEz_60Pt"
      },
      "outputs": [],
      "source": [
        "def solution(n):\n",
        "    return bin(n).count(\"1\")\n",
        "\n",
        "for n in [5,6,5000]:\n",
        "  print(solution(n))"
      ]
    },
    {
      "cell_type": "markdown",
      "metadata": {
        "id": "Cm8qAD-r_Qnb"
      },
      "source": [
        "dfs나 bfs로 구할 경우 시간초과가 발생한다. 이 문제를 풀 때는 비트로 계산하면 되는데, 주어진 수에서 2진 분할이 가능한 경우 순간이동이 가능하고, 그렇지 않을 경우 점프를 하면 된다. 즉 2진수로 표현 시 점프하는 순간인 1의 개수를 체크하면 된다."
      ]
    },
    {
      "cell_type": "markdown",
      "metadata": {
        "id": "a1L5XeEP_hpk"
      },
      "source": [
        "## [1차] 캐시"
      ]
    },
    {
      "cell_type": "markdown",
      "metadata": {
        "id": "qOAyDSI5B5Jh"
      },
      "source": [
        "페이지 알고리즘\n",
        "- 사회의 자원은 한정적으로, 한정된 자원을 효율적으로 사용하기 위한 법과 규칙이 존재\n",
        "- 컴퓨터 자원에서, 한도 내에서 최고의 효율을 얻기 위한 여러 알고리즘이 존재하는데, 이 알고리즘을 **페이지 교체 알고리즘**이라고 함\n",
        "---\n",
        "- 컴퓨터는 보통 주기억 장치인 램과 보조기억 장치인 하드나 ssd 등의 대용량 기억장치를 가지고 있음\n",
        "- 램이 속도가 빠르기 때문에 보조기억장치로 부터 데이터를 램에 저장해놓고 램에 있ㅆ는 데이터를 가지고 빠르게 연산\n",
        "- 이 때 램을 같은 크기의 블록으로 구성해서 운용하는데 이를 블록 페이지 라고 부름\n",
        "- 만약 CPU가 계산을 할 때 필요한 데이터가 페이지에 있다면 cache hit 라고 부르며 ,없는 경우에는 보조기억장치로부터 데이터를 페이지에 옮겨온 후에 계산을 하는데 이 때를 cache miss라고 부르며, hit가 miss보다 시간이 단축\n",
        "- hit와 miss 일 때 시간 차이가 나기에 빠른 연산을 위해서 페이지에 여러 정보 중 어떠 정보를 가장 오래 저장해 놓아야 하는지가 매우 중요 (램의 자원이 같더라도 알고리즘 방식에 따라 10초 혹은 1분이 걸릴 수 있음)\n",
        "- 페이지 알고리즘의 대표적 앙류\n",
        "  - FiFo(First In First Out)\n",
        "  - OPT(OPTimal Page Replacement)\n",
        "  - LRU(Least Recently Used)\n",
        "  - Count-Based\n",
        "  - LFU(Least Frequently Used)\n",
        "  - MFU(Most Frequently USed)\n",
        "---\n",
        "LRU(Least Recently Used)\n",
        "- 가장 최근에 사용하지 않은 것이란 의미로, 페이지에서 제거할 때 가장 오랫동안 사용하지 않은 것을 제거하겠다는 알고리즘\n",
        "- 이 알고리즘의 기본 가설은 가장 오랫동안 사용하지 않았던 데이터는 앞으로도 사용할 확률이 적다는 것\n",
        "- LRU 알고리즘 구현\n",
        "  - 첫 번째 방법) 페이지에 저장된 데이터가 언제 사용되었는지를 알 수 있게하는 부분을 구현해서 제일 오랫동안 참조되지 않은 데이터를 제거\n",
        "  - 두 번째 방법) 페이지에 데이터를 큐형식으로 저장. 페이지 내에 필요한 데이터가 존재한다면 데이터를 페이지 내에서 제거하고 맨 위로 다시 올리고, 만약 데이터가 존재하지 않는다면 바로 입력하여 맨 아래에 있는 데이터를 삭제"
      ]
    },
    {
      "cell_type": "code",
      "execution_count": null,
      "metadata": {
        "id": "CzQQxIEKLXTt"
      },
      "outputs": [],
      "source": [
        "from collections import deque\n",
        "def solution(cacheSize, cities):\n",
        "    if cacheSize == 0:\n",
        "        return len(cities)*5\n",
        "    \n",
        "    cache = []\n",
        "    time = 0\n",
        "    for city in cities:\n",
        "        city = city.lower()\n",
        "        if not cache:\n",
        "            cache.append(city)\n",
        "            time += 5\n",
        "            continue\n",
        "        \n",
        "        if city in cache:\n",
        "            cache.append(cache.pop(cache.index(city)))\n",
        "            time +=1\n",
        "        else:\n",
        "            time += 5\n",
        "            if len(cache) < cacheSize: #cache가 cache_size보다 작은 경우\n",
        "                cache.append(city)\n",
        "            else:\n",
        "                cache.pop(0)\n",
        "                cache.append(city)\n",
        "    return time\n",
        "\n",
        "cachesize = [3,3,2,5,2,0]\n",
        "cities = [[\"Jeju\", \"Pangyo\", \"Seoul\", \"NewYork\", \"LA\", \"Jeju\", \"Pangyo\", \"Seoul\", \"NewYork\", \"LA\"],\n",
        "          [\"Jeju\", \"Pangyo\", \"Seoul\", \"Jeju\", \"Pangyo\", \"Seoul\", \"Jeju\", \"Pangyo\", \"Seoul\"],\n",
        "          [\"Jeju\", \"Pangyo\", \"Seoul\", \"NewYork\", \"LA\", \"SanFrancisco\", \"Seoul\", \"Rome\", \"Paris\", \"Jeju\", \"NewYork\", \"Rome\"],\n",
        "          [\"Jeju\", \"Pangyo\", \"Seoul\", \"NewYork\", \"LA\", \"SanFrancisco\", \"Seoul\", \"Rome\", \"Paris\", \"Jeju\", \"NewYork\", \"Rome\"],         \n",
        "          [\"Jeju\", \"Pangyo\", \"NewYork\", \"newyork\"],\n",
        "          [\"Jeju\", \"Pangyo\", \"Seoul\", \"NewYork\", \"LA\"]]\n",
        "for ca, ci in zip(cachesize, cities):\n",
        "  print(solution(ca,ci))"
      ]
    },
    {
      "cell_type": "markdown",
      "metadata": {
        "id": "bcHInR1wNt3x"
      },
      "source": [
        "문제풀이\n",
        "- 1) cache에 저장된 값이 없다면, 데이터 추가 및 시간 5초 추가\n",
        "- 2) cache에 저장되어 있는 데이터인 경우 해당 데이터를 추출 후 다시 append 및 시간 1초 추가\n",
        "- 3) cache에 없는 데이터인 경우, cache에 저장된 데이터 개수가 cachesize보다 크면, 처음 데이터 추출 및 입력 데이터 저장 & 시간 5초 추가하고, 작을 경우 입력 데이터 저장 및 시간 5초 추가"
      ]
    },
    {
      "cell_type": "markdown",
      "metadata": {
        "id": "L2QiWc_NOx5-"
      },
      "source": [
        "### 다른 사람 풀이(1)\n",
        "---\n",
        "- deque의 maxlen 활용, (크기 고정)\n",
        "- #deque(maxlen = cachesize) 시 cachesize가 0일 경우 append를 해도 아무것도 저장되지 않으므로 17번, 20번 테스트문제도 통과\n",
        "- 단, 시간 단축을 위해 0일 경우 cities 개수와 5를 곱한 값을 바로 반환 후 종료"
      ]
    },
    {
      "cell_type": "code",
      "execution_count": null,
      "metadata": {
        "id": "yblhJvTvO08N"
      },
      "outputs": [],
      "source": [
        "from collections import deque\n",
        "def solution(cachesize, cities):\n",
        "    if cachesize == 0: \n",
        "        return len(cities)*5\n",
        "    \n",
        "    cache = deque(maxlen = cachesize)\n",
        "    time = 0\n",
        "    for city in cities:\n",
        "        city = city.lower()\n",
        "        if city in cache:\n",
        "            cache.remove(city)\n",
        "            cache.append(city)\n",
        "            time +=1\n",
        "        else:\n",
        "            cache.append(city)\n",
        "            time +=5\n",
        "    return time\n",
        "\n",
        "cachesize = [3,3,2,5,2,0]\n",
        "cities = [[\"Jeju\", \"Pangyo\", \"Seoul\", \"NewYork\", \"LA\", \"Jeju\", \"Pangyo\", \"Seoul\", \"NewYork\", \"LA\"],\n",
        "          [\"Jeju\", \"Pangyo\", \"Seoul\", \"Jeju\", \"Pangyo\", \"Seoul\", \"Jeju\", \"Pangyo\", \"Seoul\"],\n",
        "          [\"Jeju\", \"Pangyo\", \"Seoul\", \"NewYork\", \"LA\", \"SanFrancisco\", \"Seoul\", \"Rome\", \"Paris\", \"Jeju\", \"NewYork\", \"Rome\"],\n",
        "          [\"Jeju\", \"Pangyo\", \"Seoul\", \"NewYork\", \"LA\", \"SanFrancisco\", \"Seoul\", \"Rome\", \"Paris\", \"Jeju\", \"NewYork\", \"Rome\"],         \n",
        "          [\"Jeju\", \"Pangyo\", \"NewYork\", \"newyork\"],\n",
        "          [\"Jeju\", \"Pangyo\", \"Seoul\", \"NewYork\", \"LA\"]]\n",
        "for ca, ci in zip(cachesize, cities):\n",
        "  print(solution(ca,ci))"
      ]
    },
    {
      "cell_type": "markdown",
      "metadata": {
        "id": "ayGjHUE5fDqa"
      },
      "source": [
        "## 쿼드 압축 후 개수 세기\n",
        "---\n",
        "여기서 answer에 nonlocal을 선언하지 않는 이유는?\n",
        "- list, dict, set은 mutable 변수 타입\n",
        "- int, float, string, tuple 등은 immutable 변수 타입\n",
        "  - 예를 들어, a = 1인데 a +=1하면 2가 되는데 이 경우 값을 변경하면 객체 자체의 주소값도 변경됨\n",
        "  - 반대로, immutable 변수는 변수 내의 값을 변경해도 객체 자체는 그대롭 유지됨\n",
        "- 따라서 외부 함수의 변수를 사용할 때 객체 자체가 변경되는 변수는 nonlocal을 선언하여 내부 함수에서도 변경하여 사용할 수 있도록 해야 함\n",
        "- immutable은 객체가 유지되므로 nonlocal을 하지 않아도 됌"
      ]
    },
    {
      "cell_type": "code",
      "execution_count": null,
      "metadata": {
        "id": "YmDI9NMiQBm8"
      },
      "outputs": [],
      "source": [
        "def solution(arr):\n",
        "    answer = [0,0]\n",
        "    N = len(arr)\n",
        "    \n",
        "    def comp(x,y,n):\n",
        "        init = arr[x][y]\n",
        "        for i in range(x,x+n):\n",
        "            for j in range(y,y+n):\n",
        "                if init != arr[i][j]:\n",
        "                    nn = n//2\n",
        "                    comp(x, y, nn)\n",
        "                    comp(x+nn, y, nn)\n",
        "                    comp(x, y+nn, nn)\n",
        "                    comp(x+nn, y+nn, nn)\n",
        "                    return\n",
        "        answer[init] += 1\n",
        "    comp(0,0,N)\n",
        "    return answer\n",
        "\n",
        "solution([[1,1,0,0],[1,0,0,0],[1,0,0,1],[1,1,1,1]])"
      ]
    },
    {
      "cell_type": "markdown",
      "metadata": {
        "id": "62qVnMgknv7w"
      },
      "source": [
        "## 가장 큰 정사각형 찾기"
      ]
    },
    {
      "cell_type": "code",
      "execution_count": null,
      "metadata": {
        "id": "5jFESHsy7U5a"
      },
      "outputs": [],
      "source": [
        "def check_one_square(board):\n",
        "    for i in range(len(board)):\n",
        "        for j in range(len(board[0])):\n",
        "            if board[i][j] == 0:\n",
        "                return False\n",
        "    return True\n",
        "\n",
        "def solution(board):\n",
        "    check_one = sum(board, []).count(1)\n",
        "    if check_one == 0:\n",
        "        return 0\n",
        "    elif check_one <= 3:\n",
        "        return 1\n",
        "    \n",
        "    size = len(board[0]) if len(board) > len(board[0]) else len(board)\n",
        "    for s in range(size,0,-1):\n",
        "        n = len(board) - s + 1\n",
        "        m = len(board[0]) - s + 1\n",
        "        \n",
        "        for a in range(n):\n",
        "            for b in range(m):\n",
        "                tmp_board = [[board[a+i][b+j] for j in range(s)] for i in range(s)]\n",
        "                if check_one_square(tmp_board):\n",
        "                    return s**2"
      ]
    },
    {
      "cell_type": "markdown",
      "metadata": {
        "id": "H0TLn-PZ7VQj"
      },
      "source": [
        "시간 초과"
      ]
    },
    {
      "cell_type": "code",
      "execution_count": null,
      "metadata": {
        "id": "LkQxwC6_7XGd"
      },
      "outputs": [],
      "source": [
        "def solution(board):\n",
        "    # if len(board) == 1:\n",
        "    #     return max(board[0])\n",
        "    \n",
        "    for i in range(len(board)):\n",
        "        for j in range(len(board[0])):\n",
        "            if min(i,j) != 0 and board[i][j]!=0:\n",
        "                board[i][j] = min(board[i][j-1],board[i-1][j],board[i-1][j-1])+1\n",
        "                \n",
        "    \n",
        "    return max(sum(board, []))**2\n",
        "\n",
        "boards = [[[0,1,1,1],[1,1,1,1],[1,1,1,1],[0,0,1,0]], [[0,0,1,1],[1,1,1,1]]]\n",
        "for board in boards:\n",
        "  print(solution(board))"
      ]
    },
    {
      "cell_type": "markdown",
      "metadata": {
        "id": "-8ZR56EN-ZaA"
      },
      "source": [
        "- 주석 표시한 코드를  추가할 경우, board의 col 개수가 매우 클 경우 한 번 확인하고 지나가는 것으로 인해 시간 초과\n",
        "- dp를 이용하여 정사각형 개수 추적\n",
        "- 다만 효율성이 간당간당하여 실행할 떄마다 실패하거나 성공할 수 있음"
      ]
    },
    {
      "cell_type": "code",
      "execution_count": null,
      "metadata": {
        "id": "L8gxZUvX-jlM"
      },
      "outputs": [],
      "source": [
        "def solution(board):\n",
        "    answer = board[0][0]\n",
        "    \n",
        "    for i in range(1,len(board)):\n",
        "        for j in range(1, len(board[0])):\n",
        "            if board[i][j] != 0:\n",
        "                board[i][j] = min(board[i][j-1],board[i-1][j],board[i-1][j-1])+1\n",
        "                answer = max(board[i][j], answer)\n",
        "    return answer**2"
      ]
    },
    {
      "cell_type": "markdown",
      "metadata": {
        "id": "dRcDgArhKmrU"
      },
      "source": [
        "초기 값을 지정하고, board에서 값이 변할 때마자 max 값 저장 후 return 시 바로 사용하면 문제 없음   \n",
        "단, 초기값을 0으로 하게 되면, [[1,0],[0,0]]을 못찾기에 실패가 뜸   \n",
        "이 문제 한해서, 0,0의 값을 초기 값으로 지정"
      ]
    },
    {
      "cell_type": "code",
      "execution_count": null,
      "metadata": {
        "id": "7_dfFlWkK2yR"
      },
      "outputs": [],
      "source": []
    }
  ],
  "metadata": {
    "colab": {
      "authorship_tag": "ABX9TyOeDlGDznFRZBkE/xZEyqts",
      "collapsed_sections": [],
      "include_colab_link": true,
      "name": "210527 programmer_Lev2.ipynb",
      "private_outputs": true,
      "provenance": [],
      "toc_visible": true
    },
    "kernelspec": {
      "display_name": "Python 3",
      "name": "python3"
    },
    "language_info": {
      "codemirror_mode": {
        "name": "ipython",
        "version": 3
      },
      "file_extension": ".py",
      "mimetype": "text/x-python",
      "name": "python",
      "nbconvert_exporter": "python",
      "pygments_lexer": "ipython3",
      "version": "3.8.10"
    }
  },
  "nbformat": 4,
  "nbformat_minor": 0
}
