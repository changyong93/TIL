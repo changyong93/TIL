{
  "nbformat": 4,
  "nbformat_minor": 0,
  "metadata": {
    "colab": {
      "name": "딥러닝을_이용한_자연어처리_입문(11_3_RNN을 이용한 텍스트 분류- 로이터 뉴스 분류하기)",
      "private_outputs": true,
      "provenance": [],
      "toc_visible": true,
      "authorship_tag": "ABX9TyNDywY+S/jJGAUBcJB/jDij",
      "include_colab_link": true
    },
    "kernelspec": {
      "name": "python3",
      "display_name": "Python 3"
    },
    "language_info": {
      "name": "python"
    }
  },
  "cells": [
    {
      "cell_type": "markdown",
      "metadata": {
        "id": "view-in-github",
        "colab_type": "text"
      },
      "source": [
        "<a href=\"https://colab.research.google.com/github/changyong93/Natural-language-processing-with-chat-bot/blob/main/%EB%94%A5%EB%9F%AC%EB%8B%9D%EC%9D%84_%EC%9D%B4%EC%9A%A9%ED%95%9C_%EC%9E%90%EC%97%B0%EC%96%B4%EC%B2%98%EB%A6%AC_%EC%9E%85%EB%AC%B8(11_3_RNN%EC%9D%84_%EC%9D%B4%EC%9A%A9%ED%95%9C_%ED%85%8D%EC%8A%A4%ED%8A%B8_%EB%B6%84%EB%A5%98_%EB%A1%9C%EC%9D%B4%ED%84%B0_%EB%89%B4%EC%8A%A4_%EB%B6%84%EB%A5%98%ED%95%98%EA%B8%B0).ipynb\" target=\"_parent\"><img src=\"https://colab.research.google.com/assets/colab-badge.svg\" alt=\"Open In Colab\"/></a>"
      ]
    },
    {
      "cell_type": "markdown",
      "metadata": {
        "id": "zvXkRlvL3ogm"
      },
      "source": [
        "# 로이터 뉴스 분류하기(Reuters News Classification)"
      ]
    },
    {
      "cell_type": "markdown",
      "metadata": {
        "id": "uFaodo2Tdhyz"
      },
      "source": [
        "## 로이터 뉴스 데이터에 대한 이해"
      ]
    },
    {
      "cell_type": "code",
      "metadata": {
        "id": "JCZ72rmUBKTB"
      },
      "source": [
        "from tensorflow.keras.datasets import reuters\n",
        "import matplotlib.pyplot as plt\n",
        "import numpy as np\n",
        "import seaborn as sns"
      ],
      "execution_count": null,
      "outputs": []
    },
    {
      "cell_type": "code",
      "metadata": {
        "id": "pk_i3l-8BgQ_"
      },
      "source": [
        "(X_train, y_train), (X_test,y_test) = reuters.load_data(num_words=None, test_split=0.2)\n",
        "#numwords : 이 데이터 셋에서 등장 빈도 순위로 몇 번째에 해당하는 단어까지 사용할 것인지 조절"
      ],
      "execution_count": null,
      "outputs": []
    },
    {
      "cell_type": "code",
      "metadata": {
        "id": "3aXh1RuGCMlU"
      },
      "source": [
        "print(f\"훈련용 뉴스 기사 : {len(X_train)}\")\n",
        "print(f\"테스트용 뉴스 기사 : {len(X_test)}\")\n",
        "print(f\"카테고리 개수 : {max(y_train) + 1}\")"
      ],
      "execution_count": null,
      "outputs": []
    },
    {
      "cell_type": "code",
      "metadata": {
        "id": "6Dw0a9smEXrG"
      },
      "source": [
        "#첫번째 훈련용 뉴스 기사 및 레이블\n",
        "print(X_train[0])\n",
        "print(y_train[0])\n",
        "#X_train의 정수인코딩 => 0: 빈도수가 가장 높은 것, 값이 클수록 빈도수가 낮은 것\n",
        "#y_train = 3 : 카테고리 3번"
      ],
      "execution_count": null,
      "outputs": []
    },
    {
      "cell_type": "code",
      "metadata": {
        "id": "ZAXiUox2Enn9"
      },
      "source": [
        "#전체 뉴스 기사\n",
        "print(f\"뉴스 기사의 최대 길이 : {max(len(l) for l in X_train)}\")\n",
        "print(f\"뉴스 기사의 평균 길이 : {(sum(len(l) for l in X_train)) / len(X_train)}\")\n",
        "\n",
        "plt.hist([len(l) for l in X_train],bins = 50)\n",
        "plt.xlabel(\"length of samples\")\n",
        "plt.ylabel(\"number of samples\")\n",
        "plt.show()"
      ],
      "execution_count": null,
      "outputs": []
    },
    {
      "cell_type": "code",
      "metadata": {
        "id": "FZshsVlRFNPH"
      },
      "source": [
        "fig,ax = plt.subplots(ncols = 1)\n",
        "fig.set_size_inches(12,5)\n",
        "sns.countplot(y_train)"
      ],
      "execution_count": null,
      "outputs": []
    },
    {
      "cell_type": "code",
      "metadata": {
        "id": "B8wpeqJ7Fbex"
      },
      "source": [
        "unique_elements, counts_elements = np.unique(y_train, return_counts=True)\n",
        "print(\"각 레이블에 대한 빈도수\")\n",
        "print(np.asarray([unique_elements,counts_elements]))\n",
        "# np.asarray vs np.array\n",
        "# 기본적으로 두 함수는 같은 기능을 수행\n",
        "# 차이 : copy()옵션 default : array : True / asarray : False\n",
        "# 단 type을 convert할 경우(list => array) copy() 옵션이 무시되어 둘 다 동일함"
      ],
      "execution_count": null,
      "outputs": []
    },
    {
      "cell_type": "code",
      "metadata": {
        "id": "6vh9OYTAG07t"
      },
      "source": [
        "word_to_index = reuters.get_word_index() #reuters dataset에 인덱스별 카운트 횟수가 포함되어 있음\n",
        "print(word_to_index)"
      ],
      "execution_count": null,
      "outputs": []
    },
    {
      "cell_type": "code",
      "metadata": {
        "id": "-bNFWmQ-HCA9"
      },
      "source": [
        "#상기와 같이 출력할 경우 어떤 단어에 어떤 인덱스가 부여되었는지 확인하기 어려우므로 좀 더 쉽게 단어를 확인할 수 있도록 변경\n",
        "index_to_word = {}\n",
        "for key,value in word_to_index.items():\n",
        "  index_to_word[value] = key"
      ],
      "execution_count": null,
      "outputs": []
    },
    {
      "cell_type": "code",
      "metadata": {
        "id": "fuE_gqYJIilg"
      },
      "source": [
        "print(index_to_word)"
      ],
      "execution_count": null,
      "outputs": []
    },
    {
      "cell_type": "code",
      "metadata": {
        "id": "b0Zi1xN8I0ba"
      },
      "source": [
        "print(\"빈도수 상위 1번 단어 : \",index_to_word[1])\n",
        "print(\"빈도수 상위 28842번 단어 : \",index_to_word[28842])\n",
        "\n",
        "#보통 불용어로 처리되는 the가 어김없이 등장 빈도수 1위를 차지하는 것을 확인"
      ],
      "execution_count": null,
      "outputs": []
    },
    {
      "cell_type": "code",
      "metadata": {
        "id": "10TOH04jI-FE"
      },
      "source": [
        "# 훈련용 뉴기 기사 중 첫번째 기사가 어떤 구성으로 되어있는지 확인\n",
        "for index, token in enumerate((\"<pad>\",\"<sos>\",\"<unk>\")):\n",
        "  index_to_word[index]=token\n",
        "\n",
        "print(' '.join([index_to_word[index] for index in X_train[0]]))"
      ],
      "execution_count": null,
      "outputs": []
    },
    {
      "cell_type": "markdown",
      "metadata": {
        "id": "pRUwAWqRdeqQ"
      },
      "source": [
        "## LSTM으로 로이터 뉴스 분류하기"
      ]
    },
    {
      "cell_type": "code",
      "metadata": {
        "id": "fRjXBygRdlqe"
      },
      "source": [
        "from tensorflow.keras.datasets import reuters\n",
        "from tensorflow.keras.models import Sequential\n",
        "from tensorflow.keras.layers import Dense, LSTM, Embedding\n",
        "from tensorflow.keras.preprocessing.sequence import pad_sequences\n",
        "from tensorflow.keras.utils import to_categorical\n",
        "from tensorflow.keras.callbacks import  EarlyStopping, ModelCheckpoint\n",
        "from tensorflow.keras.models import load_model"
      ],
      "execution_count": null,
      "outputs": []
    },
    {
      "cell_type": "code",
      "metadata": {
        "id": "o5lVNXNaez7d"
      },
      "source": [
        "(X_train, y_train),(X_test, y_test) = reuters.load_data(num_words=1000, test_split=0.2)"
      ],
      "execution_count": null,
      "outputs": []
    },
    {
      "cell_type": "code",
      "metadata": {
        "id": "LBUTiFipfAZu"
      },
      "source": [
        "max_len = 100\n",
        "X_train = pad_sequences(sequences=X_train, maxlen = max_len)\n",
        "X_test = pad_sequences(sequences=X_test, maxlen = max_len)"
      ],
      "execution_count": null,
      "outputs": []
    },
    {
      "cell_type": "code",
      "metadata": {
        "id": "snNETVYDfLmz"
      },
      "source": [
        "y_train = to_categorical(y_train)\n",
        "y_test = to_categorical(y_test)"
      ],
      "execution_count": null,
      "outputs": []
    },
    {
      "cell_type": "code",
      "metadata": {
        "id": "OQLzC6nPfZLg"
      },
      "source": [
        "model = Sequential()\n",
        "model.add(Embedding(1000, 120))\n",
        "model.add(LSTM(units = 120))\n",
        "model.add(Dense(46, activation='softmax'))"
      ],
      "execution_count": null,
      "outputs": []
    },
    {
      "cell_type": "code",
      "metadata": {
        "id": "Wo5z1-nJfw90"
      },
      "source": [
        "#검증 데이터 손실(val_loss)가 증가 시 과적합 징후이므로 검증 데이터 손실이 4회 이상 증가하면 학습을 조기 종료\n",
        "#또한, ModelCheckPoint를 사용하여 검증 데이터의 정확도(val_acc)가 이전보다 좋아질 경우에만 모델을 저장\n",
        "es = EarlyStopping(monitor = 'val_loss', mode = \"min\",verbose = 1, patience = 4)\n",
        "mc = ModelCheckpoint(filepath = \"best_model.h5\", monitor='val_acc',mode = 'max', verbose = 1, save_best_only=True)\n"
      ],
      "execution_count": null,
      "outputs": []
    },
    {
      "cell_type": "code",
      "metadata": {
        "id": "Ij-AV65JgxNb"
      },
      "source": [
        "model.compile(loss = \"categorical_crossentropy\", optimizer='adam', metrics = ['acc'])"
      ],
      "execution_count": null,
      "outputs": []
    },
    {
      "cell_type": "code",
      "metadata": {
        "id": "PG9aN2_BhI7H"
      },
      "source": [
        "history = model.fit(x = X_train, y = y_train, batch_size=128, epochs = 30, callbacks = [es,mc], validation_data=(X_test, y_test))"
      ],
      "execution_count": null,
      "outputs": []
    },
    {
      "cell_type": "code",
      "metadata": {
        "id": "yfhkXUOehT2C"
      },
      "source": [
        "loaded_model = load_model(\"best_model.h5\")\n",
        "print(\"\\n 테스트 정확도: %.4f\" % (loaded_model.evaluate(X_test,y_test)[1]))"
      ],
      "execution_count": null,
      "outputs": []
    },
    {
      "cell_type": "code",
      "metadata": {
        "id": "VfTGyTLjmngU"
      },
      "source": [
        "epochs = range(1, len(history.history['acc']) + 1)\n",
        "plt.plot(epochs, history.history['loss'])\n",
        "plt.plot(epochs, history.history['val_loss'])\n",
        "plt.title('model loss')\n",
        "plt.ylabel('loss')\n",
        "plt.xlabel('epoch')\n",
        "plt.legend(['train', 'test'], loc='upper left')\n",
        "plt.show()"
      ],
      "execution_count": null,
      "outputs": []
    },
    {
      "cell_type": "code",
      "metadata": {
        "id": "7KOiiOWmqs63"
      },
      "source": [
        ""
      ],
      "execution_count": null,
      "outputs": []
    }
  ]
}