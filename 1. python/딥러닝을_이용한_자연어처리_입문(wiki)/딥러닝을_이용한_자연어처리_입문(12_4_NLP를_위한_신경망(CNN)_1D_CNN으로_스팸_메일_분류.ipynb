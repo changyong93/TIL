{
  "nbformat": 4,
  "nbformat_minor": 0,
  "metadata": {
    "colab": {
      "name": "딥러닝을_이용한_자연어처리_입문(12_4_NLP를 위한 신경망(CNN)_1D CNN으로 스팸 메일 분류",
      "private_outputs": true,
      "provenance": [],
      "authorship_tag": "ABX9TyMF2nghxe9T245iXfee6osH",
      "include_colab_link": true
    },
    "kernelspec": {
      "name": "python3",
      "display_name": "Python 3"
    },
    "language_info": {
      "name": "python"
    },
    "accelerator": "GPU"
  },
  "cells": [
    {
      "cell_type": "markdown",
      "metadata": {
        "id": "view-in-github",
        "colab_type": "text"
      },
      "source": [
        "<a href=\"https://colab.research.google.com/github/changyong93/Natural-language-processing-with-chat-bot/blob/main/%EB%94%A5%EB%9F%AC%EB%8B%9D%EC%9D%84_%EC%9D%B4%EC%9A%A9%ED%95%9C_%EC%9E%90%EC%97%B0%EC%96%B4%EC%B2%98%EB%A6%AC_%EC%9E%85%EB%AC%B8(12_4_NLP%EB%A5%BC_%EC%9C%84%ED%95%9C_%EC%8B%A0%EA%B2%BD%EB%A7%9D(CNN)_1D_CNN%EC%9C%BC%EB%A1%9C_%EC%8A%A4%ED%8C%B8_%EB%A9%94%EC%9D%BC_%EB%B6%84%EB%A5%98.ipynb\" target=\"_parent\"><img src=\"https://colab.research.google.com/assets/colab-badge.svg\" alt=\"Open In Colab\"/></a>"
      ]
    },
    {
      "cell_type": "markdown",
      "metadata": {
        "id": "799qEMfE88pP"
      },
      "source": [
        "# 1D CNN으로 스팸 메일 분류하기"
      ]
    },
    {
      "cell_type": "code",
      "metadata": {
        "id": "e9TtQc85BKcv"
      },
      "source": [
        "import urllib.request\n",
        "import pandas as pd\n",
        "import numpy as np\n",
        "import matplotlib.pyplot as plt\n",
        "\n",
        "from tensorflow.keras.preprocessing.text import Tokenizer\n",
        "from tensorflow.keras.preprocessing.sequence import pad_sequences"
      ],
      "execution_count": null,
      "outputs": []
    },
    {
      "cell_type": "code",
      "metadata": {
        "id": "aPtoXIuNE0zQ"
      },
      "source": [
        "urllib.request.urlretrieve(\"https://raw.githubusercontent.com/mohitgupta-omg/Kaggle-SMS-Spam-Collection-Dataset-/master/spam.csv\", filename=\"spam.csv\")"
      ],
      "execution_count": null,
      "outputs": []
    },
    {
      "cell_type": "code",
      "metadata": {
        "id": "71in3WX2E5hH"
      },
      "source": [
        "data = pd.read_csv(\"spam.csv\",encoding = 'latin-1')\n",
        "data.shape"
      ],
      "execution_count": null,
      "outputs": []
    },
    {
      "cell_type": "code",
      "metadata": {
        "id": "Wg4E5ukWE9XZ"
      },
      "source": [
        "data[:5]"
      ],
      "execution_count": null,
      "outputs": []
    },
    {
      "cell_type": "code",
      "metadata": {
        "id": "pB8B0t8sFHB3"
      },
      "source": [
        "data = data.iloc[:,:2].copy()\n",
        "data[\"v1\"] = data.v1.replace([\"ham\",\"spam\"],[0,1])"
      ],
      "execution_count": null,
      "outputs": []
    },
    {
      "cell_type": "code",
      "metadata": {
        "id": "Sab_XWdxFPsq"
      },
      "source": [
        "data[:5]"
      ],
      "execution_count": null,
      "outputs": []
    },
    {
      "cell_type": "code",
      "metadata": {
        "id": "BEUx0QNCFQ9h"
      },
      "source": [
        "data.v1.nunique(), data.v2.nunique(), data.shape[0]"
      ],
      "execution_count": null,
      "outputs": []
    },
    {
      "cell_type": "code",
      "metadata": {
        "id": "C08ErHpVFVmD"
      },
      "source": [
        "data = data.drop_duplicates(subset = [\"v2\"]).copy()"
      ],
      "execution_count": null,
      "outputs": []
    },
    {
      "cell_type": "code",
      "metadata": {
        "id": "Z-M4lfo1FeKF"
      },
      "source": [
        "len(data)"
      ],
      "execution_count": null,
      "outputs": []
    },
    {
      "cell_type": "code",
      "metadata": {
        "id": "GKkaWPjeFfql"
      },
      "source": [
        "data.v1.value_counts().plot.bar()"
      ],
      "execution_count": null,
      "outputs": []
    },
    {
      "cell_type": "code",
      "metadata": {
        "id": "ZR_Qp0cvGNLx"
      },
      "source": [
        "data.v1.value_counts()"
      ],
      "execution_count": null,
      "outputs": []
    },
    {
      "cell_type": "code",
      "metadata": {
        "id": "Wf2xA5SBGeGj"
      },
      "source": [
        "X_data = data.v2\n",
        "y_data = data.v1\n",
        "\n",
        "len(X_data), len(y_data)"
      ],
      "execution_count": null,
      "outputs": []
    },
    {
      "cell_type": "code",
      "metadata": {
        "id": "RotIPeZjGu52"
      },
      "source": [
        "vocab_size = 1000\n",
        "tokenizer = Tokenizer(num_words = vocab_size)\n",
        "tokenizer.fit_on_texts(X_data)"
      ],
      "execution_count": null,
      "outputs": []
    },
    {
      "cell_type": "code",
      "metadata": {
        "id": "TxM78Wh0G6gO"
      },
      "source": [
        "sequence = tokenizer.texts_to_sequences(X_data)\n",
        "sequence[:5]"
      ],
      "execution_count": null,
      "outputs": []
    },
    {
      "cell_type": "code",
      "metadata": {
        "id": "F_FIXmSnHC_d"
      },
      "source": [
        "train_idx = int(len(X_data) * 0.8)\n",
        "print(f\"train / test 개수: {train_idx} / {len(X_data) - train_idx}\")"
      ],
      "execution_count": null,
      "outputs": []
    },
    {
      "cell_type": "code",
      "metadata": {
        "id": "fo1F9iR0Heem"
      },
      "source": [
        "X_data = sequence\n",
        "print(f\"메일의 최대 / 평균 길이 : [{max([len(s) for s in X_data])} / {np.mean([len(s) for s in X_data])}]\")\n",
        "plt.hist([len(s) for s in X_data],bins = 50)"
      ],
      "execution_count": null,
      "outputs": []
    },
    {
      "cell_type": "code",
      "metadata": {
        "id": "bfSLS2_DIKto"
      },
      "source": [
        "max_len = max([len(s) for s in X_data])\n",
        "X_data = pad_sequences(sequences=X_data, maxlen = max_len)\n",
        "X_data.shape"
      ],
      "execution_count": null,
      "outputs": []
    },
    {
      "cell_type": "code",
      "metadata": {
        "id": "BB7YHGWJIco6"
      },
      "source": [
        "X_train = X_data[:train_idx]\n",
        "X_test = X_data[train_idx:]\n",
        "y_train = np.array(y_data[:train_idx])\n",
        "y_test = np.array(y_data[train_idx:])\n",
        "\n",
        "X_train.shape, X_test.shape, y_train.shape, y_test.shape"
      ],
      "execution_count": null,
      "outputs": []
    },
    {
      "cell_type": "markdown",
      "metadata": {
        "id": "4oZ8zsngI5E6"
      },
      "source": [
        "## 1D Convolution"
      ]
    },
    {
      "cell_type": "code",
      "metadata": {
        "id": "vmDkgxdZI875"
      },
      "source": [
        "from tensorflow.keras.models import Sequential\n",
        "from tensorflow.keras.models import load_model\n",
        "from tensorflow.keras.layers import Dense, Embedding, Conv1D, GlobalMaxPool1D, Dropout\n",
        "from tensorflow.keras.callbacks import ModelCheckpoint, EarlyStopping"
      ],
      "execution_count": null,
      "outputs": []
    },
    {
      "cell_type": "code",
      "metadata": {
        "id": "3Sq8oUf2KNBZ"
      },
      "source": [
        "model = Sequential()\n",
        "\n",
        "model.add(Embedding(input_dim = vocab_size, output_dim = 32))\n",
        "model.add(Dropout(rate = 0.2))\n",
        "model.add(Conv1D(filters = 32, kernel_size = 3, strides = 1,padding = 'valid',activation = 'relu'))\n",
        "model.add(GlobalMaxPool1D())\n",
        "model.add(Dense(units = 64, activation = \"relu\"))\n",
        "model.add(Dropout(rate = 0.2))\n",
        "model.add(Dense(units = 1, activation = \"sigmoid\"))"
      ],
      "execution_count": null,
      "outputs": []
    },
    {
      "cell_type": "code",
      "metadata": {
        "id": "mDSTUA2DT-ki"
      },
      "source": [
        "model.summary()"
      ],
      "execution_count": null,
      "outputs": []
    },
    {
      "cell_type": "code",
      "metadata": {
        "id": "o2IZsssWhGpj"
      },
      "source": [
        "model.compile(optimizer = 'adam', loss = 'binary_crossentropy',metrics = ['acc'])\n",
        "\n",
        "es = EarlyStopping(monitor = 'val_loss', verbose = 1, mode = 'min')\n",
        "mc = ModelCheckpoint(filepath = \"base_model.h5\",monitor = 'val_acc',mode = 'max',save_best_only=True)\n",
        "\n",
        "history = model.fit(x = X_train, y = y_train, epochs = 10, batch_size = 64, validation_split=0.2, callbacks=[es,mc])"
      ],
      "execution_count": null,
      "outputs": []
    },
    {
      "cell_type": "code",
      "metadata": {
        "id": "pfLLPWEkS2y_"
      },
      "source": [
        "loaded_model = load_model(\"base_model.h5\")\n",
        "print(\"\\n 테스트 정확도: \", loaded_model.evaluate(x = X_test, y = y_test))"
      ],
      "execution_count": null,
      "outputs": []
    }
  ]
}