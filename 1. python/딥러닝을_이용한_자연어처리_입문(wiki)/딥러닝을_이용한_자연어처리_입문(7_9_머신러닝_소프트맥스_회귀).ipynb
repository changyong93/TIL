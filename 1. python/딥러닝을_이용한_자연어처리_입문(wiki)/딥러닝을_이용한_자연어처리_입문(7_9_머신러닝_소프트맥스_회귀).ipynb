{
  "nbformat": 4,
  "nbformat_minor": 0,
  "metadata": {
    "colab": {
      "name": "딥러닝을_이용한_자연어처리_입문(7_9_머신러닝 - 소프트맥스 회귀)",
      "private_outputs": true,
      "provenance": [],
      "collapsed_sections": [],
      "authorship_tag": "ABX9TyNTGDwwN1k9cziXVVGrY5ff",
      "include_colab_link": true
    },
    "kernelspec": {
      "name": "python3",
      "display_name": "Python 3"
    },
    "language_info": {
      "name": "python"
    }
  },
  "cells": [
    {
      "cell_type": "markdown",
      "metadata": {
        "id": "view-in-github",
        "colab_type": "text"
      },
      "source": [
        "<a href=\"https://colab.research.google.com/github/changyong93/Natural-language-processing-with-chat-bot/blob/main/%EB%94%A5%EB%9F%AC%EB%8B%9D%EC%9D%84_%EC%9D%B4%EC%9A%A9%ED%95%9C_%EC%9E%90%EC%97%B0%EC%96%B4%EC%B2%98%EB%A6%AC_%EC%9E%85%EB%AC%B8(7_9_%EB%A8%B8%EC%8B%A0%EB%9F%AC%EB%8B%9D_%EC%86%8C%ED%94%84%ED%8A%B8%EB%A7%A5%EC%8A%A4_%ED%9A%8C%EA%B7%80).ipynb\" target=\"_parent\"><img src=\"https://colab.research.google.com/assets/colab-badge.svg\" alt=\"Open In Colab\"/></a>"
      ]
    },
    {
      "cell_type": "markdown",
      "metadata": {
        "id": "AbCe6B0ZjwiO"
      },
      "source": [
        "3개 이상의 선택지 중에서 1개를 고르는 다중 클래스 분류 문제를 위한 소프트 맥스 회"
      ]
    },
    {
      "cell_type": "markdown",
      "metadata": {
        "id": "G0I8vX5csJsB"
      },
      "source": [
        "# 소프트맥스 회귀(Softmax Regression)"
      ]
    },
    {
      "cell_type": "code",
      "metadata": {
        "id": "yZEp3Xjs17U6"
      },
      "source": [
        "import pandas as pd\n",
        "from sklearn.datasets import load_iris"
      ],
      "execution_count": null,
      "outputs": []
    },
    {
      "cell_type": "code",
      "metadata": {
        "id": "geSYtMfj2QPr"
      },
      "source": [
        "iris = load_iris()\n",
        "data = pd.DataFrame(data = iris.data, columns = iris.feature_names)\n",
        "data[\"Species\"] = iris.target\n",
        "\n",
        "species_name = {i : s for i, s in enumerate(iris.target_names)}\n",
        "\n",
        "for i in data.Species.unique():\n",
        "  data.loc[data.Species==i,\"Species\"] = species_name[i]\n",
        "\n",
        "data.shape\n",
        "data.head()"
      ],
      "execution_count": null,
      "outputs": []
    },
    {
      "cell_type": "code",
      "metadata": {
        "id": "3XPGFK8Y5EFu"
      },
      "source": [
        "sns.set(style=\"ticks\", color_codes=True)\n",
        "g = sns.pairplot(data, hue=\"Species\", palette=\"husl\")"
      ],
      "execution_count": null,
      "outputs": []
    },
    {
      "cell_type": "code",
      "metadata": {
        "id": "d674xQHD7ANx"
      },
      "source": [
        "#각 종과 특성에 대한 연관관계\n",
        "sns.barplot(data.Species, data[\"sepal width (cm)\"], ci = None)"
      ],
      "execution_count": null,
      "outputs": []
    },
    {
      "cell_type": "code",
      "metadata": {
        "id": "DV-LF6Nu7hK4"
      },
      "source": [
        "import matplotlib.pyplot as plt\n",
        "data[\"Species\"].value_counts().plot(kind = \"bar\")"
      ],
      "execution_count": null,
      "outputs": []
    },
    {
      "cell_type": "code",
      "metadata": {
        "id": "jPU62Sfk7yGl"
      },
      "source": [
        "#소프트맥스 회귀 모델으 구성하기 위해서 우선 Species열에 대해 전부 수치화\n",
        "data[\"Species\"] = data[\"Species\"].replace(['virginica','setosa','versicolor'],[0,1,2])\n",
        "\n",
        "X = data.iloc[:, :4].values\n",
        "y = data.iloc[:,4].values\n",
        "print(X[:5])\n",
        "print(y[:5])"
      ],
      "execution_count": null,
      "outputs": []
    },
    {
      "cell_type": "code",
      "metadata": {
        "id": "qbtrDMoc8nPK"
      },
      "source": [
        "#테스트셋과 훈련셋을 8:2로 나누고 데이터 순서도 섞음\n",
        "from sklearn.model_selection import train_test_split\n",
        "X_train, X_test, y_train, y_test = train_test_split(X,y,test_size = 0.2, random_state = 1)"
      ],
      "execution_count": null,
      "outputs": []
    },
    {
      "cell_type": "code",
      "metadata": {
        "id": "XLbA_CBe9dq6"
      },
      "source": [
        "#케라스의 to_categorical을 이용하여 원핫인코딩\n",
        "from tensorflow.keras.utils import to_categorical\n",
        "y_train = to_categorical(y_train)\n",
        "y_test = to_categorical(y_test)\n",
        "\n",
        "print(y_train[:5])\n",
        "print(y_test[:5])"
      ],
      "execution_count": null,
      "outputs": []
    },
    {
      "cell_type": "code",
      "metadata": {
        "id": "Ao2p4lnGA1g5"
      },
      "source": [
        "#소프트 맥스 회귀\n",
        "from tensorflow.keras.models import Sequential\n",
        "from tensorflow.keras.layers import Dense\n",
        "from tensorflow.keras import optimizers\n",
        "\n",
        "model = Sequential()\n",
        "\n",
        "# model.add(Dense(units = 3 ,input_shape = (4,), activation = 'softmax'))\n",
        "model.add(Dense(units = 3 ,input_dim = 4, activation = 'softmax'))\n",
        "# sgd = optimizers.SGD(lr = 0.01)\n",
        "#학습률을 0.01로 지정\n",
        "\n",
        "model.compile(loss = 'categorical_crossentropy', optimizer = 'adam', metrics = ['accuracy'])\n",
        "# 옵티마이저는 경사하강법의 일종인 adam을 사용\n",
        "\n",
        "# GD는 최적값을 찾아가지만 전체를 다 탐색하므로 속도가 매우 느림\n",
        "# SGD는 mini-batch를 통해 학습을 시켜 최적값을 찾으므로 GD에 비해 매우 빠름,\n",
        "# 단,적당한 lr을 지정하기 어려우며, 이동 방향이 뒤죽박죽\n",
        "# 방향성과 스탭사이즈를 모두 고려한 옵티마이저가 adam\n",
        "\n",
        "history = model.fit(X_train, y_train, batch_size = 1, epochs=200, validation_data = (X_test,y_test))"
      ],
      "execution_count": null,
      "outputs": []
    },
    {
      "cell_type": "code",
      "metadata": {
        "id": "HBTmO7p-HMgX"
      },
      "source": [
        "epochs = range(1,len(history.history['accuracy'])+1)\n",
        "plt.plot(epochs, history.history['loss'])\n",
        "plt.plot(epochs, history.history['val_loss'])\n",
        "plt.title('model loss by input_shape(4,)')\n",
        "plt.xlabel('epoch')\n",
        "plt.ylabel('loss')\n",
        "plt.legend(['train','val'], loc = 'upper left')\n",
        "plt.show()"
      ],
      "execution_count": null,
      "outputs": []
    },
    {
      "cell_type": "code",
      "metadata": {
        "id": "d8kLxMfZEtR5"
      },
      "source": [
        "epochs = range(1,len(history.history['accuracy'])+1)\n",
        "plt.plot(epochs, history.history['loss'])\n",
        "plt.plot(epochs, history.history['val_loss'])\n",
        "plt.title('model loss by input_dim = 4')\n",
        "plt.xlabel('epoch')\n",
        "plt.ylabel('loss')\n",
        "plt.legend(['train','val'], loc = 'upper left')\n",
        "plt.show()"
      ],
      "execution_count": null,
      "outputs": []
    },
    {
      "cell_type": "code",
      "metadata": {
        "id": "4PVSO6D9Fk_W"
      },
      "source": [
        ""
      ],
      "execution_count": null,
      "outputs": []
    }
  ]
}