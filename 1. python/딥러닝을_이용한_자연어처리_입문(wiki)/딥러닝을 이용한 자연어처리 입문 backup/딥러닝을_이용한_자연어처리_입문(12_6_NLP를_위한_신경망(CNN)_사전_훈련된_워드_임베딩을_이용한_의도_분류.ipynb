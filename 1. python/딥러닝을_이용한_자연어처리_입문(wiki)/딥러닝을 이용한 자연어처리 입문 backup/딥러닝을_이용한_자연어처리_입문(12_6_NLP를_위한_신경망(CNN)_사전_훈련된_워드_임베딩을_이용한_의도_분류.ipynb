{
  "nbformat": 4,
  "nbformat_minor": 0,
  "metadata": {
    "colab": {
      "name": "딥러닝을_이용한_자연어처리_입문(12_6_NLP를 위한 신경망(CNN)_사전 훈련된 워드 임베딩을 이용한 의도 분류",
      "private_outputs": true,
      "provenance": [],
      "collapsed_sections": [],
      "authorship_tag": "ABX9TyMW1cEVhDFfq3p0WGEmapHc",
      "include_colab_link": true
    },
    "kernelspec": {
      "name": "python3",
      "display_name": "Python 3"
    },
    "language_info": {
      "name": "python"
    },
    "accelerator": "GPU"
  },
  "cells": [
    {
      "cell_type": "markdown",
      "metadata": {
        "id": "view-in-github",
        "colab_type": "text"
      },
      "source": [
        "<a href=\"https://colab.research.google.com/github/changyong93/Natural-language-processing-with-chat-bot/blob/main/%EB%94%A5%EB%9F%AC%EB%8B%9D%EC%9D%84_%EC%9D%B4%EC%9A%A9%ED%95%9C_%EC%9E%90%EC%97%B0%EC%96%B4%EC%B2%98%EB%A6%AC_%EC%9E%85%EB%AC%B8(12_6_NLP%EB%A5%BC_%EC%9C%84%ED%95%9C_%EC%8B%A0%EA%B2%BD%EB%A7%9D(CNN)_%EC%82%AC%EC%A0%84_%ED%9B%88%EB%A0%A8%EB%90%9C_%EC%9B%8C%EB%93%9C_%EC%9E%84%EB%B2%A0%EB%94%A9%EC%9D%84_%EC%9D%B4%EC%9A%A9%ED%95%9C_%EC%9D%98%EB%8F%84_%EB%B6%84%EB%A5%98.ipynb\" target=\"_parent\"><img src=\"https://colab.research.google.com/assets/colab-badge.svg\" alt=\"Open In Colab\"/></a>"
      ]
    },
    {
      "cell_type": "markdown",
      "metadata": {
        "id": "eo_hzqzgbCT4"
      },
      "source": [
        "# 사전 훈련된 워드 임베딩을 이용한 의도 분류(Intent Classification using Pre-trained Word Embedding)"
      ]
    },
    {
      "cell_type": "code",
      "metadata": {
        "id": "Rd2QoPa0Pv5b"
      },
      "source": [
        "import os\n",
        "import pandas as pd\n",
        "import numpy as np\n",
        "import matplotlib.pyplot as plt\n",
        "\n",
        "from sklearn import preprocessing\n",
        "from tensorflow.keras.preprocessing.text import Tokenizer\n",
        "from tensorflow.keras.preprocessing.sequence import pad_sequences\n",
        "from tensorflow.keras.utils import to_categorical\n",
        "from sklearn.metrics import classification_report\n",
        "import urllib.request"
      ],
      "execution_count": null,
      "outputs": []
    },
    {
      "cell_type": "markdown",
      "metadata": {
        "id": "06_86wwrbA7k"
      },
      "source": [
        "## 데이터 로드와 전처리"
      ]
    },
    {
      "cell_type": "code",
      "metadata": {
        "id": "AzORE_Toa-ea"
      },
      "source": [
        "urllib.request.urlretrieve(\"https://github.com/ajinkyaT/CNN_Intent_Classification/raw/master/data/train_text.npy\", filename=\"train_text.npy\")\n",
        "urllib.request.urlretrieve(\"https://github.com/ajinkyaT/CNN_Intent_Classification/raw/master/data/test_text.npy\", filename=\"test_text.npy\")\n",
        "urllib.request.urlretrieve(\"https://github.com/ajinkyaT/CNN_Intent_Classification/raw/master/data/train_label.npy\", filename=\"train_label.npy\")\n",
        "urllib.request.urlretrieve(\"https://github.com/ajinkyaT/CNN_Intent_Classification/raw/master/data/test_label.npy\", filename=\"test_label.npy\")"
      ],
      "execution_count": null,
      "outputs": []
    },
    {
      "cell_type": "code",
      "metadata": {
        "id": "ve9UC-OSbJN0"
      },
      "source": [
        "old = np.load\n",
        "np.load = lambda *a,**k: old(*a,allow_pickle=True,**k)"
      ],
      "execution_count": null,
      "outputs": []
    },
    {
      "cell_type": "code",
      "metadata": {
        "id": "apA6Uf9bbLFe"
      },
      "source": [
        "intent_train = np.load(open('train_text.npy', 'rb')).tolist()\n",
        "label_train = np.load(open('train_label.npy', 'rb')).tolist()\n",
        "intent_test = np.load(open('test_text.npy', 'rb')).tolist()\n",
        "label_test = np.load(open('test_label.npy', 'rb')).tolist()"
      ],
      "execution_count": null,
      "outputs": []
    },
    {
      "cell_type": "code",
      "metadata": {
        "id": "0Fe2o0mKbNEq"
      },
      "source": [
        "print('훈련용 문장의 수 :', len(intent_train))\n",
        "print('훈련용 레이블의 수 :', len(label_train))\n",
        "print('테스트용 문장의 수 :', len(intent_test))\n",
        "print('테스트용 레이블의 수 :', len(label_test))"
      ],
      "execution_count": null,
      "outputs": []
    },
    {
      "cell_type": "code",
      "metadata": {
        "id": "px7EdAwDbSeC"
      },
      "source": [
        "print(intent_train[:5])\n",
        "print(label_train[:5])\n",
        "print(\"*\"*100)\n",
        "print(intent_train[2000:2002])\n",
        "print(label_train[2000:2002])\n",
        "print(\"*\"*100)\n",
        "print(intent_train[4000:4002])\n",
        "print(label_train[4000:4002])\n",
        "print(\"*\"*100)\n",
        "print(intent_train[6000:6002])\n",
        "print(label_train[6000:6002])\n",
        "print(\"*\"*100)\n",
        "print(intent_train[8000:8002])\n",
        "print(label_train[8000:8002])\n",
        "print(\"*\"*100)\n",
        "print(intent_train[10000:10002])\n",
        "print(label_train[10000:10002])"
      ],
      "execution_count": null,
      "outputs": []
    },
    {
      "cell_type": "code",
      "metadata": {
        "id": "tg3K7kMMbUtS"
      },
      "source": [
        "np.unique(label_train)"
      ],
      "execution_count": null,
      "outputs": []
    },
    {
      "cell_type": "code",
      "metadata": {
        "id": "JKv1WOWkb2A5"
      },
      "source": [
        "pd.Series(label_train).value_counts().plot.bar()"
      ],
      "execution_count": null,
      "outputs": []
    },
    {
      "cell_type": "code",
      "metadata": {
        "id": "ggCQaBiLb9Uz"
      },
      "source": [
        "idx_encode = preprocessing.LabelEncoder()\n",
        "\n",
        "label_train = idx_encode.fit_transform(label_train)\n",
        "label_test = idx_encode.transform(label_test)"
      ],
      "execution_count": null,
      "outputs": []
    },
    {
      "cell_type": "code",
      "metadata": {
        "id": "TobVAeX9cUZy"
      },
      "source": [
        "label_idx = dict(zip(list(idx_encode.classes_), idx_encode.transform(list(idx_encode.classes_))))\n",
        "print(label_idx)"
      ],
      "execution_count": null,
      "outputs": []
    },
    {
      "cell_type": "code",
      "metadata": {
        "id": "5WhC0_j0cqOs"
      },
      "source": [
        "print(intent_train[:5])\n",
        "print(label_train[:5])\n",
        "print(\"*\"*100)\n",
        "print(intent_test[:5])\n",
        "print(label_test[:5])"
      ],
      "execution_count": null,
      "outputs": []
    },
    {
      "cell_type": "code",
      "metadata": {
        "id": "yGZ5SXCncvtE"
      },
      "source": [
        "tokenizer = Tokenizer()\n",
        "tokenizer.fit_on_texts(intent_train)\n",
        "sequences = tokenizer.texts_to_sequences(intent_train)\n",
        "sequences[:5]"
      ],
      "execution_count": null,
      "outputs": []
    },
    {
      "cell_type": "code",
      "metadata": {
        "id": "jQ0vyVjsfcrU"
      },
      "source": [
        "word_index = tokenizer.word_index\n",
        "vocab_size = len(word_index) + 1\n",
        "print('단어 집합(Vocabulary)의 크기 :',vocab_size)"
      ],
      "execution_count": null,
      "outputs": []
    },
    {
      "cell_type": "code",
      "metadata": {
        "id": "prBu8upPdAdw"
      },
      "source": [
        "print('문장의 최대 길이 :',max(len(l) for l in sequences))\n",
        "print('문장의 평균 길이 :',sum(map(len, sequences))/len(sequences))\n",
        "plt.hist([len(s) for s in sequences], bins=50)\n",
        "plt.xlabel('length of samples')\n",
        "plt.ylabel('number of samples')\n",
        "plt.show()"
      ],
      "execution_count": null,
      "outputs": []
    },
    {
      "cell_type": "code",
      "metadata": {
        "id": "2JyNbSA8dIGF"
      },
      "source": [
        "max_len = 35\n",
        "intent_train = pad_sequences(sequences, maxlen = max_len)\n",
        "label_train = to_categorical(np.asarray(label_train))\n",
        "print('전체 데이터의 크기(shape):', intent_train.shape)\n",
        "print('레이블 데이터의 크기(shape):', label_train.shape)"
      ],
      "execution_count": null,
      "outputs": []
    },
    {
      "cell_type": "code",
      "metadata": {
        "id": "QCD1g42RdJ7E"
      },
      "source": [
        "print(intent_train[0])\n",
        "print(label_train[0])"
      ],
      "execution_count": null,
      "outputs": []
    },
    {
      "cell_type": "code",
      "metadata": {
        "id": "lyJn_buydLUO"
      },
      "source": [
        "indices = np.arange(intent_train.shape[0])\n",
        "np.random.shuffle(indices)\n",
        "print(indices)"
      ],
      "execution_count": null,
      "outputs": []
    },
    {
      "cell_type": "code",
      "metadata": {
        "id": "f7kQth-0ddny"
      },
      "source": [
        "intent_train = intent_train[indices]\n",
        "label_train = label_train[indices]"
      ],
      "execution_count": null,
      "outputs": []
    },
    {
      "cell_type": "code",
      "metadata": {
        "id": "youpcqAhdfxf"
      },
      "source": [
        "n_of_val = int(0.1 * intent_train.shape[0])\n",
        "print(n_of_val)"
      ],
      "execution_count": null,
      "outputs": []
    },
    {
      "cell_type": "code",
      "metadata": {
        "id": "f-zzsOCDdhGA"
      },
      "source": [
        "X_train = intent_train[:-n_of_val]\n",
        "y_train = label_train[:-n_of_val]\n",
        "X_val = intent_train[-n_of_val:]\n",
        "y_val = label_train[-n_of_val:]\n",
        "X_test = intent_test\n",
        "y_test = label_test"
      ],
      "execution_count": null,
      "outputs": []
    },
    {
      "cell_type": "code",
      "metadata": {
        "id": "eZavUg_cdtWn"
      },
      "source": [
        "print('훈련 데이터의 크기(shape):', X_train.shape)\n",
        "print('검증 데이터의 크기(shape):', X_val.shape)\n",
        "print('훈련 데이터 레이블의 개수(shape):', y_train.shape)\n",
        "print('검증 데이터 레이블의 개수(shape):', y_val.shape)\n",
        "print('테스트 데이터의 개수 :', len(X_test))\n",
        "print('테스트 데이터 레이블의 개수 :', len(y_test))"
      ],
      "execution_count": null,
      "outputs": []
    },
    {
      "cell_type": "markdown",
      "metadata": {
        "id": "0iUH6gSodu_R"
      },
      "source": [
        "## 사전 훈련된 워드 임베딩 사용"
      ]
    },
    {
      "cell_type": "code",
      "metadata": {
        "id": "mjrBaBhodxr0"
      },
      "source": [
        "!wget http://nlp.stanford.edu/data/glove.6B.zip\n",
        "!unzip glove*.zip"
      ],
      "execution_count": null,
      "outputs": []
    },
    {
      "cell_type": "code",
      "metadata": {
        "id": "JFMv3ZLcdysD"
      },
      "source": [
        "embedding_dict = dict()\n",
        "f = open(os.path.join('glove.6B.100d.txt'), encoding='utf-8')\n",
        "for line in f:\n",
        "    word_vector = line.split()\n",
        "    word = word_vector[0]\n",
        "    word_vector_arr = np.asarray(word_vector[1:], dtype='float32') # 100개의 값을 가지는 array로 변환\n",
        "    embedding_dict[word] = word_vector_arr\n",
        "f.close()\n",
        "\n",
        "print('%s개의 Embedding vector가 있습니다.' % len(embedding_dict))"
      ],
      "execution_count": null,
      "outputs": []
    },
    {
      "cell_type": "code",
      "metadata": {
        "id": "czoxxJSTfO8D"
      },
      "source": [
        "print(embedding_dict['respectable'])\n",
        "print(len(embedding_dict['respectable']))"
      ],
      "execution_count": null,
      "outputs": []
    },
    {
      "cell_type": "code",
      "metadata": {
        "id": "0u-JnmgZfTAe"
      },
      "source": [
        "embedding_dim = 100\n",
        "embedding_matrix = np.zeros((vocab_size, embedding_dim))\n",
        "print(embedding_matrix.shape)"
      ],
      "execution_count": null,
      "outputs": []
    },
    {
      "cell_type": "code",
      "metadata": {
        "id": "mP_9IKC0fVY-"
      },
      "source": [
        "for word, i in word_index.items():\n",
        "    embedding_vector = embedding_dict.get(word)\n",
        "    if embedding_vector is not None:\n",
        "        embedding_matrix[i] = embedding_vector"
      ],
      "execution_count": null,
      "outputs": []
    },
    {
      "cell_type": "markdown",
      "metadata": {
        "id": "c2zs5QoOf6nJ"
      },
      "source": [
        "## 1D CNN을 이용한 의도 분류"
      ]
    },
    {
      "cell_type": "code",
      "metadata": {
        "id": "_DgZHSfpf8sG"
      },
      "source": [
        "from tensorflow.keras.models import Model\n",
        "from tensorflow.keras.layers import Embedding, Dropout, Conv1D, GlobalMaxPooling1D, Dense, Input, Flatten, Concatenate"
      ],
      "execution_count": null,
      "outputs": []
    },
    {
      "cell_type": "code",
      "metadata": {
        "id": "aqHjfCqmf9W_"
      },
      "source": [
        "filter_sizes = [2,3,5]\n",
        "num_filters = 512\n",
        "drop = 0.5"
      ],
      "execution_count": null,
      "outputs": []
    },
    {
      "cell_type": "code",
      "metadata": {
        "id": "CTseVItsf-eO"
      },
      "source": [
        "model_input = Input(shape = (max_len,))\n",
        "z = Embedding(vocab_size, embedding_dim, weights=[embedding_matrix],\n",
        "                      input_length=max_len, trainable=False)(model_input)\n",
        "\n",
        "conv_blocks = []\n",
        "\n",
        "for sz in filter_sizes:\n",
        "    conv = Conv1D(filters = num_filters,\n",
        "                         kernel_size = sz,\n",
        "                         padding = \"valid\",\n",
        "                         activation = \"relu\",\n",
        "                         strides = 1)(z)\n",
        "    conv = GlobalMaxPooling1D()(conv)\n",
        "    conv = Flatten()(conv)\n",
        "    conv_blocks.append(conv)\n",
        "\n",
        "z = Concatenate()(conv_blocks) if len(conv_blocks) > 1 else conv_blocks[0]\n",
        "z = Dropout(drop)(z)\n",
        "model_output = Dense(len(label_idx), activation='softmax')(z)\n",
        "\n",
        "model = Model(model_input, model_output)\n",
        "\n",
        "model.compile(loss='categorical_crossentropy',\n",
        "              optimizer='adam',\n",
        "              metrics=['acc'])\n",
        "\n",
        "model.summary()"
      ],
      "execution_count": null,
      "outputs": []
    },
    {
      "cell_type": "code",
      "metadata": {
        "id": "u-1VzTHAiVT5"
      },
      "source": [
        "history = model.fit(X_train, y_train,\n",
        "          batch_size=64,\n",
        "          epochs=10,\n",
        "          validation_data = (X_val, y_val))"
      ],
      "execution_count": null,
      "outputs": []
    },
    {
      "cell_type": "code",
      "metadata": {
        "id": "oLKGEbaYjMDw"
      },
      "source": [
        "epochs = range(1, len(history.history['acc']) + 1)\n",
        "plt.plot(epochs, history.history['acc'])\n",
        "plt.plot(epochs, history.history['val_acc'])\n",
        "plt.title('model accuracy')\n",
        "plt.ylabel('accuracy')\n",
        "plt.xlabel('epochs')\n",
        "plt.legend(['train', 'test'], loc='lower right')\n",
        "plt.show()\n",
        "\n",
        "epochs = range(1, len(history.history['loss']) + 1)\n",
        "plt.plot(epochs, history.history['loss'])\n",
        "plt.plot(epochs, history.history['val_loss'])\n",
        "plt.title('model loss')\n",
        "plt.ylabel('loss')\n",
        "plt.xlabel('epochs')\n",
        "plt.legend(['train', 'test'], loc='upper right')\n",
        "plt.show()"
      ],
      "execution_count": null,
      "outputs": []
    },
    {
      "cell_type": "code",
      "metadata": {
        "id": "KzM7r5fxjMWZ"
      },
      "source": [
        "X_test = tokenizer.texts_to_sequences(X_test)\n",
        "X_test = pad_sequences(X_test, maxlen=max_len)"
      ],
      "execution_count": null,
      "outputs": []
    },
    {
      "cell_type": "code",
      "metadata": {
        "id": "3xeD5YBxjq3r"
      },
      "source": [
        "y_predicted = model.predict(X_test)\n",
        "y_predicted = y_predicted.argmax(axis=-1) # 예측된 정수 시퀀스로 변환"
      ],
      "execution_count": null,
      "outputs": []
    },
    {
      "cell_type": "code",
      "metadata": {
        "id": "rf0UOOHykN1H"
      },
      "source": [
        "y_predicted = idx_encode.inverse_transform(y_predicted) # 정수 시퀀스를 레이블에 해당하는 텍스트 시퀀스로 변환\n",
        "y_test = idx_encode.inverse_transform(y_test) # 정수 시퀀스를 레이블에 해당하는 텍스트 시퀀스로 변환"
      ],
      "execution_count": null,
      "outputs": []
    },
    {
      "cell_type": "code",
      "metadata": {
        "id": "uXqCZBy7kU78"
      },
      "source": [
        "print('accuracy: ', sum(y_predicted == y_test) / len(y_test))\n",
        "print(\"Precision, Recall and F1-Score:\\n\\n\", classification_report(y_test, y_predicted))"
      ],
      "execution_count": null,
      "outputs": []
    },
    {
      "cell_type": "code",
      "metadata": {
        "id": "lcLDjrTskW4J"
      },
      "source": [
        ""
      ],
      "execution_count": null,
      "outputs": []
    }
  ]
}