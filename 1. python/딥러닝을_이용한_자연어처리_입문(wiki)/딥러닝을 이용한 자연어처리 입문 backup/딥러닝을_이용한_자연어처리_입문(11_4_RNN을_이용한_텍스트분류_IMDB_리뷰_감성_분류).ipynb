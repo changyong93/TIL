{
  "nbformat": 4,
  "nbformat_minor": 0,
  "metadata": {
    "colab": {
      "name": "딥러닝을_이용한_자연어처리_입문(11_4_RNN을_이용한_텍스트분류_IMDB_리뷰_감성_분류)",
      "private_outputs": true,
      "provenance": [],
      "collapsed_sections": [],
      "toc_visible": true,
      "authorship_tag": "ABX9TyP1F/7VD4CG9KzhjaAuklGU",
      "include_colab_link": true
    },
    "kernelspec": {
      "name": "python3",
      "display_name": "Python 3"
    },
    "language_info": {
      "name": "python"
    },
    "accelerator": "GPU"
  },
  "cells": [
    {
      "cell_type": "markdown",
      "metadata": {
        "id": "view-in-github",
        "colab_type": "text"
      },
      "source": [
        "<a href=\"https://colab.research.google.com/github/changyong93/Natural-language-processing-with-chat-bot/blob/main/%EB%94%A5%EB%9F%AC%EB%8B%9D%EC%9D%84_%EC%9D%B4%EC%9A%A9%ED%95%9C_%EC%9E%90%EC%97%B0%EC%96%B4%EC%B2%98%EB%A6%AC_%EC%9E%85%EB%AC%B8(11_4_RNN%EC%9D%84_%EC%9D%B4%EC%9A%A9%ED%95%9C_%ED%85%8D%EC%8A%A4%ED%8A%B8%EB%B6%84%EB%A5%98_IMDB_%EB%A6%AC%EB%B7%B0_%EA%B0%90%EC%84%B1_%EB%B6%84%EB%A5%98).ipynb\" target=\"_parent\"><img src=\"https://colab.research.google.com/assets/colab-badge.svg\" alt=\"Open In Colab\"/></a>"
      ]
    },
    {
      "cell_type": "markdown",
      "metadata": {
        "id": "fGZhN_hpU2HO"
      },
      "source": [
        "#  IMDB 리뷰 감성 분류하기(IMDB Movie Review Sentiment Analysis)"
      ]
    },
    {
      "cell_type": "markdown",
      "metadata": {
        "id": "9vMwfU0FVnEw"
      },
      "source": [
        "## IMDB 리뷰 데이터에 대한 이해"
      ]
    },
    {
      "cell_type": "code",
      "metadata": {
        "id": "JjEKuAXZWIOk"
      },
      "source": [
        "from tensorflow.keras.datasets import imdb\n",
        "import matplotlib.pyplot as plt\n",
        "import numpy as np"
      ],
      "execution_count": null,
      "outputs": []
    },
    {
      "cell_type": "code",
      "metadata": {
        "id": "DE2W5kLIWRAG"
      },
      "source": [
        "#imdb 데이터셋은 훈련데이터셋와 테스트데이터셋을 5:5로 구분하여 제공하여 test_set 비율 조절 파라미터가 따로 없음\n",
        "(X_train,y_train), (X_test,y_test) = imdb.load_data()"
      ],
      "execution_count": null,
      "outputs": []
    },
    {
      "cell_type": "code",
      "metadata": {
        "id": "znxhjjHvWqYD"
      },
      "source": [
        "print(\"훈련용 리뷰 개수: \",len(X_train))\n",
        "print(\"테스트용 리뷰 개수: \", len(X_test))\n",
        "print(\"카테고리: \", np.unique(y_train))"
      ],
      "execution_count": null,
      "outputs": []
    },
    {
      "cell_type": "code",
      "metadata": {
        "id": "7Xt-EBJcWydK"
      },
      "source": [
        "print(X_train[0])\n",
        "print(\"*\"*100)\n",
        "print(X_test[0])"
      ],
      "execution_count": null,
      "outputs": []
    },
    {
      "cell_type": "code",
      "metadata": {
        "id": "E6Hh4QPoXDeK"
      },
      "source": [
        "len_result = [len(l) for l in X_train]\n",
        "print(f\"리뷰의 최대 길이: \", max(len_result))\n",
        "print(f\"리뷰의 평균 길이: \", np.mean(len_result))\n",
        "\n",
        "plt.figure(figsize = (10,5))\n",
        "plt.subplot(1,2,1)\n",
        "plt.boxplot(len_result)\n",
        "plt.subplot(1,2,2)\n",
        "plt.hist(len_result, bins = 50)\n",
        "plt.show()"
      ],
      "execution_count": null,
      "outputs": []
    },
    {
      "cell_type": "code",
      "metadata": {
        "id": "b_Q7QIKLX7_2"
      },
      "source": [
        "unique_elements, counts_elements = np.unique(y_train, return_counts=True)\n",
        "print(\"각 레이블에 대한 빈도수\")\n",
        "np.asarray([unique_elements, counts_elements])"
      ],
      "execution_count": null,
      "outputs": []
    },
    {
      "cell_type": "code",
      "metadata": {
        "id": "g0bVPJMAYX9t"
      },
      "source": [
        "word_to_index = imdb.get_word_index()\n",
        "index_to_word = {}\n",
        "for value,index in word_to_index.items():\n",
        "  index_to_word[index+3] = value # get_word_index에 저장된 값에 +3을 해야 실제 맵핑되는 정수, 이는 imdb 데이터셋에서 정한 규칙"
      ],
      "execution_count": null,
      "outputs": []
    },
    {
      "cell_type": "code",
      "metadata": {
        "id": "UYL7xRQTY8of"
      },
      "source": [
        "#IMDB 리뷰 데이터셋에서는 0, 1, 2, 3은 특별 토큰으로 취급.\n",
        "# 따라서 정수 4부터가 실제 IMDB 리뷰 데이터셋에서 빈도수가 가장 높은 실제 영단어\n",
        "print(\"빈도수 상위 1등 단어:\", index_to_word[4] )\n",
        "print(\"빈도수 상위 3938등 단어:\", index_to_word[3941] )"
      ],
      "execution_count": null,
      "outputs": []
    },
    {
      "cell_type": "code",
      "metadata": {
        "id": "ZR1Oq7ptZRsN"
      },
      "source": [
        "for index, value in enumerate([\"<pad>\", \"<sos>\", \"<unk>\"]):\n",
        "  index_to_word[index] = value"
      ],
      "execution_count": null,
      "outputs": []
    },
    {
      "cell_type": "code",
      "metadata": {
        "id": "0HEsE10qZmds"
      },
      "source": [
        "print(' '.join([index_to_word[index] for index in X_train[0]]))"
      ],
      "execution_count": null,
      "outputs": []
    },
    {
      "cell_type": "markdown",
      "metadata": {
        "id": "Uj5Cs9eDZoy3"
      },
      "source": [
        "## GRU로 IMDB 리뷰 감성 분류하기"
      ]
    },
    {
      "cell_type": "code",
      "metadata": {
        "id": "aUWnnth6Z45W"
      },
      "source": [
        "import re #정규표현식\n",
        "from tensorflow.keras.datasets import imdb\n",
        "from tensorflow.keras.preprocessing.sequence import pad_sequences\n",
        "from tensorflow.keras.models import Sequential\n",
        "from tensorflow.keras.layers import GRU, Dense, Embedding\n",
        "from tensorflow.keras.callbacks import EarlyStopping, ModelCheckpoint\n",
        "from tensorflow.keras.models import load_model"
      ],
      "execution_count": null,
      "outputs": []
    },
    {
      "cell_type": "code",
      "metadata": {
        "id": "X67bKJdDjI96"
      },
      "source": [
        "#단어 집합의 크기 10000개로 제한\n",
        "vocab_size = 10000\n",
        "(X_train,y_train),(X_test,y_test) = imdb.load_data(num_words = vocab_size)"
      ],
      "execution_count": null,
      "outputs": []
    },
    {
      "cell_type": "code",
      "metadata": {
        "id": "eEObtGWNjW_o"
      },
      "source": [
        "#리뷰 최대 길이 500으로 제한\n",
        "max_len = 500\n",
        "X_train = pad_sequences(sequences= X_train, maxlen = max_len)\n",
        "X_test = pad_sequences(sequences= X_test, maxlen=max_len)\n"
      ],
      "execution_count": null,
      "outputs": []
    },
    {
      "cell_type": "code",
      "metadata": {
        "id": "Y45G-AEwjx41"
      },
      "source": [
        "model = Sequential()\n",
        "model.add(Embedding(input_dim = vocab_size, output_dim = 100))\n",
        "model.add(GRU(units = 128))\n",
        "model.add(Dense(units = 1, activation='sigmoid'))"
      ],
      "execution_count": null,
      "outputs": []
    },
    {
      "cell_type": "code",
      "metadata": {
        "id": "rYHj-GsykEJa"
      },
      "source": [
        "es = EarlyStopping(monitor='val_loss', mode = 'min', patience= 4, verbose = 1)\n",
        "mc = ModelCheckpoint('GRU_model.h5', monitor='val_acc', mode='max', verbose=1, save_best_only=True)"
      ],
      "execution_count": null,
      "outputs": []
    },
    {
      "cell_type": "code",
      "metadata": {
        "id": "HSsfxXHOkfn9"
      },
      "source": [
        "model.compile(optimizer='rmsprop', loss = 'binary_crossentropy', metrics = ['acc'])\n",
        "history = model.fit(x = X_train, y = y_train, batch_size = 60, epochs=15, callbacks = [es, mc], validation_split=0.2)"
      ],
      "execution_count": null,
      "outputs": []
    },
    {
      "cell_type": "code",
      "metadata": {
        "id": "n0XaeXZT7W_U"
      },
      "source": [
        "load_model('GRU_model.h5')"
      ],
      "execution_count": null,
      "outputs": []
    },
    {
      "cell_type": "code",
      "metadata": {
        "id": "4VJ1eHV0k4dL"
      },
      "source": [
        "load_model_selected = load_model('GRU_model.h5')\n",
        "print('\\n 테스트 정확도: %4.f' %load_model_selected.evaluate(X_test,y_test)[1])"
      ],
      "execution_count": null,
      "outputs": []
    },
    {
      "cell_type": "markdown",
      "metadata": {
        "id": "O4UwcGswllhD"
      },
      "source": [
        "---\n",
        "- IMDB 사이트의 영화 블랙팬서의 1점 리뷰 예측 테스트"
      ]
    },
    {
      "cell_type": "code",
      "metadata": {
        "id": "Uqlqzk7Tmr2Q"
      },
      "source": [
        "def sentiment_predict(new_sentence):\n",
        "  #알파벳과 숫자를 제외하고 모두 제거 및 알파벳 소문자화\n",
        "  new_sentence = re.sub('[^0-9a-zA-Z ]', '', new_sentence).lower() #정규표현식을 위한 []에서 마지막 띄어쓰기도 포함, [^0-9a-zA-Z ] 시, 숫자,소문자,대문자, 띄어쓰기를 제외하고 제거\n",
        "\n",
        "  #정수 인코딩\n",
        "  encoded = []\n",
        "  for word in new_sentence.split():\n",
        "    #단어 크기 10000으로 제한\n",
        "    try:\n",
        "      if word_to_index[word] <= 10000:\n",
        "        encoded.append(word_to_index[word]+3)\n",
        "      else: #10000이 넘으면 <unk> 토큰으로 취급\n",
        "        encoded.append(2)\n",
        "    except KeyError:\n",
        "      encoded.append(2)\n",
        "\n",
        "\n",
        "\n",
        "  pad_new = pad_sequences([encoded], maxlen = max_len)\n",
        "  score = float(load_model_selected.predict(x = pad_new))\n",
        "\n",
        "  if(score > 0.5):\n",
        "    print(f\"{score*100:.2f}% 확률로 긍정 리뷰입니다.\")\n",
        "  else:\n",
        "    print(f\"{(1 - score)*100:.2f}% 확률로 부정 리뷰입니다.\")"
      ],
      "execution_count": null,
      "outputs": []
    },
    {
      "cell_type": "code",
      "metadata": {
        "id": "eAajHXfJyrUN"
      },
      "source": [
        "temp_str = \"This movie was just way too overrated. The fighting was not professional and in slow motion. I was expecting more from a 200 million budget movie. The little sister of T.Challa was just trying too hard to be funny. The story was really dumb as well. Don't watch this movie if you are going because others say its great unless you are a Black Panther fan or Marvels fan.\"\n",
        "\n",
        "sentiment_predict(temp_str)"
      ],
      "execution_count": null,
      "outputs": []
    },
    {
      "cell_type": "markdown",
      "metadata": {
        "id": "nMEhkouqy1gj"
      },
      "source": [
        "---\n",
        "10점 리뷰 예측"
      ]
    },
    {
      "cell_type": "code",
      "metadata": {
        "id": "TrcPV3Zvyt3w"
      },
      "source": [
        "temp_str = \" I was lucky enough to be included in the group to see the advanced screening in Melbourne on the 15th of April, 2012. And, firstly, I need to say a big thank-you to Disney and Marvel Studios. \\\n",
        "Now, the film... how can I even begin to explain how I feel about this film? It is, as the title of this review says a 'comic book triumph'. I went into the film with very, very high expectations and I was not disappointed. \\\n",
        "Seeing Joss Whedon's direction and envisioning of the film come to life on the big screen is perfect. The script is amazingly detailed and laced with sharp wit a humor. The special effects are literally mind-blowing and the action scenes are both hard-hitting and beautifully choreographed.\"\n",
        "\n",
        "sentiment_predict(temp_str)"
      ],
      "execution_count": null,
      "outputs": []
    }
  ]
}