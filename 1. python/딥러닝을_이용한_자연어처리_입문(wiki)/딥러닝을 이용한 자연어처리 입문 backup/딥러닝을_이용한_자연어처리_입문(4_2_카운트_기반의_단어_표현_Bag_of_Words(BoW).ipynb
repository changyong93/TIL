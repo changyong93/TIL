{
  "nbformat": 4,
  "nbformat_minor": 0,
  "metadata": {
    "colab": {
      "name": "딥러닝을_이용한_자연어처리_입문(4_2_카운트_기반의_단어_표현_Bag_of_Words(BoW)",
      "private_outputs": true,
      "provenance": [],
      "collapsed_sections": [],
      "toc_visible": true,
      "authorship_tag": "ABX9TyMaJRodqcponFG2Gm8Pg5Fx",
      "include_colab_link": true
    },
    "kernelspec": {
      "name": "python3",
      "display_name": "Python 3"
    },
    "language_info": {
      "name": "python"
    }
  },
  "cells": [
    {
      "cell_type": "markdown",
      "metadata": {
        "id": "view-in-github",
        "colab_type": "text"
      },
      "source": [
        "<a href=\"https://colab.research.google.com/github/changyong93/Natural-language-processing-with-chat-bot/blob/main/%EB%94%A5%EB%9F%AC%EB%8B%9D%EC%9D%84_%EC%9D%B4%EC%9A%A9%ED%95%9C_%EC%9E%90%EC%97%B0%EC%96%B4%EC%B2%98%EB%A6%AC_%EC%9E%85%EB%AC%B8(4_2_%EC%B9%B4%EC%9A%B4%ED%8A%B8_%EA%B8%B0%EB%B0%98%EC%9D%98_%EB%8B%A8%EC%96%B4_%ED%91%9C%ED%98%84_Bag_of_Words(BoW).ipynb\" target=\"_parent\"><img src=\"https://colab.research.google.com/assets/colab-badge.svg\" alt=\"Open In Colab\"/></a>"
      ]
    },
    {
      "cell_type": "markdown",
      "metadata": {
        "id": "omGnr_2CI3Ca"
      },
      "source": [
        "# Bag of Words(BoW)\n",
        "---\n",
        "- 등장하는 단어의 순서는 중요시 생각하지 않고 오직 빈도수 기반의 단어 표현 방법"
      ]
    },
    {
      "cell_type": "markdown",
      "metadata": {
        "id": "MawwXYbIJIwJ"
      },
      "source": [
        "##  Bag of Words란\n",
        "- 단어를 가방안에 넣고 흔든 후 특정 단어가 N번 등장했으면, 이 가방에는 특정 단어가 N게 있게 됨\n",
        "- 즉, 단어 순서가 중요하지 않고 오직 빈도수 기반\n",
        "\n",
        "BoW 만드는 순서  \n",
        "1. 각 단어에 고유한 정수 인덱스 부여\n",
        "2. 인덱스의 위치에 단어 토큰이 등장한 횟수를 기록한 벡터 생성 "
      ]
    },
    {
      "cell_type": "code",
      "metadata": {
        "id": "otROHQ4OJelr"
      },
      "source": [
        "!pip3 install konlpy\n",
        "from konlpy.tag import Okt\n",
        "import re"
      ],
      "execution_count": null,
      "outputs": []
    },
    {
      "cell_type": "code",
      "metadata": {
        "id": "YxqCDXzEXEJa"
      },
      "source": [
        "# 문서1 : 정부가 발표하는 물가상승률과 소비자가 느끼는 물가상승률은 다르다.\n",
        "# 문서1에 대한 BoW 생성\n",
        "okt = Okt()\n",
        "text1 = \"정부가 발표하는 물가상승률과 소비자가 느끼는 물가상승률은 다르다.\"\n",
        "sentence1 = re.sub(\"(\\.)\",\"\",text1) # 온점(.)을 특수문자가 아닌 문자 그대로 인식하고 온점을 제거 후 반환\n",
        "token1 = okt.morphs(sentence1)\n",
        "token1"
      ],
      "execution_count": null,
      "outputs": []
    },
    {
      "cell_type": "code",
      "metadata": {
        "id": "W9aLBNmFajA7"
      },
      "source": [
        "word2index_1 = {}\n",
        "bow_1 = []\n",
        "for voca in token1:\n",
        "  if voca not in word2index_1.keys():\n",
        "    word2index_1[voca] = len(word2index_1) #word2index에 token이 없을 경우 새로 추가하고, 있으면 넘김\n",
        "    bow_1.insert(len(word2index_1)-1,1) #bow.insert(index, object(이 경우는 value))/ bow에 추가되는 단어는 기본적으로 1 적용, 단어는 1개이상이기 때문\n",
        "  else:\n",
        "    #재등장한 단어의 경우 index를 받고 해당 단어 빈도수를 +1\n",
        "    index = word2index_1.get(voca) # == word2index[voca]\n",
        "    bow_1[index] = bow_1[index]+1\n",
        "  \n",
        "print(word2index_1)"
      ],
      "execution_count": null,
      "outputs": []
    },
    {
      "cell_type": "code",
      "metadata": {
        "id": "TwxmWeymd-PK"
      },
      "source": [
        "bow_1"
      ],
      "execution_count": null,
      "outputs": []
    },
    {
      "cell_type": "code",
      "metadata": {
        "id": "dOQYoYcZeISl"
      },
      "source": [
        "#문서 2 : 소비자는 주로 소비하는 상품을 기준으로 물가상승률을 느낀다.\n",
        "text = \"소비자는 주로 소비하는 상품을 기준으로 물가상승률을 느낀다.\"\n",
        "okt = Okt()\n",
        "sentence2 = re.sub(\"(\\.)\",'',text)\n",
        "token2 = okt.morphs(sentence2)\n",
        "token2"
      ],
      "execution_count": null,
      "outputs": []
    },
    {
      "cell_type": "code",
      "metadata": {
        "id": "osykg9A9e3dO"
      },
      "source": [
        "word2index_2 = {}\n",
        "bow2 = []\n",
        "\n",
        "for voca in token2:\n",
        "  if voca not in word2index_2.keys():\n",
        "    word2index_2[voca] = len(word2index_2)\n",
        "    bow2.insert(len(word2index_2)-1,1)\n",
        "  else:\n",
        "    index = word2index_2[voca]\n",
        "    bow2[index] = bow2[index]+1\n",
        "print(word2index_2)"
      ],
      "execution_count": null,
      "outputs": []
    },
    {
      "cell_type": "code",
      "metadata": {
        "id": "ghDzsATZgIp4"
      },
      "source": [
        "bow2"
      ],
      "execution_count": null,
      "outputs": []
    },
    {
      "cell_type": "code",
      "metadata": {
        "id": "VFbwkoY2gPN9"
      },
      "source": [
        "# 문서3: 정부가 발표하는 물가상승률과 소비자가 느끼는 물가상승률은 다르다. 소비자는 주로 소비하는 상품을 기준으로 물가상승률을 느낀다.\n",
        "okt = Okt()\n",
        "\n",
        "text3 = \"정부가 발표하는 물가상승률과 소비자가 느끼는 물가상승률은 다르다. 소비자는 주로 소비하는 상품을 기준으로 물가상승률을 느낀다.\"\n",
        "sentence3 = re.sub(\"(\\.)\",\"\",text3)\n",
        "token3 = okt.morphs(sentence3)\n",
        "print(token3)"
      ],
      "execution_count": null,
      "outputs": []
    },
    {
      "cell_type": "code",
      "metadata": {
        "id": "ZClvKn_fgh9F"
      },
      "source": [
        "word2index_3 = {}\n",
        "bow3 = []\n",
        "\n",
        "for voca in token3:\n",
        "  if voca not in word2index_3.keys():\n",
        "    word2index_3[voca] = len(word2index_3)\n",
        "    bow3.insert(len(word2index_3)-1,1)\n",
        "  else:\n",
        "    index = word2index_3[voca]\n",
        "    bow3[index] = bow3[index] + 1\n",
        "print(word2index_3)"
      ],
      "execution_count": null,
      "outputs": []
    },
    {
      "cell_type": "code",
      "metadata": {
        "id": "IAN-t2mPhBQB"
      },
      "source": [
        "print(bow3)"
      ],
      "execution_count": null,
      "outputs": []
    },
    {
      "cell_type": "markdown",
      "metadata": {
        "id": "wUHGWbAQhKsl"
      },
      "source": [
        "## CountVectorizer 클래스로 BoW 만들기\n",
        "---\n",
        "- sklearn에서 count하여 vector로 만드는 countvectorizer 클래스 지원"
      ]
    },
    {
      "cell_type": "code",
      "metadata": {
        "id": "ZPDNFxRcjGbe"
      },
      "source": [
        "from sklearn.feature_extraction.text import CountVectorizer\n",
        "corpus = ['you know I want your love. because I love you.']\n",
        "vector = CountVectorizer()\n",
        "print(vector.fit_transform(corpus).toarray())\n",
        "print(vector.vocabulary_)"
      ],
      "execution_count": null,
      "outputs": []
    },
    {
      "cell_type": "markdown",
      "metadata": {
        "id": "b32WbRMYjsSh"
      },
      "source": [
        "## 불용어를 제거한 BoW 만들기\n",
        "---\n",
        "Countertorzier에 불용어를 지정하여 불용어를 제거한 상태로 BoW 만들기"
      ]
    },
    {
      "cell_type": "markdown",
      "metadata": {
        "id": "rfVVHtK8F_1c"
      },
      "source": [
        "### 사용자가 직접 정의"
      ]
    },
    {
      "cell_type": "code",
      "metadata": {
        "id": "Zp6heS8bjtdS"
      },
      "source": [
        "from sklearn.feature_extraction.text import CountVectorizer\n",
        "\n",
        "corpus = [\"Family is not an important thing. It's everything.\"]\n",
        "vect = CountVectorizer(input = corpus, stop_words = [\"the\",\"a\",\"an\",\"is\",\"not\"])\n",
        "print(vect.fit_transform(corpus).toarray())\n",
        "print(vect.vocabulary_)"
      ],
      "execution_count": null,
      "outputs": []
    },
    {
      "cell_type": "markdown",
      "metadata": {
        "id": "Zoib3d6njgYy"
      },
      "source": [
        "### CounterVector에서 제공하는 자체 불용어 사용"
      ]
    },
    {
      "cell_type": "code",
      "metadata": {
        "id": "v_tfpV-cGD6V"
      },
      "source": [
        "from sklearn.feature_extraction.text import CountVectorizer\n",
        "\n",
        "corpus = [\"Family is not an important thing. It's everything.\"]\n",
        "vect = CountVectorizer(input = corpus, stop_words=\"english\")\n",
        "print(vect.fit_transform(corpus).toarray())\n",
        "print(vect.vocabulary_)"
      ],
      "execution_count": null,
      "outputs": []
    },
    {
      "cell_type": "markdown",
      "metadata": {
        "id": "urvf50Q79AET"
      },
      "source": [
        "## NLTK에서 지원하는 불용어"
      ]
    },
    {
      "cell_type": "code",
      "metadata": {
        "id": "rFcm4QF5Gft1"
      },
      "source": [
        "from sklearn.feature_extraction.text import CountVectorizer\n",
        "from nltk.corpus import stopwords\n",
        "import nltk\n",
        "nltk.download(\"stopwords\")\n",
        "sw = stopwords.words(\"english\")\n",
        "corpus = [\"Family is not an important thing. It's everything.\"]\n",
        "vect = CountVectorizer(input = corpus, stop_words=sw)\n",
        "print(\"*\"*100)\n",
        "print(vect.fit_transform(corpus).toarray)\n",
        "print(vect.vocabulary_)"
      ],
      "execution_count": null,
      "outputs": []
    },
    {
      "cell_type": "code",
      "metadata": {
        "id": "D-PI_tCQ7yqs"
      },
      "source": [
        ""
      ],
      "execution_count": null,
      "outputs": []
    }
  ]
}