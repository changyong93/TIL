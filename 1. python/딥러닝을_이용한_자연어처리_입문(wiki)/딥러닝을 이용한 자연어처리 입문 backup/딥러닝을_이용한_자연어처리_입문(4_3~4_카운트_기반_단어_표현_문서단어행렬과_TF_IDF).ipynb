{
  "nbformat": 4,
  "nbformat_minor": 0,
  "metadata": {
    "colab": {
      "name": "딥러닝을_이용한_자연어처리_입문(4_3~4_카운트 기반 단어 표현_문서단어행렬과 TF-IDF)",
      "private_outputs": true,
      "provenance": [],
      "collapsed_sections": [],
      "toc_visible": true,
      "authorship_tag": "ABX9TyMKaWc84ib1WNeom8O9BPDQ",
      "include_colab_link": true
    },
    "kernelspec": {
      "name": "python3",
      "display_name": "Python 3"
    },
    "language_info": {
      "name": "python"
    }
  },
  "cells": [
    {
      "cell_type": "markdown",
      "metadata": {
        "id": "view-in-github",
        "colab_type": "text"
      },
      "source": [
        "<a href=\"https://colab.research.google.com/github/changyong93/Natural-language-processing-with-chat-bot/blob/main/%EB%94%A5%EB%9F%AC%EB%8B%9D%EC%9D%84_%EC%9D%B4%EC%9A%A9%ED%95%9C_%EC%9E%90%EC%97%B0%EC%96%B4%EC%B2%98%EB%A6%AC_%EC%9E%85%EB%AC%B8(4_3~4_%EC%B9%B4%EC%9A%B4%ED%8A%B8_%EA%B8%B0%EB%B0%98_%EB%8B%A8%EC%96%B4_%ED%91%9C%ED%98%84_%EB%AC%B8%EC%84%9C%EB%8B%A8%EC%96%B4%ED%96%89%EB%A0%AC%EA%B3%BC_TF_IDF).ipynb\" target=\"_parent\"><img src=\"https://colab.research.google.com/assets/colab-badge.svg\" alt=\"Open In Colab\"/></a>"
      ]
    },
    {
      "cell_type": "markdown",
      "metadata": {
        "id": "lGrFk3siBzup"
      },
      "source": [
        "# 문서 단어 행렬(Document-Term Matrix, DTM)\n",
        "---\n",
        "각 문서에 대한 BoW 표현 방법을 가지고, 서로 다른 문서들의 BoW들을 결합한 표현방법인 무서 단어 행렬(DTM)의 표현을 구현"
      ]
    },
    {
      "cell_type": "markdown",
      "metadata": {
        "id": "ca-C9eGLCee2"
      },
      "source": [
        "##  DTM 중 TF-IDF 구현\n",
        "---\n",
        "- IF-IDF(Term Frequency - Inverse Document Frequency) : 단어의 빈도와 역 문서 빈도(문서 빈도에 특정 식을 취함)을 이용해 DTM 내의 각 단어들마다 중요한 정보에 가중치를 부여한느 방식\n",
        "- 사용 방법 : 우선 DTM을 만든 후 TF-IDF 가중치 부여\n",
        "- IF-IDF 사용처 : 문서의 유사도를 구하는 작업, 검색 시스템에서 검색의 중요도를 정하는 작업, 문서 내에서 특정 단어의 중요도를 구하는 작업 등\n",
        "- 기존 DTM보다 더 많은 정보를 고려할 순 있으나 성능이 더 뛰어나진 않음"
      ]
    },
    {
      "cell_type": "markdown",
      "metadata": {
        "id": "fbrGR54wOj1J"
      },
      "source": [
        "## 파이썬으로 TF-IDF 구현"
      ]
    },
    {
      "cell_type": "code",
      "metadata": {
        "id": "We8-3U7JmL6r"
      },
      "source": [
        "import pandas as pd # 데이터프레임 사용\n",
        "from math import log #TF-IDF 계산"
      ],
      "execution_count": null,
      "outputs": []
    },
    {
      "cell_type": "code",
      "metadata": {
        "id": "heQXrD45naPC"
      },
      "source": [
        "docs = [\n",
        "  '먹고 싶은 사과',\n",
        "  '먹고 싶은 바나나',\n",
        "  '길고 노란 바나나 바나나',\n",
        "  '저는 과일이 좋아요'\n",
        "] \n",
        "vocab = list(set(w for doc in docs for w in doc.split()))\n",
        "vocab.sort()"
      ],
      "execution_count": null,
      "outputs": []
    },
    {
      "cell_type": "code",
      "metadata": {
        "id": "NO6HlwNfp-MO"
      },
      "source": [
        "N = len(docs) #문서 개수\n",
        "\n",
        "def tf(t,d):\n",
        "  return d.count(t)\n",
        "\n",
        "def idf(t):\n",
        "  df = 0\n",
        "  for doc in docs:\n",
        "    df += t in doc\n",
        "  return log(N / (1 + df))\n",
        "\n",
        "def tfidf(t,d):\n",
        "  return tf(t,d) * idf(t)"
      ],
      "execution_count": null,
      "outputs": []
    },
    {
      "cell_type": "code",
      "metadata": {
        "id": "u-ENF77krV14"
      },
      "source": [
        "# TF 즉 DTM 구하기\n",
        "result = []\n",
        "for i in range(N): #문서 개수만큼 반복\n",
        "  result.append([])\n",
        "\n",
        "  d = docs[i]\n",
        "\n",
        "  for j in range(len(vocab)):\n",
        "    s = vocab[j]\n",
        "    result[-1].append(tf(s,d))\n",
        "\n",
        "tf_ = pd.DataFrame(data = result, columns = vocab)\n",
        "tf_"
      ],
      "execution_count": null,
      "outputs": []
    },
    {
      "cell_type": "code",
      "metadata": {
        "id": "llr6p2keuIMI"
      },
      "source": [
        "#idf 생성\n",
        "result = []\n",
        "\n",
        "for i in range(len(vocab)):\n",
        "  t = vocab[i]\n",
        "  result.append(idf(t))\n",
        "idf_ = pd.DataFrame(data = result, index = vocab, columns = [\"idf\"])\n",
        "idf_"
      ],
      "execution_count": null,
      "outputs": []
    },
    {
      "cell_type": "code",
      "metadata": {
        "id": "9j3BfdHuuwDH"
      },
      "source": [
        "#tf-idf 구하기\n",
        "result = []\n",
        "for i in range(N):\n",
        "  result.append([])\n",
        "  \n",
        "  d = docs[i]\n",
        "  for j in range(len(vocab)):\n",
        "    t = vocab[j]\n",
        "    result[-1].append(tfidf(t,d))\n",
        "\n",
        "tfidf_ = pd.DataFrame(data = result, columns = vocab)\n",
        "tfidf_"
      ],
      "execution_count": null,
      "outputs": []
    },
    {
      "cell_type": "markdown",
      "metadata": {
        "id": "cw3hP_d0wCA4"
      },
      "source": [
        "- tf-idf 구현 완료\n",
        "- 단 문제는 문서의 전체 단어가 4개인데, 해당 문서에 3개일 경우 1+3으로 로그값이 0으로 출력됨\n",
        "- 이 경우 가중치를 활용 불가 => log의 input 분모에 1을 더하지 말고, log(N/df(t)) + 1로 바깥에서 더할 경우 이상없이 수행 가능"
      ]
    },
    {
      "cell_type": "markdown",
      "metadata": {
        "id": "hIQoV6nzwybU"
      },
      "source": [
        "## 사이킷런으로 TF-IDF 구현\n",
        "---\n",
        "- 사이킷런의 TF-IDF는 조금 더 조정된 다른 식을 사용\n",
        "- log 내부의 분자에 1을 더해주고, 로그항에 1을 더해주고 L2 정규화 "
      ]
    },
    {
      "cell_type": "code",
      "metadata": {
        "id": "IibJ-xwtyOx1"
      },
      "source": [
        "# DTM 구현\n",
        "from sklearn.feature_extraction.text import CountVectorizer\n",
        "\n",
        "corpus = [\n",
        "    'you know I want your love',\n",
        "    'I like you',\n",
        "    'what should I do ',    \n",
        "]\n",
        "\n",
        "vector = CountVectorizer()\n",
        "print(vector.fit_transform(corpus).toarray())\n",
        "print(vector.vocabulary_)"
      ],
      "execution_count": null,
      "outputs": []
    },
    {
      "cell_type": "code",
      "metadata": {
        "id": "u2vkB6AayofR"
      },
      "source": [
        "#TF-IDF 구현\n",
        "# 사이킷런 TfidfVectorizer 사용\n",
        "from sklearn.feature_extraction.text import TfidfVectorizer\n",
        "corpus = [\n",
        "    'you know I want your love',\n",
        "    'I like you',\n",
        "    'what should I do ',    \n",
        "]\n",
        "\n",
        "tfidf = TfidfVectorizer()\n",
        "print(tfidf.fit_transform(corpus).toarray())\n",
        "print(tfidf.vocabulary_)"
      ],
      "execution_count": null,
      "outputs": []
    },
    {
      "cell_type": "code",
      "metadata": {
        "id": "_6pPEkRc077c"
      },
      "source": [
        "\n"
      ],
      "execution_count": null,
      "outputs": []
    }
  ]
}