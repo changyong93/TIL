{
  "nbformat": 4,
  "nbformat_minor": 0,
  "metadata": {
    "colab": {
      "name": "딥러닝을_이용한_자연어처리_입문(7_8_머신러닝 개요_벡터와 행렬연산)",
      "private_outputs": true,
      "provenance": [],
      "collapsed_sections": [],
      "authorship_tag": "ABX9TyOytdLOhJe4/ln/PvZldwIC",
      "include_colab_link": true
    },
    "kernelspec": {
      "name": "python3",
      "display_name": "Python 3"
    },
    "language_info": {
      "name": "python"
    }
  },
  "cells": [
    {
      "cell_type": "markdown",
      "metadata": {
        "id": "view-in-github",
        "colab_type": "text"
      },
      "source": [
        "<a href=\"https://colab.research.google.com/github/changyong93/Natural-language-processing-with-chat-bot/blob/main/%EB%94%A5%EB%9F%AC%EB%8B%9D%EC%9D%84_%EC%9D%B4%EC%9A%A9%ED%95%9C_%EC%9E%90%EC%97%B0%EC%96%B4%EC%B2%98%EB%A6%AC_%EC%9E%85%EB%AC%B8(7_8_%EB%A8%B8%EC%8B%A0%EB%9F%AC%EB%8B%9D_%EA%B0%9C%EC%9A%94_%EB%B2%A1%ED%84%B0%EC%99%80_%ED%96%89%EB%A0%AC%EC%97%B0%EC%82%B0).ipynb\" target=\"_parent\"><img src=\"https://colab.research.google.com/assets/colab-badge.svg\" alt=\"Open In Colab\"/></a>"
      ]
    },
    {
      "cell_type": "markdown",
      "metadata": {
        "id": "LgwsG9hJlEuc"
      },
      "source": [
        "# 벡터와 행렬 연산"
      ]
    },
    {
      "cell_type": "markdown",
      "metadata": {
        "id": "1MpKcwyUlSXB"
      },
      "source": [
        "## 벡터와 행렬과 텐서\n",
        "---\n",
        "- 벡터 : 크기와 방향을 가진 양, 숫자가 나열된 형태이며, 파이썬에선 1차원 배열 또는 리스트로\n",
        "- 행렬 : 행과 열을 가진 2차원 형태이며, 파이썬에선 2차원 배열\n",
        "- 텐서 : 3차원으로, 파이썬에선 3차원 배열로 표현"
      ]
    },
    {
      "cell_type": "markdown",
      "metadata": {
        "id": "LCiG1BfdlkOu"
      },
      "source": [
        "## 텐서(Tensor)"
      ]
    },
    {
      "cell_type": "code",
      "metadata": {
        "id": "UTQTWqLhlvh9"
      },
      "source": [
        "import numpy as np"
      ],
      "execution_count": null,
      "outputs": []
    },
    {
      "cell_type": "markdown",
      "metadata": {
        "id": "jjLQZJjxlxmt"
      },
      "source": [
        "### 0차원 텐서\n",
        "---\n",
        "- 스칼라는 하나의 실수값으로 이루어진 데이터\n",
        "- 스칼라값을 0차원 텐서라고도 함\n",
        "- 차원 : Dimensionality => 0차원 텐서를 0D 텐서라고도 함"
      ]
    },
    {
      "cell_type": "code",
      "metadata": {
        "id": "CM5foFNYl4li"
      },
      "source": [
        "d = np.array(5)\n",
        "print(d.ndim)\n",
        "print(d.shape)"
      ],
      "execution_count": null,
      "outputs": []
    },
    {
      "cell_type": "markdown",
      "metadata": {
        "id": "fTB0BwjzmGHa"
      },
      "source": [
        "numpy의 ndim은 축의 개수를 출력하는데, 이는 텐서의 차원수와 동일"
      ]
    },
    {
      "cell_type": "markdown",
      "metadata": {
        "id": "J_8UNiM2mMjN"
      },
      "source": [
        "### 1차원 텐서\n",
        "---\n",
        "- 벡터는 숫자를 특정 순서대로 배열한 것\n",
        "- 벡터를 1차원 텐서라고 함\n",
        "- 단, 벡터의 차원과 텐서의 차원은 다른 개념, 아래 예제를 보면면, 4차원 벡터지만 1차원 텐서(1D 텐서)  \n",
        "\n",
        "**벡터의 차원은 하나의 축게 존재하는 차원의 개수, 텐서의 차원은 차원 수의 개수**  "
      ]
    },
    {
      "cell_type": "code",
      "metadata": {
        "id": "vlT5lIX6mhFv"
      },
      "source": [
        "d = np.array([1,2,3,4])\n",
        "print(d.ndim)\n",
        "print(d.shape)"
      ],
      "execution_count": null,
      "outputs": []
    },
    {
      "cell_type": "markdown",
      "metadata": {
        "id": "uw9E5yJTsQvC"
      },
      "source": [
        "### 2차원 텐서 (2D 텐서)"
      ]
    },
    {
      "cell_type": "code",
      "metadata": {
        "id": "oEcl7SMfsiSS"
      },
      "source": [
        "d = np.array([[1,2,3,4],[5,6,7,8,],[9,10,11,12]])\n",
        "print(d.ndim)\n",
        "print(d.shape)"
      ],
      "execution_count": null,
      "outputs": []
    },
    {
      "cell_type": "markdown",
      "metadata": {
        "id": "MUZsqCtDtPHk"
      },
      "source": [
        "### 3차원 텐서(3D 텐서)\n",
        "---\n",
        "위에서 언급한 0차원 ~ 2차원 텐서는 각각 스칼라, 벡터, 행렬이라고 해도 무방하므로 3차원 이상의 텐서부터 본격적으로 텐서라고 함"
      ]
    },
    {
      "cell_type": "code",
      "metadata": {
        "id": "jSs0ILoMtqqT"
      },
      "source": [
        "d = np.array([\n",
        "              [[1,2,3,4,5],[6,7,8,9,10],[11,12,13,14,15]],\n",
        "              [[1,3,5,7,9],[2,4,6,8,10],[11,13,15,17,19]]\n",
        "])\n",
        "print(d.ndim)\n",
        "print(d.shape)"
      ],
      "execution_count": null,
      "outputs": []
    },
    {
      "cell_type": "markdown",
      "metadata": {
        "id": "haiVz5kgu64J"
      },
      "source": [
        "- 자연어 처리에서는 특히 자주 보게 되는 것이 3D 텐서\n",
        "- 3D 텐서는 시퀀스 데이터를 표현할 때 자주 사용됨\n",
        "- 여기서 시퀀스 데이터는 주로 단어의 시퀀스를 의미하며, 시퀀스는 주로 문장이나 문서, 뉴스 기사 등의 텍스트가 될 수 있음\n",
        "- 이 경우 3D 텐서는 (samples, timesteps, word_dim)\n",
        "- 또는 일괄로 처리하기 위해선 배치 개념을 도입하여 (batch_size, timesteps, word_dim)\n",
        "---\n",
        "- samples/batch_size는 데이터의 개수\n",
        "- timesteps는 시퀀스의 길이\n",
        "- word_dim은 단어를 표현하는 벡터의 차원"
      ]
    },
    {
      "cell_type": "markdown",
      "metadata": {
        "id": "aYjiLkWVvPk9"
      },
      "source": [
        "단어\tOne-hot vector  \n",
        "I\t[1 0 0 0 0 0]  \n",
        "like\t[0 1 0 0 0 0]  \n",
        "NLP\t[0 0 1 0 0 0]  \n",
        "DL\t[0 0 0 1 0 0]  \n",
        "is\t[0 0 0 0 1 0]  \n",
        "AI\t[0 0 0 0 0 1]  \n",
        "\n",
        "-- 그럼 기존에 있던 훈련 데이터를 모두 원-핫 벡터로 바꿔서 인공 신경망의 입력으로 한 꺼번에 사용\n",
        "-- 훈련 데이터를 여러개 묶어서 한 꺼번에 입력으로 사용하는 것을 배치(Batch)\n",
        "\n",
        "[[[1, 0, 0, 0, 0, 0], [0, 1, 0, 0, 0, 0], [0, 0, 1, 0, 0, 0]],  \n",
        "[[1, 0, 0, 0, 0, 0], [0, 1, 0, 0, 0, 0], [0, 0, 0, 1, 0, 0]],  \n",
        "[[0, 0, 0, 1, 0, 0], [0, 0, 0, 0, 1, 0], [0, 0, 0, 0, 0, 1]]]  \n",
        "- 이는 (3, 3, 6)의 크기를 가지는 3D 텐서"
      ]
    },
    {
      "cell_type": "markdown",
      "metadata": {
        "id": "H66hhmve1nEH"
      },
      "source": [
        "### 그 이상의 텐서\n",
        "---\n",
        "3차원 텐서를 배열로 합치면 4차원, 4차원 텐서를 배열로 합치면 5차원, n-1차원 텐서를 배열로 합치면 n차원 텐서"
      ]
    },
    {
      "cell_type": "markdown",
      "metadata": {
        "id": "iJJc8arU2jlY"
      },
      "source": [
        "### 케라스에서의 텐서\n",
        "- numpy에선 각 텐서의 ndim(차원)과 shape(크기)를 출력\n",
        "- 케라스에서는 입력의 크기(shape)를 인자로 줄 때 input_shape이라는 인자 사용\n",
        "\n",
        "- input_shape은 배치 크기를 제외하고 차원을 지정\n",
        "  - ex) input_shape(6,5)라는 인자값을 사용하고, 배치크기를 32라고 지정하면 이 텐서의 크기는 (32,6,5). 만약 배치 크기까지 지정해주고 싶다면, batch_input_shape = (32,6,5)\n",
        "\n",
        "- 그 외에도 입력 속성 수 : input_dim, 시퀀스 데이터 길이 : input_length\n",
        "- input_shape = (input_dim, input_length)"
      ]
    },
    {
      "cell_type": "code",
      "metadata": {
        "id": "W2pnsesW3YZ6"
      },
      "source": [
        ""
      ],
      "execution_count": null,
      "outputs": []
    }
  ]
}