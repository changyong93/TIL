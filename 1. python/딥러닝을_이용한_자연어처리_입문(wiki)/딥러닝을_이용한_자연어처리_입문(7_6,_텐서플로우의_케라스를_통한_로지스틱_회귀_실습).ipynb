{
  "nbformat": 4,
  "nbformat_minor": 0,
  "metadata": {
    "colab": {
      "name": "딥러닝을_이용한_자연어처리_입문(7_6,_텐서플로우의 케라스를 통한 로지스틱 회귀 실습)",
      "private_outputs": true,
      "provenance": [],
      "collapsed_sections": [],
      "authorship_tag": "ABX9TyNbp/63n1kTWqaUmlHl4UFL",
      "include_colab_link": true
    },
    "kernelspec": {
      "name": "python3",
      "display_name": "Python 3"
    },
    "language_info": {
      "name": "python"
    },
    "accelerator": "GPU"
  },
  "cells": [
    {
      "cell_type": "markdown",
      "metadata": {
        "id": "view-in-github",
        "colab_type": "text"
      },
      "source": [
        "<a href=\"https://colab.research.google.com/github/changyong93/Natural-language-processing-with-chat-bot/blob/main/%EB%94%A5%EB%9F%AC%EB%8B%9D%EC%9D%84_%EC%9D%B4%EC%9A%A9%ED%95%9C_%EC%9E%90%EC%97%B0%EC%96%B4%EC%B2%98%EB%A6%AC_%EC%9E%85%EB%AC%B8(7_6%2C_%ED%85%90%EC%84%9C%ED%94%8C%EB%A1%9C%EC%9A%B0%EC%9D%98_%EC%BC%80%EB%9D%BC%EC%8A%A4%EB%A5%BC_%ED%86%B5%ED%95%9C_%EB%A1%9C%EC%A7%80%EC%8A%A4%ED%8B%B1_%ED%9A%8C%EA%B7%80_%EC%8B%A4%EC%8A%B5).ipynb\" target=\"_parent\"><img src=\"https://colab.research.google.com/assets/colab-badge.svg\" alt=\"Open In Colab\"/></a>"
      ]
    },
    {
      "cell_type": "markdown",
      "metadata": {
        "id": "oAxc-v0GPvXQ"
      },
      "source": [
        "# 케라스로 구현하는 로지스틱 회귀"
      ]
    },
    {
      "cell_type": "code",
      "metadata": {
        "id": "Y6xuqO_LQd0Z"
      },
      "source": [
        "import numpy as np\n",
        "import matplotlib.pyplot as plt\n",
        "\n",
        "from tensorflow.keras.models import Sequential\n",
        "from tensorflow.keras.layers import Dense\n",
        "from tensorflow.keras import optimizers"
      ],
      "execution_count": null,
      "outputs": []
    },
    {
      "cell_type": "code",
      "metadata": {
        "id": "e_qmbQAWRGoY"
      },
      "source": [
        "X=np.array([-50, -40, -30, -20, -10, -5, 0, 5, 10, 20, 30, 40, 50])\n",
        "y=np.array([0, 0, 0, 0, 0, 0, 0, 0, 1, 1, 1, 1, 1]) #숫자 10부터 1"
      ],
      "execution_count": null,
      "outputs": []
    },
    {
      "cell_type": "code",
      "metadata": {
        "id": "qL7qY649Q5N2"
      },
      "source": [
        "#Sequence()로 Model이라는 이름으로 모델을 만들기\n",
        "#Sequence()모델은 각 레이어에 정확히 하나의 입력 텐서와 하나의 출력 텐서가 있는 일반 레이어 스택에 적합\n",
        "model = Sequential()\n",
        "\n",
        "#add()를 통해 입력과 출력의 벡터 차원과 같은 정보를 추가\n",
        "#Dense()는 input을 넣었을 때 output으로 바꿔주는 중간 다리 역할\n",
        "#Dense parameter\n",
        "# - units : 해당 은닉층에서의 활동하는 뉴런의 수\n",
        "# - activation : 활성화 함수, 해당 은닉층에서 가중치와 편향의 연산에 적용할 함수\n",
        "# - input shape : 입력 벡터의 크기, ex) input_shape = 13,) : 13은 데이터프레임의 열읠 수\n",
        "# add의 마지막 Dense에서 unit은 출력하는 결과의 개수 add의 마지막 Dense에서 unit은 출력하는 결과의 개수\n",
        "# tensorflow 공식문서 : https://www.tensorflow.org/api_docs/python/tf/keras/layers/Dense\n",
        "# https://blog.naver.com/PostView.nhn?blogId=tjdrud1323&logNo=221819574416&from=search&redirect=Log&widgetTypeCall=true&directAccess=false\n",
        "\n",
        "# model.add(Dense(units = 1, input_shape = (1,), activation = 'sigmoid'))\n",
        "model.add(Dense(units = 1, input_dim = 1, activation = 'sigmoid'))\n",
        "#input_shape = (n,) = input_dim = n"
      ],
      "execution_count": null,
      "outputs": []
    },
    {
      "cell_type": "code",
      "metadata": {
        "id": "4MP4FzSWcWHe"
      },
      "source": [
        "#옵티마이저로 경하사강법 sgd를 사용\n",
        "#손실 함수는 이진 크로스 엔트로피 사용\n",
        "# sgd = optimizers.SGD(lr = 0.01)\n",
        "\n",
        "#compile()은 모델의 최적화와 관련되는 메서드로써, 모델에게 최적화를 위해 어떤 동작을 할 것인지 지정\n",
        "model.compile(optimizer='sgd', loss = 'binary_crossentropy', metrics = ['binary_accuracy'])\n",
        "# model.compile(optimizer=sgd, loss = 'binary_crossentropy', metrics = ['binary_accuracy'])\n",
        "\n",
        "#주어진 X와 y에 대해서 오차를 최소화 하는 작업을 200회 진행\n",
        "model.fit(X,y, batch_size = 1, epochs = 200, shuffle=False)"
      ],
      "execution_count": null,
      "outputs": []
    },
    {
      "cell_type": "code",
      "metadata": {
        "id": "Bebxuws7f0us"
      },
      "source": [
        "plt.plot(X,model.predict(X), 'b', X, y, 'k.')"
      ],
      "execution_count": null,
      "outputs": []
    },
    {
      "cell_type": "markdown",
      "metadata": {
        "id": "qfxgAyNPhQCd"
      },
      "source": [
        "- X가 5~10 사이의 어떤 값일 때 y값이 0.5를 넘기는 것처럼 보임"
      ]
    },
    {
      "cell_type": "code",
      "metadata": {
        "id": "K20n_ocRiFw9"
      },
      "source": [
        "for x,y in zip([1,2,3,4,5,6,8,9,10], model.predict([1,2,3,4,5,6,8,9,10]).round(4)):\n",
        "  print(x,y)"
      ],
      "execution_count": null,
      "outputs": []
    },
    {
      "cell_type": "markdown",
      "metadata": {
        "id": "V48rjnChic42"
      },
      "source": [
        "X가 5보다 작을 땐 0으로, 6이상일 땐 1로 출력하는 것을 확인"
      ]
    },
    {
      "cell_type": "code",
      "metadata": {
        "id": "_xvGHig-gMq7"
      },
      "source": [
        "for x,y in zip([1,2,3,4,5,6,8,9,10], model.predict([1,2,3,4,5,6,8,9,10]).round(4)):\n",
        "  print(x,y)"
      ],
      "execution_count": null,
      "outputs": []
    },
    {
      "cell_type": "code",
      "metadata": {
        "id": "Cmsz6jFbgZf3"
      },
      "source": [
        ""
      ],
      "execution_count": null,
      "outputs": []
    }
  ]
}