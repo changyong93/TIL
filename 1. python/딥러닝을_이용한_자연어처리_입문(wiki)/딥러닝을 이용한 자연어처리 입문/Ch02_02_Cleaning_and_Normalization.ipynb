{
 "cells": [
  {
   "cell_type": "markdown",
   "source": [
    "# 정제(Cleaning) and 정규화(Normalization)"
   ],
   "metadata": {}
  },
  {
   "cell_type": "markdown",
   "source": [
    "토큰화 작업 전후에는 텍스트 데이터를 용도에 맞게 정제(cleaning) 및 정규화(normalization)합니다.\n",
    "- 정제 : 갖고 있는 코퍼스로부터 노이즈 제거\n",
    "  - 토큰화의 원활한 진행을 위해 토큰화 전 노이즈를 제거하지만, 작업 후에도 여전히 남아있는 노이즈 제거를 위해 지속적 관찰\n",
    "  - 완벽한 정제는 어려우므로, 어느 정도의 합의점에서 중단한다.\n",
    "- 정규화 : 표현 방법이 다른 단어들을 통합시켜 같은 단어로 만들어준다.\n",
    "\n"
   ],
   "metadata": {}
  },
  {
   "cell_type": "markdown",
   "source": [
    "## 1. 규칙에 기반한 표기가 다른 단어들의 통합\n",
    "- 어간 추출(stemming)이나 표제어 추출(lammatization)을 통해 표기가 다른 단어들을 통합"
   ],
   "metadata": {}
  },
  {
   "cell_type": "markdown",
   "source": [
    "## 2. 대, 소문자 통합\n",
    "\n",
    "- 대소문자 통합을 통한 단어 개수 축소도 정규화의 또 다른 방법\n",
    "- 대소문자 차이로 인해 같은 의미의 단어라도 다른 결과를 초래할 수 있음\n",
    "- 단, 대-소문자간 의미가 다른 단어일 경우 주의가 필요  \n",
    "- 문장의 맨 앞 단어만 대문자, 나머지 소문자화도 하나의 방법\n",
    "- 예외 사항을 고려하지 않고, 모두 소문자화 하는 것도 실용적인 해결책으로써 사용"
   ],
   "metadata": {}
  },
  {
   "cell_type": "markdown",
   "source": [
    "## 3. 불필요한 단어의 제거(Removing Unnecessary Words)\n",
    "- 분석 목적에 맞지 않거나, 특수 문자 등 아무런 의미가 없는 글자들을 노이즈 데이터라고 함\n",
    "- 노이즈 제거를 위한 두 가지 방법\n",
    "  - 1) 등장 빈도가 낮은 단어 제거(e.g. n회 이하면 제거 등)\n",
    "  - 2) 길이가 짧은 단어 제거(e.g 단어의 글자 길이가 3이하면 제거 등)\n",
    "    - 언어별 평균 단어 길이, 한국어: 2~3글자(한자어가 많고, 글자가 하나일 경우라도 의미를 포함하는 경우도 많음), 영어: 6~7글자\n",
    "    - 따라서 길이가 2~3이 되는 단어들을 줄여도 성능에 큰 문제는 없음\n"
   ],
   "metadata": {}
  },
  {
   "cell_type": "code",
   "execution_count": 6,
   "source": [
    "import re\n",
    "text = \"I was wondering if anyone out there could enlighten me on this car.\"\n",
    "shortword = re.compile(r\"\\W*\\b\\w{1,2}\\b\")\n",
    "shortword.sub('',text)"
   ],
   "outputs": [
    {
     "output_type": "execute_result",
     "data": {
      "text/plain": [
       "' was wondering anyone out there could enlighten this car.'"
      ]
     },
     "metadata": {},
     "execution_count": 6
    }
   ],
   "metadata": {}
  },
  {
   "cell_type": "markdown",
   "source": [
    "## 4. 정규표현식\n",
    "- section 2.5에서 다룰 예정"
   ],
   "metadata": {}
  },
  {
   "cell_type": "markdown",
   "source": [],
   "metadata": {}
  }
 ],
 "metadata": {
  "orig_nbformat": 4,
  "language_info": {
   "name": "python",
   "version": "3.8.5",
   "mimetype": "text/x-python",
   "codemirror_mode": {
    "name": "ipython",
    "version": 3
   },
   "pygments_lexer": "ipython3",
   "nbconvert_exporter": "python",
   "file_extension": ".py"
  },
  "kernelspec": {
   "name": "python3",
   "display_name": "Python 3.8.5 64-bit ('base': conda)"
  },
  "interpreter": {
   "hash": "98b0a9b7b4eaaa670588a142fd0a9b87eaafe866f1db4228be72b4211d12040f"
  }
 },
 "nbformat": 4,
 "nbformat_minor": 2
}