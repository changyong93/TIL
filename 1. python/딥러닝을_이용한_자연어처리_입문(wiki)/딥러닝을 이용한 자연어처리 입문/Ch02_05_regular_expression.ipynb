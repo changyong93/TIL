{
 "cells": [
  {
   "cell_type": "markdown",
   "source": [
    "# 정규 표현식(Regular Expression)"
   ],
   "metadata": {}
  },
  {
   "cell_type": "markdown",
   "source": [
    "## 1. 정규 표현식 문법과 모듈 함수"
   ],
   "metadata": {}
  },
  {
   "cell_type": "markdown",
   "source": [
    "### 1) 정규 표현식 문법\n",
    "#### 특수 문자\n",
    "- . : 한개의 임의의 문자(줄바꿈 문자인 \\n 제외)\n",
    "- ? : 앞의 문자가 존재할 수도 있고, 아닐 수도 있고..\n",
    "- * : 앞의 문자가 0개 이상\n",
    "- + : 앞의 문자가 1개 이상\n",
    "- ^ : 뒤의 문자로 문자열이 시작\n",
    "- $ : 앞의 문자로 문자열 끝\n",
    "- {숫자} : 숫자만큼 반복\n",
    "- {숫자1,숫자2} : 숫자1이상 숫자2이하만큼 반복(+, *,? 등으로 대체 가능)\n",
    "- {숫자,} : 숫자 이상 반복\n",
    "- [] : 대괄호 내의 문자들 중 한 개의 문자와 매치\n",
    "- [^문자] : 해당 문자를 제외한 문자 매치\n",
    "- | : A|B 형태로, A 또는 B의 의미\n",
    "\n",
    "#### 역슬래쉬와 함꼐 사용되는 문자 규칙\n",
    "- \\ : 역 슬래쉬 문자 자체를 의미\n",
    "- \\d : 모든 숫자(==[0-9])\n",
    "- \\D : 숫자를 제외한 모든 문자(==[^0-9])\n",
    "- \\s : 공백(==[\\t\\n\\r\\f\\v])\n",
    "- \\S : 공백 제외(==[^\\t\\n\\r\\f\\v])\n",
    "- \\w : 문자 또는 숫자(==[0-9a-zA-Z])\n",
    "- \\W : 문자와 숫자 제외 (==[^0-9a-zA-Z])\n",
    "\n",
    "### 2) 정규표현식 모듈 함수\n",
    "- re.compile() : 정규표현식을 컴파일하는 함수, 찾고자 하는 패턴이 빈번한 경우 미리 컴파일 해놓고 사용하면 속도와 편의성면에서 유리\n",
    "- re.search() : **문자열 전체**에 대해 정규표현식과 매치되는지를 검색\n",
    "- re.match() : **문자열의 처음**이 정규표현식과 매치되는지 검색\n",
    "- re.split() : 정규표현식을 기준으로 문자열을 분리하여 리스트로 리턴\n",
    "- re.findall() : 문자열에서 정규표현식과 매치되는 모든 경우의 문자열을 찾아서 리스트로 리턴, 없다면 빈 리스트 리턴\n",
    "- re.finditer() : findall과 동일하나, 이터레이터 객체로 리턴\n",
    "- re.sub() : 문자열에서 정규표현식과 일치하는 부분을 다른 문자열로 대체"
   ],
   "metadata": {}
  },
  {
   "cell_type": "markdown",
   "source": [],
   "metadata": {}
  },
  {
   "cell_type": "markdown",
   "source": [
    "## 2. 정규표현식 실습"
   ],
   "metadata": {}
  },
  {
   "cell_type": "markdown",
   "source": [
    "### 1) .기호"
   ],
   "metadata": {}
  },
  {
   "cell_type": "code",
   "execution_count": 13,
   "source": [
    "import re\n",
    "r = re.compile(\"a.c\")\n",
    "r.search(\"kkk\") # 아무런 결과 없음"
   ],
   "outputs": [],
   "metadata": {}
  },
  {
   "cell_type": "code",
   "execution_count": 17,
   "source": [
    "r.search(\"abc\")"
   ],
   "outputs": [
    {
     "output_type": "execute_result",
     "data": {
      "text/plain": [
       "<re.Match object; span=(0, 3), match='abc'>"
      ]
     },
     "metadata": {},
     "execution_count": 17
    }
   ],
   "metadata": {}
  },
  {
   "cell_type": "markdown",
   "source": [
    "정규표현식 기준인 a부터 시작, 중간에 아무거나, c로 마무리 규칙에 맞는 위치 반환   \n",
    "idex 0~3까지이며 match된 string은 'abc'"
   ],
   "metadata": {}
  },
  {
   "cell_type": "markdown",
   "source": [
    "### 2) ?기호"
   ],
   "metadata": {}
  },
  {
   "cell_type": "code",
   "execution_count": 20,
   "source": [
    "import re\n",
    "r=re.compile(\"ab?c\")\n",
    "r.search(\"abbc\") #아무런 결과 없음"
   ],
   "outputs": [],
   "metadata": {}
  },
  {
   "cell_type": "code",
   "execution_count": 21,
   "source": [
    "r.search(\"ac\"), r.search(\"abc\")"
   ],
   "outputs": [
    {
     "output_type": "execute_result",
     "data": {
      "text/plain": [
       "(<re.Match object; span=(0, 2), match='ac'>,\n",
       " <re.Match object; span=(0, 3), match='abc'>)"
      ]
     },
     "metadata": {},
     "execution_count": 21
    }
   ],
   "metadata": {}
  },
  {
   "cell_type": "markdown",
   "source": [
    "a와 c 사이에 b가 있거나 없는 조건에 만족한 경우만 반환"
   ],
   "metadata": {}
  },
  {
   "cell_type": "markdown",
   "source": [
    "### 3) *기호"
   ],
   "metadata": {}
  },
  {
   "cell_type": "code",
   "execution_count": 22,
   "source": [
    "import re\n",
    "r = re.compile(\"ab*c\")\n",
    "r.search(\"abbbbbbbbbbbbc\")"
   ],
   "outputs": [
    {
     "output_type": "execute_result",
     "data": {
      "text/plain": [
       "<re.Match object; span=(0, 14), match='abbbbbbbbbbbbc'>"
      ]
     },
     "metadata": {},
     "execution_count": 22
    }
   ],
   "metadata": {}
  },
  {
   "cell_type": "markdown",
   "source": [
    "a와 b 사이 b가 0개 이상인 문자열 반환 완료"
   ],
   "metadata": {}
  },
  {
   "cell_type": "markdown",
   "source": [
    "### 4) +기호"
   ],
   "metadata": {}
  },
  {
   "cell_type": "code",
   "execution_count": 26,
   "source": [
    "import re\n",
    "r = re.compile(\"ab+c\")\n",
    "r.search(\"ac\") #b가 없어서 리턴 X"
   ],
   "outputs": [],
   "metadata": {}
  },
  {
   "cell_type": "code",
   "execution_count": 27,
   "source": [
    "r.search(\"abbbbbbbbc\")"
   ],
   "outputs": [
    {
     "output_type": "execute_result",
     "data": {
      "text/plain": [
       "<re.Match object; span=(0, 10), match='abbbbbbbbc'>"
      ]
     },
     "metadata": {},
     "execution_count": 27
    }
   ],
   "metadata": {}
  },
  {
   "cell_type": "markdown",
   "source": [
    "a와 c 사이 b가 1개 이상인 경우만 반환"
   ],
   "metadata": {}
  },
  {
   "cell_type": "markdown",
   "source": [
    "### 5) ^기호"
   ],
   "metadata": {}
  },
  {
   "cell_type": "code",
   "execution_count": 28,
   "source": [
    "import re\n",
    "r = re.compile(\"^a\")\n",
    "r.search(\"bac\")"
   ],
   "outputs": [],
   "metadata": {}
  },
  {
   "cell_type": "code",
   "execution_count": 29,
   "source": [
    "r.search(\"abbb\")"
   ],
   "outputs": [
    {
     "output_type": "execute_result",
     "data": {
      "text/plain": [
       "<re.Match object; span=(0, 1), match='a'>"
      ]
     },
     "metadata": {},
     "execution_count": 29
    }
   ],
   "metadata": {}
  },
  {
   "cell_type": "markdown",
   "source": [
    "문자열의 시작이 a면 반환"
   ],
   "metadata": {}
  },
  {
   "cell_type": "markdown",
   "source": [
    "### 6) {숫자} 기호"
   ],
   "metadata": {}
  },
  {
   "cell_type": "code",
   "execution_count": 31,
   "source": [
    "import re\n",
    "r = re.compile(\"ab{2}c\")\n",
    "r.search(\"abbc\")"
   ],
   "outputs": [
    {
     "output_type": "execute_result",
     "data": {
      "text/plain": [
       "<re.Match object; span=(0, 4), match='abbc'>"
      ]
     },
     "metadata": {},
     "execution_count": 31
    }
   ],
   "metadata": {}
  },
  {
   "cell_type": "markdown",
   "source": [
    "a b b c 인 경우만 반환"
   ],
   "metadata": {}
  },
  {
   "cell_type": "markdown",
   "source": [
    "### 7) {숫자1,숫자2}기호"
   ],
   "metadata": {}
  },
  {
   "cell_type": "code",
   "execution_count": 32,
   "source": [
    "import re\n",
    "r = re.compile(\"ab{2,8}c\")\n",
    "r.search(\"abc\")"
   ],
   "outputs": [],
   "metadata": {}
  },
  {
   "cell_type": "code",
   "execution_count": 33,
   "source": [
    "r.search(\"abbc\")"
   ],
   "outputs": [
    {
     "output_type": "execute_result",
     "data": {
      "text/plain": [
       "<re.Match object; span=(0, 4), match='abbc'>"
      ]
     },
     "metadata": {},
     "execution_count": 33
    }
   ],
   "metadata": {}
  },
  {
   "cell_type": "markdown",
   "source": [
    "a와 c 사이에 b가 2개 이상 8개 이하인 경우만 반환"
   ],
   "metadata": {}
  },
  {
   "cell_type": "markdown",
   "source": [
    "### 8) {숫자,}기호"
   ],
   "metadata": {}
  },
  {
   "cell_type": "code",
   "execution_count": 35,
   "source": [
    "import re\n",
    "r = re.compile(\"ab{2,}c\")\n",
    "r.search(\"abbbbbbbbbbbc\")"
   ],
   "outputs": [
    {
     "output_type": "execute_result",
     "data": {
      "text/plain": [
       "<re.Match object; span=(0, 13), match='abbbbbbbbbbbc'>"
      ]
     },
     "metadata": {},
     "execution_count": 35
    }
   ],
   "metadata": {}
  },
  {
   "cell_type": "markdown",
   "source": [
    "a와 b 사이에 b가 2개 이상인 경우 반환"
   ],
   "metadata": {}
  },
  {
   "cell_type": "markdown",
   "source": [
    "### 9) []기호"
   ],
   "metadata": {}
  },
  {
   "cell_type": "code",
   "execution_count": 38,
   "source": [
    "import re\n",
    "r = re.compile(\"[a-c]\")\n",
    "r.search(\"fjeawi;fj\")"
   ],
   "outputs": [
    {
     "output_type": "execute_result",
     "data": {
      "text/plain": [
       "<re.Match object; span=(3, 4), match='a'>"
      ]
     },
     "metadata": {},
     "execution_count": 38
    }
   ],
   "metadata": {}
  },
  {
   "cell_type": "markdown",
   "source": [
    "문자열에서 a,b,c 중 하나라도 매칭이 되면 해당 위치 및 값 반환"
   ],
   "metadata": {}
  },
  {
   "cell_type": "markdown",
   "source": [
    "### 10) [^문자]기호"
   ],
   "metadata": {}
  },
  {
   "cell_type": "code",
   "execution_count": 39,
   "source": [
    "import re\n",
    "r = re.compile(\"[^abc]\")\n",
    "r.search(\"aaabbbabce\")"
   ],
   "outputs": [
    {
     "output_type": "execute_result",
     "data": {
      "text/plain": [
       "<re.Match object; span=(9, 10), match='e'>"
      ]
     },
     "metadata": {},
     "execution_count": 39
    }
   ],
   "metadata": {}
  },
  {
   "cell_type": "markdown",
   "source": [
    "abc 이외에 나온 문자열에 대해 반환"
   ],
   "metadata": {}
  },
  {
   "cell_type": "markdown",
   "source": [
    "## 정규 표현식 모듈 함수 예제"
   ],
   "metadata": {}
  },
  {
   "cell_type": "markdown",
   "source": [
    "### 1) re.match()와 re.search() 차이\n",
    "- re.match()와 re.search()는 동일한 기능이지만\n",
    "- re.match()는 문자열의 시작 기준, re.search()는 문자열 내에 전체 탐색\n"
   ],
   "metadata": {}
  },
  {
   "cell_type": "code",
   "execution_count": 42,
   "source": [
    "import re\n",
    "r = re.compile(\"ab.\")\n",
    "r.search(\"kkkabc\")"
   ],
   "outputs": [
    {
     "output_type": "execute_result",
     "data": {
      "text/plain": [
       "<re.Match object; span=(3, 6), match='abc'>"
      ]
     },
     "metadata": {},
     "execution_count": 42
    }
   ],
   "metadata": {}
  },
  {
   "cell_type": "code",
   "execution_count": 43,
   "source": [
    "r.match(\"kkkabc\")"
   ],
   "outputs": [],
   "metadata": {}
  },
  {
   "cell_type": "markdown",
   "source": [
    "search()는 찾지만, match는 처음 위치부터 아니었으므로 아무것도 반환 X"
   ],
   "metadata": {}
  },
  {
   "cell_type": "markdown",
   "source": [
    "### 2) re.split()"
   ],
   "metadata": {}
  },
  {
   "cell_type": "code",
   "execution_count": 44,
   "source": [
    "import re\n",
    "text = \"수박 딸기 참외 멜론\"\n",
    "re.split(\" \",text)"
   ],
   "outputs": [
    {
     "output_type": "execute_result",
     "data": {
      "text/plain": [
       "['수박', '딸기', '참외', '멜론']"
      ]
     },
     "metadata": {},
     "execution_count": 44
    }
   ],
   "metadata": {}
  },
  {
   "cell_type": "markdown",
   "source": [
    "정규표현식 중 \" \"(스페이스바) 기준으로 텍스트 분리"
   ],
   "metadata": {}
  },
  {
   "cell_type": "code",
   "execution_count": 45,
   "source": [
    "import re\n",
    "text=\"\"\"사과\n",
    "딸기\n",
    "참외\n",
    "멜론\"\"\"\n",
    "re.split(\"\\n\",text)\n"
   ],
   "outputs": [
    {
     "output_type": "execute_result",
     "data": {
      "text/plain": [
       "['사과', '딸기', '참외', '멜론']"
      ]
     },
     "metadata": {},
     "execution_count": 45
    }
   ],
   "metadata": {}
  },
  {
   "cell_type": "markdown",
   "source": [
    "줄바꿈 기준으로 분리"
   ],
   "metadata": {}
  },
  {
   "cell_type": "markdown",
   "source": [
    "### 3) re.findall()\n",
    "- 매칭되는 모든 문자열 반환"
   ],
   "metadata": {}
  },
  {
   "cell_type": "code",
   "execution_count": 48,
   "source": [
    "import re\n",
    "text=\"\"\"이름 : 김철수\n",
    "전화번호 : 010-1234-1234\n",
    "나이 : 30\n",
    "성별 : 남자\n",
    "\"\"\"\n",
    "re.findall(\"\\d+\",text)"
   ],
   "outputs": [
    {
     "output_type": "execute_result",
     "data": {
      "text/plain": [
       "['010', '1234', '1234', '30']"
      ]
     },
     "metadata": {},
     "execution_count": 48
    }
   ],
   "metadata": {}
  },
  {
   "cell_type": "markdown",
   "source": [
    "\\d+는 연속된 모든 숫자"
   ],
   "metadata": {}
  },
  {
   "cell_type": "markdown",
   "source": [
    "### 4) re.sub()\n"
   ],
   "metadata": {}
  },
  {
   "cell_type": "code",
   "execution_count": 49,
   "source": [
    "import re\n",
    "text=\"Regular expression : A regular expression, regex or regexp[1] (sometimes called a rational expression)[2][3] is, in theoretical computer science and formal language theory, a sequence of characters that define a search pattern.\"\n",
    "re.sub('[^a-zA-Z]',' ',text)"
   ],
   "outputs": [
    {
     "output_type": "execute_result",
     "data": {
      "text/plain": [
       "'Regular expression   A regular expression  regex or regexp     sometimes called a rational expression        is  in theoretical computer science and formal language theory  a sequence of characters that define a search pattern '"
      ]
     },
     "metadata": {},
     "execution_count": 49
    }
   ],
   "metadata": {}
  },
  {
   "cell_type": "markdown",
   "source": [
    "a-zA-Z를 제외하고 모두 \" \"(공백)으로 변환"
   ],
   "metadata": {}
  },
  {
   "cell_type": "markdown",
   "source": [
    "## 5. 정규 표현식 텍스트 전처리 예제"
   ],
   "metadata": {}
  },
  {
   "cell_type": "code",
   "execution_count": 50,
   "source": [
    "import re  \n",
    "\n",
    "text = \"\"\"100 John    PROF\n",
    "101 James   STUD\n",
    "102 Mac   STUD\"\"\"  \n",
    "\n",
    "re.split('\\s+', text) "
   ],
   "outputs": [
    {
     "output_type": "execute_result",
     "data": {
      "text/plain": [
       "['100', 'John', 'PROF', '101', 'James', 'STUD', '102', 'Mac', 'STUD']"
      ]
     },
     "metadata": {},
     "execution_count": 50
    }
   ],
   "metadata": {}
  },
  {
   "cell_type": "markdown",
   "source": [
    "공백이 하나 이상인 공백들을 기준으로 텍스트 분리"
   ],
   "metadata": {}
  },
  {
   "cell_type": "code",
   "execution_count": 51,
   "source": [
    "re.findall('\\d+',text)"
   ],
   "outputs": [
    {
     "output_type": "execute_result",
     "data": {
      "text/plain": [
       "['100', '101', '102']"
      ]
     },
     "metadata": {},
     "execution_count": 51
    }
   ],
   "metadata": {}
  },
  {
   "cell_type": "markdown",
   "source": [
    "숫자가 1개 이상인 문자열을 반환"
   ],
   "metadata": {}
  },
  {
   "cell_type": "code",
   "execution_count": 52,
   "source": [
    "re.findall(\"[A-Z]\",text)"
   ],
   "outputs": [
    {
     "output_type": "execute_result",
     "data": {
      "text/plain": [
       "['J', 'P', 'R', 'O', 'F', 'J', 'S', 'T', 'U', 'D', 'M', 'S', 'T', 'U', 'D']"
      ]
     },
     "metadata": {},
     "execution_count": 52
    }
   ],
   "metadata": {}
  },
  {
   "cell_type": "markdown",
   "source": [
    "문자열 중 대문자가 있으며 반환   \n",
    "+나 * 특수기호가 없어서 하나씩 반환"
   ],
   "metadata": {}
  },
  {
   "cell_type": "code",
   "execution_count": 53,
   "source": [
    "re.findall(\"[A-Z]{4}\",text)"
   ],
   "outputs": [
    {
     "output_type": "execute_result",
     "data": {
      "text/plain": [
       "['PROF', 'STUD', 'STUD']"
      ]
     },
     "metadata": {},
     "execution_count": 53
    }
   ],
   "metadata": {}
  },
  {
   "cell_type": "markdown",
   "source": [
    "대문자로 된 문자열이 4개인 경우 반환"
   ],
   "metadata": {}
  },
  {
   "cell_type": "code",
   "execution_count": 54,
   "source": [
    "re.findall('[A-Z][a-z]+',text)"
   ],
   "outputs": [
    {
     "output_type": "execute_result",
     "data": {
      "text/plain": [
       "['John', 'James', 'Mac']"
      ]
     },
     "metadata": {},
     "execution_count": 54
    }
   ],
   "metadata": {}
  },
  {
   "cell_type": "markdown",
   "source": [
    "대문자 하나와 소문자 1개 이상인 경우 반환"
   ],
   "metadata": {}
  },
  {
   "cell_type": "markdown",
   "source": [
    "## 6. 정규 표현식을 이용한 토큰화\n",
    "- RegexpTokenizer"
   ],
   "metadata": {}
  },
  {
   "cell_type": "code",
   "execution_count": 55,
   "source": [
    "import nltk\n",
    "from nltk.tokenize import RegexpTokenizer\n",
    "tokenizer=RegexpTokenizer(\"[\\w]+\")\n",
    "print(tokenizer.tokenize(\"Don't be fooled by the dark sounding name, Mr. Jone's Orphanage is as cheery as cheery goes for a pastry shop\"))"
   ],
   "outputs": [
    {
     "output_type": "stream",
     "name": "stdout",
     "text": [
      "['Don', 't', 'be', 'fooled', 'by', 'the', 'dark', 'sounding', 'name', 'Mr', 'Jone', 's', 'Orphanage', 'is', 'as', 'cheery', 'as', 'cheery', 'goes', 'for', 'a', 'pastry', 'shop']\n"
     ]
    }
   ],
   "metadata": {}
  },
  {
   "cell_type": "markdown",
   "source": [
    "정규표현식 기준으로 해당하는 문자열을 토큰화"
   ],
   "metadata": {}
  },
  {
   "cell_type": "code",
   "execution_count": 59,
   "source": [
    "import nltk\n",
    "from nltk.tokenize import RegexpTokenizer\n",
    "tokenizer=RegexpTokenizer(\"[\\s]+\", gaps=True)\n",
    "print(tokenizer.tokenize(\"Don't be fooled by the dark sounding name, Mr. Jone's Orphanage is as cheery as cheery goes for a pastry shop\"))"
   ],
   "outputs": [
    {
     "output_type": "stream",
     "name": "stdout",
     "text": [
      "[\"Don't\", 'be', 'fooled', 'by', 'the', 'dark', 'sounding', 'name,', 'Mr.', \"Jone's\", 'Orphanage', 'is', 'as', 'cheery', 'as', 'cheery', 'goes', 'for', 'a', 'pastry', 'shop']\n"
     ]
    }
   ],
   "metadata": {}
  },
  {
   "cell_type": "markdown",
   "source": [
    "gaps=True로 하면 정규표현식 문자열 기준으로 토큰을 나눔"
   ],
   "metadata": {}
  },
  {
   "cell_type": "code",
   "execution_count": 60,
   "source": [
    "import nltk\n",
    "from nltk.tokenize import RegexpTokenizer\n",
    "tokenizer=RegexpTokenizer(\"[\\s]+\")\n",
    "print(tokenizer.tokenize(\"Don't be fooled by the dark sounding name, Mr. Jone's Orphanage is as cheery as cheery goes for a pastry shop\"))"
   ],
   "outputs": [
    {
     "output_type": "stream",
     "name": "stdout",
     "text": [
      "[' ', ' ', ' ', ' ', ' ', ' ', ' ', ' ', ' ', ' ', ' ', ' ', ' ', ' ', ' ', ' ', ' ', ' ', ' ', ' ']\n"
     ]
    }
   ],
   "metadata": {}
  },
  {
   "cell_type": "markdown",
   "source": [
    "gaps=True가 없어서, 정규표현식 문자열에 맞는 공백만 반환"
   ],
   "metadata": {}
  },
  {
   "cell_type": "markdown",
   "source": [],
   "metadata": {}
  }
 ],
 "metadata": {
  "orig_nbformat": 4,
  "language_info": {
   "name": "python",
   "version": "3.8.5",
   "mimetype": "text/x-python",
   "codemirror_mode": {
    "name": "ipython",
    "version": 3
   },
   "pygments_lexer": "ipython3",
   "nbconvert_exporter": "python",
   "file_extension": ".py"
  },
  "kernelspec": {
   "name": "python3",
   "display_name": "Python 3.8.5 64-bit ('base': conda)"
  },
  "interpreter": {
   "hash": "98b0a9b7b4eaaa670588a142fd0a9b87eaafe866f1db4228be72b4211d12040f"
  }
 },
 "nbformat": 4,
 "nbformat_minor": 2
}