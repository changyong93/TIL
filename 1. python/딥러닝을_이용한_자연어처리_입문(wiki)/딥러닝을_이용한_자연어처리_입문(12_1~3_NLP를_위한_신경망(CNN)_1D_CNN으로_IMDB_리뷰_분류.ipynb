{
  "nbformat": 4,
  "nbformat_minor": 0,
  "metadata": {
    "colab": {
      "name": "딥러닝을_이용한_자연어처리_입문(12_1~3_NLP를 위한 신경망(CNN)_1D CNN으로 IMDB 리뷰 분류",
      "private_outputs": true,
      "provenance": [],
      "authorship_tag": "ABX9TyOMNPhnOqBVot5FNQWnqrFB",
      "include_colab_link": true
    },
    "kernelspec": {
      "name": "python3",
      "display_name": "Python 3"
    },
    "language_info": {
      "name": "python"
    },
    "accelerator": "GPU"
  },
  "cells": [
    {
      "cell_type": "markdown",
      "metadata": {
        "id": "view-in-github",
        "colab_type": "text"
      },
      "source": [
        "<a href=\"https://colab.research.google.com/github/changyong93/Natural-language-processing-with-chat-bot/blob/main/%EB%94%A5%EB%9F%AC%EB%8B%9D%EC%9D%84_%EC%9D%B4%EC%9A%A9%ED%95%9C_%EC%9E%90%EC%97%B0%EC%96%B4%EC%B2%98%EB%A6%AC_%EC%9E%85%EB%AC%B8(12_1~3_NLP%EB%A5%BC_%EC%9C%84%ED%95%9C_%EC%8B%A0%EA%B2%BD%EB%A7%9D(CNN)_1D_CNN%EC%9C%BC%EB%A1%9C_IMDB_%EB%A6%AC%EB%B7%B0_%EB%B6%84%EB%A5%98.ipynb\" target=\"_parent\"><img src=\"https://colab.research.google.com/assets/colab-badge.svg\" alt=\"Open In Colab\"/></a>"
      ]
    },
    {
      "cell_type": "markdown",
      "metadata": {
        "id": "xya04MhryT8p"
      },
      "source": [
        "# 1D CNN으로 IMDB 리뷰 분류하기"
      ]
    },
    {
      "cell_type": "code",
      "metadata": {
        "id": "C-RRrzsMyrZb"
      },
      "source": [
        "from tensorflow.keras import datasets\n",
        "from tensorflow.keras.preprocessing.sequence import pad_sequences"
      ],
      "execution_count": null,
      "outputs": []
    },
    {
      "cell_type": "code",
      "metadata": {
        "id": "iNRJZRgTy36L"
      },
      "source": [
        "vocab_size = 10000\n",
        "(X_train, y_train), (X_test, y_test) = datasets.imdb.load_data(num_words = vocab_size)"
      ],
      "execution_count": null,
      "outputs": []
    },
    {
      "cell_type": "code",
      "metadata": {
        "id": "hpCE4JIdzMsV"
      },
      "source": [
        "print(X_train[:5])"
      ],
      "execution_count": null,
      "outputs": []
    },
    {
      "cell_type": "code",
      "metadata": {
        "id": "yOltierGzXOa"
      },
      "source": [
        "max_len = 200\n",
        "X_train = pad_sequences(sequences=X_train, maxlen = max_len)\n",
        "X_test = pad_sequences(sequences=X_test, maxlen = max_len)"
      ],
      "execution_count": null,
      "outputs": []
    },
    {
      "cell_type": "code",
      "metadata": {
        "id": "eQixNtKDzf6v"
      },
      "source": [
        "X_train.shape, X_test.shape"
      ],
      "execution_count": null,
      "outputs": []
    },
    {
      "cell_type": "code",
      "metadata": {
        "id": "Is7hsS9-zzpL"
      },
      "source": [
        "y_train[:5]"
      ],
      "execution_count": null,
      "outputs": []
    },
    {
      "cell_type": "code",
      "metadata": {
        "id": "VhBgodppz0sX"
      },
      "source": [
        "# 1D CNN 모델 서계"
      ],
      "execution_count": null,
      "outputs": []
    },
    {
      "cell_type": "code",
      "metadata": {
        "id": "4mzrp0b6z4Z0"
      },
      "source": [
        "from tensorflow.keras.models import Sequential, load_model\n",
        "from tensorflow.keras.callbacks import EarlyStopping, ModelCheckpoint\n",
        "from tensorflow.keras.layers import Dense, Dropout, Conv1D, GlobalMaxPool1D, Embedding"
      ],
      "execution_count": null,
      "outputs": []
    },
    {
      "cell_type": "code",
      "metadata": {
        "id": "8L8s2N2-0JNI"
      },
      "source": [
        "model = Sequential()\n",
        "model.add(Embedding(input_dim = vocab_size, output_dim = 256))\n",
        "model.add(Dropout(rate = 0.3)) #전체 입력 중 학습마다 랜덤하게 30%의 샘플을 선택하여 제외 #과적합 방지\n",
        "model.add(Conv1D(filters = 256, kernel_size = 3, strides = 1, padding = 'valid',activation = 'relu')) #padding(valid) = 패딩 안함\n",
        "model.add(GlobalMaxPool1D()) # 합성곱odel = Sequential()\n",
        "model.add(Embedding(input_dim = vocab_size, output_dim = 256))\n",
        "model.add(Dropout(rate = 0.3)) #전체 입력 중 학습마다 랜덤하게 30%의 샘플을 선택하여 제외 #과적합 방지\n",
        "model.add(Conv1D(filters = 256, kernel_size = 3, strides = 1, padding = 'valid',activation = 'relu')) #padding(valid) = 패딩 안함\n",
        "model.add(GlobalMaxPool1D()) # 합성곱\n",
        "model.add(Dense(units = 128, activation = \"relu\"))\n",
        "model.add(Dropout(rate = 0.5))\n",
        "model.add(Dense(units = 1, activation = \"sigmoid\"))"
      ],
      "execution_count": null,
      "outputs": []
    },
    {
      "cell_type": "code",
      "metadata": {
        "id": "61Y-QPmQ4OG3"
      },
      "source": [
        "es = EarlyStopping(monitor = 'val_loss', patience = 3, verbose = 1, mode = 'min')\n",
        "mc = ModelCheckpoint(filepath = \"base_model.h5\", monitor='val_acc', mode = \"max\", save_best_only=True)\n",
        "\n",
        "model.compile(optimizer = 'adam', loss = 'binary_crossentropy', metrics = ['acc'])\n",
        "history = model.fit(x = X_train, y = y_train, epochs = 20, validation_data = (X_test,y_test), callbacks = [es,mc])"
      ],
      "execution_count": null,
      "outputs": []
    },
    {
      "cell_type": "code",
      "metadata": {
        "id": "8UFxlU2d4-KK"
      },
      "source": [
        "loaded_model = load_model(\"base_model.h5\")\n",
        "print(f\"테스트 정확도: {loaded_model.evaluate(x = X_test, y = y_test)[1]:.3f}%\")"
      ],
      "execution_count": null,
      "outputs": []
    },
    {
      "cell_type": "code",
      "metadata": {
        "id": "0NGoX-Ka8ocv"
      },
      "source": [
        ""
      ],
      "execution_count": null,
      "outputs": []
    }
  ]
}