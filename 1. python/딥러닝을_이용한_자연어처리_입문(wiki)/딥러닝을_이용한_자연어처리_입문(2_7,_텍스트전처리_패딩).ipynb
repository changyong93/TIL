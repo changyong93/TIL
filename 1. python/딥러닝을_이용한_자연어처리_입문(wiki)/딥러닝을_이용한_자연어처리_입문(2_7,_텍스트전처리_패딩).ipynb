{
  "nbformat": 4,
  "nbformat_minor": 0,
  "metadata": {
    "colab": {
      "name": "딥러닝을_이용한_자연어처리_입문(2-7, 텍스트전처리-패딩)",
      "provenance": [],
      "collapsed_sections": [],
      "authorship_tag": "ABX9TyPYUHH7XQOXHBLft/SiwNPO",
      "include_colab_link": true
    },
    "kernelspec": {
      "name": "python3",
      "display_name": "Python 3"
    },
    "language_info": {
      "name": "python"
    }
  },
  "cells": [
    {
      "cell_type": "markdown",
      "metadata": {
        "id": "view-in-github",
        "colab_type": "text"
      },
      "source": [
        "<a href=\"https://colab.research.google.com/github/changyong93/Natural-language-processing-with-chat-bot/blob/main/%EB%94%A5%EB%9F%AC%EB%8B%9D%EC%9D%84_%EC%9D%B4%EC%9A%A9%ED%95%9C_%EC%9E%90%EC%97%B0%EC%96%B4%EC%B2%98%EB%A6%AC_%EC%9E%85%EB%AC%B8(2_7%2C_%ED%85%8D%EC%8A%A4%ED%8A%B8%EC%A0%84%EC%B2%98%EB%A6%AC_%ED%8C%A8%EB%94%A9).ipynb\" target=\"_parent\"><img src=\"https://colab.research.google.com/assets/colab-badge.svg\" alt=\"Open In Colab\"/></a>"
      ]
    },
    {
      "cell_type": "markdown",
      "metadata": {
        "id": "FaAjaWwSqAYP"
      },
      "source": [
        "#  패딩(padding)\n",
        "---\n",
        "- 자연어 처리를 하다보면 각 문장(또는 문서)은 서로 길이가 다를 수 있음\n",
        "- 하지만, 기계는 길이가 전부 동일한 문서들에 대해서 하나의 행렬로 보고, 한번에 묶어서 처리 가능\n",
        "- 즉, 벙렬 연상늘 위해 여러 문장의 길이를 임의로 동일하게 맞춰주는 작업이 필요하며 이를 '패딩'이라고 함"
      ]
    },
    {
      "cell_type": "markdown",
      "metadata": {
        "id": "dMLVcp9Yqdxn"
      },
      "source": [
        "## Numpy로 패딩"
      ]
    },
    {
      "cell_type": "code",
      "metadata": {
        "id": "FIW1Lwubqg5Y"
      },
      "source": [
        "import numpy as np\n",
        "from tensorflow.keras.preprocessing.text import Tokenizer"
      ],
      "execution_count": 2,
      "outputs": []
    },
    {
      "cell_type": "code",
      "metadata": {
        "id": "wBTBpjRnqp_C"
      },
      "source": [
        "sentences = [['barber', 'person'], ['barber', 'good', 'person'], ['barber', 'huge', 'person'], ['knew', 'secret'], ['secret', 'kept', 'huge', 'secret'], ['huge', 'secret'], ['barber', 'kept', 'word'], ['barber', 'kept', 'word'], ['barber', 'kept', 'secret'], ['keeping', 'keeping', 'huge', 'secret', 'driving', 'barber', 'crazy'], ['barber', 'went', 'huge', 'mountain']]"
      ],
      "execution_count": 3,
      "outputs": []
    },
    {
      "cell_type": "code",
      "metadata": {
        "id": "xpSramuRqsM4"
      },
      "source": [
        "# 정수 인코딩\n",
        "tokenizer = Tokenizer() #상위 n개 선택 안함\n",
        "tokenizer.fit_on_texts(sentences) #코퍼스의 단어별 빈도수 기준으로 단어 집합 생성"
      ],
      "execution_count": 5,
      "outputs": []
    },
    {
      "cell_type": "code",
      "metadata": {
        "colab": {
          "base_uri": "https://localhost:8080/"
        },
        "id": "Q8DLpCporBVR",
        "outputId": "b45eee79-dd81-4c5c-b0f3-95c4a86ede67"
      },
      "source": [
        "encoded = tokenizer.texts_to_sequences(sentences)\n",
        "print(encoded)"
      ],
      "execution_count": 6,
      "outputs": [
        {
          "output_type": "stream",
          "text": [
            "[[1, 5], [1, 8, 5], [1, 3, 5], [9, 2], [2, 4, 3, 2], [3, 2], [1, 4, 6], [1, 4, 6], [1, 4, 2], [7, 7, 3, 2, 10, 1, 11], [1, 12, 3, 13]]\n"
          ],
          "name": "stdout"
        }
      ]
    },
    {
      "cell_type": "markdown",
      "metadata": {
        "id": "HzCIssORrF3I"
      },
      "source": [
        "이제 동일한 길이로 맞춰주기 위해 이 중 가장 길이가 긴 문장의 길이를 계산"
      ]
    },
    {
      "cell_type": "code",
      "metadata": {
        "colab": {
          "base_uri": "https://localhost:8080/"
        },
        "id": "UJCU6G1ErLHf",
        "outputId": "7cb83125-8c60-4f3b-a046-ba5771b2e159"
      },
      "source": [
        "max_len = max(len(item) for item in encoded)\n",
        "print(max_len)"
      ],
      "execution_count": 9,
      "outputs": [
        {
          "output_type": "stream",
          "text": [
            "7\n"
          ],
          "name": "stdout"
        }
      ]
    },
    {
      "cell_type": "markdown",
      "metadata": {
        "id": "sxZLUB_8rWJd"
      },
      "source": [
        "- 모든 문장 중 길이가 가장 긴 문장의 길이는 7\n",
        "- 이제 가상의 단어 'PAD'를 사용하는데, 'PAD\"라는 단어가 있다고 가정하고, 이 단어를 전부 0번 단어라고 정의\n",
        "- 문장의 길이가 7보다 짧은 문장에는 숫자 0을 채워서 전부 길이를 7로 맞추기"
      ]
    },
    {
      "cell_type": "code",
      "metadata": {
        "colab": {
          "base_uri": "https://localhost:8080/"
        },
        "id": "cNDZGjJbrkL2",
        "outputId": "a5c34dfd-31b7-4e0e-a073-4f07b029f41a"
      },
      "source": [
        "for item in encoded:\n",
        "  while len(item) < max_len: #max_len보다 작으면\n",
        "    item.append(0)\n",
        "\n",
        "padded_np = np.array(encoded)\n",
        "padded_np"
      ],
      "execution_count": 10,
      "outputs": [
        {
          "output_type": "execute_result",
          "data": {
            "text/plain": [
              "array([[ 1,  5,  0,  0,  0,  0,  0],\n",
              "       [ 1,  8,  5,  0,  0,  0,  0],\n",
              "       [ 1,  3,  5,  0,  0,  0,  0],\n",
              "       [ 9,  2,  0,  0,  0,  0,  0],\n",
              "       [ 2,  4,  3,  2,  0,  0,  0],\n",
              "       [ 3,  2,  0,  0,  0,  0,  0],\n",
              "       [ 1,  4,  6,  0,  0,  0,  0],\n",
              "       [ 1,  4,  6,  0,  0,  0,  0],\n",
              "       [ 1,  4,  2,  0,  0,  0,  0],\n",
              "       [ 7,  7,  3,  2, 10,  1, 11],\n",
              "       [ 1, 12,  3, 13,  0,  0,  0]])"
            ]
          },
          "metadata": {
            "tags": []
          },
          "execution_count": 10
        }
      ]
    },
    {
      "cell_type": "markdown",
      "metadata": {
        "id": "16e__fMDryZu"
      },
      "source": [
        "- 길이가 7보다 짧은 문장은 전부 숫자 0이 뒤로 붙어서 문자의 길이를 전부 7로 통일\n",
        "- 기계는 이제 이들을 하나의 행렬로 보고 병렬 처리\n",
        "- 단, 0번 단어는 아무런 의미도 없는 단어이기에 자연어 처리 과정에서 기계는 0번 단어 무시\n",
        "- 이와 같이 데이터에 특정 값을 채워서 데이터의 크기(shape)를 조정하는 것을 (padding)이라고 함\n",
        "- 숫자 0을 사용하고 있다면 제로 패딩(zero padding)"
      ]
    },
    {
      "cell_type": "markdown",
      "metadata": {
        "id": "RzlfjjZasLn9"
      },
      "source": [
        "## 케라스 전처리 도구로 패딩\n",
        "---\n",
        "keras의 pad_sequences 활용"
      ]
    },
    {
      "cell_type": "code",
      "metadata": {
        "id": "A4K6yGYRseIP"
      },
      "source": [
        "from tensorflow.keras.preprocessing.sequence import pad_sequences"
      ],
      "execution_count": 11,
      "outputs": []
    },
    {
      "cell_type": "markdown",
      "metadata": {
        "id": "IB44cRtgsp_S"
      },
      "source": [
        "encoded 값이 위에서 이미 패딩 후의 결과로 저장되었기에 패딩 이전의 값으로 되돌리기"
      ]
    },
    {
      "cell_type": "code",
      "metadata": {
        "colab": {
          "base_uri": "https://localhost:8080/"
        },
        "id": "a03-TegGsoFe",
        "outputId": "e22cff92-f646-4c11-d27a-13b1cc415d6c"
      },
      "source": [
        "encoded = tokenizer.texts_to_sequences(sentences)\n",
        "print(encoded)"
      ],
      "execution_count": 14,
      "outputs": [
        {
          "output_type": "stream",
          "text": [
            "[[1, 5], [1, 8, 5], [1, 3, 5], [9, 2], [2, 4, 3, 2], [3, 2], [1, 4, 6], [1, 4, 6], [1, 4, 2], [7, 7, 3, 2, 10, 1, 11], [1, 12, 3, 13]]\n"
          ],
          "name": "stdout"
        }
      ]
    },
    {
      "cell_type": "markdown",
      "metadata": {
        "id": "diLiqlqAs1a9"
      },
      "source": [
        "keras pad_sequences 사용"
      ]
    },
    {
      "cell_type": "code",
      "metadata": {
        "colab": {
          "base_uri": "https://localhost:8080/"
        },
        "id": "COHNfp4ss5Ot",
        "outputId": "6c1f67c4-403b-4731-9146-49df2dc6f2ec"
      },
      "source": [
        "padded = pad_sequences(encoded)\n",
        "padded"
      ],
      "execution_count": 16,
      "outputs": [
        {
          "output_type": "execute_result",
          "data": {
            "text/plain": [
              "array([[ 0,  0,  0,  0,  0,  1,  5],\n",
              "       [ 0,  0,  0,  0,  1,  8,  5],\n",
              "       [ 0,  0,  0,  0,  1,  3,  5],\n",
              "       [ 0,  0,  0,  0,  0,  9,  2],\n",
              "       [ 0,  0,  0,  2,  4,  3,  2],\n",
              "       [ 0,  0,  0,  0,  0,  3,  2],\n",
              "       [ 0,  0,  0,  0,  1,  4,  6],\n",
              "       [ 0,  0,  0,  0,  1,  4,  6],\n",
              "       [ 0,  0,  0,  0,  1,  4,  2],\n",
              "       [ 7,  7,  3,  2, 10,  1, 11],\n",
              "       [ 0,  0,  0,  1, 12,  3, 13]], dtype=int32)"
            ]
          },
          "metadata": {
            "tags": []
          },
          "execution_count": 16
        }
      ]
    },
    {
      "cell_type": "markdown",
      "metadata": {
        "id": "aR56n-6gs75U"
      },
      "source": [
        "- keras의 pad_sequences는 기본적으로 앞에서 부터 채우는 방식\n",
        "numpy를 이용한 방법과 같은 결과를 출력하고자 할 경우 padding = \"post\""
      ]
    },
    {
      "cell_type": "code",
      "metadata": {
        "colab": {
          "base_uri": "https://localhost:8080/"
        },
        "id": "ICbWjy1htMBt",
        "outputId": "6d451968-d9f2-456c-b3db-0c4ed9d02c74"
      },
      "source": [
        "padded = pad_sequences(encoded, padding = \"post\")\n",
        "padded"
      ],
      "execution_count": 18,
      "outputs": [
        {
          "output_type": "execute_result",
          "data": {
            "text/plain": [
              "array([[ 1,  5,  0,  0,  0,  0,  0],\n",
              "       [ 1,  8,  5,  0,  0,  0,  0],\n",
              "       [ 1,  3,  5,  0,  0,  0,  0],\n",
              "       [ 9,  2,  0,  0,  0,  0,  0],\n",
              "       [ 2,  4,  3,  2,  0,  0,  0],\n",
              "       [ 3,  2,  0,  0,  0,  0,  0],\n",
              "       [ 1,  4,  6,  0,  0,  0,  0],\n",
              "       [ 1,  4,  6,  0,  0,  0,  0],\n",
              "       [ 1,  4,  2,  0,  0,  0,  0],\n",
              "       [ 7,  7,  3,  2, 10,  1, 11],\n",
              "       [ 1, 12,  3, 13,  0,  0,  0]], dtype=int32)"
            ]
          },
          "metadata": {
            "tags": []
          },
          "execution_count": 18
        }
      ]
    },
    {
      "cell_type": "code",
      "metadata": {
        "colab": {
          "base_uri": "https://localhost:8080/"
        },
        "id": "3PxULrjKtS-f",
        "outputId": "3252fea1-7cce-4043-bdda-a8eaa52226ca"
      },
      "source": [
        "(padded == padded_np).all()"
      ],
      "execution_count": 21,
      "outputs": [
        {
          "output_type": "execute_result",
          "data": {
            "text/plain": [
              "True"
            ]
          },
          "metadata": {
            "tags": []
          },
          "execution_count": 21
        }
      ]
    },
    {
      "cell_type": "markdown",
      "metadata": {
        "id": "OsYqXvI-taWg"
      },
      "source": [
        "- 현재까지는, 가장 길이가 긴 단어를 기준으로 해딩을 했지만, 실제로는 꼭 긴문장 기준으로 해야하는 것은 아님\n",
        "- 가평 평균 길이가 20인데, 최대가 5000이라고 해서 굳이 5000으로 패딩할 필요는 없음\n",
        "- 이 경우 max_len의 인자를 정수로 주면 해당 정수로 모든 길이를 동일하게 함\n",
        "- 단 그럴 경우 데이터 손실이 발생\n",
        "- 패딩 시 0으로 하는 것이 관례지만, 반드시 지킬 필요는 없고 다른 숫자, 예를 들어 단어 집합의 크기 +1로도 가능"
      ]
    },
    {
      "cell_type": "code",
      "metadata": {
        "colab": {
          "base_uri": "https://localhost:8080/"
        },
        "id": "HPqjVIMat4Ft",
        "outputId": "635ead70-99ac-49a3-c451-499b13144f88"
      },
      "source": [
        "padded = pad_sequences(encoded, maxlen = 5, padding = 'post')\n",
        "padded"
      ],
      "execution_count": 22,
      "outputs": [
        {
          "output_type": "execute_result",
          "data": {
            "text/plain": [
              "array([[ 1,  5,  0,  0,  0],\n",
              "       [ 1,  8,  5,  0,  0],\n",
              "       [ 1,  3,  5,  0,  0],\n",
              "       [ 9,  2,  0,  0,  0],\n",
              "       [ 2,  4,  3,  2,  0],\n",
              "       [ 3,  2,  0,  0,  0],\n",
              "       [ 1,  4,  6,  0,  0],\n",
              "       [ 1,  4,  6,  0,  0],\n",
              "       [ 1,  4,  2,  0,  0],\n",
              "       [ 3,  2, 10,  1, 11],\n",
              "       [ 1, 12,  3, 13,  0]], dtype=int32)"
            ]
          },
          "metadata": {
            "tags": []
          },
          "execution_count": 22
        }
      ]
    },
    {
      "cell_type": "code",
      "metadata": {
        "colab": {
          "base_uri": "https://localhost:8080/"
        },
        "id": "yjZibKDRuJR-",
        "outputId": "e96a1928-dd46-4cde-db7d-dbc98aafb60c"
      },
      "source": [
        "last_value = len(tokenizer.word_index) + 1 #단어 집합 크기보다 1 큰 숫자를 사용\n",
        "last_value"
      ],
      "execution_count": 26,
      "outputs": [
        {
          "output_type": "execute_result",
          "data": {
            "text/plain": [
              "14"
            ]
          },
          "metadata": {
            "tags": []
          },
          "execution_count": 26
        }
      ]
    },
    {
      "cell_type": "code",
      "metadata": {
        "colab": {
          "base_uri": "https://localhost:8080/"
        },
        "id": "bWT8C5xVt-Ev",
        "outputId": "81588825-d307-460c-9a2e-ec54b714d4ee"
      },
      "source": [
        "padded = pad_sequences(encoded, padding = \"post\", value = last_value)\n",
        "padded"
      ],
      "execution_count": 28,
      "outputs": [
        {
          "output_type": "execute_result",
          "data": {
            "text/plain": [
              "array([[ 1,  5, 14, 14, 14, 14, 14],\n",
              "       [ 1,  8,  5, 14, 14, 14, 14],\n",
              "       [ 1,  3,  5, 14, 14, 14, 14],\n",
              "       [ 9,  2, 14, 14, 14, 14, 14],\n",
              "       [ 2,  4,  3,  2, 14, 14, 14],\n",
              "       [ 3,  2, 14, 14, 14, 14, 14],\n",
              "       [ 1,  4,  6, 14, 14, 14, 14],\n",
              "       [ 1,  4,  6, 14, 14, 14, 14],\n",
              "       [ 1,  4,  2, 14, 14, 14, 14],\n",
              "       [ 7,  7,  3,  2, 10,  1, 11],\n",
              "       [ 1, 12,  3, 13, 14, 14, 14]], dtype=int32)"
            ]
          },
          "metadata": {
            "tags": []
          },
          "execution_count": 28
        }
      ]
    },
    {
      "cell_type": "code",
      "metadata": {
        "id": "nBC9rMJZuVMn"
      },
      "source": [
        ""
      ],
      "execution_count": null,
      "outputs": []
    }
  ]
}