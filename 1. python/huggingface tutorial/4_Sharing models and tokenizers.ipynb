{
 "cells": [
  {
   "cell_type": "markdown",
   "source": [
    "# The Hugging Face Hub\r\n",
    "- Huggingface Hub은 누구나 모델과 데이터셋을 사용 혹은 기여할 수 있는 플랫폼\r\n",
    "- 이 장에선 model에 초점을 맞추고 5장에서 데이터셋을 살펴보자..\r\n",
    "- Hub model은 Transformer나 NLP 뿐만 아니라 다양한 모델이 있음\r\n",
    "  - Flair, AllenNLP for NLP\r\n",
    "  - Asteroid, pyannote for speech\r\n",
    "  - timm for vision\r\n",
    "- 각 모델들은 git에서 버전관리를 하고\r\n",
    "- 커뮤니티에는 모델을 개방하여 누구나 pretrained model을 쉽게 사용할 수 있도록 공유 목적\r\n",
    "- 또한 허브에 모델을 공유하면, 해당 모델에 대한 inference API가 자동으로 배포\r\n",
    "- 커뮤니티의 모든 사용자는 적절한 위젯을 사용하여 모델 페이지에서 직접 테스트 가능!\r\n",
    "- 무엇보다 허브의 모든 공개 모델을 공유하고 사용하는것은 무료!!\r\n",
    "  - 개인적으로 공유하려면 유료 요금제를 사용하면 됌"
   ],
   "metadata": {}
  },
  {
   "cell_type": "markdown",
   "source": [
    "# Using pretrained models\r\n",
    "- 모델 허브를 사용하면 적절한 모델을 쉽게 선택 가능하여 다운스트림 라이브러리에서 모델을 사용하면 몇 줄의 코드로 쉽게 수행 가능\r\n",
    "\r\n",
    "mask filling이 가능한 french-based model을 찾아보자"
   ],
   "metadata": {}
  },
  {
   "cell_type": "code",
   "execution_count": 2,
   "source": [
    "from transformers import pipeline \r\n",
    "\r\n",
    "camembert_fill_mask  = pipeline(\"fill-mask\", model=\"camembert-base\")\r\n",
    "results = camembert_fill_mask(\"Le camembert est <mask> :)\")\r\n",
    "results"
   ],
   "outputs": [
    {
     "output_type": "stream",
     "name": "stderr",
     "text": [
      "Downloading: 100%|██████████| 508/508 [00:00<00:00, 507kB/s]\n",
      "Downloading: 100%|██████████| 445M/445M [00:18<00:00, 24.3MB/s]\n",
      "Downloading: 100%|██████████| 811k/811k [00:01<00:00, 794kB/s]\n",
      "Downloading: 100%|██████████| 1.40M/1.40M [00:01<00:00, 997kB/s] \n"
     ]
    },
    {
     "output_type": "execute_result",
     "data": {
      "text/plain": [
       "[{'sequence': 'Le camembert est délicieux :)',\n",
       "  'score': 0.49091091752052307,\n",
       "  'token': 7200,\n",
       "  'token_str': 'délicieux'},\n",
       " {'sequence': 'Le camembert est excellent :)',\n",
       "  'score': 0.10556933283805847,\n",
       "  'token': 2183,\n",
       "  'token_str': 'excellent'},\n",
       " {'sequence': 'Le camembert est succulent :)',\n",
       "  'score': 0.03453312814235687,\n",
       "  'token': 26202,\n",
       "  'token_str': 'succulent'},\n",
       " {'sequence': 'Le camembert est meilleur :)',\n",
       "  'score': 0.03303127735853195,\n",
       "  'token': 528,\n",
       "  'token_str': 'meilleur'},\n",
       " {'sequence': 'Le camembert est parfait :)',\n",
       "  'score': 0.030076468363404274,\n",
       "  'token': 1654,\n",
       "  'token_str': 'parfait'}]"
      ]
     },
     "metadata": {},
     "execution_count": 2
    }
   ],
   "metadata": {}
  },
  {
   "cell_type": "markdown",
   "source": [
    "- 보다시피, 파이프라인 내에 모델을 로드하는 것은 매우 간단하다..\r\n",
    "- 단순하게, 선택할 체크포인트가 사용될 작업에 적합한지만 주의하면 된다.\r\n",
    "- 만약 부적절하게, 위의 체크포인트를 sentence classification에 사용하면 말도안되는 결과가 나오는 불상사가 발생한다..\r\n",
    "- 그리고 체크포인트를 활용하여 architecture를 직접 불러올 경우 Auto* class를 활용하자\r\n",
    "  - BertModel 같은 건 특정 checkpoint에 제한이 있지만, Auto model은 제한이 없다!"
   ],
   "metadata": {}
  },
  {
   "cell_type": "markdown",
   "source": [
    "# Sharing pretrained models\r\n",
    "- pretrained model을 공유하는 가장 편한 방법은 huggingface hub 사용!\r\n",
    "- 허브에서 직접 모델을 공유하고 업데이트할 수 있는 툴과 유틸이 있음\r\n",
    "\r\n",
    "---\r\n",
    "새로운 모델 저장소를 만드는 세 가지 방법이 있음\r\n",
    "- using the **push_to_hub** API\r\n",
    "- Using the **transformers** CLI\r\n",
    "- Using the web interface"
   ],
   "metadata": {}
  },
  {
   "cell_type": "markdown",
   "source": [
    "## Using the push_to_hub API through huggingface_hub\r\n",
    "- 가장 간단한 허브에 파일 업로드 방법은 push_to_hub method를 사용하는 것\r\n",
    "- authentication token을 생성하여 hugface_hub API를 사용하는 사용자에 대한 정보를 전달\r\n",
    "- 반드시 transformers가 설치된 환경에 위치해야 하며, CLI login command를 실행한다\r\n",
    "  - colab의 경우 !를 추가하여 실행\r\n",
    "\r\n",
    "> transformers-cli login\r\n",
    "\r\n",
    "또는 사용자 환경에 hugface_hub가 설치된 경우에도 동일하게 진행한다.\r\n",
    "\r\n",
    "> huggingface-cli login\r\n",
    "\r\n"
   ],
   "metadata": {}
  },
  {
   "cell_type": "markdown",
   "source": [],
   "metadata": {}
  }
 ],
 "metadata": {
  "orig_nbformat": 4,
  "language_info": {
   "name": "python",
   "version": "3.8.10",
   "mimetype": "text/x-python",
   "codemirror_mode": {
    "name": "ipython",
    "version": 3
   },
   "pygments_lexer": "ipython3",
   "nbconvert_exporter": "python",
   "file_extension": ".py"
  },
  "kernelspec": {
   "name": "python3",
   "display_name": "Python 3.8.10 64-bit ('base': conda)"
  },
  "interpreter": {
   "hash": "9d4b788d31f1e8a98acbf5edfe42af7a280714d85bd73a1cdc11a1af0199f3f5"
  }
 },
 "nbformat": 4,
 "nbformat_minor": 2
}