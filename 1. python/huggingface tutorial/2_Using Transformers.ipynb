{
 "cells": [
  {
   "cell_type": "markdown",
   "source": [
    "# Incroduction\r\n",
    "- Chp1에선 hihg-level의 pipline API를 사용하여 여러 task에 대한 transformer model을 사용해봤다.\r\n",
    "- pipeline api가 편하더라도, 이것에 대한 이해를 바탕으로 해야 더 유연하게 문제를 해결할 수 있다.\r\n",
    "- 이번 챕터에선 이 부분에 대해서 알아보고자 한다."
   ],
   "metadata": {}
  },
  {
   "cell_type": "markdown",
   "source": [
    "# Behind the pipeline\r\n",
    "Chp 1을 상기해보면, 특정 task에 해당하는 pipeline을 불러오고, 여기에 inputs을 넣어서 결과를 출력했다.\r\n",
    "\r\n",
    "이 과정을 간략히 본다면 다음과 같다.\r\n",
    "- Raw Text input => Tokenizer -> input ids => Model -> logits=> Post-processing -> predictions\r\n",
    "아래와 같이 결과가 나오고, Chp2에서는 이 과정들을 살펴보자"
   ],
   "metadata": {}
  },
  {
   "cell_type": "code",
   "execution_count": 1,
   "source": [
    "from transformers import pipeline\r\n",
    "classifier = pipeline(\"sentiment-analysis\")\r\n",
    "classifier([\r\n",
    "    \"I've been waiting for a HuggingFace course my whole life.\", \r\n",
    "    \"I hate this so much!\",\r\n",
    "])"
   ],
   "outputs": [
    {
     "output_type": "stream",
     "name": "stderr",
     "text": [
      "No model was supplied, defaulted to distilbert-base-uncased-finetuned-sst-2-english (https://huggingface.co/distilbert-base-uncased-finetuned-sst-2-english)\n"
     ]
    },
    {
     "output_type": "execute_result",
     "data": {
      "text/plain": [
       "[{'label': 'POSITIVE', 'score': 0.9598047137260437},\n",
       " {'label': 'NEGATIVE', 'score': 0.9994558691978455}]"
      ]
     },
     "metadata": {},
     "execution_count": 1
    }
   ],
   "metadata": {}
  },
  {
   "cell_type": "markdown",
   "source": [
    "## Preprocessing with a tokenizer"
   ],
   "metadata": {}
  },
  {
   "cell_type": "markdown",
   "source": [],
   "metadata": {}
  }
 ],
 "metadata": {
  "orig_nbformat": 4,
  "language_info": {
   "name": "python",
   "version": "3.8.10",
   "mimetype": "text/x-python",
   "codemirror_mode": {
    "name": "ipython",
    "version": 3
   },
   "pygments_lexer": "ipython3",
   "nbconvert_exporter": "python",
   "file_extension": ".py"
  },
  "kernelspec": {
   "name": "python3",
   "display_name": "Python 3.8.10 64-bit ('base': conda)"
  },
  "interpreter": {
   "hash": "9d4b788d31f1e8a98acbf5edfe42af7a280714d85bd73a1cdc11a1af0199f3f5"
  }
 },
 "nbformat": 4,
 "nbformat_minor": 2
}