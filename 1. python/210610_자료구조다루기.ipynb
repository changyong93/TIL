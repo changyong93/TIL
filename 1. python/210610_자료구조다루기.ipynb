{
  "nbformat": 4,
  "nbformat_minor": 0,
  "metadata": {
    "colab": {
      "name": "210610_boostcourse_자료구조다루기",
      "private_outputs": true,
      "provenance": [],
      "authorship_tag": "ABX9TyMMbnk6Ozh0+5NIcD6wnuT6",
      "include_colab_link": true
    },
    "kernelspec": {
      "name": "python3",
      "display_name": "Python 3"
    },
    "language_info": {
      "name": "python"
    }
  },
  "cells": [
    {
      "cell_type": "markdown",
      "metadata": {
        "id": "view-in-github",
        "colab_type": "text"
      },
      "source": [
        "<a href=\"https://colab.research.google.com/github/changyong93/KaggleStruggle/blob/main/210610_%EC%9E%90%EB%A3%8C%EA%B5%AC%EC%A1%B0%EB%8B%A4%EB%A3%A8%EA%B8%B0.ipynb\" target=\"_parent\"><img src=\"https://colab.research.google.com/assets/colab-badge.svg\" alt=\"Open In Colab\"/></a>"
      ]
    },
    {
      "cell_type": "markdown",
      "metadata": {
        "id": "GNR1TBOKaBSA"
      },
      "source": [
        "## stack, queue\n",
        "---\n",
        "- stack : LIFO(Last In First Out), 마지막에 들어온 값을 먼저 출력\n",
        "  - append(), pop()\n",
        "- queue : FIFO(First in First Out), 처음에 입력된 값을 먼저 출력\n",
        "  - append(), pop()"
      ]
    },
    {
      "cell_type": "code",
      "metadata": {
        "id": "6Y1-gqvjacBS"
      },
      "source": [
        "#for stack\n",
        "test = [1,2,3,4,5,6,7]\n",
        "\n",
        "test.append(8)\n",
        "print(\"stack, push: \", test)\n",
        "\n",
        "test.pop()\n",
        "print(\"stack, pop\", test)"
      ],
      "execution_count": null,
      "outputs": []
    },
    {
      "cell_type": "code",
      "metadata": {
        "id": "HOHfoWJ6aoqe"
      },
      "source": [
        "#for queue\n",
        "test = [1,2,3,4,5,6,7]\n",
        "\n",
        "test.append(8)\n",
        "print(\"stack, push: \", test)\n",
        "\n",
        "test.pop(0)\n",
        "print(\"stack, pop\", test)"
      ],
      "execution_count": null,
      "outputs": []
    },
    {
      "cell_type": "markdown",
      "metadata": {
        "id": "yyhgDzmFaq5_"
      },
      "source": [
        "## Tuple\n",
        "---\n",
        "- ( ) 형태의 자료형으로, 내재된 값이 변경되면 안되는 경우 사용\n",
        "- 입력 방식에 따라 int로 인식할 수도 있음"
      ]
    },
    {
      "cell_type": "code",
      "metadata": {
        "id": "sH2o9uuCa70J"
      },
      "source": [
        "test = (1,2)\n",
        "print(\"(1,2) type: \",type(test))\n",
        "\n",
        "test = (1,)\n",
        "print(\"(1,) type: \",type(test))\n",
        "\n",
        "test = (1)\n",
        "print(\"(1) type: \",type(test))"
      ],
      "execution_count": null,
      "outputs": []
    },
    {
      "cell_type": "code",
      "metadata": {
        "id": "NE-XP7JjbFDA"
      },
      "source": [
        "test = (1,2)\n",
        "print(test*5)\n",
        "print(test[0], test[1])\n",
        "print(\"자료형 자체에 대한 반복이나 값을 불러오는 것은 가능\")"
      ],
      "execution_count": null,
      "outputs": []
    },
    {
      "cell_type": "code",
      "metadata": {
        "id": "uSJkFX9ybPSw"
      },
      "source": [
        "test = (1,2)\n",
        "print(\"단, 값 자체를 바꾸는 것은 불가\")\n",
        "print(\"이전 값: \",test[0])\n",
        "test[0] = 5"
      ],
      "execution_count": null,
      "outputs": []
    },
    {
      "cell_type": "markdown",
      "metadata": {
        "id": "6N_iMU7sbpal"
      },
      "source": [
        "## set\n",
        "---\n",
        "- 내재된 값의 중복을 허용하지 않음\n",
        "- 값 추가 : add() - 단일 값, update([]) - 여러 값\n",
        "- 값 삭제 : remove(), discard\n",
        "- remove와 discard는 같은 작업을 수행하지만, 값이 없는 경우 remove는 error반환, discard는 정상적으로 작업 수행\n",
        "- clear() : 모든 원소 삭제\n",
        "---\n",
        "- 수학에서 사용하는 기본적인 연산 지원\n",
        "  - set a = {1,2,3,4,5}와 b = {4,5,6,7,8}가 있을 때\n",
        "    - a.union(b) or a|b : 합집합 = {1,2,3,4,5,6,7,8}\n",
        "    - a.intersection(b) or a&b : 교집합 = {4,5}\n",
        "    - a.difference(b) or a - b : 차집합 = {1,2,3}"
      ]
    },
    {
      "cell_type": "code",
      "metadata": {
        "id": "PWJfIZTmcD-s"
      },
      "source": [
        "test = set([1,2,3,4])\n",
        "print(type(test))\n",
        "test = {1,2,3,4}\n",
        "print(type(test))"
      ],
      "execution_count": null,
      "outputs": []
    },
    {
      "cell_type": "code",
      "metadata": {
        "id": "Mxbs0xvEgZwe"
      },
      "source": [
        "test.add(5)\n",
        "print(test)"
      ],
      "execution_count": null,
      "outputs": []
    },
    {
      "cell_type": "code",
      "metadata": {
        "id": "w7OurvXIfOqa"
      },
      "source": [
        "test.update([8,9])\n",
        "print(test)"
      ],
      "execution_count": null,
      "outputs": []
    },
    {
      "cell_type": "code",
      "metadata": {
        "id": "AZC_tTU7g-yQ"
      },
      "source": [
        "test.clear()\n",
        "print(test)"
      ],
      "execution_count": null,
      "outputs": []
    },
    {
      "cell_type": "markdown",
      "metadata": {
        "id": "NIoAeFn8rdSm"
      },
      "source": [
        "## collections\n",
        "---\n",
        "- list, tuple, dict에 대한 파이썬 built-in 확장 자료 구조(모듈)\n",
        "- from collections import deque, Counter, OrderedDict, defaultdict, namedtuple\n",
        "\n",
        "- deque : queue + stack\n",
        "  - list에서 사용되는 내장 함수 + 추가 기능\n",
        "  - 같은 기능을 수행해도 list보다 연산속도가 매우 빠름\n",
        "\n",
        "- orderedDict : 낮은 버전의 파이썬의 경우 dict 자료형을 사용 시 데이터가 입력한 순서대로 저장되지 않아서, 순서를 기억하고자 할 때 orderded Dict를 사용했음, 하지만 최근 버전에서는 가능하므로 해당 함수는 사용을 안함\n",
        "\n",
        "- defaultdict : dict type에 기본 값을 지정하고, 신규 key를 생성 시 해당 값이 초기에 입력 됨\n",
        "  - defaultdict(함수) : 기본 값은 함수 형태로 입력해줘야 함"
      ]
    },
    {
      "cell_type": "code",
      "metadata": {
        "id": "RzLZ6tafrrqA"
      },
      "source": [
        "from collections import deque\n",
        "li = [0,1,2,3,4]\n",
        "deque_li = deque(li)\n",
        "print(type(li), type(deque_li))"
      ],
      "execution_count": null,
      "outputs": []
    },
    {
      "cell_type": "code",
      "metadata": {
        "id": "mo5GIlpcsG7K"
      },
      "source": [
        "deque_li.appendleft(10)\n",
        "print(deque_li)"
      ],
      "execution_count": null,
      "outputs": []
    },
    {
      "cell_type": "code",
      "metadata": {
        "id": "J-SJu7TMsRVG"
      },
      "source": [
        "deque_li.rotate(2)\n",
        "print(deque_li)"
      ],
      "execution_count": null,
      "outputs": []
    },
    {
      "cell_type": "code",
      "metadata": {
        "id": "AyZvGTl7sVqw"
      },
      "source": [
        "deque_li.extend([5,6,7])\n",
        "print(deque_li)"
      ],
      "execution_count": null,
      "outputs": []
    },
    {
      "cell_type": "code",
      "metadata": {
        "id": "bAUhDJzPsaE1"
      },
      "source": [
        "deque_li.extendleft([5,6,7])\n",
        "print(deque_li)"
      ],
      "execution_count": null,
      "outputs": []
    },
    {
      "cell_type": "code",
      "metadata": {
        "id": "HLDB3WWisdE8"
      },
      "source": [
        "def general_list():\n",
        "  just_list = []\n",
        "  for i in range(100):\n",
        "    for j in range(100):\n",
        "      just_list.append(i)\n",
        "      just_list.pop()\n",
        "%timeit general_list()"
      ],
      "execution_count": null,
      "outputs": []
    },
    {
      "cell_type": "code",
      "metadata": {
        "id": "p3H3W5nwtNRT"
      },
      "source": [
        "def deque_list():\n",
        "  deque_list = deque()\n",
        "  for i in range(100):\n",
        "    for j in range(100):\n",
        "      deque_list.append(i)\n",
        "      deque_list.pop()\n",
        "%timeit deque_list()"
      ],
      "execution_count": null,
      "outputs": []
    },
    {
      "cell_type": "code",
      "metadata": {
        "id": "cNAAFDustT6t"
      },
      "source": [
        "from collections import defaultdict\n",
        "\n",
        "default_dict = defaultdict(lambda : 0)\n",
        "print(default_dict)\n",
        "\n",
        "default_dict[\"fjlij\"]"
      ],
      "execution_count": null,
      "outputs": []
    },
    {
      "cell_type": "code",
      "metadata": {
        "id": "LqkHKnoqvnvM"
      },
      "source": [
        "text = \"wikiHow Pro Courses are packed with expert knowledge, presented in wikiHow’s engaging, easy-to-read style. In just a few minutes a day, you can learn new professional skills, strengthen your relationships, pick up healthy habits or try out a new hobby\"\n",
        "print(text)"
      ],
      "execution_count": null,
      "outputs": []
    },
    {
      "cell_type": "code",
      "metadata": {
        "id": "8Uj3BDhevzvK"
      },
      "source": [
        "text = text.split()\n",
        "print(text)"
      ],
      "execution_count": null,
      "outputs": []
    },
    {
      "cell_type": "code",
      "metadata": {
        "id": "2dVGP7JHv4n3"
      },
      "source": [
        "default_dict = defaultdict(lambda : 0)\n",
        "for word in text:\n",
        "  default_dict[word] += 1\n",
        "print(default_dict)"
      ],
      "execution_count": null,
      "outputs": []
    },
    {
      "cell_type": "code",
      "metadata": {
        "id": "xWLsWD-6wG2k"
      },
      "source": [
        "from collections import Counter\n",
        "print(Counter(text))"
      ],
      "execution_count": null,
      "outputs": []
    },
    {
      "cell_type": "code",
      "metadata": {
        "id": "2ODm2afJwUtM"
      },
      "source": [
        "Counter(text) == default_dict"
      ],
      "execution_count": null,
      "outputs": []
    },
    {
      "cell_type": "code",
      "metadata": {
        "id": "d7abwGS9xkBe"
      },
      "source": [
        "print([s for s,i in default_dict.items() for j in range(i)])"
      ],
      "execution_count": null,
      "outputs": []
    },
    {
      "cell_type": "code",
      "metadata": {
        "id": "4gBpPycbxsO4"
      },
      "source": [
        "print(list(Counter(text).elements()))"
      ],
      "execution_count": null,
      "outputs": []
    },
    {
      "cell_type": "code",
      "metadata": {
        "id": "4n-ygtkFyjUE"
      },
      "source": [
        "c = Counter(a=4,b=2,c=0,d=-2)\n",
        "d = Counter(a=1,b=2,c=3,d= 4)\n",
        "print(c + d) #원소 더하기\n",
        "print(c - d) # 원소 빼기\n",
        "print(c & d) # 원소 교집합\n",
        "print(c | d) # 원소 합집합"
      ],
      "execution_count": null,
      "outputs": []
    },
    {
      "cell_type": "code",
      "metadata": {
        "id": "u3jLdBvgzurc"
      },
      "source": [
        "from collections import namedtuple\n",
        "te = namedtuple(\"te\", \"name, age, title\")\n"
      ],
      "execution_count": null,
      "outputs": []
    },
    {
      "cell_type": "code",
      "metadata": {
        "id": "ASKox-A5ys8y"
      },
      "source": [
        "pp = []\n",
        "pp.append(te(\"ko\", 21, \"hi\"))\n",
        "pp.append(te(\"kim\",22,\"ho\"))"
      ],
      "execution_count": null,
      "outputs": []
    },
    {
      "cell_type": "code",
      "metadata": {
        "id": "5T9HYJdz3QtR"
      },
      "source": [
        "pp[0]._asdict()[\"name\"]"
      ],
      "execution_count": null,
      "outputs": []
    }
  ]
}