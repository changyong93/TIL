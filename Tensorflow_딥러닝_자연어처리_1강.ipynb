{
  "nbformat": 4,
  "nbformat_minor": 0,
  "metadata": {
    "colab": {
      "name": "Tensorflow 딥러닝 자연어처리 1강",
      "private_outputs": true,
      "provenance": [],
      "toc_visible": true,
      "authorship_tag": "ABX9TyMZ/iZyzZTOeApNfoRk1/Uv",
      "include_colab_link": true
    },
    "kernelspec": {
      "name": "python3",
      "display_name": "Python 3"
    },
    "language_info": {
      "name": "python"
    }
  },
  "cells": [
    {
      "cell_type": "markdown",
      "metadata": {
        "id": "view-in-github",
        "colab_type": "text"
      },
      "source": [
        "<a href=\"https://colab.research.google.com/github/changyong93/TIL/blob/main/Tensorflow_%EB%94%A5%EB%9F%AC%EB%8B%9D_%EC%9E%90%EC%97%B0%EC%96%B4%EC%B2%98%EB%A6%AC_1%EA%B0%95.ipynb\" target=\"_parent\"><img src=\"https://colab.research.google.com/assets/colab-badge.svg\" alt=\"Open In Colab\"/></a>"
      ]
    },
    {
      "cell_type": "markdown",
      "metadata": {
        "id": "OlUHFqoO3FXA"
      },
      "source": [
        "# Tokenizer"
      ]
    },
    {
      "cell_type": "markdown",
      "metadata": {
        "id": "wcKXqJasOJyN"
      },
      "source": [
        "## Word Tokenization"
      ]
    },
    {
      "cell_type": "markdown",
      "metadata": {
        "id": "hiDyP91p3OYB"
      },
      "source": [
        "### 영어 : Word Tokenization\n",
        "- 단어 단위로 토큰화를 수행하는 것"
      ]
    },
    {
      "cell_type": "markdown",
      "metadata": {
        "id": "MTwnr5LR3hVq"
      },
      "source": [
        "#### NLTK 토크나이저 비교"
      ]
    },
    {
      "cell_type": "code",
      "metadata": {
        "id": "L6mb0SRH3k2u"
      },
      "source": [
        "import nltk\n",
        "# 영어는 토큰화를 위해 일반적으로 nltk 패키지를 활용\n",
        "# nltk도 토큰화를 위한 여러개의 패키지가 존재\n",
        "# 토크나이저에 따라서도 결과가 다름"
      ],
      "execution_count": null,
      "outputs": []
    },
    {
      "cell_type": "code",
      "metadata": {
        "id": "UHJpQpa7DJrn"
      },
      "source": [
        "sentence = \"Don't be fooled by the dark sounding name, Mr. Jone's Orphanage is as cheery as cheery goes for a pastry shop.\""
      ],
      "execution_count": null,
      "outputs": []
    },
    {
      "cell_type": "markdown",
      "metadata": {
        "id": "Sh3WgEsGDN94"
      },
      "source": [
        "아포스트로피가 들어간 상황에서 Don't와 Jone's가 어떻게 구분이 될지 확인"
      ]
    },
    {
      "cell_type": "code",
      "metadata": {
        "id": "p_YlkaIiDrLi"
      },
      "source": [
        "# 문장, 단어 토큰화 시 문장부호 데이터를 사전에 불러와야 함\n",
        "nltk.download('punkt')"
      ],
      "execution_count": null,
      "outputs": []
    },
    {
      "cell_type": "code",
      "metadata": {
        "id": "xOhBLJRADXRg"
      },
      "source": [
        "from nltk.tokenize import word_tokenize\n",
        "print(\"word_tokenize\")\n",
        "print(word_tokenize(sentence))\n",
        "print(\"*\"*100)\n",
        "print(\"wordpuncttokenizer\")\n",
        "from nltk.tokenize import WordPunctTokenizer\n",
        "print(WordPunctTokenizer().tokenize(sentence))\n",
        "print(\"*\"*100)\n",
        "print(\"TreebankTokenizer\")\n",
        "from nltk.tokenize import TreebankWordTokenizer\n",
        "print(TreebankWordTokenizer().tokenize(sentence))"
      ],
      "execution_count": null,
      "outputs": []
    },
    {
      "cell_type": "markdown",
      "metadata": {
        "id": "DcRW3SMVDzmo"
      },
      "source": [
        "- wordtokenizer, trebank : Don't => Do, n't / Jone's => Jone, 's\n",
        "- wordpunctTokenizer : Don't => Don, ', t / Jone's => Jone', s\n",
        "- ** treebanktokenizer 규칙\n",
        "  1. 하이픈으로 연결된 단어는 하나로 인식\n",
        "  2. 아포스트로피와 같이 접어가 들어간 단어는 분리\n",
        "---\n",
        "토크나이저마다 저마다의 규칙이 다르기에 사용하고자하는 목적에 따라 성능이 잘 나오는 토크나이저를 선택하는 것이 중요"
      ]
    },
    {
      "cell_type": "markdown",
      "metadata": {
        "id": "JAdOswuFFN5V"
      },
      "source": [
        "### 한국어 : Word Tokenization(KoNLPy)\n",
        "---\n",
        "한국어의 경우 영어보다 토큰화가 까다로우며, 어절 단위로 토큰화를 하는 것을 지양(띄어쓰기가 잘 지켜지지 않을 수 있음)"
      ]
    },
    {
      "cell_type": "code",
      "metadata": {
        "id": "bA-Jtl_SH3xd"
      },
      "source": [
        "!pip install konlpy"
      ],
      "execution_count": null,
      "outputs": []
    },
    {
      "cell_type": "code",
      "metadata": {
        "id": "zJ2Qg-tWIFot"
      },
      "source": [
        "# Mecab-ko-for-GoogleColab\n",
        "# https://github.com/SOMJANG/Mecab-ko-for-Google-Colab\n",
        "!git clone https://github.com/SOMJANG/Mecab-ko-for-Google-Colab.git\n",
        "%cd Mecab-ko-for-Google-Colab\n",
        "!bash install_mecab-ko_on_colab190912.sh\n",
        "\n",
        "# Colab에 Mecab 설치\n",
        "# !git clone https://github.com/SOMJANG/Mecab-ko-for-Google-Colab.git\n",
        "# %cd Mecab-ko-for-Google-Colab\n",
        "# !bash install_mecab-ko_on_colab190912.sh"
      ],
      "execution_count": null,
      "outputs": []
    },
    {
      "cell_type": "code",
      "metadata": {
        "id": "PpE-qLPIIem6"
      },
      "source": [
        "from konlpy.tag import *\n",
        "# konlpy 안에 형태소 분석기는 총 5개가 있으며,\n",
        "# 아래 형태소 분석기는 모두 noun, morphs, pos 제공\n",
        "# noun : 형태소 분석기가 분석 후 명사 추출\n",
        "# morphs : 형태소에 따라 토큰화\n",
        "# pos : 형태소에 따라 토큰화 후 품사도 같이 태깅\n",
        "hannunum = Hannanum()\n",
        "kkma = Kkma()\n",
        "okt = Okt()\n",
        "mecab = Mecab()\n",
        "komoran = Komoran()\n",
        "sent = \"열심히 코딩한 당신, 연휴에는 여행을 가봐요\""
      ],
      "execution_count": null,
      "outputs": []
    },
    {
      "cell_type": "markdown",
      "metadata": {
        "id": "P2TDCmUyOdOX"
      },
      "source": [
        "#### Hannanum"
      ]
    },
    {
      "cell_type": "code",
      "metadata": {
        "id": "Yx0voNk3MSFE"
      },
      "source": [
        "print(hannunum.nouns(sent))\n",
        "print(hannunum.morphs(sent))\n",
        "print(hannunum.pos(sent))"
      ],
      "execution_count": null,
      "outputs": []
    },
    {
      "cell_type": "markdown",
      "metadata": {
        "id": "exhUDLZaOntz"
      },
      "source": [
        "#### KKma"
      ]
    },
    {
      "cell_type": "code",
      "metadata": {
        "id": "CV6AauPsOTZK"
      },
      "source": [
        "print(kkma.nouns(sent))\n",
        "print(kkma.morphs(sent))\n",
        "print(kkma.pos(sent))"
      ],
      "execution_count": null,
      "outputs": []
    },
    {
      "cell_type": "markdown",
      "metadata": {
        "id": "qiHTyE4zOpiN"
      },
      "source": [
        "#### Okt"
      ]
    },
    {
      "cell_type": "code",
      "metadata": {
        "id": "e2M6jHvkOV_a"
      },
      "source": [
        "print(okt.nouns(sent))\n",
        "print(okt.morphs(sent))\n",
        "print(okt.pos(sent))"
      ],
      "execution_count": null,
      "outputs": []
    },
    {
      "cell_type": "markdown",
      "metadata": {
        "id": "OylcMqCDOrdZ"
      },
      "source": [
        "#### Komoran"
      ]
    },
    {
      "cell_type": "code",
      "metadata": {
        "id": "HoM3EZLaOXRG"
      },
      "source": [
        "print(komoran.nouns(sent))\n",
        "print(komoran.morphs(sent))\n",
        "print(komoran.pos(sent))"
      ],
      "execution_count": null,
      "outputs": []
    },
    {
      "cell_type": "markdown",
      "metadata": {
        "id": "RuCpkMN6OtDH"
      },
      "source": [
        "#### Mecab (별도 설치 필요)"
      ]
    },
    {
      "cell_type": "code",
      "metadata": {
        "id": "utZyE9f9OZeJ"
      },
      "source": [
        "print(mecab.nouns(sent))\n",
        "print(mecab.morphs(sent))\n",
        "print(mecab.pos(sent))"
      ],
      "execution_count": null,
      "outputs": []
    },
    {
      "cell_type": "markdown",
      "metadata": {
        "id": "OIrOBkOcMufF"
      },
      "source": [
        "- 동일한 형태소라도, 분석기마다 표기 방식이 조금씩 차이가 있음\n",
        "- 보통 형태소 단위를 입력으로 많이 쓰지만, 품사까지 엮어서 입력으로 사용하는 경우도 있음\n",
        "  - ex) '못'의 경우 부정의 못도 있지만, 명사의 못도 있기 때문\n",
        "  - ('열심히','Adverb') => '열심히_Adverb'\n",
        "- 형태소 분석기마다 성능과 결과다 다르기 때문에, 용도에 따라 분석기를 선택적으로 사용, ex) 속도가 빠른 형태소 분석기를 선택하고자 하면 mecab 등..."
      ]
    },
    {
      "cell_type": "markdown",
      "metadata": {
        "id": "bnwnSQo6Nl_5"
      },
      "source": [
        "## Sentence Tokenization"
      ]
    },
    {
      "cell_type": "markdown",
      "metadata": {
        "id": "1t9Q7qCsO4-B"
      },
      "source": [
        "### 영어 : Sentence Tokenization\n",
        "---\n",
        "직관적으로 봤을 때, 온점이나 물음표 등으로 구분하면 괜찮을 것 같지만, 마냥 그렇지도 않다. 예를 들어 Ph.D나 IP주소(192.2.201.2) 등과 같이 하나의 데이터 자체에 온점이 들어가 있는데, 모든 온점으로 구분할 시 모두 다 문장으로 나뉘게 되는 문제가 발생한다.   \n",
        "명확한 규칙이 있으면 좋겠지만, 따로 세우기 어렵다면 nltk의 문장토큰화인 sent_tokenize를 사용하자"
      ]
    },
    {
      "cell_type": "code",
      "metadata": {
        "id": "EZmSFkQRPdFi"
      },
      "source": [
        "text = \"His barber kept his word. But keeping such a huge secret to himself was driving him crazy. Finally, the barber went up a mountain and almost to the edge of a cliff. He dug a hole in the midst of some reeds. He looked about, to mae sure no one was near.\""
      ],
      "execution_count": null,
      "outputs": []
    },
    {
      "cell_type": "code",
      "metadata": {
        "id": "WQNJ98fMPevd"
      },
      "source": [
        "from nltk.tokenize import sent_tokenize\n",
        "# 영어에도 다양한 문장 토크나이저가 존재하지만, 유원준 강사님의 오랜 경험으로 보셨을 때 sent_tokenize가 가장 성능이 좋다고 하심\n",
        "sent_tokenize(text)"
      ],
      "execution_count": null,
      "outputs": []
    },
    {
      "cell_type": "code",
      "metadata": {
        "id": "sUJQgEseUovq"
      },
      "source": [
        "text=\"I am actively looking for Ph.D. students. and you are a Ph.D student.\"\n",
        "sent_tokenize(text)"
      ],
      "execution_count": null,
      "outputs": []
    },
    {
      "cell_type": "markdown",
      "metadata": {
        "id": "xtC9-jiFUsSG"
      },
      "source": [
        "Ph.D도의 온점과 문장의 마침표인 온점 구분을 잘 함"
      ]
    },
    {
      "cell_type": "markdown",
      "metadata": {
        "id": "AqmjkiYZPngO"
      },
      "source": [
        "### 한국어 : Sentence Tokenization(KSS)"
      ]
    },
    {
      "cell_type": "code",
      "metadata": {
        "id": "fCSqbeLbTcz-"
      },
      "source": [
        "!pip install kss"
      ],
      "execution_count": null,
      "outputs": []
    },
    {
      "cell_type": "code",
      "metadata": {
        "id": "9kV46wcnTgAd"
      },
      "source": [
        "import kss\n",
        "text = '딥 러닝 자연어 처리가 재미있기는 합니다. 그런데 문제는 영어보다 한국어로 할 때 너무 어려워요. 농담아니에요. 이제 해보면 알걸요?'\n",
        "kss.split_sentences(text)"
      ],
      "execution_count": null,
      "outputs": []
    },
    {
      "cell_type": "markdown",
      "metadata": {
        "id": "5ea3CAFLTkzZ"
      },
      "source": [
        "### 한국어 띄어쓰기 패키지(Pykospacing)"
      ]
    },
    {
      "cell_type": "code",
      "metadata": {
        "id": "a0VXiiJDVDRv"
      },
      "source": [
        "#https://github.com/haven-jeon/PyKoSpacing\n",
        "!pip install git+https://github.com/haven-jeon/PyKoSpacing.git"
      ],
      "execution_count": null,
      "outputs": []
    },
    {
      "cell_type": "code",
      "metadata": {
        "id": "6PKJ04bMVXMT"
      },
      "source": [
        "from pykospacing import Spacing\n",
        "spacing = Spacing()\n",
        "\n",
        "sent = '오지호는 극중 두 얼굴의 사나이 성준 역을 맡았다. 성준은 국내 유일의 태백권 전승자를 가리는 결전의 날을 앞두고 20년간 동고동락한 사형인 진수(정의욱 분)를 찾으러 속세로 내려온 인물이다.'\n",
        "sent1 = '오지호는 극중두얼굴의사나이성준 역을 맡았다. 성준은 국내 유일의 태백권 전승자를 가리는 결전의 날을 앞두고 20년간 동고동락한 사형인 진수(정의욱 분)를 찾으러 속세로 내려온 인물이다.'\n",
        "new_sent = sent.replace(\" \",\"\")\n",
        "print(\"정상 문장: \", sent)\n",
        "print(\"띄어쓰기가 일부만 안 된 문장: \", sent1)\n",
        "print(\"띄어쓰기가 안 된 문장: \",new_sent)\n",
        "print(\"Kospacing 결과: \", spacing(new_sent))\n",
        "print(\"Kospacing 결과(일부만 안 된 문장): \", spacing(sent1))"
      ],
      "execution_count": null,
      "outputs": []
    },
    {
      "cell_type": "markdown",
      "metadata": {
        "id": "65aq9fh2VMzy"
      },
      "source": [
        "# Text Normalization\n",
        "---\n",
        "- 텍스트 정규화(Text Normalzation)은 통일할 수 있는 단어들을 하나로 통일하기 위한 전처리\n",
        "- 보통 정규표현식이나 자신만의 규칙으로 정규화를 할 수 있지만, Stemming이나 Lemmatization도 사용\n",
        "- 딥러닝 이전에는 IT-DFM 등 단어의 빈도수가 성능에 영향을 주어서 정규화가 매우 중요했지만, 현재는 bert 모델을 사용 시 단어를 subword 수준으로 판단하기에 크게 중요성은 떨어짐"
      ]
    },
    {
      "cell_type": "markdown",
      "metadata": {
        "id": "bLmskKtaa7AK"
      },
      "source": [
        "## 영어 : Stemming(어간 추출)\n",
        "---\n",
        "- 어간의 사전적 의미에 있는 '활용어'는 의미를 유지하면서 형태가 변할 수 있는 단어를 의미\n",
        "- 어간 추출은 형태학적 분석을 단수화한 작업이라고 볼 수 있지만, 정해진 규칙 하에 단어의 어미를 자르는 어림직작의 작업\n",
        "- 즉, 섬세한 작업이 아니므로 어간 추출 후 나오는 단어가 사전에 없는 단어일 수도 있음\n",
        "![image.png](data:image/png;base64,iVBORw0KGgoAAAANSUhEUgAAAXkAAACbCAYAAACH+OsAAAAgAElEQVR4Ae2d268mVVrGMR7irRd4J4nR+b6iZ5oB2UM3PRxUukcYhkx0NDhEOmk5BMeAGcIhIwaYViQ0Tc8AIg10j8QYLgiExBhiICQkxgucyEHxwggqisNhhH/Ai2We2vM0z35Zqw7fYe+v6nsuKutd73red9VXtdavalfVrjpt7969yYu3gceAx4DHwDjHwGnesePcsd6v3q8eAx4DGAOGvP+S8V9yHgMeAyMeA4b8iHfuWM7kDhw4kLx4G3gMzDYGDHlDfuXP4jC5f+rzX/bibeAxMMMYMOQNeUN+honjg44PukMZA4a8IW/IG/I+Qx7xGDDkDfnBQ/6nz/5y+rObv5BeuX932vOlSwysEQNrKGfPq7SehrwhP2jIA/DHb/lC+sFjZ6b/+PNd6Z+++zmD3pD3gV7GgCFvyA8W8gr4b/7uvvRL+/enf3xgd3rjO59L5+5fzBn9T+67Ov3Y/T9Ipz36f/UCG75VOlPbyXV58803vS0EqDu5L0p9G/KG/CAhHwGPAQ7fE7dtpP8+viv9+m9cPDd8CHiCPdZ1UjW1qW5stiG/+jegDXlDfnCQLwGel21wVj8vTEvQ7uufdz1WPd6QN+RXHiBj+YehMf+O+Jz8lb91UXr3+Jnprhv21jDPQT8HR1zO+bv7zqpv0iImp6GvL8xLeuZjSV3p8g/bf/x3Hq0vE9V/RRz4g0/sH10q6qrr2i90MSfXESX/mmE+loZ88zjidtrJ0mfyPpNf+QNxhPwvXPil9A9Hd6fvH92ddv3ygfrG60cnq/T9B3anM/b9WhbevF7/X4/uSu89fmYdMyvo44QlHNugSB2BGevISx9yEfRqx1htU5s6zUkf+2Cdv4d+5Ilt1MTSkDfkVx4gYz4DHstvi5AHaKqLD9SQ/+CJM+sna17/zufSvz782fTH39ib/vD687csd96wN712bPOgANj/9bfPaTwgKMgIvjbotelK7dG/pa5n8Grvu/rUwaBeL21TO+rkhvGWfsJfB22/VbePIW/IG/L+S2HuMZCDPEH/l986N/3ewS+mx27dSB8+sfkY5b8/sitxwWOV/3uiqg8IADz0uDF78OsXZs/4FWC0CcSmM1xqSoAstUf/lroCW+0Ib21TO+oM+c77nPt+DKUv1xjCc0N42X8xlCCvExCQz12u+cULv1Q/Vvm3f3J2euqO/oDXPrYAWIAJTVObtuNAkVt4cNiSR4GtdoS3tqktulyf8aC1pe/w+3Q7qO0zeZ/JrzxAlg0o55//nd7zQB5Awn/B4p+kcLO2zxm8wox2CYQlf1sc21luyaPAVlvgPevlGvan5Za+DfnRnPX7TN5n8it/IJ4X8gDZz+65NH3+V/fXl3a+2uEZ+hLw+voJ0VIc21lu0SnY1TbkRwNg7vdlloa8Ib8WkP+ZjUvT33z7nPr6PK7Jf+PgFxtBsQW2clbb18/J2zVui07BrvYCIL+lnx/9vpyP618qfbnGl2tWHiC+nDL/5ZRlb8OuZ/J4guaSr/xK/UoDvNaACy7XPH/47PpmLJ6xf/bObk/XROjFuoKvqY26qIl16Lb4FOxq94D8p3LG2A4HMK5/rjTkDXlD3n8pzD0GukD+1mv31U/XfHyySrkFT9t87TcvTt+67vz62vx3v3le/RqEHLjUR+jyxiVvkKqGtmpLOtXEG5/Iw/Ze19r1AKB2BuBNv2NL3xLL35crDXlDfu4JvuyzROcfx5l8DkDwnX3J/vRvf/bZ9Be3b9TPzuPma1fAl3Lav/pg8z76ZB/5mrzPtFf+QNzlTL5pUuP6O67Df/C4Ad+0ndz2CRjHtC0MeUN+9JDHhMUTNXh8su1VBmOa3P4t44R23/1qyBvyawH5vhPDegNyLGPAkDfkDfkV/+jDWGDj37EzB05D3pA35A35xv8ZMJx3Bs6L2u6GvCE/CMh/5jOT5MXbwGOg/xgw5A15Q94HEB9ARzwGDHlD3pAf8QT3mW//M9+xbTND3pAfPOSnk0l68qZpevVIlb56kSf12CDl3zPfmDbkDflBQx6A/6tvTtN7x6v0n49U6V+OGfSG4nxQHNv2M+QN+cFCXgF/+OppuvyCaXrj6LQG/VcumC7sOjPez8JlJwGAdVh0/11yNml+/pwL00/c986pD6HAhm/R6+l8sx+4DHlDfpCQj4AHBOB76uYq/c/xKl1/+WIgHwEX69sJn2X03SVnSUPAE+yxrtumqU11tmeHeWnbGfKG/OAgXwI8L9vgrL404Pv4S3Ar+fvknkW7jH675MxpStDu659lOzim34HAkDfkBwf53//qNP3geJWOXbsJ8xz0cyDA5ZxX7q3qm7SIyWnUl4Mb2tVPG6Uumod2UzvzlPKrvylPl76o0Zzqi7auG9v6wrykZz6W1PGVyPwrIbaffuXh+jIR2n/uwq+dshEPLfO06WLeUr+5nNSijOvJvKtQGvKG/OAgf9HGJL12pEqv31+l/Xs3b7x+dKJKbxyt0vnn5OHN6/XvPlql9x+r6pu184Cek5fAZZ1lBGOfumqjrXX0Fes5X05TWk/6tSzFE6RtgKOuDYrUMV+sY53oQy4CXO0Yq21qU6c56WMfrHNb0I88sY2aVSwNeUN+cJDHRLpkz6SG/IdPVPWTNW8eq9JbD03Tg9dN032Hti4PXDNN//zA5kEBsH/hzuYDQpyoJchBV2pTv9qaW/197S55Spou/q4agq8Nem26Unv0a13P4NWGZhYdYvi7NZ7+nI/6VS4NeUN+kJDHpALon71tmu747Wl9Zv7DE5uPUeJRSi7vPDKtv+uKs34A/plbN2/M3vy1ftftAWEFMSd1zoc29avNuCaN6kt2KY/61dY8Xfx9NIRf0xkuNaWDQak9+rWuYFcbmll0iOHv1nj6cz7qV7k05A35wUJeJxZuuuYu11y8Makfq3z5cJWeu302wGs/EZaxTq361WY7SvXTLpVRX8pDP/LEhW1asj/1RbuLBjFNEGxq01gcKHILDw6aR8GuNjR9dbk+40FLc8KO22lV64a8IT9qyGPi4b9g8U9SuFnb9ww+N3EVemqrVv1qt2mojSXi6NMcOX9Ol/PlYmPurhrGlUBY8rfFsZ2l5lGwqw3NLDrEsJ9cqTnbtLn4nfIZ8ob86CGPyXXu7km6dN+kvrRz7Ze7XarpAsZFa5gvlvgN9EVYqF9t1fX1t8WWgNfXz35KcWxnqToFu9rQzKJDDPvJlZqzTZuL3ymfIW/IrwXkz9o1SS/eVdXX5/HPUn/09XbQdwHjojQAQMzVVic0VKc223O52VbSs70UWwJeXz/76RqnOgW72tDMokNM0/poTtUyZlVLQ96QHw3k8QTNVfunCa800AWXa166e1rfjMUz9s/f0f3pmgjBtjonepsutiMu+nL1nI99ssxpoq+kpV/LUmyEXqxrjqY26qIm1qFTn4JdbWi66mLOGIt6af3oX/XSkDfkRwH5ew5OE56u+fhkfsHTNjdcMakfr8S1+ZM3TuvXIHSZoIAcl6gvATDnZ45cG/JGf6neloe5qOM6x3zUsb1U5uKoJUx545I3SNmupWpLOtXEG5/IxXbEK9jVhqarjutHfdPvoKa07sy1aqUhb8iPAvKliXXZvkl6++EqPX3LNB05tPmfsn0AX8prf/6fzrxdVm+7GPKG/KghD+jg+juuw3/weL8zeANr9YDlfdJ/nxjyhvzoIQ8w4IkaPD7Z5VUGBkl/kHibre42M+QN+bWAvCG0uhDyvlnuvjHkDXlD3t94PfUEiYG7XODuxPY15A15Q96QN+RHPAYMeUPekB/xBN+JM0f3uVp/DRjyhrwhb8j7TH7EY8CQN+QHD3k8MfPkTdP06pGqfhmZzyRX60zS+2Nn94chb8gPGvIAPL/tiv9qxdsm8RoDg8XbwGNgcwwY8ob8YCGvgMfHu/mJP4Ae767xJDfoPQYmyZA35AcJ+Qh4TGb4nrp588Mg118+P+Sb3tlieHQ/gPCdL03vhfH27L49+24rQ96QHxzkS4DnZRuc1fedCDn92CG/Hb+PgOdLvWJdt3tTm+ps9zsgGPKG/OAgj9cF402Sx67dhHkO+jkQ4HLOK/dW9U1axOQ06tsOCGp/220v+/eVoN3Xv93bZWz9GfKG/OAgf9HGJL12pEr4OPf+vZs3Xj860fyOeF6vf/fRKr3/WFXfrG0DfR8IQsslQoJ52M4y6lBnG2Nm0WgO2qU8Ob/6GF9aH/pVR19fmJf0uj6wqStd/mH76VceTvgLIr6WGO2ap03H/pm31G8uJ7Uo+dcM821Xacgb8oODPCbHJXsmNeQ/fKJK7x2v0pvHqvTWQ9P04HXT+p3x9x36pHzgmmnCB0VwUADsX7iz+YDAyUdYsV4qoy5Xjz7kir62+qwxpTj0xyX327quT9RpLoKxDXDUtUGROuaLdfRNH3IR4GrHWG1TmzrNSR/7YJ2/mX7kiW3UbHdpyBvyg4Q8JgpA/+xt0/q7rbgej4+G4DFKXd55ZFp/8o+Af+bWzRuzXT7o3QQvTtSSRv1qMw6l+tVetob5S33GdaM+52/KwTiCrw16bbpSe/RrXT8mojY0s+gQ0/S7NKdqGbMTpSFvyA8W8jphAPk3jlbp/HO2Xmu/eGOS3jg6TS8frtJzt3cHPHJ3AZiug9oaq3ZfjepLtuZXu6Snv0lbaov+WGfuWBJ+TWe41JQOBqX26Ne6gl1taGbRIYa/TePpz/mo36nSkDfkRw15TCz8cxSencfN2i5n8JyMXQEGPbRxacuj+dVmXKmM/cRYtpfi6Y9x9KNkjlwZdVpvs5sg2NSGvGzHgSK38OBAHeoKdrWh6avL9RkPWpoTdtv22I52Q96QHz3kMZHO3T1Jl+6b1Jd28AGRLpOrCYIan9OpT+1SXEmjetg5Xc5HLdqa2mN+1ksxbGfZVUc9yhIIS37GtrXndAp2tZFL82mb2lGHOvvJlZqzTZuLX4bPkDfk1wLyZ+2apBfvqurr8/gUID4J2DahugCspFG/2tqn+tVWjdolTcnfFtsU19TWlpftJeD19bflYztLza/AVhuaWXSIYT+5UnO2aXPxy/AZ8ob8aCCPJ2iu2j+tX2mA1xpwweWal+6e1jdk8Yz983cs7umaEgzVr7ZOYvWrvWwN85f6RHupLfpjnblRloDX18+cXeNUp2BXG5pZdIhpWh/NqVrG7ERpyBvyo4D8PQc3n675+GSVcgueuLnhikn9eCWuzZ+8sf17r00A08kadairT+22uKZ2tMVcs/aVy6V959pj3zlNzBGhF+uqb2qjLmpiHTr1KdjVhqarLuaMsaiX1o/+nSwNeUN+FJAvTaLL9k3S2w9X6elbpunIoc3/lO0CeOQjQHNl7E81bCMUWdLPMufP5aGeZU6jubSdNmNj2bVd82uOkl81hClvXPIGqWpoq7akU0288Yk8bF/UjdfcuuX6jX1jPRi7k6Uhb8iPGvKYXLj+juvwHzze7Qx+Jyek+976CKy3x/zbw5A35EcPeYACT9Tg8cm2VxkYKvNDxdtwtbahIW/IrwXkDZ7VAo/3x/btD0PekDfkR/x9T8N0+2C6qtvakDfkDXlDfiVuEK4qJIe+Xoa8IW/IG/KG/IjHgCFvyBvyI57gQz8L9frPf7nJkDfkDXlD3mfyIx4Dp+3Zsyd58TZY5TFw4MCBRgjhscgnb5qmV49U9RsnffY3/9mft+F4tqEh74Pcyh/kmyAPwPMD3nh1AV4pjHfVGFLeBh4Dm2PAkDfkBwt5Bfzhq6f1p/3wgRCAHi8n8yQ36D0GJsmQN+QHCfkIeExm+J66efPrT9dfPj/k+V4XLccCDb7fpcv7ZMbym9f1d5x23nnnJS/eBqs8BuLlmhLgedkGZ/WLmNC5l2/lfIvoizmWnR/9EPB8AVisc11yWm2zPYy/lAx5H+RW/iAfIY93wuN1wceu3YR5Dvo5AF1+wTS9cm9V36RFTE6jvhJwS36NndVeZm6sUwnoff2z/j7HtY+7RW8jQ96QHxzkL9qYpNeOVOn1+6u0f+/mjdePTjR/CASAx/X6dx+t0vuPVfXN2jbQl4Cb88PHJTdJGUMNy6ilLvq1ztiSln7V0dcX5iW9rg9s6kqXf9h++pWHE/6CiK8BRrvmadOxf+Yt9ZvLSS1K/jXDfGMsT9vY2EhevA1WeQzEM3lMxEv2TGrIf/hEld47XqU3j1XprYem6cHrpvWHQe479En5wDXThK9G4aAA2L9wZ/MBgROdYGSdZfS31REHTdQxH0tqWNKvZcwR69A2xaOdYGwDHHVtUKSO+WJd+0QuAlztGKttalOnOenL9as65KEW/nVZTjvjjDOSF2+DVR4DOchjggL0z942rT/OjevxPzxR1Z/4w6OUXN55ZFp/15WAf+bWzRuzeO1w2yQvAVTjchq0R3+saw61m3SltuiPdc1PuwREtrNs05Xao1/r+oUmtaGZRYeYpvXVnKplzNhLQ94HuZU/yJcgr5MTkH/jaJXOP2frGdrFG5P6Ms3Lh6v03O3dAY/cgGVctE9qoi/n7wLeXJzmLuWI/ljXHGoTfk1nuNSUzoBL7dGvdQW72tDMokMMf5fG05/zUb8OpSFvyI8a8pjE+OcoPDuPm7VdzuA58bvAsqSJ/lhnH7Fs0qGttGiephyqo90EwaY2xLMdB4rcwoMDdagr2NWGpq8u12c8aGlO2Pzd61Ia8ob86CGPyXzu7km6dN+kvrSDr0R1meBdYFnSRH+sl/pv0jW1ab6uOo0pgbDkZ2xbe06nYFcbuTSftqkddaizn1ypOdu0ufih+wx5Q34tIH/Wrkl68a6qvj6P773iu69tk7cLLEua6I/1Ut9NuqY2zdekKwGvr5/9leLYzlJ1Cmy1oZlFhxj2kys1Z5s2Fz90nyFvyI8G8niC5qr90/qVBnitARdcrnnp7ml9MxbP2D9/x3xP1+ikLwE1+mNdc6jdpCu1RX+sa/4S8Pr6mbNrnOoU7GpDM4sOMU3rozlVy5ixl4a8IT8KyN9zcPPpmo9PVim34GmbG66Y1I9X4tr8yRvbP+rdBEsFQ9TFOrQ5n+ag3aaL7bHepa8IvVjnuqBsaqMuamI95lGwq404jdU2taGJOWMsNTkd13tdSkPekB8F5EsT9rJ9k/T2w1V6+pZpOnJo8z9luwAe+XIALfUDLZecZpZcuTxcr3n7Ikx545I3SHN9qrakU0288YmcbF/UjVeuJ/M2/Q5qSuvOXGMtDXlDftSQx8TF9Xdch//g8W5n8GOd7P5dWx+vXZftYcgb8qOHPCYznqjB45NtrzJYl4nv37k+wDfkDfm1gLyhtj5Q877euq8NeUPekF+j95gYgFsBuA7bw5A35A15Q/7UI4jrAL11+42GvCFvyBvyhvyIx4Ahb8gb8iOe4Ot21urf++nLUYa8IW/IG/I+kx/xGDDkDfnBQx6PRT550zS9eqSq3zjps7lPn815m6zvNvkU5L/3ve/NNen//k9fnit+lT9esYh1w38qzppnnthZ+1yFuKb3yQPw/IA3Xl2AVwrjXTWGmreBx8DmGFh7yG/3QakN1E3tTW2rAONlrUMJ8gr4w1dP60/74TuuAD1eTjbvJMf2jsu8OVclnv/q3/Q6gFVZV6/HfAfsU5DHGTyXZU3WVcxryK/+pw9zkI+ABwjge+rmza8/XX/5YiAfAQPoR9/Q6gQ83+US6/p7mtpUZ3s+EC9z+52CPAG8rMs1hClL9Ke21uHnwvWKJdtjDuroVx191KDM+bS9zebZdTzjK8VRP0t7KbbkL/UxNH+EfAnwvGyDs/pFTBps11yekj+nXTVfCdp9/av2u7w+5YPMtkKeQCV4ARv6aGudvgilrpqoy+WBhkts71LHhM9BNudDvpKfbcyX03X1dVnvIWki5PFOeLwu+Ni1mzDPQT836S+/YJpeubeqb9IiJqdRH7a31mnn/PBxoS6WbGc8S9VFTWzTOm3NQ7uUpy/MS3r2zZK60uUftp9+5eGEvyDi2yjRjlxddV37zeXkOqLkXzPMN8ZyWyFPsCh8Sza1KPtqYozmirbmjm1d6phMOV1fP3OU4tAe22KdOcZWRshftDFJrx2p0uv3V2n/3s0brx+daP4QCACP6/XvPlql9x+r6pu1baDH9s1N+uhvqyNHTpPzaX9t7dSqDrbWc30TpG2Ao64NitQxX6xjHehDLoJe7RirbWpTpznpYx+sc/vQjzyxjZoxl4b8nE8DYULloNrXzxylOLRrm9qMHWsZIY8JecmeSQ35D5+o0nvHq/TmsSq99dA0PXjdtP4wyH2HPikfuGaa8NUoHBQA+xfubD4gcMJjG9NmGX2xntMtSoPcMVdbPbc+8BF8bdBr05Xao1/r+gEQtaGZRYcY/k6Npz/no34dSkN+gJDHxB4r0HO/Kwd5TE6A/tnbpvXHuXE9/ocnqvoTf3iUkss7j0zr77oS8M/cunljFq8dbpvg2M5xiTERsmxXv9psR6l+tUsa+qllSX/M2eYn/JrOcKkpHQxK7dGvdQW72tDMokMMf6vG05/zUb8OpSE/MMhjYmPJwXCsvhLkdYIC8m8crdL552y91n7xxqS+TPPy4So9d3t3wCN3F4hyf+RKrl8uT8yfi6ePebTskrOLHpomCDa1aSwOFLmFBwfNo2BXG5q+ulyf8aClOWHrdlkH25AfGOQJckxy2mMv54E8JjH+OQrPzuNmbZczeE78LiAtaZgDZUmjfrU1tmSX9H39zF8CYcnfFsd2lppHwa42NLPoEMN+cqXmbNPm4ofuM+QHCnmAHRN67IDH75sX8pik5+6epEv3TepLO/hKVJeJ2wWYJY3mL2nUr7bG5mxqWaom50M7/SXg9fWzz1Ic21mqTsGuNjSz6BDDfnKl5mzT5uKH7ls5yMenXWIdkz76Yj2nKcEwF1vS5vyYPIvwM0cpH9pzbTkfc42lXATkz9o1SS/eVdXX5/G9V3z3tW3yYtvmNOpXW7XRn6urT+2+eZr0bGP+EvD6+pm3a5zqFOxqQzOLDjFN66M5VcuYsZcrB3mACeDlUgIV20uQLvlz+Zgr19bmw+TJafr6NQdic/E5H+JKfs05ZLsr5PEEzVX7p/UrDfBaAy64XPPS3dP6ZiyesX/+jtmfrgEQsL0VDG11aqHjMkue2I/mVTvqYj1CL9aZC2VTG3VRE+sxj4JdbcRprLapDU3MGWOpyem43utSfgryOwmDPmDeyfV039v7KoQukL/n4ObTNR+frFJuwdM2N1wxqR+vxLX5kze2f9Q7wpFQyPnh40Idy5webTk/c5TamFNL1dJuyoNYwpQ3LnmDVPPSVm1Jp5p441P7Q7wCW23kYJ42XW7dcv3GvpGfsetSGvJ+1XD2L5FVOpB1gXxpwl62b5LefrhKT98yTUcObf6nbBfAl/LN6id8GR/r9M9bLivvvOvl+K1PfW3n9lgpyK8SWLwu23u23rS954E8JhOuv+M6/AePdzuDX9YEbDu7XkS/hvzOwXQR+28ZOQx5n8mP+kyekwZP1ODxybZXGVDv0rAcyxgw5A35tYD8WCasf4cPPn3HgCFvyA8C8rhk48XbwGOg/xiYG/JVVSUv3gYeAx4DHgOrOQYMeR+kfJD2GPAYGPEYWBjkm56OcNvqPKnifeF94TGwXmPAkPc1+ZW/Jm8orReUvL8Xu78NeUPekPcY8BgY8RjYAnl8xJtL16Mpb7Z01UOHf9joo1ftPLGaZ8i2/lPNkH+H132xZ2zent6euTFwCvKAuwpiXdvUXgbkm0De1KbrtUh7J/osrX9cl1hnXMnPdpcGgsfAeoyBGvIloJf8OjgM+e0bKCVw5/w5n+4329u337ytva13cgwsBPIECkpdSj+M+lnaS7Elf6kP+HVdaef0XXIzPqeljyX7zvXV5NN41eX8OZ/GwIaGS66NGrbFnKyzjHrG0V/qi+0sqdO8msu2oekx0H0MnLpck9toXc/kOSljjtIkLfkRz1wsu+RsyhfjWS/FRD/XgyXjtczFxHZqNA99qm2zu8SwD5a5nDFPrk6f5qEPOaOfbSzZb1s95mKcy+4T2dvK26o0BoqQ7wJ4JMXlmjiJ2Vlff1sc2mPOWGeOtrIUl/PnfMxfalN/F5v5upSar6Rv0pTa1L8MW9dV88Mf66q1bYB5DMw+BrKQ7wp4bPidhPw8YOgT26Qttam/i913ECOn5o3xs7RpzDJsXUfND3+sq9b27BPc287bbgvkAfc+gMcA2inILwIKyNElT5OGOXIlJ5jGl2xq+5aaT2NLfmjQVlqYQ+Pntdv64jqxb5cGk8fA4sbAKcj3hTt3wk5AntDgOsxbMp/CTHOW/NA0tTGHako2tbOUmpPxOV+XtpxGc81jM3eu1Ly5dvsWN+m9LddrW9aQnxXwGCw7AXkO0mWAIZcz5+uzDhpfspmvqdRY1eX8OR9jmtpyGtXPYzN3rtS8uXb71gtM3t+L29+DhjwGwqxwKMXl/DkfB2GpTf1dbOZrKjWP6nL+nI8xpTb1L8Nm/yg1f66uWtuLm/Deluu3LQcP+TZARJhwkPfxl7SlXFGv9ZLNXH1/j+brmiPXR8yj9XnsLn3lNPpbbK8fmLzPF7fPT0GeN11j2baxl3G5Bn0CLAoXrkfORz01Wpb0jGE/LDVW7a7tuf7UV7JjX1qPNtdFc0UN6tTl2rQ9l0d989jsm+uiudjGddG67cVNcm/L9d6WNeTnGQSAPJZ5cjh2vQeh97/3v8fA8saAIT/iV4x64ixv4njbetsOZQwY8oa8/wrzGPAYGPEYMORHvHOHcqbh9fRZscfA8sbAwiDPa/MuV/OL7d4v3i8eA+s5Bgz5EX+l3ZN6PSe197v3u46BuSHvP7OW92eWt623rceAx8C8Y8CQ9zV533TzGPAYGPEYMORHvHPnPQNwvM8iPQaGPwYMeUPeZ3EeAx4DIx4DhvyId67PwoZ/FuZ96H047xgw5FWjCD8AAABASURBVA15n8V5DHgMjHgMGPIj3rnzngE43meRHgPDHwOGvCHvsziPAY+BEY8BQ37EO9dnYcM/C/M+9D6cdwz8P30sLlyYZ/d8AAAAAElFTkSuQmCC)\n",
        "- nltk에서 stemming을 위한 여러 패키지를 제공하며, 그 중 하나인 porterstemmer을 사용해볼 예정\n",
        "---\n",
        "porterstemmer 규칙\n",
        "- -alize -> -al [normalize : normal]\n",
        "- -ance -> 제거 [endurenace : eudure]\n",
        "- -ical -> -ic [logical : logic]\n",
        "- s&es -> s 제거\n",
        "- -y : -i로 변경\n",
        "- e, te -> e 제거\n",
        "- 등등"
      ]
    },
    {
      "cell_type": "code",
      "metadata": {
        "id": "zYuMAa0ucX1c"
      },
      "source": [
        "from nltk import word_tokenize\n",
        "from nltk.stem import PorterStemmer\n",
        "text = \"This was not the map we found in Billy Bones's chest, but an accurate copy, complete in all things--names and heights and soundings--with the single exception of the red crosses and the written notes.\"\n",
        "words = word_tokenize(text)\n",
        "print(words)\n",
        "\n",
        "porterstemmer = PorterStemmer()\n",
        "print([porterstemmer.stem(word) for word in words])"
      ],
      "execution_count": null,
      "outputs": []
    },
    {
      "cell_type": "code",
      "metadata": {
        "id": "l6ANLO7mebKv"
      },
      "source": [
        "words=['formalize', 'allowance', 'electricical']\n",
        "print(words)\n",
        "print([porterstemmer.stem(w) for w in words])"
      ],
      "execution_count": null,
      "outputs": []
    },
    {
      "cell_type": "markdown",
      "metadata": {
        "id": "VHCVAIaGevoy"
      },
      "source": [
        "## 영어 : Lemmatization(표제어 추출)\n",
        "---\n",
        "- 표제어 추출은, 단어 형태가 다르더라도 그 뿌리 단어를 찾아서 반환하므로 단어의 개수를 줄이고 빈도수를 높일 수 있음.\n",
        "- 예를 들어, am, are, is는 다른 스펠링이지만 be동사의 다른 형태이므로 표제어인 be로 변환하여 추출됨"
      ]
    },
    {
      "cell_type": "code",
      "metadata": {
        "id": "y7VTJgs8f4U9"
      },
      "source": [
        "nltk.download('wordnet')"
      ],
      "execution_count": null,
      "outputs": []
    },
    {
      "cell_type": "code",
      "metadata": {
        "id": "-LeQIp9ffNDE"
      },
      "source": [
        "from nltk.stem import WordNetLemmatizer\n",
        "words=['policy', 'doing', 'organization', 'have', 'going', 'love', 'lives', 'fly', 'dies', 'watched', 'has', 'starting']\n",
        "wordnetlemmatizer = WordNetLemmatizer()\n",
        "print(words)\n",
        "print([wordnetlemmatizer.lemmatize(word) for word in words])"
      ],
      "execution_count": null,
      "outputs": []
    },
    {
      "cell_type": "markdown",
      "metadata": {
        "id": "xmu2yyzLgieZ"
      },
      "source": [
        "lives는 life로 잘 바뀌었지만, dies는 dy, has는 ha로 바뀐 것은 품사를 잘못이 판단했기 때문"
      ]
    },
    {
      "cell_type": "markdown",
      "metadata": {
        "id": "HAVGrAevf45G"
      },
      "source": [
        "## 한국어 : Stemming & Lemmatization(Okt가 제공)"
      ]
    },
    {
      "cell_type": "code",
      "metadata": {
        "id": "HTTBxrB5gMIO"
      },
      "source": [
        "text = \"북한은 하루새 3차례에 걸쳐 대미·대남 압박 메시지를 내놓았다.\"\n",
        "print(okt.morphs(text))\n",
        "print(okt.morphs(text, stem=True))\n",
        "print(okt.pos(text))\n",
        "print(okt.pos(text, stem=True))"
      ],
      "execution_count": null,
      "outputs": []
    },
    {
      "cell_type": "code",
      "metadata": {
        "id": "z1zVjxAXg0-e"
      },
      "source": [
        "text = \"웃기는 소리하지마랔ㅋㅋㅋ\"\n",
        "print(okt.morphs(text))\n",
        "print(okt.morphs(text, norm=True))\n",
        "print(okt.pos(text))\n",
        "print(okt.pos(text, norm=True))"
      ],
      "execution_count": null,
      "outputs": []
    },
    {
      "cell_type": "markdown",
      "metadata": {
        "id": "I_WHg0g_hKRV"
      },
      "source": [
        "## 한국어 Norm : 반복되는 문자 정제(soynlp)\n",
        "---\n",
        "- soynlp는 복합 명사를 추출할 수 있는 토크나이저도 제공\n",
        "- soynlp는 엄밀히 말해서 형태소 분석기는 아니고, 단어를 쪼개는 기능은 있지만, 학습기반으로 돌아가면서 내부적으로는 계속 같이 등장하는 단어는 하나로 인식"
      ]
    },
    {
      "cell_type": "code",
      "metadata": {
        "id": "_7OGM_Fqg1P-"
      },
      "source": [
        "!pip install soynlp"
      ],
      "execution_count": null,
      "outputs": []
    },
    {
      "cell_type": "code",
      "metadata": {
        "id": "qUFQqLJzhmIi"
      },
      "source": [
        "from soynlp.normalizer import *"
      ],
      "execution_count": null,
      "outputs": []
    },
    {
      "cell_type": "code",
      "metadata": {
        "id": "Yfi8cnrHhtDG"
      },
      "source": [
        "print(emoticon_normalize('앜ㅋㅋㅋㅋ이영화존잼쓰ㅠㅠㅠㅠㅠ', num_repeats=2))\n",
        "print(emoticon_normalize('앜ㅋㅋㅋㅋㅋㅋㅋㅋㅋ이영화존잼쓰ㅠㅠㅠㅠ', num_repeats=2))\n",
        "print(emoticon_normalize('앜ㅋㅋㅋㅋㅋㅋㅋㅋㅋㅋㅋㅋ이영화존잼쓰ㅠㅠㅠㅠㅠㅠ', num_repeats=2))\n",
        "print(emoticon_normalize('앜ㅋㅋㅋㅋㅋㅋㅋㅋㅋㅋㅋㅋㅋㅋㅋㅋㅋ이영화존잼쓰ㅠㅠㅠㅠㅠㅠㅠㅠ', num_repeats=2))\n",
        "\n",
        "print(repeat_normalize('앜ㅋㅋㅋㅋ이영화존잼쓰ㅠㅠㅠㅠㅠ', num_repeats=2))\n",
        "print(repeat_normalize('앜ㅋㅋㅋㅋㅋㅋㅋㅋㅋ이영화존잼쓰ㅠㅠㅠㅠ', num_repeats=2))\n",
        "print(repeat_normalize('앜ㅋㅋㅋㅋㅋㅋㅋㅋㅋㅋㅋㅋ이영화존잼쓰ㅠㅠㅠㅠㅠㅠ', num_repeats=2))\n",
        "print(repeat_normalize('앜ㅋㅋㅋㅋㅋㅋㅋㅋㅋㅋㅋㅋㅋㅋㅋㅋㅋ이영화존잼쓰ㅠㅠㅠㅠㅠㅠㅠㅠ', num_repeats=2))"
      ],
      "execution_count": null,
      "outputs": []
    },
    {
      "cell_type": "markdown",
      "metadata": {
        "id": "JMOABbIRh1JP"
      },
      "source": [
        "- repeat_normalize는 단순하게 반복되는 단어에 대해서 줄여주는 기능을 수행\n",
        "- emoticon_normalize는 반복되는 단어도 줄여주면서, 정규화를 진행"
      ]
    },
    {
      "cell_type": "markdown",
      "metadata": {
        "id": "5NTwSGlXiGUp"
      },
      "source": [
        "### 한국어 Norm : 맞춤법 교정(hanspell)\n",
        "---\n",
        "hanspell은 맞춤법 교정도 해주지만, 사실 띄어쓰기 교정도 해줌"
      ]
    },
    {
      "cell_type": "code",
      "metadata": {
        "id": "lRcnF7oxiS9x"
      },
      "source": [
        "!pip install git+https://github.com/ssut/py-hanspell.git"
      ],
      "execution_count": null,
      "outputs": []
    },
    {
      "cell_type": "code",
      "metadata": {
        "id": "2J28oev1iTit"
      },
      "source": [
        "from hanspell import spell_checker\n",
        " \n",
        "sent = \"맞춤법 틀리면 외 않되? 쓰고싶은대로쓰면돼지 \"\n",
        "spelled_sent = spell_checker.check(sent)\n",
        "print(spelled_sent)\n",
        "hanspell_sent = spelled_sent.checked\n",
        "print(hanspell_sent)"
      ],
      "execution_count": null,
      "outputs": []
    },
    {
      "cell_type": "code",
      "metadata": {
        "id": "imQAZ5UKijUr"
      },
      "source": [
        "sent = '오지호는 극중 두 얼굴의 사나이 성준 역을 맡았다. 성준은 국내 유일의 태백권 전승자를 가리는 결전의 날을 앞두고 20년간 동고동락한 사형인 진수(정의욱 분)를 찾으러 속세로 내려온 인물이다.'\n",
        "sent1 = '오지호는 극중두얼굴의사나이성준 역을 맡았다. 성준은 국내 유일의 태백권 전승자를 가리는 결전의 날을 앞두고 20년간 동고동락한 사형인 진수(정의욱 분)를 찾으러 속세로 내려온 인물이다.'\n",
        "new_sent = sent.replace(\" \",\"\")\n",
        "print(\"정상 문장: \",\"\\n\", sent)\n",
        "print(\"띄어쓰기가 일부만 안 된 문장: \",\"\\n\", sent1)\n",
        "print(\"띄어쓰기가 안 된 문장: \",\"\\n\",new_sent)\n",
        "print(\"Kospacing 결과: \",\"\\n\", spacing(new_sent))\n",
        "print(\"Kospacing 결과(일부만 안 된 문장): \",\"\\n\", spacing(sent1))\n",
        "print(\"Hanspell 결과: \",\"\\n\", spell_checker.check(new_sent).checked)\n",
        "print(\"Hanspell 결과(일부만 안 된 문장): \",\"\\n\",spell_checker.check(sent1).checked)"
      ],
      "execution_count": null,
      "outputs": []
    },
    {
      "cell_type": "code",
      "metadata": {
        "id": "JxNuvZFjjRfr"
      },
      "source": [
        ""
      ],
      "execution_count": null,
      "outputs": []
    }
  ]
}